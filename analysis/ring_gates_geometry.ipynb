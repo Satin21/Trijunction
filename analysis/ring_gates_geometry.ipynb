{
 "cells": [
  {
   "cell_type": "code",
   "execution_count": 25,
   "id": "e0017137-5330-40ad-94d0-4673931b9c66",
   "metadata": {},
   "outputs": [],
   "source": [
    " import sys\n",
    "sys.path.append(\"/home/tinkerer/spin-qubit/codes/\")\n",
    "sys.path.insert(0, \"/home/tinkerer/Poisson_Solver//\")\n",
    "\n",
    "import numpy as np\n",
    "from collections import OrderedDict\n",
    "from ccode.plotting import plot_gates\n",
    "from scipy import constants\n",
    "import matplotlib.pyplot as plt\n",
    "\n",
    "from Hamiltonian import discrete_system_coordinates, kwant_system, tight_binding_Hamiltonian\n",
    "from potential import gate_potential, linear_problem_instance\n",
    "from utility import prepare_voltages\n",
    "from plotting import plot_potential\n",
    "from layout import (\n",
    "    Layout,\n",
    "    OverlappingGateLayer,\n",
    "    PlanarGateLayer,\n",
    "    SimpleChargeLayer,\n",
    "    SimpleVoltageLayer,\n",
    "    TwoDEGLayer,\n",
    ")\n",
    "\n",
    "from itertools import product\n",
    "from shapely.geometry.polygon import Polygon\n",
    "from shapely.ops import unary_union"
   ]
  },
  {
   "cell_type": "code",
   "execution_count": 3,
   "id": "7ebb968a-0cc8-4c33-a0bf-f2d578b96708",
   "metadata": {},
   "outputs": [],
   "source": [
    "def rectangular_gate(center, length, width): \n",
    "    \"\"\"\n",
    "    Returns vertices of a gate\n",
    "    \"\"\"\n",
    "    x, y = center\n",
    "\n",
    "    gate = np.array(\n",
    "        [\n",
    "            [-width/2, -length/2],\n",
    "            [-width/2, length/2],\n",
    "            [width/2, length/2],\n",
    "            [width/2, -length/2]\n",
    "        ]\n",
    "    )\n",
    "    gate[:, 0] += x\n",
    "    gate[:, 1] += y\n",
    "\n",
    "    return gate\n",
    "\n",
    "\n",
    "def half_disk_gate(R, center=(0, 0), npts=100, shift=0):\n",
    "    \"\"\"\n",
    "    Return vertices of a half disk shaped polygon\n",
    "    \"\"\"\n",
    "    x, y = center\n",
    "\n",
    "    angles = np.linspace(0, np.pi, npts)\n",
    "\n",
    "    xs = x + np.cos(angles)*R\n",
    "    ys = y + np.sin(angles)*R\n",
    "    \n",
    "    ys[0] -= shift\n",
    "    ys[-1] -= shift\n",
    "\n",
    "    return np.vstack([xs, ys]).T\n",
    "\n",
    "\n",
    "def ring_gate(R, r, center=(0, 0), npts=100):\n",
    "    \"\"\"\n",
    "    Return vertices of a ring-shaped polygon\n",
    "    Parameters:\n",
    "    -----------\n",
    "        R: outer radius\n",
    "        r: inner radius\n",
    "    \"\"\"\n",
    "    x, y = center\n",
    "\n",
    "    angles = np.linspace(0, np.pi, npts)\n",
    "\n",
    "    Xs = x + np.cos(angles)*R\n",
    "    Ys = y + np.sin(angles)*R\n",
    "\n",
    "    xs = x + np.cos(angles)*r\n",
    "    ys = y + np.sin(angles)*r\n",
    "\n",
    "    out_ring = np.vstack([Xs, Ys]).T\n",
    "    in_ring = np.vstack([xs, ys]).T[::-1]\n",
    "\n",
    "    return np.vstack([out_ring, in_ring])\n",
    "\n",
    "def covering_ring(center=(0, 0), npts=100):\n",
    "    \"\"\"\n",
    "    Return vertices of a polygon that completes a rectangular region with an internal disk\n",
    "    \"\"\"\n",
    "    angles = np.linspace(0, np.pi/2, npts)\n",
    "    x, y = center\n",
    "    Xs = x + np.cos(angles)*(R+gap)\n",
    "    Ys = y + np.sin(angles)*(R+gap)\n",
    "    where_cut = np.where(np.abs(Xs - gap - wire_width/2) < 1)[0]\n",
    "    Xs = Xs[:where_cut[0]]\n",
    "    Ys = Ys[:where_cut[0]]\n",
    "\n",
    "    borders = [\n",
    "        [Xs[-1], R + gap +tunel_length + y],\n",
    "        [R + 2*gap + 2*wire_width, R + gap +tunel_length + y],\n",
    "        [R + 2*gap + 2*wire_width, 0],\n",
    "        [Xs[0], 0]\n",
    "    ]\n",
    "    vertex = np.vstack([np.concatenate((Xs, np.array(borders)[:, 0])), np.concatenate((Ys, np.array(borders)[:, 1]))]).T\n",
    "    return vertex"
   ]
  },
  {
   "cell_type": "code",
   "execution_count": 4,
   "id": "ac478b97-ca12-47e1-bbe4-b287b4ab09df",
   "metadata": {},
   "outputs": [],
   "source": [
    "# Geometry parameters\n",
    "R = 100\n",
    "wire_width = 15\n",
    "r = R-15\n",
    "gap = 4\n",
    "tunel_length = 5\n",
    "y_shift = tunel_length + gap"
   ]
  },
  {
   "cell_type": "code",
   "execution_count": 5,
   "id": "1da45bb8-70d1-4cc9-9ab5-f376e4eda46d",
   "metadata": {},
   "outputs": [],
   "source": [
    "# Boundaries within Poisson region\n",
    "zmin = -0.5\n",
    "zmax = 0.5\n",
    "xmax = R + 2*gap + 2*wire_width\n",
    "xmin = -xmax\n",
    "ymin = 0\n",
    "ymax = R + gap +tunel_length + y_shift\n",
    "boundaries = [xmin, xmax, ymin, ymax, zmin, zmax]\n",
    "total_width = 2*xmax\n",
    "total_length = ymax"
   ]
  },
  {
   "cell_type": "code",
   "execution_count": 6,
   "id": "f34ad224-8bad-45f1-9934-03b68b9d14df",
   "metadata": {},
   "outputs": [],
   "source": [
    "y_c = tunel_length/2\n",
    "\n",
    "ring_plunger = ring_gate(R=R, r=r, center=(0, 0))\n",
    "\n",
    "tunel_gates = {}\n",
    "central_tunnel = rectangular_gate(center=(0, R + gap + y_c), length=tunel_length, width=wire_width)\n",
    "\n",
    "center = (0, max(ring_plunger[:, 1]) - (R-r)/2)\n",
    "central_ring_tunnel = rectangular_gate(center=center, length=R-r, \n",
    "                                      width=wire_width)"
   ]
  },
  {
   "cell_type": "code",
   "execution_count": 7,
   "id": "6aeb2c0d-5361-4c57-b248-0651af09346a",
   "metadata": {},
   "outputs": [],
   "source": [
    "xmin = min(ring_plunger[:, 0]) - 10\n",
    "xmax = -xmin\n",
    "\n",
    "ymin = min(ring_plunger[:, 1])\n",
    "ymax = max(central_tunnel[:, 1])\n",
    "\n",
    "system_vertices = list(product((xmin, xmax), (ymin, ymax)))\n",
    "\n",
    "system_vertices = np.array(system_vertices)"
   ]
  },
  {
   "cell_type": "code",
   "execution_count": 8,
   "id": "5c68c421-4816-4b7d-abbd-1be24ef638f7",
   "metadata": {},
   "outputs": [],
   "source": [
    "total_system = system_vertices[np.lexsort((system_vertices[:, 0], system_vertices[:, 1]))][[0, 1, 3, 2]]"
   ]
  },
  {
   "cell_type": "code",
   "execution_count": 9,
   "id": "87c8f2ed-67bb-4eea-8e70-479ad2eae5cf",
   "metadata": {},
   "outputs": [],
   "source": [
    "ring = Polygon(ring_plunger).difference(Polygon(central_ring_tunnel).buffer(gap))\n",
    "central_tunnel = Polygon(central_tunnel)\n",
    "central_ring_tunnel = Polygon(central_ring_tunnel)"
   ]
  },
  {
   "cell_type": "code",
   "execution_count": 10,
   "id": "59cd5f73-6a0b-4715-b8c5-29f315a354d2",
   "metadata": {},
   "outputs": [],
   "source": [
    "accumulation_gates_union = unary_union((ring.buffer(gap),\n",
    "             central_tunnel.buffer(gap),\n",
    "             central_ring_tunnel.buffer(gap)))"
   ]
  },
  {
   "cell_type": "code",
   "execution_count": 11,
   "id": "3dac73cc-69d0-43fb-9a56-86c9a8562351",
   "metadata": {},
   "outputs": [],
   "source": [
    "screening_gate = Polygon(total_system).difference(accumulation_gates_union)"
   ]
  },
  {
   "cell_type": "code",
   "execution_count": 12,
   "id": "df3b707b-0dba-4d5f-9f8b-11aec2bda29b",
   "metadata": {},
   "outputs": [],
   "source": [
    "screening_coords = []\n",
    "for poly in list(screening_gate.geoms):\n",
    "    screening_coords.append(np.array(list(poly.exterior.coords)))"
   ]
  },
  {
   "cell_type": "code",
   "execution_count": 19,
   "id": "eb7518eb-1526-4376-a635-56675b246c85",
   "metadata": {},
   "outputs": [],
   "source": [
    "left_ring_coords = np.array(list(list(ring.geoms)[0].exterior.coords))\n",
    "right_ring_coords = np.array(list(list(ring.geoms)[1].exterior.coords))\n",
    "central_tunnel_coords = np.array(list(central_tunnel.exterior.coords))\n",
    "central_ring_tunnel_coords = np.array(list(central_ring_tunnel.exterior.coords))"
   ]
  },
  {
   "cell_type": "code",
   "execution_count": 21,
   "id": "69fe3323-2f08-4e89-92f7-b7d85f43765f",
   "metadata": {},
   "outputs": [],
   "source": [
    "thickness_barrier = 4\n",
    "thickness_twoDEG = 4\n",
    "thickness_gates = 6\n",
    "thickness_self_Al2O3 = 4\n",
    "\n",
    "meff = 0.023 * constants.m_e  # in Kg\n",
    "eV = 1.0\n",
    "bandgap_GaAs = 1.519 * eV\n",
    "\n",
    "permittivity_metal = 5000\n",
    "permittivity_GaAs = 12.18\n",
    "permittivity_twoDEG = 15  # InAs\n",
    "permittivity_air = 1.0\n",
    "permittivity_Al2O3 = 9.1\n",
    "\n",
    "grid_spacing_twoDEG = 1\n",
    "grid_spacing_normal = 1\n",
    "grid_spacing_dielectric = 5\n",
    "grid_spacing_air = 5\n",
    "grid_spacing_GaAs = grid_spacing_normal\n",
    "grid_spacing_gate = grid_spacing_twoDEG\n",
    "grid_spacing = grid_spacing_twoDEG"
   ]
  },
  {
   "cell_type": "code",
   "execution_count": 22,
   "id": "07821581-3611-4aac-ab23-e517c4ca624f",
   "metadata": {},
   "outputs": [
    {
     "name": "stdout",
     "output_type": "stream",
     "text": [
      "checking intersection\n",
      "finished checking intersection\n",
      "Finding closed voronoi cells\n",
      "Done selecting closed voronoi cells\n",
      "Calculating points distance\n",
      "Done\n",
      "Calculating ridges hypersurfaces\n",
      "Done\n",
      "Finding  hypervolume for closed voronoi cells\n",
      "Done finding hypervolume for closed voronoi cells\n",
      "Done calculating surface\n",
      "Done calculating distance\n",
      "Done calculating capacitance matrix\n"
     ]
    }
   ],
   "source": [
    "# Solve for Poisson system\n",
    "layout = Layout(total_width,\n",
    "                total_length,\n",
    "                grid_width_air=grid_spacing_air,\n",
    "                margin=(50, 50, 50),\n",
    "                shift=(0, total_length/2, 0))\n",
    "\n",
    "layout.add_layer(\n",
    "    TwoDEGLayer(\n",
    "        \"twoDEG\",\n",
    "        thickness_twoDEG,\n",
    "        permittivity_twoDEG,\n",
    "        grid_spacing_twoDEG,\n",
    "        add_to_previous_layer = False,\n",
    "        fix_overlap = False,\n",
    "        z_bottom = None\n",
    "    ),\n",
    "    center=True,\n",
    ")\n",
    "\n",
    "height = thickness_twoDEG / 2\n",
    "\n",
    "layout.add_layer(\n",
    "    SimpleChargeLayer(\n",
    "        \"Al2O3\",\n",
    "        thickness_barrier,\n",
    "        permittivity_Al2O3,\n",
    "        grid_spacing_GaAs,\n",
    "        add_to_previous_layer = False,\n",
    "        fix_overlap = False,\n",
    "        z_bottom = None\n",
    "    )\n",
    ")\n",
    "\n",
    "height += thickness_barrier\n",
    "\n",
    "gates_name = [\"left_ring\", \"right_ring\", \"central_tunnel\", \"central_ring_tunnel\"]\n",
    "gates_vertex = [left_ring_coords, right_ring_coords, central_tunnel_coords, central_ring_tunnel_coords]\n",
    "\n",
    "for i, coord in enumerate(screening_coords):\n",
    "    gates_name.append(\"screening\" + str(i))\n",
    "    gates_vertex.append(coord)\n",
    "    \n",
    "\n",
    "layout.add_layer(OverlappingGateLayer(thickness_gates,\n",
    "                                      permittivity_metal,\n",
    "                                      grid_spacing_gate,\n",
    "                                      layer_name = gates_name,\n",
    "                                      gate_objects = gates_vertex,\n",
    "                                      remove_points = False,\n",
    "                                      add_to_previous_layer = False,\n",
    "                                      z_bottom = height,\n",
    "                                      fix_overlap = True\n",
    "                                     )\n",
    "            )\n",
    "\n",
    "poisson_system = layout.build()"
   ]
  },
  {
   "cell_type": "code",
   "execution_count": 23,
   "id": "4c9d9c5c-21eb-4adb-ac9a-7084bd18a7da",
   "metadata": {},
   "outputs": [],
   "source": [
    "grid_points = poisson_system.grid.points\n",
    "voltage_regions = poisson_system.regions.voltage.tag_points"
   ]
  },
  {
   "cell_type": "code",
   "execution_count": 26,
   "id": "757c8ead-6338-4f4a-8dc9-d10306bbb08b",
   "metadata": {},
   "outputs": [
    {
     "data": {
      "image/png": "[encoded data removed]",
      "text/plain": [
       "<Figure size 1080x504 with 1 Axes>"
      ]
     },
     "metadata": {
      "needs_background": "light"
     },
     "output_type": "display_data"
    }
   ],
   "source": [
    "plt.figure(figsize = (15, 7))\n",
    "for name, indices in voltage_regions.items():\n",
    "    grid_to_plot = grid_points[indices][:, [0, 1]]\n",
    "    plt.scatter(grid_to_plot[:, 0], grid_to_plot[:, 1], s = 0.5)"
   ]
  },
  {
   "cell_type": "code",
   "execution_count": null,
   "id": "fc320498-baff-4e38-a2e0-18df9645aaab",
   "metadata": {},
   "outputs": [],
   "source": []
  }
 ],
 "metadata": {
  "kernelspec": {
   "display_name": "Python 3 (ipykernel)",
   "language": "python",
   "name": "python3"
  },
  "language_info": {
   "codemirror_mode": {
    "name": "ipython",
    "version": 3
   },
   "file_extension": ".py",
   "mimetype": "text/x-python",
   "name": "python",
   "nbconvert_exporter": "python",
   "pygments_lexer": "ipython3",
   "version": "3.9.7"
  }
 },
 "nbformat": 4,
 "nbformat_minor": 5
}
