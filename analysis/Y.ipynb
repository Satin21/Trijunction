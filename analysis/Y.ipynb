{
 "cells": [
  {
   "cell_type": "code",
   "execution_count": 1,
   "id": "21c76eab-e8f2-4222-80a7-36d75ac9b5bf",
   "metadata": {
    "tags": []
   },
   "outputs": [
    {
     "name": "stdout",
     "output_type": "stream",
     "text": [
      "VoronoiMesh version 0.1\n",
      "DiscretePoisson version 0.3\n",
      "Shape version: 0.1\n",
      "SystEquations version: 0.3\n",
      "Solver version 0.1\n"
     ]
    }
   ],
   "source": [
    "import sys\n",
    "sys.path.append(\"/home/tinkerer/spin-qubit/codes/\")\n",
    "#sys.path.append(\"/home/tinkerer/Poisson/\")\n",
    "\n",
    "import numpy as np\n",
    "from collections import OrderedDict\n",
    "from ccode.plotting import plot_gates\n",
    "from ccode.gates import rectangular_gate, half_disk_gate\n",
    "from ccode.finite_system import finite_system\n",
    "import ccode.parameters as pm\n",
    "import ccode.solvers as sl\n",
    "import ccode.tools as tl\n",
    "import itertools as it\n",
    "import dask.bag as db\n",
    "from scipy import constants\n",
    "from scipy.linalg import svd\n",
    "from scipy.optimize import minimize, least_squares\n",
    "import matplotlib.pyplot as plt\n",
    "from dask_quantumtinkerer import Cluster, cluster_options\n",
    "\n",
    "import poisson\n",
    "import kwant\n",
    "from kwant.operator import Density\n",
    "from potential import gate_potential, linear_problem_instance\n",
    "from plotting import plot_potential\n",
    "from Hamiltonian import discrete_system_coordinates\n",
    "\n",
    "from layout import (\n",
    "    Layout,\n",
    "    OverlappingGateLayer,\n",
    "    PlanarGateLayer,\n",
    "    SimpleChargeLayer,\n",
    "    TwoDEGLayer,\n",
    ")\n",
    "from utility import projected_position_operator, wannier_basis\n",
    "\n",
    "from itertools import product\n",
    "from shapely.geometry.polygon import Polygon\n",
    "from shapely.ops import unary_union"
   ]
  },
  {
   "cell_type": "code",
   "execution_count": 2,
   "id": "534da2e4-2f5d-4e21-9096-39ccbc238865",
   "metadata": {},
   "outputs": [],
   "source": [
    "a = 10e-9"
   ]
  },
  {
   "cell_type": "code",
   "execution_count": 3,
   "id": "7ccff1c9-11a3-4cf6-a23f-f80f1aa2eb19",
   "metadata": {},
   "outputs": [],
   "source": [
    "options = cluster_options()\n",
    "options.worker_cores = 2\n",
    "options.worker_memory = 2\n",
    "options.extra_path = \"/home/srangaswamykup/trijunction_design/\""
   ]
  },
  {
   "cell_type": "code",
   "execution_count": 44,
   "id": "7345b780-d75d-4033-980b-571a04d270bf",
   "metadata": {},
   "outputs": [],
   "source": [
    "from tqdm import tqdm"
   ]
  },
  {
   "cell_type": "code",
   "execution_count": 45,
   "id": "92ea25a5-11f2-465b-b583-d04b3f55ac94",
   "metadata": {},
   "outputs": [],
   "source": [
    "def linear_Hamiltonian(\n",
    "    poisson_params,\n",
    "    kwant_params,\n",
    "    general_params,\n",
    "    gates,\n",
    "    phis = [0.0, 0.0]\n",
    "):\n",
    "\n",
    "    ## non-linear part of the Hamiltonian\n",
    "    \n",
    "    voltages = {}\n",
    "    \n",
    "    for gate in gates: voltages[gate] = 0.0\n",
    "    \n",
    "    kp = kwant_params\n",
    "    pp = poisson_params\n",
    "    \n",
    "    charges = {}\n",
    "    potential = gate_potential(\n",
    "            pp['poisson_system'],\n",
    "            pp['linear_problem'],\n",
    "            pp['site_coords'][:, [0, 1]],\n",
    "            pp['site_indices'],\n",
    "            voltages,\n",
    "            charges,\n",
    "            offset = kp['offset'][[0, 1]],\n",
    "            grid_spacing = kp['grid_spacing']\n",
    "        )\n",
    "    \n",
    "    \n",
    "    \n",
    "    general_params.update(potential=potential)\n",
    "    general_params['phi1'] = phis[0]\n",
    "    general_params['phi2'] = phis[1]\n",
    "    \n",
    "    bare_hamiltonian = kp['finite_system_object'].hamiltonian_submatrix(\n",
    "        sparse=True, params=kp['finite_system_params_object'](**general_params))\n",
    "    \n",
    "    \n",
    "    hamiltonian_V = {}\n",
    "    for gate in tqdm(gates):\n",
    "        \n",
    "\n",
    "        voltages_t = dict.fromkeys(voltages, 0.0)\n",
    "\n",
    "        voltages_t[gate] = 1.0\n",
    "\n",
    "        potential = gate_potential(\n",
    "            pp['poisson_system'],\n",
    "            pp['linear_problem'],\n",
    "            pp['site_coords'][:, [0, 1]],\n",
    "            pp['site_indices'],\n",
    "            voltages_t,\n",
    "            charges,\n",
    "            offset = kp['offset'][[0, 1]],\n",
    "            grid_spacing = kp['grid_spacing']\n",
    "        )\n",
    "    \n",
    "\n",
    "        general_params.update(potential=potential)\n",
    "\n",
    "        hamiltonian = kp['finite_system_object'].hamiltonian_submatrix(\n",
    "            sparse=True, params=kp['finite_system_params_object'](**general_params))\n",
    "\n",
    "\n",
    "        hamiltonian_V[gate] = hamiltonian - bare_hamiltonian\n",
    "\n",
    "    return bare_hamiltonian, hamiltonian_V\n"
   ]
  },
  {
   "cell_type": "markdown",
   "id": "aa6d39cb-150f-4d99-8509-958cc7626665",
   "metadata": {},
   "source": [
    "# Y-shaped geometry"
   ]
  },
  {
   "cell_type": "markdown",
   "id": "b2a820f0-fe15-4b3e-be69-32ad1c13df6b",
   "metadata": {
    "tags": []
   },
   "source": [
    "#### Parameters"
   ]
  },
  {
   "cell_type": "code",
   "execution_count": 4,
   "id": "c3e6374d-be50-4805-96bc-002ba69c623f",
   "metadata": {},
   "outputs": [],
   "source": [
    "thickness_dielectric = 1\n",
    "thickness_twoDEG = 1\n",
    "thickness_gates = 3\n",
    "\n",
    "grid_spacing_twoDEG = 0.5\n",
    "grid_spacing_normal = 1\n",
    "grid_spacing_dielectric = 1\n",
    "grid_spacing_air = 5\n",
    "grid_spacing_gate = grid_spacing_twoDEG\n",
    "\n",
    "permittivity_metal = 5000\n",
    "permittivity_twoDEG = 15  # InAs\n",
    "permittivity_air = 1.0\n",
    "permittivity_Al2O3 = 9.1"
   ]
  },
  {
   "cell_type": "code",
   "execution_count": 5,
   "id": "0fcc17e7-5319-4f24-8e98-f2bc26102ce6",
   "metadata": {},
   "outputs": [],
   "source": [
    "# one only needs to define the arm length L, and the channel width\n",
    "L = 41\n",
    "width = 12\n",
    "gap = 4\n",
    "\n",
    "R = L/np.sqrt(2)"
   ]
  },
  {
   "cell_type": "code",
   "execution_count": 6,
   "id": "69ba6cce-a89d-4ea2-8ff3-162adef92c0e",
   "metadata": {},
   "outputs": [
    {
     "data": {
      "text/plain": [
       "28.991378028648448"
      ]
     },
     "execution_count": 6,
     "metadata": {},
     "output_type": "execute_result"
    }
   ],
   "source": [
    "R"
   ]
  },
  {
   "cell_type": "code",
   "execution_count": 7,
   "id": "48facfb8-1429-4d4f-bc64-55976e40f6f0",
   "metadata": {},
   "outputs": [],
   "source": [
    "# Boundaries within Poisson region\n",
    "zmin = -0.5\n",
    "zmax = 0.5\n",
    "xmax = R\n",
    "xmin = -xmax\n",
    "ymin = 0\n",
    "ymax = R + L - width\n",
    "total_width = 2*xmax\n",
    "total_length = ymax"
   ]
  },
  {
   "cell_type": "markdown",
   "id": "89ffb144-faac-4e25-bc6b-4d040b7dcd5b",
   "metadata": {
    "tags": []
   },
   "source": [
    "#### Make gate polygons using Shapely"
   ]
  },
  {
   "cell_type": "code",
   "execution_count": 8,
   "id": "cfb84699-8972-4fce-8129-7d39ab1b9ea1",
   "metadata": {},
   "outputs": [],
   "source": [
    "Y = unary_union(\n",
    "    (\n",
    "        Polygon(half_disk_gate(R=R, npts=3)).difference(Polygon(half_disk_gate(R=R-width*np.sqrt(2), npts=3))),\n",
    "        Polygon(rectangular_gate(center=(0,R+L/2-width), width=width, length=L))\n",
    "    )\n",
    ")\n",
    "\n",
    "gates = Polygon(rectangular_gate(center=(0, (R+L-width)/2), length=R+L-width-1,width=2*R)).difference(Y)\n",
    "\n",
    "aux_rectangle_1 = rectangular_gate(length=R+2*gap, width=R+gap, center=(R/2, R/2-width/2))\n",
    "aux_rectangle_2 = rectangular_gate(length=R+2*gap, width=R+gap, center=(-R/2, R/2-width/2))\n",
    "\n",
    "\n",
    "def gate_coords(obj, difference=None, common=None, gap=None):\n",
    "\n",
    "    if type(common) == np.ndarray:\n",
    "        return np.round(np.array(list(obj.intersection(Polygon(common)).exterior.coords)), 2)\n",
    "\n",
    "    else:\n",
    "        if gap is not None:\n",
    "            return np.round(np.array(list(obj.difference(Polygon(difference).buffer(gap)).exterior.coords)), 2)\n",
    "        else:\n",
    "            return np.round(np.array(list(obj.difference(Polygon(difference)).exterior.coords)), 2)\n",
    "\n",
    "\n",
    "gates_vertex = [gate_coords(gates[0], common = aux_rectangle_2), \n",
    "                gate_coords(gates[2], difference = aux_rectangle_1), \n",
    "                gate_coords(gates[2], difference = aux_rectangle_2), \n",
    "                gate_coords(gates[1], common = aux_rectangle_1), \n",
    "                gate_coords(gates[0], difference = aux_rectangle_2, gap = gap), \n",
    "                gate_coords(gates[1], difference = aux_rectangle_1, gap = gap)]\n",
    "\n",
    "gates_name = ['left_1', 'left_2', 'right_1', 'right_2', 'top_1', 'top_2']"
   ]
  },
  {
   "cell_type": "markdown",
   "id": "2a5e304f-e479-4238-b5e3-abfe85ca5428",
   "metadata": {
    "tags": []
   },
   "source": [
    "#### Construct layout object for the Poisson solver"
   ]
  },
  {
   "cell_type": "code",
   "execution_count": 9,
   "id": "25ba435f-2249-4283-9d9c-7ac2f9fe41b5",
   "metadata": {},
   "outputs": [],
   "source": [
    "# Solve for Poisson system\n",
    "\n",
    "layout = Layout(total_width,\n",
    "                total_length,\n",
    "                grid_width_air=grid_spacing_air,\n",
    "                margin=(50, 50, 50),\n",
    "                shift=(0, total_length/2, 0))\n",
    "\n",
    "layout.add_layer(\n",
    "    SimpleChargeLayer(\n",
    "        \"twoDEG\",\n",
    "        thickness_twoDEG,\n",
    "        permittivity_twoDEG,\n",
    "        grid_spacing_twoDEG,\n",
    "        add_to_previous_layer=False,\n",
    "        fix_overlap=False,\n",
    "        z_bottom=None\n",
    "    ),\n",
    "    center=True,\n",
    ")\n",
    "\n",
    "height = thickness_twoDEG / 2\n",
    "\n",
    "layout.add_layer(\n",
    "    SimpleChargeLayer(\n",
    "        \"Al2O3\",\n",
    "        thickness_dielectric,\n",
    "        permittivity_Al2O3,\n",
    "        grid_spacing_dielectric,\n",
    "        add_to_previous_layer = False,\n",
    "        fix_overlap = False,\n",
    "        z_bottom = None\n",
    "    )\n",
    ")\n",
    "\n",
    "height += thickness_dielectric\n",
    "\n",
    "\n",
    "layout.add_layer(OverlappingGateLayer(thickness_gates,\n",
    "                                      permittivity_metal,\n",
    "                                      grid_spacing_gate,\n",
    "                                      layer_name=gates_name,\n",
    "                                      gate_objects=gates_vertex,\n",
    "                                      remove_points=False,\n",
    "                                      add_to_previous_layer=False,\n",
    "                                      z_bottom=height,\n",
    "                                      fix_overlap=True\n",
    "                                     )\n",
    "            )\n",
    "\n"
   ]
  },
  {
   "cell_type": "code",
   "execution_count": 10,
   "id": "d99932ce-72f3-49f5-99cd-c107e01cd99b",
   "metadata": {},
   "outputs": [],
   "source": [
    "height += thickness_gates + 1\n",
    "layout.add_layer(\n",
    "    SimpleChargeLayer(\"Al2O3_2\", thickness_dielectric, permittivity_Al2O3, grid_spacing_dielectric,\n",
    "                     add_to_previous_layer = False,\n",
    "                     z_bottom = height, fix_overlap = False)\n",
    ")\n",
    "\n",
    "height += thickness_dielectric + 1\n",
    "thickness_accumulation_gate = 2\n",
    "layout.add_layer(PlanarGateLayer(\"global_accumul\", \n",
    "                                 thickness_accumulation_gate, \n",
    "                                 permittivity_metal, \n",
    "                                 grid_spacing_gate, \n",
    "                                 gate_coords = [],\n",
    "                                 second_layer = [],\n",
    "                                 fix_overlap = False,\n",
    "                                 z_bottom = height\n",
    "                                )\n",
    "                )"
   ]
  },
  {
   "cell_type": "markdown",
   "id": "9d6055d2-af9b-47a9-a414-55c296cf2efa",
   "metadata": {
    "tags": []
   },
   "source": [
    "#### Build Poisson object"
   ]
  },
  {
   "cell_type": "code",
   "execution_count": 11,
   "id": "7b8a12ec-dc29-4285-9e4f-ebf8b653ee22",
   "metadata": {},
   "outputs": [
    {
     "name": "stdout",
     "output_type": "stream",
     "text": [
      "checking intersection\n",
      "finished checking intersection\n",
      "Finding closed voronoi cells\n",
      "Done selecting closed voronoi cells\n",
      "Calculating points distance\n",
      "Done\n",
      "Calculating ridges hypersurfaces\n",
      "Done\n",
      "Finding  hypervolume for closed voronoi cells\n",
      "Done finding hypervolume for closed voronoi cells\n",
      "Done calculating surface\n",
      "Done calculating distance\n",
      "Done calculating capacitance matrix\n",
      "CPU times: user 1min 16s, sys: 5.87 s, total: 1min 22s\n",
      "Wall time: 1min 22s\n"
     ]
    }
   ],
   "source": [
    "%%time\n",
    "\n",
    "poisson_system = layout.build()"
   ]
  },
  {
   "cell_type": "code",
   "execution_count": 12,
   "id": "1bfd5776-6b99-4d25-bb2c-4f4e15c8bbf5",
   "metadata": {},
   "outputs": [],
   "source": [
    "grid_points = poisson_system.grid.points\n",
    "voltage_regions = poisson_system.regions.voltage.tag_points"
   ]
  },
  {
   "cell_type": "code",
   "execution_count": 13,
   "id": "3bdb554e-ab68-47e2-a3f6-089cb0ff9faa",
   "metadata": {},
   "outputs": [
    {
     "data": {
      "image/png": "[encoded data removed]",
      "text/plain": [
       "<Figure size 576x504 with 1 Axes>"
      ]
     },
     "metadata": {
      "needs_background": "light"
     },
     "output_type": "display_data"
    }
   ],
   "source": [
    "plt.figure(figsize = (8, 7))\n",
    "for name, indices in voltage_regions.items():\n",
    "    grid_to_plot = grid_points[indices][:, [0, 1]]\n",
    "    plt.scatter(grid_to_plot[:, 0], grid_to_plot[:, 1], s = 0.5)\n",
    "    \n",
    "# for i in range(len(acc_indices)):\n",
    "#     to_plot = grid_points[twodeg_grid[[acc_indices[i]]]]\n",
    "#     print(to_plot)\n",
    "#     plt.scatter(to_plot[0][0], to_plot[0][1]);"
   ]
  },
  {
   "cell_type": "markdown",
   "id": "de423151-a741-4b9c-be02-84443af8f2fd",
   "metadata": {
    "tags": []
   },
   "source": [
    "#### LU decomposition of finite system"
   ]
  },
  {
   "cell_type": "code",
   "execution_count": 14,
   "id": "5edf3a02-e11f-4bdd-bb1c-95145c5788da",
   "metadata": {},
   "outputs": [
    {
     "name": "stdout",
     "output_type": "stream",
     "text": [
      "CPU times: user 2.91 s, sys: 178 ms, total: 3.09 s\n",
      "Wall time: 3.08 s\n"
     ]
    }
   ],
   "source": [
    "%%time\n",
    "\n",
    "linear_problem = linear_problem_instance(poisson_system)"
   ]
  },
  {
   "cell_type": "code",
   "execution_count": 15,
   "id": "a4f674ae-f7c9-4dcb-a135-cd99fc39f458",
   "metadata": {},
   "outputs": [],
   "source": [
    "site_coords, site_indices = discrete_system_coordinates(\n",
    "    poisson_system, [('charge', 'twoDEG')], boundaries=None\n",
    ")\n",
    "\n",
    "crds = site_coords[:, [0, 1]]\n",
    "grid_spacing = grid_spacing_twoDEG\n",
    "offset = crds[0]%grid_spacing"
   ]
  },
  {
   "cell_type": "code",
   "execution_count": 16,
   "id": "ed8029d2-0fdc-44c4-9e29-78faf2567e67",
   "metadata": {},
   "outputs": [],
   "source": [
    "grid_points= poisson_system.grid.points"
   ]
  },
  {
   "cell_type": "code",
   "execution_count": 17,
   "id": "3668b7e3-0156-470d-bf23-f939b1ecc51c",
   "metadata": {},
   "outputs": [],
   "source": [
    "charge_regions = poisson_system.regions.charge.tag_points"
   ]
  },
  {
   "cell_type": "code",
   "execution_count": 18,
   "id": "2fc2d033-acf5-4995-a73a-a29b7dc2a4fa",
   "metadata": {},
   "outputs": [],
   "source": [
    "voltage_regions = poisson_system.regions.voltage.tag_points\n",
    "regions_to_add = []\n",
    "for region in voltage_regions.keys():\n",
    "    if region not in ['dirichlet_0', 'dirichlet_1', 'dirichlet_2', 'dirichlet_3']:\n",
    "        regions_to_add.append(('voltage', region))\n",
    "for region in charge_regions.keys():\n",
    "    # if region not in ['air']:\n",
    "    regions_to_add.append(('charge', region))"
   ]
  },
  {
   "cell_type": "markdown",
   "id": "c76b36e7-d5c2-4c68-a523-03ce7eb9b16c",
   "metadata": {
    "tags": []
   },
   "source": [
    "#### Verify the potential"
   ]
  },
  {
   "cell_type": "code",
   "execution_count": 19,
   "id": "9301aa7a-da8f-494c-a6a7-e9e4fbac7831",
   "metadata": {},
   "outputs": [],
   "source": [
    "voltage_regions = list(poisson_system.regions.voltage.tag_points.keys())"
   ]
  },
  {
   "cell_type": "code",
   "execution_count": 114,
   "id": "474f9f9f-d7c3-4c4b-8237-30f4a14715e0",
   "metadata": {
    "tags": []
   },
   "outputs": [],
   "source": [
    "depleted = -1e-3\n",
    "acumulate = 4e-3\n",
    "\n",
    "def voltage_dict(depleted, acumulate, arm=None, arm_v=depleted-1e-3):\n",
    "    voltages = {}\n",
    "\n",
    "    voltages['left_1'] = depleted\n",
    "    voltages['left_2'] = depleted\n",
    "\n",
    "    voltages['right_1'] = depleted\n",
    "    voltages['right_2'] = depleted\n",
    "\n",
    "    voltages['top_1'] = depleted\n",
    "    voltages['top_2'] = depleted\n",
    "\n",
    "    voltages['global_accumul'] = acumulate\n",
    "    \n",
    "    if arm is not None:\n",
    "        voltages[arm+'_1'] = arm_v\n",
    "        voltages[arm+'_2'] = arm_v\n",
    "\n",
    "    return voltages"
   ]
  },
  {
   "cell_type": "code",
   "execution_count": 21,
   "id": "6e094c06-7a26-4f82-911a-6c633215c2a1",
   "metadata": {},
   "outputs": [],
   "source": [
    "voltages = voltage_dict(depleted, acumulate)"
   ]
  },
  {
   "cell_type": "code",
   "execution_count": 22,
   "id": "76b4264a-2f45-4f80-a593-7b619909d74a",
   "metadata": {},
   "outputs": [
    {
     "name": "stdout",
     "output_type": "stream",
     "text": [
      "CPU times: user 495 ms, sys: 21 ms, total: 516 ms\n",
      "Wall time: 517 ms\n"
     ]
    }
   ],
   "source": [
    "%%time\n",
    "\n",
    "charges = {}\n",
    "clean_potential = gate_potential(\n",
    "        poisson_system,\n",
    "        linear_problem,\n",
    "        site_coords[:, [0, 1]],\n",
    "        site_indices,\n",
    "        voltages,\n",
    "        charges,\n",
    "        offset=offset,\n",
    "        grid_spacing=a\n",
    "    )"
   ]
  },
  {
   "cell_type": "code",
   "execution_count": 23,
   "id": "f0356e5f-48ea-4b83-89c3-45e815c6e501",
   "metadata": {},
   "outputs": [],
   "source": [
    "coordinates = np.array(list(clean_potential.keys()))\n",
    "\n",
    "x = coordinates[:, 0]\n",
    "y = coordinates[:, 1]\n",
    "width_plot = np.unique(x).shape[0]\n",
    "X = x.reshape(width_plot, -1) / a\n",
    "Y = y.reshape(width_plot, -1) / a\n",
    "Z = np.round(np.array(list(clean_potential.values())).reshape(width_plot, -1) * -1, 4)"
   ]
  },
  {
   "cell_type": "code",
   "execution_count": 24,
   "id": "a60316fe-4e70-4be6-a72b-6c3de6bda1d6",
   "metadata": {},
   "outputs": [
    {
     "data": {
      "image/png": "[encoded data removed]",
      "text/plain": [
       "<Figure size 432x288 with 2 Axes>"
      ]
     },
     "metadata": {
      "needs_background": "light"
     },
     "output_type": "display_data"
    }
   ],
   "source": [
    "plt.figure()\n",
    "plt.imshow(np.rot90(Z), extent = (xmin, xmax, ymin, ymax), cmap = 'magma_r')\n",
    "plt.colorbar();"
   ]
  },
  {
   "cell_type": "code",
   "execution_count": 25,
   "id": "35c61ebd-f860-405b-9fd4-6a316836abfb",
   "metadata": {},
   "outputs": [
    {
     "data": {
      "text/plain": [
       "Text(0.5, 1.0, 'V(x,y) - V(-x,y)')"
      ]
     },
     "execution_count": 25,
     "metadata": {},
     "output_type": "execute_result"
    },
    {
     "data": {
      "image/png": "[encoded data removed]",
      "text/plain": [
       "<Figure size 432x288 with 2 Axes>"
      ]
     },
     "metadata": {
      "needs_background": "light"
     },
     "output_type": "display_data"
    }
   ],
   "source": [
    "plt.imshow((np.rot90(Z[::-1,:])-np.rot90(Z)), extent = (xmin, xmax, ymin, ymax), cmap = 'magma_r')\n",
    "plt.colorbar()\n",
    "plt.xlabel(\"x\")\n",
    "plt.ylabel(\"y\")\n",
    "plt.title(\"V(x,y) - V(-x,y)\")"
   ]
  },
  {
   "cell_type": "markdown",
   "id": "c7d78e53-151f-4830-9d4c-6bffcd270d08",
   "metadata": {
    "tags": []
   },
   "source": [
    "#### Build kwant object"
   ]
  },
  {
   "cell_type": "code",
   "execution_count": 26,
   "id": "30fb891e-7663-428d-bc69-d2c055b7eecb",
   "metadata": {},
   "outputs": [],
   "source": [
    "# Build kwant system\n",
    "\n",
    "R_a = R*a\n",
    "width_a = width*a\n",
    "l = 150 * a\n",
    "w = 7 * a\n",
    "boundaries = [xmin, xmax, ymin, ymax, min(grid_points[:, 2]), max(grid_points[:, 2])]\n",
    "boundaries = np.array(boundaries) * a\n",
    "\n",
    "geometry ={'nw_l': l, 'nw_w': w,\n",
    "           's_w': boundaries[1] - boundaries[0],\n",
    "           's_l': boundaries[3] - boundaries[2],\n",
    "           'centers':[[-R_a+width_a/np.sqrt(2), 0],\n",
    "                      [-(-R_a+width_a/np.sqrt(2)), 0], \n",
    "                      [0,boundaries[3]+l-a]\n",
    "                     ]\n",
    "          }"
   ]
  },
  {
   "cell_type": "raw",
   "id": "4a738fee-06ac-4c57-b525-e0beb4d95652",
   "metadata": {},
   "source": [
    "import importlib\n",
    "import ccode.parameters\n",
    "importlib.reload(ccode.parameters)"
   ]
  },
  {
   "cell_type": "code",
   "execution_count": 27,
   "id": "478ade4b-03de-4090-be96-9f5b8cf2fa13",
   "metadata": {},
   "outputs": [
    {
     "name": "stdout",
     "output_type": "stream",
     "text": [
      "CPU times: user 245 ms, sys: 4.94 ms, total: 250 ms\n",
      "Wall time: 249 ms\n"
     ]
    }
   ],
   "source": [
    "%%time\n",
    "\n",
    "trijunction, f_params = finite_system(**geometry)\n",
    "trijunction = trijunction.finalized()"
   ]
  },
  {
   "cell_type": "code",
   "execution_count": 28,
   "id": "30e1531e-3dbb-42b7-a6ab-71c1dd45640a",
   "metadata": {},
   "outputs": [
    {
     "data": {
      "image/png": "[encoded data removed]",
      "text/plain": [
       "<Figure size 432x288 with 1 Axes>"
      ]
     },
     "metadata": {
      "needs_background": "light"
     },
     "output_type": "display_data"
    }
   ],
   "source": [
    "fig, ax = plt.subplots()\n",
    "kwant.plot(trijunction, ax=ax, lead_site_size = 4)\n",
    "ax.set_ylim(-10*a, boundaries[3]+10*a)\n",
    "grid_points = poisson_system.grid.points\n",
    "voltage_regions = poisson_system.regions.voltage.tag_points\n",
    "\n",
    "# for name, indices in voltage_regions.items():\n",
    "#     if name not in ['global_accumul']:\n",
    "#         grid_to_plot = a*grid_points[indices][:, [0, 1]]\n",
    "#         ax.scatter(grid_to_plot[:, 0], grid_to_plot[:, 1], s = 0.5)\n"
   ]
  },
  {
   "cell_type": "raw",
   "id": "348c1da5-48bb-4d73-acbf-eefe662e39f9",
   "metadata": {},
   "source": [
    "np.unique(grid_points[voltage_regions['global_accumul']][:, 1])"
   ]
  },
  {
   "cell_type": "markdown",
   "id": "0ed27022-68b2-442f-8057-d40780020710",
   "metadata": {
    "tags": []
   },
   "source": [
    "### Optimal phases"
   ]
  },
  {
   "cell_type": "code",
   "execution_count": 122,
   "id": "d1107026-42e5-47e6-a080-fb5db4db1b74",
   "metadata": {},
   "outputs": [],
   "source": [
    "def fixed_potential_solver(kwant_syst, base_params, eigenvecs=False, n=20):\n",
    "\n",
    "    def solver(extra_params):\n",
    "\n",
    "        system, f_params = kwant_system\n",
    "        base_params.update(extra_params)\n",
    "        ham_mat = system.hamiltonian_submatrix(sparse=True, params=f_params(**base_params))\n",
    "\n",
    "        if eigenvecs:\n",
    "            evals, evecs = sl.sort_eigen(sla.eigsh(ham_mat.tocsc(), k=n, sigma=0))\n",
    "        else:\n",
    "            evals = np.sort(\n",
    "                sparse.linalg.eigsh(ham_mat.tocsc(), k=n, sigma=0, return_eigenvectors=eigenvecs)\n",
    "            )\n",
    "            evecs = []\n",
    "\n",
    "        return evals, evecs\n",
    "\n",
    "    return solver"
   ]
  },
  {
   "cell_type": "code",
   "execution_count": 112,
   "id": "d00b0e32-8b97-4a61-bc58-822542b905ed",
   "metadata": {},
   "outputs": [],
   "source": [
    "kwant_system = [trijunction, f_params]\n",
    "params = pm.junction_parameters(m_nw=pm.bands[0]*np.ones(3))"
   ]
  },
  {
   "cell_type": "code",
   "execution_count": 115,
   "id": "2f2dc091-0d9f-4b05-950d-ff53caddfba1",
   "metadata": {},
   "outputs": [],
   "source": [
    "arms = ['left', 'right', 'top']\n",
    "potentials = []\n",
    "depleted = -1.5e-3\n",
    "acumulate = 4.5e-3\n",
    "closed_arm = -5e-3\n",
    "\n",
    "for arm in arms:\n",
    "    voltages = voltage_dict(depleted, acumulate, arm=arm, arm_v=closed_arm)\n",
    "    charges = {}\n",
    "    potential = gate_potential(\n",
    "            poisson_system,\n",
    "            linear_problem,\n",
    "            site_coords[:, [0, 1]],\n",
    "            site_indices,\n",
    "            voltages,\n",
    "            charges,\n",
    "            offset = offset[[0, 1]],\n",
    "            grid_spacing = a\n",
    "        )\n",
    "\n",
    "    #potential.update((x, y*-1) for x, y in potential.items())\n",
    "    potentials.append(potential)"
   ]
  },
  {
   "cell_type": "code",
   "execution_count": 116,
   "id": "18a376c2-4482-49b7-b4e9-fae608bf2054",
   "metadata": {},
   "outputs": [],
   "source": [
    "phases = np.linspace(0, 2, 100) * np.pi"
   ]
  },
  {
   "cell_type": "code",
   "execution_count": 117,
   "id": "c3531b85-a78a-4229-a830-7e39b1e8b379",
   "metadata": {},
   "outputs": [],
   "source": [
    "phis1 = [{'phi1': phi, 'phi2': 0} for phi in phases]\n",
    "phis2 = [{'phi2': phi, 'phi1': 0} for phi in phases]\n",
    "phis = [phis2, phis2, phis1]"
   ]
  },
  {
   "cell_type": "code",
   "execution_count": null,
   "id": "92c167f6-ae28-49db-b09c-89e804163280",
   "metadata": {},
   "outputs": [],
   "source": [
    "phis"
   ]
  },
  {
   "cell_type": "code",
   "execution_count": 119,
   "id": "3b6a4587-5821-4a08-ae5e-6878a335bd53",
   "metadata": {},
   "outputs": [],
   "source": [
    "params.update(potential=potential)"
   ]
  },
  {
   "cell_type": "code",
   "execution_count": 123,
   "id": "004f23d5-ceb9-4036-9b1c-fd23080562c1",
   "metadata": {},
   "outputs": [],
   "source": [
    "solver = fixed_potential_solver(kwant_system, params, eigenvecs=False)"
   ]
  },
  {
   "cell_type": "code",
   "execution_count": 124,
   "id": "960a30f1-37d0-4b1d-9b3a-923bc7f79f16",
   "metadata": {},
   "outputs": [],
   "source": [
    "topo_gap = solver(phis[0][0])[0][-1]"
   ]
  },
  {
   "cell_type": "code",
   "execution_count": null,
   "id": "7c8f189f-a5a2-44f1-ac3e-16e6fecef859",
   "metadata": {},
   "outputs": [],
   "source": [
    "%%time\n",
    "results = []\n",
    "with Cluster(options) as cluster:\n",
    "\n",
    "    cluster.scale(n=20)\n",
    "    client = cluster.get_client()\n",
    "    print(\"http://io.quantumtinkerer.tudelft.nl/user/jdtorres/proxy/\"+cluster.dashboard_link[17:])\n",
    "    \n",
    "    i = 0\n",
    "\n",
    "    for potential in potentials:\n",
    "        params.update(potential=potential)\n",
    "        solver = fixed_potential_solver(kwant_system, params, eigenvecs=False)\n",
    "        args_db = db.from_sequence(phis[i])\n",
    "        result = args_db.map(solver).compute()\n",
    "\n",
    "        i += 1\n",
    "\n",
    "        energies = []\n",
    "        for aux, _ in result:\n",
    "            energies.append(aux)\n",
    "        results.append(energies)"
   ]
  },
  {
   "cell_type": "code",
   "execution_count": null,
   "id": "de5a04d5-f3cd-4f01-907f-4ab77f29c8bb",
   "metadata": {},
   "outputs": [],
   "source": [
    "max_phis_id = []\n",
    "for pair in results:\n",
    "    max_phis_id.append(tl.find_resonances(energies=np.array(pair), n=20, sign=-1, i=-1)[1])\n",
    "max_phis_id = np.array(max_phis_id).flatten()\n",
    "max_phis = phases[max_phis_id]/np.pi"
   ]
  },
  {
   "cell_type": "code",
   "execution_count": null,
   "id": "3b50841d-c40b-4669-8f71-e0f8c325d60d",
   "metadata": {},
   "outputs": [],
   "source": [
    "fig, ax = plt.subplots(ncols=3, figsize=(15,5))\n",
    "fig.tight_layout(w_pad=5)\n",
    "i = 0\n",
    "titles = ['left arm depleted', 'right arm depleted', 'top arm depleted']\n",
    "phis_labels = [r'$\\phi_{center}$', r'$\\phi_{center}$', r'$\\phi_{right}$']\n",
    "\n",
    "peaks = []\n",
    "\n",
    "for energies in results:\n",
    "    energies = np.array(energies)\n",
    "    for level in energies.T:\n",
    "        ax[i].plot(phases/np.pi, level/topo_gap)\n",
    "    ax[i].vlines(x=max_phis[i], ymin=-1, ymax=1)\n",
    "    ax[i].set_title(titles[i])\n",
    "    ax[i].set_ylabel(r'E[$\\Delta^*]$')\n",
    "    ax[i].set_xlabel(phis_labels[i])\n",
    "    i += 1\n",
    "    "
   ]
  },
  {
   "cell_type": "markdown",
   "id": "0a653e62-28a9-43c1-b679-e2cdae0624fe",
   "metadata": {
    "tags": []
   },
   "source": [
    "### Optimize gate voltages"
   ]
  },
  {
   "cell_type": "code",
   "execution_count": 29,
   "id": "af7ddb30-3f81-4f97-bbd1-05f0efe9af6d",
   "metadata": {},
   "outputs": [],
   "source": [
    "from scipy import sparse"
   ]
  },
  {
   "cell_type": "code",
   "execution_count": 30,
   "id": "988eb790-7662-4cd8-bcb1-223a7db7a156",
   "metadata": {},
   "outputs": [],
   "source": [
    "poisson_params = {\n",
    "    'poisson_system': poisson_system,\n",
    "    'linear_problem': linear_problem,\n",
    "    'site_coords': site_coords,\n",
    "    'site_indices': site_indices,\n",
    "}    \n",
    "\n",
    "crds = site_coords\n",
    "grid_spacing = grid_spacing_twoDEG\n",
    "offset = crds[0]%grid_spacing\n",
    "\n",
    "kwant_params = {\n",
    "    'offset': offset,\n",
    "    'grid_spacing': a,\n",
    "    'finite_system_object': trijunction,\n",
    "    'finite_system_params_object': f_params,\n",
    "    \n",
    "}\n"
   ]
  },
  {
   "cell_type": "code",
   "execution_count": 31,
   "id": "d70db3e5-c97e-465e-b9ec-b2286af2cde5",
   "metadata": {},
   "outputs": [],
   "source": [
    "centers = np.array(geometry['centers']) / a\n",
    "nw_l = geometry['nw_l'] / a\n",
    "nw_w = geometry['nw_w'] / a\n",
    "\n",
    "depletion_regions  = {'left': np.array(((centers[0][0] - nw_w /2, centers[0][1]),\n",
    "                              (centers[0][0] + nw_w /2, centers[0][1])), dtype = 'float32'),\n",
    "                      'right': np.array(((centers[1][0] - nw_w /2, centers[1][1]),\n",
    "                               (centers[1][0] + nw_w /2, centers[1][1])), dtype = 'float32'),\n",
    "                     'top':   np.array(((centers[2][0] - nw_w /2, centers[2][1] - nw_l),\n",
    "                              (centers[2][0] + nw_w /2, centers[2][1] - nw_l)), dtype = 'float32')}"
   ]
  },
  {
   "cell_type": "code",
   "execution_count": 32,
   "id": "61d7389a-42d0-40bb-9f62-a99691e4220e",
   "metadata": {},
   "outputs": [],
   "source": [
    "grid = poisson_system.grid.points.astype('float32')"
   ]
  },
  {
   "cell_type": "code",
   "execution_count": 33,
   "id": "bcc84abb-49a4-4e31-9835-8c9158b0357f",
   "metadata": {},
   "outputs": [],
   "source": [
    "voltage_regions = poisson_system.regions.voltage.tag_points"
   ]
  },
  {
   "cell_type": "code",
   "execution_count": 34,
   "id": "d15c221e-2998-4f20-ab9f-8d8d57512bad",
   "metadata": {},
   "outputs": [],
   "source": [
    "twodeg_grid = site_indices\n",
    "twodeg_grid_monolayer = twodeg_grid[grid[twodeg_grid][:, 2] == np.unique(grid[twodeg_grid][:, 2])[0]]"
   ]
  },
  {
   "cell_type": "code",
   "execution_count": 35,
   "id": "8f4722e8-9323-425a-9be5-349f51464387",
   "metadata": {},
   "outputs": [],
   "source": [
    "def closest_node(node, nodes):\n",
    "    \"\"\"Euclidean distance between a node and array of nodes\"\"\"\n",
    "    nodes = np.asarray(nodes)\n",
    "    dist = np.sum((nodes - node)**2, axis=1)\n",
    "    return np.argmin(dist)"
   ]
  },
  {
   "cell_type": "code",
   "execution_count": 130,
   "id": "868eb4b2-7a22-46b7-996b-1193f6feb452",
   "metadata": {},
   "outputs": [],
   "source": [
    "dep_indices = {}\n",
    "acc_indices = {}\n",
    "for gate in ['left_1', 'left_2', 'right_1', 'right_2', 'top_1', 'top_2']:\n",
    "    indices = voltage_regions[gate]\n",
    "    center = Polygon(grid_points[indices][:, [0, 1]]).centroid.coords\n",
    "    closest_coord_index = closest_node(list(center)[0], \n",
    "                                       grid_points[twodeg_grid][:, [0, 1]])\n",
    "    dep_indices[gate] = [closest_coord_index]\n",
    "\n",
    "nw_centers = {}\n",
    "nw_centers['left'] = np.array(geometry['centers'][0])/a\n",
    "nw_centers['right'] = np.array(geometry['centers'][1])/a\n",
    "nw_centers['top'] = np.array(geometry['centers'][2])\n",
    "nw_centers['top'][1] -= l\n",
    "nw_centers['top'][1] /= a\n",
    "\n",
    "for gate in ['right']:\n",
    "    closest_coord_index = closest_node(nw_centers[gate], grid_points[twodeg_grid][:, [0, 1]])\n",
    "    dep_indices[gate] = [closest_coord_index]\n",
    "    \n",
    "for gate in ['left', 'top']:\n",
    "    closest_coord_index = closest_node(nw_centers[gate], grid_points[twodeg_grid][:, [0, 1]])\n",
    "    acc_indices[gate] = [closest_coord_index]"
   ]
  },
  {
   "cell_type": "raw",
   "id": "1f167eaa-e7c5-4dfb-8da3-878fbb499797",
   "metadata": {},
   "source": [
    "dep_indices = np.hstack(list(dep_indices.values()))\n",
    "acc_indices = np.hstack(list(acc_indices.values()))"
   ]
  },
  {
   "cell_type": "code",
   "execution_count": 131,
   "id": "a89847c9-5050-4671-9c83-0cf66f0cf342",
   "metadata": {},
   "outputs": [],
   "source": [
    "depletion = np.array([[dep_indices['left_1'], dep_indices['left_2']],\n",
    "             [dep_indices['top_1'], dep_indices['top_2']],\n",
    "             [dep_indices['right_1'], dep_indices['right_2']],\n",
    "             ])\n",
    "\n",
    "uniform = []\n",
    "\n",
    "accumulation = [[acc_indices['left']], [acc_indices['top']]]"
   ]
  },
  {
   "cell_type": "raw",
   "id": "69ef268a-8ca9-4456-ba03-b02f65b05baf",
   "metadata": {},
   "source": [
    "from itertools import product"
   ]
  },
  {
   "cell_type": "code",
   "execution_count": 132,
   "id": "1215d5d2-0069-4dd9-ba87-f1f5d028d8dc",
   "metadata": {},
   "outputs": [],
   "source": [
    "def left(site):\n",
    "    x, y = site.pos\n",
    "    return x < 0\n",
    "leftop = Density(trijunction, onsite = np.eye(4), where = left, sum = True)\n",
    "\n",
    "def right(site):\n",
    "    x, y = site.pos\n",
    "    return x > 0\n",
    "rightop = Density(trijunction, onsite = np.eye(4), where = right, sum = True)\n",
    "\n",
    "def top(site):\n",
    "    x, y = site.pos\n",
    "    return y > 0\n",
    "topop = Density(trijunction, onsite = np.eye(4), where = top, sum = True)"
   ]
  },
  {
   "cell_type": "code",
   "execution_count": 133,
   "id": "4a21a210-05f9-4b39-bbbc-a40973f7ec17",
   "metadata": {},
   "outputs": [],
   "source": [
    "from utility import gather_data"
   ]
  },
  {
   "cell_type": "code",
   "execution_count": 134,
   "id": "2f451967-e7ab-4a8e-b6eb-430723f250aa",
   "metadata": {},
   "outputs": [],
   "source": [
    "def gate_tuner(x, *argv):\n",
    "    \n",
    "    voltages = {}\n",
    "    \n",
    "    voltages['left_1'] = x[0]\n",
    "    voltages['left_2'] = voltages['left_1']\n",
    "    voltages['right_1'] = x[1]\n",
    "    voltages['right_2'] = voltages['right_1']\n",
    "    voltages['top_1'] = x[2]\n",
    "    voltages['top_2'] = voltages['top_1']\n",
    "    voltages['global_accumul'] = x[3]\n",
    "    \n",
    "    poisson_params, kwant_params, general_params,  = argv[:3]\n",
    "    dep_points, acc_points, coupled_pair, uncoupled_pairs  = argv[3:7]\n",
    "    base_hamiltonian, linear_hamiltonian = argv[7:9]\n",
    "    mlwf = argv[9]\n",
    "    uniform = argv[10]\n",
    "    \n",
    "    \n",
    "    pp = poisson_params\n",
    "    kp = kwant_params\n",
    "    \n",
    "    charges = {}\n",
    "    potential = gate_potential(\n",
    "            pp['poisson_system'],\n",
    "            pp['linear_problem'],\n",
    "            pp['site_coords'],\n",
    "            pp['site_indices'],\n",
    "            voltages,\n",
    "            charges,\n",
    "            offset = kp['offset'],\n",
    "            grid_spacing = kp['grid_spacing']\n",
    "        )\n",
    "    \n",
    "    potential.update((x, y*-1) for x, y in potential.items())\n",
    "    \n",
    "    \n",
    "    potential_array = np.array(list(potential.values()))\n",
    "    \n",
    "    \n",
    "    dep_acc_cost = []\n",
    "    \n",
    "    barrier_height = []\n",
    "    \n",
    "    for i, _ in enumerate(acc_points):\n",
    "        dep_potential = potential_array[np.hstack(dep_points[i])]\n",
    "        acc_potential = potential_array[acc_points[i]]\n",
    "        \n",
    "        if acc_potential > general_params['mus_nw'][0]:\n",
    "            dep_acc_cost.append(np.abs(acc_potential - general_params['mus_nw'][0]))\n",
    "            \n",
    "        if np.any(dep_potential < acc_potential):\n",
    "            dep_acc_cost.append(np.abs(dep_potential[np.where(dep_potential < acc_potential)] -\\\n",
    "                                           acc_potential))\n",
    "            \n",
    "        # barrier_height.append(sum(np.abs(dep_potential - acc_potential)))\n",
    "    \n",
    "    \n",
    "    if len(dep_points) > len(acc_points):\n",
    "        dep_potential = potential_array[np.hstack(dep_points[-1])]\n",
    "        \n",
    "        if np.any(dep_potential < general_params['mus_nw'][0]):\n",
    "            dep_acc_cost.append(np.abs(dep_potential[np.where(dep_potential < general_params['mus_nw'][0])] -\\\n",
    "                                           general_params['mus_nw'][0]))\n",
    "    \n",
    "    coupling_cost = 0.0\n",
    "    \n",
    "    if len(dep_acc_cost):\n",
    "        # print(dep_acc_cost)\n",
    "        return sum(np.hstack(dep_acc_cost))\n",
    "    else:\n",
    "        uniformity = 0.0\n",
    "        if len(uniform):\n",
    "            uniformity = np.abs(potential_array[uniform[0]] - potential_array[uniform[1]])\n",
    "        \n",
    "        summed_ham = sum(\n",
    "            [\n",
    "                linear_ham[key] * voltages[key]\n",
    "                for key, value in linear_ham.items()\n",
    "            ]\n",
    "        )\n",
    "\n",
    "        tight_binding_hamiltonian = base_hamiltonian + summed_ham\n",
    "\n",
    "\n",
    "        eigval, eigvec = sl.sort_eigen(sparse.linalg.eigsh(tight_binding_hamiltonian.tocsc(), \n",
    "                                                           k=6, sigma = 0))\n",
    "\n",
    "#         fig, ax = plt.subplots(1, 6, figsize = (10, 5), sharey= True)\n",
    "#         for i in range(6):\n",
    "#             kwant.plotter.density(trijunction, density(eigvec[i]), ax = ax[i]);\n",
    "\n",
    "#         filepath = '/home/tinkerer/trijunction-design/data/optimization/'\n",
    "#         seed = gather_data(filepath)\n",
    "\n",
    "#         if \".ipynb_checkpoints\" in seed:\n",
    "#             os.system(\"rm -rf .ipynb_checkpoints\")\n",
    "\n",
    "#         if len(seed):\n",
    "#             file_name = filepath + \"plt_\" + str(max(seed) + 1) + \"_.png\"\n",
    "#         else:\n",
    "#             file_name = filepath + \"plt_\" + str(0) + \"_.png\"\n",
    "\n",
    "#         plt.savefig(file_name, format=\"png\", bbox_inches=\"tight\", pad_inches=0.0)\n",
    "\n",
    "#         plt.close()\n",
    "\n",
    "\n",
    "\n",
    "        lowest_e_indices = np.argsort(np.abs(eigval))[: 6]\n",
    "        lowest_e_energies = eigval[lowest_e_indices]\n",
    "        coupled_states = eigvec.T[:, lowest_e_indices].T\n",
    "\n",
    "        # Overlap matrix\n",
    "        decoupled_states = mlwf\n",
    "        S = coupled_states @ decoupled_states.T.conj()\n",
    "\n",
    "        # Unitary matrix using SVD\n",
    "        U, _, Vh = svd(S)\n",
    "        S_prime = U @ Vh\n",
    "\n",
    "        # Transform coupled Hamiltonian to Majorana basis\n",
    "        coupled_ham = S_prime.T.conj() @ np.diag(lowest_e_energies) @ S_prime\n",
    "\n",
    "        coupled_ham = coupled_ham[2:5, 2:5]/general_params['Delta']\n",
    "\n",
    "        print(np.abs(coupled_ham[coupled_pair[0], coupled_pair[1]]))\n",
    "\n",
    "\n",
    "        coupled_cost = np.abs(coupled_ham[coupled_pair[0], coupled_pair[1]])\n",
    "\n",
    "\n",
    "        uncoupled_cost = (np.abs(coupled_ham[uncoupled_pairs[0][0], uncoupled_pairs[0][1]]) +\n",
    "                          np.abs(coupled_ham[uncoupled_pairs[1][0], uncoupled_pairs[1][1]]))\n",
    "        \n",
    "        \n",
    "        \n",
    "        return (-1 * coupled_cost) + uncoupled_cost + uniformity"
   ]
  },
  {
   "cell_type": "code",
   "execution_count": 135,
   "id": "e5f9c4eb-ecfe-4927-b7a9-33d9f8d27e41",
   "metadata": {},
   "outputs": [],
   "source": [
    "mu = pm.bands[0]"
   ]
  },
  {
   "cell_type": "code",
   "execution_count": 136,
   "id": "eb333792-59a6-4332-8232-0ab840727a80",
   "metadata": {},
   "outputs": [],
   "source": [
    "params = pm.junction_parameters(m_nw=[mu, mu, mu], m_qd=0)"
   ]
  },
  {
   "cell_type": "code",
   "execution_count": 137,
   "id": "b6341df7-bc7e-4385-9af2-86d05ec1f2ee",
   "metadata": {},
   "outputs": [],
   "source": [
    "max_phis = np.array([[1.19191919],\n",
    "       [0.82828283],\n",
    "       [1.33333333]])\n",
    "optimal_phis = {}\n",
    "optimal_phis['LR'] = [max_phis[2]*np.pi, 0]\n",
    "optimal_phis['LC'] = [max_phis[1]*np.pi, 0]\n",
    "optimal_phis['CR'] = [0, max_phis[0]*np.pi]"
   ]
  },
  {
   "cell_type": "code",
   "execution_count": 138,
   "id": "71e6889b-df58-42f3-9b14-ad5563d854a5",
   "metadata": {},
   "outputs": [
    {
     "name": "stderr",
     "output_type": "stream",
     "text": [
      "100%|██████████| 7/7 [00:04<00:00,  1.51it/s]"
     ]
    },
    {
     "name": "stdout",
     "output_type": "stream",
     "text": [
      "CPU times: user 5.3 s, sys: 13.1 ms, total: 5.32 s\n",
      "Wall time: 5.3 s\n"
     ]
    },
    {
     "name": "stderr",
     "output_type": "stream",
     "text": [
      "\n"
     ]
    }
   ],
   "source": [
    "%%time\n",
    "\n",
    "base_hamiltonian, linear_ham = linear_Hamiltonian(poisson_params, \n",
    "                                                  kwant_params, \n",
    "                                                  params, \n",
    "                                                  list(voltage_regions.keys()),\n",
    "                                                  phis = optimal_phis['LC'])"
   ]
  },
  {
   "cell_type": "code",
   "execution_count": 139,
   "id": "5193878f-6efc-4132-a1f2-3e803b12ef0d",
   "metadata": {},
   "outputs": [],
   "source": [
    "# 1. Simulate the decoupled system and Wannerize the eigenstates\n",
    "\n",
    "voltages = {'left_1': -0.0036,\n",
    "            'left_2': -0.0086,\n",
    "            'right_1': -0.0086,\n",
    "            'right_2': -0.0036,\n",
    "            'top_1': -0.0037,\n",
    "            'top_2': -0.0037,\n",
    "            'global_accumul': -7e-05}\n",
    "\n",
    "summed_ham = sum(\n",
    "    [\n",
    "        linear_ham[key] * voltages[key]\n",
    "        for key, value in linear_ham.items()\n",
    "    ]\n",
    ")\n",
    "\n",
    "tight_binding_hamiltonian = base_hamiltonian + summed_ham\n",
    "\n",
    "\n",
    "eigval, eigvec = sl.sort_eigen(sparse.linalg.eigsh(tight_binding_hamiltonian.tocsc(), \n",
    "                                                   k=12, sigma = 0))\n",
    "\n",
    "lowest_e_indices = np.argsort(np.abs(eigval))[: 6]\n",
    "lowest_e_energies = eigval[lowest_e_indices]\n",
    "lowest_e_states = eigvec.T[:, lowest_e_indices].T"
   ]
  },
  {
   "cell_type": "code",
   "execution_count": 140,
   "id": "fa59aee7-e25e-4524-97e9-c39a9520d6fd",
   "metadata": {},
   "outputs": [],
   "source": [
    "density = Density(trijunction, np.eye(4))"
   ]
  },
  {
   "cell_type": "code",
   "execution_count": 141,
   "id": "cb955010-009e-4d7d-b301-aad2744b1cf1",
   "metadata": {},
   "outputs": [
    {
     "data": {
      "image/png": "[encoded data removed]",
      "text/plain": [
       "<Figure size 360x360 with 6 Axes>"
      ]
     },
     "metadata": {
      "needs_background": "light"
     },
     "output_type": "display_data"
    }
   ],
   "source": [
    "fig, ax = plt.subplots(1, len(lowest_e_states), figsize = (5, 5), sharey = True)\n",
    "for i in range(len(lowest_e_states)):\n",
    "    cax = kwant.plotter.density(trijunction, density(lowest_e_states[i]), ax = ax[i]);"
   ]
  },
  {
   "cell_type": "markdown",
   "id": "da8a7227-3abd-49e7-9e28-2917c082a7d2",
   "metadata": {},
   "source": [
    "#### Wannierization"
   ]
  },
  {
   "cell_type": "code",
   "execution_count": 142,
   "id": "c3a29025-11e0-47f8-9e71-eda6383fb14e",
   "metadata": {},
   "outputs": [],
   "source": [
    "X_operator = Density(\n",
    "            trijunction, onsite=lambda site: np.eye(4) * site.pos[0]\n",
    "        )\n",
    "\n",
    "Y_operator = Density(\n",
    "            trijunction, onsite=lambda site: np.eye(4) * site.pos[1]\n",
    "        )"
   ]
  },
  {
   "cell_type": "code",
   "execution_count": 143,
   "id": "3e73fe6c-16d6-467e-a866-f710a1bc452f",
   "metadata": {},
   "outputs": [],
   "source": [
    "import utility\n",
    "import importlib"
   ]
  },
  {
   "cell_type": "code",
   "execution_count": 144,
   "id": "6f533feb-92d8-4b52-8ef5-f50c057817f9",
   "metadata": {},
   "outputs": [
    {
     "data": {
      "text/plain": [
       "<module 'utility' from '/home/tinkerer/spin-qubit/codes/utility.py'>"
      ]
     },
     "execution_count": 144,
     "metadata": {},
     "output_type": "execute_result"
    }
   ],
   "source": [
    "importlib.reload(utility)"
   ]
  },
  {
   "cell_type": "code",
   "execution_count": 145,
   "id": "ff478c94-f404-4353-b2a9-17c3c68dfa77",
   "metadata": {},
   "outputs": [],
   "source": [
    "projected_X_operator = utility.wannier_1D_operator(X_operator, \n",
    "                                           lowest_e_states.T)\n",
    "\n",
    "projected_Y_operator = utility.wannier_1D_operator(Y_operator, \n",
    "                                           lowest_e_states.T)"
   ]
  },
  {
   "cell_type": "code",
   "execution_count": 146,
   "id": "f7778698-9cb3-47fa-9aac-8a1ea690f60d",
   "metadata": {},
   "outputs": [],
   "source": [
    "w_basis = wannier_basis([projected_X_operator, \n",
    "                         projected_Y_operator])\n",
    "\n",
    "mlwf = w_basis.T @ lowest_e_states"
   ]
  },
  {
   "cell_type": "code",
   "execution_count": 147,
   "id": "8a31f15d-edc1-413c-a80e-fbe438d34d92",
   "metadata": {},
   "outputs": [
    {
     "data": {
      "image/png": "[encoded data removed]",
      "text/plain": [
       "<Figure size 360x360 with 6 Axes>"
      ]
     },
     "metadata": {
      "needs_background": "light"
     },
     "output_type": "display_data"
    }
   ],
   "source": [
    "fig, ax = plt.subplots(1, 6, figsize = (5, 5), sharey = True)\n",
    "for i in range(6):\n",
    "    cax = kwant.plotter.density(trijunction, density(mlwf[i]), ax = ax[i]);"
   ]
  },
  {
   "cell_type": "code",
   "execution_count": 148,
   "id": "ee3a1f6e-331b-4663-8740-5b4385cf25e5",
   "metadata": {},
   "outputs": [],
   "source": [
    "coupled_pairs = [0, 2] # 0: left, 1: right, 2: top\n",
    "uncoupled_pairs = [[0, 1], [1, 2]]\n",
    "args = (poisson_params, kwant_params, params, \n",
    "        depletion, accumulation, coupled_pairs, uncoupled_pairs,\n",
    "        base_hamiltonian, linear_ham,\n",
    "        mlwf, uniform)"
   ]
  },
  {
   "cell_type": "code",
   "execution_count": 149,
   "id": "f5da7aa2-f4c8-4ee2-8895-2750a59ce55c",
   "metadata": {},
   "outputs": [],
   "source": [
    "initial_condition = [ -0.0014, -0.0037,  -0.0014, 3e-3]"
   ]
  },
  {
   "cell_type": "code",
   "execution_count": 150,
   "id": "3b062661-417a-43ea-8563-643eb5ed6c44",
   "metadata": {
    "tags": []
   },
   "outputs": [
    {
     "name": "stdout",
     "output_type": "stream",
     "text": [
      "0.04559671670694173\n",
      "0.045595218718518855\n",
      "0.04559635513167356\n",
      "0.04559578496908633\n",
      "0.04559746089639301\n",
      "| niter |f evals|CG iter|  obj func   |tr radius |   opt    |  c viol  |\n",
      "|-------|-------|-------|-------------|----------|----------|----------|\n",
      "|   1   |   5   |   0   | -4.5462e-02 | 1.00e-03 | 1.00e+02 | 0.00e+00 |\n",
      "0.07678358818100886\n",
      "0.07678783068718452\n",
      "0.07678407905653756\n",
      "0.07680609173517025\n",
      "0.07678238151477608\n",
      "|   2   |  10   |   1   | -7.6550e-02 | 1.00e-03 | 1.51e+03 | 0.00e+00 |\n",
      "0.07288490064562839\n",
      "0.07288404182628822\n",
      "0.07288463685939413\n",
      "0.07288305401635238\n",
      "0.07288554495748958\n",
      "|   3   |  15   |   3   | -7.6550e-02 | 5.00e-04 | 1.51e+03 | 0.00e+00 |\n",
      "0.10046855999778022\n",
      "0.10046762647625081\n",
      "0.10046836319979807\n",
      "0.10046655324351933\n",
      "0.10046929363352168\n",
      "|   4   |  20   |   5   | -1.0043e-01 | 5.00e-04 | 1.34e+02 | 0.00e+00 |\n",
      "0.09941735876293734\n",
      "0.09942111266860712\n",
      "0.09941782202507145\n",
      "0.0994178512133203\n",
      "0.09941700530766559\n",
      "|   5   |  25   |   8   | -1.0043e-01 | 1.11e-04 | 1.34e+02 | 0.00e+00 |\n",
      "0.10623010870834108\n",
      "0.10622983105253228\n",
      "0.10623009933072755\n",
      "0.10622937998519788\n",
      "0.10623042416564678\n",
      "|   6   |  30   |  11   | -1.0591e-01 | 3.91e-04 | 4.88e+01 | 0.00e+00 |\n",
      "0.10690690635445238\n",
      "0.10690683366710811\n",
      "0.10690695724684951\n",
      "0.10690657315214919\n",
      "0.10690709277504455\n",
      "|   7   |  35   |  14   | -1.0658e-01 | 3.91e-04 | 2.24e+01 | 0.00e+00 |\n",
      "0.1071865725908114\n",
      "0.10718663647205474\n",
      "0.10718666993147448\n",
      "0.10718655751565724\n",
      "0.1071866592511082\n",
      "|   8   |  40   |  17   | -1.0686e-01 | 3.91e-04 | 7.33e+00 | 0.00e+00 |\n",
      "0.107252894227899\n",
      "0.10725296396872933\n",
      "0.10725300105624531\n",
      "0.10725296864997406\n",
      "0.10725295592292604\n",
      "|   9   |  45   |  20   | -1.0693e-01 | 3.91e-04 | 7.95e+00 | 0.00e+00 |\n",
      "0.10736233581901158\n",
      "0.10736236892021682\n",
      "0.10736244844076874\n",
      "0.1073625170351209\n",
      "0.10736237179262775\n",
      "|  10   |  50   |  24   | -1.0705e-01 | 3.91e-04 | 1.19e+01 | 0.00e+00 |\n",
      "0.1075070782398879\n",
      "0.10750704002263232\n",
      "0.1075071881718529\n",
      "0.10750733423959093\n",
      "0.10750710083637541\n",
      "|  11   |  55   |  28   | -1.0721e-01 | 3.91e-04 | 1.69e+01 | 0.00e+00 |\n",
      "0.10779575420389706\n",
      "0.10779559363783868\n",
      "0.1077958509952577\n",
      "0.10779607405259675\n",
      "0.10779577287192117\n",
      "|  12   |  60   |  32   | -1.0753e-01 | 4.87e-04 | 2.12e+01 | 0.00e+00 |\n",
      "0.10836666450487921\n",
      "0.10836633271734111\n",
      "0.10836673364507833\n",
      "0.10836702187229776\n",
      "0.10836669623328452\n",
      "|  13   |  65   |  36   | -1.0816e-01 | 9.83e-04 | 2.37e+01 | 0.00e+00 |\n",
      "0.10957978903670727\n",
      "0.10957921512334845\n",
      "0.10957980767446214\n",
      "0.10958014529768664\n",
      "0.10957986571442653\n",
      "|  14   |  70   |  40   | -1.0944e-01 | 2.10e-03 | 3.85e+01 | 0.00e+00 |\n",
      "0.11244976490495168\n",
      "0.11244881911886746\n",
      "0.11244969400624055\n",
      "0.11245005310204462\n",
      "0.11244995174046543\n",
      "|  15   |  75   |  44   | -1.1239e-01 | 4.86e-03 | 6.35e+01 | 0.00e+00 |\n",
      "0.11908937253283905\n",
      "0.11908836066120933\n",
      "0.11908917175055582\n",
      "0.11908939236489971\n",
      "0.11908963580511943\n",
      "|  16   |  80   |  48   | -1.1908e-01 | 1.66e-02 | 6.79e+01 | 0.00e+00 |\n",
      "0.12048589319514949\n",
      "0.1204850079588983\n",
      "0.12048570249100939\n",
      "0.1204859140602419\n",
      "0.12048612824619435\n",
      "|  17   |  85   |  51   | -1.2048e-01 | 1.66e-02 | 5.94e+01 | 0.00e+00 |\n",
      "0.01811070480068906\n",
      "0.01812884356238007\n",
      "0.018111740259715403\n",
      "0.01811197538516816\n",
      "0.01810892210758517\n",
      "|  18   |  90   |  55   | -1.2048e-01 | 1.66e-03 | 5.94e+01 | 0.00e+00 |\n",
      "0.12162844612861766\n",
      "0.12162758906013044\n",
      "0.12162826545383362\n",
      "0.1216284727957987\n",
      "0.12162868041919728\n",
      "|  19   |  95   |  59   | -1.2162e-01 | 1.66e-03 | 5.75e+01 | 0.00e+00 |\n",
      "0.12247720263569378\n",
      "0.12247645548579134\n",
      "0.1224770293442759\n",
      "0.12247721833731749\n",
      "0.1224774190371924\n",
      "|  20   |  100  |  61   | -1.2247e-01 | 1.66e-03 | 5.02e+01 | 0.00e+00 |\n",
      "0.11998656852295932\n",
      "0.1199898385196278\n",
      "0.11998662101855409\n",
      "0.11998621361025129\n",
      "0.11998650540567724\n",
      "|  21   |  105  |  65   | -1.2247e-01 | 5.00e-04 | 5.02e+01 | 0.00e+00 |\n",
      "0.12427389229273253\n",
      "0.12427339006543026\n",
      "0.12427374290349424\n",
      "0.12427388842810234\n",
      "0.12427408036841352\n",
      "|  22   |  110  |  69   | -1.2427e-01 | 1.48e-03 | 3.37e+01 | 0.00e+00 |\n",
      "0.12496462080686138\n",
      "0.1249643497782015\n",
      "0.1249644852644646\n",
      "0.12496461230359199\n",
      "0.12496477771588291\n",
      "|  23   |  115  |  72   | -1.2496e-01 | 1.48e-03 | 1.82e+01 | 0.00e+00 |\n",
      "0.1255397432131804\n",
      "0.12554032897075523\n",
      "0.12553966862019703\n",
      "0.12553971029957317\n",
      "0.1255398233916491\n",
      "|  24   |  120  |  76   | -1.2553e-01 | 1.48e-03 | 3.94e+01 | 0.00e+00 |\n",
      "0.1257646822899374\n",
      "0.12576483870566313\n",
      "0.12576458730973838\n",
      "0.125764667424537\n",
      "0.12576480143913477\n",
      "|  25   |  125  |  79   | -1.2575e-01 | 1.48e-03 | 1.05e+01 | 0.00e+00 |\n",
      "0.12589546698044943\n",
      "0.1258956073965505\n",
      "0.12589537327482803\n",
      "0.12589547606525986\n",
      "0.12589558073935359\n",
      "|  26   |  130  |  82   | -1.2589e-01 | 1.48e-03 | 9.46e+00 | 0.00e+00 |\n",
      "0.12727716665256622\n",
      "0.12727733957971574\n",
      "0.1272770810259234\n",
      "0.12727715688789273\n",
      "0.1272772714054016\n",
      "|  27   |  135  |  85   | -1.2727e-01 | 1.48e-03 | 1.16e+01 | 0.00e+00 |\n",
      "0.08465689268684251\n",
      "0.0846638363665309\n",
      "0.0846580199670256\n",
      "0.08466617834041543\n",
      "0.08465526363934427\n",
      "|  28   |  140  |  88   | -1.2727e-01 | 3.54e-04 | 1.16e+01 | 0.00e+00 |\n",
      "0.13004115623830115\n",
      "0.13004121262356572\n",
      "0.13004103129160985\n",
      "0.1300407372976447\n",
      "0.1300413761506288\n",
      "|  29   |  145  |  92   | -1.3004e-01 | 2.48e-03 | 2.82e+01 | 0.00e+00 |\n",
      "0.15169153715623612\n",
      "0.15169139830119754\n",
      "0.1516913488067705\n",
      "0.1516903437437313\n",
      "0.15169207324911055\n",
      "|  30   |  150  |  96   | -1.5168e-01 | 8.53e-03 | 8.01e+01 | 0.00e+00 |\n",
      "0.04693338933352792\n",
      "0.046954315426806344\n",
      "0.046934792776683186\n",
      "0.04693396754000969\n",
      "0.04692868821604924\n",
      "|  31   |  155  |  100  | -1.5168e-01 | 1.03e-03 | 8.01e+01 | 0.00e+00 |\n",
      "0.16230378134719395\n",
      "0.16230359043325052\n",
      "0.16230379910821477\n",
      "0.16230421867745873\n",
      "0.16230382966007662\n",
      "|  32   |  160  |  104  | -1.6228e-01 | 2.06e-03 | 2.93e+01 | 0.00e+00 |\n",
      "0.1633509136386659\n",
      "0.16335064527652834\n",
      "0.16335091540560004\n",
      "0.1633513268616003\n",
      "0.16335098076260304\n",
      "|  33   |  165  |  108  | -1.6333e-01 | 2.06e-03 | 2.77e+01 | 0.00e+00 |\n",
      "0.172353525512127\n",
      "0.17235243796310612\n",
      "0.17235330687744582\n",
      "0.1723532427241652\n",
      "0.17235401017528115\n",
      "|  34   |  170  |  112  | -1.7235e-01 | 1.39e-02 | 7.30e+01 | 0.00e+00 |\n",
      "0.029976524021130557\n",
      "0.02999827539244545\n",
      "0.029977525150573565\n",
      "0.029976862189504985\n",
      "0.02997161418350717\n",
      "|  35   |  175  |  116  | -1.7235e-01 | 1.39e-03 | 7.30e+01 | 0.00e+00 |\n",
      "0.1747136982587566\n",
      "0.17471291652287096\n",
      "0.17471358806094148\n",
      "0.17471387305354785\n",
      "0.17471392528771842\n",
      "|  36   |  180  |  120  | -1.7471e-01 | 1.39e-03 | 5.25e+01 | 0.00e+00 |\n",
      "0.17508479121345788\n",
      "0.17508409328825839\n",
      "0.17508469387145853\n",
      "0.17508497748903984\n",
      "0.17508498889874316\n",
      "|  37   |  185  |  122  | -1.7508e-01 | 1.39e-03 | 4.68e+01 | 0.00e+00 |\n",
      "0.0842391429899184\n",
      "0.08426209021428567\n",
      "0.08424042089801405\n",
      "0.0842396855967211\n",
      "0.08423475141685761\n",
      "|  38   |  190  |  126  | -1.7508e-01 | 1.39e-04 | 4.68e+01 | 0.00e+00 |\n",
      "0.17558187814155019\n",
      "0.1755813677563296\n",
      "0.17558180656244715\n",
      "0.17558207750519528\n",
      "0.17558201633065823\n",
      "|  39   |  195  |  129  | -1.7558e-01 | 1.96e-04 | 3.42e+01 | 0.00e+00 |\n",
      "0.1759175148126285\n",
      "0.17591716485751394\n",
      "0.17591746395265415\n",
      "0.17591772867647862\n",
      "0.17591760237876253\n",
      "|  40   |  200  |  132  | -1.7591e-01 | 1.96e-04 | 2.35e+01 | 0.00e+00 |\n",
      "0.17353744051095527\n",
      "0.1735456789964295\n",
      "0.17353808055871295\n",
      "0.1735378322451214\n",
      "0.17353551339637077\n",
      "|  41   |  205  |  136  | -1.7591e-01 | 6.14e-05 | 2.35e+01 | 0.00e+00 |\n",
      "0.17649839870630912\n",
      "0.17649816480020425\n",
      "0.17649836381510364\n",
      "0.17649862070946168\n",
      "0.1764984507773369\n",
      "|  42   |  210  |  140  | -1.7650e-01 | 3.86e-04 | 1.57e+01 | 0.00e+00 |\n",
      "0.17691643323676048\n",
      "0.1769162575391504\n",
      "0.1769164031949244\n",
      "0.1769166168258593\n",
      "0.1769164790827278\n",
      "|  43   |  215  |  144  | -1.7691e-01 | 3.86e-04 | 1.23e+01 | 0.00e+00 |\n",
      "0.17639646941728687\n",
      "0.17639657823240998\n",
      "0.1763964187789916\n",
      "0.1763960954955815\n",
      "0.17639658440864692\n",
      "|  44   |  220  |  148  | -1.7691e-01 | 8.70e-05 | 1.23e+01 | 0.00e+00 |\n",
      "0.1772710426007251\n",
      "0.17727113316265683\n",
      "0.1772710342209575\n",
      "0.1772711515077872\n",
      "0.17727103423483992\n",
      "|  45   |  225  |  151  | -1.7727e-01 | 2.36e-04 | 7.31e+00 | 0.00e+00 |\n",
      "0.17732416731671824\n",
      "0.17732437405163107\n",
      "0.17732416754036437\n",
      "0.17732424335119126\n",
      "0.17732413626688984\n",
      "|  46   |  230  |  153  | -1.7732e-01 | 2.36e-04 | 1.39e+01 | 0.00e+00 |\n",
      "0.17735166351900547\n",
      "0.17735197780437972\n",
      "0.1773516715979486\n",
      "0.17735171118484075\n",
      "0.1773516112096639\n",
      "|  47   |  235  |  156  | -1.7735e-01 | 2.36e-04 | 2.12e+01 | 0.00e+00 |\n",
      "0.17738005293566705\n",
      "0.17738041927481776\n",
      "0.17738006498484643\n",
      "0.17738008795925397\n",
      "0.17737998996325913\n",
      "|  48   |  240  |  159  | -1.7738e-01 | 2.36e-04 | 2.46e+01 | 0.00e+00 |\n",
      "0.1775667725008217\n",
      "0.1775673322250093\n",
      "0.17756680022663127\n",
      "0.17756675436126695\n",
      "0.17756667081885674\n",
      "|  49   |  245  |  162  | -1.7756e-01 | 6.66e-04 | 3.76e+01 | 0.00e+00 |\n",
      "0.17790061868222812\n",
      "0.17790137466450504\n",
      "0.17790066969115154\n",
      "0.17790055669128768\n",
      "0.17790047126722858\n",
      "|  50   |  250  |  165  | -1.7790e-01 | 1.41e-03 | 5.08e+01 | 0.00e+00 |\n",
      "0.17829713311985132\n",
      "0.17829809670972147\n",
      "0.17829722646698654\n",
      "0.1782970968589316\n",
      "0.17829690845265533\n",
      "|  51   |  255  |  168  | -1.7829e-01 | 2.16e-03 | 6.47e+01 | 0.00e+00 |\n",
      "0.17858208871532655\n",
      "0.17858284111961695\n",
      "0.17858216293168883\n",
      "0.17858207628071618\n",
      "0.17858191437785423\n",
      "|  52   |  260  |  170  | -1.7857e-01 | 2.16e-03 | 5.05e+01 | 0.00e+00 |\n",
      "0.17939140293918845\n",
      "0.17939189904709962\n",
      "0.17939147432554306\n",
      "0.17939148336026406\n",
      "0.17939126041848777\n",
      "|  53   |  265  |  174  | -1.7938e-01 | 2.16e-03 | 3.33e+01 | 0.00e+00 |\n",
      "0.17984538767109326\n",
      "0.1798456892741907\n",
      "0.17984543986232712\n",
      "0.17984549301250596\n",
      "0.17984528966644997\n",
      "|  54   |  270  |  178  | -1.7984e-01 | 2.16e-03 | 2.03e+01 | 0.00e+00 |\n",
      "0.1804024185422004\n",
      "0.180402664712626\n",
      "0.18040247407674653\n",
      "0.1804025388987228\n",
      "0.18040232194104983\n",
      "|  55   |  275  |  182  | -1.8039e-01 | 3.13e-03 | 1.65e+01 | 0.00e+00 |\n",
      "0.18105121602660854\n",
      "0.18105132087017356\n",
      "0.1810512448620928\n",
      "0.1810513326122469\n",
      "0.18105116196285334\n",
      "|  56   |  280  |  186  | -1.8104e-01 | 3.78e-03 | 7.81e+00 | 0.00e+00 |\n",
      "0.1817438490315758\n",
      "0.1817440916329729\n",
      "0.18174391683164146\n",
      "0.18174393967576466\n",
      "0.18174374127887072\n",
      "|  57   |  285  |  190  | -1.8173e-01 | 7.45e-03 | 1.63e+01 | 0.00e+00 |\n",
      "0.18296530841033368\n",
      "0.1829655849817062\n",
      "0.18296538221200437\n",
      "0.18296533708419768\n",
      "0.18296519951336343\n",
      "|  58   |  290  |  194  | -1.8295e-01 | 1.06e-02 | 1.86e+01 | 0.00e+00 |\n",
      "0.16982097422770323\n",
      "0.16982412262344584\n",
      "0.16982217166116573\n",
      "0.1698209646164249\n",
      "0.16981916813905068\n",
      "|  59   |  295  |  198  | -1.8295e-01 | 1.06e-03 | 1.86e+01 | 0.00e+00 |\n",
      "0.1838571713262736\n",
      "0.18385713190316097\n",
      "0.18385711051482312\n",
      "0.18385721073052552\n",
      "0.18385721497573698\n",
      "|  60   |  300  |  202  | -1.8385e-01 | 2.13e-03 | 4.07e+00 | 0.00e+00 |\n",
      "0.1841331930007607\n",
      "0.1841331929148972\n",
      "0.18413315354918453\n",
      "0.18413321881098707\n",
      "0.1841332191990053\n",
      "|  61   |  305  |  205  | -1.8413e-01 | 2.13e-03 | 2.63e+00 | 0.00e+00 |\n",
      "0.18546998932936173\n",
      "0.18547030139439383\n",
      "0.1854701215617018\n",
      "0.1854698284801147\n",
      "0.18546987447084082\n",
      "|  62   |  310  |  209  | -1.8546e-01 | 1.32e-02 | 2.10e+01 | 0.00e+00 |\n",
      "0.18621818207651003\n",
      "0.18621824680095858\n",
      "0.18621818230235607\n",
      "0.1862180978133106\n",
      "0.1862181970645012\n",
      "|  63   |  315  |  212  | -1.8621e-01 | 1.32e-02 | 5.69e+00 | 0.00e+00 |\n",
      "0.1873290132575577\n",
      "0.1873291139334522\n",
      "0.18732902815774435\n",
      "0.18732889841874242\n",
      "0.18732900327863816\n",
      "|  64   |  320  |  216  | -1.8733e-01 | 1.32e-02 | 7.74e+00 | 0.00e+00 |\n",
      "0.18746968856340226\n",
      "0.18746974088035875\n",
      "0.1874696780861775\n",
      "0.18746959443861583\n",
      "0.18746970361111456\n",
      "|  65   |  325  |  219  | -1.8747e-01 | 1.32e-02 | 6.35e+00 | 0.00e+00 |\n",
      "0.18788041691021073\n",
      "0.18788048665378848\n",
      "0.18788041334910224\n",
      "0.18788033219354505\n",
      "0.18788040649790813\n",
      "|  66   |  330  |  223  | -1.8788e-01 | 1.32e-02 | 5.66e+00 | 0.00e+00 |\n",
      "0.19022637066431053\n",
      "0.19022647501276016\n",
      "0.19022638884749138\n",
      "0.19022607366826047\n",
      "0.1902263825581845\n",
      "|  67   |  335  |  226  | -1.9022e-01 | 1.32e-02 | 1.99e+01 | 0.00e+00 |\n",
      "0.20285326845384397\n",
      "0.20285366326269014\n",
      "0.20285347896991504\n",
      "0.20285349299135294\n",
      "0.20285295335102208\n",
      "|  68   |  340  |  230  | -2.0285e-01 | 1.32e-02 | 2.65e+01 | 0.00e+00 |\n",
      "0.2036697877754332\n",
      "0.20367002448641358\n",
      "0.20366992843844153\n",
      "0.20366953331912943\n",
      "0.2036696950612209\n",
      "|  69   |  345  |  234  | -2.0366e-01 | 1.32e-02 | 1.71e+01 | 0.00e+00 |\n",
      "0.2054457872324449\n",
      "0.20544583325265797\n",
      "0.20544582921601487\n",
      "0.2054458735517405\n",
      "0.2054457357637361\n",
      "|  70   |  350  |  237  | -2.0544e-01 | 1.32e-02 | 5.79e+00 | 0.00e+00 |\n",
      "0.20561622380079564\n",
      "0.20561622615655561\n",
      "0.20561624063061099\n",
      "0.20561622773967397\n",
      "0.2056162210196659\n",
      "|  71   |  355  |  240  | -2.0561e-01 | 1.32e-02 | 1.14e+00 | 0.00e+00 |\n",
      "0.20581992771994775\n",
      "0.20581990999417685\n",
      "0.20581992869223922\n",
      "0.20581992277065422\n",
      "0.20581994048368016\n",
      "|  72   |  360  |  244  | -2.0581e-01 | 1.32e-02 | 1.18e+00 | 0.00e+00 |\n",
      "0.20599757522777673\n",
      "0.20599758206076285\n",
      "0.20599758166339113\n",
      "0.2059975863485133\n",
      "0.2059975649333666\n",
      "|  73   |  365  |  248  | -2.0599e-01 | 1.32e-02 | 7.43e-01 | 0.00e+00 |\n",
      "\n",
      "`gtol` termination condition is satisfied.\n",
      "Number of iterations: 73, function evaluations: 365, CG iterations: 248, optimality: 7.43e-01, constraint violation: 0.00e+00, execution time: 4.8e+02 s.\n",
      "CPU times: user 7min 53s, sys: 10.3 s, total: 8min 4s\n",
      "Wall time: 8min 3s\n"
     ]
    }
   ],
   "source": [
    "%%time\n",
    "\n",
    "sol1 = minimize(\n",
    "            gate_tuner,\n",
    "            initial_condition,\n",
    "            args=args,\n",
    "            # ftol = 1e-3,\n",
    "            # verbose = 2,\n",
    "            # max_nfev= 15\n",
    "    # bounds = bounds,\n",
    "    method = 'trust-constr',\n",
    "            options = {'disp': True, 'verbose': 2,\n",
    "                      'initial_tr_radius': 1e-3, 'gtol': 1e0}\n",
    "        )"
   ]
  },
  {
   "cell_type": "code",
   "execution_count": 151,
   "id": "7fee554f-641a-413e-95f1-1c32821abefe",
   "metadata": {},
   "outputs": [],
   "source": [
    "x = sol1.x\n",
    "\n",
    "voltages = {}\n",
    "    \n",
    "voltages['left_1'] = x[0]\n",
    "voltages['left_2'] = voltages['left_1']\n",
    "voltages['right_1'] = x[1]\n",
    "voltages['right_2'] = voltages['right_1']\n",
    "voltages['top_1'] = x[2]\n",
    "voltages['top_2'] = voltages['top_1']\n",
    "voltages['global_accumul'] = x[3]"
   ]
  },
  {
   "cell_type": "code",
   "execution_count": 152,
   "id": "fa679b96-32b0-4e87-a009-bd2c675f27a6",
   "metadata": {},
   "outputs": [],
   "source": [
    "potential = gate_potential(\n",
    "        poisson_system,\n",
    "        linear_problem,\n",
    "        site_coords[:, [0, 1]],\n",
    "        site_indices,\n",
    "        voltages,\n",
    "        charges,\n",
    "        offset = offset[[0, 1]],\n",
    "        grid_spacing = kwant_params['grid_spacing']\n",
    "    )\n",
    "\n",
    "potential.update((x, y*-1) for x, y in potential.items())\n",
    "\n",
    "params.update(potential=potential)"
   ]
  },
  {
   "cell_type": "code",
   "execution_count": 153,
   "id": "fb7bebe4-8d38-4001-a7fc-0a7cd4e47f81",
   "metadata": {},
   "outputs": [],
   "source": [
    "f_mu = f_params(**params)['mu']"
   ]
  },
  {
   "cell_type": "code",
   "execution_count": 154,
   "id": "a15dd351-86d3-46d7-b943-316423d132cf",
   "metadata": {},
   "outputs": [],
   "source": [
    "def plot_f_mu(i):\n",
    "    x, y = trijunction.sites[i].pos\n",
    "    return f_mu(x, y)"
   ]
  },
  {
   "cell_type": "code",
   "execution_count": 155,
   "id": "eb68bb27-823a-4e10-afec-ec1b84dd42a2",
   "metadata": {},
   "outputs": [],
   "source": [
    "kwant_sites = np.array(list(site.pos for site in trijunction.sites))"
   ]
  },
  {
   "cell_type": "code",
   "execution_count": 156,
   "id": "4fba466b-c828-45eb-9110-c5dab24243bc",
   "metadata": {},
   "outputs": [],
   "source": [
    "to_plot = [plot_f_mu(i) for i in range(len(kwant_sites))]"
   ]
  },
  {
   "cell_type": "code",
   "execution_count": 157,
   "id": "22b88129-5c1c-4932-8c19-6ea3397d3c4f",
   "metadata": {},
   "outputs": [],
   "source": [
    "grid_points = poisson_system.grid.points\n",
    "voltage_regions = poisson_system.regions.voltage.tag_points"
   ]
  },
  {
   "cell_type": "code",
   "execution_count": 158,
   "id": "6255d7a6-d2df-4ecc-ba5a-78226c74d6b9",
   "metadata": {},
   "outputs": [
    {
     "data": {
      "image/png": "[encoded data removed]",
      "text/plain": [
       "<Figure size 504x360 with 2 Axes>"
      ]
     },
     "metadata": {
      "needs_background": "light"
     },
     "output_type": "display_data"
    }
   ],
   "source": [
    "fig, ax = plt.subplots(1, 1, figsize = (7, 5))\n",
    "cax = ax.scatter(kwant_sites[:, 0 ], kwant_sites[:, 1], \n",
    "                 c = np.array(to_plot), cmap = 'gist_heat_r'\n",
    "                );\n",
    "ax.set_ylim(0, 0.6e-6);\n",
    "plt.colorbar(cax);\n",
    "# plt.axis('equal')"
   ]
  },
  {
   "cell_type": "code",
   "execution_count": 160,
   "id": "fa721f3d-b8ab-48aa-b796-66860a0a03b0",
   "metadata": {},
   "outputs": [
    {
     "name": "stdout",
     "output_type": "stream",
     "text": [
      "0.20599757522777676\n"
     ]
    }
   ],
   "source": [
    "summed_ham = sum(\n",
    "[\n",
    "        linear_ham[key] * voltages[key]\n",
    "        for key, value in linear_ham.items()\n",
    "    ]\n",
    ")\n",
    "\n",
    "tight_binding_hamiltonian = base_hamiltonian + summed_ham\n",
    "\n",
    "\n",
    "eigval, eigvec = sl.sort_eigen(sparse.linalg.eigsh(tight_binding_hamiltonian.tocsc(), \n",
    "                                                   k=6, sigma = 0))\n",
    "\n",
    "lowest_e_indices = np.argsort(np.abs(eigval))[: 6]\n",
    "lowest_e_energies = eigval[lowest_e_indices]\n",
    "coupled_states = eigvec.T[:, lowest_e_indices].T\n",
    "\n",
    "# Overlap matrix\n",
    "decoupled_states = mlwf\n",
    "S = coupled_states @ decoupled_states.T.conj()\n",
    "\n",
    "# Unitary matrix using SVD\n",
    "U, _, Vh = svd(S)\n",
    "S_prime = U @ Vh\n",
    "\n",
    "# Transform coupled Hamiltonian to Majorana basis\n",
    "coupled_ham = S_prime.T.conj() @ np.diag(lowest_e_energies) @ S_prime\n",
    "\n",
    "print(np.abs((coupled_ham[2:5, 2:5])[0,2])/params['Delta'])"
   ]
  },
  {
   "cell_type": "code",
   "execution_count": 161,
   "id": "909ba31b-bf10-4c24-a174-5ee224dd3a3b",
   "metadata": {},
   "outputs": [
    {
     "data": {
      "image/png": "[encoded data removed]",
      "text/plain": [
       "<Figure size 432x288 with 2 Axes>"
      ]
     },
     "metadata": {
      "needs_background": "light"
     },
     "output_type": "display_data"
    }
   ],
   "source": [
    "kwant.plotter.density(trijunction, density(coupled_states[-1]));"
   ]
  },
  {
   "cell_type": "raw",
   "id": "618fa1ce-59a7-4afb-a723-d58c8c36d68d",
   "metadata": {},
   "source": [
    "import pickle"
   ]
  },
  {
   "cell_type": "code",
   "execution_count": 163,
   "id": "da0170e7-2781-430c-a28e-3f3ffdda85e1",
   "metadata": {},
   "outputs": [],
   "source": [
    "optimum_voltages = {}\n",
    "with open(\"/home/tinkerer/trijunction-design/data/LR_voltages.pkl\", 'rb') as infile:\n",
    "    optimum_voltages['LR'] = pickle.load(infile)\n",
    "    \n",
    "with open(\"/home/tinkerer/trijunction-design/data/LC_voltages.pkl\", 'rb') as infile:\n",
    "    optimum_voltages['LC'] = pickle.load(infile)\n",
    "    \n",
    "with open(\"/home/tinkerer/trijunction-design/data/CR_voltages.pkl\", 'rb') as infile:\n",
    "    optimum_voltages['CR'] = pickle.load(infile)"
   ]
  },
  {
   "cell_type": "code",
   "execution_count": 164,
   "id": "45a8c9af-8d9f-4bc5-9daf-02edf88646a7",
   "metadata": {},
   "outputs": [
    {
     "name": "stderr",
     "output_type": "stream",
     "text": [
      "100%|██████████| 7/7 [00:04<00:00,  1.46it/s]\n"
     ]
    },
    {
     "name": "stdout",
     "output_type": "stream",
     "text": [
      "0.00013948485514774731\n"
     ]
    },
    {
     "name": "stderr",
     "output_type": "stream",
     "text": [
      "100%|██████████| 7/7 [00:04<00:00,  1.52it/s]\n"
     ]
    },
    {
     "name": "stdout",
     "output_type": "stream",
     "text": [
      "0.00010258611045929488\n"
     ]
    },
    {
     "name": "stderr",
     "output_type": "stream",
     "text": [
      "100%|██████████| 7/7 [00:04<00:00,  1.42it/s]\n"
     ]
    },
    {
     "name": "stdout",
     "output_type": "stream",
     "text": [
      "0.00011244328071718932\n"
     ]
    },
    {
     "data": {
      "image/png": "[encoded data removed]",
      "text/plain": [
       "<Figure size 360x360 with 3 Axes>"
      ]
     },
     "metadata": {},
     "output_type": "display_data"
    }
   ],
   "source": [
    "fig, ax = plt.subplots(1, 3, figsize = (5, 5), sharey = True)\n",
    "\n",
    "coupling_strength = {}\n",
    "\n",
    "for index, pairs in enumerate(zip([[0, 1], [0, 2], [1, 2]], ['LR', 'LC', 'CR'])):\n",
    "    indices, pair = pairs\n",
    "    \n",
    "    base_hamiltonian, linear_ham = linear_Hamiltonian(poisson_params, \n",
    "                                                  kwant_params, \n",
    "                                                  params, \n",
    "                                                  list(voltage_regions.keys()),\n",
    "                                                  phis = optimal_phis[pair])\n",
    "    summed_ham = sum(\n",
    "        [\n",
    "            linear_ham[key] * optimum_voltages[pair][key]\n",
    "            for key, value in linear_ham.items()\n",
    "        ]\n",
    "    )\n",
    "\n",
    "    tight_binding_hamiltonian = base_hamiltonian + summed_ham\n",
    "\n",
    "\n",
    "    eigval, eigvec = sl.sort_eigen(sparse.linalg.eigsh(tight_binding_hamiltonian.tocsc(), \n",
    "                                                       k=6, sigma = 0))\n",
    "\n",
    "    lowest_e_indices = np.argsort(np.abs(eigval))[: 6]\n",
    "    lowest_e_energies = eigval[lowest_e_indices]\n",
    "    coupled_states = eigvec.T[:, lowest_e_indices].T\n",
    "\n",
    "    \n",
    "    cax = kwant.plotter.density(trijunction, density(coupled_states[-1]), ax = ax[index]);\n",
    "    \n",
    "    ax[index].set_xticks([])\n",
    "    ax[index].set_yticks([])\n",
    "\n",
    "    # Overlap matrix\n",
    "    decoupled_states = mlwf\n",
    "    S = coupled_states @ decoupled_states.T.conj()\n",
    "\n",
    "    # Unitary matrix using SVD\n",
    "    U, _, Vh = svd(S)\n",
    "    S_prime = U @ Vh\n",
    "\n",
    "    # Transform coupled Hamiltonian to Majorana basis\n",
    "    coupled_ham = S_prime.T.conj() @ np.diag(lowest_e_energies) @ S_prime\n",
    "\n",
    "    print(np.abs((coupled_ham[2:5, 2:5])[indices[0], indices[1]]))\n",
    "    \n",
    "    \n",
    "    coupling_strength[pair] = np.round(np.abs((coupled_ham[2:5, 2:5]/topo_gap)[indices[0], indices[1]]\n",
    "                                                            ), \n",
    "                                                      3\n",
    "                                                     )\n",
    "    \n",
    "    ax[index].set_title(r'${}\\Delta_t$'.format(coupling_strength[pair]))"
   ]
  },
  {
   "cell_type": "code",
   "execution_count": 165,
   "id": "f4c8be8f-ac94-46c8-813c-112d32fe343b",
   "metadata": {},
   "outputs": [
    {
     "data": {
      "text/plain": [
       "{'LR': 0.421, 'LC': 0.31, 'CR': 0.339}"
      ]
     },
     "execution_count": 165,
     "metadata": {},
     "output_type": "execute_result"
    }
   ],
   "source": [
    "coupling_strength = {'LR': 0.421, 'LC': 0.31, 'CR': 0.339} #unit: Topological gap"
   ]
  },
  {
   "cell_type": "code",
   "execution_count": null,
   "id": "bfcd168a-539e-437b-ab98-a5ea2cef02aa",
   "metadata": {},
   "outputs": [],
   "source": []
  }
 ],
 "metadata": {
  "kernelspec": {
   "display_name": "Python 3 (ipykernel)",
   "language": "python",
   "name": "python3"
  },
  "language_info": {
   "codemirror_mode": {
    "name": "ipython",
    "version": 3
   },
   "file_extension": ".py",
   "mimetype": "text/x-python",
   "name": "python",
   "nbconvert_exporter": "python",
   "pygments_lexer": "ipython3",
   "version": "3.10.4"
  }
 },
 "nbformat": 4,
 "nbformat_minor": 5
}
