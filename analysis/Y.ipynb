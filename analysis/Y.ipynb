{
 "cells": [
  {
   "cell_type": "code",
   "execution_count": null,
   "id": "f8af4325-cb1d-497e-939c-800e15d15096",
   "metadata": {},
   "outputs": [],
   "source": []
  },
  {
   "cell_type": "code",
   "execution_count": 1,
   "id": "21c76eab-e8f2-4222-80a7-36d75ac9b5bf",
   "metadata": {
    "tags": []
   },
   "outputs": [
    {
     "name": "stdout",
     "output_type": "stream",
     "text": [
      "VoronoiMesh version 0.1\n",
      "DiscretePoisson version 0.3\n",
      "Shape version: 0.1\n",
      "SystEquations version: 0.3\n",
      "Solver version 0.1\n"
     ]
    }
   ],
   "source": [
    "## popular python packages\n",
    "import numpy as np\n",
    "import matplotlib.pyplot as plt\n",
    "from dask_quantumtinkerer import Cluster, cluster_options\n",
    "from dask.distributed import wait, as_completed\n",
    "import tinyarray as ta\n",
    "from itertools import product\n",
    "\n",
    "# packages used here\n",
    "import kwant\n",
    "\n",
    "import sys, os\n",
    "\n",
    "# pre-defined functions\n",
    "sys.path.append(os.path.realpath('./../code/'))\n",
    "from optimization import Optimize, optimize_phase, optimize_voltage\n",
    "import parameters\n",
    "from constants import scale, majorana_pair_indices\n",
    "from utils import voltage_dict, eigsh, svd_transformation, hamiltonian\n",
    "from parallel import parameter_tuning\n",
    "\n",
    "sys.path.append(os.path.realpath('./../spin-qubit/'))"
   ]
  },
  {
   "cell_type": "raw",
   "id": "989e2bec-00e8-4174-a83e-809773856746",
   "metadata": {
    "tags": []
   },
   "source": [
    "options = cluster_options()\n",
    "options.worker_cores = 2\n",
    "options.worker_memory = 5\n",
    "options.extra_path = \"/home/srangaswamykup/trijunction_design/code/\"\n",
    "cluster_dashboard_link = \"http://io.quantumtinkerer.tudelft.nl/user/srangaswamykup/proxy/\""
   ]
  },
  {
   "cell_type": "raw",
   "id": "4cfbd8c9-2d87-42ec-b108-c32d2a60ea2d",
   "metadata": {},
   "source": [
    "dielectric_thickness = np.arange(1.0, 4, 0.5)\n",
    "width = range(7, 15, 2)\n",
    "length = range(30, 50, 3)\n",
    "angle = [np.pi/6, np.pi/4, np.pi/3]\n",
    "\n",
    "sequence = np.array(list(product(dielectric_thickness, width, length, angle)))[150:250]"
   ]
  },
  {
   "cell_type": "raw",
   "id": "8f7d8fe5-85bc-4dec-a95a-dbf5fc275c30",
   "metadata": {},
   "source": [
    "sequence[0]"
   ]
  },
  {
   "cell_type": "raw",
   "id": "4bd9f2f9-10f3-477f-ac72-4c5d71db8ad7",
   "metadata": {
    "tags": []
   },
   "source": [
    "error = []\n",
    "for seq in sequence:\n",
    "    try:\n",
    "        parameter_tuning(seq)\n",
    "    except AssertionError:\n",
    "        error.append(seq)\n",
    "        pass"
   ]
  },
  {
   "cell_type": "raw",
   "id": "6b9accac-e2e3-4c19-90c6-6ef8d69b54d0",
   "metadata": {
    "tags": []
   },
   "source": [
    "SAVE_AT = \"/home/tinkerer/trijunction-design/data/results/\"\n",
    "\n",
    "with Cluster(options) as cluster:\n",
    "    \n",
    "\n",
    "    cluster.scale(n=100)\n",
    "    client = cluster.get_client()\n",
    "    print(cluster_dashboard_link + cluster.dashboard_link[17:])\n",
    "    futures = client.map(parameter_tuning, sequence)\n",
    "    result = client.gather(futures, errors = 'skip')\n",
    "\n",
    "    # wait(futures)\n",
    "#     for future, result in as_completed(futures, with_results=True):\n",
    "#         if future.status == \"error\":\n",
    "#             print(\"Error!\")\n",
    "#             results.append(\"E\")\n",
    "#         else:\n",
    "#             results.append(result)\n",
    "#             filename = SAVE_AT + str(thickness) + \"_\" + str(gap) + \"_\" + \".pkl\"\n",
    "#             with open(filename, \"wb\") as outfile:\n",
    "#                 pickle.dump(results[-1], outfile)\n",
    "                "
   ]
  },
  {
   "cell_type": "code",
   "execution_count": 3,
   "id": "d3f01f63-f17f-4b5a-8539-acfe14a0654c",
   "metadata": {
    "tags": []
   },
   "outputs": [],
   "source": [
    "def return_couplings(x):\n",
    "    data = []\n",
    "    for res in x:\n",
    "        data.append(np.max(np.array(res[1]), axis = 0))\n",
    "    return np.array(data)"
   ]
  },
  {
   "cell_type": "code",
   "execution_count": 2,
   "id": "35de1aa8-692f-4784-883b-d3a0755b3df5",
   "metadata": {
    "tags": []
   },
   "outputs": [],
   "source": [
    "import pickle\n",
    "SAVE_AT = \"/home/tinkerer/trijunction-design/data/results/\"\n",
    "# filename = SAVE_AT + \"results_2508.pkl\"\n",
    "# with open(filename, \"rb\") as outfile:\n",
    "#     result = pickle.load(outfile)\n",
    "    \n",
    "# couplings_25 = return_couplings(result)\n",
    "    \n",
    "filename = SAVE_AT + \"results_2608.pkl\"\n",
    "with open(filename, \"rb\") as outfile:\n",
    "    result = pickle.load(outfile)\n",
    "    \n",
    "# couplings_26 = return_couplings(result)"
   ]
  },
  {
   "cell_type": "code",
   "execution_count": 3,
   "id": "3d6c63e7-8a9e-4c9e-bb56-1ff784a8fa35",
   "metadata": {},
   "outputs": [],
   "source": [
    "import json\n",
    "with open(\"/home/tinkerer/trijunction-design/code/config.json\", \"r\") as outfile:\n",
    "    config = json.load(outfile)"
   ]
  },
  {
   "cell_type": "code",
   "execution_count": 4,
   "id": "c422c73a-4b27-492e-9094-9aa43f279fa5",
   "metadata": {
    "tags": []
   },
   "outputs": [
    {
     "name": "stdout",
     "output_type": "stream",
     "text": [
      "Finding closed voronoi cells\n",
      "Done selecting closed voronoi cells\n",
      "Calculating points distance\n",
      "Done\n",
      "Calculating ridges hypersurfaces\n",
      "Done\n",
      "Finding  hypervolume for closed voronoi cells\n",
      "Done finding hypervolume for closed voronoi cells\n",
      "Done calculating surface\n",
      "Done calculating distance\n",
      "Done calculating capacitance matrix\n",
      "Finding linear part of the tight-binding Hamiltonian\n"
     ]
    },
    {
     "name": "stderr",
     "output_type": "stream",
     "text": [
      "100%|██████████| 13/13 [00:33<00:00,  2.61s/it]\n"
     ]
    },
    {
     "name": "stdout",
     "output_type": "stream",
     "text": [
      "CPU times: user 2min 40s, sys: 8.89 s, total: 2min 49s\n",
      "Wall time: 2min 49s\n"
     ]
    }
   ],
   "source": [
    "%%time\n",
    "\n",
    "optimize = Optimize(\n",
    "    config, poisson_system=[], linear_problem=[], boundaries=[], scale=scale\n",
    ")\n",
    "\n",
    "# thickness, gap = newconfig\n",
    "\n",
    "change_config = [\n",
    "    {\"device\": {\"thickness\": {\"dielectric\": 1.0}}},\n",
    "    {\"gate\": {\"channel_width\": 13.0, 'angle': np.pi/6, 'gap': 2}},\n",
    "]\n",
    "\n",
    "_, boundaries, poisson_system, linear_problem = optimize.changeconfig(change_config)"
   ]
  },
  {
   "cell_type": "code",
   "execution_count": 5,
   "id": "fedbd55f-03aa-4a4e-ac80-85a0e1bcdd4f",
   "metadata": {},
   "outputs": [],
   "source": [
    "voltages, phase = result[6][2:]"
   ]
  },
  {
   "cell_type": "code",
   "execution_count": 17,
   "id": "4ab05d43-087c-4e7f-a5eb-8e05832f4560",
   "metadata": {
    "tags": []
   },
   "outputs": [],
   "source": [
    "from potential import gate_potential\n",
    "\n",
    "\n",
    "pot = gate_potential(\n",
    "    optimize.poisson_system,\n",
    "    optimize.linear_problem,\n",
    "    optimize.site_coords[:, [0, 1]],\n",
    "    optimize.site_indices,\n",
    "    voltage_dict(optimal_voltages['left-right'].x, True),\n",
    "    {},\n",
    "    offset=optimize.offset[[0, 1]],\n",
    ")\n",
    "\n",
    "\n",
    "# pot = dict(zip(ta.array(optimize.site_coords[:, [0, 1]]), \n",
    "#                      np.zeros(len(optimize.site_coords))))\n",
    "\n",
    "params.update(potential=pot)\n",
    "\n",
    "# params.update(phase['left-right'])\n",
    "\n",
    "poisson_sites = np.array(list(pot.keys()))\n",
    "kwant_sites = np.array([site.pos for site in optimize.trijunction.sites])\n"
   ]
  },
  {
   "cell_type": "code",
   "execution_count": 18,
   "id": "05237492-c437-4a97-ab3d-cd6ae0a22bb5",
   "metadata": {},
   "outputs": [],
   "source": [
    "kwant_params = optimize.f_params(**params)"
   ]
  },
  {
   "cell_type": "code",
   "execution_count": 50,
   "id": "569339cb-7095-458b-a4de-bb1e587ac4cd",
   "metadata": {
    "tags": []
   },
   "outputs": [],
   "source": [
    "mu = parameters.bands[0]\n",
    "from optimization import dep_acc_regions, potential_shape_loss\n",
    "\n",
    "dep_points, acc_points = utils.dep_acc_regions(\n",
    "            optimize.poisson_system, optimize.site_indices, optimize.nw_centers, 'left-right'\n",
    "        )\n",
    "x = [0.004, 0.004, 0.004, 0.0023]\n",
    "\n",
    "potential, potential_loss = potential_shape_loss(\n",
    "    x,\n",
    "    optimize.poisson_system,\n",
    "    optimize.optimizer_args['poisson_params'],\n",
    "    mu,\n",
    "    dep_points,\n",
    "    acc_points\n",
    ")"
   ]
  },
  {
   "cell_type": "code",
   "execution_count": 5,
   "id": "402bc70c-7bd7-4a66-bcfe-a0af049d35fe",
   "metadata": {},
   "outputs": [],
   "source": [
    "from utils import dep_acc_regions\n",
    "dep_points, acc_points = dep_acc_regions(\n",
    "    optimize.poisson_system, optimize.site_indices, optimize.nw_centers, 'left-right'\n",
    ")"
   ]
  },
  {
   "cell_type": "code",
   "execution_count": 6,
   "id": "4881fb6f-8951-4ee5-853f-eaa25637db3d",
   "metadata": {},
   "outputs": [
    {
     "data": {
      "image/png": "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\n",
      "text/plain": [
       "<Figure size 640x480 with 1 Axes>"
      ]
     },
     "metadata": {},
     "output_type": "display_data"
    }
   ],
   "source": [
    "grid = optimize.poisson_system.grid.points\n",
    "twodeg_grid = optimize.site_coords\n",
    "for gate, indices in optimize.poisson_system.regions.voltage.tag_points.items():\n",
    "    g = grid[indices]\n",
    "    if gate.split('_')[0] not in ['global', 'dirichlet']:\n",
    "        plt.scatter(g[:, 0], g[:, 1], s = 0.1, alpha = 1)\n",
    "\n",
    "for _, indices in dep_points.items():\n",
    "    point = optimize.site_coords[indices[0]]\n",
    "    plt.scatter(point[0], point[1])"
   ]
  },
  {
   "cell_type": "code",
   "execution_count": 13,
   "id": "b6a0a5e1-11e7-4ff0-99c8-1f31f5cb02bd",
   "metadata": {},
   "outputs": [],
   "source": [
    "phase = optimal_phase['left-right']"
   ]
  },
  {
   "cell_type": "code",
   "execution_count": 125,
   "id": "c34a32ae-7952-4578-b460-13592048e5a2",
   "metadata": {},
   "outputs": [],
   "source": [
    "voltage = [0.5, 0.5, 0.5, 0.5]"
   ]
  },
  {
   "cell_type": "code",
   "execution_count": 20,
   "id": "f1976af7-b38d-47a1-aa1e-1701521aaa04",
   "metadata": {},
   "outputs": [],
   "source": [
    "mu = parameters.bands[0]\n",
    "params = parameters.junction_parameters(m_nw=[mu, mu, mu])"
   ]
  },
  {
   "cell_type": "code",
   "execution_count": 21,
   "id": "48b28f09-7af6-43c3-92ca-d77cb17f56a4",
   "metadata": {},
   "outputs": [],
   "source": [
    "potential = dict(zip(ta.array(optimize.site_coords[:, [0, 1]]), \n",
    "                     np.zeros(len(optimize.site_coords))))\n",
    "params.update(potential=potential)\n",
    "\n",
    "params.update(optimal_phase['left-right'])\n",
    "\n",
    "kwant_params = {**params, **optimize.optimizer_args['linear_terms']}\n",
    "\n",
    "numerical_hamiltonian = hamiltonian(\n",
    "        optimize.trijunction, \n",
    "        voltage_dict(optimal_voltages['left-right'].x, True),\n",
    "        optimize.f_params, **kwant_params\n",
    "    )"
   ]
  },
  {
   "cell_type": "raw",
   "id": "c7db9955-7b28-485a-a8bf-3f3aa48b6066",
   "metadata": {},
   "source": [
    "base_ham = optimize.trijunction.hamiltonian_submatrix(\n",
    "        sparse=True, params=optimize.f_params(**kwant_params)\n",
    "    )\n",
    "\n",
    "summed_ham = sum(\n",
    "        [\n",
    "            voltage_dict(optimal_voltages['left-right'].x, True)[key] * kwant_params[key]\n",
    "            for key, value in voltage_dict(optimal_voltages['left-right'].x, True).items()\n",
    "        ]\n",
    "    )"
   ]
  },
  {
   "cell_type": "raw",
   "id": "f5daccc7-90ad-4437-8437-deb92161c925",
   "metadata": {},
   "source": [
    "numerical_hamiltonian = base_ham + summed_ham"
   ]
  },
  {
   "cell_type": "code",
   "execution_count": 22,
   "id": "0f1298ce-f168-4a66-81a1-37a48da0a9fa",
   "metadata": {},
   "outputs": [],
   "source": [
    "from constants import majorana_pair_indices\n",
    "pair_indices = majorana_pair_indices['left-right'].copy()\n",
    "\n",
    "pair_indices.append(list(set(range(3)) - set(pair_indices))[0])\n",
    "shuffle = pair_indices + [-3, -2, -1]\n",
    "desired_order = np.array(list(range(2, 5)) + list(range(2)) + [5])[shuffle]\n",
    "\n",
    "reference_wave_functions = optimize.mlwf[desired_order]"
   ]
  },
  {
   "cell_type": "raw",
   "id": "a2c270a7-4910-4033-ad2f-b601f2403188",
   "metadata": {},
   "source": [
    "voltage = voltages['left-right'].copy()\n",
    "voltage['left_1'] += 5e-3\n",
    "voltage['right_1'] += 5e-3\n",
    "voltage['left_2'] = voltage['left_1']\n",
    "voltage['right_2'] = voltage['right_1']\n",
    "\n",
    "numerical_hamiltonian = hamiltonian(\n",
    "        optimize.trijunction, \n",
    "        voltage,\n",
    "        optimize.f_params, **kwant_params\n",
    "    )"
   ]
  },
  {
   "cell_type": "code",
   "execution_count": 23,
   "id": "1c68ccf3-8303-415d-98ba-ae39ce3a307b",
   "metadata": {},
   "outputs": [
    {
     "data": {
      "image/png": "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\n",
      "text/plain": [
       "<Figure size 1000x500 with 6 Axes>"
      ]
     },
     "metadata": {},
     "output_type": "display_data"
    }
   ],
   "source": [
    "from utils import eigsh\n",
    "import scipy.sparse.linalg as sla\n",
    "energies, wave_functions = sla.eigsh(numerical_hamiltonian.tocsc(),\n",
    "                                   len(reference_wave_functions),\n",
    "                                   sigma=0,\n",
    "                                   return_eigenvectors=True\n",
    "                                  )\n",
    "\n",
    "# energies, wave_functions = eigsh(\n",
    "#     numerical_hamiltonian.tocsc(),\n",
    "#     len(reference_wave_functions),\n",
    "#     sigma=0,\n",
    "#     return_eigenvectors=True,\n",
    "# )\n",
    "\n",
    "fig, ax = plt.subplots(1, len(wave_functions.T), figsize = (10, 5), sharey= True)\n",
    "\n",
    "density = kwant.operator.Density(optimize.trijunction, np.eye(4))\n",
    "for i, vec in enumerate(wave_functions.T):\n",
    "    kwant.plotter.density(optimize.trijunction, \n",
    "                          density(vec), \n",
    "                          ax = ax[i]\n",
    "                         );\n",
    "    "
   ]
  },
  {
   "cell_type": "code",
   "execution_count": 24,
   "id": "a5d3f325-5251-4d0e-afd2-b14aed2f05ea",
   "metadata": {},
   "outputs": [],
   "source": [
    "transformed_hamiltonian = (\n",
    "    svd_transformation(energies, \n",
    "                       wave_functions, \n",
    "                       reference_wave_functions)\n",
    ")\n",
    "\n",
    "desired = np.abs(transformed_hamiltonian[0, 1])"
   ]
  },
  {
   "cell_type": "code",
   "execution_count": 25,
   "id": "6cbbcafd-e3ab-458a-9ac5-93fcf1f5ebc7",
   "metadata": {},
   "outputs": [],
   "source": [
    "from sympy import Matrix"
   ]
  },
  {
   "cell_type": "code",
   "execution_count": 26,
   "id": "22b5d6f7-baf8-4887-ad03-cb49e5571e5d",
   "metadata": {},
   "outputs": [
    {
     "data": {
      "text/latex": [
       "$\\displaystyle \\left[\\begin{matrix}2.0071897528028 \\cdot 10^{-10} & 0.0221176869108262 - 5.98941862348012 \\cdot 10^{-5} i & -5.91541744171826 \\cdot 10^{-7} - 3.83540183910507 \\cdot 10^{-7} i & -6.11533539544274 \\cdot 10^{-5} + 1.1444551517546 \\cdot 10^{-8} i & 6.10741101268962 \\cdot 10^{-7} + 6.8290136877945 \\cdot 10^{-7} i & -2.8046762705259 \\cdot 10^{-6} + 1.35839457637585 \\cdot 10^{-6} i\\\\0.0221176869108262 + 5.98941862348012 \\cdot 10^{-5} i & -2.0071864632993 \\cdot 10^{-10} - 3.97763422406221 \\cdot 10^{-19} i & 1.42298540600964 \\cdot 10^{-6} - 2.18173353110373 \\cdot 10^{-6} i & -1.07490957205188 \\cdot 10^{-6} - 9.34698551330335 \\cdot 10^{-5} i & -7.91268791397818 \\cdot 10^{-5} - 4.66926318091288 \\cdot 10^{-5} i & 6.15259241540988 \\cdot 10^{-7} + 1.27914327401931 \\cdot 10^{-6} i\\\\-5.91541744171826 \\cdot 10^{-7} + 3.83540183910507 \\cdot 10^{-7} i & 1.42298540600964 \\cdot 10^{-6} + 2.18173353110373 \\cdot 10^{-6} i & 3.79638539644964 \\cdot 10^{-15} & 1.31148840632043 \\cdot 10^{-6} + 2.25595490497494 \\cdot 10^{-6} i & -8.87418850458693 \\cdot 10^{-6} + 2.31200015328096 \\cdot 10^{-7} i & 4.67842417774818 \\cdot 10^{-5} + 2.83327490615526 \\cdot 10^{-5} i\\\\-6.11533539544273 \\cdot 10^{-5} - 1.14445515175367 \\cdot 10^{-8} i & -1.07490957205188 \\cdot 10^{-6} + 9.34698551330334 \\cdot 10^{-5} i & 1.31148840632043 \\cdot 10^{-6} - 2.25595490497494 \\cdot 10^{-6} i & -1.45253550193443 \\cdot 10^{-10} & -4.3332019527318 \\cdot 10^{-9} - 2.62758779861138 \\cdot 10^{-9} i & -4.94482149886634 \\cdot 10^{-9} - 1.03363844136081 \\cdot 10^{-8} i\\\\6.10741101268952 \\cdot 10^{-7} - 6.82901368779444 \\cdot 10^{-7} i & -7.91268791397817 \\cdot 10^{-5} + 4.66926318091288 \\cdot 10^{-5} i & -8.87418850458693 \\cdot 10^{-6} - 2.31200015328096 \\cdot 10^{-7} i & -4.33320195273177 \\cdot 10^{-9} + 2.62758779861139 \\cdot 10^{-9} i & 1.45269816714205 \\cdot 10^{-10} & 2.18094416611719 \\cdot 10^{-9} - 3.06500049840058 \\cdot 10^{-9} i\\\\-2.8046762705259 \\cdot 10^{-6} - 1.35839457637585 \\cdot 10^{-6} i & 6.15259241540988 \\cdot 10^{-7} - 1.27914327401931 \\cdot 10^{-6} i & 4.67842417774818 \\cdot 10^{-5} - 2.83327490615526 \\cdot 10^{-5} i & -4.94482149886634 \\cdot 10^{-9} + 1.03363844136083 \\cdot 10^{-8} i & 2.18094416611694 \\cdot 10^{-9} + 3.06500049840097 \\cdot 10^{-9} i & 8.04865584164123 \\cdot 10^{-15} - 1.5537633687743 \\cdot 10^{-21} i\\end{matrix}\\right]$"
      ],
      "text/plain": [
       "Matrix([\n",
       "[                         2.0071897528028e-10,    0.0221176869108262 - 5.98941862348012e-5*I, -5.91541744171826e-7 - 3.83540183910507e-7*I,  -6.11533539544274e-5 + 1.1444551517546e-8*I,   6.10741101268962e-7 + 6.8290136877945e-7*I,  -2.8046762705259e-6 + 1.35839457637585e-6*I],\n",
       "[  0.0221176869108262 + 5.98941862348012e-5*I, -2.0071864632993e-10 - 3.97763422406221e-19*I,  1.42298540600964e-6 - 2.18173353110373e-6*I, -1.07490957205188e-6 - 9.34698551330335e-5*I, -7.91268791397818e-5 - 4.66926318091288e-5*I,  6.15259241540988e-7 + 1.27914327401931e-6*I],\n",
       "[-5.91541744171826e-7 + 3.83540183910507e-7*I,   1.42298540600964e-6 + 2.18173353110373e-6*I,                         3.79638539644964e-15,  1.31148840632043e-6 + 2.25595490497494e-6*I, -8.87418850458693e-6 + 2.31200015328096e-7*I,  4.67842417774818e-5 + 2.83327490615526e-5*I],\n",
       "[-6.11533539544273e-5 - 1.14445515175367e-8*I,  -1.07490957205188e-6 + 9.34698551330334e-5*I,  1.31148840632043e-6 - 2.25595490497494e-6*I,                        -1.45253550193443e-10,  -4.3332019527318e-9 - 2.62758779861138e-9*I, -4.94482149886634e-9 - 1.03363844136081e-8*I],\n",
       "[ 6.10741101268952e-7 - 6.82901368779444e-7*I,  -7.91268791397817e-5 + 4.66926318091288e-5*I, -8.87418850458693e-6 - 2.31200015328096e-7*I, -4.33320195273177e-9 + 2.62758779861139e-9*I,                         1.45269816714205e-10,  2.18094416611719e-9 - 3.06500049840058e-9*I],\n",
       "[ -2.8046762705259e-6 - 1.35839457637585e-6*I,   6.15259241540988e-7 - 1.27914327401931e-6*I,  4.67842417774818e-5 - 2.83327490615526e-5*I, -4.94482149886634e-9 + 1.03363844136083e-8*I,  2.18094416611694e-9 + 3.06500049840097e-9*I, 8.04865584164123e-15 - 1.5537633687743e-21*I]])"
      ]
     },
     "execution_count": 26,
     "metadata": {},
     "output_type": "execute_result"
    }
   ],
   "source": [
    "Matrix(transformed_hamiltonian/optimize.topological_gap)"
   ]
  },
  {
   "cell_type": "code",
   "execution_count": 27,
   "id": "a60948eb-eb6f-42a8-9ca7-b70d4564251d",
   "metadata": {},
   "outputs": [],
   "source": [
<<<<<<< HEAD
    "grid = optimize.poisson_system.grid.points"
   ]
  },
  {
   "cell_type": "raw",
   "id": "b03dea49-caa9-4ce4-ae4e-d1543aa4de40",
   "metadata": {},
   "source": [
    "plt.scatter(poisson_sites[:, 0], poisson_sites[:, 1], c = to_check)\n",
    "# print(min(poisson_sites[:, 0]), max(poisson_sits[:, 0]))\n",
    "plt.colorbar()\n",
    "for gate, indices in optimize.poisson_system.regions.voltage.tag_points.items():\n",
    "    if gate.split('_')[0] not in ['dirichlet', 'global']:\n",
    "        print(gate)\n",
    "        print(min(grid[indices][:, 0]), max(grid[indices][:, 0]))\n",
    "        plt.scatter(grid[indices][:, 0], grid[indices][:, 1], s = 0.1)"
   ]
  },
  {
   "cell_type": "raw",
   "id": "97ead22f-aa02-4fd8-9028-dee2cb6344f6",
   "metadata": {},
   "source": [
    "np.unique(poisson_sites[:, 0])"
   ]
  },
  {
   "cell_type": "code",
   "execution_count": 36,
   "id": "d40cf50c-34e0-4575-bc77-05904e2e4000",
   "metadata": {},
   "outputs": [],
   "source": [
    "g = grid[optimize.poisson_system.regions.charge.tag_points['air']]"
   ]
  },
  {
   "cell_type": "code",
   "execution_count": 37,
   "id": "24c4ff7d-4dbb-4c2f-b2c8-652d2c468be0",
   "metadata": {},
   "outputs": [
    {
     "data": {
      "text/plain": [
       "array([-54.5, -49.5, -44.5, -39.5, -34.5, -29.5, -24.5, -19.5, -14.5,\n",
       "        -9.5,  -4.5,   0.5,   5.5,  10.5,  15.5,  20.5,  25.5,  30.5,\n",
       "        35.5,  40.5,  45.5,  50.5,  55.5])"
      ]
     },
     "execution_count": 37,
     "metadata": {},
     "output_type": "execute_result"
    }
   ],
   "source": [
    "np.unique(g[:, 2])"
   ]
  },
  {
   "cell_type": "raw",
   "id": "010c788c-8031-4a55-8bd9-213f77e8d19f",
   "metadata": {
    "tags": []
   },
   "source": [
    "import plotly.graph_objects as go\n",
=======
    "from utils import voltage_dict\n",
    "from collections import OrderedDict\n",
>>>>>>> master
    "\n",
    "voltages = {}\n",
    "mu = np.round(parameters.bands[0], 4)\n",
    "initial_condition = OrderedDict()\n",
    "for i, pair in enumerate(['left-top', 'right-top', 'left-right']):\n",
    "    initial = [-3.0e-3, -3.0e-3, -3.0e-3, 3e-3]\n",
    "    # initial[i] = -mu * 10\n",
    "    voltages[pair] = voltage_dict(initial, True)\n",
    "    initial_condition[pair] = initial.copy()\n",
    "del initial_condition['left-top']\n",
    "del initial_condition['right-top']"
   ]
  },
  {
   "cell_type": "code",
   "execution_count": 10,
   "id": "4545c1ae-9bb0-4fad-b4f1-3def8ffe8bb0",
   "metadata": {},
   "outputs": [
    {
     "data": {
      "text/plain": [
       "<module 'optimization' from '/home/tinkerer/trijunction-design/code/optimization.py'>"
      ]
     },
     "execution_count": 10,
     "metadata": {},
     "output_type": "execute_result"
    }
   ],
   "source": [
    "import optimization\n",
    "import importlib\n",
    "importlib.reload(optimization)"
   ]
  },
  {
   "cell_type": "code",
   "execution_count": 11,
   "id": "b8073fa3-a6cb-4f41-8036-7ee22dfdca55",
   "metadata": {},
   "outputs": [],
   "source": [
    "kwant_params = {\n",
    "    \"kwant_sys\": optimize.trijunction,\n",
    "    \"kwant_params_fn\": optimize.f_params,\n",
    "    \"general_params\": params,\n",
    "    \"linear_terms\": optimize.optimizer_args[\"linear_terms\"],\n",
    "}\n",
    "\n",
    "zero_potential = dict(\n",
    "    zip(\n",
    "        ta.array(optimize.site_coords[:, [0, 1]] - optimize.offset),\n",
    "        np.zeros(len(optimize.site_coords)),\n",
    "    )\n",
    "    )\n",
    "\n",
    "kwant_params[\"general_params\"].update(potential=zero_potential)\n",
    "optimal_phase = optimization.optimize_phase(\n",
    "           [voltages['left-right']], ['left-right'], kwant_params, 10\n",
    "        )"
   ]
  },
  {
   "cell_type": "code",
   "execution_count": 30,
   "id": "d6cd7ddb-8533-4d59-97c7-c4ff024ba3fc",
   "metadata": {},
   "outputs": [
    {
     "data": {
      "image/png": "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\n",
      "text/plain": [
       "<Figure size 360x360 with 6 Axes>"
      ]
     },
     "metadata": {
      "needs_background": "light"
     },
     "output_type": "display_data"
    }
   ],
   "source": [
    "optimize.plot('DECOUPLED')"
   ]
  },
  {
   "cell_type": "code",
   "execution_count": 15,
   "id": "eaf55ed3-7f29-4b85-8514-e94a3f99194a",
   "metadata": {},
   "outputs": [
    {
     "data": {
      "text/plain": [
       "OrderedDict([('left-right', [-0.003, -0.003, -0.003, 0.003])])"
      ]
     },
     "execution_count": 15,
     "metadata": {},
     "output_type": "execute_result"
    }
   ],
   "source": [
    "initial_condition"
   ]
  },
  {
   "cell_type": "code",
   "execution_count": 16,
   "id": "5b647299-5478-405b-a033-97f573678d81",
   "metadata": {
    "collapsed": true,
    "jupyter": {
     "outputs_hidden": true
    },
    "tags": []
   },
   "outputs": [
    {
     "name": "stdout",
     "output_type": "stream",
     "text": [
      "Optimizing pair left-right\n",
      "0.04075022440656043\n",
      "0.04075025971085777\n",
      "0.04075025971085777\n",
      "0.04075026550223866\n",
      "0.040750231802704984\n",
      "| niter |f evals|CG iter|  obj func   |tr radius |   opt    |  c viol  |\n",
      "|-------|-------|-------|-------------|----------|----------|----------|\n",
      "|   1   |   5   |   0   | +4.1016e-02 | 1.00e-03 | 2.76e+00 | 0.00e+00 |\n",
      "0.03638229586874728\n",
      "0.036382331173044624\n",
      "0.036382331173044624\n",
      "0.0363823369644255\n",
      "0.036382303264891835\n",
      "|   2   |  10   |   1   | +3.6648e-02 | 7.00e-03 | 2.76e+00 | 0.00e+00 |\n",
      "0.005806796104055231\n",
      "0.005806760799757888\n",
      "0.005806760799757888\n",
      "0.005806755008377008\n",
      "0.00580680350019978\n",
      "|   3   |  15   |   2   | +6.0730e-03 | 4.90e-02 | 2.76e+00 | 0.00e+00 |\n",
      "0.028268736334100826\n",
      "0.028268745555947387\n",
      "0.02826874555594739\n",
      "0.02826873680671815\n",
      "0.028268725448088883\n",
      "|   4   |  20   |   3   | +6.0730e-03 | 2.45e-02 | 2.76e+00 | 0.00e+00 |\n",
      "0.013363499448941227\n",
      "0.013363508670787784\n",
      "0.013363508670787793\n",
      "0.013363499921558547\n",
      "0.013363488562929283\n",
      "|   5   |  25   |   4   | +6.0730e-03 | 1.22e-02 | 2.76e+00 | 0.00e+00 |\n",
      "0.005910881006361423\n",
      "0.005910890228207984\n",
      "0.005910890228207985\n",
      "0.005910881478978746\n",
      "0.005910891892373359\n",
      "|   6   |  30   |   5   | +6.0730e-03 | 6.12e-03 | 2.76e+00 | 0.00e+00 |\n",
      "0.002184571785071524\n",
      "0.0021845810069180825\n",
      "0.002184581006918086\n",
      "0.0021845722576888456\n",
      "0.002184582671083461\n",
      "|   7   |  35   |   6   | +2.4508e-03 | 6.12e-03 | 7.31e-01 | 0.00e+00 |\n",
      "0.004735620175785215\n",
      "0.004735593492414857\n",
      "0.004735593492414858\n",
      "0.0047356181680293895\n",
      "0.00473562440593345\n",
      "|   8   |  40   |   7   | +2.4508e-03 | 3.06e-03 | 7.31e-01 | 0.00e+00 |\n",
      "|   9   |  45   |   9   | -2.7569e-01 | 2.14e-02 | 1.62e+04 | 0.00e+00 |\n",
      "0.00955270037114611\n",
      "0.009552709592992672\n",
      "0.00955270959299267\n",
      "0.009552700843763433\n",
      "0.009552711257158045\n",
      "|  10   |  50   |  10   | -2.7569e-01 | 1.07e-02 | 1.62e+04 | 0.00e+00 |\n",
      "0.0043107147838406\n",
      "0.004310724005687163\n",
      "0.004310724005687163\n",
      "0.004310715256457923\n",
      "0.00431072566985254\n",
      "|  11   |  55   |  11   | -2.7569e-01 | 5.36e-03 | 1.62e+04 | 0.00e+00 |\n",
      "0.0016897219901878496\n",
      "0.0016897312120344125\n",
      "0.0016897312120344112\n",
      "0.0016897224628051725\n",
      "0.0016897111041759105\n",
      "|  12   |  60   |  12   | -2.7569e-01 | 2.68e-03 | 1.62e+04 | 0.00e+00 |\n",
      "0.00037922559336147146\n",
      "0.0003792348152080343\n",
      "0.00037923481520803345\n",
      "0.0003792260659787939\n",
      "0.00037921470734953106\n",
      "|  13   |  65   |  13   | -2.7569e-01 | 1.34e-03 | 1.62e+04 | 0.00e+00 |\n",
      "|  14   |  70   |  14   | -6.4152e-01 | 1.34e-03 | 2.68e+04 | 0.00e+00 |\n",
      "|  15   |  75   |  15   | -6.4152e-01 | 6.70e-04 | 2.68e+04 | 0.00e+00 |\n",
      "|  16   |  80   |  17   | -6.4152e-01 | 3.35e-04 | 2.68e+04 | 0.00e+00 |\n",
      "|  17   |  85   |  19   | -6.4152e-01 | 1.67e-04 | 2.68e+04 | 0.00e+00 |\n",
      "|  18   |  90   |  21   | -6.4152e-01 | 8.37e-05 | 2.68e+04 | 0.00e+00 |\n",
      "|  19   |  95   |  23   | -1.4223e+00 | 1.67e-04 | 1.10e+04 | 0.00e+00 |\n",
      "|  20   |  100  |  25   | -1.4223e+00 | 7.22e-05 | 1.10e+04 | 0.00e+00 |\n",
      "|  21   |  105  |  27   | -1.4223e+00 | 3.61e-05 | 1.10e+04 | 0.00e+00 |\n",
      "|  22   |  110  |  29   | -1.6015e+00 | 7.22e-05 | 4.67e+04 | 0.00e+00 |\n",
      "|  23   |  115  |  31   | -1.6015e+00 | 3.61e-05 | 4.67e+04 | 0.00e+00 |\n",
      "|  24   |  120  |  32   | -1.6015e+00 | 1.81e-05 | 4.67e+04 | 0.00e+00 |\n",
      "|  25   |  125  |  33   | -2.0992e+00 | 3.61e-05 | 3.34e+04 | 0.00e+00 |\n",
      "|  26   |  130  |  34   | -2.0992e+00 | 1.75e-05 | 3.34e+04 | 0.00e+00 |\n",
      "|  27   |  135  |  36   | -2.0992e+00 | 8.73e-06 | 3.34e+04 | 0.00e+00 |\n",
      "|  28   |  140  |  37   | -2.2602e+00 | 1.75e-05 | 4.01e+04 | 0.00e+00 |\n",
      "|  29   |  145  |  38   | -2.2602e+00 | 8.03e-06 | 4.01e+04 | 0.00e+00 |\n",
      "|  30   |  150  |  39   | -2.2602e+00 | 4.01e-06 | 4.01e+04 | 0.00e+00 |\n",
      "|  31   |  155  |  40   | -2.3310e+00 | 8.03e-06 | 1.91e+04 | 0.00e+00 |\n",
      "|  32   |  160  |  42   | -2.3310e+00 | 4.01e-06 | 1.91e+04 | 0.00e+00 |\n",
      "|  33   |  165  |  44   | -2.3972e+00 | 2.81e-05 | 1.56e+04 | 0.00e+00 |\n",
      "|  34   |  170  |  46   | -2.7888e+00 | 1.97e-04 | 6.82e+04 | 0.00e+00 |\n",
      "|  35   |  175  |  48   | -2.7888e+00 | 9.83e-05 | 6.82e+04 | 0.00e+00 |\n",
      "|  36   |  180  |  51   | -2.7888e+00 | 4.92e-05 | 6.82e+04 | 0.00e+00 |\n",
      "|  37   |  185  |  53   | -3.3480e+00 | 9.83e-05 | 1.83e+05 | 0.00e+00 |\n",
      "|  38   |  190  |  55   | -3.3480e+00 | 4.92e-05 | 1.83e+05 | 0.00e+00 |\n",
      "|  39   |  195  |  57   | -3.3480e+00 | 2.46e-05 | 1.83e+05 | 0.00e+00 |\n",
      "|  40   |  200  |  59   | -3.3480e+00 | 1.23e-05 | 1.83e+05 | 0.00e+00 |\n",
      "|  41   |  205  |  61   | -3.5968e+00 | 8.60e-05 | 2.79e+05 | 0.00e+00 |\n",
      "|  42   |  210  |  63   | -3.5968e+00 | 4.30e-05 | 2.79e+05 | 0.00e+00 |\n",
      "|  43   |  215  |  65   | -3.5968e+00 | 2.15e-05 | 2.79e+05 | 0.00e+00 |\n",
      "|  44   |  220  |  67   | -3.5968e+00 | 1.08e-05 | 2.79e+05 | 0.00e+00 |\n",
      "|  45   |  225  |  69   | -3.5968e+00 | 5.38e-06 | 2.79e+05 | 0.00e+00 |\n",
      "|  46   |  230  |  71   | -3.5968e+00 | 2.69e-06 | 2.79e+05 | 0.00e+00 |\n",
      "|  47   |  235  |  73   | -4.7620e+00 | 1.88e-05 | 2.35e+04 | 0.00e+00 |\n",
      "|  48   |  240  |  74   | -4.7620e+00 | 4.00e-06 | 2.35e+04 | 0.00e+00 |\n",
      "|  49   |  245  |  75   | -4.7620e+00 | 1.66e-06 | 2.35e+04 | 0.00e+00 |\n",
      "|  50   |  250  |  76   | -4.7655e+00 | 1.66e-06 | 3.92e+04 | 0.00e+00 |\n",
      "|  51   |  255  |  79   | -4.7655e+00 | 3.32e-07 | 3.92e+04 | 0.00e+00 |\n",
      "|  52   |  260  |  81   | -4.7722e+00 | 6.65e-07 | 9.39e+03 | 0.00e+00 |\n",
      "|  53   |  265  |  83   | -4.7738e+00 | 6.65e-07 | 3.11e+04 | 0.00e+00 |\n",
      "|  54   |  270  |  86   | -4.7744e+00 | 6.65e-07 | 2.66e+04 | 0.00e+00 |\n",
      "|  55   |  275  |  88   | -4.7744e+00 | 3.32e-07 | 2.66e+04 | 0.00e+00 |\n",
      "|  56   |  280  |  90   | -4.7745e+00 | 3.32e-07 | 3.85e+03 | 0.00e+00 |\n",
      "|  57   |  285  |  92   | -4.7745e+00 | 1.66e-07 | 3.85e+03 | 0.00e+00 |\n",
      "|  58   |  290  |  94   | -4.7745e+00 | 8.31e-08 | 3.85e+03 | 0.00e+00 |\n",
      "|  59   |  295  |  96   | -4.7745e+00 | 4.16e-08 | 3.85e+03 | 0.00e+00 |\n",
      "|  60   |  300  |  98   | -4.7745e+00 | 2.08e-08 | 3.85e+03 | 0.00e+00 |\n",
      "|  61   |  305  |  99   | -4.7745e+00 | 6.58e-09 | 3.85e+03 | 0.00e+00 |\n",
      "\n",
      "`xtol` termination condition is satisfied.\n",
      "Number of iterations: 61, function evaluations: 305, CG iterations: 99, optimality: 3.85e+03, constraint violation: 0.00e+00, execution time: 2.1e+03 s.\n"
     ]
    }
   ],
   "source": [
    "from optimization import optimize_voltage\n",
    "optimize.optimizer_args['nw_centers'] = optimize.nw_centers\n",
    "optimal_voltages = optimization.optimize_voltage(\n",
    "            ['left-right'],\n",
    "            [initial_condition['left-right']],\n",
    "            [optimal_phase['left-right']],\n",
    "            optimize.optimizer_args,\n",
    "            optimize.topological_gap,\n",
    "        )"
   ]
  },
  {
   "cell_type": "markdown",
   "id": "aa6d39cb-150f-4d99-8509-958cc7626665",
   "metadata": {},
   "source": [
    "# Y-shaped geometry"
   ]
  },
  {
   "cell_type": "markdown",
   "id": "b2a820f0-fe15-4b3e-be69-32ad1c13df6b",
   "metadata": {
    "tags": []
   },
   "source": [
    "#### Parameters"
   ]
  },
  {
   "cell_type": "code",
   "execution_count": 9,
   "id": "2206a696-1b55-4eb5-bf8b-a011de3a2582",
   "metadata": {},
   "outputs": [
    {
     "data": {
      "image/png": "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\n",
      "text/plain": [
       "<Figure size 432x288 with 1 Axes>"
      ]
     },
     "metadata": {
      "needs_background": "light"
     },
     "output_type": "display_data"
    }
   ],
   "source": [
    "optimize.plot('GATES')"
   ]
  },
  {
   "cell_type": "code",
   "execution_count": 10,
   "id": "72643666-8b94-4353-a3c9-5f84e9ddf8d7",
   "metadata": {},
   "outputs": [
    {
     "data": {
      "image/png": "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\n",
      "text/plain": [
       "<Figure size 432x288 with 1 Axes>"
      ]
     },
     "metadata": {
      "needs_background": "light"
     },
     "output_type": "display_data"
    }
   ],
   "source": [
    "for gate, indices in optimize.poisson_system.regions.voltage.tag_points.items():\n",
    "    g = grid[indices]\n",
    "    if gate.split('_')[0] not in ['global', 'dirichlet']:\n",
    "        plt.scatter(g[:, 0], g[:, 1])"
   ]
  },
  {
   "cell_type": "code",
   "execution_count": 57,
   "id": "13c95b84-41bb-4785-b2ff-b718f12160eb",
   "metadata": {},
   "outputs": [
    {
     "data": {
      "image/png": "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\n",
      "text/plain": [
       "<Figure size 360x360 with 6 Axes>"
      ]
     },
     "metadata": {
      "needs_background": "light"
     },
     "output_type": "display_data"
    }
   ],
   "source": [
    "optimize.plot('WANNIER_FUNCTIONS')"
   ]
  },
  {
   "cell_type": "code",
   "execution_count": 11,
   "id": "6c0f5bbf-dc2e-42f0-bf20-e856dfca89c2",
   "metadata": {},
   "outputs": [
    {
     "data": {
      "image/png": "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\n",
      "text/plain": [
       "<Figure size 432x288 with 2 Axes>"
      ]
     },
     "metadata": {
      "needs_background": "light"
     },
     "output_type": "display_data"
    }
   ],
   "source": [
    "optimize.plot('POTENTIAL')"
   ]
  },
  {
   "cell_type": "code",
   "execution_count": 30,
   "id": "b7816454-e3c1-4603-8c63-c63c0d331cf7",
   "metadata": {
    "tags": []
   },
   "outputs": [],
   "source": [
    "from collections import OrderedDict\n",
    "pairs = ['right-top', 'left-top', 'left-right']\n",
    "voltages = OrderedDict()\n",
    "initial_condition = OrderedDict()\n",
    "for i, pair in enumerate(pairs):\n",
    "    initial = [-1.5e-3, -1.5e-3, -1.5e-3, 3e-3]\n",
    "    initial[i] = -3.5e-3\n",
    "    voltages[pair] = voltage_dict(initial, True)\n",
    "    initial_condition[pair] = initial.copy()"
   ]
  },
  {
   "cell_type": "code",
   "execution_count": null,
   "id": "e83c69b9-43a5-4da6-8083-6d59622d3a03",
   "metadata": {},
   "outputs": [],
   "source": [
    "poisson_params = {'poisson_system': poisson_system,\n",
    "                  'linear_problem': linear_problem,\n",
    "                  'site_coords': optimize.site_coords,\n",
    "                  'site_indices': optimize.site_indices,\n",
    "                  'offset': optimize.offset\n",
    "                 }\n",
    "params = parameters.junction_parameters(m_nw=parameters.bands[0] * np.ones(3))\n",
    "\n",
    "kwant_params = {'kwant_sys': optimize.trijunction,\n",
    "                'kwant_params_fn': optimize.f_params,\n",
    "                'general_params': params,\n",
    "                'linear_terms': optimize.optimizer_args['linear_terms']}"
   ]
  },
  {
   "cell_type": "code",
   "execution_count": 32,
   "id": "1cafcf6a-b52b-4e41-9d18-bcdd73858d99",
   "metadata": {},
   "outputs": [],
   "source": [
    "zero_potential = dict(zip(ta.array(optimize.site_coords[:, [0, 1]]), np.zeros(len(optimize.site_coords))))\n",
    "\n",
    "kwant_params['general_params'].update(potential=zero_potential)"
   ]
  },
  {
   "cell_type": "raw",
   "id": "1a9dad96-ff87-447e-9719-5525bf714e9b",
   "metadata": {},
   "source": [
    "%%time\n",
    "from optimization import phase_spectrum\n",
    "\n",
    "phases = phase_spectrum(\n",
    "    Cluster,\n",
    "    20,\n",
    "    options,\n",
    "    cluster_dashboard_link,\n",
    "    list(voltages.values()),\n",
    "    10,\n",
    "    optimize.trijunction,\n",
    "    optimize.f_params,\n",
    "    kwant_params['general_params'],\n",
    "    optimize.optimizer_args['linear_terms']\n",
    ")"
   ]
  },
  {
   "cell_type": "code",
   "execution_count": 33,
   "id": "9e015f95-0e21-4193-9910-a782ed509b67",
   "metadata": {},
   "outputs": [],
   "source": [
    "def wave_functions_coupling(pair, \n",
    "                      optimal_phase, \n",
    "                      voltages, \n",
    "                      kwant_system, \n",
    "                      kwant_params, \n",
    "                      kwant_params_fn, \n",
    "                      linear_terms, \n",
    "                      mlwf,\n",
    "                      energy_scale):\n",
    "   \n",
    "    kwant_params.update(optimal_phase)\n",
    "    \n",
    "    if not isinstance(voltages, dict): \n",
    "        voltages = voltage_dict(voltages, True)\n",
    "\n",
    "    params = {**kwant_params, **linear_terms}\n",
    "    \n",
    "    \n",
    "    numerical_hamiltonian = hamiltonian(kwant_system, \n",
    "                                        voltages, \n",
    "                                        kwant_params_fn, \n",
    "                                        **params\n",
    "                                       )\n",
    "    \n",
    "    energies, wave_functions = eigsh(\n",
    "        numerical_hamiltonian.tocsc(),\n",
    "        6,\n",
    "        sigma=0,\n",
    "        return_eigenvectors=True\n",
    "    )\n",
    "    \n",
    "    pair_indices = majorana_pair_indices[pair].copy()\n",
    "    pair_indices.append(list(set(range(3)) - set(pair_indices))[0])\n",
    "    shuffle = pair_indices + [-3, -2, -1]\n",
    "    desired_order = np.array(list(range(2, 5)) + list(range(2)) + [5])[shuffle]\n",
    "    \n",
    "    \n",
    "    reference_wave_functions = mlwf[desired_order]\n",
    "    \n",
    "    transformed_hamiltonian = svd_transformation(\n",
    "        energies,\n",
    "        wave_functions,\n",
    "        reference_wave_functions\n",
    "    )/energy_scale\n",
    "    \n",
    "    coupled = np.abs(transformed_hamiltonian[0, 1])\n",
    "    uncoupled = np.abs([transformed_hamiltonian[1, 2], transformed_hamiltonian[2, 3]])\n",
    "\n",
    "    \n",
    "    return wave_functions, coupled, uncoupled\n",
    "\n"
   ]
  },
  {
   "cell_type": "raw",
   "id": "3a501ca9-a487-4668-9407-a40d22329afe",
   "metadata": {},
   "source": [
    "import importlib\n",
    "import optimization\n",
    "importlib.reload(optimization)"
   ]
  },
  {
   "cell_type": "code",
   "execution_count": 34,
   "id": "dcce339c-853a-46bd-8a13-a610744b5851",
   "metadata": {
    "tags": []
   },
   "outputs": [
    {
     "name": "stdout",
     "output_type": "stream",
     "text": [
      "Optimizing pair right-top\n",
      "| niter |f evals|CG iter|  obj func   |tr radius |   opt    |  c viol  |\n",
      "|-------|-------|-------|-------------|----------|----------|----------|\n",
      "|   1   |   5   |   0   | -3.0728e+00 | 1.00e-04 | 1.21e+03 | 0.00e+00 |\n",
      "|   2   |  10   |   1   | -3.1800e+00 | 2.00e-04 | 7.74e+02 | 0.00e+00 |\n",
      "|   3   |  15   |   2   | -3.2999e+00 | 1.40e-03 | 3.00e+02 | 0.00e+00 |\n",
      "|   4   |  20   |   4   | -3.3882e+00 | 1.56e-03 | 3.66e+02 | 0.00e+00 |\n",
      "|   5   |  25   |   7   | -3.3882e+00 | 7.79e-04 | 3.66e+02 | 0.00e+00 |\n",
      "|   6   |  30   |   9   | -3.3882e+00 | 3.89e-04 | 3.66e+02 | 0.00e+00 |\n",
      "|   7   |  35   |  11   | -3.3882e+00 | 1.95e-04 | 3.66e+02 | 0.00e+00 |\n",
      "|   8   |  40   |  13   | -3.4594e+00 | 1.36e-03 | 4.87e+02 | 0.00e+00 |\n",
      "|   9   |  45   |  17   | -3.4594e+00 | 1.36e-04 | 4.87e+02 | 0.00e+00 |\n",
      "|  10   |  50   |  18   | -3.4594e+00 | 2.67e-05 | 4.87e+02 | 0.00e+00 |\n",
      "|  11   |  55   |  19   | -3.4770e+00 | 1.87e-04 | 5.26e+02 | 0.00e+00 |\n",
      "|  12   |  60   |  20   | -3.4770e+00 | 4.93e-05 | 5.26e+02 | 0.00e+00 |\n",
      "|  13   |  65   |  21   | -3.5123e+00 | 3.45e-04 | 5.71e+02 | 0.00e+00 |\n",
      "|  14   |  70   |  25   | -3.5123e+00 | 4.08e-05 | 5.71e+02 | 0.00e+00 |\n",
      "|  15   |  75   |  26   | -3.5123e+00 | 4.08e-06 | 5.71e+02 | 0.00e+00 |\n",
      "|  16   |  80   |  27   | -3.5152e+00 | 2.86e-05 | 5.69e+02 | 0.00e+00 |\n",
      "|  17   |  85   |  28   | -3.5350e+00 | 2.00e-04 | 4.80e+02 | 0.00e+00 |\n",
      "|  18   |  90   |  30   | -3.5350e+00 | 2.73e-05 | 4.80e+02 | 0.00e+00 |\n",
      "|  19   |  95   |  32   | -3.5350e+00 | 2.73e-06 | 4.80e+02 | 0.00e+00 |\n",
      "|  20   |  100  |  33   | -3.5350e+00 | 2.73e-07 | 4.80e+02 | 0.00e+00 |\n",
      "|  21   |  105  |  34   | -3.5352e+00 | 1.91e-06 | 4.78e+02 | 0.00e+00 |\n",
      "|  22   |  110  |  35   | -3.5352e+00 | 1.91e-07 | 4.78e+02 | 0.00e+00 |\n",
      "|  23   |  115  |  36   | -3.5353e+00 | 1.34e-06 | 4.77e+02 | 0.00e+00 |\n",
      "|  24   |  120  |  37   | -3.5353e+00 | 1.34e-07 | 4.77e+02 | 0.00e+00 |\n",
      "|  25   |  125  |  38   | -3.5353e+00 | 1.34e-08 | 4.77e+02 | 0.00e+00 |\n",
      "|  26   |  130  |  39   | -3.5353e+00 | 9.37e-08 | 4.77e+02 | 0.00e+00 |\n",
      "|  27   |  135  |  40   | -3.5353e+00 | 9.37e-09 | 4.77e+02 | 0.00e+00 |\n",
      "\n",
      "`xtol` termination condition is satisfied.\n",
      "Number of iterations: 27, function evaluations: 135, CG iterations: 40, optimality: 4.77e+02, constraint violation: 0.00e+00, execution time: 2.1e+02 s.\n",
      "Optimizing pair left-right\n",
      "| niter |f evals|CG iter|  obj func   |tr radius |   opt    |  c viol  |\n",
      "|-------|-------|-------|-------------|----------|----------|----------|\n",
      "|   1   |   5   |   0   | -3.8655e+00 | 1.00e-04 | 1.01e+03 | 0.00e+00 |\n",
      "|   2   |  10   |   1   | -3.9658e+00 | 2.00e-04 | 3.97e+02 | 0.00e+00 |\n",
      "|   3   |  15   |   3   | -3.9945e+00 | 4.39e-04 | 2.50e+02 | 0.00e+00 |\n",
      "|   4   |  20   |   5   | -4.0181e+00 | 6.36e-04 | 1.53e+02 | 0.00e+00 |\n",
      "|   5   |  25   |   8   | -4.0441e+00 | 9.48e-04 | 1.32e+02 | 0.00e+00 |\n",
      "|   6   |  30   |  10   | -4.0441e+00 | 9.48e-05 | 1.32e+02 | 0.00e+00 |\n",
      "|   7   |  35   |  14   | -4.0495e+00 | 2.25e-04 | 1.18e+02 | 0.00e+00 |\n",
      "|   8   |  40   |  18   | -4.0544e+00 | 2.25e-04 | 1.18e+02 | 0.00e+00 |\n",
      "|   9   |  45   |  20   | -4.0859e+00 | 1.58e-03 | 1.94e+02 | 0.00e+00 |\n",
      "|  10   |  50   |  24   | -4.0859e+00 | 1.58e-04 | 1.94e+02 | 0.00e+00 |\n",
      "|  11   |  55   |  28   | -4.0976e+00 | 7.58e-04 | 2.46e+02 | 0.00e+00 |\n",
      "|  12   |  60   |  32   | -4.1067e+00 | 7.58e-04 | 2.80e+02 | 0.00e+00 |\n",
      "|  13   |  65   |  36   | -4.1999e+00 | 5.31e-03 | 4.40e+02 | 0.00e+00 |\n",
      "|  14   |  70   |  40   | -4.1999e+00 | 1.38e-03 | 4.40e+02 | 0.00e+00 |\n",
      "|  15   |  75   |  44   | -4.1999e+00 | 5.38e-04 | 4.40e+02 | 0.00e+00 |\n",
      "|  16   |  80   |  48   | -4.1999e+00 | 9.57e-05 | 4.40e+02 | 0.00e+00 |\n",
      "|  17   |  85   |  52   | -4.2220e+00 | 6.70e-04 | 4.32e+02 | 0.00e+00 |\n",
      "|  18   |  90   |  56   | -4.2220e+00 | 1.09e-04 | 4.32e+02 | 0.00e+00 |\n",
      "|  19   |  95   |  60   | -4.2471e+00 | 7.63e-04 | 3.93e+02 | 0.00e+00 |\n",
      "|  20   |  100  |  64   | -4.2471e+00 | 1.13e-04 | 3.93e+02 | 0.00e+00 |\n",
      "|  21   |  105  |  68   | -4.2471e+00 | 1.13e-05 | 3.93e+02 | 0.00e+00 |\n",
      "|  22   |  110  |  70   | -4.2512e+00 | 7.88e-05 | 3.80e+02 | 0.00e+00 |\n",
      "|  23   |  115  |  73   | -4.2512e+00 | 7.88e-06 | 3.80e+02 | 0.00e+00 |\n",
      "|  24   |  120  |  75   | -4.2543e+00 | 5.51e-05 | 3.67e+02 | 0.00e+00 |\n",
      "|  25   |  125  |  77   | -4.2692e+00 | 3.86e-04 | 2.82e+02 | 0.00e+00 |\n",
      "|  26   |  130  |  81   | -4.2692e+00 | 6.33e-05 | 2.82e+02 | 0.00e+00 |\n",
      "|  27   |  135  |  83   | -4.2692e+00 | 6.33e-06 | 2.82e+02 | 0.00e+00 |\n",
      "|  28   |  140  |  85   | -4.2692e+00 | 6.33e-07 | 2.82e+02 | 0.00e+00 |\n",
      "|  29   |  145  |  86   | -4.2694e+00 | 4.43e-06 | 2.78e+02 | 0.00e+00 |\n",
      "|  30   |  150  |  87   | -4.2694e+00 | 4.43e-07 | 2.78e+02 | 0.00e+00 |\n",
      "|  31   |  155  |  88   | -4.2695e+00 | 3.10e-06 | 2.75e+02 | 0.00e+00 |\n",
      "|  32   |  160  |  89   | -4.2695e+00 | 3.10e-07 | 2.75e+02 | 0.00e+00 |\n",
      "|  33   |  165  |  90   | -4.2696e+00 | 2.17e-06 | 2.73e+02 | 0.00e+00 |\n",
      "|  34   |  170  |  91   | -4.2696e+00 | 2.17e-07 | 2.73e+02 | 0.00e+00 |\n",
      "|  35   |  175  |  92   | -4.2697e+00 | 1.52e-06 | 2.71e+02 | 0.00e+00 |\n",
      "|  36   |  180  |  93   | -4.2702e+00 | 1.06e-05 | 2.61e+02 | 0.00e+00 |\n",
      "|  37   |  185  |  94   | -4.2702e+00 | 1.06e-06 | 2.61e+02 | 0.00e+00 |\n",
      "|  38   |  190  |  95   | -4.2702e+00 | 1.06e-07 | 2.61e+02 | 0.00e+00 |\n",
      "|  39   |  195  |  96   | -4.2702e+00 | 7.45e-07 | 2.60e+02 | 0.00e+00 |\n",
      "|  40   |  200  |  97   | -4.2702e+00 | 7.45e-08 | 2.60e+02 | 0.00e+00 |\n",
      "|  41   |  205  |  98   | -4.2703e+00 | 5.22e-07 | 2.60e+02 | 0.00e+00 |\n",
      "|  42   |  210  |  99   | -4.2703e+00 | 5.22e-08 | 2.60e+02 | 0.00e+00 |\n",
      "|  43   |  215  |  100  | -4.2703e+00 | 5.22e-09 | 2.60e+02 | 0.00e+00 |\n",
      "\n",
      "`xtol` termination condition is satisfied.\n",
      "Number of iterations: 43, function evaluations: 215, CG iterations: 100, optimality: 2.60e+02, constraint violation: 0.00e+00, execution time: 3.2e+02 s.\n",
      "Optimizing pair right-top\n",
      "| niter |f evals|CG iter|  obj func   |tr radius |   opt    |  c viol  |\n",
      "|-------|-------|-------|-------------|----------|----------|----------|\n",
      "|   1   |   5   |   0   | -3.5036e+00 | 1.00e-04 | 4.97e+02 | 0.00e+00 |\n",
      "|   2   |  10   |   1   | -3.5036e+00 | 2.03e-05 | 4.97e+02 | 0.00e+00 |\n",
      "|   3   |  15   |   2   | -3.5036e+00 | 2.03e-06 | 4.97e+02 | 0.00e+00 |\n",
      "|   4   |  20   |   3   | -3.5036e+00 | 2.03e-07 | 4.97e+02 | 0.00e+00 |\n",
      "|   5   |  25   |   4   | -3.5037e+00 | 1.42e-06 | 4.96e+02 | 0.00e+00 |\n",
      "|   6   |  30   |   5   | -3.5037e+00 | 1.42e-07 | 4.96e+02 | 0.00e+00 |\n",
      "|   7   |  35   |   6   | -3.5038e+00 | 9.95e-07 | 4.95e+02 | 0.00e+00 |\n",
      "|   8   |  40   |   7   | -3.5038e+00 | 9.95e-08 | 4.95e+02 | 0.00e+00 |\n",
      "|   9   |  45   |   8   | -3.5039e+00 | 6.97e-07 | 4.94e+02 | 0.00e+00 |\n",
      "|  10   |  50   |   9   | -3.5039e+00 | 6.97e-08 | 4.94e+02 | 0.00e+00 |\n",
      "|  11   |  55   |  10   | -3.5039e+00 | 4.88e-07 | 4.94e+02 | 0.00e+00 |\n",
      "|  12   |  60   |  11   | -3.5039e+00 | 4.88e-08 | 4.94e+02 | 0.00e+00 |\n",
      "|  13   |  65   |  12   | -3.5040e+00 | 3.41e-07 | 4.93e+02 | 0.00e+00 |\n",
      "|  14   |  70   |  13   | -3.5040e+00 | 3.41e-08 | 4.93e+02 | 0.00e+00 |\n",
      "|  15   |  75   |  14   | -3.5040e+00 | 2.39e-07 | 4.93e+02 | 0.00e+00 |\n",
      "|  16   |  80   |  15   | -3.5040e+00 | 2.39e-08 | 4.93e+02 | 0.00e+00 |\n",
      "|  17   |  85   |  16   | -3.5040e+00 | 1.67e-07 | 4.93e+02 | 0.00e+00 |\n",
      "|  18   |  90   |  17   | -3.5040e+00 | 1.67e-08 | 4.93e+02 | 0.00e+00 |\n",
      "|  19   |  95   |  18   | -3.5040e+00 | 1.17e-07 | 4.93e+02 | 0.00e+00 |\n",
      "|  20   |  100  |  19   | -3.5040e+00 | 1.17e-08 | 4.93e+02 | 0.00e+00 |\n",
      "|  21   |  105  |  20   | -3.5040e+00 | 8.20e-08 | 4.93e+02 | 0.00e+00 |\n",
      "|  22   |  110  |  21   | -3.5040e+00 | 8.20e-09 | 4.93e+02 | 0.00e+00 |\n",
      "\n",
      "`xtol` termination condition is satisfied.\n",
      "Number of iterations: 22, function evaluations: 110, CG iterations: 21, optimality: 4.93e+02, constraint violation: 0.00e+00, execution time: 1.7e+02 s.\n",
      "Optimizing pair left-right\n",
      "| niter |f evals|CG iter|  obj func   |tr radius |   opt    |  c viol  |\n",
      "|-------|-------|-------|-------------|----------|----------|----------|\n",
      "|   1   |   5   |   0   | -4.0960e+00 | 1.00e-04 | 1.89e+02 | 0.00e+00 |\n",
      "|   2   |  10   |   1   | -4.0960e+00 | 1.00e-05 | 1.89e+02 | 0.00e+00 |\n",
      "|   3   |  15   |   2   | -4.0960e+00 | 1.00e-06 | 1.89e+02 | 0.00e+00 |\n",
      "|   4   |  20   |   3   | -4.0962e+00 | 7.00e-06 | 1.82e+02 | 0.00e+00 |\n",
      "|   5   |  25   |   4   | -4.0962e+00 | 7.00e-07 | 1.82e+02 | 0.00e+00 |\n",
      "|   6   |  30   |   5   | -4.0963e+00 | 4.90e-06 | 1.77e+02 | 0.00e+00 |\n",
      "|   7   |  35   |   6   | -4.0972e+00 | 3.43e-05 | 1.39e+02 | 0.00e+00 |\n",
      "|   8   |  40   |   8   | -4.0972e+00 | 3.43e-06 | 1.39e+02 | 0.00e+00 |\n",
      "|   9   |  45   |   9   | -4.0972e+00 | 3.43e-07 | 1.39e+02 | 0.00e+00 |\n",
      "|  10   |  50   |  10   | -4.0973e+00 | 2.40e-06 | 1.37e+02 | 0.00e+00 |\n",
      "|  11   |  55   |  11   | -4.0973e+00 | 2.40e-07 | 1.37e+02 | 0.00e+00 |\n",
      "|  12   |  60   |  12   | -4.0973e+00 | 1.68e-06 | 1.36e+02 | 0.00e+00 |\n",
      "|  13   |  65   |  13   | -4.0973e+00 | 1.68e-07 | 1.36e+02 | 0.00e+00 |\n",
      "|  14   |  70   |  14   | -4.0974e+00 | 1.18e-06 | 1.35e+02 | 0.00e+00 |\n",
      "|  15   |  75   |  15   | -4.0974e+00 | 1.18e-07 | 1.35e+02 | 0.00e+00 |\n",
      "|  16   |  80   |  16   | -4.0974e+00 | 8.24e-07 | 1.35e+02 | 0.00e+00 |\n",
      "|  17   |  85   |  17   | -4.0974e+00 | 8.24e-08 | 1.35e+02 | 0.00e+00 |\n",
      "|  18   |  90   |  18   | -4.0974e+00 | 5.76e-07 | 1.34e+02 | 0.00e+00 |\n",
      "|  19   |  95   |  19   | -4.0974e+00 | 5.76e-08 | 1.34e+02 | 0.00e+00 |\n",
      "|  20   |  100  |  20   | -4.0974e+00 | 4.04e-07 | 1.34e+02 | 0.00e+00 |\n",
      "|  21   |  105  |  21   | -4.0974e+00 | 4.04e-08 | 1.34e+02 | 0.00e+00 |\n",
      "|  22   |  110  |  22   | -4.0974e+00 | 2.82e-07 | 1.34e+02 | 0.00e+00 |\n",
      "|  23   |  115  |  23   | -4.0974e+00 | 2.82e-08 | 1.34e+02 | 0.00e+00 |\n",
      "|  24   |  120  |  24   | -4.0974e+00 | 1.98e-07 | 1.34e+02 | 0.00e+00 |\n",
      "|  25   |  125  |  25   | -4.0974e+00 | 1.98e-08 | 1.34e+02 | 0.00e+00 |\n",
      "|  26   |  130  |  26   | -4.0974e+00 | 1.38e-07 | 1.33e+02 | 0.00e+00 |\n",
      "|  27   |  135  |  27   | -4.0974e+00 | 9.69e-07 | 2.59e+07 | 0.00e+00 |\n",
      "|  28   |  140  |  28   | -4.0974e+00 | 1.14e-07 | 2.59e+07 | 0.00e+00 |\n",
      "|  29   |  145  |  29   | -4.0974e+00 | 5.68e-08 | 2.59e+07 | 0.00e+00 |\n",
      "|  30   |  150  |  30   | -4.0974e+00 | 2.84e-08 | 2.59e+07 | 0.00e+00 |\n",
      "|  31   |  155  |  31   | -4.0974e+00 | 1.42e-08 | 2.59e+07 | 0.00e+00 |\n",
      "|  32   |  160  |  32   | -4.0974e+00 | 7.10e-09 | 2.59e+07 | 0.00e+00 |\n",
      "\n",
      "`xtol` termination condition is satisfied.\n",
      "Number of iterations: 32, function evaluations: 160, CG iterations: 32, optimality: 2.59e+07, constraint violation: 0.00e+00, execution time: 2.4e+02 s.\n",
      "Optimizing pair right-top\n",
      "| niter |f evals|CG iter|  obj func   |tr radius |   opt    |  c viol  |\n",
      "|-------|-------|-------|-------------|----------|----------|----------|\n",
      "|   1   |   5   |   0   | -3.5039e+00 | 1.00e-04 | 4.93e+02 | 0.00e+00 |\n",
      "|   2   |  10   |   1   | -3.5039e+00 | 2.02e-05 | 4.93e+02 | 0.00e+00 |\n",
      "|   3   |  15   |   2   | -3.5039e+00 | 2.02e-06 | 4.93e+02 | 0.00e+00 |\n",
      "|   4   |  20   |   3   | -3.5039e+00 | 2.02e-07 | 4.93e+02 | 0.00e+00 |\n",
      "|   5   |  25   |   4   | -3.5039e+00 | 2.02e-08 | 4.93e+02 | 0.00e+00 |\n",
      "|   6   |  30   |   5   | -3.5039e+00 | 1.41e-07 | 4.93e+02 | 0.00e+00 |\n",
      "|   7   |  35   |   6   | -3.5039e+00 | 1.41e-08 | 4.93e+02 | 0.00e+00 |\n",
      "|   8   |  40   |   7   | -3.5040e+00 | 9.89e-08 | 4.93e+02 | 0.00e+00 |\n",
      "|   9   |  45   |   8   | -3.5040e+00 | 9.89e-09 | 4.93e+02 | 0.00e+00 |\n",
      "\n",
      "`xtol` termination condition is satisfied.\n",
      "Number of iterations: 9, function evaluations: 45, CG iterations: 8, optimality: 4.93e+02, constraint violation: 0.00e+00, execution time: 6.7e+01 s.\n",
      "Optimizing pair left-right\n",
      "| niter |f evals|CG iter|  obj func   |tr radius |   opt    |  c viol  |\n",
      "|-------|-------|-------|-------------|----------|----------|----------|\n",
      "|   1   |   5   |   0   | -4.0916e+00 | 1.00e-04 | 1.31e+02 | 0.00e+00 |\n",
      "|   2   |  10   |   1   | -4.0916e+00 | 1.00e-05 | 1.31e+02 | 0.00e+00 |\n",
      "|   3   |  15   |   2   | -4.0916e+00 | 1.00e-06 | 1.31e+02 | 0.00e+00 |\n",
      "|   4   |  20   |   3   | -4.0916e+00 | 1.00e-07 | 1.31e+02 | 0.00e+00 |\n",
      "|   5   |  25   |   4   | -4.0916e+00 | 7.00e-07 | 1.31e+02 | 0.00e+00 |\n",
      "|   6   |  30   |   5   | -4.0916e+00 | 7.00e-08 | 1.31e+02 | 0.00e+00 |\n",
      "|   7   |  35   |   6   | -4.0916e+00 | 4.90e-07 | 1.31e+02 | 0.00e+00 |\n",
      "|   8   |  40   |   7   | -4.0916e+00 | 4.90e-08 | 1.31e+02 | 0.00e+00 |\n",
      "|   9   |  45   |   8   | -4.0916e+00 | 3.43e-07 | 1.30e+02 | 0.00e+00 |\n",
      "|  10   |  50   |   9   | -4.0916e+00 | 3.43e-08 | 1.30e+02 | 0.00e+00 |\n",
      "|  11   |  55   |  10   | -4.0917e+00 | 2.40e-07 | 1.30e+02 | 0.00e+00 |\n",
      "|  12   |  60   |  11   | -4.0917e+00 | 2.40e-08 | 1.30e+02 | 0.00e+00 |\n",
      "|  13   |  65   |  12   | -4.0917e+00 | 1.68e-07 | 1.30e+02 | 0.00e+00 |\n",
      "|  14   |  70   |  13   | -4.0917e+00 | 1.68e-08 | 1.30e+02 | 0.00e+00 |\n",
      "|  15   |  75   |  14   | -4.0917e+00 | 1.18e-07 | 1.30e+02 | 0.00e+00 |\n",
      "|  16   |  80   |  15   | -4.0917e+00 | 1.18e-08 | 1.30e+02 | 0.00e+00 |\n",
      "|  17   |  85   |  16   | -4.0917e+00 | 8.24e-08 | 1.30e+02 | 0.00e+00 |\n",
      "|  18   |  90   |  17   | -4.0917e+00 | 8.24e-09 | 1.30e+02 | 0.00e+00 |\n",
      "\n",
      "`xtol` termination condition is satisfied.\n",
      "Number of iterations: 18, function evaluations: 90, CG iterations: 17, optimality: 1.30e+02, constraint violation: 0.00e+00, execution time: 1.3e+02 s.\n",
      "CPU times: user 18min 39s, sys: 4min 5s, total: 22min 45s\n",
      "Wall time: 22min 43s\n"
     ]
    }
   ],
   "source": [
    "%%time\n",
    "\n",
    "intermediate_couplings = []\n",
    "\n",
    "iteration = 0\n",
    "tol = 1e-1\n",
    "max_tol = 1e-2\n",
    "\n",
    "voltages = [voltages[pair] for pair in [pairs[0], pairs[2]]]\n",
    "\n",
    "del initial_condition['left-top']\n",
    "\n",
    "while np.any(tol > max_tol):\n",
    "\n",
    "    optimal_phases = optimize_phase_fn(voltages, \n",
    "                                       [pairs[0], pairs[2]], \n",
    "                                       kwant_params, \n",
    "                                       10)\n",
    "    \n",
    "    # A = datetime.datetime.now()\n",
    "    optimal_voltages = optimization.optimize_gate_fn([pairs[0], pairs[2]], \n",
    "                                         initial_condition, \n",
    "                                         optimal_phases,\n",
    "                                        optimize.optimizer_args,\n",
    "                                        optimize.topological_gap\n",
    "                                        )\n",
    "    # B = datetime.datetime.now()\n",
    "    # print(f'Optimization took {B - A}')\n",
    "    \n",
    "    voltages = [voltage_dict(optimal_voltages[pair].x, \n",
    "                             True) for pair in [pairs[0], \n",
    "                                                pairs[2]]]\n",
    "    for pair in [pairs[0], pairs[2]]: \n",
    "        initial_condition[pair] = optimal_voltages[pair].x\n",
    "\n",
    "\n",
    "    couplings = {}\n",
    "    for voltage, pair in zip(voltages, [pairs[0], \n",
    "                                        pairs[2]]):\n",
    "        _, coupling, _ = wave_functions_coupling(pair, \n",
    "                                                 optimal_phases[pair], \n",
    "                                                 voltage, \n",
    "                                                 optimize.trijunction, \n",
    "                                                 kwant_params['general_params'], \n",
    "                                                 optimize.f_params, \n",
    "                                                 optimize.optimizer_args['linear_terms'], \n",
    "                                                 optimize.mlwf,\n",
    "                                                 optimize.topological_gap\n",
    "                             )\n",
    "        couplings[pair] = coupling\n",
    "    \n",
    "    intermediate_couplings.append(np.array(list(couplings.values())))\n",
    "\n",
    "    if iteration > 1: tol = np.diff(intermediate_couplings[-2:], axis = 0)\n",
    "    \n",
    "    iteration += 1"
   ]
  },
  {
   "cell_type": "code",
   "execution_count": 199,
   "id": "ff495517-f233-4295-87fb-07c2916ef93c",
   "metadata": {},
   "outputs": [
    {
     "data": {
      "image/png": "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\n",
      "text/plain": [
       "<Figure size 720x360 with 2 Axes>"
      ]
     },
     "metadata": {
      "needs_background": "light"
     },
     "output_type": "display_data"
    }
   ],
   "source": [
    "sfig, ax = plt.subplots(1, 2, figsize = (10, 5), sharey= True)\n",
    "\n",
    "for i, pair in enumerate([pairs[0], pairs[2]]):\n",
    "    wave_functions, coupling, _ = wave_functions_coupling(pair, \n",
    "                                                  optimal_phases[pair], \n",
    "                                                  optimal_voltages[pair].x, \n",
    "                                                  optimize.trijunction, \n",
    "                                                  kwant_params['general_params'], \n",
    "                                                  optimize.f_params, \n",
    "                                                  optimize.optimizer_args['linear_terms'], \n",
    "                                                  optimize.mlwf,\n",
    "                                                  optimize.topological_gap\n",
    "                     )\n",
    "\n",
    "\n",
    "    kwant.plotter.density(optimize.trijunction, optimize.densityoperator(wave_functions[:, -1]), ax = ax[i]);\n",
    "    ax[i].set_title(f'{np.round(coupling, 3)}'+r'$\\Delta_t$');\n",
    "    plt.tight_layout()"
   ]
  },
  {
   "cell_type": "code",
   "execution_count": 212,
   "id": "102c11c2-f4e9-44a3-834e-eeab624a958f",
   "metadata": {},
   "outputs": [],
   "source": [
    "pair = pairs[2]\n",
    "optimization_args = [optimize.site_coords, \n",
    "                     optimize.trijunction, optimize.f_params,\n",
    "                     optimize.optimizer_args['linear_terms'], \n",
    "                     optimize.mlwf, optimal_phases[pair],\n",
    "                    pair, optimize.topological_gap]"
   ]
  },
  {
   "cell_type": "markdown",
   "id": "0cda97b3-b1fd-4567-beef-90e1481b41da",
   "metadata": {},
   "source": [
    "# Parallel simulation"
   ]
  },
  {
   "cell_type": "code",
   "execution_count": null,
   "id": "35da17e1-6db0-41ff-988f-3bbed1ded27f",
   "metadata": {
    "tags": []
   },
   "outputs": [],
   "source": [
    "def optimize_thickness_gap(newconfig):\n",
    "        \n",
    "    \n",
    "    return solver\n"
   ]
  },
  {
   "cell_type": "raw",
   "id": "eaed38e3-2104-4936-8740-f7c48f345ad6",
   "metadata": {},
   "source": [
    "optimize_thickness_gap()(sequence[0])"
   ]
  },
  {
   "cell_type": "code",
   "execution_count": null,
   "id": "9ad558d4-a132-4480-b7ac-00f45ba1c365",
   "metadata": {},
   "outputs": [
    {
     "name": "stdout",
     "output_type": "stream",
     "text": [
      "http://io.quantumtinkerer.tudelft.nl/user/srangaswamykup/proxy/8000/clusters/8533abbea10048429485c2c7d9afcd3c/status\n"
     ]
    }
   ],
   "source": [
    "cluster_dashboard_link = \"http://io.quantumtinkerer.tudelft.nl/user/srangaswamykup/proxy/\"\n",
    "\n",
    "with Cluster(options) as cluster:\n",
    "    cluster.scale(n=len(sequence))\n",
    "    client = cluster.get_client()\n",
    "    print(cluster_dashboard_link + cluster.dashboard_link[17:])\n",
    "    solver = optimize_thickness_gap()\n",
    "    results = []\n",
    "    futures = client.map(optimize_thickness_gap(), sequence)\n",
    "    for future in futures:\n",
    "        if future.status == 'error':\n",
    "            print('Error!')\n",
    "            results.append('E')\n",
    "        else:\n",
    "            results.append(future.result())"
   ]
  },
  {
   "cell_type": "code",
   "execution_count": 201,
   "id": "24439497-4c5d-4b24-b411-e9e77e3c3bb1",
   "metadata": {},
   "outputs": [],
   "source": [
    "def test_parallel(i):\n",
    "    if i == 2: print(a)\n",
    "    return i"
   ]
  },
  {
   "cell_type": "code",
   "execution_count": 205,
   "id": "cef7e7f5-e7f6-4091-824e-a22a9dcf0fdd",
   "metadata": {},
   "outputs": [
    {
     "name": "stdout",
     "output_type": "stream",
     "text": [
      "http://io.quantumtinkerer.tudelft.nl/user/srangaswamykup/proxy/8000/clusters/7fe1bde7fbe64a7aac85c0fee78b119c/status\n",
      "0\n",
      "1\n",
      "Error encountered!\n",
      "3\n",
      "4\n"
     ]
    }
   ],
   "source": [
    "with Cluster(options) as cluster:\n",
    "    cluster.scale(n=5)\n",
    "    client = cluster.get_client()\n",
    "    print(cluster_dashboard_link + cluster.dashboard_link[17:])\n",
    "    futures = client.map(test_parallel, range(5))\n",
    "    for future in futures:\n",
    "        if future.status == 'error':\n",
    "            print('Error!')\n",
    "        else:\n",
    "            print(future.result())"
   ]
  }
 ],
 "metadata": {
  "kernelspec": {
   "display_name": "Python 3 (ipykernel)",
   "language": "python",
   "name": "python3"
  },
  "language_info": {
   "codemirror_mode": {
    "name": "ipython",
    "version": 3
   },
   "file_extension": ".py",
   "mimetype": "text/x-python",
   "name": "python",
   "nbconvert_exporter": "python",
   "pygments_lexer": "ipython3",
   "version": "3.10.6"
  }
 },
 "nbformat": 4,
 "nbformat_minor": 5
}
