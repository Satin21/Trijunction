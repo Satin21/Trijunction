{
 "cells": [
  {
   "cell_type": "code",
   "execution_count": 1,
   "id": "21c76eab-e8f2-4222-80a7-36d75ac9b5bf",
   "metadata": {
    "tags": []
   },
   "outputs": [
    {
     "name": "stdout",
     "output_type": "stream",
     "text": [
      "VoronoiMesh version 0.1\n",
      "DiscretePoisson version 0.3\n",
      "Shape version: 0.1\n",
      "SystEquations version: 0.3\n",
      "Solver version 0.1\n"
     ]
    }
   ],
   "source": [
    "## popular python packages\n",
    "import numpy as np\n",
    "import itertools as it\n",
    "from scipy.linalg import svd\n",
    "import matplotlib.pyplot as plt\n",
    "from dask_quantumtinkerer import Cluster, cluster_options\n",
    "import scipy.sparse.linalg as sla\n",
    "\n",
    "# packages used here\n",
    "import kwant\n",
    "from kwant.operator import Density\n",
    "\n",
    "import sys, os\n",
    "sys.path.append(os.path.realpath(sys.path[0] + '/..'))\n",
    "from rootpath import ROOT_DIR\n",
    "\n",
    "\n",
    "# pre-defined functions\n",
    "sys.path.append(os.path.join(ROOT_DIR + '/code'))\n",
    "from optimization import Optimize, configuration, _fixed_potential_solver, optimalphase\n",
    "import parameters\n",
    "import tools as tl\n",
    "from solvers import sort_eigen\n",
    "from constants import scale, voltage_keys\n",
    "\n",
    "sys.path.append(os.path.join(ROOT_DIR + '/spin-qubit/'))\n",
    "from potential import gate_potential\n",
    "# from Hamiltonian import discrete_system_coordinates"
   ]
  },
  {
   "cell_type": "code",
   "execution_count": 2,
   "id": "1759db4e-8fc3-42ff-8b0f-bc2d87e66b77",
   "metadata": {},
   "outputs": [],
   "source": [
    "import dask.bag as db"
   ]
  },
  {
   "cell_type": "code",
   "execution_count": 3,
   "id": "7ccff1c9-11a3-4cf6-a23f-f80f1aa2eb19",
   "metadata": {},
   "outputs": [],
   "source": [
    "options = cluster_options()\n",
    "options.worker_cores = 2\n",
    "options.worker_memory = 10\n",
    "options.extra_path = \"/home/srangaswamykup/trijunction_design/code/\"\n",
    "cluster_dashboard_link = \"http://io.quantumtinkerer.tudelft.nl/user/srangaswamykup/proxy/\""
   ]
  },
  {
   "cell_type": "raw",
   "id": "f2dfbab0-68fa-464c-aeaf-3b939099e969",
   "metadata": {},
   "source": [
    "from tools import linear_Hamiltonian"
   ]
  },
  {
   "cell_type": "code",
   "execution_count": null,
   "id": "09cc3291-1fc7-4f04-9064-dbdc5f2d4731",
   "metadata": {},
   "outputs": [],
   "source": []
  },
  {
   "cell_type": "code",
   "execution_count": 4,
   "id": "cac3de85-5125-4913-9180-bf4fd6e12aa0",
   "metadata": {},
   "outputs": [],
   "source": [
    "def _voltage_dict(x, dirichlet = False):\n",
    "    \n",
    "    voltages = {key: x[index] for key, index in voltage_keys.items()}\n",
    "    \n",
    "    if dirichlet:\n",
    "        for i in range(6):\n",
    "            voltages[\"dirichlet_\" + str(i)] = 0.0\n",
    "        \n",
    "    return voltages"
   ]
  },
  {
   "cell_type": "markdown",
   "id": "aa6d39cb-150f-4d99-8509-958cc7626665",
   "metadata": {},
   "source": [
    "# Y-shaped geometry"
   ]
  },
  {
   "cell_type": "markdown",
   "id": "b2a820f0-fe15-4b3e-be69-32ad1c13df6b",
   "metadata": {
    "tags": []
   },
   "source": [
    "#### Parameters"
   ]
  },
  {
   "cell_type": "code",
   "execution_count": 5,
   "id": "12c255e5-3228-42bc-9969-18d834328e09",
   "metadata": {},
   "outputs": [],
   "source": [
    "import json\n",
    "filename = 'config.json'\n",
    "saveat = os.path.join(ROOT_DIR, 'code/')\n",
    "with open(saveat + filename , 'r') as outfile:\n",
    "    config = json.load(outfile)"
   ]
  },
  {
   "cell_type": "code",
   "execution_count": 6,
   "id": "e5feb67d-8bdc-44f3-b39f-fef67fb804f3",
   "metadata": {},
   "outputs": [],
   "source": [
    "dielectric_thickness = [0.5, 1, 1.5, 2.0]\n",
    "gate_separation = [7, 9, 11, 13, 15]"
   ]
  },
  {
   "cell_type": "code",
   "execution_count": 7,
   "id": "94ff2263-cb5e-4ded-9e1a-b772141b8a8f",
   "metadata": {},
   "outputs": [],
   "source": [
    "from itertools import product"
   ]
  },
  {
   "cell_type": "raw",
   "id": "712c6eca-4fcb-4c89-8d92-a8befd36e999",
   "metadata": {},
   "source": [
    "change_config = [{'device':{'thickness': {'dielectric': 1}}}, {'gate':{'width': 8}}]"
   ]
  },
  {
   "cell_type": "code",
   "execution_count": 8,
   "id": "14a58688-6f7b-4869-b7f7-cc4211603f37",
   "metadata": {},
   "outputs": [],
   "source": [
    "sequence = np.array(list(product(dielectric_thickness, gate_separation)))"
   ]
  },
  {
   "cell_type": "code",
   "execution_count": 9,
   "id": "adc3181d-b609-4757-bf31-81cdc1bfeb1b",
   "metadata": {},
   "outputs": [],
   "source": [
    "optimize = Optimize(config, \n",
    "                    poisson_system = [],\n",
    "                    linear_problem = [],\n",
    "                    boundaries = [], \n",
    "                    scale = scale\n",
    "                   )"
   ]
  },
  {
   "cell_type": "code",
   "execution_count": 10,
   "id": "7f4aa174-8f8d-4cff-a813-7c4778dd92a5",
   "metadata": {},
   "outputs": [
    {
     "name": "stdout",
     "output_type": "stream",
     "text": [
      "Finding closed voronoi cells\n",
      "Done selecting closed voronoi cells\n",
      "Calculating points distance\n",
      "Done\n",
      "Calculating ridges hypersurfaces\n",
      "Done\n",
      "Finding  hypervolume for closed voronoi cells\n",
      "Done finding hypervolume for closed voronoi cells\n",
      "Done calculating surface\n",
      "Done calculating distance\n",
      "Done calculating capacitance matrix\n",
      "CPU times: user 1min 15s, sys: 4.02 s, total: 1min 19s\n",
      "Wall time: 1min 19s\n"
     ]
    }
   ],
   "source": [
    "%%time\n",
    "_, boundaries, poisson_system, linear_problem = optimize.changeconfig([])"
   ]
  },
  {
   "cell_type": "code",
   "execution_count": 11,
   "id": "a54f5d6a-62ea-4824-89af-c005d1d4e1c2",
   "metadata": {},
   "outputs": [],
   "source": [
    "grid_points = poisson_system.grid.points\n",
    "voltage_regions = poisson_system.regions.voltage.tag_points"
   ]
  },
  {
   "cell_type": "code",
   "execution_count": 12,
   "id": "204c42be-2a4d-4712-816e-d43dd83710d2",
   "metadata": {},
   "outputs": [
    {
     "name": "stdout",
     "output_type": "stream",
     "text": [
      "CPU times: user 784 ms, sys: 7.98 ms, total: 792 ms\n",
      "Wall time: 788 ms\n"
     ]
    }
   ],
   "source": [
    "%%time\n",
    "\n",
    "optimize.setconfig()"
   ]
  },
  {
   "cell_type": "code",
   "execution_count": 13,
   "id": "b7816454-e3c1-4603-8c63-c63c0d331cf7",
   "metadata": {},
   "outputs": [],
   "source": [
    "potentials = []\n",
    "voltages = []\n",
    "for i in range(3):\n",
    "    initial = [-0.0014, -0.0014, -0.0014, 3e-3]\n",
    "    initial[i] = -0.0037\n",
    "    voltage = _voltage_dict(initial, True)\n",
    "    voltages.append(voltage)"
   ]
  },
  {
   "cell_type": "raw",
   "id": "fc761a72-6063-4899-b678-f49434461f5c",
   "metadata": {
    "tags": []
   },
   "source": [
    "optimize.plot('GATES')"
   ]
  },
  {
   "cell_type": "code",
   "execution_count": 14,
   "id": "e83c69b9-43a5-4da6-8083-6d59622d3a03",
   "metadata": {},
   "outputs": [],
   "source": [
    "poisson_params = {'poisson_system': poisson_system,\n",
    "                  'linear_problem': linear_problem,\n",
    "                  'site_coords': optimize.site_coords,\n",
    "                  'site_indices': optimize.site_indices,\n",
    "                  'offset': optimize.offset\n",
    "                 }\n",
    "params = parameters.junction_parameters(m_nw=parameters.bands[0] * np.ones(3))\n",
    "\n",
    "kwant_params = {'kwant_sys': optimize.trijunction,\n",
    "                'kwant_params': optimize.f_params,\n",
    "                'general_params': params}"
   ]
  },
  {
   "cell_type": "code",
   "execution_count": 15,
   "id": "c3b8b002-16dc-4723-b5e0-046be742c163",
   "metadata": {
    "collapsed": true,
    "jupyter": {
     "outputs_hidden": true
    },
    "tags": []
   },
   "outputs": [
    {
     "name": "stdout",
     "output_type": "stream",
     "text": [
      "http://io.quantumtinkerer.tudelft.nl/user/srangaswamykup/proxy/8000/clusters/adc64dd0dd8744d3b900b4145ade4bc3/status\n"
     ]
    },
    {
     "name": "stderr",
     "output_type": "stream",
     "text": [
      "/opt/conda/lib/python3.10/site-packages/dask_gateway/client.py:1014: RuntimeWarning: coroutine 'rpc.close_rpc' was never awaited\n",
      "  self.scheduler_comm.close_rpc()\n",
      "RuntimeWarning: Enable tracemalloc to get the object allocation traceback\n"
     ]
    }
   ],
   "source": [
    "cluster_dashboard_link = \"http://io.quantumtinkerer.tudelft.nl/user/srangaswamykup/proxy/\"\n",
    "no_eigenvalues = 10\n",
    "max_phis, phase_results = optimalphase(voltages,\n",
    "                          no_eigenvalues,\n",
    "                          **poisson_params,\n",
    "                          **kwant_params,\n",
    "                          Cluster=Cluster,\n",
    "                          nnodes=20,\n",
    "                          cluster_options=options,\n",
    "                          cluster_dashboard_link=cluster_dashboard_link,)\n",
    "\n",
    "optimal_phis = {}\n",
    "optimal_phis[\"left-right\"] = [max_phis[2] * np.pi, 0]\n",
    "optimal_phis[\"left-top\"] = [max_phis[1] * np.pi, 0]\n",
    "optimal_phis[\"right-top\"] = [0, max_phis[0] * np.pi]"
   ]
  },
  {
   "cell_type": "code",
   "execution_count": 19,
   "id": "2b4e2a1f-593e-479e-8dfb-eceaa311cb8d",
   "metadata": {
    "collapsed": true,
    "jupyter": {
     "outputs_hidden": true
    },
    "tags": []
   },
   "outputs": [
    {
     "data": {
      "image/png": "[encoded data removed]",
      "text/plain": [
       "<Figure size 1080x360 with 3 Axes>"
      ]
     },
     "metadata": {
      "needs_background": "light"
     },
     "output_type": "display_data"
    }
   ],
   "source": [
    "fig, ax = plt.subplots(ncols=3, figsize=(15, 5))\n",
    "fig.tight_layout(w_pad=5)\n",
    "titles = [\"left arm depleted\", \"right arm depleted\", \"top arm depleted\"]\n",
    "phis_labels = [r\"$\\phi_{center}$\", r\"$\\phi_{center}$\", r\"$\\phi_{right}$\"]\n",
    "peaks = []\n",
    "\n",
    "phases = np.linspace(0, 2, 100) * np.pi\n",
    "\n",
    "phis1 = [{\"phi1\": phi, \"phi2\": 0} for phi in phases]\n",
    "phis2 = [{\"phi2\": phi, \"phi1\": 0} for phi in phases]\n",
    "phis = [phis2, phis2, phis1]\n",
    "\n",
    "solver = _fixed_potential_solver(\n",
    "    optimize.trijunction, optimize.f_params, params, eigenvecs=False\n",
    ")\n",
    "topo_gap = solver(phis[0][0])[0][-1]\n",
    "\n",
    "for i, energies in enumerate(phase_results):\n",
    "    energies = np.array(energies)\n",
    "    levels = energies.T\n",
    "    ground_state = levels[len(levels) // 2 + 2]\n",
    "    for level in energies.T:\n",
    "        ax[i].plot(phases / np.pi, level / topo_gap)\n",
    "        ax[i].plot(phases / np.pi, ground_state / topo_gap, lw = 2)\n",
    "    ax[i].vlines(x=max_phis[i], ymin=-4, ymax=4)\n",
    "    ax[i].set_title(titles[i])\n",
    "    ax[i].set_ylabel(r\"E[$\\Delta^*]$\")\n",
    "    ax[i].set_xlabel(phis_labels[i])"
   ]
  },
  {
   "cell_type": "code",
   "execution_count": 16,
   "id": "77f761e8-cc68-45c3-9e9a-aac9fbc5caa8",
   "metadata": {
    "collapsed": true,
    "jupyter": {
     "outputs_hidden": true
    },
    "tags": []
   },
   "outputs": [
    {
     "name": "stdout",
     "output_type": "stream",
     "text": [
      "Finding linear part of the tight-binding Hamiltonian\n"
     ]
    },
    {
     "name": "stderr",
     "output_type": "stream",
     "text": [
      "100%|██████████| 13/13 [00:09<00:00,  1.44it/s]\n"
     ]
    },
    {
     "ename": "NameError",
     "evalue": "name 'eigenvecs' is not defined",
     "output_type": "error",
     "traceback": [
      "\u001b[0;31m---------------------------------------------------------------------------\u001b[0m",
      "\u001b[0;31mNameError\u001b[0m                                 Traceback (most recent call last)",
      "Input \u001b[0;32mIn [16]\u001b[0m, in \u001b[0;36m<cell line: 1>\u001b[0;34m()\u001b[0m\n\u001b[0;32m----> 1\u001b[0m \u001b[43moptimize\u001b[49m\u001b[38;5;241;43m.\u001b[39;49m\u001b[43mparams\u001b[49m\u001b[43m(\u001b[49m\u001b[38;5;124;43m'\u001b[39;49m\u001b[38;5;124;43mright-top\u001b[39;49m\u001b[38;5;124;43m'\u001b[39;49m\u001b[43m,\u001b[49m\u001b[43m \u001b[49m\n\u001b[1;32m      2\u001b[0m \u001b[43m                \u001b[49m\u001b[43moptimal_phis\u001b[49m\u001b[38;5;241;43m=\u001b[39;49m\u001b[43moptimal_phis\u001b[49m\u001b[43m,\u001b[49m\u001b[43m \u001b[49m\n\u001b[1;32m      3\u001b[0m \u001b[43m                \u001b[49m\u001b[43mvoltages\u001b[49m\u001b[43m \u001b[49m\u001b[38;5;241;43m=\u001b[39;49m\u001b[43m \u001b[49m\u001b[43mvoltages\u001b[49m\u001b[43m[\u001b[49m\u001b[38;5;241;43m0\u001b[39;49m\u001b[43m]\u001b[49m\n\u001b[1;32m      4\u001b[0m \u001b[43m                \u001b[49m\u001b[43m)\u001b[49m\n",
      "File \u001b[0;32m~/trijunction-design/code/optimization.py:348\u001b[0m, in \u001b[0;36mOptimize.params\u001b[0;34m(self, pair, optimal_phis, voltages)\u001b[0m\n\u001b[1;32m    337\u001b[0m base_ham, linear_ham \u001b[38;5;241m=\u001b[39m linear_Hamiltonian(\n\u001b[1;32m    338\u001b[0m     poisson_params,\n\u001b[1;32m    339\u001b[0m     kwant_params,\n\u001b[0;32m   (...)\u001b[0m\n\u001b[1;32m    342\u001b[0m     phis\u001b[38;5;241m=\u001b[39m\u001b[38;5;28mself\u001b[39m\u001b[38;5;241m.\u001b[39moptimal_phis[pair],\n\u001b[1;32m    343\u001b[0m )\n\u001b[1;32m    345\u001b[0m \u001b[38;5;28;01mif\u001b[39;00m voltages \u001b[38;5;129;01mis\u001b[39;00m \u001b[38;5;129;01mnot\u001b[39;00m \u001b[38;5;28;01mNone\u001b[39;00m: \u001b[38;5;28mself\u001b[39m\u001b[38;5;241m.\u001b[39mvoltages \u001b[38;5;241m=\u001b[39m voltages\n\u001b[0;32m--> 348\u001b[0m eigval, eigvec \u001b[38;5;241m=\u001b[39m \u001b[43mdiagonalize\u001b[49m\u001b[43m(\u001b[49m\n\u001b[1;32m    349\u001b[0m \u001b[43m    \u001b[49m\u001b[43mhamiltonian\u001b[49m\u001b[43m,\u001b[49m\n\u001b[1;32m    350\u001b[0m \u001b[43m    \u001b[49m\u001b[38;5;28;43mself\u001b[39;49m\u001b[38;5;241;43m.\u001b[39;49m\u001b[43mvoltages\u001b[49m\u001b[43m,\u001b[49m\n\u001b[1;32m    351\u001b[0m \u001b[43m    \u001b[49m\u001b[38;5;241;43m*\u001b[39;49m\u001b[38;5;241;43m*\u001b[39;49m\u001b[43m{\u001b[49m\u001b[38;5;124;43m'\u001b[39;49m\u001b[38;5;124;43mbase_ham\u001b[39;49m\u001b[38;5;124;43m'\u001b[39;49m\u001b[43m:\u001b[49m\u001b[43m \u001b[49m\u001b[43mbase_ham\u001b[49m\u001b[43m,\u001b[49m\u001b[43m \u001b[49m\u001b[38;5;124;43m'\u001b[39;49m\u001b[38;5;124;43mlinear_ham\u001b[39;49m\u001b[38;5;124;43m'\u001b[39;49m\u001b[43m:\u001b[49m\u001b[43m \u001b[49m\u001b[43mlinear_ham\u001b[49m\u001b[43m}\u001b[49m\u001b[43m,\u001b[49m\n\u001b[1;32m    352\u001b[0m \u001b[43m    \u001b[49m\u001b[43mno_eigenvalues\u001b[49m\u001b[43m \u001b[49m\u001b[38;5;241;43m=\u001b[39;49m\u001b[43m \u001b[49m\u001b[38;5;241;43m6\u001b[39;49m\n\u001b[1;32m    353\u001b[0m \u001b[43m\u001b[49m\u001b[43m)\u001b[49m\n\u001b[1;32m    355\u001b[0m lowest_e_indices \u001b[38;5;241m=\u001b[39m np\u001b[38;5;241m.\u001b[39margsort(np\u001b[38;5;241m.\u001b[39mabs(eigval))\n\u001b[1;32m    356\u001b[0m \u001b[38;5;28mself\u001b[39m\u001b[38;5;241m.\u001b[39meigenstates \u001b[38;5;241m=\u001b[39m eigvec\u001b[38;5;241m.\u001b[39mT[:, lowest_e_indices]\u001b[38;5;241m.\u001b[39mT\n",
      "File \u001b[0;32m~/trijunction-design/code/optimization.py:680\u001b[0m, in \u001b[0;36mdiagonalize\u001b[0;34m(hamiltonian, voltages, base_ham, linear_ham, no_eigenvalues)\u001b[0m\n\u001b[1;32m    665\u001b[0m \u001b[38;5;28;01mdef\u001b[39;00m \u001b[38;5;21mdiagonalize\u001b[39m(hamiltonian,\n\u001b[1;32m    666\u001b[0m                 voltages,\n\u001b[1;32m    667\u001b[0m                 base_ham,\n\u001b[1;32m    668\u001b[0m                 linear_ham,\n\u001b[1;32m    669\u001b[0m                 no_eigenvalues \u001b[38;5;241m=\u001b[39m \u001b[38;5;241m3\u001b[39m,\n\u001b[1;32m    670\u001b[0m                ):\n\u001b[1;32m    671\u001b[0m     numerical_hamiltonian \u001b[38;5;241m=\u001b[39m hamiltonian(\n\u001b[1;32m    672\u001b[0m         base_ham,\n\u001b[1;32m    673\u001b[0m         linear_ham,\n\u001b[1;32m    674\u001b[0m         voltages   \n\u001b[1;32m    675\u001b[0m     )\n\u001b[1;32m    676\u001b[0m     eigval, eigvec \u001b[38;5;241m=\u001b[39m sort_eigen(\n\u001b[1;32m    677\u001b[0m         sparse_diag(numerical_hamiltonian\u001b[38;5;241m.\u001b[39mtocsc(),\n\u001b[1;32m    678\u001b[0m                     k\u001b[38;5;241m=\u001b[39mno_eigenvalues,\n\u001b[1;32m    679\u001b[0m                     sigma\u001b[38;5;241m=\u001b[39m\u001b[38;5;241m0\u001b[39m, \n\u001b[0;32m--> 680\u001b[0m                     return_eigenvectors \u001b[38;5;241m=\u001b[39m \u001b[43meigenvecs\u001b[49m\n\u001b[1;32m    681\u001b[0m                    )\n\u001b[1;32m    682\u001b[0m     )\n\u001b[1;32m    684\u001b[0m     \u001b[38;5;28;01mreturn\u001b[39;00m eigval, eigvec\n",
      "\u001b[0;31mNameError\u001b[0m: name 'eigenvecs' is not defined"
     ]
    }
   ],
   "source": [
    "optimize.params('right-top', \n",
    "                optimal_phis=optimal_phis, \n",
    "                voltages = voltages[0]\n",
    "                )"
   ]
  },
  {
   "cell_type": "markdown",
   "id": "0cda97b3-b1fd-4567-beef-90e1481b41da",
   "metadata": {},
   "source": [
    "# Parallel simulation"
   ]
  },
  {
   "cell_type": "code",
   "execution_count": 39,
   "id": "f6ce7fe8-3dbb-481f-82fd-0a10770b5a91",
   "metadata": {
    "tags": []
   },
   "outputs": [],
   "source": [
    "def optimize_thickness_gap():\n",
    "    \n",
    "    def solver(*argv):\n",
    "        \n",
    "        thickness, gap = argv[0][0:]\n",
    "        \n",
    "        \n",
    "        ROOT_DIR = '/home/srangaswamykup/trijunction_design/'\n",
    "        sys.path.append(os.path.join(ROOT_DIR + 'spin-qubit/'))\n",
    "        \n",
    "        sys.path.append(os.path.join(ROOT_DIR + 'code/'))\n",
    "        from potential import gate_potential\n",
    "        from optimization import _fixed_potential_solver, Optimize\n",
    "        import parameters\n",
    "        from solvers import sort_eigen\n",
    "        \n",
    "        import json, pickle\n",
    "        filename = 'config.json'\n",
    "        saveat = os.path.join(ROOT_DIR, 'code/')\n",
    "        with open(saveat + filename , 'r') as outfile:\n",
    "            config = json.load(outfile)\n",
    "            \n",
    "        print('configuration file downloaded')\n",
    "        \n",
    "        # config, boundaries, poisson_system, linear_problem = configuration(config)\n",
    "        optimize = Optimize(config, \n",
    "                            poisson_system = [],\n",
    "                            linear_problem = [],\n",
    "                            boundaries = [], \n",
    "                            scale = 1e-8\n",
    "                           )\n",
    "        \n",
    "        \n",
    "        print('Optimization instantiated')\n",
    "        \n",
    "        change_config = [{'device':{'thickness': {'dielectric': thickness}}}, {'gate':{'width': gap}}]\n",
    "        \n",
    "        _, boundaries, poisson_system, linear_problem = optimize.changeconfig(change_config)\n",
    "        \n",
    "        \n",
    "        print('Device configuration changed')\n",
    "\n",
    "        depletion, accumulation = -0.0037, -0.0014\n",
    "\n",
    "        channels = np.array(['left', 'right', 'top'])\n",
    "        pairs = ['right-top', 'left-top', 'left-right']\n",
    "        pairs_voltages = {}\n",
    "\n",
    "        args = optimize.params(pairs[0])\n",
    "        initial_condition = {}\n",
    "\n",
    "        print('Optimizing voltages for all pairs')\n",
    "\n",
    "        for i, pair in enumerate(pairs):\n",
    "\n",
    "            initial_point = np.array([-0.0014, -0.0014, -0.0014, 3e-3])\n",
    "            mask = np.ones((len(initial_point) - 1, ), dtype = bool)\n",
    "            depletion_index = np.where(channels == list(set(channels) - set(pair.split('-')))[0])\n",
    "            mask[depletion_index] = False\n",
    "            initial_point[depletion_index] = depletion\n",
    "            if bool(i):\n",
    "                initial_point[:-1][mask] = accumulation\n",
    "                initial_point[-1] = global_V\n",
    "\n",
    "            initial_condition[pair] = initial_point\n",
    "\n",
    "            # print(f'initial_point {initial_point}')\n",
    "            # print(f'optimizing pair {pair}')\n",
    "            pairs_voltages[pair] = optimize.dep_acc_voltages(pair, initial_point)\n",
    "\n",
    "            depletion = pairs_voltages[pair][depletion_index]\n",
    "            accumulation = pairs_voltages[pair][:-1][mask]\n",
    "            global_V = pairs_voltages[pair][-1]\n",
    "\n",
    "\n",
    "#         \n",
    "        voltages = [_voltage_dict(x, True) for x in list(pairs_voltages.values())]\n",
    "\n",
    "        print('Optimizing phase')\n",
    "\n",
    "        try:\n",
    "            max_phis = optimize.optimalphase(\n",
    "                        voltages\n",
    "            )\n",
    "            \n",
    "\n",
    "            optimal_phis = optimize.optimal_phis\n",
    "\n",
    "            filename = 'phis_' + str(thickness) + '_' + str(gap) + '.pkl'\n",
    "            with open(\"/home/srangaswamykup/trijunction_design/results/\" + filename, 'wb') as outfile:\n",
    "                pickle.dump(optimal_phis, outfile)\n",
    "\n",
    "            optimize.params('right-top', \n",
    "                            optimal_phis=optimal_phis, \n",
    "                            voltages = voltages[0]\n",
    "                           )\n",
    "            # optimize.set_voltages(list(_voltage_dict(pairs_voltages['right-top']).values()), \n",
    "            #                       find_mlwf = True\n",
    "            #                      )\n",
    "\n",
    "            pair_indices = {\n",
    "                        \"right-top\": [1, 2],\n",
    "                        \"left-right\": [0, 1],\n",
    "                        \"left-top\": [0, 2],\n",
    "\n",
    "                    }\n",
    "\n",
    "\n",
    "            for _, pair in enumerate(pairs):\n",
    "\n",
    "                optimal_voltages = optimize.optimize_gate([pair], [initial_condition[pair]], \n",
    "                                                      optimal_phis = optimal_phis)\n",
    "\n",
    "                # optimize.params(pair, optimal_phis=optimal_phis)\n",
    "\n",
    "                voltages = _voltage_dict(optimal_voltages[pair].x, True)\n",
    "\n",
    "                charges = {}\n",
    "                potential = gate_potential(\n",
    "                        poisson_system,\n",
    "                        linear_problem,\n",
    "                        optimize.site_coords[:, [0, 1]],\n",
    "                        optimize.site_indices,\n",
    "                        voltages,\n",
    "                        charges,\n",
    "                        offset = optimize.offset[[0, 1]],\n",
    "                        grid_spacing = optimize.scale\n",
    "                    )\n",
    "\n",
    "                potential.update((x, y*-1) for x, y in potential.items())\n",
    "\n",
    "                summed_ham = sum(\n",
    "                [\n",
    "                        optimize.linear_ham[key] * voltages[key]\n",
    "                        for key, value in optimize.linear_ham.items()\n",
    "                    ]\n",
    "                )\n",
    "\n",
    "                tight_binding_hamiltonian = optimize.base_hamiltonian + summed_ham\n",
    "\n",
    "\n",
    "                eigval, eigvec = sort_eigen(sla.eigsh(tight_binding_hamiltonian.tocsc(), \n",
    "                                                                   k=6, sigma = 0))\n",
    "\n",
    "                lowest_e_indices = np.argsort(np.abs(eigval))[: 6]\n",
    "                lowest_e_energies = eigval[lowest_e_indices]\n",
    "                coupled_states = eigvec.T[:, lowest_e_indices].T\n",
    "\n",
    "                # Overlap matrix\n",
    "                decoupled_states = optimize.mlwf\n",
    "                S = coupled_states @ decoupled_states.T.conj()\n",
    "\n",
    "                # Unitary matrix using SVD\n",
    "                U, _, Vh = svd(S)\n",
    "                S_prime = U @ Vh\n",
    "\n",
    "                # Transform coupled Hamiltonian to Majorana basis\n",
    "                coupled_ham = S_prime.T.conj() @ np.diag(lowest_e_energies) @ S_prime\n",
    "\n",
    "                phases = np.linspace(0, 2, 100) * np.pi\n",
    "\n",
    "                phis1 = [{\"phi1\": phi, \"phi2\": 0} for phi in phases]\n",
    "                phis2 = [{\"phi2\": phi, \"phi1\": 0} for phi in phases]\n",
    "                phis = [phis2, phis2, phis1]\n",
    "\n",
    "                mu = parameters.bands[0]\n",
    "                params = parameters.junction_parameters(m_nw=[mu, mu, mu], m_qd=0)\n",
    "                params.update(potential=potential)\n",
    "\n",
    "                solver = _fixed_potential_solver(\n",
    "                    optimize.trijunction, optimize.f_params, params, eigenvecs=False\n",
    "                )\n",
    "                topo_gap = solver(phis[0][0])[0][-1]\n",
    "\n",
    "                coupled_pair = pair_indices[pair]\n",
    "\n",
    "                coupling_strength = np.abs(coupled_ham[2:5, 2:5][coupled_pair[0], coupled_pair[1]]) / topo_gap\n",
    "\n",
    "                filename = str(thickness) + '_' + str(gap) + '_' + str(coupled_pair[0]) + '_' + str(coupled_pair[1]) + '.pkl'\n",
    "                with open(\"/home/srangaswamykup/trijunction_design/results/\" + filename, 'wb') as outfile:\n",
    "                    pickle.dump(coupling_strength, outfile)\n",
    "\n",
    "            return coupling_strength\n",
    "        \n",
    "        except IndexError:\n",
    "            error = 'Index error'\n",
    "            return error\n",
    "\n",
    "    return solver\n"
   ]
  },
  {
   "cell_type": "raw",
   "id": "eaed38e3-2104-4936-8740-f7c48f345ad6",
   "metadata": {},
   "source": [
    "optimize_thickness_gap()(sequence[0])"
   ]
  },
  {
   "cell_type": "code",
   "execution_count": null,
   "id": "9ad558d4-a132-4480-b7ac-00f45ba1c365",
   "metadata": {},
   "outputs": [
    {
     "name": "stdout",
     "output_type": "stream",
     "text": [
      "http://io.quantumtinkerer.tudelft.nl/user/srangaswamykup/proxy/8000/clusters/8533abbea10048429485c2c7d9afcd3c/status\n"
     ]
    }
   ],
   "source": [
    "cluster_dashboard_link = \"http://io.quantumtinkerer.tudelft.nl/user/srangaswamykup/proxy/\"\n",
    "\n",
    "import dask.bag as db\n",
    "with Cluster(options) as cluster:\n",
    "    cluster.scale(n=len(sequence))\n",
    "    client = cluster.get_client()\n",
    "    print(cluster_dashboard_link + cluster.dashboard_link[17:])\n",
    "    solver = optimize_thickness_gap()\n",
    "    args_db = db.from_sequence(sequence)\n",
    "    result = args_db.map(solver).compute()"
   ]
  },
  {
   "cell_type": "markdown",
   "id": "c5b65339-f9d5-49b5-982f-1e8043091e3c",
   "metadata": {},
   "source": [
    "#### Results"
   ]
  },
  {
   "cell_type": "code",
   "execution_count": 242,
   "id": "61aad04f-0faa-4f51-b64b-b6c7fca13ffb",
   "metadata": {},
   "outputs": [],
   "source": [
    "from potential import gate_potential"
   ]
  },
  {
   "cell_type": "code",
   "execution_count": null,
   "id": "aa1dd776-391e-4a47-b377-69517048ebcf",
   "metadata": {},
   "outputs": [],
   "source": [
    "voltages = _voltage_dict(optimal_voltages[pairs[0]].x)"
   ]
  },
  {
   "cell_type": "code",
   "execution_count": 243,
   "id": "fa679b96-32b0-4e87-a009-bd2c675f27a6",
   "metadata": {
    "tags": []
   },
   "outputs": [],
   "source": [
    "charges = {}\n",
    "potential = gate_potential(\n",
    "        poisson_system,\n",
    "        linear_problem,\n",
    "        optimize.site_coords[:, [0, 1]],\n",
    "        optimize.site_indices,\n",
    "        voltages,\n",
    "        charges,\n",
    "        offset = optimize.offset[[0, 1]],\n",
    "        grid_spacing = optimize.scale\n",
    "    )\n",
    "\n",
    "potential.update((x, y*-1) for x, y in potential.items())"
   ]
  },
  {
   "cell_type": "code",
   "execution_count": 244,
   "id": "c8b7c0fe-4ff1-4fea-b0ba-8cbc6febccf4",
   "metadata": {},
   "outputs": [],
   "source": [
    "mu = parameters.bands[0]\n",
    "params = parameters.junction_parameters(m_nw=[mu, mu, mu], m_qd=0)\n",
    "params.update(potential=potential)"
   ]
  },
  {
   "cell_type": "code",
   "execution_count": 245,
   "id": "fb7bebe4-8d38-4001-a7fc-0a7cd4e47f81",
   "metadata": {},
   "outputs": [],
   "source": [
    "f_mu = optimize.f_params(**params)['mu']"
   ]
  },
  {
   "cell_type": "code",
   "execution_count": 246,
   "id": "a15dd351-86d3-46d7-b943-316423d132cf",
   "metadata": {},
   "outputs": [],
   "source": [
    "def plot_f_mu(i):\n",
    "    x, y = optimize.trijunction.sites[i].pos\n",
    "    return f_mu(x, y)"
   ]
  },
  {
   "cell_type": "code",
   "execution_count": 247,
   "id": "eb68bb27-823a-4e10-afec-ec1b84dd42a2",
   "metadata": {},
   "outputs": [],
   "source": [
    "kwant_sites = np.array(list(site.pos for site in optimize.trijunction.sites))"
   ]
  },
  {
   "cell_type": "code",
   "execution_count": 248,
   "id": "4fba466b-c828-45eb-9110-c5dab24243bc",
   "metadata": {},
   "outputs": [],
   "source": [
    "to_plot = [plot_f_mu(i) for i in range(len(kwant_sites))]"
   ]
  },
  {
   "cell_type": "code",
   "execution_count": 249,
   "id": "22b88129-5c1c-4932-8c19-6ea3397d3c4f",
   "metadata": {},
   "outputs": [],
   "source": [
    "grid_points = poisson_system.grid.points\n",
    "voltage_regions = poisson_system.regions.voltage.tag_points"
   ]
  },
  {
   "cell_type": "code",
   "execution_count": 250,
   "id": "6255d7a6-d2df-4ecc-ba5a-78226c74d6b9",
   "metadata": {
    "tags": []
   },
   "outputs": [
    {
     "data": {
      "image/png": "[encoded data removed]",
      "text/plain": [
       "<Figure size 504x360 with 2 Axes>"
      ]
     },
     "metadata": {
      "needs_background": "light"
     },
     "output_type": "display_data"
    }
   ],
   "source": [
    "fig, ax = plt.subplots(1, 1, figsize = (7, 5))\n",
    "cax = ax.scatter(kwant_sites[:, 0 ], kwant_sites[:, 1], \n",
    "                 c = np.array(to_plot), cmap = 'gist_heat_r'\n",
    "                );\n",
    "ax.set_ylim(0, 0.6e-6);\n",
    "plt.colorbar(cax);\n",
    "# plt.axis('equal')"
   ]
  },
  {
   "cell_type": "code",
   "execution_count": null,
   "id": "893017c7-59db-4101-adb0-10e101bb717d",
   "metadata": {},
   "outputs": [],
   "source": [
    "summed_ham = sum(\n",
    "[\n",
    "        optimize.linear_ham[key] * voltages[key]\n",
    "        for key, value in optimize.linear_ham.items()\n",
    "    ]\n",
    ")\n",
    "\n",
    "tight_binding_hamiltonian = optimize.base_hamiltonian + summed_ham\n",
    "\n",
    "\n",
    "eigval, eigvec = sort_eigen(sla.eigsh(tight_binding_hamiltonian.tocsc(), \n",
    "                                                   k=6, sigma = 0))\n",
    "\n",
    "lowest_e_indices = np.argsort(np.abs(eigval))[: 6]\n",
    "lowest_e_energies = eigval[lowest_e_indices]\n",
    "coupled_states = eigvec.T[:, lowest_e_indices].T\n",
    "\n",
    "# Overlap matrix\n",
    "decoupled_states = optimize.mlwf\n",
    "S = coupled_states @ decoupled_states.T.conj()\n",
    "\n",
    "# Unitary matrix using SVD\n",
    "U, _, Vh = svd(S)\n",
    "S_prime = U @ Vh\n",
    "\n",
    "# Transform coupled Hamiltonian to Majorana basis\n",
    "coupled_ham = S_prime.T.conj() @ np.diag(lowest_e_energies) @ S_prime\n",
    "\n",
    "phases = np.linspace(0, 2, 100) * np.pi\n",
    "\n",
    "phis1 = [{\"phi1\": phi, \"phi2\": 0} for phi in phases]\n",
    "phis2 = [{\"phi2\": phi, \"phi1\": 0} for phi in phases]\n",
    "phis = [phis2, phis2, phis1]\n",
    "\n",
    "solver = optimization._fixed_potential_solver(\n",
    "    optimize.trijunction, optimize.f_params, params, eigenvecs=False\n",
    ")\n",
    "topo_gap = solver(phis[0][0])[0][-1]"
   ]
  },
  {
   "cell_type": "code",
   "execution_count": 255,
   "id": "c8e91bd2-d5bd-4d3d-aa17-2d77b36b3744",
   "metadata": {},
   "outputs": [
    {
     "name": "stdout",
     "output_type": "stream",
     "text": [
      "0.2000021182501158\n"
     ]
    }
   ],
   "source": [
    "print(np.abs((coupled_ham[2:5, 2:5])[0 , 2]) / topo_gap)"
   ]
  },
  {
   "cell_type": "code",
   "execution_count": 256,
   "id": "909ba31b-bf10-4c24-a174-5ee224dd3a3b",
   "metadata": {},
   "outputs": [
    {
     "data": {
      "image/png": "[encoded data removed]",
      "text/plain": [
       "<Figure size 432x288 with 2 Axes>"
      ]
     },
     "metadata": {
      "needs_background": "light"
     },
     "output_type": "display_data"
    }
   ],
   "source": [
    "kwant.plotter.density(optimize.trijunction, optimize.densityoperator(coupled_states[-1]));"
   ]
  },
  {
   "cell_type": "raw",
   "id": "618fa1ce-59a7-4afb-a723-d58c8c36d68d",
   "metadata": {},
   "source": [
    "import pickle"
   ]
  },
  {
   "cell_type": "code",
   "execution_count": 163,
   "id": "da0170e7-2781-430c-a28e-3f3ffdda85e1",
   "metadata": {},
   "outputs": [],
   "source": [
    "optimum_voltages = {}\n",
    "with open(\"/home/tinkerer/trijunction-design/data/LR_voltages.pkl\", 'rb') as infile:\n",
    "    optimum_voltages['LR'] = pickle.load(infile)\n",
    "    \n",
    "with open(\"/home/tinkerer/trijunction-design/data/LC_voltages.pkl\", 'rb') as infile:\n",
    "    optimum_voltages['LC'] = pickle.load(infile)\n",
    "    \n",
    "with open(\"/home/tinkerer/trijunction-design/data/CR_voltages.pkl\", 'rb') as infile:\n",
    "    optimum_voltages['CR'] = pickle.load(infile)"
   ]
  },
  {
   "cell_type": "code",
   "execution_count": 164,
   "id": "45a8c9af-8d9f-4bc5-9daf-02edf88646a7",
   "metadata": {},
   "outputs": [
    {
     "name": "stderr",
     "output_type": "stream",
     "text": [
      "100%|██████████| 7/7 [00:04<00:00,  1.46it/s]\n"
     ]
    },
    {
     "name": "stdout",
     "output_type": "stream",
     "text": [
      "0.00013948485514774731\n"
     ]
    },
    {
     "name": "stderr",
     "output_type": "stream",
     "text": [
      "100%|██████████| 7/7 [00:04<00:00,  1.52it/s]\n"
     ]
    },
    {
     "name": "stdout",
     "output_type": "stream",
     "text": [
      "0.00010258611045929488\n"
     ]
    },
    {
     "name": "stderr",
     "output_type": "stream",
     "text": [
      "100%|██████████| 7/7 [00:04<00:00,  1.42it/s]\n"
     ]
    },
    {
     "name": "stdout",
     "output_type": "stream",
     "text": [
      "0.00011244328071718932\n"
     ]
    },
    {
     "data": {
      "image/png": "[encoded data removed]",
      "text/plain": [
       "<Figure size 360x360 with 3 Axes>"
      ]
     },
     "metadata": {},
     "output_type": "display_data"
    }
   ],
   "source": [
    "fig, ax = plt.subplots(1, 3, figsize = (5, 5), sharey = True)\n",
    "\n",
    "coupling_strength = {}\n",
    "\n",
    "for index, pairs in enumerate(zip([[0, 1], [0, 2], [1, 2]], ['LR', 'LC', 'CR'])):\n",
    "    indices, pair = pairs\n",
    "    \n",
    "    base_hamiltonian, linear_ham = linear_Hamiltonian(poisson_params, \n",
    "                                                  kwant_params, \n",
    "                                                  params, \n",
    "                                                  list(voltage_regions.keys()),\n",
    "                                                  phis = optimal_phis[pair])\n",
    "    summed_ham = sum(\n",
    "        [\n",
    "            linear_ham[key] * optimum_voltages[pair][key]\n",
    "            for key, value in linear_ham.items()\n",
    "        ]\n",
    "    )\n",
    "\n",
    "    tight_binding_hamiltonian = base_hamiltonian + summed_ham\n",
    "\n",
    "\n",
    "    eigval, eigvec = sort_eigen(sparse.linalg.eigsh(tight_binding_hamiltonian.tocsc(), \n",
    "                                                       k=6, sigma = 0))\n",
    "\n",
    "    lowest_e_indices = np.argsort(np.abs(eigval))[: 6]\n",
    "    lowest_e_energies = eigval[lowest_e_indices]\n",
    "    coupled_states = eigvec.T[:, lowest_e_indices].T\n",
    "\n",
    "    \n",
    "    cax = kwant.plotter.density(trijunction, density(coupled_states[-1]), ax = ax[index]);\n",
    "    \n",
    "    ax[index].set_xticks([])\n",
    "    ax[index].set_yticks([])\n",
    "\n",
    "    # Overlap matrix\n",
    "    decoupled_states = mlwf\n",
    "    S = coupled_states @ decoupled_states.T.conj()\n",
    "\n",
    "    # Unitary matrix using SVD\n",
    "    U, _, Vh = svd(S)\n",
    "    S_prime = U @ Vh\n",
    "\n",
    "    # Transform coupled Hamiltonian to Majorana basis\n",
    "    coupled_ham = S_prime.T.conj() @ np.diag(lowest_e_energies) @ S_prime\n",
    "\n",
    "    print(np.abs((coupled_ham[2:5, 2:5])[indices[0], indices[1]]))\n",
    "    \n",
    "    \n",
    "    coupling_strength[pair] = np.round(np.abs((coupled_ham[2:5, 2:5]/topo_gap)[indices[0], indices[1]]\n",
    "                                                            ), \n",
    "                                                      3\n",
    "                                                     )\n",
    "    \n",
    "    ax[index].set_title(r'${}\\Delta_t$'.format(coupling_strength[pair]))"
   ]
  },
  {
   "cell_type": "code",
   "execution_count": 165,
   "id": "f4c8be8f-ac94-46c8-813c-112d32fe343b",
   "metadata": {},
   "outputs": [
    {
     "data": {
      "text/plain": [
       "{'LR': 0.421, 'LC': 0.31, 'CR': 0.339}"
      ]
     },
     "execution_count": 165,
     "metadata": {},
     "output_type": "execute_result"
    }
   ],
   "source": [
    "coupling_strength = {'LR': 0.421, 'LC': 0.31, 'CR': 0.339} #unit: Topological gap"
   ]
  }
 ],
 "metadata": {
  "kernelspec": {
   "display_name": "Python 3 (ipykernel)",
   "language": "python",
   "name": "python3"
  },
  "language_info": {
   "codemirror_mode": {
    "name": "ipython",
    "version": 3
   },
   "file_extension": ".py",
   "mimetype": "text/x-python",
   "name": "python",
   "nbconvert_exporter": "python",
   "pygments_lexer": "ipython3",
   "version": "3.10.4"
  }
 },
 "nbformat": 4,
 "nbformat_minor": 5
}
