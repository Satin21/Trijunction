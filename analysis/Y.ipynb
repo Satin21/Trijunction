{
 "cells": [
  {
   "cell_type": "code",
   "execution_count": 1,
   "id": "21c76eab-e8f2-4222-80a7-36d75ac9b5bf",
   "metadata": {
    "tags": []
   },
   "outputs": [
    {
     "name": "stdout",
     "output_type": "stream",
     "text": [
      "VoronoiMesh version 0.1\n",
      "DiscretePoisson version 0.3\n",
      "Shape version: 0.1\n",
      "SystEquations version: 0.3\n",
      "Solver version 0.1\n"
     ]
    }
   ],
   "source": [
    "import sys\n",
    "sys.path.append(\"/home/tinkerer/spin-qubit/codes/\")\n",
    "#sys.path.append(\"/home/tinkerer/Poisson/\")\n",
    "\n",
    "import numpy as np\n",
    "from collections import OrderedDict\n",
    "from ccode.plotting import plot_gates\n",
    "from ccode.gates import rectangular_gate, half_disk_gate\n",
    "from ccode.finite_system import finite_system\n",
    "import ccode.parameters as pm\n",
    "import ccode.solvers as sl\n",
    "import ccode.tools as tl\n",
    "import itertools as it\n",
    "import dask.bag as db\n",
    "from scipy import constants\n",
    "from scipy.linalg import svd\n",
    "from scipy.optimize import minimize, least_squares\n",
    "import matplotlib.pyplot as plt\n",
    "from dask_quantumtinkerer import Cluster, cluster_options\n",
    "\n",
    "import poisson\n",
    "import kwant\n",
    "from kwant.operator import Density\n",
    "from potential import gate_potential, linear_problem_instance\n",
    "from plotting import plot_potential\n",
    "from Hamiltonian import discrete_system_coordinates\n",
    "\n",
    "from layout import (\n",
    "    Layout,\n",
    "    OverlappingGateLayer,\n",
    "    PlanarGateLayer,\n",
    "    SimpleChargeLayer,\n",
    "    TwoDEGLayer,\n",
    ")\n",
    "from utility import wannier_1D_operator, wannier_basis\n",
    "\n",
    "from itertools import product\n",
    "from shapely.geometry.polygon import Polygon\n",
    "from shapely.ops import unary_union\n",
    "\n"
   ]
  },
  {
   "cell_type": "code",
   "execution_count": 2,
   "id": "534da2e4-2f5d-4e21-9096-39ccbc238865",
   "metadata": {},
   "outputs": [],
   "source": [
    "a = 10e-9"
   ]
  },
  {
   "cell_type": "code",
   "execution_count": 3,
   "id": "7ccff1c9-11a3-4cf6-a23f-f80f1aa2eb19",
   "metadata": {},
   "outputs": [],
   "source": [
    "options = cluster_options()\n",
    "options.worker_cores = 2\n",
    "options.worker_memory = 2\n",
    "options.extra_path = \"/home/srangaswamykup/trijunction_design/\""
   ]
  },
  {
   "cell_type": "markdown",
   "id": "aa6d39cb-150f-4d99-8509-958cc7626665",
   "metadata": {},
   "source": [
    "# Y-shaped geometry"
   ]
  },
  {
   "cell_type": "markdown",
   "id": "b2a820f0-fe15-4b3e-be69-32ad1c13df6b",
   "metadata": {
    "tags": []
   },
   "source": [
    "#### Parameters"
   ]
  },
  {
   "cell_type": "code",
   "execution_count": 4,
   "id": "c3e6374d-be50-4805-96bc-002ba69c623f",
   "metadata": {},
   "outputs": [],
   "source": [
    "thickness_dielectric = 1\n",
    "thickness_twoDEG = 1\n",
    "thickness_gates = 3\n",
    "\n",
    "grid_spacing_twoDEG = 0.5\n",
    "grid_spacing_normal = 1\n",
    "grid_spacing_dielectric = 1\n",
    "grid_spacing_air = 5\n",
    "grid_spacing_gate = grid_spacing_twoDEG\n",
    "\n",
    "permittivity_metal = 5000\n",
    "permittivity_twoDEG = 15  # InAs\n",
    "permittivity_air = 1.0\n",
    "permittivity_Al2O3 = 9.1"
   ]
  },
  {
   "cell_type": "code",
   "execution_count": 5,
   "id": "0fcc17e7-5319-4f24-8e98-f2bc26102ce6",
   "metadata": {},
   "outputs": [],
   "source": [
    "# one only needs to define the arm length L, and the channel width\n",
    "L = 41\n",
    "width = 12\n",
    "gap = 4\n",
    "\n",
    "R = L/np.sqrt(2)"
   ]
  },
  {
   "cell_type": "code",
   "execution_count": 6,
   "id": "69ba6cce-a89d-4ea2-8ff3-162adef92c0e",
   "metadata": {},
   "outputs": [
    {
     "data": {
      "text/plain": [
       "28.991378028648448"
      ]
     },
     "execution_count": 6,
     "metadata": {},
     "output_type": "execute_result"
    }
   ],
   "source": [
    "R"
   ]
  },
  {
   "cell_type": "code",
   "execution_count": 7,
   "id": "48facfb8-1429-4d4f-bc64-55976e40f6f0",
   "metadata": {},
   "outputs": [],
   "source": [
    "# Boundaries within Poisson region\n",
    "zmin = -0.5\n",
    "zmax = 0.5\n",
    "xmax = R\n",
    "xmin = -xmax\n",
    "ymin = 0\n",
    "ymax = R + L - width\n",
    "total_width = 2*xmax\n",
    "total_length = ymax"
   ]
  },
  {
   "cell_type": "markdown",
   "id": "89ffb144-faac-4e25-bc6b-4d040b7dcd5b",
   "metadata": {
    "tags": []
   },
   "source": [
    "#### Make gate polygons using Shapely"
   ]
  },
  {
   "cell_type": "code",
   "execution_count": 8,
   "id": "cfb84699-8972-4fce-8129-7d39ab1b9ea1",
   "metadata": {},
   "outputs": [],
   "source": [
    "Y = unary_union(\n",
    "    (\n",
    "        Polygon(half_disk_gate(R=R, npts=3)).difference(Polygon(half_disk_gate(R=R-width*np.sqrt(2), npts=3))),\n",
    "        Polygon(rectangular_gate(center=(0,R+L/2-width), width=width, length=L))\n",
    "    )\n",
    ")\n",
    "\n",
    "gates = Polygon(rectangular_gate(center=(0, (R+L-width)/2), length=R+L-width-1,width=2*R)).difference(Y)\n",
    "\n",
    "aux_rectangle_1 = rectangular_gate(length=R+2*gap, width=R+gap, center=(R/2, R/2-width/2))\n",
    "aux_rectangle_2 = rectangular_gate(length=R+2*gap, width=R+gap, center=(-R/2, R/2-width/2))\n",
    "\n",
    "\n",
    "def gate_coords(obj, difference=None, common=None, gap=None):\n",
    "\n",
    "    if type(common) == np.ndarray:\n",
    "        return np.round(np.array(list(obj.intersection(Polygon(common)).exterior.coords)), 2)\n",
    "\n",
    "    else:\n",
    "        if gap is not None:\n",
    "            return np.round(np.array(list(obj.difference(Polygon(difference).buffer(gap)).exterior.coords)), 2)\n",
    "        else:\n",
    "            return np.round(np.array(list(obj.difference(Polygon(difference)).exterior.coords)), 2)\n",
    "\n",
    "\n",
    "gates_vertex = [gate_coords(gates[0], common = aux_rectangle_2), \n",
    "                gate_coords(gates[2], difference = aux_rectangle_1), \n",
    "                gate_coords(gates[2], difference = aux_rectangle_2), \n",
    "                gate_coords(gates[1], common = aux_rectangle_1), \n",
    "                gate_coords(gates[0], difference = aux_rectangle_2, gap = gap), \n",
    "                gate_coords(gates[1], difference = aux_rectangle_1, gap = gap)]\n",
    "\n",
    "gates_name = ['left_1', 'left_2', 'right_1', 'right_2', 'top_1', 'top_2']"
   ]
  },
  {
   "cell_type": "markdown",
   "id": "2a5e304f-e479-4238-b5e3-abfe85ca5428",
   "metadata": {
    "tags": []
   },
   "source": [
    "#### Construct layout object for the Poisson solver"
   ]
  },
  {
   "cell_type": "code",
   "execution_count": 9,
   "id": "25ba435f-2249-4283-9d9c-7ac2f9fe41b5",
   "metadata": {},
   "outputs": [],
   "source": [
    "# Solve for Poisson system\n",
    "\n",
    "layout = Layout(total_width,\n",
    "                total_length,\n",
    "                grid_width_air=grid_spacing_air,\n",
    "                margin=(50, 50, 50),\n",
    "                shift=(0, total_length/2, 0))\n",
    "\n",
    "layout.add_layer(\n",
    "    SimpleChargeLayer(\n",
    "        \"twoDEG\",\n",
    "        thickness_twoDEG,\n",
    "        permittivity_twoDEG,\n",
    "        grid_spacing_twoDEG,\n",
    "        add_to_previous_layer=False,\n",
    "        fix_overlap=False,\n",
    "        z_bottom=None\n",
    "    ),\n",
    "    center=True,\n",
    ")\n",
    "\n",
    "height = thickness_twoDEG / 2\n",
    "\n",
    "layout.add_layer(\n",
    "    SimpleChargeLayer(\n",
    "        \"Al2O3\",\n",
    "        thickness_dielectric,\n",
    "        permittivity_Al2O3,\n",
    "        grid_spacing_dielectric,\n",
    "        add_to_previous_layer = False,\n",
    "        fix_overlap = False,\n",
    "        z_bottom = None\n",
    "    )\n",
    ")\n",
    "\n",
    "height += thickness_dielectric\n",
    "\n",
    "\n",
    "layout.add_layer(OverlappingGateLayer(thickness_gates,\n",
    "                                      permittivity_metal,\n",
    "                                      grid_spacing_gate,\n",
    "                                      layer_name=gates_name,\n",
    "                                      gate_objects=gates_vertex,\n",
    "                                      remove_points=False,\n",
    "                                      add_to_previous_layer=False,\n",
    "                                      z_bottom=height,\n",
    "                                      fix_overlap=True\n",
    "                                     )\n",
    "            )\n",
    "\n"
   ]
  },
  {
   "cell_type": "code",
   "execution_count": 10,
   "id": "d99932ce-72f3-49f5-99cd-c107e01cd99b",
   "metadata": {},
   "outputs": [],
   "source": [
    "height += thickness_gates + 1\n",
    "layout.add_layer(\n",
    "    SimpleChargeLayer(\"Al2O3_2\", thickness_dielectric, permittivity_Al2O3, grid_spacing_dielectric,\n",
    "                     add_to_previous_layer = False,\n",
    "                     z_bottom = height, fix_overlap = False)\n",
    ")\n",
    "\n",
    "height += thickness_dielectric + 1\n",
    "thickness_accumulation_gate = 2\n",
    "layout.add_layer(PlanarGateLayer(\"global_accumul\", \n",
    "                                 thickness_accumulation_gate, \n",
    "                                 permittivity_metal, \n",
    "                                 grid_spacing_gate, \n",
    "                                 gate_coords = [],\n",
    "                                 second_layer = [],\n",
    "                                 fix_overlap = False,\n",
    "                                 z_bottom = height\n",
    "                                )\n",
    "                )"
   ]
  },
  {
   "cell_type": "markdown",
   "id": "9d6055d2-af9b-47a9-a414-55c296cf2efa",
   "metadata": {
    "tags": []
   },
   "source": [
    "#### Build Poisson object"
   ]
  },
  {
   "cell_type": "code",
   "execution_count": 11,
   "id": "7b8a12ec-dc29-4285-9e4f-ebf8b653ee22",
   "metadata": {},
   "outputs": [
    {
     "name": "stdout",
     "output_type": "stream",
     "text": [
      "checking intersection\n",
      "finished checking intersection\n",
      "Finding closed voronoi cells\n",
      "Done selecting closed voronoi cells\n",
      "Calculating points distance\n",
      "Done\n",
      "Calculating ridges hypersurfaces\n",
      "Done\n",
      "Finding  hypervolume for closed voronoi cells\n",
      "Done finding hypervolume for closed voronoi cells\n",
      "Done calculating surface\n",
      "Done calculating distance\n",
      "Done calculating capacitance matrix\n",
      "CPU times: user 1min 13s, sys: 3.99 s, total: 1min 17s\n",
      "Wall time: 1min 17s\n"
     ]
    }
   ],
   "source": [
    "%%time\n",
    "\n",
    "poisson_system = layout.build()"
   ]
  },
  {
   "cell_type": "code",
   "execution_count": 605,
   "id": "1bfd5776-6b99-4d25-bb2c-4f4e15c8bbf5",
   "metadata": {},
   "outputs": [],
   "source": [
    "grid_points = poisson_system.grid.points\n",
    "voltage_regions = poisson_system.regions.voltage.tag_points"
   ]
  },
  {
   "cell_type": "code",
   "execution_count": 609,
   "id": "b77277ed-9cfe-46dc-b810-cfbd828b1e08",
   "metadata": {},
   "outputs": [
    {
     "data": {
      "text/plain": [
       "((180750, 3),\n",
       " [[34828], [24814], [24874], [34732], [52933], [53140], array([18087])])"
      ]
     },
     "execution_count": 609,
     "metadata": {},
     "output_type": "execute_result"
    }
   ],
   "source": [
    "grid_points.shape,dep_indices"
   ]
  },
  {
   "cell_type": "code",
   "execution_count": 713,
   "id": "3bdb554e-ab68-47e2-a3f6-089cb0ff9faa",
   "metadata": {},
   "outputs": [
    {
     "name": "stdout",
     "output_type": "stream",
     "text": [
      "[[-18.75        18.24568901  -0.5       ]]\n",
      "[[-5.75        3.74568901 -0.5       ]]\n",
      "[[ 4.25        3.74568901 -0.5       ]]\n",
      "[[23.25       17.74568901 -0.5       ]]\n",
      "[[-17.25        44.24568901  -0.5       ]]\n",
      "[[17.25       44.24568901 -0.5       ]]\n",
      "[[-3.25       56.74568901 -0.5       ]]\n"
     ]
    },
    {
     "data": {
      "image/png": "[encoded data removed]",
      "text/plain": [
       "<Figure size 576x504 with 1 Axes>"
      ]
     },
     "metadata": {
      "needs_background": "light"
     },
     "output_type": "display_data"
    }
   ],
   "source": [
    "plt.figure(figsize = (8, 7))\n",
    "for name, indices in voltage_regions.items():\n",
    "    grid_to_plot = grid_points[indices][:, [0, 1]]\n",
    "    plt.scatter(grid_to_plot[:, 0], grid_to_plot[:, 1], s = 0.5)\n",
    "    \n",
    "for i in range(len(dep_indices)):\n",
    "    to_plot = grid_points[twodeg_grid[dep_indices[i]]]\n",
    "    print(to_plot)\n",
    "    plt.scatter(to_plot[0][0], to_plot[0][1]);"
   ]
  },
  {
   "cell_type": "markdown",
   "id": "de423151-a741-4b9c-be02-84443af8f2fd",
   "metadata": {
    "tags": []
   },
   "source": [
    "#### LU decomposition of finite system"
   ]
  },
  {
   "cell_type": "code",
   "execution_count": 14,
   "id": "5edf3a02-e11f-4bdd-bb1c-95145c5788da",
   "metadata": {},
   "outputs": [
    {
     "name": "stdout",
     "output_type": "stream",
     "text": [
      "CPU times: user 3.46 s, sys: 165 ms, total: 3.62 s\n",
      "Wall time: 3.61 s\n"
     ]
    }
   ],
   "source": [
    "%%time\n",
    "\n",
    "linear_problem = linear_problem_instance(poisson_system)"
   ]
  },
  {
   "cell_type": "code",
   "execution_count": 15,
   "id": "a4f674ae-f7c9-4dcb-a135-cd99fc39f458",
   "metadata": {},
   "outputs": [],
   "source": [
    "site_coords, site_indices = discrete_system_coordinates(\n",
    "    poisson_system, [('charge', 'twoDEG')], boundaries=None\n",
    ")\n",
    "\n",
    "crds = site_coords[:, [0, 1]]\n",
    "grid_spacing = grid_spacing_twoDEG\n",
    "offset = crds[0]%grid_spacing"
   ]
  },
  {
   "cell_type": "code",
   "execution_count": 16,
   "id": "ed8029d2-0fdc-44c4-9e29-78faf2567e67",
   "metadata": {},
   "outputs": [],
   "source": [
    "grid_points= poisson_system.grid.points"
   ]
  },
  {
   "cell_type": "code",
   "execution_count": 17,
   "id": "3668b7e3-0156-470d-bf23-f939b1ecc51c",
   "metadata": {},
   "outputs": [],
   "source": [
    "charge_regions = poisson_system.regions.charge.tag_points"
   ]
  },
  {
   "cell_type": "code",
   "execution_count": 18,
   "id": "2fc2d033-acf5-4995-a73a-a29b7dc2a4fa",
   "metadata": {},
   "outputs": [],
   "source": [
    "voltage_regions = poisson_system.regions.voltage.tag_points\n",
    "regions_to_add = []\n",
    "for region in voltage_regions.keys():\n",
    "    if region not in ['dirichlet_0', 'dirichlet_1', 'dirichlet_2', 'dirichlet_3']:\n",
    "        regions_to_add.append(('voltage', region))\n",
    "for region in charge_regions.keys():\n",
    "    # if region not in ['air']:\n",
    "    regions_to_add.append(('charge', region))"
   ]
  },
  {
   "cell_type": "markdown",
   "id": "c76b36e7-d5c2-4c68-a523-03ce7eb9b16c",
   "metadata": {
    "tags": []
   },
   "source": [
    "#### Verify the potential"
   ]
  },
  {
   "cell_type": "code",
   "execution_count": 19,
   "id": "9301aa7a-da8f-494c-a6a7-e9e4fbac7831",
   "metadata": {},
   "outputs": [],
   "source": [
    "voltage_regions = list(poisson_system.regions.voltage.tag_points.keys())"
   ]
  },
  {
   "cell_type": "code",
   "execution_count": 20,
   "id": "474f9f9f-d7c3-4c4b-8237-30f4a14715e0",
   "metadata": {
    "tags": []
   },
   "outputs": [],
   "source": [
    "depleted = -1e-3\n",
    "acumulate = 4e-3\n",
    "\n",
    "def voltage_dict(depleted, acumulate):\n",
    "    voltages = {}\n",
    "\n",
    "    voltages['left_1'] = depleted\n",
    "    voltages['left_2'] = depleted\n",
    "\n",
    "    voltages['right_1'] = depleted\n",
    "    voltages['right_2'] = depleted\n",
    "\n",
    "    voltages['top_1'] = depleted\n",
    "    voltages['top_2'] = depleted\n",
    "\n",
    "    voltages['global_accumul'] = acumulate\n",
    "\n",
    "    return voltages"
   ]
  },
  {
   "cell_type": "code",
   "execution_count": 21,
   "id": "6e094c06-7a26-4f82-911a-6c633215c2a1",
   "metadata": {},
   "outputs": [],
   "source": [
    "voltages = voltage_dict(depleted, acumulate)"
   ]
  },
  {
   "cell_type": "code",
   "execution_count": 22,
   "id": "76b4264a-2f45-4f80-a593-7b619909d74a",
   "metadata": {},
   "outputs": [
    {
     "name": "stdout",
     "output_type": "stream",
     "text": [
      "CPU times: user 468 ms, sys: 3.99 ms, total: 472 ms\n",
      "Wall time: 471 ms\n"
     ]
    }
   ],
   "source": [
    "%%time\n",
    "\n",
    "charges = {}\n",
    "clean_potential = gate_potential(\n",
    "        poisson_system,\n",
    "        linear_problem,\n",
    "        site_coords[:, [0, 1]],\n",
    "        site_indices,\n",
    "        voltages,\n",
    "        charges,\n",
    "        offset=offset,\n",
    "        grid_spacing=a\n",
    "    )"
   ]
  },
  {
   "cell_type": "code",
   "execution_count": 23,
   "id": "f0356e5f-48ea-4b83-89c3-45e815c6e501",
   "metadata": {},
   "outputs": [],
   "source": [
    "coordinates = np.array(list(clean_potential.keys()))\n",
    "\n",
    "x = coordinates[:, 0]\n",
    "y = coordinates[:, 1]\n",
    "width_plot = np.unique(x).shape[0]\n",
    "X = x.reshape(width_plot, -1) / a\n",
    "Y = y.reshape(width_plot, -1) / a\n",
    "Z = np.round(np.array(list(clean_potential.values())).reshape(width_plot, -1) * -1, 4)"
   ]
  },
  {
   "cell_type": "code",
   "execution_count": 24,
   "id": "a60316fe-4e70-4be6-a72b-6c3de6bda1d6",
   "metadata": {},
   "outputs": [
    {
     "data": {
      "image/png": "[encoded data removed]",
      "text/plain": [
       "<Figure size 432x288 with 2 Axes>"
      ]
     },
     "metadata": {
      "needs_background": "light"
     },
     "output_type": "display_data"
    }
   ],
   "source": [
    "plt.figure()\n",
    "plt.imshow(np.rot90(Z), extent = (xmin, xmax, ymin, ymax), cmap = 'magma_r')\n",
    "plt.colorbar();"
   ]
  },
  {
   "cell_type": "code",
   "execution_count": 25,
   "id": "35c61ebd-f860-405b-9fd4-6a316836abfb",
   "metadata": {},
   "outputs": [
    {
     "data": {
      "text/plain": [
       "Text(0.5, 1.0, 'V(x,y) - V(-x,y)')"
      ]
     },
     "execution_count": 25,
     "metadata": {},
     "output_type": "execute_result"
    },
    {
     "data": {
      "image/png": "[encoded data removed]",
      "text/plain": [
       "<Figure size 432x288 with 2 Axes>"
      ]
     },
     "metadata": {
      "needs_background": "light"
     },
     "output_type": "display_data"
    }
   ],
   "source": [
    "plt.imshow((np.rot90(Z[::-1,:])-np.rot90(Z)), extent = (xmin, xmax, ymin, ymax), cmap = 'magma_r')\n",
    "plt.colorbar()\n",
    "plt.xlabel(\"x\")\n",
    "plt.ylabel(\"y\")\n",
    "plt.title(\"V(x,y) - V(-x,y)\")"
   ]
  },
  {
   "cell_type": "markdown",
   "id": "c7d78e53-151f-4830-9d4c-6bffcd270d08",
   "metadata": {
    "tags": []
   },
   "source": [
    "#### Build kwant object"
   ]
  },
  {
   "cell_type": "code",
   "execution_count": 834,
   "id": "30fb891e-7663-428d-bc69-d2c055b7eecb",
   "metadata": {},
   "outputs": [],
   "source": [
    "# Build kwant system\n",
    "\n",
    "R_a = R*a\n",
    "width_a = width*a\n",
    "l = 150 * a\n",
    "w = 7 * a\n",
    "boundaries = [xmin, xmax, ymin, ymax, min(grid_points[:, 2]), max(grid_points[:, 2])]\n",
    "boundaries = np.array(boundaries) * a\n",
    "\n",
    "geometry ={'nw_l': l, 'nw_w': w,\n",
    "           's_w': boundaries[1] - boundaries[0],\n",
    "           's_l': boundaries[3] - boundaries[2],\n",
    "           'centers':[[-R_a+width_a/np.sqrt(2), 0],\n",
    "                      [-(-R_a+width_a/np.sqrt(2)), 0], \n",
    "                      [0,boundaries[3]+l-a]\n",
    "                     ]\n",
    "          }"
   ]
  },
  {
   "cell_type": "code",
   "execution_count": 835,
   "id": "a32b5cff-38af-4a9d-9735-8ffbca638ecf",
   "metadata": {},
   "outputs": [
    {
     "data": {
      "text/plain": [
       "{'nw_l': 1.5e-06,\n",
       " 'nw_w': 7e-08,\n",
       " 's_w': 5.798275605729689e-07,\n",
       " 's_l': 5.799137802864846e-07,\n",
       " 'centers': [[-2.0506096654409876e-07, 0],\n",
       "  [2.0506096654409876e-07, 0],\n",
       "  [0, 2.0699137802864846e-06]]}"
      ]
     },
     "execution_count": 835,
     "metadata": {},
     "output_type": "execute_result"
    }
   ],
   "source": [
    "geometry"
   ]
  },
  {
   "cell_type": "raw",
   "id": "4a738fee-06ac-4c57-b525-e0beb4d95652",
   "metadata": {},
   "source": [
    "import importlib\n",
    "import ccode.parameters\n",
    "importlib.reload(ccode.parameters)"
   ]
  },
  {
   "cell_type": "code",
   "execution_count": 836,
   "id": "478ade4b-03de-4090-be96-9f5b8cf2fa13",
   "metadata": {},
   "outputs": [
    {
     "name": "stdout",
     "output_type": "stream",
     "text": [
      "CPU times: user 288 ms, sys: 8.03 ms, total: 296 ms\n",
      "Wall time: 292 ms\n"
     ]
    }
   ],
   "source": [
    "%%time\n",
    "\n",
    "trijunction, f_params = finite_system(**geometry)\n",
    "trijunction = trijunction.finalized()"
   ]
  },
  {
   "cell_type": "code",
   "execution_count": 837,
   "id": "30e1531e-3dbb-42b7-a6ab-71c1dd45640a",
   "metadata": {},
   "outputs": [
    {
     "data": {
      "image/png": "[encoded data removed]",
      "text/plain": [
       "<Figure size 432x288 with 1 Axes>"
      ]
     },
     "metadata": {
      "needs_background": "light"
     },
     "output_type": "display_data"
    }
   ],
   "source": [
    "fig, ax = plt.subplots()\n",
    "kwant.plot(trijunction, ax=ax, lead_site_size = 4)\n",
    "ax.set_ylim(-10*a, boundaries[3]+10*a)\n",
    "grid_points = poisson_system.grid.points\n",
    "voltage_regions = poisson_system.regions.voltage.tag_points\n",
    "\n",
    "# for name, indices in voltage_regions.items():\n",
    "#     if name not in ['global_accumul']:\n",
    "#         grid_to_plot = a*grid_points[indices][:, [0, 1]]\n",
    "#         ax.scatter(grid_to_plot[:, 0], grid_to_plot[:, 1], s = 0.5)\n"
   ]
  },
  {
   "cell_type": "raw",
   "id": "348c1da5-48bb-4d73-acbf-eefe662e39f9",
   "metadata": {},
   "source": [
    "np.unique(grid_points[voltage_regions['global_accumul']][:, 1])"
   ]
  },
  {
   "cell_type": "code",
   "execution_count": 838,
   "id": "faff8ec2-b377-4873-8d32-0fd364755446",
   "metadata": {},
   "outputs": [],
   "source": [
    "import pickle"
   ]
  },
  {
   "cell_type": "code",
   "execution_count": 839,
   "id": "a13c95f1-4f38-4302-8c12-9f801497e942",
   "metadata": {},
   "outputs": [],
   "source": [
    "with open(\"/home/tinkerer/trijunction-design/data/optimal_phase.pkl\", 'rb') as infile:\n",
    "    optimal_phase = pickle.load(infile)"
   ]
  },
  {
   "cell_type": "code",
   "execution_count": 840,
   "id": "919de707-d180-48b8-a118-f9ae467dc020",
   "metadata": {},
   "outputs": [],
   "source": [
    "optimal_phase = optimal_phase * np.pi"
   ]
  },
  {
   "cell_type": "markdown",
   "id": "3593767c-f931-4537-b003-7ea5e4870b3b",
   "metadata": {
    "jp-MarkdownHeadingCollapsed": true,
    "tags": []
   },
   "source": [
    "#### Optimal phases"
   ]
  },
  {
   "cell_type": "code",
   "execution_count": 33,
   "id": "6d400ccc-4c24-4a12-a38f-b08710418df8",
   "metadata": {},
   "outputs": [],
   "source": [
    "voltages = {'left_1': -5e-3, \n",
    "            'left_2': -5e-3,\n",
    "            'right_1': -5e-3,\n",
    "            'right_2': -5e-3,\n",
    "            'top_1' : -18e-3,\n",
    "            'top_2' : -18e-3,\n",
    "            'global_accumul': 35e-3}"
   ]
  },
  {
   "cell_type": "code",
   "execution_count": 34,
   "id": "54d43605-c424-4af6-9eb1-6a6c20ab43b4",
   "metadata": {},
   "outputs": [],
   "source": [
    "potential = gate_potential(\n",
    "        poisson_system,\n",
    "        linear_problem,\n",
    "        site_coords[:, [0, 1]],\n",
    "        site_indices,\n",
    "        voltages,\n",
    "        charges,\n",
    "        offset=offset[[0, 1]],\n",
    "        grid_spacing=a\n",
    "    )"
   ]
  },
  {
   "cell_type": "code",
   "execution_count": 35,
   "id": "dc159266-5f20-421c-bec1-22d061e811de",
   "metadata": {},
   "outputs": [],
   "source": [
    "mu = pm.bands[0]\n",
    "params = pm.junction_parameters(m_nw=[mu, mu, mu], m_qd=0)"
   ]
  },
  {
   "cell_type": "code",
   "execution_count": 36,
   "id": "e9ddeae3-a0d1-4443-8596-dcc7cb323d73",
   "metadata": {},
   "outputs": [],
   "source": [
    "params.update(potential=clean_potential)"
   ]
  },
  {
   "cell_type": "code",
   "execution_count": 2804,
   "id": "e2161107-ee4a-48d9-a445-63fb639c5bdb",
   "metadata": {},
   "outputs": [],
   "source": [
    "solver = sl.general_solver(geometries=[[trijunction, f_params]],\n",
    "                           n=20,\n",
    "                           base_parameters=params,\n",
    "                           eigenvecs=False)\n",
    "\n",
    "\n",
    "def wrap(arg):\n",
    "    return solver(*arg)"
   ]
  },
  {
   "cell_type": "code",
   "execution_count": 2806,
   "id": "e8aabe13-d91f-469b-986e-681af133407e",
   "metadata": {},
   "outputs": [],
   "source": [
    "args = list(it.product([0],pm.phase_params()))\n",
    "args_db = db.from_sequence(args)"
   ]
  },
  {
   "cell_type": "code",
   "execution_count": 2807,
   "id": "22cd555c-9848-49e4-a6f1-db338d62cf00",
   "metadata": {},
   "outputs": [
    {
     "name": "stdout",
     "output_type": "stream",
     "text": [
      "http://io.quantumtinkerer.tudelft.nl/user/srangaswamykup/proxy/8000/clusters/dd97b04defcc4a8a9b6152ae659e756d/status\n",
      "CPU times: user 23.4 s, sys: 731 ms, total: 24.1 s\n",
      "Wall time: 2min 14s\n"
     ]
    }
   ],
   "source": [
    "%%time\n",
    "with Cluster(options) as cluster:\n",
    "    cluster.scale(10)\n",
    "    client = cluster.get_client()\n",
    "    print(\"http://io.quantumtinkerer.tudelft.nl/user/srangaswamykup/proxy/\"+cluster.dashboard_link[17:])\n",
    "    result = args_db.map(wrap).compute()"
   ]
  },
  {
   "cell_type": "code",
   "execution_count": 2808,
   "id": "ce52de8a-9222-42a4-8680-da2be9797c91",
   "metadata": {},
   "outputs": [],
   "source": [
    "spectra, couplings, wfs, peaks, widths = tl.coupling_data(result, n=20)"
   ]
  },
  {
   "cell_type": "code",
   "execution_count": 2809,
   "id": "873628a4-a499-44ad-941d-424478c03a46",
   "metadata": {},
   "outputs": [],
   "source": [
    "phis = np.linspace(0, 2, 100)\n",
    "max_phis = phis[np.array(peaks).flatten()]"
   ]
  },
  {
   "cell_type": "code",
   "execution_count": 2810,
   "id": "5de7d850-03ab-409e-9958-60defe57d05e",
   "metadata": {},
   "outputs": [
    {
     "data": {
      "text/plain": [
       "array([1.07070707, 0.88888889, 0.86868687])"
      ]
     },
     "execution_count": 2810,
     "metadata": {},
     "output_type": "execute_result"
    }
   ],
   "source": [
    "max_phis"
   ]
  },
  {
   "cell_type": "raw",
   "id": "5ee7f224-2a7d-41ed-a0c6-2e70961b51d6",
   "metadata": {},
   "source": [
    "optimal_phase = np.zeros((3, ))"
   ]
  },
  {
   "cell_type": "code",
   "execution_count": 2812,
   "id": "556ba4d0-631f-4879-b4ba-1cc7d2f09ecd",
   "metadata": {},
   "outputs": [],
   "source": [
    "optimal_phase[0] = max_phis[0] "
   ]
  },
  {
   "cell_type": "markdown",
   "id": "0a653e62-28a9-43c1-b679-e2cdae0624fe",
   "metadata": {
    "tags": []
   },
   "source": [
    "#### Optimize gate voltages"
   ]
  },
  {
   "cell_type": "code",
   "execution_count": 841,
   "id": "af7ddb30-3f81-4f97-bbd1-05f0efe9af6d",
   "metadata": {},
   "outputs": [],
   "source": [
    "from scipy import sparse"
   ]
  },
  {
   "cell_type": "code",
   "execution_count": 842,
   "id": "988eb790-7662-4cd8-bcb1-223a7db7a156",
   "metadata": {},
   "outputs": [],
   "source": [
    "poisson_params = {\n",
    "    'poisson_system': poisson_system,\n",
    "    'linear_problem': linear_problem,\n",
    "    'site_coords': site_coords,\n",
    "    'site_indices': site_indices,\n",
    "}    \n",
    "\n",
    "crds = site_coords\n",
    "grid_spacing = grid_spacing_twoDEG\n",
    "offset = crds[0]%grid_spacing\n",
    "\n",
    "kwant_params = {\n",
    "    'offset': offset,\n",
    "    'grid_spacing': a,\n",
    "    'finite_system_object': trijunction,\n",
    "    'finite_system_params_object': f_params,\n",
    "    \n",
    "}\n"
   ]
  },
  {
   "cell_type": "code",
   "execution_count": 843,
   "id": "65f31a56-6bdd-407e-9658-a55a8530c680",
   "metadata": {},
   "outputs": [],
   "source": [
    "def spectrum_f_voltages(\n",
    "    kwant_params,\n",
    "    general_params,\n",
    "    potential,\n",
    "    no_of_eigenvalues = 6,\n",
    "    return_eigenvecs = False,\n",
    "    phis = [0, 0],    \n",
    "):\n",
    "    kp = kwant_params\n",
    "    \n",
    "    general_params.update(potential=potential)\n",
    "    \n",
    "\n",
    "    general_params['phi1'] = phis[0]\n",
    "    general_params['phi2'] = phis[1]\n",
    "    \n",
    "    ham_mat = kp['finite_system_object'].hamiltonian_submatrix(\n",
    "        sparse=True, params=kp['finite_system_params_object'](**general_params))\n",
    "    \n",
    "    if return_eigenvecs:\n",
    "        evals, evecs = sl.sort_eigen(sparse.linalg.eigsh(ham_mat.tocsc(), k=no_of_eigenvalues, sigma = 0))\n",
    "        \n",
    "        return evals, evecs\n",
    "    else:\n",
    "        evals = np.sort(\n",
    "            sparse.linalg.eigsh(ham_mat.tocsc(), k = no_of_eigenvalues, sigma = 0,\n",
    "                                return_eigenvectors = return_eigenvecs)\n",
    "        )\n",
    "        evecs = []\n",
    "        \n",
    "        return evals"
   ]
  },
  {
   "cell_type": "code",
   "execution_count": 40,
   "id": "480a88b5-43a2-4e42-a48a-df2fc37eaf66",
   "metadata": {},
   "outputs": [],
   "source": [
    "voltage_dict = {'left' : -0.0026, \n",
    "                'right' : -0.0028, \n",
    "                'top' : -0.0024, \n",
    "                'back' : 0.00045}"
   ]
  },
  {
   "cell_type": "code",
   "execution_count": 844,
   "id": "a07cb3ed-7a12-43da-885a-c1673a209acf",
   "metadata": {},
   "outputs": [],
   "source": [
    "for i in range(1, 3):\n",
    "    voltages['left_'+str(i)] = voltage_dict['left']\n",
    "    voltages['right_'+str(i)] = voltage_dict['right']\n",
    "    voltages['top_'+str(i)] = voltage_dict['top']\n",
    "    \n",
    "voltages['global_accumul'] = voltage_dict['back']"
   ]
  },
  {
   "cell_type": "code",
   "execution_count": 845,
   "id": "d70db3e5-c97e-465e-b9ec-b2286af2cde5",
   "metadata": {},
   "outputs": [],
   "source": [
    "centers = np.array(geometry['centers']) / a\n",
    "nw_l = geometry['nw_l'] / a\n",
    "nw_w = geometry['nw_w'] / a\n",
    "\n",
    "depletion_regions  = {'left': np.array(((centers[0][0] - nw_w /2, centers[0][1]),\n",
    "                              (centers[0][0] + nw_w /2, centers[0][1])), dtype = 'float32'),\n",
    "                      'right': np.array(((centers[1][0] - nw_w /2, centers[1][1]),\n",
    "                               (centers[1][0] + nw_w /2, centers[1][1])), dtype = 'float32'),\n",
    "                     'top':   np.array(((centers[2][0] - nw_w /2, centers[2][1] - nw_l),\n",
    "                              (centers[2][0] + nw_w /2, centers[2][1] - nw_l)), dtype = 'float32')}"
   ]
  },
  {
   "cell_type": "code",
   "execution_count": 846,
   "id": "61d7389a-42d0-40bb-9f62-a99691e4220e",
   "metadata": {},
   "outputs": [],
   "source": [
    "grid = poisson_system.grid.points.astype('float32')"
   ]
  },
  {
   "cell_type": "code",
   "execution_count": 847,
   "id": "bcc84abb-49a4-4e31-9835-8c9158b0357f",
   "metadata": {},
   "outputs": [],
   "source": [
    "voltage_regions = poisson_system.regions.voltage.tag_points"
   ]
  },
  {
   "cell_type": "code",
   "execution_count": 848,
   "id": "d15c221e-2998-4f20-ab9f-8d8d57512bad",
   "metadata": {},
   "outputs": [],
   "source": [
    "twodeg_grid = site_indices\n",
    "twodeg_grid_monolayer = twodeg_grid[grid[twodeg_grid][:, 2] == np.unique(grid[twodeg_grid][:, 2])[0]]"
   ]
  },
  {
   "cell_type": "code",
   "execution_count": 849,
   "id": "a4424fef-ccb5-4aed-92af-e59cbb3b1bc3",
   "metadata": {},
   "outputs": [],
   "source": [
    "def depletion_points(grid, monolayer, boundary):\n",
    "    Y = np.argmin(np.abs((grid[monolayer][:, 1] - boundary[0, 1])))\n",
    "    X = grid[monolayer][:, 1] == grid[monolayer[Y]][1]\n",
    "    point_indices = np.multiply(grid[monolayer[X]][:, 0] > boundary[0, 0], \n",
    "                                grid[monolayer[X]][:, 0] < boundary[1, 0])\n",
    "    \n",
    "    return monolayer[X][point_indices]"
   ]
  },
  {
   "cell_type": "code",
   "execution_count": 850,
   "id": "8f4722e8-9323-425a-9be5-349f51464387",
   "metadata": {},
   "outputs": [],
   "source": [
    "def closest_node(node, nodes):\n",
    "    \"\"\"Euclidean distance between a node and array of nodes\"\"\"\n",
    "    nodes = np.asarray(nodes)\n",
    "    dist = np.sum((nodes - node)**2, axis=1)\n",
    "    return np.argmin(dist)"
   ]
  },
  {
   "cell_type": "code",
   "execution_count": 851,
   "id": "868eb4b2-7a22-46b7-996b-1193f6feb452",
   "metadata": {},
   "outputs": [],
   "source": [
    "dep_indices = []\n",
    "acc_indices = []\n",
    "for gate in ['left_1', 'left_2', 'right_1', 'right_2', 'top_1', 'top_2']:\n",
    "    indices = voltage_regions[gate]\n",
    "    center = Polygon(grid_points[indices][:, [0, 1]]).centroid.coords\n",
    "    closest_coord_index = closest_node(list(center)[0], \n",
    "                                       grid_points[twodeg_grid][:, [0, 1]])\n",
    "    dep_indices.append([closest_coord_index])\n",
    "\n",
    "for gate in ['top']:\n",
    "    indices = depletion_points(grid, twodeg_grid_monolayer, depletion_regions[gate])\n",
    "    dep_indices.append(np.array([np.hstack(list(map(lambda x: np.argwhere(twodeg_grid == x), \n",
    "                                                    indices)))[0][0]]))\n",
    "\n",
    "for gate in ['left', 'right']:\n",
    "    indices = depletion_points(grid, twodeg_grid_monolayer, depletion_regions[gate])\n",
    "    acc_indices.append(np.array([np.hstack(list(map(lambda x: np.argwhere(twodeg_grid == x), \n",
    "                                                    indices)))[0][0]]))"
   ]
  },
  {
   "cell_type": "code",
   "execution_count": 852,
   "id": "1215d5d2-0069-4dd9-ba87-f1f5d028d8dc",
   "metadata": {},
   "outputs": [],
   "source": [
    "def left(site):\n",
    "    x, y = site.pos\n",
    "    return x < 0\n",
    "leftop = Density(trijunction, onsite = np.eye(4), where = left, sum = True)\n",
    "\n",
    "def right(site):\n",
    "    x, y = site.pos\n",
    "    return x > 0\n",
    "rightop = Density(trijunction, onsite = np.eye(4), where = right, sum = True)\n",
    "\n",
    "def top(site):\n",
    "    x, y = site.pos\n",
    "    return y > 0\n",
    "topop = Density(trijunction, onsite = np.eye(4), where = top, sum = True)"
   ]
  },
  {
   "cell_type": "code",
   "execution_count": 853,
   "id": "4a21a210-05f9-4b39-bbbc-a40973f7ec17",
   "metadata": {},
   "outputs": [],
   "source": [
    "from utility import gather_data"
   ]
  },
  {
   "cell_type": "code",
   "execution_count": 1220,
   "id": "2f451967-e7ab-4a8e-b6eb-430723f250aa",
   "metadata": {},
   "outputs": [],
   "source": [
    "def gate_tuner(x, *argv):\n",
    "    \n",
    "    voltages = {}\n",
    "    \n",
    "    voltages['left_1'] = x[0]\n",
    "    voltages['right_2'] = x[0]\n",
    "    voltages['left_2'] = x[1]\n",
    "    voltages['right_1'] = x[1]\n",
    "    voltages['top_1'] = x[2]\n",
    "    voltages['top_2'] = x[2]\n",
    "    \n",
    "    voltages['global_accumul'] = x[3]\n",
    "    \n",
    "    poisson_params, kwant_params, general_params,  = argv[:3]\n",
    "    dep_points, acc_points, coupled_pair, uncoupled_pairs  = argv[3:7]\n",
    "    base_hamiltonian, linear_hamiltonian = argv[7:9]\n",
    "    mlwf = argv[9]\n",
    "    \n",
    "    \n",
    "    pp = poisson_params\n",
    "    kp = kwant_params\n",
    "    \n",
    "#     charges = {}\n",
    "#     potential = gate_potential(\n",
    "#             pp['poisson_system'],\n",
    "#             pp['linear_problem'],\n",
    "#             pp['site_coords'],\n",
    "#             pp['site_indices'],\n",
    "#             voltages,\n",
    "#             charges,\n",
    "#             offset = kp['offset'],\n",
    "#             grid_spacing = kp['grid_spacing']\n",
    "#         )\n",
    "    \n",
    "#     potential.update((x, y*-1) for x, y in potential.items())\n",
    "    \n",
    "    \n",
    "#     potential_array = np.array(list(potential.values()))\n",
    "\n",
    "#     dep_potential = np.array([potential_array[points][0] for points in dep_points])\n",
    "#     acc_potential = np.array([potential_array[points][0] for points in acc_points])\n",
    "    \n",
    "    \n",
    "    # cost = []\n",
    "    # barrier_cost = dep_potential - general_params['mus_nw'][0]\n",
    "    # cost.append(sum(np.abs(barrier_cost)))\n",
    "    # accumulation_cost = acc_potential - (general_params['mus_nw'][0] - 0.5e-3)\n",
    "    # cost.append(sum(np.abs(accumulation_cost)))\n",
    "    \n",
    "\n",
    "    summed_ham = sum(\n",
    "        [\n",
    "            linear_ham[key] * voltages[key]\n",
    "            for key, value in linear_ham.items()\n",
    "        ]\n",
    "    )\n",
    "\n",
    "    tight_binding_hamiltonian = base_hamiltonian + summed_ham\n",
    "\n",
    "\n",
    "    eigval, eigvec = sl.sort_eigen(sparse.linalg.eigsh(tight_binding_hamiltonian.tocsc(), \n",
    "                                                       k=12, sigma = 0))\n",
    "    \n",
    "#     fig, ax = plt.subplots(1, 6, figsize = (10, 5), sharey= True)\n",
    "#     for i in range(6):\n",
    "#         kwant.plotter.density(trijunction, density(eigvec[i]), ax = ax[i]);\n",
    "    \n",
    "#     filepath = '/home/tinkerer/trijunction-design/data/optimization/'\n",
    "#     seed = gather_data(filepath)\n",
    "\n",
    "#     if \".ipynb_checkpoints\" in seed:\n",
    "#         os.system(\"rm -rf .ipynb_checkpoints\")\n",
    "\n",
    "#     if len(seed):\n",
    "#         file_name = filepath + \"plt_\" + str(max(seed) + 1) + \"_.png\"\n",
    "#     else:\n",
    "#         file_name = filepath + \"plt_\" + str(0) + \"_.png\"\n",
    "\n",
    "#     plt.savefig(file_name, format=\"png\", bbox_inches=\"tight\", pad_inches=0.0)\n",
    "\n",
    "#     plt.close()\n",
    "\n",
    "    \n",
    "    \n",
    "    lowest_e_indices = np.argsort(np.abs(eigval))[: 6]\n",
    "    lowest_e_energies = eigval[lowest_e_indices]\n",
    "    coupled_states = eigvec.T[:, lowest_e_indices].T\n",
    "    \n",
    "    # Overlap matrix\n",
    "    decoupled_states = mlwf\n",
    "    S = coupled_states @ decoupled_states.T.conj()\n",
    "\n",
    "    # Unitary matrix using SVD\n",
    "    U, _, Vh = svd(S)\n",
    "    S_prime = U @ Vh\n",
    "\n",
    "    # Transform coupled Hamiltonian to Majorana basis\n",
    "    coupled_ham = S_prime.T.conj() @ np.diag(lowest_e_energies) @ S_prime\n",
    "    \n",
    "    coupled_ham = coupled_ham[2:5, 2:5]/general_params['Delta']\n",
    "    \n",
    "    print(coupled_ham[0, 1])\n",
    "\n",
    "\n",
    "    coupled_cost = -1 * np.abs(coupled_ham[0, 1])\n",
    "    \n",
    "\n",
    "    uncoupled_cost = np.abs(coupled_ham[0, 2]) + np.abs(coupled_ham[1, 2])\n",
    "\n",
    "    cost = coupled_cost + uncoupled_cost\n",
    "\n",
    "\n",
    "    \n",
    "    return cost # -1 to maximize the couplings\n",
    "    "
   ]
  },
  {
   "cell_type": "code",
   "execution_count": 1221,
   "id": "e5f9c4eb-ecfe-4927-b7a9-33d9f8d27e41",
   "metadata": {},
   "outputs": [],
   "source": [
    "mu = pm.bands[0]"
   ]
  },
  {
   "cell_type": "raw",
   "id": "e58377a4-a1dd-45a1-8c2a-37bca5c72a05",
   "metadata": {},
   "source": [
    "params = pm.junction_parameters(m_nw=[mu, mu, mu], m_qd=0)"
   ]
  },
  {
   "cell_type": "code",
   "execution_count": 1222,
   "id": "ee3a1f6e-331b-4663-8740-5b4385cf25e5",
   "metadata": {},
   "outputs": [],
   "source": [
    "coupled_pairs = None # 0: left, 1: right, 2: top\n",
    "uncoupled_pairs = None\n",
    "args = (poisson_params, kwant_params, params, \n",
    "        dep_indices, acc_indices, coupled_pairs, uncoupled_pairs,\n",
    "        base_hamiltonian, linear_ham,\n",
    "        mlwf)"
   ]
  },
  {
   "cell_type": "code",
   "execution_count": 1223,
   "id": "df0011d5-81e8-4950-9531-9c4ace3d37d6",
   "metadata": {},
   "outputs": [],
   "source": [
    "initial_condition = [-0.0014, -0.0014, -0.0037, 3e-3]"
   ]
  },
  {
   "cell_type": "raw",
   "id": "42dc6af5-a218-4aeb-95d0-1c84bbd61046",
   "metadata": {},
   "source": [
    "from utility import gather_data"
   ]
  },
  {
   "cell_type": "code",
   "execution_count": null,
   "id": "e54660a3-9297-4394-be0c-276895a26dae",
   "metadata": {
    "tags": []
   },
   "outputs": [
    {
     "name": "stdout",
     "output_type": "stream",
     "text": [
      "(-0.07266112338565074-0.04364955169627021j)\n",
      "(-0.07266295239954276-0.04365065043563476j)\n",
      "(-0.07266241379508362-0.04365032688100024j)\n",
      "(-0.07266145014417279-0.04364974798917575j)\n",
      "(-0.07266004885883905-0.043648906198218214j)\n",
      "| niter |f evals|CG iter|  obj func   |tr radius |   opt    |  c viol  |\n",
      "|-------|-------|-------|-------------|----------|----------|----------|\n",
      "|   1   |   5   |   0   | -8.4750e-02 | 1.00e-03 | 1.43e+02 | 0.00e+00 |\n"
     ]
    }
   ],
   "source": [
    "%%time\n",
    "\n",
    "sol1 = minimize(\n",
    "            gate_tuner,\n",
    "            initial_condition,\n",
    "            args=args,\n",
    "    # ftol = 1e-6,\n",
    "    # verbose = 2,\n",
    "    # max_nfev= 15\n",
    "    method = 'trust-constr',\n",
    "            options = {'disp': True, 'verbose': 2, 'maxiter': 20, \n",
    "                       'initial_tr_radius': 1e-3,\n",
    "                       'gtol': 1e-3}\n",
    "        )"
   ]
  },
  {
   "cell_type": "raw",
   "id": "bf3018f9-5cf6-4ff7-9ebe-e9c85466aac7",
   "metadata": {},
   "source": [
    "voltages = {'left_1': -0.003681622975055661,\n",
    " 'left_2': -0.008681622975055661,\n",
    " 'right_1': -0.008681622975055661,\n",
    " 'right_2': -0.003681622975055661,\n",
    " 'top_1': -0.0037495890626959454,\n",
    " 'top_2': -0.0037495890626959454,\n",
    " 'global_accumul': -6.98461859286267e-05}"
   ]
  },
  {
   "cell_type": "raw",
   "id": "ea17e0e1-358b-4565-bed8-fb1fbece928f",
   "metadata": {},
   "source": [
    "voltages['left_2'] -= 0.005\n",
    "voltages['right_1'] = voltages['left_2']\n",
    "voltages['right_2'] = voltages['left_1']"
   ]
  },
  {
   "cell_type": "code",
   "execution_count": 634,
   "id": "60d5f8bd-8fc7-4edb-bdff-57a7720a5d33",
   "metadata": {},
   "outputs": [
    {
     "name": "stdout",
     "output_type": "stream",
     "text": [
      "CPU times: user 567 ms, sys: 7.07 ms, total: 575 ms\n",
      "Wall time: 571 ms\n"
     ]
    }
   ],
   "source": [
    "%%time\n",
    "\n",
    "charges = {}\n",
    "potential = gate_potential(\n",
    "        poisson_system,\n",
    "        linear_problem,\n",
    "        site_coords[:, [0, 1]],\n",
    "        site_indices,\n",
    "        voltages,\n",
    "        charges,\n",
    "        offset = offset[[0, 1]],\n",
    "        grid_spacing = kwant_params['grid_spacing']\n",
    "    )\n",
    "\n",
    "potential.update((x, y*-1) for x, y in potential.items())\n",
    "\n",
    "params.update(potential=potential)"
   ]
  },
  {
   "cell_type": "code",
   "execution_count": 635,
   "id": "2c1b1a54-16f4-45fd-94f5-8a76f645ffc4",
   "metadata": {},
   "outputs": [],
   "source": [
    "f_mu = f_params(**params)['mu']"
   ]
  },
  {
   "cell_type": "code",
   "execution_count": 636,
   "id": "e222bb7a-5a2e-402f-b922-411bc4f856d4",
   "metadata": {},
   "outputs": [],
   "source": [
    "def plot_f_mu(i):\n",
    "    x, y = trijunction.sites[i].pos\n",
    "    return f_mu(x, y)"
   ]
  },
  {
   "cell_type": "code",
   "execution_count": 637,
   "id": "9c761a2b-bb0a-46a2-8415-7b5aab0de2a7",
   "metadata": {},
   "outputs": [],
   "source": [
    "kwant_sites = np.array(list(site.pos for site in trijunction.sites))"
   ]
  },
  {
   "cell_type": "code",
   "execution_count": 638,
   "id": "97bf5dfd-edf9-4d79-8a8f-e46208e1ddae",
   "metadata": {},
   "outputs": [],
   "source": [
    "to_plot = [plot_f_mu(i) for i in range(len(kwant_sites))]"
   ]
  },
  {
   "cell_type": "code",
   "execution_count": 639,
   "id": "335f62f4-d18b-405d-a77f-5185213a9314",
   "metadata": {},
   "outputs": [],
   "source": [
    "grid_points = poisson_system.grid.points\n",
    "voltage_regions = poisson_system.regions.voltage.tag_points"
   ]
  },
  {
   "cell_type": "code",
   "execution_count": 641,
   "id": "1006783f-6650-4b7a-8081-fbf7a2af34ff",
   "metadata": {},
   "outputs": [
    {
     "data": {
      "image/png": "[encoded data removed]",
      "text/plain": [
       "<Figure size 504x360 with 2 Axes>"
      ]
     },
     "metadata": {
      "needs_background": "light"
     },
     "output_type": "display_data"
    }
   ],
   "source": [
    "fig, ax = plt.subplots(1, 1, figsize = (7, 5))\n",
    "cax = ax.scatter(kwant_sites[:, 0 ], kwant_sites[:, 1], \n",
    "                 c = np.array(to_plot), cmap = 'inferno_r', \n",
    "                );\n",
    "ax.set_ylim(-0.5e-6, 1.0e-6);\n",
    "plt.colorbar(cax);\n",
    "# plt.axis('equal')"
   ]
  },
  {
   "cell_type": "code",
   "execution_count": 881,
   "id": "71e6889b-df58-42f3-9b14-ad5563d854a5",
   "metadata": {},
   "outputs": [
    {
     "name": "stderr",
     "output_type": "stream",
     "text": [
      "100%|██████████| 7/7 [00:05<00:00,  1.40it/s]"
     ]
    },
    {
     "name": "stdout",
     "output_type": "stream",
     "text": [
      "CPU times: user 5.6 s, sys: 142 ms, total: 5.74 s\n",
      "Wall time: 5.73 s\n"
     ]
    },
    {
     "name": "stderr",
     "output_type": "stream",
     "text": [
      "\n"
     ]
    }
   ],
   "source": [
    "%%time\n",
    "\n",
    "base_hamiltonian, linear_ham = linear_Hamiltonian(poisson_params, \n",
    "                                                  kwant_params, \n",
    "                                                  params, \n",
    "                                                  list(voltage_regions.keys()),\n",
    "                                                  phis = [optimal_phase[0], np.pi])"
   ]
  },
  {
   "cell_type": "code",
   "execution_count": 553,
   "id": "fa59aee7-e25e-4524-97e9-c39a9520d6fd",
   "metadata": {},
   "outputs": [],
   "source": [
    "density = Density(trijunction, np.eye(4))"
   ]
  },
  {
   "cell_type": "markdown",
   "id": "45c95829-f17b-4bac-8af6-bc5ce7bea50f",
   "metadata": {},
   "source": [
    "#### Algorithm to transform basis of the coupled Hamiltonian to Majorana Hamiltonian"
   ]
  },
  {
   "cell_type": "markdown",
   "id": "161ab704-f0f5-434e-8bb5-873b2b6faec9",
   "metadata": {},
   "source": [
    "### 1. Simulate the decoupled system and Wannerize the eigenstates"
   ]
  },
  {
   "cell_type": "code",
   "execution_count": 1074,
   "id": "5193878f-6efc-4132-a1f2-3e803b12ef0d",
   "metadata": {},
   "outputs": [],
   "source": [
    "# 1. Simulate the decoupled system and Wannerize the eigenstates\n",
    "\n",
    "voltages = {'left_1': -0.0036,\n",
    "            'left_2': -0.0086,\n",
    "            'right_1': -0.0086,\n",
    "            'right_2': -0.0036,\n",
    "            'top_1': -0.0037,\n",
    "            'top_2': -0.0037,\n",
    "            'global_accumul': -7e-05}\n",
    "\n",
    "summed_ham = sum(\n",
    "    [\n",
    "        linear_ham[key] * voltages[key]\n",
    "        for key, value in linear_ham.items()\n",
    "    ]\n",
    ")\n",
    "\n",
    "tight_binding_hamiltonian = base_hamiltonian + summed_ham\n",
    "\n",
    "\n",
    "eigval, eigvec = sl.sort_eigen(sparse.linalg.eigsh(tight_binding_hamiltonian.tocsc(), \n",
    "                                                   k=12, sigma = 0))\n",
    "\n",
    "lowest_e_indices = np.argsort(np.abs(eigval))[: 6]\n",
    "lowest_e_energies = eigval[lowest_e_indices]\n",
    "lowest_e_states = eigvec.T[:, lowest_e_indices].T"
   ]
  },
  {
   "cell_type": "code",
   "execution_count": 1077,
   "id": "cb955010-009e-4d7d-b301-aad2744b1cf1",
   "metadata": {},
   "outputs": [
    {
     "data": {
      "image/png": "[encoded data removed]",
      "text/plain": [
       "<Figure size 360x360 with 6 Axes>"
      ]
     },
     "metadata": {
      "needs_background": "light"
     },
     "output_type": "display_data"
    }
   ],
   "source": [
    "fig, ax = plt.subplots(1, len(lowest_e_states), figsize = (5, 5), sharey = True)\n",
    "for i in range(len(lowest_e_states)):\n",
    "    cax = kwant.plotter.density(trijunction, density(lowest_e_states[i]), ax = ax[i]);"
   ]
  },
  {
   "cell_type": "markdown",
   "id": "41a62684-2f80-46cf-8621-a160fc6d796b",
   "metadata": {},
   "source": [
    "#### Wannierization"
   ]
  },
  {
   "cell_type": "code",
   "execution_count": 1096,
   "id": "c3a29025-11e0-47f8-9e71-eda6383fb14e",
   "metadata": {},
   "outputs": [],
   "source": [
    "X_operator = Density(\n",
    "            trijunction, onsite=lambda site: np.eye(4) * site.pos[0]\n",
    "        )\n",
    "\n",
    "Y_operator = Density(\n",
    "            trijunction, onsite=lambda site: np.eye(4) * site.pos[1]\n",
    "        )"
   ]
  },
  {
   "cell_type": "code",
   "execution_count": 1097,
   "id": "ff478c94-f404-4353-b2a9-17c3c68dfa77",
   "metadata": {},
   "outputs": [],
   "source": [
    "projected_X_operator = wannier_1D_operator(X_operator, \n",
    "                                           lowest_e_states.T)\n",
    "\n",
    "projected_Y_operator = wannier_1D_operator(Y_operator, \n",
    "                                           lowest_e_states.T)"
   ]
  },
  {
   "cell_type": "code",
   "execution_count": 1181,
   "id": "f7778698-9cb3-47fa-9aac-8a1ea690f60d",
   "metadata": {},
   "outputs": [],
   "source": [
    "w_basis = wannier_basis([projected_X_operator, \n",
    "                         projected_Y_operator])\n",
    "\n",
    "mlwf = w_basis.T @ lowest_e_states"
   ]
  },
  {
   "cell_type": "code",
   "execution_count": 1183,
   "id": "1a591bea-28cb-4c87-8621-35593ddbfe11",
   "metadata": {},
   "outputs": [
    {
     "data": {
      "text/plain": [
       "array([[-3.41817205e-04-2.05436797e-05j, -3.57340459e-04-9.58416649e-05j,\n",
       "        -2.07584140e-05+3.69387217e-04j, ...,\n",
       "        -7.65588538e-17-1.54744000e-18j, -2.27675192e-17+7.31139415e-17j,\n",
       "         8.09684115e-17-9.29578042e-17j],\n",
       "       [ 5.21876983e-12-6.47694472e-12j,  6.85318376e-12-5.68233015e-12j,\n",
       "        -7.00604851e-12-5.62752792e-12j, ...,\n",
       "        -3.22962746e-17+1.92102503e-15j,  1.36486859e-15-1.35239706e-15j,\n",
       "        -1.67154611e-15+1.69507328e-16j],\n",
       "       [ 7.80852248e-15+3.26613906e-15j, -5.09345694e-15+1.13688910e-14j,\n",
       "         1.22450675e-14-2.29920853e-15j, ...,\n",
       "        -3.43706975e-09+5.73910095e-09j,  6.38389012e-09-1.99916862e-09j,\n",
       "        -7.14480708e-09-8.52771557e-09j],\n",
       "       [-4.80827906e-18-1.13869548e-18j, -4.77389363e-18+7.00145149e-18j,\n",
       "        -7.95296941e-18+2.99587457e-18j, ...,\n",
       "        -2.21858051e-12+5.31745106e-12j, -5.68890066e-12+9.13123329e-13j,\n",
       "        -6.62852230e-12-6.61290752e-12j]])"
      ]
     },
     "execution_count": 1183,
     "metadata": {},
     "output_type": "execute_result"
    }
   ],
   "source": [
    "mlwf "
   ]
  },
  {
   "cell_type": "code",
   "execution_count": 1099,
   "id": "8a31f15d-edc1-413c-a80e-fbe438d34d92",
   "metadata": {},
   "outputs": [
    {
     "data": {
      "image/png": "[encoded data removed]",
      "text/plain": [
       "<Figure size 360x360 with 6 Axes>"
      ]
     },
     "metadata": {
      "needs_background": "light"
     },
     "output_type": "display_data"
    }
   ],
   "source": [
    "fig, ax = plt.subplots(1, 6, figsize = (5, 5), sharey = True)\n",
    "for i in range(6):\n",
    "    cax = kwant.plotter.density(trijunction, density(mlwf[i]), ax = ax[i]);"
   ]
  },
  {
   "cell_type": "markdown",
   "id": "8bd7c63a-ad3a-4e97-9052-4e7311fe1356",
   "metadata": {},
   "source": [
    "### 2. Simulate coupled system and find the eigenstates"
   ]
  },
  {
   "cell_type": "code",
   "execution_count": 1151,
   "id": "0ad197db-508b-437b-a350-852e32f93cfb",
   "metadata": {},
   "outputs": [],
   "source": [
    "voltages = {'left_1': -0.0014,\n",
    " 'left_2': -0.0014,\n",
    " 'right_1': -0.0014,\n",
    " 'right_2': -0.0014,\n",
    " 'top_1': -0.0037,\n",
    " 'top_2': -0.0037,\n",
    " 'global_accumul': 3e-3}"
   ]
  },
  {
   "cell_type": "code",
   "execution_count": 1152,
   "id": "e0db9015-7a28-4649-8232-38478d34c511",
   "metadata": {},
   "outputs": [
    {
     "name": "stdout",
     "output_type": "stream",
     "text": [
      "CPU times: user 584 ms, sys: 80.1 ms, total: 664 ms\n",
      "Wall time: 662 ms\n"
     ]
    }
   ],
   "source": [
    "%%time\n",
    "\n",
    "charges = {}\n",
    "potential = gate_potential(\n",
    "        poisson_system,\n",
    "        linear_problem,\n",
    "        site_coords[:, [0, 1]],\n",
    "        site_indices,\n",
    "        voltages,\n",
    "        charges,\n",
    "        offset = offset[[0, 1]],\n",
    "        grid_spacing = kwant_params['grid_spacing']\n",
    "    )\n",
    "\n",
    "potential.update((x, y*-1) for x, y in potential.items())\n",
    "\n",
    "params.update(potential=potential)"
   ]
  },
  {
   "cell_type": "code",
   "execution_count": 1153,
   "id": "fb7bebe4-8d38-4001-a7fc-0a7cd4e47f81",
   "metadata": {},
   "outputs": [],
   "source": [
    "f_mu = f_params(**params)['mu']"
   ]
  },
  {
   "cell_type": "code",
   "execution_count": 1154,
   "id": "a15dd351-86d3-46d7-b943-316423d132cf",
   "metadata": {},
   "outputs": [],
   "source": [
    "def plot_f_mu(i):\n",
    "    x, y = trijunction.sites[i].pos\n",
    "    return f_mu(x, y)"
   ]
  },
  {
   "cell_type": "code",
   "execution_count": 1155,
   "id": "eb68bb27-823a-4e10-afec-ec1b84dd42a2",
   "metadata": {},
   "outputs": [],
   "source": [
    "kwant_sites = np.array(list(site.pos for site in trijunction.sites))"
   ]
  },
  {
   "cell_type": "code",
   "execution_count": 1156,
   "id": "4fba466b-c828-45eb-9110-c5dab24243bc",
   "metadata": {},
   "outputs": [],
   "source": [
    "to_plot = [plot_f_mu(i) for i in range(len(kwant_sites))]"
   ]
  },
  {
   "cell_type": "code",
   "execution_count": 1157,
   "id": "22b88129-5c1c-4932-8c19-6ea3397d3c4f",
   "metadata": {},
   "outputs": [],
   "source": [
    "grid_points = poisson_system.grid.points\n",
    "voltage_regions = poisson_system.regions.voltage.tag_points"
   ]
  },
  {
   "cell_type": "code",
   "execution_count": 1158,
   "id": "6255d7a6-d2df-4ecc-ba5a-78226c74d6b9",
   "metadata": {},
   "outputs": [
    {
     "data": {
      "image/png": "[encoded data removed]",
      "text/plain": [
       "<Figure size 504x360 with 2 Axes>"
      ]
     },
     "metadata": {
      "needs_background": "light"
     },
     "output_type": "display_data"
    }
   ],
   "source": [
    "fig, ax = plt.subplots(1, 1, figsize = (7, 5))\n",
    "cax = ax.scatter(kwant_sites[:, 0 ], kwant_sites[:, 1], \n",
    "                 c = np.array(to_plot), cmap = 'inferno_r', \n",
    "                );\n",
    "ax.set_ylim(0, 0.6e-6);\n",
    "plt.colorbar(cax);\n",
    "# plt.axis('equal')"
   ]
  },
  {
   "cell_type": "code",
   "execution_count": 1176,
   "id": "45a8c9af-8d9f-4bc5-9daf-02edf88646a7",
   "metadata": {},
   "outputs": [],
   "source": [
    "summed_ham = sum(\n",
    "    [\n",
    "        linear_ham[key] * voltages[key]\n",
    "        for key, value in linear_ham.items()\n",
    "    ]\n",
    ")\n",
    "\n",
    "tight_binding_hamiltonian = base_hamiltonian + summed_ham\n",
    "\n",
    "\n",
    "eigval, eigvec = sl.sort_eigen(sparse.linalg.eigsh(tight_binding_hamiltonian.tocsc(), \n",
    "                                                   k=12, sigma = 0))"
   ]
  },
  {
   "cell_type": "code",
   "execution_count": 1178,
   "id": "7a45fead-2366-4136-9169-8f25e16f4744",
   "metadata": {},
   "outputs": [
    {
     "data": {
      "text/plain": [
       "{'left_1': -0.0014,\n",
       " 'left_2': -0.0014,\n",
       " 'right_1': -0.0014,\n",
       " 'right_2': -0.0014,\n",
       " 'top_1': -0.0037,\n",
       " 'top_2': -0.0037,\n",
       " 'global_accumul': 0.003}"
      ]
     },
     "execution_count": 1178,
     "metadata": {},
     "output_type": "execute_result"
    }
   ],
   "source": [
    "voltages"
   ]
  },
  {
   "cell_type": "code",
   "execution_count": 1160,
   "id": "1e64c629-1d50-413d-bc99-918e7567256f",
   "metadata": {},
   "outputs": [],
   "source": [
    "lowest_e_indices = np.argsort(np.abs(eigval))[: 6]\n",
    "lowest_e_energies = eigval[lowest_e_indices]\n",
    "coupled_states = eigvec.T[:, lowest_e_indices].T"
   ]
  },
  {
   "cell_type": "code",
   "execution_count": 1161,
   "id": "e2cff0f2-1b8f-4776-88d6-11e3b887e100",
   "metadata": {},
   "outputs": [
    {
     "data": {
      "text/plain": [
       "array([-1.37364432e-11,  1.37364435e-11, -2.52247300e-08,  2.52247301e-08,\n",
       "        4.23822692e-05, -4.23822692e-05])"
      ]
     },
     "execution_count": 1161,
     "metadata": {},
     "output_type": "execute_result"
    }
   ],
   "source": [
    "lowest_e_energies"
   ]
  },
  {
   "cell_type": "code",
   "execution_count": 1162,
   "id": "30bf65ac-b55e-4f68-bbf0-24d79726687c",
   "metadata": {},
   "outputs": [
    {
     "data": {
      "image/png": "[encoded data removed]",
      "text/plain": [
       "<Figure size 360x360 with 6 Axes>"
      ]
     },
     "metadata": {
      "needs_background": "light"
     },
     "output_type": "display_data"
    }
   ],
   "source": [
    "fig, ax = plt.subplots(1, len(lowest_e_states), figsize = (5, 5), sharey = True)\n",
    "for i in range(len(lowest_e_states)):\n",
    "    cax = kwant.plotter.density(trijunction, density(coupled_states[i]), ax = ax[i]);"
   ]
  },
  {
   "cell_type": "code",
   "execution_count": 1163,
   "id": "e1d54156-7f99-45b0-b652-6c215b17ce5d",
   "metadata": {},
   "outputs": [],
   "source": [
    "# Overlap matrix\n",
    "decoupled_states = mlwf\n",
    "S = coupled_states @ decoupled_states.T.conj()\n",
    "\n",
    "# Unitary matrix using SVD\n",
    "U, _, Vh = svd(S)\n",
    "S_prime = U @ Vh\n",
    "\n",
    "# Transform coupled Hamiltonian to Majorana basis\n",
    "coupled_ham = S_prime.T.conj() @ np.diag(lowest_e_energies) @ S_prime"
   ]
  },
  {
   "cell_type": "code",
   "execution_count": 1180,
   "id": "ca2e3160-2fd9-4ad2-8740-2ff80c615bd9",
   "metadata": {},
   "outputs": [
    {
     "data": {
      "text/latex": [
       "$\\displaystyle \\left[\\begin{matrix}-3.8 \\cdot 10^{-9} & -0.0726611234 - 0.0436495517 i & -6.08 \\cdot 10^{-6} - 2.496 \\cdot 10^{-7} i\\\\-0.0726611234 + 0.0436495517 i & 3.8 \\cdot 10^{-9} & 3.8943 \\cdot 10^{-6} + 7.1298 \\cdot 10^{-6} i\\\\-6.08 \\cdot 10^{-6} + 2.496 \\cdot 10^{-7} i & 3.8943 \\cdot 10^{-6} - 7.1298 \\cdot 10^{-6} i & 0\\end{matrix}\\right]$"
      ],
      "text/plain": [
       "Matrix([\n",
       "[                       -3.8e-9, -0.0726611234 - 0.0436495517*I,   -6.08e-6 - 2.496e-7*I],\n",
       "[-0.0726611234 + 0.0436495517*I,                         3.8e-9, 3.8943e-6 + 7.1298e-6*I],\n",
       "[         -6.08e-6 + 2.496e-7*I,        3.8943e-6 - 7.1298e-6*I,                       0]])"
      ]
     },
     "execution_count": 1180,
     "metadata": {},
     "output_type": "execute_result"
    }
   ],
   "source": [
    "Matrix(np.round(coupled_ham[2:5, 2:5]/params['Delta'], 10))"
   ]
  },
  {
   "cell_type": "code",
   "execution_count": 1174,
   "id": "0c28c607-4a82-46ae-8e2a-0c50f2d7011c",
   "metadata": {},
   "outputs": [
    {
     "data": {
      "text/latex": [
       "$\\displaystyle \\left[\\begin{matrix}-1.88772680156594 \\cdot 10^{-12} + 2.42353041068824 \\cdot 10^{-22} i & -3.63305616928252 \\cdot 10^{-5} - 2.18247758481351 \\cdot 10^{-5} i & -3.04000278870465 \\cdot 10^{-9} - 1.24806112146664 \\cdot 10^{-10} i\\\\-3.63305616928252 \\cdot 10^{-5} + 2.18247758481351 \\cdot 10^{-5} i & 1.88773175056703 \\cdot 10^{-12} - 9.43137125224392 \\cdot 10^{-22} i & 1.947168141696 \\cdot 10^{-9} + 3.56492105640574 \\cdot 10^{-9} i\\\\-3.04000278870465 \\cdot 10^{-9} + 1.24806112146664 \\cdot 10^{-10} i & 1.947168141696 \\cdot 10^{-9} - 3.56492105640574 \\cdot 10^{-9} i & 1.39935964022943 \\cdot 10^{-18}\\end{matrix}\\right]$"
      ],
      "text/plain": [
       "Matrix([\n",
       "[-1.88772680156594e-12 + 2.42353041068824e-22*I,  -3.63305616928252e-5 - 2.18247758481351e-5*I, -3.04000278870465e-9 - 1.24806112146664e-10*I],\n",
       "[  -3.63305616928252e-5 + 2.18247758481351e-5*I, 1.88773175056703e-12 - 9.43137125224392e-22*I,     1.947168141696e-9 + 3.56492105640574e-9*I],\n",
       "[ -3.04000278870465e-9 + 1.24806112146664e-10*I,     1.947168141696e-9 - 3.56492105640574e-9*I,                          1.39935964022943e-18]])"
      ]
     },
     "execution_count": 1174,
     "metadata": {},
     "output_type": "execute_result"
    }
   ],
   "source": [
    " Matrix(coupled_ham[2:5, 2:5])"
   ]
  },
  {
   "cell_type": "markdown",
   "id": "f9286ab4-1460-441b-aa27-ceaec0829c44",
   "metadata": {
    "tags": []
   },
   "source": [
    "#### Linear part of the Hamiltonian"
   ]
  },
  {
   "cell_type": "code",
   "execution_count": 56,
   "id": "7345b780-d75d-4033-980b-571a04d270bf",
   "metadata": {},
   "outputs": [],
   "source": [
    "from tqdm import tqdm"
   ]
  },
  {
   "cell_type": "code",
   "execution_count": 53,
   "id": "92ea25a5-11f2-465b-b583-d04b3f55ac94",
   "metadata": {},
   "outputs": [],
   "source": [
    "def linear_Hamiltonian(\n",
    "    poisson_params,\n",
    "    kwant_params,\n",
    "    general_params,\n",
    "    gates,\n",
    "    phis = [0.0, 0.0]\n",
    "):\n",
    "\n",
    "    ## non-linear part of the Hamiltonian\n",
    "    \n",
    "    voltages = {}\n",
    "    \n",
    "    for gate in gates: voltages[gate] = 0.0\n",
    "    \n",
    "    kp = kwant_params\n",
    "    pp = poisson_params\n",
    "    \n",
    "    charges = {}\n",
    "    potential = gate_potential(\n",
    "            pp['poisson_system'],\n",
    "            pp['linear_problem'],\n",
    "            pp['site_coords'][:, [0, 1]],\n",
    "            pp['site_indices'],\n",
    "            voltages,\n",
    "            charges,\n",
    "            offset = kp['offset'][[0, 1]],\n",
    "            grid_spacing = kp['grid_spacing']\n",
    "        )\n",
    "    \n",
    "    \n",
    "    \n",
    "    general_params.update(potential=potential)\n",
    "    general_params['phi1'] = phis[0]\n",
    "    general_params['phi2'] = phis[1]\n",
    "    \n",
    "    bare_hamiltonian = kp['finite_system_object'].hamiltonian_submatrix(\n",
    "        sparse=True, params=kp['finite_system_params_object'](**general_params))\n",
    "    \n",
    "    \n",
    "    hamiltonian_V = {}\n",
    "    for gate in tqdm(gates):\n",
    "        \n",
    "\n",
    "        voltages_t = dict.fromkeys(voltages, 0.0)\n",
    "\n",
    "        voltages_t[gate] = 1.0\n",
    "\n",
    "        potential = gate_potential(\n",
    "            pp['poisson_system'],\n",
    "            pp['linear_problem'],\n",
    "            pp['site_coords'][:, [0, 1]],\n",
    "            pp['site_indices'],\n",
    "            voltages_t,\n",
    "            charges,\n",
    "            offset = kp['offset'][[0, 1]],\n",
    "            grid_spacing = kp['grid_spacing']\n",
    "        )\n",
    "    \n",
    "\n",
    "        general_params.update(potential=potential)\n",
    "\n",
    "        hamiltonian = kp['finite_system_object'].hamiltonian_submatrix(\n",
    "            sparse=True, params=kp['finite_system_params_object'](**general_params))\n",
    "\n",
    "\n",
    "        hamiltonian_V[gate] = hamiltonian - bare_hamiltonian\n",
    "\n",
    "    return bare_hamiltonian, hamiltonian_V\n"
   ]
  },
  {
   "cell_type": "code",
   "execution_count": 503,
   "id": "193f07ef-c0b4-4e14-988c-8cb101f6608e",
   "metadata": {},
   "outputs": [],
   "source": [
    "summed_ham = sum(\n",
    "        [\n",
    "            linear_ham[key] * voltages[key]\n",
    "            for key, value in linear_ham.items()\n",
    "        ]\n",
    "    )\n"
   ]
  },
  {
   "cell_type": "code",
   "execution_count": 504,
   "id": "157a8e3c-27c7-4a1e-8772-97b91ab759ee",
   "metadata": {},
   "outputs": [],
   "source": [
    "pp = poisson_params\n",
    "kp = kwant_params\n",
    "potential = gate_potential(\n",
    "    pp['poisson_system'],\n",
    "    pp['linear_problem'],\n",
    "    pp['site_coords'][:, [0, 1]],\n",
    "    pp['site_indices'],\n",
    "    voltages,\n",
    "    charges,\n",
    "    offset = kp['offset'][[0, 1]],\n",
    "    grid_spacing = kp['grid_spacing']\n",
    ")\n",
    "\n",
    "\n",
    "params.update(potential=potential)\n",
    "\n",
    "test_hamiltonian = kp['finite_system_object'].hamiltonian_submatrix(\n",
    "    sparse=True, params=kp['finite_system_params_object'](**params))"
   ]
  },
  {
   "cell_type": "code",
   "execution_count": 578,
   "id": "8b0b2580-cbb7-41ea-b7ad-33cc25a50901",
   "metadata": {},
   "outputs": [],
   "source": [
    "potential = gate_potential(\n",
    "    pp['poisson_system'],\n",
    "    pp['linear_problem'],\n",
    "    pp['site_coords'],\n",
    "    pp['site_indices'],\n",
    "    voltages,\n",
    "    charges,\n",
    "    offset = kp['offset'],\n",
    "    grid_spacing = kp['grid_spacing']\n",
    ")\n"
   ]
  },
  {
   "cell_type": "code",
   "execution_count": 510,
   "id": "532e075d-aea1-4e72-9109-171d46147fc5",
   "metadata": {},
   "outputs": [],
   "source": [
    "potential = gate_potential(\n",
    "    pp['poisson_system'],\n",
    "    pp['linear_problem'],\n",
    "    pp['site_coords'][:, [0, 1]],\n",
    "    pp['site_indices'],\n",
    "    voltages,\n",
    "    charges,\n",
    "    offset = kp['offset'][[0, 1]],\n",
    "    grid_spacing = kp['grid_spacing']\n",
    ")"
   ]
  },
  {
   "cell_type": "code",
   "execution_count": 519,
   "id": "00922c5a-3afd-4afc-af7f-9b663552675e",
   "metadata": {},
   "outputs": [
    {
     "data": {
      "text/plain": [
       "array([-0.5,  0. ,  0.5])"
      ]
     },
     "execution_count": 519,
     "metadata": {},
     "output_type": "execute_result"
    }
   ],
   "source": [
    "np.unique(grid_points[poisson_system.regions.charge.tag_points['twoDEG']][:, 2])"
   ]
  },
  {
   "cell_type": "code",
   "execution_count": 575,
   "id": "e14d9e85-abcd-4fba-9342-d0410e55deb5",
   "metadata": {},
   "outputs": [],
   "source": [
    "site_tuples = map(tuple, site_coords[:, [0, 1]])"
   ]
  },
  {
   "cell_type": "raw",
   "id": "fa94a4ed-0dd8-4678-ba75-b907a2ea0e7d",
   "metadata": {},
   "source": [
    "len(list(site_tuples))"
   ]
  },
  {
   "cell_type": "code",
   "execution_count": 576,
   "id": "944a7c80-7bcf-4098-8a31-ca46387e0987",
   "metadata": {},
   "outputs": [],
   "source": [
    "from potential import _linear_solution\n",
    "solution = _linear_solution(poisson_system, linear_problem, voltages, {})\n",
    "\n",
    "potential = solution[site_indices]"
   ]
  },
  {
   "cell_type": "code",
   "execution_count": 577,
   "id": "947a15c7-f8df-48cf-8a65-c9b440c7b040",
   "metadata": {},
   "outputs": [
    {
     "ename": "ValueError",
     "evalue": "operands could not be broadcast together with shapes (2,) (3,) ",
     "output_type": "error",
     "traceback": [
      "\u001b[0;31m---------------------------------------------------------------------------\u001b[0m",
      "\u001b[0;31mValueError\u001b[0m                                Traceback (most recent call last)",
      "Input \u001b[0;32mIn [577]\u001b[0m, in \u001b[0;36m<cell line: 2>\u001b[0;34m()\u001b[0m\n\u001b[1;32m      4\u001b[0m     potential_dict[ta\u001b[38;5;241m.\u001b[39marray((site_tuple\u001b[38;5;241m-\u001b[39moffset))] \u001b[38;5;241m=\u001b[39m potential[i]\n\u001b[1;32m      5\u001b[0m \u001b[38;5;28;01melse\u001b[39;00m:\n\u001b[0;32m----> 6\u001b[0m     potential_dict[ta\u001b[38;5;241m.\u001b[39marray((\u001b[43msite_tuple\u001b[49m\u001b[38;5;241;43m-\u001b[39;49m\u001b[43moffset\u001b[49m)\u001b[38;5;241m*\u001b[39mkp[\u001b[38;5;124m'\u001b[39m\u001b[38;5;124mgrid_spacing\u001b[39m\u001b[38;5;124m'\u001b[39m])] \u001b[38;5;241m=\u001b[39m potential[i]\n",
      "\u001b[0;31mValueError\u001b[0m: operands could not be broadcast together with shapes (2,) (3,) "
     ]
    }
   ],
   "source": [
    "potential_dict = {}\n",
    "for i, site_tuple in enumerate(site_tuples):\n",
    "    if grid_spacing == 1:\n",
    "        potential_dict[ta.array((site_tuple-offset))] = potential[i]\n",
    "    else:\n",
    "        potential_dict[ta.array((site_tuple-offset)*kp['grid_spacing'])] = potential[i]"
   ]
  },
  {
   "cell_type": "code",
   "execution_count": 565,
   "id": "a3d88dff-f127-41a9-b6b6-ce38e035c798",
   "metadata": {},
   "outputs": [
    {
     "data": {
      "text/plain": [
       "40368"
      ]
     },
     "execution_count": 565,
     "metadata": {},
     "output_type": "execute_result"
    }
   ],
   "source": [
    "len(potential_dict)"
   ]
  },
  {
   "cell_type": "code",
   "execution_count": null,
   "id": "757d9b0f-eddb-4bc9-8130-6833d52bd462",
   "metadata": {},
   "outputs": [],
   "source": []
  }
 ],
 "metadata": {
  "kernelspec": {
   "display_name": "Python 3 (ipykernel)",
   "language": "python",
   "name": "python3"
  },
  "language_info": {
   "codemirror_mode": {
    "name": "ipython",
    "version": 3
   },
   "file_extension": ".py",
   "mimetype": "text/x-python",
   "name": "python",
   "nbconvert_exporter": "python",
   "pygments_lexer": "ipython3",
   "version": "3.10.4"
  }
 },
 "nbformat": 4,
 "nbformat_minor": 5
}
