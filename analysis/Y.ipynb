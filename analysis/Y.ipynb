{
 "cells": [
  {
   "cell_type": "code",
   "execution_count": 248,
   "id": "21c76eab-e8f2-4222-80a7-36d75ac9b5bf",
   "metadata": {
    "tags": []
   },
   "outputs": [],
   "source": [
    "import sys\n",
    "sys.path.append(\"/home/tinkerer/spin-qubit/codes/\")\n",
    "#sys.path.append(\"/home/tinkerer/Poisson/\")\n",
    "\n",
    "import numpy as np\n",
    "from collections import OrderedDict\n",
    "from ccode.plotting import plot_gates\n",
    "from ccode.gates import rectangular_gate, half_disk_gate\n",
    "from ccode.finite_system import finite_system\n",
    "import ccode.parameters as pm\n",
    "import ccode.solvers as sl\n",
    "import ccode.tools as tl\n",
    "import itertools as it\n",
    "import dask.bag as db\n",
    "from scipy import constants\n",
    "from scipy.linalg import svd\n",
    "from scipy.optimize import minimize, least_squares\n",
    "import matplotlib.pyplot as plt\n",
    "from dask_quantumtinkerer import Cluster, cluster_options\n",
    "\n",
    "import poisson\n",
    "import kwant\n",
    "from kwant.operator import Density\n",
    "from potential import gate_potential, linear_problem_instance\n",
    "from plotting import plot_potential\n",
    "from Hamiltonian import discrete_system_coordinates\n",
    "\n",
    "from layout import (\n",
    "    Layout,\n",
    "    OverlappingGateLayer,\n",
    "    PlanarGateLayer,\n",
    "    SimpleChargeLayer,\n",
    "    TwoDEGLayer,\n",
    ")\n",
    "from utility import wannier_1D_operator, wannier_basis\n",
    "\n",
    "from itertools import product\n",
    "from shapely.geometry.polygon import Polygon\n",
    "from shapely.ops import unary_union\n",
    "\n"
   ]
  },
  {
   "cell_type": "code",
   "execution_count": 3,
   "id": "534da2e4-2f5d-4e21-9096-39ccbc238865",
   "metadata": {},
   "outputs": [],
   "source": [
    "a = 10e-9"
   ]
  },
  {
   "cell_type": "code",
   "execution_count": 4,
   "id": "7ccff1c9-11a3-4cf6-a23f-f80f1aa2eb19",
   "metadata": {},
   "outputs": [],
   "source": [
    "options = cluster_options()\n",
    "options.worker_cores = 2\n",
    "options.worker_memory = 2\n",
    "options.extra_path = \"/home/srangaswamykup/trijunction_design/\""
   ]
  },
  {
   "cell_type": "markdown",
   "id": "aa6d39cb-150f-4d99-8509-958cc7626665",
   "metadata": {},
   "source": [
    "# Y-shaped geometry"
   ]
  },
  {
   "cell_type": "markdown",
   "id": "b2a820f0-fe15-4b3e-be69-32ad1c13df6b",
   "metadata": {
    "jp-MarkdownHeadingCollapsed": true,
    "tags": []
   },
   "source": [
    "#### Parameters"
   ]
  },
  {
   "cell_type": "code",
   "execution_count": 5,
   "id": "c3e6374d-be50-4805-96bc-002ba69c623f",
   "metadata": {},
   "outputs": [],
   "source": [
    "thickness_dielectric = 1\n",
    "thickness_twoDEG = 1\n",
    "thickness_gates = 3\n",
    "\n",
    "grid_spacing_twoDEG = 0.5\n",
    "grid_spacing_normal = 1\n",
    "grid_spacing_dielectric = 1\n",
    "grid_spacing_air = 5\n",
    "grid_spacing_gate = grid_spacing_twoDEG\n",
    "\n",
    "permittivity_metal = 5000\n",
    "permittivity_twoDEG = 15  # InAs\n",
    "permittivity_air = 1.0\n",
    "permittivity_Al2O3 = 9.1"
   ]
  },
  {
   "cell_type": "code",
   "execution_count": 6,
   "id": "0fcc17e7-5319-4f24-8e98-f2bc26102ce6",
   "metadata": {},
   "outputs": [],
   "source": [
    "# one only needs to define the arm length L, and the channel width\n",
    "L = 41\n",
    "width = 12\n",
    "gap = 4\n",
    "\n",
    "R = L/np.sqrt(2)"
   ]
  },
  {
   "cell_type": "code",
   "execution_count": 7,
   "id": "69ba6cce-a89d-4ea2-8ff3-162adef92c0e",
   "metadata": {},
   "outputs": [
    {
     "data": {
      "text/plain": [
       "28.991378028648448"
      ]
     },
     "execution_count": 7,
     "metadata": {},
     "output_type": "execute_result"
    }
   ],
   "source": [
    "R"
   ]
  },
  {
   "cell_type": "code",
   "execution_count": 8,
   "id": "48facfb8-1429-4d4f-bc64-55976e40f6f0",
   "metadata": {},
   "outputs": [],
   "source": [
    "# Boundaries within Poisson region\n",
    "zmin = -0.5\n",
    "zmax = 0.5\n",
    "xmax = R\n",
    "xmin = -xmax\n",
    "ymin = 0\n",
    "ymax = R + L - width\n",
    "total_width = 2*xmax\n",
    "total_length = ymax"
   ]
  },
  {
   "cell_type": "markdown",
   "id": "89ffb144-faac-4e25-bc6b-4d040b7dcd5b",
   "metadata": {
    "jp-MarkdownHeadingCollapsed": true,
    "tags": []
   },
   "source": [
    "#### Make gate polygons using Shapely"
   ]
  },
  {
   "cell_type": "code",
   "execution_count": 9,
   "id": "cfb84699-8972-4fce-8129-7d39ab1b9ea1",
   "metadata": {},
   "outputs": [],
   "source": [
    "Y = unary_union(\n",
    "    (\n",
    "        Polygon(half_disk_gate(R=R, npts=3)).difference(Polygon(half_disk_gate(R=R-width*np.sqrt(2), npts=3))),\n",
    "        Polygon(rectangular_gate(center=(0,R+L/2-width), width=width, length=L))\n",
    "    )\n",
    ")\n",
    "\n",
    "gates = Polygon(rectangular_gate(center=(0, (R+L-width)/2), length=R+L-width-1,width=2*R)).difference(Y)\n",
    "\n",
    "aux_rectangle_1 = rectangular_gate(length=R+2*gap, width=R+gap, center=(R/2, R/2-width/2))\n",
    "aux_rectangle_2 = rectangular_gate(length=R+2*gap, width=R+gap, center=(-R/2, R/2-width/2))\n",
    "\n",
    "\n",
    "def gate_coords(obj, difference=None, common=None, gap=None):\n",
    "\n",
    "    if type(common) == np.ndarray:\n",
    "        return np.round(np.array(list(obj.intersection(Polygon(common)).exterior.coords)), 2)\n",
    "\n",
    "    else:\n",
    "        if gap is not None:\n",
    "            return np.round(np.array(list(obj.difference(Polygon(difference).buffer(gap)).exterior.coords)), 2)\n",
    "        else:\n",
    "            return np.round(np.array(list(obj.difference(Polygon(difference)).exterior.coords)), 2)\n",
    "\n",
    "\n",
    "gates_vertex = [gate_coords(gates[0], common = aux_rectangle_2), \n",
    "                gate_coords(gates[2], difference = aux_rectangle_1), \n",
    "                gate_coords(gates[2], difference = aux_rectangle_2), \n",
    "                gate_coords(gates[1], common = aux_rectangle_1), \n",
    "                gate_coords(gates[0], difference = aux_rectangle_2, gap = gap), \n",
    "                gate_coords(gates[1], difference = aux_rectangle_1, gap = gap)]\n",
    "\n",
    "gates_name = ['left_1', 'left_2', 'right_1', 'right_2', 'top_1', 'top_2']"
   ]
  },
  {
   "cell_type": "markdown",
   "id": "2a5e304f-e479-4238-b5e3-abfe85ca5428",
   "metadata": {
    "jp-MarkdownHeadingCollapsed": true,
    "tags": []
   },
   "source": [
    "#### Construct layout object for the Poisson solver"
   ]
  },
  {
   "cell_type": "code",
   "execution_count": 10,
   "id": "25ba435f-2249-4283-9d9c-7ac2f9fe41b5",
   "metadata": {},
   "outputs": [],
   "source": [
    "# Solve for Poisson system\n",
    "\n",
    "layout = Layout(total_width,\n",
    "                total_length,\n",
    "                grid_width_air=grid_spacing_air,\n",
    "                margin=(50, 50, 50),\n",
    "                shift=(0, total_length/2, 0))\n",
    "\n",
    "layout.add_layer(\n",
    "    SimpleChargeLayer(\n",
    "        \"twoDEG\",\n",
    "        thickness_twoDEG,\n",
    "        permittivity_twoDEG,\n",
    "        grid_spacing_twoDEG,\n",
    "        add_to_previous_layer=False,\n",
    "        fix_overlap=False,\n",
    "        z_bottom=None\n",
    "    ),\n",
    "    center=True,\n",
    ")\n",
    "\n",
    "height = thickness_twoDEG / 2\n",
    "\n",
    "layout.add_layer(\n",
    "    SimpleChargeLayer(\n",
    "        \"Al2O3\",\n",
    "        thickness_dielectric,\n",
    "        permittivity_Al2O3,\n",
    "        grid_spacing_dielectric,\n",
    "        add_to_previous_layer = False,\n",
    "        fix_overlap = False,\n",
    "        z_bottom = None\n",
    "    )\n",
    ")\n",
    "\n",
    "height += thickness_dielectric\n",
    "\n",
    "\n",
    "layout.add_layer(OverlappingGateLayer(thickness_gates,\n",
    "                                      permittivity_metal,\n",
    "                                      grid_spacing_gate,\n",
    "                                      layer_name=gates_name,\n",
    "                                      gate_objects=gates_vertex,\n",
    "                                      remove_points=False,\n",
    "                                      add_to_previous_layer=False,\n",
    "                                      z_bottom=height,\n",
    "                                      fix_overlap=True\n",
    "                                     )\n",
    "            )\n",
    "\n"
   ]
  },
  {
   "cell_type": "code",
   "execution_count": 11,
   "id": "d99932ce-72f3-49f5-99cd-c107e01cd99b",
   "metadata": {},
   "outputs": [],
   "source": [
    "height += thickness_gates + 1\n",
    "layout.add_layer(\n",
    "    SimpleChargeLayer(\"Al2O3_2\", thickness_dielectric, permittivity_Al2O3, grid_spacing_dielectric,\n",
    "                     add_to_previous_layer = False,\n",
    "                     z_bottom = height, fix_overlap = False)\n",
    ")\n",
    "\n",
    "height += thickness_dielectric + 1\n",
    "thickness_accumulation_gate = 2\n",
    "layout.add_layer(PlanarGateLayer(\"global_accumul\", \n",
    "                                 thickness_accumulation_gate, \n",
    "                                 permittivity_metal, \n",
    "                                 grid_spacing_gate, \n",
    "                                 gate_coords = [],\n",
    "                                 second_layer = [],\n",
    "                                 fix_overlap = False,\n",
    "                                 z_bottom = height\n",
    "                                )\n",
    "                )"
   ]
  },
  {
   "cell_type": "markdown",
   "id": "9d6055d2-af9b-47a9-a414-55c296cf2efa",
   "metadata": {
    "jp-MarkdownHeadingCollapsed": true,
    "tags": []
   },
   "source": [
    "#### Build Poisson object"
   ]
  },
  {
   "cell_type": "code",
   "execution_count": 12,
   "id": "7b8a12ec-dc29-4285-9e4f-ebf8b653ee22",
   "metadata": {},
   "outputs": [
    {
     "name": "stdout",
     "output_type": "stream",
     "text": [
      "checking intersection\n",
      "finished checking intersection\n",
      "Finding closed voronoi cells\n",
      "Done selecting closed voronoi cells\n",
      "Calculating points distance\n",
      "Done\n",
      "Calculating ridges hypersurfaces\n",
      "Done\n",
      "Finding  hypervolume for closed voronoi cells\n",
      "Done finding hypervolume for closed voronoi cells\n",
      "Done calculating surface\n",
      "Done calculating distance\n",
      "Done calculating capacitance matrix\n",
      "CPU times: user 1min 16s, sys: 4.02 s, total: 1min 20s\n",
      "Wall time: 1min 20s\n"
     ]
    }
   ],
   "source": [
    "%%time\n",
    "\n",
    "poisson_system = layout.build()"
   ]
  },
  {
   "cell_type": "code",
   "execution_count": 13,
   "id": "1bfd5776-6b99-4d25-bb2c-4f4e15c8bbf5",
   "metadata": {},
   "outputs": [],
   "source": [
    "grid_points = poisson_system.grid.points\n",
    "voltage_regions = poisson_system.regions.voltage.tag_points"
   ]
  },
  {
   "cell_type": "code",
   "execution_count": 1070,
   "id": "3bdb554e-ab68-47e2-a3f6-089cb0ff9faa",
   "metadata": {},
   "outputs": [
    {
     "name": "stdout",
     "output_type": "stream",
     "text": [
      "[[-28.75         0.74568901  -0.5       ]]\n",
      "[[-11.25         0.74568901  -0.5       ]]\n",
      "[[ 2.25        0.74568901 -0.5       ]]\n",
      "[[28.75        0.74568901 -0.5       ]]\n",
      "[[-6.25       57.24568901 -0.5       ]]\n",
      "[[28.75       57.24568901 -0.5       ]]\n",
      "[[-3.25       56.74568901 -0.5       ]]\n"
     ]
    },
    {
     "data": {
      "image/png": "[encoded data removed]",
      "text/plain": [
       "<Figure size 576x504 with 1 Axes>"
      ]
     },
     "metadata": {
      "needs_background": "light"
     },
     "output_type": "display_data"
    }
   ],
   "source": [
    "plt.figure(figsize = (8, 7))\n",
    "for name, indices in voltage_regions.items():\n",
    "    grid_to_plot = grid_points[indices][:, [0, 1]]\n",
    "    plt.scatter(grid_to_plot[:, 0], grid_to_plot[:, 1], s = 0.5)\n",
    "    \n",
    "for i in range(len(dep_indices)):\n",
    "    to_plot = grid_points[twodeg_grid[dep_indices[i]]]\n",
    "    print(to_plot)\n",
    "    plt.scatter(to_plot[0][0], to_plot[0][1]);"
   ]
  },
  {
   "cell_type": "markdown",
   "id": "de423151-a741-4b9c-be02-84443af8f2fd",
   "metadata": {
    "jp-MarkdownHeadingCollapsed": true,
    "tags": []
   },
   "source": [
    "#### LU decomposition of finite system"
   ]
  },
  {
   "cell_type": "code",
   "execution_count": 16,
   "id": "5edf3a02-e11f-4bdd-bb1c-95145c5788da",
   "metadata": {},
   "outputs": [
    {
     "name": "stdout",
     "output_type": "stream",
     "text": [
      "CPU times: user 3.67 s, sys: 206 ms, total: 3.88 s\n",
      "Wall time: 3.87 s\n"
     ]
    }
   ],
   "source": [
    "%%time\n",
    "\n",
    "linear_problem = linear_problem_instance(poisson_system)"
   ]
  },
  {
   "cell_type": "code",
   "execution_count": 17,
   "id": "a4f674ae-f7c9-4dcb-a135-cd99fc39f458",
   "metadata": {},
   "outputs": [],
   "source": [
    "site_coords, site_indices = discrete_system_coordinates(\n",
    "    poisson_system, [('charge', 'twoDEG')], boundaries=None\n",
    ")\n",
    "\n",
    "crds = site_coords[:, [0, 1]]\n",
    "grid_spacing = grid_spacing_twoDEG\n",
    "offset = crds[0]%grid_spacing"
   ]
  },
  {
   "cell_type": "code",
   "execution_count": 18,
   "id": "ed8029d2-0fdc-44c4-9e29-78faf2567e67",
   "metadata": {},
   "outputs": [],
   "source": [
    "grid_points= poisson_system.grid.points"
   ]
  },
  {
   "cell_type": "code",
   "execution_count": 19,
   "id": "3668b7e3-0156-470d-bf23-f939b1ecc51c",
   "metadata": {},
   "outputs": [],
   "source": [
    "charge_regions = poisson_system.regions.charge.tag_points"
   ]
  },
  {
   "cell_type": "code",
   "execution_count": 20,
   "id": "2fc2d033-acf5-4995-a73a-a29b7dc2a4fa",
   "metadata": {},
   "outputs": [],
   "source": [
    "voltage_regions = poisson_system.regions.voltage.tag_points\n",
    "regions_to_add = []\n",
    "for region in voltage_regions.keys():\n",
    "    if region not in ['dirichlet_0', 'dirichlet_1', 'dirichlet_2', 'dirichlet_3']:\n",
    "        regions_to_add.append(('voltage', region))\n",
    "for region in charge_regions.keys():\n",
    "    # if region not in ['air']:\n",
    "    regions_to_add.append(('charge', region))"
   ]
  },
  {
   "cell_type": "markdown",
   "id": "c76b36e7-d5c2-4c68-a523-03ce7eb9b16c",
   "metadata": {
    "jp-MarkdownHeadingCollapsed": true,
    "tags": []
   },
   "source": [
    "#### Verify the potential"
   ]
  },
  {
   "cell_type": "code",
   "execution_count": 21,
   "id": "9301aa7a-da8f-494c-a6a7-e9e4fbac7831",
   "metadata": {},
   "outputs": [],
   "source": [
    "voltage_regions = list(poisson_system.regions.voltage.tag_points.keys())"
   ]
  },
  {
   "cell_type": "code",
   "execution_count": 22,
   "id": "474f9f9f-d7c3-4c4b-8237-30f4a14715e0",
   "metadata": {
    "tags": []
   },
   "outputs": [],
   "source": [
    "depleted = -1e-3\n",
    "acumulate = 4e-3\n",
    "\n",
    "def voltage_dict(depleted, acumulate):\n",
    "    voltages = {}\n",
    "\n",
    "    voltages['left_1'] = depleted\n",
    "    voltages['left_2'] = depleted\n",
    "\n",
    "    voltages['right_1'] = depleted\n",
    "    voltages['right_2'] = depleted\n",
    "\n",
    "    voltages['top_1'] = depleted\n",
    "    voltages['top_2'] = depleted\n",
    "\n",
    "    voltages['global_accumul'] = acumulate\n",
    "\n",
    "    return voltages"
   ]
  },
  {
   "cell_type": "code",
   "execution_count": 23,
   "id": "6e094c06-7a26-4f82-911a-6c633215c2a1",
   "metadata": {},
   "outputs": [],
   "source": [
    "voltages = voltage_dict(depleted, acumulate)"
   ]
  },
  {
   "cell_type": "code",
   "execution_count": 24,
   "id": "76b4264a-2f45-4f80-a593-7b619909d74a",
   "metadata": {},
   "outputs": [
    {
     "name": "stdout",
     "output_type": "stream",
     "text": [
      "CPU times: user 472 ms, sys: 1.98 ms, total: 474 ms\n",
      "Wall time: 473 ms\n"
     ]
    }
   ],
   "source": [
    "%%time\n",
    "\n",
    "charges = {}\n",
    "clean_potential = gate_potential(\n",
    "        poisson_system,\n",
    "        linear_problem,\n",
    "        site_coords[:, [0, 1]],\n",
    "        site_indices,\n",
    "        voltages,\n",
    "        charges,\n",
    "        offset=offset,\n",
    "        grid_spacing=a\n",
    "    )"
   ]
  },
  {
   "cell_type": "code",
   "execution_count": 25,
   "id": "f0356e5f-48ea-4b83-89c3-45e815c6e501",
   "metadata": {},
   "outputs": [],
   "source": [
    "coordinates = np.array(list(clean_potential.keys()))\n",
    "\n",
    "x = coordinates[:, 0]\n",
    "y = coordinates[:, 1]\n",
    "width_plot = np.unique(x).shape[0]\n",
    "X = x.reshape(width_plot, -1) / a\n",
    "Y = y.reshape(width_plot, -1) / a\n",
    "Z = np.round(np.array(list(clean_potential.values())).reshape(width_plot, -1) * -1, 4)"
   ]
  },
  {
   "cell_type": "code",
   "execution_count": 26,
   "id": "a60316fe-4e70-4be6-a72b-6c3de6bda1d6",
   "metadata": {},
   "outputs": [
    {
     "data": {
      "image/png": "[encoded data removed]",
      "text/plain": [
       "<Figure size 432x288 with 2 Axes>"
      ]
     },
     "metadata": {
      "needs_background": "light"
     },
     "output_type": "display_data"
    }
   ],
   "source": [
    "plt.figure()\n",
    "plt.imshow(np.rot90(Z), extent = (xmin, xmax, ymin, ymax), cmap = 'magma_r')\n",
    "plt.colorbar();"
   ]
  },
  {
   "cell_type": "code",
   "execution_count": 27,
   "id": "35c61ebd-f860-405b-9fd4-6a316836abfb",
   "metadata": {},
   "outputs": [
    {
     "data": {
      "text/plain": [
       "Text(0.5, 1.0, 'V(x,y) - V(-x,y)')"
      ]
     },
     "execution_count": 27,
     "metadata": {},
     "output_type": "execute_result"
    },
    {
     "data": {
      "image/png": "[encoded data removed]",
      "text/plain": [
       "<Figure size 432x288 with 2 Axes>"
      ]
     },
     "metadata": {
      "needs_background": "light"
     },
     "output_type": "display_data"
    }
   ],
   "source": [
    "plt.imshow((np.rot90(Z[::-1,:])-np.rot90(Z)), extent = (xmin, xmax, ymin, ymax), cmap = 'magma_r')\n",
    "plt.colorbar()\n",
    "plt.xlabel(\"x\")\n",
    "plt.ylabel(\"y\")\n",
    "plt.title(\"V(x,y) - V(-x,y)\")"
   ]
  },
  {
   "cell_type": "markdown",
   "id": "c7d78e53-151f-4830-9d4c-6bffcd270d08",
   "metadata": {
    "jp-MarkdownHeadingCollapsed": true,
    "tags": []
   },
   "source": [
    "#### Build kwant object"
   ]
  },
  {
   "cell_type": "code",
   "execution_count": 1660,
   "id": "30fb891e-7663-428d-bc69-d2c055b7eecb",
   "metadata": {},
   "outputs": [],
   "source": [
    "# Build kwant system\n",
    "\n",
    "R_a = R*a\n",
    "width_a = width*a\n",
    "l = 150 * a\n",
    "w = 7 * a\n",
    "boundaries = [xmin, xmax, ymin, ymax, min(grid_points[:, 2]), max(grid_points[:, 2])]\n",
    "boundaries = np.array(boundaries) * a\n",
    "\n",
    "geometry ={'nw_l': l, 'nw_w': w,\n",
    "           's_w': boundaries[1] - boundaries[0],\n",
    "           's_l': boundaries[3] - boundaries[2],\n",
    "           'centers':[[-R_a+width_a/np.sqrt(2)+0.25e-7, 0],\n",
    "                      [-(-R_a+width_a/np.sqrt(2))-0.25e-7, 0], \n",
    "                      [0,boundaries[3]+l-a]\n",
    "                     ]\n",
    "          }"
   ]
  },
  {
   "cell_type": "code",
   "execution_count": 1661,
   "id": "a32b5cff-38af-4a9d-9735-8ffbca638ecf",
   "metadata": {},
   "outputs": [
    {
     "data": {
      "text/plain": [
       "{'nw_l': 1.5e-06,\n",
       " 'nw_w': 7e-08,\n",
       " 's_w': 5.798275605729689e-07,\n",
       " 's_l': 5.799137802864846e-07,\n",
       " 'centers': [[-1.8006096654409876e-07, 0],\n",
       "  [1.8006096654409876e-07, 0],\n",
       "  [0, 2.0699137802864846e-06]]}"
      ]
     },
     "execution_count": 1661,
     "metadata": {},
     "output_type": "execute_result"
    }
   ],
   "source": [
    "geometry"
   ]
  },
  {
   "cell_type": "raw",
   "id": "4a738fee-06ac-4c57-b525-e0beb4d95652",
   "metadata": {},
   "source": [
    "import importlib\n",
    "import ccode.parameters\n",
    "importlib.reload(ccode.parameters)"
   ]
  },
  {
   "cell_type": "code",
   "execution_count": 1662,
   "id": "478ade4b-03de-4090-be96-9f5b8cf2fa13",
   "metadata": {},
   "outputs": [
    {
     "name": "stdout",
     "output_type": "stream",
     "text": [
      "CPU times: user 276 ms, sys: 10 ms, total: 286 ms\n",
      "Wall time: 282 ms\n"
     ]
    }
   ],
   "source": [
    "%%time\n",
    "\n",
    "trijunction, f_params = finite_system(**geometry)\n",
    "trijunction = trijunction.finalized()"
   ]
  },
  {
   "cell_type": "code",
   "execution_count": 1663,
   "id": "30e1531e-3dbb-42b7-a6ab-71c1dd45640a",
   "metadata": {},
   "outputs": [
    {
     "data": {
      "image/png": "[encoded data removed]",
      "text/plain": [
       "<Figure size 432x288 with 1 Axes>"
      ]
     },
     "metadata": {
      "needs_background": "light"
     },
     "output_type": "display_data"
    }
   ],
   "source": [
    "fig, ax = plt.subplots()\n",
    "kwant.plot(trijunction, ax=ax, lead_site_size = 4)\n",
    "ax.set_ylim(-10*a, boundaries[3]+10*a)\n",
    "grid_points = poisson_system.grid.points\n",
    "voltage_regions = poisson_system.regions.voltage.tag_points\n",
    "\n",
    "# for name, indices in voltage_regions.items():\n",
    "#     if name not in ['global_accumul']:\n",
    "#         grid_to_plot = a*grid_points[indices][:, [0, 1]]\n",
    "#         ax.scatter(grid_to_plot[:, 0], grid_to_plot[:, 1], s = 0.5)\n"
   ]
  },
  {
   "cell_type": "raw",
   "id": "348c1da5-48bb-4d73-acbf-eefe662e39f9",
   "metadata": {},
   "source": [
    "np.unique(grid_points[voltage_regions['global_accumul']][:, 1])"
   ]
  },
  {
   "cell_type": "code",
   "execution_count": 1619,
   "id": "faff8ec2-b377-4873-8d32-0fd364755446",
   "metadata": {},
   "outputs": [],
   "source": [
    "import pickle"
   ]
  },
  {
   "cell_type": "code",
   "execution_count": 1620,
   "id": "a13c95f1-4f38-4302-8c12-9f801497e942",
   "metadata": {},
   "outputs": [],
   "source": [
    "with open(\"/home/tinkerer/trijunction-design/data/optimal_phase.pkl\", 'rb') as infile:\n",
    "    optimal_phase = pickle.load(infile)"
   ]
  },
  {
   "cell_type": "code",
   "execution_count": 1621,
   "id": "919de707-d180-48b8-a118-f9ae467dc020",
   "metadata": {},
   "outputs": [],
   "source": [
    "optimal_phase = optimal_phase * np.pi"
   ]
  },
  {
   "cell_type": "markdown",
   "id": "0a653e62-28a9-43c1-b679-e2cdae0624fe",
   "metadata": {
    "jp-MarkdownHeadingCollapsed": true,
    "tags": []
   },
   "source": [
    "#### Optimize gate voltages"
   ]
  },
  {
   "cell_type": "code",
   "execution_count": 1622,
   "id": "af7ddb30-3f81-4f97-bbd1-05f0efe9af6d",
   "metadata": {},
   "outputs": [],
   "source": [
    "from scipy import sparse"
   ]
  },
  {
   "cell_type": "code",
   "execution_count": 1664,
   "id": "988eb790-7662-4cd8-bcb1-223a7db7a156",
   "metadata": {},
   "outputs": [],
   "source": [
    "poisson_params = {\n",
    "    'poisson_system': poisson_system,\n",
    "    'linear_problem': linear_problem,\n",
    "    'site_coords': site_coords,\n",
    "    'site_indices': site_indices,\n",
    "}    \n",
    "\n",
    "crds = site_coords\n",
    "grid_spacing = grid_spacing_twoDEG\n",
    "offset = crds[0]%grid_spacing\n",
    "\n",
    "kwant_params = {\n",
    "    'offset': offset,\n",
    "    'grid_spacing': a,\n",
    "    'finite_system_object': trijunction,\n",
    "    'finite_system_params_object': f_params,\n",
    "    \n",
    "}\n"
   ]
  },
  {
   "cell_type": "code",
   "execution_count": 1665,
   "id": "65f31a56-6bdd-407e-9658-a55a8530c680",
   "metadata": {},
   "outputs": [],
   "source": [
    "def spectrum_f_voltages(\n",
    "    kwant_params,\n",
    "    general_params,\n",
    "    potential,\n",
    "    no_of_eigenvalues = 6,\n",
    "    return_eigenvecs = False,\n",
    "    phis = [0, 0],    \n",
    "):\n",
    "    kp = kwant_params\n",
    "    \n",
    "    general_params.update(potential=potential)\n",
    "    \n",
    "\n",
    "    general_params['phi1'] = phis[0]\n",
    "    general_params['phi2'] = phis[1]\n",
    "    \n",
    "    ham_mat = kp['finite_system_object'].hamiltonian_submatrix(\n",
    "        sparse=True, params=kp['finite_system_params_object'](**general_params))\n",
    "    \n",
    "    if return_eigenvecs:\n",
    "        evals, evecs = sl.sort_eigen(sparse.linalg.eigsh(ham_mat.tocsc(), k=no_of_eigenvalues, sigma = 0))\n",
    "        \n",
    "        return evals, evecs\n",
    "    else:\n",
    "        evals = np.sort(\n",
    "            sparse.linalg.eigsh(ham_mat.tocsc(), k = no_of_eigenvalues, sigma = 0,\n",
    "                                return_eigenvectors = return_eigenvecs)\n",
    "        )\n",
    "        evecs = []\n",
    "        \n",
    "        return evals"
   ]
  },
  {
   "cell_type": "code",
   "execution_count": 1666,
   "id": "480a88b5-43a2-4e42-a48a-df2fc37eaf66",
   "metadata": {},
   "outputs": [],
   "source": [
    "voltage_dict = {'left' : -0.0026, \n",
    "                'right' : -0.0028, \n",
    "                'top' : -0.0024, \n",
    "                'back' : 0.00045}"
   ]
  },
  {
   "cell_type": "code",
   "execution_count": 1667,
   "id": "a07cb3ed-7a12-43da-885a-c1673a209acf",
   "metadata": {},
   "outputs": [],
   "source": [
    "for i in range(1, 3):\n",
    "    voltages['left_'+str(i)] = voltage_dict['left']\n",
    "    voltages['right_'+str(i)] = voltage_dict['right']\n",
    "    voltages['top_'+str(i)] = voltage_dict['top']\n",
    "    \n",
    "voltages['global_accumul'] = voltage_dict['back']"
   ]
  },
  {
   "cell_type": "code",
   "execution_count": 1668,
   "id": "d70db3e5-c97e-465e-b9ec-b2286af2cde5",
   "metadata": {},
   "outputs": [],
   "source": [
    "centers = np.array(geometry['centers']) / a\n",
    "nw_l = geometry['nw_l'] / a\n",
    "nw_w = geometry['nw_w'] / a\n",
    "\n",
    "depletion_regions  = {'left': np.array(((centers[0][0] - nw_w /2, centers[0][1]),\n",
    "                              (centers[0][0] + nw_w /2, centers[0][1])), dtype = 'float32'),\n",
    "                      'right': np.array(((centers[1][0] - nw_w /2, centers[1][1]),\n",
    "                               (centers[1][0] + nw_w /2, centers[1][1])), dtype = 'float32'),\n",
    "                     'top':   np.array(((centers[2][0] - nw_w /2, centers[2][1] - nw_l),\n",
    "                              (centers[2][0] + nw_w /2, centers[2][1] - nw_l)), dtype = 'float32')}"
   ]
  },
  {
   "cell_type": "code",
   "execution_count": 1669,
   "id": "61d7389a-42d0-40bb-9f62-a99691e4220e",
   "metadata": {},
   "outputs": [],
   "source": [
    "grid = poisson_system.grid.points.astype('float32')"
   ]
  },
  {
   "cell_type": "code",
   "execution_count": 1670,
   "id": "bcc84abb-49a4-4e31-9835-8c9158b0357f",
   "metadata": {},
   "outputs": [],
   "source": [
    "voltage_regions = poisson_system.regions.voltage.tag_points"
   ]
  },
  {
   "cell_type": "code",
   "execution_count": 1671,
   "id": "d15c221e-2998-4f20-ab9f-8d8d57512bad",
   "metadata": {},
   "outputs": [],
   "source": [
    "twodeg_grid = site_indices\n",
    "twodeg_grid_monolayer = twodeg_grid[grid[twodeg_grid][:, 2] == np.unique(grid[twodeg_grid][:, 2])[0]]"
   ]
  },
  {
   "cell_type": "code",
   "execution_count": 1672,
   "id": "a4424fef-ccb5-4aed-92af-e59cbb3b1bc3",
   "metadata": {},
   "outputs": [],
   "source": [
    "def depletion_points(grid, monolayer, boundary):\n",
    "    Y = np.argmin(np.abs((grid[monolayer][:, 1] - boundary[0, 1])))\n",
    "    X = grid[monolayer][:, 1] == grid[monolayer[Y]][1]\n",
    "    point_indices = np.multiply(grid[monolayer[X]][:, 0] > boundary[0, 0], \n",
    "                                grid[monolayer[X]][:, 0] < boundary[1, 0])\n",
    "    \n",
    "    return monolayer[X][point_indices]"
   ]
  },
  {
   "cell_type": "code",
   "execution_count": 1673,
   "id": "868eb4b2-7a22-46b7-996b-1193f6feb452",
   "metadata": {},
   "outputs": [],
   "source": [
    "dep_indices = []\n",
    "acc_indices = []\n",
    "for gate in ['left_1', 'left_2', 'right_1', 'right_2', 'top_1', 'top_2']:\n",
    "    indices = voltage_regions[gate]\n",
    "    if gate in ['top_1', 'top_2']:\n",
    "        x, y = grid_points[indices][::-1][0, 0], grid_points[indices][::-1][0, 1]\n",
    "    else:\n",
    "        x, y = grid_points[indices][0, 0], grid_points[indices][0, 1]\n",
    "    points = grid_points[twodeg_grid][:, [0, 1]]\n",
    "    points[:, 0] -= x\n",
    "    points[:, 1] -= y\n",
    "    dep_indices.append(np.array([np.argmin(np.sum(np.abs(points), axis = 1))]))\n",
    "\n",
    "for gate in ['top']:\n",
    "    indices = depletion_points(grid, twodeg_grid_monolayer, depletion_regions[gate])\n",
    "    dep_indices.append(np.array([np.hstack(list(map(lambda x: np.argwhere(twodeg_grid == x), \n",
    "                                                    indices)))[0][0]]))\n",
    "\n",
    "for gate in ['left', 'right']:\n",
    "    indices = depletion_points(grid, twodeg_grid_monolayer, depletion_regions[gate])\n",
    "    acc_indices.append(np.array([np.hstack(list(map(lambda x: np.argwhere(twodeg_grid == x), \n",
    "                                                    indices)))[0][0]]))"
   ]
  },
  {
   "cell_type": "code",
   "execution_count": 1674,
   "id": "1215d5d2-0069-4dd9-ba87-f1f5d028d8dc",
   "metadata": {},
   "outputs": [],
   "source": [
    "def left(site):\n",
    "    x, y = site.pos\n",
    "    return x < 0\n",
    "leftop = Density(trijunction, onsite = np.eye(4), where = left, sum = True)\n",
    "\n",
    "def right(site):\n",
    "    x, y = site.pos\n",
    "    return x > 0\n",
    "rightop = Density(trijunction, onsite = np.eye(4), where = right, sum = True)\n",
    "\n",
    "def top(site):\n",
    "    x, y = site.pos\n",
    "    return y > 0\n",
    "topop = Density(trijunction, onsite = np.eye(4), where = top, sum = True)"
   ]
  },
  {
   "cell_type": "code",
   "execution_count": 1675,
   "id": "2f451967-e7ab-4a8e-b6eb-430723f250aa",
   "metadata": {},
   "outputs": [],
   "source": [
    "def gate_tuner(x, *argv):\n",
    "    \n",
    "    voltages = {}\n",
    "    \n",
    "    for i in range(1, 3):\n",
    "        voltages['left_'+str(i)] = x[0]\n",
    "        voltages['right_'+str(i)] = x[1]\n",
    "        voltages['top_'+str(i)] = x[2]\n",
    "    \n",
    "    voltages['global_accumul'] = x[3]\n",
    "    \n",
    "    poisson_params, kwant_params, general_params,  = argv[:3]\n",
    "    dep_points, acc_points, coupled_pair  = argv[3:6]\n",
    "    base_hamiltonian, linear_hamiltonian = argv[6:8]\n",
    "    \n",
    "    \n",
    "    pp = poisson_params\n",
    "    kp = kwant_params\n",
    "    \n",
    "    charges = {}\n",
    "    potential = gate_potential(\n",
    "            pp['poisson_system'],\n",
    "            pp['linear_problem'],\n",
    "            pp['site_coords'],\n",
    "            pp['site_indices'],\n",
    "            voltages,\n",
    "            charges,\n",
    "            offset = kp['offset'],\n",
    "            grid_spacing = kp['grid_spacing']\n",
    "        )\n",
    "    \n",
    "    potential.update((x, y*-1) for x, y in potential.items())\n",
    "    \n",
    "    \n",
    "    potential_array = np.array(list(potential.values()))\n",
    "\n",
    "    dep_potential = np.array([potential_array[points][0] for points in dep_points])\n",
    "    acc_potential = np.array([potential_array[points][0] for points in acc_points])\n",
    "    \n",
    "    \n",
    "    cost = []\n",
    "    # if np.any(dep_potential < general_params['mus_nw'][0] + 1e-3):\n",
    "    #     indices = np.argwhere(dep_potential < general_params['mus_nw'][0])\n",
    "    barrier_cost = (general_params['mus_nw'][0] + 1e-3) - dep_potential\n",
    "    cost.append(sum(np.abs(barrier_cost)))\n",
    "    if np.any(acc_potential > general_params['mus_nw'][0]):\n",
    "        indices = np.argwhere(acc_potential > general_params['mus_nw'][0])\n",
    "        accumulation_cost = acc_potential[indices] - general_params['mus_nw'][0]\n",
    "        cost.append(sum(accumulation_cost))\n",
    "    else:\n",
    "        cost.append(np.abs(acc_potential[1]- acc_potential[0]))\n",
    "        \n",
    "    \n",
    "    summed_ham = sum(\n",
    "        [\n",
    "            linear_hamiltonian[key] * voltages[key]\n",
    "            for key, value in linear_hamiltonian.items()\n",
    "        ]\n",
    "    )\n",
    "    \n",
    "    tight_binding_hamiltonian = base_hamiltonian + summed_ham\n",
    "\n",
    "\n",
    "    eigval, eigvec = sl.sort_eigen(sparse.linalg.eigsh(tight_binding_hamiltonian.tocsc(), \n",
    "                                                       k=12, sigma = 0))\n",
    "    \n",
    "    eigval = eigval[6:]\n",
    "    eigvec = eigvec[6:]\n",
    "    \n",
    "    density = kwant.operator.Density(kp['finite_system_object'], np.eye(4))\n",
    "    \n",
    "    basis_sequence = []\n",
    "    for vec in eigvec[:3]:\n",
    "        basis_sequence.append(np.argmax([op(vec) for op in [leftop, \n",
    "                                                            rightop, \n",
    "                                                            topop]]))\n",
    "\n",
    "    basis_sequence = np.hstack(basis_sequence)\n",
    "\n",
    "    eigval[:3] = eigval[:3][basis_sequence]\n",
    "    eigvec[:3] = np.squeeze(eigvec[:3][basis_sequence])\n",
    "\n",
    "    if coupled_pair != None:\n",
    "\n",
    "        S = eigvec @ eigvec.T.conj()\n",
    "        U, _, Vh = svd(S)\n",
    "        S_prime = U @ Vh\n",
    "        transformed = S_prime.T.conj() @ np.diag(eigval) @ S_prime\n",
    "        \n",
    "        uncoupled_pairs = set(range(3))- set((coupled_pair,))\n",
    "        \n",
    "        uncoupled_cost = np.zeros((len(uncoupled_pairs), ))\n",
    "        \n",
    "        coupled_cost = -1 * np.abs(transformed[coupled_pair+3, coupled_pair+3])\n",
    "        for i, pair_index in enumerate(uncoupled_pairs): \n",
    "            uncoupled_cost[i] = np.abs(transformed[pair_index+3, pair_index+3])\n",
    "        \n",
    "        total_coupling_cost = coupled_cost + sum(uncoupled_cost)\n",
    "        \n",
    "        print(coupled_cost)\n",
    "        \n",
    "        if coupled_cost > 1e-9:\n",
    "            cost = [total_coupling_cost]\n",
    "        else:\n",
    "            cost.append(total_coupling_cost)\n",
    "            \n",
    "    \n",
    "#     fig, ax = plt.subplots(1, 6, figsize = (10, 5), sharey= True)\n",
    "#     for i in range(6):\n",
    "#         kwant.plotter.density(trijunction, density(eigvec[i]), ax = ax[i]);\n",
    "    \n",
    "#     filepath = '/home/tinkerer/trijunction-design/data/optimization/'\n",
    "#     seed = gather_data(filepath)\n",
    "\n",
    "#     if \".ipynb_checkpoints\" in seed:\n",
    "#         os.system(\"rm -rf .ipynb_checkpoints\")\n",
    "\n",
    "#     if len(seed):\n",
    "#         file_name = filepath + \"plt_\" + str(max(seed) + 1) + \"_.png\"\n",
    "#     else:\n",
    "#         file_name = filepath + \"plt_\" + str(0) + \"_.png\"\n",
    "\n",
    "#     plt.savefig(file_name, format=\"png\", bbox_inches=\"tight\", pad_inches=0.0)\n",
    "\n",
    "#     plt.close()\n",
    "    \n",
    "    print(cost)\n",
    "    \n",
    "    return sum(cost) # -1 to maximize the couplings\n",
    "    "
   ]
  },
  {
   "cell_type": "code",
   "execution_count": 1636,
   "id": "e5f9c4eb-ecfe-4927-b7a9-33d9f8d27e41",
   "metadata": {},
   "outputs": [],
   "source": [
    "mu = pm.bands[0]"
   ]
  },
  {
   "cell_type": "code",
   "execution_count": 1637,
   "id": "b7cfdd9c-7b20-46eb-a84d-33e0eab81623",
   "metadata": {},
   "outputs": [],
   "source": [
    "params = pm.junction_parameters(m_nw=[mu, mu, mu], m_qd=0)"
   ]
  },
  {
   "cell_type": "code",
   "execution_count": 1638,
   "id": "ee3a1f6e-331b-4663-8740-5b4385cf25e5",
   "metadata": {},
   "outputs": [],
   "source": [
    "coupled_pairs = None # 0: left, 1: right, 2: top\n",
    "args = (poisson_params, kwant_params, params, \n",
    "        dep_indices, acc_indices, coupled_pairs,\n",
    "        base_hamiltonian, linear_ham)\n",
    "initial_condition = sol1.x"
   ]
  },
  {
   "cell_type": "code",
   "execution_count": 1639,
   "id": "df0011d5-81e8-4950-9531-9c4ace3d37d6",
   "metadata": {},
   "outputs": [
    {
     "data": {
      "text/plain": [
       "array([-3.68162298e-03, -3.47935264e-03, -3.74958906e-03, -6.98461859e-05])"
      ]
     },
     "execution_count": 1639,
     "metadata": {},
     "output_type": "execute_result"
    }
   ],
   "source": [
    "initial_condition"
   ]
  },
  {
   "cell_type": "raw",
   "id": "42dc6af5-a218-4aeb-95d0-1c84bbd61046",
   "metadata": {},
   "source": [
    "from utility import gather_data"
   ]
  },
  {
   "cell_type": "code",
   "execution_count": 1640,
   "id": "e54660a3-9297-4394-be0c-276895a26dae",
   "metadata": {
    "collapsed": true,
    "jupyter": {
     "outputs_hidden": true
    },
    "tags": []
   },
   "outputs": [
    {
     "name": "stdout",
     "output_type": "stream",
     "text": [
      "[0.0010191874355915793, array([0.00059546])]\n",
      "[0.0010191926329381137, array([0.00059547])]\n",
      "[0.0010191838644339163, array([0.00059547])]\n",
      "[0.001019176300967596, array([0.00059546])]\n",
      "[0.0010191820428655032, array([0.00059547])]\n",
      "| niter |f evals|CG iter|  obj func   |tr radius |   opt    |  c viol  |\n",
      "|-------|-------|-------|-------------|----------|----------|----------|\n",
      "|   1   |   5   |   0   | +1.6146e-03 | 2.00e-04 | 1.03e+00 | 0.00e+00 |\n",
      "[0.0015572271725325494, array([0.00042177])]\n",
      "[0.0015571975416847094, array([0.00042178])]\n"
     ]
    },
    {
     "ename": "KeyboardInterrupt",
     "evalue": "",
     "output_type": "error",
     "traceback": [
      "\u001b[0;31m---------------------------------------------------------------------------\u001b[0m",
      "\u001b[0;31mKeyboardInterrupt\u001b[0m                         Traceback (most recent call last)",
      "File \u001b[0;32m<timed exec>:1\u001b[0m, in \u001b[0;36m<module>\u001b[0;34m\u001b[0m\n",
      "File \u001b[0;32m/opt/conda/lib/python3.10/site-packages/scipy/optimize/_minimize.py:693\u001b[0m, in \u001b[0;36mminimize\u001b[0;34m(fun, x0, args, method, jac, hess, hessp, bounds, constraints, tol, callback, options)\u001b[0m\n\u001b[1;32m    690\u001b[0m     res \u001b[38;5;241m=\u001b[39m _minimize_slsqp(fun, x0, args, jac, bounds,\n\u001b[1;32m    691\u001b[0m                           constraints, callback\u001b[38;5;241m=\u001b[39mcallback, \u001b[38;5;241m*\u001b[39m\u001b[38;5;241m*\u001b[39moptions)\n\u001b[1;32m    692\u001b[0m \u001b[38;5;28;01melif\u001b[39;00m meth \u001b[38;5;241m==\u001b[39m \u001b[38;5;124m'\u001b[39m\u001b[38;5;124mtrust-constr\u001b[39m\u001b[38;5;124m'\u001b[39m:\n\u001b[0;32m--> 693\u001b[0m     res \u001b[38;5;241m=\u001b[39m \u001b[43m_minimize_trustregion_constr\u001b[49m\u001b[43m(\u001b[49m\u001b[43mfun\u001b[49m\u001b[43m,\u001b[49m\u001b[43m \u001b[49m\u001b[43mx0\u001b[49m\u001b[43m,\u001b[49m\u001b[43m \u001b[49m\u001b[43margs\u001b[49m\u001b[43m,\u001b[49m\u001b[43m \u001b[49m\u001b[43mjac\u001b[49m\u001b[43m,\u001b[49m\u001b[43m \u001b[49m\u001b[43mhess\u001b[49m\u001b[43m,\u001b[49m\u001b[43m \u001b[49m\u001b[43mhessp\u001b[49m\u001b[43m,\u001b[49m\n\u001b[1;32m    694\u001b[0m \u001b[43m                                       \u001b[49m\u001b[43mbounds\u001b[49m\u001b[43m,\u001b[49m\u001b[43m \u001b[49m\u001b[43mconstraints\u001b[49m\u001b[43m,\u001b[49m\n\u001b[1;32m    695\u001b[0m \u001b[43m                                       \u001b[49m\u001b[43mcallback\u001b[49m\u001b[38;5;241;43m=\u001b[39;49m\u001b[43mcallback\u001b[49m\u001b[43m,\u001b[49m\u001b[43m \u001b[49m\u001b[38;5;241;43m*\u001b[39;49m\u001b[38;5;241;43m*\u001b[39;49m\u001b[43moptions\u001b[49m\u001b[43m)\u001b[49m\n\u001b[1;32m    696\u001b[0m \u001b[38;5;28;01melif\u001b[39;00m meth \u001b[38;5;241m==\u001b[39m \u001b[38;5;124m'\u001b[39m\u001b[38;5;124mdogleg\u001b[39m\u001b[38;5;124m'\u001b[39m:\n\u001b[1;32m    697\u001b[0m     res \u001b[38;5;241m=\u001b[39m _minimize_dogleg(fun, x0, args, jac, hess,\n\u001b[1;32m    698\u001b[0m                            callback\u001b[38;5;241m=\u001b[39mcallback, \u001b[38;5;241m*\u001b[39m\u001b[38;5;241m*\u001b[39moptions)\n",
      "File \u001b[0;32m/opt/conda/lib/python3.10/site-packages/scipy/optimize/_trustregion_constr/minimize_trustregion_constr.py:500\u001b[0m, in \u001b[0;36m_minimize_trustregion_constr\u001b[0;34m(fun, x0, args, grad, hess, hessp, bounds, constraints, xtol, gtol, barrier_tol, sparse_jacobian, callback, maxiter, verbose, finite_diff_rel_step, initial_constr_penalty, initial_tr_radius, initial_barrier_parameter, initial_barrier_tolerance, factorization_method, disp)\u001b[0m\n\u001b[1;32m    497\u001b[0m         J_eq, _ \u001b[38;5;241m=\u001b[39m canonical\u001b[38;5;241m.\u001b[39mjac(x)\n\u001b[1;32m    498\u001b[0m         \u001b[38;5;28;01mreturn\u001b[39;00m g, J_eq\n\u001b[0;32m--> 500\u001b[0m     _, result \u001b[38;5;241m=\u001b[39m \u001b[43mequality_constrained_sqp\u001b[49m\u001b[43m(\u001b[49m\n\u001b[1;32m    501\u001b[0m \u001b[43m        \u001b[49m\u001b[43mfun_and_constr\u001b[49m\u001b[43m,\u001b[49m\u001b[43m \u001b[49m\u001b[43mgrad_and_jac\u001b[49m\u001b[43m,\u001b[49m\u001b[43m \u001b[49m\u001b[43mlagrangian_hess\u001b[49m\u001b[43m,\u001b[49m\n\u001b[1;32m    502\u001b[0m \u001b[43m        \u001b[49m\u001b[43mx0\u001b[49m\u001b[43m,\u001b[49m\u001b[43m \u001b[49m\u001b[43mobjective\u001b[49m\u001b[38;5;241;43m.\u001b[39;49m\u001b[43mf\u001b[49m\u001b[43m,\u001b[49m\u001b[43m \u001b[49m\u001b[43mobjective\u001b[49m\u001b[38;5;241;43m.\u001b[39;49m\u001b[43mg\u001b[49m\u001b[43m,\u001b[49m\n\u001b[1;32m    503\u001b[0m \u001b[43m        \u001b[49m\u001b[43mc_eq0\u001b[49m\u001b[43m,\u001b[49m\u001b[43m \u001b[49m\u001b[43mJ_eq0\u001b[49m\u001b[43m,\u001b[49m\n\u001b[1;32m    504\u001b[0m \u001b[43m        \u001b[49m\u001b[43mstop_criteria\u001b[49m\u001b[43m,\u001b[49m\u001b[43m \u001b[49m\u001b[43mstate\u001b[49m\u001b[43m,\u001b[49m\n\u001b[1;32m    505\u001b[0m \u001b[43m        \u001b[49m\u001b[43minitial_constr_penalty\u001b[49m\u001b[43m,\u001b[49m\u001b[43m \u001b[49m\u001b[43minitial_tr_radius\u001b[49m\u001b[43m,\u001b[49m\n\u001b[1;32m    506\u001b[0m \u001b[43m        \u001b[49m\u001b[43mfactorization_method\u001b[49m\u001b[43m)\u001b[49m\n\u001b[1;32m    508\u001b[0m \u001b[38;5;28;01melif\u001b[39;00m method \u001b[38;5;241m==\u001b[39m \u001b[38;5;124m'\u001b[39m\u001b[38;5;124mtr_interior_point\u001b[39m\u001b[38;5;124m'\u001b[39m:\n\u001b[1;32m    509\u001b[0m     _, result \u001b[38;5;241m=\u001b[39m tr_interior_point(\n\u001b[1;32m    510\u001b[0m         objective\u001b[38;5;241m.\u001b[39mfun, objective\u001b[38;5;241m.\u001b[39mgrad, lagrangian_hess,\n\u001b[1;32m    511\u001b[0m         n_vars, canonical\u001b[38;5;241m.\u001b[39mn_ineq, canonical\u001b[38;5;241m.\u001b[39mn_eq,\n\u001b[0;32m   (...)\u001b[0m\n\u001b[1;32m    519\u001b[0m         initial_constr_penalty, initial_tr_radius,\n\u001b[1;32m    520\u001b[0m         factorization_method)\n",
      "File \u001b[0;32m/opt/conda/lib/python3.10/site-packages/scipy/optimize/_trustregion_constr/equality_constrained_sqp.py:147\u001b[0m, in \u001b[0;36mequality_constrained_sqp\u001b[0;34m(fun_and_constr, grad_and_jac, lagr_hess, x0, fun0, grad0, constr0, jac0, stop_criteria, state, initial_penalty, initial_trust_radius, factorization_method, trust_lb, trust_ub, scaling)\u001b[0m\n\u001b[1;32m    145\u001b[0m \u001b[38;5;66;03m# Evaluate function and constraints at trial point\u001b[39;00m\n\u001b[1;32m    146\u001b[0m x_next \u001b[38;5;241m=\u001b[39m x \u001b[38;5;241m+\u001b[39m S\u001b[38;5;241m.\u001b[39mdot(d)\n\u001b[0;32m--> 147\u001b[0m f_next, b_next \u001b[38;5;241m=\u001b[39m \u001b[43mfun_and_constr\u001b[49m\u001b[43m(\u001b[49m\u001b[43mx_next\u001b[49m\u001b[43m)\u001b[49m\n\u001b[1;32m    148\u001b[0m \u001b[38;5;66;03m# Compute merit function at trial point\u001b[39;00m\n\u001b[1;32m    149\u001b[0m merit_function_next \u001b[38;5;241m=\u001b[39m f_next \u001b[38;5;241m+\u001b[39m penalty\u001b[38;5;241m*\u001b[39mnorm(b_next)\n",
      "File \u001b[0;32m/opt/conda/lib/python3.10/site-packages/scipy/optimize/_trustregion_constr/minimize_trustregion_constr.py:491\u001b[0m, in \u001b[0;36m_minimize_trustregion_constr.<locals>.fun_and_constr\u001b[0;34m(x)\u001b[0m\n\u001b[1;32m    490\u001b[0m \u001b[38;5;28;01mdef\u001b[39;00m \u001b[38;5;21mfun_and_constr\u001b[39m(x):\n\u001b[0;32m--> 491\u001b[0m     f \u001b[38;5;241m=\u001b[39m \u001b[43mobjective\u001b[49m\u001b[38;5;241;43m.\u001b[39;49m\u001b[43mfun\u001b[49m\u001b[43m(\u001b[49m\u001b[43mx\u001b[49m\u001b[43m)\u001b[49m\n\u001b[1;32m    492\u001b[0m     c_eq, _ \u001b[38;5;241m=\u001b[39m canonical\u001b[38;5;241m.\u001b[39mfun(x)\n\u001b[1;32m    493\u001b[0m     \u001b[38;5;28;01mreturn\u001b[39;00m f, c_eq\n",
      "File \u001b[0;32m/opt/conda/lib/python3.10/site-packages/scipy/optimize/_differentiable_functions.py:266\u001b[0m, in \u001b[0;36mScalarFunction.fun\u001b[0;34m(self, x)\u001b[0m\n\u001b[1;32m    264\u001b[0m \u001b[38;5;28;01mdef\u001b[39;00m \u001b[38;5;21mfun\u001b[39m(\u001b[38;5;28mself\u001b[39m, x):\n\u001b[1;32m    265\u001b[0m     \u001b[38;5;28;01mif\u001b[39;00m \u001b[38;5;129;01mnot\u001b[39;00m np\u001b[38;5;241m.\u001b[39marray_equal(x, \u001b[38;5;28mself\u001b[39m\u001b[38;5;241m.\u001b[39mx):\n\u001b[0;32m--> 266\u001b[0m         \u001b[38;5;28;43mself\u001b[39;49m\u001b[38;5;241;43m.\u001b[39;49m\u001b[43m_update_x_impl\u001b[49m\u001b[43m(\u001b[49m\u001b[43mx\u001b[49m\u001b[43m)\u001b[49m\n\u001b[1;32m    267\u001b[0m     \u001b[38;5;28mself\u001b[39m\u001b[38;5;241m.\u001b[39m_update_fun()\n\u001b[1;32m    268\u001b[0m     \u001b[38;5;28;01mreturn\u001b[39;00m \u001b[38;5;28mself\u001b[39m\u001b[38;5;241m.\u001b[39mf\n",
      "File \u001b[0;32m/opt/conda/lib/python3.10/site-packages/scipy/optimize/_differentiable_functions.py:238\u001b[0m, in \u001b[0;36mScalarFunction.__init__.<locals>.update_x\u001b[0;34m(x)\u001b[0m\n\u001b[1;32m    236\u001b[0m \u001b[38;5;28mself\u001b[39m\u001b[38;5;241m.\u001b[39mg_updated \u001b[38;5;241m=\u001b[39m \u001b[38;5;28;01mFalse\u001b[39;00m\n\u001b[1;32m    237\u001b[0m \u001b[38;5;28mself\u001b[39m\u001b[38;5;241m.\u001b[39mH_updated \u001b[38;5;241m=\u001b[39m \u001b[38;5;28;01mFalse\u001b[39;00m\n\u001b[0;32m--> 238\u001b[0m \u001b[38;5;28;43mself\u001b[39;49m\u001b[38;5;241;43m.\u001b[39;49m\u001b[43m_update_hess\u001b[49m\u001b[43m(\u001b[49m\u001b[43m)\u001b[49m\n",
      "File \u001b[0;32m/opt/conda/lib/python3.10/site-packages/scipy/optimize/_differentiable_functions.py:261\u001b[0m, in \u001b[0;36mScalarFunction._update_hess\u001b[0;34m(self)\u001b[0m\n\u001b[1;32m    259\u001b[0m \u001b[38;5;28;01mdef\u001b[39;00m \u001b[38;5;21m_update_hess\u001b[39m(\u001b[38;5;28mself\u001b[39m):\n\u001b[1;32m    260\u001b[0m     \u001b[38;5;28;01mif\u001b[39;00m \u001b[38;5;129;01mnot\u001b[39;00m \u001b[38;5;28mself\u001b[39m\u001b[38;5;241m.\u001b[39mH_updated:\n\u001b[0;32m--> 261\u001b[0m         \u001b[38;5;28;43mself\u001b[39;49m\u001b[38;5;241;43m.\u001b[39;49m\u001b[43m_update_hess_impl\u001b[49m\u001b[43m(\u001b[49m\u001b[43m)\u001b[49m\n\u001b[1;32m    262\u001b[0m         \u001b[38;5;28mself\u001b[39m\u001b[38;5;241m.\u001b[39mH_updated \u001b[38;5;241m=\u001b[39m \u001b[38;5;28;01mTrue\u001b[39;00m\n",
      "File \u001b[0;32m/opt/conda/lib/python3.10/site-packages/scipy/optimize/_differentiable_functions.py:222\u001b[0m, in \u001b[0;36mScalarFunction.__init__.<locals>.update_hess\u001b[0;34m()\u001b[0m\n\u001b[1;32m    221\u001b[0m \u001b[38;5;28;01mdef\u001b[39;00m \u001b[38;5;21mupdate_hess\u001b[39m():\n\u001b[0;32m--> 222\u001b[0m     \u001b[38;5;28;43mself\u001b[39;49m\u001b[38;5;241;43m.\u001b[39;49m\u001b[43m_update_grad\u001b[49m\u001b[43m(\u001b[49m\u001b[43m)\u001b[49m\n\u001b[1;32m    223\u001b[0m     \u001b[38;5;28mself\u001b[39m\u001b[38;5;241m.\u001b[39mH\u001b[38;5;241m.\u001b[39mupdate(\u001b[38;5;28mself\u001b[39m\u001b[38;5;241m.\u001b[39mx \u001b[38;5;241m-\u001b[39m \u001b[38;5;28mself\u001b[39m\u001b[38;5;241m.\u001b[39mx_prev, \u001b[38;5;28mself\u001b[39m\u001b[38;5;241m.\u001b[39mg \u001b[38;5;241m-\u001b[39m \u001b[38;5;28mself\u001b[39m\u001b[38;5;241m.\u001b[39mg_prev)\n",
      "File \u001b[0;32m/opt/conda/lib/python3.10/site-packages/scipy/optimize/_differentiable_functions.py:256\u001b[0m, in \u001b[0;36mScalarFunction._update_grad\u001b[0;34m(self)\u001b[0m\n\u001b[1;32m    254\u001b[0m \u001b[38;5;28;01mdef\u001b[39;00m \u001b[38;5;21m_update_grad\u001b[39m(\u001b[38;5;28mself\u001b[39m):\n\u001b[1;32m    255\u001b[0m     \u001b[38;5;28;01mif\u001b[39;00m \u001b[38;5;129;01mnot\u001b[39;00m \u001b[38;5;28mself\u001b[39m\u001b[38;5;241m.\u001b[39mg_updated:\n\u001b[0;32m--> 256\u001b[0m         \u001b[38;5;28;43mself\u001b[39;49m\u001b[38;5;241;43m.\u001b[39;49m\u001b[43m_update_grad_impl\u001b[49m\u001b[43m(\u001b[49m\u001b[43m)\u001b[49m\n\u001b[1;32m    257\u001b[0m         \u001b[38;5;28mself\u001b[39m\u001b[38;5;241m.\u001b[39mg_updated \u001b[38;5;241m=\u001b[39m \u001b[38;5;28;01mTrue\u001b[39;00m\n",
      "File \u001b[0;32m/opt/conda/lib/python3.10/site-packages/scipy/optimize/_differentiable_functions.py:173\u001b[0m, in \u001b[0;36mScalarFunction.__init__.<locals>.update_grad\u001b[0;34m()\u001b[0m\n\u001b[1;32m    171\u001b[0m \u001b[38;5;28mself\u001b[39m\u001b[38;5;241m.\u001b[39m_update_fun()\n\u001b[1;32m    172\u001b[0m \u001b[38;5;28mself\u001b[39m\u001b[38;5;241m.\u001b[39mngev \u001b[38;5;241m+\u001b[39m\u001b[38;5;241m=\u001b[39m \u001b[38;5;241m1\u001b[39m\n\u001b[0;32m--> 173\u001b[0m \u001b[38;5;28mself\u001b[39m\u001b[38;5;241m.\u001b[39mg \u001b[38;5;241m=\u001b[39m \u001b[43mapprox_derivative\u001b[49m\u001b[43m(\u001b[49m\u001b[43mfun_wrapped\u001b[49m\u001b[43m,\u001b[49m\u001b[43m \u001b[49m\u001b[38;5;28;43mself\u001b[39;49m\u001b[38;5;241;43m.\u001b[39;49m\u001b[43mx\u001b[49m\u001b[43m,\u001b[49m\u001b[43m \u001b[49m\u001b[43mf0\u001b[49m\u001b[38;5;241;43m=\u001b[39;49m\u001b[38;5;28;43mself\u001b[39;49m\u001b[38;5;241;43m.\u001b[39;49m\u001b[43mf\u001b[49m\u001b[43m,\u001b[49m\n\u001b[1;32m    174\u001b[0m \u001b[43m                           \u001b[49m\u001b[38;5;241;43m*\u001b[39;49m\u001b[38;5;241;43m*\u001b[39;49m\u001b[43mfinite_diff_options\u001b[49m\u001b[43m)\u001b[49m\n",
      "File \u001b[0;32m/opt/conda/lib/python3.10/site-packages/scipy/optimize/_numdiff.py:505\u001b[0m, in \u001b[0;36mapprox_derivative\u001b[0;34m(fun, x0, method, rel_step, abs_step, f0, bounds, sparsity, as_linear_operator, args, kwargs)\u001b[0m\n\u001b[1;32m    502\u001b[0m     use_one_sided \u001b[38;5;241m=\u001b[39m \u001b[38;5;28;01mFalse\u001b[39;00m\n\u001b[1;32m    504\u001b[0m \u001b[38;5;28;01mif\u001b[39;00m sparsity \u001b[38;5;129;01mis\u001b[39;00m \u001b[38;5;28;01mNone\u001b[39;00m:\n\u001b[0;32m--> 505\u001b[0m     \u001b[38;5;28;01mreturn\u001b[39;00m \u001b[43m_dense_difference\u001b[49m\u001b[43m(\u001b[49m\u001b[43mfun_wrapped\u001b[49m\u001b[43m,\u001b[49m\u001b[43m \u001b[49m\u001b[43mx0\u001b[49m\u001b[43m,\u001b[49m\u001b[43m \u001b[49m\u001b[43mf0\u001b[49m\u001b[43m,\u001b[49m\u001b[43m \u001b[49m\u001b[43mh\u001b[49m\u001b[43m,\u001b[49m\n\u001b[1;32m    506\u001b[0m \u001b[43m                             \u001b[49m\u001b[43muse_one_sided\u001b[49m\u001b[43m,\u001b[49m\u001b[43m \u001b[49m\u001b[43mmethod\u001b[49m\u001b[43m)\u001b[49m\n\u001b[1;32m    507\u001b[0m \u001b[38;5;28;01melse\u001b[39;00m:\n\u001b[1;32m    508\u001b[0m     \u001b[38;5;28;01mif\u001b[39;00m \u001b[38;5;129;01mnot\u001b[39;00m issparse(sparsity) \u001b[38;5;129;01mand\u001b[39;00m \u001b[38;5;28mlen\u001b[39m(sparsity) \u001b[38;5;241m==\u001b[39m \u001b[38;5;241m2\u001b[39m:\n",
      "File \u001b[0;32m/opt/conda/lib/python3.10/site-packages/scipy/optimize/_numdiff.py:576\u001b[0m, in \u001b[0;36m_dense_difference\u001b[0;34m(fun, x0, f0, h, use_one_sided, method)\u001b[0m\n\u001b[1;32m    574\u001b[0m     x \u001b[38;5;241m=\u001b[39m x0 \u001b[38;5;241m+\u001b[39m h_vecs[i]\n\u001b[1;32m    575\u001b[0m     dx \u001b[38;5;241m=\u001b[39m x[i] \u001b[38;5;241m-\u001b[39m x0[i]  \u001b[38;5;66;03m# Recompute dx as exactly representable number.\u001b[39;00m\n\u001b[0;32m--> 576\u001b[0m     df \u001b[38;5;241m=\u001b[39m \u001b[43mfun\u001b[49m\u001b[43m(\u001b[49m\u001b[43mx\u001b[49m\u001b[43m)\u001b[49m \u001b[38;5;241m-\u001b[39m f0\n\u001b[1;32m    577\u001b[0m \u001b[38;5;28;01melif\u001b[39;00m method \u001b[38;5;241m==\u001b[39m \u001b[38;5;124m'\u001b[39m\u001b[38;5;124m3-point\u001b[39m\u001b[38;5;124m'\u001b[39m \u001b[38;5;129;01mand\u001b[39;00m use_one_sided[i]:\n\u001b[1;32m    578\u001b[0m     x1 \u001b[38;5;241m=\u001b[39m x0 \u001b[38;5;241m+\u001b[39m h_vecs[i]\n",
      "File \u001b[0;32m/opt/conda/lib/python3.10/site-packages/scipy/optimize/_numdiff.py:456\u001b[0m, in \u001b[0;36mapprox_derivative.<locals>.fun_wrapped\u001b[0;34m(x)\u001b[0m\n\u001b[1;32m    455\u001b[0m \u001b[38;5;28;01mdef\u001b[39;00m \u001b[38;5;21mfun_wrapped\u001b[39m(x):\n\u001b[0;32m--> 456\u001b[0m     f \u001b[38;5;241m=\u001b[39m np\u001b[38;5;241m.\u001b[39matleast_1d(\u001b[43mfun\u001b[49m\u001b[43m(\u001b[49m\u001b[43mx\u001b[49m\u001b[43m,\u001b[49m\u001b[43m \u001b[49m\u001b[38;5;241;43m*\u001b[39;49m\u001b[43margs\u001b[49m\u001b[43m,\u001b[49m\u001b[43m \u001b[49m\u001b[38;5;241;43m*\u001b[39;49m\u001b[38;5;241;43m*\u001b[39;49m\u001b[43mkwargs\u001b[49m\u001b[43m)\u001b[49m)\n\u001b[1;32m    457\u001b[0m     \u001b[38;5;28;01mif\u001b[39;00m f\u001b[38;5;241m.\u001b[39mndim \u001b[38;5;241m>\u001b[39m \u001b[38;5;241m1\u001b[39m:\n\u001b[1;32m    458\u001b[0m         \u001b[38;5;28;01mraise\u001b[39;00m \u001b[38;5;167;01mRuntimeError\u001b[39;00m(\u001b[38;5;124m\"\u001b[39m\u001b[38;5;124m`fun` return value has \u001b[39m\u001b[38;5;124m\"\u001b[39m\n\u001b[1;32m    459\u001b[0m                            \u001b[38;5;124m\"\u001b[39m\u001b[38;5;124mmore than 1 dimension.\u001b[39m\u001b[38;5;124m\"\u001b[39m)\n",
      "File \u001b[0;32m/opt/conda/lib/python3.10/site-packages/scipy/optimize/_differentiable_functions.py:137\u001b[0m, in \u001b[0;36mScalarFunction.__init__.<locals>.fun_wrapped\u001b[0;34m(x)\u001b[0m\n\u001b[1;32m    133\u001b[0m \u001b[38;5;28mself\u001b[39m\u001b[38;5;241m.\u001b[39mnfev \u001b[38;5;241m+\u001b[39m\u001b[38;5;241m=\u001b[39m \u001b[38;5;241m1\u001b[39m\n\u001b[1;32m    134\u001b[0m \u001b[38;5;66;03m# Send a copy because the user may overwrite it.\u001b[39;00m\n\u001b[1;32m    135\u001b[0m \u001b[38;5;66;03m# Overwriting results in undefined behaviour because\u001b[39;00m\n\u001b[1;32m    136\u001b[0m \u001b[38;5;66;03m# fun(self.x) will change self.x, with the two no longer linked.\u001b[39;00m\n\u001b[0;32m--> 137\u001b[0m fx \u001b[38;5;241m=\u001b[39m \u001b[43mfun\u001b[49m\u001b[43m(\u001b[49m\u001b[43mnp\u001b[49m\u001b[38;5;241;43m.\u001b[39;49m\u001b[43mcopy\u001b[49m\u001b[43m(\u001b[49m\u001b[43mx\u001b[49m\u001b[43m)\u001b[49m\u001b[43m,\u001b[49m\u001b[43m \u001b[49m\u001b[38;5;241;43m*\u001b[39;49m\u001b[43margs\u001b[49m\u001b[43m)\u001b[49m\n\u001b[1;32m    138\u001b[0m \u001b[38;5;66;03m# Make sure the function returns a true scalar\u001b[39;00m\n\u001b[1;32m    139\u001b[0m \u001b[38;5;28;01mif\u001b[39;00m \u001b[38;5;129;01mnot\u001b[39;00m np\u001b[38;5;241m.\u001b[39misscalar(fx):\n",
      "Input \u001b[0;32mIn [1635]\u001b[0m, in \u001b[0;36mgate_tuner\u001b[0;34m(x, *argv)\u001b[0m\n\u001b[1;32m     71\u001b[0m summed_ham \u001b[38;5;241m=\u001b[39m \u001b[38;5;28msum\u001b[39m(\n\u001b[1;32m     72\u001b[0m     [\n\u001b[1;32m     73\u001b[0m         linear_hamiltonian[key] \u001b[38;5;241m*\u001b[39m voltages[key]\n\u001b[1;32m     74\u001b[0m         \u001b[38;5;28;01mfor\u001b[39;00m key, value \u001b[38;5;129;01min\u001b[39;00m linear_hamiltonian\u001b[38;5;241m.\u001b[39mitems()\n\u001b[1;32m     75\u001b[0m     ]\n\u001b[1;32m     76\u001b[0m )\n\u001b[1;32m     78\u001b[0m tight_binding_hamiltonian \u001b[38;5;241m=\u001b[39m base_hamiltonian \u001b[38;5;241m+\u001b[39m summed_ham\n\u001b[0;32m---> 81\u001b[0m eigval, eigvec \u001b[38;5;241m=\u001b[39m sl\u001b[38;5;241m.\u001b[39msort_eigen(\u001b[43msparse\u001b[49m\u001b[38;5;241;43m.\u001b[39;49m\u001b[43mlinalg\u001b[49m\u001b[38;5;241;43m.\u001b[39;49m\u001b[43meigsh\u001b[49m\u001b[43m(\u001b[49m\u001b[43mtight_binding_hamiltonian\u001b[49m\u001b[38;5;241;43m.\u001b[39;49m\u001b[43mtocsc\u001b[49m\u001b[43m(\u001b[49m\u001b[43m)\u001b[49m\u001b[43m,\u001b[49m\u001b[43m \u001b[49m\n\u001b[1;32m     82\u001b[0m \u001b[43m                                                   \u001b[49m\u001b[43mk\u001b[49m\u001b[38;5;241;43m=\u001b[39;49m\u001b[38;5;241;43m12\u001b[39;49m\u001b[43m,\u001b[49m\u001b[43m \u001b[49m\u001b[43msigma\u001b[49m\u001b[43m \u001b[49m\u001b[38;5;241;43m=\u001b[39;49m\u001b[43m \u001b[49m\u001b[38;5;241;43m0\u001b[39;49m\u001b[43m)\u001b[49m)\n\u001b[1;32m     84\u001b[0m eigval \u001b[38;5;241m=\u001b[39m eigval[\u001b[38;5;241m6\u001b[39m:]\n\u001b[1;32m     85\u001b[0m eigvec \u001b[38;5;241m=\u001b[39m eigvec[\u001b[38;5;241m6\u001b[39m:]\n",
      "File \u001b[0;32m/opt/conda/lib/python3.10/site-packages/scipy/sparse/linalg/_eigen/arpack/arpack.py:1566\u001b[0m, in \u001b[0;36meigsh\u001b[0;34m(A, k, M, sigma, which, v0, ncv, maxiter, tol, return_eigenvectors, Minv, OPinv, mode)\u001b[0m\n\u001b[1;32m   1564\u001b[0m \u001b[38;5;28;01melif\u001b[39;00m which \u001b[38;5;241m==\u001b[39m \u001b[38;5;124m'\u001b[39m\u001b[38;5;124mSA\u001b[39m\u001b[38;5;124m'\u001b[39m:\n\u001b[1;32m   1565\u001b[0m     which \u001b[38;5;241m=\u001b[39m \u001b[38;5;124m'\u001b[39m\u001b[38;5;124mSR\u001b[39m\u001b[38;5;124m'\u001b[39m\n\u001b[0;32m-> 1566\u001b[0m ret \u001b[38;5;241m=\u001b[39m \u001b[43meigs\u001b[49m\u001b[43m(\u001b[49m\u001b[43mA\u001b[49m\u001b[43m,\u001b[49m\u001b[43m \u001b[49m\u001b[43mk\u001b[49m\u001b[43m,\u001b[49m\u001b[43m \u001b[49m\u001b[43mM\u001b[49m\u001b[38;5;241;43m=\u001b[39;49m\u001b[43mM\u001b[49m\u001b[43m,\u001b[49m\u001b[43m \u001b[49m\u001b[43msigma\u001b[49m\u001b[38;5;241;43m=\u001b[39;49m\u001b[43msigma\u001b[49m\u001b[43m,\u001b[49m\u001b[43m \u001b[49m\u001b[43mwhich\u001b[49m\u001b[38;5;241;43m=\u001b[39;49m\u001b[43mwhich\u001b[49m\u001b[43m,\u001b[49m\u001b[43m \u001b[49m\u001b[43mv0\u001b[49m\u001b[38;5;241;43m=\u001b[39;49m\u001b[43mv0\u001b[49m\u001b[43m,\u001b[49m\n\u001b[1;32m   1567\u001b[0m \u001b[43m           \u001b[49m\u001b[43mncv\u001b[49m\u001b[38;5;241;43m=\u001b[39;49m\u001b[43mncv\u001b[49m\u001b[43m,\u001b[49m\u001b[43m \u001b[49m\u001b[43mmaxiter\u001b[49m\u001b[38;5;241;43m=\u001b[39;49m\u001b[43mmaxiter\u001b[49m\u001b[43m,\u001b[49m\u001b[43m \u001b[49m\u001b[43mtol\u001b[49m\u001b[38;5;241;43m=\u001b[39;49m\u001b[43mtol\u001b[49m\u001b[43m,\u001b[49m\n\u001b[1;32m   1568\u001b[0m \u001b[43m           \u001b[49m\u001b[43mreturn_eigenvectors\u001b[49m\u001b[38;5;241;43m=\u001b[39;49m\u001b[43mreturn_eigenvectors\u001b[49m\u001b[43m,\u001b[49m\u001b[43m \u001b[49m\u001b[43mMinv\u001b[49m\u001b[38;5;241;43m=\u001b[39;49m\u001b[43mMinv\u001b[49m\u001b[43m,\u001b[49m\n\u001b[1;32m   1569\u001b[0m \u001b[43m           \u001b[49m\u001b[43mOPinv\u001b[49m\u001b[38;5;241;43m=\u001b[39;49m\u001b[43mOPinv\u001b[49m\u001b[43m)\u001b[49m\n\u001b[1;32m   1571\u001b[0m \u001b[38;5;28;01mif\u001b[39;00m return_eigenvectors:\n\u001b[1;32m   1572\u001b[0m     \u001b[38;5;28;01mreturn\u001b[39;00m ret[\u001b[38;5;241m0\u001b[39m]\u001b[38;5;241m.\u001b[39mreal, ret[\u001b[38;5;241m1\u001b[39m]\n",
      "File \u001b[0;32m/opt/conda/lib/python3.10/site-packages/scipy/sparse/linalg/_eigen/arpack/arpack.py:1345\u001b[0m, in \u001b[0;36meigs\u001b[0;34m(A, k, M, sigma, which, v0, ncv, maxiter, tol, return_eigenvectors, Minv, OPinv, OPpart)\u001b[0m\n\u001b[1;32m   1343\u001b[0m \u001b[38;5;28;01mwith\u001b[39;00m _ARPACK_LOCK:\n\u001b[1;32m   1344\u001b[0m     \u001b[38;5;28;01mwhile\u001b[39;00m \u001b[38;5;129;01mnot\u001b[39;00m params\u001b[38;5;241m.\u001b[39mconverged:\n\u001b[0;32m-> 1345\u001b[0m         \u001b[43mparams\u001b[49m\u001b[38;5;241;43m.\u001b[39;49m\u001b[43miterate\u001b[49m\u001b[43m(\u001b[49m\u001b[43m)\u001b[49m\n\u001b[1;32m   1347\u001b[0m     \u001b[38;5;28;01mreturn\u001b[39;00m params\u001b[38;5;241m.\u001b[39mextract(return_eigenvectors)\n",
      "File \u001b[0;32m/opt/conda/lib/python3.10/site-packages/scipy/sparse/linalg/_eigen/arpack/arpack.py:744\u001b[0m, in \u001b[0;36m_UnsymmetricArpackParams.iterate\u001b[0;34m(self)\u001b[0m\n\u001b[1;32m    742\u001b[0m     \u001b[38;5;28;01melse\u001b[39;00m:\n\u001b[1;32m    743\u001b[0m         Bxslice \u001b[38;5;241m=\u001b[39m \u001b[38;5;28mslice\u001b[39m(\u001b[38;5;28mself\u001b[39m\u001b[38;5;241m.\u001b[39mipntr[\u001b[38;5;241m2\u001b[39m] \u001b[38;5;241m-\u001b[39m \u001b[38;5;241m1\u001b[39m, \u001b[38;5;28mself\u001b[39m\u001b[38;5;241m.\u001b[39mipntr[\u001b[38;5;241m2\u001b[39m] \u001b[38;5;241m-\u001b[39m \u001b[38;5;241m1\u001b[39m \u001b[38;5;241m+\u001b[39m \u001b[38;5;28mself\u001b[39m\u001b[38;5;241m.\u001b[39mn)\n\u001b[0;32m--> 744\u001b[0m         \u001b[38;5;28mself\u001b[39m\u001b[38;5;241m.\u001b[39mworkd[yslice] \u001b[38;5;241m=\u001b[39m \u001b[38;5;28;43mself\u001b[39;49m\u001b[38;5;241;43m.\u001b[39;49m\u001b[43mOPa\u001b[49m\u001b[43m(\u001b[49m\u001b[38;5;28;43mself\u001b[39;49m\u001b[38;5;241;43m.\u001b[39;49m\u001b[43mworkd\u001b[49m\u001b[43m[\u001b[49m\u001b[43mBxslice\u001b[49m\u001b[43m]\u001b[49m\u001b[43m)\u001b[49m\n\u001b[1;32m    745\u001b[0m \u001b[38;5;28;01melif\u001b[39;00m \u001b[38;5;28mself\u001b[39m\u001b[38;5;241m.\u001b[39mido \u001b[38;5;241m==\u001b[39m \u001b[38;5;241m2\u001b[39m:\n\u001b[1;32m    746\u001b[0m     \u001b[38;5;28mself\u001b[39m\u001b[38;5;241m.\u001b[39mworkd[yslice] \u001b[38;5;241m=\u001b[39m \u001b[38;5;28mself\u001b[39m\u001b[38;5;241m.\u001b[39mB(\u001b[38;5;28mself\u001b[39m\u001b[38;5;241m.\u001b[39mworkd[xslice])\n",
      "File \u001b[0;32m/opt/conda/lib/python3.10/site-packages/scipy/sparse/linalg/_interface.py:232\u001b[0m, in \u001b[0;36mLinearOperator.matvec\u001b[0;34m(self, x)\u001b[0m\n\u001b[1;32m    229\u001b[0m \u001b[38;5;28;01mif\u001b[39;00m x\u001b[38;5;241m.\u001b[39mshape \u001b[38;5;241m!=\u001b[39m (N,) \u001b[38;5;129;01mand\u001b[39;00m x\u001b[38;5;241m.\u001b[39mshape \u001b[38;5;241m!=\u001b[39m (N,\u001b[38;5;241m1\u001b[39m):\n\u001b[1;32m    230\u001b[0m     \u001b[38;5;28;01mraise\u001b[39;00m \u001b[38;5;167;01mValueError\u001b[39;00m(\u001b[38;5;124m'\u001b[39m\u001b[38;5;124mdimension mismatch\u001b[39m\u001b[38;5;124m'\u001b[39m)\n\u001b[0;32m--> 232\u001b[0m y \u001b[38;5;241m=\u001b[39m \u001b[38;5;28;43mself\u001b[39;49m\u001b[38;5;241;43m.\u001b[39;49m\u001b[43m_matvec\u001b[49m\u001b[43m(\u001b[49m\u001b[43mx\u001b[49m\u001b[43m)\u001b[49m\n\u001b[1;32m    234\u001b[0m \u001b[38;5;28;01mif\u001b[39;00m \u001b[38;5;28misinstance\u001b[39m(x, np\u001b[38;5;241m.\u001b[39mmatrix):\n\u001b[1;32m    235\u001b[0m     y \u001b[38;5;241m=\u001b[39m asmatrix(y)\n",
      "File \u001b[0;32m/opt/conda/lib/python3.10/site-packages/scipy/sparse/linalg/_eigen/arpack/arpack.py:925\u001b[0m, in \u001b[0;36mSpLuInv._matvec\u001b[0;34m(self, x)\u001b[0m\n\u001b[1;32m    922\u001b[0m     \u001b[38;5;28;01mreturn\u001b[39;00m (\u001b[38;5;28mself\u001b[39m\u001b[38;5;241m.\u001b[39mM_lu\u001b[38;5;241m.\u001b[39msolve(np\u001b[38;5;241m.\u001b[39mreal(x)\u001b[38;5;241m.\u001b[39mastype(\u001b[38;5;28mself\u001b[39m\u001b[38;5;241m.\u001b[39mdtype))\n\u001b[1;32m    923\u001b[0m             \u001b[38;5;241m+\u001b[39m \u001b[38;5;241m1\u001b[39mj \u001b[38;5;241m*\u001b[39m \u001b[38;5;28mself\u001b[39m\u001b[38;5;241m.\u001b[39mM_lu\u001b[38;5;241m.\u001b[39msolve(np\u001b[38;5;241m.\u001b[39mimag(x)\u001b[38;5;241m.\u001b[39mastype(\u001b[38;5;28mself\u001b[39m\u001b[38;5;241m.\u001b[39mdtype)))\n\u001b[1;32m    924\u001b[0m \u001b[38;5;28;01melse\u001b[39;00m:\n\u001b[0;32m--> 925\u001b[0m     \u001b[38;5;28;01mreturn\u001b[39;00m \u001b[38;5;28;43mself\u001b[39;49m\u001b[38;5;241;43m.\u001b[39;49m\u001b[43mM_lu\u001b[49m\u001b[38;5;241;43m.\u001b[39;49m\u001b[43msolve\u001b[49m\u001b[43m(\u001b[49m\u001b[43mx\u001b[49m\u001b[38;5;241;43m.\u001b[39;49m\u001b[43mastype\u001b[49m\u001b[43m(\u001b[49m\u001b[38;5;28;43mself\u001b[39;49m\u001b[38;5;241;43m.\u001b[39;49m\u001b[43mdtype\u001b[49m\u001b[43m)\u001b[49m\u001b[43m)\u001b[49m\n",
      "\u001b[0;31mKeyboardInterrupt\u001b[0m: "
     ]
    }
   ],
   "source": [
    "%%time\n",
    "\n",
    "sol1 = minimize(\n",
    "            gate_tuner,\n",
    "            initial_condition,\n",
    "            args=args,\n",
    "    # ftol = 1e-6,\n",
    "    # verbose = 2\n",
    "    method = 'trust-constr',\n",
    "            options = {'disp': True, 'verbose': 2, 'maxiter': 20, \n",
    "                       'gtol': 1e-3, 'initial_tr_radius': 2e-4}\n",
    "        )"
   ]
  },
  {
   "cell_type": "code",
   "execution_count": 1805,
   "id": "b28efa11-c99e-4f30-a5e0-b788d3602963",
   "metadata": {},
   "outputs": [],
   "source": [
    "x = sol1.x\n",
    "for i in range(1, 3):\n",
    "    voltages['left_'+str(i)] = x[0] \n",
    "    voltages['right_'+str(i)] = x[1]\n",
    "    voltages['top_'+str(i)] = x[2]\n",
    "\n",
    "voltages['global_accumul'] = x[3]"
   ]
  },
  {
   "cell_type": "code",
   "execution_count": 2491,
   "id": "c6275acb-ad6c-4263-b27d-25494897e053",
   "metadata": {},
   "outputs": [
    {
     "data": {
      "text/plain": [
       "{'left_1': -0.003681622975055661,\n",
       " 'left_2': -0.008681622975055661,\n",
       " 'right_1': -0.008681622975055661,\n",
       " 'right_2': -0.003681622975055661,\n",
       " 'top_1': -0.0037495890626959454,\n",
       " 'top_2': -0.0037495890626959454,\n",
       " 'global_accumul': -6.98461859286267e-05}"
      ]
     },
     "execution_count": 2491,
     "metadata": {},
     "output_type": "execute_result"
    }
   ],
   "source": [
    "voltages"
   ]
  },
  {
   "cell_type": "raw",
   "id": "96d0e8a9-a6a2-41b9-889c-74c874160ef9",
   "metadata": {},
   "source": [
    "voltages['left_2'] -= 0.005\n",
    "voltages['right_1'] = voltages['left_2']\n",
    "voltages['right_2'] = voltages['left_1']"
   ]
  },
  {
   "cell_type": "code",
   "execution_count": 2493,
   "id": "60d5f8bd-8fc7-4edb-bdff-57a7720a5d33",
   "metadata": {},
   "outputs": [
    {
     "name": "stdout",
     "output_type": "stream",
     "text": [
      "CPU times: user 547 ms, sys: 8.96 ms, total: 556 ms\n",
      "Wall time: 553 ms\n"
     ]
    }
   ],
   "source": [
    "%%time\n",
    "\n",
    "charges = {}\n",
    "potential = gate_potential(\n",
    "        poisson_system,\n",
    "        linear_problem,\n",
    "        site_coords[:, [0, 1]],\n",
    "        site_indices,\n",
    "        voltages,\n",
    "        charges,\n",
    "        offset = offset[[0, 1]],\n",
    "        grid_spacing = kwant_params['grid_spacing']\n",
    "    )\n",
    "\n",
    "potential.update((x, y*-1) for x, y in potential.items())\n",
    "\n",
    "params.update(potential=potential)"
   ]
  },
  {
   "cell_type": "code",
   "execution_count": 2494,
   "id": "2c1b1a54-16f4-45fd-94f5-8a76f645ffc4",
   "metadata": {},
   "outputs": [],
   "source": [
    "f_mu = f_params(**params)['mu']"
   ]
  },
  {
   "cell_type": "code",
   "execution_count": 2495,
   "id": "e222bb7a-5a2e-402f-b922-411bc4f856d4",
   "metadata": {},
   "outputs": [],
   "source": [
    "def plot_f_mu(i):\n",
    "    x, y = trijunction.sites[i].pos\n",
    "    return f_mu(x, y)"
   ]
  },
  {
   "cell_type": "code",
   "execution_count": 2496,
   "id": "9c761a2b-bb0a-46a2-8415-7b5aab0de2a7",
   "metadata": {},
   "outputs": [],
   "source": [
    "kwant_sites = np.array(list(site.pos for site in trijunction.sites))"
   ]
  },
  {
   "cell_type": "code",
   "execution_count": 2497,
   "id": "97bf5dfd-edf9-4d79-8a8f-e46208e1ddae",
   "metadata": {},
   "outputs": [],
   "source": [
    "to_plot = [plot_f_mu(i) for i in range(len(kwant_sites))]"
   ]
  },
  {
   "cell_type": "code",
   "execution_count": 2498,
   "id": "335f62f4-d18b-405d-a77f-5185213a9314",
   "metadata": {},
   "outputs": [],
   "source": [
    "grid_points = poisson_system.grid.points\n",
    "voltage_regions = poisson_system.regions.voltage.tag_points"
   ]
  },
  {
   "cell_type": "code",
   "execution_count": 2499,
   "id": "3788d104-ae63-4db8-809b-82b78892ecb1",
   "metadata": {},
   "outputs": [
    {
     "data": {
      "text/plain": [
       "0.0023960204649275973"
      ]
     },
     "execution_count": 2499,
     "metadata": {},
     "output_type": "execute_result"
    }
   ],
   "source": [
    "pm.bands[0]"
   ]
  },
  {
   "cell_type": "code",
   "execution_count": 2500,
   "id": "1006783f-6650-4b7a-8081-fbf7a2af34ff",
   "metadata": {},
   "outputs": [
    {
     "data": {
      "image/png": "[encoded data removed]",
      "text/plain": [
       "<Figure size 504x360 with 2 Axes>"
      ]
     },
     "metadata": {
      "needs_background": "light"
     },
     "output_type": "display_data"
    }
   ],
   "source": [
    "fig, ax = plt.subplots(1, 1, figsize = (7, 5))\n",
    "cax = ax.scatter(kwant_sites[:, 0 ], kwant_sites[:, 1], \n",
    "                 c = np.array(to_plot), cmap = 'inferno_r', \n",
    "                );\n",
    "ax.set_ylim(-0.5e-6, 1.0e-6);\n",
    "plt.colorbar(cax);\n",
    "# plt.axis('equal')"
   ]
  },
  {
   "cell_type": "code",
   "execution_count": 2637,
   "id": "1db3c71a-ef5b-47f4-92ae-fb4cbb8b50e3",
   "metadata": {},
   "outputs": [],
   "source": [
    "summed_ham = sum(\n",
    "    [\n",
    "        linear_ham[key] * voltages[key]\n",
    "        for key, value in linear_ham.items()\n",
    "    ]\n",
    ")\n",
    "\n",
    "tight_binding_hamiltonian = base_hamiltonian + summed_ham\n",
    "\n",
    "\n",
    "eigval, eigvec = sl.sort_eigen(sparse.linalg.eigsh(tight_binding_hamiltonian.tocsc(), \n",
    "                                                   k=12, sigma = 0))\n"
   ]
  },
  {
   "cell_type": "code",
   "execution_count": 2638,
   "id": "b5c9c5e7-3817-49cb-a6cf-c38f2fc1cd33",
   "metadata": {},
   "outputs": [],
   "source": [
    "eigval = eigval[3:9]\n",
    "eigvec = eigvec[3:9]"
   ]
  },
  {
   "cell_type": "raw",
   "id": "36cfab0d-8a40-4bdb-881d-674f11e73836",
   "metadata": {},
   "source": [
    "basis_sequence = []\n",
    "for vec in eigvec[:3]:\n",
    "    basis_sequence.append(np.argmax([op(vec) for op in [leftop, \n",
    "                                                        rightop, \n",
    "                                                        topop]]))\n",
    "\n",
    "basis_sequence = np.hstack(basis_sequence)\n",
    "\n",
    "eigval[:3] = eigval[:3][basis_sequence]\n",
    "eigvec[:3] = np.squeeze(eigvec[:3][basis_sequence])"
   ]
  },
  {
   "cell_type": "code",
   "execution_count": 2639,
   "id": "5715c6cc-482d-4c7e-82c0-432fb15a709c",
   "metadata": {},
   "outputs": [],
   "source": [
    "density = Density(trijunction, np.eye(4))"
   ]
  },
  {
   "cell_type": "code",
   "execution_count": 2640,
   "id": "cb955010-009e-4d7d-b301-aad2744b1cf1",
   "metadata": {},
   "outputs": [
    {
     "data": {
      "image/png": "[encoded data removed]",
      "text/plain": [
       "<Figure size 360x360 with 6 Axes>"
      ]
     },
     "metadata": {
      "needs_background": "light"
     },
     "output_type": "display_data"
    }
   ],
   "source": [
    "fig, ax = plt.subplots(1, len(eigvec), figsize = (5, 5), sharey = True)\n",
    "for i in range(len(eigvec)):\n",
    "    cax = kwant.plotter.density(trijunction, density(eigvec[i]), ax = ax[i]);"
   ]
  },
  {
   "cell_type": "markdown",
   "id": "41a62684-2f80-46cf-8621-a160fc6d796b",
   "metadata": {},
   "source": [
    "#### Wannierization"
   ]
  },
  {
   "cell_type": "code",
   "execution_count": 2641,
   "id": "f7778698-9cb3-47fa-9aac-8a1ea690f60d",
   "metadata": {},
   "outputs": [],
   "source": [
    "X_operator = Density(\n",
    "            trijunction, onsite=lambda site: np.eye(4) * site.pos[0], sum=True\n",
    "        )\n",
    "\n",
    "Y_operator = Density(\n",
    "            trijunction, onsite=lambda site: np.eye(4) * site.pos[1], sum=True\n",
    "        )\n",
    "\n",
    "projected_X_operator = wannier_1D_operator(X_operator, \n",
    "                                           eigvec.T)\n",
    "\n",
    "projected_Y_operator = wannier_1D_operator(Y_operator, \n",
    "                                           eigvec.T)\n",
    "\n",
    "w_basis = wannier_basis([projected_X_operator, \n",
    "                         projected_Y_operator])\n",
    "\n",
    "Wannier_Hamiltonian = wannier_effective_Hamiltonian(eigval, w_basis)\n",
    "\n",
    "_, eff_ham_vec = scipy.linalg.eigh(Wannier_Hamiltonian)\n",
    "\n",
    "wannier_eigvec = eff_ham_vec @ eigvec"
   ]
  },
  {
   "cell_type": "code",
   "execution_count": 2663,
   "id": "8a31f15d-edc1-413c-a80e-fbe438d34d92",
   "metadata": {},
   "outputs": [
    {
     "data": {
      "image/png": "[encoded data removed]",
      "text/plain": [
       "<Figure size 360x360 with 6 Axes>"
      ]
     },
     "metadata": {
      "needs_background": "light"
     },
     "output_type": "display_data"
    }
   ],
   "source": [
    "fig, ax = plt.subplots(1, len(eigvec), figsize = (5, 5), sharey = True)\n",
    "for i in range(len(eigvec)):\n",
    "    cax = kwant.plotter.density(trijunction, density(wannier_eigvec[i]), ax = ax[i]);"
   ]
  },
  {
   "cell_type": "markdown",
   "id": "b6833730-0241-4ceb-9bdd-1218eb4e7383",
   "metadata": {
    "tags": []
   },
   "source": [
    "### Effective Majorana basis"
   ]
  },
  {
   "cell_type": "code",
   "execution_count": 2002,
   "id": "609a9ece-b100-427f-a9ed-11dfe9a78cfa",
   "metadata": {},
   "outputs": [],
   "source": [
    "S = eigvec @ eigvec.T.conj()\n",
    "U, _, Vh = svd(S)\n",
    "S_prime = U @ Vh\n",
    "transformation = S_prime @ np.diag(eigval) @ S_prime.T.conj()"
   ]
  },
  {
   "cell_type": "code",
   "execution_count": 2003,
   "id": "ca2e3160-2fd9-4ad2-8740-2ff80c615bd9",
   "metadata": {},
   "outputs": [
    {
     "data": {
      "text/latex": [
       "$\\displaystyle \\left[\\begin{matrix}-3.317534 \\cdot 10^{-6} & 0 & 0 & 0 & 0 & 0\\\\0 & -7.642 \\cdot 10^{-9} & 0 & 0 & 0 & 0\\\\0 & 0 & -1.68 \\cdot 10^{-9} & 0 & 0 & 0\\\\0 & 0 & 0 & 1.68 \\cdot 10^{-9} & 0 & 0\\\\0 & 0 & 0 & 0 & 7.642 \\cdot 10^{-9} & 0\\\\0 & 0 & 0 & 0 & 0 & 3.317534 \\cdot 10^{-6}\\end{matrix}\\right]$"
      ],
      "text/plain": [
       "Matrix([\n",
       "[-3.317534e-6,         0,        0,       0,        0,           0],\n",
       "[           0, -7.642e-9,        0,       0,        0,           0],\n",
       "[           0,         0, -1.68e-9,       0,        0,           0],\n",
       "[           0,         0,        0, 1.68e-9,        0,           0],\n",
       "[           0,         0,        0,       0, 7.642e-9,           0],\n",
       "[           0,         0,        0,       0,        0, 3.317534e-6]])"
      ]
     },
     "execution_count": 2003,
     "metadata": {},
     "output_type": "execute_result"
    }
   ],
   "source": [
    "Matrix(np.round(transformation, 12))"
   ]
  },
  {
   "cell_type": "markdown",
   "id": "f9286ab4-1460-441b-aa27-ceaec0829c44",
   "metadata": {
    "jp-MarkdownHeadingCollapsed": true,
    "tags": []
   },
   "source": [
    "#### Linear part of the Hamiltonian"
   ]
  },
  {
   "cell_type": "code",
   "execution_count": 474,
   "id": "7345b780-d75d-4033-980b-571a04d270bf",
   "metadata": {},
   "outputs": [],
   "source": [
    "from tqdm import tqdm"
   ]
  },
  {
   "cell_type": "code",
   "execution_count": 1761,
   "id": "92ea25a5-11f2-465b-b583-d04b3f55ac94",
   "metadata": {},
   "outputs": [],
   "source": [
    "def linear_Hamiltonian(\n",
    "    poisson_params,\n",
    "    kwant_params,\n",
    "    general_params,\n",
    "    gates,\n",
    "    phis = [0.0, 0.0]\n",
    "):\n",
    "\n",
    "    ## non-linear part of the Hamiltonian\n",
    "    \n",
    "    voltages = {}\n",
    "    \n",
    "    for gate in gates: voltages[gate] = 0.0\n",
    "    \n",
    "    kp = kwant_params\n",
    "    pp = poisson_params\n",
    "    \n",
    "    charges = {}\n",
    "    potential = gate_potential(\n",
    "            pp['poisson_system'],\n",
    "            pp['linear_problem'],\n",
    "            pp['site_coords'][:, [0, 1]],\n",
    "            pp['site_indices'],\n",
    "            voltages,\n",
    "            charges,\n",
    "            offset = kp['offset'][[0, 1]],\n",
    "            grid_spacing = kp['grid_spacing']\n",
    "        )\n",
    "    \n",
    "    \n",
    "    \n",
    "    general_params.update(potential=potential)\n",
    "    general_params['phi1'] = phis[0]\n",
    "    general_params['phi2'] = phis[1]\n",
    "    \n",
    "    bare_hamiltonian = kp['finite_system_object'].hamiltonian_submatrix(\n",
    "        sparse=True, params=kp['finite_system_params_object'](**general_params))\n",
    "    \n",
    "    \n",
    "    hamiltonian_V = {}\n",
    "    for gate in tqdm(gates):\n",
    "        \n",
    "\n",
    "        voltages_t = dict.fromkeys(voltages, 0.0)\n",
    "\n",
    "        voltages_t[gate] = 1.0\n",
    "\n",
    "        potential = gate_potential(\n",
    "            pp['poisson_system'],\n",
    "            pp['linear_problem'],\n",
    "            pp['site_coords'][:, [0, 1]],\n",
    "            pp['site_indices'],\n",
    "            voltages_t,\n",
    "            charges,\n",
    "            offset = kp['offset'][[0, 1]],\n",
    "            grid_spacing = kp['grid_spacing']\n",
    "        )\n",
    "    \n",
    "\n",
    "        general_params.update(potential=potential)\n",
    "\n",
    "        hamiltonian = kp['finite_system_object'].hamiltonian_submatrix(\n",
    "            sparse=True, params=kp['finite_system_params_object'](**general_params))\n",
    "\n",
    "\n",
    "        hamiltonian_V[gate] = hamiltonian - bare_hamiltonian\n",
    "\n",
    "    return bare_hamiltonian, hamiltonian_V\n"
   ]
  },
  {
   "cell_type": "code",
   "execution_count": 1762,
   "id": "71e6889b-df58-42f3-9b14-ad5563d854a5",
   "metadata": {},
   "outputs": [
    {
     "name": "stderr",
     "output_type": "stream",
     "text": [
      "100%|██████████| 7/7 [00:05<00:00,  1.39it/s]"
     ]
    },
    {
     "name": "stdout",
     "output_type": "stream",
     "text": [
      "CPU times: user 5.71 s, sys: 76.9 ms, total: 5.79 s\n",
      "Wall time: 5.78 s\n"
     ]
    },
    {
     "name": "stderr",
     "output_type": "stream",
     "text": [
      "\n"
     ]
    }
   ],
   "source": [
    "%%time\n",
    "\n",
    "base_hamiltonian, linear_ham = linear_Hamiltonian(poisson_params, \n",
    "                                                  kwant_params, \n",
    "                                                  params, \n",
    "                                                  list(voltage_regions.keys()),\n",
    "                                                  phis = [optimal_phase[0], np.pi])"
   ]
  },
  {
   "cell_type": "code",
   "execution_count": 503,
   "id": "193f07ef-c0b4-4e14-988c-8cb101f6608e",
   "metadata": {},
   "outputs": [],
   "source": [
    "summed_ham = sum(\n",
    "        [\n",
    "            linear_ham[key] * voltages[key]\n",
    "            for key, value in linear_ham.items()\n",
    "        ]\n",
    "    )\n"
   ]
  },
  {
   "cell_type": "code",
   "execution_count": 504,
   "id": "157a8e3c-27c7-4a1e-8772-97b91ab759ee",
   "metadata": {},
   "outputs": [],
   "source": [
    "pp = poisson_params\n",
    "kp = kwant_params\n",
    "potential = gate_potential(\n",
    "    pp['poisson_system'],\n",
    "    pp['linear_problem'],\n",
    "    pp['site_coords'][:, [0, 1]],\n",
    "    pp['site_indices'],\n",
    "    voltages,\n",
    "    charges,\n",
    "    offset = kp['offset'][[0, 1]],\n",
    "    grid_spacing = kp['grid_spacing']\n",
    ")\n",
    "\n",
    "\n",
    "params.update(potential=potential)\n",
    "\n",
    "test_hamiltonian = kp['finite_system_object'].hamiltonian_submatrix(\n",
    "    sparse=True, params=kp['finite_system_params_object'](**params))"
   ]
  },
  {
   "cell_type": "code",
   "execution_count": 578,
   "id": "8b0b2580-cbb7-41ea-b7ad-33cc25a50901",
   "metadata": {},
   "outputs": [],
   "source": [
    "potential = gate_potential(\n",
    "    pp['poisson_system'],\n",
    "    pp['linear_problem'],\n",
    "    pp['site_coords'],\n",
    "    pp['site_indices'],\n",
    "    voltages,\n",
    "    charges,\n",
    "    offset = kp['offset'],\n",
    "    grid_spacing = kp['grid_spacing']\n",
    ")\n"
   ]
  },
  {
   "cell_type": "code",
   "execution_count": 510,
   "id": "532e075d-aea1-4e72-9109-171d46147fc5",
   "metadata": {},
   "outputs": [],
   "source": [
    "potential = gate_potential(\n",
    "    pp['poisson_system'],\n",
    "    pp['linear_problem'],\n",
    "    pp['site_coords'][:, [0, 1]],\n",
    "    pp['site_indices'],\n",
    "    voltages,\n",
    "    charges,\n",
    "    offset = kp['offset'][[0, 1]],\n",
    "    grid_spacing = kp['grid_spacing']\n",
    ")"
   ]
  },
  {
   "cell_type": "code",
   "execution_count": 519,
   "id": "00922c5a-3afd-4afc-af7f-9b663552675e",
   "metadata": {},
   "outputs": [
    {
     "data": {
      "text/plain": [
       "array([-0.5,  0. ,  0.5])"
      ]
     },
     "execution_count": 519,
     "metadata": {},
     "output_type": "execute_result"
    }
   ],
   "source": [
    "np.unique(grid_points[poisson_system.regions.charge.tag_points['twoDEG']][:, 2])"
   ]
  },
  {
   "cell_type": "code",
   "execution_count": 575,
   "id": "e14d9e85-abcd-4fba-9342-d0410e55deb5",
   "metadata": {},
   "outputs": [],
   "source": [
    "site_tuples = map(tuple, site_coords[:, [0, 1]])"
   ]
  },
  {
   "cell_type": "raw",
   "id": "fa94a4ed-0dd8-4678-ba75-b907a2ea0e7d",
   "metadata": {},
   "source": [
    "len(list(site_tuples))"
   ]
  },
  {
   "cell_type": "code",
   "execution_count": 576,
   "id": "944a7c80-7bcf-4098-8a31-ca46387e0987",
   "metadata": {},
   "outputs": [],
   "source": [
    "from potential import _linear_solution\n",
    "solution = _linear_solution(poisson_system, linear_problem, voltages, {})\n",
    "\n",
    "potential = solution[site_indices]"
   ]
  },
  {
   "cell_type": "code",
   "execution_count": 577,
   "id": "947a15c7-f8df-48cf-8a65-c9b440c7b040",
   "metadata": {},
   "outputs": [
    {
     "ename": "ValueError",
     "evalue": "operands could not be broadcast together with shapes (2,) (3,) ",
     "output_type": "error",
     "traceback": [
      "\u001b[0;31m---------------------------------------------------------------------------\u001b[0m",
      "\u001b[0;31mValueError\u001b[0m                                Traceback (most recent call last)",
      "Input \u001b[0;32mIn [577]\u001b[0m, in \u001b[0;36m<cell line: 2>\u001b[0;34m()\u001b[0m\n\u001b[1;32m      4\u001b[0m     potential_dict[ta\u001b[38;5;241m.\u001b[39marray((site_tuple\u001b[38;5;241m-\u001b[39moffset))] \u001b[38;5;241m=\u001b[39m potential[i]\n\u001b[1;32m      5\u001b[0m \u001b[38;5;28;01melse\u001b[39;00m:\n\u001b[0;32m----> 6\u001b[0m     potential_dict[ta\u001b[38;5;241m.\u001b[39marray((\u001b[43msite_tuple\u001b[49m\u001b[38;5;241;43m-\u001b[39;49m\u001b[43moffset\u001b[49m)\u001b[38;5;241m*\u001b[39mkp[\u001b[38;5;124m'\u001b[39m\u001b[38;5;124mgrid_spacing\u001b[39m\u001b[38;5;124m'\u001b[39m])] \u001b[38;5;241m=\u001b[39m potential[i]\n",
      "\u001b[0;31mValueError\u001b[0m: operands could not be broadcast together with shapes (2,) (3,) "
     ]
    }
   ],
   "source": [
    "potential_dict = {}\n",
    "for i, site_tuple in enumerate(site_tuples):\n",
    "    if grid_spacing == 1:\n",
    "        potential_dict[ta.array((site_tuple-offset))] = potential[i]\n",
    "    else:\n",
    "        potential_dict[ta.array((site_tuple-offset)*kp['grid_spacing'])] = potential[i]"
   ]
  },
  {
   "cell_type": "code",
   "execution_count": 565,
   "id": "a3d88dff-f127-41a9-b6b6-ce38e035c798",
   "metadata": {},
   "outputs": [
    {
     "data": {
      "text/plain": [
       "40368"
      ]
     },
     "execution_count": 565,
     "metadata": {},
     "output_type": "execute_result"
    }
   ],
   "source": [
    "len(potential_dict)"
   ]
  },
  {
   "cell_type": "code",
   "execution_count": null,
   "id": "757d9b0f-eddb-4bc9-8130-6833d52bd462",
   "metadata": {},
   "outputs": [],
   "source": []
  }
 ],
 "metadata": {
  "kernelspec": {
   "display_name": "Python 3 (ipykernel)",
   "language": "python",
   "name": "python3"
  },
  "language_info": {
   "codemirror_mode": {
    "name": "ipython",
    "version": 3
   },
   "file_extension": ".py",
   "mimetype": "text/x-python",
   "name": "python",
   "nbconvert_exporter": "python",
   "pygments_lexer": "ipython3",
   "version": "3.10.4"
  }
 },
 "nbformat": 4,
 "nbformat_minor": 5
}
