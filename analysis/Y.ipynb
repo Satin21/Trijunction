{
 "cells": [
  {
   "cell_type": "code",
   "execution_count": 70,
   "id": "21c76eab-e8f2-4222-80a7-36d75ac9b5bf",
   "metadata": {
    "tags": []
   },
   "outputs": [],
   "source": [
    "import sys\n",
    "sys.path.append(\"/home/tinkerer/spin-qubit/codes/\")\n",
    "#sys.path.append(\"/home/tinkerer/Poisson/\")\n",
    "\n",
    "import numpy as np\n",
    "import scipy.sparse.linalg as sla\n",
    "from collections import OrderedDict\n",
    "from ccode.plotting import plot_gates\n",
    "from ccode.gates import rectangular_gate, half_disk_gate\n",
    "from ccode.finite_system import finite_system\n",
    "import ccode.parameters as pm\n",
    "import ccode.solvers as sl\n",
    "import ccode.tools as tl\n",
    "import itertools as it\n",
    "import dask.bag as db\n",
    "from scipy import constants\n",
    "from scipy.linalg import svd\n",
    "from scipy.optimize import minimize, least_squares\n",
    "import matplotlib.pyplot as plt\n",
    "from dask_quantumtinkerer import Cluster, cluster_options\n",
    "\n",
    "import poisson\n",
    "import kwant\n",
    "from kwant.operator import Density\n",
    "from potential import gate_potential, linear_problem_instance\n",
    "from plotting import plot_potential\n",
    "from Hamiltonian import discrete_system_coordinates\n",
    "\n",
    "from layout import (\n",
    "    Layout,\n",
    "    OverlappingGateLayer,\n",
    "    PlanarGateLayer,\n",
    "    SimpleChargeLayer,\n",
    "    TwoDEGLayer,\n",
    ")\n",
    "from utility import wannier_1D_operator, wannier_basis\n",
    "\n",
    "from itertools import product\n",
    "from shapely.geometry.polygon import Polygon\n",
    "from shapely.ops import unary_union\n",
    "\n"
   ]
  },
  {
   "cell_type": "code",
   "execution_count": 181,
   "id": "534da2e4-2f5d-4e21-9096-39ccbc238865",
   "metadata": {},
   "outputs": [],
   "source": [
    "a = 10e-9"
   ]
  },
  {
   "cell_type": "code",
   "execution_count": 89,
   "id": "7ccff1c9-11a3-4cf6-a23f-f80f1aa2eb19",
   "metadata": {},
   "outputs": [],
   "source": [
    "options = cluster_options()\n",
    "options.worker_cores = 2\n",
    "options.worker_memory = 2\n",
    "options.extra_path = \"/home/jtorresluna/trijunction_design/\""
   ]
  },
  {
   "cell_type": "markdown",
   "id": "aa6d39cb-150f-4d99-8509-958cc7626665",
   "metadata": {},
   "source": [
    "# Y-shaped geometry"
   ]
  },
  {
   "cell_type": "markdown",
   "id": "b2a820f0-fe15-4b3e-be69-32ad1c13df6b",
   "metadata": {
    "tags": []
   },
   "source": [
    "#### Parameters"
   ]
  },
  {
   "cell_type": "code",
   "execution_count": 4,
   "id": "c3e6374d-be50-4805-96bc-002ba69c623f",
   "metadata": {},
   "outputs": [],
   "source": [
    "thickness_dielectric = 1\n",
    "thickness_twoDEG = 1\n",
    "thickness_gates = 3\n",
    "\n",
    "grid_spacing_twoDEG = 0.5\n",
    "grid_spacing_normal = 1\n",
    "grid_spacing_dielectric = 1\n",
    "grid_spacing_air = 5\n",
    "grid_spacing_gate = grid_spacing_twoDEG\n",
    "\n",
    "permittivity_metal = 5000\n",
    "permittivity_twoDEG = 15  # InAs\n",
    "permittivity_air = 1.0\n",
    "permittivity_Al2O3 = 9.1"
   ]
  },
  {
   "cell_type": "code",
   "execution_count": 5,
   "id": "0fcc17e7-5319-4f24-8e98-f2bc26102ce6",
   "metadata": {},
   "outputs": [],
   "source": [
    "# one only needs to define the arm length L, and the channel width\n",
    "L = 41\n",
    "width = 12\n",
    "gap = 4\n",
    "\n",
    "R = L/np.sqrt(2)"
   ]
  },
  {
   "cell_type": "code",
   "execution_count": 6,
   "id": "69ba6cce-a89d-4ea2-8ff3-162adef92c0e",
   "metadata": {},
   "outputs": [
    {
     "data": {
      "text/plain": [
       "28.991378028648448"
      ]
     },
     "execution_count": 6,
     "metadata": {},
     "output_type": "execute_result"
    }
   ],
   "source": [
    "R"
   ]
  },
  {
   "cell_type": "code",
   "execution_count": 7,
   "id": "48facfb8-1429-4d4f-bc64-55976e40f6f0",
   "metadata": {},
   "outputs": [],
   "source": [
    "# Boundaries within Poisson region\n",
    "zmin = -0.5\n",
    "zmax = 0.5\n",
    "xmax = R\n",
    "xmin = -xmax\n",
    "ymin = 0\n",
    "ymax = R + L - width\n",
    "total_width = 2*xmax\n",
    "total_length = ymax"
   ]
  },
  {
   "cell_type": "markdown",
   "id": "89ffb144-faac-4e25-bc6b-4d040b7dcd5b",
   "metadata": {
    "tags": []
   },
   "source": [
    "#### Make gate polygons using Shapely"
   ]
  },
  {
   "cell_type": "code",
   "execution_count": 8,
   "id": "cfb84699-8972-4fce-8129-7d39ab1b9ea1",
   "metadata": {},
   "outputs": [],
   "source": [
    "Y = unary_union(\n",
    "    (\n",
    "        Polygon(half_disk_gate(R=R, npts=3)).difference(Polygon(half_disk_gate(R=R-width*np.sqrt(2), npts=3))),\n",
    "        Polygon(rectangular_gate(center=(0,R+L/2-width), width=width, length=L))\n",
    "    )\n",
    ")\n",
    "\n",
    "gates = Polygon(rectangular_gate(center=(0, (R+L-width)/2), length=R+L-width-1,width=2*R)).difference(Y)\n",
    "\n",
    "aux_rectangle_1 = rectangular_gate(length=R+2*gap, width=R+gap, center=(R/2, R/2-width/2))\n",
    "aux_rectangle_2 = rectangular_gate(length=R+2*gap, width=R+gap, center=(-R/2, R/2-width/2))\n",
    "\n",
    "\n",
    "def gate_coords(obj, difference=None, common=None, gap=None):\n",
    "\n",
    "    if type(common) == np.ndarray:\n",
    "        return np.round(np.array(list(obj.intersection(Polygon(common)).exterior.coords)), 2)\n",
    "\n",
    "    else:\n",
    "        if gap is not None:\n",
    "            return np.round(np.array(list(obj.difference(Polygon(difference).buffer(gap)).exterior.coords)), 2)\n",
    "        else:\n",
    "            return np.round(np.array(list(obj.difference(Polygon(difference)).exterior.coords)), 2)\n",
    "\n",
    "\n",
    "gates_vertex = [gate_coords(gates[0], common = aux_rectangle_2), \n",
    "                gate_coords(gates[2], difference = aux_rectangle_1), \n",
    "                gate_coords(gates[2], difference = aux_rectangle_2), \n",
    "                gate_coords(gates[1], common = aux_rectangle_1), \n",
    "                gate_coords(gates[0], difference = aux_rectangle_2, gap = gap), \n",
    "                gate_coords(gates[1], difference = aux_rectangle_1, gap = gap)]\n",
    "\n",
    "gates_name = ['left_1', 'left_2', 'right_1', 'right_2', 'top_1', 'top_2']"
   ]
  },
  {
   "cell_type": "markdown",
   "id": "2a5e304f-e479-4238-b5e3-abfe85ca5428",
   "metadata": {
    "tags": []
   },
   "source": [
    "#### Construct layout object for the Poisson solver"
   ]
  },
  {
   "cell_type": "code",
   "execution_count": 9,
   "id": "25ba435f-2249-4283-9d9c-7ac2f9fe41b5",
   "metadata": {},
   "outputs": [],
   "source": [
    "# Solve for Poisson system\n",
    "\n",
    "layout = Layout(total_width,\n",
    "                total_length,\n",
    "                grid_width_air=grid_spacing_air,\n",
    "                margin=(50, 50, 50),\n",
    "                shift=(0, total_length/2, 0))\n",
    "\n",
    "layout.add_layer(\n",
    "    SimpleChargeLayer(\n",
    "        \"twoDEG\",\n",
    "        thickness_twoDEG,\n",
    "        permittivity_twoDEG,\n",
    "        grid_spacing_twoDEG,\n",
    "        add_to_previous_layer=False,\n",
    "        fix_overlap=False,\n",
    "        z_bottom=None\n",
    "    ),\n",
    "    center=True,\n",
    ")\n",
    "\n",
    "height = thickness_twoDEG / 2\n",
    "\n",
    "layout.add_layer(\n",
    "    SimpleChargeLayer(\n",
    "        \"Al2O3\",\n",
    "        thickness_dielectric,\n",
    "        permittivity_Al2O3,\n",
    "        grid_spacing_dielectric,\n",
    "        add_to_previous_layer = False,\n",
    "        fix_overlap = False,\n",
    "        z_bottom = None\n",
    "    )\n",
    ")\n",
    "\n",
    "height += thickness_dielectric\n",
    "\n",
    "\n",
    "layout.add_layer(OverlappingGateLayer(thickness_gates,\n",
    "                                      permittivity_metal,\n",
    "                                      grid_spacing_gate,\n",
    "                                      layer_name=gates_name,\n",
    "                                      gate_objects=gates_vertex,\n",
    "                                      remove_points=False,\n",
    "                                      add_to_previous_layer=False,\n",
    "                                      z_bottom=height,\n",
    "                                      fix_overlap=True\n",
    "                                     )\n",
    "            )\n",
    "\n"
   ]
  },
  {
   "cell_type": "code",
   "execution_count": 10,
   "id": "d99932ce-72f3-49f5-99cd-c107e01cd99b",
   "metadata": {},
   "outputs": [],
   "source": [
    "height += thickness_gates + 1\n",
    "layout.add_layer(\n",
    "    SimpleChargeLayer(\"Al2O3_2\", thickness_dielectric, permittivity_Al2O3, grid_spacing_dielectric,\n",
    "                     add_to_previous_layer = False,\n",
    "                     z_bottom = height, fix_overlap = False)\n",
    ")\n",
    "\n",
    "height += thickness_dielectric + 1\n",
    "thickness_accumulation_gate = 2\n",
    "layout.add_layer(PlanarGateLayer(\"global_accumul\", \n",
    "                                 thickness_accumulation_gate, \n",
    "                                 permittivity_metal, \n",
    "                                 grid_spacing_gate, \n",
    "                                 gate_coords = [],\n",
    "                                 second_layer = [],\n",
    "                                 fix_overlap = False,\n",
    "                                 z_bottom = height\n",
    "                                )\n",
    "                )"
   ]
  },
  {
   "cell_type": "markdown",
   "id": "9d6055d2-af9b-47a9-a414-55c296cf2efa",
   "metadata": {
    "tags": []
   },
   "source": [
    "#### Build Poisson object"
   ]
  },
  {
   "cell_type": "code",
   "execution_count": 11,
   "id": "7b8a12ec-dc29-4285-9e4f-ebf8b653ee22",
   "metadata": {},
   "outputs": [
    {
     "name": "stdout",
     "output_type": "stream",
     "text": [
      "checking intersection\n",
      "finished checking intersection\n",
      "Finding closed voronoi cells\n",
      "Done selecting closed voronoi cells\n",
      "Calculating points distance\n",
      "Done\n",
      "Calculating ridges hypersurfaces\n",
      "Done\n",
      "Finding  hypervolume for closed voronoi cells\n",
      "Done finding hypervolume for closed voronoi cells\n",
      "Done calculating surface\n",
      "Done calculating distance\n",
      "Done calculating capacitance matrix\n",
      "CPU times: user 1min 17s, sys: 4.25 s, total: 1min 21s\n",
      "Wall time: 1min 21s\n"
     ]
    }
   ],
   "source": [
    "%%time\n",
    "\n",
    "poisson_system = layout.build()"
   ]
  },
  {
   "cell_type": "code",
   "execution_count": 12,
   "id": "1bfd5776-6b99-4d25-bb2c-4f4e15c8bbf5",
   "metadata": {},
   "outputs": [],
   "source": [
    "grid_points = poisson_system.grid.points\n",
    "voltage_regions = poisson_system.regions.voltage.tag_points"
   ]
  },
  {
   "cell_type": "code",
   "execution_count": 13,
   "id": "b77277ed-9cfe-46dc-b810-cfbd828b1e08",
   "metadata": {},
   "outputs": [
    {
     "ename": "NameError",
     "evalue": "name 'dep_indices' is not defined",
     "output_type": "error",
     "traceback": [
      "\u001b[0;31m---------------------------------------------------------------------------\u001b[0m",
      "\u001b[0;31mNameError\u001b[0m                                 Traceback (most recent call last)",
      "Input \u001b[0;32mIn [13]\u001b[0m, in \u001b[0;36m<cell line: 1>\u001b[0;34m()\u001b[0m\n\u001b[0;32m----> 1\u001b[0m grid_points\u001b[38;5;241m.\u001b[39mshape,\u001b[43mdep_indices\u001b[49m\n",
      "\u001b[0;31mNameError\u001b[0m: name 'dep_indices' is not defined"
     ]
    }
   ],
   "source": [
    "grid_points.shape,dep_indices"
   ]
  },
  {
   "cell_type": "code",
   "execution_count": 17,
   "id": "3bdb554e-ab68-47e2-a3f6-089cb0ff9faa",
   "metadata": {},
   "outputs": [
    {
     "ename": "NameError",
     "evalue": "name 'acc_indices' is not defined",
     "output_type": "error",
     "traceback": [
      "\u001b[0;31m---------------------------------------------------------------------------\u001b[0m",
      "\u001b[0;31mNameError\u001b[0m                                 Traceback (most recent call last)",
      "Input \u001b[0;32mIn [17]\u001b[0m, in \u001b[0;36m<cell line: 6>\u001b[0;34m()\u001b[0m\n\u001b[1;32m      3\u001b[0m     grid_to_plot \u001b[38;5;241m=\u001b[39m grid_points[indices][:, [\u001b[38;5;241m0\u001b[39m, \u001b[38;5;241m1\u001b[39m]]\n\u001b[1;32m      4\u001b[0m     plt\u001b[38;5;241m.\u001b[39mscatter(grid_to_plot[:, \u001b[38;5;241m0\u001b[39m], grid_to_plot[:, \u001b[38;5;241m1\u001b[39m], s \u001b[38;5;241m=\u001b[39m \u001b[38;5;241m0.5\u001b[39m)\n\u001b[0;32m----> 6\u001b[0m \u001b[38;5;28;01mfor\u001b[39;00m i \u001b[38;5;129;01min\u001b[39;00m \u001b[38;5;28mrange\u001b[39m(\u001b[38;5;28mlen\u001b[39m(\u001b[43macc_indices\u001b[49m)):\n\u001b[1;32m      7\u001b[0m     to_plot \u001b[38;5;241m=\u001b[39m grid_points[twodeg_grid[[acc_indices[i]]]]\n\u001b[1;32m      8\u001b[0m     \u001b[38;5;28mprint\u001b[39m(to_plot)\n",
      "\u001b[0;31mNameError\u001b[0m: name 'acc_indices' is not defined"
     ]
    },
    {
     "data": {
      "image/png": "[encoded data removed]",
      "text/plain": [
       "<Figure size 576x504 with 1 Axes>"
      ]
     },
     "metadata": {
      "needs_background": "light"
     },
     "output_type": "display_data"
    }
   ],
   "source": [
    "plt.figure(figsize = (8, 7))\n",
    "for name, indices in voltage_regions.items():\n",
    "    grid_to_plot = grid_points[indices][:, [0, 1]]\n",
    "    plt.scatter(grid_to_plot[:, 0], grid_to_plot[:, 1], s = 0.5)\n",
    "    \n",
    "for i in range(len(acc_indices)):\n",
    "    to_plot = grid_points[twodeg_grid[[acc_indices[i]]]]\n",
    "    print(to_plot)\n",
    "    plt.scatter(to_plot[0][0], to_plot[0][1]);"
   ]
  },
  {
   "cell_type": "markdown",
   "id": "de423151-a741-4b9c-be02-84443af8f2fd",
   "metadata": {
    "tags": []
   },
   "source": [
    "#### LU decomposition of finite system"
   ]
  },
  {
   "cell_type": "code",
   "execution_count": 18,
   "id": "5edf3a02-e11f-4bdd-bb1c-95145c5788da",
   "metadata": {},
   "outputs": [
    {
     "name": "stdout",
     "output_type": "stream",
     "text": [
      "CPU times: user 3.38 s, sys: 183 ms, total: 3.56 s\n",
      "Wall time: 3.55 s\n"
     ]
    }
   ],
   "source": [
    "%%time\n",
    "\n",
    "linear_problem = linear_problem_instance(poisson_system)"
   ]
  },
  {
   "cell_type": "code",
   "execution_count": 19,
   "id": "a4f674ae-f7c9-4dcb-a135-cd99fc39f458",
   "metadata": {},
   "outputs": [],
   "source": [
    "site_coords, site_indices = discrete_system_coordinates(\n",
    "    poisson_system, [('charge', 'twoDEG')], boundaries=None\n",
    ")\n",
    "\n",
    "crds = site_coords[:, [0, 1]]\n",
    "grid_spacing = grid_spacing_twoDEG\n",
    "offset = crds[0]%grid_spacing"
   ]
  },
  {
   "cell_type": "code",
   "execution_count": 20,
   "id": "ed8029d2-0fdc-44c4-9e29-78faf2567e67",
   "metadata": {},
   "outputs": [],
   "source": [
    "grid_points= poisson_system.grid.points"
   ]
  },
  {
   "cell_type": "code",
   "execution_count": 21,
   "id": "3668b7e3-0156-470d-bf23-f939b1ecc51c",
   "metadata": {},
   "outputs": [],
   "source": [
    "charge_regions = poisson_system.regions.charge.tag_points"
   ]
  },
  {
   "cell_type": "code",
   "execution_count": 22,
   "id": "2fc2d033-acf5-4995-a73a-a29b7dc2a4fa",
   "metadata": {},
   "outputs": [],
   "source": [
    "voltage_regions = poisson_system.regions.voltage.tag_points\n",
    "regions_to_add = []\n",
    "for region in voltage_regions.keys():\n",
    "    if region not in ['dirichlet_0', 'dirichlet_1', 'dirichlet_2', 'dirichlet_3']:\n",
    "        regions_to_add.append(('voltage', region))\n",
    "for region in charge_regions.keys():\n",
    "    # if region not in ['air']:\n",
    "    regions_to_add.append(('charge', region))"
   ]
  },
  {
   "cell_type": "markdown",
   "id": "c76b36e7-d5c2-4c68-a523-03ce7eb9b16c",
   "metadata": {
    "tags": []
   },
   "source": [
    "#### Verify the potential"
   ]
  },
  {
   "cell_type": "code",
   "execution_count": 23,
   "id": "9301aa7a-da8f-494c-a6a7-e9e4fbac7831",
   "metadata": {},
   "outputs": [],
   "source": [
    "voltage_regions = list(poisson_system.regions.voltage.tag_points.keys())"
   ]
  },
  {
   "cell_type": "code",
   "execution_count": 42,
   "id": "474f9f9f-d7c3-4c4b-8237-30f4a14715e0",
   "metadata": {
    "tags": []
   },
   "outputs": [],
   "source": [
    "depleted = -1e-3\n",
    "acumulate = 4e-3\n",
    "\n",
    "def voltage_dict(depleted, acumulate, arm=None, arm_v=depleted-1e-3):\n",
    "    voltages = {}\n",
    "\n",
    "    voltages['left_1'] = depleted\n",
    "    voltages['left_2'] = depleted\n",
    "\n",
    "    voltages['right_1'] = depleted\n",
    "    voltages['right_2'] = depleted\n",
    "\n",
    "    voltages['top_1'] = depleted\n",
    "    voltages['top_2'] = depleted\n",
    "\n",
    "    voltages['global_accumul'] = acumulate\n",
    "    \n",
    "    if arm is not None:\n",
    "        voltages[arm+'_1'] = arm_v\n",
    "        voltages[arm+'_2'] = arm_v\n",
    "\n",
    "    return voltages"
   ]
  },
  {
   "cell_type": "code",
   "execution_count": 43,
   "id": "6e094c06-7a26-4f82-911a-6c633215c2a1",
   "metadata": {},
   "outputs": [],
   "source": [
    "voltages = voltage_dict(depleted, acumulate, arm='left')"
   ]
  },
  {
   "cell_type": "code",
   "execution_count": 44,
   "id": "76b4264a-2f45-4f80-a593-7b619909d74a",
   "metadata": {},
   "outputs": [
    {
     "name": "stdout",
     "output_type": "stream",
     "text": [
      "CPU times: user 548 ms, sys: 3 ms, total: 551 ms\n",
      "Wall time: 548 ms\n"
     ]
    }
   ],
   "source": [
    "%%time\n",
    "\n",
    "charges = {}\n",
    "clean_potential = gate_potential(\n",
    "        poisson_system,\n",
    "        linear_problem,\n",
    "        site_coords[:, [0, 1]],\n",
    "        site_indices,\n",
    "        voltages,\n",
    "        charges,\n",
    "        offset=offset,\n",
    "        grid_spacing=a\n",
    "    )"
   ]
  },
  {
   "cell_type": "code",
   "execution_count": 45,
   "id": "f0356e5f-48ea-4b83-89c3-45e815c6e501",
   "metadata": {},
   "outputs": [],
   "source": [
    "coordinates = np.array(list(clean_potential.keys()))\n",
    "\n",
    "x = coordinates[:, 0]\n",
    "y = coordinates[:, 1]\n",
    "width_plot = np.unique(x).shape[0]\n",
    "X = x.reshape(width_plot, -1) / a\n",
    "Y = y.reshape(width_plot, -1) / a\n",
    "Z = np.round(np.array(list(clean_potential.values())).reshape(width_plot, -1) * -1, 4)"
   ]
  },
  {
   "cell_type": "code",
   "execution_count": 46,
   "id": "a60316fe-4e70-4be6-a72b-6c3de6bda1d6",
   "metadata": {},
   "outputs": [
    {
     "data": {
      "image/png": "[encoded data removed]",
      "text/plain": [
       "<Figure size 432x288 with 2 Axes>"
      ]
     },
     "metadata": {
      "needs_background": "light"
     },
     "output_type": "display_data"
    }
   ],
   "source": [
    "plt.figure()\n",
    "plt.imshow(np.rot90(Z), extent = (xmin, xmax, ymin, ymax), cmap = 'magma_r')\n",
    "plt.colorbar();"
   ]
  },
  {
   "cell_type": "code",
   "execution_count": 47,
   "id": "35c61ebd-f860-405b-9fd4-6a316836abfb",
   "metadata": {},
   "outputs": [
    {
     "data": {
      "text/plain": [
       "Text(0.5, 1.0, 'V(x,y) - V(-x,y)')"
      ]
     },
     "execution_count": 47,
     "metadata": {},
     "output_type": "execute_result"
    },
    {
     "data": {
      "image/png": "[encoded data removed]",
      "text/plain": [
       "<Figure size 432x288 with 2 Axes>"
      ]
     },
     "metadata": {
      "needs_background": "light"
     },
     "output_type": "display_data"
    }
   ],
   "source": [
    "plt.imshow((np.rot90(Z[::-1,:])-np.rot90(Z)), extent = (xmin, xmax, ymin, ymax), cmap = 'magma_r')\n",
    "plt.colorbar()\n",
    "plt.xlabel(\"x\")\n",
    "plt.ylabel(\"y\")\n",
    "plt.title(\"V(x,y) - V(-x,y)\")"
   ]
  },
  {
   "cell_type": "markdown",
   "id": "c7d78e53-151f-4830-9d4c-6bffcd270d08",
   "metadata": {
    "tags": []
   },
   "source": [
    "#### Build kwant object"
   ]
  },
  {
   "cell_type": "code",
   "execution_count": 48,
   "id": "30fb891e-7663-428d-bc69-d2c055b7eecb",
   "metadata": {},
   "outputs": [],
   "source": [
    "# Build kwant system\n",
    "\n",
    "R_a = R*a\n",
    "width_a = width*a\n",
    "l = 150 * a\n",
    "w = 7 * a\n",
    "boundaries = [xmin, xmax, ymin, ymax, min(grid_points[:, 2]), max(grid_points[:, 2])]\n",
    "boundaries = np.array(boundaries) * a\n",
    "\n",
    "geometry ={'nw_l': l, 'nw_w': w,\n",
    "           's_w': boundaries[1] - boundaries[0],\n",
    "           's_l': boundaries[3] - boundaries[2],\n",
    "           'centers':[[-R_a+width_a/np.sqrt(2), 0],\n",
    "                      [-(-R_a+width_a/np.sqrt(2)), 0], \n",
    "                      [0,boundaries[3]+l-a]\n",
    "                     ]\n",
    "          }"
   ]
  },
  {
   "cell_type": "raw",
   "id": "4a738fee-06ac-4c57-b525-e0beb4d95652",
   "metadata": {},
   "source": [
    "import importlib\n",
    "import ccode.parameters\n",
    "importlib.reload(ccode.parameters)"
   ]
  },
  {
   "cell_type": "code",
   "execution_count": 49,
   "id": "478ade4b-03de-4090-be96-9f5b8cf2fa13",
   "metadata": {},
   "outputs": [
    {
     "name": "stdout",
     "output_type": "stream",
     "text": [
      "CPU times: user 283 ms, sys: 5.05 ms, total: 288 ms\n",
      "Wall time: 284 ms\n"
     ]
    }
   ],
   "source": [
    "%%time\n",
    "\n",
    "trijunction, f_params = finite_system(**geometry)\n",
    "trijunction = trijunction.finalized()"
   ]
  },
  {
   "cell_type": "code",
   "execution_count": 50,
   "id": "30e1531e-3dbb-42b7-a6ab-71c1dd45640a",
   "metadata": {},
   "outputs": [
    {
     "data": {
      "image/png": "[encoded data removed]",
      "text/plain": [
       "<Figure size 432x288 with 1 Axes>"
      ]
     },
     "metadata": {
      "needs_background": "light"
     },
     "output_type": "display_data"
    }
   ],
   "source": [
    "fig, ax = plt.subplots()\n",
    "kwant.plot(trijunction, ax=ax, lead_site_size = 4)\n",
    "ax.set_ylim(-10*a, boundaries[3]+10*a)\n",
    "grid_points = poisson_system.grid.points\n",
    "voltage_regions = poisson_system.regions.voltage.tag_points\n",
    "\n",
    "# for name, indices in voltage_regions.items():\n",
    "#     if name not in ['global_accumul']:\n",
    "#         grid_to_plot = a*grid_points[indices][:, [0, 1]]\n",
    "#         ax.scatter(grid_to_plot[:, 0], grid_to_plot[:, 1], s = 0.5)\n"
   ]
  },
  {
   "cell_type": "raw",
   "id": "348c1da5-48bb-4d73-acbf-eefe662e39f9",
   "metadata": {},
   "source": [
    "np.unique(grid_points[voltage_regions['global_accumul']][:, 1])"
   ]
  },
  {
   "cell_type": "code",
   "execution_count": 51,
   "id": "faff8ec2-b377-4873-8d32-0fd364755446",
   "metadata": {},
   "outputs": [],
   "source": [
    "import pickle"
   ]
  },
  {
   "cell_type": "code",
   "execution_count": 52,
   "id": "a13c95f1-4f38-4302-8c12-9f801497e942",
   "metadata": {},
   "outputs": [
    {
     "ename": "FileNotFoundError",
     "evalue": "[Errno 2] No such file or directory: '/home/tinkerer/trijunction-design/data/optimal_phase.pkl'",
     "output_type": "error",
     "traceback": [
      "\u001b[0;31m---------------------------------------------------------------------------\u001b[0m",
      "\u001b[0;31mFileNotFoundError\u001b[0m                         Traceback (most recent call last)",
      "Input \u001b[0;32mIn [52]\u001b[0m, in \u001b[0;36m<cell line: 1>\u001b[0;34m()\u001b[0m\n\u001b[0;32m----> 1\u001b[0m \u001b[38;5;28;01mwith\u001b[39;00m \u001b[38;5;28;43mopen\u001b[39;49m\u001b[43m(\u001b[49m\u001b[38;5;124;43m\"\u001b[39;49m\u001b[38;5;124;43m/home/tinkerer/trijunction-design/data/optimal_phase.pkl\u001b[39;49m\u001b[38;5;124;43m\"\u001b[39;49m\u001b[43m,\u001b[49m\u001b[43m \u001b[49m\u001b[38;5;124;43m'\u001b[39;49m\u001b[38;5;124;43mrb\u001b[39;49m\u001b[38;5;124;43m'\u001b[39;49m\u001b[43m)\u001b[49m \u001b[38;5;28;01mas\u001b[39;00m infile:\n\u001b[1;32m      2\u001b[0m     optimal_phase \u001b[38;5;241m=\u001b[39m pickle\u001b[38;5;241m.\u001b[39mload(infile)\n",
      "\u001b[0;31mFileNotFoundError\u001b[0m: [Errno 2] No such file or directory: '/home/tinkerer/trijunction-design/data/optimal_phase.pkl'"
     ]
    }
   ],
   "source": [
    "with open(\"/home/tinkerer/trijunction-design/data/optimal_phase.pkl\", 'rb') as infile:\n",
    "    optimal_phase = pickle.load(infile)"
   ]
  },
  {
   "cell_type": "code",
   "execution_count": 53,
   "id": "919de707-d180-48b8-a118-f9ae467dc020",
   "metadata": {},
   "outputs": [
    {
     "ename": "NameError",
     "evalue": "name 'optimal_phase' is not defined",
     "output_type": "error",
     "traceback": [
      "\u001b[0;31m---------------------------------------------------------------------------\u001b[0m",
      "\u001b[0;31mNameError\u001b[0m                                 Traceback (most recent call last)",
      "Input \u001b[0;32mIn [53]\u001b[0m, in \u001b[0;36m<cell line: 1>\u001b[0;34m()\u001b[0m\n\u001b[0;32m----> 1\u001b[0m optimal_phase \u001b[38;5;241m=\u001b[39m \u001b[43moptimal_phase\u001b[49m \u001b[38;5;241m*\u001b[39m np\u001b[38;5;241m.\u001b[39mpi\n",
      "\u001b[0;31mNameError\u001b[0m: name 'optimal_phase' is not defined"
     ]
    }
   ],
   "source": [
    "optimal_phase = optimal_phase * np.pi"
   ]
  },
  {
   "cell_type": "markdown",
   "id": "3593767c-f931-4537-b003-7ea5e4870b3b",
   "metadata": {
    "tags": []
   },
   "source": [
    "#### Optimal phases"
   ]
  },
  {
   "cell_type": "code",
   "execution_count": 64,
   "id": "302d23e6-27a4-40a0-ad01-9059d3c9d500",
   "metadata": {},
   "outputs": [],
   "source": [
    "def fixed_potential_solver(kwant_syst, base_params, eigenvecs=False, n=20):\n",
    "\n",
    "    def solver(extra_params):\n",
    "\n",
    "        system, f_params = kwant_system\n",
    "        base_params.update(extra_params)\n",
    "        ham_mat = system.hamiltonian_submatrix(sparse=True, params=f_params(**base_params))\n",
    "\n",
    "        if eigenvecs:\n",
    "            evals, evecs = sl.sort_eigen(sla.eigsh(ham_mat.tocsc(), k=n, sigma=0))\n",
    "        else:\n",
    "            evals = np.sort(\n",
    "                sla.eigsh(ham_mat.tocsc(), k=n, sigma=0, return_eigenvectors=eigenvecs)\n",
    "            )\n",
    "            evecs = []\n",
    "\n",
    "        return evals, evecs\n",
    "\n",
    "    return solver"
   ]
  },
  {
   "cell_type": "code",
   "execution_count": 65,
   "id": "a0ac3f9d-6ad7-4f85-afae-0673604841f2",
   "metadata": {},
   "outputs": [],
   "source": [
    "kwant_system = [trijunction, f_params]\n",
    "params = pm.junction_parameters(m_nw=pm.bands[0]*np.ones(3))"
   ]
  },
  {
   "cell_type": "code",
   "execution_count": 66,
   "id": "6079fa8a-1fb8-4715-b366-c14c7ecac36f",
   "metadata": {},
   "outputs": [],
   "source": [
    "arms = ['left', 'right', 'top']\n",
    "potentials = []\n",
    "depleted = -1.5e-3\n",
    "acumulate = 4.5e-3\n",
    "closed_arm = -5e-3\n",
    "\n",
    "for arm in arms:\n",
    "    voltages = voltage_dict(depleted, acumulate, arm=arm, arm_v=closed_arm)\n",
    "    charges = {}\n",
    "    potential = gate_potential(\n",
    "            poisson_system,\n",
    "            linear_problem,\n",
    "            site_coords[:, [0, 1]],\n",
    "            site_indices,\n",
    "            voltages,\n",
    "            charges,\n",
    "            offset = offset[[0, 1]],\n",
    "            grid_spacing = a\n",
    "        )\n",
    "\n",
    "    #potential.update((x, y*-1) for x, y in potential.items())\n",
    "    potentials.append(potential)"
   ]
  },
  {
   "cell_type": "code",
   "execution_count": 67,
   "id": "e6cd6798-62fa-451a-95c1-3b5e405f5366",
   "metadata": {},
   "outputs": [],
   "source": [
    "phases = np.linspace(0, 2, 100) * np.pi"
   ]
  },
  {
   "cell_type": "code",
   "execution_count": 82,
   "id": "f4631e89-d098-4c78-99de-5dbde0f9c589",
   "metadata": {},
   "outputs": [],
   "source": [
    "phis1 = [{'phi1': phi, 'phi2': 0} for phi in phases]\n",
    "phis2 = [{'phi2': phi, 'phi1': 0} for phi in phases]\n",
    "phis = [phis2, phis2, phis1]"
   ]
  },
  {
   "cell_type": "code",
   "execution_count": 84,
   "id": "4d794d6f-a608-4e97-b5d8-b079a1a83112",
   "metadata": {},
   "outputs": [],
   "source": [
    "params.update(potential=potential)\n",
    "args_db = db.from_sequence(phis[i])"
   ]
  },
  {
   "cell_type": "code",
   "execution_count": 86,
   "id": "8dbf690b-7705-44be-8bae-1ce3df1d3581",
   "metadata": {},
   "outputs": [],
   "source": [
    "solver = fixed_potential_solver(kwant_system, params, eigenvecs=False)"
   ]
  },
  {
   "cell_type": "code",
   "execution_count": 135,
   "id": "eff283a1-fc22-4d85-b55d-5486a1a5fc72",
   "metadata": {},
   "outputs": [],
   "source": [
    "topo_gap = solver(phis[0][0])[0][-1]"
   ]
  },
  {
   "cell_type": "code",
   "execution_count": 92,
   "id": "43f6892f-1fd3-4948-b61d-c856c90577a3",
   "metadata": {},
   "outputs": [
    {
     "name": "stdout",
     "output_type": "stream",
     "text": [
      "http://io.quantumtinkerer.tudelft.nl/user/jdtorres/proxy/8000/clusters/5d4af2a475184ef89fa9916a189bbf96/status\n",
      "CPU times: user 1min 8s, sys: 2.07 s, total: 1min 10s\n",
      "Wall time: 2min 58s\n"
     ]
    }
   ],
   "source": [
    "%%time\n",
    "results = []\n",
    "with Cluster(options) as cluster:\n",
    "\n",
    "    cluster.scale(n=20)\n",
    "    client = cluster.get_client()\n",
    "    print(\"http://io.quantumtinkerer.tudelft.nl/user/jdtorres/proxy/\"+cluster.dashboard_link[17:])\n",
    "    \n",
    "    i = 0\n",
    "\n",
    "    for potential in potentials:\n",
    "        params.update(potential=potential)\n",
    "        solver = fixed_potential_solver(kwant_system, params, eigenvecs=False)\n",
    "        args_db = db.from_sequence(phis[i])\n",
    "        result = args_db.map(solver).compute()\n",
    "\n",
    "        i += 1\n",
    "\n",
    "        energies = []\n",
    "        for aux, _ in result:\n",
    "            energies.append(aux)\n",
    "        results.append(energies)"
   ]
  },
  {
   "cell_type": "code",
   "execution_count": 182,
   "id": "da5ad26b-0557-47f8-8370-21d827814c5f",
   "metadata": {},
   "outputs": [],
   "source": [
    "max_phis_id = []\n",
    "for pair in results:\n",
    "    max_phis_id.append(tl.find_resonances(energies=np.array(pair), n=20, sign=-1, i=-1)[1])\n",
    "max_phis_id = np.array(max_phis_id).flatten()\n",
    "max_phis = phases[max_phis_id]/np.pi"
   ]
  },
  {
   "cell_type": "code",
   "execution_count": 183,
   "id": "74438a5a-0ff7-42df-bb0d-3b1cfba26486",
   "metadata": {},
   "outputs": [
    {
     "data": {
      "text/plain": [
       "array([1.19191919, 0.82828283, 1.33333333])"
      ]
     },
     "execution_count": 183,
     "metadata": {},
     "output_type": "execute_result"
    }
   ],
   "source": [
    "max_phis"
   ]
  },
  {
   "cell_type": "code",
   "execution_count": 163,
   "id": "c3dcfffc-bd4a-4d60-a9cf-f673e5f00e55",
   "metadata": {},
   "outputs": [
    {
     "data": {
      "image/png": "[encoded data removed]",
      "text/plain": [
       "<Figure size 1080x360 with 3 Axes>"
      ]
     },
     "metadata": {
      "needs_background": "light"
     },
     "output_type": "display_data"
    }
   ],
   "source": [
    "fig, ax = plt.subplots(ncols=3, figsize=(15,5))\n",
    "fig.tight_layout(w_pad=5)\n",
    "i = 0\n",
    "titles = ['left arm depleted', 'right arm depleted', 'top arm depleted']\n",
    "phis_labels = [r'$\\phi_{center}$', r'$\\phi_{center}$', r'$\\phi_{right}$']\n",
    "\n",
    "peaks = []\n",
    "\n",
    "for energies in results:\n",
    "    energies = np.array(energies)\n",
    "    for level in energies.T:\n",
    "        ax[i].plot(phases/np.pi, level/topo_gap)\n",
    "    ax[i].vlines(x=max_phis[i], ymin=-1, ymax=1)\n",
    "    ax[i].set_title(titles[i])\n",
    "    ax[i].set_ylabel(r'E[$\\Delta^*]$')\n",
    "    ax[i].set_xlabel(phis_labels[i])\n",
    "    i += 1\n",
    "    "
   ]
  },
  {
   "cell_type": "markdown",
   "id": "0a653e62-28a9-43c1-b679-e2cdae0624fe",
   "metadata": {
    "tags": []
   },
   "source": [
    "#### Optimize gate voltages"
   ]
  },
  {
   "cell_type": "code",
   "execution_count": 282,
   "id": "af7ddb30-3f81-4f97-bbd1-05f0efe9af6d",
   "metadata": {},
   "outputs": [],
   "source": [
    "from scipy import sparse"
   ]
  },
  {
   "cell_type": "code",
   "execution_count": 283,
   "id": "988eb790-7662-4cd8-bcb1-223a7db7a156",
   "metadata": {},
   "outputs": [],
   "source": [
    "poisson_params = {\n",
    "    'poisson_system': poisson_system,\n",
    "    'linear_problem': linear_problem,\n",
    "    'site_coords': site_coords,\n",
    "    'site_indices': site_indices,\n",
    "}    \n",
    "\n",
    "crds = site_coords\n",
    "grid_spacing = grid_spacing_twoDEG\n",
    "offset = crds[0]%grid_spacing\n",
    "\n",
    "kwant_params = {\n",
    "    'offset': offset,\n",
    "    'grid_spacing': a,\n",
    "    'finite_system_object': trijunction,\n",
    "    'finite_system_params_object': f_params,\n",
    "    \n",
    "}\n"
   ]
  },
  {
   "cell_type": "code",
   "execution_count": 284,
   "id": "65f31a56-6bdd-407e-9658-a55a8530c680",
   "metadata": {},
   "outputs": [],
   "source": [
    "def spectrum_f_voltages(\n",
    "    kwant_params,\n",
    "    general_params,\n",
    "    potential,\n",
    "    no_of_eigenvalues = 6,\n",
    "    return_eigenvecs = False,\n",
    "    phis = [0, 0],    \n",
    "):\n",
    "    kp = kwant_params\n",
    "    \n",
    "    general_params.update(potential=potential)\n",
    "    \n",
    "\n",
    "    general_params['phi1'] = phis[0]\n",
    "    general_params['phi2'] = phis[1]\n",
    "    \n",
    "    ham_mat = kp['finite_system_object'].hamiltonian_submatrix(\n",
    "        sparse=True, params=kp['finite_system_params_object'](**general_params))\n",
    "    \n",
    "    if return_eigenvecs:\n",
    "        evals, evecs = sl.sort_eigen(sparse.linalg.eigsh(ham_mat.tocsc(), k=no_of_eigenvalues, sigma = 0))\n",
    "        \n",
    "        return evals, evecs\n",
    "    else:\n",
    "        evals = np.sort(\n",
    "            sparse.linalg.eigsh(ham_mat.tocsc(), k = no_of_eigenvalues, sigma = 0,\n",
    "                                return_eigenvectors = return_eigenvecs)\n",
    "        )\n",
    "        evecs = []\n",
    "        \n",
    "        return evals"
   ]
  },
  {
   "cell_type": "code",
   "execution_count": 285,
   "id": "480a88b5-43a2-4e42-a48a-df2fc37eaf66",
   "metadata": {},
   "outputs": [],
   "source": [
    "voltage_dict = {'left' : -0.0026, \n",
    "                'right' : -0.0028, \n",
    "                'top' : -0.0024, \n",
    "                'back' : 0.00045}"
   ]
  },
  {
   "cell_type": "code",
   "execution_count": 286,
   "id": "a07cb3ed-7a12-43da-885a-c1673a209acf",
   "metadata": {},
   "outputs": [],
   "source": [
    "for i in range(1, 3):\n",
    "    voltages['left_'+str(i)] = voltage_dict['left']\n",
    "    voltages['right_'+str(i)] = voltage_dict['right']\n",
    "    voltages['top_'+str(i)] = voltage_dict['top']\n",
    "    \n",
    "voltages['global_accumul'] = voltage_dict['back']"
   ]
  },
  {
   "cell_type": "code",
   "execution_count": 287,
   "id": "d70db3e5-c97e-465e-b9ec-b2286af2cde5",
   "metadata": {},
   "outputs": [],
   "source": [
    "centers = np.array(geometry['centers']) / a\n",
    "nw_l = geometry['nw_l'] / a\n",
    "nw_w = geometry['nw_w'] / a\n",
    "\n",
    "depletion_regions  = {'left': np.array(((centers[0][0] - nw_w /2, centers[0][1]),\n",
    "                              (centers[0][0] + nw_w /2, centers[0][1])), dtype = 'float32'),\n",
    "                      'right': np.array(((centers[1][0] - nw_w /2, centers[1][1]),\n",
    "                               (centers[1][0] + nw_w /2, centers[1][1])), dtype = 'float32'),\n",
    "                     'top':   np.array(((centers[2][0] - nw_w /2, centers[2][1] - nw_l),\n",
    "                              (centers[2][0] + nw_w /2, centers[2][1] - nw_l)), dtype = 'float32')}"
   ]
  },
  {
   "cell_type": "code",
   "execution_count": 288,
   "id": "61d7389a-42d0-40bb-9f62-a99691e4220e",
   "metadata": {},
   "outputs": [],
   "source": [
    "grid = poisson_system.grid.points.astype('float32')"
   ]
  },
  {
   "cell_type": "code",
   "execution_count": 289,
   "id": "bcc84abb-49a4-4e31-9835-8c9158b0357f",
   "metadata": {},
   "outputs": [],
   "source": [
    "voltage_regions = poisson_system.regions.voltage.tag_points"
   ]
  },
  {
   "cell_type": "code",
   "execution_count": 290,
   "id": "d15c221e-2998-4f20-ab9f-8d8d57512bad",
   "metadata": {},
   "outputs": [],
   "source": [
    "twodeg_grid = site_indices\n",
    "twodeg_grid_monolayer = twodeg_grid[grid[twodeg_grid][:, 2] == np.unique(grid[twodeg_grid][:, 2])[0]]"
   ]
  },
  {
   "cell_type": "code",
   "execution_count": 291,
   "id": "a4424fef-ccb5-4aed-92af-e59cbb3b1bc3",
   "metadata": {},
   "outputs": [],
   "source": [
    "def depletion_points(grid, monolayer, boundary):\n",
    "    Y = np.argmin(np.abs((grid[monolayer][:, 1] - boundary[0, 1])))\n",
    "    X = grid[monolayer][:, 1] == grid[monolayer[Y]][1]\n",
    "    point_indices = np.multiply(grid[monolayer[X]][:, 0] > boundary[0, 0], \n",
    "                                grid[monolayer[X]][:, 0] < boundary[1, 0])\n",
    "    \n",
    "    return monolayer[X][point_indices]"
   ]
  },
  {
   "cell_type": "code",
   "execution_count": 292,
   "id": "8f4722e8-9323-425a-9be5-349f51464387",
   "metadata": {},
   "outputs": [],
   "source": [
    "def closest_node(node, nodes):\n",
    "    \"\"\"Euclidean distance between a node and array of nodes\"\"\"\n",
    "    nodes = np.asarray(nodes)\n",
    "    dist = np.sum((nodes - node)**2, axis=1)\n",
    "    return np.argmin(dist)"
   ]
  },
  {
   "cell_type": "code",
   "execution_count": 293,
   "id": "868eb4b2-7a22-46b7-996b-1193f6feb452",
   "metadata": {},
   "outputs": [],
   "source": [
    "dep_indices = {}\n",
    "acc_indices = {}\n",
    "for gate in ['left_1', 'left_2', 'right_1', 'right_2', 'top_1', 'top_2']:\n",
    "    indices = voltage_regions[gate]\n",
    "    center = Polygon(grid_points[indices][:, [0, 1]]).centroid.coords\n",
    "    closest_coord_index = closest_node(list(center)[0], \n",
    "                                       grid_points[twodeg_grid][:, [0, 1]])\n",
    "    dep_indices[gate] = [closest_coord_index]\n",
    "\n",
    "nw_centers = {}\n",
    "nw_centers['left'] = np.array(geometry['centers'][0])/a\n",
    "nw_centers['right'] = np.array(geometry['centers'][1])/a\n",
    "nw_centers['top'] = np.array(geometry['centers'][2])\n",
    "nw_centers['top'][1] -= l\n",
    "nw_centers['top'][1] /= a\n",
    "\n",
    "for gate in ['left']:\n",
    "    closest_coord_index = closest_node(nw_centers[gate], grid_points[twodeg_grid][:, [0, 1]])\n",
    "    dep_indices[gate] = [closest_coord_index]\n",
    "    \n",
    "for gate in ['right', 'top']:\n",
    "    closest_coord_index = closest_node(nw_centers[gate], grid_points[twodeg_grid][:, [0, 1]])\n",
    "    acc_indices[gate] = [closest_coord_index]"
   ]
  },
  {
   "cell_type": "raw",
   "id": "1f167eaa-e7c5-4dfb-8da3-878fbb499797",
   "metadata": {},
   "source": [
    "dep_indices = np.hstack(list(dep_indices.values()))\n",
    "acc_indices = np.hstack(list(acc_indices.values()))"
   ]
  },
  {
   "cell_type": "code",
   "execution_count": 294,
   "id": "a89847c9-5050-4671-9c83-0cf66f0cf342",
   "metadata": {},
   "outputs": [],
   "source": [
    "depletion = np.array([[dep_indices['right_1'], dep_indices['right_2']],\n",
    "             [dep_indices['top_1'], dep_indices['top_2']],\n",
    "             [dep_indices['left_1'], dep_indices['left_2']],\n",
    "             ])\n",
    "\n",
    "uniform = []\n",
    "\n",
    "accumulation = [[acc_indices['right']], [acc_indices['top']]]"
   ]
  },
  {
   "cell_type": "raw",
   "id": "69ef268a-8ca9-4456-ba03-b02f65b05baf",
   "metadata": {},
   "source": [
    "from itertools import product"
   ]
  },
  {
   "cell_type": "code",
   "execution_count": 295,
   "id": "1215d5d2-0069-4dd9-ba87-f1f5d028d8dc",
   "metadata": {},
   "outputs": [],
   "source": [
    "def left(site):\n",
    "    x, y = site.pos\n",
    "    return x < 0\n",
    "leftop = Density(trijunction, onsite = np.eye(4), where = left, sum = True)\n",
    "\n",
    "def right(site):\n",
    "    x, y = site.pos\n",
    "    return x > 0\n",
    "rightop = Density(trijunction, onsite = np.eye(4), where = right, sum = True)\n",
    "\n",
    "def top(site):\n",
    "    x, y = site.pos\n",
    "    return y > 0\n",
    "topop = Density(trijunction, onsite = np.eye(4), where = top, sum = True)"
   ]
  },
  {
   "cell_type": "code",
   "execution_count": 296,
   "id": "4a21a210-05f9-4b39-bbbc-a40973f7ec17",
   "metadata": {},
   "outputs": [],
   "source": [
    "from utility import gather_data"
   ]
  },
  {
   "cell_type": "code",
   "execution_count": 297,
   "id": "2f451967-e7ab-4a8e-b6eb-430723f250aa",
   "metadata": {},
   "outputs": [],
   "source": [
    "def gate_tuner(x, *argv):\n",
    "    \n",
    "    voltages = {}\n",
    "    \n",
    "    voltages['left_1'] = x[0]\n",
    "    voltages['left_2'] = voltages['left_1']\n",
    "    voltages['right_1'] = x[1]\n",
    "    voltages['right_2'] = voltages['right_1']\n",
    "    voltages['top_1'] = x[2]\n",
    "    voltages['top_2'] = voltages['top_1']\n",
    "    voltages['global_accumul'] = x[3]\n",
    "    \n",
    "    poisson_params, kwant_params, general_params,  = argv[:3]\n",
    "    dep_points, acc_points, coupled_pair, uncoupled_pairs  = argv[3:7]\n",
    "    base_hamiltonian, linear_hamiltonian = argv[7:9]\n",
    "    mlwf = argv[9]\n",
    "    uniform = argv[10]\n",
    "    \n",
    "    \n",
    "    pp = poisson_params\n",
    "    kp = kwant_params\n",
    "    \n",
    "    charges = {}\n",
    "    potential = gate_potential(\n",
    "            pp['poisson_system'],\n",
    "            pp['linear_problem'],\n",
    "            pp['site_coords'],\n",
    "            pp['site_indices'],\n",
    "            voltages,\n",
    "            charges,\n",
    "            offset = kp['offset'],\n",
    "            grid_spacing = kp['grid_spacing']\n",
    "        )\n",
    "    \n",
    "    potential.update((x, y*-1) for x, y in potential.items())\n",
    "    \n",
    "    \n",
    "    potential_array = np.array(list(potential.values()))\n",
    "    \n",
    "    \n",
    "    dep_acc_cost = []\n",
    "    \n",
    "    barrier_height = []\n",
    "    \n",
    "    for i, _ in enumerate(acc_points):\n",
    "        dep_potential = potential_array[np.hstack(dep_points[i])]\n",
    "        acc_potential = potential_array[acc_points[i]]\n",
    "        \n",
    "        if acc_potential > general_params['mus_nw'][0]:\n",
    "            dep_acc_cost.append(np.abs(acc_potential - general_params['mus_nw'][0]))\n",
    "            \n",
    "        if np.any(dep_potential < acc_potential):\n",
    "            dep_acc_cost.append(np.abs(dep_potential[np.where(dep_potential < acc_potential)] -\\\n",
    "                                           acc_potential))\n",
    "            \n",
    "        # barrier_height.append(sum(np.abs(dep_potential - acc_potential)))\n",
    "    \n",
    "    \n",
    "    if len(dep_points) > len(acc_points):\n",
    "        dep_potential = potential_array[np.hstack(dep_points[-1])]\n",
    "        \n",
    "        if np.any(dep_potential < general_params['mus_nw'][0]):\n",
    "            dep_acc_cost.append(np.abs(dep_potential[np.where(dep_potential < general_params['mus_nw'][0])] -\\\n",
    "                                           general_params['mus_nw'][0]))\n",
    "    \n",
    "    coupling_cost = 0.0\n",
    "    \n",
    "    if len(dep_acc_cost):\n",
    "        # print(dep_acc_cost)\n",
    "        return sum(np.hstack(dep_acc_cost))\n",
    "    else:\n",
    "        uniformity = 0.0\n",
    "        if len(uniform):\n",
    "            uniformity = np.abs(potential_array[uniform[0]] - potential_array[uniform[1]])\n",
    "        \n",
    "        summed_ham = sum(\n",
    "            [\n",
    "                linear_ham[key] * voltages[key]\n",
    "                for key, value in linear_ham.items()\n",
    "            ]\n",
    "        )\n",
    "\n",
    "        tight_binding_hamiltonian = base_hamiltonian + summed_ham\n",
    "\n",
    "\n",
    "        eigval, eigvec = sl.sort_eigen(sparse.linalg.eigsh(tight_binding_hamiltonian.tocsc(), \n",
    "                                                           k=6, sigma = 0))\n",
    "\n",
    "#         fig, ax = plt.subplots(1, 6, figsize = (10, 5), sharey= True)\n",
    "#         for i in range(6):\n",
    "#             kwant.plotter.density(trijunction, density(eigvec[i]), ax = ax[i]);\n",
    "\n",
    "#         filepath = '/home/tinkerer/trijunction-design/data/optimization/'\n",
    "#         seed = gather_data(filepath)\n",
    "\n",
    "#         if \".ipynb_checkpoints\" in seed:\n",
    "#             os.system(\"rm -rf .ipynb_checkpoints\")\n",
    "\n",
    "#         if len(seed):\n",
    "#             file_name = filepath + \"plt_\" + str(max(seed) + 1) + \"_.png\"\n",
    "#         else:\n",
    "#             file_name = filepath + \"plt_\" + str(0) + \"_.png\"\n",
    "\n",
    "#         plt.savefig(file_name, format=\"png\", bbox_inches=\"tight\", pad_inches=0.0)\n",
    "\n",
    "#         plt.close()\n",
    "\n",
    "\n",
    "\n",
    "        lowest_e_indices = np.argsort(np.abs(eigval))[: 6]\n",
    "        lowest_e_energies = eigval[lowest_e_indices]\n",
    "        coupled_states = eigvec.T[:, lowest_e_indices].T\n",
    "\n",
    "        # Overlap matrix\n",
    "        decoupled_states = mlwf\n",
    "        S = coupled_states @ decoupled_states.T.conj()\n",
    "\n",
    "        # Unitary matrix using SVD\n",
    "        U, _, Vh = svd(S)\n",
    "        S_prime = U @ Vh\n",
    "\n",
    "        # Transform coupled Hamiltonian to Majorana basis\n",
    "        coupled_ham = S_prime.T.conj() @ np.diag(lowest_e_energies) @ S_prime\n",
    "\n",
    "        coupled_ham = coupled_ham[2:5, 2:5]/general_params['Delta']\n",
    "\n",
    "        print(coupled_ham[coupled_pair[0], coupled_pair[1]])\n",
    "\n",
    "\n",
    "        coupled_cost = np.abs(coupled_ham[coupled_pair[0], coupled_pair[1]])\n",
    "\n",
    "\n",
    "        uncoupled_cost = (np.abs(coupled_ham[uncoupled_pairs[0][0], uncoupled_pairs[0][1]]) +\n",
    "                          np.abs(coupled_ham[uncoupled_pairs[1][0], uncoupled_pairs[1][1]]))\n",
    "        \n",
    "        \n",
    "        \n",
    "        return (-1 * coupled_cost) + uncoupled_cost + uniformity"
   ]
  },
  {
   "cell_type": "code",
   "execution_count": 298,
   "id": "e5f9c4eb-ecfe-4927-b7a9-33d9f8d27e41",
   "metadata": {},
   "outputs": [],
   "source": [
    "mu = pm.bands[0]"
   ]
  },
  {
   "cell_type": "raw",
   "id": "e58377a4-a1dd-45a1-8c2a-37bca5c72a05",
   "metadata": {},
   "source": [
    "params = pm.junction_parameters(m_nw=[mu, mu, mu], m_qd=0)"
   ]
  },
  {
   "cell_type": "code",
   "execution_count": 299,
   "id": "ee3a1f6e-331b-4663-8740-5b4385cf25e5",
   "metadata": {},
   "outputs": [],
   "source": [
    "coupled_pairs = [1, 2] # 0: left, 1: right, 2: top\n",
    "uncoupled_pairs = [[0, 1], [0, 2]]\n",
    "args = (poisson_params, kwant_params, params, \n",
    "        depletion, accumulation, coupled_pairs, uncoupled_pairs,\n",
    "        base_hamiltonian, linear_ham,\n",
    "        mlwf, uniform)"
   ]
  },
  {
   "cell_type": "raw",
   "id": "dda2852d-d314-4e79-9dcb-39a004818631",
   "metadata": {},
   "source": [
    "# x = sol1.x\n",
    "initial_condition = sol1.x"
   ]
  },
  {
   "cell_type": "raw",
   "id": "42dc6af5-a218-4aeb-95d0-1c84bbd61046",
   "metadata": {},
   "source": [
    "from utility import gather_data"
   ]
  },
  {
   "cell_type": "raw",
   "id": "550d2b19-ea0e-426b-ae46-44f5b877f735",
   "metadata": {},
   "source": [
    "from math import floor, log10"
   ]
  },
  {
   "cell_type": "raw",
   "id": "a8cf578e-af72-40de-bba4-2daf2046a7ac",
   "metadata": {},
   "source": [
    "x = sol1.x\n",
    "l1, r2 = [x[0]]*2\n",
    "l2, r1 = [x[1]]*2\n",
    "t1, t2 = [x[2]]*2\n",
    "acc = x[3]"
   ]
  },
  {
   "cell_type": "raw",
   "id": "8707e1eb-342f-4e0b-9c5a-13c841e81b1a",
   "metadata": {},
   "source": [
    "\n",
    "bounds = [(-np.inf, l1), (-np.inf, l2), (-np.inf, r1), (-np.inf, r2), (-np.inf, t1), (acc, np.inf)]"
   ]
  },
  {
   "cell_type": "code",
   "execution_count": 300,
   "id": "f5da7aa2-f4c8-4ee2-8895-2750a59ce55c",
   "metadata": {},
   "outputs": [],
   "source": [
    "initial_condition = [ -0.0037, -0.0014,  -0.0014, 3e-3]"
   ]
  },
  {
   "cell_type": "code",
   "execution_count": 301,
   "id": "1a80f17e-ce67-421d-8f07-91a805f4f331",
   "metadata": {
    "tags": []
   },
   "outputs": [
    {
     "name": "stdout",
     "output_type": "stream",
     "text": [
      "(0.018204615124820845+6.170969118006415e-05j)\n",
      "(0.01820445593462821+6.170915155951993e-05j)\n",
      "(0.018203937177749943+6.170739308677874e-05j)\n",
      "(0.01820420474413761+6.170830007901865e-05j)\n",
      "(0.018204948552317902+6.17108214271214e-05j)\n",
      "| niter |f evals|CG iter|  obj func   |tr radius |   opt    |  c viol  |\n",
      "|-------|-------|-------|-------------|----------|----------|----------|\n",
      "|   1   |   5   |   0   | -1.8023e-02 | 1.00e-03 | 4.51e+01 | 0.00e+00 |\n",
      "(-0.05402974742351469-0.00018314910728875982j)\n",
      "(-0.05402972783296339-0.00018314904088111947j)\n",
      "(-0.05402900735905715-0.0001831465986305447j)\n",
      "(-0.054032071898107686-0.00018315698675161452j)\n",
      "(-0.054029804069949824-0.00018314929930754093j)\n",
      "|   2   |  10   |   1   | -5.3893e-02 | 2.00e-03 | 1.46e+02 | 0.00e+00 |\n",
      "(-0.04738871255727249-0.0001606374388600648j)\n",
      "(-0.04738894785791046-0.00016063823647841988j)\n",
      "(-0.047391587316939106-0.00016064718367130978j)\n",
      "(-0.04738970189354516-0.00016064079249569166j)\n",
      "(-0.04738838382411653-0.00016063632452589972j)\n",
      "|   3   |  15   |   3   | -5.3893e-02 | 2.53e-04 | 1.46e+02 | 0.00e+00 |\n",
      "(-0.05793973191692604-0.00019640310430559272j)\n",
      "(-0.05793970514375268-0.0001964030135483549j)\n",
      "(-0.057939280847375804-0.00019640157527624945j)\n",
      "(-0.057939689876401426-0.00019640296179578362j)\n",
      "(-0.057939819784170093-0.0001964034021542377j)\n",
      "|   4   |  20   |   4   | -5.7591e-02 | 2.53e-04 | 2.99e+01 | 0.00e+00 |\n",
      "(-0.05864097888342009-0.00019878017886565793j)\n",
      "(-0.05864098552245947-0.0001987802013717674j)\n",
      "(-0.05864084483481247-0.00019877972447100478j)\n",
      "(-0.05864092867735335-0.0001987800086795339j)\n",
      "(-0.05864102626025722-0.00019878033946367903j)\n",
      "|   5   |  25   |   7   | -5.8268e-02 | 3.91e-04 | 8.61e+00 | 0.00e+00 |\n",
      "(-0.05875575440473835-0.00019916924281350543j)\n",
      "(-0.05875577337174649-0.00019916930710750657j)\n",
      "(-0.05875571731851009-0.00019916911709897265j)\n",
      "(-0.05875573293067578-0.00019916917002066456j)\n",
      "(-0.05875578022839611-0.00019916933034930882j)\n",
      "|   6   |  30   |   9   | -5.8378e-02 | 3.91e-04 | 2.18e+00 | 0.00e+00 |\n",
      "(-0.058796155800306026-0.00019930619472381778j)\n",
      "(-0.058796181983182025-0.0001993062834782712j)\n",
      "(-0.058796174653239774-0.00019930625863082905j)\n",
      "(-0.05879615492298452-0.00019930619175006806j)\n",
      "(-0.05879616838613076-0.00019930623738657695j)\n",
      "|   7   |  35   |  12   | -5.8423e-02 | 3.91e-04 | 2.52e+00 | 0.00e+00 |\n",
      "(-0.05882689902788357-0.00019941040762038673j)\n",
      "(-0.05882692879092058-0.00019941050851080125j)\n",
      "(-0.0588269471531141-0.00019941057075469043j)\n",
      "(-0.0588269108739348-0.00019941044777613167j)\n",
      "(-0.058826904616876646-0.0001994104265657355j)\n",
      "|   8   |  40   |  15   | -5.8466e-02 | 3.91e-04 | 3.42e+00 | 0.00e+00 |\n",
      "(-0.058925384730439345-0.00019974425300190528j)\n",
      "(-0.058925417910125906-0.0001997443654740338j)\n",
      "(-0.05892547610421693-0.00019974456273902824j)\n",
      "(-0.058925403211759986-0.0001997443156494069j)\n",
      "(-0.05892538557545616-0.00019974425586625393j)\n",
      "|   9   |  45   |  19   | -5.8613e-02 | 6.15e-04 | 6.19e+00 | 0.00e+00 |\n",
      "(-0.047206195082242476-0.00016001874674171474j)\n",
      "(-0.047205954178814596-0.0001600179301313805j)\n",
      "(-0.04720489973763499-0.0001600143558052927j)\n",
      "(-0.0471946792951107-0.0001599797107248633j)\n",
      "(-0.04720678088542879-0.00016002073248688595j)\n",
      "|  10   |  50   |  22   | -5.8613e-02 | 6.15e-05 | 6.19e+00 | 0.00e+00 |\n",
      "(-0.05903321181158734-0.0002001097636375049j)\n",
      "(-0.059033240189689314-0.00020010985983340024j)\n",
      "(-0.05903327795273457-0.00020010998784165336j)\n",
      "(-0.05903321707857416-0.0002001097814915995j)\n",
      "(-0.059033222043288286-0.00020010979832093927j)\n",
      "|  11   |  55   |  25   | -5.8758e-02 | 4.30e-04 | 4.43e+00 | 0.00e+00 |\n",
      "(-0.0051221160368234335-1.736286004188704e-05j)\n",
      "(-0.005121718714454964-1.736151320545131e-05j)\n",
      "(-0.005118609363782436-1.7350973182231742e-05j)\n",
      "(-0.005101331039191262-1.7292403415037144e-05j)\n",
      "(-0.005123216101250992-1.7366589021376747e-05j)\n",
      "|  12   |  60   |  28   | -5.8758e-02 | 4.30e-05 | 4.43e+00 | 0.00e+00 |\n",
      "(-0.05912533394093394-0.00020042203778652856j)\n",
      "(-0.059125358276413326-0.00020042212027799664j)\n",
      "(-0.05912538002180398-0.0002004221939904629j)\n",
      "(-0.059125322410769204-0.00020042199870126386j)\n",
      "(-0.05912535410501075-0.0002004221061376354j)\n",
      "|  13   |  65   |  30   | -5.8873e-02 | 3.01e-04 | 3.04e+00 | 0.00e+00 |\n",
      "(-0.03479074540649091-0.0001179330702648605j)\n",
      "(-0.034791120982801994-0.00011793434338624399j)\n",
      "(-0.03479472738157162-0.0001179465682948146j)\n",
      "(-0.03480879432993656-0.00011799425219411399j)\n",
      "(-0.03478966666392351-0.00011792941356215294j)\n",
      "|  14   |  70   |  33   | -5.8873e-02 | 3.01e-05 | 3.04e+00 | 0.00e+00 |\n",
      "(-0.05918615410756883-0.00020062820501397347j)\n",
      "(-0.059186178098032116-0.0002006282863361905j)\n",
      "(-0.05918620196974531-0.00020062836725618884j)\n",
      "(-0.05918613975624017-0.00020062815636588002j)\n",
      "(-0.05918617508483849-0.0002006282761228163j)\n",
      "|  15   |  75   |  36   | -5.8943e-02 | 2.11e-04 | 3.15e+00 | 0.00e+00 |\n",
      "(-0.05930771422589867-0.0002010402675881028j)\n",
      "(-0.05930774205817019-0.0002010403619334816j)\n",
      "(-0.05930781274941459-0.00020104060156137074j)\n",
      "(-0.05930770241644038-0.0002010402275561023j)\n",
      "(-0.059307729950731976-0.0002010403208918266j)\n",
      "|  16   |  80   |  40   | -5.9089e-02 | 5.46e-04 | 6.54e+00 | 0.00e+00 |\n",
      "(-0.05996723200885601-0.00020327589047984906j)\n",
      "(-0.05996727320649231-0.00020327603013031j)\n",
      "(-0.05996760664637451-0.00020327716041917921j)\n",
      "(-0.059967238696700335-0.00020327591314937637j)\n",
      "(-0.05996723029915732-0.00020327588468411082j)\n",
      "|  17   |  85   |  44   | -5.9859e-02 | 3.82e-03 | 2.51e+01 | 0.00e+00 |\n",
      "(-0.060675113187564765-0.0002056754544327683j)\n",
      "(-0.06067516438354399-0.00020567562797590752j)\n",
      "(-0.06067588203855507-0.00020567806067094837j)\n",
      "(-0.060675244925273514-0.00020567590099525337j)\n",
      "(-0.06067508127428209-0.00020567534625390294j)\n",
      "|  18   |  90   |  48   | -6.0629e-02 | 5.00e-03 | 5.15e+01 | 0.00e+00 |\n",
      "(-0.06221638104773643-0.00021090001793827568j)\n",
      "(-0.06221642877319631-0.00021090017971724367j)\n",
      "(-0.062217372165275425-0.00021090337761173295j)\n",
      "(-0.06221672968948124-0.00021090119975760382j)\n",
      "(-0.06221631735985828-0.00021089980205035345j)\n",
      "|  19   |  95   |  52   | -6.2196e-02 | 5.43e-03 | 6.65e+01 | 0.00e+00 |\n",
      "(-0.06610952722925818-0.00022409693804139854j)\n",
      "(-0.06610951957886393-0.0002240969121081296j)\n",
      "(-0.06610989858381515-0.00022409819685273764j)\n",
      "(-0.06611032948653178-0.00022409965751894493j)\n",
      "(-0.06610951821427453-0.0002240969074822743j)\n",
      "|  20   |  100  |  56   | -6.6105e-02 | 1.27e-02 | 5.38e+01 | 0.00e+00 |\n",
      "(-0.06650855569294767-0.00022544955786158125j)\n",
      "(-0.06650852430306378-0.00022544945145722492j)\n",
      "(-0.06650854483579507-0.0002254495210584503j)\n",
      "(-0.0665090937466303-0.00022545138174666243j)\n",
      "(-0.06650862091937865-0.00022544977896538668j)\n",
      "|  21   |  105  |  59   | -6.6504e-02 | 1.27e-02 | 3.61e+01 | 0.00e+00 |\n",
      "(-0.06724375498674891-0.00022794172377730288j)\n",
      "(-0.06724371533517332-0.00022794158936743946j)\n",
      "(-0.0672436156586172-0.00022794125148559657j)\n",
      "(-0.0672440616848315-0.00022794276341726302j)\n",
      "(-0.06724385751638867-0.00022794207133094828j)\n",
      "|  22   |  110  |  62   | -6.7239e-02 | 1.27e-02 | 2.06e+01 | 0.00e+00 |\n",
      "(0.0725894089615715+0.00024606232970561667j)\n",
      "(0.07258934921842178+0.0002460621271895393j)\n",
      "(0.07258897942326654+0.00024606087366443375j)\n",
      "(0.07258950706211444+0.0002460626622452257j)\n",
      "(0.07258958014346793+0.00024606290997549493j)\n",
      "|  23   |  115  |  66   | -7.2588e-02 | 1.27e-02 | 2.88e+01 | 0.00e+00 |\n",
      "(0.10794797544031197+0.0003659201900666758j)\n",
      "(0.10794774453160011+0.00036591940733560457j)\n",
      "(0.10794668775645201+0.00036591582509760983j)\n",
      "(0.1079477823281093+0.0003659195354580648j)\n",
      "(0.10794860339310336+0.00036592231869070796j)\n",
      "|  24   |  120  |  70   | -1.0795e-01 | 2.53e-02 | 8.64e+01 | 0.00e+00 |\n",
      "(0.07586456478240342+0.0002571643965637426j)\n",
      "(0.07586511760810968+0.0002571662705239175j)\n",
      "(0.0758673994548878+0.00025717400548888906j)\n",
      "(0.07587301112377984+0.00025719302782636964j)\n",
      "(0.0758612129475791+0.0002571530345730895j)\n",
      "|  25   |  125  |  74   | -1.0795e-01 | 1.27e-02 | 8.64e+01 | 0.00e+00 |\n",
      "(-0.11069257586114116-0.0003752237893523742j)\n",
      "(-0.11069313880865203-0.000375225697621788j)\n",
      "(-0.11069715971502954-0.00037523932762081446j)\n",
      "(-0.11069251204887152-0.00037522357304246016j)\n",
      "(-0.11069123590116213-0.0003752192471788657j)\n",
      "|  26   |  130  |  78   | -1.1069e-01 | 1.27e-02 | 3.08e+02 | 0.00e+00 |\n",
      "(-0.0005435286303200918-1.8424440005572751e-06j)\n",
      "(-0.0005434152368808573-1.842059621201205e-06j)\n",
      "(-0.0005435801591081717-1.8426186716323186e-06j)\n",
      "(-0.0005375693456172435-1.8222433197235273e-06j)\n",
      "(-0.0005439112065229395-1.8437408506332041e-06j)\n",
      "|  27   |  135  |  82   | -1.1069e-01 | 6.33e-03 | 3.08e+02 | 0.00e+00 |\n",
      "(-0.08500282885051354-0.00028814112689290694j)\n",
      "(-0.08500280841087941-0.00028814105760608343j)\n",
      "(-0.08500394308392109-0.0002881449039019552j)\n",
      "(-0.08500265678051079-0.00028814054361157306j)\n",
      "(-0.08500251134743886-0.00028814005062471437j)\n",
      "|  28   |  140  |  85   | -1.1069e-01 | 3.16e-03 | 3.08e+02 | 0.00e+00 |\n",
      "(0.07537744818382998+0.00025551317709834154j)\n",
      "(0.0753781849148989+0.00025551567445747256j)\n",
      "(0.07539306570804168+0.00025556611711359935j)\n",
      "(0.07537757955523812+0.0002555136224193457j)\n",
      "(0.07537345222476327+0.00025549963166530157j)\n",
      "|  29   |  145  |  88   | -1.1069e-01 | 1.58e-03 | 3.08e+02 | 0.00e+00 |\n",
      "(0.09060704449957792+0.0003071382006880276j)\n",
      "(0.09060626246180536+0.0003071355497501511j)\n",
      "(0.09060143941728456+0.0003071192006756081j)\n",
      "(0.09060673750821191+0.0003071371600531438j)\n",
      "(0.0906090503483476+0.00030714500008020785j)\n",
      "|  30   |  150  |  91   | -1.1069e-01 | 7.91e-04 | 3.08e+02 | 0.00e+00 |\n",
      "(-0.12826717904551774-0.00043479787688450566j)\n",
      "(-0.12826703896037514-0.00043479740202617635j)\n",
      "(-0.1282666017399864-0.0004347959199437317j)\n",
      "(-0.12826724330251849-0.0004347980947007763j)\n",
      "(-0.12826751982076717-0.0004347990320385217j)\n",
      "|  31   |  155  |  94   | -1.2827e-01 | 1.58e-03 | 3.87e+01 | 0.00e+00 |\n",
      "(-0.13423183364982524-0.0004550167604495565j)\n",
      "(-0.13423175192219539-0.00045501648341031724j)\n",
      "(-0.13423182638327774-0.00045501673581782484j)\n",
      "(-0.1342317726558147-0.00045501655369344226j)\n",
      "(-0.13423206248754643-0.00045501753615965297j)\n",
      "|  32   |  160  |  98   | -1.3423e-01 | 5.10e-03 | 1.54e+01 | 0.00e+00 |\n",
      "(0.048136809768248454+0.00016317332963130437j)\n",
      "(0.04813792017904623+0.00016317709368283666j)\n",
      "(0.048145273537330543+0.0001632020199704899j)\n",
      "(0.048137087564294335+0.00016317427129968991j)\n",
      "(0.048134014805219935+0.00016316385531352017j)\n",
      "|  33   |  165  |  102  | -1.3423e-01 | 1.69e-03 | 1.54e+01 | 0.00e+00 |\n",
      "(-0.13652513737186364-0.000462790561946805j)\n",
      "(-0.13652531056587128-0.0004627911490367751j)\n",
      "(-0.13652600162294934-0.0004627934915702508j)\n",
      "(-0.1365248408949924-0.00046278955695409863j)\n",
      "(-0.1365250018543383-0.0004627901025715032j)\n",
      "|  34   |  170  |  106  | -1.3653e-01 | 3.38e-03 | 5.80e+01 | 0.00e+00 |\n",
      "(-0.1337971083917105-0.0004535431362489114j)\n",
      "(-0.13379700210215353-0.00045354277595062323j)\n",
      "(-0.13379744007150243-0.00045354426057195817j)\n",
      "(-0.13379698189357767-0.0004535427074481787j)\n",
      "(-0.1337973353490734-0.0004535439055849291j)\n",
      "|  35   |  175  |  109  | -1.3653e-01 | 1.69e-03 | 5.80e+01 | 0.00e+00 |\n",
      "(-0.1401029155673369-0.0004749184529295195j)\n",
      "(-0.1401028905071502-0.000474918367981389j)\n",
      "(-0.1401033174303756-0.00047491981515855684j)\n",
      "(-0.14010265761995555-0.0004749175785442292j)\n",
      "(-0.14010307413873957-0.00047491899045298304j)\n",
      "|  36   |  180  |  112  | -1.4010e-01 | 3.38e-03 | 2.70e+01 | 0.00e+00 |\n",
      "(-0.1459752599238671-0.0004948244248047055j)\n",
      "(-0.14597554934381904-0.0004948254058756462j)\n",
      "(-0.1459776376958165-0.0004948324849343904j)\n",
      "(-0.14597505556542703-0.0004948237320736191j)\n",
      "(-0.14597468966445218-0.0004948224917490917j)\n",
      "|  37   |  185  |  116  | -1.4598e-01 | 5.62e-03 | 1.60e+02 | 0.00e+00 |\n",
      "(-0.14720644907204927-0.0004989978885982194j)\n",
      "(-0.14720668040822138-0.0004989986727790311j)\n",
      "(-0.1472088834844957-0.0004990061407290778j)\n",
      "(-0.14720633221701496-0.0004989974924862581j)\n",
      "(-0.14720590243469506-0.0004989960356169618j)\n",
      "|  38   |  190  |  120  | -1.4721e-01 | 5.62e-03 | 1.63e+02 | 0.00e+00 |\n",
      "(-0.14786615094475428-0.0005012341346576998j)\n",
      "(-0.14786630809508355-0.0005012346673632738j)\n",
      "(-0.14786810672330936-0.0005012407643229351j)\n",
      "(-0.14786593563749684-0.000501233404813476j)\n",
      "(-0.147865808618827-0.0005012329742476554j)\n",
      "|  39   |  195  |  123  | -1.4787e-01 | 5.62e-03 | 1.31e+02 | 0.00e+00 |\n",
      "(-0.15101446215589043-0.0005119062258395953j)\n",
      "(-0.15101456081793352-0.0005119065602834827j)\n",
      "(-0.15101590878009905-0.0005119111295818729j)\n",
      "(-0.15101426107862512-0.0005119055442312975j)\n",
      "(-0.15101427879017676-0.0005119056042698399j)\n",
      "|  40   |  200  |  126  | -1.5102e-01 | 5.62e-03 | 9.71e+01 | 0.00e+00 |\n",
      "(0.11026394292077234+0.0003737708167908329j)\n",
      "(0.1102641891840676+0.00037377165156946734j)\n",
      "(0.1102643123477751+0.00037377206906528753j)\n",
      "(0.11028131657512584+0.00037382970970938653j)\n",
      "(0.11025877141795197+0.00037375328651576895j)\n",
      "|  41   |  205  |  130  | -1.5102e-01 | 5.62e-04 | 9.71e+01 | 0.00e+00 |\n",
      "(-0.15879442077116582-0.0005382785957107013j)\n",
      "(-0.1587943777731439-0.0005382784499573468j)\n",
      "(-0.15879435057331362-0.0005382783577538531j)\n",
      "(-0.15879429909933454-0.0005382781832691724j)\n",
      "(-0.15879466920190888-0.000538279437837914j)\n",
      "|  42   |  210  |  134  | -1.5880e-01 | 3.93e-03 | 1.67e+01 | 0.00e+00 |\n",
      "(-0.15983177083468303-0.0005417949871094978j)\n",
      "(-0.15983177633120624-0.0005417950057411403j)\n",
      "(-0.15983155304254595-0.0005417942488403659j)\n",
      "(-0.1598317629611364-0.0005417949604194601j)\n",
      "(-0.15983196695844692-0.0005417956519249473j)\n",
      "|  43   |  215  |  138  | -1.5983e-01 | 3.93e-03 | 1.46e+01 | 0.00e+00 |\n",
      "(-0.1609966519666236-0.0005457436811308193j)\n",
      "(-0.16099668686170948-0.0005457437994167071j)\n",
      "(-0.1609966907059056-0.0005457438124484649j)\n",
      "(-0.16099675933615093-0.0005457440450897568j)\n",
      "(-0.16099672740012472-0.0005457439368346025j)\n",
      "|  44   |  220  |  142  | -1.6100e-01 | 3.93e-03 | 7.21e+00 | 0.00e+00 |\n",
      "(-0.1630334934042508-0.0005526481311913937j)\n",
      "(-0.1630336832219117-0.0005526487746322471j)\n",
      "(-0.16303441191368123-0.0005526512447427628j)\n",
      "(-0.16303633224656294-0.0005526577542537741j)\n",
      "(-0.1630323963299693-0.0005526444123398391j)\n",
      "|  45   |  225  |  146  | -1.6303e-01 | 3.93e-03 | 1.91e+02 | 0.00e+00 |\n",
      "(-0.16472584139685784-0.0005583848233058578j)\n",
      "(-0.1647258854488313-0.0005583849726323217j)\n",
      "(-0.16472613674014666-0.0005583858244561821j)\n",
      "(-0.16472677738888766-0.0005583879961148395j)\n",
      "(-0.16472559620542254-0.0005583839921621339j)\n",
      "|  46   |  230  |  149  | -1.6473e-01 | 3.93e-03 | 6.28e+01 | 0.00e+00 |\n",
      "(-0.16577953756852398-0.0005619566244606936j)\n",
      "(-0.16577957825617815-0.0005619567623829668j)\n",
      "(-0.16577972918367506-0.0005619572739959085j)\n",
      "(-0.165780513767595-0.0005619599335629585j)\n",
      "(-0.1657793035726575-0.0005619558312680473j)\n",
      "|  47   |  235  |  152  | -1.6578e-01 | 3.93e-03 | 6.55e+01 | 0.00e+00 |\n",
      "(-0.17342315132471306-0.000587866814875628j)\n",
      "(-0.17342313924703062-0.0005878667739334299j)\n",
      "(-0.17342256921385843-0.0005878648416471761j)\n",
      "(-0.1734243701571967-0.0005878709464533101j)\n",
      "(-0.1734230401940183-0.0005878664381707757j)\n",
      "|  48   |  240  |  156  | -1.7342e-01 | 1.03e-02 | 8.18e+01 | 0.00e+00 |\n",
      "(-0.17893890022504144-0.0006065640056107023j)\n",
      "(-0.17893889037420785-0.0006065639722157169j)\n",
      "(-0.17893830228765867-0.0006065619787317697j)\n",
      "(-0.17894037180453568-0.00060656899394403j)\n",
      "(-0.17893867019792523-0.000606563225868192j)\n",
      "|  49   |  245  |  159  | -1.7894e-01 | 1.30e-02 | 9.88e+01 | 0.00e+00 |\n",
      "(-0.18243800073442143-0.0006184251963204472j)\n",
      "(-0.18243801820406225-0.0006184252555376115j)\n",
      "(-0.18243784813745872-0.0006184246790504672j)\n",
      "(-0.18243924272305087-0.0006184294063908227j)\n",
      "(-0.18243765157430375-0.0006184240127404052j)\n",
      "|  50   |  250  |  163  | -1.8244e-01 | 1.33e-02 | 8.33e+01 | 0.00e+00 |\n",
      "(-0.18374290625070785-0.0006228485425899749j)\n",
      "(-0.18374290804342103-0.000622848548666867j)\n",
      "(-0.18374275842588328-0.0006228480414967826j)\n",
      "(-0.18374372963839178-0.0006228513336957512j)\n",
      "(-0.1837426968332469-0.0006228478327118481j)\n",
      "|  51   |  255  |  166  | -1.8374e-01 | 1.33e-02 | 5.53e+01 | 0.00e+00 |\n",
      "(-0.18498232422695854-0.0006270499003237066j)\n",
      "(-0.18498231041252655-0.0006270498534959339j)\n",
      "(-0.18498222813148618-0.0006270495745809102j)\n",
      "(-0.18498262104828364-0.0006270509064835066j)\n",
      "(-0.18498227641461173-0.0006270497382507928j)\n",
      "|  52   |  260  |  169  | -1.8498e-01 | 1.33e-02 | 1.99e+01 | 0.00e+00 |\n",
      "(-0.18524019794280275-0.0006279240362101572j)\n",
      "(-0.1852401847409513-0.0006279239914596855j)\n",
      "(-0.18524014704927408-0.0006279238636898882j)\n",
      "(-0.1852403119350799-0.0006279244226192203j)\n",
      "(-0.1852401920224714-0.0006279240161396099j)\n",
      "|  53   |  265  |  171  | -1.8524e-01 | 1.33e-02 | 7.65e+00 | 0.00e+00 |\n",
      "(-0.18534049279621706-0.0006282640139784257j)\n",
      "(-0.1853404838410609-0.0006282639836228554j)\n",
      "(-0.1853404707541305-0.0006282639392602739j)\n",
      "(-0.18534050989002634-0.0006282640719228181j)\n",
      "(-0.18534050225853177-0.0006282640460525904j)\n",
      "|  54   |  270  |  174  | -1.8534e-01 | 1.33e-02 | 1.48e+00 | 0.00e+00 |\n",
      "(-0.18536689433729422-0.0006283535094684714j)\n",
      "(-0.18536688888365982-0.0006283534909811219j)\n",
      "(-0.18536687817907688-0.0006283534546949093j)\n",
      "(-0.18536688058499284-0.0006283534628516202j)\n",
      "(-0.18536690644310072-0.000628353550504199j)\n",
      "|  55   |  275  |  177  | -1.8537e-01 | 1.33e-02 | 1.08e+00 | 0.00e+00 |\n",
      "(-0.18537181466305602-0.0006283701883018686j)\n",
      "(-0.18537181120759672-0.0006283701765902228j)\n",
      "(-0.1853717982791728-0.0006283701327663253j)\n",
      "(-0.18537180088234761-0.0006283701415896279j)\n",
      "(-0.18537182436605565-0.0006283702211953564j)\n",
      "|  56   |  280  |  180  | -1.8537e-01 | 1.33e-02 | 1.10e+00 | 0.00e+00 |\n",
      "(-0.18537263407117047-0.0006283729659195727j)\n",
      "(-0.18537263134435553-0.0006283729566751966j)\n",
      "(-0.18537262226351162-0.0006283729258941124j)\n",
      "(-0.18537262738767843-0.0006283729432644576j)\n",
      "(-0.18537263970742832-0.0006283729850248184j)\n",
      "|  57   |  285  |  182  | -1.8537e-01 | 1.33e-02 | 7.92e-01 | 0.00e+00 |\n",
      "\n",
      "`gtol` termination condition is satisfied.\n",
      "Number of iterations: 57, function evaluations: 285, CG iterations: 182, optimality: 7.92e-01, constraint violation: 0.00e+00, execution time: 3.8e+02 s.\n",
      "CPU times: user 6min 11s, sys: 17 s, total: 6min 27s\n",
      "Wall time: 6min 27s\n"
     ]
    }
   ],
   "source": [
    "%%time\n",
    "\n",
    "sol1 = minimize(\n",
    "            gate_tuner,\n",
    "            initial_condition,\n",
    "            args=args,\n",
    "            # ftol = 1e-3,\n",
    "            # verbose = 2,\n",
    "            # max_nfev= 15\n",
    "    # bounds = bounds,\n",
    "    method = 'trust-constr',\n",
    "            options = {'disp': True, 'verbose': 2,\n",
    "                      'initial_tr_radius': 1e-3, 'gtol': 1e0}\n",
    "        )"
   ]
  },
  {
   "cell_type": "code",
   "execution_count": 302,
   "id": "b6341df7-bc7e-4385-9af2-86d05ec1f2ee",
   "metadata": {},
   "outputs": [
    {
     "ename": "NameError",
     "evalue": "name 'optimal_phase' is not defined",
     "output_type": "error",
     "traceback": [
      "\u001b[0;31m---------------------------------------------------------------------------\u001b[0m",
      "\u001b[0;31mNameError\u001b[0m                                 Traceback (most recent call last)",
      "Input \u001b[0;32mIn [302]\u001b[0m, in \u001b[0;36m<cell line: 1>\u001b[0;34m()\u001b[0m\n\u001b[0;32m----> 1\u001b[0m \u001b[43moptimal_phase\u001b[49m\n",
      "\u001b[0;31mNameError\u001b[0m: name 'optimal_phase' is not defined"
     ]
    }
   ],
   "source": [
    "optimal_phase"
   ]
  },
  {
   "cell_type": "code",
   "execution_count": null,
   "id": "71e6889b-df58-42f3-9b14-ad5563d854a5",
   "metadata": {},
   "outputs": [],
   "source": [
    "%%time\n",
    "\n",
    "base_hamiltonian, linear_ham = linear_Hamiltonian(poisson_params, \n",
    "                                                  kwant_params, \n",
    "                                                  params, \n",
    "                                                  list(voltage_regions.keys()),\n",
    "                                                  phis = [0, max_phis[2]])"
   ]
  },
  {
   "cell_type": "code",
   "execution_count": 303,
   "id": "fa59aee7-e25e-4524-97e9-c39a9520d6fd",
   "metadata": {},
   "outputs": [],
   "source": [
    "density = Density(trijunction, np.eye(4))"
   ]
  },
  {
   "cell_type": "code",
   "execution_count": null,
   "id": "fffcab4f-d4b3-496c-96cb-0ee97e3849df",
   "metadata": {
    "tags": []
   },
   "outputs": [],
   "source": []
  },
  {
   "cell_type": "markdown",
   "id": "45c95829-f17b-4bac-8af6-bc5ce7bea50f",
   "metadata": {},
   "source": [
    "#### Algorithm to transform basis of the coupled Hamiltonian to Majorana Hamiltonian"
   ]
  },
  {
   "cell_type": "markdown",
   "id": "161ab704-f0f5-434e-8bb5-873b2b6faec9",
   "metadata": {
    "tags": []
   },
   "source": [
    "### 1. Simulate the decoupled system and Wannerize the eigenstates"
   ]
  },
  {
   "cell_type": "code",
   "execution_count": 217,
   "id": "5193878f-6efc-4132-a1f2-3e803b12ef0d",
   "metadata": {},
   "outputs": [],
   "source": [
    "# 1. Simulate the decoupled system and Wannerize the eigenstates\n",
    "\n",
    "voltages = {'left_1': -0.0036,\n",
    "            'left_2': -0.0086,\n",
    "            'right_1': -0.0086,\n",
    "            'right_2': -0.0036,\n",
    "            'top_1': -0.0037,\n",
    "            'top_2': -0.0037,\n",
    "            'global_accumul': -7e-05}\n",
    "\n",
    "summed_ham = sum(\n",
    "    [\n",
    "        linear_ham[key] * voltages[key]\n",
    "        for key, value in linear_ham.items()\n",
    "    ]\n",
    ")\n",
    "\n",
    "tight_binding_hamiltonian = base_hamiltonian + summed_ham\n",
    "\n",
    "\n",
    "eigval, eigvec = sl.sort_eigen(sparse.linalg.eigsh(tight_binding_hamiltonian.tocsc(), \n",
    "                                                   k=12, sigma = 0))\n",
    "\n",
    "lowest_e_indices = np.argsort(np.abs(eigval))[: 6]\n",
    "lowest_e_energies = eigval[lowest_e_indices]\n",
    "lowest_e_states = eigvec.T[:, lowest_e_indices].T"
   ]
  },
  {
   "cell_type": "code",
   "execution_count": 218,
   "id": "cb955010-009e-4d7d-b301-aad2744b1cf1",
   "metadata": {},
   "outputs": [
    {
     "data": {
      "image/png": "[encoded data removed]",
      "text/plain": [
       "<Figure size 360x360 with 6 Axes>"
      ]
     },
     "metadata": {
      "needs_background": "light"
     },
     "output_type": "display_data"
    }
   ],
   "source": [
    "fig, ax = plt.subplots(1, len(lowest_e_states), figsize = (5, 5), sharey = True)\n",
    "for i in range(len(lowest_e_states)):\n",
    "    cax = kwant.plotter.density(trijunction, density(lowest_e_states[i]), ax = ax[i]);"
   ]
  },
  {
   "cell_type": "markdown",
   "id": "41a62684-2f80-46cf-8621-a160fc6d796b",
   "metadata": {},
   "source": [
    "#### Wannierization"
   ]
  },
  {
   "cell_type": "code",
   "execution_count": 219,
   "id": "c3a29025-11e0-47f8-9e71-eda6383fb14e",
   "metadata": {},
   "outputs": [],
   "source": [
    "X_operator = Density(\n",
    "            trijunction, onsite=lambda site: np.eye(4) * site.pos[0]\n",
    "        )\n",
    "\n",
    "Y_operator = Density(\n",
    "            trijunction, onsite=lambda site: np.eye(4) * site.pos[1]\n",
    "        )"
   ]
  },
  {
   "cell_type": "code",
   "execution_count": 220,
   "id": "ff478c94-f404-4353-b2a9-17c3c68dfa77",
   "metadata": {},
   "outputs": [],
   "source": [
    "projected_X_operator = wannier_1D_operator(X_operator, \n",
    "                                           lowest_e_states.T)\n",
    "\n",
    "projected_Y_operator = wannier_1D_operator(Y_operator, \n",
    "                                           lowest_e_states.T)"
   ]
  },
  {
   "cell_type": "code",
   "execution_count": 221,
   "id": "f7778698-9cb3-47fa-9aac-8a1ea690f60d",
   "metadata": {},
   "outputs": [],
   "source": [
    "w_basis = wannier_basis([projected_X_operator, \n",
    "                         projected_Y_operator])\n",
    "\n",
    "mlwf = w_basis.T @ lowest_e_states"
   ]
  },
  {
   "cell_type": "code",
   "execution_count": 222,
   "id": "8a31f15d-edc1-413c-a80e-fbe438d34d92",
   "metadata": {},
   "outputs": [
    {
     "data": {
      "image/png": "[encoded data removed]",
      "text/plain": [
       "<Figure size 360x360 with 6 Axes>"
      ]
     },
     "metadata": {
      "needs_background": "light"
     },
     "output_type": "display_data"
    }
   ],
   "source": [
    "fig, ax = plt.subplots(1, 6, figsize = (5, 5), sharey = True)\n",
    "for i in range(6):\n",
    "    cax = kwant.plotter.density(trijunction, density(mlwf[i]), ax = ax[i]);"
   ]
  },
  {
   "cell_type": "markdown",
   "id": "8bd7c63a-ad3a-4e97-9052-4e7311fe1356",
   "metadata": {
    "tags": []
   },
   "source": [
    "### 2. Simulate coupled system and find the eigenstates"
   ]
  },
  {
   "cell_type": "raw",
   "id": "373ed77a-c259-4a15-a539-dcb73cdce5e0",
   "metadata": {},
   "source": [
    "voltages = {'left_1': -0.0014,\n",
    " 'left_2': -0.0014,\n",
    " 'right_1': -0.0037,\n",
    " 'right_2': -0.0037,\n",
    " 'top_1': -0.0014 ,\n",
    " 'top_2': -0.0014,\n",
    " 'global_accumul': 3e-3}"
   ]
  },
  {
   "cell_type": "code",
   "execution_count": 264,
   "id": "94ba4ca4-fc3a-4965-8731-803b265864bc",
   "metadata": {},
   "outputs": [],
   "source": [
    "voltages = {'left_1': -0.0014,\n",
    " 'left_2': -0.0014,\n",
    " 'right_1': -0.0037,\n",
    " 'right_2': -0.0037,\n",
    " 'top_1': -0.0014 ,\n",
    " 'top_2': -0.0014,\n",
    " 'global_accumul': 3e-3}"
   ]
  },
  {
   "cell_type": "code",
   "execution_count": 308,
   "id": "a869b183-e164-462e-b7cb-9030b7c5202b",
   "metadata": {},
   "outputs": [
    {
     "data": {
      "text/plain": [
       "array([-0.02139896, -0.00301283, -0.00502079,  0.02511067])"
      ]
     },
     "execution_count": 308,
     "metadata": {},
     "output_type": "execute_result"
    }
   ],
   "source": [
    "sol1.x"
   ]
  },
  {
   "cell_type": "raw",
   "id": "fdac7d2d-ad06-41cc-9a79-d08da8e507a5",
   "metadata": {},
   "source": [
    "initial_condition = [-0.003, -0.003, -0.0037, 0.003]"
   ]
  },
  {
   "cell_type": "code",
   "execution_count": 309,
   "id": "7fee554f-641a-413e-95f1-1c32821abefe",
   "metadata": {},
   "outputs": [],
   "source": [
    "x = sol1.x\n",
    "\n",
    "voltages = {}\n",
    "    \n",
    "voltages['left_1'] = x[0]\n",
    "voltages['left_2'] = voltages['left_1']\n",
    "voltages['right_1'] = x[1]\n",
    "voltages['right_2'] = voltages['right_1']\n",
    "voltages['top_1'] = x[2]\n",
    "voltages['top_2'] = voltages['top_1']\n",
    "voltages['global_accumul'] = x[3]"
   ]
  },
  {
   "cell_type": "markdown",
   "id": "32e5b778-6423-45d1-b708-9f3f9d624a8e",
   "metadata": {},
   "source": [
    "with open(\"/home/tinkerer/trijunction-design/data/LC_voltages.pkl\", 'wb') as infile:\n",
    "    pickle.dump(voltages, infile)"
   ]
  },
  {
   "cell_type": "code",
   "execution_count": 233,
   "id": "fa679b96-32b0-4e87-a009-bd2c675f27a6",
   "metadata": {},
   "outputs": [],
   "source": [
    "potential = gate_potential(\n",
    "        poisson_system,\n",
    "        linear_problem,\n",
    "        site_coords[:, [0, 1]],\n",
    "        site_indices,\n",
    "        voltages,\n",
    "        charges,\n",
    "        offset = offset[[0, 1]],\n",
    "        grid_spacing = kwant_params['grid_spacing']\n",
    "    )\n",
    "\n",
    "potential.update((x, y*-1) for x, y in potential.items())\n",
    "\n",
    "params.update(potential=potential)"
   ]
  },
  {
   "cell_type": "code",
   "execution_count": 234,
   "id": "fb7bebe4-8d38-4001-a7fc-0a7cd4e47f81",
   "metadata": {},
   "outputs": [],
   "source": [
    "f_mu = f_params(**params)['mu']"
   ]
  },
  {
   "cell_type": "code",
   "execution_count": 235,
   "id": "a15dd351-86d3-46d7-b943-316423d132cf",
   "metadata": {},
   "outputs": [],
   "source": [
    "def plot_f_mu(i):\n",
    "    x, y = trijunction.sites[i].pos\n",
    "    return f_mu(x, y)"
   ]
  },
  {
   "cell_type": "code",
   "execution_count": 236,
   "id": "eb68bb27-823a-4e10-afec-ec1b84dd42a2",
   "metadata": {},
   "outputs": [],
   "source": [
    "kwant_sites = np.array(list(site.pos for site in trijunction.sites))"
   ]
  },
  {
   "cell_type": "code",
   "execution_count": 237,
   "id": "4fba466b-c828-45eb-9110-c5dab24243bc",
   "metadata": {},
   "outputs": [],
   "source": [
    "to_plot = [plot_f_mu(i) for i in range(len(kwant_sites))]"
   ]
  },
  {
   "cell_type": "code",
   "execution_count": 238,
   "id": "22b88129-5c1c-4932-8c19-6ea3397d3c4f",
   "metadata": {},
   "outputs": [],
   "source": [
    "grid_points = poisson_system.grid.points\n",
    "voltage_regions = poisson_system.regions.voltage.tag_points"
   ]
  },
  {
   "cell_type": "code",
   "execution_count": 239,
   "id": "6255d7a6-d2df-4ecc-ba5a-78226c74d6b9",
   "metadata": {},
   "outputs": [
    {
     "data": {
      "image/png": "[encoded data removed]",
      "text/plain": [
       "<Figure size 504x360 with 2 Axes>"
      ]
     },
     "metadata": {
      "needs_background": "light"
     },
     "output_type": "display_data"
    }
   ],
   "source": [
    "fig, ax = plt.subplots(1, 1, figsize = (7, 5))\n",
    "cax = ax.scatter(kwant_sites[:, 0 ], kwant_sites[:, 1], \n",
    "                 c = np.array(to_plot), cmap = 'gist_heat_r'\n",
    "                );\n",
    "ax.set_ylim(0, 0.6e-6);\n",
    "plt.colorbar(cax);\n",
    "# plt.axis('equal')"
   ]
  },
  {
   "cell_type": "code",
   "execution_count": 265,
   "id": "45a8c9af-8d9f-4bc5-9daf-02edf88646a7",
   "metadata": {},
   "outputs": [],
   "source": [
    "summed_ham = sum(\n",
    "    [\n",
    "        linear_ham[key] * voltages[key]\n",
    "        for key, value in linear_ham.items()\n",
    "    ]\n",
    ")\n",
    "\n",
    "tight_binding_hamiltonian = base_hamiltonian + summed_ham\n",
    "\n",
    "\n",
    "eigval, eigvec = sl.sort_eigen(sparse.linalg.eigsh(tight_binding_hamiltonian.tocsc(), \n",
    "                                                   k=6, sigma = 0))"
   ]
  },
  {
   "cell_type": "code",
   "execution_count": 305,
   "id": "1e64c629-1d50-413d-bc99-918e7567256f",
   "metadata": {},
   "outputs": [],
   "source": [
    "lowest_e_indices = np.argsort(np.abs(eigval))[: 6]\n",
    "lowest_e_energies = eigval[lowest_e_indices]\n",
    "coupled_states = eigvec.T[:, lowest_e_indices].T"
   ]
  },
  {
   "cell_type": "code",
   "execution_count": 324,
   "id": "e2cff0f2-1b8f-4776-88d6-11e3b887e100",
   "metadata": {},
   "outputs": [
    {
     "data": {
      "text/plain": [
       "array([-1.31169235e-06,  1.31169235e-06, -1.44333377e-04,  1.44333377e-04,\n",
       "       -2.79610138e-01,  2.79610138e-01])"
      ]
     },
     "execution_count": 324,
     "metadata": {},
     "output_type": "execute_result"
    }
   ],
   "source": [
    "lowest_e_energies/topo_gap"
   ]
  },
  {
   "cell_type": "code",
   "execution_count": 325,
   "id": "30bf65ac-b55e-4f68-bbf0-24d79726687c",
   "metadata": {},
   "outputs": [
    {
     "data": {
      "image/png": "[encoded data removed]",
      "text/plain": [
       "<Figure size 360x360 with 6 Axes>"
      ]
     },
     "metadata": {
      "needs_background": "light"
     },
     "output_type": "display_data"
    }
   ],
   "source": [
    "fig, ax = plt.subplots(1, len(lowest_e_states), figsize = (5, 5), sharey = True)\n",
    "for i in range(len(lowest_e_states)):\n",
    "    cax = kwant.plotter.density(trijunction, density(coupled_states[i]), ax = ax[i]);"
   ]
  },
  {
   "cell_type": "code",
   "execution_count": 269,
   "id": "e1d54156-7f99-45b0-b652-6c215b17ce5d",
   "metadata": {},
   "outputs": [],
   "source": [
    "# Overlap matrix\n",
    "decoupled_states = mlwf\n",
    "S = coupled_states @ decoupled_states.T.conj()\n",
    "\n",
    "# Unitary matrix using SVD\n",
    "U, _, Vh = svd(S)\n",
    "S_prime = U @ Vh\n",
    "\n",
    "# Transform coupled Hamiltonian to Majorana basis\n",
    "coupled_ham = S_prime.T.conj() @ np.diag(lowest_e_energies) @ S_prime"
   ]
  },
  {
   "cell_type": "code",
   "execution_count": 270,
   "id": "cbd9f78f-abbf-48e9-8ed0-d3daf3123d96",
   "metadata": {},
   "outputs": [
    {
     "ename": "ModuleNotFoundError",
     "evalue": "No module named 'Matrix'",
     "output_type": "error",
     "traceback": [
      "\u001b[0;31m---------------------------------------------------------------------------\u001b[0m",
      "\u001b[0;31mModuleNotFoundError\u001b[0m                       Traceback (most recent call last)",
      "Input \u001b[0;32mIn [270]\u001b[0m, in \u001b[0;36m<cell line: 1>\u001b[0;34m()\u001b[0m\n\u001b[0;32m----> 1\u001b[0m \u001b[38;5;28;01mimport\u001b[39;00m \u001b[38;5;21;01mMatrix\u001b[39;00m\n",
      "\u001b[0;31mModuleNotFoundError\u001b[0m: No module named 'Matrix'"
     ]
    }
   ],
   "source": []
  },
  {
   "cell_type": "code",
   "execution_count": 245,
   "id": "ca2e3160-2fd9-4ad2-8740-2ff80c615bd9",
   "metadata": {},
   "outputs": [
    {
     "ename": "NameError",
     "evalue": "name 'Matrix' is not defined",
     "output_type": "error",
     "traceback": [
      "\u001b[0;31m---------------------------------------------------------------------------\u001b[0m",
      "\u001b[0;31mNameError\u001b[0m                                 Traceback (most recent call last)",
      "Input \u001b[0;32mIn [245]\u001b[0m, in \u001b[0;36m<cell line: 1>\u001b[0;34m()\u001b[0m\n\u001b[0;32m----> 1\u001b[0m \u001b[43mMatrix\u001b[49m(np\u001b[38;5;241m.\u001b[39mround(coupled_ham[\u001b[38;5;241m2\u001b[39m:\u001b[38;5;241m5\u001b[39m, \u001b[38;5;241m2\u001b[39m:\u001b[38;5;241m5\u001b[39m]\u001b[38;5;241m/\u001b[39mparams[\u001b[38;5;124m'\u001b[39m\u001b[38;5;124mDelta\u001b[39m\u001b[38;5;124m'\u001b[39m], \u001b[38;5;241m10\u001b[39m))\n",
      "\u001b[0;31mNameError\u001b[0m: name 'Matrix' is not defined"
     ]
    }
   ],
   "source": [
    "Matrix(np.round(coupled_ham[2:5, 2:5]/params['Delta'], 10))"
   ]
  },
  {
   "cell_type": "code",
   "execution_count": null,
   "id": "11f6eb7b-fa22-48a4-b25f-a0314db62dde",
   "metadata": {},
   "outputs": [],
   "source": [
    "Matrix(np.round(coupled_ham[2:5, 2:5], 10))"
   ]
  },
  {
   "cell_type": "code",
   "execution_count": 246,
   "id": "0c28c607-4a82-46ae-8e2a-0c50f2d7011c",
   "metadata": {},
   "outputs": [
    {
     "ename": "NameError",
     "evalue": "name 'Matrix' is not defined",
     "output_type": "error",
     "traceback": [
      "\u001b[0;31m---------------------------------------------------------------------------\u001b[0m",
      "\u001b[0;31mNameError\u001b[0m                                 Traceback (most recent call last)",
      "Input \u001b[0;32mIn [246]\u001b[0m, in \u001b[0;36m<cell line: 1>\u001b[0;34m()\u001b[0m\n\u001b[0;32m----> 1\u001b[0m \u001b[43mMatrix\u001b[49m(coupled_ham[\u001b[38;5;241m2\u001b[39m:\u001b[38;5;241m5\u001b[39m, \u001b[38;5;241m2\u001b[39m:\u001b[38;5;241m5\u001b[39m])\n",
      "\u001b[0;31mNameError\u001b[0m: name 'Matrix' is not defined"
     ]
    }
   ],
   "source": [
    " Matrix(coupled_ham[2:5, 2:5])"
   ]
  },
  {
   "cell_type": "markdown",
   "id": "f9286ab4-1460-441b-aa27-ceaec0829c44",
   "metadata": {
    "tags": []
   },
   "source": [
    "#### Linear part of the Hamiltonian"
   ]
  },
  {
   "cell_type": "code",
   "execution_count": 271,
   "id": "7345b780-d75d-4033-980b-571a04d270bf",
   "metadata": {},
   "outputs": [],
   "source": [
    "from tqdm import tqdm"
   ]
  },
  {
   "cell_type": "code",
   "execution_count": 272,
   "id": "92ea25a5-11f2-465b-b583-d04b3f55ac94",
   "metadata": {},
   "outputs": [],
   "source": [
    "def linear_Hamiltonian(\n",
    "    poisson_params,\n",
    "    kwant_params,\n",
    "    general_params,\n",
    "    gates,\n",
    "    phis = [0.0, 0.0]\n",
    "):\n",
    "\n",
    "    ## non-linear part of the Hamiltonian\n",
    "    \n",
    "    voltages = {}\n",
    "    \n",
    "    for gate in gates: voltages[gate] = 0.0\n",
    "    \n",
    "    kp = kwant_params\n",
    "    pp = poisson_params\n",
    "    \n",
    "    charges = {}\n",
    "    potential = gate_potential(\n",
    "            pp['poisson_system'],\n",
    "            pp['linear_problem'],\n",
    "            pp['site_coords'][:, [0, 1]],\n",
    "            pp['site_indices'],\n",
    "            voltages,\n",
    "            charges,\n",
    "            offset = kp['offset'][[0, 1]],\n",
    "            grid_spacing = kp['grid_spacing']\n",
    "        )\n",
    "    \n",
    "    \n",
    "    \n",
    "    general_params.update(potential=potential)\n",
    "    general_params['phi1'] = phis[0]\n",
    "    general_params['phi2'] = phis[1]\n",
    "    \n",
    "    bare_hamiltonian = kp['finite_system_object'].hamiltonian_submatrix(\n",
    "        sparse=True, params=kp['finite_system_params_object'](**general_params))\n",
    "    \n",
    "    \n",
    "    hamiltonian_V = {}\n",
    "    for gate in tqdm(gates):\n",
    "        \n",
    "\n",
    "        voltages_t = dict.fromkeys(voltages, 0.0)\n",
    "\n",
    "        voltages_t[gate] = 1.0\n",
    "\n",
    "        potential = gate_potential(\n",
    "            pp['poisson_system'],\n",
    "            pp['linear_problem'],\n",
    "            pp['site_coords'][:, [0, 1]],\n",
    "            pp['site_indices'],\n",
    "            voltages_t,\n",
    "            charges,\n",
    "            offset = kp['offset'][[0, 1]],\n",
    "            grid_spacing = kp['grid_spacing']\n",
    "        )\n",
    "    \n",
    "\n",
    "        general_params.update(potential=potential)\n",
    "\n",
    "        hamiltonian = kp['finite_system_object'].hamiltonian_submatrix(\n",
    "            sparse=True, params=kp['finite_system_params_object'](**general_params))\n",
    "\n",
    "\n",
    "        hamiltonian_V[gate] = hamiltonian - bare_hamiltonian\n",
    "\n",
    "    return bare_hamiltonian, hamiltonian_V\n"
   ]
  },
  {
   "cell_type": "code",
   "execution_count": 273,
   "id": "193f07ef-c0b4-4e14-988c-8cb101f6608e",
   "metadata": {},
   "outputs": [],
   "source": [
    "summed_ham = sum(\n",
    "        [\n",
    "            linear_ham[key] * voltages[key]\n",
    "            for key, value in linear_ham.items()\n",
    "        ]\n",
    "    )\n"
   ]
  },
  {
   "cell_type": "code",
   "execution_count": 274,
   "id": "157a8e3c-27c7-4a1e-8772-97b91ab759ee",
   "metadata": {},
   "outputs": [],
   "source": [
    "pp = poisson_params\n",
    "kp = kwant_params\n",
    "potential = gate_potential(\n",
    "    pp['poisson_system'],\n",
    "    pp['linear_problem'],\n",
    "    pp['site_coords'][:, [0, 1]],\n",
    "    pp['site_indices'],\n",
    "    voltages,\n",
    "    charges,\n",
    "    offset = kp['offset'][[0, 1]],\n",
    "    grid_spacing = kp['grid_spacing']\n",
    ")\n",
    "\n",
    "\n",
    "params.update(potential=potential)\n",
    "\n",
    "test_hamiltonian = kp['finite_system_object'].hamiltonian_submatrix(\n",
    "    sparse=True, params=kp['finite_system_params_object'](**params))"
   ]
  },
  {
   "cell_type": "code",
   "execution_count": 275,
   "id": "8b0b2580-cbb7-41ea-b7ad-33cc25a50901",
   "metadata": {},
   "outputs": [],
   "source": [
    "potential = gate_potential(\n",
    "    pp['poisson_system'],\n",
    "    pp['linear_problem'],\n",
    "    pp['site_coords'],\n",
    "    pp['site_indices'],\n",
    "    voltages,\n",
    "    charges,\n",
    "    offset = kp['offset'],\n",
    "    grid_spacing = kp['grid_spacing']\n",
    ")\n"
   ]
  },
  {
   "cell_type": "code",
   "execution_count": 276,
   "id": "532e075d-aea1-4e72-9109-171d46147fc5",
   "metadata": {},
   "outputs": [],
   "source": [
    "potential = gate_potential(\n",
    "    pp['poisson_system'],\n",
    "    pp['linear_problem'],\n",
    "    pp['site_coords'][:, [0, 1]],\n",
    "    pp['site_indices'],\n",
    "    voltages,\n",
    "    charges,\n",
    "    offset = kp['offset'][[0, 1]],\n",
    "    grid_spacing = kp['grid_spacing']\n",
    ")"
   ]
  },
  {
   "cell_type": "code",
   "execution_count": 277,
   "id": "00922c5a-3afd-4afc-af7f-9b663552675e",
   "metadata": {},
   "outputs": [
    {
     "data": {
      "text/plain": [
       "array([-0.5,  0. ,  0.5])"
      ]
     },
     "execution_count": 277,
     "metadata": {},
     "output_type": "execute_result"
    }
   ],
   "source": [
    "np.unique(grid_points[poisson_system.regions.charge.tag_points['twoDEG']][:, 2])"
   ]
  },
  {
   "cell_type": "code",
   "execution_count": 278,
   "id": "e14d9e85-abcd-4fba-9342-d0410e55deb5",
   "metadata": {},
   "outputs": [],
   "source": [
    "site_tuples = map(tuple, site_coords[:, [0, 1]])"
   ]
  },
  {
   "cell_type": "raw",
   "id": "fa94a4ed-0dd8-4678-ba75-b907a2ea0e7d",
   "metadata": {},
   "source": [
    "len(list(site_tuples))"
   ]
  },
  {
   "cell_type": "code",
   "execution_count": 279,
   "id": "944a7c80-7bcf-4098-8a31-ca46387e0987",
   "metadata": {},
   "outputs": [],
   "source": [
    "from potential import _linear_solution\n",
    "solution = _linear_solution(poisson_system, linear_problem, voltages, {})\n",
    "\n",
    "potential = solution[site_indices]"
   ]
  },
  {
   "cell_type": "code",
   "execution_count": 280,
   "id": "947a15c7-f8df-48cf-8a65-c9b440c7b040",
   "metadata": {},
   "outputs": [
    {
     "ename": "NameError",
     "evalue": "name 'ta' is not defined",
     "output_type": "error",
     "traceback": [
      "\u001b[0;31m---------------------------------------------------------------------------\u001b[0m",
      "\u001b[0;31mNameError\u001b[0m                                 Traceback (most recent call last)",
      "Input \u001b[0;32mIn [280]\u001b[0m, in \u001b[0;36m<cell line: 2>\u001b[0;34m()\u001b[0m\n\u001b[1;32m      4\u001b[0m     potential_dict[ta\u001b[38;5;241m.\u001b[39marray((site_tuple\u001b[38;5;241m-\u001b[39moffset))] \u001b[38;5;241m=\u001b[39m potential[i]\n\u001b[1;32m      5\u001b[0m \u001b[38;5;28;01melse\u001b[39;00m:\n\u001b[0;32m----> 6\u001b[0m     potential_dict[\u001b[43mta\u001b[49m\u001b[38;5;241m.\u001b[39marray((site_tuple\u001b[38;5;241m-\u001b[39moffset)\u001b[38;5;241m*\u001b[39mkp[\u001b[38;5;124m'\u001b[39m\u001b[38;5;124mgrid_spacing\u001b[39m\u001b[38;5;124m'\u001b[39m])] \u001b[38;5;241m=\u001b[39m potential[i]\n",
      "\u001b[0;31mNameError\u001b[0m: name 'ta' is not defined"
     ]
    }
   ],
   "source": [
    "potential_dict = {}\n",
    "for i, site_tuple in enumerate(site_tuples):\n",
    "    if grid_spacing == 1:\n",
    "        potential_dict[ta.array((site_tuple-offset))] = potential[i]\n",
    "    else:\n",
    "        potential_dict[ta.array((site_tuple-offset)*kp['grid_spacing'])] = potential[i]"
   ]
  },
  {
   "cell_type": "code",
   "execution_count": 281,
   "id": "a3d88dff-f127-41a9-b6b6-ce38e035c798",
   "metadata": {},
   "outputs": [
    {
     "data": {
      "text/plain": [
       "0"
      ]
     },
     "execution_count": 281,
     "metadata": {},
     "output_type": "execute_result"
    }
   ],
   "source": [
    "len(potential_dict)"
   ]
  },
  {
   "cell_type": "code",
   "execution_count": null,
   "id": "757d9b0f-eddb-4bc9-8130-6833d52bd462",
   "metadata": {},
   "outputs": [],
   "source": []
  }
 ],
 "metadata": {
  "kernelspec": {
   "display_name": "Python 3 (ipykernel)",
   "language": "python",
   "name": "python3"
  },
  "language_info": {
   "codemirror_mode": {
    "name": "ipython",
    "version": 3
   },
   "file_extension": ".py",
   "mimetype": "text/x-python",
   "name": "python",
   "nbconvert_exporter": "python",
   "pygments_lexer": "ipython3",
   "version": "3.10.4"
  }
 },
 "nbformat": 4,
 "nbformat_minor": 5
}
