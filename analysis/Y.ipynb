{
 "cells": [
  {
   "cell_type": "code",
   "execution_count": 1,
   "id": "21c76eab-e8f2-4222-80a7-36d75ac9b5bf",
   "metadata": {
    "tags": []
   },
   "outputs": [
    {
     "name": "stdout",
     "output_type": "stream",
     "text": [
      "VoronoiMesh version 0.1\n",
      "DiscretePoisson version 0.3\n",
      "Shape version: 0.1\n",
      "SystEquations version: 0.3\n",
      "Solver version 0.1\n"
     ]
    }
   ],
   "source": [
    "import sys\n",
    "sys.path.append(\"/home/tinkerer/spin-qubit/codes/\")\n",
    "#sys.path.append(\"/home/tinkerer/Poisson/\")\n",
    "\n",
    "import numpy as np\n",
    "from collections import OrderedDict\n",
    "from ccode.plotting import plot_gates\n",
    "from ccode.gates import rectangular_gate, half_disk_gate\n",
    "from ccode.finite_system import finite_system\n",
    "import ccode.parameters as pm\n",
    "import ccode.solvers as sl\n",
    "import ccode.tools as tl\n",
    "import itertools as it\n",
    "import dask.bag as db\n",
    "from scipy import constants\n",
    "from scipy.linalg import svd\n",
    "from scipy.optimize import minimize, least_squares\n",
    "import matplotlib.pyplot as plt\n",
    "from dask_quantumtinkerer import Cluster, cluster_options\n",
    "\n",
    "import poisson\n",
    "import kwant\n",
    "from kwant.operator import Density\n",
    "from potential import gate_potential, linear_problem_instance\n",
    "from plotting import plot_potential\n",
    "from Hamiltonian import discrete_system_coordinates\n",
    "\n",
    "from layout import (\n",
    "    Layout,\n",
    "    OverlappingGateLayer,\n",
    "    PlanarGateLayer,\n",
    "    SimpleChargeLayer,\n",
    "    TwoDEGLayer,\n",
    ")\n",
    "from utility import wannier_1D_operator, wannier_basis\n",
    "\n",
    "from itertools import product\n",
    "from shapely.geometry.polygon import Polygon\n",
    "from shapely.ops import unary_union\n",
    "\n"
   ]
  },
  {
   "cell_type": "code",
   "execution_count": 2,
   "id": "534da2e4-2f5d-4e21-9096-39ccbc238865",
   "metadata": {},
   "outputs": [],
   "source": [
    "a = 10e-9"
   ]
  },
  {
   "cell_type": "code",
   "execution_count": 3,
   "id": "7ccff1c9-11a3-4cf6-a23f-f80f1aa2eb19",
   "metadata": {},
   "outputs": [],
   "source": [
    "options = cluster_options()\n",
    "options.worker_cores = 2\n",
    "options.worker_memory = 2\n",
    "options.extra_path = \"/home/srangaswamykup/trijunction_design/\""
   ]
  },
  {
   "cell_type": "markdown",
   "id": "aa6d39cb-150f-4d99-8509-958cc7626665",
   "metadata": {},
   "source": [
    "# Y-shaped geometry"
   ]
  },
  {
   "cell_type": "markdown",
   "id": "b2a820f0-fe15-4b3e-be69-32ad1c13df6b",
   "metadata": {
    "tags": []
   },
   "source": [
    "#### Parameters"
   ]
  },
  {
   "cell_type": "code",
   "execution_count": 4,
   "id": "c3e6374d-be50-4805-96bc-002ba69c623f",
   "metadata": {},
   "outputs": [],
   "source": [
    "thickness_dielectric = 1\n",
    "thickness_twoDEG = 1\n",
    "thickness_gates = 3\n",
    "\n",
    "grid_spacing_twoDEG = 0.5\n",
    "grid_spacing_normal = 1\n",
    "grid_spacing_dielectric = 1\n",
    "grid_spacing_air = 5\n",
    "grid_spacing_gate = grid_spacing_twoDEG\n",
    "\n",
    "permittivity_metal = 5000\n",
    "permittivity_twoDEG = 15  # InAs\n",
    "permittivity_air = 1.0\n",
    "permittivity_Al2O3 = 9.1"
   ]
  },
  {
   "cell_type": "code",
   "execution_count": 5,
   "id": "0fcc17e7-5319-4f24-8e98-f2bc26102ce6",
   "metadata": {},
   "outputs": [],
   "source": [
    "# one only needs to define the arm length L, and the channel width\n",
    "L = 41\n",
    "width = 12\n",
    "gap = 4\n",
    "\n",
    "R = L/np.sqrt(2)"
   ]
  },
  {
   "cell_type": "code",
   "execution_count": 6,
   "id": "69ba6cce-a89d-4ea2-8ff3-162adef92c0e",
   "metadata": {},
   "outputs": [
    {
     "data": {
      "text/plain": [
       "28.991378028648448"
      ]
     },
     "execution_count": 6,
     "metadata": {},
     "output_type": "execute_result"
    }
   ],
   "source": [
    "R"
   ]
  },
  {
   "cell_type": "code",
   "execution_count": 7,
   "id": "48facfb8-1429-4d4f-bc64-55976e40f6f0",
   "metadata": {},
   "outputs": [],
   "source": [
    "# Boundaries within Poisson region\n",
    "zmin = -0.5\n",
    "zmax = 0.5\n",
    "xmax = R\n",
    "xmin = -xmax\n",
    "ymin = 0\n",
    "ymax = R + L - width\n",
    "total_width = 2*xmax\n",
    "total_length = ymax"
   ]
  },
  {
   "cell_type": "markdown",
   "id": "89ffb144-faac-4e25-bc6b-4d040b7dcd5b",
   "metadata": {
    "tags": []
   },
   "source": [
    "#### Make gate polygons using Shapely"
   ]
  },
  {
   "cell_type": "code",
   "execution_count": 8,
   "id": "cfb84699-8972-4fce-8129-7d39ab1b9ea1",
   "metadata": {},
   "outputs": [],
   "source": [
    "Y = unary_union(\n",
    "    (\n",
    "        Polygon(half_disk_gate(R=R, npts=3)).difference(Polygon(half_disk_gate(R=R-width*np.sqrt(2), npts=3))),\n",
    "        Polygon(rectangular_gate(center=(0,R+L/2-width), width=width, length=L))\n",
    "    )\n",
    ")\n",
    "\n",
    "gates = Polygon(rectangular_gate(center=(0, (R+L-width)/2), length=R+L-width-1,width=2*R)).difference(Y)\n",
    "\n",
    "aux_rectangle_1 = rectangular_gate(length=R+2*gap, width=R+gap, center=(R/2, R/2-width/2))\n",
    "aux_rectangle_2 = rectangular_gate(length=R+2*gap, width=R+gap, center=(-R/2, R/2-width/2))\n",
    "\n",
    "\n",
    "def gate_coords(obj, difference=None, common=None, gap=None):\n",
    "\n",
    "    if type(common) == np.ndarray:\n",
    "        return np.round(np.array(list(obj.intersection(Polygon(common)).exterior.coords)), 2)\n",
    "\n",
    "    else:\n",
    "        if gap is not None:\n",
    "            return np.round(np.array(list(obj.difference(Polygon(difference).buffer(gap)).exterior.coords)), 2)\n",
    "        else:\n",
    "            return np.round(np.array(list(obj.difference(Polygon(difference)).exterior.coords)), 2)\n",
    "\n",
    "\n",
    "gates_vertex = [gate_coords(gates[0], common = aux_rectangle_2), \n",
    "                gate_coords(gates[2], difference = aux_rectangle_1), \n",
    "                gate_coords(gates[2], difference = aux_rectangle_2), \n",
    "                gate_coords(gates[1], common = aux_rectangle_1), \n",
    "                gate_coords(gates[0], difference = aux_rectangle_2, gap = gap), \n",
    "                gate_coords(gates[1], difference = aux_rectangle_1, gap = gap)]\n",
    "\n",
    "gates_name = ['left_1', 'left_2', 'right_1', 'right_2', 'top_1', 'top_2']"
   ]
  },
  {
   "cell_type": "markdown",
   "id": "2a5e304f-e479-4238-b5e3-abfe85ca5428",
   "metadata": {
    "tags": []
   },
   "source": [
    "#### Construct layout object for the Poisson solver"
   ]
  },
  {
   "cell_type": "code",
   "execution_count": 9,
   "id": "25ba435f-2249-4283-9d9c-7ac2f9fe41b5",
   "metadata": {},
   "outputs": [],
   "source": [
    "# Solve for Poisson system\n",
    "\n",
    "layout = Layout(total_width,\n",
    "                total_length,\n",
    "                grid_width_air=grid_spacing_air,\n",
    "                margin=(50, 50, 50),\n",
    "                shift=(0, total_length/2, 0))\n",
    "\n",
    "layout.add_layer(\n",
    "    SimpleChargeLayer(\n",
    "        \"twoDEG\",\n",
    "        thickness_twoDEG,\n",
    "        permittivity_twoDEG,\n",
    "        grid_spacing_twoDEG,\n",
    "        add_to_previous_layer=False,\n",
    "        fix_overlap=False,\n",
    "        z_bottom=None\n",
    "    ),\n",
    "    center=True,\n",
    ")\n",
    "\n",
    "height = thickness_twoDEG / 2\n",
    "\n",
    "layout.add_layer(\n",
    "    SimpleChargeLayer(\n",
    "        \"Al2O3\",\n",
    "        thickness_dielectric,\n",
    "        permittivity_Al2O3,\n",
    "        grid_spacing_dielectric,\n",
    "        add_to_previous_layer = False,\n",
    "        fix_overlap = False,\n",
    "        z_bottom = None\n",
    "    )\n",
    ")\n",
    "\n",
    "height += thickness_dielectric\n",
    "\n",
    "\n",
    "layout.add_layer(OverlappingGateLayer(thickness_gates,\n",
    "                                      permittivity_metal,\n",
    "                                      grid_spacing_gate,\n",
    "                                      layer_name=gates_name,\n",
    "                                      gate_objects=gates_vertex,\n",
    "                                      remove_points=False,\n",
    "                                      add_to_previous_layer=False,\n",
    "                                      z_bottom=height,\n",
    "                                      fix_overlap=True\n",
    "                                     )\n",
    "            )\n",
    "\n"
   ]
  },
  {
   "cell_type": "code",
   "execution_count": 10,
   "id": "d99932ce-72f3-49f5-99cd-c107e01cd99b",
   "metadata": {},
   "outputs": [],
   "source": [
    "height += thickness_gates + 1\n",
    "layout.add_layer(\n",
    "    SimpleChargeLayer(\"Al2O3_2\", thickness_dielectric, permittivity_Al2O3, grid_spacing_dielectric,\n",
    "                     add_to_previous_layer = False,\n",
    "                     z_bottom = height, fix_overlap = False)\n",
    ")\n",
    "\n",
    "height += thickness_dielectric + 1\n",
    "thickness_accumulation_gate = 2\n",
    "layout.add_layer(PlanarGateLayer(\"global_accumul\", \n",
    "                                 thickness_accumulation_gate, \n",
    "                                 permittivity_metal, \n",
    "                                 grid_spacing_gate, \n",
    "                                 gate_coords = [],\n",
    "                                 second_layer = [],\n",
    "                                 fix_overlap = False,\n",
    "                                 z_bottom = height\n",
    "                                )\n",
    "                )"
   ]
  },
  {
   "cell_type": "markdown",
   "id": "9d6055d2-af9b-47a9-a414-55c296cf2efa",
   "metadata": {
    "tags": []
   },
   "source": [
    "#### Build Poisson object"
   ]
  },
  {
   "cell_type": "code",
   "execution_count": 11,
   "id": "7b8a12ec-dc29-4285-9e4f-ebf8b653ee22",
   "metadata": {},
   "outputs": [
    {
     "name": "stdout",
     "output_type": "stream",
     "text": [
      "checking intersection\n",
      "finished checking intersection\n",
      "Finding closed voronoi cells\n",
      "Done selecting closed voronoi cells\n",
      "Calculating points distance\n",
      "Done\n",
      "Calculating ridges hypersurfaces\n",
      "Done\n",
      "Finding  hypervolume for closed voronoi cells\n",
      "Done finding hypervolume for closed voronoi cells\n",
      "Done calculating surface\n",
      "Done calculating distance\n",
      "Done calculating capacitance matrix\n",
      "CPU times: user 1min 13s, sys: 3.99 s, total: 1min 17s\n",
      "Wall time: 1min 17s\n"
     ]
    }
   ],
   "source": [
    "%%time\n",
    "\n",
    "poisson_system = layout.build()"
   ]
  },
  {
   "cell_type": "code",
   "execution_count": 605,
   "id": "1bfd5776-6b99-4d25-bb2c-4f4e15c8bbf5",
   "metadata": {},
   "outputs": [],
   "source": [
    "grid_points = poisson_system.grid.points\n",
    "voltage_regions = poisson_system.regions.voltage.tag_points"
   ]
  },
  {
   "cell_type": "code",
   "execution_count": 609,
   "id": "b77277ed-9cfe-46dc-b810-cfbd828b1e08",
   "metadata": {},
   "outputs": [
    {
     "data": {
      "text/plain": [
       "((180750, 3),\n",
       " [[34828], [24814], [24874], [34732], [52933], [53140], array([18087])])"
      ]
     },
     "execution_count": 609,
     "metadata": {},
     "output_type": "execute_result"
    }
   ],
   "source": [
    "grid_points.shape,dep_indices"
   ]
  },
  {
   "cell_type": "code",
   "execution_count": 2279,
   "id": "3bdb554e-ab68-47e2-a3f6-089cb0ff9faa",
   "metadata": {},
   "outputs": [
    {
     "name": "stdout",
     "output_type": "stream",
     "text": [
      "[[-20.75         0.24568901  -0.5       ]]\n",
      "[[20.75        0.24568901 -0.5       ]]\n"
     ]
    },
    {
     "data": {
      "image/png": "[encoded data removed]",
      "text/plain": [
       "<Figure size 576x504 with 1 Axes>"
      ]
     },
     "metadata": {
      "needs_background": "light"
     },
     "output_type": "display_data"
    }
   ],
   "source": [
    "plt.figure(figsize = (8, 7))\n",
    "for name, indices in voltage_regions.items():\n",
    "    grid_to_plot = grid_points[indices][:, [0, 1]]\n",
    "    plt.scatter(grid_to_plot[:, 0], grid_to_plot[:, 1], s = 0.5)\n",
    "    \n",
    "for i in range(len(acc_indices)):\n",
    "    to_plot = grid_points[twodeg_grid[[acc_indices[i]]]]\n",
    "    print(to_plot)\n",
    "    plt.scatter(to_plot[0][0], to_plot[0][1]);"
   ]
  },
  {
   "cell_type": "markdown",
   "id": "de423151-a741-4b9c-be02-84443af8f2fd",
   "metadata": {
    "tags": []
   },
   "source": [
    "#### LU decomposition of finite system"
   ]
  },
  {
   "cell_type": "code",
   "execution_count": 14,
   "id": "5edf3a02-e11f-4bdd-bb1c-95145c5788da",
   "metadata": {},
   "outputs": [
    {
     "name": "stdout",
     "output_type": "stream",
     "text": [
      "CPU times: user 3.46 s, sys: 165 ms, total: 3.62 s\n",
      "Wall time: 3.61 s\n"
     ]
    }
   ],
   "source": [
    "%%time\n",
    "\n",
    "linear_problem = linear_problem_instance(poisson_system)"
   ]
  },
  {
   "cell_type": "code",
   "execution_count": 15,
   "id": "a4f674ae-f7c9-4dcb-a135-cd99fc39f458",
   "metadata": {},
   "outputs": [],
   "source": [
    "site_coords, site_indices = discrete_system_coordinates(\n",
    "    poisson_system, [('charge', 'twoDEG')], boundaries=None\n",
    ")\n",
    "\n",
    "crds = site_coords[:, [0, 1]]\n",
    "grid_spacing = grid_spacing_twoDEG\n",
    "offset = crds[0]%grid_spacing"
   ]
  },
  {
   "cell_type": "code",
   "execution_count": 16,
   "id": "ed8029d2-0fdc-44c4-9e29-78faf2567e67",
   "metadata": {},
   "outputs": [],
   "source": [
    "grid_points= poisson_system.grid.points"
   ]
  },
  {
   "cell_type": "code",
   "execution_count": 17,
   "id": "3668b7e3-0156-470d-bf23-f939b1ecc51c",
   "metadata": {},
   "outputs": [],
   "source": [
    "charge_regions = poisson_system.regions.charge.tag_points"
   ]
  },
  {
   "cell_type": "code",
   "execution_count": 18,
   "id": "2fc2d033-acf5-4995-a73a-a29b7dc2a4fa",
   "metadata": {},
   "outputs": [],
   "source": [
    "voltage_regions = poisson_system.regions.voltage.tag_points\n",
    "regions_to_add = []\n",
    "for region in voltage_regions.keys():\n",
    "    if region not in ['dirichlet_0', 'dirichlet_1', 'dirichlet_2', 'dirichlet_3']:\n",
    "        regions_to_add.append(('voltage', region))\n",
    "for region in charge_regions.keys():\n",
    "    # if region not in ['air']:\n",
    "    regions_to_add.append(('charge', region))"
   ]
  },
  {
   "cell_type": "markdown",
   "id": "c76b36e7-d5c2-4c68-a523-03ce7eb9b16c",
   "metadata": {
    "tags": []
   },
   "source": [
    "#### Verify the potential"
   ]
  },
  {
   "cell_type": "code",
   "execution_count": 19,
   "id": "9301aa7a-da8f-494c-a6a7-e9e4fbac7831",
   "metadata": {},
   "outputs": [],
   "source": [
    "voltage_regions = list(poisson_system.regions.voltage.tag_points.keys())"
   ]
  },
  {
   "cell_type": "code",
   "execution_count": 20,
   "id": "474f9f9f-d7c3-4c4b-8237-30f4a14715e0",
   "metadata": {
    "tags": []
   },
   "outputs": [],
   "source": [
    "depleted = -1e-3\n",
    "acumulate = 4e-3\n",
    "\n",
    "def voltage_dict(depleted, acumulate):\n",
    "    voltages = {}\n",
    "\n",
    "    voltages['left_1'] = depleted\n",
    "    voltages['left_2'] = depleted\n",
    "\n",
    "    voltages['right_1'] = depleted\n",
    "    voltages['right_2'] = depleted\n",
    "\n",
    "    voltages['top_1'] = depleted\n",
    "    voltages['top_2'] = depleted\n",
    "\n",
    "    voltages['global_accumul'] = acumulate\n",
    "\n",
    "    return voltages"
   ]
  },
  {
   "cell_type": "code",
   "execution_count": 21,
   "id": "6e094c06-7a26-4f82-911a-6c633215c2a1",
   "metadata": {},
   "outputs": [],
   "source": [
    "voltages = voltage_dict(depleted, acumulate)"
   ]
  },
  {
   "cell_type": "code",
   "execution_count": 22,
   "id": "76b4264a-2f45-4f80-a593-7b619909d74a",
   "metadata": {},
   "outputs": [
    {
     "name": "stdout",
     "output_type": "stream",
     "text": [
      "CPU times: user 468 ms, sys: 3.99 ms, total: 472 ms\n",
      "Wall time: 471 ms\n"
     ]
    }
   ],
   "source": [
    "%%time\n",
    "\n",
    "charges = {}\n",
    "clean_potential = gate_potential(\n",
    "        poisson_system,\n",
    "        linear_problem,\n",
    "        site_coords[:, [0, 1]],\n",
    "        site_indices,\n",
    "        voltages,\n",
    "        charges,\n",
    "        offset=offset,\n",
    "        grid_spacing=a\n",
    "    )"
   ]
  },
  {
   "cell_type": "code",
   "execution_count": 23,
   "id": "f0356e5f-48ea-4b83-89c3-45e815c6e501",
   "metadata": {},
   "outputs": [],
   "source": [
    "coordinates = np.array(list(clean_potential.keys()))\n",
    "\n",
    "x = coordinates[:, 0]\n",
    "y = coordinates[:, 1]\n",
    "width_plot = np.unique(x).shape[0]\n",
    "X = x.reshape(width_plot, -1) / a\n",
    "Y = y.reshape(width_plot, -1) / a\n",
    "Z = np.round(np.array(list(clean_potential.values())).reshape(width_plot, -1) * -1, 4)"
   ]
  },
  {
   "cell_type": "code",
   "execution_count": 24,
   "id": "a60316fe-4e70-4be6-a72b-6c3de6bda1d6",
   "metadata": {},
   "outputs": [
    {
     "data": {
      "image/png": "[encoded data removed]",
      "text/plain": [
       "<Figure size 432x288 with 2 Axes>"
      ]
     },
     "metadata": {
      "needs_background": "light"
     },
     "output_type": "display_data"
    }
   ],
   "source": [
    "plt.figure()\n",
    "plt.imshow(np.rot90(Z), extent = (xmin, xmax, ymin, ymax), cmap = 'magma_r')\n",
    "plt.colorbar();"
   ]
  },
  {
   "cell_type": "code",
   "execution_count": 25,
   "id": "35c61ebd-f860-405b-9fd4-6a316836abfb",
   "metadata": {},
   "outputs": [
    {
     "data": {
      "text/plain": [
       "Text(0.5, 1.0, 'V(x,y) - V(-x,y)')"
      ]
     },
     "execution_count": 25,
     "metadata": {},
     "output_type": "execute_result"
    },
    {
     "data": {
      "image/png": "[encoded data removed]",
      "text/plain": [
       "<Figure size 432x288 with 2 Axes>"
      ]
     },
     "metadata": {
      "needs_background": "light"
     },
     "output_type": "display_data"
    }
   ],
   "source": [
    "plt.imshow((np.rot90(Z[::-1,:])-np.rot90(Z)), extent = (xmin, xmax, ymin, ymax), cmap = 'magma_r')\n",
    "plt.colorbar()\n",
    "plt.xlabel(\"x\")\n",
    "plt.ylabel(\"y\")\n",
    "plt.title(\"V(x,y) - V(-x,y)\")"
   ]
  },
  {
   "cell_type": "markdown",
   "id": "c7d78e53-151f-4830-9d4c-6bffcd270d08",
   "metadata": {
    "tags": []
   },
   "source": [
    "#### Build kwant object"
   ]
  },
  {
   "cell_type": "code",
   "execution_count": 834,
   "id": "30fb891e-7663-428d-bc69-d2c055b7eecb",
   "metadata": {},
   "outputs": [],
   "source": [
    "# Build kwant system\n",
    "\n",
    "R_a = R*a\n",
    "width_a = width*a\n",
    "l = 150 * a\n",
    "w = 7 * a\n",
    "boundaries = [xmin, xmax, ymin, ymax, min(grid_points[:, 2]), max(grid_points[:, 2])]\n",
    "boundaries = np.array(boundaries) * a\n",
    "\n",
    "geometry ={'nw_l': l, 'nw_w': w,\n",
    "           's_w': boundaries[1] - boundaries[0],\n",
    "           's_l': boundaries[3] - boundaries[2],\n",
    "           'centers':[[-R_a+width_a/np.sqrt(2), 0],\n",
    "                      [-(-R_a+width_a/np.sqrt(2)), 0], \n",
    "                      [0,boundaries[3]+l-a]\n",
    "                     ]\n",
    "          }"
   ]
  },
  {
   "cell_type": "raw",
   "id": "4a738fee-06ac-4c57-b525-e0beb4d95652",
   "metadata": {},
   "source": [
    "import importlib\n",
    "import ccode.parameters\n",
    "importlib.reload(ccode.parameters)"
   ]
  },
  {
   "cell_type": "code",
   "execution_count": 836,
   "id": "478ade4b-03de-4090-be96-9f5b8cf2fa13",
   "metadata": {},
   "outputs": [
    {
     "name": "stdout",
     "output_type": "stream",
     "text": [
      "CPU times: user 288 ms, sys: 8.03 ms, total: 296 ms\n",
      "Wall time: 292 ms\n"
     ]
    }
   ],
   "source": [
    "%%time\n",
    "\n",
    "trijunction, f_params = finite_system(**geometry)\n",
    "trijunction = trijunction.finalized()"
   ]
  },
  {
   "cell_type": "code",
   "execution_count": 837,
   "id": "30e1531e-3dbb-42b7-a6ab-71c1dd45640a",
   "metadata": {},
   "outputs": [
    {
     "data": {
      "image/png": "[encoded data removed]",
      "text/plain": [
       "<Figure size 432x288 with 1 Axes>"
      ]
     },
     "metadata": {
      "needs_background": "light"
     },
     "output_type": "display_data"
    }
   ],
   "source": [
    "fig, ax = plt.subplots()\n",
    "kwant.plot(trijunction, ax=ax, lead_site_size = 4)\n",
    "ax.set_ylim(-10*a, boundaries[3]+10*a)\n",
    "grid_points = poisson_system.grid.points\n",
    "voltage_regions = poisson_system.regions.voltage.tag_points\n",
    "\n",
    "# for name, indices in voltage_regions.items():\n",
    "#     if name not in ['global_accumul']:\n",
    "#         grid_to_plot = a*grid_points[indices][:, [0, 1]]\n",
    "#         ax.scatter(grid_to_plot[:, 0], grid_to_plot[:, 1], s = 0.5)\n"
   ]
  },
  {
   "cell_type": "raw",
   "id": "348c1da5-48bb-4d73-acbf-eefe662e39f9",
   "metadata": {},
   "source": [
    "np.unique(grid_points[voltage_regions['global_accumul']][:, 1])"
   ]
  },
  {
   "cell_type": "code",
   "execution_count": 838,
   "id": "faff8ec2-b377-4873-8d32-0fd364755446",
   "metadata": {},
   "outputs": [],
   "source": [
    "import pickle"
   ]
  },
  {
   "cell_type": "code",
   "execution_count": 839,
   "id": "a13c95f1-4f38-4302-8c12-9f801497e942",
   "metadata": {},
   "outputs": [],
   "source": [
    "with open(\"/home/tinkerer/trijunction-design/data/optimal_phase.pkl\", 'rb') as infile:\n",
    "    optimal_phase = pickle.load(infile)"
   ]
  },
  {
   "cell_type": "code",
   "execution_count": 840,
   "id": "919de707-d180-48b8-a118-f9ae467dc020",
   "metadata": {},
   "outputs": [],
   "source": [
    "optimal_phase = optimal_phase * np.pi"
   ]
  },
  {
   "cell_type": "markdown",
   "id": "3593767c-f931-4537-b003-7ea5e4870b3b",
   "metadata": {
    "jp-MarkdownHeadingCollapsed": true,
    "tags": []
   },
   "source": [
    "#### Optimal phases"
   ]
  },
  {
   "cell_type": "code",
   "execution_count": 2960,
   "id": "6d400ccc-4c24-4a12-a38f-b08710418df8",
   "metadata": {},
   "outputs": [],
   "source": [
    "voltages = {'left_1': -5e-3, \n",
    "            'left_2': -5e-3,\n",
    "            'right_1': -5e-3,\n",
    "            'right_2': -5e-3,\n",
    "            'top_1' : -18e-3,\n",
    "            'top_2' : -18e-3,\n",
    "            'global_accumul': 35e-3}"
   ]
  },
  {
   "cell_type": "code",
   "execution_count": 2961,
   "id": "54d43605-c424-4af6-9eb1-6a6c20ab43b4",
   "metadata": {},
   "outputs": [],
   "source": [
    "potential = gate_potential(\n",
    "        poisson_system,\n",
    "        linear_problem,\n",
    "        site_coords[:, [0, 1]],\n",
    "        site_indices,\n",
    "        voltages,\n",
    "        charges,\n",
    "        offset=offset[[0, 1]],\n",
    "        grid_spacing=a\n",
    "    )"
   ]
  },
  {
   "cell_type": "code",
   "execution_count": 2962,
   "id": "dc159266-5f20-421c-bec1-22d061e811de",
   "metadata": {},
   "outputs": [],
   "source": [
    "mu = pm.bands[0]\n",
    "params = pm.junction_parameters(m_nw=[mu, mu, mu], m_qd=0)"
   ]
  },
  {
   "cell_type": "code",
   "execution_count": 2963,
   "id": "e9ddeae3-a0d1-4443-8596-dcc7cb323d73",
   "metadata": {},
   "outputs": [],
   "source": [
    "params.update(potential=potential)"
   ]
  },
  {
   "cell_type": "code",
   "execution_count": 2964,
   "id": "7fb1d3fb-5a7b-41da-9b9c-5efba59af41a",
   "metadata": {},
   "outputs": [
    {
     "data": {
      "text/plain": [
       "(-1e-07, 9e-07)"
      ]
     },
     "execution_count": 2964,
     "metadata": {},
     "output_type": "execute_result"
    },
    {
     "data": {
      "image/png": "[encoded data removed]",
      "text/plain": [
       "<Figure size 432x288 with 1 Axes>"
      ]
     },
     "metadata": {
      "needs_background": "light"
     },
     "output_type": "display_data"
    }
   ],
   "source": [
    "mu = pm.bands[0]\n",
    "params = pm.junction_parameters(m_nw=[mu, mu, mu], m_qd=0)\n",
    "params.update(potential=potential)\n",
    "f_mu = f_params(**params)['mu']\n",
    "\n",
    "def plot_f_mu(i):\n",
    "    x, y = trijunction.sites[i].pos\n",
    "    return f_mu(x, y)\n",
    "\n",
    "fig, ax = plt.subplots()\n",
    "kwant.plotter.map(trijunction, plot_f_mu, ax=ax)\n",
    "ax.set_ylim(-1e-7, 9e-7)"
   ]
  },
  {
   "cell_type": "code",
   "execution_count": 2965,
   "id": "e2161107-ee4a-48d9-a445-63fb639c5bdb",
   "metadata": {},
   "outputs": [],
   "source": [
    "solver = sl.general_solver(geometries=[[trijunction, f_params]],\n",
    "                           n=20,\n",
    "                           base_parameters=params,\n",
    "                           eigenvecs=False)\n",
    "\n",
    "\n",
    "def wrap(arg):\n",
    "    return solver(*arg)"
   ]
  },
  {
   "cell_type": "code",
   "execution_count": 2966,
   "id": "e8aabe13-d91f-469b-986e-681af133407e",
   "metadata": {},
   "outputs": [],
   "source": [
    "args = list(it.product([0],pm.phase_params()))\n",
    "args_db = db.from_sequence(args)"
   ]
  },
  {
   "cell_type": "code",
   "execution_count": 2967,
   "id": "22cd555c-9848-49e4-a6f1-db338d62cf00",
   "metadata": {},
   "outputs": [
    {
     "name": "stdout",
     "output_type": "stream",
     "text": [
      "http://io.quantumtinkerer.tudelft.nl/user/srangaswamykup/proxy/8000/clusters/bd37de3ea7124641b88c3d547eef6116/status\n",
      "CPU times: user 20.5 s, sys: 478 ms, total: 21 s\n",
      "Wall time: 2min 17s\n"
     ]
    }
   ],
   "source": [
    "%%time\n",
    "with Cluster(options) as cluster:\n",
    "    cluster.scale(10)\n",
    "    client = cluster.get_client()\n",
    "    print(\"http://io.quantumtinkerer.tudelft.nl/user/srangaswamykup/proxy/\"+cluster.dashboard_link[17:])\n",
    "    result = args_db.map(wrap).compute()"
   ]
  },
  {
   "cell_type": "code",
   "execution_count": 2968,
   "id": "ce52de8a-9222-42a4-8680-da2be9797c91",
   "metadata": {},
   "outputs": [],
   "source": [
    "spectra, couplings, wfs, peaks, widths = tl.coupling_data(result, n=20)"
   ]
  },
  {
   "cell_type": "code",
   "execution_count": 2974,
   "id": "a86d5f73-6f6a-4a2d-a961-5d3e641cdc3f",
   "metadata": {},
   "outputs": [],
   "source": [
    "peaks[1] = peaks[1][:1]"
   ]
  },
  {
   "cell_type": "code",
   "execution_count": 2976,
   "id": "873628a4-a499-44ad-941d-424478c03a46",
   "metadata": {},
   "outputs": [],
   "source": [
    "phis = np.linspace(0, 2, 100)\n",
    "max_phis = phis[np.array(peaks).flatten()]"
   ]
  },
  {
   "cell_type": "code",
   "execution_count": 2977,
   "id": "9bec1ca8-a192-4e2c-a0bf-cb6d99a98afe",
   "metadata": {},
   "outputs": [
    {
     "data": {
      "text/plain": [
       "Text(81.0, 0.5, '$E[\\\\mu eV]$')"
      ]
     },
     "execution_count": 2977,
     "metadata": {},
     "output_type": "execute_result"
    },
    {
     "data": {
      "image/png": "[encoded data removed]",
      "text/plain": [
       "<Figure size 864x288 with 3 Axes>"
      ]
     },
     "metadata": {
      "needs_background": "light"
     },
     "output_type": "display_data"
    }
   ],
   "source": [
    "titles = ['LR', 'CR', 'LC']\n",
    "fig, ax = plt.subplots(ncols=3, figsize=(12, 4))\n",
    "fig.tight_layout(w_pad=3)\n",
    "phis = np.linspace(0, 2, 100)\n",
    "for i in range(3):\n",
    "    for level in spectra[i].T:\n",
    "        ax[i].plot(phis, 1e6*level, c='black')\n",
    "    ax[i].plot(phis, 1e6*couplings[i])\n",
    "    ax[i].plot(phis, -1e6*couplings[i])\n",
    "    ax[i].vlines(x=max_phis[i], ymin=-100, ymax=100)\n",
    "    ax[i].set_xlabel(r'$\\phi_{ij}$')\n",
    "    ax[i].set_title(titles[i])\n",
    "ax[0].set_ylabel(r'$E[\\mu eV]$')"
   ]
  },
  {
   "cell_type": "code",
   "execution_count": 2978,
   "id": "af40a62a-5d2f-4896-82fd-5955c3b65674",
   "metadata": {},
   "outputs": [
    {
     "data": {
      "text/plain": [
       "5.267721015110158"
      ]
     },
     "execution_count": 2978,
     "metadata": {},
     "output_type": "execute_result"
    }
   ],
   "source": [
    "max_phis[2] * np.pi"
   ]
  },
  {
   "cell_type": "code",
   "execution_count": 2980,
   "id": "b273ac33-d728-44f9-8f1f-fa2e6281dbac",
   "metadata": {},
   "outputs": [
    {
     "data": {
      "text/plain": [
       "3.046392876208284"
      ]
     },
     "execution_count": 2980,
     "metadata": {},
     "output_type": "execute_result"
    }
   ],
   "source": [
    "optimal_phase[1]"
   ]
  },
  {
   "cell_type": "raw",
   "id": "5ee7f224-2a7d-41ed-a0c6-2e70961b51d6",
   "metadata": {},
   "source": [
    "optimal_phase = np.zeros((3, ))"
   ]
  },
  {
   "cell_type": "code",
   "execution_count": 2812,
   "id": "556ba4d0-631f-4879-b4ba-1cc7d2f09ecd",
   "metadata": {},
   "outputs": [],
   "source": [
    "optimal_phase[0] = max_phis[0] "
   ]
  },
  {
   "cell_type": "code",
   "execution_count": 2826,
   "id": "8163e1cb-ca1e-4380-94b0-c3e83da65892",
   "metadata": {},
   "outputs": [],
   "source": [
    "optimal_phase[1] = max_phis[2] * np.pi"
   ]
  },
  {
   "cell_type": "code",
   "execution_count": 2827,
   "id": "92f41cb1-dd14-4cfb-9b7a-2ee6c6cf8e33",
   "metadata": {},
   "outputs": [
    {
     "data": {
      "text/plain": [
       "array([5.26772102, 3.04639288, 3.17332591])"
      ]
     },
     "execution_count": 2827,
     "metadata": {},
     "output_type": "execute_result"
    }
   ],
   "source": [
    "optimal_phase"
   ]
  },
  {
   "cell_type": "markdown",
   "id": "0a653e62-28a9-43c1-b679-e2cdae0624fe",
   "metadata": {
    "tags": []
   },
   "source": [
    "#### Optimize gate voltages"
   ]
  },
  {
   "cell_type": "code",
   "execution_count": 841,
   "id": "af7ddb30-3f81-4f97-bbd1-05f0efe9af6d",
   "metadata": {},
   "outputs": [],
   "source": [
    "from scipy import sparse"
   ]
  },
  {
   "cell_type": "code",
   "execution_count": 842,
   "id": "988eb790-7662-4cd8-bcb1-223a7db7a156",
   "metadata": {},
   "outputs": [],
   "source": [
    "poisson_params = {\n",
    "    'poisson_system': poisson_system,\n",
    "    'linear_problem': linear_problem,\n",
    "    'site_coords': site_coords,\n",
    "    'site_indices': site_indices,\n",
    "}    \n",
    "\n",
    "crds = site_coords\n",
    "grid_spacing = grid_spacing_twoDEG\n",
    "offset = crds[0]%grid_spacing\n",
    "\n",
    "kwant_params = {\n",
    "    'offset': offset,\n",
    "    'grid_spacing': a,\n",
    "    'finite_system_object': trijunction,\n",
    "    'finite_system_params_object': f_params,\n",
    "    \n",
    "}\n"
   ]
  },
  {
   "cell_type": "code",
   "execution_count": 843,
   "id": "65f31a56-6bdd-407e-9658-a55a8530c680",
   "metadata": {},
   "outputs": [],
   "source": [
    "def spectrum_f_voltages(\n",
    "    kwant_params,\n",
    "    general_params,\n",
    "    potential,\n",
    "    no_of_eigenvalues = 6,\n",
    "    return_eigenvecs = False,\n",
    "    phis = [0, 0],    \n",
    "):\n",
    "    kp = kwant_params\n",
    "    \n",
    "    general_params.update(potential=potential)\n",
    "    \n",
    "\n",
    "    general_params['phi1'] = phis[0]\n",
    "    general_params['phi2'] = phis[1]\n",
    "    \n",
    "    ham_mat = kp['finite_system_object'].hamiltonian_submatrix(\n",
    "        sparse=True, params=kp['finite_system_params_object'](**general_params))\n",
    "    \n",
    "    if return_eigenvecs:\n",
    "        evals, evecs = sl.sort_eigen(sparse.linalg.eigsh(ham_mat.tocsc(), k=no_of_eigenvalues, sigma = 0))\n",
    "        \n",
    "        return evals, evecs\n",
    "    else:\n",
    "        evals = np.sort(\n",
    "            sparse.linalg.eigsh(ham_mat.tocsc(), k = no_of_eigenvalues, sigma = 0,\n",
    "                                return_eigenvectors = return_eigenvecs)\n",
    "        )\n",
    "        evecs = []\n",
    "        \n",
    "        return evals"
   ]
  },
  {
   "cell_type": "code",
   "execution_count": 40,
   "id": "480a88b5-43a2-4e42-a48a-df2fc37eaf66",
   "metadata": {},
   "outputs": [],
   "source": [
    "voltage_dict = {'left' : -0.0026, \n",
    "                'right' : -0.0028, \n",
    "                'top' : -0.0024, \n",
    "                'back' : 0.00045}"
   ]
  },
  {
   "cell_type": "code",
   "execution_count": 844,
   "id": "a07cb3ed-7a12-43da-885a-c1673a209acf",
   "metadata": {},
   "outputs": [],
   "source": [
    "for i in range(1, 3):\n",
    "    voltages['left_'+str(i)] = voltage_dict['left']\n",
    "    voltages['right_'+str(i)] = voltage_dict['right']\n",
    "    voltages['top_'+str(i)] = voltage_dict['top']\n",
    "    \n",
    "voltages['global_accumul'] = voltage_dict['back']"
   ]
  },
  {
   "cell_type": "code",
   "execution_count": 845,
   "id": "d70db3e5-c97e-465e-b9ec-b2286af2cde5",
   "metadata": {},
   "outputs": [],
   "source": [
    "centers = np.array(geometry['centers']) / a\n",
    "nw_l = geometry['nw_l'] / a\n",
    "nw_w = geometry['nw_w'] / a\n",
    "\n",
    "depletion_regions  = {'left': np.array(((centers[0][0] - nw_w /2, centers[0][1]),\n",
    "                              (centers[0][0] + nw_w /2, centers[0][1])), dtype = 'float32'),\n",
    "                      'right': np.array(((centers[1][0] - nw_w /2, centers[1][1]),\n",
    "                               (centers[1][0] + nw_w /2, centers[1][1])), dtype = 'float32'),\n",
    "                     'top':   np.array(((centers[2][0] - nw_w /2, centers[2][1] - nw_l),\n",
    "                              (centers[2][0] + nw_w /2, centers[2][1] - nw_l)), dtype = 'float32')}"
   ]
  },
  {
   "cell_type": "code",
   "execution_count": 846,
   "id": "61d7389a-42d0-40bb-9f62-a99691e4220e",
   "metadata": {},
   "outputs": [],
   "source": [
    "grid = poisson_system.grid.points.astype('float32')"
   ]
  },
  {
   "cell_type": "code",
   "execution_count": 847,
   "id": "bcc84abb-49a4-4e31-9835-8c9158b0357f",
   "metadata": {},
   "outputs": [],
   "source": [
    "voltage_regions = poisson_system.regions.voltage.tag_points"
   ]
  },
  {
   "cell_type": "code",
   "execution_count": 848,
   "id": "d15c221e-2998-4f20-ab9f-8d8d57512bad",
   "metadata": {},
   "outputs": [],
   "source": [
    "twodeg_grid = site_indices\n",
    "twodeg_grid_monolayer = twodeg_grid[grid[twodeg_grid][:, 2] == np.unique(grid[twodeg_grid][:, 2])[0]]"
   ]
  },
  {
   "cell_type": "code",
   "execution_count": 849,
   "id": "a4424fef-ccb5-4aed-92af-e59cbb3b1bc3",
   "metadata": {},
   "outputs": [],
   "source": [
    "def depletion_points(grid, monolayer, boundary):\n",
    "    Y = np.argmin(np.abs((grid[monolayer][:, 1] - boundary[0, 1])))\n",
    "    X = grid[monolayer][:, 1] == grid[monolayer[Y]][1]\n",
    "    point_indices = np.multiply(grid[monolayer[X]][:, 0] > boundary[0, 0], \n",
    "                                grid[monolayer[X]][:, 0] < boundary[1, 0])\n",
    "    \n",
    "    return monolayer[X][point_indices]"
   ]
  },
  {
   "cell_type": "code",
   "execution_count": 850,
   "id": "8f4722e8-9323-425a-9be5-349f51464387",
   "metadata": {},
   "outputs": [],
   "source": [
    "def closest_node(node, nodes):\n",
    "    \"\"\"Euclidean distance between a node and array of nodes\"\"\"\n",
    "    nodes = np.asarray(nodes)\n",
    "    dist = np.sum((nodes - node)**2, axis=1)\n",
    "    return np.argmin(dist)"
   ]
  },
  {
   "cell_type": "code",
   "execution_count": 3015,
   "id": "868eb4b2-7a22-46b7-996b-1193f6feb452",
   "metadata": {},
   "outputs": [],
   "source": [
    "dep_indices = {}\n",
    "acc_indices = {}\n",
    "for gate in ['left_1', 'left_2', 'right_1', 'right_2', 'top_1', 'top_2']:\n",
    "    indices = voltage_regions[gate]\n",
    "    center = Polygon(grid_points[indices][:, [0, 1]]).centroid.coords\n",
    "    closest_coord_index = closest_node(list(center)[0], \n",
    "                                       grid_points[twodeg_grid][:, [0, 1]])\n",
    "    dep_indices[gate] = [closest_coord_index]\n",
    "\n",
    "nw_centers = {}\n",
    "nw_centers['left'] = np.array(geometry['centers'][0])/a\n",
    "nw_centers['right'] = np.array(geometry['centers'][1])/a\n",
    "nw_centers['top'] = np.array(geometry['centers'][2])\n",
    "nw_centers['top'][1] -= l\n",
    "nw_centers['top'][1] /= a\n",
    "\n",
    "for gate in ['left']:\n",
    "    closest_coord_index = closest_node(nw_centers[gate], grid_points[twodeg_grid][:, [0, 1]])\n",
    "    dep_indices[gate] = [closest_coord_index]\n",
    "    \n",
    "for gate in ['right', 'top']:\n",
    "    closest_coord_index = closest_node(nw_centers[gate], grid_points[twodeg_grid][:, [0, 1]])\n",
    "    acc_indices[gate] = [closest_coord_index]"
   ]
  },
  {
   "cell_type": "raw",
   "id": "1f167eaa-e7c5-4dfb-8da3-878fbb499797",
   "metadata": {},
   "source": [
    "dep_indices = np.hstack(list(dep_indices.values()))\n",
    "acc_indices = np.hstack(list(acc_indices.values()))"
   ]
  },
  {
   "cell_type": "code",
   "execution_count": 3023,
   "id": "a89847c9-5050-4671-9c83-0cf66f0cf342",
   "metadata": {},
   "outputs": [],
   "source": [
    "depletion = np.array([[dep_indices['right_1'], dep_indices['right_2']],\n",
    "             [dep_indices['top_1'], dep_indices['top_2']],\n",
    "             [dep_indices['left_1'], dep_indices['left_2']],\n",
    "             ])\n",
    "\n",
    "uniform = []\n",
    "\n",
    "accumulation = [[acc_indices['right']], [acc_indices['top']]]"
   ]
  },
  {
   "cell_type": "raw",
   "id": "69ef268a-8ca9-4456-ba03-b02f65b05baf",
   "metadata": {},
   "source": [
    "from itertools import product"
   ]
  },
  {
   "cell_type": "code",
   "execution_count": 3017,
   "id": "1215d5d2-0069-4dd9-ba87-f1f5d028d8dc",
   "metadata": {},
   "outputs": [],
   "source": [
    "def left(site):\n",
    "    x, y = site.pos\n",
    "    return x < 0\n",
    "leftop = Density(trijunction, onsite = np.eye(4), where = left, sum = True)\n",
    "\n",
    "def right(site):\n",
    "    x, y = site.pos\n",
    "    return x > 0\n",
    "rightop = Density(trijunction, onsite = np.eye(4), where = right, sum = True)\n",
    "\n",
    "def top(site):\n",
    "    x, y = site.pos\n",
    "    return y > 0\n",
    "topop = Density(trijunction, onsite = np.eye(4), where = top, sum = True)"
   ]
  },
  {
   "cell_type": "code",
   "execution_count": 3018,
   "id": "4a21a210-05f9-4b39-bbbc-a40973f7ec17",
   "metadata": {},
   "outputs": [],
   "source": [
    "from utility import gather_data"
   ]
  },
  {
   "cell_type": "code",
   "execution_count": 3019,
   "id": "2f451967-e7ab-4a8e-b6eb-430723f250aa",
   "metadata": {},
   "outputs": [],
   "source": [
    "def gate_tuner(x, *argv):\n",
    "    \n",
    "    voltages = {}\n",
    "    \n",
    "    voltages['left_1'] = x[0]\n",
    "    voltages['left_2'] = voltages['left_1']\n",
    "    voltages['right_1'] = x[1]\n",
    "    voltages['right_2'] = voltages['right_1']\n",
    "    voltages['top_1'] = x[2]\n",
    "    voltages['top_2'] = voltages['top_1']\n",
    "    voltages['global_accumul'] = x[3]\n",
    "    \n",
    "    poisson_params, kwant_params, general_params,  = argv[:3]\n",
    "    dep_points, acc_points, coupled_pair, uncoupled_pairs  = argv[3:7]\n",
    "    base_hamiltonian, linear_hamiltonian = argv[7:9]\n",
    "    mlwf = argv[9]\n",
    "    uniform = argv[10]\n",
    "    \n",
    "    \n",
    "    pp = poisson_params\n",
    "    kp = kwant_params\n",
    "    \n",
    "    charges = {}\n",
    "    potential = gate_potential(\n",
    "            pp['poisson_system'],\n",
    "            pp['linear_problem'],\n",
    "            pp['site_coords'],\n",
    "            pp['site_indices'],\n",
    "            voltages,\n",
    "            charges,\n",
    "            offset = kp['offset'],\n",
    "            grid_spacing = kp['grid_spacing']\n",
    "        )\n",
    "    \n",
    "    potential.update((x, y*-1) for x, y in potential.items())\n",
    "    \n",
    "    \n",
    "    potential_array = np.array(list(potential.values()))\n",
    "    \n",
    "    \n",
    "    dep_acc_cost = []\n",
    "    \n",
    "    barrier_height = []\n",
    "    \n",
    "    for i, _ in enumerate(acc_points):\n",
    "        dep_potential = potential_array[np.hstack(dep_points[i])]\n",
    "        acc_potential = potential_array[acc_points[i]]\n",
    "        \n",
    "        if acc_potential > general_params['mus_nw'][0]:\n",
    "            dep_acc_cost.append(np.abs(acc_potential - general_params['mus_nw'][0]))\n",
    "            \n",
    "        if np.any(dep_potential < acc_potential):\n",
    "            dep_acc_cost.append(np.abs(dep_potential[np.where(dep_potential < acc_potential)] -\\\n",
    "                                           acc_potential))\n",
    "            \n",
    "        # barrier_height.append(sum(np.abs(dep_potential - acc_potential)))\n",
    "    \n",
    "    \n",
    "    if len(dep_points) > len(acc_points):\n",
    "        dep_potential = potential_array[np.hstack(dep_points[-1])]\n",
    "        \n",
    "        if np.any(dep_potential < general_params['mus_nw'][0]):\n",
    "            dep_acc_cost.append(np.abs(dep_potential[np.where(dep_potential < general_params['mus_nw'][0])] -\\\n",
    "                                           general_params['mus_nw'][0]))\n",
    "    \n",
    "    coupling_cost = 0.0\n",
    "    \n",
    "    if len(dep_acc_cost):\n",
    "        # print(dep_acc_cost)\n",
    "        return sum(np.hstack(dep_acc_cost))\n",
    "    else:\n",
    "        uniformity = 0.0\n",
    "        if len(uniform):\n",
    "            uniformity = np.abs(potential_array[uniform[0]] - potential_array[uniform[1]])\n",
    "        \n",
    "        summed_ham = sum(\n",
    "            [\n",
    "                linear_ham[key] * voltages[key]\n",
    "                for key, value in linear_ham.items()\n",
    "            ]\n",
    "        )\n",
    "\n",
    "        tight_binding_hamiltonian = base_hamiltonian + summed_ham\n",
    "\n",
    "\n",
    "        eigval, eigvec = sl.sort_eigen(sparse.linalg.eigsh(tight_binding_hamiltonian.tocsc(), \n",
    "                                                           k=6, sigma = 0))\n",
    "\n",
    "#         fig, ax = plt.subplots(1, 6, figsize = (10, 5), sharey= True)\n",
    "#         for i in range(6):\n",
    "#             kwant.plotter.density(trijunction, density(eigvec[i]), ax = ax[i]);\n",
    "\n",
    "#         filepath = '/home/tinkerer/trijunction-design/data/optimization/'\n",
    "#         seed = gather_data(filepath)\n",
    "\n",
    "#         if \".ipynb_checkpoints\" in seed:\n",
    "#             os.system(\"rm -rf .ipynb_checkpoints\")\n",
    "\n",
    "#         if len(seed):\n",
    "#             file_name = filepath + \"plt_\" + str(max(seed) + 1) + \"_.png\"\n",
    "#         else:\n",
    "#             file_name = filepath + \"plt_\" + str(0) + \"_.png\"\n",
    "\n",
    "#         plt.savefig(file_name, format=\"png\", bbox_inches=\"tight\", pad_inches=0.0)\n",
    "\n",
    "#         plt.close()\n",
    "\n",
    "\n",
    "\n",
    "        lowest_e_indices = np.argsort(np.abs(eigval))[: 6]\n",
    "        lowest_e_energies = eigval[lowest_e_indices]\n",
    "        coupled_states = eigvec.T[:, lowest_e_indices].T\n",
    "\n",
    "        # Overlap matrix\n",
    "        decoupled_states = mlwf\n",
    "        S = coupled_states @ decoupled_states.T.conj()\n",
    "\n",
    "        # Unitary matrix using SVD\n",
    "        U, _, Vh = svd(S)\n",
    "        S_prime = U @ Vh\n",
    "\n",
    "        # Transform coupled Hamiltonian to Majorana basis\n",
    "        coupled_ham = S_prime.T.conj() @ np.diag(lowest_e_energies) @ S_prime\n",
    "\n",
    "        coupled_ham = coupled_ham[2:5, 2:5]/general_params['Delta']\n",
    "\n",
    "        print(coupled_ham[coupled_pair[0], coupled_pair[1]])\n",
    "\n",
    "\n",
    "        coupled_cost = np.abs(coupled_ham[coupled_pair[0], coupled_pair[1]])\n",
    "\n",
    "\n",
    "        uncoupled_cost = (np.abs(coupled_ham[uncoupled_pairs[0][0], uncoupled_pairs[0][1]]) +\n",
    "                          np.abs(coupled_ham[uncoupled_pairs[1][0], uncoupled_pairs[1][1]]))\n",
    "        \n",
    "        \n",
    "        \n",
    "        return (-1 * coupled_cost) + uncoupled_cost + uniformity"
   ]
  },
  {
   "cell_type": "code",
   "execution_count": 3020,
   "id": "e5f9c4eb-ecfe-4927-b7a9-33d9f8d27e41",
   "metadata": {},
   "outputs": [],
   "source": [
    "mu = pm.bands[0]"
   ]
  },
  {
   "cell_type": "raw",
   "id": "e58377a4-a1dd-45a1-8c2a-37bca5c72a05",
   "metadata": {},
   "source": [
    "params = pm.junction_parameters(m_nw=[mu, mu, mu], m_qd=0)"
   ]
  },
  {
   "cell_type": "code",
   "execution_count": 3025,
   "id": "ee3a1f6e-331b-4663-8740-5b4385cf25e5",
   "metadata": {},
   "outputs": [],
   "source": [
    "coupled_pairs = [1, 2] # 0: left, 1: right, 2: top\n",
    "uncoupled_pairs = [[0, 1], [0, 2]]\n",
    "args = (poisson_params, kwant_params, params, \n",
    "        depletion, accumulation, coupled_pairs, uncoupled_pairs,\n",
    "        base_hamiltonian, linear_ham,\n",
    "        mlwf, uniform)"
   ]
  },
  {
   "cell_type": "raw",
   "id": "dda2852d-d314-4e79-9dcb-39a004818631",
   "metadata": {},
   "source": [
    "# x = sol1.x\n",
    "initial_condition = sol1.x"
   ]
  },
  {
   "cell_type": "raw",
   "id": "42dc6af5-a218-4aeb-95d0-1c84bbd61046",
   "metadata": {},
   "source": [
    "from utility import gather_data"
   ]
  },
  {
   "cell_type": "raw",
   "id": "550d2b19-ea0e-426b-ae46-44f5b877f735",
   "metadata": {},
   "source": [
    "from math import floor, log10"
   ]
  },
  {
   "cell_type": "raw",
   "id": "a8cf578e-af72-40de-bba4-2daf2046a7ac",
   "metadata": {},
   "source": [
    "x = sol1.x\n",
    "l1, r2 = [x[0]]*2\n",
    "l2, r1 = [x[1]]*2\n",
    "t1, t2 = [x[2]]*2\n",
    "acc = x[3]"
   ]
  },
  {
   "cell_type": "raw",
   "id": "8707e1eb-342f-4e0b-9c5a-13c841e81b1a",
   "metadata": {},
   "source": [
    "\n",
    "bounds = [(-np.inf, l1), (-np.inf, l2), (-np.inf, r1), (-np.inf, r2), (-np.inf, t1), (acc, np.inf)]"
   ]
  },
  {
   "cell_type": "code",
   "execution_count": 3026,
   "id": "f5da7aa2-f4c8-4ee2-8895-2750a59ce55c",
   "metadata": {},
   "outputs": [],
   "source": [
    "initial_condition = [ -0.0037, -0.0014,  -0.0014, 3e-3]"
   ]
  },
  {
   "cell_type": "code",
   "execution_count": 3027,
   "id": "1a80f17e-ce67-421d-8f07-91a805f4f331",
   "metadata": {
    "tags": []
   },
   "outputs": [
    {
     "name": "stdout",
     "output_type": "stream",
     "text": [
      "(0.045436700737680955+0.001162559540931282j)\n",
      "(0.04543632301094377+0.0011625498762827934j)\n",
      "(0.045435098641150744+0.0011625185491234574j)\n",
      "(0.04543567041194002+0.0011625331786519826j)\n",
      "(0.045437505769409726+0.001162580138760814j)\n",
      "| niter |f evals|CG iter|  obj func   |tr radius |   opt    |  c viol  |\n",
      "|-------|-------|-------|-------------|----------|----------|----------|\n",
      "|   1   |   5   |   0   | -4.5223e-02 | 1.00e-03 | 1.07e+02 | 0.00e+00 |\n",
      "(-0.040701012783880004-0.001041390550066419j)\n",
      "(-0.04070144366409834-0.0010414015747483676j)\n",
      "(-0.0407053642995076-0.0010415018895075588j)\n",
      "(-0.04072046464937574-0.001041888252392443j)\n",
      "(-0.04069990436016837-0.0010413621895221585j)\n",
      "|   2   |  10   |   1   | -4.5223e-02 | 5.00e-04 | 1.07e+02 | 0.00e+00 |\n",
      "(-0.07596622516366534-0.0019436987803072095j)\n",
      "(-0.07596611038544043-0.0019436958434006744j)\n",
      "(-0.07596606266797785-0.0019436946225338406j)\n",
      "(-0.0759647039021731-0.0019436598567390986j)\n",
      "(-0.07596653205680555-0.0019437066325493635j)\n",
      "|   3   |  15   |   3   | -7.5434e-02 | 1.48e-03 | 1.02e+02 | 0.00e+00 |\n",
      "(-0.0802591163767838-0.002053538217759811j)\n",
      "(-0.08025905964004289-0.0020535367660753493j)\n",
      "(-0.08025914465807012-0.0020535389413768395j)\n",
      "(-0.08025737845800499-0.002053493750755006j)\n",
      "(-0.08025940616711934-0.0020535456324329384j)\n",
      "|   4   |  20   |   6   | -7.9774e-02 | 1.48e-03 | 1.16e+02 | 0.00e+00 |\n",
      "(0.0376323431668558+0.000962874481954201j)\n",
      "(0.03763191048378929+0.0009628634112209563j)\n",
      "(0.03763135090285619+0.0009628490934396097j)\n",
      "(0.037618522483463875+0.0009625208611209952j)\n",
      "(0.0376331824583062+0.0009628959564412634j)\n",
      "|   5   |  25   |   8   | -7.9774e-02 | 7.41e-04 | 1.16e+02 | 0.00e+00 |\n",
      "(-0.008826165443157912-0.000225829398028237j)\n",
      "(-0.008826948898746587-0.00022584944379761929j)\n",
      "(-0.008836336704014085-0.00022608964350617037j)\n",
      "(-0.008837399587474804-0.00022611683882747002j)\n",
      "(-0.008824862615844328-0.00022579606342483158j)\n",
      "|   6   |  30   |  10   | -7.9774e-02 | 3.15e-04 | 1.16e+02 | 0.00e+00 |\n",
      "(0.09625863615491947+0.0024629076051932855j)\n",
      "(0.09625886132230674+0.0024629133670232336j)\n",
      "(0.09625896272833898+0.0024629159613234154j)\n",
      "(0.09625968674058241+0.0024629344861000343j)\n",
      "(0.09625820142302507+0.0024628964824755764j)\n",
      "|   7   |  35   |  12   | -9.5429e-02 | 6.31e-04 | 6.94e+01 | 0.00e+00 |\n",
      "(0.10091365947203693+0.002582012683183561j)\n",
      "(0.1009139436601382+0.002582019954486594j)\n",
      "(0.10091426360552892+0.0025820281407274532j)\n",
      "(0.10091503890393513+0.0025820479778201283j)\n",
      "(0.1009130102384689+0.0025819960716711022j)\n",
      "|   8   |  40   |  16   | -1.0006e-01 | 6.31e-04 | 9.16e+01 | 0.00e+00 |\n",
      "(0.10890683179623961+0.0027865288253225316j)\n",
      "(0.1089071147012725+0.002786536063830104j)\n",
      "(0.10890759953701074+0.002786548468987983j)\n",
      "(0.10890757692172287+0.002786547890368142j)\n",
      "(0.10890617597141+0.0027865120451566654j)\n",
      "|   9   |  45   |  20   | -1.0807e-01 | 6.31e-04 | 5.13e+01 | 0.00e+00 |\n",
      "(0.05549382888037822+0.001419884788229967j)\n",
      "(0.12704356357977895+0.003250581678689076j)\n",
      "(0.12704356441594192+0.0032505817000881947j)\n",
      "(0.12704356077225984+0.0032505816068801132j)\n",
      "(0.1270436771529376+0.0032505845846191607j)\n",
      "(0.1270435478139545+0.003250581275308996j)\n",
      "|  28   |  140  |  87   | -1.2691e-01 | 9.01e-04 | 7.98e+00 | 0.00e+00 |\n",
      "(0.12705086123052053+0.003250768398970413j)\n",
      "(0.12705085986009063+0.003250768363913166j)\n",
      "(0.127050851682383+0.0032507681546766307j)\n",
      "(0.12705091210563133+0.003250769700695742j)\n",
      "(0.12705085517351458+0.003250768243990648j)\n",
      "|  29   |  145  |  90   | -1.2692e-01 | 9.01e-04 | 3.77e+00 | 0.00e+00 |\n",
      "(0.12705275492082405+0.0032508168516155343j)\n",
      "(0.12705275258033208+0.0032508167917102196j)\n",
      "(0.1270527501139803+0.0032508167286233926j)\n",
      "(0.12705275523891235+0.003250816859743825j)\n",
      "(0.1270527563780658+0.003250816888908704j)\n",
      "|  30   |  150  |  92   | -1.2692e-01 | 9.01e-04 | 3.84e-01 | 0.00e+00 |\n",
      "\n",
      "`gtol` termination condition is satisfied.\n",
      "Number of iterations: 30, function evaluations: 150, CG iterations: 92, optimality: 3.84e-01, constraint violation: 0.00e+00, execution time: 1.9e+02 s.\n",
      "CPU times: user 3min 16s, sys: 2.16 s, total: 3min 18s\n",
      "Wall time: 3min 18s\n"
     ]
    }
   ],
   "source": [
    "%%time\n",
    "\n",
    "sol1 = minimize(\n",
    "            gate_tuner,\n",
    "            initial_condition,\n",
    "            args=args,\n",
    "            # ftol = 1e-3,\n",
    "            # verbose = 2,\n",
    "            # max_nfev= 15\n",
    "    # bounds = bounds,\n",
    "    method = 'trust-constr',\n",
    "            options = {'disp': True, 'verbose': 2,\n",
    "                      'initial_tr_radius': 1e-3, 'gtol': 1e0}\n",
    "        )"
   ]
  },
  {
   "cell_type": "code",
   "execution_count": 2897,
   "id": "b6341df7-bc7e-4385-9af2-86d05ec1f2ee",
   "metadata": {},
   "outputs": [
    {
     "data": {
      "text/plain": [
       "array([5.26772102, 3.04639288, 3.17332591])"
      ]
     },
     "execution_count": 2897,
     "metadata": {},
     "output_type": "execute_result"
    }
   ],
   "source": [
    "optimal_phase"
   ]
  },
  {
   "cell_type": "code",
   "execution_count": 3012,
   "id": "71e6889b-df58-42f3-9b14-ad5563d854a5",
   "metadata": {},
   "outputs": [
    {
     "name": "stderr",
     "output_type": "stream",
     "text": [
      "100%|██████████| 7/7 [00:04<00:00,  1.40it/s]"
     ]
    },
    {
     "name": "stdout",
     "output_type": "stream",
     "text": [
      "CPU times: user 5.71 s, sys: 37 ms, total: 5.74 s\n",
      "Wall time: 5.73 s\n"
     ]
    },
    {
     "name": "stderr",
     "output_type": "stream",
     "text": [
      "\n"
     ]
    }
   ],
   "source": [
    "%%time\n",
    "\n",
    "base_hamiltonian, linear_ham = linear_Hamiltonian(poisson_params, \n",
    "                                                  kwant_params, \n",
    "                                                  params, \n",
    "                                                  list(voltage_regions.keys()),\n",
    "                                                  phis = [0, optimal_phase[2]])"
   ]
  },
  {
   "cell_type": "code",
   "execution_count": 2899,
   "id": "fa59aee7-e25e-4524-97e9-c39a9520d6fd",
   "metadata": {},
   "outputs": [],
   "source": [
    "density = Density(trijunction, np.eye(4))"
   ]
  },
  {
   "cell_type": "code",
   "execution_count": 3043,
   "id": "fffcab4f-d4b3-496c-96cb-0ee97e3849df",
   "metadata": {
    "collapsed": true,
    "jupyter": {
     "outputs_hidden": true
    },
    "tags": []
   },
   "outputs": [
    {
     "data": {
      "text/plain": [
       "{'mus_nw': [0.0023960204649275973,\n",
       "  0.0023960204649275973,\n",
       "  0.0023960204649275973],\n",
       " 'mu_qd': 0,\n",
       " 't': 1.6561134509633838e-18,\n",
       " 'Delta': 0.0005,\n",
       " 'alpha': 3e-11,\n",
       " 'B_x': 0.001,\n",
       " 'phi1': 0,\n",
       " 'phi2': 3.173325912716963,\n",
       " 'sigma': 0,\n",
       " 'a': 1e-08,\n",
       " 'potential': {array([-2.9000000000000003e-07, 0.0]): 0.003852153185678293,\n",
       "  array([-2.9000000000000003e-07, 5e-09]): 0.0039020539340725554,\n",
       "  array([-2.9000000000000003e-07, 1e-08]): 0.003938995149503148,\n",
       "  array([-2.9000000000000003e-07, 1.5000000000000002e-08]): 0.003972686381829467,\n",
       "  array([-2.9000000000000003e-07, 2e-08]): 0.004002547717521139,\n",
       "  array([-2.9000000000000003e-07, 2.5e-08]): 0.004028978171360043,\n",
       "  array([-2.9000000000000003e-07, 3.0000000000000004e-08]): 0.004051886737108963,\n",
       "  array([-2.9000000000000003e-07, 3.5e-08]): 0.004070491111214041,\n",
       "  array([-2.9000000000000003e-07, 4e-08]): 0.004084195654279074,\n",
       "  array([-2.9000000000000003e-07, 4.5e-08]): 0.004095266238174049,\n",
       "  array([-2.9000000000000003e-07, 5e-08]): 0.004105913761908698,\n",
       "  array([-2.9000000000000003e-07, 5.5e-08]): 0.004116254060738297,\n",
       "  array([-2.9000000000000003e-07, 6.000000000000001e-08]): 0.004127233355977198,\n",
       "  array([-2.9000000000000003e-07, 6.5e-08]): 0.004138230761695081,\n",
       "  array([-2.9000000000000003e-07, 7e-08]): 0.004148465974815729,\n",
       "  array([-2.9000000000000003e-07, 7.5e-08]): 0.004158664591698867,\n",
       "  array([-2.9000000000000003e-07, 8e-08]): 0.00416776686133888,\n",
       "  array([-2.9000000000000003e-07, 8.500000000000001e-08]): 0.004174940921733898,\n",
       "  array([-2.9000000000000003e-07, 9e-08]): 0.004179915619174124,\n",
       "  array([-2.9000000000000003e-07, 9.5e-08]): 0.004183272967420236,\n",
       "  array([-2.9000000000000003e-07, 1e-07]): 0.004186417077400771,\n",
       "  array([-2.9000000000000003e-07, 1.05e-07]): 0.004189178676672424,\n",
       "  array([-2.9000000000000003e-07, 1.1e-07]): 0.0041924775041570226,\n",
       "  array([-2.9000000000000003e-07, 1.15e-07]): 0.00419569342930364,\n",
       "  array([-2.9000000000000003e-07, 1.2000000000000002e-07]): 0.00419935507601147,\n",
       "  array([-2.9000000000000003e-07, 1.25e-07]): 0.004202636898169299,\n",
       "  array([-2.9000000000000003e-07, 1.3e-07]): 0.0042057587926268205,\n",
       "  array([-2.9000000000000003e-07, 1.35e-07]): 0.004207786289605332,\n",
       "  array([-2.9000000000000003e-07, 1.4e-07]): 0.004208638401230836,\n",
       "  array([-2.9000000000000003e-07, 1.4500000000000001e-07]): 0.004207934498541782,\n",
       "  array([-2.9000000000000003e-07, 1.5e-07]): 0.004206933922588999,\n",
       "  array([-2.9000000000000003e-07, 1.55e-07]): 0.004205190465896947,\n",
       "  array([-2.9000000000000003e-07, 1.6e-07]): 0.00420384465633586,\n",
       "  array([-2.9000000000000003e-07, 1.65e-07]): 0.004202039956619229,\n",
       "  array([-2.9000000000000003e-07, 1.7000000000000001e-07]): 0.0042007681536362735,\n",
       "  array([-2.9000000000000003e-07, 1.75e-07]): 0.004198883139570463,\n",
       "  array([-2.9000000000000003e-07, 1.8e-07]): 0.00419707627226307,\n",
       "  array([-2.9000000000000003e-07, 1.85e-07]): 0.004193918392914875,\n",
       "  array([-2.9000000000000003e-07, 1.9e-07]): 0.004189599397632654,\n",
       "  array([-2.9000000000000003e-07, 1.95e-07]): 0.004182100970653976,\n",
       "  array([-2.9000000000000003e-07, 2e-07]): 0.0041730980488878374,\n",
       "  array([-2.9000000000000003e-07, 2.05e-07]): 0.00416108982609033,\n",
       "  array([-2.9000000000000003e-07, 2.1e-07]): 0.004148316541700793,\n",
       "  array([-2.9000000000000003e-07, 2.15e-07]): 0.004132494214193864,\n",
       "  array([-2.9000000000000003e-07, 2.2e-07]): 0.004116473518995373,\n",
       "  array([-2.9000000000000003e-07, 2.2500000000000002e-07]): 0.004097156567117082,\n",
       "  array([-2.9000000000000003e-07, 2.3e-07]): 0.00407723550982933,\n",
       "  array([-2.9000000000000003e-07, 2.35e-07]): 0.004052346581918737,\n",
       "  array([-2.9000000000000003e-07, 2.4000000000000003e-07]): 0.004023700496265278,\n",
       "  array([-2.9000000000000003e-07, 2.45e-07]): 0.0039798578866497,\n",
       "  array([-2.9000000000000003e-07, 2.5e-07]): 0.003923819551843829,\n",
       "  array([-2.9000000000000003e-07, 2.55e-07]): 0.003844434925197215,\n",
       "  array([-2.9000000000000003e-07, 2.6e-07]): 0.0037452106989058504,\n",
       "  array([-2.9000000000000003e-07, 2.65e-07]): 0.0036009678571055025,\n",
       "  array([-2.9000000000000003e-07, 2.7e-07]): 0.0034047153850476504,\n",
       "  array([-2.9000000000000003e-07, 2.75e-07]): 0.003153677380579548,\n",
       "  array([-2.9000000000000003e-07, 2.8e-07]): 0.002889803122891253,\n",
       "  array([-2.9000000000000003e-07, 2.85e-07]): 0.00264182293639484,\n",
       "  array([-2.9000000000000003e-07, 2.9000000000000003e-07]): 0.002405628570195018,\n",
       "  array([-2.9000000000000003e-07, 2.95e-07]): 0.002164461421784183,\n",
       "  array([-2.9000000000000003e-07, 3e-07]): 0.0019194933203599863,\n",
       "  array([-2.9000000000000003e-07, 3.05e-07]): 0.0017052044652375734,\n",
       "  array([-2.9000000000000003e-07, 3.1e-07]): 0.00155091439689209,\n",
       "  array([-2.9000000000000003e-07, 3.15e-07]): 0.0014357673942852252,\n",
       "  array([-2.9000000000000003e-07, 3.2e-07]): 0.00135266189442854,\n",
       "  array([-2.9000000000000003e-07, 3.25e-07]): 0.0012868790237315602,\n",
       "  array([-2.9000000000000003e-07, 3.3e-07]): 0.0012388581098080396,\n",
       "  array([-2.9000000000000003e-07, 3.35e-07]): 0.0012019414272690255,\n",
       "  array([-2.9000000000000003e-07, 3.4000000000000003e-07]): 0.0011763738636997951,\n",
       "  array([-2.9000000000000003e-07, 3.4500000000000003e-07]): 0.0011538300118162789,\n",
       "  array([-2.9000000000000003e-07, 3.5e-07]): 0.0011345007976924994,\n",
       "  array([-2.9000000000000003e-07, 3.55e-07]): 0.0011164560113331333,\n",
       "  array([-2.9000000000000003e-07, 3.6e-07]): 0.0011009486612198667,\n",
       "  array([-2.9000000000000003e-07, 3.65e-07]): 0.001086801835102034,\n",
       "  array([-2.9000000000000003e-07, 3.7e-07]): 0.001075241450274861,\n",
       "  array([-2.9000000000000003e-07, 3.75e-07]): 0.0010653258186408513,\n",
       "  array([-2.9000000000000003e-07, 3.8e-07]): 0.0010576754185495593,\n",
       "  array([-2.9000000000000003e-07, 3.85e-07]): 0.0010514837912188183,\n",
       "  array([-2.9000000000000003e-07, 3.9e-07]): 0.001046855829982423,\n",
       "  array([-2.9000000000000003e-07, 3.9500000000000003e-07]): 0.0010425182930038379,\n",
       "  array([-2.9000000000000003e-07, 4e-07]): 0.0010386621955880701,\n",
       "  array([-2.9000000000000003e-07, 4.05e-07]): 0.0010350145519645822,\n",
       "  array([-2.9000000000000003e-07, 4.1e-07]): 0.0010318942568803527,\n",
       "  array([-2.9000000000000003e-07, 4.15e-07]): 0.0010291054369117251,\n",
       "  array([-2.9000000000000003e-07, 4.2e-07]): 0.0010268913054039533,\n",
       "  array([-2.9000000000000003e-07, 4.25e-07]): 0.0010250476357857791,\n",
       "  array([-2.9000000000000003e-07, 4.3e-07]): 0.0010236330167194662,\n",
       "  array([-2.9000000000000003e-07, 4.35e-07]): 0.0010224154785241136,\n",
       "  array([-2.9000000000000003e-07, 4.4e-07]): 0.0010212913598755704,\n",
       "  array([-2.9000000000000003e-07, 4.4500000000000003e-07]): 0.0010200191291937384,\n",
       "  array([-2.9000000000000003e-07, 4.5000000000000003e-07]): 0.0010187822725037754,\n",
       "  array([-2.9000000000000003e-07, 4.55e-07]): 0.0010175845480068482,\n",
       "  array([-2.9000000000000003e-07, 4.6e-07]): 0.0010165822670185007,\n",
       "  array([-2.9000000000000003e-07, 4.65e-07]): 0.0010157449052297042,\n",
       "  array([-2.9000000000000003e-07, 4.7e-07]): 0.0010151414537196265,\n",
       "  array([-2.9000000000000003e-07, 4.75e-07]): 0.001014687962341599,\n",
       "  array([-2.9000000000000003e-07, 4.800000000000001e-07]): 0.0010143353379090062,\n",
       "  array([-2.9000000000000003e-07, 4.85e-07]): 0.0010139352528536513,\n",
       "  array([-2.9000000000000003e-07, 4.9e-07]): 0.0010133272995918139,\n",
       "  array([-2.9000000000000003e-07, 4.95e-07]): 0.001012420480301014,\n",
       "  array([-2.9000000000000003e-07, 5e-07]): 0.001011417020567058,\n",
       "  array([-2.9000000000000003e-07, 5.05e-07]): 0.0010103584847563668,\n",
       "  array([-2.9000000000000003e-07, 5.1e-07]): 0.0010093974089903964,\n",
       "  array([-2.9000000000000003e-07, 5.15e-07]): 0.0010085099742696416,\n",
       "  array([-2.9000000000000003e-07, 5.2e-07]): 0.0010077661712116527,\n",
       "  array([-2.9000000000000003e-07, 5.250000000000001e-07]): 0.0010070663741075616,\n",
       "  array([-2.9000000000000003e-07, 5.3e-07]): 0.0010063643778367222,\n",
       "  array([-2.9000000000000003e-07, 5.35e-07]): 0.0010054569649049876,\n",
       "  array([-2.9000000000000003e-07, 5.4e-07]): 0.0010041498545032641,\n",
       "  array([-2.9000000000000003e-07, 5.45e-07]): 0.0010022816209938003,\n",
       "  array([-2.9000000000000003e-07, 5.5e-07]): 0.0010001081962336467,\n",
       "  array([-2.9000000000000003e-07, 5.55e-07]): 0.0009975757159013366,\n",
       "  array([-2.9000000000000003e-07, 5.6e-07]): 0.0009949311433928134,\n",
       "  array([-2.9000000000000003e-07, 5.65e-07]): 0.0009919950677753093,\n",
       "  array([-2.9000000000000003e-07, 5.7e-07]): 0.0009889588275321104,\n",
       "  array([-2.9000000000000003e-07, 5.75e-07]): 0.0009854141901452546,\n",
       "  array([-2.85e-07, 0.0]): 0.003759074012264572,\n",
       "  array([-2.85e-07, 5e-09]): 0.0038104117734596914,\n",
       "  array([-2.85e-07, 1e-08]): 0.0038581547301995596,\n",
       "  array([-2.85e-07, 1.5000000000000002e-08]): 0.0039033098562725505,\n",
       "  array([-2.85e-07, 2e-08]): 0.003939867305360472,\n",
       "  array([-2.85e-07, 2.5e-08]): 0.003974296862916715,\n",
       "  array([-2.85e-07, 3.0000000000000004e-08]): 0.004000985865924237,\n",
       "  array([-2.85e-07, 3.5e-08]): 0.004025631845121345,\n",
       "  array([-2.85e-07, 4e-08]): 0.004044328815622909,\n",
       "  array([-2.85e-07, 4.5e-08]): 0.004062416664058191,\n",
       "  array([-2.85e-07, 5e-08]): 0.0040775350199983495,\n",
       "  array([-2.85e-07, 5.5e-08]): 0.004093242678802447,\n",
       "  array([-2.85e-07, 6.000000000000001e-08]): 0.004106828817993238,\n",
       "  array([-2.85e-07, 6.5e-08]): 0.004120873325825394,\n",
       "  array([-2.85e-07, 7e-08]): 0.004132566510920695,\n",
       "  array([-2.85e-07, 7.5e-08]): 0.0041442523199375185,\n",
       "  array([-2.85e-07, 8e-08]): 0.004153571210512007,\n",
       "  array([-2.85e-07, 8.500000000000001e-08]): 0.004162163835132407,\n",
       "  array([-2.85e-07, 9e-08]): 0.004168547053186357,\n",
       "  array([-2.85e-07, 9.5e-08]): 0.004174463470638744,\n",
       "  array([-2.85e-07, 1e-07]): 0.004179266360377851,\n",
       "  array([-2.85e-07, 1.05e-07]): 0.004184116905667403,\n",
       "  array([-2.85e-07, 1.1e-07]): 0.004188295791522959,\n",
       "  array([-2.85e-07, 1.15e-07]): 0.004192568672963851,\n",
       "  array([-2.85e-07, 1.2000000000000002e-07]): 0.004196182354394154,\n",
       "  array([-2.85e-07, 1.25e-07]): 0.00419964405030462,\n",
       "  array([-2.85e-07, 1.3e-07]): 0.0042022834003613875,\n",
       "  array([-2.85e-07, 1.35e-07]): 0.004204368076645688,\n",
       "  array([-2.85e-07, 1.4e-07]): 0.004205469610314295,\n",
       "  array([-2.85e-07, 1.4500000000000001e-07]): 0.00420581300489601,\n",
       "  array([-2.85e-07, 1.5e-07]): 0.004205571186876353,\n",
       "  array([-2.85e-07, 1.55e-07]): 0.004204754613871556,\n",
       "  array([-2.85e-07, 1.6e-07]): 0.004203681652809904,\n",
       "  array([-2.85e-07, 1.65e-07]): 0.004202049491870973,\n",
       "  array([-2.85e-07, 1.7000000000000001e-07]): 0.004200249640405983,\n",
       "  array([-2.85e-07, 1.75e-07]): 0.004197678642419571,\n",
       "  array([-2.85e-07, 1.8e-07]): 0.004194779198878071,\n",
       "  array([-2.85e-07, 1.85e-07]): 0.004190528351373266,\n",
       "  array([-2.85e-07, 1.9e-07]): 0.004185428381106268,\n",
       "  array([-2.85e-07, 1.95e-07]): 0.004177785692942081,\n",
       "  array([-2.85e-07, 2e-07]): 0.004168939311792984,\n",
       "  array([-2.85e-07, 2.05e-07]): 0.004156816957641013,\n",
       "  array([-2.85e-07, 2.1e-07]): 0.004143740692349708,\n",
       "  array([-2.85e-07, 2.15e-07]): 0.004126749940957912,\n",
       "  array([-2.85e-07, 2.2e-07]): 0.004109130014022027,\n",
       "  array([-2.85e-07, 2.2500000000000002e-07]): 0.004086753006658425,\n",
       "  array([-2.85e-07, 2.3e-07]): 0.004063554187837169,\n",
       "  array([-2.85e-07, 2.35e-07]): 0.004033295702917503,\n",
       "  array([-2.85e-07, 2.4000000000000003e-07]): 0.00399973772916403,\n",
       "  array([-2.85e-07, 2.45e-07]): 0.003951303581670263,\n",
       "  array([-2.85e-07, 2.5e-07]): 0.0038939266818629,\n",
       "  array([-2.85e-07, 2.55e-07]): 0.003811120828959,\n",
       "  array([-2.85e-07, 2.6e-07]): 0.0037127854658190397,\n",
       "  array([-2.85e-07, 2.65e-07]): 0.0035693867506125694,\n",
       "  array([-2.85e-07, 2.7e-07]): 0.003391152491722727,\n",
       "  array([-2.85e-07, 2.75e-07]): 0.003167864572124466,\n",
       "  array([-2.85e-07, 2.8e-07]): 0.0029149718367603135,\n",
       "  array([-2.85e-07, 2.85e-07]): 0.0026634559057897252,\n",
       "  array([-2.85e-07, 2.9000000000000003e-07]): 0.0024026781034435624,\n",
       "  array([-2.85e-07, 2.95e-07]): 0.0021608803451534445,\n",
       "  array([-2.85e-07, 3e-07]): 0.0019305748592893127,\n",
       "  array([-2.85e-07, 3.05e-07]): 0.0017357952919206585,\n",
       "  array([-2.85e-07, 3.1e-07]): 0.00159131096548836,\n",
       "  array([-2.85e-07, 3.15e-07]): 0.0014724792127184603,\n",
       "  array([-2.85e-07, 3.2e-07]): 0.0013894567192373,\n",
       "  array([-2.85e-07, 3.25e-07]): 0.0013187395610794557,\n",
       "  array([-2.85e-07, 3.3e-07]): 0.0012690617660061794,\n",
       "  array([-2.85e-07, 3.35e-07]): 0.0012268430753029004,\n",
       "  array([-2.85e-07, 3.4000000000000003e-07]): 0.0011970263000991082,\n",
       "  array([-2.85e-07, 3.4500000000000003e-07]): 0.001169720598266119,\n",
       "  array([-2.85e-07, 3.5e-07]): 0.0011483390157042822,\n",
       "  array([-2.85e-07, 3.55e-07]): 0.0011276675168677237,\n",
       "  array([-2.85e-07, 3.6e-07]): 0.001111264742589135,\n",
       "  array([-2.85e-07, 3.65e-07]): 0.0010956398771358358,\n",
       "  array([-2.85e-07, 3.7e-07]): 0.0010836288136493266,\n",
       "  array([-2.85e-07, 3.75e-07]): 0.0010726354988736051,\n",
       "  array([-2.85e-07, 3.8e-07]): 0.0010645036006838346,\n",
       "  array([-2.85e-07, 3.85e-07]): 0.0010572661034434707,\n",
       "  array([-2.85e-07, 3.9e-07]): 0.0010519095305243373,\n",
       "  array([-2.85e-07, 3.9500000000000003e-07]): 0.0010468059086551672,\n",
       "  array([-2.85e-07, 4e-07]): 0.0010426950528565652,\n",
       "  array([-2.85e-07, 4.05e-07]): 0.0010386554517924356,\n",
       "  array([-2.85e-07, 4.1e-07]): 0.0010354235877940066,\n",
       "  array([-2.85e-07, 4.15e-07]): 0.0010323392979751682,\n",
       "  array([-2.85e-07, 4.2e-07]): 0.0010299677725146062,\n",
       "  array([-2.85e-07, 4.25e-07]): 0.0010277846607458655,\n",
       "  array([-2.85e-07, 4.3e-07]): 0.0010261367384303273,\n",
       "  array([-2.85e-07, 4.35e-07]): 0.0010245907902618583,\n",
       "  array([-2.85e-07, 4.4e-07]): 0.0010233343680274502,\n",
       "  array([-2.85e-07, 4.4500000000000003e-07]): 0.0010220167316994226,\n",
       "  array([-2.85e-07, 4.5000000000000003e-07]): 0.0010208770284699307,\n",
       "  array([-2.85e-07, 4.55e-07]): 0.0010197117973894424,\n",
       "  array([-2.85e-07, 4.6e-07]): 0.001018758622376589,\n",
       "  array([-2.85e-07, 4.65e-07]): 0.0010178418161481326,\n",
       "  array([-2.85e-07, 4.7e-07]): 0.0010171290315025142,\n",
       "  array([-2.85e-07, 4.75e-07]): 0.0010164474879455962,\n",
       "  array([-2.85e-07, 4.800000000000001e-07]): 0.0010158832627032617,\n",
       "  array([-2.85e-07, 4.85e-07]): 0.0010152514226389867,\n",
       "  array([-2.85e-07, 4.9e-07]): 0.0010146031019922952,\n",
       "  array([-2.85e-07, 4.95e-07]): 0.001013774298844969,\n",
       "  array([-2.85e-07, 5e-07]): 0.0010129432179738647,\n",
       "  array([-2.85e-07, 5.05e-07]): 0.001011986257646801,\n",
       "  array([-2.85e-07, 5.1e-07]): 0.0010111054492509231,\n",
       "  array([-2.85e-07, 5.15e-07]): 0.0010101416427983542,\n",
       "  array([-2.85e-07, 5.2e-07]): 0.0010092696878121678,\n",
       "  array([-2.85e-07, 5.250000000000001e-07]): 0.0010082811779107911,\n",
       "  array([-2.85e-07, 5.3e-07]): 0.0010073122809533682,\n",
       "  array([-2.85e-07, 5.35e-07]): 0.0010060773410137814,\n",
       "  array([-2.85e-07, 5.4e-07]): 0.0010047088158247177,\n",
       "  array([-2.85e-07, 5.45e-07]): 0.0010028593089982678,\n",
       "  array([-2.85e-07, 5.5e-07]): 0.001000861556173638,\n",
       "  array([-2.85e-07, 5.55e-07]): 0.0009983138872089517,\n",
       "  array([-2.85e-07, 5.6e-07]): 0.0009956609702686445,\n",
       "  array([-2.85e-07, 5.65e-07]): 0.0009922807315321642,\n",
       "  array([-2.85e-07, 5.7e-07]): 0.0009886334303118554,\n",
       "  array([-2.85e-07, 5.75e-07]): 0.0009833810613515657,\n",
       "  array([-2.8e-07, 0.0]): 0.003649231798273253,\n",
       "  array([-2.8e-07, 5e-09]): 0.0037103388652320692,\n",
       "  array([-2.8e-07, 1e-08]): 0.00377611574364298,\n",
       "  array([-2.8e-07, 1.5000000000000002e-08]): 0.0038340230194502866,\n",
       "  array([-2.8e-07, 2e-08]): 0.0038821614636322006,\n",
       "  array([-2.8e-07, 2.5e-08]): 0.003925230102108439,\n",
       "  array([-2.8e-07, 3.0000000000000004e-08]): 0.003958115971609249,\n",
       "  array([-2.8e-07, 3.5e-08]): 0.003988566857519644,\n",
       "  array([-2.8e-07, 4e-08]): 0.004012052299757372,\n",
       "  array([-2.8e-07, 4.5e-08]): 0.004035131726879289,\n",
       "  array([-2.8e-07, 5e-08]): 0.004054152095393982,\n",
       "  array([-2.8e-07, 5.5e-08]): 0.004073668873890144,\n",
       "  array([-2.8e-07, 6.000000000000001e-08]): 0.004089953733479376,\n",
       "  array([-2.8e-07, 6.5e-08]): 0.004106486875846257,\n",
       "  array([-2.8e-07, 7e-08]): 0.004119905422317133,\n",
       "  array([-2.8e-07, 7.5e-08]): 0.004133115080626289,\n",
       "  array([-2.8e-07, 8e-08]): 0.004143485206055718,\n",
       "  array([-2.8e-07, 8.500000000000001e-08]): 0.004153350759970229,\n",
       "  array([-2.8e-07, 9e-08]): 0.004160977116841401,\n",
       "  array([-2.8e-07, 9.5e-08]): 0.004168423789138217,\n",
       "  array([-2.8e-07, 1e-07]): 0.004174486505752151,\n",
       "  array([-2.8e-07, 1.05e-07]): 0.00418061000584188,\n",
       "  array([-2.8e-07, 1.1e-07]): 0.004185641665952573,\n",
       "  array([-2.8e-07, 1.15e-07]): 0.004190650447265605,\n",
       "  array([-2.8e-07, 1.2000000000000002e-07]): 0.00419462459850034,\n",
       "  array([-2.8e-07, 1.25e-07]): 0.004198368245882905,\n",
       "  array([-2.8e-07, 1.3e-07]): 0.004201111206559074,\n",
       "  array([-2.8e-07, 1.35e-07]): 0.004203407999620686,\n",
       "  array([-2.8e-07, 1.4e-07]): 0.0042048137234812774,\n",
       "  array([-2.8e-07, 1.4500000000000001e-07]): 0.004205681015372597,\n",
       "  array([-2.8e-07, 1.5e-07]): 0.004205910511782927,\n",
       "  array([-2.8e-07, 1.55e-07]): 0.0042055652906892345,\n",
       "  array([-2.8e-07, 1.6e-07]): 0.004204742192231407,\n",
       "  array([-2.8e-07, 1.65e-07]): 0.0042032192405648235,\n",
       "  array([-2.8e-07, 1.7000000000000001e-07]): 0.004201283423430564,\n",
       "  array([-2.8e-07, 1.75e-07]): 0.004198415880413174,\n",
       "  array([-2.8e-07, 1.8e-07]): 0.004195097909418082,\n",
       "  array([-2.8e-07, 1.85e-07]): 0.004190389187337861,\n",
       "  array([-2.8e-07, 1.9e-07]): 0.004184962568503331,\n",
       "  array([-2.8e-07, 1.95e-07]): 0.004177180580650087,\n",
       "  array([-2.8e-07, 2e-07]): 0.004168306674577763,\n",
       "  array([-2.8e-07, 2.05e-07]): 0.004156085056811878,\n",
       "  array([-2.8e-07, 2.1e-07]): 0.004142772292068954,\n",
       "  array([-2.8e-07, 2.15e-07]): 0.00412519428016712,\n",
       "  array([-2.8e-07, 2.2e-07]): 0.004106695396408903,\n",
       "  array([-2.8e-07, 2.2500000000000002e-07]): 0.004082848135938306,\n",
       "  array([-2.8e-07, 2.3e-07]): 0.004057914914371034,\n",
       "  array([-2.8e-07, 2.35e-07]): 0.004025247310316624,\n",
       "  array([-2.8e-07, 2.4000000000000003e-07]): 0.003989445130709965,\n",
       "  array([-2.8e-07, 2.45e-07]): 0.003939059570496411,\n",
       "  array([-2.8e-07, 2.5e-07]): 0.003880747820216384,\n",
       "  array([-2.8e-07, 2.55e-07]): 0.0037972463595131616,\n",
       "  array([-2.8e-07, 2.6e-07]): 0.003699382842890392,\n",
       "  array([-2.8e-07, 2.65e-07]): 0.0035582188988830528,\n",
       "  array([-2.8e-07, 2.7e-07]): 0.0033855193578067218,\n",
       "  array([-2.8e-07, 2.75e-07]): 0.0031714606070832943,\n",
       "  array([-2.8e-07, 2.8e-07]): 0.002924126577276537,\n",
       "  array([-2.8e-07, 2.85e-07]): 0.002672518592970347,\n",
       "  array([-2.8e-07, 2.9000000000000003e-07]): 0.0024089364598759043,\n",
       "  array([-2.8e-07, 2.95e-07]): 0.002167400531506621,\n",
       "  array([-2.8e-07, 3e-07]): 0.0019418681632791927,\n",
       "  array([-2.8e-07, 3.05e-07]): 0.0017532044698017417,\n",
       "  array([-2.8e-07, 3.1e-07]): 0.0016104622695947816,\n",
       "  array([-2.8e-07, 3.15e-07]): 0.001491479151934504,\n",
       "  array([-2.8e-07, 3.2e-07]): 0.0014080812880522633,\n",
       "  array([-2.8e-07, 3.25e-07]): 0.0013359033963375978,\n",
       "  array([-2.8e-07, 3.3e-07]): 0.0012849600861862672,\n",
       "  array([-2.8e-07, 3.35e-07]): 0.0012405409020427743,\n",
       "  array([-2.8e-07, 3.4000000000000003e-07]): 0.001208629618354409,\n",
       "  array([-2.8e-07, 3.4500000000000003e-07]): 0.0011791922444774744,\n",
       "  array([-2.8e-07, 3.5e-07]): 0.0011564734895847994,\n",
       "  array([-2.8e-07, 3.55e-07]): 0.0011345866353654548,\n",
       "  array([-2.8e-07, 3.6e-07]): 0.0011174946149032792,\n",
       "  array([-2.8e-07, 3.65e-07]): 0.0011012026744520677,\n",
       "  array([-2.8e-07, 3.7e-07]): 0.0010887901456987596,\n",
       "  array([-2.8e-07, 3.75e-07]): 0.0010773123636749979,\n",
       "  array([-2.8e-07, 3.8e-07]): 0.0010688128408226695,\n",
       "  array([-2.8e-07, 3.85e-07]): 0.001061094029669262,\n",
       "  array([-2.8e-07, 3.9e-07]): 0.001055341286899715,\n",
       "  array([-2.8e-07, 3.9500000000000003e-07]): 0.001049870687381777,\n",
       "  array([-2.8e-07, 4e-07]): 0.001045551536715906,\n",
       "  array([-2.8e-07, 4.05e-07]): 0.0010413211889854716,\n",
       "  array([-2.8e-07, 4.1e-07]): 0.0010379773350533013,\n",
       "  array([-2.8e-07, 4.15e-07]): 0.0010347569561983921,\n",
       "  array([-2.8e-07, 4.2e-07]): 0.0010322751318999938,\n",
       "  array([-2.8e-07, 4.25e-07]): 0.0010299421313428943,\n",
       "  array([-2.8e-07, 4.3e-07]): 0.00102816712322743,\n",
       "  array([-2.8e-07, 4.35e-07]): 0.0010264850496932315,\n",
       "  array([-2.8e-07, 4.4e-07]): 0.0010251549600222005,\n",
       "  array([-2.8e-07, 4.4500000000000003e-07]): 0.001023809004590107,\n",
       "  array([-2.8e-07, 4.5000000000000003e-07]): 0.001022687272206546,\n",
       "  array([-2.8e-07, 4.55e-07]): 0.0010215375285613317,\n",
       "  array([-2.8e-07, 4.6e-07]): 0.0010205922866777894,\n",
       "  array([-2.8e-07, 4.65e-07]): 0.001019644426332577,\n",
       "  array([-2.8e-07, 4.7e-07]): 0.001018876202659721,\n",
       "  array([-2.8e-07, 4.75e-07]): 0.0010181004444491987,\n",
       "  array([-2.8e-07, 4.800000000000001e-07]): 0.0010174446465046796,\n",
       "  array([-2.8e-07, 4.85e-07]): 0.0010167281391048767,\n",
       "  array([-2.8e-07, 4.9e-07]): 0.0010160577628347365,\n",
       "  array([-2.8e-07, 4.95e-07]): 0.001015259089771696,\n",
       "  array([-2.8e-07, 5e-07]): 0.0010144886553515964,\n",
       "  array([-2.8e-07, 5.05e-07]): 0.0010135830140191127,\n",
       "  array([-2.8e-07, 5.1e-07]): 0.0010127293255826862,\n",
       "  array([-2.8e-07, 5.15e-07]): 0.0010117406176140418,\n",
       "  array([-2.8e-07, 5.2e-07]): 0.001010806718427334,\n",
       "  array([-2.8e-07, 5.250000000000001e-07]): 0.001009702703807326,\n",
       "  array([-2.8e-07, 5.3e-07]): 0.0010086174137909007,\n",
       "  array([-2.8e-07, 5.35e-07]): 0.0010072642921789947,\n",
       "  array([-2.8e-07, 5.4e-07]): 0.0010058545303157714,\n",
       "  array([-2.8e-07, 5.45e-07]): 0.0010040107000684397,\n",
       "  array([-2.8e-07, 5.5e-07]): 0.0010020543312697096,\n",
       "  array([-2.8e-07, 5.55e-07]): 0.000999502014712654,\n",
       "  array([-2.8e-07, 5.6e-07]): 0.0009967907470375206,\n",
       "  array([-2.8e-07, 5.65e-07]): 0.0009931827186278244,\n",
       "  array([-2.8e-07, 5.7e-07]): 0.0009891240014451347,\n",
       "  array([-2.8e-07, 5.75e-07]): 0.0009831930962706495,\n",
       "  array([-2.75e-07, 0.0]): 0.0035211664372637387,\n",
       "  array([-2.75e-07, 5e-09]): 0.0035949977433536993,\n",
       "  array([-2.75e-07, 1e-08]): 0.0036755718692733307,\n",
       "  array([-2.75e-07, 1.5000000000000002e-08]): 0.0037483065222702356,\n",
       "  array([-2.75e-07, 2e-08]): 0.003809955356197338,\n",
       "  array([-2.75e-07, 2.5e-08]): 0.0038648476728527217,\n",
       "  array([-2.75e-07, 3.0000000000000004e-08]): 0.003906588157350872,\n",
       "  array([-2.75e-07, 3.5e-08]): 0.003944973893771376,\n",
       "  array([-2.75e-07, 4e-08]): 0.003974363258037188,\n",
       "  array([-2.75e-07, 4.5e-08]): 0.004003188350175797,\n",
       "  array([-2.75e-07, 5e-08]): 0.004026593998481304,\n",
       "  array([-2.75e-07, 5.5e-08]): 0.004050390542444665,\n",
       "  array([-2.75e-07, 6.000000000000001e-08]): 0.004069859862924802,\n",
       "  array([-2.75e-07, 6.5e-08]): 0.004089420918915252,\n",
       "  array([-2.75e-07, 7e-08]): 0.004105056673693951,\n",
       "  array([-2.75e-07, 7.5e-08]): 0.004120350371212,\n",
       "  array([-2.75e-07, 8e-08]): 0.004132281093019298,\n",
       "  array([-2.75e-07, 8.500000000000001e-08]): 0.00414376744615809,\n",
       "  array([-2.75e-07, 9e-08]): 0.004152765623508037,\n",
       "  array([-2.75e-07, 9.5e-08]): 0.004161727191715718,\n",
       "  array([-2.75e-07, 1e-07]): 0.004169031711195638,\n",
       "  array([-2.75e-07, 1.05e-07]): 0.004176416001562944,\n",
       "  array([-2.75e-07, 1.1e-07]): 0.004182378391825609,\n",
       "  array([-2.75e-07, 1.15e-07]): 0.004188241178118692,\n",
       "  array([-2.75e-07, 1.2000000000000002e-07]): 0.004192785631017202,\n",
       "  array([-2.75e-07, 1.25e-07]): 0.004197029683281552,\n",
       "  array([-2.75e-07, 1.3e-07]): 0.00420012132197011,\n",
       "  array([-2.75e-07, 1.35e-07]): 0.004202797844192604,\n",
       "  array([-2.75e-07, 1.4e-07]): 0.004204565988881024,\n",
       "  array([-2.75e-07, 1.4500000000000001e-07]): 0.0042058913181893046,\n",
       "  array([-2.75e-07, 1.5e-07]): 0.004206516985023953,\n",
       "  array([-2.75e-07, 1.55e-07]): 0.0042065662003842735,\n",
       "  array([-2.75e-07, 1.6e-07]): 0.004205992635733743,\n",
       "  array([-2.75e-07, 1.65e-07]): 0.004204624071322299,\n",
       "  array([-2.75e-07, 1.7000000000000001e-07]): 0.004202693900781365,\n",
       "  array([-2.75e-07, 1.75e-07]): 0.0041997140799125325,\n",
       "  array([-2.75e-07, 1.8e-07]): 0.0041962155388376625,\n",
       "  array([-2.75e-07, 1.85e-07]): 0.004191276336143717,\n",
       "  array([-2.75e-07, 1.9e-07]): 0.004185676436852253,\n",
       "  array([-2.75e-07, 1.95e-07]): 0.004177773374304762,\n",
       "  array([-2.75e-07, 2e-07]): 0.00416882466597415,\n",
       "  array([-2.75e-07, 2.05e-07]): 0.0041564774352271855,\n",
       "  array([-2.75e-07, 2.1e-07]): 0.004142953091326409,\n",
       "  array([-2.75e-07, 2.15e-07]): 0.004124939228619294,\n",
       "  array([-2.75e-07, 2.2e-07]): 0.004105835143576509,\n",
       "  array([-2.75e-07, 2.2500000000000002e-07]): 0.0040810077311524235,\n",
       "  array([-2.75e-07, 2.3e-07]): 0.00405496960963934,\n",
       "  array([-2.75e-07, 2.35e-07]): 0.00402083423733477,\n",
       "  array([-2.75e-07, 2.4000000000000003e-07]): 0.003983756188009607,\n",
       "  array([-2.75e-07, 2.45e-07]): 0.003932253182122676,\n",
       "  array([-2.75e-07, 2.5e-07]): 0.003873444694893213,\n",
       "  array([-2.75e-07, 2.55e-07]): 0.0037899316832142355,\n",
       "  array([-2.75e-07, 2.6e-07]): 0.00369282601374613,\n",
       "  array([-2.75e-07, 2.65e-07]): 0.0035536658025003267,\n",
       "  array([-2.75e-07, 2.7e-07]): 0.003384094400261479,\n",
       "  array([-2.75e-07, 2.75e-07]): 0.003174489011159632,\n",
       "  array([-2.75e-07, 2.8e-07]): 0.0029299382916925867,\n",
       "  array([-2.75e-07, 2.85e-07]): 0.0026790895906868,\n",
       "  array([-2.75e-07, 2.9000000000000003e-07]): 0.002415166393340772,\n",
       "  array([-2.75e-07, 2.95e-07]): 0.002174189158632676,\n",
       "  array([-2.75e-07, 3e-07]): 0.0019506389204016592,\n",
       "  array([-2.75e-07, 3.05e-07]): 0.0017646877640095625,\n",
       "  array([-2.75e-07, 3.1e-07]): 0.0016232226287418374,\n",
       "  array([-2.75e-07, 3.15e-07]): 0.001504685685688433,\n",
       "  array([-2.75e-07, 3.2e-07]): 0.001421214285331046,\n",
       "  array([-2.75e-07, 3.25e-07]): 0.0013483818776955465,\n",
       "  array([-2.75e-07, 3.3e-07]): 0.0012965986746463643,\n",
       "  array([-2.75e-07, 3.35e-07]): 0.001250847749551888,\n",
       "  array([-2.75e-07, 3.4000000000000003e-07]): 0.001217648732933053,\n",
       "  array([-2.75e-07, 3.4500000000000003e-07]): 0.0011868401600433564,\n",
       "  array([-2.75e-07, 3.5e-07]): 0.001163155018360886,\n",
       "  array([-2.75e-07, 3.55e-07]): 0.001140397366532586,\n",
       "  array([-2.75e-07, 3.6e-07]): 0.0011227414298716808,\n",
       "  array([-2.75e-07, 3.65e-07]): 0.0011059390096380749,\n",
       "  array([-2.75e-07, 3.7e-07]): 0.0010931715607923253,\n",
       "  array([-2.75e-07, 3.75e-07]): 0.0010813214286507168,\n",
       "  array([-2.75e-07, 3.8e-07]): 0.0010725194453597914,\n",
       "  array([-2.75e-07, 3.85e-07]): 0.0010644554011881976,\n",
       "  array([-2.75e-07, 3.9e-07]): 0.0010584228926563172,\n",
       "  array([-2.75e-07, 3.9500000000000003e-07]): 0.00105268516310948,\n",
       "  array([-2.75e-07, 4e-07]): 0.001048189873346083,\n",
       "  array([-2.75e-07, 4.05e-07]): 0.0010438039136025407,\n",
       "  array([-2.75e-07, 4.1e-07]): 0.0010403547950519694,\n",
       "  array([-2.75e-07, 4.15e-07]): 0.001037026319952609,\n",
       "  array([-2.75e-07, 4.2e-07]): 0.0010344556011678495,\n",
       "  array([-2.75e-07, 4.25e-07]): 0.0010320188696491483,\n",
       "  array([-2.75e-07, 4.3e-07]): 0.0010301575788470407,\n",
       "  array([-2.75e-07, 4.35e-07]): 0.0010283889706677416,\n",
       "  array([-2.75e-07, 4.4e-07]): 0.001027006883669991,\n",
       "  array([-2.75e-07, 4.4500000000000003e-07]): 0.001025632021848436,\n",
       "  array([-2.75e-07, 4.5000000000000003e-07]): 0.0010245058118447514,\n",
       "  array([-2.75e-07, 4.55e-07]): 0.001023356316932211,\n",
       "  array([-2.75e-07, 4.6e-07]): 0.001022407101177365,\n",
       "  array([-2.75e-07, 4.65e-07]): 0.001021438015639914,\n",
       "  array([-2.75e-07, 4.7e-07]): 0.0010206361401037256,\n",
       "  array([-2.75e-07, 4.75e-07]): 0.0010198077262173304,\n",
       "  array([-2.75e-07, 4.800000000000001e-07]): 0.0010191036062511447,\n",
       "  array([-2.75e-07, 4.85e-07]): 0.00101834393700994,\n",
       "  array([-2.75e-07, 4.9e-07]): 0.0010176601416023651,\n",
       "  array([-2.75e-07, 4.95e-07]): 0.001016874212554507,\n",
       "  array([-2.75e-07, 5e-07]): 0.0010161302634223292,\n",
       "  array([-2.75e-07, 5.05e-07]): 0.0010152519137403477,\n",
       "  array([-2.75e-07, 5.1e-07]): 0.0010144098774763674,\n",
       "  array([-2.75e-07, 5.15e-07]): 0.0010134080579798658,\n",
       "  array([-2.75e-07, 5.2e-07]): 0.001012439859162967,\n",
       "  array([-2.75e-07, 5.250000000000001e-07]): 0.0010112742887603877,\n",
       "  array([-2.75e-07, 5.3e-07]): 0.0010101283389643326,\n",
       "  array([-2.75e-07, 5.35e-07]): 0.0010087148795046123,\n",
       "  array([-2.75e-07, 5.4e-07]): 0.0010072780058744647,\n",
       "  array([-2.75e-07, 5.45e-07]): 0.0010054298515474094,\n",
       "  array([-2.75e-07, 5.5e-07]): 0.0010034814927588568,\n",
       "  array([-2.75e-07, 5.55e-07]): 0.0010009189875449457,\n",
       "  array([-2.75e-07, 5.6e-07]): 0.0009981633255932178,\n",
       "  array([-2.75e-07, 5.65e-07]): 0.0009944303626234219,\n",
       "  array([-2.75e-07, 5.7e-07]): 0.0009901836626631012,\n",
       "  array([-2.75e-07, 5.75e-07]): 0.0009839701178033064,\n",
       "  array([-2.7e-07, 0.0]): 0.003374866791270168,\n",
       "  array([-2.7e-07, 5e-09]): 0.0034599577320330974,\n",
       "  array([-2.7e-07, 1e-08]): 0.003559642659156801,\n",
       "  array([-2.7e-07, 1.5000000000000002e-08]): 0.003647893597715685,\n",
       "  array([-2.7e-07, 2e-08]): 0.003730192061350325,\n",
       "  array([-2.7e-07, 2.5e-08]): 0.003798760884068425,\n",
       "  array([-2.7e-07, 3.0000000000000004e-08]): 0.0038527916136307937,\n",
       "  array([-2.7e-07, 3.5e-08]): 0.0039001774816411878,\n",
       "  array([-2.7e-07, 4e-08]): 0.003936304106458986,\n",
       "  array([-2.7e-07, 4.5e-08]): 0.003970983872765874,\n",
       "  array([-2.7e-07, 5e-08]): 0.003998889161174983,\n",
       "  array([-2.7e-07, 5.5e-08]): 0.004026849873722194,\n",
       "  array([-2.7e-07, 6.000000000000001e-08]): 0.004049553357003452,\n",
       "  array([-2.7e-07, 6.5e-08]): 0.004072123459431955,\n",
       "  array([-2.7e-07, 7e-08]): 0.004090084946268028,\n",
       "  array([-2.7e-07, 7.5e-08]): 0.004107536949097098,\n",
       "  array([-2.7e-07, 8e-08]): 0.004121152924018478,\n",
       "  array([-2.7e-07, 8.500000000000001e-08]): 0.004134259759193323,\n",
       "  array([-2.7e-07, 9e-08]): 0.004144590195277495,\n",
       "  array([-2.7e-07, 9.5e-08]): 0.004154897816745954,\n",
       "  array([-2.7e-07, 1e-07]): 0.0041633270905884895,\n",
       "  array([-2.7e-07, 1.05e-07]): 0.004171820147245099,\n",
       "  array([-2.7e-07, 1.1e-07]): 0.00417866468631874,\n",
       "  array([-2.7e-07, 1.15e-07]): 0.0041853500344264105,\n",
       "  array([-2.7e-07, 1.2000000000000002e-07]): 0.004190517372314008,\n",
       "  array([-2.7e-07, 1.25e-07]): 0.004195327339191546,\n",
       "  array([-2.7e-07, 1.3e-07]): 0.004198853905352195,\n",
       "  array([-2.7e-07, 1.35e-07]): 0.00420195349606384,\n",
       "  array([-2.7e-07, 1.4e-07]): 0.004204082992036803,\n",
       "  array([-2.7e-07, 1.4500000000000001e-07]): 0.004205790959889109,\n",
       "  array([-2.7e-07, 1.5e-07]): 0.004206742410397186,\n",
       "  array([-2.7e-07, 1.55e-07]): 0.004207105070452157,\n",
       "  array([-2.7e-07, 1.6e-07]): 0.0042067578582160176,\n",
       "  array([-2.7e-07, 1.65e-07]): 0.004205560870605749,\n",
       "  array([-2.7e-07, 1.7000000000000001e-07]): 0.0042037124799318955,\n",
       "  array([-2.7e-07, 1.75e-07]): 0.004200749213715241,\n",
       "  array([-2.7e-07, 1.8e-07]): 0.004197213443427345,\n",
       "  array([-2.7e-07, 1.85e-07]): 0.00419220101804448,\n",
       "  array([-2.7e-07, 1.9e-07]): 0.004186527667698766,\n",
       "  array([-2.7e-07, 1.95e-07]): 0.004178552007554087,\n",
       "  array([-2.7e-07, 2e-07]): 0.004169534707261335,\n",
       "  array([-2.7e-07, 2.05e-07]): 0.0041570824257695345,\n",
       "  array([-2.7e-07, 2.1e-07]): 0.004143403307576031,\n",
       "  array([-2.7e-07, 2.15e-07]): 0.004125120328045346,\n",
       "  array([-2.7e-07, 2.2e-07]): 0.004105654424926034,\n",
       "  array([-2.7e-07, 2.2500000000000002e-07]): 0.004080288127675319,\n",
       "  array([-2.7e-07, 2.3e-07]): 0.004053640727342151,\n",
       "  array([-2.7e-07, 2.35e-07]): 0.004018754973855412,\n",
       "  array([-2.7e-07, 2.4000000000000003e-07]): 0.003981020743762565,\n",
       "  array([-2.7e-07, 2.45e-07]): 0.003928978705248889,\n",
       "  array([-2.7e-07, 2.5e-07]): 0.0038699593071453036,\n",
       "  array([-2.7e-07, 2.55e-07]): 0.0037866004474008297,\n",
       "  array([-2.7e-07, 2.6e-07]): 0.0036900649361976184,\n",
       "  array([-2.7e-07, 2.65e-07]): 0.0035520982014767585,\n",
       "  array([-2.7e-07, 2.7e-07]): 0.003384008383228302,\n",
       "  array([-2.7e-07, 2.75e-07]): 0.0031764199649117354,\n",
       "  array([-2.7e-07, 2.8e-07]): 0.0029334524762679487,\n",
       "  array([-2.7e-07, 2.85e-07]): 0.002683472329709794,\n",
       "  array([-2.7e-07, 2.9000000000000003e-07]): 0.0024202591751835336,\n",
       "  array([-2.7e-07, 2.95e-07]): 0.0021798443278070612,\n",
       "  array([-2.7e-07, 3e-07]): 0.0019570294981063443,\n",
       "  array([-2.7e-07, 3.05e-07]): 0.0017721280345018102,\n",
       "  array([-2.7e-07, 3.1e-07]): 0.0016311478189574196,\n",
       "  array([-2.7e-07, 3.15e-07]): 0.0015129423951889143,\n",
       "  array([-2.7e-07, 3.2e-07]): 0.0014294867691577995,\n",
       "  array([-2.7e-07, 3.25e-07]): 0.0013563757327005287,\n",
       "  array([-2.7e-07, 3.3e-07]): 0.0013041225735461865,\n",
       "  array([-2.7e-07, 3.35e-07]): 0.001257661123110739,\n",
       "  array([-2.7e-07, 3.4000000000000003e-07]): 0.0012237391927765035,\n",
       "  array([-2.7e-07, 3.4500000000000003e-07]): 0.0011921665469484157,\n",
       "  array([-2.7e-07, 3.5e-07]): 0.0011678842248760526,\n",
       "  array([-2.7e-07, 3.55e-07]): 0.001144589325099883,\n",
       "  array([-2.7e-07, 3.6e-07]): 0.0011265453839773498,\n",
       "  array([-2.7e-07, 3.65e-07]): 0.0011093971964721806,\n",
       "  array([-2.7e-07, 3.7e-07]): 0.0010963665436024598,\n",
       "  array([-2.7e-07, 3.75e-07]): 0.0010842582412637293,\n",
       "  array([-2.7e-07, 3.8e-07]): 0.0010752397327633994,\n",
       "  array([-2.7e-07, 3.85e-07]): 0.0010669518446084192,\n",
       "  array([-2.7e-07, 3.9e-07]): 0.0010607348100122765,\n",
       "  array([-2.7e-07, 3.9500000000000003e-07]): 0.0010548243899376611,\n",
       "  array([-2.7e-07, 4e-07]): 0.0010502027428568779,\n",
       "  array([-2.7e-07, 4.05e-07]): 0.0010457062003031363,\n",
       "  array([-2.7e-07, 4.1e-07]): 0.001042175757892359,\n",
       "  array([-2.7e-07, 4.15e-07]): 0.001038770407642725,\n",
       "  array([-2.7e-07, 4.2e-07]): 0.0010361364046911688,\n",
       "  array([-2.7e-07, 4.25e-07]): 0.0010336343813358668,\n",
       "  array([-2.7e-07, 4.3e-07]): 0.0010317188462482883,\n",
       "  array([-2.7e-07, 4.35e-07]): 0.001029899278483714,\n",
       "  array([-2.7e-07, 4.4e-07]): 0.0010284826965567962,\n",
       "  array([-2.7e-07, 4.4500000000000003e-07]): 0.0010270840479887624,\n",
       "  array([-2.7e-07, 4.5000000000000003e-07]): 0.0010259463085753795,\n",
       "  array([-2.7e-07, 4.55e-07]): 0.0010247889675140765,\n",
       "  array([-2.7e-07, 4.6e-07]): 0.0010238319703846925,\n",
       "  array([-2.7e-07, 4.65e-07]): 0.0010228491682831178,\n",
       "  array([-2.7e-07, 4.7e-07]): 0.0010220291587769111,\n",
       "  array([-2.7e-07, 4.75e-07]): 0.0010211761642847025,\n",
       "  array([-2.7e-07, 4.800000000000001e-07]): 0.0010204496879987614,\n",
       "  array([-2.7e-07, 4.85e-07]): 0.0010196710753925897,\n",
       "  array([-2.7e-07, 4.9e-07]): 0.0010189798089541547,\n",
       "  array([-2.7e-07, 4.95e-07]): 0.001018196755043521,\n",
       "  array([-2.7e-07, 5e-07]): 0.00101746176652024,\n",
       "  array([-2.7e-07, 5.05e-07]): 0.0010165932336389488,\n",
       "  array([-2.7e-07, 5.1e-07]): 0.0010157548165550666,\n",
       "  array([-2.7e-07, 5.15e-07]): 0.0010147466293720985,\n",
       "  array([-2.7e-07, 5.2e-07]): 0.0010137626204382304,\n",
       "  array([-2.7e-07, 5.250000000000001e-07]): 0.0010125707206254367,\n",
       "  array([-2.7e-07, 5.3e-07]): 0.0010113978835444293,\n",
       "  array([-2.7e-07, 5.35e-07]): 0.001009958268187361,\n",
       "  array([-2.7e-07, 5.4e-07]): 0.001008506522175547,\n",
       "  array([-2.7e-07, 5.45e-07]): 0.0010066520048101484,\n",
       "  array([-2.7e-07, 5.5e-07]): 0.0010047025325119964,\n",
       "  array([-2.7e-07, 5.55e-07]): 0.001002134659067298,\n",
       "  array([-2.7e-07, 5.6e-07]): 0.000999364337047044,\n",
       "  array([-2.7e-07, 5.65e-07]): 0.0009956018835443965,\n",
       "  array([-2.7e-07, 5.7e-07]): 0.000991329995518277,\n",
       "  array([-2.7e-07, 5.75e-07]): 0.0009851315181246619,\n",
       "  array([-2.65e-07, 0.0]): 0.0032285311676551946,\n",
       "  array([-2.65e-07, 5e-09]): 0.0033232186801906067,\n",
       "  array([-2.65e-07, 1e-08]): 0.003433891703128479,\n",
       "  array([-2.65e-07, 1.5000000000000002e-08]): 0.003535280786666146,\n",
       "  array([-2.65e-07, 2e-08]): 0.0036322375452907574,\n",
       "  array([-2.65e-07, 2.5e-08]): 0.0037155236665644183,\n",
       "  array([-2.65e-07, 3.0000000000000004e-08]): 0.0037830799683983554,\n",
       "  array([-2.65e-07, 3.5e-08]): 0.0038423403584920265,\n",
       "  array([-2.65e-07, 4e-08]): 0.0038874248651796293,\n",
       "  array([-2.65e-07, 4.5e-08]): 0.003930042835465325,\n",
       "  array([-2.65e-07, 5e-08]): 0.00396373307495272,\n",
       "  array([-2.65e-07, 5.5e-08]): 0.003997102634697886,\n",
       "  array([-2.65e-07, 6.000000000000001e-08]): 0.00402384408671942,\n",
       "  array([-2.65e-07, 6.5e-08]): 0.0040502693968956895,\n",
       "  array([-2.65e-07, 7e-08]): 0.0040711293268476355,\n",
       "  array([-2.65e-07, 7.5e-08]): 0.004091356816335825,\n",
       "  array([-2.65e-07, 8e-08]): 0.004107071672472722,\n",
       "  array([-2.65e-07, 8.500000000000001e-08]): 0.0041222200310828145,\n",
       "  array([-2.65e-07, 9e-08]): 0.004134138241170485,\n",
       "  array([-2.65e-07, 9.5e-08]): 0.004146054249481134,\n",
       "  array([-2.65e-07, 1e-07]): 0.004155773463924168,\n",
       "  array([-2.65e-07, 1.05e-07]): 0.0041655762737850014,\n",
       "  array([-2.65e-07, 1.1e-07]): 0.0041734502973680716,\n",
       "  array([-2.65e-07, 1.15e-07]): 0.00418114870198963,\n",
       "  array([-2.65e-07, 1.2000000000000002e-07]): 0.0041870880904079305,\n",
       "  array([-2.65e-07, 1.25e-07]): 0.0041926411572903366,\n",
       "  array([-2.65e-07, 1.3e-07]): 0.00419673179364937,\n",
       "  array([-2.65e-07, 1.35e-07]): 0.004200383884105247,\n",
       "  array([-2.65e-07, 1.4e-07]): 0.004202948330480463,\n",
       "  array([-2.65e-07, 1.4500000000000001e-07]): 0.0042051021292249715,\n",
       "  array([-2.65e-07, 1.5e-07]): 0.004206410844098413,\n",
       "  array([-2.65e-07, 1.55e-07]): 0.004207128058930109,\n",
       "  array([-2.65e-07, 1.6e-07]): 0.004207043488970537,\n",
       "  array([-2.65e-07, 1.65e-07]): 0.004206078096037425,\n",
       "  array([-2.65e-07, 1.7000000000000001e-07]): 0.004204375631936289,\n",
       "  array([-2.65e-07, 1.75e-07]): 0.004201513546763908,\n",
       "  array([-2.65e-07, 1.8e-07]): 0.004198019459430827,\n",
       "  array([-2.65e-07, 1.85e-07]): 0.004193011530178135,\n",
       "  array([-2.65e-07, 1.9e-07]): 0.004187316490905073,\n",
       "  array([-2.65e-07, 1.95e-07]): 0.004179297506953315,\n",
       "  array([-2.65e-07, 2e-07]): 0.004170223991617568,\n",
       "  array([-2.65e-07, 2.05e-07]): 0.004157677345123726,\n",
       "  array([-2.65e-07, 2.1e-07]): 0.004143871556934437,\n",
       "  array([-2.65e-07, 2.15e-07]): 0.004125378498050711,\n",
       "  array([-2.65e-07, 2.2e-07]): 0.004105653306055505,\n",
       "  array([-2.65e-07, 2.2500000000000002e-07]): 0.004079903745780562,\n",
       "  array([-2.65e-07, 2.3e-07]): 0.004052845786479286,\n",
       "  array([-2.65e-07, 2.35e-07]): 0.0040174480817550835,\n",
       "  array([-2.65e-07, 2.4000000000000003e-07]): 0.00397928319496199,\n",
       "  array([-2.65e-07, 2.45e-07]): 0.003926888098421436,\n",
       "  array([-2.65e-07, 2.5e-07]): 0.003867765970845174,\n",
       "  array([-2.65e-07, 2.55e-07]): 0.003784604768967943,\n",
       "  array([-2.65e-07, 2.6e-07]): 0.0036885709804568147,\n",
       "  array([-2.65e-07, 2.65e-07]): 0.0035515503312072714,\n",
       "  array([-2.65e-07, 2.7e-07]): 0.003384550575709732,\n",
       "  array([-2.65e-07, 2.75e-07]): 0.0031783309032063474,\n",
       "  array([-2.65e-07, 2.8e-07]): 0.0029364225982449234,\n",
       "  array([-2.65e-07, 2.85e-07]): 0.0026872469446513124,\n",
       "  array([-2.65e-07, 2.9000000000000003e-07]): 0.0024245788273187193,\n",
       "  array([-2.65e-07, 2.95e-07]): 0.0021846993627861314,\n",
       "  array([-2.65e-07, 3e-07]): 0.0019624266996039765,\n",
       "  array([-2.65e-07, 3.05e-07]): 0.001778207122757464,\n",
       "  array([-2.65e-07, 3.1e-07]): 0.001637667999800106,\n",
       "  array([-2.65e-07, 3.15e-07]): 0.001519770141705059,\n",
       "  array([-2.65e-07, 3.2e-07]): 0.0014363731885377311,\n",
       "  array([-2.65e-07, 3.25e-07]): 0.0013630860275164033,\n",
       "  array([-2.65e-07, 3.3e-07]): 0.001310496615958303,\n",
       "  array([-2.65e-07, 3.35e-07]): 0.0012635062474252003,\n",
       "  array([-2.65e-07, 3.4000000000000003e-07]): 0.0012290565720878923,\n",
       "  array([-2.65e-07, 3.4500000000000003e-07]): 0.0011969017488769685,\n",
       "  array([-2.65e-07, 3.5e-07]): 0.0011721608499285616,\n",
       "  array([-2.65e-07, 3.55e-07]): 0.0011484251684832408,\n",
       "  array([-2.65e-07, 3.6e-07]): 0.0011300558106530224,\n",
       "  array([-2.65e-07, 3.65e-07]): 0.001112597927909823,\n",
       "  array([-2.65e-07, 3.7e-07]): 0.001099330391538437,\n",
       "  array([-2.65e-07, 3.75e-07]): 0.0010869832761765863,\n",
       "  array([-2.65e-07, 3.8e-07]): 0.001077771982040916,\n",
       "  array([-2.65e-07, 3.85e-07]): 0.0010692849843250178,\n",
       "  array([-2.65e-07, 3.9e-07]): 0.0010629104898051498,\n",
       "  array([-2.65e-07, 3.9500000000000003e-07]): 0.0010568475738656383,\n",
       "  array([-2.65e-07, 4e-07]): 0.0010521140151145887,\n",
       "  array([-2.65e-07, 4.05e-07]): 0.0010475139704761475,\n",
       "  array([-2.65e-07, 4.1e-07]): 0.0010439077953821236,\n",
       "  array([-2.65e-07, 4.15e-07]): 0.0010404297314625917,\n",
       "  array([-2.65e-07, 4.2e-07]): 0.0010377392633823248,\n",
       "  array([-2.65e-07, 4.25e-07]): 0.0010351802574607993,\n",
       "  array([-2.65e-07, 4.3e-07]): 0.0010332201786570174,\n",
       "  array([-2.65e-07, 4.35e-07]): 0.0010313578599499477,\n",
       "  array([-2.65e-07, 4.4e-07]): 0.001029911316734807,\n",
       "  array([-2.65e-07, 4.4500000000000003e-07]): 0.0010284879463260362,\n",
       "  array([-2.65e-07, 4.5000000000000003e-07]): 0.0010273349170947356,\n",
       "  array([-2.65e-07, 4.55e-07]): 0.0010261648220477844,\n",
       "  array([-2.65e-07, 4.6e-07]): 0.0010251977185136445,\n",
       "  array([-2.65e-07, 4.65e-07]): 0.0010242025186410417,\n",
       "  array([-2.65e-07, 4.7e-07]): 0.0010233699179868242,\n",
       "  array([-2.65e-07, 4.75e-07]): 0.0010225014690153917,\n",
       "  array([-2.65e-07, 4.800000000000001e-07]): 0.001021762086866775,\n",
       "  array([-2.65e-07, 4.85e-07]): 0.0010209720313947288,\n",
       "  array([-2.65e-07, 4.9e-07]): 0.0010202751452675909,\n",
       "  array([-2.65e-07, 4.95e-07]): 0.0010194910085914563,\n",
       "  array([-2.65e-07, 5e-07]): 0.0010187581287358929,\n",
       "  array([-2.65e-07, 5.05e-07]): 0.0010178924890640211,\n",
       "  array([-2.65e-07, 5.1e-07]): 0.0010170543498962343,\n",
       "  array([-2.65e-07, 5.15e-07]): 0.0010160417431204546,\n",
       "  array([-2.65e-07, 5.2e-07]): 0.0010150491481569024,\n",
       "  array([-2.65e-07, 5.250000000000001e-07]): 0.0010138431441332417,\n",
       "  array([-2.65e-07, 5.3e-07]): 0.001012656243155426,\n",
       "  array([-2.65e-07, 5.35e-07]): 0.0010112016868444684,\n",
       "  array([-2.65e-07, 5.4e-07]): 0.0010097399681858429,\n",
       "  array([-2.65e-07, 5.45e-07]): 0.0010078788607717657,\n",
       "  array([-2.65e-07, 5.5e-07]): 0.001005927148622356,\n",
       "  array([-2.65e-07, 5.55e-07]): 0.0010033598605987167,\n",
       "  array([-2.65e-07, 5.6e-07]): 0.001000595138977176,\n",
       "  array([-2.65e-07, 5.65e-07]): 0.0009968555215243776,\n",
       "  array([-2.65e-07, 5.7e-07]): 0.0009926487702689951,\n",
       "  array([-2.65e-07, 5.75e-07]): 0.0009866558503399887,\n",
       "  array([-2.6e-07, 0.0]): 0.00308272910061835,\n",
       "  array([-2.6e-07, 5e-09]): 0.003180453229814873,\n",
       "  array([-2.6e-07, 1e-08]): 0.0032975137776798777,\n",
       "  array([-2.6e-07, 1.5000000000000002e-08]): 0.0034079335509573593,\n",
       "  array([-2.6e-07, 2e-08]): 0.0035204703430747244,\n",
       "  array([-2.6e-07, 2.5e-08]): 0.0036179680798159334,\n",
       "  array([-2.6e-07, 3.0000000000000004e-08]): 0.003705537502112562,\n",
       "  array([-2.6e-07, 3.5e-08]): 0.0037781957410352356,\n",
       "  array([-2.6e-07, 4e-08]): 0.0038354607135760565,\n",
       "  array([-2.6e-07, 4.5e-08]): 0.0038870144782711122,\n",
       "  array([-2.6e-07, 5e-08]): 0.003927397047871565,\n",
       "  array([-2.6e-07, 5.5e-08]): 0.003966509832031628,\n",
       "  array([-2.6e-07, 6.000000000000001e-08]): 0.003997590767390221,\n",
       "  array([-2.6e-07, 6.5e-08]): 0.004027953246603897,\n",
       "  array([-2.6e-07, 7e-08]): 0.004051829941625332,\n",
       "  array([-2.6e-07, 7.5e-08]): 0.004074836218159387,\n",
       "  array([-2.6e-07, 8e-08]): 0.0040926977807652695,\n",
       "  array([-2.6e-07, 8.500000000000001e-08]): 0.00410985297263948,\n",
       "  array([-2.6e-07, 9e-08]): 0.0041233606096712835,\n",
       "  array([-2.6e-07, 9.5e-08]): 0.004136822209838788,\n",
       "  array([-2.6e-07, 1e-07]): 0.004147809722065889,\n",
       "  array([-2.6e-07, 1.05e-07]): 0.004158861647955528,\n",
       "  array([-2.6e-07, 1.1e-07]): 0.004167751774297023,\n",
       "  array([-2.6e-07, 1.15e-07]): 0.004176430235329588,\n",
       "  array([-2.6e-07, 1.2000000000000002e-07]): 0.004183147744613582,\n",
       "  array([-2.6e-07, 1.25e-07]): 0.0041894359494133926,\n",
       "  array([-2.6e-07, 1.3e-07]): 0.004194103928126289,\n",
       "  array([-2.6e-07, 1.35e-07]): 0.004198302433273377,\n",
       "  array([-2.6e-07, 1.4e-07]): 0.004201303015930772,\n",
       "  array([-2.6e-07, 1.4500000000000001e-07]): 0.004203882149920141,\n",
       "  array([-2.6e-07, 1.5e-07]): 0.004205537921000019,\n",
       "  array([-2.6e-07, 1.55e-07]): 0.004206591010341796,\n",
       "  array([-2.6e-07, 1.6e-07]): 0.004206770084865854,\n",
       "  array([-2.6e-07, 1.65e-07]): 0.004206044230047853,\n",
       "  array([-2.6e-07, 1.7000000000000001e-07]): 0.004204514726688143,\n",
       "  array([-2.6e-07, 1.75e-07]): 0.004201793886123868,\n",
       "  array([-2.6e-07, 1.8e-07]): 0.0041983883675673845,\n",
       "  array([-2.6e-07, 1.85e-07]): 0.004193438404066408,\n",
       "  array([-2.6e-07, 1.9e-07]): 0.00418776632228282,\n",
       "  array([-2.6e-07, 1.95e-07]): 0.004179747113820731,\n",
       "  array([-2.6e-07, 2e-07]): 0.004170652431522228,\n",
       "  array([-2.6e-07, 2.05e-07]): 0.004158057573706275,\n",
       "  array([-2.6e-07, 2.1e-07]): 0.004144179510149141,\n",
       "  array([-2.6e-07, 2.15e-07]): 0.004125569720417758,\n",
       "  array([-2.6e-07, 2.2e-07]): 0.004105697969688175,\n",
       "  array([-2.6e-07, 2.2500000000000002e-07]): 0.004079741398064203,\n",
       "  array([-2.6e-07, 2.3e-07]): 0.004052456250807178,\n",
       "  array([-2.6e-07, 2.35e-07]): 0.0040167836056260176,\n",
       "  array([-2.6e-07, 2.4000000000000003e-07]): 0.00397837886069483,\n",
       "  array([-2.6e-07, 2.45e-07]): 0.003925800766213137,\n",
       "  array([-2.6e-07, 2.5e-07]): 0.0038666432912123523,\n",
       "  array([-2.6e-07, 2.55e-07]): 0.003783638094456633,\n",
       "  array([-2.6e-07, 2.6e-07]): 0.003687949799463441,\n",
       "  array([-2.6e-07, 2.65e-07]): 0.0035515270197250303,\n",
       "  array([-2.6e-07, 2.7e-07]): 0.00338521713212991,\n",
       "  array([-2.6e-07, 2.75e-07]): 0.003179817384934659,\n",
       "  array([-2.6e-07, 2.8e-07]): 0.0029386206535624345,\n",
       "  array([-2.6e-07, 2.85e-07]): 0.002690007667898124,\n",
       "  array([-2.6e-07, 2.9000000000000003e-07]): 0.002427775592133677,\n",
       "  array([-2.6e-07, 2.95e-07]): 0.0021882641657250393,\n",
       "  array([-2.6e-07, 3e-07]): 0.0019662789222817086,\n",
       "  array([-2.6e-07, 3.05e-07]): 0.0017824409886070137,\n",
       "  array([-2.6e-07, 3.1e-07]): 0.0016421571498613048,\n",
       "  array([-2.6e-07, 3.15e-07]): 0.0015244571313761269,\n",
       "  array([-2.6e-07, 3.2e-07]): 0.0014411068663836449,\n",
       "  array([-2.6e-07, 3.25e-07]): 0.00136772144644122,\n",
       "  array([-2.6e-07, 3.3e-07]): 0.0013149232062773424,\n",
       "  array([-2.6e-07, 3.35e-07]): 0.00126761093931576,\n",
       "  array([-2.6e-07, 3.4000000000000003e-07]): 0.0012328272189868663,\n",
       "  array([-2.6e-07, 3.4500000000000003e-07]): 0.0012003133354054419,\n",
       "  array([-2.6e-07, 3.5e-07]): 0.0011752747766428347,\n",
       "  array([-2.6e-07, 3.55e-07]): 0.0011512531204451505,\n",
       "  array([-2.6e-07, 3.6e-07]): 0.001132657791574106,\n",
       "  array([-2.6e-07, 3.65e-07]): 0.0011149844359824306,\n",
       "  array([-2.6e-07, 3.7e-07]): 0.00110154308397983,\n",
       "  array([-2.6e-07, 3.75e-07]): 0.0010890249589053163,\n",
       "  array([-2.6e-07, 3.8e-07]): 0.0010796720725668816,\n",
       "  array([-2.6e-07, 3.85e-07]): 0.0010710446884855478,\n",
       "  array([-2.6e-07, 3.9e-07]): 0.0010645562034754526,\n",
       "  array([-2.6e-07, 3.9500000000000003e-07]): 0.0010583857990488078,\n",
       "  array([-2.6e-07, 4e-07]): 0.0010535695907235168,\n",
       "  array([-2.6e-07, 4.05e-07]): 0.0010488939215152141,\n",
       "  array([-2.6e-07, 4.1e-07]): 0.0010452298973976498,\n",
       "  array([-2.6e-07, 4.15e-07]): 0.0010416980889511953,\n",
       "  array([-2.6e-07, 4.2e-07]): 0.0010389653964934082,\n",
       "  array([-2.6e-07, 4.25e-07]): 0.0010363662476298254,\n",
       "  array([-2.6e-07, 4.3e-07]): 0.0010343744953876445,\n",
       "  array([-2.6e-07, 4.35e-07]): 0.001032482679347279,\n",
       "  array([-2.6e-07, 4.4e-07]): 0.0010310138951862052,\n",
       "  array([-2.6e-07, 4.4500000000000003e-07]): 0.0010295711811739215,\n",
       "  array([-2.6e-07, 4.5000000000000003e-07]): 0.0010284044239235695,\n",
       "  array([-2.6e-07, 4.55e-07]): 0.0010272224708177268,\n",
       "  array([-2.6e-07, 4.6e-07]): 0.0010262462910219556,\n",
       "  array([-2.6e-07, 4.65e-07]): 0.0010252420978043946,\n",
       "  array([-2.6e-07, 4.7e-07]): 0.0010244017029088987,\n",
       "  array([-2.6e-07, 4.75e-07]): 0.0010235251982068623,\n",
       "  array([-2.6e-07, 4.800000000000001e-07]): 0.0010227793100063762,\n",
       "  array([-2.6e-07, 4.85e-07]): 0.0010219835176259377,\n",
       "  array([-2.6e-07, 4.9e-07]): 0.0010212829488734489,\n",
       "  array([-2.6e-07, 4.95e-07]): 0.0010204965255578805,\n",
       "  array([-2.6e-07, 5e-07]): 0.0010197627367383977,\n",
       "  array([-2.6e-07, 5.05e-07]): 0.001018896550840607,\n",
       "  array([-2.6e-07, 5.1e-07]): 0.00101805739072443,\n",
       "  array([-2.6e-07, 5.15e-07]): 0.0010170423467053072,\n",
       "  array([-2.6e-07, 5.2e-07]): 0.0010160460418064913,\n",
       "  array([-2.6e-07, 5.250000000000001e-07]): 0.0010148345249311583,\n",
       "  array([-2.6e-07, 5.3e-07]): 0.0010136418324233397,\n",
       "  array([-2.6e-07, 5.35e-07]): 0.0010121807703240596,\n",
       "  array([-2.6e-07, 5.4e-07]): 0.0010107136933243204,\n",
       "  array([-2.6e-07, 5.45e-07]): 0.0010088484692978759,\n",
       "  array([-2.6e-07, 5.5e-07]): 0.0010068958341522445,\n",
       "  array([-2.6e-07, 5.55e-07]): 0.0010043329785747609,\n",
       "  array([-2.6e-07, 5.6e-07]): 0.001001583053554962,\n",
       "  array([-2.6e-07, 5.65e-07]): 0.0009978832899299017,\n",
       "  array([-2.6e-07, 5.7e-07]): 0.0009937631790936726,\n",
       "  array([-2.6e-07, 5.75e-07]): 0.0009878925374089864,\n",
       "  array([-2.55e-07, 0.0]): 0.0029529777257231234,\n",
       "  array([-2.55e-07, 5e-09]): 0.0030469411805087755,\n",
       "  array([-2.55e-07, 1e-08]): 0.0031634372197380666,\n",
       "  array([-2.55e-07, 1.5000000000000002e-08]): 0.0032781411351757057,\n",
       "  array([-2.55e-07, 2e-08]): 0.003399034682941579,\n",
       "  array([-2.55e-07, 2.5e-08]): 0.003508330361620284,\n",
       "  array([-2.55e-07, 3.0000000000000004e-08]): 0.0036099499400519897,\n",
       "  array([-2.55e-07, 3.5e-08]): 0.003696977617071619,\n",
       "  array([-2.55e-07, 4e-08]): 0.003767629054658207,\n",
       "  array([-2.55e-07, 4.5e-08]): 0.0038309966800596155,\n",
       "  array([-2.55e-07, 5e-08]): 0.003880342638356753,\n",
       "  array([-2.55e-07, 5.5e-08]): 0.003927372082855896,\n",
       "  array([-2.55e-07, 6.000000000000001e-08]): 0.003964152030899194,\n",
       "  array([-2.55e-07, 6.5e-08]): 0.003999739973850254,\n",
       "  array([-2.55e-07, 7e-08]): 0.004027431787067612,\n",
       "  array([-2.55e-07, 7.5e-08]): 0.0040540049717526045,\n",
       "  array([-2.55e-07, 8e-08]): 0.004074507794788302,\n",
       "  array([-2.55e-07, 8.500000000000001e-08]): 0.004094182861999368,\n",
       "  array([-2.55e-07, 9e-08]): 0.004109615661718279,\n",
       "  array([-2.55e-07, 9.5e-08]): 0.004124996731066766,\n",
       "  array([-2.55e-07, 1e-07]): 0.00413750893236253,\n",
       "  array([-2.55e-07, 1.05e-07]): 0.004150104961252643,\n",
       "  array([-2.55e-07, 1.1e-07]): 0.004160214699252568,\n",
       "  array([-2.55e-07, 1.15e-07]): 0.004170105696652622,\n",
       "  array([-2.55e-07, 1.2000000000000002e-07]): 0.004177759474048881,\n",
       "  array([-2.55e-07, 1.25e-07]): 0.004184959907525875,\n",
       "  array([-2.55e-07, 1.3e-07]): 0.004190324011302014,\n",
       "  array([-2.55e-07, 1.35e-07]): 0.004195201162613568,\n",
       "  array([-2.55e-07, 1.4e-07]): 0.004198727741330099,\n",
       "  array([-2.55e-07, 1.4500000000000001e-07]): 0.004201834433946678,\n",
       "  array([-2.55e-07, 1.5e-07]): 0.004203908481668121,\n",
       "  array([-2.55e-07, 1.55e-07]): 0.004205380965610142,\n",
       "  array([-2.55e-07, 1.6e-07]): 0.004205884661069176,\n",
       "  array([-2.55e-07, 1.65e-07]): 0.004205471040826298,\n",
       "  array([-2.55e-07, 1.7000000000000001e-07]): 0.0042041707330530515,\n",
       "  array([-2.55e-07, 1.75e-07]): 0.004201657041122949,\n",
       "  array([-2.55e-07, 1.8e-07]): 0.004198393231588398,\n",
       "  array([-2.55e-07, 1.85e-07]): 0.004193560712014171,\n",
       "  array([-2.55e-07, 1.9e-07]): 0.004187960202973177,\n",
       "  array([-2.55e-07, 1.95e-07]): 0.004179992067065733,\n",
       "  array([-2.55e-07, 2e-07]): 0.004170919186837688,\n",
       "  array([-2.55e-07, 2.05e-07]): 0.004158322930017572,\n",
       "  array([-2.55e-07, 2.1e-07]): 0.004144418739218258,\n",
       "  array([-2.55e-07, 2.15e-07]): 0.004125749269041304,\n",
       "  array([-2.55e-07, 2.2e-07]): 0.004105796652269179,\n",
       "  array([-2.55e-07, 2.2500000000000002e-07]): 0.004079718165798771,\n",
       "  array([-2.55e-07, 2.3e-07]): 0.004052302999105034,\n",
       "  array([-2.55e-07, 2.35e-07]): 0.004016470754262061,\n",
       "  array([-2.55e-07, 2.4000000000000003e-07]): 0.003977936030860807,\n",
       "  array([-2.55e-07, 2.45e-07]): 0.003925273357329837,\n",
       "  array([-2.55e-07, 2.5e-07]): 0.0038661340944759295,\n",
       "  array([-2.55e-07, 2.55e-07]): 0.0037832882348692544,\n",
       "  array([-2.55e-07, 2.6e-07]): 0.003687878146252758,\n",
       "  array([-2.55e-07, 2.65e-07]): 0.0035519158388957737,\n",
       "  array([-2.55e-07, 2.7e-07]): 0.003386106981686793,\n",
       "  array([-2.55e-07, 2.75e-07]): 0.0031813058528062056,\n",
       "  array([-2.55e-07, 2.8e-07]): 0.002940602723655144,\n",
       "  array([-2.55e-07, 2.85e-07]): 0.0026924229435842904,\n",
       "  array([-2.55e-07, 2.9000000000000003e-07]): 0.0024304882469466838,\n",
       "  array([-2.55e-07, 2.95e-07]): 0.0021912617011013223,\n",
       "  array([-2.55e-07, 3e-07]): 0.0019695085815392577,\n",
       "  array([-2.55e-07, 3.05e-07]): 0.0017859387232728268,\n",
       "  array([-2.55e-07, 3.1e-07]): 0.0016458472047577277,\n",
       "  array([-2.55e-07, 3.15e-07]): 0.0015282928676211079,\n",
       "  array([-2.55e-07, 3.2e-07]): 0.0014449827693226729,\n",
       "  array([-2.55e-07, 3.25e-07]): 0.0013715368196824706,\n",
       "  array([-2.55e-07, 3.3e-07]): 0.0013186012254755215,\n",
       "  array([-2.55e-07, 3.35e-07]): 0.001271063841885732,\n",
       "  array([-2.55e-07, 3.4000000000000003e-07]): 0.0012360462507361857,\n",
       "  array([-2.55e-07, 3.4500000000000003e-07]): 0.001203266412746093,\n",
       "  array([-2.55e-07, 3.5e-07]): 0.0011780058435946058,\n",
       "  array([-2.55e-07, 3.55e-07]): 0.001153755742295934,\n",
       "  array([-2.55e-07, 3.6e-07]): 0.0011349789574406578,\n",
       "  array([-2.55e-07, 3.65e-07]): 0.0011171229902046129,\n",
       "  array([-2.55e-07, 3.7e-07]): 0.0011035370027176162,\n",
       "  array([-2.55e-07, 3.75e-07]): 0.0010908724575584591,\n",
       "  array([-2.55e-07, 3.8e-07]): 0.00108140260674246,\n",
       "  array([-2.55e-07, 3.85e-07]): 0.0010726564351312932,\n",
       "  array([-2.55e-07, 3.9e-07]): 0.0010660738306602579,\n",
       "  array([-2.55e-07, 3.9500000000000003e-07]): 0.0010598107505403222,\n",
       "  array([-2.55e-07, 4e-07]): 0.001054923765827378,\n",
       "  array([-2.55e-07, 4.05e-07]): 0.0010501799149527143,\n",
       "  array([-2.55e-07, 4.1e-07]): 0.0010464645580076045,\n",
       "  array([-2.55e-07, 4.15e-07]): 0.001042883692621516,\n",
       "  array([-2.55e-07, 4.2e-07]): 0.0010401141649987013,\n",
       "  array([-2.55e-07, 4.25e-07]): 0.0010374798145304954,\n",
       "  array([-2.55e-07, 4.3e-07]): 0.0010354616414543262,\n",
       "  array([-2.55e-07, 4.35e-07]): 0.001033544563789079,\n",
       "  array([-2.55e-07, 4.4e-07]): 0.0010320567900648384,\n",
       "  array([-2.55e-07, 4.4500000000000003e-07]): 0.0010305961548924597,\n",
       "  array([-2.55e-07, 4.5000000000000003e-07]): 0.001029416261859676,\n",
       "  array([-2.55e-07, 4.55e-07]): 0.0010282222034829554,\n",
       "  array([-2.55e-07, 4.6e-07]): 0.0010272372457352697,\n",
       "  array([-2.55e-07, 4.65e-07]): 0.001026224936919019,\n",
       "  array([-2.55e-07, 4.7e-07]): 0.0010253786384136433,\n",
       "  array([-2.55e-07, 4.75e-07]): 0.0010244966966732807,\n",
       "  array([-2.55e-07, 4.800000000000001e-07]): 0.001023746964175421,\n",
       "  array([-2.55e-07, 4.85e-07]): 0.0010229476786951899,\n",
       "  array([-2.55e-07, 4.9e-07]): 0.0010222445478788793,\n",
       "  array([-2.55e-07, 4.95e-07]): 0.001021455755644222,\n",
       "  array([-2.55e-07, 5e-07]): 0.0010207202954852874,\n",
       "  array([-2.55e-07, 5.05e-07]): 0.001019852637674451,\n",
       "  array([-2.55e-07, 5.1e-07]): 0.0010190122922307079,\n",
       "  array([-2.55e-07, 5.15e-07]): 0.0010179958287160863,\n",
       "  array([-2.55e-07, 5.2e-07]): 0.0010169980468289327,\n",
       "  array([-2.55e-07, 5.250000000000001e-07]): 0.0010157845180202147,\n",
       "  array([-2.55e-07, 5.3e-07]): 0.0010145897704982745,\n",
       "  array([-2.55e-07, 5.35e-07]): 0.0010131260120951752,\n",
       "  array([-2.55e-07, 5.4e-07]): 0.0010116563857286913,\n",
       "  array([-2.55e-07, 5.45e-07]): 0.0010097890428897667,\n",
       "  array([-2.55e-07, 5.5e-07]): 0.0010078366385516276,\n",
       "  array([-2.55e-07, 5.55e-07]): 0.0010052793215976996,\n",
       "  array([-2.55e-07, 5.6e-07]): 0.001002544386242496,\n",
       "  array([-2.55e-07, 5.65e-07]): 0.0009988866860209966,\n",
       "  array([-2.55e-07, 5.7e-07]): 0.0009948614758522067,\n",
       "  array([-2.55e-07, 5.75e-07]): 0.0009892883527072344,\n",
       "  array([-2.5e-07, 0.0]): 0.0028393106298180166,\n",
       "  array([-2.5e-07, 5e-09]): 0.002917828493079801,\n",
       "  array([-2.5e-07, 1e-08]): 0.003024705499725114,\n",
       "  array([-2.5e-07, 1.5000000000000002e-08]): 0.003138710176593953,\n",
       "  array([-2.5e-07, 2e-08]): 0.003264380816143927,\n",
       "  array([-2.5e-07, 2.5e-08]): 0.003382158520272452,\n",
       "  array([-2.5e-07, 3.0000000000000004e-08]): 0.0034990999558764855,\n",
       "  array([-2.5e-07, 3.5e-08]): 0.0036002561783185973,\n",
       "  array([-2.5e-07, 4e-08]): 0.003691058552985059,\n",
       "  array([-2.5e-07, 4.5e-08]): 0.003767909702720823,\n",
       "  array([-2.5e-07, 5e-08]): 0.0038295549082999892,\n",
       "  array([-2.5e-07, 5.5e-08]): 0.0038856086735131667,\n",
       "  array([-2.5e-07, 6.000000000000001e-08]): 0.003929090016607473,\n",
       "  array([-2.5e-07, 6.5e-08]): 0.003970331915232485,\n",
       "  array([-2.5e-07, 7e-08]): 0.00400219852763868,\n",
       "  array([-2.5e-07, 7.5e-08]): 0.0040324663077650385,\n",
       "  array([-2.5e-07, 8e-08]): 0.004055743154169752,\n",
       "  array([-2.5e-07, 8.500000000000001e-08]): 0.004077952185831061,\n",
       "  array([-2.5e-07, 9e-08]): 0.004095364512503036,\n",
       "  array([-2.5e-07, 9.5e-08]): 0.004112656155428214,\n",
       "  array([-2.5e-07, 1e-07]): 0.004126729837720143,\n",
       "  array([-2.5e-07, 1.05e-07]): 0.004140859952121867,\n",
       "  array([-2.5e-07, 1.1e-07]): 0.004152215519257209,\n",
       "  array([-2.5e-07, 1.15e-07]): 0.004163306955589508,\n",
       "  array([-2.5e-07, 1.2000000000000002e-07]): 0.004171912520956463,\n",
       "  array([-2.5e-07, 1.25e-07]): 0.004180011016769037,\n",
       "  array([-2.5e-07, 1.3e-07]): 0.00418607899101457,\n",
       "  array([-2.5e-07, 1.35e-07]): 0.004191622431335997,\n",
       "  array([-2.5e-07, 1.4e-07]): 0.004195683072333057,\n",
       "  array([-2.5e-07, 1.4500000000000001e-07]): 0.004199313357829676,\n",
       "  array([-2.5e-07, 1.5e-07]): 0.004201818040299414,\n",
       "  array([-2.5e-07, 1.55e-07]): 0.004203713071965646,\n",
       "  array([-2.5e-07, 1.6e-07]): 0.004204556747065592,\n",
       "  array([-2.5e-07, 1.65e-07]): 0.004204465008176699,\n",
       "  array([-2.5e-07, 1.7000000000000001e-07]): 0.004203413041038269,\n",
       "  array([-2.5e-07, 1.75e-07]): 0.004201124901048379,\n",
       "  array([-2.5e-07, 1.8e-07]): 0.004198029217496297,\n",
       "  array([-2.5e-07, 1.85e-07]): 0.004193345988180391,\n",
       "  array([-2.5e-07, 1.9e-07]): 0.004187855876416451,\n",
       "  array([-2.5e-07, 1.95e-07]): 0.004179984857096433,\n",
       "  array([-2.5e-07, 2e-07]): 0.004170980618327356,\n",
       "  array([-2.5e-07, 2.05e-07]): 0.004158437509035173,\n",
       "  array([-2.5e-07, 2.1e-07]): 0.004144560872287495,\n",
       "  array([-2.5e-07, 2.15e-07]): 0.004125898567088552,\n",
       "  array([-2.5e-07, 2.2e-07]): 0.004105933463699596,\n",
       "  array([-2.5e-07, 2.2500000000000002e-07]): 0.0040798257442250675,\n",
       "  array([-2.5e-07, 2.3e-07]): 0.004052378382185245,\n",
       "  array([-2.5e-07, 2.35e-07]): 0.004016517401106695,\n",
       "  array([-2.5e-07, 2.4000000000000003e-07]): 0.003977976854230232,\n",
       "  array([-2.5e-07, 2.45e-07]): 0.003925345576305456,\n",
       "  array([-2.5e-07, 2.5e-07]): 0.0038662815065287873,\n",
       "  array([-2.5e-07, 2.55e-07]): 0.0037835762929265262,\n",
       "  array([-2.5e-07, 2.6e-07]): 0.0036883480906465824,\n",
       "  array([-2.5e-07, 2.65e-07]): 0.0035526356218363096,\n",
       "  array([-2.5e-07, 2.7e-07]): 0.0033870931396002093,\n",
       "  array([-2.5e-07, 2.75e-07]): 0.003182582742451572,\n",
       "  array([-2.5e-07, 2.8e-07]): 0.0029421470870306635,\n",
       "  array([-2.5e-07, 2.85e-07]): 0.0026941957620916336,\n",
       "  array([-2.5e-07, 2.9000000000000003e-07]): 0.0024324333951898365,\n",
       "  array([-2.5e-07, 2.95e-07]): 0.0021933367541981438,\n",
       "  array([-2.5e-07, 3e-07]): 0.0019716429731099078,\n",
       "  array([-2.5e-07, 3.05e-07]): 0.0017881546897893352,\n",
       "  array([-2.5e-07, 3.1e-07]): 0.0016481170301723333,\n",
       "  array([-2.5e-07, 3.15e-07]): 0.0015306155008444342,\n",
       "  array([-2.5e-07, 3.2e-07]): 0.0014473281701298422,\n",
       "  array([-2.5e-07, 3.25e-07]): 0.0013738718632524093,\n",
       "  array([-2.5e-07, 3.3e-07]): 0.0013208920042832013,\n",
       "  array([-2.5e-07, 3.35e-07]): 0.0012732711831673952,\n",
       "  array([-2.5e-07, 3.4000000000000003e-07]): 0.0012381523451712863,\n",
       "  array([-2.5e-07, 3.4500000000000003e-07]): 0.0012052436715305468,\n",
       "  array([-2.5e-07, 3.5e-07]): 0.0011798590827120108,\n",
       "  array([-2.5e-07, 3.55e-07]): 0.0011554749608572884,\n",
       "  ...}}"
      ]
     },
     "execution_count": 3043,
     "metadata": {},
     "output_type": "execute_result"
    }
   ],
   "source": [
    "params"
   ]
  },
  {
   "cell_type": "markdown",
   "id": "45c95829-f17b-4bac-8af6-bc5ce7bea50f",
   "metadata": {},
   "source": [
    "#### Algorithm to transform basis of the coupled Hamiltonian to Majorana Hamiltonian"
   ]
  },
  {
   "cell_type": "markdown",
   "id": "161ab704-f0f5-434e-8bb5-873b2b6faec9",
   "metadata": {},
   "source": [
    "### 1. Simulate the decoupled system and Wannerize the eigenstates"
   ]
  },
  {
   "cell_type": "code",
   "execution_count": 2900,
   "id": "5193878f-6efc-4132-a1f2-3e803b12ef0d",
   "metadata": {},
   "outputs": [],
   "source": [
    "# 1. Simulate the decoupled system and Wannerize the eigenstates\n",
    "\n",
    "voltages = {'left_1': -0.0036,\n",
    "            'left_2': -0.0086,\n",
    "            'right_1': -0.0086,\n",
    "            'right_2': -0.0036,\n",
    "            'top_1': -0.0037,\n",
    "            'top_2': -0.0037,\n",
    "            'global_accumul': -7e-05}\n",
    "\n",
    "summed_ham = sum(\n",
    "    [\n",
    "        linear_ham[key] * voltages[key]\n",
    "        for key, value in linear_ham.items()\n",
    "    ]\n",
    ")\n",
    "\n",
    "tight_binding_hamiltonian = base_hamiltonian + summed_ham\n",
    "\n",
    "\n",
    "eigval, eigvec = sl.sort_eigen(sparse.linalg.eigsh(tight_binding_hamiltonian.tocsc(), \n",
    "                                                   k=12, sigma = 0))\n",
    "\n",
    "lowest_e_indices = np.argsort(np.abs(eigval))[: 6]\n",
    "lowest_e_energies = eigval[lowest_e_indices]\n",
    "lowest_e_states = eigvec.T[:, lowest_e_indices].T"
   ]
  },
  {
   "cell_type": "code",
   "execution_count": 2901,
   "id": "cb955010-009e-4d7d-b301-aad2744b1cf1",
   "metadata": {},
   "outputs": [
    {
     "data": {
      "image/png": "[encoded data removed]",
      "text/plain": [
       "<Figure size 360x360 with 6 Axes>"
      ]
     },
     "metadata": {
      "needs_background": "light"
     },
     "output_type": "display_data"
    }
   ],
   "source": [
    "fig, ax = plt.subplots(1, len(lowest_e_states), figsize = (5, 5), sharey = True)\n",
    "for i in range(len(lowest_e_states)):\n",
    "    cax = kwant.plotter.density(trijunction, density(lowest_e_states[i]), ax = ax[i]);"
   ]
  },
  {
   "cell_type": "markdown",
   "id": "41a62684-2f80-46cf-8621-a160fc6d796b",
   "metadata": {},
   "source": [
    "#### Wannierization"
   ]
  },
  {
   "cell_type": "code",
   "execution_count": 2902,
   "id": "c3a29025-11e0-47f8-9e71-eda6383fb14e",
   "metadata": {},
   "outputs": [],
   "source": [
    "X_operator = Density(\n",
    "            trijunction, onsite=lambda site: np.eye(4) * site.pos[0]\n",
    "        )\n",
    "\n",
    "Y_operator = Density(\n",
    "            trijunction, onsite=lambda site: np.eye(4) * site.pos[1]\n",
    "        )"
   ]
  },
  {
   "cell_type": "code",
   "execution_count": 2903,
   "id": "ff478c94-f404-4353-b2a9-17c3c68dfa77",
   "metadata": {},
   "outputs": [],
   "source": [
    "projected_X_operator = wannier_1D_operator(X_operator, \n",
    "                                           lowest_e_states.T)\n",
    "\n",
    "projected_Y_operator = wannier_1D_operator(Y_operator, \n",
    "                                           lowest_e_states.T)"
   ]
  },
  {
   "cell_type": "code",
   "execution_count": 2904,
   "id": "f7778698-9cb3-47fa-9aac-8a1ea690f60d",
   "metadata": {},
   "outputs": [],
   "source": [
    "w_basis = wannier_basis([projected_X_operator, \n",
    "                         projected_Y_operator])\n",
    "\n",
    "mlwf = w_basis.T @ lowest_e_states"
   ]
  },
  {
   "cell_type": "code",
   "execution_count": 2905,
   "id": "8a31f15d-edc1-413c-a80e-fbe438d34d92",
   "metadata": {},
   "outputs": [
    {
     "data": {
      "image/png": "[encoded data removed]",
      "text/plain": [
       "<Figure size 360x360 with 6 Axes>"
      ]
     },
     "metadata": {
      "needs_background": "light"
     },
     "output_type": "display_data"
    }
   ],
   "source": [
    "fig, ax = plt.subplots(1, 6, figsize = (5, 5), sharey = True)\n",
    "for i in range(6):\n",
    "    cax = kwant.plotter.density(trijunction, density(mlwf[i]), ax = ax[i]);"
   ]
  },
  {
   "cell_type": "markdown",
   "id": "8bd7c63a-ad3a-4e97-9052-4e7311fe1356",
   "metadata": {},
   "source": [
    "### 2. Simulate coupled system and find the eigenstates"
   ]
  },
  {
   "cell_type": "raw",
   "id": "373ed77a-c259-4a15-a539-dcb73cdce5e0",
   "metadata": {},
   "source": [
    "voltages = {'left_1': -0.0014,\n",
    " 'left_2': -0.0014,\n",
    " 'right_1': -0.0037,\n",
    " 'right_2': -0.0037,\n",
    " 'top_1': -0.0014 ,\n",
    " 'top_2': -0.0014,\n",
    " 'global_accumul': 3e-3}"
   ]
  },
  {
   "cell_type": "code",
   "execution_count": 2906,
   "id": "a869b183-e164-462e-b7cb-9030b7c5202b",
   "metadata": {},
   "outputs": [
    {
     "data": {
      "text/plain": [
       "array([-0.00472964, -0.0008528 , -0.00102755,  0.00284022])"
      ]
     },
     "execution_count": 2906,
     "metadata": {},
     "output_type": "execute_result"
    }
   ],
   "source": [
    "sol1.x"
   ]
  },
  {
   "cell_type": "raw",
   "id": "fdac7d2d-ad06-41cc-9a79-d08da8e507a5",
   "metadata": {},
   "source": [
    "initial_condition = [-0.003, -0.003, -0.0037, 0.003]"
   ]
  },
  {
   "cell_type": "code",
   "execution_count": 3028,
   "id": "7fee554f-641a-413e-95f1-1c32821abefe",
   "metadata": {},
   "outputs": [],
   "source": [
    "x = sol1.x\n",
    "\n",
    "voltages = {}\n",
    "    \n",
    "voltages['left_1'] = x[0]\n",
    "voltages['left_2'] = voltages['left_1']\n",
    "voltages['right_1'] = x[1]\n",
    "voltages['right_2'] = voltages['right_1']\n",
    "voltages['top_1'] = x[2]\n",
    "voltages['top_2'] = voltages['top_1']\n",
    "voltages['global_accumul'] = x[3]"
   ]
  },
  {
   "cell_type": "markdown",
   "id": "32e5b778-6423-45d1-b708-9f3f9d624a8e",
   "metadata": {},
   "source": [
    "with open(\"/home/tinkerer/trijunction-design/data/LC_voltages.pkl\", 'wb') as infile:\n",
    "    pickle.dump(voltages, infile)"
   ]
  },
  {
   "cell_type": "code",
   "execution_count": 3029,
   "id": "fa679b96-32b0-4e87-a009-bd2c675f27a6",
   "metadata": {},
   "outputs": [],
   "source": [
    "potential = gate_potential(\n",
    "        poisson_system,\n",
    "        linear_problem,\n",
    "        site_coords[:, [0, 1]],\n",
    "        site_indices,\n",
    "        voltages,\n",
    "        charges,\n",
    "        offset = offset[[0, 1]],\n",
    "        grid_spacing = kwant_params['grid_spacing']\n",
    "    )\n",
    "\n",
    "potential.update((x, y*-1) for x, y in potential.items())\n",
    "\n",
    "params.update(potential=potential)"
   ]
  },
  {
   "cell_type": "code",
   "execution_count": 3030,
   "id": "fb7bebe4-8d38-4001-a7fc-0a7cd4e47f81",
   "metadata": {},
   "outputs": [],
   "source": [
    "f_mu = f_params(**params)['mu']"
   ]
  },
  {
   "cell_type": "code",
   "execution_count": 3031,
   "id": "a15dd351-86d3-46d7-b943-316423d132cf",
   "metadata": {},
   "outputs": [],
   "source": [
    "def plot_f_mu(i):\n",
    "    x, y = trijunction.sites[i].pos\n",
    "    return f_mu(x, y)"
   ]
  },
  {
   "cell_type": "code",
   "execution_count": 3032,
   "id": "eb68bb27-823a-4e10-afec-ec1b84dd42a2",
   "metadata": {},
   "outputs": [],
   "source": [
    "kwant_sites = np.array(list(site.pos for site in trijunction.sites))"
   ]
  },
  {
   "cell_type": "code",
   "execution_count": 3033,
   "id": "4fba466b-c828-45eb-9110-c5dab24243bc",
   "metadata": {},
   "outputs": [],
   "source": [
    "to_plot = [plot_f_mu(i) for i in range(len(kwant_sites))]"
   ]
  },
  {
   "cell_type": "code",
   "execution_count": 3034,
   "id": "22b88129-5c1c-4932-8c19-6ea3397d3c4f",
   "metadata": {},
   "outputs": [],
   "source": [
    "grid_points = poisson_system.grid.points\n",
    "voltage_regions = poisson_system.regions.voltage.tag_points"
   ]
  },
  {
   "cell_type": "code",
   "execution_count": 3035,
   "id": "6255d7a6-d2df-4ecc-ba5a-78226c74d6b9",
   "metadata": {},
   "outputs": [
    {
     "data": {
      "image/png": "[encoded data removed]",
      "text/plain": [
       "<Figure size 504x360 with 2 Axes>"
      ]
     },
     "metadata": {
      "needs_background": "light"
     },
     "output_type": "display_data"
    }
   ],
   "source": [
    "fig, ax = plt.subplots(1, 1, figsize = (7, 5))\n",
    "cax = ax.scatter(kwant_sites[:, 0 ], kwant_sites[:, 1], \n",
    "                 c = np.array(to_plot), cmap = 'gist_heat_r'\n",
    "                );\n",
    "ax.set_ylim(0, 0.6e-6);\n",
    "plt.colorbar(cax);\n",
    "# plt.axis('equal')"
   ]
  },
  {
   "cell_type": "code",
   "execution_count": 3036,
   "id": "45a8c9af-8d9f-4bc5-9daf-02edf88646a7",
   "metadata": {},
   "outputs": [],
   "source": [
    "summed_ham = sum(\n",
    "    [\n",
    "        linear_ham[key] * voltages[key]\n",
    "        for key, value in linear_ham.items()\n",
    "    ]\n",
    ")\n",
    "\n",
    "tight_binding_hamiltonian = base_hamiltonian + summed_ham\n",
    "\n",
    "\n",
    "eigval, eigvec = sl.sort_eigen(sparse.linalg.eigsh(tight_binding_hamiltonian.tocsc(), \n",
    "                                                   k=6, sigma = 0))"
   ]
  },
  {
   "cell_type": "code",
   "execution_count": 3037,
   "id": "1e64c629-1d50-413d-bc99-918e7567256f",
   "metadata": {},
   "outputs": [],
   "source": [
    "lowest_e_indices = np.argsort(np.abs(eigval))[: 6]\n",
    "lowest_e_energies = eigval[lowest_e_indices]\n",
    "coupled_states = eigvec.T[:, lowest_e_indices].T"
   ]
  },
  {
   "cell_type": "code",
   "execution_count": 3038,
   "id": "e2cff0f2-1b8f-4776-88d6-11e3b887e100",
   "metadata": {},
   "outputs": [
    {
     "data": {
      "text/plain": [
       "array([-2.92935792e-10,  2.92935792e-10,  1.23023197e-07, -1.23023197e-07,\n",
       "        6.60394802e-05, -6.60394802e-05])"
      ]
     },
     "execution_count": 3038,
     "metadata": {},
     "output_type": "execute_result"
    }
   ],
   "source": [
    "lowest_e_energies"
   ]
  },
  {
   "cell_type": "code",
   "execution_count": 3039,
   "id": "30bf65ac-b55e-4f68-bbf0-24d79726687c",
   "metadata": {},
   "outputs": [
    {
     "data": {
      "image/png": "[encoded data removed]",
      "text/plain": [
       "<Figure size 360x360 with 6 Axes>"
      ]
     },
     "metadata": {
      "needs_background": "light"
     },
     "output_type": "display_data"
    }
   ],
   "source": [
    "fig, ax = plt.subplots(1, len(lowest_e_states), figsize = (5, 5), sharey = True)\n",
    "for i in range(len(lowest_e_states)):\n",
    "    cax = kwant.plotter.density(trijunction, density(coupled_states[i]), ax = ax[i]);"
   ]
  },
  {
   "cell_type": "code",
   "execution_count": 3040,
   "id": "e1d54156-7f99-45b0-b652-6c215b17ce5d",
   "metadata": {},
   "outputs": [],
   "source": [
    "# Overlap matrix\n",
    "decoupled_states = mlwf\n",
    "S = coupled_states @ decoupled_states.T.conj()\n",
    "\n",
    "# Unitary matrix using SVD\n",
    "U, _, Vh = svd(S)\n",
    "S_prime = U @ Vh\n",
    "\n",
    "# Transform coupled Hamiltonian to Majorana basis\n",
    "coupled_ham = S_prime.T.conj() @ np.diag(lowest_e_energies) @ S_prime"
   ]
  },
  {
   "cell_type": "code",
   "execution_count": 3041,
   "id": "ca2e3160-2fd9-4ad2-8740-2ff80c615bd9",
   "metadata": {},
   "outputs": [
    {
     "data": {
      "text/latex": [
       "$\\displaystyle \\left[\\begin{matrix}0 & 6.24381 \\cdot 10^{-5} - 5.88666 \\cdot 10^{-5} i & -6.05007 \\cdot 10^{-5} - 6.75517 \\cdot 10^{-5} i\\\\6.24381 \\cdot 10^{-5} + 5.88666 \\cdot 10^{-5} i & 0 & 0.1270527549 + 0.0032508169 i\\\\-6.05007 \\cdot 10^{-5} + 6.75517 \\cdot 10^{-5} i & 0.1270527549 - 0.0032508169 i & 0\\end{matrix}\\right]$"
      ],
      "text/plain": [
       "Matrix([\n",
       "[                         0,     6.24381e-5 - 5.88666e-5*I,    -6.05007e-5 - 6.75517e-5*I],\n",
       "[ 6.24381e-5 + 5.88666e-5*I,                             0, 0.1270527549 + 0.0032508169*I],\n",
       "[-6.05007e-5 + 6.75517e-5*I, 0.1270527549 - 0.0032508169*I,                             0]])"
      ]
     },
     "execution_count": 3041,
     "metadata": {},
     "output_type": "execute_result"
    }
   ],
   "source": [
    "Matrix(np.round(coupled_ham[2:5, 2:5]/params['Delta'], 10))"
   ]
  },
  {
   "cell_type": "code",
   "execution_count": 3042,
   "id": "11f6eb7b-fa22-48a4-b25f-a0314db62dde",
   "metadata": {},
   "outputs": [
    {
     "data": {
      "text/latex": [
       "$\\displaystyle \\left[\\begin{matrix}0 & 3.12 \\cdot 10^{-8} - 2.94 \\cdot 10^{-8} i & -3.03 \\cdot 10^{-8} - 3.38 \\cdot 10^{-8} i\\\\3.12 \\cdot 10^{-8} + 2.94 \\cdot 10^{-8} i & 0 & 6.35264 \\cdot 10^{-5} + 1.6254 \\cdot 10^{-6} i\\\\-3.03 \\cdot 10^{-8} + 3.38 \\cdot 10^{-8} i & 6.35264 \\cdot 10^{-5} - 1.6254 \\cdot 10^{-6} i & 0\\end{matrix}\\right]$"
      ],
      "text/plain": [
       "Matrix([\n",
       "[                   0,      3.12e-8 - 2.94e-8*I,     -3.03e-8 - 3.38e-8*I],\n",
       "[ 3.12e-8 + 2.94e-8*I,                        0, 6.35264e-5 + 1.6254e-6*I],\n",
       "[-3.03e-8 + 3.38e-8*I, 6.35264e-5 - 1.6254e-6*I,                        0]])"
      ]
     },
     "execution_count": 3042,
     "metadata": {},
     "output_type": "execute_result"
    }
   ],
   "source": [
    "Matrix(np.round(coupled_ham[2:5, 2:5], 10))"
   ]
  },
  {
   "cell_type": "code",
   "execution_count": 1286,
   "id": "0c28c607-4a82-46ae-8e2a-0c50f2d7011c",
   "metadata": {},
   "outputs": [
    {
     "data": {
      "text/latex": [
       "$\\displaystyle \\left[\\begin{matrix}-4.09567360923079 \\cdot 10^{-12} + 5.82326040188319 \\cdot 10^{-21} i & -7.88176579152701 \\cdot 10^{-5} - 4.73479527203097 \\cdot 10^{-5} i & 3.24879398040394 \\cdot 10^{-13} + 1.33379278491191 \\cdot 10^{-14} i\\\\-7.88176579152701 \\cdot 10^{-5} + 4.73479527203097 \\cdot 10^{-5} i & 4.09567958110393 \\cdot 10^{-12} - 1.97316690454141 \\cdot 10^{-21} i & 1.92899674543457 \\cdot 10^{-14} + 3.53166266821307 \\cdot 10^{-14} i\\\\3.24879398040394 \\cdot 10^{-13} - 1.33379278491191 \\cdot 10^{-14} i & 1.92899674543457 \\cdot 10^{-14} - 3.53166266821307 \\cdot 10^{-14} i & 1.32098096846758 \\cdot 10^{-18}\\end{matrix}\\right]$"
      ],
      "text/plain": [
       "Matrix([\n",
       "[-4.09567360923079e-12 + 5.82326040188319e-21*I,  -7.88176579152701e-5 - 4.73479527203097e-5*I, 3.24879398040394e-13 + 1.33379278491191e-14*I],\n",
       "[  -7.88176579152701e-5 + 4.73479527203097e-5*I, 4.09567958110393e-12 - 1.97316690454141e-21*I, 1.92899674543457e-14 + 3.53166266821307e-14*I],\n",
       "[ 3.24879398040394e-13 - 1.33379278491191e-14*I, 1.92899674543457e-14 - 3.53166266821307e-14*I,                          1.32098096846758e-18]])"
      ]
     },
     "execution_count": 1286,
     "metadata": {},
     "output_type": "execute_result"
    }
   ],
   "source": [
    " Matrix(coupled_ham[2:5, 2:5])"
   ]
  },
  {
   "cell_type": "markdown",
   "id": "f9286ab4-1460-441b-aa27-ceaec0829c44",
   "metadata": {
    "tags": []
   },
   "source": [
    "#### Linear part of the Hamiltonian"
   ]
  },
  {
   "cell_type": "code",
   "execution_count": 56,
   "id": "7345b780-d75d-4033-980b-571a04d270bf",
   "metadata": {},
   "outputs": [],
   "source": [
    "from tqdm import tqdm"
   ]
  },
  {
   "cell_type": "code",
   "execution_count": 53,
   "id": "92ea25a5-11f2-465b-b583-d04b3f55ac94",
   "metadata": {},
   "outputs": [],
   "source": [
    "def linear_Hamiltonian(\n",
    "    poisson_params,\n",
    "    kwant_params,\n",
    "    general_params,\n",
    "    gates,\n",
    "    phis = [0.0, 0.0]\n",
    "):\n",
    "\n",
    "    ## non-linear part of the Hamiltonian\n",
    "    \n",
    "    voltages = {}\n",
    "    \n",
    "    for gate in gates: voltages[gate] = 0.0\n",
    "    \n",
    "    kp = kwant_params\n",
    "    pp = poisson_params\n",
    "    \n",
    "    charges = {}\n",
    "    potential = gate_potential(\n",
    "            pp['poisson_system'],\n",
    "            pp['linear_problem'],\n",
    "            pp['site_coords'][:, [0, 1]],\n",
    "            pp['site_indices'],\n",
    "            voltages,\n",
    "            charges,\n",
    "            offset = kp['offset'][[0, 1]],\n",
    "            grid_spacing = kp['grid_spacing']\n",
    "        )\n",
    "    \n",
    "    \n",
    "    \n",
    "    general_params.update(potential=potential)\n",
    "    general_params['phi1'] = phis[0]\n",
    "    general_params['phi2'] = phis[1]\n",
    "    \n",
    "    bare_hamiltonian = kp['finite_system_object'].hamiltonian_submatrix(\n",
    "        sparse=True, params=kp['finite_system_params_object'](**general_params))\n",
    "    \n",
    "    \n",
    "    hamiltonian_V = {}\n",
    "    for gate in tqdm(gates):\n",
    "        \n",
    "\n",
    "        voltages_t = dict.fromkeys(voltages, 0.0)\n",
    "\n",
    "        voltages_t[gate] = 1.0\n",
    "\n",
    "        potential = gate_potential(\n",
    "            pp['poisson_system'],\n",
    "            pp['linear_problem'],\n",
    "            pp['site_coords'][:, [0, 1]],\n",
    "            pp['site_indices'],\n",
    "            voltages_t,\n",
    "            charges,\n",
    "            offset = kp['offset'][[0, 1]],\n",
    "            grid_spacing = kp['grid_spacing']\n",
    "        )\n",
    "    \n",
    "\n",
    "        general_params.update(potential=potential)\n",
    "\n",
    "        hamiltonian = kp['finite_system_object'].hamiltonian_submatrix(\n",
    "            sparse=True, params=kp['finite_system_params_object'](**general_params))\n",
    "\n",
    "\n",
    "        hamiltonian_V[gate] = hamiltonian - bare_hamiltonian\n",
    "\n",
    "    return bare_hamiltonian, hamiltonian_V\n"
   ]
  },
  {
   "cell_type": "code",
   "execution_count": 503,
   "id": "193f07ef-c0b4-4e14-988c-8cb101f6608e",
   "metadata": {},
   "outputs": [],
   "source": [
    "summed_ham = sum(\n",
    "        [\n",
    "            linear_ham[key] * voltages[key]\n",
    "            for key, value in linear_ham.items()\n",
    "        ]\n",
    "    )\n"
   ]
  },
  {
   "cell_type": "code",
   "execution_count": 504,
   "id": "157a8e3c-27c7-4a1e-8772-97b91ab759ee",
   "metadata": {},
   "outputs": [],
   "source": [
    "pp = poisson_params\n",
    "kp = kwant_params\n",
    "potential = gate_potential(\n",
    "    pp['poisson_system'],\n",
    "    pp['linear_problem'],\n",
    "    pp['site_coords'][:, [0, 1]],\n",
    "    pp['site_indices'],\n",
    "    voltages,\n",
    "    charges,\n",
    "    offset = kp['offset'][[0, 1]],\n",
    "    grid_spacing = kp['grid_spacing']\n",
    ")\n",
    "\n",
    "\n",
    "params.update(potential=potential)\n",
    "\n",
    "test_hamiltonian = kp['finite_system_object'].hamiltonian_submatrix(\n",
    "    sparse=True, params=kp['finite_system_params_object'](**params))"
   ]
  },
  {
   "cell_type": "code",
   "execution_count": 578,
   "id": "8b0b2580-cbb7-41ea-b7ad-33cc25a50901",
   "metadata": {},
   "outputs": [],
   "source": [
    "potential = gate_potential(\n",
    "    pp['poisson_system'],\n",
    "    pp['linear_problem'],\n",
    "    pp['site_coords'],\n",
    "    pp['site_indices'],\n",
    "    voltages,\n",
    "    charges,\n",
    "    offset = kp['offset'],\n",
    "    grid_spacing = kp['grid_spacing']\n",
    ")\n"
   ]
  },
  {
   "cell_type": "code",
   "execution_count": 510,
   "id": "532e075d-aea1-4e72-9109-171d46147fc5",
   "metadata": {},
   "outputs": [],
   "source": [
    "potential = gate_potential(\n",
    "    pp['poisson_system'],\n",
    "    pp['linear_problem'],\n",
    "    pp['site_coords'][:, [0, 1]],\n",
    "    pp['site_indices'],\n",
    "    voltages,\n",
    "    charges,\n",
    "    offset = kp['offset'][[0, 1]],\n",
    "    grid_spacing = kp['grid_spacing']\n",
    ")"
   ]
  },
  {
   "cell_type": "code",
   "execution_count": 519,
   "id": "00922c5a-3afd-4afc-af7f-9b663552675e",
   "metadata": {},
   "outputs": [
    {
     "data": {
      "text/plain": [
       "array([-0.5,  0. ,  0.5])"
      ]
     },
     "execution_count": 519,
     "metadata": {},
     "output_type": "execute_result"
    }
   ],
   "source": [
    "np.unique(grid_points[poisson_system.regions.charge.tag_points['twoDEG']][:, 2])"
   ]
  },
  {
   "cell_type": "code",
   "execution_count": 575,
   "id": "e14d9e85-abcd-4fba-9342-d0410e55deb5",
   "metadata": {},
   "outputs": [],
   "source": [
    "site_tuples = map(tuple, site_coords[:, [0, 1]])"
   ]
  },
  {
   "cell_type": "raw",
   "id": "fa94a4ed-0dd8-4678-ba75-b907a2ea0e7d",
   "metadata": {},
   "source": [
    "len(list(site_tuples))"
   ]
  },
  {
   "cell_type": "code",
   "execution_count": 576,
   "id": "944a7c80-7bcf-4098-8a31-ca46387e0987",
   "metadata": {},
   "outputs": [],
   "source": [
    "from potential import _linear_solution\n",
    "solution = _linear_solution(poisson_system, linear_problem, voltages, {})\n",
    "\n",
    "potential = solution[site_indices]"
   ]
  },
  {
   "cell_type": "code",
   "execution_count": 577,
   "id": "947a15c7-f8df-48cf-8a65-c9b440c7b040",
   "metadata": {},
   "outputs": [
    {
     "ename": "ValueError",
     "evalue": "operands could not be broadcast together with shapes (2,) (3,) ",
     "output_type": "error",
     "traceback": [
      "\u001b[0;31m---------------------------------------------------------------------------\u001b[0m",
      "\u001b[0;31mValueError\u001b[0m                                Traceback (most recent call last)",
      "Input \u001b[0;32mIn [577]\u001b[0m, in \u001b[0;36m<cell line: 2>\u001b[0;34m()\u001b[0m\n\u001b[1;32m      4\u001b[0m     potential_dict[ta\u001b[38;5;241m.\u001b[39marray((site_tuple\u001b[38;5;241m-\u001b[39moffset))] \u001b[38;5;241m=\u001b[39m potential[i]\n\u001b[1;32m      5\u001b[0m \u001b[38;5;28;01melse\u001b[39;00m:\n\u001b[0;32m----> 6\u001b[0m     potential_dict[ta\u001b[38;5;241m.\u001b[39marray((\u001b[43msite_tuple\u001b[49m\u001b[38;5;241;43m-\u001b[39;49m\u001b[43moffset\u001b[49m)\u001b[38;5;241m*\u001b[39mkp[\u001b[38;5;124m'\u001b[39m\u001b[38;5;124mgrid_spacing\u001b[39m\u001b[38;5;124m'\u001b[39m])] \u001b[38;5;241m=\u001b[39m potential[i]\n",
      "\u001b[0;31mValueError\u001b[0m: operands could not be broadcast together with shapes (2,) (3,) "
     ]
    }
   ],
   "source": [
    "potential_dict = {}\n",
    "for i, site_tuple in enumerate(site_tuples):\n",
    "    if grid_spacing == 1:\n",
    "        potential_dict[ta.array((site_tuple-offset))] = potential[i]\n",
    "    else:\n",
    "        potential_dict[ta.array((site_tuple-offset)*kp['grid_spacing'])] = potential[i]"
   ]
  },
  {
   "cell_type": "code",
   "execution_count": 565,
   "id": "a3d88dff-f127-41a9-b6b6-ce38e035c798",
   "metadata": {},
   "outputs": [
    {
     "data": {
      "text/plain": [
       "40368"
      ]
     },
     "execution_count": 565,
     "metadata": {},
     "output_type": "execute_result"
    }
   ],
   "source": [
    "len(potential_dict)"
   ]
  },
  {
   "cell_type": "code",
   "execution_count": null,
   "id": "757d9b0f-eddb-4bc9-8130-6833d52bd462",
   "metadata": {},
   "outputs": [],
   "source": []
  }
 ],
 "metadata": {
  "kernelspec": {
   "display_name": "Python 3 (ipykernel)",
   "language": "python",
   "name": "python3"
  },
  "language_info": {
   "codemirror_mode": {
    "name": "ipython",
    "version": 3
   },
   "file_extension": ".py",
   "mimetype": "text/x-python",
   "name": "python",
   "nbconvert_exporter": "python",
   "pygments_lexer": "ipython3",
   "version": "3.10.4"
  }
 },
 "nbformat": 4,
 "nbformat_minor": 5
}
