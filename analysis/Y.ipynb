{
 "cells": [
  {
   "cell_type": "markdown",
   "id": "6b794fcd-e670-4793-b71a-efb61c054404",
   "metadata": {
    "tags": []
   },
   "source": [
    "#### Key take-aways on Friday (22.07.22)\n",
    "\n",
    "* If device configuration is changed, voltages must be adjusted before calculating optimal phases\n",
    "* This also sets the initial condition for the gate voltage optimization\n",
    "* In case the voltage optimization didn't converge, then voltages can be adjusted a bit and try again. Check couplings (unit : Delta) against a threshold value to decide whether the optimizer did its job. But we need to be careful here as a device configuration cannot produce the couplings higher than the threshold value at all and we need not try too many times. We must stop after few iterations (~5).\n",
    "* When changing the device configuration, it is not required to optimize all three Majorana couplings. The performance of a device configuration can be judged fairly based on the strength of one Majorana coupling.\n"
   ]
  },
  {
   "cell_type": "code",
   "execution_count": 4,
   "id": "21c76eab-e8f2-4222-80a7-36d75ac9b5bf",
   "metadata": {
    "tags": []
   },
   "outputs": [],
   "source": [
    "## popular python packages\n",
    "import numpy as np\n",
    "import itertools as it\n",
    "from scipy.linalg import svd\n",
    "import matplotlib.pyplot as plt\n",
    "from dask_quantumtinkerer import Cluster, cluster_options\n",
    "import scipy.sparse.linalg as sla\n",
    "\n",
    "# packages used here\n",
    "import kwant\n",
    "from kwant.operator import Density\n",
    "\n",
    "import sys, os\n",
    "sys.path.append(os.path.realpath(sys.path[0] + '/..'))\n",
    "from rootpath import ROOT_DIR\n",
    "\n",
    "# pre-defined functions\n",
    "sys.path.append(os.path.join(ROOT_DIR + '/code'))\n",
    "# from optimization import Optimize, configuration, _fixed_potential_solver\n",
    "# import parameters\n",
    "# import tools as tl\n",
    "# from solvers import sort_eigen\n",
    "\n",
    "# sys.path.append(os.path.join(ROOT_DIR + '/spin-qubit/'))\n",
    "# from Hamiltonian import discrete_system_coordinates"
   ]
  },
  {
   "cell_type": "code",
   "execution_count": 5,
   "id": "45147e35-df1c-4ebe-beb2-542633fd4036",
   "metadata": {},
   "outputs": [],
   "source": [
    "from constants import length_unit"
   ]
  },
  {
   "cell_type": "code",
   "execution_count": 21,
   "id": "7ccff1c9-11a3-4cf6-a23f-f80f1aa2eb19",
   "metadata": {},
   "outputs": [],
   "source": [
    "options = cluster_options()\n",
    "options.worker_cores = 2\n",
    "options.worker_memory = 20\n",
    "options.extra_path = \"/home/srangaswamykup/trijunction_design/code/\""
   ]
  },
  {
   "cell_type": "raw",
   "id": "f2dfbab0-68fa-464c-aeaf-3b939099e969",
   "metadata": {},
   "source": [
    "from tools import linear_Hamiltonian"
   ]
  },
  {
   "cell_type": "code",
   "execution_count": 22,
   "id": "cac3de85-5125-4913-9180-bf4fd6e12aa0",
   "metadata": {},
   "outputs": [],
   "source": [
    "def _voltage_dict(x, dirichlet = False):\n",
    "    voltages = {}\n",
    "\n",
    "    voltages[\"left_1\"] = x[0]\n",
    "    voltages[\"left_2\"] = voltages[\"left_1\"]\n",
    "    voltages[\"right_1\"] = x[1]\n",
    "    voltages[\"right_2\"] = voltages[\"right_1\"]\n",
    "    voltages[\"top_1\"] = x[2]\n",
    "    voltages[\"top_2\"] = voltages[\"top_1\"]\n",
    "    voltages[\"global_accumul\"] = x[3]\n",
    "    \n",
    "    if dirichlet:\n",
    "        for i in range(6):\n",
    "            voltages[\"dirichlet_\" + str(i)] = 0.0\n",
    "        \n",
    "    return voltages"
   ]
  },
  {
   "cell_type": "markdown",
   "id": "aa6d39cb-150f-4d99-8509-958cc7626665",
   "metadata": {},
   "source": [
    "# Y-shaped geometry"
   ]
  },
  {
   "cell_type": "markdown",
   "id": "b2a820f0-fe15-4b3e-be69-32ad1c13df6b",
   "metadata": {
    "tags": []
   },
   "source": [
    "#### Parameters"
   ]
  },
  {
   "cell_type": "code",
   "execution_count": 41,
   "id": "12c255e5-3228-42bc-9969-18d834328e09",
   "metadata": {},
   "outputs": [],
   "source": [
    "import json\n",
    "filename = 'config.json'\n",
    "saveat = os.path.join(ROOT_DIR, 'code/')\n",
    "with open(saveat + filename , 'r') as outfile:\n",
    "    config = json.load(outfile)"
   ]
  },
  {
   "cell_type": "code",
   "execution_count": 42,
   "id": "8f24b1b1-dac3-41e6-9516-a6b3e08f6ed3",
   "metadata": {},
   "outputs": [
    {
     "data": {
      "text/plain": [
       "{'device': {'thickness': {'dielectric': 1,\n",
       "   'twoDEG': 3,\n",
       "   'gates': 2,\n",
       "   'substrate': 5},\n",
       "  'grid_spacing': {'twoDEG': 0.5,\n",
       "   'normal': 1,\n",
       "   'dielectric': 1,\n",
       "   'air': 5,\n",
       "   'gate': 0.5,\n",
       "   'substrate': 1},\n",
       "  'permittivity': {'metal': 5000,\n",
       "   'twoDEG': 15,\n",
       "   'air': 1.0,\n",
       "   'Al2O3': 9.1,\n",
       "   'substrate': 16}},\n",
       " 'gate': {'L': 41.0, 'width': 12.0, 'gap': 4.0},\n",
       " 'kwant': {'nwl': 150, 'nww': 7}}"
      ]
     },
     "execution_count": 42,
     "metadata": {},
     "output_type": "execute_result"
    }
   ],
   "source": [
    "config"
   ]
  },
  {
   "cell_type": "code",
   "execution_count": 32,
   "id": "e5feb67d-8bdc-44f3-b39f-fef67fb804f3",
   "metadata": {},
   "outputs": [],
   "source": [
    "dielectric_thickness = [0.5, 1, 1.5, 2.0]\n",
    "gate_separation = [7, 9, 11, 13, 15]"
   ]
  },
  {
   "cell_type": "code",
   "execution_count": 33,
   "id": "94ff2263-cb5e-4ded-9e1a-b772141b8a8f",
   "metadata": {},
   "outputs": [],
   "source": [
    "from itertools import product"
   ]
  },
  {
   "cell_type": "raw",
   "id": "712c6eca-4fcb-4c89-8d92-a8befd36e999",
   "metadata": {},
   "source": [
    "change_config = [{'device':{'thickness': {'dielectric': 1}}}, {'gate':{'width': 8}}]"
   ]
  },
  {
   "cell_type": "code",
   "execution_count": 34,
   "id": "14a58688-6f7b-4869-b7f7-cc4211603f37",
   "metadata": {},
   "outputs": [],
   "source": [
    "sequence = np.array(list(product(dielectric_thickness, gate_separation)))"
   ]
  },
  {
   "cell_type": "markdown",
   "id": "0cda97b3-b1fd-4567-beef-90e1481b41da",
   "metadata": {},
   "source": [
    "# Parallel simulation"
   ]
  },
  {
   "cell_type": "code",
   "execution_count": 39,
   "id": "f6ce7fe8-3dbb-481f-82fd-0a10770b5a91",
   "metadata": {
    "tags": []
   },
   "outputs": [],
   "source": [
    "def optimize_thickness_gap():\n",
    "    \n",
    "    def solver(*argv):\n",
    "        \n",
    "        thickness, gap = argv[0][0:]\n",
    "        \n",
    "        \n",
    "        ROOT_DIR = '/home/srangaswamykup/trijunction_design/'\n",
    "        sys.path.append(os.path.join(ROOT_DIR + 'spin-qubit/'))\n",
    "        \n",
    "        sys.path.append(os.path.join(ROOT_DIR + 'code/'))\n",
    "        from potential import gate_potential\n",
    "        from optimization import _fixed_potential_solver, Optimize\n",
    "        import parameters\n",
    "        from solvers import sort_eigen\n",
    "        \n",
    "        import json, pickle\n",
    "        filename = 'config.json'\n",
    "        saveat = os.path.join(ROOT_DIR, 'code/')\n",
    "        with open(saveat + filename , 'r') as outfile:\n",
    "            config = json.load(outfile)\n",
    "            \n",
    "        print('configuration file downloaded')\n",
    "        \n",
    "        # config, boundaries, poisson_system, linear_problem = configuration(config)\n",
    "        optimize = Optimize(config, \n",
    "                            poisson_system = [],\n",
    "                            linear_problem = [],\n",
    "                            boundaries = [], \n",
    "                            length_unit = 1e-8\n",
    "                           )\n",
    "        \n",
    "        \n",
    "        print('Optimization instantiated')\n",
    "        \n",
    "        change_config = [{'device':{'thickness': {'dielectric': thickness}}}, {'gate':{'width': gap}}]\n",
    "        \n",
    "        _, boundaries, poisson_system, linear_problem = optimize.changeconfig(change_config)\n",
    "        \n",
    "        \n",
    "        print('Device configuration changed')\n",
    "\n",
    "        depletion, accumulation = -0.0037, -0.0014\n",
    "\n",
    "        channels = np.array(['left', 'right', 'top'])\n",
    "        pairs = ['right-top', 'left-top', 'left-right']\n",
    "        pairs_voltages = {}\n",
    "\n",
    "        args = optimize.params(pairs[0])\n",
    "        initial_condition = {}\n",
    "\n",
    "        print('Optimizing voltages for all pairs')\n",
    "\n",
    "        for i, pair in enumerate(pairs):\n",
    "\n",
    "            initial_point = np.array([-0.0014, -0.0014, -0.0014, 3e-3])\n",
    "            mask = np.ones((len(initial_point) - 1, ), dtype = bool)\n",
    "            depletion_index = np.where(channels == list(set(channels) - set(pair.split('-')))[0])\n",
    "            mask[depletion_index] = False\n",
    "            initial_point[depletion_index] = depletion\n",
    "            if bool(i):\n",
    "                initial_point[:-1][mask] = accumulation\n",
    "                initial_point[-1] = global_V\n",
    "\n",
    "            initial_condition[pair] = initial_point\n",
    "\n",
    "            # print(f'initial_point {initial_point}')\n",
    "            # print(f'optimizing pair {pair}')\n",
    "            pairs_voltages[pair] = optimize.dep_acc_voltages(pair, initial_point)\n",
    "\n",
    "            depletion = pairs_voltages[pair][depletion_index]\n",
    "            accumulation = pairs_voltages[pair][:-1][mask]\n",
    "            global_V = pairs_voltages[pair][-1]\n",
    "\n",
    "\n",
    "#         \n",
    "        voltages = [_voltage_dict(x, True) for x in list(pairs_voltages.values())]\n",
    "\n",
    "        print('Optimizing phase')\n",
    "\n",
    "        try:\n",
    "            max_phis = optimize.optimalphase(\n",
    "                        voltages\n",
    "            )\n",
    "            \n",
    "\n",
    "            optimal_phis = optimize.optimal_phis\n",
    "\n",
    "            filename = 'phis_' + str(thickness) + '_' + str(gap) + '.pkl'\n",
    "            with open(\"/home/srangaswamykup/trijunction_design/results/\" + filename, 'wb') as outfile:\n",
    "                pickle.dump(optimal_phis, outfile)\n",
    "\n",
    "            optimize.params('right-top', \n",
    "                            optimal_phis=optimal_phis, \n",
    "                            voltages = voltages[0]\n",
    "                           )\n",
    "            # optimize.set_voltages(list(_voltage_dict(pairs_voltages['right-top']).values()), \n",
    "            #                       find_mlwf = True\n",
    "            #                      )\n",
    "\n",
    "            pair_indices = {\n",
    "                        \"right-top\": [1, 2],\n",
    "                        \"left-right\": [0, 1],\n",
    "                        \"left-top\": [0, 2],\n",
    "\n",
    "                    }\n",
    "\n",
    "\n",
    "            for _, pair in enumerate(pairs):\n",
    "\n",
    "                optimal_voltages = optimize.optimize_gate([pair], [initial_condition[pair]], \n",
    "                                                      optimal_phis = optimal_phis)\n",
    "\n",
    "                # optimize.params(pair, optimal_phis=optimal_phis)\n",
    "\n",
    "                voltages = _voltage_dict(optimal_voltages[pair].x, True)\n",
    "\n",
    "                charges = {}\n",
    "                potential = gate_potential(\n",
    "                        poisson_system,\n",
    "                        linear_problem,\n",
    "                        optimize.site_coords[:, [0, 1]],\n",
    "                        optimize.site_indices,\n",
    "                        voltages,\n",
    "                        charges,\n",
    "                        offset = optimize.offset[[0, 1]],\n",
    "                        grid_spacing = optimize.length_unit\n",
    "                    )\n",
    "\n",
    "                potential.update((x, y*-1) for x, y in potential.items())\n",
    "\n",
    "                summed_ham = sum(\n",
    "                [\n",
    "                        optimize.linear_ham[key] * voltages[key]\n",
    "                        for key, value in optimize.linear_ham.items()\n",
    "                    ]\n",
    "                )\n",
    "\n",
    "                tight_binding_hamiltonian = optimize.base_hamiltonian + summed_ham\n",
    "\n",
    "\n",
    "                eigval, eigvec = sort_eigen(sla.eigsh(tight_binding_hamiltonian.tocsc(), \n",
    "                                                                   k=6, sigma = 0))\n",
    "\n",
    "                lowest_e_indices = np.argsort(np.abs(eigval))[: 6]\n",
    "                lowest_e_energies = eigval[lowest_e_indices]\n",
    "                coupled_states = eigvec.T[:, lowest_e_indices].T\n",
    "\n",
    "                # Overlap matrix\n",
    "                decoupled_states = optimize.mlwf\n",
    "                S = coupled_states @ decoupled_states.T.conj()\n",
    "\n",
    "                # Unitary matrix using SVD\n",
    "                U, _, Vh = svd(S)\n",
    "                S_prime = U @ Vh\n",
    "\n",
    "                # Transform coupled Hamiltonian to Majorana basis\n",
    "                coupled_ham = S_prime.T.conj() @ np.diag(lowest_e_energies) @ S_prime\n",
    "\n",
    "                phases = np.linspace(0, 2, 100) * np.pi\n",
    "\n",
    "                phis1 = [{\"phi1\": phi, \"phi2\": 0} for phi in phases]\n",
    "                phis2 = [{\"phi2\": phi, \"phi1\": 0} for phi in phases]\n",
    "                phis = [phis2, phis2, phis1]\n",
    "\n",
    "                mu = parameters.bands[0]\n",
    "                params = parameters.junction_parameters(m_nw=[mu, mu, mu], m_qd=0)\n",
    "                params.update(potential=potential)\n",
    "\n",
    "                solver = _fixed_potential_solver(\n",
    "                    optimize.trijunction, optimize.f_params, params, eigenvecs=False\n",
    "                )\n",
    "                topo_gap = solver(phis[0][0])[0][-1]\n",
    "\n",
    "                coupled_pair = pair_indices[pair]\n",
    "\n",
    "                coupling_strength = np.abs(coupled_ham[2:5, 2:5][coupled_pair[0], coupled_pair[1]]) / topo_gap\n",
    "\n",
    "                filename = str(thickness) + '_' + str(gap) + '_' + str(coupled_pair[0]) + '_' + str(coupled_pair[1]) + '.pkl'\n",
    "                with open(\"/home/srangaswamykup/trijunction_design/results/\" + filename, 'wb') as outfile:\n",
    "                    pickle.dump(coupling_strength, outfile)\n",
    "\n",
    "            return coupling_strength\n",
    "        \n",
    "        except IndexError:\n",
    "            error = 'Index error'\n",
    "            return error\n",
    "\n",
    "    return solver\n"
   ]
  },
  {
   "cell_type": "raw",
   "id": "eaed38e3-2104-4936-8740-f7c48f345ad6",
   "metadata": {},
   "source": [
    "optimize_thickness_gap()(sequence[0])"
   ]
  },
  {
   "cell_type": "code",
   "execution_count": null,
   "id": "9ad558d4-a132-4480-b7ac-00f45ba1c365",
   "metadata": {},
   "outputs": [
    {
     "name": "stdout",
     "output_type": "stream",
     "text": [
      "http://io.quantumtinkerer.tudelft.nl/user/srangaswamykup/proxy/8000/clusters/8533abbea10048429485c2c7d9afcd3c/status\n"
     ]
    }
   ],
   "source": [
    "cluster_dashboard_link = \"http://io.quantumtinkerer.tudelft.nl/user/srangaswamykup/proxy/\"\n",
    "\n",
    "import dask.bag as db\n",
    "with Cluster(options) as cluster:\n",
    "    cluster.scale(n=len(sequence))\n",
    "    client = cluster.get_client()\n",
    "    print(cluster_dashboard_link + cluster.dashboard_link[17:])\n",
    "    solver = optimize_thickness_gap()\n",
    "    args_db = db.from_sequence(sequence)\n",
    "    result = args_db.map(solver).compute()"
   ]
  },
  {
   "cell_type": "markdown",
   "id": "c5b65339-f9d5-49b5-982f-1e8043091e3c",
   "metadata": {},
   "source": [
    "#### Results"
   ]
  },
  {
   "cell_type": "code",
   "execution_count": 242,
   "id": "61aad04f-0faa-4f51-b64b-b6c7fca13ffb",
   "metadata": {},
   "outputs": [],
   "source": [
    "from potential import gate_potential"
   ]
  },
  {
   "cell_type": "code",
   "execution_count": null,
   "id": "aa1dd776-391e-4a47-b377-69517048ebcf",
   "metadata": {},
   "outputs": [],
   "source": [
    "voltages = _voltage_dict(optimal_voltages[pairs[0]].x)"
   ]
  },
  {
   "cell_type": "code",
   "execution_count": 243,
   "id": "fa679b96-32b0-4e87-a009-bd2c675f27a6",
   "metadata": {
    "tags": []
   },
   "outputs": [],
   "source": [
    "charges = {}\n",
    "potential = gate_potential(\n",
    "        poisson_system,\n",
    "        linear_problem,\n",
    "        optimize.site_coords[:, [0, 1]],\n",
    "        optimize.site_indices,\n",
    "        voltages,\n",
    "        charges,\n",
    "        offset = optimize.offset[[0, 1]],\n",
    "        grid_spacing = optimize.length_unit\n",
    "    )\n",
    "\n",
    "potential.update((x, y*-1) for x, y in potential.items())"
   ]
  },
  {
   "cell_type": "code",
   "execution_count": 244,
   "id": "c8b7c0fe-4ff1-4fea-b0ba-8cbc6febccf4",
   "metadata": {},
   "outputs": [],
   "source": [
    "mu = parameters.bands[0]\n",
    "params = parameters.junction_parameters(m_nw=[mu, mu, mu], m_qd=0)\n",
    "params.update(potential=potential)"
   ]
  },
  {
   "cell_type": "code",
   "execution_count": 245,
   "id": "fb7bebe4-8d38-4001-a7fc-0a7cd4e47f81",
   "metadata": {},
   "outputs": [],
   "source": [
    "f_mu = optimize.f_params(**params)['mu']"
   ]
  },
  {
   "cell_type": "code",
   "execution_count": 246,
   "id": "a15dd351-86d3-46d7-b943-316423d132cf",
   "metadata": {},
   "outputs": [],
   "source": [
    "def plot_f_mu(i):\n",
    "    x, y = optimize.trijunction.sites[i].pos\n",
    "    return f_mu(x, y)"
   ]
  },
  {
   "cell_type": "code",
   "execution_count": 247,
   "id": "eb68bb27-823a-4e10-afec-ec1b84dd42a2",
   "metadata": {},
   "outputs": [],
   "source": [
    "kwant_sites = np.array(list(site.pos for site in optimize.trijunction.sites))"
   ]
  },
  {
   "cell_type": "code",
   "execution_count": 248,
   "id": "4fba466b-c828-45eb-9110-c5dab24243bc",
   "metadata": {},
   "outputs": [],
   "source": [
    "to_plot = [plot_f_mu(i) for i in range(len(kwant_sites))]"
   ]
  },
  {
   "cell_type": "code",
   "execution_count": 249,
   "id": "22b88129-5c1c-4932-8c19-6ea3397d3c4f",
   "metadata": {},
   "outputs": [],
   "source": [
    "grid_points = poisson_system.grid.points\n",
    "voltage_regions = poisson_system.regions.voltage.tag_points"
   ]
  },
  {
   "cell_type": "code",
   "execution_count": 250,
   "id": "6255d7a6-d2df-4ecc-ba5a-78226c74d6b9",
   "metadata": {
    "tags": []
   },
   "outputs": [
    {
     "data": {
      "image/png": "[encoded data removed]",
      "text/plain": [
       "<Figure size 504x360 with 2 Axes>"
      ]
     },
     "metadata": {
      "needs_background": "light"
     },
     "output_type": "display_data"
    }
   ],
   "source": [
    "fig, ax = plt.subplots(1, 1, figsize = (7, 5))\n",
    "cax = ax.scatter(kwant_sites[:, 0 ], kwant_sites[:, 1], \n",
    "                 c = np.array(to_plot), cmap = 'gist_heat_r'\n",
    "                );\n",
    "ax.set_ylim(0, 0.6e-6);\n",
    "plt.colorbar(cax);\n",
    "# plt.axis('equal')"
   ]
  },
  {
   "cell_type": "code",
   "execution_count": null,
   "id": "893017c7-59db-4101-adb0-10e101bb717d",
   "metadata": {},
   "outputs": [],
   "source": [
    "summed_ham = sum(\n",
    "[\n",
    "        optimize.linear_ham[key] * voltages[key]\n",
    "        for key, value in optimize.linear_ham.items()\n",
    "    ]\n",
    ")\n",
    "\n",
    "tight_binding_hamiltonian = optimize.base_hamiltonian + summed_ham\n",
    "\n",
    "\n",
    "eigval, eigvec = sort_eigen(sla.eigsh(tight_binding_hamiltonian.tocsc(), \n",
    "                                                   k=6, sigma = 0))\n",
    "\n",
    "lowest_e_indices = np.argsort(np.abs(eigval))[: 6]\n",
    "lowest_e_energies = eigval[lowest_e_indices]\n",
    "coupled_states = eigvec.T[:, lowest_e_indices].T\n",
    "\n",
    "# Overlap matrix\n",
    "decoupled_states = optimize.mlwf\n",
    "S = coupled_states @ decoupled_states.T.conj()\n",
    "\n",
    "# Unitary matrix using SVD\n",
    "U, _, Vh = svd(S)\n",
    "S_prime = U @ Vh\n",
    "\n",
    "# Transform coupled Hamiltonian to Majorana basis\n",
    "coupled_ham = S_prime.T.conj() @ np.diag(lowest_e_energies) @ S_prime\n",
    "\n",
    "phases = np.linspace(0, 2, 100) * np.pi\n",
    "\n",
    "phis1 = [{\"phi1\": phi, \"phi2\": 0} for phi in phases]\n",
    "phis2 = [{\"phi2\": phi, \"phi1\": 0} for phi in phases]\n",
    "phis = [phis2, phis2, phis1]\n",
    "\n",
    "solver = optimization._fixed_potential_solver(\n",
    "    optimize.trijunction, optimize.f_params, params, eigenvecs=False\n",
    ")\n",
    "topo_gap = solver(phis[0][0])[0][-1]"
   ]
  },
  {
   "cell_type": "code",
   "execution_count": 255,
   "id": "c8e91bd2-d5bd-4d3d-aa17-2d77b36b3744",
   "metadata": {},
   "outputs": [
    {
     "name": "stdout",
     "output_type": "stream",
     "text": [
      "0.2000021182501158\n"
     ]
    }
   ],
   "source": [
    "print(np.abs((coupled_ham[2:5, 2:5])[0 , 2]) / topo_gap)"
   ]
  },
  {
   "cell_type": "code",
   "execution_count": 256,
   "id": "909ba31b-bf10-4c24-a174-5ee224dd3a3b",
   "metadata": {},
   "outputs": [
    {
     "data": {
      "image/png": "[encoded data removed]",
      "text/plain": [
       "<Figure size 432x288 with 2 Axes>"
      ]
     },
     "metadata": {
      "needs_background": "light"
     },
     "output_type": "display_data"
    }
   ],
   "source": [
    "kwant.plotter.density(optimize.trijunction, optimize.densityoperator(coupled_states[-1]));"
   ]
  },
  {
   "cell_type": "raw",
   "id": "618fa1ce-59a7-4afb-a723-d58c8c36d68d",
   "metadata": {},
   "source": [
    "import pickle"
   ]
  },
  {
   "cell_type": "code",
   "execution_count": 163,
   "id": "da0170e7-2781-430c-a28e-3f3ffdda85e1",
   "metadata": {},
   "outputs": [],
   "source": [
    "optimum_voltages = {}\n",
    "with open(\"/home/tinkerer/trijunction-design/data/LR_voltages.pkl\", 'rb') as infile:\n",
    "    optimum_voltages['LR'] = pickle.load(infile)\n",
    "    \n",
    "with open(\"/home/tinkerer/trijunction-design/data/LC_voltages.pkl\", 'rb') as infile:\n",
    "    optimum_voltages['LC'] = pickle.load(infile)\n",
    "    \n",
    "with open(\"/home/tinkerer/trijunction-design/data/CR_voltages.pkl\", 'rb') as infile:\n",
    "    optimum_voltages['CR'] = pickle.load(infile)"
   ]
  },
  {
   "cell_type": "code",
   "execution_count": 164,
   "id": "45a8c9af-8d9f-4bc5-9daf-02edf88646a7",
   "metadata": {},
   "outputs": [
    {
     "name": "stderr",
     "output_type": "stream",
     "text": [
      "100%|██████████| 7/7 [00:04<00:00,  1.46it/s]\n"
     ]
    },
    {
     "name": "stdout",
     "output_type": "stream",
     "text": [
      "0.00013948485514774731\n"
     ]
    },
    {
     "name": "stderr",
     "output_type": "stream",
     "text": [
      "100%|██████████| 7/7 [00:04<00:00,  1.52it/s]\n"
     ]
    },
    {
     "name": "stdout",
     "output_type": "stream",
     "text": [
      "0.00010258611045929488\n"
     ]
    },
    {
     "name": "stderr",
     "output_type": "stream",
     "text": [
      "100%|██████████| 7/7 [00:04<00:00,  1.42it/s]\n"
     ]
    },
    {
     "name": "stdout",
     "output_type": "stream",
     "text": [
      "0.00011244328071718932\n"
     ]
    },
    {
     "data": {
      "image/png": "[encoded data removed]",
      "text/plain": [
       "<Figure size 360x360 with 3 Axes>"
      ]
     },
     "metadata": {},
     "output_type": "display_data"
    }
   ],
   "source": [
    "fig, ax = plt.subplots(1, 3, figsize = (5, 5), sharey = True)\n",
    "\n",
    "coupling_strength = {}\n",
    "\n",
    "for index, pairs in enumerate(zip([[0, 1], [0, 2], [1, 2]], ['LR', 'LC', 'CR'])):\n",
    "    indices, pair = pairs\n",
    "    \n",
    "    base_hamiltonian, linear_ham = linear_Hamiltonian(poisson_params, \n",
    "                                                  kwant_params, \n",
    "                                                  params, \n",
    "                                                  list(voltage_regions.keys()),\n",
    "                                                  phis = optimal_phis[pair])\n",
    "    summed_ham = sum(\n",
    "        [\n",
    "            linear_ham[key] * optimum_voltages[pair][key]\n",
    "            for key, value in linear_ham.items()\n",
    "        ]\n",
    "    )\n",
    "\n",
    "    tight_binding_hamiltonian = base_hamiltonian + summed_ham\n",
    "\n",
    "\n",
    "    eigval, eigvec = sort_eigen(sparse.linalg.eigsh(tight_binding_hamiltonian.tocsc(), \n",
    "                                                       k=6, sigma = 0))\n",
    "\n",
    "    lowest_e_indices = np.argsort(np.abs(eigval))[: 6]\n",
    "    lowest_e_energies = eigval[lowest_e_indices]\n",
    "    coupled_states = eigvec.T[:, lowest_e_indices].T\n",
    "\n",
    "    \n",
    "    cax = kwant.plotter.density(trijunction, density(coupled_states[-1]), ax = ax[index]);\n",
    "    \n",
    "    ax[index].set_xticks([])\n",
    "    ax[index].set_yticks([])\n",
    "\n",
    "    # Overlap matrix\n",
    "    decoupled_states = mlwf\n",
    "    S = coupled_states @ decoupled_states.T.conj()\n",
    "\n",
    "    # Unitary matrix using SVD\n",
    "    U, _, Vh = svd(S)\n",
    "    S_prime = U @ Vh\n",
    "\n",
    "    # Transform coupled Hamiltonian to Majorana basis\n",
    "    coupled_ham = S_prime.T.conj() @ np.diag(lowest_e_energies) @ S_prime\n",
    "\n",
    "    print(np.abs((coupled_ham[2:5, 2:5])[indices[0], indices[1]]))\n",
    "    \n",
    "    \n",
    "    coupling_strength[pair] = np.round(np.abs((coupled_ham[2:5, 2:5]/topo_gap)[indices[0], indices[1]]\n",
    "                                                            ), \n",
    "                                                      3\n",
    "                                                     )\n",
    "    \n",
    "    ax[index].set_title(r'${}\\Delta_t$'.format(coupling_strength[pair]))"
   ]
  },
  {
   "cell_type": "code",
   "execution_count": 165,
   "id": "f4c8be8f-ac94-46c8-813c-112d32fe343b",
   "metadata": {},
   "outputs": [
    {
     "data": {
      "text/plain": [
       "{'LR': 0.421, 'LC': 0.31, 'CR': 0.339}"
      ]
     },
     "execution_count": 165,
     "metadata": {},
     "output_type": "execute_result"
    }
   ],
   "source": [
    "coupling_strength = {'LR': 0.421, 'LC': 0.31, 'CR': 0.339} #unit: Topological gap"
   ]
  }
 ],
 "metadata": {
  "kernelspec": {
   "display_name": "Python 3 (ipykernel)",
   "language": "python",
   "name": "python3"
  },
  "language_info": {
   "codemirror_mode": {
    "name": "ipython",
    "version": 3
   },
   "file_extension": ".py",
   "mimetype": "text/x-python",
   "name": "python",
   "nbconvert_exporter": "python",
   "pygments_lexer": "ipython3",
   "version": "3.10.4"
  }
 },
 "nbformat": 4,
 "nbformat_minor": 5
}
