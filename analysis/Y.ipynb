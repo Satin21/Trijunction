{
 "cells": [
  {
   "cell_type": "code",
   "execution_count": 1,
   "id": "21c76eab-e8f2-4222-80a7-36d75ac9b5bf",
   "metadata": {
    "tags": []
   },
   "outputs": [
    {
     "name": "stdout",
     "output_type": "stream",
     "text": [
      "VoronoiMesh version 0.1\n",
      "DiscretePoisson version 0.3\n",
      "Shape version: 0.1\n",
      "SystEquations version: 0.3\n",
      "Solver version 0.1\n"
     ]
    }
   ],
   "source": [
    "## popular python packages\n",
    "import numpy as np\n",
    "import itertools as it\n",
    "from scipy.linalg import svd\n",
    "import matplotlib.pyplot as plt\n",
    "from dask_quantumtinkerer import Cluster, cluster_options\n",
    "\n",
    "# packages used here\n",
    "import kwant\n",
    "from kwant.operator import Density\n",
    "\n",
    "import sys, os\n",
    "sys.path.append(os.path.realpath(sys.path[0] + '/..'))\n",
    "from rootpath import ROOT_DIR\n",
    "\n",
    "# pre-defined functions\n",
    "sys.path.append(os.path.join(ROOT_DIR + '/code'))\n",
    "from optimization import Optimize, configuration\n",
    "import parameters\n",
    "import tools as tl\n",
    "\n",
    "sys.path.append(\"/home/tinkerer/spin-qubit/\")\n",
    "from Hamiltonian import discrete_system_coordinates"
   ]
  },
  {
   "cell_type": "code",
   "execution_count": 2,
   "id": "45147e35-df1c-4ebe-beb2-542633fd4036",
   "metadata": {},
   "outputs": [],
   "source": [
    "from constants import length_unit"
   ]
  },
  {
   "cell_type": "code",
   "execution_count": 3,
   "id": "7ccff1c9-11a3-4cf6-a23f-f80f1aa2eb19",
   "metadata": {},
   "outputs": [],
   "source": [
    "options = cluster_options()\n",
    "options.worker_cores = 2\n",
    "options.worker_memory = 2\n",
    "options.extra_path = \"/home/srangaswamykup/trijunction_design/\""
   ]
  },
  {
   "cell_type": "code",
   "execution_count": 4,
   "id": "df85ffdf-5f8a-4d75-b06c-fd3202e19ab0",
   "metadata": {},
   "outputs": [],
   "source": [
    "from tools import linear_Hamiltonian"
   ]
  },
  {
   "cell_type": "markdown",
   "id": "aa6d39cb-150f-4d99-8509-958cc7626665",
   "metadata": {},
   "source": [
    "# Y-shaped geometry"
   ]
  },
  {
   "cell_type": "markdown",
   "id": "b2a820f0-fe15-4b3e-be69-32ad1c13df6b",
   "metadata": {
    "tags": []
   },
   "source": [
    "#### Parameters"
   ]
  },
  {
   "cell_type": "code",
   "execution_count": 5,
   "id": "12c255e5-3228-42bc-9969-18d834328e09",
   "metadata": {},
   "outputs": [],
   "source": [
    "import json\n",
    "filename = 'config.json'\n",
    "saveat = os.path.join(ROOT_DIR, 'code/')\n",
    "with open(saveat + filename , 'r') as outfile:\n",
    "    config = json.load(outfile)"
   ]
  },
  {
   "cell_type": "code",
   "execution_count": 6,
   "id": "6b94aeb1-e7ef-4441-a6a5-344cd6df208e",
   "metadata": {},
   "outputs": [],
   "source": [
    "change_config = [{'device':{'thickness': {'dielectric': 1}}}]"
   ]
  },
  {
   "cell_type": "code",
   "execution_count": 7,
   "id": "ccfcc350-4e91-4674-8ca1-c052ee029e6d",
   "metadata": {},
   "outputs": [
    {
     "name": "stdout",
     "output_type": "stream",
     "text": [
      "Finding closed voronoi cells\n",
      "Done selecting closed voronoi cells\n",
      "Calculating points distance\n",
      "Done\n",
      "Calculating ridges hypersurfaces\n",
      "Done\n",
      "Finding  hypervolume for closed voronoi cells\n",
      "Done finding hypervolume for closed voronoi cells\n",
      "Done calculating surface\n",
      "Done calculating distance\n",
      "Done calculating capacitance matrix\n",
      "CPU times: user 4min 38s, sys: 15.2 s, total: 4min 53s\n",
      "Wall time: 4min 53s\n"
     ]
    }
   ],
   "source": [
    "%%time\n",
    "\n",
    "config, boundaries, poisson_system, linear_problem = configuration(config)"
   ]
  },
  {
   "cell_type": "code",
   "execution_count": 201,
   "id": "965ec293-b2c1-444d-af84-d1bb1f922235",
   "metadata": {},
   "outputs": [
    {
     "data": {
      "text/plain": [
       "<module 'optimization' from '/home/tinkerer/trijunction-design/code/optimization.py'>"
      ]
     },
     "execution_count": 201,
     "metadata": {},
     "output_type": "execute_result"
    }
   ],
   "source": [
    "import importlib\n",
    "import optimization\n",
    "importlib.reload(optimization)"
   ]
  },
  {
   "cell_type": "code",
   "execution_count": 202,
   "id": "21adecc0-7e4e-451d-bdf5-08129b00ff16",
   "metadata": {},
   "outputs": [],
   "source": [
    "optimize = optimization.Optimize(config, \n",
    "                    poisson_system,\n",
    "                    linear_problem,\n",
    "                    boundaries = boundaries, \n",
    "                    length_unit = 1e-8\n",
    "                   )"
   ]
  },
  {
   "cell_type": "raw",
   "id": "13ab9d2d-1bb5-4342-aac2-095a45b82261",
   "metadata": {},
   "source": [
    "%%time\n",
    "\n",
    "nnodes = 20\n",
    "cluster_dashboard_link = \"http://io.quantumtinkerer.tudelft.nl/user/srangaswamykup/proxy/\"\n",
    "depleteV = -1.5e-3\n",
    "acumulateV = 4.5e-3\n",
    "closeV = -5e-3\n",
    "\n",
    "max_phis = optimize.optimalphase(\n",
    "            depleteV, \n",
    "            acumulateV, \n",
    "            closeV, \n",
    "            Cluster, \n",
    "            nnodes,\n",
    "            options, \n",
    "            cluster_dashboard_link\n",
    "                                )"
   ]
  },
  {
   "cell_type": "raw",
   "id": "734823d0-0aab-48e6-bc7f-ea5c0bf25b45",
   "metadata": {},
   "source": [
    "optimal_phis = optimize.optimal_phis"
   ]
  },
  {
   "cell_type": "raw",
   "id": "6bfa57c5-cbde-4a8e-81de-aff03c81fac5",
   "metadata": {},
   "source": [
    "_, _, _, _ = optimize.changeconfig(change_config)"
   ]
  },
  {
   "cell_type": "code",
   "execution_count": 170,
   "id": "12e46182-6d6a-4951-a26d-cfcafdb1d4f4",
   "metadata": {
    "tags": []
   },
   "outputs": [
    {
     "name": "stderr",
     "output_type": "stream",
     "text": [
      "100%|██████████| 13/13 [00:28<00:00,  2.18s/it]\n"
     ]
    },
    {
     "name": "stdout",
     "output_type": "stream",
     "text": [
      "CPU times: user 33.5 s, sys: 199 ms, total: 33.7 s\n",
      "Wall time: 33.7 s\n"
     ]
    }
   ],
   "source": [
    "%%time\n",
    "\n",
    "args = optimize.params('left-right',\n",
    "                optimal_phis = optimal_phis);"
   ]
  },
  {
   "cell_type": "code",
   "execution_count": 162,
   "id": "a72117e0-8b13-4089-a382-fe4d6c7effab",
   "metadata": {},
   "outputs": [],
   "source": [
    "optimize.set_voltages([-0.0036, -0.0086, -0.0086, -0.0036, -0.0037, -0.0037, -7e-05])"
   ]
  },
  {
   "cell_type": "code",
   "execution_count": 163,
   "id": "b25a40ae-3a56-411a-85af-39039fd34fdd",
   "metadata": {},
   "outputs": [
    {
     "data": {
      "text/plain": [
       "{'left_1': -0.0036,\n",
       " 'left_2': -0.0086,\n",
       " 'right_1': -0.0086,\n",
       " 'right_2': -0.0036,\n",
       " 'top_1': -0.0037,\n",
       " 'top_2': -0.0037,\n",
       " 'global_accumul': -7e-05,\n",
       " 'dirichlet_0': 0.0,\n",
       " 'dirichlet_1': 0.0,\n",
       " 'dirichlet_2': 0.0,\n",
       " 'dirichlet_3': 0.0,\n",
       " 'dirichlet_4': 0.0,\n",
       " 'dirichlet_5': 0.0}"
      ]
     },
     "execution_count": 163,
     "metadata": {},
     "output_type": "execute_result"
    }
   ],
   "source": [
    "optimize.voltages"
   ]
  },
  {
   "cell_type": "code",
   "execution_count": 164,
   "id": "8c892f08-8341-4aa1-b574-68efc532ce6b",
   "metadata": {},
   "outputs": [
    {
     "data": {
      "image/png": "[encoded data removed]",
      "text/plain": [
       "<Figure size 360x360 with 6 Axes>"
      ]
     },
     "metadata": {
      "needs_background": "light"
     },
     "output_type": "display_data"
    }
   ],
   "source": [
    "optimize.plot('DECOUPLED')"
   ]
  },
  {
   "cell_type": "code",
   "execution_count": 165,
   "id": "d37ce182-2aef-4962-b2f5-c4398255b8ac",
   "metadata": {},
   "outputs": [
    {
     "data": {
      "image/png": "[encoded data removed]",
      "text/plain": [
       "<Figure size 360x360 with 6 Axes>"
      ]
     },
     "metadata": {
      "needs_background": "light"
     },
     "output_type": "display_data"
    }
   ],
   "source": [
    "optimize.plot('WANNIER_FUNCTIONS')"
   ]
  },
  {
   "cell_type": "code",
   "execution_count": 232,
   "id": "f5da7aa2-f4c8-4ee2-8895-2750a59ce55c",
   "metadata": {},
   "outputs": [],
   "source": [
    "initial_condition = [ -0.0014, -0.0014, -0.0037, 3e-3]"
   ]
  },
  {
   "cell_type": "code",
   "execution_count": null,
   "id": "439ae61f-ba50-4504-9eff-49ea95e9cf24",
   "metadata": {
    "collapsed": true,
    "jupyter": {
     "outputs_hidden": true
    },
    "tags": []
   },
   "outputs": [
    {
     "name": "stderr",
     "output_type": "stream",
     "text": [
      "100%|██████████| 13/13 [00:32<00:00,  2.47s/it]\n",
      "/home/tinkerer/trijunction-design/code/optimization.py:668: FutureWarning: Using a non-tuple sequence for multidimensional indexing is deprecated; use `arr[tuple(seq)]` instead of `arr[seq]`. In the future this will be interpreted as an array index, `arr[np.array(seq)]`, which will result either in an error or a different result.\n",
      "  acc_potential = potential_array[acc_points[i]]\n"
     ]
    },
    {
     "name": "stdout",
     "output_type": "stream",
     "text": [
      "0.022473780463731\n",
      "0.02247475192860435\n",
      "0.022474799304084206\n",
      "0.022474603503255898\n",
      "0.022472596402065413\n",
      "| niter |f evals|CG iter|  obj func   |tr radius |   opt    |  c viol  |\n",
      "|-------|-------|-------|-------------|----------|----------|----------|\n",
      "|   1   |   5   |   0   | -1.4147e-02 | 1.00e-03 | 6.62e+01 | 0.00e+00 |\n",
      "0.0111013070614758\n",
      "0.011100828831778401\n",
      "0.01110080331824292\n",
      "0.011101289434518515\n",
      "0.011101663601685612\n",
      "|   2   |  10   |   1   | -1.4147e-02 | 5.00e-04 | 6.62e+01 | 0.00e+00 |\n",
      "0.09382929262995528\n",
      "0.09383000606773635\n",
      "0.09382541500692598\n",
      "0.09382933670847526\n",
      "0.09383041944678978\n",
      "|   3   |  15   |   2   | -7.7492e-02 | 3.50e-03 | 2.13e+02 | 0.00e+00 |\n",
      "0.06948576292780557\n",
      "0.06948437242415317\n",
      "0.06948283922535752\n",
      "0.06948468000755094\n",
      "0.06948802582912272\n",
      "|   4   |  20   |   5   | -7.7492e-02 | 1.30e-03 | 2.13e+02 | 0.00e+00 |\n",
      "0.04708734908552377\n",
      "0.04708819847836114\n",
      "0.047092020281377\n",
      "0.04708831266523625\n",
      "0.04708549699401127\n",
      "|   5   |  25   |   6   | -7.7492e-02 | 6.48e-04 | 2.13e+02 | 0.00e+00 |\n",
      "0.02677439314797652\n",
      "0.02677532249606575\n",
      "0.026775735839842628\n",
      "0.026775157646137592\n",
      "0.02677320170610066\n",
      "|   6   |  30   |   7   | -7.7492e-02 | 3.24e-04 | 2.13e+02 | 0.00e+00 |\n",
      "0.05603869606915022\n",
      "0.05604009051500046\n",
      "0.05603998688552243\n",
      "0.05603936638682565\n",
      "0.056037234588914145\n",
      "|   7   |  35   |   8   | -7.7492e-02 | 1.62e-04 | 2.13e+02 | 0.00e+00 |\n",
      "0.08312690548652645\n",
      "0.08312922940145086\n",
      "0.08312947425482163\n",
      "0.08312778771015392\n",
      "0.08312440147040055\n",
      "|   8   |  40   |   9   | -7.8206e-02 | 1.62e-04 | 2.23e+02 | 0.00e+00 |\n",
      "0.10857745649982582\n",
      "0.10857851581719603\n",
      "0.10857301839683557\n",
      "0.10857745431479612\n"
     ]
    }
   ],
   "source": [
    "optimal_voltages = optimize.optimize_gate('left-right', initial_condition, optimal_phis = optimal_phis)"
   ]
  },
  {
   "cell_type": "code",
   "execution_count": 234,
   "id": "7fee554f-641a-413e-95f1-1c32821abefe",
   "metadata": {},
   "outputs": [],
   "source": [
    "x = optimal_voltages\n",
    "\n",
    "voltages = {}\n",
    "    \n",
    "voltages['left_1'] = x[0]\n",
    "voltages['left_2'] = voltages['left_1']\n",
    "voltages['right_1'] = x[1]\n",
    "voltages['right_2'] = voltages['right_1']\n",
    "voltages['top_1'] = x[2]\n",
    "voltages['top_2'] = voltages['top_1']\n",
    "voltages['global_accumul'] = x[3]\n",
    "\n",
    "for i in range(6):\n",
    "    voltages[\"dirichlet_\" + str(i)] = 0.0"
   ]
  },
  {
   "cell_type": "code",
   "execution_count": 235,
   "id": "61aad04f-0faa-4f51-b64b-b6c7fca13ffb",
   "metadata": {},
   "outputs": [],
   "source": [
    "from potential import gate_potential"
   ]
  },
  {
   "cell_type": "code",
   "execution_count": 236,
   "id": "fa679b96-32b0-4e87-a009-bd2c675f27a6",
   "metadata": {
    "tags": []
   },
   "outputs": [],
   "source": [
    "charges = {}\n",
    "potential = gate_potential(\n",
    "        poisson_system,\n",
    "        linear_problem,\n",
    "        optimize.site_coords[:, [0, 1]],\n",
    "        optimize.site_indices,\n",
    "        voltages,\n",
    "        charges,\n",
    "        offset = optimize.offset[[0, 1]],\n",
    "        grid_spacing = optimize.length_unit\n",
    "    )\n",
    "\n",
    "potential.update((x, y*-1) for x, y in potential.items())"
   ]
  },
  {
   "cell_type": "code",
   "execution_count": 237,
   "id": "c8b7c0fe-4ff1-4fea-b0ba-8cbc6febccf4",
   "metadata": {},
   "outputs": [],
   "source": [
    "mu = parameters.bands[0]\n",
    "params = parameters.junction_parameters(m_nw=[mu, mu, mu], m_qd=0)\n",
    "params.update(potential=potential)"
   ]
  },
  {
   "cell_type": "code",
   "execution_count": 238,
   "id": "fb7bebe4-8d38-4001-a7fc-0a7cd4e47f81",
   "metadata": {},
   "outputs": [],
   "source": [
    "f_mu = optimize.f_params(**params)['mu']"
   ]
  },
  {
   "cell_type": "code",
   "execution_count": 239,
   "id": "a15dd351-86d3-46d7-b943-316423d132cf",
   "metadata": {},
   "outputs": [],
   "source": [
    "def plot_f_mu(i):\n",
    "    x, y = optimize.trijunction.sites[i].pos\n",
    "    return f_mu(x, y)"
   ]
  },
  {
   "cell_type": "code",
   "execution_count": 240,
   "id": "eb68bb27-823a-4e10-afec-ec1b84dd42a2",
   "metadata": {},
   "outputs": [],
   "source": [
    "kwant_sites = np.array(list(site.pos for site in optimize.trijunction.sites))"
   ]
  },
  {
   "cell_type": "code",
   "execution_count": 241,
   "id": "4fba466b-c828-45eb-9110-c5dab24243bc",
   "metadata": {},
   "outputs": [],
   "source": [
    "to_plot = [plot_f_mu(i) for i in range(len(kwant_sites))]"
   ]
  },
  {
   "cell_type": "code",
   "execution_count": 242,
   "id": "22b88129-5c1c-4932-8c19-6ea3397d3c4f",
   "metadata": {},
   "outputs": [],
   "source": [
    "grid_points = poisson_system.grid.points\n",
    "voltage_regions = poisson_system.regions.voltage.tag_points"
   ]
  },
  {
   "cell_type": "code",
   "execution_count": 243,
   "id": "6255d7a6-d2df-4ecc-ba5a-78226c74d6b9",
   "metadata": {},
   "outputs": [
    {
     "data": {
      "image/png": "[encoded data removed]",
      "text/plain": [
       "<Figure size 504x360 with 2 Axes>"
      ]
     },
     "metadata": {
      "needs_background": "light"
     },
     "output_type": "display_data"
    }
   ],
   "source": [
    "fig, ax = plt.subplots(1, 1, figsize = (7, 5))\n",
    "cax = ax.scatter(kwant_sites[:, 0 ], kwant_sites[:, 1], \n",
    "                 c = np.array(to_plot), cmap = 'gist_heat_r'\n",
    "                );\n",
    "ax.set_ylim(0, 0.6e-6);\n",
    "plt.colorbar(cax);\n",
    "# plt.axis('equal')"
   ]
  },
  {
   "cell_type": "code",
   "execution_count": 244,
   "id": "c0508838-d362-458b-8ba0-1dd21adf7759",
   "metadata": {},
   "outputs": [],
   "source": [
    "from solvers import sort_eigen\n",
    "import scipy.sparse.linalg as sla"
   ]
  },
  {
   "cell_type": "code",
   "execution_count": 245,
   "id": "fa721f3d-b8ab-48aa-b796-66860a0a03b0",
   "metadata": {},
   "outputs": [
    {
     "name": "stdout",
     "output_type": "stream",
     "text": [
      "6.433918860907465e-07\n"
     ]
    }
   ],
   "source": [
    "summed_ham = sum(\n",
    "[\n",
    "        optimize.linear_ham[key] * voltages[key]\n",
    "        for key, value in optimize.linear_ham.items()\n",
    "    ]\n",
    ")\n",
    "\n",
    "tight_binding_hamiltonian = optimize.base_hamiltonian + summed_ham\n",
    "\n",
    "\n",
    "eigval, eigvec = sort_eigen(sla.eigsh(tight_binding_hamiltonian.tocsc(), \n",
    "                                                   k=6, sigma = 0))\n",
    "\n",
    "lowest_e_indices = np.argsort(np.abs(eigval))[: 6]\n",
    "lowest_e_energies = eigval[lowest_e_indices]\n",
    "coupled_states = eigvec.T[:, lowest_e_indices].T\n",
    "\n",
    "# Overlap matrix\n",
    "decoupled_states = optimize.mlwf\n",
    "S = coupled_states @ decoupled_states.T.conj()\n",
    "\n",
    "# Unitary matrix using SVD\n",
    "U, _, Vh = svd(S)\n",
    "S_prime = U @ Vh\n",
    "\n",
    "# Transform coupled Hamiltonian to Majorana basis\n",
    "coupled_ham = S_prime.T.conj() @ np.diag(lowest_e_energies) @ S_prime\n",
    "\n",
    "print(np.abs((coupled_ham[2:5, 2:5])[0,2])/params['Delta'])"
   ]
  },
  {
   "cell_type": "code",
   "execution_count": 255,
   "id": "11abccda-1825-4da2-9282-6a160d853936",
   "metadata": {},
   "outputs": [],
   "source": [
    "phases = np.linspace(0, 2, 100) * np.pi\n",
    "\n",
    "phis1 = [{\"phi1\": phi, \"phi2\": 0} for phi in phases]\n",
    "phis2 = [{\"phi2\": phi, \"phi1\": 0} for phi in phases]\n",
    "phis = [phis2, phis2, phis1]\n",
    "\n",
    "solver = optimization._fixed_potential_solver(\n",
    "    optimize.trijunction, optimize.f_params, params, eigenvecs=False\n",
    ")\n",
    "topo_gap = solver(phis[0][0])[0][-1]"
   ]
  },
  {
   "cell_type": "code",
   "execution_count": 258,
   "id": "c8e91bd2-d5bd-4d3d-aa17-2d77b36b3744",
   "metadata": {},
   "outputs": [
    {
     "name": "stdout",
     "output_type": "stream",
     "text": [
      "0.583034795739581\n"
     ]
    }
   ],
   "source": [
    "print(np.abs((coupled_ham[2:5, 2:5])[0 , 1]) / topo_gap)"
   ]
  },
  {
   "cell_type": "code",
   "execution_count": 246,
   "id": "909ba31b-bf10-4c24-a174-5ee224dd3a3b",
   "metadata": {},
   "outputs": [
    {
     "data": {
      "image/png": "[encoded data removed]",
      "text/plain": [
       "<Figure size 432x288 with 2 Axes>"
      ]
     },
     "metadata": {
      "needs_background": "light"
     },
     "output_type": "display_data"
    }
   ],
   "source": [
    "kwant.plotter.density(optimize.trijunction, optimize.densityoperator(coupled_states[-1]));"
   ]
  },
  {
   "cell_type": "raw",
   "id": "618fa1ce-59a7-4afb-a723-d58c8c36d68d",
   "metadata": {},
   "source": [
    "import pickle"
   ]
  },
  {
   "cell_type": "code",
   "execution_count": 163,
   "id": "da0170e7-2781-430c-a28e-3f3ffdda85e1",
   "metadata": {},
   "outputs": [],
   "source": [
    "optimum_voltages = {}\n",
    "with open(\"/home/tinkerer/trijunction-design/data/LR_voltages.pkl\", 'rb') as infile:\n",
    "    optimum_voltages['LR'] = pickle.load(infile)\n",
    "    \n",
    "with open(\"/home/tinkerer/trijunction-design/data/LC_voltages.pkl\", 'rb') as infile:\n",
    "    optimum_voltages['LC'] = pickle.load(infile)\n",
    "    \n",
    "with open(\"/home/tinkerer/trijunction-design/data/CR_voltages.pkl\", 'rb') as infile:\n",
    "    optimum_voltages['CR'] = pickle.load(infile)"
   ]
  },
  {
   "cell_type": "code",
   "execution_count": 164,
   "id": "45a8c9af-8d9f-4bc5-9daf-02edf88646a7",
   "metadata": {},
   "outputs": [
    {
     "name": "stderr",
     "output_type": "stream",
     "text": [
      "100%|██████████| 7/7 [00:04<00:00,  1.46it/s]\n"
     ]
    },
    {
     "name": "stdout",
     "output_type": "stream",
     "text": [
      "0.00013948485514774731\n"
     ]
    },
    {
     "name": "stderr",
     "output_type": "stream",
     "text": [
      "100%|██████████| 7/7 [00:04<00:00,  1.52it/s]\n"
     ]
    },
    {
     "name": "stdout",
     "output_type": "stream",
     "text": [
      "0.00010258611045929488\n"
     ]
    },
    {
     "name": "stderr",
     "output_type": "stream",
     "text": [
      "100%|██████████| 7/7 [00:04<00:00,  1.42it/s]\n"
     ]
    },
    {
     "name": "stdout",
     "output_type": "stream",
     "text": [
      "0.00011244328071718932\n"
     ]
    },
    {
     "data": {
      "image/png": "[encoded data removed]",
      "text/plain": [
       "<Figure size 360x360 with 3 Axes>"
      ]
     },
     "metadata": {},
     "output_type": "display_data"
    }
   ],
   "source": [
    "fig, ax = plt.subplots(1, 3, figsize = (5, 5), sharey = True)\n",
    "\n",
    "coupling_strength = {}\n",
    "\n",
    "for index, pairs in enumerate(zip([[0, 1], [0, 2], [1, 2]], ['LR', 'LC', 'CR'])):\n",
    "    indices, pair = pairs\n",
    "    \n",
    "    base_hamiltonian, linear_ham = linear_Hamiltonian(poisson_params, \n",
    "                                                  kwant_params, \n",
    "                                                  params, \n",
    "                                                  list(voltage_regions.keys()),\n",
    "                                                  phis = optimal_phis[pair])\n",
    "    summed_ham = sum(\n",
    "        [\n",
    "            linear_ham[key] * optimum_voltages[pair][key]\n",
    "            for key, value in linear_ham.items()\n",
    "        ]\n",
    "    )\n",
    "\n",
    "    tight_binding_hamiltonian = base_hamiltonian + summed_ham\n",
    "\n",
    "\n",
    "    eigval, eigvec = sort_eigen(sparse.linalg.eigsh(tight_binding_hamiltonian.tocsc(), \n",
    "                                                       k=6, sigma = 0))\n",
    "\n",
    "    lowest_e_indices = np.argsort(np.abs(eigval))[: 6]\n",
    "    lowest_e_energies = eigval[lowest_e_indices]\n",
    "    coupled_states = eigvec.T[:, lowest_e_indices].T\n",
    "\n",
    "    \n",
    "    cax = kwant.plotter.density(trijunction, density(coupled_states[-1]), ax = ax[index]);\n",
    "    \n",
    "    ax[index].set_xticks([])\n",
    "    ax[index].set_yticks([])\n",
    "\n",
    "    # Overlap matrix\n",
    "    decoupled_states = mlwf\n",
    "    S = coupled_states @ decoupled_states.T.conj()\n",
    "\n",
    "    # Unitary matrix using SVD\n",
    "    U, _, Vh = svd(S)\n",
    "    S_prime = U @ Vh\n",
    "\n",
    "    # Transform coupled Hamiltonian to Majorana basis\n",
    "    coupled_ham = S_prime.T.conj() @ np.diag(lowest_e_energies) @ S_prime\n",
    "\n",
    "    print(np.abs((coupled_ham[2:5, 2:5])[indices[0], indices[1]]))\n",
    "    \n",
    "    \n",
    "    coupling_strength[pair] = np.round(np.abs((coupled_ham[2:5, 2:5]/topo_gap)[indices[0], indices[1]]\n",
    "                                                            ), \n",
    "                                                      3\n",
    "                                                     )\n",
    "    \n",
    "    ax[index].set_title(r'${}\\Delta_t$'.format(coupling_strength[pair]))"
   ]
  },
  {
   "cell_type": "code",
   "execution_count": 165,
   "id": "f4c8be8f-ac94-46c8-813c-112d32fe343b",
   "metadata": {},
   "outputs": [
    {
     "data": {
      "text/plain": [
       "{'LR': 0.421, 'LC': 0.31, 'CR': 0.339}"
      ]
     },
     "execution_count": 165,
     "metadata": {},
     "output_type": "execute_result"
    }
   ],
   "source": [
    "coupling_strength = {'LR': 0.421, 'LC': 0.31, 'CR': 0.339} #unit: Topological gap"
   ]
  }
 ],
 "metadata": {
  "kernelspec": {
   "display_name": "Python 3 (ipykernel)",
   "language": "python",
   "name": "python3"
  },
  "language_info": {
   "codemirror_mode": {
    "name": "ipython",
    "version": 3
   },
   "file_extension": ".py",
   "mimetype": "text/x-python",
   "name": "python",
   "nbconvert_exporter": "python",
   "pygments_lexer": "ipython3",
   "version": "3.10.4"
  }
 },
 "nbformat": 4,
 "nbformat_minor": 5
}
