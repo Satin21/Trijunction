{
 "cells": [
  {
   "cell_type": "code",
   "execution_count": 1,
   "id": "21c76eab-e8f2-4222-80a7-36d75ac9b5bf",
   "metadata": {
    "tags": []
   },
   "outputs": [
    {
     "name": "stdout",
     "output_type": "stream",
     "text": [
      "VoronoiMesh version 0.1\n",
      "DiscretePoisson version 0.3\n",
      "Shape version: 0.1\n",
      "SystEquations version: 0.3\n",
      "Solver version 0.1\n"
     ]
    }
   ],
   "source": [
    "import sys\n",
    "sys.path.append(\"/home/tinkerer/spin-qubit/codes/\")\n",
    "#sys.path.append(\"/home/tinkerer/Poisson/\")\n",
    "\n",
    "import numpy as np\n",
    "from collections import OrderedDict\n",
    "from ccode.plotting import plot_gates\n",
    "from ccode.gates import rectangular_gate, half_disk_gate\n",
    "from ccode.finite_system import finite_system\n",
    "import ccode.parameters as pm\n",
    "import ccode.solvers as sl\n",
    "import ccode.tools as tl\n",
    "import itertools as it\n",
    "import dask.bag as db\n",
    "from scipy import constants\n",
    "from scipy.linalg import svd\n",
    "from scipy.optimize import minimize, least_squares\n",
    "import matplotlib.pyplot as plt\n",
    "from dask_quantumtinkerer import Cluster, cluster_options\n",
    "\n",
    "import poisson\n",
    "import kwant\n",
    "from kwant.operator import Density\n",
    "from potential import gate_potential, linear_problem_instance\n",
    "from plotting import plot_potential\n",
    "from Hamiltonian import discrete_system_coordinates\n",
    "\n",
    "from layout import (\n",
    "    Layout,\n",
    "    OverlappingGateLayer,\n",
    "    PlanarGateLayer,\n",
    "    SimpleChargeLayer,\n",
    "    TwoDEGLayer,\n",
    ")\n",
    "from utility import wannier_1D_operator, wannier_basis\n",
    "\n",
    "from itertools import product\n",
    "from shapely.geometry.polygon import Polygon\n",
    "from shapely.ops import unary_union\n",
    "\n"
   ]
  },
  {
   "cell_type": "code",
   "execution_count": 2,
   "id": "534da2e4-2f5d-4e21-9096-39ccbc238865",
   "metadata": {},
   "outputs": [],
   "source": [
    "a = 10e-9"
   ]
  },
  {
   "cell_type": "code",
   "execution_count": 3,
   "id": "7ccff1c9-11a3-4cf6-a23f-f80f1aa2eb19",
   "metadata": {},
   "outputs": [],
   "source": [
    "options = cluster_options()\n",
    "options.worker_cores = 2\n",
    "options.worker_memory = 2\n",
    "options.extra_path = \"/home/srangaswamykup/trijunction_design/\""
   ]
  },
  {
   "cell_type": "markdown",
   "id": "aa6d39cb-150f-4d99-8509-958cc7626665",
   "metadata": {},
   "source": [
    "# Y-shaped geometry"
   ]
  },
  {
   "cell_type": "markdown",
   "id": "b2a820f0-fe15-4b3e-be69-32ad1c13df6b",
   "metadata": {
    "tags": []
   },
   "source": [
    "#### Parameters"
   ]
  },
  {
   "cell_type": "code",
   "execution_count": 4,
   "id": "c3e6374d-be50-4805-96bc-002ba69c623f",
   "metadata": {},
   "outputs": [],
   "source": [
    "thickness_dielectric = 1\n",
    "thickness_twoDEG = 1\n",
    "thickness_gates = 3\n",
    "\n",
    "grid_spacing_twoDEG = 0.5\n",
    "grid_spacing_normal = 1\n",
    "grid_spacing_dielectric = 1\n",
    "grid_spacing_air = 5\n",
    "grid_spacing_gate = grid_spacing_twoDEG\n",
    "\n",
    "permittivity_metal = 5000\n",
    "permittivity_twoDEG = 15  # InAs\n",
    "permittivity_air = 1.0\n",
    "permittivity_Al2O3 = 9.1"
   ]
  },
  {
   "cell_type": "code",
   "execution_count": 5,
   "id": "0fcc17e7-5319-4f24-8e98-f2bc26102ce6",
   "metadata": {},
   "outputs": [],
   "source": [
    "# one only needs to define the arm length L, and the channel width\n",
    "L = 41\n",
    "width = 12\n",
    "gap = 4\n",
    "\n",
    "R = L/np.sqrt(2)"
   ]
  },
  {
   "cell_type": "code",
   "execution_count": 6,
   "id": "69ba6cce-a89d-4ea2-8ff3-162adef92c0e",
   "metadata": {},
   "outputs": [
    {
     "data": {
      "text/plain": [
       "28.991378028648448"
      ]
     },
     "execution_count": 6,
     "metadata": {},
     "output_type": "execute_result"
    }
   ],
   "source": [
    "R"
   ]
  },
  {
   "cell_type": "code",
   "execution_count": 7,
   "id": "48facfb8-1429-4d4f-bc64-55976e40f6f0",
   "metadata": {},
   "outputs": [],
   "source": [
    "# Boundaries within Poisson region\n",
    "zmin = -0.5\n",
    "zmax = 0.5\n",
    "xmax = R\n",
    "xmin = -xmax\n",
    "ymin = 0\n",
    "ymax = R + L - width\n",
    "total_width = 2*xmax\n",
    "total_length = ymax"
   ]
  },
  {
   "cell_type": "markdown",
   "id": "89ffb144-faac-4e25-bc6b-4d040b7dcd5b",
   "metadata": {
    "tags": []
   },
   "source": [
    "#### Make gate polygons using Shapely"
   ]
  },
  {
   "cell_type": "code",
   "execution_count": 8,
   "id": "cfb84699-8972-4fce-8129-7d39ab1b9ea1",
   "metadata": {},
   "outputs": [],
   "source": [
    "Y = unary_union(\n",
    "    (\n",
    "        Polygon(half_disk_gate(R=R, npts=3)).difference(Polygon(half_disk_gate(R=R-width*np.sqrt(2), npts=3))),\n",
    "        Polygon(rectangular_gate(center=(0,R+L/2-width), width=width, length=L))\n",
    "    )\n",
    ")\n",
    "\n",
    "gates = Polygon(rectangular_gate(center=(0, (R+L-width)/2), length=R+L-width-1,width=2*R)).difference(Y)\n",
    "\n",
    "aux_rectangle_1 = rectangular_gate(length=R+2*gap, width=R+gap, center=(R/2, R/2-width/2))\n",
    "aux_rectangle_2 = rectangular_gate(length=R+2*gap, width=R+gap, center=(-R/2, R/2-width/2))\n",
    "\n",
    "\n",
    "def gate_coords(obj, difference=None, common=None, gap=None):\n",
    "\n",
    "    if type(common) == np.ndarray:\n",
    "        return np.round(np.array(list(obj.intersection(Polygon(common)).exterior.coords)), 2)\n",
    "\n",
    "    else:\n",
    "        if gap is not None:\n",
    "            return np.round(np.array(list(obj.difference(Polygon(difference).buffer(gap)).exterior.coords)), 2)\n",
    "        else:\n",
    "            return np.round(np.array(list(obj.difference(Polygon(difference)).exterior.coords)), 2)\n",
    "\n",
    "\n",
    "gates_vertex = [gate_coords(gates[0], common = aux_rectangle_2), \n",
    "                gate_coords(gates[2], difference = aux_rectangle_1), \n",
    "                gate_coords(gates[2], difference = aux_rectangle_2), \n",
    "                gate_coords(gates[1], common = aux_rectangle_1), \n",
    "                gate_coords(gates[0], difference = aux_rectangle_2, gap = gap), \n",
    "                gate_coords(gates[1], difference = aux_rectangle_1, gap = gap)]\n",
    "\n",
    "gates_name = ['left_1', 'left_2', 'right_1', 'right_2', 'top_1', 'top_2']"
   ]
  },
  {
   "cell_type": "markdown",
   "id": "2a5e304f-e479-4238-b5e3-abfe85ca5428",
   "metadata": {
    "tags": []
   },
   "source": [
    "#### Construct layout object for the Poisson solver"
   ]
  },
  {
   "cell_type": "code",
   "execution_count": 9,
   "id": "25ba435f-2249-4283-9d9c-7ac2f9fe41b5",
   "metadata": {},
   "outputs": [],
   "source": [
    "# Solve for Poisson system\n",
    "\n",
    "layout = Layout(total_width,\n",
    "                total_length,\n",
    "                grid_width_air=grid_spacing_air,\n",
    "                margin=(50, 50, 50),\n",
    "                shift=(0, total_length/2, 0))\n",
    "\n",
    "layout.add_layer(\n",
    "    SimpleChargeLayer(\n",
    "        \"twoDEG\",\n",
    "        thickness_twoDEG,\n",
    "        permittivity_twoDEG,\n",
    "        grid_spacing_twoDEG,\n",
    "        add_to_previous_layer=False,\n",
    "        fix_overlap=False,\n",
    "        z_bottom=None\n",
    "    ),\n",
    "    center=True,\n",
    ")\n",
    "\n",
    "height = thickness_twoDEG / 2\n",
    "\n",
    "layout.add_layer(\n",
    "    SimpleChargeLayer(\n",
    "        \"Al2O3\",\n",
    "        thickness_dielectric,\n",
    "        permittivity_Al2O3,\n",
    "        grid_spacing_dielectric,\n",
    "        add_to_previous_layer = False,\n",
    "        fix_overlap = False,\n",
    "        z_bottom = None\n",
    "    )\n",
    ")\n",
    "\n",
    "height += thickness_dielectric\n",
    "\n",
    "\n",
    "layout.add_layer(OverlappingGateLayer(thickness_gates,\n",
    "                                      permittivity_metal,\n",
    "                                      grid_spacing_gate,\n",
    "                                      layer_name=gates_name,\n",
    "                                      gate_objects=gates_vertex,\n",
    "                                      remove_points=False,\n",
    "                                      add_to_previous_layer=False,\n",
    "                                      z_bottom=height,\n",
    "                                      fix_overlap=True\n",
    "                                     )\n",
    "            )\n",
    "\n"
   ]
  },
  {
   "cell_type": "code",
   "execution_count": 10,
   "id": "d99932ce-72f3-49f5-99cd-c107e01cd99b",
   "metadata": {},
   "outputs": [],
   "source": [
    "height += thickness_gates + 1\n",
    "layout.add_layer(\n",
    "    SimpleChargeLayer(\"Al2O3_2\", thickness_dielectric, permittivity_Al2O3, grid_spacing_dielectric,\n",
    "                     add_to_previous_layer = False,\n",
    "                     z_bottom = height, fix_overlap = False)\n",
    ")\n",
    "\n",
    "height += thickness_dielectric + 1\n",
    "thickness_accumulation_gate = 2\n",
    "layout.add_layer(PlanarGateLayer(\"global_accumul\", \n",
    "                                 thickness_accumulation_gate, \n",
    "                                 permittivity_metal, \n",
    "                                 grid_spacing_gate, \n",
    "                                 gate_coords = [],\n",
    "                                 second_layer = [],\n",
    "                                 fix_overlap = False,\n",
    "                                 z_bottom = height\n",
    "                                )\n",
    "                )"
   ]
  },
  {
   "cell_type": "markdown",
   "id": "9d6055d2-af9b-47a9-a414-55c296cf2efa",
   "metadata": {
    "tags": []
   },
   "source": [
    "#### Build Poisson object"
   ]
  },
  {
   "cell_type": "code",
   "execution_count": 11,
   "id": "7b8a12ec-dc29-4285-9e4f-ebf8b653ee22",
   "metadata": {},
   "outputs": [
    {
     "name": "stdout",
     "output_type": "stream",
     "text": [
      "checking intersection\n",
      "finished checking intersection\n",
      "Finding closed voronoi cells\n",
      "Done selecting closed voronoi cells\n",
      "Calculating points distance\n",
      "Done\n",
      "Calculating ridges hypersurfaces\n",
      "Done\n",
      "Finding  hypervolume for closed voronoi cells\n",
      "Done finding hypervolume for closed voronoi cells\n",
      "Done calculating surface\n",
      "Done calculating distance\n",
      "Done calculating capacitance matrix\n",
      "CPU times: user 1min 13s, sys: 3.99 s, total: 1min 17s\n",
      "Wall time: 1min 17s\n"
     ]
    }
   ],
   "source": [
    "%%time\n",
    "\n",
    "poisson_system = layout.build()"
   ]
  },
  {
   "cell_type": "code",
   "execution_count": 12,
   "id": "1bfd5776-6b99-4d25-bb2c-4f4e15c8bbf5",
   "metadata": {},
   "outputs": [],
   "source": [
    "grid_points = poisson_system.grid.points\n",
    "voltage_regions = poisson_system.regions.voltage.tag_points"
   ]
  },
  {
   "cell_type": "code",
   "execution_count": 13,
   "id": "3bdb554e-ab68-47e2-a3f6-089cb0ff9faa",
   "metadata": {},
   "outputs": [
    {
     "data": {
      "image/png": "[encoded data removed]",
      "text/plain": [
       "<Figure size 576x504 with 1 Axes>"
      ]
     },
     "metadata": {
      "needs_background": "light"
     },
     "output_type": "display_data"
    }
   ],
   "source": [
    "plt.figure(figsize = (8, 7))\n",
    "for name, indices in voltage_regions.items():\n",
    "    grid_to_plot = grid_points[indices][:, [0, 1]]\n",
    "    plt.scatter(grid_to_plot[:, 0], grid_to_plot[:, 1], s = 0.5)\n",
    "    \n",
    "# for i in range(len(dep_indices)):\n",
    "#     to_plot = grid_points[twodeg_grid[dep_indices[i]]]\n",
    "#     print(to_plot)\n",
    "#     plt.scatter(to_plot[0][0], to_plot[0][1]);"
   ]
  },
  {
   "cell_type": "markdown",
   "id": "de423151-a741-4b9c-be02-84443af8f2fd",
   "metadata": {
    "tags": []
   },
   "source": [
    "#### LU decomposition of finite system"
   ]
  },
  {
   "cell_type": "code",
   "execution_count": 14,
   "id": "5edf3a02-e11f-4bdd-bb1c-95145c5788da",
   "metadata": {},
   "outputs": [
    {
     "name": "stdout",
     "output_type": "stream",
     "text": [
      "CPU times: user 3.46 s, sys: 165 ms, total: 3.62 s\n",
      "Wall time: 3.61 s\n"
     ]
    }
   ],
   "source": [
    "%%time\n",
    "\n",
    "linear_problem = linear_problem_instance(poisson_system)"
   ]
  },
  {
   "cell_type": "code",
   "execution_count": 15,
   "id": "a4f674ae-f7c9-4dcb-a135-cd99fc39f458",
   "metadata": {},
   "outputs": [],
   "source": [
    "site_coords, site_indices = discrete_system_coordinates(\n",
    "    poisson_system, [('charge', 'twoDEG')], boundaries=None\n",
    ")\n",
    "\n",
    "crds = site_coords[:, [0, 1]]\n",
    "grid_spacing = grid_spacing_twoDEG\n",
    "offset = crds[0]%grid_spacing"
   ]
  },
  {
   "cell_type": "code",
   "execution_count": 16,
   "id": "ed8029d2-0fdc-44c4-9e29-78faf2567e67",
   "metadata": {},
   "outputs": [],
   "source": [
    "grid_points= poisson_system.grid.points"
   ]
  },
  {
   "cell_type": "code",
   "execution_count": 17,
   "id": "3668b7e3-0156-470d-bf23-f939b1ecc51c",
   "metadata": {},
   "outputs": [],
   "source": [
    "charge_regions = poisson_system.regions.charge.tag_points"
   ]
  },
  {
   "cell_type": "code",
   "execution_count": 18,
   "id": "2fc2d033-acf5-4995-a73a-a29b7dc2a4fa",
   "metadata": {},
   "outputs": [],
   "source": [
    "voltage_regions = poisson_system.regions.voltage.tag_points\n",
    "regions_to_add = []\n",
    "for region in voltage_regions.keys():\n",
    "    if region not in ['dirichlet_0', 'dirichlet_1', 'dirichlet_2', 'dirichlet_3']:\n",
    "        regions_to_add.append(('voltage', region))\n",
    "for region in charge_regions.keys():\n",
    "    # if region not in ['air']:\n",
    "    regions_to_add.append(('charge', region))"
   ]
  },
  {
   "cell_type": "markdown",
   "id": "c76b36e7-d5c2-4c68-a523-03ce7eb9b16c",
   "metadata": {
    "tags": []
   },
   "source": [
    "#### Verify the potential"
   ]
  },
  {
   "cell_type": "code",
   "execution_count": 19,
   "id": "9301aa7a-da8f-494c-a6a7-e9e4fbac7831",
   "metadata": {},
   "outputs": [],
   "source": [
    "voltage_regions = list(poisson_system.regions.voltage.tag_points.keys())"
   ]
  },
  {
   "cell_type": "code",
   "execution_count": 20,
   "id": "474f9f9f-d7c3-4c4b-8237-30f4a14715e0",
   "metadata": {
    "tags": []
   },
   "outputs": [],
   "source": [
    "depleted = -1e-3\n",
    "acumulate = 4e-3\n",
    "\n",
    "def voltage_dict(depleted, acumulate):\n",
    "    voltages = {}\n",
    "\n",
    "    voltages['left_1'] = depleted\n",
    "    voltages['left_2'] = depleted\n",
    "\n",
    "    voltages['right_1'] = depleted\n",
    "    voltages['right_2'] = depleted\n",
    "\n",
    "    voltages['top_1'] = depleted\n",
    "    voltages['top_2'] = depleted\n",
    "\n",
    "    voltages['global_accumul'] = acumulate\n",
    "\n",
    "    return voltages"
   ]
  },
  {
   "cell_type": "code",
   "execution_count": 21,
   "id": "6e094c06-7a26-4f82-911a-6c633215c2a1",
   "metadata": {},
   "outputs": [],
   "source": [
    "voltages = voltage_dict(depleted, acumulate)"
   ]
  },
  {
   "cell_type": "code",
   "execution_count": 22,
   "id": "76b4264a-2f45-4f80-a593-7b619909d74a",
   "metadata": {},
   "outputs": [
    {
     "name": "stdout",
     "output_type": "stream",
     "text": [
      "CPU times: user 468 ms, sys: 3.99 ms, total: 472 ms\n",
      "Wall time: 471 ms\n"
     ]
    }
   ],
   "source": [
    "%%time\n",
    "\n",
    "charges = {}\n",
    "clean_potential = gate_potential(\n",
    "        poisson_system,\n",
    "        linear_problem,\n",
    "        site_coords[:, [0, 1]],\n",
    "        site_indices,\n",
    "        voltages,\n",
    "        charges,\n",
    "        offset=offset,\n",
    "        grid_spacing=a\n",
    "    )"
   ]
  },
  {
   "cell_type": "code",
   "execution_count": 23,
   "id": "f0356e5f-48ea-4b83-89c3-45e815c6e501",
   "metadata": {},
   "outputs": [],
   "source": [
    "coordinates = np.array(list(clean_potential.keys()))\n",
    "\n",
    "x = coordinates[:, 0]\n",
    "y = coordinates[:, 1]\n",
    "width_plot = np.unique(x).shape[0]\n",
    "X = x.reshape(width_plot, -1) / a\n",
    "Y = y.reshape(width_plot, -1) / a\n",
    "Z = np.round(np.array(list(clean_potential.values())).reshape(width_plot, -1) * -1, 4)"
   ]
  },
  {
   "cell_type": "code",
   "execution_count": 24,
   "id": "a60316fe-4e70-4be6-a72b-6c3de6bda1d6",
   "metadata": {},
   "outputs": [
    {
     "data": {
      "image/png": "[encoded data removed]",
      "text/plain": [
       "<Figure size 432x288 with 2 Axes>"
      ]
     },
     "metadata": {
      "needs_background": "light"
     },
     "output_type": "display_data"
    }
   ],
   "source": [
    "plt.figure()\n",
    "plt.imshow(np.rot90(Z), extent = (xmin, xmax, ymin, ymax), cmap = 'magma_r')\n",
    "plt.colorbar();"
   ]
  },
  {
   "cell_type": "code",
   "execution_count": 25,
   "id": "35c61ebd-f860-405b-9fd4-6a316836abfb",
   "metadata": {},
   "outputs": [
    {
     "data": {
      "text/plain": [
       "Text(0.5, 1.0, 'V(x,y) - V(-x,y)')"
      ]
     },
     "execution_count": 25,
     "metadata": {},
     "output_type": "execute_result"
    },
    {
     "data": {
      "image/png": "[encoded data removed]",
      "text/plain": [
       "<Figure size 432x288 with 2 Axes>"
      ]
     },
     "metadata": {
      "needs_background": "light"
     },
     "output_type": "display_data"
    }
   ],
   "source": [
    "plt.imshow((np.rot90(Z[::-1,:])-np.rot90(Z)), extent = (xmin, xmax, ymin, ymax), cmap = 'magma_r')\n",
    "plt.colorbar()\n",
    "plt.xlabel(\"x\")\n",
    "plt.ylabel(\"y\")\n",
    "plt.title(\"V(x,y) - V(-x,y)\")"
   ]
  },
  {
   "cell_type": "markdown",
   "id": "c7d78e53-151f-4830-9d4c-6bffcd270d08",
   "metadata": {
    "tags": []
   },
   "source": [
    "#### Build kwant object"
   ]
  },
  {
   "cell_type": "code",
   "execution_count": 26,
   "id": "30fb891e-7663-428d-bc69-d2c055b7eecb",
   "metadata": {},
   "outputs": [],
   "source": [
    "# Build kwant system\n",
    "\n",
    "R_a = R*a\n",
    "width_a = width*a\n",
    "l = 150 * a\n",
    "w = 7 * a\n",
    "boundaries = [xmin, xmax, ymin, ymax, min(grid_points[:, 2]), max(grid_points[:, 2])]\n",
    "boundaries = np.array(boundaries) * a\n",
    "\n",
    "geometry ={'nw_l': l, 'nw_w': w,\n",
    "           's_w': boundaries[1] - boundaries[0],\n",
    "           's_l': boundaries[3] - boundaries[2],\n",
    "           'centers':[[-R_a+width_a/np.sqrt(2)+0.25e-7, 0],\n",
    "                      [-(-R_a+width_a/np.sqrt(2))-0.25e-7, 0], \n",
    "                      [0,boundaries[3]+l-a]\n",
    "                     ]\n",
    "          }"
   ]
  },
  {
   "cell_type": "code",
   "execution_count": 27,
   "id": "a32b5cff-38af-4a9d-9735-8ffbca638ecf",
   "metadata": {},
   "outputs": [
    {
     "data": {
      "text/plain": [
       "{'nw_l': 1.5e-06,\n",
       " 'nw_w': 7e-08,\n",
       " 's_w': 5.798275605729689e-07,\n",
       " 's_l': 5.799137802864846e-07,\n",
       " 'centers': [[-1.8006096654409876e-07, 0],\n",
       "  [1.8006096654409876e-07, 0],\n",
       "  [0, 2.0699137802864846e-06]]}"
      ]
     },
     "execution_count": 27,
     "metadata": {},
     "output_type": "execute_result"
    }
   ],
   "source": [
    "geometry"
   ]
  },
  {
   "cell_type": "raw",
   "id": "4a738fee-06ac-4c57-b525-e0beb4d95652",
   "metadata": {},
   "source": [
    "import importlib\n",
    "import ccode.parameters\n",
    "importlib.reload(ccode.parameters)"
   ]
  },
  {
   "cell_type": "code",
   "execution_count": 28,
   "id": "478ade4b-03de-4090-be96-9f5b8cf2fa13",
   "metadata": {},
   "outputs": [
    {
     "name": "stdout",
     "output_type": "stream",
     "text": [
      "CPU times: user 267 ms, sys: 13.2 ms, total: 280 ms\n",
      "Wall time: 276 ms\n"
     ]
    }
   ],
   "source": [
    "%%time\n",
    "\n",
    "trijunction, f_params = finite_system(**geometry)\n",
    "trijunction = trijunction.finalized()"
   ]
  },
  {
   "cell_type": "code",
   "execution_count": 29,
   "id": "30e1531e-3dbb-42b7-a6ab-71c1dd45640a",
   "metadata": {},
   "outputs": [
    {
     "data": {
      "image/png": "[encoded data removed]",
      "text/plain": [
       "<Figure size 432x288 with 1 Axes>"
      ]
     },
     "metadata": {
      "needs_background": "light"
     },
     "output_type": "display_data"
    }
   ],
   "source": [
    "fig, ax = plt.subplots()\n",
    "kwant.plot(trijunction, ax=ax, lead_site_size = 4)\n",
    "ax.set_ylim(-10*a, boundaries[3]+10*a)\n",
    "grid_points = poisson_system.grid.points\n",
    "voltage_regions = poisson_system.regions.voltage.tag_points\n",
    "\n",
    "# for name, indices in voltage_regions.items():\n",
    "#     if name not in ['global_accumul']:\n",
    "#         grid_to_plot = a*grid_points[indices][:, [0, 1]]\n",
    "#         ax.scatter(grid_to_plot[:, 0], grid_to_plot[:, 1], s = 0.5)\n"
   ]
  },
  {
   "cell_type": "raw",
   "id": "348c1da5-48bb-4d73-acbf-eefe662e39f9",
   "metadata": {},
   "source": [
    "np.unique(grid_points[voltage_regions['global_accumul']][:, 1])"
   ]
  },
  {
   "cell_type": "code",
   "execution_count": 30,
   "id": "faff8ec2-b377-4873-8d32-0fd364755446",
   "metadata": {},
   "outputs": [],
   "source": [
    "import pickle"
   ]
  },
  {
   "cell_type": "code",
   "execution_count": 31,
   "id": "a13c95f1-4f38-4302-8c12-9f801497e942",
   "metadata": {},
   "outputs": [],
   "source": [
    "with open(\"/home/tinkerer/trijunction-design/data/optimal_phase.pkl\", 'rb') as infile:\n",
    "    optimal_phase = pickle.load(infile)"
   ]
  },
  {
   "cell_type": "code",
   "execution_count": 32,
   "id": "919de707-d180-48b8-a118-f9ae467dc020",
   "metadata": {},
   "outputs": [],
   "source": [
    "optimal_phase = optimal_phase * np.pi"
   ]
  },
  {
   "cell_type": "markdown",
   "id": "3593767c-f931-4537-b003-7ea5e4870b3b",
   "metadata": {
    "jp-MarkdownHeadingCollapsed": true,
    "tags": []
   },
   "source": [
    "#### Optimal phases"
   ]
  },
  {
   "cell_type": "code",
   "execution_count": 33,
   "id": "6d400ccc-4c24-4a12-a38f-b08710418df8",
   "metadata": {},
   "outputs": [],
   "source": [
    "voltages = {'left_1': -5e-3, \n",
    "            'left_2': -5e-3,\n",
    "            'right_1': -5e-3,\n",
    "            'right_2': -5e-3,\n",
    "            'top_1' : -18e-3,\n",
    "            'top_2' : -18e-3,\n",
    "            'global_accumul': 35e-3}"
   ]
  },
  {
   "cell_type": "code",
   "execution_count": 34,
   "id": "54d43605-c424-4af6-9eb1-6a6c20ab43b4",
   "metadata": {},
   "outputs": [],
   "source": [
    "potential = gate_potential(\n",
    "        poisson_system,\n",
    "        linear_problem,\n",
    "        site_coords[:, [0, 1]],\n",
    "        site_indices,\n",
    "        voltages,\n",
    "        charges,\n",
    "        offset=offset[[0, 1]],\n",
    "        grid_spacing=a\n",
    "    )"
   ]
  },
  {
   "cell_type": "code",
   "execution_count": 35,
   "id": "dc159266-5f20-421c-bec1-22d061e811de",
   "metadata": {},
   "outputs": [],
   "source": [
    "mu = pm.bands[0]\n",
    "params = pm.junction_parameters(m_nw=[mu, mu, mu], m_qd=0)"
   ]
  },
  {
   "cell_type": "code",
   "execution_count": 36,
   "id": "e9ddeae3-a0d1-4443-8596-dcc7cb323d73",
   "metadata": {},
   "outputs": [],
   "source": [
    "params.update(potential=clean_potential)"
   ]
  },
  {
   "cell_type": "code",
   "execution_count": 2804,
   "id": "e2161107-ee4a-48d9-a445-63fb639c5bdb",
   "metadata": {},
   "outputs": [],
   "source": [
    "solver = sl.general_solver(geometries=[[trijunction, f_params]],\n",
    "                           n=20,\n",
    "                           base_parameters=params,\n",
    "                           eigenvecs=False)\n",
    "\n",
    "\n",
    "def wrap(arg):\n",
    "    return solver(*arg)"
   ]
  },
  {
   "cell_type": "code",
   "execution_count": 2806,
   "id": "e8aabe13-d91f-469b-986e-681af133407e",
   "metadata": {},
   "outputs": [],
   "source": [
    "args = list(it.product([0],pm.phase_params()))\n",
    "args_db = db.from_sequence(args)"
   ]
  },
  {
   "cell_type": "code",
   "execution_count": 2807,
   "id": "22cd555c-9848-49e4-a6f1-db338d62cf00",
   "metadata": {},
   "outputs": [
    {
     "name": "stdout",
     "output_type": "stream",
     "text": [
      "http://io.quantumtinkerer.tudelft.nl/user/srangaswamykup/proxy/8000/clusters/dd97b04defcc4a8a9b6152ae659e756d/status\n",
      "CPU times: user 23.4 s, sys: 731 ms, total: 24.1 s\n",
      "Wall time: 2min 14s\n"
     ]
    }
   ],
   "source": [
    "%%time\n",
    "with Cluster(options) as cluster:\n",
    "    cluster.scale(10)\n",
    "    client = cluster.get_client()\n",
    "    print(\"http://io.quantumtinkerer.tudelft.nl/user/srangaswamykup/proxy/\"+cluster.dashboard_link[17:])\n",
    "    result = args_db.map(wrap).compute()"
   ]
  },
  {
   "cell_type": "code",
   "execution_count": 2808,
   "id": "ce52de8a-9222-42a4-8680-da2be9797c91",
   "metadata": {},
   "outputs": [],
   "source": [
    "spectra, couplings, wfs, peaks, widths = tl.coupling_data(result, n=20)"
   ]
  },
  {
   "cell_type": "code",
   "execution_count": 2809,
   "id": "873628a4-a499-44ad-941d-424478c03a46",
   "metadata": {},
   "outputs": [],
   "source": [
    "phis = np.linspace(0, 2, 100)\n",
    "max_phis = phis[np.array(peaks).flatten()]"
   ]
  },
  {
   "cell_type": "code",
   "execution_count": 2810,
   "id": "5de7d850-03ab-409e-9958-60defe57d05e",
   "metadata": {},
   "outputs": [
    {
     "data": {
      "text/plain": [
       "array([1.07070707, 0.88888889, 0.86868687])"
      ]
     },
     "execution_count": 2810,
     "metadata": {},
     "output_type": "execute_result"
    }
   ],
   "source": [
    "max_phis"
   ]
  },
  {
   "cell_type": "raw",
   "id": "5ee7f224-2a7d-41ed-a0c6-2e70961b51d6",
   "metadata": {},
   "source": [
    "optimal_phase = np.zeros((3, ))"
   ]
  },
  {
   "cell_type": "code",
   "execution_count": 2812,
   "id": "556ba4d0-631f-4879-b4ba-1cc7d2f09ecd",
   "metadata": {},
   "outputs": [],
   "source": [
    "optimal_phase[0] = max_phis[0] "
   ]
  },
  {
   "cell_type": "markdown",
   "id": "0a653e62-28a9-43c1-b679-e2cdae0624fe",
   "metadata": {
    "tags": []
   },
   "source": [
    "#### Optimize gate voltages"
   ]
  },
  {
   "cell_type": "code",
   "execution_count": 37,
   "id": "af7ddb30-3f81-4f97-bbd1-05f0efe9af6d",
   "metadata": {},
   "outputs": [],
   "source": [
    "from scipy import sparse"
   ]
  },
  {
   "cell_type": "code",
   "execution_count": 38,
   "id": "988eb790-7662-4cd8-bcb1-223a7db7a156",
   "metadata": {},
   "outputs": [],
   "source": [
    "poisson_params = {\n",
    "    'poisson_system': poisson_system,\n",
    "    'linear_problem': linear_problem,\n",
    "    'site_coords': site_coords,\n",
    "    'site_indices': site_indices,\n",
    "}    \n",
    "\n",
    "crds = site_coords\n",
    "grid_spacing = grid_spacing_twoDEG\n",
    "offset = crds[0]%grid_spacing\n",
    "\n",
    "kwant_params = {\n",
    "    'offset': offset,\n",
    "    'grid_spacing': a,\n",
    "    'finite_system_object': trijunction,\n",
    "    'finite_system_params_object': f_params,\n",
    "    \n",
    "}\n"
   ]
  },
  {
   "cell_type": "code",
   "execution_count": 39,
   "id": "65f31a56-6bdd-407e-9658-a55a8530c680",
   "metadata": {},
   "outputs": [],
   "source": [
    "def spectrum_f_voltages(\n",
    "    kwant_params,\n",
    "    general_params,\n",
    "    potential,\n",
    "    no_of_eigenvalues = 6,\n",
    "    return_eigenvecs = False,\n",
    "    phis = [0, 0],    \n",
    "):\n",
    "    kp = kwant_params\n",
    "    \n",
    "    general_params.update(potential=potential)\n",
    "    \n",
    "\n",
    "    general_params['phi1'] = phis[0]\n",
    "    general_params['phi2'] = phis[1]\n",
    "    \n",
    "    ham_mat = kp['finite_system_object'].hamiltonian_submatrix(\n",
    "        sparse=True, params=kp['finite_system_params_object'](**general_params))\n",
    "    \n",
    "    if return_eigenvecs:\n",
    "        evals, evecs = sl.sort_eigen(sparse.linalg.eigsh(ham_mat.tocsc(), k=no_of_eigenvalues, sigma = 0))\n",
    "        \n",
    "        return evals, evecs\n",
    "    else:\n",
    "        evals = np.sort(\n",
    "            sparse.linalg.eigsh(ham_mat.tocsc(), k = no_of_eigenvalues, sigma = 0,\n",
    "                                return_eigenvectors = return_eigenvecs)\n",
    "        )\n",
    "        evecs = []\n",
    "        \n",
    "        return evals"
   ]
  },
  {
   "cell_type": "code",
   "execution_count": 40,
   "id": "480a88b5-43a2-4e42-a48a-df2fc37eaf66",
   "metadata": {},
   "outputs": [],
   "source": [
    "voltage_dict = {'left' : -0.0026, \n",
    "                'right' : -0.0028, \n",
    "                'top' : -0.0024, \n",
    "                'back' : 0.00045}"
   ]
  },
  {
   "cell_type": "code",
   "execution_count": 41,
   "id": "a07cb3ed-7a12-43da-885a-c1673a209acf",
   "metadata": {},
   "outputs": [],
   "source": [
    "for i in range(1, 3):\n",
    "    voltages['left_'+str(i)] = voltage_dict['left']\n",
    "    voltages['right_'+str(i)] = voltage_dict['right']\n",
    "    voltages['top_'+str(i)] = voltage_dict['top']\n",
    "    \n",
    "voltages['global_accumul'] = voltage_dict['back']"
   ]
  },
  {
   "cell_type": "code",
   "execution_count": 42,
   "id": "d70db3e5-c97e-465e-b9ec-b2286af2cde5",
   "metadata": {},
   "outputs": [],
   "source": [
    "centers = np.array(geometry['centers']) / a\n",
    "nw_l = geometry['nw_l'] / a\n",
    "nw_w = geometry['nw_w'] / a\n",
    "\n",
    "depletion_regions  = {'left': np.array(((centers[0][0] - nw_w /2, centers[0][1]),\n",
    "                              (centers[0][0] + nw_w /2, centers[0][1])), dtype = 'float32'),\n",
    "                      'right': np.array(((centers[1][0] - nw_w /2, centers[1][1]),\n",
    "                               (centers[1][0] + nw_w /2, centers[1][1])), dtype = 'float32'),\n",
    "                     'top':   np.array(((centers[2][0] - nw_w /2, centers[2][1] - nw_l),\n",
    "                              (centers[2][0] + nw_w /2, centers[2][1] - nw_l)), dtype = 'float32')}"
   ]
  },
  {
   "cell_type": "code",
   "execution_count": 149,
   "id": "61d7389a-42d0-40bb-9f62-a99691e4220e",
   "metadata": {},
   "outputs": [],
   "source": [
    "grid = poisson_system.grid.points.astype('float32')"
   ]
  },
  {
   "cell_type": "code",
   "execution_count": 150,
   "id": "bcc84abb-49a4-4e31-9835-8c9158b0357f",
   "metadata": {},
   "outputs": [],
   "source": [
    "voltage_regions = poisson_system.regions.voltage.tag_points"
   ]
  },
  {
   "cell_type": "code",
   "execution_count": 151,
   "id": "d15c221e-2998-4f20-ab9f-8d8d57512bad",
   "metadata": {},
   "outputs": [],
   "source": [
    "twodeg_grid = site_indices\n",
    "twodeg_grid_monolayer = twodeg_grid[grid[twodeg_grid][:, 2] == np.unique(grid[twodeg_grid][:, 2])[0]]"
   ]
  },
  {
   "cell_type": "code",
   "execution_count": 152,
   "id": "a4424fef-ccb5-4aed-92af-e59cbb3b1bc3",
   "metadata": {},
   "outputs": [],
   "source": [
    "def depletion_points(grid, monolayer, boundary):\n",
    "    Y = np.argmin(np.abs((grid[monolayer][:, 1] - boundary[0, 1])))\n",
    "    X = grid[monolayer][:, 1] == grid[monolayer[Y]][1]\n",
    "    point_indices = np.multiply(grid[monolayer[X]][:, 0] > boundary[0, 0], \n",
    "                                grid[monolayer[X]][:, 0] < boundary[1, 0])\n",
    "    \n",
    "    return monolayer[X][point_indices]"
   ]
  },
  {
   "cell_type": "code",
   "execution_count": 153,
   "id": "868eb4b2-7a22-46b7-996b-1193f6feb452",
   "metadata": {},
   "outputs": [],
   "source": [
    "dep_indices = []\n",
    "acc_indices = []\n",
    "for gate in ['left_1', 'left_2', 'right_1', 'right_2', 'top_1', 'top_2']:\n",
    "    indices = voltage_regions[gate]\n",
    "    if gate in ['top_1', 'top_2']:\n",
    "        x, y = grid_points[indices][::-1][0, 0], grid_points[indices][::-1][0, 1]\n",
    "    else:\n",
    "        x, y = grid_points[indices][0, 0], grid_points[indices][0, 1]\n",
    "    points = grid_points[twodeg_grid][:, [0, 1]]\n",
    "    points[:, 0] -= x\n",
    "    points[:, 1] -= y\n",
    "    dep_indices.append(np.array([np.argmin(np.sum(np.abs(points), axis = 1))]))\n",
    "\n",
    "for gate in ['top']:\n",
    "    indices = depletion_points(grid, twodeg_grid_monolayer, depletion_regions[gate])\n",
    "    dep_indices.append(np.array([np.hstack(list(map(lambda x: np.argwhere(twodeg_grid == x), \n",
    "                                                    indices)))[0][0]]))\n",
    "\n",
    "for gate in ['left', 'right']:\n",
    "    indices = depletion_points(grid, twodeg_grid_monolayer, depletion_regions[gate])\n",
    "    acc_indices.append(np.array([np.hstack(list(map(lambda x: np.argwhere(twodeg_grid == x), \n",
    "                                                    indices)))[0][0]]))"
   ]
  },
  {
   "cell_type": "code",
   "execution_count": 154,
   "id": "1215d5d2-0069-4dd9-ba87-f1f5d028d8dc",
   "metadata": {},
   "outputs": [],
   "source": [
    "def left(site):\n",
    "    x, y = site.pos\n",
    "    return x < 0\n",
    "leftop = Density(trijunction, onsite = np.eye(4), where = left, sum = True)\n",
    "\n",
    "def right(site):\n",
    "    x, y = site.pos\n",
    "    return x > 0\n",
    "rightop = Density(trijunction, onsite = np.eye(4), where = right, sum = True)\n",
    "\n",
    "def top(site):\n",
    "    x, y = site.pos\n",
    "    return y > 0\n",
    "topop = Density(trijunction, onsite = np.eye(4), where = top, sum = True)"
   ]
  },
  {
   "cell_type": "code",
   "execution_count": 160,
   "id": "4a21a210-05f9-4b39-bbbc-a40973f7ec17",
   "metadata": {},
   "outputs": [],
   "source": [
    "from utility import gather_data"
   ]
  },
  {
   "cell_type": "code",
   "execution_count": 361,
   "id": "2f451967-e7ab-4a8e-b6eb-430723f250aa",
   "metadata": {},
   "outputs": [],
   "source": [
    "def gate_tuner(x, *argv):\n",
    "    \n",
    "    voltages = {}\n",
    "    \n",
    "    for i in range(1, 3):\n",
    "        voltages['left_'+str(i)] = x[0]\n",
    "        voltages['right_'+str(i)] = x[1]\n",
    "        voltages['top_'+str(i)] = x[2]\n",
    "    \n",
    "    voltages['global_accumul'] = x[3]\n",
    "    \n",
    "    poisson_params, kwant_params, general_params,  = argv[:3]\n",
    "    dep_points, acc_points, coupled_pair, uncoupled_pairs  = argv[3:7]\n",
    "    base_hamiltonian, linear_hamiltonian = argv[7:9]\n",
    "    X_operator, Y_operator = argv[9:11]\n",
    "    \n",
    "    \n",
    "    pp = poisson_params\n",
    "    kp = kwant_params\n",
    "    \n",
    "    charges = {}\n",
    "    potential = gate_potential(\n",
    "            pp['poisson_system'],\n",
    "            pp['linear_problem'],\n",
    "            pp['site_coords'],\n",
    "            pp['site_indices'],\n",
    "            voltages,\n",
    "            charges,\n",
    "            offset = kp['offset'],\n",
    "            grid_spacing = kp['grid_spacing']\n",
    "        )\n",
    "    \n",
    "    potential.update((x, y*-1) for x, y in potential.items())\n",
    "    \n",
    "    \n",
    "    potential_array = np.array(list(potential.values()))\n",
    "\n",
    "    dep_potential = np.array([potential_array[points][0] for points in dep_points])\n",
    "    acc_potential = np.array([potential_array[points][0] for points in acc_points])\n",
    "    \n",
    "    \n",
    "    cost = []\n",
    "    # if np.any(dep_potential < general_params['mus_nw'][0] + 1e-3):\n",
    "    #     indices = np.argwhere(dep_potential < general_params['mus_nw'][0])\n",
    "    barrier_cost = (general_params['mus_nw'][0] + 1e-3) - dep_potential\n",
    "    cost.append(sum(np.abs(barrier_cost)))\n",
    "    if np.any(acc_potential > general_params['mus_nw'][0]):\n",
    "        indices = np.argwhere(acc_potential > general_params['mus_nw'][0])\n",
    "        accumulation_cost = acc_potential[indices] - general_params['mus_nw'][0]\n",
    "        cost.append(sum(accumulation_cost))\n",
    "    else:\n",
    "        cost.append(np.abs(acc_potential[1]- acc_potential[0]))\n",
    "        \n",
    "    \n",
    "    summed_ham = sum(\n",
    "        [\n",
    "            linear_hamiltonian[key] * voltages[key]\n",
    "            for key, value in linear_hamiltonian.items()\n",
    "        ]\n",
    "    )\n",
    "    \n",
    "    tight_binding_hamiltonian = base_hamiltonian + summed_ham\n",
    "\n",
    "\n",
    "    eigval, eigvec = sl.sort_eigen(sparse.linalg.eigsh(tight_binding_hamiltonian.tocsc(), \n",
    "                                                       k=12, sigma = 0))\n",
    "    \n",
    "    eigval = eigval\n",
    "    eigvec = eigvec\n",
    "    \n",
    "    density = kwant.operator.Density(kp['finite_system_object'], np.eye(4))\n",
    "    \n",
    "#     basis_sequence = []\n",
    "#     for vec in eigvec[:3]:\n",
    "#         basis_sequence.append(np.argmax([op(vec) for op in [leftop, \n",
    "#                                                             rightop, \n",
    "#                                                             topop]]))\n",
    "\n",
    "#     basis_sequence = np.hstack(basis_sequence)\n",
    "\n",
    "    # eigval = eigval[:3][basis_sequence]\n",
    "    # eigvec[:3] = np.squeeze(eigvec[:3][basis_sequence])\n",
    "    \n",
    "    projected_X_operator = wannier_1D_operator(X_operator, \n",
    "                                           eigvec[3:9].T)\n",
    "\n",
    "    projected_Y_operator = wannier_1D_operator(Y_operator, \n",
    "                                           eigvec[3:9].T)\n",
    "    \n",
    "    w_basis = wannier_basis([projected_X_operator, \n",
    "                         projected_Y_operator])\n",
    "\n",
    "    mlwf = w_basis.T @ eigvec[3:9]\n",
    "    \n",
    "    fig, ax = plt.subplots(2, 6, figsize = (10, 5), sharey= True)\n",
    "    for i in range(6):\n",
    "        kwant.plotter.density(trijunction, density(mlwf[i]), ax = ax[0][i]);\n",
    "    for i in range(6):\n",
    "        kwant.plotter.density(trijunction, density(eigvec[3:9][i]), ax = ax[1][i]);\n",
    "    \n",
    "    filepath = '/home/tinkerer/trijunction-design/data/optimization/'\n",
    "    seed = gather_data(filepath)\n",
    "\n",
    "    if \".ipynb_checkpoints\" in seed:\n",
    "        os.system(\"rm -rf .ipynb_checkpoints\")\n",
    "\n",
    "    if len(seed):\n",
    "        file_name = filepath + \"plt_\" + str(max(seed) + 1) + \"_.png\"\n",
    "    else:\n",
    "        file_name = filepath + \"plt_\" + str(0) + \"_.png\"\n",
    "\n",
    "    plt.savefig(file_name, format=\"png\", bbox_inches=\"tight\", pad_inches=0.0)\n",
    "\n",
    "    plt.close()\n",
    "\n",
    "    if coupled_pair != None:\n",
    "\n",
    "        S = eigvec[3:9] @ mlwf.T.conj()\n",
    "        U, _, Vh = svd(S)\n",
    "        S_prime = U @ Vh\n",
    "        eff_Hamiltonian = S_prime.T.conj() @ np.diag(eigval[3:9]) @ S_prime\n",
    "        \n",
    "        \n",
    "        coupled_cost = -1 * np.abs(eff_Hamiltonian[coupled_pair[0], coupled_pair[1]])\n",
    "        uncoupled_cost = np.zeros((2, ))\n",
    "        \n",
    "        for i, pair in enumerate(uncoupled_pairs): \n",
    "            uncoupled_cost[i] = np.abs(eff_Hamiltonian[pair[0], pair[1]])\n",
    "        \n",
    "        total_coupling_cost = coupled_cost + sum(uncoupled_cost)\n",
    "        \n",
    "        print(coupled_cost)\n",
    "        \n",
    "        if np.abs(total_coupling_cost) > 1e-9:\n",
    "            cost = [total_coupling_cost]\n",
    "        else:\n",
    "            cost.append(total_coupling_cost)\n",
    "    \n",
    "    print(cost)\n",
    "    \n",
    "    return sum(cost) # -1 to maximize the couplings\n",
    "    "
   ]
  },
  {
   "cell_type": "code",
   "execution_count": 362,
   "id": "e5f9c4eb-ecfe-4927-b7a9-33d9f8d27e41",
   "metadata": {},
   "outputs": [],
   "source": [
    "mu = pm.bands[0]"
   ]
  },
  {
   "cell_type": "raw",
   "id": "e58377a4-a1dd-45a1-8c2a-37bca5c72a05",
   "metadata": {},
   "source": [
    "params = pm.junction_parameters(m_nw=[mu, mu, mu], m_qd=0)"
   ]
  },
  {
   "cell_type": "code",
   "execution_count": 363,
   "id": "ee3a1f6e-331b-4663-8740-5b4385cf25e5",
   "metadata": {},
   "outputs": [],
   "source": [
    "coupled_pairs = [2, 3] # 0: left, 1: right, 2: top\n",
    "uncoupled_pairs = [[2, 4], [3, 4]]\n",
    "args = (poisson_params, kwant_params, params, \n",
    "        dep_indices, acc_indices, coupled_pairs, uncoupled_pairs,\n",
    "        base_hamiltonian, linear_ham,\n",
    "        X_operator, Y_operator)\n",
    "initial_condition = list(voltages.values())"
   ]
  },
  {
   "cell_type": "code",
   "execution_count": 364,
   "id": "df0011d5-81e8-4950-9531-9c4ace3d37d6",
   "metadata": {},
   "outputs": [
    {
     "data": {
      "text/plain": [
       "[-0.003681622975055661,\n",
       " -0.008681622975055661,\n",
       " -0.008681622975055661,\n",
       " -0.003681622975055661,\n",
       " -0.0037495890626959454,\n",
       " -0.0037495890626959454,\n",
       " -6.98461859286267e-05]"
      ]
     },
     "execution_count": 364,
     "metadata": {},
     "output_type": "execute_result"
    }
   ],
   "source": [
    "initial_condition"
   ]
  },
  {
   "cell_type": "raw",
   "id": "42dc6af5-a218-4aeb-95d0-1c84bbd61046",
   "metadata": {},
   "source": [
    "from utility import gather_data"
   ]
  },
  {
   "cell_type": "code",
   "execution_count": 366,
   "id": "e54660a3-9297-4394-be0c-276895a26dae",
   "metadata": {
    "collapsed": true,
    "jupyter": {
     "outputs_hidden": true
    },
    "tags": []
   },
   "outputs": [
    {
     "name": "stdout",
     "output_type": "stream",
     "text": [
      "-4.8934742168635204e-14\n",
      "[0.023770271007238906, array([0.00620313]), -4.893448796016008e-14]\n",
      "-4.893407265920793e-14\n",
      "[0.02377030078445544, array([0.00620314]), -4.8933925045438886e-14]\n",
      "-4.893424682230787e-14\n",
      "[0.02377029544027498, array([0.00620314]), -4.8934118926811835e-14]\n",
      "-4.8934734967570173e-14\n",
      "[0.023770311456998164, array([0.00620313]), -4.893456861138715e-14]\n",
      "-4.8934503736342165e-14\n",
      "[0.023770280655355424, array([0.00620314]), -4.893434367590125e-14]\n",
      "-4.8934741138597854e-14\n",
      "[0.023770271007238906, array([0.00620313]), -4.893457898150207e-14]\n",
      "-4.893476599778256e-14\n",
      "[0.023770271007238906, array([0.00620313]), -4.893455543811653e-14]\n",
      "-4.893473504029308e-14\n",
      "[0.023770271007238906, array([0.00620313]), -4.8934544294107176e-14]\n",
      "| niter |f evals|CG iter|  obj func   |tr radius |   opt    |  c viol  |\n",
      "|-------|-------|-------|-------------|----------|----------|----------|\n",
      "|   1   |   8   |   0   | +2.9973e-02 | 2.00e-04 | 2.73e+00 | 0.00e+00 |\n",
      "-5.968818769017924e-14\n",
      "[0.02302182406890333, array([0.00601807]), -5.968797749355021e-14]\n",
      "-5.968734162206095e-14\n",
      "[0.023021853846119857, array([0.00601808]), -5.968716710972787e-14]\n",
      "-5.96876179260221e-14\n",
      "[0.023021848501939408, array([0.00601808]), -5.968731999417687e-14]\n",
      "-5.968818073760305e-14\n",
      "[0.02302186451866258, array([0.00601807]), -5.968792352241794e-14]\n",
      "-5.968787204162439e-14\n",
      "[0.02302183371701985, array([0.00601808]), -5.968765874049047e-14]\n",
      "-5.968817528426439e-14\n",
      "[0.02302182406890333, array([0.00601807]), -5.968806679665368e-14]\n",
      "-5.968819363841064e-14\n",
      "[0.02302182406890333, array([0.00601807]), -5.968795650464639e-14]\n",
      "-5.968822473773555e-14\n",
      "[0.02302182406890333, array([0.00601807]), -5.968808238468654e-14]\n",
      "|   2   |  16   |   1   | +2.9040e-02 | 1.40e-03 | 2.73e+00 | 0.00e+00 |\n",
      "-2.6288531268902947e-13\n",
      "[0.019610130723349, array([0.00472261]), -2.628822068938694e-13]\n",
      "-2.6288108346218994e-13\n",
      "[0.019610109285248246, array([0.00472262]), -2.6287792536235847e-13]\n",
      "-2.6288240936893757e-13\n",
      "[0.019610154142208836, array([0.00472262]), -2.6287920565456474e-13]\n",
      "-2.6288524317359156e-13\n",
      "[0.01961017070088415, array([0.00472261]), -2.628820783839221e-13]\n",
      "-2.628836497742256e-13\n",
      "[0.01961013346853835, array([0.00472262]), -2.628805116317416e-13]\n",
      "-2.6288528563677073e-13\n",
      "[0.019610130723349, array([0.00472261]), -2.6288208292161704e-13]\n",
      "-2.628853644228389e-13\n",
      "[0.019610130723349, array([0.00472261]), -2.6288217660580574e-13]\n",
      "-2.6288530603352876e-13\n",
      "[0.019610130723349, array([0.00472261]), -2.6288216980927796e-13]\n",
      "|   3   |  24   |   2   | +2.4333e-02 | 2.80e-03 | 2.70e+00 | 0.00e+00 |\n",
      "-7.615379513719388e-13\n",
      "[0.010480952987628899, array([0.00353275]), -7.615140130356356e-13]\n",
      "-7.615258343268108e-13\n",
      "[0.010480931549528144, array([0.00353276]), -7.615018589226292e-13]\n",
      "-7.615283182596974e-13\n",
      "[0.010480976406488733, array([0.00353276]), -7.615043680707849e-13]\n",
      "-7.615377339969425e-13\n",
      "[0.010480992965164053, array([0.00353275]), -7.615137342523701e-13]\n",
      "-7.615329234437801e-13\n",
      "[0.010480955732818249, array([0.00353275]), -7.61508991554589e-13]\n",
      "-7.615379006921141e-13\n",
      "[0.010480952987628899, array([0.00353275]), -7.615139465468153e-13]\n",
      "-7.615379316092944e-13\n",
      "[0.010480952987628899, array([0.00353275]), -7.615139114825636e-13]\n",
      "-7.615379106193337e-13\n",
      "[0.010480952987628899, array([0.00353275]), -7.615139475718915e-13]\n",
      "|   4   |  32   |   3   | +1.4014e-02 | 1.96e-02 | 2.70e+00 | 0.00e+00 |\n",
      "-1.6382648106663782e-09\n",
      "[5.403630612496291e-06]\n",
      "-1.6382286494444996e-09\n",
      "[5.403617162969e-06]\n",
      "-1.6383074602346498e-09\n",
      "[5.403639137641903e-06]\n",
      "-1.6384422749787273e-09\n",
      "[5.405595133379577e-06]\n",
      "-1.6382887604150463e-09\n",
      "[5.4037790926148415e-06]\n",
      "-1.6382648106927489e-09\n",
      "[5.4036306124962596e-06]\n",
      "-1.638264810658892e-09\n",
      "[5.403630612496263e-06]\n",
      "-1.6382648107195318e-09\n",
      "[5.4036306124962155e-06]\n",
      "|   5   |  40   |   4   | +5.4036e-06 | 1.96e-02 | 1.32e-01 | 0.00e+00 |\n",
      "-6.989550487668446e-10\n",
      "[0.048362833973077356, array([0.00446127]), -3.9525257693924047e-10]\n",
      "-6.989379468387895e-10\n",
      "[0.0483628555575468, array([0.00446128]), -3.951687277896023e-10]\n",
      "-6.990357790925472e-10\n",
      "[0.048362857182612996, array([0.00446127]), -3.958408205734721e-10]\n",
      "-6.989469980310285e-10\n",
      "[0.0483628496776567, array([0.00446127]), -3.952131437673147e-10]\n",
      "-6.989707628211321e-10\n",
      "[0.04836283315142931, array([0.00446127]), -3.9536610131653e-10]\n",
      "-6.989550488046365e-10\n",
      "[0.048362833973077356, array([0.00446127]), -3.952525769767013e-10]\n",
      "-6.989550487896084e-10\n",
      "[0.048362833973077356, array([0.00446127]), -3.952525769618422e-10]\n",
      "-6.989550488062363e-10\n",
      "[0.048362833973077356, array([0.00446127]), -3.9525257697844025e-10]\n",
      "|   6   |  48   |   6   | +5.4036e-06 | 1.96e-03 | 1.32e-01 | 0.00e+00 |\n",
      "-1.5189472917701236e-09\n",
      "[6.000671368834493e-07]\n",
      "-1.5189309776709707e-09\n",
      "[6.006346664584601e-07]\n",
      "-1.518926580565291e-09\n",
      "[5.963817225236999e-07]\n",
      "-1.5185174942156307e-09\n",
      "[5.92765294167676e-07]\n",
      "-1.5189242308990558e-09\n",
      "[5.990591266462048e-07]\n",
      "-1.5189472917290458e-09\n",
      "[6.000671368834725e-07]\n",
      "-1.5189472917610852e-09\n",
      "[6.000671368834132e-07]\n",
      "-1.5189472917586945e-09\n",
      "[6.000671368834351e-07]\n",
      "|   7   |  56   |   7   | +6.0007e-07 | 1.96e-03 | 4.90e-01 | 0.00e+00 |\n",
      "-1.3520526695843724e-09\n",
      "[1.4698072117258541e-05]\n",
      "-1.351933244502214e-09\n",
      "[1.4698321816834912e-05]\n",
      "-1.3517443513170155e-09\n",
      "[1.4696573783754223e-05]\n",
      "-1.3527854919863305e-09\n",
      "[1.4691386209501293e-05]\n",
      "-1.3521495763801922e-09\n",
      "[1.4697491277006614e-05]\n",
      "-1.3520526695910878e-09\n",
      "[1.4698072117258516e-05]\n",
      "-1.3520526695937714e-09\n",
      "[1.4698072117258512e-05]\n",
      "-1.3520526695902122e-09\n",
      "[1.4698072117258561e-05]\n",
      "|   8   |  64   |   8   | +6.0007e-07 | 9.80e-04 | 4.90e-01 | 0.00e+00 |\n",
      "-2.048482323756018e-09\n",
      "[4.67504708999715e-07]\n",
      "-2.0484494607879937e-09\n",
      "[4.677270108483322e-07]\n",
      "-2.0486277337429515e-09\n",
      "[4.669664396667592e-07]\n",
      "-2.0485029850791046e-09\n",
      "[4.647370698125897e-07]\n",
      "-2.0485137443987162e-09\n",
      "[4.6723236452279576e-07]\n",
      "-2.0484823237626092e-09\n",
      "[4.6750470899962297e-07]\n",
      "-2.0484823238278928e-09\n",
      "[4.67504708999608e-07]\n",
      "-2.0484823237940156e-09\n",
      "[4.675047089996321e-07]\n",
      "|   9   |  72   |   9   | +4.6750e-07 | 9.80e-04 | 1.86e-01 | 0.00e+00 |\n",
      "-3.8045089912030084e-09\n",
      "[5.801145662774952e-06]\n",
      "-3.804595943530618e-09\n",
      "[5.801051929253854e-06]\n",
      "-3.804107413235326e-09\n",
      "[5.801907398352018e-06]\n",
      "-3.802146461255805e-09\n",
      "[5.800597003666306e-06]\n",
      "-3.80434558923362e-09\n",
      "[5.801215441367759e-06]\n",
      "-3.80450899122924e-09\n",
      "[5.801145662774963e-06]\n",
      "-3.804508991212743e-09\n",
      "[5.8011456627750056e-06]\n",
      "-3.804508991237651e-09\n",
      "[5.8011456627750174e-06]\n",
      "|  10   |  80   |  10   | +4.6750e-07 | 4.90e-04 | 1.86e-01 | 0.00e+00 |\n",
      "-3.18942793071266e-09\n",
      "[5.206175226003035e-06]\n",
      "-3.18941092684381e-09\n",
      "[5.2058128825596255e-06]\n",
      "-3.1893653313381175e-09\n",
      "[5.2088426401916875e-06]\n",
      "-3.189147987510312e-09\n",
      "[5.209694018686436e-06]\n",
      "-3.189400454619071e-09\n",
      "[5.206861872492225e-06]\n",
      "-3.1894279307233784e-09\n",
      "[5.206175226003105e-06]\n",
      "-3.1894279307112147e-09\n",
      "[5.206175226003136e-06]\n",
      "-3.1894279306748626e-09\n",
      "[5.206175226003088e-06]\n",
      "|  11   |  88   |  11   | +4.6750e-07 | 2.45e-04 | 1.86e-01 | 0.00e+00 |\n",
      "-1.907585182487625e-09\n",
      "[1.8681279483273455e-05]\n",
      "-1.9074590527707875e-09\n",
      "[1.8681404107672346e-05]\n",
      "-1.9097772667697845e-09\n",
      "[1.8679385537751608e-05]\n",
      "-1.909635604191875e-09\n",
      "[1.8677698045066056e-05]\n",
      "-1.9079530774345976e-09\n",
      "[1.8680797648473297e-05]\n",
      "-1.907585182491973e-09\n",
      "[1.8681279483273428e-05]\n",
      "-1.907585182477482e-09\n",
      "[1.8681279483273516e-05]\n",
      "-1.907585182526745e-09\n",
      "[1.868127948327344e-05]\n",
      "|  12   |  96   |  12   | +4.6750e-07 | 1.23e-04 | 1.86e-01 | 0.00e+00 |\n",
      "-1.7115535922536836e-09\n",
      "[4.4442379396159685e-06]\n",
      "-1.7115160590549467e-09\n",
      "[4.444279859816049e-06]\n",
      "-1.7117794935159257e-09\n",
      "[4.444879548543369e-06]\n",
      "-1.7117505263579156e-09\n",
      "[4.444459790053398e-06]\n",
      "-1.7115967748823341e-09\n",
      "[4.44425000826959e-06]\n",
      "-1.7115535922626043e-09\n",
      "[4.4442379396159634e-06]\n",
      "-1.711553592241066e-09\n",
      "[4.444237939616136e-06]\n",
      "-1.711553592261773e-09\n",
      "[4.4442379396159685e-06]\n",
      "|  13   |  104  |  14   | +4.6750e-07 | 6.13e-05 | 1.86e-01 | 0.00e+00 |\n",
      "-1.8307265117384848e-09\n",
      "[2.938113467895363e-06]\n",
      "-1.83069494937315e-09\n",
      "[2.9380680002351447e-06]\n",
      "-1.8308149892259663e-09\n",
      "[2.939281293777481e-06]\n",
      "-1.8307177125884053e-09\n",
      "[2.939827353343128e-06]\n",
      "-1.8307423506565628e-09\n",
      "[2.938290293286459e-06]\n",
      "-1.8307265118016884e-09\n",
      "[2.9381134678953813e-06]\n",
      "-1.8307265117232378e-09\n",
      "[2.9381134678952873e-06]\n",
      "-1.830726511791579e-09\n",
      "[2.9381134678951534e-06]\n",
      "|  14   |  112  |  15   | +4.6750e-07 | 3.06e-05 | 1.86e-01 | 0.00e+00 |\n",
      "-1.9229540343419718e-09\n",
      "[6.553896335686658e-07]\n",
      "-1.922927000974128e-09\n",
      "[6.554034426138956e-07]\n",
      "-1.922998823029908e-09\n",
      "[6.544614973759718e-07]\n",
      "-1.9228536666120058e-09\n",
      "[6.542650048375045e-07]\n",
      "-1.9229613222023058e-09\n",
      "[6.552702046469849e-07]\n",
      "-1.9229540343146434e-09\n",
      "[6.553896335686814e-07]\n",
      "-1.9229540343342546e-09\n",
      "[6.55389633568662e-07]\n",
      "-1.9229540342796656e-09\n",
      "[6.55389633568572e-07]\n",
      "|  15   |  120  |  16   | +4.6750e-07 | 1.53e-05 | 1.86e-01 | 0.00e+00 |\n",
      "-2.020941514500349e-09\n",
      "[1.2674800468491367e-06]\n",
      "-2.0209146873504965e-09\n",
      "[1.2673995737126058e-06]\n",
      "-2.021001700844892e-09\n",
      "[1.2670505719196665e-06]\n",
      "-2.0208343851500447e-09\n",
      "[1.2679289294578842e-06]\n",
      "-2.020952607198258e-09\n",
      "[1.2675047670971426e-06]\n",
      "-2.02094151450102e-09\n",
      "[1.267480046849164e-06]\n",
      "-2.0209415144772906e-09\n",
      "[1.267480046849231e-06]\n",
      "-2.020941514488091e-09\n",
      "[1.2674800468491429e-06]\n",
      "|  16   |  128  |  17   | +4.6750e-07 | 7.66e-06 | 1.86e-01 | 0.00e+00 |\n",
      "-2.054483658641213e-09\n",
      "[7.334596152351036e-07]\n",
      "-2.054454253562351e-09\n",
      "[7.33299860781775e-07]\n",
      "-2.054579481207526e-09\n",
      "[7.335103027680425e-07]\n",
      "-2.0544281880869772e-09\n",
      "[7.352010794757897e-07]\n",
      "-2.0545034796647008e-09\n",
      "[7.336149598101215e-07]\n",
      "-2.0544836586767003e-09\n",
      "[7.334596152350235e-07]\n",
      "-2.054483658655112e-09\n",
      "[7.334596152351496e-07]\n",
      "-2.054483658643728e-09\n",
      "[7.334596152351113e-07]\n",
      "|  17   |  136  |  18   | +4.6750e-07 | 3.83e-06 | 1.86e-01 | 0.00e+00 |\n",
      "-2.057044447854352e-09\n",
      "[2.0373690394476595e-07]\n",
      "-2.057013179220127e-09\n",
      "[2.0354079236061834e-07]\n",
      "-2.057165383022713e-09\n",
      "[2.0404691657031357e-07]\n",
      "-2.0570282531336697e-09\n",
      "[2.0607102747779335e-07]\n",
      "-2.0570702557658532e-09\n",
      "[2.0395733437960943e-07]\n",
      "-2.057044447847071e-09\n",
      "[2.0373690394478387e-07]\n",
      "-2.057044447892904e-09\n",
      "[2.0373690394474035e-07]\n",
      "-2.0570444478654264e-09\n",
      "[2.0373690394485867e-07]\n",
      "|  18   |  144  |  19   | +2.0374e-07 | 7.66e-06 | 1.57e-01 | 0.00e+00 |\n",
      "-2.0351774676532945e-09\n",
      "[1.2288375085173708e-06]\n",
      "-2.035143502214669e-09\n",
      "[1.2290715715161303e-06]\n",
      "-2.035341209825164e-09\n",
      "[1.2281307280281814e-06]\n",
      "-2.03522532904498e-09\n",
      "[1.2258558024214442e-06]\n",
      "-2.035212944326054e-09\n",
      "[1.2285340326907225e-06]\n",
      "-2.0351774677956548e-09\n",
      "[1.2288375085171175e-06]\n",
      "-2.0351774677636015e-09\n",
      "[1.2288375085170034e-06]\n",
      "-2.0351774677738296e-09\n",
      "[1.22883750851716e-06]\n",
      "|  19   |  152  |  20   | +2.0374e-07 | 3.83e-06 | 1.57e-01 | 0.00e+00 |\n",
      "-2.051989499725174e-09\n",
      "[3.7362542302720994e-07]\n",
      "-2.051956813465538e-09\n",
      "[3.738444711927381e-07]\n",
      "-2.0521314694208865e-09\n",
      "[3.731149187540459e-07]\n",
      "-2.052005019023554e-09\n",
      "[3.7091017741615177e-07]\n",
      "-2.0520201467720374e-09\n",
      "[3.733594066844845e-07]\n",
      "-2.0519894997305185e-09\n",
      "[3.736254230273371e-07]\n",
      "-2.0519894997344518e-09\n",
      "[3.7362542302741847e-07]\n",
      "-2.0519894997985496e-09\n",
      "[3.736254230271735e-07]\n",
      "|  20   |  160  |  21   | +2.0374e-07 | 1.91e-06 | 1.57e-01 | 0.00e+00 |\n",
      "\n",
      "The maximum number of function evaluations is exceeded.\n",
      "Number of iterations: 20, function evaluations: 160, CG iterations: 21, optimality: 1.57e-01, constraint violation: 0.00e+00, execution time: 2e+03 s.\n",
      "CPU times: user 34min 20s, sys: 42.9 s, total: 35min 2s\n",
      "Wall time: 34min 45s\n"
     ]
    }
   ],
   "source": [
    "%%time\n",
    "\n",
    "sol1 = minimize(\n",
    "            gate_tuner,\n",
    "            initial_condition,\n",
    "            args=args,\n",
    "    # ftol = 1e-6,\n",
    "    # verbose = 2\n",
    "    method = 'trust-constr',\n",
    "            options = {'disp': True, 'verbose': 2, 'maxiter': 20, \n",
    "                       'initial_tr_radius': 2e-4,\n",
    "                       'gtol': 1e-3}\n",
    "        )"
   ]
  },
  {
   "cell_type": "code",
   "execution_count": 2819,
   "id": "b28efa11-c99e-4f30-a5e0-b788d3602963",
   "metadata": {},
   "outputs": [],
   "source": [
    "x = sol1.x\n",
    "for i in range(1, 3):\n",
    "    voltages['left_'+str(i)] = x[0] \n",
    "    voltages['right_'+str(i)] = x[1]\n",
    "    voltages['top_'+str(i)] = x[2]\n",
    "\n",
    "voltages['global_accumul'] = x[3]"
   ]
  },
  {
   "cell_type": "code",
   "execution_count": 350,
   "id": "c6275acb-ad6c-4263-b27d-25494897e053",
   "metadata": {},
   "outputs": [],
   "source": [
    "voltages = {'left_1': -0.003681622975055661,\n",
    " 'left_2': -0.008681622975055661,\n",
    " 'right_1': -0.008681622975055661,\n",
    " 'right_2': -0.003681622975055661,\n",
    " 'top_1': -0.0037495890626959454,\n",
    " 'top_2': -0.0037495890626959454,\n",
    " 'global_accumul': -6.98461859286267e-05}"
   ]
  },
  {
   "cell_type": "raw",
   "id": "ea17e0e1-358b-4565-bed8-fb1fbece928f",
   "metadata": {},
   "source": [
    "voltages['left_2'] -= 0.005\n",
    "voltages['right_1'] = voltages['left_2']\n",
    "voltages['right_2'] = voltages['left_1']"
   ]
  },
  {
   "cell_type": "code",
   "execution_count": 458,
   "id": "60d5f8bd-8fc7-4edb-bdff-57a7720a5d33",
   "metadata": {},
   "outputs": [
    {
     "name": "stdout",
     "output_type": "stream",
     "text": [
      "CPU times: user 586 ms, sys: 68.1 ms, total: 654 ms\n",
      "Wall time: 652 ms\n"
     ]
    }
   ],
   "source": [
    "%%time\n",
    "\n",
    "charges = {}\n",
    "potential = gate_potential(\n",
    "        poisson_system,\n",
    "        linear_problem,\n",
    "        site_coords[:, [0, 1]],\n",
    "        site_indices,\n",
    "        voltages,\n",
    "        charges,\n",
    "        offset = offset[[0, 1]],\n",
    "        grid_spacing = kwant_params['grid_spacing']\n",
    "    )\n",
    "\n",
    "potential.update((x, y*-1) for x, y in potential.items())\n",
    "\n",
    "params.update(potential=potential)"
   ]
  },
  {
   "cell_type": "code",
   "execution_count": 459,
   "id": "2c1b1a54-16f4-45fd-94f5-8a76f645ffc4",
   "metadata": {},
   "outputs": [],
   "source": [
    "f_mu = f_params(**params)['mu']"
   ]
  },
  {
   "cell_type": "code",
   "execution_count": 460,
   "id": "e222bb7a-5a2e-402f-b922-411bc4f856d4",
   "metadata": {},
   "outputs": [],
   "source": [
    "def plot_f_mu(i):\n",
    "    x, y = trijunction.sites[i].pos\n",
    "    return f_mu(x, y)"
   ]
  },
  {
   "cell_type": "code",
   "execution_count": 461,
   "id": "9c761a2b-bb0a-46a2-8415-7b5aab0de2a7",
   "metadata": {},
   "outputs": [],
   "source": [
    "kwant_sites = np.array(list(site.pos for site in trijunction.sites))"
   ]
  },
  {
   "cell_type": "code",
   "execution_count": 462,
   "id": "97bf5dfd-edf9-4d79-8a8f-e46208e1ddae",
   "metadata": {},
   "outputs": [],
   "source": [
    "to_plot = [plot_f_mu(i) for i in range(len(kwant_sites))]"
   ]
  },
  {
   "cell_type": "code",
   "execution_count": 463,
   "id": "335f62f4-d18b-405d-a77f-5185213a9314",
   "metadata": {},
   "outputs": [],
   "source": [
    "grid_points = poisson_system.grid.points\n",
    "voltage_regions = poisson_system.regions.voltage.tag_points"
   ]
  },
  {
   "cell_type": "code",
   "execution_count": 464,
   "id": "3788d104-ae63-4db8-809b-82b78892ecb1",
   "metadata": {},
   "outputs": [
    {
     "data": {
      "text/plain": [
       "0.0023960204649275973"
      ]
     },
     "execution_count": 464,
     "metadata": {},
     "output_type": "execute_result"
    }
   ],
   "source": [
    "pm.bands[0]"
   ]
  },
  {
   "cell_type": "code",
   "execution_count": 465,
   "id": "1006783f-6650-4b7a-8081-fbf7a2af34ff",
   "metadata": {},
   "outputs": [
    {
     "data": {
      "image/png": "[encoded data removed]",
      "text/plain": [
       "<Figure size 504x360 with 2 Axes>"
      ]
     },
     "metadata": {
      "needs_background": "light"
     },
     "output_type": "display_data"
    }
   ],
   "source": [
    "fig, ax = plt.subplots(1, 1, figsize = (7, 5))\n",
    "cax = ax.scatter(kwant_sites[:, 0 ], kwant_sites[:, 1], \n",
    "                 c = np.array(to_plot), cmap = 'inferno_r', \n",
    "                );\n",
    "ax.set_ylim(-0.5e-6, 1.0e-6);\n",
    "plt.colorbar(cax);\n",
    "# plt.axis('equal')"
   ]
  },
  {
   "cell_type": "code",
   "execution_count": 257,
   "id": "71e6889b-df58-42f3-9b14-ad5563d854a5",
   "metadata": {},
   "outputs": [
    {
     "name": "stderr",
     "output_type": "stream",
     "text": [
      "100%|██████████| 7/7 [00:04<00:00,  1.44it/s]"
     ]
    },
    {
     "name": "stdout",
     "output_type": "stream",
     "text": [
      "CPU times: user 5.55 s, sys: 83.8 ms, total: 5.64 s\n",
      "Wall time: 5.63 s\n"
     ]
    },
    {
     "name": "stderr",
     "output_type": "stream",
     "text": [
      "\n"
     ]
    }
   ],
   "source": [
    "%%time\n",
    "\n",
    "base_hamiltonian, linear_ham = linear_Hamiltonian(poisson_params, \n",
    "                                                  kwant_params, \n",
    "                                                  params, \n",
    "                                                  list(voltage_regions.keys()),\n",
    "                                                  phis = [optimal_phase[0], np.pi])"
   ]
  },
  {
   "cell_type": "code",
   "execution_count": 371,
   "id": "60a16d33-093a-4af7-a72d-f5b76f418326",
   "metadata": {},
   "outputs": [
    {
     "data": {
      "text/plain": [
       "{'left_1': -0.003681622975055661,\n",
       " 'left_2': -0.008681622975055661,\n",
       " 'right_1': -0.008681622975055661,\n",
       " 'right_2': -0.003681622975055661,\n",
       " 'top_1': -0.0037495890626959454,\n",
       " 'top_2': -0.0037495890626959454,\n",
       " 'global_accumul': -6.98461859286267e-05}"
      ]
     },
     "execution_count": 371,
     "metadata": {},
     "output_type": "execute_result"
    }
   ],
   "source": [
    "voltages"
   ]
  },
  {
   "cell_type": "code",
   "execution_count": 434,
   "id": "af2fbe4a-8da1-491b-8623-66e902f7f730",
   "metadata": {},
   "outputs": [],
   "source": [
    "voltages['left_2'] -= 0.001\n",
    "voltages['right_1'] = voltages['left_2']"
   ]
  },
  {
   "cell_type": "code",
   "execution_count": 435,
   "id": "379dc983-b6ce-4c0b-9279-90def7930c11",
   "metadata": {},
   "outputs": [
    {
     "data": {
      "text/plain": [
       "{'left_1': -0.003681622975055661,\n",
       " 'left_2': 0.003318377024944339,\n",
       " 'right_1': 0.003318377024944339,\n",
       " 'right_2': -0.003681622975055661,\n",
       " 'top_1': -0.0037495890626959454,\n",
       " 'top_2': -0.0037495890626959454,\n",
       " 'global_accumul': -6.98461859286267e-05}"
      ]
     },
     "execution_count": 435,
     "metadata": {},
     "output_type": "execute_result"
    }
   ],
   "source": [
    "voltages"
   ]
  },
  {
   "cell_type": "code",
   "execution_count": 436,
   "id": "1db3c71a-ef5b-47f4-92ae-fb4cbb8b50e3",
   "metadata": {},
   "outputs": [],
   "source": [
    "summed_ham = sum(\n",
    "    [\n",
    "        linear_ham[key] * voltages[key]\n",
    "        for key, value in linear_ham.items()\n",
    "    ]\n",
    ")\n",
    "\n",
    "tight_binding_hamiltonian = base_hamiltonian + summed_ham\n",
    "\n",
    "\n",
    "eigval, eigvec = sl.sort_eigen(sparse.linalg.eigsh(tight_binding_hamiltonian.tocsc(), \n",
    "                                                   k=12, sigma = 0))"
   ]
  },
  {
   "cell_type": "code",
   "execution_count": 437,
   "id": "b5c9c5e7-3817-49cb-a6cf-c38f2fc1cd33",
   "metadata": {},
   "outputs": [],
   "source": [
    "eigval = eigval\n",
    "eigvec = eigvec"
   ]
  },
  {
   "cell_type": "raw",
   "id": "36cfab0d-8a40-4bdb-881d-674f11e73836",
   "metadata": {},
   "source": [
    "basis_sequence = []\n",
    "for vec in eigvec[:3]:\n",
    "    basis_sequence.append(np.argmax([op(vec) for op in [leftop, \n",
    "                                                        rightop, \n",
    "                                                        topop]]))\n",
    "\n",
    "basis_sequence = np.hstack(basis_sequence)\n",
    "\n",
    "eigval[:3] = eigval[:3][basis_sequence]\n",
    "eigvec[:3] = np.squeeze(eigvec[:3][basis_sequence])"
   ]
  },
  {
   "cell_type": "raw",
   "id": "9c9de729-b259-4721-8f75-f224d62e944c",
   "metadata": {},
   "source": [
    "density = Density(trijunction, np.eye(4))"
   ]
  },
  {
   "cell_type": "code",
   "execution_count": 457,
   "id": "cb955010-009e-4d7d-b301-aad2744b1cf1",
   "metadata": {},
   "outputs": [
    {
     "data": {
      "image/png": "[encoded data removed]",
      "text/plain": [
       "<Figure size 360x360 with 6 Axes>"
      ]
     },
     "metadata": {
      "needs_background": "light"
     },
     "output_type": "display_data"
    }
   ],
   "source": [
    "fig, ax = plt.subplots(1, len(eigvec[3:9]), figsize = (5, 5), sharey = True)\n",
    "for i in range(len(eigvec[3:9])):\n",
    "    cax = kwant.plotter.density(trijunction, density(eigvec[3:9][i]), ax = ax[i]);"
   ]
  },
  {
   "cell_type": "markdown",
   "id": "41a62684-2f80-46cf-8621-a160fc6d796b",
   "metadata": {},
   "source": [
    "#### Wannierization"
   ]
  },
  {
   "cell_type": "code",
   "execution_count": 443,
   "id": "c3a29025-11e0-47f8-9e71-eda6383fb14e",
   "metadata": {},
   "outputs": [],
   "source": [
    "X_operator = Density(\n",
    "            trijunction, onsite=lambda site: np.eye(4) * site.pos[0], sum=True\n",
    "        )\n",
    "\n",
    "Y_operator = Density(\n",
    "            trijunction, onsite=lambda site: np.eye(4) * site.pos[1], sum=True\n",
    "        )"
   ]
  },
  {
   "cell_type": "code",
   "execution_count": 444,
   "id": "ff478c94-f404-4353-b2a9-17c3c68dfa77",
   "metadata": {},
   "outputs": [],
   "source": [
    "projected_X_operator = wannier_1D_operator(X_operator, \n",
    "                                           eigvec[3:9].T)\n",
    "\n",
    "projected_Y_operator = wannier_1D_operator(Y_operator, \n",
    "                                           eigvec[3:9].T)"
   ]
  },
  {
   "cell_type": "code",
   "execution_count": 446,
   "id": "f7778698-9cb3-47fa-9aac-8a1ea690f60d",
   "metadata": {},
   "outputs": [],
   "source": [
    "w_basis = wannier_basis([projected_X_operator, \n",
    "                         projected_Y_operator])\n",
    "\n",
    "wannier_eigvec = w_basis.T @ eigvec[3:9]"
   ]
  },
  {
   "cell_type": "code",
   "execution_count": 448,
   "id": "8a31f15d-edc1-413c-a80e-fbe438d34d92",
   "metadata": {},
   "outputs": [
    {
     "data": {
      "image/png": "[encoded data removed]",
      "text/plain": [
       "<Figure size 360x360 with 6 Axes>"
      ]
     },
     "metadata": {
      "needs_background": "light"
     },
     "output_type": "display_data"
    }
   ],
   "source": [
    "fig, ax = plt.subplots(1, 6, figsize = (5, 5), sharey = True)\n",
    "for i in range(6):\n",
    "    cax = kwant.plotter.density(trijunction, density(wannier_eigvec[i]), ax = ax[i]);"
   ]
  },
  {
   "cell_type": "markdown",
   "id": "b6833730-0241-4ceb-9bdd-1218eb4e7383",
   "metadata": {
    "tags": []
   },
   "source": [
    "### Effective Majorana basis"
   ]
  },
  {
   "cell_type": "code",
   "execution_count": 449,
   "id": "609a9ece-b100-427f-a9ed-11dfe9a78cfa",
   "metadata": {},
   "outputs": [],
   "source": [
    "S = eigvec[3:9] @ wannier_eigvec.T.conj()\n",
    "U, _, Vh = svd(S)\n",
    "S_prime = U @ Vh\n",
    "transformation = S_prime.T.conj() @ np.diag(eigval[3:9]) @ S_prime"
   ]
  },
  {
   "cell_type": "code",
   "execution_count": 455,
   "id": "ca2e3160-2fd9-4ad2-8740-2ff80c615bd9",
   "metadata": {},
   "outputs": [
    {
     "data": {
      "text/latex": [
       "$\\displaystyle \\left[\\begin{matrix}0 & -1.55 \\cdot 10^{-8} + 3.0 \\cdot 10^{-10} i & 9.128 \\cdot 10^{-7} + 6.6097 \\cdot 10^{-6} i & -0.000389424 + 5.37744 \\cdot 10^{-5} i & 0 & 0\\\\-1.55 \\cdot 10^{-8} - 3.0 \\cdot 10^{-10} i & 0 & 0.0003713394 - 4.40584 \\cdot 10^{-5} i & -2.7749 \\cdot 10^{-6} - 2.33889 \\cdot 10^{-5} i & 0 & 0\\\\9.128 \\cdot 10^{-7} - 6.6097 \\cdot 10^{-6} i & 0.0003713394 + 4.40584 \\cdot 10^{-5} i & 0 & 0.0283958566 + 1.797 \\cdot 10^{-7} i & 1.0 \\cdot 10^{-10} + 2.0 \\cdot 10^{-10} i & 0\\\\-0.000389424 - 5.37744 \\cdot 10^{-5} i & -2.7749 \\cdot 10^{-6} + 2.33889 \\cdot 10^{-5} i & 0.0283958566 - 1.797 \\cdot 10^{-7} i & 0 & -1.0 \\cdot 10^{-10} + 1.0 \\cdot 10^{-10} i & 0\\\\0 & 0 & 1.0 \\cdot 10^{-10} - 2.0 \\cdot 10^{-10} i & -1.0 \\cdot 10^{-10} - 1.0 \\cdot 10^{-10} i & 0 & 1.2457 \\cdot 10^{-6} - 2.9995 \\cdot 10^{-6} i\\\\0 & 0 & 0 & 0 & 1.2457 \\cdot 10^{-6} + 2.9995 \\cdot 10^{-6} i & 0\\end{matrix}\\right]$"
      ],
      "text/plain": [
       "Matrix([\n",
       "[                          0,        -1.55e-8 + 3.0e-10*I,      9.128e-7 + 6.6097e-6*I, -0.000389424 + 5.37744e-5*I,                       0,                       0],\n",
       "[       -1.55e-8 - 3.0e-10*I,                           0, 0.0003713394 - 4.40584e-5*I,   -2.7749e-6 - 2.33889e-5*I,                       0,                       0],\n",
       "[     9.128e-7 - 6.6097e-6*I, 0.0003713394 + 4.40584e-5*I,                           0,   0.0283958566 + 1.797e-7*I,     1.0e-10 + 2.0e-10*I,                       0],\n",
       "[-0.000389424 - 5.37744e-5*I,   -2.7749e-6 + 2.33889e-5*I,   0.0283958566 - 1.797e-7*I,                           0,    -1.0e-10 + 1.0e-10*I,                       0],\n",
       "[                          0,                           0,         1.0e-10 - 2.0e-10*I,        -1.0e-10 - 1.0e-10*I,                       0, 1.2457e-6 - 2.9995e-6*I],\n",
       "[                          0,                           0,                           0,                           0, 1.2457e-6 + 2.9995e-6*I,                       0]])"
      ]
     },
     "execution_count": 455,
     "metadata": {},
     "output_type": "execute_result"
    }
   ],
   "source": [
    "Matrix(np.round(transformation/params['Delta'], 10))"
   ]
  },
  {
   "cell_type": "markdown",
   "id": "f9286ab4-1460-441b-aa27-ceaec0829c44",
   "metadata": {
    "tags": []
   },
   "source": [
    "#### Linear part of the Hamiltonian"
   ]
  },
  {
   "cell_type": "code",
   "execution_count": 56,
   "id": "7345b780-d75d-4033-980b-571a04d270bf",
   "metadata": {},
   "outputs": [],
   "source": [
    "from tqdm import tqdm"
   ]
  },
  {
   "cell_type": "code",
   "execution_count": 53,
   "id": "92ea25a5-11f2-465b-b583-d04b3f55ac94",
   "metadata": {},
   "outputs": [],
   "source": [
    "def linear_Hamiltonian(\n",
    "    poisson_params,\n",
    "    kwant_params,\n",
    "    general_params,\n",
    "    gates,\n",
    "    phis = [0.0, 0.0]\n",
    "):\n",
    "\n",
    "    ## non-linear part of the Hamiltonian\n",
    "    \n",
    "    voltages = {}\n",
    "    \n",
    "    for gate in gates: voltages[gate] = 0.0\n",
    "    \n",
    "    kp = kwant_params\n",
    "    pp = poisson_params\n",
    "    \n",
    "    charges = {}\n",
    "    potential = gate_potential(\n",
    "            pp['poisson_system'],\n",
    "            pp['linear_problem'],\n",
    "            pp['site_coords'][:, [0, 1]],\n",
    "            pp['site_indices'],\n",
    "            voltages,\n",
    "            charges,\n",
    "            offset = kp['offset'][[0, 1]],\n",
    "            grid_spacing = kp['grid_spacing']\n",
    "        )\n",
    "    \n",
    "    \n",
    "    \n",
    "    general_params.update(potential=potential)\n",
    "    general_params['phi1'] = phis[0]\n",
    "    general_params['phi2'] = phis[1]\n",
    "    \n",
    "    bare_hamiltonian = kp['finite_system_object'].hamiltonian_submatrix(\n",
    "        sparse=True, params=kp['finite_system_params_object'](**general_params))\n",
    "    \n",
    "    \n",
    "    hamiltonian_V = {}\n",
    "    for gate in tqdm(gates):\n",
    "        \n",
    "\n",
    "        voltages_t = dict.fromkeys(voltages, 0.0)\n",
    "\n",
    "        voltages_t[gate] = 1.0\n",
    "\n",
    "        potential = gate_potential(\n",
    "            pp['poisson_system'],\n",
    "            pp['linear_problem'],\n",
    "            pp['site_coords'][:, [0, 1]],\n",
    "            pp['site_indices'],\n",
    "            voltages_t,\n",
    "            charges,\n",
    "            offset = kp['offset'][[0, 1]],\n",
    "            grid_spacing = kp['grid_spacing']\n",
    "        )\n",
    "    \n",
    "\n",
    "        general_params.update(potential=potential)\n",
    "\n",
    "        hamiltonian = kp['finite_system_object'].hamiltonian_submatrix(\n",
    "            sparse=True, params=kp['finite_system_params_object'](**general_params))\n",
    "\n",
    "\n",
    "        hamiltonian_V[gate] = hamiltonian - bare_hamiltonian\n",
    "\n",
    "    return bare_hamiltonian, hamiltonian_V\n"
   ]
  },
  {
   "cell_type": "code",
   "execution_count": 503,
   "id": "193f07ef-c0b4-4e14-988c-8cb101f6608e",
   "metadata": {},
   "outputs": [],
   "source": [
    "summed_ham = sum(\n",
    "        [\n",
    "            linear_ham[key] * voltages[key]\n",
    "            for key, value in linear_ham.items()\n",
    "        ]\n",
    "    )\n"
   ]
  },
  {
   "cell_type": "code",
   "execution_count": 504,
   "id": "157a8e3c-27c7-4a1e-8772-97b91ab759ee",
   "metadata": {},
   "outputs": [],
   "source": [
    "pp = poisson_params\n",
    "kp = kwant_params\n",
    "potential = gate_potential(\n",
    "    pp['poisson_system'],\n",
    "    pp['linear_problem'],\n",
    "    pp['site_coords'][:, [0, 1]],\n",
    "    pp['site_indices'],\n",
    "    voltages,\n",
    "    charges,\n",
    "    offset = kp['offset'][[0, 1]],\n",
    "    grid_spacing = kp['grid_spacing']\n",
    ")\n",
    "\n",
    "\n",
    "params.update(potential=potential)\n",
    "\n",
    "test_hamiltonian = kp['finite_system_object'].hamiltonian_submatrix(\n",
    "    sparse=True, params=kp['finite_system_params_object'](**params))"
   ]
  },
  {
   "cell_type": "code",
   "execution_count": 578,
   "id": "8b0b2580-cbb7-41ea-b7ad-33cc25a50901",
   "metadata": {},
   "outputs": [],
   "source": [
    "potential = gate_potential(\n",
    "    pp['poisson_system'],\n",
    "    pp['linear_problem'],\n",
    "    pp['site_coords'],\n",
    "    pp['site_indices'],\n",
    "    voltages,\n",
    "    charges,\n",
    "    offset = kp['offset'],\n",
    "    grid_spacing = kp['grid_spacing']\n",
    ")\n"
   ]
  },
  {
   "cell_type": "code",
   "execution_count": 510,
   "id": "532e075d-aea1-4e72-9109-171d46147fc5",
   "metadata": {},
   "outputs": [],
   "source": [
    "potential = gate_potential(\n",
    "    pp['poisson_system'],\n",
    "    pp['linear_problem'],\n",
    "    pp['site_coords'][:, [0, 1]],\n",
    "    pp['site_indices'],\n",
    "    voltages,\n",
    "    charges,\n",
    "    offset = kp['offset'][[0, 1]],\n",
    "    grid_spacing = kp['grid_spacing']\n",
    ")"
   ]
  },
  {
   "cell_type": "code",
   "execution_count": 519,
   "id": "00922c5a-3afd-4afc-af7f-9b663552675e",
   "metadata": {},
   "outputs": [
    {
     "data": {
      "text/plain": [
       "array([-0.5,  0. ,  0.5])"
      ]
     },
     "execution_count": 519,
     "metadata": {},
     "output_type": "execute_result"
    }
   ],
   "source": [
    "np.unique(grid_points[poisson_system.regions.charge.tag_points['twoDEG']][:, 2])"
   ]
  },
  {
   "cell_type": "code",
   "execution_count": 575,
   "id": "e14d9e85-abcd-4fba-9342-d0410e55deb5",
   "metadata": {},
   "outputs": [],
   "source": [
    "site_tuples = map(tuple, site_coords[:, [0, 1]])"
   ]
  },
  {
   "cell_type": "raw",
   "id": "fa94a4ed-0dd8-4678-ba75-b907a2ea0e7d",
   "metadata": {},
   "source": [
    "len(list(site_tuples))"
   ]
  },
  {
   "cell_type": "code",
   "execution_count": 576,
   "id": "944a7c80-7bcf-4098-8a31-ca46387e0987",
   "metadata": {},
   "outputs": [],
   "source": [
    "from potential import _linear_solution\n",
    "solution = _linear_solution(poisson_system, linear_problem, voltages, {})\n",
    "\n",
    "potential = solution[site_indices]"
   ]
  },
  {
   "cell_type": "code",
   "execution_count": 577,
   "id": "947a15c7-f8df-48cf-8a65-c9b440c7b040",
   "metadata": {},
   "outputs": [
    {
     "ename": "ValueError",
     "evalue": "operands could not be broadcast together with shapes (2,) (3,) ",
     "output_type": "error",
     "traceback": [
      "\u001b[0;31m---------------------------------------------------------------------------\u001b[0m",
      "\u001b[0;31mValueError\u001b[0m                                Traceback (most recent call last)",
      "Input \u001b[0;32mIn [577]\u001b[0m, in \u001b[0;36m<cell line: 2>\u001b[0;34m()\u001b[0m\n\u001b[1;32m      4\u001b[0m     potential_dict[ta\u001b[38;5;241m.\u001b[39marray((site_tuple\u001b[38;5;241m-\u001b[39moffset))] \u001b[38;5;241m=\u001b[39m potential[i]\n\u001b[1;32m      5\u001b[0m \u001b[38;5;28;01melse\u001b[39;00m:\n\u001b[0;32m----> 6\u001b[0m     potential_dict[ta\u001b[38;5;241m.\u001b[39marray((\u001b[43msite_tuple\u001b[49m\u001b[38;5;241;43m-\u001b[39;49m\u001b[43moffset\u001b[49m)\u001b[38;5;241m*\u001b[39mkp[\u001b[38;5;124m'\u001b[39m\u001b[38;5;124mgrid_spacing\u001b[39m\u001b[38;5;124m'\u001b[39m])] \u001b[38;5;241m=\u001b[39m potential[i]\n",
      "\u001b[0;31mValueError\u001b[0m: operands could not be broadcast together with shapes (2,) (3,) "
     ]
    }
   ],
   "source": [
    "potential_dict = {}\n",
    "for i, site_tuple in enumerate(site_tuples):\n",
    "    if grid_spacing == 1:\n",
    "        potential_dict[ta.array((site_tuple-offset))] = potential[i]\n",
    "    else:\n",
    "        potential_dict[ta.array((site_tuple-offset)*kp['grid_spacing'])] = potential[i]"
   ]
  },
  {
   "cell_type": "code",
   "execution_count": 565,
   "id": "a3d88dff-f127-41a9-b6b6-ce38e035c798",
   "metadata": {},
   "outputs": [
    {
     "data": {
      "text/plain": [
       "40368"
      ]
     },
     "execution_count": 565,
     "metadata": {},
     "output_type": "execute_result"
    }
   ],
   "source": [
    "len(potential_dict)"
   ]
  },
  {
   "cell_type": "code",
   "execution_count": null,
   "id": "757d9b0f-eddb-4bc9-8130-6833d52bd462",
   "metadata": {},
   "outputs": [],
   "source": []
  }
 ],
 "metadata": {
  "kernelspec": {
   "display_name": "Python 3 (ipykernel)",
   "language": "python",
   "name": "python3"
  },
  "language_info": {
   "codemirror_mode": {
    "name": "ipython",
    "version": 3
   },
   "file_extension": ".py",
   "mimetype": "text/x-python",
   "name": "python",
   "nbconvert_exporter": "python",
   "pygments_lexer": "ipython3",
   "version": "3.10.4"
  }
 },
 "nbformat": 4,
 "nbformat_minor": 5
}
