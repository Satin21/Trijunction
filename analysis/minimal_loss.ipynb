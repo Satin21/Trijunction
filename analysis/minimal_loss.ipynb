{
 "cells": [
  {
   "cell_type": "code",
   "execution_count": 1,
   "id": "318e0951-21c5-496e-aa93-587394a5c978",
   "metadata": {},
   "outputs": [
    {
     "name": "stdout",
     "output_type": "stream",
     "text": [
      "VoronoiMesh version 0.1\n",
      "DiscretePoisson version 0.3\n",
      "Shape version: 0.1\n",
      "SystEquations version: 0.3\n",
      "Solver version 0.1\n"
     ]
    }
   ],
   "source": [
    "import codes.trijunction as trijunction\n",
    "import json\n",
    "import importlib\n",
    "import codes.optimization as optimization\n",
    "import codes.parameters as parameters\n",
    "import tinyarray as ta\n",
    "import numpy as np"
   ]
  },
  {
   "cell_type": "code",
   "execution_count": 19,
   "id": "c495bfa6-176b-47fc-8fae-aba23c7ef444",
   "metadata": {},
   "outputs": [],
   "source": [
    "from scipy.optimize import minimize, minimize_scalar"
   ]
  },
  {
   "cell_type": "code",
   "execution_count": 2,
   "id": "328a91b2-d8b2-4dfd-9ec7-48e577aa65ba",
   "metadata": {},
   "outputs": [],
   "source": [
    "with open('/home/tinkerer/trijunction-design/codes/config.json', 'r') as f:\n",
    "    config = json.load(f)"
   ]
  },
  {
   "cell_type": "code",
   "execution_count": 3,
   "id": "bfb13a62-2ff2-4afa-a06b-ead696c58073",
   "metadata": {},
   "outputs": [],
   "source": [
    "system = trijunction.Trijunction(config)"
   ]
  },
  {
   "cell_type": "code",
   "execution_count": 4,
   "id": "8fd49cdb-209b-4f74-a25b-9775442cc171",
   "metadata": {},
   "outputs": [
    {
     "name": "stdout",
     "output_type": "stream",
     "text": [
      "Finding closed voronoi cells\n",
      "Done selecting closed voronoi cells\n",
      "Calculating points distance\n",
      "Done\n",
      "Calculating ridges hypersurfaces\n",
      "Done\n",
      "Finding  hypervolume for closed voronoi cells\n",
      "Done finding hypervolume for closed voronoi cells\n",
      "Done calculating surface\n",
      "Done calculating distance\n",
      "Done calculating capacitance matrix\n"
     ]
    },
    {
     "name": "stderr",
     "output_type": "stream",
     "text": [
      "100%|██████████| 13/13 [00:37<00:00,  2.91s/it]\n"
     ]
    }
   ],
   "source": [
    "system.make_system()"
   ]
  },
  {
   "cell_type": "code",
   "execution_count": 5,
   "id": "e2984aac-e1f9-4d20-9fad-f339af8275ba",
   "metadata": {},
   "outputs": [],
   "source": [
    "pair = 'left-right'\n",
    "voltages = parameters.pair_voltages()"
   ]
  },
  {
   "cell_type": "code",
   "execution_count": 6,
   "id": "1cf8473d-9dd4-4de5-bca1-10a6e044ba42",
   "metadata": {},
   "outputs": [],
   "source": [
    "zero_potential = dict(\n",
    "    zip(\n",
    "        ta.array(system.site_coords[:, [0, 1]] - system.offset),\n",
    "        np.zeros(len(system.site_coords)),\n",
    "    )\n",
    ")"
   ]
  },
  {
   "cell_type": "code",
   "execution_count": 7,
   "id": "aece4f2d-f679-4354-aefe-0eeb0df3a2b1",
   "metadata": {},
   "outputs": [],
   "source": [
    "params = parameters.junction_parameters()\n",
    "params.update(voltages[pair])\n",
    "params.update(potential=zero_potential)\n",
    "kwant_args = list(system.optimiser_arguments().values())"
   ]
  },
  {
   "cell_type": "code",
   "execution_count": 14,
   "id": "e94100a9-6108-4314-8cf7-7996b0ef49d5",
   "metadata": {},
   "outputs": [],
   "source": [
    "x = [-3.0e-3, -3.0e-3, -7.0e-3, 3e-3]\n",
    "voltages = parameters.voltage_dict(x)"
   ]
  },
  {
   "cell_type": "code",
   "execution_count": 15,
   "id": "6f4fea80-47b2-4cae-8d44-0881fe9f7eec",
   "metadata": {
    "tags": []
   },
   "outputs": [],
   "source": [
    "params.update(voltages)"
   ]
  },
  {
   "cell_type": "code",
   "execution_count": 17,
   "id": "0e40b643-3c6e-4ccd-b374-8ba5cad6ea95",
   "metadata": {},
   "outputs": [],
   "source": [
    "opt_args = tuple([pair, params, kwant_args])"
   ]
  },
  {
   "cell_type": "code",
   "execution_count": 18,
   "id": "89e14798-1204-4a78-b4e5-1a8b381fa386",
   "metadata": {},
   "outputs": [
    {
     "data": {
      "text/plain": [
       "15.776435153682042"
      ]
     },
     "execution_count": 18,
     "metadata": {},
     "output_type": "execute_result"
    }
   ],
   "source": [
    "# loss to optimize voltages\n",
    "# optimization.loss([0.0,1,1,1], *opt_args)\n",
    "\n",
    "# loss to optimize phases\n",
    "optimization.loss(0.1, *opt_args)"
   ]
  },
  {
   "cell_type": "code",
   "execution_count": 24,
   "id": "50fd2b30-8d4c-4e0b-8d96-e0783ba913f4",
   "metadata": {},
   "outputs": [
    {
     "name": "stdout",
     "output_type": "stream",
     "text": [
      "CPU times: user 1min 54s, sys: 26.8 s, total: 2min 21s\n",
      "Wall time: 2min 20s\n"
     ]
    }
   ],
   "source": [
    "%%time\n",
    "\n",
    "sol = minimize_scalar(\n",
    "    optimization.loss,\n",
    "    0.2, \n",
    "    args=opt_args, \n",
    "    bounds=(0, 2), \n",
    "    method=\"bounded\"\n",
    ")"
   ]
  },
  {
   "cell_type": "code",
   "execution_count": 26,
   "id": "432c136b-e5dc-48f1-96b9-6c2895e41808",
   "metadata": {},
   "outputs": [],
   "source": [
    "optimal_phase = parameters.phase_pairs(opt_args[0], \n",
    "                                              sol.x * np.pi)"
   ]
  },
  {
   "cell_type": "code",
   "execution_count": 27,
   "id": "2b667696-d5a4-479b-b2ec-9117f84e0a1f",
   "metadata": {},
   "outputs": [
    {
     "data": {
      "text/plain": [
       "{'phi1': 0.9985266761097111, 'phi2': 0}"
      ]
     },
     "execution_count": 27,
     "metadata": {},
     "output_type": "execute_result"
    }
   ],
   "source": [
    "optimal_phase"
   ]
  },
  {
   "cell_type": "code",
   "execution_count": null,
   "id": "8d320d83-7d8d-44a2-b447-15dffd735b37",
   "metadata": {},
   "outputs": [],
   "source": []
  }
 ],
 "metadata": {
  "kernelspec": {
   "display_name": "Python 3 (ipykernel)",
   "language": "python",
   "name": "python3"
  },
  "language_info": {
   "codemirror_mode": {
    "name": "ipython",
    "version": 3
   },
   "file_extension": ".py",
   "mimetype": "text/x-python",
   "name": "python",
   "nbconvert_exporter": "python",
   "pygments_lexer": "ipython3",
   "version": "3.10.6"
  }
 },
 "nbformat": 4,
 "nbformat_minor": 5
}
