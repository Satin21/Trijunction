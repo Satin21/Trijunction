{
 "cells": [
  {
   "cell_type": "code",
   "execution_count": 1,
   "id": "318e0951-21c5-496e-aa93-587394a5c978",
   "metadata": {},
   "outputs": [
    {
     "name": "stdout",
     "output_type": "stream",
     "text": [
      "VoronoiMesh version 0.1\n",
      "DiscretePoisson version 0.3\n",
      "Shape version: 0.1\n",
      "SystEquations version: 0.3\n",
      "Solver version 0.1\n"
     ]
    }
   ],
   "source": [
    "import tinyarray as ta\n",
    "import numpy as np\n",
    "import matplotlib.pyplot as plt\n",
    "import importlib\n",
    "import json\n",
    "import kwant\n",
    "\n",
    "from codes.gate_design import gate_coords\n",
    "from codes.constants import scale\n",
    "import codes.trijunction as trijunction\n",
    "import codes.optimization as optimization\n",
    "import codes.parameters as parameters\n",
    "from codes.tools import hamiltonian\n",
    "from codes.utils import eigsh, svd_transformation, dict_update, dep_acc_index\n",
    "from codes.utils import order_wavefunctions"
   ]
  },
  {
   "cell_type": "code",
   "execution_count": 2,
   "id": "c495bfa6-176b-47fc-8fae-aba23c7ef444",
   "metadata": {},
   "outputs": [],
   "source": [
    "from scipy.optimize import minimize, minimize_scalar"
   ]
  },
  {
   "cell_type": "code",
   "execution_count": 3,
   "id": "328a91b2-d8b2-4dfd-9ec7-48e577aa65ba",
   "metadata": {},
   "outputs": [],
   "source": [
    "with open('/home/tinkerer/trijunction-design/codes/config.json', 'r') as f:\n",
    "    config = json.load(f)\n",
    "\n",
    "change_config = [\n",
    "    {\"device\": {\"thickness\": {\"dielectric\": 1.0}}},\n",
    "    {\"gate\": {\"channel_width\": 13.0, 'angle': np.pi/6, 'gap': 2}},\n",
    "]\n",
    "\n",
    "for local_config in change_config:\n",
    "    config = dict_update(config, local_config)"
   ]
  },
  {
   "cell_type": "code",
   "execution_count": 4,
   "id": "bfb13a62-2ff2-4afa-a06b-ead696c58073",
   "metadata": {},
   "outputs": [],
   "source": [
    "system = trijunction.Trijunction(config)"
   ]
  },
  {
   "cell_type": "code",
   "execution_count": 5,
   "id": "8fd49cdb-209b-4f74-a25b-9775442cc171",
   "metadata": {
    "tags": []
   },
   "outputs": [
    {
     "name": "stdout",
     "output_type": "stream",
     "text": [
      "Finding closed voronoi cells\n",
      "Done selecting closed voronoi cells\n",
      "Calculating points distance\n",
      "Done\n",
      "Calculating ridges hypersurfaces\n",
      "Done\n",
      "Finding  hypervolume for closed voronoi cells\n",
      "Done finding hypervolume for closed voronoi cells\n",
      "Done calculating surface\n",
      "Done calculating distance\n",
      "Done calculating capacitance matrix\n"
     ]
    },
    {
     "name": "stderr",
     "output_type": "stream",
     "text": [
      "100%|██████████| 13/13 [00:32<00:00,  2.51s/it]\n"
     ]
    }
   ],
   "source": [
    "system.make_system()"
   ]
  },
  {
   "cell_type": "code",
   "execution_count": 7,
   "id": "e2984aac-e1f9-4d20-9fad-f339af8275ba",
   "metadata": {},
   "outputs": [],
   "source": [
    "pair = 'left-right'\n",
    "voltages = parameters.pair_voltages()"
   ]
  },
  {
   "cell_type": "code",
   "execution_count": 8,
   "id": "1cf8473d-9dd4-4de5-bca1-10a6e044ba42",
   "metadata": {},
   "outputs": [],
   "source": [
    "zero_potential = dict(\n",
    "    zip(\n",
    "        ta.array(system.site_coords[:, [0, 1]] - system.offset),\n",
    "        np.zeros(len(system.site_coords)),\n",
    "    )\n",
    ")"
   ]
  },
  {
   "cell_type": "code",
   "execution_count": 9,
   "id": "aece4f2d-f679-4354-aefe-0eeb0df3a2b1",
   "metadata": {},
   "outputs": [],
   "source": [
    "kwant_args = list(system.optimiser_arguments().values())\n",
    "kwant_args[-1] = kwant_args[-1][order_wavefunctions(pair)]"
   ]
  },
  {
   "cell_type": "code",
   "execution_count": 10,
   "id": "e94100a9-6108-4314-8cf7-7996b0ef49d5",
   "metadata": {},
   "outputs": [],
   "source": [
    "x = [-3.0e-3, -3.0e-3, -7.0e-3, 3e-3]\n",
    "voltages = parameters.voltage_dict(x)"
   ]
  },
  {
   "cell_type": "code",
   "execution_count": 11,
   "id": "6f4fea80-47b2-4cae-8d44-0881fe9f7eec",
   "metadata": {
    "tags": []
   },
   "outputs": [],
   "source": [
    "params = parameters.junction_parameters()\n",
    "params.update(voltages)\n",
    "params.update(potential=zero_potential)"
   ]
  },
  {
   "cell_type": "code",
   "execution_count": 12,
   "id": "0e40b643-3c6e-4ccd-b374-8ba5cad6ea95",
   "metadata": {},
   "outputs": [],
   "source": [
    "opt_args = tuple([pair, params, kwant_args])"
   ]
  },
  {
   "cell_type": "code",
   "execution_count": 13,
   "id": "50fd2b30-8d4c-4e0b-8d96-e0783ba913f4",
   "metadata": {},
   "outputs": [
    {
     "name": "stdout",
     "output_type": "stream",
     "text": [
      "CPU times: user 48.4 s, sys: 12 s, total: 1min\n",
      "Wall time: 1min\n"
     ]
    }
   ],
   "source": [
    "%%time\n",
    "\n",
    "sol = minimize_scalar(\n",
    "    optimization.loss,\n",
    "    0.2, \n",
    "    args=opt_args, \n",
    "    bounds=(0, 2), \n",
    "    method=\"bounded\"\n",
    ")"
   ]
  },
  {
   "cell_type": "code",
   "execution_count": 14,
   "id": "b79c03f7-3bee-4221-9ae0-5a10683797e6",
   "metadata": {},
   "outputs": [
    {
     "data": {
      "text/plain": [
       "1.3698359530326412"
      ]
     },
     "execution_count": 14,
     "metadata": {},
     "output_type": "execute_result"
    }
   ],
   "source": [
    "sol.x"
   ]
  },
  {
   "cell_type": "code",
   "execution_count": 15,
   "id": "432c136b-e5dc-48f1-96b9-6c2895e41808",
   "metadata": {},
   "outputs": [],
   "source": [
    "optimal_phase = parameters.phase_pairs(opt_args[0], \n",
    "                                       sol.x * np.pi)"
   ]
  },
  {
   "cell_type": "code",
   "execution_count": 16,
   "id": "2b667696-d5a4-479b-b2ec-9117f84e0a1f",
   "metadata": {},
   "outputs": [
    {
     "data": {
      "text/plain": [
       "{'phi1': 4.303466566670519, 'phi2': 0}"
      ]
     },
     "execution_count": 16,
     "metadata": {},
     "output_type": "execute_result"
    }
   ],
   "source": [
    "optimal_phase"
   ]
  },
  {
   "cell_type": "code",
   "execution_count": 17,
   "id": "8d320d83-7d8d-44a2-b447-15dffd735b37",
   "metadata": {},
   "outputs": [],
   "source": [
    "# loss to optimize voltages\n",
    "params.update(optimal_phase)"
   ]
  },
  {
   "cell_type": "code",
   "execution_count": 20,
   "id": "3eb1ab1f-8fb0-4fdd-af93-0b8c184214a7",
   "metadata": {
    "collapsed": true,
    "jupyter": {
     "outputs_hidden": true
    },
    "tags": []
   },
   "outputs": [
    {
     "name": "stdout",
     "output_type": "stream",
     "text": [
      "[-20.5   0. ]\n",
      "[20.5  0. ]\n",
      "[ 0.  76.5]\n",
      "[-20.  24.]\n",
      "[-5.5  7.5]\n",
      "[5.5 7.5]\n",
      "[20. 24.]\n",
      "[-16.5  57.5]\n",
      "[16.5 57.5]\n"
     ]
    },
    {
     "data": {
      "image/png": "[encoded data removed]",
      "text/plain": [
       "<Figure size 640x480 with 1 Axes>"
      ]
     },
     "metadata": {},
     "output_type": "display_data"
    }
   ],
   "source": [
    "kwant_sites = np.array([site.pos for site in system.trijunction.sites])/scale\n",
    "\n",
    "dep_index, acc_index = dep_acc_index(\n",
    "            system.poisson_system,\n",
    "            kwant_sites,\n",
    "            system.site_indices,\n",
    "            system.nw_centers,\n",
    "            pair,\n",
    "            True\n",
    "        )\n",
    "params.update({'dep_index': dep_index})\n",
    "params.update({'acc_index': acc_index})\n"
   ]
  },
  {
   "cell_type": "code",
   "execution_count": 22,
   "id": "b438ad84-2387-44b6-9253-a8ce38d79fd1",
   "metadata": {},
   "outputs": [
    {
     "data": {
      "text/plain": [
       "4.14093548605148e-08"
      ]
     },
     "execution_count": 22,
     "metadata": {},
     "output_type": "execute_result"
    }
   ],
   "source": [
    "opt_args = tuple([pair, params, kwant_args])\n",
    "optimization.loss(x, *opt_args)"
   ]
  },
  {
   "cell_type": "code",
   "execution_count": 44,
   "id": "0f439982-08a5-4234-a2d9-e7c6bd25ec15",
   "metadata": {
    "collapsed": true,
    "jupyter": {
     "outputs_hidden": true
    },
    "tags": []
   },
   "outputs": [
    {
     "name": "stdout",
     "output_type": "stream",
     "text": [
      "| niter |f evals|CG iter|  obj func   |tr radius |   opt    |  c viol  |\n",
      "|-------|-------|-------|-------------|----------|----------|----------|\n",
      "|   1   |   5   |   0   | +6.9627e-03 | 1.00e-03 | 1.84e+00 | 0.00e+00 |\n",
      "|   2   |  10   |   1   | +4.6312e-03 | 7.00e-03 | 1.84e+00 | 0.00e+00 |\n",
      "|   3   |  15   |   2   | +6.1474e-04 | 7.00e-03 | 6.30e-01 | 0.00e+00 |\n",
      "|   4   |  20   |   3   | +6.1474e-04 | 3.50e-03 | 6.30e-01 | 0.00e+00 |\n",
      "|   5   |  25   |   4   | +6.1474e-04 | 1.74e-03 | 6.30e-01 | 0.00e+00 |\n",
      "|   6   |  30   |   5   | +6.1474e-04 | 8.69e-04 | 6.30e-01 | 0.00e+00 |\n",
      "|   7   |  35   |   6   | +4.3789e-06 | 6.08e-03 | 6.30e-01 | 0.00e+00 |\n",
      "|   8   |  40   |   7   | +4.3789e-06 | 1.17e-03 | 6.30e-01 | 0.00e+00 |\n",
      "|   9   |  45   |   8   | +4.3789e-06 | 4.70e-04 | 6.30e-01 | 0.00e+00 |\n",
      "|  10   |  50   |   9   | +4.3789e-06 | 2.21e-04 | 6.30e-01 | 0.00e+00 |\n",
      "|  11   |  55   |  10   | +4.3789e-06 | 1.10e-04 | 6.30e-01 | 0.00e+00 |\n",
      "|  12   |  60   |  11   | +4.3789e-06 | 5.51e-05 | 6.30e-01 | 0.00e+00 |\n"
     ]
    },
    {
     "name": "stderr",
     "output_type": "stream",
     "text": [
      "/opt/conda/lib/python3.10/site-packages/scipy/optimize/_hessian_update_strategy.py:182: UserWarning: delta_grad == 0.0. Check if the approximated function is linear. If the function is linear better results can be obtained by defining the Hessian as zero instead of using quasi-Newton approximations.\n",
      "  warn('delta_grad == 0.0. Check if the approximated '\n"
     ]
    },
    {
     "name": "stdout",
     "output_type": "stream",
     "text": [
      "|  13   |  65   |  12   | +4.3789e-06 | 2.76e-05 | 6.30e-01 | 0.00e+00 |\n",
      "|  14   |  70   |  13   | +4.3789e-06 | 1.38e-05 | 6.30e-01 | 0.00e+00 |\n",
      "|  15   |  75   |  14   | +4.3789e-06 | 6.89e-06 | 6.30e-01 | 0.00e+00 |\n",
      "|  16   |  80   |  15   | +5.2953e-07 | 1.38e-05 | 6.30e-01 | 0.00e+00 |\n",
      "|  17   |  85   |  16   | +5.2953e-07 | 6.89e-06 | 6.30e-01 | 0.00e+00 |\n",
      "|  18   |  90   |  17   | +5.2953e-07 | 2.68e-06 | 6.30e-01 | 0.00e+00 |\n",
      "|  19   |  95   |  18   | +5.2953e-07 | 1.34e-06 | 6.30e-01 | 0.00e+00 |\n",
      "|  20   |  100  |  19   | +4.2598e-07 | 1.34e-06 | 6.30e-01 | 0.00e+00 |\n",
      "|  21   |  105  |  20   | +4.2598e-07 | 6.71e-07 | 6.30e-01 | 0.00e+00 |\n",
      "|  22   |  110  |  21   | +5.1775e-08 | 4.69e-06 | 6.30e-01 | 0.00e+00 |\n",
      "|  23   |  115  |  22   | +5.1775e-08 | 4.69e-07 | 6.30e-01 | 0.00e+00 |\n",
      "|  24   |  120  |  23   | +5.1775e-08 | 1.57e-07 | 6.30e-01 | 0.00e+00 |\n",
      "|  25   |  125  |  24   | +5.1775e-08 | 7.86e-08 | 6.30e-01 | 0.00e+00 |\n",
      "|  26   |  130  |  25   | +4.2201e-09 | 5.50e-07 | 6.30e-01 | 0.00e+00 |\n",
      "|  27   |  135  |  26   | +4.2201e-09 | 1.14e-07 | 6.30e-01 | 0.00e+00 |\n",
      "|  28   |  140  |  27   | +4.2201e-09 | 4.85e-08 | 6.30e-01 | 0.00e+00 |\n",
      "|  29   |  145  |  28   | +4.2201e-09 | 2.42e-08 | 6.30e-01 | 0.00e+00 |\n",
      "|  30   |  150  |  29   | +4.2201e-09 | 1.21e-08 | 6.30e-01 | 0.00e+00 |\n",
      "|  31   |  155  |  30   | +4.2201e-09 | 6.06e-09 | 6.30e-01 | 0.00e+00 |\n",
      "\n",
      "`xtol` termination condition is satisfied.\n",
      "Number of iterations: 31, function evaluations: 155, CG iterations: 30, optimality: 6.30e-01, constraint violation: 0.00e+00, execution time: 2.8e+02 s.\n"
     ]
    }
   ],
   "source": [
    "sol1 = minimize(\n",
    "            codes.optimization.loss,\n",
    "            x,\n",
    "            # minimizer_kwargs={'method': 'BFGS',\n",
    "            #                   'args' : opt_args,\n",
    "            #                   'options': {'gtol': 1e-1}},\n",
    "            # disp = True\n",
    "            args=opt_args,\n",
    "            method=\"trust-constr\",\n",
    "            options={\n",
    "                \"verbose\": 2,\n",
    "                \"initial_tr_radius\": 1e-3,\n",
    "                \"gtol\": 1e-1,\n",
    "            },\n",
    "        )"
   ]
  },
  {
   "cell_type": "markdown",
   "id": "753894e7-c171-4f8c-9e1d-166618f6af66",
   "metadata": {},
   "source": [
    "### Gradient descent"
   ]
  },
  {
   "cell_type": "code",
   "execution_count": 23,
   "id": "e218d9a9-016b-410a-b713-173a4f639ce5",
   "metadata": {},
   "outputs": [],
   "source": [
    "from scipy.optimize import approx_fprime"
   ]
  },
  {
   "cell_type": "raw",
   "id": "e018d486-3216-4017-8b5f-a2630dd87adc",
   "metadata": {
    "tags": []
   },
   "source": [
    "def gradient_descent(gradient, initial, learn_rate=0.5, \n",
    "                     beta1=0.9, beta2=0.999,\n",
    "                     tolerance=1e-6, epsilon = 1e-8, n_iter=20):\n",
    "    vector = initial\n",
    "    diff, A, F = 0, 0, 0\n",
    "    \n",
    "    cost = []\n",
    "    \n",
    "    for i in range(n_iter):\n",
    "        g = gradient(vector)\n",
    "        print(g)\n",
    "        \n",
    "        # Momentum based learning\n",
    "        # diff = decay_rate * diff - learn_rate * g\n",
    "        \n",
    "        # Adam gradient\n",
    "        A = beta1 * A + (1 - beta1) * (g**2)\n",
    "        F = beta2 * F + (1 - beta2) * (g)\n",
    "        Ahat = A / (1 - beta1**(i+1))\n",
    "        Fhat = F / (1 - beta2**(i+1))\n",
    "        \n",
    "        # learn_rate *= (np.sqrt(1 - beta1**(i+1)) / (1 - beta2**(i+1)))\n",
    "        vector -= (learn_rate * Fhat)/(np.sqrt(Ahat) + epsilon)  # epsilon for better conditioning\n",
    "        \n",
    "        # if np.all(np.abs(diff) <= tolerance):\n",
    "        #     break\n",
    "        # diff = -learn_rate * g\n",
    "        # vector += diff\n",
    "        cost.append(codes.optimization.loss(vector, *opt_args))\n",
    "        print(cost, vector)\n",
    "        print('---------')\n",
    "    return vector\n",
    "\n",
    "gradient = lambda x: approx_fprime(x, codes.optimization.loss, 1e-3, *opt_args)\n",
    "\n",
    "sol = gradient_descent(\n",
    "    gradient, \n",
    "    x, \n",
    "    learn_rate=0.1, \n",
    "    beta1=0.9, beta2=0.9,\n",
    "    tolerance=1e-9\n",
    ")"
   ]
  },
  {
   "cell_type": "code",
   "execution_count": 72,
   "id": "f8e54794-3651-445a-b87f-91372436f9f3",
   "metadata": {},
   "outputs": [
    {
     "data": {
      "text/plain": [
       "<module 'codes.optimization' from '/home/tinkerer/trijunction-design/analysis/codes/optimization.py'>"
      ]
     },
     "execution_count": 72,
     "metadata": {},
     "output_type": "execute_result"
    }
   ],
   "source": [
    "import codes.optimization\n",
    "import importlib\n",
    "importlib.reload(codes.optimization)"
   ]
  },
  {
   "cell_type": "code",
   "execution_count": 24,
   "id": "417e3f7c-8c86-4c10-8a9f-aa8be6fa7b10",
   "metadata": {},
   "outputs": [
    {
     "data": {
      "text/plain": [
       "[-0.003, -0.003, -0.007, 0.003]"
      ]
     },
     "execution_count": 24,
     "metadata": {},
     "output_type": "execute_result"
    }
   ],
   "source": [
    "x"
   ]
  },
  {
   "cell_type": "code",
   "execution_count": 25,
   "id": "c9a378f7-9f2c-4144-bcdc-022792c8fc3b",
   "metadata": {},
   "outputs": [
    {
     "data": {
      "text/plain": [
       "array([ 1.01179855e+00,  1.01179855e+00, -7.73778248e-08, -1.42946729e-06])"
      ]
     },
     "execution_count": 25,
     "metadata": {},
     "output_type": "execute_result"
    }
   ],
   "source": [
    "approx_fprime(x, optimization.loss, 1e-3, *opt_args)"
   ]
  },
  {
   "cell_type": "code",
   "execution_count": 55,
   "id": "4c20cce0-250a-4c12-8ad9-80b982946fca",
   "metadata": {},
   "outputs": [],
   "source": [
    "params.update(parameters.voltage_dict(x))\n",
    "opt_args = tuple([pair, params, kwant_args])"
   ]
  },
  {
   "cell_type": "code",
   "execution_count": 56,
   "id": "a29e6f55-f900-471b-9de0-a41a6d009b36",
   "metadata": {},
   "outputs": [],
   "source": [
    "optimiser_args = system.optimiser_arguments()\n",
    "\n",
    "linear_ham, numerical_hamiltonian = hamiltonian(system.trijunction, \n",
    "                                    optimiser_args['linear_terms'], \n",
    "                                    optimiser_args['kwant_params_fn'], \n",
    "                                    **params)"
   ]
  },
  {
   "cell_type": "code",
   "execution_count": 57,
   "id": "db549535-22d8-413a-93b3-9958fd3cb2aa",
   "metadata": {},
   "outputs": [
    {
     "data": {
      "text/plain": [
       "(-0.006962735012777417+0j)"
      ]
     },
     "execution_count": 57,
     "metadata": {},
     "output_type": "execute_result"
    }
   ],
   "source": [
    "optimization.soft_threshold(linear_ham, \n",
    "                            params['dep_index'], \n",
    "                            params['acc_index'],\n",
    "                            params['mus_nw'][0])"
   ]
  },
  {
   "cell_type": "code",
   "execution_count": 49,
   "id": "b4661fa3-6828-4612-b64c-fe5a72610f20",
   "metadata": {},
   "outputs": [],
   "source": [
    "energies, wave_functions = eigsh(\n",
    "                numerical_hamiltonian.tocsc(),\n",
    "                6,\n",
    "                sigma=0,\n",
    "                return_eigenvectors=True,\n",
    ")"
   ]
  },
  {
   "cell_type": "code",
   "execution_count": 50,
   "id": "ec882ba2-568c-452f-b318-7a2e2d686738",
   "metadata": {},
   "outputs": [
    {
     "data": {
      "image/png": "[encoded data removed]",
      "text/plain": [
       "<Figure size 1000x500 with 1 Axes>"
      ]
     },
     "metadata": {},
     "output_type": "display_data"
    }
   ],
   "source": [
    "fig, ax = plt.subplots(1, 1, figsize = (10, 5), sharey= True)\n",
    "\n",
    "density = kwant.operator.Density(system.trijunction, np.eye(4))\n",
    "for i, vec in enumerate(wave_functions.T[[0]]):\n",
    "    kwant.plotter.density(system.trijunction, density(vec), ax = ax);"
   ]
  },
  {
   "cell_type": "code",
   "execution_count": 130,
   "id": "6d1d5b9d-ea2f-466f-972a-f6ba75fda1cc",
   "metadata": {},
   "outputs": [
    {
     "data": {
      "image/png": "[encoded data removed]",
      "text/plain": [
       "<Figure size 1000x500 with 1 Axes>"
      ]
     },
     "metadata": {},
     "output_type": "display_data"
    }
   ],
   "source": [
    "fig, ax = plt.subplots(1, 1, figsize = (10, 5), sharey= True)\n",
    "\n",
    "density = kwant.operator.Density(system.trijunction, np.eye(4))\n",
    "for i, vec in enumerate(wave_functions.T[[0]]):\n",
    "    kwant.plotter.density(system.trijunction, density(vec), ax = ax);"
   ]
  },
  {
   "cell_type": "code",
   "execution_count": 144,
   "id": "e713d342-9cb7-44dc-8dd4-556048e8db08",
   "metadata": {},
   "outputs": [],
   "source": [
    "transformed_hamiltonian = svd_transformation(\n",
    "    energies, wave_functions, system.mlwf[order_wavefunctions('left-right')]\n",
    ")\n",
    "\n",
    "desired = np.abs(transformed_hamiltonian[0, 1])\n",
    "undesired = np.linalg.norm(transformed_hamiltonian[2:])"
   ]
  },
  {
   "cell_type": "code",
   "execution_count": 145,
   "id": "a7e8a6cb-bc55-4343-9a43-b5e83e61660d",
   "metadata": {},
   "outputs": [
    {
     "data": {
      "text/plain": [
       "3.420274824242966e-05"
      ]
     },
     "execution_count": 145,
     "metadata": {},
     "output_type": "execute_result"
    }
   ],
   "source": [
    "desired"
   ]
  },
  {
   "cell_type": "code",
   "execution_count": 139,
   "id": "0c7775f0-f9f3-4d16-b09d-90a2b0f50127",
   "metadata": {},
   "outputs": [
    {
     "data": {
      "text/plain": [
       "2.9545587357400678e-05"
      ]
     },
     "execution_count": 139,
     "metadata": {},
     "output_type": "execute_result"
    }
   ],
   "source": [
    "desired"
   ]
  },
  {
   "cell_type": "code",
   "execution_count": 81,
   "id": "609742b6-90d2-4612-9cbd-a35fc6a41c6b",
   "metadata": {},
   "outputs": [],
   "source": []
  },
  {
   "cell_type": "code",
   "execution_count": 83,
   "id": "b90ff7ac-588a-43fa-b8db-9986e523b049",
   "metadata": {},
   "outputs": [
    {
     "data": {
      "text/plain": [
       "(28778, 2)"
      ]
     },
     "execution_count": 83,
     "metadata": {},
     "output_type": "execute_result"
    }
   ],
   "source": [
    "kwant_sites"
   ]
  },
  {
   "cell_type": "code",
   "execution_count": 85,
   "id": "e0313a99-fb3c-4699-ac71-0b651576065c",
   "metadata": {},
   "outputs": [
    {
     "data": {
      "text/plain": [
       "(16895, 3)"
      ]
     },
     "execution_count": 85,
     "metadata": {},
     "output_type": "execute_result"
    }
   ],
   "source": [
    "system.site_coords.shape"
   ]
  },
  {
   "cell_type": "code",
   "execution_count": null,
   "id": "d297ef4f-ded8-4105-a116-9b9a9c5ddcc7",
   "metadata": {},
   "outputs": [],
   "source": []
  }
 ],
 "metadata": {
  "kernelspec": {
   "display_name": "Python 3 (ipykernel)",
   "language": "python",
   "name": "python3"
  },
  "language_info": {
   "codemirror_mode": {
    "name": "ipython",
    "version": 3
   },
   "file_extension": ".py",
   "mimetype": "text/x-python",
   "name": "python",
   "nbconvert_exporter": "python",
   "pygments_lexer": "ipython3",
   "version": "3.10.6"
  }
 },
 "nbformat": 4,
 "nbformat_minor": 5
}
