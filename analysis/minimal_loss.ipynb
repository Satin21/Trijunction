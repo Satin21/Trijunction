{
 "cells": [
  {
   "cell_type": "code",
   "execution_count": 3,
   "id": "318e0951-21c5-496e-aa93-587394a5c978",
   "metadata": {},
   "outputs": [
    {
     "name": "stdout",
     "output_type": "stream",
     "text": [
      "VoronoiMesh version 0.1\n",
      "DiscretePoisson version 0.3\n",
      "Shape version: 0.1\n",
      "SystEquations version: 0.3\n",
      "Solver version 0.1\n"
     ]
    }
   ],
   "source": [
    "import tinyarray as ta\n",
    "import numpy as np\n",
    "import matplotlib.pyplot as plt\n",
    "import importlib\n",
    "import json\n",
    "import kwant\n",
    "\n",
    "from codes.gate_design import gate_coords\n",
    "from codes.constants import scale\n",
    "import codes.trijunction as trijunction\n",
    "import codes.optimization as optimization\n",
    "import codes.parameters as parameters\n",
    "from codes.tools import hamiltonian\n",
    "from codes.utils import eigsh, svd_transformation, dict_update, dep_acc_index\n",
    "from codes.utils import order_wavefunctions"
   ]
  },
  {
   "cell_type": "code",
   "execution_count": 4,
   "id": "c495bfa6-176b-47fc-8fae-aba23c7ef444",
   "metadata": {},
   "outputs": [],
   "source": [
    "from scipy.optimize import minimize, minimize_scalar"
   ]
  },
  {
   "cell_type": "code",
   "execution_count": 5,
   "id": "328a91b2-d8b2-4dfd-9ec7-48e577aa65ba",
   "metadata": {},
   "outputs": [],
   "source": [
    "with open('/home/tinkerer/trijunction-design/codes/config.json', 'r') as f:\n",
    "    config = json.load(f)\n",
    "\n",
    "change_config = [\n",
    "    {\"device\": {\"thickness\": {\"dielectric\": 1.0}}},\n",
    "    {\"gate\": {\"channel_width\": 13.0, 'angle': np.pi/6, 'gap': 2}},\n",
    "]\n",
    "\n",
    "for local_config in change_config:\n",
    "    config = dict_update(config, local_config)"
   ]
  },
  {
   "cell_type": "code",
   "execution_count": 6,
   "id": "bfb13a62-2ff2-4afa-a06b-ead696c58073",
   "metadata": {},
   "outputs": [],
   "source": [
    "system = trijunction.Trijunction(config)"
   ]
  },
  {
   "cell_type": "code",
   "execution_count": 7,
   "id": "8fd49cdb-209b-4f74-a25b-9775442cc171",
   "metadata": {
    "tags": []
   },
   "outputs": [
    {
     "name": "stdout",
     "output_type": "stream",
     "text": [
      "Finding closed voronoi cells\n",
      "Done selecting closed voronoi cells\n",
      "Calculating points distance\n",
      "Done\n",
      "Calculating ridges hypersurfaces\n",
      "Done\n",
      "Finding  hypervolume for closed voronoi cells\n",
      "Done finding hypervolume for closed voronoi cells\n",
      "Done calculating surface\n",
      "Done calculating distance\n",
      "Done calculating capacitance matrix\n"
     ]
    },
    {
     "name": "stderr",
     "output_type": "stream",
     "text": [
      "100%|██████████| 13/13 [00:31<00:00,  2.41s/it]\n"
     ]
    }
   ],
   "source": [
    "system.make_system()"
   ]
  },
  {
   "cell_type": "code",
   "execution_count": 8,
   "id": "e2984aac-e1f9-4d20-9fad-f339af8275ba",
   "metadata": {},
   "outputs": [],
   "source": [
    "pair = 'left-right'\n",
    "voltages = parameters.pair_voltages()"
   ]
  },
  {
   "cell_type": "code",
   "execution_count": 9,
   "id": "1cf8473d-9dd4-4de5-bca1-10a6e044ba42",
   "metadata": {},
   "outputs": [],
   "source": [
    "zero_potential = dict(\n",
    "    zip(\n",
    "        ta.array(system.site_coords[:, [0, 1]] - system.offset),\n",
    "        np.zeros(len(system.site_coords)),\n",
    "    )\n",
    ")"
   ]
  },
  {
   "cell_type": "code",
   "execution_count": 10,
   "id": "aece4f2d-f679-4354-aefe-0eeb0df3a2b1",
   "metadata": {},
   "outputs": [],
   "source": [
    "kwant_args = list(system.optimiser_arguments().values())\n",
    "kwant_args[-1] = kwant_args[-1][order_wavefunctions(pair)]"
   ]
  },
  {
   "cell_type": "code",
   "execution_count": 11,
   "id": "e94100a9-6108-4314-8cf7-7996b0ef49d5",
   "metadata": {},
   "outputs": [],
   "source": [
    "x = [-3.0e-3, -3.0e-3, -7.0e-3, 3e-3]\n",
    "voltages = parameters.voltage_dict(x)"
   ]
  },
  {
   "cell_type": "code",
   "execution_count": 12,
   "id": "6f4fea80-47b2-4cae-8d44-0881fe9f7eec",
   "metadata": {
    "tags": []
   },
   "outputs": [],
   "source": [
    "params = parameters.junction_parameters()\n",
    "params.update(voltages)\n",
    "params.update(potential=zero_potential)"
   ]
  },
  {
   "cell_type": "code",
   "execution_count": 13,
   "id": "0e40b643-3c6e-4ccd-b374-8ba5cad6ea95",
   "metadata": {},
   "outputs": [],
   "source": [
    "opt_args = tuple([pair, params, kwant_args, 0.0])"
   ]
  },
  {
   "cell_type": "code",
   "execution_count": 14,
   "id": "50fd2b30-8d4c-4e0b-8d96-e0783ba913f4",
   "metadata": {},
   "outputs": [
    {
     "name": "stdout",
     "output_type": "stream",
     "text": [
      "CPU times: user 1min 2s, sys: 14.8 s, total: 1min 17s\n",
      "Wall time: 1min 16s\n"
     ]
    }
   ],
   "source": [
    "%%time\n",
    "\n",
    "sol = minimize_scalar(\n",
    "    optimization.loss,\n",
    "    0.2, \n",
    "    args=opt_args, \n",
    "    bounds=(0, 2), \n",
    "    method=\"bounded\"\n",
    ")"
   ]
  },
  {
   "cell_type": "code",
   "execution_count": 15,
   "id": "b79c03f7-3bee-4221-9ae0-5a10683797e6",
   "metadata": {},
   "outputs": [
    {
     "data": {
      "text/plain": [
       "1.3698777112505698"
      ]
     },
     "execution_count": 15,
     "metadata": {},
     "output_type": "execute_result"
    }
   ],
   "source": [
    "sol.x"
   ]
  },
  {
   "cell_type": "code",
   "execution_count": 16,
   "id": "432c136b-e5dc-48f1-96b9-6c2895e41808",
   "metadata": {},
   "outputs": [],
   "source": [
    "optimal_phase = parameters.phase_pairs(opt_args[0], \n",
    "                                       sol.x * np.pi)"
   ]
  },
  {
   "cell_type": "code",
   "execution_count": 17,
   "id": "2b667696-d5a4-479b-b2ec-9117f84e0a1f",
   "metadata": {},
   "outputs": [
    {
     "data": {
      "text/plain": [
       "{'phi1': 4.30359775398119, 'phi2': 0}"
      ]
     },
     "execution_count": 17,
     "metadata": {},
     "output_type": "execute_result"
    }
   ],
   "source": [
    "optimal_phase"
   ]
  },
  {
   "cell_type": "code",
   "execution_count": 18,
   "id": "8d320d83-7d8d-44a2-b447-15dffd735b37",
   "metadata": {},
   "outputs": [],
   "source": [
    "# loss to optimize voltages\n",
    "params.update(optimal_phase)"
   ]
  },
  {
   "cell_type": "code",
   "execution_count": 19,
   "id": "3eb1ab1f-8fb0-4fdd-af93-0b8c184214a7",
   "metadata": {
    "tags": []
   },
   "outputs": [
    {
     "name": "stdout",
     "output_type": "stream",
     "text": [
      "[-20.5   0. ]\n",
      "[20.5  0. ]\n",
      "[ 0.  76.5]\n",
      "[-20.  24.]\n",
      "[-5.5  7.5]\n",
      "[5.5 7.5]\n",
      "[20. 24.]\n",
      "[-16.5  57.5]\n",
      "[16.5 57.5]\n"
     ]
    },
    {
     "data": {
      "image/png": "[encoded data removed]",
      "text/plain": [
       "<Figure size 640x480 with 1 Axes>"
      ]
     },
     "metadata": {},
     "output_type": "display_data"
    }
   ],
   "source": [
    "kwant_sites = np.array([site.pos for site in system.trijunction.sites])/scale\n",
    "\n",
    "dep_index, acc_index = dep_acc_index(\n",
    "            system.poisson_system,\n",
    "            kwant_sites,\n",
    "            system.site_indices,\n",
    "            system.nw_centers,\n",
    "            pair,\n",
    "            True\n",
    "        )\n",
    "params.update({'dep_index': dep_index})\n",
    "params.update({'acc_index': acc_index})\n"
   ]
  },
  {
   "cell_type": "code",
   "execution_count": 159,
   "id": "b438ad84-2387-44b6-9253-a8ce38d79fd1",
   "metadata": {
    "tags": []
   },
   "outputs": [],
   "source": [
    "step_size = 1e-4\n",
    "opt_args = tuple([[pair, params, kwant_args, 0.0], step_size])\n",
    "# optimization.loss(x, *opt_args)"
   ]
  },
  {
   "cell_type": "code",
   "execution_count": 133,
   "id": "d6fd36c5-7670-4799-8269-6107f7432381",
   "metadata": {},
   "outputs": [
    {
     "data": {
      "text/plain": [
       "<module 'codes.optimization' from '/home/tinkerer/trijunction-design/analysis/codes/optimization.py'>"
      ]
     },
     "execution_count": 133,
     "metadata": {},
     "output_type": "execute_result"
    }
   ],
   "source": [
    "import codes.optimization\n",
    "import importlib\n",
    "importlib.reload(codes.optimization)"
   ]
  },
  {
   "cell_type": "code",
   "execution_count": 175,
   "id": "4af95205-f61a-4c8c-8d08-b012052f7725",
   "metadata": {
    "tags": []
   },
   "outputs": [
    {
     "name": "stdout",
     "output_type": "stream",
     "text": [
      "VoronoiMesh version 0.1\n",
      "DiscretePoisson version 0.3\n",
      "Shape version: 0.1\n",
      "SystEquations version: 0.3\n",
      "Solver version 0.1\n",
      "VoronoiMesh version 0.1\n",
      "DiscretePoisson version 0.3\n",
      "Shape version: 0.1\n",
      "SystEquations version: 0.3\n",
      "Solver version 0.1\n",
      "VoronoiMesh version 0.1\n",
      "DiscretePoisson version 0.3\n",
      "Shape version: 0.1\n",
      "SystEquations version: 0.3\n",
      "Solver version 0.1\n",
      "VoronoiMesh version 0.1\n",
      "DiscretePoisson version 0.3\n",
      "Shape version: 0.1\n",
      "SystEquations version: 0.3\n",
      "Solver version 0.1\n",
      "VoronoiMesh version 0.1\n",
      "DiscretePoisson version 0.3\n",
      "Shape version: 0.1\n",
      "SystEquations version: 0.3\n",
      "Solver version 0.1\n",
      "Warning: Desired error not necessarily achieved due to precision loss.\n",
      "         Current function value: 0.000000\n",
      "         Iterations: 1\n",
      "         Function evaluations: 84\n",
      "         Gradient evaluations: 72\n"
     ]
    }
   ],
   "source": [
    "sol1 = minimize(\n",
    "            codes.optimization.loss,\n",
    "            x,\n",
    "            args=opt_args,\n",
    "            method=\"CG\",\n",
    "            jac=jacobian,\n",
    "            options={\n",
    "                \"disp\": True,\n",
    "                \"gtol\": 1e-9\n",
    "                # \"verbose\": 2,\n",
    "                # \"initial_tr_radius\": 1e-1\n",
    "            },\n",
    "        )"
   ]
  },
  {
   "cell_type": "code",
   "execution_count": 176,
   "id": "7f0b03f9-dd71-4314-9def-599f21462095",
   "metadata": {},
   "outputs": [
    {
     "data": {
      "text/plain": [
       "array([-0.00429507, -0.00429507, -0.00697309,  0.00099897])"
      ]
     },
     "execution_count": 176,
     "metadata": {},
     "output_type": "execute_result"
    }
   ],
   "source": [
    "sol1.x"
   ]
  },
  {
   "cell_type": "code",
   "execution_count": 173,
   "id": "4ecd37aa-e651-4b3b-92f2-194f6acaf238",
   "metadata": {
    "tags": []
   },
   "outputs": [
    {
     "name": "stderr",
     "output_type": "stream",
     "text": [
      "/opt/conda/lib/python3.10/site-packages/distributed/node.py:183: UserWarning: Port 8787 is already in use.\n",
      "Perhaps you already have a cluster running?\n",
      "Hosting the HTTP server on port 35058 instead\n",
      "  warnings.warn(\n"
     ]
    }
   ],
   "source": [
    "from dask.distributed import Client, progress\n",
    "from dask import delayed\n",
    "client = Client(n_workers=5, threads_per_worker=1)"
   ]
  },
  {
   "cell_type": "code",
   "execution_count": 174,
   "id": "09d9548e-7a9d-4d2b-a867-aa5f2c652eab",
   "metadata": {
    "collapsed": true,
    "jupyter": {
     "outputs_hidden": true
    },
    "tags": []
   },
   "outputs": [
    {
     "data": {
      "text/html": [
       "<div>\n",
       "    <div style=\"width: 24px; height: 24px; background-color: #e1e1e1; border: 3px solid #9D9D9D; border-radius: 5px; position: absolute;\"> </div>\n",
       "    <div style=\"margin-left: 48px;\">\n",
       "        <h3 style=\"margin-bottom: 0px;\">Client</h3>\n",
       "        <p style=\"color: #9D9D9D; margin-bottom: 0px;\">Client-3431cd23-489f-11ed-825c-0242ac13000e</p>\n",
       "        <table style=\"width: 100%; text-align: left;\">\n",
       "\n",
       "        <tr>\n",
       "        \n",
       "            <td style=\"text-align: left;\"><strong>Connection method:</strong> Cluster object</td>\n",
       "            <td style=\"text-align: left;\"><strong>Cluster type:</strong> distributed.LocalCluster</td>\n",
       "        \n",
       "        </tr>\n",
       "\n",
       "        \n",
       "            <tr>\n",
       "                <td style=\"text-align: left;\">\n",
       "                    <strong>Dashboard: </strong> <a href=\"http://127.0.0.1:35058/status\" target=\"_blank\">http://127.0.0.1:35058/status</a>\n",
       "                </td>\n",
       "                <td style=\"text-align: left;\"></td>\n",
       "            </tr>\n",
       "        \n",
       "\n",
       "        </table>\n",
       "\n",
       "        \n",
       "            <details>\n",
       "            <summary style=\"margin-bottom: 20px;\"><h3 style=\"display: inline;\">Cluster Info</h3></summary>\n",
       "            <div class=\"jp-RenderedHTMLCommon jp-RenderedHTML jp-mod-trusted jp-OutputArea-output\">\n",
       "    <div style=\"width: 24px; height: 24px; background-color: #e1e1e1; border: 3px solid #9D9D9D; border-radius: 5px; position: absolute;\">\n",
       "    </div>\n",
       "    <div style=\"margin-left: 48px;\">\n",
       "        <h3 style=\"margin-bottom: 0px; margin-top: 0px;\">LocalCluster</h3>\n",
       "        <p style=\"color: #9D9D9D; margin-bottom: 0px;\">616321de</p>\n",
       "        <table style=\"width: 100%; text-align: left;\">\n",
       "            <tr>\n",
       "                <td style=\"text-align: left;\">\n",
       "                    <strong>Dashboard:</strong> <a href=\"http://127.0.0.1:35058/status\" target=\"_blank\">http://127.0.0.1:35058/status</a>\n",
       "                </td>\n",
       "                <td style=\"text-align: left;\">\n",
       "                    <strong>Workers:</strong> 5\n",
       "                </td>\n",
       "            </tr>\n",
       "            <tr>\n",
       "                <td style=\"text-align: left;\">\n",
       "                    <strong>Total threads:</strong> 5\n",
       "                </td>\n",
       "                <td style=\"text-align: left;\">\n",
       "                    <strong>Total memory:</strong> 20.00 GiB\n",
       "                </td>\n",
       "            </tr>\n",
       "            \n",
       "            <tr>\n",
       "    <td style=\"text-align: left;\"><strong>Status:</strong> running</td>\n",
       "    <td style=\"text-align: left;\"><strong>Using processes:</strong> True</td>\n",
       "</tr>\n",
       "\n",
       "            \n",
       "        </table>\n",
       "\n",
       "        <details>\n",
       "            <summary style=\"margin-bottom: 20px;\">\n",
       "                <h3 style=\"display: inline;\">Scheduler Info</h3>\n",
       "            </summary>\n",
       "\n",
       "            <div style=\"\">\n",
       "    <div>\n",
       "        <div style=\"width: 24px; height: 24px; background-color: #FFF7E5; border: 3px solid #FF6132; border-radius: 5px; position: absolute;\"> </div>\n",
       "        <div style=\"margin-left: 48px;\">\n",
       "            <h3 style=\"margin-bottom: 0px;\">Scheduler</h3>\n",
       "            <p style=\"color: #9D9D9D; margin-bottom: 0px;\">Scheduler-3d1dd971-26e6-480d-a8d8-c31fa54a429b</p>\n",
       "            <table style=\"width: 100%; text-align: left;\">\n",
       "                <tr>\n",
       "                    <td style=\"text-align: left;\">\n",
       "                        <strong>Comm:</strong> tcp://127.0.0.1:33204\n",
       "                    </td>\n",
       "                    <td style=\"text-align: left;\">\n",
       "                        <strong>Workers:</strong> 5\n",
       "                    </td>\n",
       "                </tr>\n",
       "                <tr>\n",
       "                    <td style=\"text-align: left;\">\n",
       "                        <strong>Dashboard:</strong> <a href=\"http://127.0.0.1:35058/status\" target=\"_blank\">http://127.0.0.1:35058/status</a>\n",
       "                    </td>\n",
       "                    <td style=\"text-align: left;\">\n",
       "                        <strong>Total threads:</strong> 5\n",
       "                    </td>\n",
       "                </tr>\n",
       "                <tr>\n",
       "                    <td style=\"text-align: left;\">\n",
       "                        <strong>Started:</strong> Just now\n",
       "                    </td>\n",
       "                    <td style=\"text-align: left;\">\n",
       "                        <strong>Total memory:</strong> 20.00 GiB\n",
       "                    </td>\n",
       "                </tr>\n",
       "            </table>\n",
       "        </div>\n",
       "    </div>\n",
       "\n",
       "    <details style=\"margin-left: 48px;\">\n",
       "        <summary style=\"margin-bottom: 20px;\">\n",
       "            <h3 style=\"display: inline;\">Workers</h3>\n",
       "        </summary>\n",
       "\n",
       "        \n",
       "        <div style=\"margin-bottom: 20px;\">\n",
       "            <div style=\"width: 24px; height: 24px; background-color: #DBF5FF; border: 3px solid #4CC9FF; border-radius: 5px; position: absolute;\"> </div>\n",
       "            <div style=\"margin-left: 48px;\">\n",
       "            <details>\n",
       "                <summary>\n",
       "                    <h4 style=\"margin-bottom: 0px; display: inline;\">Worker: 0</h4>\n",
       "                </summary>\n",
       "                <table style=\"width: 100%; text-align: left;\">\n",
       "                    <tr>\n",
       "                        <td style=\"text-align: left;\">\n",
       "                            <strong>Comm: </strong> tcp://127.0.0.1:43187\n",
       "                        </td>\n",
       "                        <td style=\"text-align: left;\">\n",
       "                            <strong>Total threads: </strong> 1\n",
       "                        </td>\n",
       "                    </tr>\n",
       "                    <tr>\n",
       "                        <td style=\"text-align: left;\">\n",
       "                            <strong>Dashboard: </strong> <a href=\"http://127.0.0.1:40838/status\" target=\"_blank\">http://127.0.0.1:40838/status</a>\n",
       "                        </td>\n",
       "                        <td style=\"text-align: left;\">\n",
       "                            <strong>Memory: </strong> 4.00 GiB\n",
       "                        </td>\n",
       "                    </tr>\n",
       "                    <tr>\n",
       "                        <td style=\"text-align: left;\">\n",
       "                            <strong>Nanny: </strong> tcp://127.0.0.1:37261\n",
       "                        </td>\n",
       "                        <td style=\"text-align: left;\"></td>\n",
       "                    </tr>\n",
       "                    <tr>\n",
       "                        <td colspan=\"2\" style=\"text-align: left;\">\n",
       "                            <strong>Local directory: </strong> /tmp/dask-worker-space/worker-ud9x4dzb\n",
       "                        </td>\n",
       "                    </tr>\n",
       "\n",
       "                    \n",
       "\n",
       "                    \n",
       "\n",
       "                </table>\n",
       "            </details>\n",
       "            </div>\n",
       "        </div>\n",
       "        \n",
       "        <div style=\"margin-bottom: 20px;\">\n",
       "            <div style=\"width: 24px; height: 24px; background-color: #DBF5FF; border: 3px solid #4CC9FF; border-radius: 5px; position: absolute;\"> </div>\n",
       "            <div style=\"margin-left: 48px;\">\n",
       "            <details>\n",
       "                <summary>\n",
       "                    <h4 style=\"margin-bottom: 0px; display: inline;\">Worker: 1</h4>\n",
       "                </summary>\n",
       "                <table style=\"width: 100%; text-align: left;\">\n",
       "                    <tr>\n",
       "                        <td style=\"text-align: left;\">\n",
       "                            <strong>Comm: </strong> tcp://127.0.0.1:33804\n",
       "                        </td>\n",
       "                        <td style=\"text-align: left;\">\n",
       "                            <strong>Total threads: </strong> 1\n",
       "                        </td>\n",
       "                    </tr>\n",
       "                    <tr>\n",
       "                        <td style=\"text-align: left;\">\n",
       "                            <strong>Dashboard: </strong> <a href=\"http://127.0.0.1:44647/status\" target=\"_blank\">http://127.0.0.1:44647/status</a>\n",
       "                        </td>\n",
       "                        <td style=\"text-align: left;\">\n",
       "                            <strong>Memory: </strong> 4.00 GiB\n",
       "                        </td>\n",
       "                    </tr>\n",
       "                    <tr>\n",
       "                        <td style=\"text-align: left;\">\n",
       "                            <strong>Nanny: </strong> tcp://127.0.0.1:36662\n",
       "                        </td>\n",
       "                        <td style=\"text-align: left;\"></td>\n",
       "                    </tr>\n",
       "                    <tr>\n",
       "                        <td colspan=\"2\" style=\"text-align: left;\">\n",
       "                            <strong>Local directory: </strong> /tmp/dask-worker-space/worker-lkjnnttk\n",
       "                        </td>\n",
       "                    </tr>\n",
       "\n",
       "                    \n",
       "\n",
       "                    \n",
       "\n",
       "                </table>\n",
       "            </details>\n",
       "            </div>\n",
       "        </div>\n",
       "        \n",
       "        <div style=\"margin-bottom: 20px;\">\n",
       "            <div style=\"width: 24px; height: 24px; background-color: #DBF5FF; border: 3px solid #4CC9FF; border-radius: 5px; position: absolute;\"> </div>\n",
       "            <div style=\"margin-left: 48px;\">\n",
       "            <details>\n",
       "                <summary>\n",
       "                    <h4 style=\"margin-bottom: 0px; display: inline;\">Worker: 2</h4>\n",
       "                </summary>\n",
       "                <table style=\"width: 100%; text-align: left;\">\n",
       "                    <tr>\n",
       "                        <td style=\"text-align: left;\">\n",
       "                            <strong>Comm: </strong> tcp://127.0.0.1:44231\n",
       "                        </td>\n",
       "                        <td style=\"text-align: left;\">\n",
       "                            <strong>Total threads: </strong> 1\n",
       "                        </td>\n",
       "                    </tr>\n",
       "                    <tr>\n",
       "                        <td style=\"text-align: left;\">\n",
       "                            <strong>Dashboard: </strong> <a href=\"http://127.0.0.1:43111/status\" target=\"_blank\">http://127.0.0.1:43111/status</a>\n",
       "                        </td>\n",
       "                        <td style=\"text-align: left;\">\n",
       "                            <strong>Memory: </strong> 4.00 GiB\n",
       "                        </td>\n",
       "                    </tr>\n",
       "                    <tr>\n",
       "                        <td style=\"text-align: left;\">\n",
       "                            <strong>Nanny: </strong> tcp://127.0.0.1:46286\n",
       "                        </td>\n",
       "                        <td style=\"text-align: left;\"></td>\n",
       "                    </tr>\n",
       "                    <tr>\n",
       "                        <td colspan=\"2\" style=\"text-align: left;\">\n",
       "                            <strong>Local directory: </strong> /tmp/dask-worker-space/worker-o1myllsg\n",
       "                        </td>\n",
       "                    </tr>\n",
       "\n",
       "                    \n",
       "\n",
       "                    \n",
       "\n",
       "                </table>\n",
       "            </details>\n",
       "            </div>\n",
       "        </div>\n",
       "        \n",
       "        <div style=\"margin-bottom: 20px;\">\n",
       "            <div style=\"width: 24px; height: 24px; background-color: #DBF5FF; border: 3px solid #4CC9FF; border-radius: 5px; position: absolute;\"> </div>\n",
       "            <div style=\"margin-left: 48px;\">\n",
       "            <details>\n",
       "                <summary>\n",
       "                    <h4 style=\"margin-bottom: 0px; display: inline;\">Worker: 3</h4>\n",
       "                </summary>\n",
       "                <table style=\"width: 100%; text-align: left;\">\n",
       "                    <tr>\n",
       "                        <td style=\"text-align: left;\">\n",
       "                            <strong>Comm: </strong> tcp://127.0.0.1:44380\n",
       "                        </td>\n",
       "                        <td style=\"text-align: left;\">\n",
       "                            <strong>Total threads: </strong> 1\n",
       "                        </td>\n",
       "                    </tr>\n",
       "                    <tr>\n",
       "                        <td style=\"text-align: left;\">\n",
       "                            <strong>Dashboard: </strong> <a href=\"http://127.0.0.1:42904/status\" target=\"_blank\">http://127.0.0.1:42904/status</a>\n",
       "                        </td>\n",
       "                        <td style=\"text-align: left;\">\n",
       "                            <strong>Memory: </strong> 4.00 GiB\n",
       "                        </td>\n",
       "                    </tr>\n",
       "                    <tr>\n",
       "                        <td style=\"text-align: left;\">\n",
       "                            <strong>Nanny: </strong> tcp://127.0.0.1:40946\n",
       "                        </td>\n",
       "                        <td style=\"text-align: left;\"></td>\n",
       "                    </tr>\n",
       "                    <tr>\n",
       "                        <td colspan=\"2\" style=\"text-align: left;\">\n",
       "                            <strong>Local directory: </strong> /tmp/dask-worker-space/worker-iyfiv76p\n",
       "                        </td>\n",
       "                    </tr>\n",
       "\n",
       "                    \n",
       "\n",
       "                    \n",
       "\n",
       "                </table>\n",
       "            </details>\n",
       "            </div>\n",
       "        </div>\n",
       "        \n",
       "        <div style=\"margin-bottom: 20px;\">\n",
       "            <div style=\"width: 24px; height: 24px; background-color: #DBF5FF; border: 3px solid #4CC9FF; border-radius: 5px; position: absolute;\"> </div>\n",
       "            <div style=\"margin-left: 48px;\">\n",
       "            <details>\n",
       "                <summary>\n",
       "                    <h4 style=\"margin-bottom: 0px; display: inline;\">Worker: 4</h4>\n",
       "                </summary>\n",
       "                <table style=\"width: 100%; text-align: left;\">\n",
       "                    <tr>\n",
       "                        <td style=\"text-align: left;\">\n",
       "                            <strong>Comm: </strong> tcp://127.0.0.1:38976\n",
       "                        </td>\n",
       "                        <td style=\"text-align: left;\">\n",
       "                            <strong>Total threads: </strong> 1\n",
       "                        </td>\n",
       "                    </tr>\n",
       "                    <tr>\n",
       "                        <td style=\"text-align: left;\">\n",
       "                            <strong>Dashboard: </strong> <a href=\"http://127.0.0.1:33611/status\" target=\"_blank\">http://127.0.0.1:33611/status</a>\n",
       "                        </td>\n",
       "                        <td style=\"text-align: left;\">\n",
       "                            <strong>Memory: </strong> 4.00 GiB\n",
       "                        </td>\n",
       "                    </tr>\n",
       "                    <tr>\n",
       "                        <td style=\"text-align: left;\">\n",
       "                            <strong>Nanny: </strong> tcp://127.0.0.1:35502\n",
       "                        </td>\n",
       "                        <td style=\"text-align: left;\"></td>\n",
       "                    </tr>\n",
       "                    <tr>\n",
       "                        <td colspan=\"2\" style=\"text-align: left;\">\n",
       "                            <strong>Local directory: </strong> /tmp/dask-worker-space/worker-qnh5zmjr\n",
       "                        </td>\n",
       "                    </tr>\n",
       "\n",
       "                    \n",
       "\n",
       "                    \n",
       "\n",
       "                </table>\n",
       "            </details>\n",
       "            </div>\n",
       "        </div>\n",
       "        \n",
       "\n",
       "    </details>\n",
       "</div>\n",
       "\n",
       "        </details>\n",
       "    </div>\n",
       "</div>\n",
       "            </details>\n",
       "        \n",
       "\n",
       "    </div>\n",
       "</div>"
      ],
      "text/plain": [
       "<Client: 'tcp://127.0.0.1:33204' processes=5 threads=5, memory=20.00 GiB>"
      ]
     },
     "execution_count": 174,
     "metadata": {},
     "output_type": "execute_result"
    }
   ],
   "source": [
    "client"
   ]
  },
  {
   "cell_type": "raw",
   "id": "8cae96f9-8aaf-45c3-bb90-328853585955",
   "metadata": {},
   "source": [
    "client.close()"
   ]
  },
  {
   "cell_type": "code",
   "execution_count": 161,
   "id": "2e87554a-1aab-4b8f-a3c6-cc8c247bbe03",
   "metadata": {},
   "outputs": [],
   "source": [
    "objective = codes.optimization.loss\n",
    "\n"
   ]
  },
  {
   "cell_type": "code",
   "execution_count": 162,
   "id": "221b928c-9dd4-4e70-8972-e5f0b40eb597",
   "metadata": {
    "collapsed": true,
    "jupyter": {
     "outputs_hidden": true
    },
    "tags": []
   },
   "outputs": [
    {
     "name": "stdout",
     "output_type": "stream",
     "text": [
      "VoronoiMesh version 0.1\n",
      "DiscretePoisson version 0.3\n",
      "Shape version: 0.1\n",
      "SystEquations version: 0.3\n",
      "Solver version 0.1\n",
      "VoronoiMesh version 0.1\n",
      "DiscretePoisson version 0.3\n",
      "Shape version: 0.1\n",
      "SystEquations version: 0.3\n",
      "Solver version 0.1\n",
      "VoronoiMesh version 0.1\n",
      "DiscretePoisson version 0.3\n",
      "VoronoiMesh version 0.1\n",
      "DiscretePoisson version 0.3\n",
      "Shape version: 0.1\n",
      "SystEquations version: 0.3\n",
      "Solver version 0.1\n",
      "Shape version: 0.1\n",
      "SystEquations version: 0.3\n",
      "Solver version 0.1\n",
      "VoronoiMesh version 0.1\n",
      "DiscretePoisson version 0.3\n",
      "Shape version: 0.1\n",
      "SystEquations version: 0.3\n",
      "Solver version 0.1\n",
      "CPU times: user 7.66 s, sys: 1.23 s, total: 8.88 s\n",
      "Wall time: 18 s\n"
     ]
    },
    {
     "data": {
      "text/plain": [
       "array([ 2.23078065e-06,  2.23078093e-06, -4.63471130e-08,  3.44680335e-06])"
      ]
     },
     "execution_count": 162,
     "metadata": {},
     "output_type": "execute_result"
    }
   ],
   "source": [
    "%%time\n",
    "from optimization import jacobian\n",
    "jacobian(x, *opt_args)"
   ]
  },
  {
   "cell_type": "code",
   "execution_count": 163,
   "id": "3148d08b-963a-4c4c-93a2-a87a843c571f",
   "metadata": {},
   "outputs": [
    {
     "name": "stdout",
     "output_type": "stream",
     "text": [
      "CPU times: user 32 s, sys: 9.75 s, total: 41.8 s\n",
      "Wall time: 38.9 s\n"
     ]
    },
    {
     "data": {
      "text/plain": [
       "array([ 2.23078065e-06,  2.23078093e-06, -4.63471128e-08,  3.44680335e-06])"
      ]
     },
     "execution_count": 163,
     "metadata": {},
     "output_type": "execute_result"
    }
   ],
   "source": [
    "%%time\n",
    "\n",
    "gradient = lambda x: approx_fprime(x, codes.optimization.loss, step_size, *opt_args)\n",
    "gradient(x)"
   ]
  },
  {
   "cell_type": "markdown",
   "id": "753894e7-c171-4f8c-9e1d-166618f6af66",
   "metadata": {},
   "source": [
    "### Gradient descent"
   ]
  },
  {
   "cell_type": "code",
   "execution_count": 25,
   "id": "e218d9a9-016b-410a-b713-173a4f639ce5",
   "metadata": {},
   "outputs": [],
   "source": [
    "from scipy.optimize import approx_fprime"
   ]
  },
  {
   "cell_type": "code",
   "execution_count": 29,
   "id": "82481a2a-6ce4-49cd-9954-6c70370aa26c",
   "metadata": {
    "jupyter": {
     "source_hidden": true
    },
    "tags": []
   },
   "outputs": [],
   "source": [
    "def ArmijoLineSearch(f, fargs, xk, pk, gfk, phi0, alpha0, rho=0.5, c1=1e-4):\n",
    "    \"\"\"\n",
    "    Parameters\n",
    "    --------------------\n",
    "    f : callable\n",
    "        Function to be minimized.\n",
    "    xk : array\n",
    "        Current point.\n",
    "    pk : array\n",
    "        Search direction.\n",
    "    gfk : array\n",
    "        Gradient of `f` at point `xk`.\n",
    "    phi0 : float\n",
    "        Value of `f` at point `xk`.\n",
    "    alpha0 : scalar\n",
    "        Value of `alpha` at the start of the optimization.\n",
    "    rho : float, optional\n",
    "        Value of alpha shrinkage factor.\n",
    "    c1 : float, optional\n",
    "        Value to control stopping criterion.\n",
    "    \n",
    "    Returns\n",
    "    --------------------\n",
    "    alpha : scalar\n",
    "        Value of `alpha` at the end of the optimization.\n",
    "    phi : float\n",
    "        Value of `f` at the new point `x_{k+1}`.\n",
    "    \"\"\"\n",
    "    derphi0 = np.dot(gfk, pk)\n",
    "    phi_a0 = f(xk + alpha0*pk, *fargs)\n",
    "    \n",
    "    while not phi_a0 <= phi0 + c1*alpha0*derphi0:\n",
    "        alpha0 = alpha0 * rho\n",
    "        phi_a0 = f(xk + alpha0*pk, *fargs)\n",
    "        \n",
    "        print(phi_a0)\n",
    "    \n",
    "    return alpha0, phi_a0"
   ]
  },
  {
   "cell_type": "code",
   "execution_count": 30,
   "id": "93fc33c2-5b15-4896-95b7-9beb792e3f41",
   "metadata": {
    "jupyter": {
     "source_hidden": true
    },
    "tags": []
   },
   "outputs": [],
   "source": [
    "def gradient_descent(gradient, initial, learn_rate=0.5, \n",
    "                     beta1=0.9, beta2=0.999,\n",
    "                     tolerance=1e-6, epsilon = 1e-8, n_iter=50):\n",
    "    vector = initial\n",
    "    diff, A, F = 0, 0, 0\n",
    "    \n",
    "    diff_cost = []\n",
    "    \n",
    "    \n",
    "    g = gradient(vector)\n",
    "    cost = codes.optimization.loss(vector, *opt_args)\n",
    "    \n",
    "    for i in range(n_iter):\n",
    "        \n",
    "        \n",
    "        print(g)\n",
    "        # https://machinelearningmastery.com/adam-optimization-from-scratch/\n",
    "        # Adam's gradient\n",
    "        # A = beta1 * A + (1 - beta1) * (g**2)\n",
    "        # F = beta2 * F + (1 - beta2) * (g)\n",
    "        # Ahat = A / (1 - beta1**(i+1))\n",
    "        # Fhat = F / (1 - beta2**(i+1))\n",
    "        # # learn_rate *= (np.sqrt(1 - beta1**(i+1)) / (1 - beta2**(i+1)))\n",
    "        # vector -= (learn_rate * Fhat)/(np.sqrt(Ahat) + epsilon)  # epsilon for better conditioning\n",
    "        \n",
    "        previous_cost = cost\n",
    "        \n",
    "        learn_rate, cost = ArmijoLineSearch(\n",
    "            codes.optimization.loss,\n",
    "            opt_args,\n",
    "            vector,\n",
    "            -g,\n",
    "            g,\n",
    "            cost,\n",
    "            learn_rate          \n",
    "        )\n",
    "        \n",
    "        # Vanilla gradient descent\n",
    "        diff = -learn_rate * g\n",
    "        \n",
    "        # Momentum based learning\n",
    "        # diff = decay_rate * diff - learn_rate * g\n",
    "        \n",
    "        # next step in the iteration\n",
    "        vector += diff\n",
    "        \n",
    "        g = gradient(vector)\n",
    "        \n",
    "        print(vector)\n",
    "        \n",
    "        # if np.all(np.abs(diff) <= tolerance):\n",
    "        #     break\n",
    "        \n",
    "        \n",
    "        \n",
    "        print(cost)\n",
    "        \n",
    "        diff_cost.append(np.abs(1 - previous_cost/cost))\n",
    "        \n",
    "        \n",
    "        if i > 5:\n",
    "            if np.all(np.array(diff_cost)[i-5:-1] < 1e-1):\n",
    "                break\n",
    "    \n",
    "    return i, diff_cost, cost, vector\n",
    "\n"
   ]
  },
  {
   "cell_type": "code",
   "execution_count": 374,
   "id": "dbea691d-2dd3-4f76-b2f3-054903cb48c0",
   "metadata": {
    "jupyter": {
     "source_hidden": true
    },
    "tags": []
   },
   "outputs": [],
   "source": [
    "import multiprocessing as mp\n",
    "# Step 1: Init multiprocessing.Pool()\n",
    "from pathos.multiprocessing import ProcessingPool as Pool\n",
    "\n",
    "pool = Pool(mp.cpu_count())\n",
    "\n",
    "# # Step 2: `pool.apply` the `howmany_within_range()`\n",
    "# results = [pool.apply(howmany_within_range, args=(row, 4, 8)) for row in data]\n"
   ]
  },
  {
   "cell_type": "code",
   "execution_count": 383,
   "id": "67991e76-1ed3-4eaa-982a-5acc8dc92093",
   "metadata": {
    "tags": []
   },
   "outputs": [],
   "source": []
  },
  {
   "cell_type": "code",
   "execution_count": 384,
   "id": "b187f5e3-612a-429b-83d7-aa0c5a41f64f",
   "metadata": {
    "collapsed": true,
    "jupyter": {
     "outputs_hidden": true,
     "source_hidden": true
    },
    "tags": []
   },
   "outputs": [
    {
     "ename": "TypeError",
     "evalue": "call.work() missing 1 required positional argument: 'opt_args'",
     "output_type": "error",
     "traceback": [
      "\u001b[0;31m---------------------------------------------------------------------------\u001b[0m",
      "\u001b[0;31mRemoteTraceback\u001b[0m                           Traceback (most recent call last)",
      "\u001b[0;31mRemoteTraceback\u001b[0m: \n\"\"\"\nTraceback (most recent call last):\n  File \"/opt/conda/lib/python3.10/site-packages/multiprocess/pool.py\", line 125, in worker\n    result = (True, func(*args, **kwds))\nTypeError: call.work() missing 1 required positional argument: 'opt_args'\n\"\"\"",
      "\nThe above exception was the direct cause of the following exception:\n",
      "\u001b[0;31mTypeError\u001b[0m                                 Traceback (most recent call last)",
      "File \u001b[0;32m<timed eval>:1\u001b[0m, in \u001b[0;36m<module>\u001b[0;34m\u001b[0m\n",
      "Input \u001b[0;32mIn [383]\u001b[0m, in \u001b[0;36mfinite_difference_jacobian\u001b[0;34m(fn, x0, args, step_size)\u001b[0m\n\u001b[1;32m      9\u001b[0m y0 \u001b[38;5;241m+\u001b[39m\u001b[38;5;241m=\u001b[39m np\u001b[38;5;241m.\u001b[39meye(\u001b[38;5;28mlen\u001b[39m(x0)) \u001b[38;5;241m*\u001b[39m step_size\n\u001b[1;32m     11\u001b[0m new_cost \u001b[38;5;241m=\u001b[39m pool\u001b[38;5;241m.\u001b[39mapipe(f\u001b[38;5;241m.\u001b[39mwork, f, y0)\n\u001b[0;32m---> 13\u001b[0m difference \u001b[38;5;241m=\u001b[39m (\u001b[43mnew_cost\u001b[49m\u001b[38;5;241;43m.\u001b[39;49m\u001b[43mget\u001b[49m\u001b[43m(\u001b[49m\u001b[43m)\u001b[49m \u001b[38;5;241m-\u001b[39m initial_cost) \u001b[38;5;241m/\u001b[39m step_size\n\u001b[1;32m     15\u001b[0m \u001b[38;5;28;01mreturn\u001b[39;00m np\u001b[38;5;241m.\u001b[39mstack(difference)\u001b[38;5;241m.\u001b[39mT\n",
      "File \u001b[0;32m/opt/conda/lib/python3.10/site-packages/multiprocess/pool.py:771\u001b[0m, in \u001b[0;36mApplyResult.get\u001b[0;34m(self, timeout)\u001b[0m\n\u001b[1;32m    769\u001b[0m     \u001b[38;5;28;01mreturn\u001b[39;00m \u001b[38;5;28mself\u001b[39m\u001b[38;5;241m.\u001b[39m_value\n\u001b[1;32m    770\u001b[0m \u001b[38;5;28;01melse\u001b[39;00m:\n\u001b[0;32m--> 771\u001b[0m     \u001b[38;5;28;01mraise\u001b[39;00m \u001b[38;5;28mself\u001b[39m\u001b[38;5;241m.\u001b[39m_value\n",
      "\u001b[0;31mTypeError\u001b[0m: call.work() missing 1 required positional argument: 'opt_args'"
     ]
    }
   ],
   "source": [
    "%%time\n",
    "finite_difference_jacobian(codes.optimization.loss, x, opt_args, 1e-3)"
   ]
  },
  {
   "cell_type": "raw",
   "id": "b6a5de6e-f4c8-46c8-9986-9c7aca067f4b",
   "metadata": {
    "tags": []
   },
   "source": [
    "opt_args = tuple([pair, params, kwant_args, 0.0])\n",
    "gradient = lambda x: approx_fprime(x, codes.optimization.loss, 1e-3, *opt_args)\n",
    "\n",
    "niter, diff_cost, cost, sol = gradient_descent(\n",
    "    gradient, \n",
    "    x, \n",
    "    learn_rate=0.5, \n",
    "    beta1=0.9, beta2=0.999,\n",
    ")"
   ]
  },
  {
   "cell_type": "code",
   "execution_count": 177,
   "id": "a29e6f55-f900-471b-9de0-a41a6d009b36",
   "metadata": {},
   "outputs": [],
   "source": [
    "optimiser_args = system.optimiser_arguments()\n",
    "params.update(parameters.voltage_dict(sol1.x))\n",
    "\n",
    "linear_ham, numerical_hamiltonian = hamiltonian(system.trijunction, \n",
    "                                    optimiser_args['linear_terms'], \n",
    "                                    optimiser_args['kwant_params_fn'], \n",
    "                                    **params)"
   ]
  },
  {
   "cell_type": "raw",
   "id": "9f64bfa0-5b92-49b3-907c-42f0c78c20e1",
   "metadata": {},
   "source": [
    "ham = numerical_hamiltonian\n",
    "loss = 0\n",
    "for index in np.hstack(list(dep_index.values())):\n",
    "    # print(ham[4*index, 4*index], params['mus_nw'][0])\n",
    "    diff = ham[4*index, 4*index] - params['mus_nw'][0]\n",
    "    loss += diff if diff < 0 else 0\n",
    "\n",
    "for index in np.hstack(list(acc_index.values())):\n",
    "    print(ham[4*index, 4*index], params['mus_nw'][0])\n",
    "    diff = ham[4*index, 4*index] - params['mus_nw'][0]\n",
    "    loss += diff if diff > 0 else 0"
   ]
  },
  {
   "cell_type": "code",
   "execution_count": 178,
   "id": "b4661fa3-6828-4612-b64c-fe5a72610f20",
   "metadata": {},
   "outputs": [],
   "source": [
    "energies, wave_functions = eigsh(\n",
    "                numerical_hamiltonian.tocsc(),\n",
    "                6,\n",
    "                sigma=0,\n",
    "                return_eigenvectors=True,\n",
    ")"
   ]
  },
  {
   "cell_type": "code",
   "execution_count": 179,
   "id": "ec882ba2-568c-452f-b318-7a2e2d686738",
   "metadata": {},
   "outputs": [
    {
     "data": {
      "image/png": "[encoded data removed]",
      "text/plain": [
       "<Figure size 1000x500 with 6 Axes>"
      ]
     },
     "metadata": {},
     "output_type": "display_data"
    }
   ],
   "source": [
    "fig, ax = plt.subplots(1, 6, figsize = (10, 5), sharey= True)\n",
    "\n",
    "density = kwant.operator.Density(system.trijunction, np.eye(4))\n",
    "for i, vec in enumerate(wave_functions.T):\n",
    "    kwant.plotter.density(system.trijunction, density(vec), ax = ax[i]);"
   ]
  },
  {
   "cell_type": "code",
   "execution_count": 130,
   "id": "6d1d5b9d-ea2f-466f-972a-f6ba75fda1cc",
   "metadata": {},
   "outputs": [
    {
     "data": {
      "image/png": "[encoded data removed]",
      "text/plain": [
       "<Figure size 1000x500 with 1 Axes>"
      ]
     },
     "metadata": {},
     "output_type": "display_data"
    }
   ],
   "source": [
    "fig, ax = plt.subplots(1, 1, figsize = (10, 5), sharey= True)\n",
    "\n",
    "density = kwant.operator.Density(system.trijunction, np.eye(4))\n",
    "for i, vec in enumerate(wave_functions.T[[0]]):\n",
    "    kwant.plotter.density(system.trijunction, density(vec), ax = ax);"
   ]
  },
  {
   "cell_type": "code",
   "execution_count": 81,
   "id": "e713d342-9cb7-44dc-8dd4-556048e8db08",
   "metadata": {},
   "outputs": [],
   "source": [
    "transformed_hamiltonian = svd_transformation(\n",
    "    energies, wave_functions, system.mlwf[order_wavefunctions('left-right')]\n",
    ")\n",
    "\n",
    "desired = np.abs(transformed_hamiltonian[0, 1])\n",
    "undesired = np.linalg.norm(transformed_hamiltonian[2:])"
   ]
  },
  {
   "cell_type": "code",
   "execution_count": 82,
   "id": "a7e8a6cb-bc55-4343-9a43-b5e83e61660d",
   "metadata": {},
   "outputs": [
    {
     "data": {
      "text/plain": [
       "5.287730948954797e-06"
      ]
     },
     "execution_count": 82,
     "metadata": {},
     "output_type": "execute_result"
    }
   ],
   "source": [
    "desired"
   ]
  },
  {
   "cell_type": "code",
   "execution_count": 83,
   "id": "0c7775f0-f9f3-4d16-b09d-90a2b0f50127",
   "metadata": {},
   "outputs": [
    {
     "data": {
      "text/plain": [
       "5.796575760775433e-06"
      ]
     },
     "execution_count": 83,
     "metadata": {},
     "output_type": "execute_result"
    }
   ],
   "source": [
    "undesired"
   ]
  },
  {
   "cell_type": "code",
   "execution_count": 73,
   "id": "609742b6-90d2-4612-9cbd-a35fc6a41c6b",
   "metadata": {},
   "outputs": [
    {
     "data": {
      "text/plain": [
       "2.8103203688840985e-15"
      ]
     },
     "execution_count": 73,
     "metadata": {},
     "output_type": "execute_result"
    }
   ],
   "source": [
    "-desired**2 + undesired**2"
   ]
  },
  {
   "cell_type": "code",
   "execution_count": 83,
   "id": "b90ff7ac-588a-43fa-b8db-9986e523b049",
   "metadata": {},
   "outputs": [
    {
     "data": {
      "text/plain": [
       "(28778, 2)"
      ]
     },
     "execution_count": 83,
     "metadata": {},
     "output_type": "execute_result"
    }
   ],
   "source": [
    "kwant_sites"
   ]
  },
  {
   "cell_type": "code",
   "execution_count": 85,
   "id": "e0313a99-fb3c-4699-ac71-0b651576065c",
   "metadata": {},
   "outputs": [
    {
     "data": {
      "text/plain": [
       "(16895, 3)"
      ]
     },
     "execution_count": 85,
     "metadata": {},
     "output_type": "execute_result"
    }
   ],
   "source": [
    "system.site_coords.shape"
   ]
  },
  {
   "cell_type": "code",
   "execution_count": null,
   "id": "d297ef4f-ded8-4105-a116-9b9a9c5ddcc7",
   "metadata": {},
   "outputs": [],
   "source": []
  }
 ],
 "metadata": {
  "kernelspec": {
   "display_name": "Python 3 (ipykernel)",
   "language": "python",
   "name": "python3"
  },
  "language_info": {
   "codemirror_mode": {
    "name": "ipython",
    "version": 3
   },
   "file_extension": ".py",
   "mimetype": "text/x-python",
   "name": "python",
   "nbconvert_exporter": "python",
   "pygments_lexer": "ipython3",
   "version": "3.10.6"
  }
 },
 "nbformat": 4,
 "nbformat_minor": 5
}
