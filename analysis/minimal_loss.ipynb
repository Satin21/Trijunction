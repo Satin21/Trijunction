{
 "cells": [
  {
   "cell_type": "code",
   "execution_count": 1,
   "id": "318e0951-21c5-496e-aa93-587394a5c978",
   "metadata": {
    "tags": []
   },
   "outputs": [
    {
     "name": "stdout",
     "output_type": "stream",
     "text": [
      "VoronoiMesh version 0.1\n",
      "DiscretePoisson version 0.3\n",
      "Shape version: 0.1\n",
      "SystEquations version: 0.3\n",
      "Solver version 0.1\n"
     ]
    }
   ],
   "source": [
    "import tinyarray as ta\n",
    "import numpy as np\n",
    "import matplotlib.pyplot as plt\n",
    "import importlib\n",
    "import json\n",
    "import kwant\n",
    "\n",
    "from codes.gate_design import gate_coords\n",
    "from codes.constants import scale\n",
    "import codes.trijunction as trijunction\n",
    "import codes.optimization as optimization\n",
    "import codes.parameters as parameters\n",
    "from codes.tools import hamiltonian\n",
    "from codes.utils import eigsh, svd_transformation, dict_update, dep_acc_index\n",
    "from codes.utils import order_wavefunctions"
   ]
  },
  {
   "cell_type": "code",
   "execution_count": 2,
   "id": "c495bfa6-176b-47fc-8fae-aba23c7ef444",
   "metadata": {},
   "outputs": [],
   "source": [
    "from scipy.optimize import minimize, minimize_scalar"
   ]
  },
  {
   "cell_type": "code",
   "execution_count": 3,
   "id": "328a91b2-d8b2-4dfd-9ec7-48e577aa65ba",
   "metadata": {},
   "outputs": [],
   "source": [
    "with open('/home/tinkerer/trijunction-design/codes/config.json', 'r') as f:\n",
    "    config = json.load(f)\n",
    "\n",
    "change_config = [\n",
    "    {\"device\": {\"thickness\": {\"dielectric\": 1.0}}},\n",
    "    {\"gate\": {\"channel_width\": 13.0, 'angle': np.pi/6, 'gap': 2}},\n",
    "]\n",
    "\n",
    "for local_config in change_config:\n",
    "    config = dict_update(config, local_config)"
   ]
  },
  {
   "cell_type": "code",
   "execution_count": 4,
   "id": "bfb13a62-2ff2-4afa-a06b-ead696c58073",
   "metadata": {},
   "outputs": [
    {
     "name": "stdout",
     "output_type": "stream",
     "text": [
      "Finding closed voronoi cells\n",
      "Done selecting closed voronoi cells\n",
      "Calculating points distance\n",
      "Done\n",
      "Calculating ridges hypersurfaces\n",
      "Done\n",
      "Finding  hypervolume for closed voronoi cells\n",
      "Done finding hypervolume for closed voronoi cells\n",
      "Done calculating surface\n",
      "Done calculating distance\n",
      "Done calculating capacitance matrix\n"
     ]
    },
    {
     "name": "stderr",
     "output_type": "stream",
     "text": [
      "100%|██████████| 13/13 [00:30<00:00,  2.33s/it]\n"
     ]
    }
   ],
   "source": [
    "system = trijunction.Trijunction(config, optimize_phase_pairs=['left-right'])"
   ]
  },
  {
   "cell_type": "code",
   "execution_count": 5,
   "id": "61dc2944-9554-4f4d-9d7b-6b18bc06cfe6",
   "metadata": {},
   "outputs": [
    {
     "data": {
      "text/plain": [
       "1.1620498115754614"
      ]
     },
     "execution_count": 5,
     "metadata": {},
     "output_type": "execute_result"
    }
   ],
   "source": [
    "sys.path"
   ]
  },
  {
   "cell_type": "code",
   "execution_count": 7,
   "id": "e2984aac-e1f9-4d20-9fad-f339af8275ba",
   "metadata": {},
   "outputs": [],
   "source": [
    "pair = 'left-right'\n",
    "voltages = parameters.pair_voltages()"
   ]
  },
  {
   "cell_type": "code",
   "execution_count": 8,
   "id": "1cf8473d-9dd4-4de5-bca1-10a6e044ba42",
   "metadata": {},
   "outputs": [],
   "source": [
    "zero_potential = dict(\n",
    "    zip(\n",
    "        ta.array(system.site_coords[:, [0, 1]] - system.offset),\n",
    "        np.zeros(len(system.site_coords)),\n",
    "    )\n",
    ")"
   ]
  },
  {
   "cell_type": "code",
   "execution_count": 9,
   "id": "aece4f2d-f679-4354-aefe-0eeb0df3a2b1",
   "metadata": {},
   "outputs": [],
   "source": [
    "kwant_args = list(system.optimiser_arguments().values())\n",
    "kwant_args[-1] = kwant_args[-1][order_wavefunctions(pair)]"
   ]
  },
  {
   "cell_type": "code",
   "execution_count": 71,
   "id": "e94100a9-6108-4314-8cf7-7996b0ef49d5",
   "metadata": {},
   "outputs": [],
   "source": [
    "x = [-1.0e-3, -1.0e-3, -5.0e-3, 3e-3]\n",
    "voltages = parameters.voltage_dict(x)"
   ]
  },
  {
   "cell_type": "code",
   "execution_count": 72,
   "id": "6f4fea80-47b2-4cae-8d44-0881fe9f7eec",
   "metadata": {
    "tags": []
   },
   "outputs": [],
   "source": [
    "params = parameters.junction_parameters()\n",
    "params.update(voltages)\n",
    "params.update(potential=zero_potential)"
   ]
  },
  {
   "cell_type": "code",
   "execution_count": 73,
   "id": "0e40b643-3c6e-4ccd-b374-8ba5cad6ea95",
   "metadata": {},
   "outputs": [],
   "source": [
    "opt_args = tuple([pair, params, kwant_args, 0.0])"
   ]
  },
  {
   "cell_type": "code",
   "execution_count": 74,
   "id": "3eb1ab1f-8fb0-4fdd-af93-0b8c184214a7",
   "metadata": {
    "tags": []
   },
   "outputs": [
    {
     "name": "stdout",
     "output_type": "stream",
     "text": [
      "[-20.5   0. ]\n",
      "[20.5  0. ]\n",
      "[ 0.  76.5]\n",
      "[-20.  24.]\n",
      "[-5.5  7.5]\n",
      "[5.5 7.5]\n",
      "[20. 24.]\n",
      "[-16.5  57.5]\n",
      "[16.5 57.5]\n"
     ]
    },
    {
     "data": {
      "image/png": "[encoded data removed]",
      "text/plain": [
       "<Figure size 640x480 with 1 Axes>"
      ]
     },
     "metadata": {},
     "output_type": "display_data"
    }
   ],
   "source": [
    "kwant_sites = np.array([site.pos for site in system.trijunction.sites])/scale\n",
    "\n",
    "dep_index, acc_index = dep_acc_index(\n",
    "            system.poisson_system,\n",
    "            kwant_sites,\n",
    "            system.site_indices,\n",
    "            system.nw_centers,\n",
    "            pair,\n",
    "            True\n",
    "        )\n",
    "params.update({'dep_index': dep_index})\n",
    "params.update({'acc_index': acc_index})\n"
   ]
  },
  {
   "cell_type": "code",
   "execution_count": 75,
   "id": "b438ad84-2387-44b6-9253-a8ce38d79fd1",
   "metadata": {
    "tags": []
   },
   "outputs": [],
   "source": [
    "step_size = 1e-4\n",
    "opt_args = tuple((pair, params, kwant_args, 0.0, step_size))\n",
    "# optimization.loss(x, *opt_args)"
   ]
  },
  {
   "cell_type": "code",
   "execution_count": 76,
   "id": "d6fd36c5-7670-4799-8269-6107f7432381",
   "metadata": {},
   "outputs": [
    {
     "data": {
      "text/plain": [
       "<module 'codes.optimization' from '/home/tinkerer/trijunction-design/analysis/codes/optimization.py'>"
      ]
     },
     "execution_count": 76,
     "metadata": {},
     "output_type": "execute_result"
    }
   ],
   "source": [
    "import codes.optimization\n",
    "import importlib\n",
    "importlib.reload(codes.optimization)"
   ]
  },
  {
   "cell_type": "code",
   "execution_count": null,
   "id": "4af95205-f61a-4c8c-8d08-b012052f7725",
   "metadata": {
    "tags": []
   },
   "outputs": [
    {
     "name": "stdout",
     "output_type": "stream",
     "text": [
      "[-0.001 -0.001 -0.005  0.003]\n",
      "0.18215093066514423 0.0010457858719185053\n",
      "[-0.00100001 -0.001      -0.005       0.003     ]\n",
      "0.18215840761036037 0.001045783097530719\n",
      "[-0.001      -0.00100001 -0.005       0.003     ]\n",
      "0.18215840761036295 0.001045774307988682\n",
      "[-0.001      -0.001      -0.00500001  0.003     ]\n",
      "0.18215182525535467 0.001045784715752685\n",
      "[-0.001      -0.001      -0.005       0.00300001]\n",
      "0.18214833773536593 0.0010457922068712012\n",
      "| niter |f evals|CG iter|  obj func   |tr radius |   opt    |  c viol  |\n",
      "|-------|-------|-------|-------------|----------|----------|----------|\n",
      "|   1   |   5   |   0   | -1.7478e-01 | 1.00e-03 | 5.04e+02 | 0.00e+00 |\n",
      "[-0.00168395 -0.00168475 -0.00508268  0.00276232]\n",
      "0.3247522534559975 0.0006490667788936922\n",
      "[-0.00168397 -0.00168475 -0.00508268  0.00276232]\n",
      "0.32476151473005255 0.0006490228077200424\n",
      "[-0.00168395 -0.00168477 -0.00508268  0.00276232]\n",
      "0.324761513363974 0.0006490611065385203\n",
      "[-0.00168395 -0.00168475 -0.0050827   0.00276232]\n",
      "0.3247548102473996 0.0006490643237170706\n",
      "[-0.00168395 -0.00168475 -0.00508268  0.00276234]\n",
      "0.3247434256456662 0.0006490853396857325\n",
      "|   2   |  10   |   1   | -3.2045e-01 | 1.00e-03 | 6.26e+02 | 0.00e+00 |\n",
      "[-0.00226441 -0.00226275 -0.0052426   0.00221149]\n",
      "0.0003826858750432518 0.0007071394495856107\n",
      "[-0.00226443 -0.00226275 -0.0052426   0.00221149]\n",
      "0.00038266336317570543 0.0007071391773389309\n",
      "[-0.00226441 -0.00226276 -0.0052426   0.00221149]\n",
      "0.00038266334159553093 0.0007071348575389072\n",
      "[-0.00226441 -0.00226275 -0.00524262  0.00221149]\n",
      "0.00038268403506457076 0.0007071393355226843\n",
      "[-0.00226441 -0.00226275 -0.0052426   0.00221151]\n",
      "0.0003827022002703963 0.0007071419171751136\n",
      "|   3   |  15   |   2   | -3.2045e-01 | 5.00e-04 | 6.26e+02 | 0.00e+00 |\n",
      "[-0.00197418 -0.00197375 -0.00516264  0.00248691]\n",
      "0.06986566250470254 0.0008529302207897191\n",
      "[-0.0019742  -0.00197375 -0.00516264  0.00248691]\n",
      "0.06985170700933228 0.0008529266208065983\n",
      "[-0.00197418 -0.00197376 -0.00516264  0.00248691]\n",
      "0.06985170162267797 0.0008529385098592678\n",
      "[-0.00197418 -0.00197375 -0.00516266  0.00248691]\n",
      "0.06986313627566126 0.0008529311975806652\n",
      "[-0.00197418 -0.00197375 -0.00516264  0.00248692]\n",
      "0.06987761131588954 0.0008529285345104768\n",
      "|   4   |  20   |   3   | -3.2045e-01 | 2.50e-04 | 6.26e+02 | 0.00e+00 |\n",
      "[-0.00182907 -0.00182925 -0.00512266  0.00262462]\n",
      "0.19265686666730658 0.0009007215082272417\n",
      "[-0.00182908 -0.00182925 -0.00512266  0.00262462]\n",
      "0.19264346056630524 0.0009007303756378606\n",
      "[-0.00182907 -0.00182926 -0.00512266  0.00262462]\n",
      "0.19264345396724228 0.0009007162269564149\n",
      "[-0.00182907 -0.00182925 -0.00512268  0.00262462]\n",
      "0.1926568544662748 0.0009007215779202423\n",
      "[-0.00182907 -0.00182925 -0.00512266  0.00262463]\n",
      "0.19266579536561287 0.0009007209876750097\n",
      "|   5   |  25   |   4   | -3.2045e-01 | 1.25e-04 | 6.26e+02 | 0.00e+00 |\n",
      "[-0.00175651 -0.001757   -0.00510267  0.00269347]\n",
      "0.37390401374525223 0.0007527415364384446\n",
      "[-0.00175652 -0.001757   -0.00510267  0.00269347]\n",
      "0.3738974198497323 0.0007527405385037683\n",
      "[-0.00175651 -0.00175702 -0.00510267  0.00269347]\n",
      "0.37389733812216186 0.0007528074940191475\n",
      "[-0.00175651 -0.001757   -0.00510269  0.00269347]\n",
      "0.37390436625835977 0.0007527469103177624\n",
      "[-0.00175651 -0.001757   -0.00510267  0.00269348]\n",
      "0.37390802915875326 0.0007527137113834423\n",
      "|   6   |  30   |   5   | -3.6978e-01 | 2.50e-04 | 4.51e+02 | 0.00e+00 |\n",
      "[-0.001681   -0.00165596 -0.00514409  0.00270555]\n",
      "0.3486663500292204 0.0006538008868186389\n",
      "[-0.00168101 -0.00165596 -0.00514409  0.00270555]\n",
      "0.34867489190116313 0.0006537962230652134\n",
      "[-0.001681   -0.00165598 -0.00514409  0.00270555]\n",
      "0.348675275955633 0.0006537562543166922\n",
      "[-0.001681   -0.00165596 -0.00514411  0.00270555]\n",
      "0.348668778082725 0.0006537983574186294\n",
      "[-0.001681   -0.00165596 -0.00514409  0.00270556]\n",
      "0.348657991980642 0.0006538194118514735\n",
      "|   7   |  35   |   7   | -3.6978e-01 | 8.26e-05 | 4.51e+02 | 0.00e+00 |\n",
      "[-0.00170979 -0.00170868 -0.0051479   0.00267708]\n",
      "0.3908767552139294 0.0005475194393735947\n",
      "[-0.00170981 -0.00170868 -0.0051479   0.00267708]\n",
      "0.39087797640905814 0.0005475803380584997\n",
      "[-0.00170979 -0.0017087  -0.0051479   0.00267708]\n",
      "0.39087810280536606 0.0005475655681432872\n",
      "[-0.00170979 -0.00170868 -0.00514791  0.00267708]\n",
      "0.3908779181826366 0.0005475288863709955\n",
      "[-0.00170979 -0.00170868 -0.0051479   0.0026771 ]\n",
      "0.390874743745236 0.0005474725134576399\n",
      "|   8   |  40   |   9   | -3.8680e-01 | 1.65e-04 | 1.32e+02 | 0.00e+00 |\n",
      "[-0.0016785  -0.00168673 -0.00523907  0.00260727]\n",
      "0.40046228423258023 0.0006262351252159013\n",
      "[-0.00167852 -0.00168673 -0.00523907  0.00260727]\n",
      "0.4004625394830469 0.0006262730381813143\n",
      "[-0.0016785  -0.00168675 -0.00523907  0.00260727]\n",
      "0.4004616173723381 0.0006262932480989234\n",
      "[-0.0016785  -0.00168673 -0.00523908  0.00260727]\n",
      "0.40046304778172076 0.0006262434455824383\n",
      "[-0.0016785  -0.00168673 -0.00523907  0.00260728]\n",
      "0.4004618390920953 0.0006261932576981817\n",
      "|   9   |  45   |  12   | -3.9624e-01 | 8.47e-04 | 5.08e+01 | 0.00e+00 |\n",
      "[-0.00164802 -0.00147436 -0.00562894  0.0023453 ]\n",
      "0.38095680279223804 0.0008531716011299479\n",
      "[-0.00164804 -0.00147436 -0.00562894  0.0023453 ]\n",
      "0.3809491974886203 0.0008532128625928812\n",
      "[-0.00164802 -0.00147437 -0.00562894  0.0023453 ]\n",
      "0.3809585124092095 0.0008531945548861809\n",
      "[-0.00164802 -0.00147436 -0.00562895  0.0023453 ]\n",
      "0.38095699012879786 0.0008531758599486955\n",
      "[-0.00164802 -0.00147436 -0.00562894  0.00234531]\n",
      "0.38095911215638567 0.000853146083205962\n",
      "|  10   |  50   |  16   | -3.9624e-01 | 2.46e-04 | 5.08e+01 | 0.00e+00 |\n",
      "[-0.00164311 -0.00160636 -0.00543936  0.00249492]\n",
      "0.4087979173888435 0.0007009594504574812\n",
      "[-0.00164312 -0.00160636 -0.00543936  0.00249492]\n",
      "0.4087955993050279 0.0007010104479497239\n",
      "[-0.00164311 -0.00160637 -0.00543936  0.00249492]\n",
      "0.4087985335851435 0.0007009933188555772\n",
      "[-0.00164311 -0.00160636 -0.00543938  0.00249492]\n",
      "0.40879824827994177 0.0007009666429864609\n",
      "[-0.00164311 -0.00160636 -0.00543936  0.00249494]\n",
      "0.4087986393164078 0.0007009227224093235\n",
      "|  11   |  55   |  18   | -4.0436e-01 | 4.92e-04 | 1.57e+02 | 0.00e+00 |\n",
      "[-0.00158939 -0.00158423 -0.00558992  0.00243474]\n",
      "0.4129339931866942 0.0006961929948992629\n",
      "[-0.00158941 -0.00158423 -0.00558992  0.00243474]\n",
      "0.41293295685604264 0.0006962336844834284\n",
      "[-0.00158939 -0.00158425 -0.00558992  0.00243474]\n",
      "0.4129332494709504 0.0006962246044912887\n",
      "[-0.00158939 -0.00158423 -0.00558993  0.00243474]\n",
      "0.4129340809750098 0.0006961995829441202\n",
      "[-0.00158939 -0.00158423 -0.00558992  0.00243476]\n",
      "0.4129351757739237 0.0006961609439701515\n",
      "|  12   |  60   |  22   | -4.0840e-01 | 1.21e-03 | 8.12e+01 | 0.00e+00 |\n",
      "[-0.00159733 -0.00163271 -0.00556989  0.00251816]\n",
      "0.41334729359735667 0.0006401189101639974\n",
      "[-0.00159734 -0.00163271 -0.00556989  0.00251816]\n",
      "0.41334832557702517 0.0006401598901187252\n",
      "[-0.00159733 -0.00163273 -0.00556989  0.00251816]\n",
      "0.4133461066981114 0.0006401711827964537\n",
      "[-0.00159733 -0.00163271 -0.0055699   0.00251816]\n",
      "0.4133476855600066 0.0006401270507717025\n",
      "[-0.00159733 -0.00163271 -0.00556989  0.00251818]\n",
      "0.41334745318381955 0.0006400780422567167\n",
      "|  13   |  65   |  26   | -4.0894e-01 | 1.21e-03 | 8.14e+01 | 0.00e+00 |\n",
      "[-0.0015807  -0.00160184 -0.0057158   0.00250002]\n",
      "0.4171648381666185 0.0006255452854433468\n",
      "[-0.00158072 -0.00160184 -0.0057158   0.00250002]\n",
      "0.4171653580658169 0.0006255778391666689\n",
      "[-0.0015807  -0.00160185 -0.0057158   0.00250002]\n",
      "0.41716439166837826 0.0006255767908253001\n",
      "[-0.0015807  -0.00160184 -0.00571581  0.00250002]\n",
      "0.41716512726106 0.0006255516992777513\n",
      "[-0.0015807  -0.00160184 -0.0057158   0.00250003]\n",
      "0.4171651114254878 0.0006255158170649425\n",
      "|  14   |  70   |  29   | -4.1271e-01 | 1.21e-03 | 3.45e+01 | 0.00e+00 |\n",
      "[-0.00155803 -0.00157403 -0.00607139  0.00254113]\n",
      "0.423475868352805 0.0007030892902145474\n",
      "[-0.00155805 -0.00157403 -0.00607139  0.00254113]\n",
      "0.42347662196911795 0.0007030680059514318\n",
      "[-0.00155803 -0.00157405 -0.00607139  0.00254113]\n",
      "0.42347627917589337 0.0007030649798804398\n",
      "[-0.00155803 -0.00157403 -0.0060714   0.00254113]\n",
      "0.4234761796448588 0.0007030873313937532\n",
      "[-0.00155803 -0.00157403 -0.00607139  0.00254114]\n",
      "0.4234757583911281 0.0007031059142596216\n",
      "|  15   |  75   |  33   | -4.1889e-01 | 2.52e-03 | 5.38e+01 | 0.00e+00 |\n",
      "[-0.00152342 -0.00153778 -0.00691294  0.00267712]\n",
      "0.43478387974530314 0.0007659612016011478\n",
      "[-0.00152343 -0.00153778 -0.00691294  0.00267712]\n",
      "0.4347853623376012 0.0007659480279132868\n",
      "[-0.00152342 -0.00153779 -0.00691294  0.00267712]\n",
      "0.43478533670816855 0.0007659477808545704\n",
      "[-0.00152342 -0.00153778 -0.00691295  0.00267712]\n",
      "0.43478432207308043 0.0007659602405844834\n",
      "[-0.00152342 -0.00153778 -0.00691294  0.00267713]\n",
      "0.4347829401948858 0.0007659707819316288\n",
      "|  16   |  80   |  37   | -4.3009e-01 | 5.98e-03 | 1.02e+02 | 0.00e+00 |\n",
      "[-0.00143878 -0.00144996 -0.00916613  0.00301654]\n",
      "0.461767475382694 0.0009630358119511473\n",
      "[-0.0014388  -0.00144996 -0.00916613  0.00301654]\n",
      "0.46176918587323484 0.0009630172208120506\n",
      "[-0.00143878 -0.00144997 -0.00916613  0.00301654]\n",
      "0.46176897152608676 0.0009630400312345089\n",
      "[-0.00143878 -0.00144996 -0.00916615  0.00301654]\n",
      "0.46176797079114673 0.0009630354663420761\n",
      "[-0.00143878 -0.00144996 -0.00916613  0.00301655]\n",
      "0.46176625854316466 0.0009630412573965556\n",
      "|  17   |  85   |  41   | -4.5677e-01 | 1.60e-02 | 1.18e+02 | 0.00e+00 |\n",
      "[-0.00134739 -0.00135243 -0.0114507   0.00334053]\n",
      "0.49633320984061213 0.0010557589751915687\n",
      "[-0.0013474  -0.00135243 -0.0114507   0.00334053]\n",
      "0.4963333431069294 0.0010557465956576421\n",
      "[-0.00134739 -0.00135245 -0.0114507   0.00334053]\n",
      "0.49633311952121867 0.0010557740279426963\n",
      "[-0.00134739 -0.00135243 -0.01145072  0.00334053]\n",
      "0.49633343793495494 0.0010557592982480797\n",
      "[-0.00134739 -0.00135243 -0.0114507   0.00334054]\n",
      "0.4963333856678431 0.0010557580939344097\n",
      "|  18   |  90   |  45   | -4.9112e-01 | 1.62e-02 | 1.54e+01 | 0.00e+00 |\n",
      "[-0.00121204 -0.00121478 -0.0146763   0.00381843]\n",
      "0.5043510910390335 0.0006573515888646014\n",
      "[-0.00121205 -0.00121478 -0.0146763   0.00381843]\n",
      "0.5043541863388044 0.0006573908816923768\n",
      "[-0.00121204 -0.0012148  -0.0146763   0.00381843]\n",
      "0.5043541357204634 0.0006573735570354376\n",
      "[-0.00121204 -0.00121478 -0.01467632  0.00381843]\n",
      "0.5043512852584215 0.0006573544641083773\n",
      "[-0.00121204 -0.00121478 -0.0146763   0.00381844]\n",
      "0.5043490497884182 0.000657327544988326\n",
      "|  19   |  95   |  49   | -4.9935e-01 | 1.62e-02 | 2.07e+02 | 0.00e+00 |\n",
      "[-0.00130905 -0.00130806 -0.01282985  0.00357321]\n",
      "0.5172121147595216 0.0010050452296908056\n",
      "[-0.00130907 -0.00130806 -0.01282985  0.00357321]\n",
      "0.5172118976779657 0.0010050466478499977\n",
      "[-0.00130905 -0.00130807 -0.01282985  0.00357321]\n",
      "0.5172119424688848 0.0010050710706640323\n",
      "[-0.00130905 -0.00130806 -0.01282986  0.00357321]\n",
      "0.5172121844671842 0.0010050466490541781\n",
      "[-0.00130905 -0.00130806 -0.01282985  0.00357323]\n",
      "0.5172125684596902 0.001005034614011192\n",
      "|  20   |  100  |  53   | -5.1202e-01 | 1.62e-02 | 3.09e+01 | 0.00e+00 |\n",
      "[-0.00129899 -0.00129716 -0.01338922  0.00368524]\n",
      "0.5215776925373427 0.0009454018933590019\n",
      "[-0.00129901 -0.00129716 -0.01338922  0.00368524]\n",
      "0.5215780019221943 0.0009454115637524881\n",
      "[-0.00129899 -0.00129717 -0.01338922  0.00368524]\n",
      "0.5215780757967715 0.0009454330648546093\n",
      "[-0.00129899 -0.00129716 -0.01338923  0.00368524]\n",
      "0.5215777520007416 0.0009454039365458008\n",
      "[-0.00129899 -0.00129716 -0.01338922  0.00368526]\n",
      "0.521577747577602 0.000945385858950737\n",
      "|  21   |  105  |  57   | -5.1645e-01 | 1.62e-02 | 2.54e+01 | 0.00e+00 |\n",
      "[-0.00131366 -0.00131061 -0.01372878  0.00379874]\n",
      "0.5232298608640868 0.000903660219141866\n",
      "[-0.00131368 -0.00131061 -0.01372878  0.00379874]\n",
      "0.5232305421344485 0.0009036742652959375\n",
      "[-0.00131366 -0.00131062 -0.01372878  0.00379874]\n",
      "0.5232306540484714 0.0009036940881049549\n",
      "[-0.00131366 -0.00131061 -0.01372879  0.00379874]\n",
      "0.5232299186478169 0.000903662585297498\n",
      "[-0.00131366 -0.00131061 -0.01372878  0.00379876]\n",
      "0.5232296170884649 0.0009036413301444549\n",
      "|  22   |  110  |  61   | -5.1821e-01 | 1.62e-02 | 5.27e+01 | 0.00e+00 |\n",
      "[-0.0013625  -0.00135747 -0.01399915  0.00397018]\n",
      "0.5258457814853568 0.000880448131666298\n",
      "[-0.00136252 -0.00135747 -0.01399915  0.00397018]\n",
      "0.5258465729989793 0.0008804640214403168\n",
      "[-0.0013625  -0.00135748 -0.01399915  0.00397018]\n",
      "0.5258467459164948 0.0008804833452972622\n",
      "[-0.0013625  -0.00135747 -0.01399917  0.00397018]\n",
      "0.5258458188137253 0.0008804506391329331\n",
      "[-0.0013625  -0.00135747 -0.01399915  0.00397019]\n",
      "0.5258454296025215 0.0008804278859254721\n",
      "|  23   |  115  |  65   | -5.2101e-01 | 1.62e-02 | 6.41e+01 | 0.00e+00 |\n",
      "[-0.00168567 -0.00167229 -0.01505385  0.00493648]\n",
      "0.5393935461566325 0.0008289767862076291\n",
      "[-0.00168569 -0.00167229 -0.01505385  0.00493648]\n",
      "0.5393942223077078 0.0008290150159721094\n",
      "[-0.00168567 -0.0016723  -0.01505385  0.00493648]\n",
      "0.539394574655003 0.0008289976616379187\n",
      "[-0.00168567 -0.00167229 -0.01505387  0.00493648]\n",
      "0.5393934345992379 0.0008289797391855948\n",
      "[-0.00168567 -0.00167229 -0.01505385  0.0049365 ]\n",
      "0.539393269289271 0.0008289527538784278\n",
      "|  24   |  120  |  69   | -5.3562e-01 | 1.62e-02 | 6.94e+01 | 0.00e+00 |\n",
      "[-0.00262031 -0.00259244 -0.0172131   0.00754629]\n",
      "0.5863472030194299 0.0008516488820512452\n",
      "[-0.00262033 -0.00259244 -0.0172131   0.00754629]\n",
      "0.586347228125645 0.0008516340815381673\n",
      "[-0.00262031 -0.00259245 -0.0172131   0.00754629]\n",
      "0.5863474720039809 0.0008516214079249577\n",
      "[-0.00262031 -0.00259244 -0.01721312  0.00754629]\n",
      "0.5863468853634886 0.0008516447968740089\n",
      "[-0.00262031 -0.00259244 -0.0172131   0.00754631]\n",
      "0.5863476599678404 0.0008516694611225428\n",
      "|  25   |  125  |  73   | -5.8452e-01 | 2.54e-02 | 2.91e+01 | 0.00e+00 |\n",
      "[-0.00373979 -0.0036941  -0.01977432  0.01067575]\n",
      "0.5834576168688899 0.0010900092838930667\n",
      "[-0.0037398  -0.0036941  -0.01977432  0.01067575]\n",
      "0.583459266535909 0.0010900387777484294\n",
      "[-0.00373979 -0.00369411 -0.01977432  0.01067575]\n",
      "0.5834597589023318 0.0010900086027920597\n",
      "[-0.00373979 -0.0036941  -0.01977433  0.01067575]\n",
      "0.5834581836985132 0.0010900110790121747\n",
      "[-0.00373979 -0.0036941  -0.01977432  0.01067576]\n",
      "0.5834552389776171 0.0010899959457961272\n",
      "|  26   |  130  |  77   | -5.8452e-01 | 4.07e-03 | 2.91e+01 | 0.00e+00 |\n",
      "[-0.00299425 -0.00296292 -0.01784707  0.00853908]\n",
      "0.6062118010605303 0.000989774944626699\n",
      "[-0.00299427 -0.00296292 -0.01784707  0.00853908]\n"
     ]
    }
   ],
   "source": [
    "sol1 = minimize(\n",
    "            codes.optimization.loss,\n",
    "            x,\n",
    "            args=opt_args,\n",
    "            method=\"trust-constr\",\n",
    "            # jac=codes.optimization.jacobian,\n",
    "            options={\n",
    "                \"verbose\":2,\n",
    "                \"initial_tr_radius\":1e-3,\n",
    "                \"gtol\":1e0\n",
    "            },\n",
    "        )"
   ]
  },
  {
   "cell_type": "raw",
   "id": "4917adfd-1943-4965-808b-bb405e13ec51",
   "metadata": {
    "tags": []
   },
   "source": [
    "from dask.distributed import Client, progress\n",
    "from dask import delayed\n",
    "client = Client(n_workers=5, threads_per_worker=1)"
   ]
  },
  {
   "cell_type": "code",
   "execution_count": 161,
   "id": "2e87554a-1aab-4b8f-a3c6-cc8c247bbe03",
   "metadata": {},
   "outputs": [],
   "source": [
    "objective = codes.optimization.loss\n",
    "\n"
   ]
  },
  {
   "cell_type": "code",
   "execution_count": 162,
   "id": "221b928c-9dd4-4e70-8972-e5f0b40eb597",
   "metadata": {
    "collapsed": true,
    "jupyter": {
     "outputs_hidden": true
    },
    "tags": []
   },
   "outputs": [
    {
     "name": "stdout",
     "output_type": "stream",
     "text": [
      "VoronoiMesh version 0.1\n",
      "DiscretePoisson version 0.3\n",
      "Shape version: 0.1\n",
      "SystEquations version: 0.3\n",
      "Solver version 0.1\n",
      "VoronoiMesh version 0.1\n",
      "DiscretePoisson version 0.3\n",
      "Shape version: 0.1\n",
      "SystEquations version: 0.3\n",
      "Solver version 0.1\n",
      "VoronoiMesh version 0.1\n",
      "DiscretePoisson version 0.3\n",
      "VoronoiMesh version 0.1\n",
      "DiscretePoisson version 0.3\n",
      "Shape version: 0.1\n",
      "SystEquations version: 0.3\n",
      "Solver version 0.1\n",
      "Shape version: 0.1\n",
      "SystEquations version: 0.3\n",
      "Solver version 0.1\n",
      "VoronoiMesh version 0.1\n",
      "DiscretePoisson version 0.3\n",
      "Shape version: 0.1\n",
      "SystEquations version: 0.3\n",
      "Solver version 0.1\n",
      "CPU times: user 7.66 s, sys: 1.23 s, total: 8.88 s\n",
      "Wall time: 18 s\n"
     ]
    },
    {
     "data": {
      "text/plain": [
       "array([ 2.23078065e-06,  2.23078093e-06, -4.63471130e-08,  3.44680335e-06])"
      ]
     },
     "execution_count": 162,
     "metadata": {},
     "output_type": "execute_result"
    }
   ],
   "source": [
    "%%time\n",
    "from optimization import jacobian\n",
    "jacobian(x, *opt_args)"
   ]
  },
  {
   "cell_type": "code",
   "execution_count": 163,
   "id": "3148d08b-963a-4c4c-93a2-a87a843c571f",
   "metadata": {},
   "outputs": [
    {
     "name": "stdout",
     "output_type": "stream",
     "text": [
      "CPU times: user 32 s, sys: 9.75 s, total: 41.8 s\n",
      "Wall time: 38.9 s\n"
     ]
    },
    {
     "data": {
      "text/plain": [
       "array([ 2.23078065e-06,  2.23078093e-06, -4.63471128e-08,  3.44680335e-06])"
      ]
     },
     "execution_count": 163,
     "metadata": {},
     "output_type": "execute_result"
    }
   ],
   "source": [
    "%%time\n",
    "\n",
    "gradient = lambda x: approx_fprime(x, codes.optimization.loss, step_size, *opt_args)\n",
    "gradient(x)"
   ]
  },
  {
   "cell_type": "markdown",
   "id": "753894e7-c171-4f8c-9e1d-166618f6af66",
   "metadata": {},
   "source": [
    "### Gradient descent"
   ]
  },
  {
   "cell_type": "code",
   "execution_count": 25,
   "id": "e218d9a9-016b-410a-b713-173a4f639ce5",
   "metadata": {
    "jupyter": {
     "source_hidden": true
    },
    "tags": []
   },
   "outputs": [],
   "source": [
    "from scipy.optimize import approx_fprime"
   ]
  },
  {
   "cell_type": "code",
   "execution_count": 29,
   "id": "82481a2a-6ce4-49cd-9954-6c70370aa26c",
   "metadata": {
    "jupyter": {
     "source_hidden": true
    },
    "tags": []
   },
   "outputs": [],
   "source": [
    "def ArmijoLineSearch(f, fargs, xk, pk, gfk, phi0, alpha0, rho=0.5, c1=1e-4):\n",
    "    \"\"\"\n",
    "    Parameters\n",
    "    --------------------\n",
    "    f : callable\n",
    "        Function to be minimized.\n",
    "    xk : array\n",
    "        Current point.\n",
    "    pk : array\n",
    "        Search direction.\n",
    "    gfk : array\n",
    "        Gradient of `f` at point `xk`.\n",
    "    phi0 : float\n",
    "        Value of `f` at point `xk`.\n",
    "    alpha0 : scalar\n",
    "        Value of `alpha` at the start of the optimization.\n",
    "    rho : float, optional\n",
    "        Value of alpha shrinkage factor.\n",
    "    c1 : float, optional\n",
    "        Value to control stopping criterion.\n",
    "    \n",
    "    Returns\n",
    "    --------------------\n",
    "    alpha : scalar\n",
    "        Value of `alpha` at the end of the optimization.\n",
    "    phi : float\n",
    "        Value of `f` at the new point `x_{k+1}`.\n",
    "    \"\"\"\n",
    "    derphi0 = np.dot(gfk, pk)\n",
    "    phi_a0 = f(xk + alpha0*pk, *fargs)\n",
    "    \n",
    "    while not phi_a0 <= phi0 + c1*alpha0*derphi0:\n",
    "        alpha0 = alpha0 * rho\n",
    "        phi_a0 = f(xk + alpha0*pk, *fargs)\n",
    "        \n",
    "        print(phi_a0)\n",
    "    \n",
    "    return alpha0, phi_a0"
   ]
  },
  {
   "cell_type": "code",
   "execution_count": 30,
   "id": "93fc33c2-5b15-4896-95b7-9beb792e3f41",
   "metadata": {
    "jupyter": {
     "source_hidden": true
    },
    "tags": []
   },
   "outputs": [],
   "source": [
    "def gradient_descent(gradient, initial, learn_rate=0.5, \n",
    "                     beta1=0.9, beta2=0.999,\n",
    "                     tolerance=1e-6, epsilon = 1e-8, n_iter=50):\n",
    "    vector = initial\n",
    "    diff, A, F = 0, 0, 0\n",
    "    \n",
    "    diff_cost = []\n",
    "    \n",
    "    \n",
    "    g = gradient(vector)\n",
    "    cost = codes.optimization.loss(vector, *opt_args)\n",
    "    \n",
    "    for i in range(n_iter):\n",
    "        \n",
    "        \n",
    "        print(g)\n",
    "        # https://machinelearningmastery.com/adam-optimization-from-scratch/\n",
    "        # Adam's gradient\n",
    "        # A = beta1 * A + (1 - beta1) * (g**2)\n",
    "        # F = beta2 * F + (1 - beta2) * (g)\n",
    "        # Ahat = A / (1 - beta1**(i+1))\n",
    "        # Fhat = F / (1 - beta2**(i+1))\n",
    "        # # learn_rate *= (np.sqrt(1 - beta1**(i+1)) / (1 - beta2**(i+1)))\n",
    "        # vector -= (learn_rate * Fhat)/(np.sqrt(Ahat) + epsilon)  # epsilon for better conditioning\n",
    "        \n",
    "        previous_cost = cost\n",
    "        \n",
    "        learn_rate, cost = ArmijoLineSearch(\n",
    "            codes.optimization.loss,\n",
    "            opt_args,\n",
    "            vector,\n",
    "            -g,\n",
    "            g,\n",
    "            cost,\n",
    "            learn_rate          \n",
    "        )\n",
    "        \n",
    "        # Vanilla gradient descent\n",
    "        diff = -learn_rate * g\n",
    "        \n",
    "        # Momentum based learning\n",
    "        # diff = decay_rate * diff - learn_rate * g\n",
    "        \n",
    "        # next step in the iteration\n",
    "        vector += diff\n",
    "        \n",
    "        g = gradient(vector)\n",
    "        \n",
    "        print(vector)\n",
    "        \n",
    "        # if np.all(np.abs(diff) <= tolerance):\n",
    "        #     break\n",
    "        \n",
    "        \n",
    "        \n",
    "        print(cost)\n",
    "        \n",
    "        diff_cost.append(np.abs(1 - previous_cost/cost))\n",
    "        \n",
    "        \n",
    "        if i > 5:\n",
    "            if np.all(np.array(diff_cost)[i-5:-1] < 1e-1):\n",
    "                break\n",
    "    \n",
    "    return i, diff_cost, cost, vector\n",
    "\n"
   ]
  },
  {
   "cell_type": "code",
   "execution_count": null,
   "id": "dbea691d-2dd3-4f76-b2f3-054903cb48c0",
   "metadata": {
    "jupyter": {
     "source_hidden": true
    },
    "tags": []
   },
   "outputs": [],
   "source": [
    "import multiprocessing as mp\n",
    "# Step 1: Init multiprocessing.Pool()\n",
    "from pathos.multiprocessing import ProcessingPool as Pool\n",
    "\n",
    "pool = Pool(mp.cpu_count())\n",
    "\n",
    "# # Step 2: `pool.apply` the `howmany_within_range()`\n",
    "# results = [pool.apply(howmany_within_range, args=(row, 4, 8)) for row in data]\n"
   ]
  },
  {
   "cell_type": "code",
   "execution_count": 384,
   "id": "b187f5e3-612a-429b-83d7-aa0c5a41f64f",
   "metadata": {
    "collapsed": true,
    "jupyter": {
     "outputs_hidden": true,
     "source_hidden": true
    },
    "tags": []
   },
   "outputs": [
    {
     "ename": "TypeError",
     "evalue": "call.work() missing 1 required positional argument: 'opt_args'",
     "output_type": "error",
     "traceback": [
      "\u001b[0;31m---------------------------------------------------------------------------\u001b[0m",
      "\u001b[0;31mRemoteTraceback\u001b[0m                           Traceback (most recent call last)",
      "\u001b[0;31mRemoteTraceback\u001b[0m: \n\"\"\"\nTraceback (most recent call last):\n  File \"/opt/conda/lib/python3.10/site-packages/multiprocess/pool.py\", line 125, in worker\n    result = (True, func(*args, **kwds))\nTypeError: call.work() missing 1 required positional argument: 'opt_args'\n\"\"\"",
      "\nThe above exception was the direct cause of the following exception:\n",
      "\u001b[0;31mTypeError\u001b[0m                                 Traceback (most recent call last)",
      "File \u001b[0;32m<timed eval>:1\u001b[0m, in \u001b[0;36m<module>\u001b[0;34m\u001b[0m\n",
      "Input \u001b[0;32mIn [383]\u001b[0m, in \u001b[0;36mfinite_difference_jacobian\u001b[0;34m(fn, x0, args, step_size)\u001b[0m\n\u001b[1;32m      9\u001b[0m y0 \u001b[38;5;241m+\u001b[39m\u001b[38;5;241m=\u001b[39m np\u001b[38;5;241m.\u001b[39meye(\u001b[38;5;28mlen\u001b[39m(x0)) \u001b[38;5;241m*\u001b[39m step_size\n\u001b[1;32m     11\u001b[0m new_cost \u001b[38;5;241m=\u001b[39m pool\u001b[38;5;241m.\u001b[39mapipe(f\u001b[38;5;241m.\u001b[39mwork, f, y0)\n\u001b[0;32m---> 13\u001b[0m difference \u001b[38;5;241m=\u001b[39m (\u001b[43mnew_cost\u001b[49m\u001b[38;5;241;43m.\u001b[39;49m\u001b[43mget\u001b[49m\u001b[43m(\u001b[49m\u001b[43m)\u001b[49m \u001b[38;5;241m-\u001b[39m initial_cost) \u001b[38;5;241m/\u001b[39m step_size\n\u001b[1;32m     15\u001b[0m \u001b[38;5;28;01mreturn\u001b[39;00m np\u001b[38;5;241m.\u001b[39mstack(difference)\u001b[38;5;241m.\u001b[39mT\n",
      "File \u001b[0;32m/opt/conda/lib/python3.10/site-packages/multiprocess/pool.py:771\u001b[0m, in \u001b[0;36mApplyResult.get\u001b[0;34m(self, timeout)\u001b[0m\n\u001b[1;32m    769\u001b[0m     \u001b[38;5;28;01mreturn\u001b[39;00m \u001b[38;5;28mself\u001b[39m\u001b[38;5;241m.\u001b[39m_value\n\u001b[1;32m    770\u001b[0m \u001b[38;5;28;01melse\u001b[39;00m:\n\u001b[0;32m--> 771\u001b[0m     \u001b[38;5;28;01mraise\u001b[39;00m \u001b[38;5;28mself\u001b[39m\u001b[38;5;241m.\u001b[39m_value\n",
      "\u001b[0;31mTypeError\u001b[0m: call.work() missing 1 required positional argument: 'opt_args'"
     ]
    }
   ],
   "source": [
    "%%time\n",
    "finite_difference_jacobian(codes.optimization.loss, x, opt_args, 1e-3)"
   ]
  },
  {
   "cell_type": "raw",
   "id": "b6a5de6e-f4c8-46c8-9986-9c7aca067f4b",
   "metadata": {
    "tags": []
   },
   "source": [
    "opt_args = tuple([pair, params, kwant_args, 0.0])\n",
    "gradient = lambda x: approx_fprime(x, codes.optimization.loss, 1e-3, *opt_args)\n",
    "\n",
    "niter, diff_cost, cost, sol = gradient_descent(\n",
    "    gradient, \n",
    "    x, \n",
    "    learn_rate=0.5, \n",
    "    beta1=0.9, beta2=0.999,\n",
    ")"
   ]
  },
  {
   "cell_type": "code",
   "execution_count": 68,
   "id": "a29e6f55-f900-471b-9de0-a41a6d009b36",
   "metadata": {},
   "outputs": [],
   "source": [
    "optimiser_args = system.optimiser_arguments()\n",
    "params.update(parameters.voltage_dict(sol1.x))\n",
    "\n",
    "linear_ham, numerical_hamiltonian = hamiltonian(system.trijunction, \n",
    "                                    optimiser_args['linear_terms'], \n",
    "                                    optimiser_args['kwant_params_fn'], \n",
    "                                    **params)"
   ]
  },
  {
   "cell_type": "raw",
   "id": "9f64bfa0-5b92-49b3-907c-42f0c78c20e1",
   "metadata": {},
   "source": [
    "ham = numerical_hamiltonian\n",
    "loss = 0\n",
    "for index in np.hstack(list(dep_index.values())):\n",
    "    # print(ham[4*index, 4*index], params['mus_nw'][0])\n",
    "    diff = ham[4*index, 4*index] - params['mus_nw'][0]\n",
    "    loss += diff if diff < 0 else 0\n",
    "\n",
    "for index in np.hstack(list(acc_index.values())):\n",
    "    print(ham[4*index, 4*index], params['mus_nw'][0])\n",
    "    diff = ham[4*index, 4*index] - params['mus_nw'][0]\n",
    "    loss += diff if diff > 0 else 0"
   ]
  },
  {
   "cell_type": "code",
   "execution_count": 69,
   "id": "b4661fa3-6828-4612-b64c-fe5a72610f20",
   "metadata": {},
   "outputs": [],
   "source": [
    "energies, wave_functions = eigsh(\n",
    "                numerical_hamiltonian.tocsc(),\n",
    "                6,\n",
    "                sigma=0,\n",
    "                return_eigenvectors=True,\n",
    ")"
   ]
  },
  {
   "cell_type": "code",
   "execution_count": 70,
   "id": "ec882ba2-568c-452f-b318-7a2e2d686738",
   "metadata": {},
   "outputs": [
    {
     "data": {
      "image/png": "[encoded data removed]",
      "text/plain": [
       "<Figure size 1000x500 with 6 Axes>"
      ]
     },
     "metadata": {},
     "output_type": "display_data"
    }
   ],
   "source": [
    "fig, ax = plt.subplots(1, 6, figsize = (10, 5), sharey= True)\n",
    "\n",
    "density = kwant.operator.Density(system.trijunction, np.eye(4))\n",
    "for i, vec in enumerate(wave_functions.T):\n",
    "    kwant.plotter.density(system.trijunction, density(vec), ax = ax[i]);"
   ]
  },
  {
   "cell_type": "code",
   "execution_count": 130,
   "id": "6d1d5b9d-ea2f-466f-972a-f6ba75fda1cc",
   "metadata": {},
   "outputs": [
    {
     "data": {
      "image/png": "[encoded data removed]",
      "text/plain": [
       "<Figure size 1000x500 with 1 Axes>"
      ]
     },
     "metadata": {},
     "output_type": "display_data"
    }
   ],
   "source": [
    "fig, ax = plt.subplots(1, 1, figsize = (10, 5), sharey= True)\n",
    "\n",
    "density = kwant.operator.Density(system.trijunction, np.eye(4))\n",
    "for i, vec in enumerate(wave_functions.T[[0]]):\n",
    "    kwant.plotter.density(system.trijunction, density(vec), ax = ax);"
   ]
  },
  {
   "cell_type": "code",
   "execution_count": 81,
   "id": "e713d342-9cb7-44dc-8dd4-556048e8db08",
   "metadata": {},
   "outputs": [],
   "source": [
    "transformed_hamiltonian = svd_transformation(\n",
    "    energies, wave_functions, system.mlwf[order_wavefunctions('left-right')]\n",
    ")\n",
    "\n",
    "desired = np.abs(transformed_hamiltonian[0, 1])\n",
    "undesired = np.linalg.norm(transformed_hamiltonian[2:])"
   ]
  },
  {
   "cell_type": "code",
   "execution_count": 82,
   "id": "a7e8a6cb-bc55-4343-9a43-b5e83e61660d",
   "metadata": {},
   "outputs": [
    {
     "data": {
      "text/plain": [
       "5.287730948954797e-06"
      ]
     },
     "execution_count": 82,
     "metadata": {},
     "output_type": "execute_result"
    }
   ],
   "source": [
    "desired"
   ]
  },
  {
   "cell_type": "code",
   "execution_count": 83,
   "id": "0c7775f0-f9f3-4d16-b09d-90a2b0f50127",
   "metadata": {},
   "outputs": [
    {
     "data": {
      "text/plain": [
       "5.796575760775433e-06"
      ]
     },
     "execution_count": 83,
     "metadata": {},
     "output_type": "execute_result"
    }
   ],
   "source": [
    "undesired"
   ]
  },
  {
   "cell_type": "code",
   "execution_count": 73,
   "id": "609742b6-90d2-4612-9cbd-a35fc6a41c6b",
   "metadata": {},
   "outputs": [
    {
     "data": {
      "text/plain": [
       "2.8103203688840985e-15"
      ]
     },
     "execution_count": 73,
     "metadata": {},
     "output_type": "execute_result"
    }
   ],
   "source": [
    "-desired**2 + undesired**2"
   ]
  },
  {
   "cell_type": "code",
   "execution_count": 83,
   "id": "b90ff7ac-588a-43fa-b8db-9986e523b049",
   "metadata": {},
   "outputs": [
    {
     "data": {
      "text/plain": [
       "(28778, 2)"
      ]
     },
     "execution_count": 83,
     "metadata": {},
     "output_type": "execute_result"
    }
   ],
   "source": [
    "kwant_sites"
   ]
  },
  {
   "cell_type": "code",
   "execution_count": 85,
   "id": "e0313a99-fb3c-4699-ac71-0b651576065c",
   "metadata": {},
   "outputs": [
    {
     "data": {
      "text/plain": [
       "(16895, 3)"
      ]
     },
     "execution_count": 85,
     "metadata": {},
     "output_type": "execute_result"
    }
   ],
   "source": [
    "system.site_coords.shape"
   ]
  },
  {
   "cell_type": "code",
   "execution_count": null,
   "id": "d297ef4f-ded8-4105-a116-9b9a9c5ddcc7",
   "metadata": {},
   "outputs": [],
   "source": []
  }
 ],
 "metadata": {
  "kernelspec": {
   "display_name": "Python 3 (ipykernel)",
   "language": "python",
   "name": "python3"
  },
  "language_info": {
   "codemirror_mode": {
    "name": "ipython",
    "version": 3
   },
   "file_extension": ".py",
   "mimetype": "text/x-python",
   "name": "python",
   "nbconvert_exporter": "python",
   "pygments_lexer": "ipython3",
   "version": "3.10.6"
  }
 },
 "nbformat": 4,
 "nbformat_minor": 5
}
