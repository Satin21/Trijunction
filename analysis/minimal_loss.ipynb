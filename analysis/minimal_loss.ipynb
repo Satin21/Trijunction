{
 "cells": [
  {
   "cell_type": "code",
   "execution_count": 1,
   "id": "318e0951-21c5-496e-aa93-587394a5c978",
   "metadata": {
    "tags": []
   },
   "outputs": [
    {
     "name": "stdout",
     "output_type": "stream",
     "text": [
      "VoronoiMesh version 0.1\n",
      "DiscretePoisson version 0.3\n",
      "Shape version: 0.1\n",
      "SystEquations version: 0.3\n",
      "Solver version 0.1\n"
     ]
    }
   ],
   "source": [
    "import tinyarray as ta\n",
    "import numpy as np\n",
    "import matplotlib.pyplot as plt\n",
    "import importlib\n",
    "import json\n",
    "import kwant\n",
    "\n",
    "from codes.gate_design import gate_coords\n",
    "from codes.constants import scale\n",
    "import codes.trijunction as trijunction\n",
    "import codes.optimization as optimization\n",
    "import codes.parameters as parameters\n",
    "from codes.tools import hamiltonian\n",
    "from codes.utils import eigsh, svd_transformation, dict_update, dep_acc_indexes\n",
    "from codes.utils import order_wavefunctions, ratio_Gaussian_curvature"
   ]
  },
  {
   "cell_type": "code",
   "execution_count": 2,
   "id": "c495bfa6-176b-47fc-8fae-aba23c7ef444",
   "metadata": {},
   "outputs": [],
   "source": [
    "from scipy.optimize import minimize, minimize_scalar"
   ]
  },
  {
   "cell_type": "code",
   "execution_count": 3,
   "id": "328a91b2-d8b2-4dfd-9ec7-48e577aa65ba",
   "metadata": {},
   "outputs": [],
   "source": [
    "with open('/home/tinkerer/trijunction-design/codes/config.json', 'r') as f:\n",
    "    config = json.load(f)\n",
    "\n",
    "change_config = [\n",
    "    {\"device\": {\"thickness\": {\"dielectric\": 1.0}}},\n",
    "    {\"gate\": {\"channel_width\": 13.0, 'angle': np.pi/6, 'gap': 2}},\n",
    "]\n",
    "\n",
    "for local_config in change_config:\n",
    "    config = dict_update(config, local_config)"
   ]
  },
  {
   "cell_type": "code",
   "execution_count": 4,
   "id": "bfb13a62-2ff2-4afa-a06b-ead696c58073",
   "metadata": {},
   "outputs": [
    {
     "name": "stdout",
     "output_type": "stream",
     "text": [
      "Finding closed voronoi cells\n",
      "Done selecting closed voronoi cells\n",
      "Calculating points distance\n",
      "Done\n",
      "Calculating ridges hypersurfaces\n",
      "Done\n",
      "Finding  hypervolume for closed voronoi cells\n",
      "Done finding hypervolume for closed voronoi cells\n",
      "Done calculating surface\n",
      "Done calculating distance\n",
      "Done calculating capacitance matrix\n"
     ]
    },
    {
     "name": "stderr",
     "output_type": "stream",
     "text": [
      "100%|██████████| 13/13 [00:32<00:00,  2.50s/it]\n"
     ]
    }
   ],
   "source": [
    "system = trijunction.Trijunction(config, optimize_phase_pairs=['left-right'])"
   ]
  },
  {
   "cell_type": "code",
   "execution_count": 5,
   "id": "e2984aac-e1f9-4d20-9fad-f339af8275ba",
   "metadata": {},
   "outputs": [],
   "source": [
    "pair = 'left-right'\n",
    "voltages = parameters.pair_voltages()"
   ]
  },
  {
   "cell_type": "code",
   "execution_count": 6,
   "id": "1cf8473d-9dd4-4de5-bca1-10a6e044ba42",
   "metadata": {},
   "outputs": [],
   "source": [
    "zero_potential = dict(\n",
    "    zip(\n",
    "        ta.array(system.site_coords[:, [0, 1]] - system.offset),\n",
    "        np.zeros(len(system.site_coords)),\n",
    "    )\n",
    ")"
   ]
  },
  {
   "cell_type": "code",
   "execution_count": 7,
   "id": "aece4f2d-f679-4354-aefe-0eeb0df3a2b1",
   "metadata": {},
   "outputs": [],
   "source": [
    "kwant_args = list(system.optimiser_arguments().values())\n",
    "kwant_args[-1] = kwant_args[-1][order_wavefunctions(pair)]"
   ]
  },
  {
   "cell_type": "code",
   "execution_count": 8,
   "id": "e94100a9-6108-4314-8cf7-7996b0ef49d5",
   "metadata": {},
   "outputs": [],
   "source": [
    "x = [-1.0e-3, -1.0e-3, -5.0e-3, 3e-3]\n",
    "voltages = parameters.voltage_dict(x)"
   ]
  },
  {
   "cell_type": "code",
   "execution_count": 9,
   "id": "6f4fea80-47b2-4cae-8d44-0881fe9f7eec",
   "metadata": {
    "tags": []
   },
   "outputs": [],
   "source": [
    "params = parameters.junction_parameters()\n",
    "params.update(voltages)\n",
    "params.update(potential=zero_potential)"
   ]
  },
  {
   "cell_type": "code",
   "execution_count": 10,
   "id": "0e40b643-3c6e-4ccd-b374-8ba5cad6ea95",
   "metadata": {},
   "outputs": [],
   "source": [
    "opt_args = tuple([pair, params, kwant_args, 0.0])"
   ]
  },
  {
   "cell_type": "code",
   "execution_count": 238,
   "id": "b99097d0-63a7-404a-8cb4-dcff6fa57ba9",
   "metadata": {},
   "outputs": [
    {
     "data": {
      "text/plain": [
       "<module 'codes.optimization' from '/home/tinkerer/trijunction-design/analysis/codes/optimization.py'>"
      ]
     },
     "execution_count": 238,
     "metadata": {},
     "output_type": "execute_result"
    }
   ],
   "source": [
    "import codes.optimization\n",
    "importlib.reload(codes.optimization)"
   ]
  },
  {
   "cell_type": "code",
   "execution_count": 201,
   "id": "1b41d1b2-9b56-49dc-8b50-f5a16940aec5",
   "metadata": {
    "tags": []
   },
   "outputs": [],
   "source": [
    "kwant_sites = np.array([site.pos for site in system.trijunction.sites])\n",
    "soft_threshold_indices = codes.utils.dep_acc_indexes(\n",
    "    dict(zip(system.gate_names, system.gates_vertex)),\n",
    "    system.nw_centers,\n",
    "               kwant_sites,\n",
    "               config['gate']['angle'],\n",
    "               scale,\n",
    "               10\n",
    "               )"
   ]
  },
  {
   "cell_type": "code",
   "execution_count": 202,
   "id": "4915fb46-854f-4212-b235-4fb4e5cb06bd",
   "metadata": {},
   "outputs": [
    {
     "data": {
      "image/png": "[encoded data removed]",
      "text/plain": [
       "<Figure size 640x480 with 1 Axes>"
      ]
     },
     "metadata": {},
     "output_type": "display_data"
    }
   ],
   "source": [
    "site_coords = system.grid_points[system.site_indices]\n",
    "for index in np.hstack(list(soft_threshold_indices.values())):\n",
    "    point = kwant_sites[index]/scale\n",
    "    plt.scatter(point[0], point[1], c='b')\n",
    "\n",
    "for key, value in system.poisson_system.regions.voltage.tag_points.items():\n",
    "    if not key.startswith(('global', 'dirichlet')):\n",
    "        coords = system.grid_points[value]\n",
    "        plt.scatter(coords[:, 0], coords[:, 1], s = 0.1)"
   ]
  },
  {
   "cell_type": "code",
   "execution_count": 204,
   "id": "62a1c8b3-59e0-408f-a955-3b223ffede73",
   "metadata": {
    "tags": []
   },
   "outputs": [],
   "source": [
    "kwant_sites = np.array([site.pos for site in system.trijunction.sites])/scale\n",
    "params.update({'dep_acc_index': soft_threshold_indices})"
   ]
  },
  {
   "cell_type": "code",
   "execution_count": 12,
   "id": "b438ad84-2387-44b6-9253-a8ce38d79fd1",
   "metadata": {
    "tags": []
   },
   "outputs": [],
   "source": [
    "step_size = 1e-4\n",
    "opt_args = tuple((pair, params, kwant_args, 0.0, step_size))\n",
    "# optimization.loss(x, *opt_args)"
   ]
  },
  {
   "cell_type": "code",
   "execution_count": 78,
   "id": "4af95205-f61a-4c8c-8d08-b012052f7725",
   "metadata": {
    "collapsed": true,
    "jupyter": {
     "outputs_hidden": true
    },
    "tags": []
   },
   "outputs": [
    {
     "name": "stdout",
     "output_type": "stream",
     "text": [
      "[-0.001 -0.001 -0.005  0.003]\n",
      "0.18215093066514423 0.0010457858719185053\n",
      "[-0.00100001 -0.001      -0.005       0.003     ]\n",
      "0.18215840761036037 0.001045783097530719\n",
      "[-0.001      -0.00100001 -0.005       0.003     ]\n",
      "0.18215840761036295 0.001045774307988682\n",
      "[-0.001      -0.001      -0.00500001  0.003     ]\n",
      "0.18215182525535467 0.001045784715752685\n",
      "[-0.001      -0.001      -0.005       0.00300001]\n",
      "0.18214833773536593 0.0010457922068712012\n",
      "| niter |f evals|CG iter|  obj func   |tr radius |   opt    |  c viol  |\n",
      "|-------|-------|-------|-------------|----------|----------|----------|\n",
      "|   1   |   5   |   0   | -1.7478e-01 | 1.00e-03 | 5.04e+02 | 0.00e+00 |\n",
      "[-0.00168395 -0.00168475 -0.00508268  0.00276232]\n",
      "0.3247522534559975 0.0006490667788936922\n",
      "[-0.00168397 -0.00168475 -0.00508268  0.00276232]\n",
      "0.32476151473005255 0.0006490228077200424\n",
      "[-0.00168395 -0.00168477 -0.00508268  0.00276232]\n",
      "0.324761513363974 0.0006490611065385203\n",
      "[-0.00168395 -0.00168475 -0.0050827   0.00276232]\n",
      "0.3247548102473996 0.0006490643237170706\n",
      "[-0.00168395 -0.00168475 -0.00508268  0.00276234]\n",
      "0.3247434256456662 0.0006490853396857325\n",
      "|   2   |  10   |   1   | -3.2045e-01 | 1.00e-03 | 6.26e+02 | 0.00e+00 |\n",
      "[-0.00226441 -0.00226275 -0.0052426   0.00221149]\n",
      "0.0003826858750432518 0.0007071394495856107\n",
      "[-0.00226443 -0.00226275 -0.0052426   0.00221149]\n",
      "0.00038266336317570543 0.0007071391773389309\n",
      "[-0.00226441 -0.00226276 -0.0052426   0.00221149]\n",
      "0.00038266334159553093 0.0007071348575389072\n",
      "[-0.00226441 -0.00226275 -0.00524262  0.00221149]\n",
      "0.00038268403506457076 0.0007071393355226843\n",
      "[-0.00226441 -0.00226275 -0.0052426   0.00221151]\n",
      "0.0003827022002703963 0.0007071419171751136\n",
      "|   3   |  15   |   2   | -3.2045e-01 | 5.00e-04 | 6.26e+02 | 0.00e+00 |\n",
      "[-0.00197418 -0.00197375 -0.00516264  0.00248691]\n",
      "0.06986566250470254 0.0008529302207897191\n",
      "[-0.0019742  -0.00197375 -0.00516264  0.00248691]\n",
      "0.06985170700933228 0.0008529266208065983\n",
      "[-0.00197418 -0.00197376 -0.00516264  0.00248691]\n",
      "0.06985170162267797 0.0008529385098592678\n",
      "[-0.00197418 -0.00197375 -0.00516266  0.00248691]\n",
      "0.06986313627566126 0.0008529311975806652\n",
      "[-0.00197418 -0.00197375 -0.00516264  0.00248692]\n",
      "0.06987761131588954 0.0008529285345104768\n",
      "|   4   |  20   |   3   | -3.2045e-01 | 2.50e-04 | 6.26e+02 | 0.00e+00 |\n",
      "[-0.00182907 -0.00182925 -0.00512266  0.00262462]\n",
      "0.19265686666730658 0.0009007215082272417\n",
      "[-0.00182908 -0.00182925 -0.00512266  0.00262462]\n",
      "0.19264346056630524 0.0009007303756378606\n",
      "[-0.00182907 -0.00182926 -0.00512266  0.00262462]\n",
      "0.19264345396724228 0.0009007162269564149\n",
      "[-0.00182907 -0.00182925 -0.00512268  0.00262462]\n",
      "0.1926568544662748 0.0009007215779202423\n",
      "[-0.00182907 -0.00182925 -0.00512266  0.00262463]\n",
      "0.19266579536561287 0.0009007209876750097\n",
      "|   5   |  25   |   4   | -3.2045e-01 | 1.25e-04 | 6.26e+02 | 0.00e+00 |\n",
      "[-0.00175651 -0.001757   -0.00510267  0.00269347]\n",
      "0.37390401374525223 0.0007527415364384446\n",
      "[-0.00175652 -0.001757   -0.00510267  0.00269347]\n",
      "0.3738974198497323 0.0007527405385037683\n",
      "[-0.00175651 -0.00175702 -0.00510267  0.00269347]\n",
      "0.37389733812216186 0.0007528074940191475\n",
      "[-0.00175651 -0.001757   -0.00510269  0.00269347]\n",
      "0.37390436625835977 0.0007527469103177624\n",
      "[-0.00175651 -0.001757   -0.00510267  0.00269348]\n",
      "0.37390802915875326 0.0007527137113834423\n",
      "|   6   |  30   |   5   | -3.6978e-01 | 2.50e-04 | 4.51e+02 | 0.00e+00 |\n",
      "[-0.001681   -0.00165596 -0.00514409  0.00270555]\n",
      "0.3486663500292204 0.0006538008868186389\n",
      "[-0.00168101 -0.00165596 -0.00514409  0.00270555]\n",
      "0.34867489190116313 0.0006537962230652134\n",
      "[-0.001681   -0.00165598 -0.00514409  0.00270555]\n",
      "0.348675275955633 0.0006537562543166922\n",
      "[-0.001681   -0.00165596 -0.00514411  0.00270555]\n",
      "0.348668778082725 0.0006537983574186294\n",
      "[-0.001681   -0.00165596 -0.00514409  0.00270556]\n",
      "0.348657991980642 0.0006538194118514735\n",
      "|   7   |  35   |   7   | -3.6978e-01 | 8.26e-05 | 4.51e+02 | 0.00e+00 |\n",
      "[-0.00170979 -0.00170868 -0.0051479   0.00267708]\n",
      "0.3908767552139294 0.0005475194393735947\n",
      "[-0.00170981 -0.00170868 -0.0051479   0.00267708]\n",
      "0.39087797640905814 0.0005475803380584997\n",
      "[-0.00170979 -0.0017087  -0.0051479   0.00267708]\n",
      "0.39087810280536606 0.0005475655681432872\n",
      "[-0.00170979 -0.00170868 -0.00514791  0.00267708]\n",
      "0.3908779181826366 0.0005475288863709955\n",
      "[-0.00170979 -0.00170868 -0.0051479   0.0026771 ]\n",
      "0.390874743745236 0.0005474725134576399\n",
      "|   8   |  40   |   9   | -3.8680e-01 | 1.65e-04 | 1.32e+02 | 0.00e+00 |\n",
      "[-0.0016785  -0.00168673 -0.00523907  0.00260727]\n",
      "0.40046228423258023 0.0006262351252159013\n",
      "[-0.00167852 -0.00168673 -0.00523907  0.00260727]\n",
      "0.4004625394830469 0.0006262730381813143\n",
      "[-0.0016785  -0.00168675 -0.00523907  0.00260727]\n",
      "0.4004616173723381 0.0006262932480989234\n",
      "[-0.0016785  -0.00168673 -0.00523908  0.00260727]\n",
      "0.40046304778172076 0.0006262434455824383\n",
      "[-0.0016785  -0.00168673 -0.00523907  0.00260728]\n",
      "0.4004618390920953 0.0006261932576981817\n",
      "|   9   |  45   |  12   | -3.9624e-01 | 8.47e-04 | 5.08e+01 | 0.00e+00 |\n",
      "[-0.00164802 -0.00147436 -0.00562894  0.0023453 ]\n",
      "0.38095680279223804 0.0008531716011299479\n",
      "[-0.00164804 -0.00147436 -0.00562894  0.0023453 ]\n",
      "0.3809491974886203 0.0008532128625928812\n",
      "[-0.00164802 -0.00147437 -0.00562894  0.0023453 ]\n",
      "0.3809585124092095 0.0008531945548861809\n",
      "[-0.00164802 -0.00147436 -0.00562895  0.0023453 ]\n",
      "0.38095699012879786 0.0008531758599486955\n",
      "[-0.00164802 -0.00147436 -0.00562894  0.00234531]\n",
      "0.38095911215638567 0.000853146083205962\n",
      "|  10   |  50   |  16   | -3.9624e-01 | 2.46e-04 | 5.08e+01 | 0.00e+00 |\n",
      "[-0.00164311 -0.00160636 -0.00543936  0.00249492]\n",
      "0.4087979173888435 0.0007009594504574812\n",
      "[-0.00164312 -0.00160636 -0.00543936  0.00249492]\n",
      "0.4087955993050279 0.0007010104479497239\n",
      "[-0.00164311 -0.00160637 -0.00543936  0.00249492]\n",
      "0.4087985335851435 0.0007009933188555772\n",
      "[-0.00164311 -0.00160636 -0.00543938  0.00249492]\n",
      "0.40879824827994177 0.0007009666429864609\n",
      "[-0.00164311 -0.00160636 -0.00543936  0.00249494]\n",
      "0.4087986393164078 0.0007009227224093235\n",
      "|  11   |  55   |  18   | -4.0436e-01 | 4.92e-04 | 1.57e+02 | 0.00e+00 |\n",
      "[-0.00158939 -0.00158423 -0.00558992  0.00243474]\n",
      "0.4129339931866942 0.0006961929948992629\n",
      "[-0.00158941 -0.00158423 -0.00558992  0.00243474]\n",
      "0.41293295685604264 0.0006962336844834284\n",
      "[-0.00158939 -0.00158425 -0.00558992  0.00243474]\n",
      "0.4129332494709504 0.0006962246044912887\n",
      "[-0.00158939 -0.00158423 -0.00558993  0.00243474]\n",
      "0.4129340809750098 0.0006961995829441202\n",
      "[-0.00158939 -0.00158423 -0.00558992  0.00243476]\n",
      "0.4129351757739237 0.0006961609439701515\n",
      "|  12   |  60   |  22   | -4.0840e-01 | 1.21e-03 | 8.12e+01 | 0.00e+00 |\n",
      "[-0.00159733 -0.00163271 -0.00556989  0.00251816]\n",
      "0.41334729359735667 0.0006401189101639974\n",
      "[-0.00159734 -0.00163271 -0.00556989  0.00251816]\n",
      "0.41334832557702517 0.0006401598901187252\n",
      "[-0.00159733 -0.00163273 -0.00556989  0.00251816]\n",
      "0.4133461066981114 0.0006401711827964537\n",
      "[-0.00159733 -0.00163271 -0.0055699   0.00251816]\n",
      "0.4133476855600066 0.0006401270507717025\n",
      "[-0.00159733 -0.00163271 -0.00556989  0.00251818]\n",
      "0.41334745318381955 0.0006400780422567167\n",
      "|  13   |  65   |  26   | -4.0894e-01 | 1.21e-03 | 8.14e+01 | 0.00e+00 |\n",
      "[-0.0015807  -0.00160184 -0.0057158   0.00250002]\n",
      "0.4171648381666185 0.0006255452854433468\n",
      "[-0.00158072 -0.00160184 -0.0057158   0.00250002]\n",
      "0.4171653580658169 0.0006255778391666689\n",
      "[-0.0015807  -0.00160185 -0.0057158   0.00250002]\n",
      "0.41716439166837826 0.0006255767908253001\n",
      "[-0.0015807  -0.00160184 -0.00571581  0.00250002]\n",
      "0.41716512726106 0.0006255516992777513\n",
      "[-0.0015807  -0.00160184 -0.0057158   0.00250003]\n",
      "0.4171651114254878 0.0006255158170649425\n",
      "|  14   |  70   |  29   | -4.1271e-01 | 1.21e-03 | 3.45e+01 | 0.00e+00 |\n",
      "[-0.00155803 -0.00157403 -0.00607139  0.00254113]\n",
      "0.423475868352805 0.0007030892902145474\n",
      "[-0.00155805 -0.00157403 -0.00607139  0.00254113]\n",
      "0.42347662196911795 0.0007030680059514318\n",
      "[-0.00155803 -0.00157405 -0.00607139  0.00254113]\n",
      "0.42347627917589337 0.0007030649798804398\n",
      "[-0.00155803 -0.00157403 -0.0060714   0.00254113]\n",
      "0.4234761796448588 0.0007030873313937532\n",
      "[-0.00155803 -0.00157403 -0.00607139  0.00254114]\n",
      "0.4234757583911281 0.0007031059142596216\n",
      "|  15   |  75   |  33   | -4.1889e-01 | 2.52e-03 | 5.38e+01 | 0.00e+00 |\n",
      "[-0.00152342 -0.00153778 -0.00691294  0.00267712]\n",
      "0.43478387974530314 0.0007659612016011478\n",
      "[-0.00152343 -0.00153778 -0.00691294  0.00267712]\n",
      "0.4347853623376012 0.0007659480279132868\n",
      "[-0.00152342 -0.00153779 -0.00691294  0.00267712]\n",
      "0.43478533670816855 0.0007659477808545704\n",
      "[-0.00152342 -0.00153778 -0.00691295  0.00267712]\n",
      "0.43478432207308043 0.0007659602405844834\n",
      "[-0.00152342 -0.00153778 -0.00691294  0.00267713]\n",
      "0.4347829401948858 0.0007659707819316288\n",
      "|  16   |  80   |  37   | -4.3009e-01 | 5.98e-03 | 1.02e+02 | 0.00e+00 |\n",
      "[-0.00143878 -0.00144996 -0.00916613  0.00301654]\n",
      "0.461767475382694 0.0009630358119511473\n",
      "[-0.0014388  -0.00144996 -0.00916613  0.00301654]\n",
      "0.46176918587323484 0.0009630172208120506\n",
      "[-0.00143878 -0.00144997 -0.00916613  0.00301654]\n",
      "0.46176897152608676 0.0009630400312345089\n",
      "[-0.00143878 -0.00144996 -0.00916615  0.00301654]\n",
      "0.46176797079114673 0.0009630354663420761\n",
      "[-0.00143878 -0.00144996 -0.00916613  0.00301655]\n",
      "0.46176625854316466 0.0009630412573965556\n",
      "|  17   |  85   |  41   | -4.5677e-01 | 1.60e-02 | 1.18e+02 | 0.00e+00 |\n",
      "[-0.00134739 -0.00135243 -0.0114507   0.00334053]\n",
      "0.49633320984061213 0.0010557589751915687\n",
      "[-0.0013474  -0.00135243 -0.0114507   0.00334053]\n",
      "0.4963333431069294 0.0010557465956576421\n",
      "[-0.00134739 -0.00135245 -0.0114507   0.00334053]\n",
      "0.49633311952121867 0.0010557740279426963\n",
      "[-0.00134739 -0.00135243 -0.01145072  0.00334053]\n",
      "0.49633343793495494 0.0010557592982480797\n",
      "[-0.00134739 -0.00135243 -0.0114507   0.00334054]\n",
      "0.4963333856678431 0.0010557580939344097\n",
      "|  18   |  90   |  45   | -4.9112e-01 | 1.62e-02 | 1.54e+01 | 0.00e+00 |\n",
      "[-0.00121204 -0.00121478 -0.0146763   0.00381843]\n",
      "0.5043510910390335 0.0006573515888646014\n",
      "[-0.00121205 -0.00121478 -0.0146763   0.00381843]\n",
      "0.5043541863388044 0.0006573908816923768\n",
      "[-0.00121204 -0.0012148  -0.0146763   0.00381843]\n",
      "0.5043541357204634 0.0006573735570354376\n",
      "[-0.00121204 -0.00121478 -0.01467632  0.00381843]\n",
      "0.5043512852584215 0.0006573544641083773\n",
      "[-0.00121204 -0.00121478 -0.0146763   0.00381844]\n",
      "0.5043490497884182 0.000657327544988326\n",
      "|  19   |  95   |  49   | -4.9935e-01 | 1.62e-02 | 2.07e+02 | 0.00e+00 |\n",
      "[-0.00130905 -0.00130806 -0.01282985  0.00357321]\n",
      "0.5172121147595216 0.0010050452296908056\n",
      "[-0.00130907 -0.00130806 -0.01282985  0.00357321]\n",
      "0.5172118976779657 0.0010050466478499977\n",
      "[-0.00130905 -0.00130807 -0.01282985  0.00357321]\n",
      "0.5172119424688848 0.0010050710706640323\n",
      "[-0.00130905 -0.00130806 -0.01282986  0.00357321]\n",
      "0.5172121844671842 0.0010050466490541781\n",
      "[-0.00130905 -0.00130806 -0.01282985  0.00357323]\n",
      "0.5172125684596902 0.001005034614011192\n",
      "|  20   |  100  |  53   | -5.1202e-01 | 1.62e-02 | 3.09e+01 | 0.00e+00 |\n",
      "[-0.00129899 -0.00129716 -0.01338922  0.00368524]\n",
      "0.5215776925373427 0.0009454018933590019\n",
      "[-0.00129901 -0.00129716 -0.01338922  0.00368524]\n",
      "0.5215780019221943 0.0009454115637524881\n",
      "[-0.00129899 -0.00129717 -0.01338922  0.00368524]\n",
      "0.5215780757967715 0.0009454330648546093\n",
      "[-0.00129899 -0.00129716 -0.01338923  0.00368524]\n",
      "0.5215777520007416 0.0009454039365458008\n",
      "[-0.00129899 -0.00129716 -0.01338922  0.00368526]\n",
      "0.521577747577602 0.000945385858950737\n",
      "|  21   |  105  |  57   | -5.1645e-01 | 1.62e-02 | 2.54e+01 | 0.00e+00 |\n",
      "[-0.00131366 -0.00131061 -0.01372878  0.00379874]\n",
      "0.5232298608640868 0.000903660219141866\n",
      "[-0.00131368 -0.00131061 -0.01372878  0.00379874]\n",
      "0.5232305421344485 0.0009036742652959375\n",
      "[-0.00131366 -0.00131062 -0.01372878  0.00379874]\n",
      "0.5232306540484714 0.0009036940881049549\n",
      "[-0.00131366 -0.00131061 -0.01372879  0.00379874]\n",
      "0.5232299186478169 0.000903662585297498\n",
      "[-0.00131366 -0.00131061 -0.01372878  0.00379876]\n",
      "0.5232296170884649 0.0009036413301444549\n",
      "|  22   |  110  |  61   | -5.1821e-01 | 1.62e-02 | 5.27e+01 | 0.00e+00 |\n",
      "[-0.0013625  -0.00135747 -0.01399915  0.00397018]\n",
      "0.5258457814853568 0.000880448131666298\n",
      "[-0.00136252 -0.00135747 -0.01399915  0.00397018]\n",
      "0.5258465729989793 0.0008804640214403168\n",
      "[-0.0013625  -0.00135748 -0.01399915  0.00397018]\n",
      "0.5258467459164948 0.0008804833452972622\n",
      "[-0.0013625  -0.00135747 -0.01399917  0.00397018]\n",
      "0.5258458188137253 0.0008804506391329331\n",
      "[-0.0013625  -0.00135747 -0.01399915  0.00397019]\n",
      "0.5258454296025215 0.0008804278859254721\n",
      "|  23   |  115  |  65   | -5.2101e-01 | 1.62e-02 | 6.41e+01 | 0.00e+00 |\n",
      "[-0.00168567 -0.00167229 -0.01505385  0.00493648]\n",
      "0.5393935461566325 0.0008289767862076291\n",
      "[-0.00168569 -0.00167229 -0.01505385  0.00493648]\n",
      "0.5393942223077078 0.0008290150159721094\n",
      "[-0.00168567 -0.0016723  -0.01505385  0.00493648]\n",
      "0.539394574655003 0.0008289976616379187\n",
      "[-0.00168567 -0.00167229 -0.01505387  0.00493648]\n",
      "0.5393934345992379 0.0008289797391855948\n",
      "[-0.00168567 -0.00167229 -0.01505385  0.0049365 ]\n",
      "0.539393269289271 0.0008289527538784278\n",
      "|  24   |  120  |  69   | -5.3562e-01 | 1.62e-02 | 6.94e+01 | 0.00e+00 |\n",
      "[-0.00262031 -0.00259244 -0.0172131   0.00754629]\n",
      "0.5863472030194299 0.0008516488820512452\n",
      "[-0.00262033 -0.00259244 -0.0172131   0.00754629]\n",
      "0.586347228125645 0.0008516340815381673\n",
      "[-0.00262031 -0.00259245 -0.0172131   0.00754629]\n",
      "0.5863474720039809 0.0008516214079249577\n",
      "[-0.00262031 -0.00259244 -0.01721312  0.00754629]\n",
      "0.5863468853634886 0.0008516447968740089\n",
      "[-0.00262031 -0.00259244 -0.0172131   0.00754631]\n",
      "0.5863476599678404 0.0008516694611225428\n",
      "|  25   |  125  |  73   | -5.8452e-01 | 2.54e-02 | 2.91e+01 | 0.00e+00 |\n",
      "[-0.00373979 -0.0036941  -0.01977432  0.01067575]\n",
      "0.5834576168688899 0.0010900092838930667\n",
      "[-0.0037398  -0.0036941  -0.01977432  0.01067575]\n",
      "0.583459266535909 0.0010900387777484294\n",
      "[-0.00373979 -0.00369411 -0.01977432  0.01067575]\n",
      "0.5834597589023318 0.0010900086027920597\n",
      "[-0.00373979 -0.0036941  -0.01977433  0.01067575]\n",
      "0.5834581836985132 0.0010900110790121747\n",
      "[-0.00373979 -0.0036941  -0.01977432  0.01067576]\n",
      "0.5834552389776171 0.0010899959457961272\n",
      "|  26   |  130  |  77   | -5.8452e-01 | 4.07e-03 | 2.91e+01 | 0.00e+00 |\n",
      "[-0.00299425 -0.00296292 -0.01784707  0.00853908]\n",
      "0.6062118010605303 0.000989774944626699\n",
      "[-0.00299427 -0.00296292 -0.01784707  0.00853908]\n",
      "0.6062115941482579 0.0009897584190402208\n",
      "[-0.00299425 -0.00296294 -0.01784707  0.00853908]\n",
      "0.6062118740524169 0.0009897631030994305\n",
      "[-0.00299425 -0.00296292 -0.01784708  0.00853908]\n",
      "0.6062116639383299 0.000989772071197251\n",
      "[-0.00299425 -0.00296292 -0.01784707  0.0085391 ]\n",
      "0.6062121348274012 0.0009897892559760993\n",
      "|  27   |  135  |  81   | -6.0476e-01 | 9.03e-03 | 2.13e+01 | 0.00e+00 |\n",
      "[-0.00316721 -0.00313573 -0.0182311   0.00902073]\n",
      "0.610049061829202 0.0010572887230294679\n",
      "[-0.00316722 -0.00313573 -0.0182311   0.00902073]\n",
      "0.6100489866475636 0.0010572852256569992\n",
      "[-0.00316721 -0.00313575 -0.0182311   0.00902073]\n",
      "0.6100493028218599 0.0010572712209803734\n",
      "[-0.00316721 -0.00313573 -0.01823111  0.00902073]\n",
      "0.6100490586708727 0.0010572859588382209\n",
      "[-0.00316721 -0.00313573 -0.0182311   0.00902074]\n",
      "0.6100490579345531 0.001057300357536155\n",
      "|  28   |  140  |  85   | -6.0877e-01 | 9.03e-03 | 1.82e+01 | 0.00e+00 |\n",
      "[-0.00325718 -0.0032296  -0.01847994  0.00928485]\n",
      "0.6103944329070495 0.0010826017740418116\n",
      "[-0.00325719 -0.0032296  -0.01847994  0.00928485]\n",
      "0.6103945377376626 0.0010826030114573387\n",
      "[-0.00325718 -0.00322962 -0.01847994  0.00928485]\n",
      "0.6103948310086157 0.0010825855847903156\n",
      "[-0.00325718 -0.0032296  -0.01847996  0.00928485]\n",
      "0.6103945065140121 0.0010825996263592072\n",
      "[-0.00325718 -0.0032296  -0.01847994  0.00928487]\n",
      "0.6103941699596465 0.0010826103530556914\n",
      "|  29   |  145  |  89   | -6.0921e-01 | 9.03e-03 | 2.87e+01 | 0.00e+00 |\n",
      "[-0.00325083 -0.00322646 -0.01849026  0.00927376]\n",
      "0.6105002052595705 0.0010776295650311738\n",
      "[-0.00325084 -0.00322646 -0.01849026  0.00927376]\n",
      "0.6105003188435789 0.0010776301316023872\n",
      "[-0.00325083 -0.00322648 -0.01849026  0.00927376]\n",
      "0.6105005745528745 0.001077613324735718\n",
      "[-0.00325083 -0.00322646 -0.01849028  0.00927376]\n",
      "0.6105002675928067 0.0010776273821084556\n",
      "[-0.00325083 -0.00322646 -0.01849026  0.00927377]\n",
      "0.6104999683278214 0.001077638449634755\n",
      "|  30   |  150  |  92   | -6.0932e-01 | 9.03e-03 | 2.68e+01 | 0.00e+00 |\n",
      "[-0.00325114 -0.00324879 -0.01865435  0.00931701]\n",
      "0.6108489608338908 0.0010664465402620582\n",
      "[-0.00325116 -0.00324879 -0.01865435  0.00931701]\n",
      "0.6108491774130881 0.0010664313098404847\n",
      "[-0.00325114 -0.00324881 -0.01865435  0.00931701]\n",
      "0.6108492008148791 0.001066445334080674\n",
      "[-0.00325114 -0.00324879 -0.01865437  0.00931701]\n",
      "0.6108489859207776 0.001066444489436454\n",
      "[-0.00325114 -0.00324879 -0.01865435  0.00931703]\n",
      "0.6108487896466077 0.0010664554853852684\n",
      "|  31   |  155  |  96   | -6.0969e-01 | 9.03e-03 | 1.71e+01 | 0.00e+00 |\n",
      "[-0.00327168 -0.00328219 -0.0187887   0.00939363]\n",
      "0.6109885571658825 0.0010700645976752907\n",
      "[-0.00327169 -0.00328219 -0.0187887   0.00939363]\n",
      "0.6109888278616562 0.0010700492362149838\n",
      "[-0.00327168 -0.00328221 -0.0187887   0.00939363]\n",
      "0.6109887234456617 0.0010700629494471406\n",
      "[-0.00327168 -0.00328219 -0.01878872  0.00939363]\n",
      "0.6109885761733557 0.0010700623310979825\n",
      "[-0.00327168 -0.00328219 -0.0187887   0.00939365]\n",
      "0.610988397368291 0.0010700740738075255\n",
      "|  32   |  160  |  100  | -6.0987e-01 | 9.03e-03 | 2.01e+01 | 0.00e+00 |\n",
      "[-0.00332092 -0.00334975 -0.01902077  0.00954928]\n",
      "0.6111443980133535 0.001075592286443927\n",
      "[-0.00332093 -0.00334975 -0.01902077  0.00954928]\n",
      "0.6111447182726756 0.0010755763169311185\n",
      "[-0.00332092 -0.00334976 -0.01902077  0.00954928]\n",
      "0.6111444257862778 0.0010755903222183134\n",
      "[-0.00332092 -0.00334975 -0.01902078  0.00954928]\n",
      "0.611144418203896 0.0010755896884905795\n",
      "[-0.00332092 -0.00334975 -0.01902077  0.00954929]\n",
      "0.6111442577333885 0.001075602599269538\n",
      "|  33   |  165  |  104  | -6.1007e-01 | 9.03e-03 | 2.26e+01 | 0.00e+00 |\n",
      "[-0.00332746 -0.00335354 -0.01901601  0.009554  ]\n",
      "0.6112293926143121 0.0010721059838935888\n",
      "[-0.00332748 -0.00335354 -0.01901601  0.009554  ]\n",
      "0.6112296538801062 0.0010720895590988842\n",
      "[-0.00332746 -0.00335355 -0.01901601  0.009554  ]\n",
      "0.6112293843790981 0.0010721037563182472\n",
      "[-0.00332746 -0.00335354 -0.01901602  0.009554  ]\n",
      "0.6112294122115756 0.001072103333736466\n",
      "[-0.00332746 -0.00335354 -0.01901601  0.00955402]\n",
      "0.6112292867888064 0.0010721166347909534\n",
      "|  34   |  170  |  107  | -6.1016e-01 | 9.03e-03 | 1.86e+01 | 0.00e+00 |\n",
      "[-0.00334933 -0.00336086 -0.01900455  0.00956561]\n",
      "0.6113755334054531 0.001056443346306319\n",
      "[-0.00334935 -0.00336086 -0.01900455  0.00956561]\n",
      "0.6113755701446921 0.0010564256012067488\n",
      "[-0.00334933 -0.00336087 -0.01900455  0.00956561]\n",
      "0.6113754446087033 0.0010564401587356469\n",
      "[-0.00334933 -0.00336086 -0.01900456  0.00956561]\n",
      "0.6113755483563549 0.001056440604321514\n",
      "[-0.00334933 -0.00336086 -0.01900455  0.00956562]\n",
      "0.6113755429610366 0.0010564549553915752\n",
      "|  35   |  175  |  110  | -6.1032e-01 | 9.03e-03 | 5.75e+00 | 0.00e+00 |\n",
      "[-0.00336782 -0.00337794 -0.01908652  0.00961387]\n",
      "0.6114262868489541 0.0010532684122826965\n",
      "[-0.00336784 -0.00337794 -0.01908652  0.00961387]\n",
      "0.6114263006039994 0.0010532505505752403\n",
      "[-0.00336782 -0.00337795 -0.01908652  0.00961387]\n",
      "0.6114261902481131 0.0010532648501727674\n",
      "[-0.00336782 -0.00337794 -0.01908654  0.00961387]\n",
      "0.6114262974313894 0.0010532656247321556\n",
      "[-0.00336782 -0.00337794 -0.01908652  0.00961388]\n",
      "0.6114263112532978 0.0010532802653146437\n",
      "|  36   |  180  |  114  | -6.1037e-01 | 9.03e-03 | 6.24e+00 | 0.00e+00 |\n",
      "[-0.00343628 -0.00343869 -0.01941007  0.00979999]\n",
      "0.6115336518952944 0.0010443789012266366\n",
      "[-0.00343629 -0.00343869 -0.01941007  0.00979999]\n",
      "0.6115336267067869 0.0010443612282713226\n",
      "[-0.00343628 -0.0034387  -0.01941007  0.00979999]\n",
      "0.6115336007894158 0.0010443743501443714\n",
      "[-0.00343628 -0.00343869 -0.01941009  0.00979999]\n",
      "0.6115336477888716 0.0010443760868818124\n",
      "[-0.00343628 -0.00343869 -0.01941007  0.0098    ]\n",
      "0.6115336855492627 0.0010443910789734866\n",
      "|  37   |  185  |  118  | -6.1049e-01 | 9.03e-03 | 3.12e+00 | 0.00e+00 |\n",
      "[-0.00343678 -0.00343654 -0.01941018  0.00980044]\n",
      "0.6115386579689858 0.0010447738281553548\n",
      "[-0.00343679 -0.00343654 -0.01941018  0.00980044]\n",
      "0.6115386363170199 0.0010447563406643268\n",
      "[-0.00343678 -0.00343656 -0.01941018  0.00980044]\n",
      "0.6115386388731052 0.0010447694833196429\n",
      "[-0.00343678 -0.00343654 -0.01941019  0.00980044]\n",
      "0.6115386561241858 0.0010447710888058586\n",
      "[-0.00343678 -0.00343654 -0.01941018  0.00980045]\n",
      "0.6115386753604277 0.00104478575278896\n",
      "|  38   |  190  |  120  | -6.1049e-01 | 9.03e-03 | 9.90e-01 | 0.00e+00 |\n",
      "\n",
      "`gtol` termination condition is satisfied.\n",
      "Number of iterations: 38, function evaluations: 190, CG iterations: 120, optimality: 9.90e-01, constraint violation: 0.00e+00, execution time: 1.5e+03 s.\n"
     ]
    }
   ],
   "source": [
    "sol1 = minimize(\n",
    "            codes.optimization.loss,\n",
    "            x,\n",
    "            args=opt_args,\n",
    "            method=\"trust-constr\",\n",
    "            # jac=codes.optimization.jacobian,\n",
    "            options={\n",
    "                \"verbose\":2,\n",
    "                \"initial_tr_radius\":1e-3,\n",
    "                \"gtol\":1e0\n",
    "            },\n",
    "        )"
   ]
  },
  {
   "cell_type": "code",
   "execution_count": 12,
   "id": "a29e6f55-f900-471b-9de0-a41a6d009b36",
   "metadata": {},
   "outputs": [],
   "source": [
    "optimiser_args = system.optimiser_arguments()\n"
   ]
  },
  {
   "cell_type": "code",
   "execution_count": 70,
   "id": "c3a230bc-0e28-4237-9eb8-07d2fef5d6ca",
   "metadata": {},
   "outputs": [],
   "source": [
    "deltaV = np.linspace(-2, 5, 100) * 1e-3\n",
    "scattering_region_density = kwant.operator.Density(system.trijunction, where=bounds)\n",
    "kwant_sites = np.array([site.pos for site in system.trijunction.sites])"
   ]
  },
  {
   "cell_type": "code",
   "execution_count": 95,
   "id": "ccd18fec-cfd7-48c6-b33c-8a90f5b4d01a",
   "metadata": {},
   "outputs": [],
   "source": [
    "from tqdm import tqdm"
   ]
  },
  {
   "cell_type": "code",
   "execution_count": 239,
   "id": "fef4ebda-e5f6-43f8-9364-81aa3c98d8c6",
   "metadata": {
    "tags": []
   },
   "outputs": [
    {
     "name": "stderr",
     "output_type": "stream",
     "text": [
      "100%|██████████| 100/100 [13:39<00:00,  8.20s/it]\n"
     ]
    }
   ],
   "source": [
    "# wave_functions = []\n",
    "# ratios = []\n",
    "# desired_couplings = []\n",
    "# undesired_couplings = []\n",
    "shape, loss = [], []\n",
    "for v in tqdm(deltaV):\n",
    "    a, b = codes.optimization.loss([-0.00343678 + v, \n",
    "                                    -0.00343654 + v, \n",
    "                                    -0.01941018,  \n",
    "                                    0.00980045], \n",
    "                                   *opt_args\n",
    "                                  )\n",
    "    shape.append(a)\n",
    "    loss.append(b)\n",
    "#     params.update(parameters.voltage_dict([-0.00343678 + v, \n",
    "#                                            -0.00343654 + v, \n",
    "#                                            -0.01941018,  \n",
    "#                                            0.00980045]))\n",
    "#     linear_ham, numerical_hamiltonian = hamiltonian(system.trijunction, \n",
    "#                                     optimiser_args['linear_terms'], \n",
    "#                                     optimiser_args['kwant_params_fn'], \n",
    "#                                     **params)\n",
    "#     energies, wave_function = eigsh(\n",
    "#                 numerical_hamiltonian.tocsc(),\n",
    "#                 6,\n",
    "#                 sigma=0,\n",
    "#                 return_eigenvectors=True,\n",
    "#     )\n",
    "#     transformed_hamiltonian = svd_transformation(\n",
    "#     energies, wave_function, system.mlwf[order_wavefunctions('left-right')]\n",
    "#     )\n",
    "\n",
    "#     desired_couplings.append(np.abs(transformed_hamiltonian[0, 1]))\n",
    "#     undesired_couplings.append(np.linalg.norm(transformed_hamiltonian[2:]))\n",
    "    \n",
    "#     step = system.geometry['grid_spacing']*scale\n",
    "\n",
    "#     xmin, xmax, ymin, ymax = np.array(list(system.boundaries.values()))*scale\n",
    "#     bounds = lambda site: (site.pos[0] > xmin \n",
    "#                         and site.pos[0] < xmax\n",
    "#                         and site.pos[1] > ymin\n",
    "#                         and site.pos[1] < ymax)\n",
    "    \n",
    "    \n",
    "#     wavefunction_density = scattering_region_density(wave_function[:, 0])\n",
    "\n",
    "#     scattering_sites = kwant_sites[[bounds(site) for site in system.trijunction.sites]]\n",
    "#     x, y = scattering_sites[:, 0], scattering_sites[:, 1]\n",
    "#     nx, ny = len(np.unique(x)), len(np.unique(y))\n",
    "\n",
    "#     interpolated_wavefunction = wavefunction_density.reshape((nx, -1))\n",
    "    \n",
    "#     ratios.append(ratio_Gaussian_curvature(interpolated_wavefunction, step))\n"
   ]
  },
  {
   "cell_type": "code",
   "execution_count": 240,
   "id": "b46b538e-1218-46f9-985d-50bbc36ee1d1",
   "metadata": {},
   "outputs": [
    {
     "data": {
      "text/plain": [
       "Text(0.5, 0, 'Detuning (V)')"
      ]
     },
     "execution_count": 240,
     "metadata": {},
     "output_type": "execute_result"
    },
    {
     "data": {
      "image/png": "[encoded data removed]",
      "text/plain": [
       "<Figure size 400x600 with 4 Axes>"
      ]
     },
     "metadata": {},
     "output_type": "display_data"
    }
   ],
   "source": [
    "fig, ax = plt.subplots(4, 1, figsize=(4, 6), sharex=True)\n",
    "r = 15\n",
    "ax[0].plot(deltaV[r:], ratios[r:], '-', c='r')\n",
    "# ax[0].vlines(0.0, -5, -0.5, 'r')\n",
    "\n",
    "ax[0].set_ylabel(r'$\\frac{K_{min}}{K_{max}}$', fontsize=11)\n",
    "\n",
    "ax[1].plot(deltaV[r:], np.array(desired_couplings)[r:]/40e-6, '-', c='r')\n",
    "ax[1].set_ylabel(r'Couplings $\\Delta_t$', fontsize=11)\n",
    "\n",
    "\n",
    "ax[2].plot(deltaV[r:], np.array(shape)[r:], '-', c='r')\n",
    "ax[2].set_ylabel('Potential error(V)', fontsize=11)\n",
    "\n",
    "ax[3].plot(deltaV[r:],( np.array(loss) - np.array(shape))[r:]/40e-6+ np.array(shape)[r:], '-', c='r')\n",
    "ax[3].set_ylabel('Default loss', fontsize=11)\n",
    "\n",
    "ax[3].set_xlabel('Detuning (V)', fontsize=11)"
   ]
  },
  {
   "cell_type": "code",
   "execution_count": 236,
   "id": "bf3604dd-b447-4764-87a8-b3dc5ac5e28d",
   "metadata": {},
   "outputs": [
    {
     "name": "stdout",
     "output_type": "stream",
     "text": [
      "left_1 -0.002109621460826752\n",
      "left_2 -0.0026941257538559255\n",
      "right_1 -0.00269425951073958\n",
      "right_2 -0.0021427853056914213\n"
     ]
    }
   ],
   "source": [
    "params.update(parameters.voltage_dict([-0.00343678 + 0.003, \n",
    "                                       -0.00343654 + 0.003, \n",
    "                                       -0.01941018,  \n",
    "                                       0.00980045]))\n",
    "linear_ham, numerical_hamiltonian = hamiltonian(system.trijunction, \n",
    "                                optimiser_args['linear_terms'], \n",
    "                                optimiser_args['kwant_params_fn'], \n",
    "                                **params)\n",
    "loss = 0\n",
    "for gate, index in params['dep_acc_index'].items():\n",
    "    diff = np.real(linear_ham.diagonal()[::4][index]) - codes.parameters.bands[0]\n",
    "    if gate in pair:\n",
    "        if diff > 0:\n",
    "            print(gate, diff)\n",
    "            loss += diff    \n",
    "    else:\n",
    "        if diff < 0:\n",
    "            print(gate, diff)\n",
    "            loss += diff"
   ]
  },
  {
   "cell_type": "code",
   "execution_count": 237,
   "id": "6bd6e90f-aca4-4fc8-a11f-ac33e09b476c",
   "metadata": {},
   "outputs": [
    {
     "data": {
      "text/plain": [
       "-0.00964079203111368"
      ]
     },
     "execution_count": 237,
     "metadata": {},
     "output_type": "execute_result"
    }
   ],
   "source": [
    "loss"
   ]
  },
  {
   "cell_type": "raw",
   "id": "ba80a5b2-1628-4119-9d86-16e5dc5f8696",
   "metadata": {},
   "source": [
    "import pickle\n",
    "with open(\"/home/tinkerer/trijunction-design/data/left_right.pickle\", 'rb') as outfile:\n",
    "    couplings = pickle.load(outfile)"
   ]
  },
  {
   "cell_type": "code",
   "execution_count": 68,
   "id": "907528eb-e4c2-47a1-a63f-1d6f1e92240c",
   "metadata": {},
   "outputs": [],
   "source": [
    "vg1 = np.linspace(-6, 6, couplings[0.005].shape[0])"
   ]
  },
  {
   "cell_type": "code",
   "execution_count": 86,
   "id": "f9decbf4-2a79-4f79-8cee-5e3cf296cc2f",
   "metadata": {},
   "outputs": [
    {
     "data": {
      "text/plain": [
       "(115112, 6)"
      ]
     },
     "execution_count": 86,
     "metadata": {},
     "output_type": "execute_result"
    }
   ],
   "source": [
    "wave_function.shape"
   ]
  },
  {
   "cell_type": "code",
   "execution_count": 90,
   "id": "bd3a80b9-bea7-42b6-b9eb-91b403dc0164",
   "metadata": {},
   "outputs": [
    {
     "data": {
      "image/png": "[encoded data removed]",
      "text/plain": [
       "<Figure size 1000x500 with 1 Axes>"
      ]
     },
     "metadata": {},
     "output_type": "display_data"
    }
   ],
   "source": [
    "fig, ax = plt.subplots(1, 1, figsize = (10, 5))\n",
    "kax = kwant.plotter.density(system.trijunction, \n",
    "                            density(wave_function.T[0]), \n",
    "                            ax=ax, \n",
    "                            colorbar=False);"
   ]
  },
  {
   "cell_type": "code",
   "execution_count": 17,
   "id": "75c693b4-1866-461d-87d6-ee5a8e5c3220",
   "metadata": {
    "collapsed": true,
    "jupyter": {
     "outputs_hidden": true
    },
    "tags": []
   },
   "outputs": [
    {
     "data": {
      "image/png": "[encoded data removed]",
      "text/plain": [
       "<Figure size 500x500 with 1 Axes>"
      ]
     },
     "metadata": {},
     "output_type": "display_data"
    },
    {
     "data": {
      "image/png": "[encoded data removed]",
      "text/plain": [
       "<Figure size 640x480 with 2 Axes>"
      ]
     },
     "metadata": {},
     "output_type": "display_data"
    }
   ],
   "source": [
    "fig, ax = plt.subplots(1, 1, figsize = (5, 5), sharey= True)\n",
    "\n",
    "density = kwant.operator.Density(system.trijunction, np.eye(4))\n",
    "for i, vec in enumerate(wave_functions.T[[0]]):\n",
    "    kax = kwant.plotter.density(system.trijunction, density(vec), colorbar=True);\n"
   ]
  },
  {
   "cell_type": "code",
   "execution_count": 81,
   "id": "e713d342-9cb7-44dc-8dd4-556048e8db08",
   "metadata": {},
   "outputs": [],
   "source": [
    "transformed_hamiltonian = svd_transformation(\n",
    "    energies, wave_functions, system.mlwf[order_wavefunctions('left-right')]\n",
    ")\n",
    "\n",
    "desired = np.abs(transformed_hamiltonian[0, 1])\n",
    "undesired = np.linalg.norm(transformed_hamiltonian[2:])"
   ]
  },
  {
   "cell_type": "markdown",
   "id": "30eadb34-b295-4105-b4d8-c2ea1cbc932c",
   "metadata": {
    "tags": []
   },
   "source": [
    "### Soft-threshold for the wavefunction curvature\n",
    "\n",
    "\n",
    "If $\\frac{K_{min}}{K_{max}}$ > -0.5, add $\\frac{K_{min}}{K_{max}}$ to the loss. \n",
    "\n",
    "where $K_{max}$ and $K_{min}$ are the maximum and minimum Gaussian curvature of the wavefunction probalility $|\\psi(x)|^2$. -0.5 is the soft-threshold. Ideally when the threshold is zero, there are no saddle points, as the determinant of the hessian matrix is all positive. We cannot have the threshold to be positive or zero, because there are many points at which the curvature is zero (those are optimal points). Hence we use a softer-threshold.\n",
    "This makes the minimal Gaussian curvature flat, thereby avoiding many saddle points. This way the number of peaks in the wavefunction can be reduced to a single peak. \n",
    "\n",
    "Example for obtaining Gaussian curvature of a function with saddle points\n",
    "```python\n",
    "x, step = y, _ = np.linspace(-1, 1, retstep=True)\n",
    "x = x.reshape(-1, 1); y = y.reshape(1, -1)\n",
    "z = x**2 + 3*x*y + 2*y**2\n",
    "hessian = np.array(np.gradient(np.gradient(z, step), step, axis=[1, 2]))\n",
    "curvature = np.linalg.det(hessian.transpose([2, 3, 0, 1]))[2:-2, 2:-2]\n",
    "```"
   ]
  },
  {
   "cell_type": "code",
   "execution_count": 167,
   "id": "0225c2c7-e150-4a44-9124-f1a6cade6f2b",
   "metadata": {},
   "outputs": [],
   "source": [
    "step = system.geometry['grid_spacing']*scale\n",
    "\n",
    "xmin, xmax, ymin, ymax = np.array(list(system.boundaries.values()))*scale\n",
    "bounds = lambda site: (site.pos[0] > xmin \n",
    "                    and site.pos[0] < xmax\n",
    "                    and site.pos[1] > ymin\n",
    "                    and site.pos[1] < ymax)\n",
    "scattering_region_density = kwant.operator.Density(system.trijunction, where=bounds)\n"
   ]
  },
  {
   "cell_type": "code",
   "execution_count": 183,
   "id": "1bd99f03-17a3-4217-8f85-91ff818451f4",
   "metadata": {},
   "outputs": [],
   "source": [
    "wavefunction_density = scattering_region_density(wave_functions[:, 0])\n",
    "\n",
    "scattering_sites = kwant_sites[[bounds(site) for site in system.trijunction.sites]]\n",
    "x, y = scattering_sites[:, 0], scattering_sites[:, 1]\n",
    "nx, ny = len(np.unique(x)), len(np.unique(y))\n",
    "\n",
    "interpolated_wavefunction = wavefunction_density.reshape((nx, -1))"
   ]
  },
  {
   "cell_type": "code",
   "execution_count": 189,
   "id": "35a04c97-96e5-4787-a548-af9fb2b8e6cb",
   "metadata": {},
   "outputs": [],
   "source": [
    "ratio = ratio_Gaussian_curvature(interpolated_wavefunction, step)"
   ]
  },
  {
   "cell_type": "raw",
   "id": "4917adfd-1943-4965-808b-bb405e13ec51",
   "metadata": {
    "tags": []
   },
   "source": [
    "from dask.distributed import Client, progress\n",
    "from dask import delayed\n",
    "client = Client(n_workers=5, threads_per_worker=1)"
   ]
  }
 ],
 "metadata": {
  "kernelspec": {
   "display_name": "Python 3 (ipykernel)",
   "language": "python",
   "name": "python3"
  },
  "language_info": {
   "codemirror_mode": {
    "name": "ipython",
    "version": 3
   },
   "file_extension": ".py",
   "mimetype": "text/x-python",
   "name": "python",
   "nbconvert_exporter": "python",
   "pygments_lexer": "ipython3",
   "version": "3.10.6"
  }
 },
 "nbformat": 4,
 "nbformat_minor": 5
}
