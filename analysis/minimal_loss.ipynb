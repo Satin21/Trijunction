{
 "cells": [
  {
   "cell_type": "code",
   "execution_count": 9,
   "id": "318e0951-21c5-496e-aa93-587394a5c978",
   "metadata": {},
   "outputs": [],
   "source": [
    "import tinyarray as ta\n",
    "import numpy as np\n",
    "import matplotlib.pyplot as plt\n",
    "import importlib\n",
    "import json\n",
    "import kwant\n",
    "\n",
    "import codes.trijunction as trijunction\n",
    "import codes.optimization as optimization\n",
    "import codes.parameters as parameters\n",
    "from codes.tools import hamiltonian\n",
    "from codes.utils import eigsh, svd_transformation, dict_update, dep_acc_index\n",
    "from codes.utils import order_wavefunctions"
   ]
  },
  {
   "cell_type": "code",
   "execution_count": 2,
   "id": "c495bfa6-176b-47fc-8fae-aba23c7ef444",
   "metadata": {},
   "outputs": [],
   "source": [
    "from scipy.optimize import minimize, minimize_scalar"
   ]
  },
  {
   "cell_type": "code",
   "execution_count": 3,
   "id": "328a91b2-d8b2-4dfd-9ec7-48e577aa65ba",
   "metadata": {},
   "outputs": [],
   "source": [
    "with open('/home/tinkerer/trijunction-design/codes/config.json', 'r') as f:\n",
    "    config = json.load(f)\n",
    "\n",
    "change_config = [\n",
    "    {\"device\": {\"thickness\": {\"dielectric\": 1.0}}},\n",
    "    {\"gate\": {\"channel_width\": 13.0, 'angle': np.pi/6, 'gap': 2}},\n",
    "]\n",
    "\n",
    "for local_config in change_config:\n",
    "    config = dict_update(config, local_config)"
   ]
  },
  {
   "cell_type": "code",
   "execution_count": 4,
   "id": "bfb13a62-2ff2-4afa-a06b-ead696c58073",
   "metadata": {},
   "outputs": [],
   "source": [
    "system = trijunction.Trijunction(config)"
   ]
  },
  {
   "cell_type": "code",
   "execution_count": 5,
   "id": "8fd49cdb-209b-4f74-a25b-9775442cc171",
   "metadata": {
    "tags": []
   },
   "outputs": [
    {
     "name": "stdout",
     "output_type": "stream",
     "text": [
      "Finding closed voronoi cells\n",
      "Done selecting closed voronoi cells\n",
      "Calculating points distance\n",
      "Done\n",
      "Calculating ridges hypersurfaces\n",
      "Done\n",
      "Finding  hypervolume for closed voronoi cells\n",
      "Done finding hypervolume for closed voronoi cells\n",
      "Done calculating surface\n",
      "Done calculating distance\n",
      "Done calculating capacitance matrix\n"
     ]
    },
    {
     "name": "stderr",
     "output_type": "stream",
     "text": [
      "100%|██████████| 13/13 [00:31<00:00,  2.41s/it]\n"
     ]
    }
   ],
   "source": [
    "system.make_system()"
   ]
  },
  {
   "cell_type": "code",
   "execution_count": 6,
   "id": "e2984aac-e1f9-4d20-9fad-f339af8275ba",
   "metadata": {},
   "outputs": [],
   "source": [
    "pair = 'left-right'\n",
    "voltages = parameters.pair_voltages()"
   ]
  },
  {
   "cell_type": "code",
   "execution_count": 7,
   "id": "1cf8473d-9dd4-4de5-bca1-10a6e044ba42",
   "metadata": {},
   "outputs": [],
   "source": [
    "zero_potential = dict(\n",
    "    zip(\n",
    "        ta.array(system.site_coords[:, [0, 1]] - system.offset),\n",
    "        np.zeros(len(system.site_coords)),\n",
    "    )\n",
    ")"
   ]
  },
  {
   "cell_type": "code",
   "execution_count": 10,
   "id": "aece4f2d-f679-4354-aefe-0eeb0df3a2b1",
   "metadata": {},
   "outputs": [],
   "source": [
    "kwant_args = list(system.optimiser_arguments().values())\n",
    "kwant_args[-1] = kwant_args[-1][order_wavefunctions(pair)]"
   ]
  },
  {
   "cell_type": "code",
   "execution_count": 11,
   "id": "e94100a9-6108-4314-8cf7-7996b0ef49d5",
   "metadata": {},
   "outputs": [],
   "source": [
    "x = [-3.0e-3, -3.0e-3, -7.0e-3, 3e-3]\n",
    "voltages = parameters.voltage_dict(x)"
   ]
  },
  {
   "cell_type": "code",
   "execution_count": 12,
   "id": "6f4fea80-47b2-4cae-8d44-0881fe9f7eec",
   "metadata": {
    "tags": []
   },
   "outputs": [],
   "source": [
    "params = parameters.junction_parameters()\n",
    "params.update(voltages)\n",
    "params.update(potential=zero_potential)\n",
    "params.update(voltages)"
   ]
  },
  {
   "cell_type": "code",
   "execution_count": 13,
   "id": "0e40b643-3c6e-4ccd-b374-8ba5cad6ea95",
   "metadata": {},
   "outputs": [],
   "source": [
    "opt_args = tuple([pair, params, kwant_args])"
   ]
  },
  {
   "cell_type": "code",
   "execution_count": 14,
   "id": "50fd2b30-8d4c-4e0b-8d96-e0783ba913f4",
   "metadata": {},
   "outputs": [
    {
     "name": "stdout",
     "output_type": "stream",
     "text": [
      "CPU times: user 49.9 s, sys: 11.9 s, total: 1min 1s\n",
      "Wall time: 1min 1s\n"
     ]
    }
   ],
   "source": [
    "%%time\n",
    "\n",
    "sol = minimize_scalar(\n",
    "    optimization.loss,\n",
    "    0.2, \n",
    "    args=opt_args, \n",
    "    bounds=(0, 2), \n",
    "    method=\"bounded\"\n",
    ")"
   ]
  },
  {
   "cell_type": "code",
   "execution_count": 15,
   "id": "432c136b-e5dc-48f1-96b9-6c2895e41808",
   "metadata": {},
   "outputs": [],
   "source": [
    "optimal_phase = parameters.phase_pairs(opt_args[0], \n",
    "                                       sol.x * np.pi)"
   ]
  },
  {
   "cell_type": "code",
   "execution_count": 16,
   "id": "2b667696-d5a4-479b-b2ec-9117f84e0a1f",
   "metadata": {},
   "outputs": [
    {
     "data": {
      "text/plain": [
       "{'phi1': 4.303469493233111, 'phi2': 0}"
      ]
     },
     "execution_count": 16,
     "metadata": {},
     "output_type": "execute_result"
    }
   ],
   "source": [
    "optimal_phase"
   ]
  },
  {
   "cell_type": "raw",
   "id": "1e7c35d9-e46b-4742-ac3e-e6651c755d35",
   "metadata": {},
   "source": [
    "dep_index, acc_index = dep_acc_index(\n",
    "            system.poisson_system,\n",
    "            system.site_indices,\n",
    "            system.nw_centers,\n",
    "            pair,\n",
    "        )\n",
    "params.update({'dep_index': dep_index})\n",
    "params.update({'acc_index': acc_index})"
   ]
  },
  {
   "cell_type": "code",
   "execution_count": 18,
   "id": "8d320d83-7d8d-44a2-b447-15dffd735b37",
   "metadata": {},
   "outputs": [
    {
     "data": {
      "text/plain": [
       "3.6413198571384764"
      ]
     },
     "execution_count": 18,
     "metadata": {},
     "output_type": "execute_result"
    }
   ],
   "source": [
    "# loss to optimize voltages\n",
    "params.update(optimal_phase)\n",
    "opt_args = tuple([pair, params, kwant_args])\n",
    "optimization.loss(x, *opt_args)"
   ]
  },
  {
   "cell_type": "code",
   "execution_count": null,
   "id": "a4127912-a3d7-4deb-89a7-cad8511c37a4",
   "metadata": {
    "tags": []
   },
   "outputs": [
    {
     "name": "stdout",
     "output_type": "stream",
     "text": [
      "| niter |f evals|CG iter|  obj func   |tr radius |   opt    |  c viol  |\n",
      "|-------|-------|-------|-------------|----------|----------|----------|\n",
      "|   1   |   5   |   0   | +3.6413e+00 | 1.00e-03 | 2.41e+03 | 0.00e+00 |\n",
      "|   2   |  10   |   1   | -2.1138e+00 | 7.00e-03 | 6.44e+03 | 0.00e+00 |\n",
      "|   3   |  15   |   2   | -5.1649e+00 | 7.00e-03 | 4.05e+01 | 0.00e+00 |\n",
      "|   4   |  20   |   3   | -5.1652e+00 | 7.00e-03 | 4.03e+01 | 0.00e+00 |\n",
      "|   5   |  25   |   5   | -5.1652e+00 | 1.61e-03 | 4.03e+01 | 0.00e+00 |\n",
      "|   6   |  30   |   6   | -5.1652e+00 | 8.07e-04 | 4.03e+01 | 0.00e+00 |\n",
      "|   7   |  35   |   7   | -5.1652e+00 | 2.99e-04 | 4.03e+01 | 0.00e+00 |\n",
      "|   8   |  40   |   8   | -5.1889e+00 | 2.09e-03 | 1.59e+02 | 0.00e+00 |\n",
      "|   9   |  45   |  11   | -5.1889e+00 | 2.53e-04 | 1.59e+02 | 0.00e+00 |\n",
      "|  10   |  50   |  13   | -5.2199e+00 | 1.77e-03 | 8.09e+02 | 0.00e+00 |\n",
      "|  11   |  55   |  15   | -5.2199e+00 | 8.87e-04 | 8.09e+02 | 0.00e+00 |\n",
      "|  12   |  60   |  18   | -5.2199e+00 | 2.96e-04 | 8.09e+02 | 0.00e+00 |\n",
      "|  13   |  65   |  20   | -5.2199e+00 | 1.48e-04 | 8.09e+02 | 0.00e+00 |\n",
      "|  14   |  70   |  21   | -5.2199e+00 | 7.39e-05 | 8.09e+02 | 0.00e+00 |\n",
      "|  15   |  75   |  22   | -5.2255e+00 | 7.39e-05 | 2.50e+02 | 0.00e+00 |\n",
      "|  16   |  80   |  24   | -5.2255e+00 | 3.70e-05 | 2.50e+02 | 0.00e+00 |\n",
      "|  17   |  85   |  26   | -5.2377e+00 | 2.59e-04 | 2.17e+02 | 0.00e+00 |\n"
     ]
    }
   ],
   "source": [
    "sol1 = minimize(\n",
    "            optimization.loss,\n",
    "            x,\n",
    "            args=opt_args,\n",
    "            method=\"trust-constr\",\n",
    "            options={\n",
    "                \"verbose\": 2,\n",
    "                \"initial_tr_radius\": 1e-3,\n",
    "                # \"gtol\": 1e-1,\n",
    "            },\n",
    "        )"
   ]
  },
  {
   "cell_type": "code",
   "execution_count": 93,
   "id": "4c20cce0-250a-4c12-8ad9-80b982946fca",
   "metadata": {},
   "outputs": [],
   "source": [
    "params.update(parameters.voltage_dict(sol1.x))\n",
    "opt_args = tuple([pair, params, kwant_args])"
   ]
  },
  {
   "cell_type": "code",
   "execution_count": 59,
   "id": "a29e6f55-f900-471b-9de0-a41a6d009b36",
   "metadata": {},
   "outputs": [],
   "source": [
    "optimiser_args = system.optimiser_arguments()\n",
    "\n",
    "numerical_hamiltonian = hamiltonian(system.trijunction, \n",
    "                                    optimiser_args['linear_terms'], \n",
    "                                    optimiser_args['kwant_params_fn'], \n",
    "                                    **params)"
   ]
  },
  {
   "cell_type": "code",
   "execution_count": 61,
   "id": "b4661fa3-6828-4612-b64c-fe5a72610f20",
   "metadata": {},
   "outputs": [],
   "source": [
    "energies, wave_functions = eigsh(\n",
    "                numerical_hamiltonian.tocsc(),\n",
    "                6,\n",
    "                sigma=0,\n",
    "                return_eigenvectors=True,\n",
    ")"
   ]
  },
  {
   "cell_type": "code",
   "execution_count": 75,
   "id": "e713d342-9cb7-44dc-8dd4-556048e8db08",
   "metadata": {},
   "outputs": [],
   "source": [
    "transformed_hamiltonian = svd_transformation(\n",
    "    energies, wave_functions, reference_wave_functions\n",
    ")\n",
    "\n",
    "desired = np.abs(transformed_hamiltonian[0, 1])\n",
    "undesired = np.linalg.norm(transformed_hamiltonian[2:])"
   ]
  },
  {
   "cell_type": "code",
   "execution_count": 77,
   "id": "36c4db8a-1ac2-40c1-b41c-b7469871e7eb",
   "metadata": {},
   "outputs": [
    {
     "data": {
      "text/plain": [
       "2.430561344761288e-05"
      ]
     },
     "execution_count": 77,
     "metadata": {},
     "output_type": "execute_result"
    }
   ],
   "source": [
    "desired"
   ]
  }
 ],
 "metadata": {
  "kernelspec": {
   "display_name": "Python 3 (ipykernel)",
   "language": "python",
   "name": "python3"
  },
  "language_info": {
   "codemirror_mode": {
    "name": "ipython",
    "version": 3
   },
   "file_extension": ".py",
   "mimetype": "text/x-python",
   "name": "python",
   "nbconvert_exporter": "python",
   "pygments_lexer": "ipython3",
   "version": "3.10.6"
  }
 },
 "nbformat": 4,
 "nbformat_minor": 5
}
