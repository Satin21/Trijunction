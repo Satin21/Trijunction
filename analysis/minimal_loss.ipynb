{
 "cells": [
  {
   "cell_type": "code",
   "execution_count": 1,
   "id": "318e0951-21c5-496e-aa93-587394a5c978",
   "metadata": {
    "tags": []
   },
   "outputs": [
    {
     "name": "stdout",
     "output_type": "stream",
     "text": [
      "VoronoiMesh version 0.1\n",
      "DiscretePoisson version 0.3\n",
      "Shape version: 0.1\n",
      "SystEquations version: 0.3\n",
      "Solver version 0.1\n"
     ]
    }
   ],
   "source": [
    "import tinyarray as ta\n",
    "import numpy as np\n",
    "import matplotlib.pyplot as plt\n",
    "import importlib\n",
    "import json\n",
    "import kwant\n",
    "\n",
    "from codes.gate_design import gate_coords\n",
    "from codes.constants import scale\n",
    "import codes.trijunction as trijunction\n",
    "import codes.optimization as optimization\n",
    "import codes.parameters as parameters\n",
    "from codes.tools import hamiltonian\n",
    "from codes.utils import eigsh, svd_transformation, dict_update, dep_acc_index\n",
    "from codes.utils import order_wavefunctions, ratio_Gaussian_curvature"
   ]
  },
  {
   "cell_type": "code",
   "execution_count": 2,
   "id": "c495bfa6-176b-47fc-8fae-aba23c7ef444",
   "metadata": {},
   "outputs": [],
   "source": [
    "from scipy.optimize import minimize"
   ]
  },
  {
   "cell_type": "code",
   "execution_count": 3,
   "id": "328a91b2-d8b2-4dfd-9ec7-48e577aa65ba",
   "metadata": {},
   "outputs": [],
   "source": [
    "with open('/home/tinkerer/trijunction-design/codes/config.json', 'r') as f:\n",
    "    config = json.load(f)\n",
    "\n",
    "change_config = [\n",
    "    {\"device\": {\"thickness\": {\"dielectric\": 1.0}}},\n",
    "    {\"gate\": {\"channel_width\": 13.0, 'angle': np.pi/6, 'gap': 2}},\n",
    "]\n",
    "\n",
    "for local_config in change_config:\n",
    "    config = dict_update(config, local_config)"
   ]
  },
  {
   "cell_type": "code",
   "execution_count": 5,
   "id": "bfb13a62-2ff2-4afa-a06b-ead696c58073",
   "metadata": {},
   "outputs": [
    {
     "name": "stdout",
     "output_type": "stream",
     "text": [
      "Finding closed voronoi cells\n",
      "Done selecting closed voronoi cells\n",
      "Calculating points distance\n",
      "Done\n",
      "Calculating ridges hypersurfaces\n",
      "Done\n",
      "Finding  hypervolume for closed voronoi cells\n",
      "Done finding hypervolume for closed voronoi cells\n",
      "Done calculating surface\n",
      "Done calculating distance\n",
      "Done calculating capacitance matrix\n"
     ]
    },
    {
     "name": "stderr",
     "output_type": "stream",
     "text": [
      "100%|██████████| 13/13 [00:34<00:00,  2.64s/it]\n"
     ]
    }
   ],
   "source": [
    "system = trijunction.Trijunction(config, optimize_phase_pairs=[])"
   ]
  },
  {
   "cell_type": "markdown",
   "id": "51710114-e235-4036-af5e-c07e728a9d60",
   "metadata": {
    "jp-MarkdownHeadingCollapsed": true,
    "tags": []
   },
   "source": [
    "### Maximize couplings"
   ]
  },
  {
   "cell_type": "code",
   "execution_count": 8,
   "id": "e2984aac-e1f9-4d20-9fad-f339af8275ba",
   "metadata": {},
   "outputs": [],
   "source": [
    "pair = 'left-right'\n",
    "voltages = parameters.pair_voltages()"
   ]
  },
  {
   "cell_type": "code",
   "execution_count": 9,
   "id": "1cf8473d-9dd4-4de5-bca1-10a6e044ba42",
   "metadata": {},
   "outputs": [],
   "source": [
    "zero_potential = dict(\n",
    "    zip(\n",
    "        ta.array(system.site_coords[:, [0, 1]] - system.offset),\n",
    "        np.zeros(len(system.site_coords)),\n",
    "    )\n",
    ")"
   ]
  },
  {
   "cell_type": "code",
   "execution_count": 10,
   "id": "aece4f2d-f679-4354-aefe-0eeb0df3a2b1",
   "metadata": {},
   "outputs": [],
   "source": [
    "kwant_args = list(system.optimiser_arguments().values())\n",
    "kwant_args[-1] = kwant_args[-1][order_wavefunctions(pair)]"
   ]
  },
  {
   "cell_type": "code",
   "execution_count": 11,
   "id": "e94100a9-6108-4314-8cf7-7996b0ef49d5",
   "metadata": {},
   "outputs": [],
   "source": [
    "x = [-1.0e-3, -1.0e-3, -5.0e-3, 3e-3]\n",
    "voltages = parameters.voltage_dict(x)"
   ]
  },
  {
   "cell_type": "code",
   "execution_count": 44,
   "id": "6f4fea80-47b2-4cae-8d44-0881fe9f7eec",
   "metadata": {
    "tags": []
   },
   "outputs": [],
   "source": [
    "params = parameters.junction_parameters()\n",
    "params.update(voltages)\n",
    "params.update(potential=zero_potential)"
   ]
  },
  {
   "cell_type": "code",
   "execution_count": 13,
   "id": "0e40b643-3c6e-4ccd-b374-8ba5cad6ea95",
   "metadata": {},
   "outputs": [],
   "source": [
    "opt_args = tuple([pair, params, kwant_args, 0.0])"
   ]
  },
  {
   "cell_type": "code",
   "execution_count": 47,
   "id": "1b41d1b2-9b56-49dc-8b50-f5a16940aec5",
   "metadata": {
    "tags": []
   },
   "outputs": [],
   "source": [
    "kwant_sites = np.array([site.pos for site in system.trijunction.sites])\n",
    "soft_threshold_indices = dep_acc_index(\n",
    "    zip(system.gate_names, system.gates_vertex),\n",
    "    system.nw_centers,\n",
    "               kwant_sites,\n",
    "               config['gate']['angle'],\n",
    "               scale,\n",
    "               10\n",
    "               )"
   ]
  },
  {
   "cell_type": "code",
   "execution_count": 48,
   "id": "4915fb46-854f-4212-b235-4fb4e5cb06bd",
   "metadata": {},
   "outputs": [
    {
     "data": {
      "image/png": "[encoded data removed]",
      "text/plain": [
       "<Figure size 640x480 with 1 Axes>"
      ]
     },
     "metadata": {},
     "output_type": "display_data"
    }
   ],
   "source": [
    "site_coords = system.grid_points[system.site_indices]\n",
    "for index in np.hstack(list(soft_threshold_indices.values())):\n",
    "    point = kwant_sites[index]/scale\n",
    "    plt.scatter(point[0], point[1], c='b')\n",
    "\n",
    "for key, value in system.poisson_system.regions.voltage.tag_points.items():\n",
    "    if not key.startswith(('global', 'dirichlet')):\n",
    "        coords = system.grid_points[value]\n",
    "        plt.scatter(coords[:, 0], coords[:, 1], s = 0.1)"
   ]
  },
  {
   "cell_type": "code",
   "execution_count": 49,
   "id": "62a1c8b3-59e0-408f-a955-3b223ffede73",
   "metadata": {
    "tags": []
   },
   "outputs": [],
   "source": [
    "kwant_sites = np.array([site.pos for site in system.trijunction.sites])/scale\n",
    "params.update({'dep_acc_index': soft_threshold_indices})"
   ]
  },
  {
   "cell_type": "code",
   "execution_count": 50,
   "id": "b438ad84-2387-44b6-9253-a8ce38d79fd1",
   "metadata": {
    "tags": []
   },
   "outputs": [],
   "source": [
    "step_size = 1e-4\n",
    "opt_args = tuple((pair, params, kwant_args, 0.0, step_size))\n",
    "# optimization.loss(x, *opt_args)"
   ]
  },
  {
   "cell_type": "code",
   "execution_count": 93,
   "id": "1ead6684-8afc-4820-8001-c55e1efe0290",
   "metadata": {},
   "outputs": [
    {
     "data": {
      "text/plain": [
       "<module 'codes.optimization' from '/home/tinkerer/trijunction-design/analysis/codes/optimization.py'>"
      ]
     },
     "execution_count": 93,
     "metadata": {},
     "output_type": "execute_result"
    }
   ],
   "source": [
    "import codes.optimization\n",
    "import importlib\n",
    "importlib.reload(codes.optimization)"
   ]
  },
  {
   "cell_type": "code",
   "execution_count": 94,
   "id": "4af95205-f61a-4c8c-8d08-b012052f7725",
   "metadata": {
    "collapsed": true,
    "jupyter": {
     "outputs_hidden": true
    },
    "tags": []
   },
   "outputs": [
    {
     "name": "stdout",
     "output_type": "stream",
     "text": [
      "[-0.001 -0.001 -0.005  0.003]\n",
      "7.286037226605733e-06 4.183143487672815e-08\n",
      "[-0.00100001 -0.001      -0.005       0.003     ]\n",
      "7.286336304414348e-06 4.183132390122988e-08\n",
      "[-0.001      -0.00100001 -0.005       0.003     ]\n",
      "7.286336304414571e-06 4.183097231955e-08\n",
      "[-0.001      -0.001      -0.00500001  0.003     ]\n",
      "7.2860730102141695e-06 4.183138863010693e-08\n",
      "[-0.001      -0.001      -0.005       0.00300001]\n",
      "7.285933509414634e-06 4.183168827484551e-08\n",
      "| niter |f evals|CG iter|  obj func   |tr radius |   opt    |  c viol  |\n",
      "|-------|-------|-------|-------------|----------|----------|----------|\n",
      "|   1   |   5   |   0   | +2.5183e+00 | 1.00e-03 | 2.93e+02 | 0.00e+00 |\n",
      "[-0.00168504 -0.00168586 -0.00508084  0.00276809]\n",
      "1.2895414493918972e-05 2.6115824960818682e-08\n",
      "[-0.00168506 -0.00168586 -0.00508084  0.00276809]\n",
      "1.289578496597586e-05 2.6114083399721864e-08\n",
      "[-0.00168504 -0.00168587 -0.00508084  0.00276809]\n",
      "1.2895784954906715e-05 2.6115598807597626e-08\n",
      "[-0.00168504 -0.00168586 -0.00508085  0.00276809]\n",
      "1.289551683761946e-05 2.6115727263466206e-08\n",
      "[-0.00168504 -0.00168586 -0.00508084  0.0027681 ]\n",
      "1.2895061420205001e-05 2.6116561549587194e-08\n",
      "|   2   |  10   |   1   | +2.4403e+00 | 1.00e-03 | 3.65e+02 | 0.00e+00 |\n",
      "[-0.00226569 -0.00226411 -0.00524052  0.00221766]\n",
      "1.5428835803722e-08 2.830935338335284e-08\n",
      "[-0.00226571 -0.00226411 -0.00524052  0.00221766]\n",
      "1.5427926558551115e-08 2.8309342477571822e-08\n",
      "[-0.00226569 -0.00226412 -0.00524052  0.00221766]\n",
      "1.542792572788685e-08 2.830916945037757e-08\n",
      "[-0.00226569 -0.00226411 -0.00524053  0.00221766]\n",
      "1.5428761286577963e-08 2.8309348814052284e-08\n",
      "[-0.00226569 -0.00226411 -0.00524052  0.00221767]\n",
      "1.542949566561593e-08 2.830945221417648e-08\n",
      "|   3   |  15   |   2   | +2.4403e+00 | 5.00e-04 | 3.65e+02 | 0.00e+00 |\n",
      "[-0.00197537 -0.00197498 -0.00516068  0.00249287]\n",
      "2.911531829363076e-06 3.4099556214248704e-08\n",
      "[-0.00197538 -0.00197498 -0.00516068  0.00249287]\n",
      "2.9109474817435807e-06 3.409939584477293e-08\n",
      "[-0.00197537 -0.001975   -0.00516068  0.00249287]\n",
      "2.910947291764996e-06 3.40999295874756e-08\n",
      "[-0.00197537 -0.00197498 -0.00516069  0.00249287]\n",
      "2.911425173575918e-06 3.409959825879972e-08\n",
      "[-0.00197537 -0.00197498 -0.00516068  0.00249289]\n",
      "2.91203329286768e-06 3.409947700532507e-08\n",
      "|   4   |  20   |   3   | +2.4403e+00 | 2.50e-04 | 3.65e+02 | 0.00e+00 |\n",
      "[-0.00183021 -0.00183042 -0.00512076  0.00263048]\n",
      "7.764286634734183e-06 3.6029884132183933e-08\n",
      "[-0.00183022 -0.00183042 -0.00512076  0.00263048]\n",
      "7.763743970561951e-06 3.6030258560453096e-08\n",
      "[-0.00183021 -0.00183043 -0.00512076  0.00263048]\n",
      "7.763743661901178e-06 3.602967123415367e-08\n",
      "[-0.00183021 -0.00183042 -0.00512077  0.00263048]\n",
      "7.764285622736541e-06 3.6029888571199464e-08\n",
      "[-0.00183021 -0.00183042 -0.00512076  0.00263049]\n",
      "7.764648505033127e-06 3.6029855255215734e-08\n",
      "|   5   |  25   |   4   | +2.4403e+00 | 1.25e-04 | 3.65e+02 | 0.00e+00 |\n",
      "[-0.00175762 -0.00175814 -0.0051008   0.00269928]\n",
      "1.4976055359193658e-05 2.9842493194221364e-08\n",
      "[-0.00175764 -0.00175814 -0.0051008   0.00269928]\n",
      "1.4975802054419831e-05 2.9842517376093454e-08\n",
      "[-0.00175762 -0.00175815 -0.0051008   0.00269928]\n",
      "1.49757986373703e-05 2.984514139926056e-08\n",
      "[-0.00175762 -0.00175814 -0.00510081  0.00269928]\n",
      "1.4976070689790464e-05 2.9842714583999154e-08\n",
      "[-0.00175762 -0.00175814 -0.0051008   0.0026993 ]\n",
      "1.4976207680756297e-05 2.9841347379519124e-08\n",
      "|   6   |  30   |   5   | +2.4104e+00 | 2.50e-04 | 2.59e+02 | 0.00e+00 |\n",
      "[-0.001687   -0.00166291 -0.00514472  0.00270567]\n",
      "1.4244084595800925e-05 2.5215314470243253e-08\n",
      "[-0.00168702 -0.00166291 -0.00514472  0.00270567]\n",
      "1.4244402483581463e-05 2.5215115413903968e-08\n",
      "[-0.001687   -0.00166292 -0.00514472  0.00270567]\n",
      "1.4244426236005514e-05 2.5213401077713762e-08\n",
      "[-0.001687   -0.00166291 -0.00514473  0.00270567]\n",
      "1.4244178151506145e-05 2.5215207954308433e-08\n",
      "[-0.001687   -0.00166291 -0.00514472  0.00270569]\n",
      "1.4243766617239229e-05 2.5216104093683385e-08\n",
      "|   7   |  35   |   7   | +2.4104e+00 | 8.64e-05 | 2.59e+02 | 0.00e+00 |\n",
      "[-0.00170921 -0.00171135 -0.00515068  0.0026781 ]\n",
      "1.5644870011377578e-05 2.2076116074638855e-08\n",
      "[-0.00170923 -0.00171135 -0.00515068  0.0026781 ]\n",
      "1.564492021404922e-05 2.2078499477387218e-08\n",
      "[-0.00170921 -0.00171137 -0.00515068  0.0026781 ]\n",
      "1.5644910308888868e-05 2.2077905382450308e-08\n",
      "[-0.00170921 -0.00171135 -0.0051507   0.0026781 ]\n",
      "1.5644915612220995e-05 2.2076486357357395e-08\n",
      "[-0.00170921 -0.00171135 -0.00515068  0.00267812]\n",
      "1.5644794642548606e-05 2.2074282977231973e-08\n",
      "|   8   |  40   |   9   | +2.4003e+00 | 1.73e-04 | 6.90e+01 | 0.00e+00 |\n",
      "[-0.0016958  -0.00166866 -0.00524315  0.00260841]\n",
      "1.5976089469802217e-05 2.572691108677695e-08\n",
      "[-0.00169581 -0.00166866 -0.00524315  0.00260841]\n",
      "1.5976019822345975e-05 2.572941089039972e-08\n",
      "[-0.0016958  -0.00166868 -0.00524315  0.00260841]\n",
      "1.597613983916402e-05 2.5728499048328574e-08\n",
      "[-0.0016958  -0.00166866 -0.00524316  0.00260841]\n",
      "1.5976120367689192e-05 2.572725525616157e-08\n",
      "[-0.0016958  -0.00166866 -0.00524315  0.00260843]\n",
      "1.5976072047285263e-05 2.5725144916880237e-08\n",
      "|   9   |  45   |  12   | +2.3957e+00 | 8.69e-04 | 7.40e+01 | 0.00e+00 |\n",
      "[-0.00139707 -0.00155875 -0.00590551  0.00214466]\n",
      "1.51594424237056e-05 3.495905754377259e-08\n",
      "[-0.00139709 -0.00155875 -0.00590551  0.00214466]\n",
      "1.5159449886735899e-05 3.4959470226616465e-08\n",
      "[-0.00139707 -0.00155876 -0.00590551  0.00214466]\n",
      "1.5159323001316478e-05 3.4959993032738814e-08\n",
      "[-0.00139707 -0.00155875 -0.00590553  0.00214466]\n",
      "1.5159437550796771e-05 3.495912804053112e-08\n",
      "[-0.00139707 -0.00155875 -0.00590551  0.00214467]\n",
      "1.515951992066341e-05 3.495856130113101e-08\n",
      "|  10   |  50   |  15   | +2.3957e+00 | 4.34e-04 | 7.40e+01 | 0.00e+00 |\n",
      "[-0.00155244 -0.00161635 -0.00559354  0.00240173]\n",
      "1.623810673620387e-05 3.0806983590806087e-08\n",
      "[-0.00155246 -0.00161635 -0.00559354  0.00240173]\n",
      "1.6238114024797775e-05 3.080801821038336e-08\n",
      "[-0.00155244 -0.00161637 -0.00559354  0.00240173]\n",
      "1.6237962664837443e-05 3.080864327997876e-08\n",
      "[-0.00155244 -0.00161635 -0.00559356  0.00240173]\n",
      "1.6238106212089582e-05 3.080719569623268e-08\n",
      "[-0.00155244 -0.00161635 -0.00559354  0.00240174]\n",
      "1.623818105788889e-05 3.080584841719822e-08\n",
      "|  11   |  55   |  18   | +2.3924e+00 | 4.34e-04 | 1.47e+02 | 0.00e+00 |\n",
      "[-0.00175846 -0.00162113 -0.00540834  0.00273641]\n",
      "1.4970609753737772e-05 2.660696630707039e-08\n",
      "[-0.00175847 -0.00162113 -0.00540834  0.00273641]\n",
      "1.4970505995421334e-05 2.660525962347304e-08\n",
      "[-0.00175846 -0.00162114 -0.00540834  0.00273641]\n",
      "1.4970831848203884e-05 2.6605034683753645e-08\n",
      "[-0.00175846 -0.00162113 -0.00540835  0.00273641]\n",
      "1.4970663092134836e-05 2.660674745782821e-08\n",
      "[-0.00175846 -0.00162113 -0.00540834  0.00273643]\n",
      "1.497051478586377e-05 2.6608393429181233e-08\n",
      "|  12   |  60   |  22   | +2.3924e+00 | 2.03e-04 | 1.47e+02 | 0.00e+00 |\n",
      "[-0.0015982  -0.0015694  -0.00576384  0.00249078]\n",
      "1.670110065910475e-05 2.5492499894911377e-08\n",
      "[-0.00159822 -0.0015694  -0.00576384  0.00249078]\n",
      "1.6701068996736755e-05 2.549409153364326e-08\n",
      "[-0.0015982  -0.00156942 -0.00576384  0.00249078]\n",
      "1.6701117130302112e-05 2.5493879533249156e-08\n",
      "[-0.0015982  -0.0015694  -0.00576385  0.00249078]\n",
      "1.67011093781003e-05 2.5492779505107942e-08\n",
      "[-0.0015982  -0.0015694  -0.00576384  0.00249079]\n",
      "1.670112194525898e-05 2.5491161746718344e-08\n",
      "|  13   |  65   |  26   | +2.3853e+00 | 1.42e-03 | 3.56e+01 | 0.00e+00 |\n",
      "[-0.00159667 -0.00157267 -0.00583977  0.0025145 ]\n",
      "1.6782770993828154e-05 2.5704498608445193e-08\n",
      "[-0.00159669 -0.00157267 -0.00583977  0.0025145 ]\n",
      "1.6782753974699067e-05 2.570342023558296e-08\n",
      "[-0.00159667 -0.00157269 -0.00583977  0.0025145 ]\n",
      "1.678278970927992e-05 2.5703422027420525e-08\n",
      "[-0.00159667 -0.00157267 -0.00583979  0.0025145 ]\n",
      "1.678278078129898e-05 2.5704408984283665e-08\n",
      "[-0.00159667 -0.00157267 -0.00583977  0.00251452]\n",
      "1.6782785110282426e-05 2.5705274873430338e-08\n",
      "|  14   |  70   |  30   | +2.3841e+00 | 1.42e-03 | 1.85e+01 | 0.00e+00 |\n",
      "[-0.00160412 -0.00161402 -0.00688705  0.00283774]\n",
      "1.7562593970776608e-05 2.904351764850071e-08\n",
      "[-0.00160414 -0.00161402 -0.00688705  0.00283774]\n",
      "1.75626683185175e-05 2.9042720268162052e-08\n",
      "[-0.00160412 -0.00161404 -0.00688705  0.00283774]\n",
      "1.7562666114524873e-05 2.9043019071567647e-08\n",
      "[-0.00160412 -0.00161402 -0.00688707  0.00283774]\n",
      "1.7562615269735895e-05 2.9043471588579758e-08\n",
      "[-0.00160412 -0.00161402 -0.00688705  0.00283775]\n",
      "1.75625401425523e-05 2.9043980553413313e-08\n",
      "|  15   |  75   |  34   | +2.3726e+00 | 7.68e-03 | 7.14e+01 | 0.00e+00 |\n",
      "[-0.00160845 -0.0016811  -0.00869957  0.00332916]\n",
      "1.8539212512836362e-05 3.5932370428457064e-08\n",
      "[-0.00160847 -0.0016811  -0.00869957  0.00332916]\n",
      "1.8539291981775383e-05 3.5931805714078475e-08\n",
      "[-0.00160845 -0.00168111 -0.00869957  0.00332916]\n",
      "1.853927898802332e-05 3.593215655683174e-08\n",
      "[-0.00160845 -0.0016811  -0.00869958  0.00332916]\n",
      "1.853923239554661e-05 3.5932375832707335e-08\n",
      "[-0.00160845 -0.0016811  -0.00869957  0.00332918]\n",
      "1.8539154740849393e-05 3.593261372402644e-08\n",
      "|  16   |  80   |  38   | +2.3583e+00 | 1.32e-02 | 7.62e+01 | 0.00e+00 |\n",
      "[-0.00161215 -0.00184007 -0.0133859   0.00455493]\n",
      "1.9784313355170946e-05 4.923364477886795e-08\n",
      "[-0.00161216 -0.00184007 -0.0133859   0.00455493]\n",
      "1.978440775053835e-05 4.9233945356797596e-08\n",
      "[-0.00161215 -0.00184009 -0.0133859   0.00455493]\n",
      "1.9784079112058754e-05 4.923404722509467e-08\n",
      "[-0.00161215 -0.00184007 -0.01338591  0.00455493]\n",
      "1.9784302930208518e-05 4.9233718139823976e-08\n",
      "[-0.00161215 -0.00184007 -0.0133859   0.00455494]\n",
      "1.9784384565494194e-05 4.9233333358039786e-08\n",
      "|  17   |  85   |  42   | +2.3402e+00 | 3.39e-02 | 2.34e+02 | 0.00e+00 |\n",
      "[-0.00168307 -0.00192458 -0.01900244  0.00604928]\n",
      "1.7914962062607864e-05 4.044147821365046e-08\n",
      "[-0.00168308 -0.00192458 -0.01900244  0.00604928]\n",
      "1.791498476274281e-05 4.044016791565608e-08\n",
      "[-0.00168307 -0.0019246  -0.01900244  0.00604928]\n",
      "1.79150092252058e-05 4.044147950114443e-08\n",
      "[-0.00168307 -0.00192458 -0.01900245  0.00604928]\n",
      "1.7914947194863344e-05 4.044139177915874e-08\n",
      "[-0.00168307 -0.00192458 -0.01900244  0.00604929]\n",
      "1.7914953410731472e-05 4.0442034891325746e-08\n",
      "|  18   |  90   |  46   | +2.3402e+00 | 3.39e-03 | 2.34e+02 | 0.00e+00 |\n",
      "[-0.00167346 -0.00181088 -0.0141216   0.00479363]\n",
      "2.1124003078491566e-05 4.613725963774733e-08\n",
      "[-0.00167347 -0.00181088 -0.0141216   0.00479363]\n",
      "2.1124051141142885e-05 4.6137621641531704e-08\n",
      "[-0.00167346 -0.0018109  -0.0141216   0.00479363]\n",
      "2.1123828716219028e-05 4.6138337093244184e-08\n",
      "[-0.00167346 -0.00181088 -0.01412161  0.00479363]\n",
      "2.1123993046484898e-05 4.6137358995149105e-08\n",
      "[-0.00167346 -0.00181088 -0.0141216   0.00479364]\n",
      "2.112406816737114e-05 4.6136657348537936e-08\n",
      "|  19   |  95   |  50   | +2.3203e+00 | 5.44e-03 | 1.76e+02 | 0.00e+00 |\n",
      "[-0.00171559 -0.00178818 -0.01411477  0.00484013]\n",
      "2.160567623704257e-05 4.329286016189045e-08\n",
      "[-0.0017156  -0.00178818 -0.01411477  0.00484013]\n",
      "2.160569048156622e-05 4.329312556319996e-08\n",
      "[-0.00171559 -0.00178819 -0.01411477  0.00484013]\n",
      "2.1605573283070105e-05 4.3294081502448456e-08\n",
      "[-0.00171559 -0.00178818 -0.01411479  0.00484013]\n",
      "2.160566937781122e-05 4.329295168903776e-08\n",
      "[-0.00171559 -0.00178818 -0.01411477  0.00484015]\n",
      "2.1605724928708697e-05 4.329224532927843e-08\n",
      "|  20   |  100  |  53   | +2.3130e+00 | 5.44e-03 | 1.06e+02 | 0.00e+00 |\n",
      "[-0.00181681 -0.00181719 -0.01541046  0.00534001]\n",
      "2.1802710307835525e-05 3.1401933973388856e-08\n",
      "[-0.00181683 -0.00181719 -0.01541046  0.00534001]\n",
      "2.1802744249329292e-05 3.140350855123311e-08\n",
      "[-0.00181681 -0.00181721 -0.01541046  0.00534001]\n",
      "2.1802743911439183e-05 3.140286200739571e-08\n",
      "[-0.00181681 -0.00181719 -0.01541047  0.00534001]\n",
      "2.180270378492766e-05 3.1402057228829935e-08\n",
      "[-0.00181681 -0.00181719 -0.01541046  0.00534002]\n",
      "2.180270125965617e-05 3.140091055816857e-08\n",
      "|  21   |  105  |  57   | +2.3096e+00 | 5.44e-03 | 2.95e+01 | 0.00e+00 |\n",
      "[-0.00185969 -0.00181064 -0.01450072  0.00519276]\n",
      "2.207850415547419e-05 3.718505392589624e-08\n",
      "[-0.00185971 -0.00181064 -0.01450072  0.00519276]\n",
      "2.2078462292253877e-05 3.718653580868778e-08\n",
      "[-0.00185969 -0.00181066 -0.01450072  0.00519276]\n",
      "2.2078519474929734e-05 3.7185748518166984e-08\n",
      "[-0.00185969 -0.00181064 -0.01450074  0.00519276]\n",
      "2.2078498518237674e-05 3.7185172439135656e-08\n",
      "[-0.00185969 -0.00181064 -0.01450072  0.00519277]\n",
      "2.2078530043809338e-05 3.7184156201310946e-08\n",
      "|  22   |  110  |  61   | +2.3055e+00 | 6.46e-03 | 4.56e+01 | 0.00e+00 |\n",
      "[-0.00189889 -0.0018537  -0.01448353  0.00530027]\n",
      "2.2204942752807996e-05 3.646954207104158e-08\n",
      "[-0.00189891 -0.0018537  -0.01448353  0.00530027]\n",
      "2.2204904811005088e-05 3.6471016305022846e-08\n",
      "[-0.00189889 -0.00185371 -0.01448353  0.00530027]\n",
      "2.220495368428255e-05 3.647028386031368e-08\n",
      "[-0.00189889 -0.0018537  -0.01448354  0.00530027]\n",
      "2.2204937484161596e-05 3.646966195256136e-08\n",
      "[-0.00189889 -0.0018537  -0.01448353  0.00530028]\n",
      "2.2204968723873365e-05 3.6468626332166545e-08\n",
      "|  23   |  115  |  64   | +2.3035e+00 | 6.46e-03 | 4.17e+01 | 0.00e+00 |\n",
      "[-0.00400813 -0.00400972 -0.01384769  0.01097534]\n",
      "1.779662047039643e-05 3.1795313973243575e-08\n",
      "[-0.00400815 -0.00400972 -0.01384769  0.01097534]\n",
      "1.7796661657504397e-05 3.179494946808944e-08\n",
      "[-0.00400813 -0.00400973 -0.01384769  0.01097534]\n",
      "1.7796662211845557e-05 3.179374348898426e-08\n",
      "[-0.00400813 -0.00400972 -0.01384771  0.01097534]\n",
      "1.779662956150606e-05 3.179516900650365e-08\n",
      "[-0.00400813 -0.00400972 -0.01384769  0.01097536]\n",
      "1.7796586016847943e-05 3.1796222594816897e-08\n",
      "|  24   |  120  |  67   | +2.3035e+00 | 3.23e-03 | 4.17e+01 | 0.00e+00 |\n",
      "[-0.00294831 -0.00294123 -0.01415108  0.00813443]\n",
      "2.2557006836108097e-05 4.295516565483022e-08\n",
      "[-0.00294832 -0.00294123 -0.01415108  0.00813443]\n",
      "2.255701694210735e-05 4.2956742207671464e-08\n",
      "[-0.00294831 -0.00294124 -0.01415108  0.00813443]\n",
      "2.2557023003469854e-05 4.29546000731019e-08\n",
      "[-0.00294831 -0.00294123 -0.0141511   0.00813443]\n",
      "2.255702169722912e-05 4.295524538268627e-08\n",
      "[-0.00294831 -0.00294123 -0.01415108  0.00813445]\n",
      "2.255697474745984e-05 4.295468876548181e-08\n",
      "|  25   |  125  |  70   | +2.2939e+00 | 3.23e-03 | 2.76e+01 | 0.00e+00 |\n",
      "[-0.00192284 -0.00198906 -0.01587533  0.00579013]\n",
      "2.1899315848028258e-05 2.8551939269563888e-08\n",
      "[-0.00192286 -0.00198906 -0.01587533  0.00579013]\n",
      "2.189937407029009e-05 2.8550475129838415e-08\n",
      "[-0.00192284 -0.00198907 -0.01587533  0.00579013]\n",
      "2.189933538468466e-05 2.8551552767883187e-08\n",
      "[-0.00192284 -0.00198906 -0.01587535  0.00579013]\n",
      "2.1899307073033862e-05 2.8551790340177473e-08\n",
      "[-0.00192284 -0.00198906 -0.01587533  0.00579015]\n",
      "2.189930592421741e-05 2.855276455844831e-08\n",
      "|  26   |  130  |  73   | +2.2939e+00 | 1.61e-03 | 2.76e+01 | 0.00e+00 |\n",
      "[-0.00242065 -0.00243435 -0.01479629  0.00685134]\n",
      "2.360715117802947e-05 4.106942225967482e-08\n",
      "[-0.00242067 -0.00243435 -0.01479629  0.00685134]\n",
      "2.3607137426136405e-05 4.1068647194797804e-08\n",
      "[-0.00242065 -0.00243436 -0.01479629  0.00685134]\n",
      "2.360713163597931e-05 4.106925795865736e-08\n",
      "[-0.00242065 -0.00243435 -0.01479631  0.00685134]\n",
      "2.360715148943141e-05 4.1069318915727634e-08\n",
      "[-0.00242065 -0.00243435 -0.01479629  0.00685136]\n",
      "2.3607171164448296e-05 4.1069906997665296e-08\n",
      "|  27   |  135  |  77   | +2.2807e+00 | 3.22e-03 | 2.28e+01 | 0.00e+00 |\n",
      "[-0.00290381 -0.00295153 -0.01528896  0.00831626]\n",
      "2.3097213583839816e-05 4.4130102774467024e-08\n",
      "[-0.00290382 -0.00295153 -0.01528896  0.00831626]\n",
      "2.3097288127998368e-05 4.4130115249632136e-08\n",
      "[-0.00290381 -0.00295155 -0.01528896  0.00831626]\n",
      "2.30972592851589e-05 4.4131442249666034e-08\n",
      "[-0.00290381 -0.00295153 -0.01528897  0.00831626]\n",
      "2.3097232194938037e-05 4.4130197182500334e-08\n",
      "[-0.00290381 -0.00295153 -0.01528896  0.00831627]\n",
      "2.309714300664205e-05 4.4129482110590176e-08\n",
      "|  28   |  140  |  80   | +2.2807e+00 | 9.64e-04 | 2.28e+01 | 0.00e+00 |\n",
      "[-0.00256483 -0.00260144 -0.01528597  0.00737338]\n",
      "2.3862142228494576e-05 4.461882660320517e-08\n",
      "[-0.00256484 -0.00260144 -0.01528597  0.00737338]\n",
      "2.3862158372893795e-05 4.4618236612124055e-08\n",
      "[-0.00256483 -0.00260146 -0.01528597  0.00737338]\n",
      "2.3862142263742564e-05 4.461903381162009e-08\n",
      "[-0.00256483 -0.00260144 -0.01528598  0.00737338]\n",
      "2.3862145694268498e-05 4.4618767884808406e-08\n",
      "[-0.00256483 -0.00260144 -0.01528597  0.0073734 ]\n",
      "2.3862138399888866e-05 4.4619054559477545e-08\n",
      "|  29   |  145  |  84   | +2.2764e+00 | 5.24e-03 | 1.37e+01 | 0.00e+00 |\n",
      "[-0.0026107  -0.00265375 -0.01550279  0.00754812]\n",
      "2.3902950750612003e-05 4.5241579169625876e-08\n",
      "[-0.00261072 -0.00265375 -0.01550279  0.00754812]\n",
      "2.3902978574769532e-05 4.5241087150295084e-08\n",
      "[-0.0026107  -0.00265376 -0.01550279  0.00754812]\n",
      "2.3902959655435917e-05 4.52418938218573e-08\n",
      "[-0.0026107  -0.00265375 -0.0155028   0.00754812]\n",
      "2.3902955515707433e-05 4.5241537774516594e-08\n",
      "[-0.0026107  -0.00265375 -0.01550279  0.00754814]\n",
      "2.390293706600356e-05 4.5241708944793495e-08\n",
      "|  30   |  150  |  88   | +2.2756e+00 | 5.24e-03 | 2.52e+01 | 0.00e+00 |\n",
      "[-0.00266855 -0.00271731 -0.01588351  0.00778022]\n",
      "2.3932156156303736e-05 4.548072445574403e-08\n",
      "[-0.00266857 -0.00271731 -0.01588351  0.00778022]\n",
      "2.3932198830772773e-05 4.548037493471802e-08\n",
      "[-0.00266855 -0.00271732 -0.01588351  0.00778022]\n",
      "2.393217867563993e-05 4.54811371263758e-08\n",
      "[-0.00266855 -0.00271731 -0.01588353  0.00778022]\n",
      "2.3932162290737578e-05 4.548070414069237e-08\n",
      "[-0.00266855 -0.00271731 -0.01588351  0.00778024]\n",
      "2.393212953804445e-05 4.5480736576194676e-08\n",
      "|  31   |  155  |  92   | +2.2750e+00 | 5.24e-03 | 3.97e+01 | 0.00e+00 |\n",
      "[-0.00268972 -0.00273682 -0.01608887  0.00786483]\n",
      "2.39521548492061e-05 4.531234764636763e-08\n",
      "[-0.00268973 -0.00273682 -0.01608887  0.00786483]\n",
      "2.3952200533958898e-05 4.5312034319605436e-08\n",
      "[-0.00268972 -0.00273683 -0.01608887  0.00786483]\n",
      "2.3952182179873787e-05 4.5312749559529576e-08\n",
      "[-0.00268972 -0.00273682 -0.01608888  0.00786483]\n",
      "2.3952160833142743e-05 4.53123303786666e-08\n",
      "[-0.00268972 -0.00273682 -0.01608887  0.00786484]\n",
      "2.3952125494481445e-05 4.5312345342243255e-08\n",
      "|  32   |  160  |  96   | +2.2747e+00 | 5.24e-03 | 4.26e+01 | 0.00e+00 |\n",
      "[-0.00277381 -0.00280526 -0.0167112   0.00814031]\n",
      "2.4019049313689496e-05 4.466561807634705e-08\n",
      "[-0.00277383 -0.00280526 -0.0167112   0.00814031]\n",
      "2.401909720716769e-05 4.4665365841902367e-08\n",
      "[-0.00277381 -0.00280527 -0.0167112   0.00814031]\n",
      "2.4019086690145495e-05 4.466596608269472e-08\n",
      "[-0.00277381 -0.00280526 -0.01671121  0.00814031]\n",
      "2.4019054463188955e-05 4.466560614778336e-08\n",
      "[-0.00277381 -0.00280526 -0.0167112   0.00814032]\n",
      "2.4019016127946985e-05 4.466560270903797e-08\n",
      "|  33   |  165  |  100  | +2.2737e+00 | 5.24e-03 | 4.47e+01 | 0.00e+00 |\n",
      "[-0.00290555 -0.00290617 -0.01743204  0.00850521]\n",
      "2.4105575136440037e-05 4.390237267269277e-08\n",
      "[-0.00290556 -0.00290617 -0.01743204  0.00850521]\n",
      "2.4105618968528583e-05 4.3902140625422126e-08\n",
      "[-0.00290555 -0.00290618 -0.01743204  0.00850521]\n",
      "2.4105618782767623e-05 4.390264710371052e-08\n",
      "[-0.00290555 -0.00290617 -0.01743206  0.00850521]\n",
      "2.410557924718485e-05 4.3902364511479993e-08\n",
      "[-0.00290555 -0.00290617 -0.01743204  0.00850523]\n",
      "2.4105541590743197e-05 4.390236829220027e-08\n",
      "|  34   |  170  |  104  | +2.2723e+00 | 5.77e-03 | 4.07e+01 | 0.00e+00 |\n",
      "[-0.0031133  -0.00306043 -0.01830449  0.00900857]\n",
      "2.4228248450381812e-05 4.4227252569099584e-08\n",
      "[-0.00311332 -0.00306043 -0.01830449  0.00900857]\n",
      "2.422827797264359e-05 4.422742736938651e-08\n",
      "[-0.0031133  -0.00306045 -0.01830449  0.00900857]\n",
      "2.4228293710294024e-05 4.42269320139874e-08\n",
      "[-0.0031133  -0.00306043 -0.0183045   0.00900857]\n",
      "2.422825129700412e-05 4.4227208610288505e-08\n",
      "[-0.0031133  -0.00306043 -0.01830449  0.00900859]\n",
      "2.4228219699644015e-05 4.422736864934819e-08\n",
      "|  35   |  175  |  108  | +2.2705e+00 | 7.28e-03 | 4.22e+01 | 0.00e+00 |\n",
      "[-0.00317143 -0.00309705 -0.01828495  0.00906357]\n",
      "2.4317689896451193e-05 4.4541055029322245e-08\n",
      "[-0.00317145 -0.00309705 -0.01828495  0.00906357]\n",
      "2.431770088087683e-05 4.4541160526874034e-08\n",
      "[-0.00317143 -0.00309707 -0.01828495  0.00906357]\n",
      "2.431772732477795e-05 4.45405668723007e-08\n",
      "[-0.00317143 -0.00309705 -0.01828497  0.00906357]\n",
      "2.4317692477266996e-05 4.4540976933751215e-08\n",
      "[-0.00317143 -0.00309705 -0.01828495  0.00906358]\n",
      "2.4317670622985408e-05 4.4541308825004625e-08\n",
      "|  36   |  180  |  111  | +2.2692e+00 | 7.28e-03 | 3.46e+01 | 0.00e+00 |\n",
      "[-0.00321937 -0.00314331 -0.01826183  0.00910563]\n",
      "2.437376755633445e-05 4.397184044104454e-08\n",
      "[-0.00321938 -0.00314331 -0.01826183  0.00910563]\n",
      "2.4373757296379233e-05 4.397182701309128e-08\n",
      "[-0.00321937 -0.00314333 -0.01826183  0.00910563]\n",
      "2.437378916322247e-05 4.3971157355689785e-08\n",
      "[-0.00321937 -0.00314331 -0.01826184  0.00910563]\n",
      "2.4373769379343748e-05 4.397172568774894e-08\n",
      "[-0.00321937 -0.00314331 -0.01826183  0.00910565]\n",
      "2.4373762422706896e-05 4.397226260754203e-08\n",
      "|  37   |  185  |  114  | +2.2685e+00 | 7.28e-03 | 1.92e+01 | 0.00e+00 |\n",
      "[-0.00331367 -0.00324521 -0.01871834  0.00937366]\n",
      "2.441179030326331e-05 4.326513417175099e-08\n",
      "[-0.00331368 -0.00324521 -0.01871834  0.00937366]\n",
      "2.4411778456857627e-05 4.326504390527896e-08\n",
      "[-0.00331367 -0.00324523 -0.01871834  0.00937366]\n",
      "2.4411807295399567e-05 4.3264413171749435e-08\n",
      "[-0.00331367 -0.00324521 -0.01871835  0.00937366]\n",
      "2.4411791280462046e-05 4.3265007641433444e-08\n",
      "[-0.00331367 -0.00324521 -0.01871834  0.00937368]\n",
      "2.441178799127634e-05 4.326561460898354e-08\n",
      "|  38   |  190  |  118  | +2.2679e+00 | 7.28e-03 | 1.47e+01 | 0.00e+00 |\n",
      "[-0.00349617 -0.00347381 -0.01957988  0.0099373 ]\n",
      "2.4455122358010648e-05 4.198037111875971e-08\n",
      "[-0.00349619 -0.00347381 -0.01957988  0.0099373 ]\n",
      "2.445511885498221e-05 4.198023355592505e-08\n",
      "[-0.00349617 -0.00347383 -0.01957988  0.0099373 ]\n",
      "2.4455128578590638e-05 4.1979639165031304e-08\n",
      "[-0.00349617 -0.00347381 -0.01957989  0.0099373 ]\n",
      "2.445512334166432e-05 4.1980253520871635e-08\n",
      "[-0.00349617 -0.00347381 -0.01957988  0.00993731]\n",
      "2.445511952192262e-05 4.198085909998779e-08\n",
      "|  39   |  195  |  122  | +2.2671e+00 | 7.49e-03 | 6.10e+00 | 0.00e+00 |\n",
      "[-0.00348303 -0.00347803 -0.01958991  0.00992735]\n",
      "2.4459864143802936e-05 4.18723748791001e-08\n",
      "[-0.00348305 -0.00347803 -0.01958991  0.00992735]\n",
      "2.4459864096176933e-05 4.187168976612408e-08\n",
      "[-0.00348303 -0.00347804 -0.01958991  0.00992735]\n",
      "2.4459866245919455e-05 4.18722286687857e-08\n",
      "[-0.00348303 -0.00347803 -0.01958992  0.00992735]\n",
      "2.4459864600535996e-05 4.187227128069654e-08\n",
      "[-0.00348303 -0.00347803 -0.01958991  0.00992736]\n",
      "2.445986239302978e-05 4.187282806368456e-08\n",
      "|  40   |  200  |  125  | +2.2670e+00 | 7.49e-03 | 2.15e+00 | 0.00e+00 |\n",
      "[-0.00348198 -0.00348107 -0.01958535  0.00993361]\n",
      "2.4458964772524574e-05 4.2111993971786323e-08\n",
      "[-0.003482   -0.00348107 -0.01958535  0.00993361]\n",
      "2.4458967095181164e-05 4.211131716914132e-08\n",
      "[-0.00348198 -0.00348108 -0.01958535  0.00993361]\n",
      "2.445896748814106e-05 4.2111874640214606e-08\n",
      "[-0.00348198 -0.00348107 -0.01958536  0.00993361]\n",
      "2.44589656633496e-05 4.21118921245309e-08\n",
      "[-0.00348198 -0.00348107 -0.01958535  0.00993362]\n",
      "2.4458961258714407e-05 4.2112431983014136e-08\n",
      "|  41   |  205  |  128  | +2.2670e+00 | 7.49e-03 | 3.09e-01 | 0.00e+00 |\n",
      "[-0.00348044 -0.00347906 -0.01958798  0.00992994]\n",
      "2.4459335370597965e-05 4.207241395926959e-08\n",
      "[-0.00348045 -0.00347906 -0.01958798  0.00992994]\n",
      "2.445933756476546e-05 4.20717386660306e-08\n",
      "[-0.00348044 -0.00347908 -0.01958798  0.00992994]\n",
      "2.4459338151698334e-05 4.207228744124854e-08\n",
      "[-0.00348044 -0.00347906 -0.019588    0.00992994]\n",
      "2.4459336108130742e-05 4.207231176634941e-08\n",
      "[-0.00348044 -0.00347906 -0.01958798  0.00992995]\n",
      "2.445933212780713e-05 4.207285446800437e-08\n",
      "|  42   |  210  |  131  | +2.2670e+00 | 7.49e-03 | 8.78e-02 | 0.00e+00 |\n",
      "[-0.00348068 -0.00347938 -0.01958728  0.0099302 ]\n",
      "2.4459336667154516e-05 4.207128278948134e-08\n",
      "[-0.00348069 -0.00347938 -0.01958728  0.0099302 ]\n",
      "2.445933879319925e-05 4.207060652700232e-08\n",
      "[-0.00348068 -0.00347939 -0.01958728  0.0099302 ]\n",
      "2.4459339350959558e-05 4.2071156329031785e-08\n",
      "[-0.00348068 -0.00347938 -0.0195873   0.0099302 ]\n",
      "2.445933741458902e-05 4.207118045750802e-08\n",
      "[-0.00348068 -0.00347938 -0.01958728  0.00993021]\n",
      "2.445933346760272e-05 4.207172384373328e-08\n",
      "|  43   |  215  |  134  | +2.2670e+00 | 7.49e-03 | 1.61e-02 | 0.00e+00 |\n",
      "[-0.00347775 -0.00347648 -0.01957443  0.00992206]\n",
      "2.4459491288035872e-05 4.2076133445362504e-08\n",
      "[-0.00347777 -0.00347648 -0.01957443  0.00992206]\n",
      "2.445949342199429e-05 4.207545720993287e-08\n",
      "[-0.00347775 -0.00347649 -0.01957443  0.00992206]\n",
      "2.4459493966245207e-05 4.207600765093069e-08\n",
      "[-0.00347775 -0.00347648 -0.01957445  0.00992206]\n",
      "2.4459492038001974e-05 4.2076031231312177e-08\n",
      "[-0.00347775 -0.00347648 -0.01957443  0.00992208]\n",
      "2.4459488102936467e-05 4.2076574068002105e-08\n",
      "|  44   |  220  |  138  | +2.2670e+00 | 7.49e-03 | 1.45e-02 | 0.00e+00 |\n",
      "[-0.00347774 -0.00347646 -0.01957443  0.00992208]\n",
      "2.4459483986760822e-05 4.207711377130619e-08\n",
      "[-0.00347776 -0.00347646 -0.01957443  0.00992208]\n",
      "2.4459486132576618e-05 4.207643765058863e-08\n",
      "[-0.00347774 -0.00347648 -0.01957443  0.00992208]\n",
      "2.4459486679611688e-05 4.20769881377059e-08\n",
      "[-0.00347774 -0.00347646 -0.01957444  0.00992208]\n",
      "2.4459484738785902e-05 4.20770115904703e-08\n",
      "[-0.00347774 -0.00347646 -0.01957443  0.00992209]\n",
      "2.4459480788903865e-05 4.207755424505926e-08\n",
      "|  45   |  225  |  139  | +2.2670e+00 | 7.49e-03 | 3.25e-03 | 0.00e+00 |\n",
      "[-0.00347733 -0.00347604 -0.01957239  0.00992088]\n",
      "2.445950193937908e-05 4.2078038297353034e-08\n",
      "[-0.00347734 -0.00347604 -0.01957239  0.00992088]\n",
      "2.445950408266088e-05 4.2077362146955084e-08\n",
      "[-0.00347733 -0.00347606 -0.01957239  0.00992088]\n",
      "2.4459504632240265e-05 4.2077912868891645e-08\n",
      "[-0.00347733 -0.00347604 -0.01957241  0.00992088]\n",
      "2.445950269413505e-05 4.20779361466328e-08\n",
      "[-0.00347733 -0.00347604 -0.01957239  0.00992089]\n",
      "2.4459498741006133e-05 4.207847866299862e-08\n",
      "|  46   |  230  |  143  | +2.2670e+00 | 7.49e-04 | 3.25e-03 | 0.00e+00 |\n",
      "[-0.00347733 -0.00347604 -0.0195724   0.00992088]\n",
      "2.445950187191899e-05 4.207797912978485e-08\n",
      "[-0.00347735 -0.00347604 -0.0195724   0.00992088]\n",
      "2.4459504014469054e-05 4.207730297851406e-08\n",
      "[-0.00347733 -0.00347606 -0.0195724   0.00992088]\n",
      "2.4459504565100747e-05 4.2077853700065965e-08\n",
      "[-0.00347733 -0.00347604 -0.01957241  0.00992088]\n",
      "2.4459502626668175e-05 4.207787698000739e-08\n",
      "[-0.00347733 -0.00347604 -0.0195724   0.0099209 ]\n",
      "2.4459498673692465e-05 4.2078419494753797e-08\n",
      "|  47   |  235  |  147  | +2.2670e+00 | 7.49e-05 | 3.25e-03 | 0.00e+00 |\n",
      "[-0.00347733 -0.00347604 -0.01957241  0.00992089]\n",
      "2.445950180645224e-05 4.207790763682208e-08\n",
      "[-0.00347735 -0.00347604 -0.01957241  0.00992089]\n",
      "2.4459503948161102e-05 4.207723148452802e-08\n",
      "[-0.00347733 -0.00347606 -0.01957241  0.00992089]\n",
      "2.445950449998036e-05 4.207778220475255e-08\n",
      "[-0.00347733 -0.00347604 -0.01957242  0.00992089]\n",
      "2.4459502561185068e-05 4.207780548798488e-08\n",
      "[-0.00347733 -0.00347604 -0.01957241  0.0099209 ]\n",
      "2.4459498608426493e-05 4.207834800159459e-08\n",
      "|  48   |  240  |  151  | +2.2670e+00 | 7.49e-06 | 3.25e-03 | 0.00e+00 |\n",
      "[-0.00347728 -0.00347602 -0.01957226  0.00992079]\n",
      "2.4459502985253715e-05 4.2078624655916846e-08\n",
      "[-0.0034773  -0.00347602 -0.01957226  0.00992079]\n",
      "2.4459505135110282e-05 4.2077948513448514e-08\n",
      "[-0.00347728 -0.00347603 -0.01957226  0.00992079]\n",
      "2.445950567550683e-05 4.207849925142727e-08\n",
      "[-0.00347728 -0.00347602 -0.01957228  0.00992079]\n",
      "2.4459503740249235e-05 4.207852249881941e-08\n",
      "[-0.00347728 -0.00347602 -0.01957226  0.00992081]\n",
      "2.445949978528482e-05 4.2079065019740374e-08\n",
      "|  49   |  245  |  155  | +2.2670e+00 | 7.49e-07 | 3.25e-03 | 0.00e+00 |\n",
      "[-0.00347764 -0.00347635 -0.01957377  0.00992175]\n",
      "2.4459486694741614e-05 4.2077496796341876e-08\n",
      "[-0.00347765 -0.00347635 -0.01957377  0.00992175]\n",
      "2.4459488837216936e-05 4.2076820638985875e-08\n",
      "[-0.00347764 -0.00347637 -0.01957377  0.00992175]\n",
      "2.445948938713119e-05 4.207737128335148e-08\n",
      "[-0.00347764 -0.00347635 -0.01957379  0.00992175]\n",
      "2.445948744899906e-05 4.2077394629892054e-08\n",
      "[-0.00347764 -0.00347635 -0.01957377  0.00992176]\n",
      "2.4459483495541364e-05 4.2077937218943516e-08\n",
      "|  50   |  250  |  159  | +2.2670e+00 | 3.75e-07 | 3.25e-03 | 0.00e+00 |\n",
      "[-0.00347771 -0.00347642 -0.01957408  0.00992194]\n",
      "2.4459483240579392e-05 4.2077366927664076e-08\n",
      "[-0.00347772 -0.00347642 -0.01957408  0.00992194]\n",
      "2.4459485382756765e-05 4.207669076845936e-08\n",
      "[-0.00347771 -0.00347644 -0.01957408  0.00992194]\n",
      "2.445948593290412e-05 4.207724139583642e-08\n",
      "[-0.00347771 -0.00347642 -0.0195741   0.00992194]\n",
      "2.445948399473336e-05 4.207726475783535e-08\n",
      "[-0.00347771 -0.00347642 -0.01957408  0.00992196]\n",
      "2.445948004121791e-05 4.2077807362928435e-08\n",
      "|  51   |  255  |  163  | +2.2670e+00 | 1.87e-07 | 3.25e-03 | 0.00e+00 |\n",
      "[-0.00347774 -0.00347646 -0.01957424  0.00992204]\n",
      "2.445948145306525e-05 4.207730592491022e-08\n",
      "[-0.00347776 -0.00347646 -0.01957424  0.00992204]\n",
      "2.445948359517586e-05 4.207662976493683e-08\n",
      "[-0.00347774 -0.00347647 -0.01957424  0.00992204]\n",
      "2.4459484145324133e-05 4.207718038318035e-08\n",
      "[-0.00347774 -0.00347646 -0.01957426  0.00992204]\n",
      "2.4459482207160277e-05 4.2077203753177146e-08\n",
      "[-0.00347774 -0.00347646 -0.01957424  0.00992206]\n",
      "2.4459478253603e-05 4.207774636685022e-08\n",
      "|  52   |  260  |  167  | +2.2670e+00 | 3.75e-07 | 1.29e-03 | 0.00e+00 |\n",
      "[-0.00347765 -0.00347637 -0.01957398  0.00992181]\n",
      "2.4459487671075513e-05 4.207727944155051e-08\n",
      "[-0.00347767 -0.00347637 -0.01957398  0.00992181]\n",
      "2.4459489815769915e-05 4.2076603317483734e-08\n",
      "[-0.00347765 -0.00347638 -0.01957398  0.00992181]\n",
      "2.4459490364960152e-05 4.207715385902483e-08\n",
      "[-0.00347765 -0.00347637 -0.01957399  0.00992181]\n",
      "2.4459488423794337e-05 4.207717727013959e-08\n",
      "[-0.00347765 -0.00347637 -0.01957398  0.00992183]\n",
      "2.44594844727911e-05 4.2077719884030024e-08\n",
      "|  53   |  265  |  171  | +2.2670e+00 | 1.20e-07 | 1.29e-03 | 0.00e+00 |\n",
      "[-0.00347771 -0.00347642 -0.01957419  0.00992195]\n",
      "2.4459486561021007e-05 4.207688570189499e-08\n",
      "[-0.00347772 -0.00347642 -0.01957419  0.00992195]\n",
      "2.445948870181596e-05 4.207620955544378e-08\n",
      "[-0.00347771 -0.00347643 -0.01957419  0.00992195]\n",
      "2.4459489253122225e-05 4.207676007553006e-08\n",
      "[-0.00347771 -0.00347642 -0.01957421  0.00992195]\n",
      "2.4459487313281295e-05 4.207678352471704e-08\n",
      "[-0.00347771 -0.00347642 -0.01957419  0.00992196]\n",
      "2.4459483365176367e-05 4.207732617693799e-08\n",
      "|  54   |  270  |  173  | +2.2670e+00 | 2.24e-08 | 1.29e-03 | 0.00e+00 |\n",
      "[-0.00347774 -0.00347645 -0.01957423  0.00992203]\n",
      "2.4459481998099996e-05 4.2077172993290744e-08\n",
      "[-0.00347775 -0.00347645 -0.01957423  0.00992203]\n",
      "2.4459484139411098e-05 4.207649684416703e-08\n",
      "[-0.00347774 -0.00347646 -0.01957423  0.00992203]\n",
      "2.445948469216306e-05 4.207704744306157e-08\n",
      "[-0.00347774 -0.00347645 -0.01957425  0.00992203]\n",
      "2.44594827519227e-05 4.207707082502859e-08\n",
      "[-0.00347774 -0.00347645 -0.01957423  0.00992204]\n",
      "2.4459478798725972e-05 4.207761342915042e-08\n",
      "|  55   |  275  |  174  | +2.2670e+00 | 6.33e-09 | 1.29e-03 | 0.00e+00 |\n",
      "\n",
      "`xtol` termination condition is satisfied.\n",
      "Number of iterations: 55, function evaluations: 275, CG iterations: 174, optimality: 1.29e-03, constraint violation: 0.00e+00, execution time: 2.1e+03 s.\n"
     ]
    }
   ],
   "source": [
    "sol1 = minimize(\n",
    "            codes.optimization.loss,\n",
    "            x,\n",
    "            args=opt_args,\n",
    "            method=\"trust-constr\",\n",
    "            # jac=codes.optimization.jacobian,\n",
    "            options={\n",
    "                \"verbose\":2,\n",
    "                \"initial_tr_radius\":1e-3,\n",
    "            },\n",
    "        )"
   ]
  },
  {
   "cell_type": "raw",
   "id": "212cc22a-6abe-4d86-b535-1b0e5a5abe1b",
   "metadata": {},
   "source": [
    "optimiser_args = system.optimiser_arguments()\n"
   ]
  },
  {
   "cell_type": "code",
   "execution_count": 70,
   "id": "c3a230bc-0e28-4237-9eb8-07d2fef5d6ca",
   "metadata": {},
   "outputs": [],
   "source": [
    "deltaV = np.linspace(-2, 5, 100) * 1e-3\n",
    "scattering_region_density = kwant.operator.Density(system.trijunction, where=bounds)\n",
    "kwant_sites = np.array([site.pos for site in system.trijunction.sites])"
   ]
  },
  {
   "cell_type": "code",
   "execution_count": 95,
   "id": "ccd18fec-cfd7-48c6-b33c-8a90f5b4d01a",
   "metadata": {},
   "outputs": [],
   "source": [
    "from tqdm import tqdm"
   ]
  },
  {
   "cell_type": "code",
   "execution_count": 239,
   "id": "fef4ebda-e5f6-43f8-9364-81aa3c98d8c6",
   "metadata": {
    "tags": []
   },
   "outputs": [
    {
     "name": "stderr",
     "output_type": "stream",
     "text": [
      "100%|██████████| 100/100 [13:39<00:00,  8.20s/it]\n"
     ]
    }
   ],
   "source": [
    "# wave_functions = []\n",
    "# ratios = []\n",
    "# desired_couplings = []\n",
    "# undesired_couplings = []\n",
    "shape, loss = [], []\n",
    "for v in tqdm(deltaV):\n",
    "    a, b = codes.optimization.loss([-0.00343678 + v, \n",
    "                                    -0.00343654 + v, \n",
    "                                    -0.01941018,  \n",
    "                                    0.00980045], \n",
    "                                   *opt_args\n",
    "                                  )\n",
    "    shape.append(a)\n",
    "    loss.append(b)\n",
    "#     params.update(parameters.voltage_dict([-0.00343678 + v, \n",
    "#                                            -0.00343654 + v, \n",
    "#                                            -0.01941018,  \n",
    "#                                            0.00980045]))\n",
    "#     linear_ham, numerical_hamiltonian = hamiltonian(system.trijunction, \n",
    "#                                     optimiser_args['linear_terms'], \n",
    "#                                     optimiser_args['kwant_params_fn'], \n",
    "#                                     **params)\n",
    "#     energies, wave_function = eigsh(\n",
    "#                 numerical_hamiltonian.tocsc(),\n",
    "#                 6,\n",
    "#                 sigma=0,\n",
    "#                 return_eigenvectors=True,\n",
    "#     )\n",
    "#     transformed_hamiltonian = svd_transformation(\n",
    "#     energies, wave_function, system.mlwf[order_wavefunctions('left-right')]\n",
    "#     )\n",
    "\n",
    "#     desired_couplings.append(np.abs(transformed_hamiltonian[0, 1]))\n",
    "#     undesired_couplings.append(np.linalg.norm(transformed_hamiltonian[2:]))\n",
    "    \n",
    "#     step = system.geometry['grid_spacing']*scale\n",
    "\n",
    "#     xmin, xmax, ymin, ymax = np.array(list(system.boundaries.values()))*scale\n",
    "#     bounds = lambda site: (site.pos[0] > xmin \n",
    "#                         and site.pos[0] < xmax\n",
    "#                         and site.pos[1] > ymin\n",
    "#                         and site.pos[1] < ymax)\n",
    "    \n",
    "    \n",
    "#     wavefunction_density = scattering_region_density(wave_function[:, 0])\n",
    "\n",
    "#     scattering_sites = kwant_sites[[bounds(site) for site in system.trijunction.sites]]\n",
    "#     x, y = scattering_sites[:, 0], scattering_sites[:, 1]\n",
    "#     nx, ny = len(np.unique(x)), len(np.unique(y))\n",
    "\n",
    "#     interpolated_wavefunction = wavefunction_density.reshape((nx, -1))\n",
    "    \n",
    "#     ratios.append(ratio_Gaussian_curvature(interpolated_wavefunction, step))\n"
   ]
  },
  {
   "cell_type": "code",
   "execution_count": 242,
   "id": "b46b538e-1218-46f9-985d-50bbc36ee1d1",
   "metadata": {},
   "outputs": [
    {
     "data": {
      "text/plain": [
       "Text(0.5, 0, 'Detuning (V)')"
      ]
     },
     "execution_count": 242,
     "metadata": {},
     "output_type": "execute_result"
    },
    {
     "data": {
      "image/png": "[encoded data removed]",
      "text/plain": [
       "<Figure size 400x600 with 4 Axes>"
      ]
     },
     "metadata": {},
     "output_type": "display_data"
    }
   ],
   "source": [
    "fig, ax = plt.subplots(4, 1, figsize=(4, 6), sharex=True)\n",
    "r = 15\n",
    "ax[0].plot(deltaV[r:], ratios[r:], '-', c='r')\n",
    "# ax[0].vlines(0.0, -5, -0.5, 'r')\n",
    "\n",
    "ax[0].set_ylabel(r'$\\frac{K_{min}}{K_{max}}$', fontsize=11)\n",
    "\n",
    "ax[1].plot(deltaV[r:], np.array(desired_couplings)[r:]/40e-6, '-', c='r')\n",
    "ax[1].set_ylabel(r'Couplings $\\Delta_t$', fontsize=11)\n",
    "\n",
    "\n",
    "ax[2].plot(deltaV[r:], np.array(shape)[r:]/40e-6, '-', c='r')\n",
    "ax[2].set_ylabel('Potential error(V)', fontsize=11)\n",
    "\n",
    "ax[3].plot(deltaV[r:],( np.array(loss) - np.array(shape))[r:]/40e-6, '-', c='r')\n",
    "ax[3].set_ylabel('Default loss', fontsize=11)\n",
    "\n",
    "ax[3].set_xlabel('Detuning (V)', fontsize=11)"
   ]
  },
  {
   "cell_type": "code",
   "execution_count": 88,
   "id": "bf3604dd-b447-4764-87a8-b3dc5ac5e28d",
   "metadata": {},
   "outputs": [],
   "source": [
    "params.update(parameters.voltage_dict(sol1.x))\n",
    "linear_ham, numerical_hamiltonian = hamiltonian(system.trijunction, \n",
    "                                optimiser_args['linear_terms'], \n",
    "                                optimiser_args['kwant_params_fn'], \n",
    "                                **params)"
   ]
  },
  {
   "cell_type": "code",
   "execution_count": 89,
   "id": "02a365e1-29cf-42b2-8485-1d3e410db094",
   "metadata": {},
   "outputs": [],
   "source": [
    "energies, wave_function = eigsh(\n",
    "                numerical_hamiltonian.tocsc(),\n",
    "                6,\n",
    "                sigma=0,\n",
    "                return_eigenvectors=True,\n",
    "    )"
   ]
  },
  {
   "cell_type": "raw",
   "id": "ba80a5b2-1628-4119-9d86-16e5dc5f8696",
   "metadata": {},
   "source": [
    "import pickle\n",
    "with open(\"/home/tinkerer/trijunction-design/data/left_right.pickle\", 'rb') as outfile:\n",
    "    couplings = pickle.load(outfile)"
   ]
  },
  {
   "cell_type": "code",
   "execution_count": 90,
   "id": "75c693b4-1866-461d-87d6-ee5a8e5c3220",
   "metadata": {
    "tags": []
   },
   "outputs": [
    {
     "data": {
      "image/png": "[encoded data removed]",
      "text/plain": [
       "<Figure size 500x500 with 1 Axes>"
      ]
     },
     "metadata": {},
     "output_type": "display_data"
    }
   ],
   "source": [
    "fig, ax = plt.subplots(1, 1, figsize = (5, 5), sharey= True)\n",
    "\n",
    "density = kwant.operator.Density(system.trijunction, np.eye(4))\n",
    "for i, vec in enumerate(wave_function.T[[0]]):\n",
    "    kwant.plotter.density(system.trijunction, density(vec), ax=ax);\n"
   ]
  },
  {
   "cell_type": "code",
   "execution_count": 81,
   "id": "e713d342-9cb7-44dc-8dd4-556048e8db08",
   "metadata": {},
   "outputs": [],
   "source": [
    "transformed_hamiltonian = svd_transformation(\n",
    "    energies, wave_function, system.mlwf[order_wavefunctions('left-right')]\n",
    ")\n",
    "\n",
    "desired = np.abs(transformed_hamiltonian[0, 1])\n",
    "undesired = np.linalg.norm(transformed_hamiltonian[2:])"
   ]
  },
  {
   "cell_type": "markdown",
   "id": "cf834592-96bd-45c8-9454-7f2319ac7d97",
   "metadata": {},
   "source": [
    "### Initial voltage guess"
   ]
  },
  {
   "cell_type": "raw",
   "id": "c957a9e1-71a0-4a51-a513-77502a6ab6ed",
   "metadata": {},
   "source": [
    "import codes.optimization\n",
    "import codes.utils\n",
    "importlib.reload(codes.utils)\n",
    "importlib.reload(codes.optimization)"
   ]
  },
  {
   "cell_type": "code",
   "execution_count": 6,
   "id": "93cb9e54-cc72-44de-b036-5d642431ce9b",
   "metadata": {},
   "outputs": [],
   "source": [
    "kwant_sites = [site.pos for site in system.trijunction.sites]"
   ]
  },
  {
   "cell_type": "code",
   "execution_count": 7,
   "id": "bf6e66c8-eaad-442e-97e0-01ab52846081",
   "metadata": {
    "tags": []
   },
   "outputs": [],
   "source": [
    "gates_dict = zip(system.gate_names, system.gates_vertex)\n",
    "indices = dep_acc_index(\n",
    "    gates_dict,\n",
    "    system.nw_centers,\n",
    "    kwant_sites,\n",
    "    config['gate']['angle'],\n",
    "    shift=3,\n",
    "    spacing = 3,\n",
    "    npts=5\n",
    ")"
   ]
  },
  {
   "cell_type": "code",
   "execution_count": 8,
   "id": "6632d33f-aadf-477c-a27e-d6364df9c7a9",
   "metadata": {},
   "outputs": [
    {
     "data": {
      "image/png": "[encoded data removed]",
      "text/plain": [
       "<Figure size 640x480 with 1 Axes>"
      ]
     },
     "metadata": {},
     "output_type": "display_data"
    }
   ],
   "source": [
    "site_coords = system.grid_points[system.site_indices]\n",
    "for gate, index in indices.items():\n",
    "    point = kwant_sites[index]/scale\n",
    "    plt.scatter(point[0], point[1], c='b')\n",
    "\n",
    "for key, value in system.poisson_system.regions.voltage.tag_points.items():\n",
    "    if not key.startswith(('global', 'dirichlet')):\n",
    "        coords = system.grid_points[value]\n",
    "        plt.scatter(coords[:, 0], coords[:, 1], s = 0.1)"
   ]
  },
  {
   "cell_type": "code",
   "execution_count": 9,
   "id": "bdb4d67e-e40f-414d-9d17-dc8d70adce1a",
   "metadata": {},
   "outputs": [],
   "source": [
    "params = parameters.junction_parameters()\n",
    "params.update(potential=system.flat_potential())\n",
    "# base_ham = system.trijunction.hamiltonian_submatrix(\n",
    "#     sparse=True, params=system.f_params(**params)\n",
    "# )\n",
    "args = ((system.base_ham, system.linear_terms), \n",
    "        system.densityoperator, \n",
    "        indices, \n",
    "        ['top', 'right'])"
   ]
  },
  {
   "cell_type": "code",
   "execution_count": 10,
   "id": "f054c368-38a1-4b6b-b109-63963e79f3f0",
   "metadata": {},
   "outputs": [],
   "source": [
    "initial_condition = (-1.5e-3, -1.5e-3, -1.5e-3, 3e-3)"
   ]
  },
  {
   "cell_type": "code",
   "execution_count": 12,
   "id": "82af28cf-5105-4f37-890d-dde373034d54",
   "metadata": {},
   "outputs": [],
   "source": [
    "from codes.optimization import soft_threshold_loss"
   ]
  },
  {
   "cell_type": "code",
   "execution_count": 13,
   "id": "b4ee6e1b-03df-4060-8cad-278e227f5f23",
   "metadata": {
    "tags": []
   },
   "outputs": [
    {
     "name": "stdout",
     "output_type": "stream",
     "text": [
      "| niter |f evals|CG iter|  obj func   |tr radius |   opt    |  c viol  |\n",
      "|-------|-------|-------|-------------|----------|----------|----------|\n",
      "|   1   |   5   |   0   | +1.9176e-02 | 1.00e-03 | 4.70e+00 | 0.00e+00 |\n",
      "|   2   |  10   |   1   | +1.3233e-02 | 7.00e-03 | 4.70e+00 | 0.00e+00 |\n",
      "|   3   |  15   |   2   | +5.6460e-03 | 7.00e-03 | 3.35e+00 | 0.00e+00 |\n",
      "|   4   |  20   |   4   | +5.2242e-03 | 7.00e-03 | 1.95e+00 | 0.00e+00 |\n",
      "|   5   |  25   |   6   | -4.5705e-05 | 1.40e-02 | 1.52e+00 | 0.00e+00 |\n",
      "|   6   |  30   |   8   | -4.5705e-05 | 6.14e-03 | 1.52e+00 | 0.00e+00 |\n",
      "|   7   |  35   |  10   | -4.5705e-05 | 3.07e-03 | 1.52e+00 | 0.00e+00 |\n",
      "|   8   |  40   |  11   | -4.5705e-05 | 1.54e-03 | 1.52e+00 | 0.00e+00 |\n",
      "|   9   |  45   |  12   | -1.0000e+00 | 1.07e-02 | 0.00e+00 | 0.00e+00 |\n",
      "\n",
      "`gtol` termination condition is satisfied.\n",
      "Number of iterations: 9, function evaluations: 45, CG iterations: 12, optimality: 0.00e+00, constraint violation: 0.00e+00, execution time: 5.8e+01 s.\n"
     ]
    }
   ],
   "source": [
    "%%time\n",
    "\n",
    "sol1 = minimize(soft_threshold_loss, \n",
    "         x0=initial_condition, \n",
    "         args=args, \n",
    "         method='trust-constr', \n",
    "         options={'initial_tr_radius':1e-3,\n",
    "                  'verbose':2}\n",
    "        )"
   ]
  },
  {
   "cell_type": "code",
   "execution_count": 14,
   "id": "67796ce0-f7a0-4517-a59c-770e0c387d3f",
   "metadata": {},
   "outputs": [],
   "source": [
    "optimal_voltages = parameters.voltage_dict(sol1.x)"
   ]
  },
  {
   "cell_type": "code",
   "execution_count": 16,
   "id": "7b1818a0-e545-4bb0-9e8f-7cdb2a863560",
   "metadata": {},
   "outputs": [],
   "source": [
    "params = parameters.junction_parameters()\n",
    "params.update(potential=system.flat_potential())\n",
    "params.update(optimal_voltages)"
   ]
  },
  {
   "cell_type": "code",
   "execution_count": 18,
   "id": "39f3302c-f6e0-46f0-80b0-f0ea52350a1a",
   "metadata": {},
   "outputs": [],
   "source": [
    "from codes.constants import bands\n"
   ]
  },
  {
   "cell_type": "code",
   "execution_count": 19,
   "id": "493a25d4-8afd-43d3-9ba2-2324c93805b8",
   "metadata": {
    "tags": []
   },
   "outputs": [],
   "source": [
    "linear_ham, full_ham = hamiltonian(system.base_ham, \n",
    "                                   system.linear_terms, \n",
    "                                   system.f_params, \n",
    "                                   **params)\n",
    "\n",
    "potential = linear_ham.diagonal()[::4]\n",
    "step_potential = np.array(np.abs(potential) > bands[0], dtype=int)"
   ]
  },
  {
   "cell_type": "code",
   "execution_count": 21,
   "id": "3f41393e-f20b-4cff-861c-04c07bd54c54",
   "metadata": {},
   "outputs": [],
   "source": [
    "evals, evecs = eigsh(full_ham, k=6, sigma=0, return_eigenvectors=True)"
   ]
  },
  {
   "cell_type": "code",
   "execution_count": 22,
   "id": "df1d36cc-e3c9-4515-aee3-dac163c8715d",
   "metadata": {},
   "outputs": [],
   "source": [
    "transformed_hamiltonian = svd_transformation(\n",
    "    evals, evecs, system.mlwf[order_wavefunctions('right-top')]\n",
    ")\n",
    "\n",
    "desired = np.abs(transformed_hamiltonian[0, 1])\n",
    "undesired = np.linalg.norm(transformed_hamiltonian[2:])"
   ]
  },
  {
   "cell_type": "code",
   "execution_count": 23,
   "id": "632123cc-0b7b-4f5a-af2a-7b57b644e2f3",
   "metadata": {},
   "outputs": [
    {
     "data": {
      "text/plain": [
       "(8.381095441027058e-06, 3.3195351923493304e-08)"
      ]
     },
     "execution_count": 23,
     "metadata": {},
     "output_type": "execute_result"
    }
   ],
   "source": [
    "desired, undesired"
   ]
  },
  {
   "cell_type": "code",
   "execution_count": 24,
   "id": "f1beaedf-c8c7-457f-9012-9b4e13ec8891",
   "metadata": {},
   "outputs": [],
   "source": [
    "wfv = system.densityoperator(evecs[:, -1])"
   ]
  },
  {
   "cell_type": "code",
   "execution_count": 25,
   "id": "6aa07800-98cc-46df-b95f-e89842704ff1",
   "metadata": {},
   "outputs": [
    {
     "data": {
      "image/png": "[encoded data removed]",
      "text/plain": [
       "<Figure size 600x400 with 2 Axes>"
      ]
     },
     "metadata": {},
     "output_type": "display_data"
    }
   ],
   "source": [
    "fig, ax = plt.subplots(ncols=2, figsize=(6, 4))\n",
    "kwant.plotter.map(system.trijunction, lambda i: step_potential[i], ax=ax[0])\n",
    "kwant.plotter.density(system.trijunction, wfv, ax=ax[1]);\n",
    "for value in indices.values():\n",
    "    ax[0].scatter(*kwant_sites[value], c='blue')\n",
    "for axes in ax:\n",
    "    axes.set_ylim(-3e-7, 10e-7)\n",
    "    axes.set_xlim(-3e-7, 3e-7)"
   ]
  },
  {
   "cell_type": "code",
   "execution_count": null,
   "id": "edd23f87-8e90-44ac-aa58-3b6c970c5728",
   "metadata": {},
   "outputs": [],
   "source": []
  }
 ],
 "metadata": {
  "kernelspec": {
   "display_name": "Python 3 (ipykernel)",
   "language": "python",
   "name": "python3"
  },
  "language_info": {
   "codemirror_mode": {
    "name": "ipython",
    "version": 3
   },
   "file_extension": ".py",
   "mimetype": "text/x-python",
   "name": "python",
   "nbconvert_exporter": "python",
   "pygments_lexer": "ipython3",
   "version": "3.10.6"
  }
 },
 "nbformat": 4,
 "nbformat_minor": 5
}
