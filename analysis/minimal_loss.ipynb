{
 "cells": [
  {
   "cell_type": "code",
   "execution_count": 1,
   "id": "318e0951-21c5-496e-aa93-587394a5c978",
   "metadata": {},
   "outputs": [
    {
     "name": "stdout",
     "output_type": "stream",
     "text": [
      "VoronoiMesh version 0.1\n",
      "DiscretePoisson version 0.3\n",
      "Shape version: 0.1\n",
      "SystEquations version: 0.3\n",
      "Solver version 0.1\n"
     ]
    }
   ],
   "source": [
    "import tinyarray as ta\n",
    "import numpy as np\n",
    "import matplotlib.pyplot as plt\n",
    "import importlib\n",
    "import json\n",
    "import kwant\n",
    "\n",
    "from codes.gate_design import gate_coords\n",
    "from codes.constants import scale\n",
    "import codes.trijunction as trijunction\n",
    "import codes.optimization as optimization\n",
    "import codes.parameters as parameters\n",
    "from codes.tools import hamiltonian\n",
    "from codes.utils import eigsh, svd_transformation, dict_update, dep_acc_index\n",
    "from codes.utils import order_wavefunctions"
   ]
  },
  {
   "cell_type": "code",
   "execution_count": 2,
   "id": "c495bfa6-176b-47fc-8fae-aba23c7ef444",
   "metadata": {},
   "outputs": [],
   "source": [
    "from scipy.optimize import minimize, minimize_scalar"
   ]
  },
  {
   "cell_type": "code",
   "execution_count": 3,
   "id": "328a91b2-d8b2-4dfd-9ec7-48e577aa65ba",
   "metadata": {},
   "outputs": [],
   "source": [
    "with open('/home/tinkerer/trijunction-design/codes/config.json', 'r') as f:\n",
    "    config = json.load(f)\n",
    "\n",
    "change_config = [\n",
    "    {\"device\": {\"thickness\": {\"dielectric\": 1.0}}},\n",
    "    {\"gate\": {\"channel_width\": 13.0, 'angle': np.pi/6, 'gap': 2}},\n",
    "]\n",
    "\n",
    "for local_config in change_config:\n",
    "    config = dict_update(config, local_config)"
   ]
  },
  {
   "cell_type": "code",
   "execution_count": 4,
   "id": "bfb13a62-2ff2-4afa-a06b-ead696c58073",
   "metadata": {},
   "outputs": [],
   "source": [
    "system = trijunction.Trijunction(config)"
   ]
  },
  {
   "cell_type": "code",
   "execution_count": 5,
   "id": "8fd49cdb-209b-4f74-a25b-9775442cc171",
   "metadata": {
    "tags": []
   },
   "outputs": [
    {
     "name": "stdout",
     "output_type": "stream",
     "text": [
      "Finding closed voronoi cells\n",
      "Done selecting closed voronoi cells\n",
      "Calculating points distance\n",
      "Done\n",
      "Calculating ridges hypersurfaces\n",
      "Done\n",
      "Finding  hypervolume for closed voronoi cells\n",
      "Done finding hypervolume for closed voronoi cells\n",
      "Done calculating surface\n",
      "Done calculating distance\n",
      "Done calculating capacitance matrix\n"
     ]
    },
    {
     "name": "stderr",
     "output_type": "stream",
     "text": [
      "100%|██████████| 13/13 [00:32<00:00,  2.51s/it]\n"
     ]
    }
   ],
   "source": [
    "system.make_system()"
   ]
  },
  {
   "cell_type": "code",
   "execution_count": 7,
   "id": "e2984aac-e1f9-4d20-9fad-f339af8275ba",
   "metadata": {},
   "outputs": [],
   "source": [
    "pair = 'left-right'\n",
    "voltages = parameters.pair_voltages()"
   ]
  },
  {
   "cell_type": "code",
   "execution_count": 8,
   "id": "1cf8473d-9dd4-4de5-bca1-10a6e044ba42",
   "metadata": {},
   "outputs": [],
   "source": [
    "zero_potential = dict(\n",
    "    zip(\n",
    "        ta.array(system.site_coords[:, [0, 1]] - system.offset),\n",
    "        np.zeros(len(system.site_coords)),\n",
    "    )\n",
    ")"
   ]
  },
  {
   "cell_type": "code",
   "execution_count": 9,
   "id": "aece4f2d-f679-4354-aefe-0eeb0df3a2b1",
   "metadata": {},
   "outputs": [],
   "source": [
    "kwant_args = list(system.optimiser_arguments().values())\n",
    "kwant_args[-1] = kwant_args[-1][order_wavefunctions(pair)]"
   ]
  },
  {
   "cell_type": "code",
   "execution_count": 10,
   "id": "e94100a9-6108-4314-8cf7-7996b0ef49d5",
   "metadata": {},
   "outputs": [],
   "source": [
    "x = [-3.0e-3, -3.0e-3, -7.0e-3, 3e-3]\n",
    "voltages = parameters.voltage_dict(x)"
   ]
  },
  {
   "cell_type": "code",
   "execution_count": 11,
   "id": "6f4fea80-47b2-4cae-8d44-0881fe9f7eec",
   "metadata": {
    "tags": []
   },
   "outputs": [],
   "source": [
    "params = parameters.junction_parameters()\n",
    "params.update(voltages)\n",
    "params.update(potential=zero_potential)"
   ]
  },
  {
   "cell_type": "code",
   "execution_count": 12,
   "id": "0e40b643-3c6e-4ccd-b374-8ba5cad6ea95",
   "metadata": {},
   "outputs": [],
   "source": [
    "opt_args = tuple([pair, params, kwant_args, False])"
   ]
  },
  {
   "cell_type": "code",
   "execution_count": 13,
   "id": "50fd2b30-8d4c-4e0b-8d96-e0783ba913f4",
   "metadata": {},
   "outputs": [
    {
     "name": "stdout",
     "output_type": "stream",
     "text": [
      "CPU times: user 48.4 s, sys: 12 s, total: 1min\n",
      "Wall time: 1min\n"
     ]
    }
   ],
   "source": [
    "%%time\n",
    "\n",
    "sol = minimize_scalar(\n",
    "    optimization.loss,\n",
    "    0.2, \n",
    "    args=opt_args, \n",
    "    bounds=(0, 2), \n",
    "    method=\"bounded\"\n",
    ")"
   ]
  },
  {
   "cell_type": "code",
   "execution_count": 14,
   "id": "b79c03f7-3bee-4221-9ae0-5a10683797e6",
   "metadata": {},
   "outputs": [
    {
     "data": {
      "text/plain": [
       "1.3698359530326412"
      ]
     },
     "execution_count": 14,
     "metadata": {},
     "output_type": "execute_result"
    }
   ],
   "source": [
    "sol.x"
   ]
  },
  {
   "cell_type": "code",
   "execution_count": 15,
   "id": "432c136b-e5dc-48f1-96b9-6c2895e41808",
   "metadata": {},
   "outputs": [],
   "source": [
    "optimal_phase = parameters.phase_pairs(opt_args[0], \n",
    "                                       sol.x * np.pi)"
   ]
  },
  {
   "cell_type": "code",
   "execution_count": 16,
   "id": "2b667696-d5a4-479b-b2ec-9117f84e0a1f",
   "metadata": {},
   "outputs": [
    {
     "data": {
      "text/plain": [
       "{'phi1': 4.303466566670519, 'phi2': 0}"
      ]
     },
     "execution_count": 16,
     "metadata": {},
     "output_type": "execute_result"
    }
   ],
   "source": [
    "optimal_phase"
   ]
  },
  {
   "cell_type": "code",
   "execution_count": 17,
   "id": "8d320d83-7d8d-44a2-b447-15dffd735b37",
   "metadata": {},
   "outputs": [],
   "source": [
    "# loss to optimize voltages\n",
    "params.update(optimal_phase)"
   ]
  },
  {
   "cell_type": "code",
   "execution_count": 20,
   "id": "3eb1ab1f-8fb0-4fdd-af93-0b8c184214a7",
   "metadata": {
    "collapsed": true,
    "jupyter": {
     "outputs_hidden": true
    },
    "tags": []
   },
   "outputs": [
    {
     "name": "stdout",
     "output_type": "stream",
     "text": [
      "[-20.5   0. ]\n",
      "[20.5  0. ]\n",
      "[ 0.  76.5]\n",
      "[-20.  24.]\n",
      "[-5.5  7.5]\n",
      "[5.5 7.5]\n",
      "[20. 24.]\n",
      "[-16.5  57.5]\n",
      "[16.5 57.5]\n"
     ]
    },
    {
     "data": {
      "image/png": "[encoded data removed]",
      "text/plain": [
       "<Figure size 640x480 with 1 Axes>"
      ]
     },
     "metadata": {},
     "output_type": "display_data"
    }
   ],
   "source": [
    "kwant_sites = np.array([site.pos for site in system.trijunction.sites])/scale\n",
    "\n",
    "dep_index, acc_index = dep_acc_index(\n",
    "            system.poisson_system,\n",
    "            kwant_sites,\n",
    "            system.site_indices,\n",
    "            system.nw_centers,\n",
    "            pair,\n",
    "            True\n",
    "        )\n",
    "params.update({'dep_index': dep_index})\n",
    "params.update({'acc_index': acc_index})\n"
   ]
  },
  {
   "cell_type": "code",
   "execution_count": 103,
   "id": "b438ad84-2387-44b6-9253-a8ce38d79fd1",
   "metadata": {
    "tags": []
   },
   "outputs": [
    {
     "data": {
      "text/plain": [
       "0.27763187528551514"
      ]
     },
     "execution_count": 103,
     "metadata": {},
     "output_type": "execute_result"
    }
   ],
   "source": [
    "opt_args = tuple([pair, params, kwant_args, True])\n",
    "codes.optimization.loss(x, *opt_args)"
   ]
  },
  {
   "cell_type": "code",
   "execution_count": 30,
   "id": "1d06e9f5-d406-46cb-a2e2-b7ba97b923a8",
   "metadata": {},
   "outputs": [
    {
     "data": {
      "text/plain": [
       "OrderedDict([('left', array([-20.5,   0. ])),\n",
       "             ('right', array([20.5, -0. ])),\n",
       "             ('top', array([ 0.  , 76.51]))])"
      ]
     },
     "execution_count": 30,
     "metadata": {},
     "output_type": "execute_result"
    }
   ],
   "source": [
    "system.nw_centers"
   ]
  },
  {
   "cell_type": "code",
   "execution_count": 129,
   "id": "d6fd36c5-7670-4799-8269-6107f7432381",
   "metadata": {},
   "outputs": [
    {
     "data": {
      "text/plain": [
       "<module 'codes.optimization' from '/home/tinkerer/trijunction-design/analysis/codes/optimization.py'>"
      ]
     },
     "execution_count": 129,
     "metadata": {},
     "output_type": "execute_result"
    }
   ],
   "source": [
    "import codes.optimization\n",
    "import importlib\n",
    "importlib.reload(codes.optimization)"
   ]
  },
  {
   "cell_type": "raw",
   "id": "90f890b8-43a6-4271-92fa-cac45d889292",
   "metadata": {
    "jupyter": {
     "outputs_hidden": true
    },
    "tags": []
   },
   "source": [
    "sol1 = minimize(\n",
    "            codes.optimization.loss,\n",
    "            x,\n",
    "            # minimizer_kwargs={'method': 'BFGS',\n",
    "            #                   'args' : opt_args,\n",
    "            #                   'options': {'gtol': 1e-1}},\n",
    "            # disp = True\n",
    "            args=opt_args,\n",
    "            method=\"trust-constr\",\n",
    "            options={\n",
    "                \"verbose\": 2,\n",
    "                \"initial_tr_radius\": 1e-3\n",
    "            },\n",
    "        )"
   ]
  },
  {
   "cell_type": "markdown",
   "id": "753894e7-c171-4f8c-9e1d-166618f6af66",
   "metadata": {},
   "source": [
    "### Gradient descent"
   ]
  },
  {
   "cell_type": "code",
   "execution_count": 23,
   "id": "e218d9a9-016b-410a-b713-173a4f639ce5",
   "metadata": {},
   "outputs": [],
   "source": [
    "from scipy.optimize import approx_fprime"
   ]
  },
  {
   "cell_type": "code",
   "execution_count": 127,
   "id": "93fc33c2-5b15-4896-95b7-9beb792e3f41",
   "metadata": {
    "tags": []
   },
   "outputs": [],
   "source": [
    "def gradient_descent(gradient, initial, learn_rate=0.5, \n",
    "                     beta1=0.9, beta2=0.999,\n",
    "                     tolerance=1e-6, epsilon = 1e-8, n_iter=20):\n",
    "    vector = initial\n",
    "    diff, A, F = 0, 0, 0\n",
    "    \n",
    "    cost = []\n",
    "    \n",
    "    for i in range(n_iter):\n",
    "        g = gradient(vector)\n",
    "        print(g)\n",
    "        \n",
    "        # Vanilla gradient descent\n",
    "        # diff = -learn_rate * g\n",
    "        \n",
    "        # Momentum based learning\n",
    "        # diff = decay_rate * diff - learn_rate * g\n",
    "        \n",
    "        # next step in the iteration\n",
    "        # vector += diff\n",
    "        \n",
    "        # https://machinelearningmastery.com/adam-optimization-from-scratch/\n",
    "        # Adam's gradient\n",
    "        A = beta1 * A + (1 - beta1) * (g**2)\n",
    "        F = beta2 * F + (1 - beta2) * (g)\n",
    "        Ahat = A / (1 - beta1**(i+1))\n",
    "        Fhat = F / (1 - beta2**(i+1))\n",
    "        # learn_rate *= (np.sqrt(1 - beta1**(i+1)) / (1 - beta2**(i+1)))\n",
    "        vector -= (learn_rate * Fhat)/(np.sqrt(Ahat) + epsilon)  # epsilon for better conditioning\n",
    "        \n",
    "        # if np.all(np.abs(diff) <= tolerance):\n",
    "        #     break\n",
    "        \n",
    "        cost.append(codes.optimization.loss(vector, *opt_args))\n",
    "        \n",
    "        print(cost[-1], vector)\n",
    "        \n",
    "        if i > 5:\n",
    "            diff = np.diff(np.array(cost)[i-5 : -1])\n",
    "            if (diff/np.linalg.norm(diff)).sum() < 1e-9:\n",
    "                break\n",
    "    return vector\n",
    "\n"
   ]
  },
  {
   "cell_type": "code",
   "execution_count": 131,
   "id": "ab10a002-1343-446f-9efd-0076dc143e84",
   "metadata": {
    "tags": []
   },
   "outputs": [
    {
     "name": "stdout",
     "output_type": "stream",
     "text": [
      "[-1.01503062e-15 -1.06145344e-15 -1.27256544e-12  1.95750704e-14]\n",
      "2.7797979386748366e-15 [ 0.19266469  0.19266467 -0.14100887  0.66673915]\n",
      "[7.60581682e-14 7.68701350e-14 3.17540722e-14 1.09656621e-13]\n",
      "-3.3163213761056635e-14 [ 0.19266272  0.19266267 -0.14097957  0.6667358 ]\n",
      "[3.60179781e-11 3.60199615e-11 3.59780694e-11 3.60483705e-11]\n",
      "2.7474817816948194e-15 [ 0.19199838  0.19199829 -0.14162347  0.66607004]\n",
      "[-1.51683288e-12 -1.40312945e-12 -1.00074523e-12  2.10264446e-14]\n",
      "2.8772177367332736e-15 [ 0.19154908  0.1915473  -0.14206577  0.66559741]\n",
      "[-2.05299731e-13 -1.77205110e-13  4.35415930e-13 -3.26384116e-14]\n",
      "2.5795305352312887e-15 [ 0.19121191  0.19120851 -0.14240545  0.6652405 ]\n",
      "[-3.95081021e-11 -3.77881856e-11 -9.58002288e-14  2.93789031e-13]\n",
      "2.94501092593593e-15 [ 0.19136751  0.19134454 -0.14267167  0.66495659]\n",
      "[-1.95075660e-12 -4.86425095e-12 -7.17412519e-13 -7.54532877e-14]\n",
      "1.8144987766607435e-15 [ 0.19151197  0.19150104 -0.14288002  0.66472778]\n"
     ]
    }
   ],
   "source": [
    "opt_args = tuple([pair, params, kwant_args, 0.0])\n",
    "gradient = lambda x: approx_fprime(x, codes.optimization.loss, \n",
    "                                   1e-3, *opt_args)\n",
    "\n",
    "sol = gradient_descent(\n",
    "    gradient, \n",
    "    sol, \n",
    "    learn_rate=0.5, \n",
    "    beta1=0.9, beta2=0.9,\n",
    "    tolerance=1e-9\n",
    ")"
   ]
  },
  {
   "cell_type": "code",
   "execution_count": 262,
   "id": "9db177fb-0e92-4e3b-8ca9-cdefe4bb4f62",
   "metadata": {},
   "outputs": [],
   "source": [
    "a = np.array([2.827e-15, 2.8573e-15, 2.8576e-15, 2.8577e-15])"
   ]
  },
  {
   "cell_type": "code",
   "execution_count": 265,
   "id": "acd46f56-8bfd-4c52-925d-7e04c87a2700",
   "metadata": {},
   "outputs": [
    {
     "data": {
      "text/plain": [
       "array([3.03e-17, 1.53e-17, 2.00e-19, 1.00e-19])"
      ]
     },
     "execution_count": 265,
     "metadata": {},
     "output_type": "execute_result"
    }
   ],
   "source": [
    "np.abs(np.gradient(a))"
   ]
  },
  {
   "cell_type": "code",
   "execution_count": 121,
   "id": "4c20cce0-250a-4c12-8ad9-80b982946fca",
   "metadata": {},
   "outputs": [],
   "source": [
    "params.update(parameters.voltage_dict(sol))"
   ]
  },
  {
   "cell_type": "code",
   "execution_count": 122,
   "id": "a29e6f55-f900-471b-9de0-a41a6d009b36",
   "metadata": {},
   "outputs": [],
   "source": [
    "optimiser_args = system.optimiser_arguments()\n",
    "\n",
    "linear_ham, numerical_hamiltonian = hamiltonian(system.trijunction, \n",
    "                                    optimiser_args['linear_terms'], \n",
    "                                    optimiser_args['kwant_params_fn'], \n",
    "                                    **params)"
   ]
  },
  {
   "cell_type": "raw",
   "id": "9f64bfa0-5b92-49b3-907c-42f0c78c20e1",
   "metadata": {},
   "source": [
    "ham = numerical_hamiltonian\n",
    "loss = 0\n",
    "for index in np.hstack(list(dep_index.values())):\n",
    "    # print(ham[4*index, 4*index], params['mus_nw'][0])\n",
    "    diff = ham[4*index, 4*index] - params['mus_nw'][0]\n",
    "    loss += diff if diff < 0 else 0\n",
    "\n",
    "for index in np.hstack(list(acc_index.values())):\n",
    "    print(ham[4*index, 4*index], params['mus_nw'][0])\n",
    "    diff = ham[4*index, 4*index] - params['mus_nw'][0]\n",
    "    loss += diff if diff > 0 else 0"
   ]
  },
  {
   "cell_type": "code",
   "execution_count": 123,
   "id": "b4661fa3-6828-4612-b64c-fe5a72610f20",
   "metadata": {},
   "outputs": [],
   "source": [
    "energies, wave_functions = eigsh(\n",
    "                numerical_hamiltonian.tocsc(),\n",
    "                6,\n",
    "                sigma=0,\n",
    "                return_eigenvectors=True,\n",
    ")"
   ]
  },
  {
   "cell_type": "code",
   "execution_count": 124,
   "id": "ec882ba2-568c-452f-b318-7a2e2d686738",
   "metadata": {},
   "outputs": [
    {
     "data": {
      "image/png": "[encoded data removed]",
      "text/plain": [
       "<Figure size 1000x500 with 1 Axes>"
      ]
     },
     "metadata": {},
     "output_type": "display_data"
    }
   ],
   "source": [
    "fig, ax = plt.subplots(1, 1, figsize = (10, 5), sharey= True)\n",
    "\n",
    "density = kwant.operator.Density(system.trijunction, np.eye(4))\n",
    "for i, vec in enumerate(wave_functions.T[[0]]):\n",
    "    kwant.plotter.density(system.trijunction, density(vec), ax = ax);"
   ]
  },
  {
   "cell_type": "code",
   "execution_count": 130,
   "id": "6d1d5b9d-ea2f-466f-972a-f6ba75fda1cc",
   "metadata": {},
   "outputs": [
    {
     "data": {
      "image/png": "[encoded data removed]",
      "text/plain": [
       "<Figure size 1000x500 with 1 Axes>"
      ]
     },
     "metadata": {},
     "output_type": "display_data"
    }
   ],
   "source": [
    "fig, ax = plt.subplots(1, 1, figsize = (10, 5), sharey= True)\n",
    "\n",
    "density = kwant.operator.Density(system.trijunction, np.eye(4))\n",
    "for i, vec in enumerate(wave_functions.T[[0]]):\n",
    "    kwant.plotter.density(system.trijunction, density(vec), ax = ax);"
   ]
  },
  {
   "cell_type": "code",
   "execution_count": 81,
   "id": "e713d342-9cb7-44dc-8dd4-556048e8db08",
   "metadata": {},
   "outputs": [],
   "source": [
    "transformed_hamiltonian = svd_transformation(\n",
    "    energies, wave_functions, system.mlwf[order_wavefunctions('left-right')]\n",
    ")\n",
    "\n",
    "desired = np.abs(transformed_hamiltonian[0, 1])\n",
    "undesired = np.linalg.norm(transformed_hamiltonian[2:])"
   ]
  },
  {
   "cell_type": "code",
   "execution_count": 82,
   "id": "a7e8a6cb-bc55-4343-9a43-b5e83e61660d",
   "metadata": {},
   "outputs": [
    {
     "data": {
      "text/plain": [
       "5.287730948954797e-06"
      ]
     },
     "execution_count": 82,
     "metadata": {},
     "output_type": "execute_result"
    }
   ],
   "source": [
    "desired"
   ]
  },
  {
   "cell_type": "code",
   "execution_count": 83,
   "id": "0c7775f0-f9f3-4d16-b09d-90a2b0f50127",
   "metadata": {},
   "outputs": [
    {
     "data": {
      "text/plain": [
       "5.796575760775433e-06"
      ]
     },
     "execution_count": 83,
     "metadata": {},
     "output_type": "execute_result"
    }
   ],
   "source": [
    "undesired"
   ]
  },
  {
   "cell_type": "code",
   "execution_count": 73,
   "id": "609742b6-90d2-4612-9cbd-a35fc6a41c6b",
   "metadata": {},
   "outputs": [
    {
     "data": {
      "text/plain": [
       "2.8103203688840985e-15"
      ]
     },
     "execution_count": 73,
     "metadata": {},
     "output_type": "execute_result"
    }
   ],
   "source": [
    "-desired**2 + undesired**2"
   ]
  },
  {
   "cell_type": "code",
   "execution_count": 83,
   "id": "b90ff7ac-588a-43fa-b8db-9986e523b049",
   "metadata": {},
   "outputs": [
    {
     "data": {
      "text/plain": [
       "(28778, 2)"
      ]
     },
     "execution_count": 83,
     "metadata": {},
     "output_type": "execute_result"
    }
   ],
   "source": [
    "kwant_sites"
   ]
  },
  {
   "cell_type": "code",
   "execution_count": 85,
   "id": "e0313a99-fb3c-4699-ac71-0b651576065c",
   "metadata": {},
   "outputs": [
    {
     "data": {
      "text/plain": [
       "(16895, 3)"
      ]
     },
     "execution_count": 85,
     "metadata": {},
     "output_type": "execute_result"
    }
   ],
   "source": [
    "system.site_coords.shape"
   ]
  },
  {
   "cell_type": "code",
   "execution_count": null,
   "id": "d297ef4f-ded8-4105-a116-9b9a9c5ddcc7",
   "metadata": {},
   "outputs": [],
   "source": []
  }
 ],
 "metadata": {
  "kernelspec": {
   "display_name": "Python 3 (ipykernel)",
   "language": "python",
   "name": "python3"
  },
  "language_info": {
   "codemirror_mode": {
    "name": "ipython",
    "version": 3
   },
   "file_extension": ".py",
   "mimetype": "text/x-python",
   "name": "python",
   "nbconvert_exporter": "python",
   "pygments_lexer": "ipython3",
   "version": "3.10.6"
  }
 },
 "nbformat": 4,
 "nbformat_minor": 5
}
