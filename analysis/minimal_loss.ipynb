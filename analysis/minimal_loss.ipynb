{
 "cells": [
  {
   "cell_type": "code",
   "execution_count": 1,
   "id": "318e0951-21c5-496e-aa93-587394a5c978",
   "metadata": {
    "tags": []
   },
   "outputs": [
    {
     "name": "stdout",
     "output_type": "stream",
     "text": [
      "VoronoiMesh version 0.1\n",
      "DiscretePoisson version 0.3\n",
      "Shape version: 0.1\n",
      "SystEquations version: 0.3\n",
      "Solver version 0.1\n"
     ]
    }
   ],
   "source": [
    "import tinyarray as ta\n",
    "import numpy as np\n",
    "import matplotlib.pyplot as plt\n",
    "import importlib\n",
    "import json\n",
    "import kwant\n",
    "\n",
    "from codes.gate_design import gate_coords\n",
    "from codes.constants import scale\n",
    "import codes.trijunction as trijunction\n",
    "import codes.optimization as optimization\n",
    "import codes.parameters as parameters\n",
    "from codes.tools import hamiltonian\n",
    "from codes.utils import eigsh, svd_transformation, dict_update, dep_acc_index\n",
    "from codes.utils import order_wavefunctions, ratio_Gaussian_curvature"
   ]
  },
  {
   "cell_type": "code",
   "execution_count": 2,
   "id": "c495bfa6-176b-47fc-8fae-aba23c7ef444",
   "metadata": {},
   "outputs": [],
   "source": [
    "from scipy.optimize import minimize"
   ]
  },
  {
   "cell_type": "code",
   "execution_count": 3,
   "id": "328a91b2-d8b2-4dfd-9ec7-48e577aa65ba",
   "metadata": {},
   "outputs": [],
   "source": [
    "with open('/home/tinkerer/trijunction-design/codes/config.json', 'r') as f:\n",
    "    config = json.load(f)\n",
    "\n",
    "change_config = [\n",
    "    {\"device\": {\"thickness\": {\"dielectric\": 1.0}}},\n",
    "    {\"gate\": {\"channel_width\": 13.0, 'angle': np.pi/6, 'gap': 2}},\n",
    "]\n",
    "\n",
    "for local_config in change_config:\n",
    "    config = dict_update(config, local_config)"
   ]
  },
  {
   "cell_type": "raw",
   "id": "49405358-0ead-4755-81e5-e99bc235aceb",
   "metadata": {
    "tags": []
   },
   "source": [
    "system = trijunction.Trijunction(config, optimize_phase_pairs=['left-right'])"
   ]
  },
  {
   "cell_type": "markdown",
   "id": "be9e2c23-b6a0-4421-8eb2-0d872d704835",
   "metadata": {
    "tags": []
   },
   "source": [
    "### Optimal voltages"
   ]
  },
  {
   "cell_type": "code",
   "execution_count": 18,
   "id": "40ea81eb-aab5-4d19-8396-856d8d44b1a2",
   "metadata": {},
   "outputs": [
    {
     "data": {
      "text/plain": [
       "{'left-right': {'left_1': -0.002596775480124644,\n",
       "  'left_2': -0.002596775480124644,\n",
       "  'right_1': -0.0025958232533803264,\n",
       "  'right_2': -0.0025958232533803264,\n",
       "  'top_1': -0.002929134715507254,\n",
       "  'top_2': -0.002929134715507254,\n",
       "  'global_accumul': -0.0017463488239404998,\n",
       "  'dirichlet_0': 0.0,\n",
       "  'dirichlet_1': 0.0,\n",
       "  'dirichlet_2': 0.0,\n",
       "  'dirichlet_3': 0.0,\n",
       "  'dirichlet_4': 0.0,\n",
       "  'dirichlet_5': 0.0}}"
      ]
     },
     "execution_count": 18,
     "metadata": {},
     "output_type": "execute_result"
    }
   ],
   "source": [
    "system.optimal_voltages"
   ]
  },
  {
   "cell_type": "code",
   "execution_count": 5,
   "id": "e2984aac-e1f9-4d20-9fad-f339af8275ba",
   "metadata": {},
   "outputs": [],
   "source": [
    "pair = 'left-right'\n",
    "voltages = parameters.pair_voltages()"
   ]
  },
  {
   "cell_type": "code",
   "execution_count": 6,
   "id": "1cf8473d-9dd4-4de5-bca1-10a6e044ba42",
   "metadata": {},
   "outputs": [],
   "source": [
    "zero_potential = dict(\n",
    "    zip(\n",
    "        ta.array(system.site_coords[:, [0, 1]] - system.offset),\n",
    "        np.zeros(len(system.site_coords)),\n",
    "    )\n",
    ")"
   ]
  },
  {
   "cell_type": "code",
   "execution_count": 7,
   "id": "aece4f2d-f679-4354-aefe-0eeb0df3a2b1",
   "metadata": {},
   "outputs": [],
   "source": [
    "kwant_args = list(system.optimiser_arguments().values())\n",
    "kwant_args[-1] = kwant_args[-1][order_wavefunctions(pair)]"
   ]
  },
  {
   "cell_type": "code",
   "execution_count": 8,
   "id": "e94100a9-6108-4314-8cf7-7996b0ef49d5",
   "metadata": {},
   "outputs": [],
   "source": [
    "x = [-1.0e-3, -1.0e-3, -5.0e-3, 3e-3]\n",
    "voltages = parameters.voltage_dict(x)"
   ]
  },
  {
   "cell_type": "code",
   "execution_count": 9,
   "id": "6f4fea80-47b2-4cae-8d44-0881fe9f7eec",
   "metadata": {
    "tags": []
   },
   "outputs": [],
   "source": [
    "params = parameters.junction_parameters()\n",
    "params.update(voltages)\n",
    "params.update(potential=zero_potential)"
   ]
  },
  {
   "cell_type": "code",
   "execution_count": 10,
   "id": "0e40b643-3c6e-4ccd-b374-8ba5cad6ea95",
   "metadata": {},
   "outputs": [],
   "source": [
    "opt_args = tuple([pair, params, kwant_args, 0.0])"
   ]
  },
  {
   "cell_type": "code",
   "execution_count": 11,
   "id": "1b41d1b2-9b56-49dc-8b50-f5a16940aec5",
   "metadata": {
    "tags": []
   },
   "outputs": [],
   "source": [
    "kwant_sites = np.array([site.pos for site in system.trijunction.sites])\n",
    "soft_threshold_indices = dep_acc_index(\n",
    "    zip(system.gate_names, system.gates_vertex),\n",
    "    system.nw_centers,\n",
    "               kwant_sites,\n",
    "               config['gate']['angle'],\n",
    "               scale,\n",
    "               10\n",
    "               )"
   ]
  },
  {
   "cell_type": "code",
   "execution_count": 12,
   "id": "4915fb46-854f-4212-b235-4fb4e5cb06bd",
   "metadata": {},
   "outputs": [
    {
     "data": {
      "image/png": "[encoded data removed]",
      "text/plain": [
       "<Figure size 640x480 with 1 Axes>"
      ]
     },
     "metadata": {},
     "output_type": "display_data"
    }
   ],
   "source": [
    "site_coords = system.grid_points[system.site_indices]\n",
    "for index in np.hstack(list(soft_threshold_indices.values())):\n",
    "    point = kwant_sites[index]/scale\n",
    "    plt.scatter(point[0], point[1], c='b')\n",
    "\n",
    "for key, value in system.poisson_system.regions.voltage.tag_points.items():\n",
    "    if not key.startswith(('global', 'dirichlet')):\n",
    "        coords = system.grid_points[value]\n",
    "        plt.scatter(coords[:, 0], coords[:, 1], s = 0.1)"
   ]
  },
  {
   "cell_type": "code",
   "execution_count": 13,
   "id": "62a1c8b3-59e0-408f-a955-3b223ffede73",
   "metadata": {
    "tags": []
   },
   "outputs": [],
   "source": [
    "kwant_sites = np.array([site.pos for site in system.trijunction.sites])/scale\n",
    "params.update({'dep_acc_index': soft_threshold_indices})"
   ]
  },
  {
   "cell_type": "code",
   "execution_count": 14,
   "id": "b438ad84-2387-44b6-9253-a8ce38d79fd1",
   "metadata": {
    "tags": []
   },
   "outputs": [],
   "source": [
    "step_size = 1e-4\n",
    "opt_args = tuple((pair, params, kwant_args, 0.0, step_size))\n",
    "# optimization.loss(x, *opt_args)"
   ]
  },
  {
   "cell_type": "code",
   "execution_count": 15,
   "id": "1ead6684-8afc-4820-8001-c55e1efe0290",
   "metadata": {},
   "outputs": [
    {
     "data": {
      "text/plain": [
       "<module 'codes.optimization' from '/home/tinkerer/trijunction-design/analysis/codes/optimization.py'>"
      ]
     },
     "execution_count": 15,
     "metadata": {},
     "output_type": "execute_result"
    }
   ],
   "source": [
    "import codes.optimization\n",
    "import importlib\n",
    "importlib.reload(codes.optimization)"
   ]
  },
  {
   "cell_type": "code",
   "execution_count": null,
   "id": "0f88c5ab-4e3b-472e-a1fc-7bb3d035a586",
   "metadata": {
    "tags": []
   },
   "outputs": [],
   "source": [
    "sol1 = minimize(\n",
    "            codes.optimization.loss,\n",
    "            x,\n",
    "            args=opt_args,\n",
    "            method=\"trust-constr\",\n",
    "            # jac=codes.optimization.jacobian,\n",
    "            options={\n",
    "                \"verbose\":2,\n",
    "                \"initial_tr_radius\":1e-3,\n",
    "            },\n",
    "        )"
   ]
  },
  {
   "cell_type": "raw",
   "id": "212cc22a-6abe-4d86-b535-1b0e5a5abe1b",
   "metadata": {},
   "source": [
    "optimiser_args = system.optimiser_arguments()\n"
   ]
  },
  {
   "cell_type": "code",
   "execution_count": null,
   "id": "c3a230bc-0e28-4237-9eb8-07d2fef5d6ca",
   "metadata": {},
   "outputs": [],
   "source": [
    "deltaV = np.linspace(-2, 5, 100) * 1e-3\n",
    "scattering_region_density = kwant.operator.Density(system.trijunction, where=bounds)\n",
    "kwant_sites = np.array([site.pos for site in system.trijunction.sites])"
   ]
  },
  {
   "cell_type": "code",
   "execution_count": null,
   "id": "ccd18fec-cfd7-48c6-b33c-8a90f5b4d01a",
   "metadata": {},
   "outputs": [],
   "source": [
    "from tqdm import tqdm"
   ]
  },
  {
   "cell_type": "code",
   "execution_count": null,
   "id": "fef4ebda-e5f6-43f8-9364-81aa3c98d8c6",
   "metadata": {
    "tags": []
   },
   "outputs": [],
   "source": [
    "# wave_functions = []\n",
    "# ratios = []\n",
    "# desired_couplings = []\n",
    "# undesired_couplings = []\n",
    "shape, loss = [], []\n",
    "for v in tqdm(deltaV):\n",
    "    a, b = codes.optimization.loss([-0.00343678 + v, \n",
    "                                    -0.00343654 + v, \n",
    "                                    -0.01941018,  \n",
    "                                    0.00980045], \n",
    "                                   *opt_args\n",
    "                                  )\n",
    "    shape.append(a)\n",
    "    loss.append(b)\n",
    "#     params.update(parameters.voltage_dict([-0.00343678 + v, \n",
    "#                                            -0.00343654 + v, \n",
    "#                                            -0.01941018,  \n",
    "#                                            0.00980045]))\n",
    "#     linear_ham, numerical_hamiltonian = hamiltonian(system.trijunction, \n",
    "#                                     optimiser_args['linear_terms'], \n",
    "#                                     optimiser_args['kwant_params_fn'], \n",
    "#                                     **params)\n",
    "#     energies, wave_function = eigsh(\n",
    "#                 numerical_hamiltonian.tocsc(),\n",
    "#                 6,\n",
    "#                 sigma=0,\n",
    "#                 return_eigenvectors=True,\n",
    "#     )\n",
    "#     transformed_hamiltonian = svd_transformation(\n",
    "#     energies, wave_function, system.mlwf[order_wavefunctions('left-right')]\n",
    "#     )\n",
    "\n",
    "#     desired_couplings.append(np.abs(transformed_hamiltonian[0, 1]))\n",
    "#     undesired_couplings.append(np.linalg.norm(transformed_hamiltonian[2:]))\n",
    "    \n",
    "#     step = system.geometry['grid_spacing']*scale\n",
    "\n",
    "#     xmin, xmax, ymin, ymax = np.array(list(system.boundaries.values()))*scale\n",
    "#     bounds = lambda site: (site.pos[0] > xmin \n",
    "#                         and site.pos[0] < xmax\n",
    "#                         and site.pos[1] > ymin\n",
    "#                         and site.pos[1] < ymax)\n",
    "    \n",
    "    \n",
    "#     wavefunction_density = scattering_region_density(wave_function[:, 0])\n",
    "\n",
    "#     scattering_sites = kwant_sites[[bounds(site) for site in system.trijunction.sites]]\n",
    "#     x, y = scattering_sites[:, 0], scattering_sites[:, 1]\n",
    "#     nx, ny = len(np.unique(x)), len(np.unique(y))\n",
    "\n",
    "#     interpolated_wavefunction = wavefunction_density.reshape((nx, -1))\n",
    "    \n",
    "#     ratios.append(ratio_Gaussian_curvature(interpolated_wavefunction, step))\n"
   ]
  },
  {
   "cell_type": "code",
   "execution_count": null,
   "id": "b46b538e-1218-46f9-985d-50bbc36ee1d1",
   "metadata": {},
   "outputs": [],
   "source": [
    "fig, ax = plt.subplots(4, 1, figsize=(4, 6), sharex=True)\n",
    "r = 15\n",
    "ax[0].plot(deltaV[r:], ratios[r:], '-', c='r')\n",
    "# ax[0].vlines(0.0, -5, -0.5, 'r')\n",
    "\n",
    "ax[0].set_ylabel(r'$\\frac{K_{min}}{K_{max}}$', fontsize=11)\n",
    "\n",
    "ax[1].plot(deltaV[r:], np.array(desired_couplings)[r:]/40e-6, '-', c='r')\n",
    "ax[1].set_ylabel(r'Couplings $\\Delta_t$', fontsize=11)\n",
    "\n",
    "\n",
    "ax[2].plot(deltaV[r:], np.array(shape)[r:]/40e-6, '-', c='r')\n",
    "ax[2].set_ylabel('Potential error(V)', fontsize=11)\n",
    "\n",
    "ax[3].plot(deltaV[r:],( np.array(loss) - np.array(shape))[r:]/40e-6, '-', c='r')\n",
    "ax[3].set_ylabel('Default loss', fontsize=11)\n",
    "\n",
    "ax[3].set_xlabel('Detuning (V)', fontsize=11)"
   ]
  },
  {
   "cell_type": "code",
   "execution_count": null,
   "id": "bf3604dd-b447-4764-87a8-b3dc5ac5e28d",
   "metadata": {},
   "outputs": [],
   "source": [
    "params.update(parameters.voltage_dict(sol1.x))\n",
    "linear_ham, numerical_hamiltonian = hamiltonian(system.trijunction, \n",
    "                                optimiser_args['linear_terms'], \n",
    "                                optimiser_args['kwant_params_fn'], \n",
    "                                **params)"
   ]
  },
  {
   "cell_type": "code",
   "execution_count": null,
   "id": "02a365e1-29cf-42b2-8485-1d3e410db094",
   "metadata": {},
   "outputs": [],
   "source": [
    "energies, wave_function = eigsh(\n",
    "                numerical_hamiltonian.tocsc(),\n",
    "                6,\n",
    "                sigma=0,\n",
    "                return_eigenvectors=True,\n",
    "    )"
   ]
  },
  {
   "cell_type": "raw",
   "id": "ba80a5b2-1628-4119-9d86-16e5dc5f8696",
   "metadata": {},
   "source": [
    "import pickle\n",
    "with open(\"/home/tinkerer/trijunction-design/data/left_right.pickle\", 'rb') as outfile:\n",
    "    couplings = pickle.load(outfile)"
   ]
  },
  {
   "cell_type": "code",
   "execution_count": null,
   "id": "75c693b4-1866-461d-87d6-ee5a8e5c3220",
   "metadata": {
    "tags": []
   },
   "outputs": [],
   "source": [
    "fig, ax = plt.subplots(1, 1, figsize = (5, 5), sharey= True)\n",
    "\n",
    "density = kwant.operator.Density(system.trijunction, np.eye(4))\n",
    "for i, vec in enumerate(wave_function.T[[0]]):\n",
    "    kwant.plotter.density(system.trijunction, density(vec), ax=ax);\n"
   ]
  },
  {
   "cell_type": "code",
   "execution_count": null,
   "id": "e713d342-9cb7-44dc-8dd4-556048e8db08",
   "metadata": {},
   "outputs": [],
   "source": [
    "transformed_hamiltonian = svd_transformation(\n",
    "    energies, wave_function, system.mlwf[order_wavefunctions('left-right')]\n",
    ")\n",
    "\n",
    "desired = np.abs(transformed_hamiltonian[0, 1])\n",
    "undesired = np.linalg.norm(transformed_hamiltonian[2:])"
   ]
  },
  {
   "cell_type": "markdown",
   "id": "cf834592-96bd-45c8-9454-7f2319ac7d97",
   "metadata": {},
   "source": [
    "### Initial voltage guess"
   ]
  },
  {
   "cell_type": "raw",
   "id": "c957a9e1-71a0-4a51-a513-77502a6ab6ed",
   "metadata": {},
   "source": [
    "import codes.optimization\n",
    "import codes.utils\n",
    "importlib.reload(codes.utils)\n",
    "importlib.reload(codes.optimization)"
   ]
  },
  {
   "cell_type": "code",
   "execution_count": 29,
   "id": "93cb9e54-cc72-44de-b036-5d642431ce9b",
   "metadata": {},
   "outputs": [],
   "source": [
    "kwant_sites = [site.pos for site in system.trijunction.sites]"
   ]
  },
  {
   "cell_type": "code",
   "execution_count": 30,
   "id": "bf6e66c8-eaad-442e-97e0-01ab52846081",
   "metadata": {
    "tags": []
   },
   "outputs": [],
   "source": [
    "gates_dict = zip(system.gate_names, system.gates_vertex)\n",
    "indices = dep_acc_index(\n",
    "    gates_dict,\n",
    "    system.nw_centers,\n",
    "    kwant_sites,\n",
    "    config['gate']['angle'],\n",
    "    shift=3,\n",
    "    spacing = 3,\n",
    "    npts=5\n",
    ")"
   ]
  },
  {
   "cell_type": "code",
   "execution_count": 31,
   "id": "6632d33f-aadf-477c-a27e-d6364df9c7a9",
   "metadata": {},
   "outputs": [
    {
     "data": {
      "image/png": "[encoded data removed]",
      "text/plain": [
       "<Figure size 640x480 with 1 Axes>"
      ]
     },
     "metadata": {},
     "output_type": "display_data"
    }
   ],
   "source": [
    "site_coords = system.grid_points[system.site_indices]\n",
    "for gate, index in indices.items():\n",
    "    point = kwant_sites[index]/scale\n",
    "    plt.scatter(point[0], point[1], c='b')\n",
    "\n",
    "for key, value in system.poisson_system.regions.voltage.tag_points.items():\n",
    "    if not key.startswith(('global', 'dirichlet')):\n",
    "        coords = system.grid_points[value]\n",
    "        plt.scatter(coords[:, 0], coords[:, 1], s = 0.1)"
   ]
  },
  {
   "cell_type": "code",
   "execution_count": 200,
   "id": "bdb4d67e-e40f-414d-9d17-dc8d70adce1a",
   "metadata": {},
   "outputs": [],
   "source": [
    "pair = 'left-right'\n",
    "params = parameters.junction_parameters()\n",
    "params.update(potential=system.flat_potential())\n",
    "# base_ham = system.trijunction.hamiltonian_submatrix(\n",
    "#     sparse=True, params=system.f_params(**params)\n",
    "# )\n",
    "args = (pair.split('-'),\n",
    "        (system.base_ham, system.linear_terms, system.densityoperator),\n",
    "        indices, \n",
    "        )"
   ]
  },
  {
   "cell_type": "code",
   "execution_count": 201,
   "id": "f054c368-38a1-4b6b-b109-63963e79f3f0",
   "metadata": {},
   "outputs": [],
   "source": [
    "initial_condition = (-1.5e-3, -1.5e-3, -1.5e-3, 3e-3)"
   ]
  },
  {
   "cell_type": "code",
   "execution_count": 202,
   "id": "82af28cf-5105-4f37-890d-dde373034d54",
   "metadata": {},
   "outputs": [],
   "source": [
    "from codes.optimization import soft_threshold_loss"
   ]
  },
  {
   "cell_type": "code",
   "execution_count": 203,
   "id": "a24da1cc-ba42-4594-95a6-0a9e3758ee3b",
   "metadata": {},
   "outputs": [
    {
     "data": {
      "text/plain": [
       "<module 'codes.optimization' from '/home/tinkerer/trijunction-design/analysis/codes/optimization.py'>"
      ]
     },
     "execution_count": 203,
     "metadata": {},
     "output_type": "execute_result"
    }
   ],
   "source": [
    "import codes.optimization\n",
    "import importlib\n",
    "importlib.reload(codes.optimization)"
   ]
  },
  {
   "cell_type": "raw",
   "id": "4d433e50-f315-4351-be16-0b985e7b48fa",
   "metadata": {
    "tags": []
   },
   "source": [
    "%%time\n",
    "\n",
    "sol1 = minimize(codes.optimization.soft_threshold_loss, \n",
    "         x0=initial_condition, \n",
    "         args=args, \n",
    "         method='trust-constr', \n",
    "         options={'initial_tr_radius':1e-3,\n",
    "                  'verbose':2}\n",
    "        )"
   ]
  },
  {
   "cell_type": "code",
   "execution_count": 205,
   "id": "e63953ab-e82f-427d-b000-ef4871026932",
   "metadata": {},
   "outputs": [
    {
     "data": {
      "text/plain": [
       "array([-0.00369684, -0.00391238, -0.0085203 ,  0.00924925])"
      ]
     },
     "execution_count": 205,
     "metadata": {},
     "output_type": "execute_result"
    }
   ],
   "source": [
    "sol1.x"
   ]
  },
  {
   "cell_type": "code",
   "execution_count": 206,
   "id": "67796ce0-f7a0-4517-a59c-770e0c387d3f",
   "metadata": {},
   "outputs": [],
   "source": [
    "optimal_voltages = parameters.voltage_dict(sol1.x)"
   ]
  },
  {
   "cell_type": "code",
   "execution_count": 207,
   "id": "7b1818a0-e545-4bb0-9e8f-7cdb2a863560",
   "metadata": {},
   "outputs": [],
   "source": [
    "params = parameters.junction_parameters()\n",
    "params.update(potential=system.flat_potential())\n",
    "params.update(optimal_voltages)"
   ]
  },
  {
   "cell_type": "code",
   "execution_count": 208,
   "id": "39f3302c-f6e0-46f0-80b0-f0ea52350a1a",
   "metadata": {},
   "outputs": [],
   "source": [
    "from codes.constants import bands\n"
   ]
  },
  {
   "cell_type": "code",
   "execution_count": 209,
   "id": "493a25d4-8afd-43d3-9ba2-2324c93805b8",
   "metadata": {
    "tags": []
   },
   "outputs": [],
   "source": [
    "linear_ham, full_ham = hamiltonian(system.base_ham, \n",
    "                                   system.linear_terms, \n",
    "                                   system.f_params, \n",
    "                                   **params)\n",
    "\n",
    "potential = linear_ham.diagonal()[::4]\n",
    "step_potential = np.array(np.abs(potential) > bands[0], dtype=int)"
   ]
  },
  {
   "cell_type": "code",
   "execution_count": 210,
   "id": "3f41393e-f20b-4cff-861c-04c07bd54c54",
   "metadata": {},
   "outputs": [],
   "source": [
    "evals, evecs = eigsh(full_ham, k=6, sigma=0, return_eigenvectors=True)"
   ]
  },
  {
   "cell_type": "code",
   "execution_count": 211,
   "id": "df1d36cc-e3c9-4515-aee3-dac163c8715d",
   "metadata": {},
   "outputs": [],
   "source": [
    "transformed_hamiltonian = svd_transformation(\n",
    "    evals, evecs, system.mlwf[order_wavefunctions(pair)]\n",
    ")\n",
    "\n",
    "desired = np.abs(transformed_hamiltonian[0, 1])\n",
    "undesired = np.linalg.norm(transformed_hamiltonian[2:])"
   ]
  },
  {
   "cell_type": "code",
   "execution_count": 212,
   "id": "632123cc-0b7b-4f5a-af2a-7b57b644e2f3",
   "metadata": {},
   "outputs": [
    {
     "data": {
      "text/plain": [
       "(1.5273166881579242e-05, 3.6261539409447924e-08)"
      ]
     },
     "execution_count": 212,
     "metadata": {},
     "output_type": "execute_result"
    }
   ],
   "source": [
    "desired, undesired"
   ]
  },
  {
   "cell_type": "code",
   "execution_count": 213,
   "id": "53741a0d-d58d-4e76-8664-aa90f217d575",
   "metadata": {},
   "outputs": [],
   "source": [
    "wfv = system.densityoperator(evecs[:, 0])"
   ]
  },
  {
   "cell_type": "code",
   "execution_count": 214,
   "id": "6aa07800-98cc-46df-b95f-e89842704ff1",
   "metadata": {},
   "outputs": [
    {
     "data": {
      "image/png": "[encoded data removed]",
      "text/plain": [
       "<Figure size 600x400 with 2 Axes>"
      ]
     },
     "metadata": {},
     "output_type": "display_data"
    }
   ],
   "source": [
    "fig, ax = plt.subplots(ncols=2, figsize=(6, 4))\n",
    "kwant.plotter.map(system.trijunction, lambda i: step_potential[i], ax=ax[0])\n",
    "kwant.plotter.density(system.trijunction, wfv, ax=ax[1]);\n",
    "for value in system.indices.values():\n",
    "    ax[0].scatter(*kwant_sites[value], c='blue')\n",
    "for axes in ax:\n",
    "    axes.set_ylim(-3e-7, 10e-7)\n",
    "    axes.set_xlim(-3e-7, 3e-7)"
   ]
  }
 ],
 "metadata": {
  "kernelspec": {
   "display_name": "Python 3 (ipykernel)",
   "language": "python",
   "name": "python3"
  },
  "language_info": {
   "codemirror_mode": {
    "name": "ipython",
    "version": 3
   },
   "file_extension": ".py",
   "mimetype": "text/x-python",
   "name": "python",
   "nbconvert_exporter": "python",
   "pygments_lexer": "ipython3",
   "version": "3.10.6"
  }
 },
 "nbformat": 4,
 "nbformat_minor": 5
}
