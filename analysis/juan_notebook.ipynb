{
 "cells": [
  {
   "cell_type": "code",
   "execution_count": 3,
   "id": "318e0951-21c5-496e-aa93-587394a5c978",
   "metadata": {},
   "outputs": [
    {
     "name": "stdout",
     "output_type": "stream",
     "text": [
      "VoronoiMesh version 0.1\n",
      "DiscretePoisson version 0.3\n",
      "Shape version: 0.1\n",
      "SystEquations version: 0.3\n",
      "Solver version 0.1\n"
     ]
    }
   ],
   "source": [
    "import tinyarray as ta\n",
    "import numpy as np\n",
    "import matplotlib.pyplot as plt\n",
    "import importlib\n",
    "import json\n",
    "import kwant\n",
    "from dask_quantumtinkerer import Cluster, cluster_options\n",
    "import adaptive\n",
    "\n",
    "import codes.trijunction as trijunction\n",
    "import codes.optimization as optimization\n",
    "import codes.parameters as parameters\n",
    "from codes.system_functions import diagonalisation, adaptive_two_parameters\n",
    "from codes.tools import hamiltonian\n",
    "from codes.utils import eigsh, svd_transformation, dict_update, dep_acc_index, order_wavefunctions"
   ]
  },
  {
   "cell_type": "code",
   "execution_count": 4,
   "id": "5831eb79-c089-4924-90c4-141013098058",
   "metadata": {},
   "outputs": [],
   "source": [
    "pairs = ['right-top', 'left-top', 'left-right']"
   ]
  },
  {
   "cell_type": "code",
   "execution_count": 5,
   "id": "c495bfa6-176b-47fc-8fae-aba23c7ef444",
   "metadata": {},
   "outputs": [],
   "source": [
    "from scipy.optimize import minimize, minimize_scalar"
   ]
  },
  {
   "cell_type": "code",
   "execution_count": 6,
   "id": "328a91b2-d8b2-4dfd-9ec7-48e577aa65ba",
   "metadata": {},
   "outputs": [],
   "source": [
    "with open('/home/tinkerer/trijunction-design/codes/config.json', 'r') as f:\n",
    "    config = json.load(f)\n",
    "\n",
    "change_config = [\n",
    "    {\"device\": {\"thickness\": {\"dielectric\": 1.0}}},\n",
    "    {\"gate\": {\"channel_width\": 13.0, 'angle': np.pi/6, 'gap': 2}},\n",
    "]\n",
    "\n",
    "for local_config in change_config:\n",
    "    config = dict_update(config, local_config)"
   ]
  },
  {
   "cell_type": "code",
   "execution_count": 7,
   "id": "bfb13a62-2ff2-4afa-a06b-ead696c58073",
   "metadata": {},
   "outputs": [],
   "source": [
    "system = trijunction.Trijunction(config)"
   ]
  },
  {
   "cell_type": "code",
   "execution_count": 8,
   "id": "8fd49cdb-209b-4f74-a25b-9775442cc171",
   "metadata": {
    "tags": []
   },
   "outputs": [
    {
     "name": "stdout",
     "output_type": "stream",
     "text": [
      "Finding closed voronoi cells\n",
      "Done selecting closed voronoi cells\n",
      "Calculating points distance\n",
      "Done\n",
      "Calculating ridges hypersurfaces\n",
      "Done\n",
      "Finding  hypervolume for closed voronoi cells\n",
      "Done finding hypervolume for closed voronoi cells\n",
      "Done calculating surface\n",
      "Done calculating distance\n",
      "Done calculating capacitance matrix\n"
     ]
    },
    {
     "name": "stderr",
     "output_type": "stream",
     "text": [
      "100%|██████████| 13/13 [00:30<00:00,  2.36s/it]\n"
     ]
    }
   ],
   "source": [
    "system.make_system()"
   ]
  },
  {
   "cell_type": "code",
   "execution_count": 9,
   "id": "1cf8473d-9dd4-4de5-bca1-10a6e044ba42",
   "metadata": {},
   "outputs": [],
   "source": [
    "zero_potential = dict(\n",
    "    zip(\n",
    "        ta.array(system.site_coords[:, [0, 1]] - system.offset),\n",
    "        np.zeros(len(system.site_coords)),\n",
    "    )\n",
    ")"
   ]
  },
  {
   "cell_type": "code",
   "execution_count": 10,
   "id": "aece4f2d-f679-4354-aefe-0eeb0df3a2b1",
   "metadata": {},
   "outputs": [],
   "source": [
    "kwant_args = list(system.optimiser_arguments().values())\n",
    "#kwant_args[-1] = kwant_args[-1][order_wavefunctions(pair)]"
   ]
  },
  {
   "cell_type": "code",
   "execution_count": 11,
   "id": "6f4fea80-47b2-4cae-8d44-0881fe9f7eec",
   "metadata": {
    "tags": []
   },
   "outputs": [],
   "source": [
    "params = parameters.junction_parameters()\n",
    "params.update(potential=zero_potential)"
   ]
  },
  {
   "cell_type": "code",
   "execution_count": 12,
   "id": "796549c9-5ccb-4ed0-8813-735101e98081",
   "metadata": {},
   "outputs": [],
   "source": [
    "voltages = parameters.pair_voltages(initial=(-1.0e-3, -1.0e-3, -1.0e-3, 2e-3), depleted=-7e-3)"
   ]
  },
  {
   "cell_type": "markdown",
   "id": "9dda557c-71a8-455e-ac4e-f18c10f39486",
   "metadata": {},
   "source": [
    "# Phase space "
   ]
  },
  {
   "cell_type": "markdown",
   "id": "f9ab53b1-d79f-49a1-9a51-191a64d994e6",
   "metadata": {
    "tags": []
   },
   "source": [
    "## Optimisation routine "
   ]
  },
  {
   "cell_type": "code",
   "execution_count": 24,
   "id": "50fd2b30-8d4c-4e0b-8d96-e0783ba913f4",
   "metadata": {},
   "outputs": [
    {
     "name": "stdout",
     "output_type": "stream",
     "text": [
      "CPU times: user 6min 25s, sys: 1min 20s, total: 7min 46s\n",
      "Wall time: 7min 43s\n"
     ]
    }
   ],
   "source": [
    "%%time\n",
    "optimal_phases = {}\n",
    "for pair in pairs:\n",
    "    params.update(voltages[pair])\n",
    "    opt_args = tuple([pair, params, kwant_args])\n",
    "\n",
    "    sol = minimize_scalar(\n",
    "        optimization.loss,\n",
    "        args=opt_args, \n",
    "        bounds=(0, 2), \n",
    "        method=\"bounded\"\n",
    "    )\n",
    "    \n",
    "    optimal_phases[pair] = parameters.phase_pairs(pair, sol.x)"
   ]
  },
  {
   "cell_type": "code",
   "execution_count": 25,
   "id": "2b667696-d5a4-479b-b2ec-9117f84e0a1f",
   "metadata": {},
   "outputs": [
    {
     "data": {
      "text/plain": [
       "{'right-top': {'phi2': 1.313175736795625, 'phi1': 0},\n",
       " 'left-top': {'phi2': 0.6884409234769429, 'phi1': 0},\n",
       " 'left-right': {'phi1': 1.9107211575589333, 'phi2': 0}}"
      ]
     },
     "execution_count": 25,
     "metadata": {},
     "output_type": "execute_result"
    }
   ],
   "source": [
    "optimal_phases"
   ]
  },
  {
   "cell_type": "markdown",
   "id": "99653133-d8c7-4c27-ae9f-91986d181994",
   "metadata": {},
   "source": [
    "## Uniform grid sampling"
   ]
  },
  {
   "cell_type": "code",
   "execution_count": 13,
   "id": "358e30a0-5e18-44b8-bc2e-946bd0c8a652",
   "metadata": {},
   "outputs": [],
   "source": [
    "options = cluster_options()\n",
    "options.worker_cores = 2\n",
    "options.worker_memory = 2\n",
    "options.extra_path = \"/home/jtorresluna/trijunction-design/\""
   ]
  },
  {
   "cell_type": "code",
   "execution_count": 14,
   "id": "3f65fd94-a265-40ae-9f8e-66626b0b4a20",
   "metadata": {},
   "outputs": [],
   "source": [
    "# prepare arguments\n",
    "phis = np.linspace(0, 2, 50) * np.pi\n",
    "phases = {}\n",
    "\n",
    "for pair in pairs:\n",
    "    phases[pair] = [parameters.phase_pairs(pair, phi) for phi in phis]"
   ]
  },
  {
   "cell_type": "code",
   "execution_count": 15,
   "id": "234d9cba-0059-4bef-8a0e-911875685d92",
   "metadata": {},
   "outputs": [],
   "source": [
    "# fixed voltage matrices\n",
    "fixed_linear_matrices = [\n",
    "    sum(\n",
    "        [volts[key] * system.linear_terms[key] for key in system.linear_terms.keys()]\n",
    "    ) for volts in voltages.values()\n",
    "]"
   ]
  },
  {
   "cell_type": "code",
   "execution_count": 18,
   "id": "8d59f62e-e901-4ca0-9107-25ec27eb1bc8",
   "metadata": {
    "tags": []
   },
   "outputs": [
    {
     "name": "stdout",
     "output_type": "stream",
     "text": [
      "http://io.quantumtinkerer.tudelft.nl/user/jdtorres/proxy/8000/clusters/966f3b0af7844f5db3732e4e28ffe9b0/status\n",
      "CPU times: user 560 ms, sys: 125 ms, total: 686 ms\n",
      "Wall time: 1min 9s\n"
     ]
    }
   ],
   "source": [
    "%%time\n",
    "phase_relations = {}\n",
    "\n",
    "cluster = Cluster(options)\n",
    "\n",
    "cluster.scale(50)\n",
    "client = cluster.get_client()\n",
    "client.wait_for_workers(1)\n",
    "print(\"http://io.quantumtinkerer.tudelft.nl/user/jdtorres/proxy/\"+cluster.dashboard_link[17:])"
   ]
  },
  {
   "cell_type": "code",
   "execution_count": 22,
   "id": "37cca298-ca4d-4f39-9c18-5f711a2032ca",
   "metadata": {},
   "outputs": [],
   "source": [
    "scattered_trijunction = client.scatter(system.trijunction, broadcast=True)\n",
    "scattered_f_params = client.scatter(system.f_params, broadcast=True)\n",
    "scattered_linear_terms = client.scatter(fixed_linear_matrices, broadcast=True)"
   ]
  },
  {
   "cell_type": "code",
   "execution_count": 23,
   "id": "3115b760-ce5a-4a9c-b064-4b654333442a",
   "metadata": {},
   "outputs": [
    {
     "name": "stdout",
     "output_type": "stream",
     "text": [
      "CPU times: user 44.4 s, sys: 4.84 s, total: 49.2 s\n",
      "Wall time: 2min 4s\n"
     ]
    }
   ],
   "source": [
    "%%time\n",
    "for i, pair in enumerate(pairs):\n",
    "    futures = client.map(\n",
    "        diagonalisation,\n",
    "        phases[pair],\n",
    "        trijunction=scattered_trijunction,\n",
    "        f_params=scattered_f_params,\n",
    "        linear_terms=scattered_linear_terms[i],\n",
    "        params=params\n",
    "    )\n",
    "    phase_relations[pair] = client.gather(futures)"
   ]
  },
  {
   "cell_type": "code",
   "execution_count": 27,
   "id": "b5129d71-337d-4c31-9f44-4859e13d4502",
   "metadata": {},
   "outputs": [
    {
     "data": {
      "image/png": "[encoded data removed]",
      "text/plain": [
       "<Figure size 1152x288 with 3 Axes>"
      ]
     },
     "metadata": {
      "needs_background": "light"
     },
     "output_type": "display_data"
    }
   ],
   "source": [
    "fig, axes = plt.subplots(ncols=3, figsize=(16, 4))\n",
    "fig.tight_layout(w_pad=5)\n",
    "\n",
    "for i, pair in enumerate(pairs):\n",
    "\n",
    "    phase = 1e6*np.array(phase_relations[pair])\n",
    "\n",
    "    axes[i].set_title(pair)\n",
    "    axes[i].set_xlabel(r'$\\phi$')\n",
    "    axes[i].set_ylabel(r'E[$\\mu$eV]')\n",
    "\n",
    "    axes[i].plot(phis/np.pi, phase)\n",
    "    opt_phase = list(list(optimal_phases.values())[i].values())[0]\n",
    "    axes[i].vlines(opt_phase, ymin=-np.max(phase), ymax=np.max(phase))"
   ]
  },
  {
   "cell_type": "code",
   "execution_count": null,
   "id": "4b5d0926-4294-4c7e-9476-dfd2a7e66ff6",
   "metadata": {},
   "outputs": [],
   "source": [
    "optimal_"
   ]
  },
  {
   "cell_type": "markdown",
   "id": "4aa395bb-d747-4772-b7e2-ddbf64cba5e0",
   "metadata": {},
   "source": [
    "# Voltage space exploration"
   ]
  },
  {
   "cell_type": "markdown",
   "id": "8c5d1ea4-7534-4345-9e74-a8315bfea542",
   "metadata": {
    "tags": []
   },
   "source": [
    "## Optimisation "
   ]
  },
  {
   "cell_type": "code",
   "execution_count": 161,
   "id": "cf1bb1e7-3880-43e0-bee9-f64fa9dd092d",
   "metadata": {},
   "outputs": [],
   "source": [
    "dep_index, acc_index = dep_acc_index(\n",
    "            system.poisson_system,\n",
    "            system.site_indices,\n",
    "            system.geometry,\n",
    "            pair,\n",
    "        )"
   ]
  },
  {
   "cell_type": "code",
   "execution_count": 158,
   "id": "b8affac1-be6d-4ba8-b622-34202a8d3fcc",
   "metadata": {},
   "outputs": [],
   "source": [
    "ham = hamiltonian(\n",
    "    kwant_system=system.trijunction,\n",
    "    linear_terms=system.linear_terms,\n",
    "    params_fn=system.f_params,\n",
    "    **params,\n",
    ")"
   ]
  },
  {
   "cell_type": "code",
   "execution_count": 159,
   "id": "349e61bb-a08a-49b5-a88c-890e5e0a770d",
   "metadata": {},
   "outputs": [
    {
     "data": {
      "text/plain": [
       "<115112x115112 sparse matrix of type '<class 'numpy.complex128'>'\n",
       "\twith 1181856 stored elements in Compressed Sparse Row format>"
      ]
     },
     "execution_count": 159,
     "metadata": {},
     "output_type": "execute_result"
    }
   ],
   "source": [
    "ham"
   ]
  },
  {
   "cell_type": "code",
   "execution_count": 163,
   "id": "463305f5-ea33-4229-90c2-8a9a84f99392",
   "metadata": {},
   "outputs": [],
   "source": [
    "kwant_grid = [site.pos for site in system.trijunction.sites]"
   ]
  },
  {
   "cell_type": "code",
   "execution_count": 18,
   "id": "8d320d83-7d8d-44a2-b447-15dffd735b37",
   "metadata": {},
   "outputs": [
    {
     "data": {
      "text/plain": [
       "3.6413198571384764"
      ]
     },
     "execution_count": 18,
     "metadata": {},
     "output_type": "execute_result"
    }
   ],
   "source": [
    "# loss to optimize voltages\n",
    "params.update(optimal_phase)\n",
    "opt_args = tuple([pair, params, kwant_args])\n",
    "optimization.loss(x, *opt_args)"
   ]
  },
  {
   "cell_type": "code",
   "execution_count": null,
   "id": "a4127912-a3d7-4deb-89a7-cad8511c37a4",
   "metadata": {
    "tags": []
   },
   "outputs": [
    {
     "name": "stdout",
     "output_type": "stream",
     "text": [
      "| niter |f evals|CG iter|  obj func   |tr radius |   opt    |  c viol  |\n",
      "|-------|-------|-------|-------------|----------|----------|----------|\n",
      "|   1   |   5   |   0   | +3.6413e+00 | 1.00e-03 | 2.41e+03 | 0.00e+00 |\n",
      "|   2   |  10   |   1   | -2.1138e+00 | 7.00e-03 | 6.44e+03 | 0.00e+00 |\n",
      "|   3   |  15   |   2   | -5.1649e+00 | 7.00e-03 | 4.05e+01 | 0.00e+00 |\n",
      "|   4   |  20   |   3   | -5.1652e+00 | 7.00e-03 | 4.03e+01 | 0.00e+00 |\n",
      "|   5   |  25   |   5   | -5.1652e+00 | 1.61e-03 | 4.03e+01 | 0.00e+00 |\n",
      "|   6   |  30   |   6   | -5.1652e+00 | 8.07e-04 | 4.03e+01 | 0.00e+00 |\n",
      "|   7   |  35   |   7   | -5.1652e+00 | 2.99e-04 | 4.03e+01 | 0.00e+00 |\n",
      "|   8   |  40   |   8   | -5.1889e+00 | 2.09e-03 | 1.59e+02 | 0.00e+00 |\n",
      "|   9   |  45   |  11   | -5.1889e+00 | 2.53e-04 | 1.59e+02 | 0.00e+00 |\n",
      "|  10   |  50   |  13   | -5.2199e+00 | 1.77e-03 | 8.09e+02 | 0.00e+00 |\n",
      "|  11   |  55   |  15   | -5.2199e+00 | 8.87e-04 | 8.09e+02 | 0.00e+00 |\n",
      "|  12   |  60   |  18   | -5.2199e+00 | 2.96e-04 | 8.09e+02 | 0.00e+00 |\n",
      "|  13   |  65   |  20   | -5.2199e+00 | 1.48e-04 | 8.09e+02 | 0.00e+00 |\n",
      "|  14   |  70   |  21   | -5.2199e+00 | 7.39e-05 | 8.09e+02 | 0.00e+00 |\n",
      "|  15   |  75   |  22   | -5.2255e+00 | 7.39e-05 | 2.50e+02 | 0.00e+00 |\n",
      "|  16   |  80   |  24   | -5.2255e+00 | 3.70e-05 | 2.50e+02 | 0.00e+00 |\n",
      "|  17   |  85   |  26   | -5.2377e+00 | 2.59e-04 | 2.17e+02 | 0.00e+00 |\n"
     ]
    }
   ],
   "source": [
    "sol1 = minimize(\n",
    "            optimization.loss,\n",
    "            x,\n",
    "            args=opt_args,\n",
    "            method=\"trust-constr\",\n",
    "            options={\n",
    "                \"verbose\": 2,\n",
    "                \"initial_tr_radius\": 1e-3,\n",
    "                # \"gtol\": 1e-1,\n",
    "            },\n",
    "        )"
   ]
  },
  {
   "cell_type": "code",
   "execution_count": 93,
   "id": "4c20cce0-250a-4c12-8ad9-80b982946fca",
   "metadata": {},
   "outputs": [],
   "source": [
    "params.update(parameters.voltage_dict(sol1.x))\n",
    "opt_args = tuple([pair, params, kwant_args])"
   ]
  },
  {
   "cell_type": "code",
   "execution_count": 59,
   "id": "a29e6f55-f900-471b-9de0-a41a6d009b36",
   "metadata": {},
   "outputs": [],
   "source": [
    "optimiser_args = system.optimiser_arguments()\n",
    "\n",
    "numerical_hamiltonian = hamiltonian(system.trijunction, \n",
    "                                    optimiser_args['linear_terms'], \n",
    "                                    optimiser_args['kwant_params_fn'], \n",
    "                                    **params)"
   ]
  },
  {
   "cell_type": "code",
   "execution_count": 61,
   "id": "b4661fa3-6828-4612-b64c-fe5a72610f20",
   "metadata": {},
   "outputs": [],
   "source": [
    "energies, wave_functions = eigsh(\n",
    "                numerical_hamiltonian.tocsc(),\n",
    "                6,\n",
    "                sigma=0,\n",
    "                return_eigenvectors=True,\n",
    ")"
   ]
  },
  {
   "cell_type": "code",
   "execution_count": 75,
   "id": "e713d342-9cb7-44dc-8dd4-556048e8db08",
   "metadata": {},
   "outputs": [],
   "source": [
    "transformed_hamiltonian = svd_transformation(\n",
    "    energies, wave_functions, reference_wave_functions\n",
    ")\n",
    "\n",
    "desired = np.abs(transformed_hamiltonian[0, 1])\n",
    "undesired = np.linalg.norm(transformed_hamiltonian[2:])"
   ]
  },
  {
   "cell_type": "code",
   "execution_count": 77,
   "id": "36c4db8a-1ac2-40c1-b41c-b7469871e7eb",
   "metadata": {},
   "outputs": [
    {
     "data": {
      "text/plain": [
       "2.430561344761288e-05"
      ]
     },
     "execution_count": 77,
     "metadata": {},
     "output_type": "execute_result"
    }
   ],
   "source": [
    "desired"
   ]
  },
  {
   "cell_type": "markdown",
   "id": "572f2787-f24b-4056-9431-a95f3f4641c3",
   "metadata": {},
   "source": [
    "## Adaptive exploration "
   ]
  },
  {
   "cell_type": "code",
   "execution_count": 28,
   "id": "b177f48d-b684-4a6a-92fc-8ac21d6721a9",
   "metadata": {},
   "outputs": [],
   "source": [
    "plunger_min = -5e-3\n",
    "plunger_max = 5e-3\n",
    "\n",
    "bounds = [\n",
    "    (plunger_min, plunger_max),\n",
    "    (plunger_min, plunger_max),\n",
    "]"
   ]
  },
  {
   "cell_type": "code",
   "execution_count": 43,
   "id": "17a603ea-f700-47d9-8131-5177a499c285",
   "metadata": {},
   "outputs": [
    {
     "name": "stdout",
     "output_type": "stream",
     "text": [
      "http://io.quantumtinkerer.tudelft.nl/user/jdtorres/proxy/8000/clusters/6eff509412214a50ae0fec1ddf813f3b/status\n"
     ]
    }
   ],
   "source": [
    "cluster = await Cluster(options, asynchronous=True)\n",
    "\n",
    "await cluster.scale(50)\n",
    "client = await cluster.get_client()\n",
    "await client.wait_for_workers(1)\n",
    "print(\"http://io.quantumtinkerer.tudelft.nl/user/jdtorres/proxy/\"+cluster.dashboard_link[17:])"
   ]
  },
  {
   "cell_type": "code",
   "execution_count": 44,
   "id": "0954376b-ccc3-46e2-a278-3fe190177e8e",
   "metadata": {},
   "outputs": [],
   "source": [
    "pair = 'right-top'"
   ]
  },
  {
   "cell_type": "code",
   "execution_count": 45,
   "id": "62de0d74-35b6-4ce2-bafc-e156cc871e02",
   "metadata": {},
   "outputs": [],
   "source": [
    "voltages = parameters.pair_voltages(initial=(-1.0e-3, -1.0e-3, -1.0e-3, 0), depleted=-7e-3)"
   ]
  },
  {
   "cell_type": "code",
   "execution_count": 46,
   "id": "74698fd5-7d9d-41f0-bd18-3bdfc488730d",
   "metadata": {},
   "outputs": [],
   "source": [
    "params = parameters.junction_parameters()\n",
    "params.update(potential=zero_potential)\n",
    "base_ham = system.trijunction.hamiltonian_submatrix(sparse=True, params=system.f_params(**params))"
   ]
  },
  {
   "cell_type": "code",
   "execution_count": 47,
   "id": "4838cb07-a6bb-48d5-8ff1-87e96e909a71",
   "metadata": {},
   "outputs": [],
   "source": [
    "scattered_base_ham = await client.scatter(base_ham, broadcast=True)\n",
    "scattered_linear_matrices = await client.scatter(system.linear_terms, broadcast=True)"
   ]
  },
  {
   "cell_type": "code",
   "execution_count": 48,
   "id": "4e09735d-0850-4370-ab29-fa0a44a538ba",
   "metadata": {},
   "outputs": [],
   "source": [
    "async def f_async(xy):\n",
    "    future = client.submit(\n",
    "        adaptive_two_parameters,\n",
    "        xy,\n",
    "        trijunction=scattered_base_ham,\n",
    "        linear_terms=scattered_linear_matrices,\n",
    "        keys=('top', 'right'),\n",
    "        params=voltages[pair]\n",
    "    )\n",
    "\n",
    "    return await future"
   ]
  },
  {
   "cell_type": "code",
   "execution_count": 49,
   "id": "6b852fd3-bc1c-4e4e-9a5f-737da0523d2b",
   "metadata": {},
   "outputs": [],
   "source": [
    "learner = adaptive.Learner2D(f_async, bounds=bounds)"
   ]
  },
  {
   "cell_type": "code",
   "execution_count": 50,
   "id": "c6feb2df-dd8e-4c9d-b1eb-2a78da57bc4f",
   "metadata": {
    "tags": []
   },
   "outputs": [],
   "source": [
    "runner = adaptive.AsyncRunner(\n",
    "    learner,\n",
    "    goal=lambda l: l.loss() < 0.001,\n",
    "    ntasks=199\n",
    ")"
   ]
  },
  {
   "cell_type": "code",
   "execution_count": 55,
   "id": "7f43856d-f1d5-4131-a94d-75a5f2e51c10",
   "metadata": {},
   "outputs": [],
   "source": [
    "_, _, z = learner.interpolated_on_grid()"
   ]
  },
  {
   "cell_type": "code",
   "execution_count": 56,
   "id": "d2b4a389-bd8f-4175-9d1f-e36d0f4c3b10",
   "metadata": {},
   "outputs": [
    {
     "data": {
      "text/plain": [
       "<matplotlib.colorbar.Colorbar at 0x7fc3250223e0>"
      ]
     },
     "execution_count": 56,
     "metadata": {},
     "output_type": "execute_result"
    },
    {
     "data": {
      "image/png": "[encoded data removed]",
      "text/plain": [
       "<Figure size 432x288 with 2 Axes>"
      ]
     },
     "metadata": {
      "needs_background": "light"
     },
     "output_type": "display_data"
    }
   ],
   "source": [
    "plot = plt.imshow(z)\n",
    "plt.colorbar(plot)"
   ]
  },
  {
   "cell_type": "code",
   "execution_count": 57,
   "id": "345ac081-45bb-46ba-be55-08da865bdb54",
   "metadata": {},
   "outputs": [],
   "source": [
    "runner.cancel()"
   ]
  },
  {
   "cell_type": "code",
   "execution_count": null,
   "id": "ce0ae76b-8afc-4add-ab10-cce0c3654024",
   "metadata": {},
   "outputs": [],
   "source": []
  }
 ],
 "metadata": {
  "kernelspec": {
   "display_name": "Python 3 (ipykernel)",
   "language": "python",
   "name": "python3"
  },
  "language_info": {
   "codemirror_mode": {
    "name": "ipython",
    "version": 3
   },
   "file_extension": ".py",
   "mimetype": "text/x-python",
   "name": "python",
   "nbconvert_exporter": "python",
   "pygments_lexer": "ipython3",
   "version": "3.10.6"
  }
 },
 "nbformat": 4,
 "nbformat_minor": 5
}
