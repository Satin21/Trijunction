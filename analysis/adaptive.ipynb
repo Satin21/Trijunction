{
 "cells": [
  {
   "cell_type": "code",
   "execution_count": 2,
   "id": "b0a8087b-1999-4df9-acd4-d698b8af05b0",
   "metadata": {},
   "outputs": [],
   "source": [
    "import sys, os\n",
    "import numpy as np\n",
    "import matplotlib.pyplot as plt\n",
    "from dask_quantumtinkerer import Cluster, cluster_options\n",
    "import adaptive\n",
    "import tinyarray as ta\n",
    "from itertools import product\n",
    "import kwant\n",
    "from collections import OrderedDict\n",
    "from scipy.optimize import minimize_scalar\n",
    "import dask.bag as db\n",
    "\n",
    "#sys.path.append(os.path.realpath('./../code/'))\n",
    "import codes.finite_system\n",
    "import codes.parameters\n",
    "from codes.tools import linear_Hamiltonian, hamiltonian\n",
    "from codes.utils import eigsh, voltage_dict\n",
    "from codes.discretize import discretize_heterostructure\n",
    "from codes.gate_design import gate_coords\n",
    "\n",
    "sys.path.append(os.path.realpath('./../spin-qubit/'))\n",
    "from Hamiltonian import discrete_system_coordinates\n",
    "from potential import linear_problem_instance"
   ]
  },
  {
   "cell_type": "markdown",
   "id": "5a089436-e970-42f5-b0bb-1035d3f9c02c",
   "metadata": {},
   "source": [
    "# Adaptive exploration of voltage space\n",
    "\n",
    "In this notebook we explore the voltage dependence of the Majorana coupling in a trijunction.\n",
    "The setup is defined in `config`.\n",
    "It contains details about:\n",
    "1. Material parameters.\n",
    "2. Device geometry parameters.\n",
    "3. Nanowire geometry parameters for `kwant`.\n"
   ]
  },
  {
   "cell_type": "code",
   "execution_count": 3,
   "id": "ed7f0070-6399-4170-8e54-680f20011749",
   "metadata": {},
   "outputs": [],
   "source": [
    "config = {\n",
    "    \"device\":\n",
    "        {\"thickness\":\n",
    "            {\"dielectric\": 3.0, \"twoDEG\": 2, \"gates\": 2, \"substrate\": 5},\n",
    "        \"grid_spacing\":\n",
    "            {\"twoDEG\": 0.5, \"normal\": 1, \"dielectric\": 1, \"air\": 5, \"gate\": 0.5, \"substrate\": 1},\n",
    "        \"permittivity\":\n",
    "            {\"metal\": 5000, \"twoDEG\": 15, \"air\": 1.0, \"Al2O3\": 9.1, \"substrate\": 16}},\n",
    "    \"gate\":\n",
    "        {\"L\": 41.0, \"channel_width\": 7, \"gap\": 4.0, \"angle\": 0.7853981633974483},\n",
    "    \"kwant\":\n",
    "        {\"nwl\": 150, \"nww\": 7}\n",
    "}"
   ]
  },
  {
   "cell_type": "markdown",
   "id": "2ddb4d54-eaaf-44f2-82f2-fd7127d3ca9a",
   "metadata": {},
   "source": [
    "## Build system"
   ]
  },
  {
   "cell_type": "code",
   "execution_count": 7,
   "id": "7592a4ee-0a62-4cae-a15e-c337a0e1750f",
   "metadata": {},
   "outputs": [],
   "source": [
    "# build Kwant system\n",
    "# scattering region is especified from `gate_coords`\n",
    "gates_vertex, gate_names, boundaries, nw_centers = gate_coords(grid_spacing=1)\n",
    "geometry, trijunction, f_params = codes.finite_system.kwantsystem(config, boundaries, nw_centers)"
   ]
  },
  {
   "cell_type": "code",
   "execution_count": null,
   "id": "bbef94f9-c351-4e14-b483-98db3adf4343",
   "metadata": {},
   "outputs": [],
   "source": [
    "# build poisson problem\n",
    "poisson_system = discretize_heterostructure(config, boundaries, gates_vertex, gate_names)\n",
    "linear_problem = linear_problem_instance(poisson_system)"
   ]
  },
  {
   "cell_type": "code",
   "execution_count": null,
   "id": "c51a9094-8506-4121-b728-d219079114f7",
   "metadata": {},
   "outputs": [],
   "source": [
    "# extract coordinates of poisson lattice\n",
    "site_coords, site_indices = discrete_system_coordinates(\n",
    "    poisson_system, [(\"charge\", \"twoDEG\")], boundaries=None\n",
    ")\n",
    "\n",
    "crds = site_coords[:, [0, 1]]\n",
    "grid_spacing = config[\"device\"][\"grid_spacing\"][\"twoDEG\"]\n",
    "offset = crds[0] % grid_spacing"
   ]
  },
  {
   "cell_type": "code",
   "execution_count": null,
   "id": "3a730ab8-cf7b-49ff-8c06-3897e0cdef44",
   "metadata": {},
   "outputs": [],
   "source": [
    "# define poisson parameters\n",
    "poisson_params = {\n",
    "    \"linear_problem\": linear_problem,\n",
    "    \"site_coords\": site_coords,\n",
    "    \"site_indices\": site_indices,\n",
    "    \"offset\": offset,\n",
    "}"
   ]
  },
  {
   "cell_type": "code",
   "execution_count": null,
   "id": "80ff31f8-d298-4264-8696-c6c189f499e9",
   "metadata": {},
   "outputs": [],
   "source": [
    "# transform poisson problem to a set of matrices with linear dependence\n",
    "# on voltages\n",
    "voltage_regions = list(poisson_system.regions.voltage.tag_points.keys())\n",
    "\n",
    "base_ham, linear_terms = linear_Hamiltonian(\n",
    "    poisson_system,\n",
    "    poisson_params,\n",
    "    trijunction,\n",
    "    f_params,\n",
    "    voltage_regions,\n",
    ")"
   ]
  },
  {
   "cell_type": "code",
   "execution_count": null,
   "id": "4e82160f-eedc-4227-a161-6e08bcd9ca7d",
   "metadata": {},
   "outputs": [],
   "source": [
    "# define base hamiltonian paramters\n",
    "mu = parameters.bands[0]\n",
    "params = parameters.junction_parameters([mu, mu, -2])\n",
    "\n",
    "kwant_params = {'kwant_sys': trijunction,\n",
    "                'kwant_params_fn': f_params,\n",
    "                'general_params': params,\n",
    "                'linear_terms': linear_terms}"
   ]
  },
  {
   "cell_type": "code",
   "execution_count": 6,
   "id": "4ad67389-c0de-469d-81e9-de5149880048",
   "metadata": {},
   "outputs": [
    {
     "ename": "NameError",
     "evalue": "name 'site_coords' is not defined",
     "output_type": "error",
     "traceback": [
      "\u001b[0;31m---------------------------------------------------------------------------\u001b[0m",
      "\u001b[0;31mNameError\u001b[0m                                 Traceback (most recent call last)",
      "Input \u001b[0;32mIn [6]\u001b[0m, in \u001b[0;36m<cell line: 2>\u001b[0;34m()\u001b[0m\n\u001b[1;32m      1\u001b[0m \u001b[38;5;66;03m# fill trijunction with flat potential\u001b[39;00m\n\u001b[1;32m      2\u001b[0m zero_potential \u001b[38;5;241m=\u001b[39m \u001b[38;5;28mdict\u001b[39m(\n\u001b[0;32m----> 3\u001b[0m     \u001b[38;5;28mzip\u001b[39m(ta\u001b[38;5;241m.\u001b[39marray(\u001b[43msite_coords\u001b[49m[:, [\u001b[38;5;241m0\u001b[39m, \u001b[38;5;241m1\u001b[39m]]),\n\u001b[1;32m      4\u001b[0m         np\u001b[38;5;241m.\u001b[39mzeros(\u001b[38;5;28mlen\u001b[39m(site_coords)))\n\u001b[1;32m      5\u001b[0m )\n\u001b[1;32m      7\u001b[0m kwant_params[\u001b[38;5;124m'\u001b[39m\u001b[38;5;124mgeneral_params\u001b[39m\u001b[38;5;124m'\u001b[39m]\u001b[38;5;241m.\u001b[39mupdate(potential\u001b[38;5;241m=\u001b[39mzero_potential)\n",
      "\u001b[0;31mNameError\u001b[0m: name 'site_coords' is not defined"
     ]
    }
   ],
   "source": [
    "# fill trijunction with flat potential\n",
    "zero_potential = dict(\n",
    "    zip(ta.array(site_coords[:, [0, 1]]),\n",
    "        np.zeros(len(site_coords)))\n",
    ")\n",
    "\n",
    "kwant_params['general_params'].update(potential=zero_potential)"
   ]
  },
  {
   "cell_type": "code",
   "execution_count": 27,
   "id": "9c480ad1-59bc-4614-a8c9-25200edaa67c",
   "metadata": {},
   "outputs": [],
   "source": [
    "# define initial voltages\n",
    "pairs = ['right-top', 'left-top', 'left-right']\n",
    "voltages = OrderedDict()\n",
    "initial_condition = OrderedDict()\n",
    "for i, pair in enumerate(pairs):\n",
    "    initial = [-1.5e-3, -1.5e-3, -1.5e-3, 3e-3]\n",
    "    initial[i] = -3.5e-3\n",
    "    voltages[pair] = voltage_dict(initial, True)\n",
    "    initial_condition[pair] = initial.copy()"
   ]
  },
  {
   "cell_type": "code",
   "execution_count": 28,
   "id": "70a5db27-145a-45cb-95ee-3d6d85caf609",
   "metadata": {},
   "outputs": [
    {
     "data": {
      "text/plain": [
       "<module 'plotting' from '/home/tinkerer/trijunction-design/code/plotting.py'>"
      ]
     },
     "execution_count": 28,
     "metadata": {},
     "output_type": "execute_result"
    }
   ],
   "source": [
    "import importlib\n",
    "import plotting\n",
    "importlib.reload(plotting)"
   ]
  },
  {
   "cell_type": "code",
   "execution_count": 30,
   "id": "d606f6a2-1211-4e58-a3f0-81b0fabdcc23",
   "metadata": {},
   "outputs": [
    {
     "data": {
      "image/png": "[encoded data removed]",
      "text/plain": [
       "<Figure size 432x288 with 2 Axes>"
      ]
     },
     "metadata": {
      "needs_background": "light"
     },
     "output_type": "display_data"
    }
   ],
   "source": [
    "plotting.plot_potential(voltages['left-right'],\n",
    "                        boundaries,\n",
    "                        poisson_system,\n",
    "                        **poisson_params)"
   ]
  },
  {
   "cell_type": "markdown",
   "id": "c91107e2-42b4-4e37-91b6-b3892d3e8aba",
   "metadata": {},
   "source": [
    "## Phase tunning"
   ]
  },
  {
   "cell_type": "markdown",
   "id": "7c10e402-0e86-4c60-b830-fcc626714604",
   "metadata": {},
   "source": [
    "### Optimisation using `scipy`"
   ]
  },
  {
   "cell_type": "code",
   "execution_count": 14,
   "id": "b8676a8b-bf94-4252-b44f-8418699557e3",
   "metadata": {},
   "outputs": [],
   "source": [
    "# define arguments for optimisation problem\n",
    "pair = pairs[0]\n",
    "argv_phase = [pair, voltages[pair]]+list(kwant_params.values())"
   ]
  },
  {
   "cell_type": "code",
   "execution_count": 15,
   "id": "c5c326b6-2807-4098-b5c2-3d13c4b25581",
   "metadata": {
    "tags": []
   },
   "outputs": [],
   "source": [
    "sol = minimize_scalar(phase_loss,\n",
    "                      args=tuple(argv_phase),\n",
    "                      bounds=(0, 2), \n",
    "                      method='bounded')"
   ]
  },
  {
   "cell_type": "code",
   "execution_count": 18,
   "id": "3804a2d8-b8a8-4fa9-9fd9-0be40f536106",
   "metadata": {},
   "outputs": [
    {
     "data": {
      "text/plain": [
       "     fun: -5.814551620994629e-05\n",
       " message: 'Solution found.'\n",
       "    nfev: 21\n",
       "     nit: 21\n",
       "  status: 0\n",
       " success: True\n",
       "       x: 1.718394501501946"
      ]
     },
     "execution_count": 18,
     "metadata": {},
     "output_type": "execute_result"
    }
   ],
   "source": [
    "sol"
   ]
  },
  {
   "cell_type": "markdown",
   "id": "2fb0525b-fee0-4de4-aa9e-e85e616c4e97",
   "metadata": {},
   "source": [
    "### Uniform grid sampling"
   ]
  },
  {
   "cell_type": "code",
   "execution_count": 39,
   "id": "ed332709-dc11-424f-8a05-fa732ef48f6d",
   "metadata": {},
   "outputs": [],
   "source": [
    "options = cluster_options()\n",
    "options.worker_cores = 2\n",
    "options.worker_memory = 2\n",
    "options.extra_path = \"/home/jtorresluna/trijunction_design/\""
   ]
  },
  {
   "cell_type": "code",
   "execution_count": 40,
   "id": "d36b9081-6754-4ea0-a46a-5fd5a5fe0101",
   "metadata": {},
   "outputs": [],
   "source": [
    "def solver_hamiltonian_parameters(kwant_system, params_fn, voltages, params):\n",
    "\n",
    "    params.update(voltages)\n",
    "    \n",
    "    def diagonalisation(new_param):\n",
    "        params.update(new_param)\n",
    "        numerical_hamiltonian = hamiltonian(\n",
    "            kwant_system,\n",
    "            linear_terms,\n",
    "            voltages,\n",
    "            params_fn,\n",
    "            **params)\n",
    "        return eigsh(numerical_hamiltonian, 20)\n",
    "    \n",
    "    return diagonalisation"
   ]
  },
  {
   "cell_type": "code",
   "execution_count": 41,
   "id": "13bdd674-5e9b-4d4e-9d51-e6350c3eef39",
   "metadata": {},
   "outputs": [],
   "source": [
    "solver = solver_hamiltonian_parameters(kwant_params['kwant_sys'],\n",
    "                                       kwant_params['kwant_params_fn'],\n",
    "                                       voltages['left-right'],\n",
    "                                       kwant_params['general_params'])"
   ]
  },
  {
   "cell_type": "code",
   "execution_count": 42,
   "id": "e120e4cc-e4ac-43d6-8604-63a930f1fc2b",
   "metadata": {},
   "outputs": [],
   "source": [
    "phis = np.linspace(0, 2, 100) * np.pi\n",
    "args = [{'phi1': phi, 'phi2': 0} for phi in phis]\n",
    "args_db = db.from_sequence(args)"
   ]
  },
  {
   "cell_type": "code",
   "execution_count": 43,
   "id": "291dd22e-24fd-4aa6-afd3-397524dc413f",
   "metadata": {},
   "outputs": [
    {
     "name": "stdout",
     "output_type": "stream",
     "text": [
      "http://io.quantumtinkerer.tudelft.nl/user/jdtorres/proxy/8000/clusters/cc0acfba62fe4e178edd4b73b8a969cf/status\n"
     ]
    },
    {
     "ename": "KilledWorker",
     "evalue": "(\"('from_sequence-a14b462bf6fcd73a4c8d79ec87a56d9f', 26)\", <WorkerState 'tls://192.168.3.208:46379', name: ce782e81feec4dbeb70d957889914c66, status: closed, memory: 0, processing: 20>)",
     "output_type": "error",
     "traceback": [
      "\u001b[0;31m---------------------------------------------------------------------------\u001b[0m",
      "\u001b[0;31mKilledWorker\u001b[0m                              Traceback (most recent call last)",
      "Input \u001b[0;32mIn [43]\u001b[0m, in \u001b[0;36m<cell line: 1>\u001b[0;34m()\u001b[0m\n\u001b[1;32m      3\u001b[0m client \u001b[38;5;241m=\u001b[39m cluster\u001b[38;5;241m.\u001b[39mget_client()\n\u001b[1;32m      4\u001b[0m \u001b[38;5;28mprint\u001b[39m(\u001b[38;5;124m\"\u001b[39m\u001b[38;5;124mhttp://io.quantumtinkerer.tudelft.nl/user/jdtorres/proxy/\u001b[39m\u001b[38;5;124m\"\u001b[39m\u001b[38;5;241m+\u001b[39mcluster\u001b[38;5;241m.\u001b[39mdashboard_link[\u001b[38;5;241m17\u001b[39m:])\n\u001b[0;32m----> 6\u001b[0m result \u001b[38;5;241m=\u001b[39m \u001b[43margs_db\u001b[49m\u001b[38;5;241;43m.\u001b[39;49m\u001b[43mmap\u001b[49m\u001b[43m(\u001b[49m\u001b[43msolver\u001b[49m\u001b[43m)\u001b[49m\u001b[38;5;241;43m.\u001b[39;49m\u001b[43mcompute\u001b[49m\u001b[43m(\u001b[49m\u001b[43m)\u001b[49m\n",
      "File \u001b[0;32m/opt/conda/lib/python3.10/site-packages/dask/base.py:315\u001b[0m, in \u001b[0;36mDaskMethodsMixin.compute\u001b[0;34m(self, **kwargs)\u001b[0m\n\u001b[1;32m    291\u001b[0m \u001b[38;5;28;01mdef\u001b[39;00m \u001b[38;5;21mcompute\u001b[39m(\u001b[38;5;28mself\u001b[39m, \u001b[38;5;241m*\u001b[39m\u001b[38;5;241m*\u001b[39mkwargs):\n\u001b[1;32m    292\u001b[0m     \u001b[38;5;124;03m\"\"\"Compute this dask collection\u001b[39;00m\n\u001b[1;32m    293\u001b[0m \n\u001b[1;32m    294\u001b[0m \u001b[38;5;124;03m    This turns a lazy Dask collection into its in-memory equivalent.\u001b[39;00m\n\u001b[0;32m   (...)\u001b[0m\n\u001b[1;32m    313\u001b[0m \u001b[38;5;124;03m    dask.base.compute\u001b[39;00m\n\u001b[1;32m    314\u001b[0m \u001b[38;5;124;03m    \"\"\"\u001b[39;00m\n\u001b[0;32m--> 315\u001b[0m     (result,) \u001b[38;5;241m=\u001b[39m \u001b[43mcompute\u001b[49m\u001b[43m(\u001b[49m\u001b[38;5;28;43mself\u001b[39;49m\u001b[43m,\u001b[49m\u001b[43m \u001b[49m\u001b[43mtraverse\u001b[49m\u001b[38;5;241;43m=\u001b[39;49m\u001b[38;5;28;43;01mFalse\u001b[39;49;00m\u001b[43m,\u001b[49m\u001b[43m \u001b[49m\u001b[38;5;241;43m*\u001b[39;49m\u001b[38;5;241;43m*\u001b[39;49m\u001b[43mkwargs\u001b[49m\u001b[43m)\u001b[49m\n\u001b[1;32m    316\u001b[0m     \u001b[38;5;28;01mreturn\u001b[39;00m result\n",
      "File \u001b[0;32m/opt/conda/lib/python3.10/site-packages/dask/base.py:603\u001b[0m, in \u001b[0;36mcompute\u001b[0;34m(traverse, optimize_graph, scheduler, get, *args, **kwargs)\u001b[0m\n\u001b[1;32m    600\u001b[0m     keys\u001b[38;5;241m.\u001b[39mappend(x\u001b[38;5;241m.\u001b[39m__dask_keys__())\n\u001b[1;32m    601\u001b[0m     postcomputes\u001b[38;5;241m.\u001b[39mappend(x\u001b[38;5;241m.\u001b[39m__dask_postcompute__())\n\u001b[0;32m--> 603\u001b[0m results \u001b[38;5;241m=\u001b[39m \u001b[43mschedule\u001b[49m\u001b[43m(\u001b[49m\u001b[43mdsk\u001b[49m\u001b[43m,\u001b[49m\u001b[43m \u001b[49m\u001b[43mkeys\u001b[49m\u001b[43m,\u001b[49m\u001b[43m \u001b[49m\u001b[38;5;241;43m*\u001b[39;49m\u001b[38;5;241;43m*\u001b[39;49m\u001b[43mkwargs\u001b[49m\u001b[43m)\u001b[49m\n\u001b[1;32m    604\u001b[0m \u001b[38;5;28;01mreturn\u001b[39;00m repack([f(r, \u001b[38;5;241m*\u001b[39ma) \u001b[38;5;28;01mfor\u001b[39;00m r, (f, a) \u001b[38;5;129;01min\u001b[39;00m \u001b[38;5;28mzip\u001b[39m(results, postcomputes)])\n",
      "File \u001b[0;32m/opt/conda/lib/python3.10/site-packages/distributed/client.py:3000\u001b[0m, in \u001b[0;36mClient.get\u001b[0;34m(self, dsk, keys, workers, allow_other_workers, resources, sync, asynchronous, direct, retries, priority, fifo_timeout, actors, **kwargs)\u001b[0m\n\u001b[1;32m   2998\u001b[0m         should_rejoin \u001b[38;5;241m=\u001b[39m \u001b[38;5;28;01mFalse\u001b[39;00m\n\u001b[1;32m   2999\u001b[0m \u001b[38;5;28;01mtry\u001b[39;00m:\n\u001b[0;32m-> 3000\u001b[0m     results \u001b[38;5;241m=\u001b[39m \u001b[38;5;28;43mself\u001b[39;49m\u001b[38;5;241;43m.\u001b[39;49m\u001b[43mgather\u001b[49m\u001b[43m(\u001b[49m\u001b[43mpacked\u001b[49m\u001b[43m,\u001b[49m\u001b[43m \u001b[49m\u001b[43masynchronous\u001b[49m\u001b[38;5;241;43m=\u001b[39;49m\u001b[43masynchronous\u001b[49m\u001b[43m,\u001b[49m\u001b[43m \u001b[49m\u001b[43mdirect\u001b[49m\u001b[38;5;241;43m=\u001b[39;49m\u001b[43mdirect\u001b[49m\u001b[43m)\u001b[49m\n\u001b[1;32m   3001\u001b[0m \u001b[38;5;28;01mfinally\u001b[39;00m:\n\u001b[1;32m   3002\u001b[0m     \u001b[38;5;28;01mfor\u001b[39;00m f \u001b[38;5;129;01min\u001b[39;00m futures\u001b[38;5;241m.\u001b[39mvalues():\n",
      "File \u001b[0;32m/opt/conda/lib/python3.10/site-packages/distributed/client.py:2174\u001b[0m, in \u001b[0;36mClient.gather\u001b[0;34m(self, futures, errors, direct, asynchronous)\u001b[0m\n\u001b[1;32m   2172\u001b[0m \u001b[38;5;28;01melse\u001b[39;00m:\n\u001b[1;32m   2173\u001b[0m     local_worker \u001b[38;5;241m=\u001b[39m \u001b[38;5;28;01mNone\u001b[39;00m\n\u001b[0;32m-> 2174\u001b[0m \u001b[38;5;28;01mreturn\u001b[39;00m \u001b[38;5;28;43mself\u001b[39;49m\u001b[38;5;241;43m.\u001b[39;49m\u001b[43msync\u001b[49m\u001b[43m(\u001b[49m\n\u001b[1;32m   2175\u001b[0m \u001b[43m    \u001b[49m\u001b[38;5;28;43mself\u001b[39;49m\u001b[38;5;241;43m.\u001b[39;49m\u001b[43m_gather\u001b[49m\u001b[43m,\u001b[49m\n\u001b[1;32m   2176\u001b[0m \u001b[43m    \u001b[49m\u001b[43mfutures\u001b[49m\u001b[43m,\u001b[49m\n\u001b[1;32m   2177\u001b[0m \u001b[43m    \u001b[49m\u001b[43merrors\u001b[49m\u001b[38;5;241;43m=\u001b[39;49m\u001b[43merrors\u001b[49m\u001b[43m,\u001b[49m\n\u001b[1;32m   2178\u001b[0m \u001b[43m    \u001b[49m\u001b[43mdirect\u001b[49m\u001b[38;5;241;43m=\u001b[39;49m\u001b[43mdirect\u001b[49m\u001b[43m,\u001b[49m\n\u001b[1;32m   2179\u001b[0m \u001b[43m    \u001b[49m\u001b[43mlocal_worker\u001b[49m\u001b[38;5;241;43m=\u001b[39;49m\u001b[43mlocal_worker\u001b[49m\u001b[43m,\u001b[49m\n\u001b[1;32m   2180\u001b[0m \u001b[43m    \u001b[49m\u001b[43masynchronous\u001b[49m\u001b[38;5;241;43m=\u001b[39;49m\u001b[43masynchronous\u001b[49m\u001b[43m,\u001b[49m\n\u001b[1;32m   2181\u001b[0m \u001b[43m\u001b[49m\u001b[43m)\u001b[49m\n",
      "File \u001b[0;32m/opt/conda/lib/python3.10/site-packages/distributed/utils.py:338\u001b[0m, in \u001b[0;36mSyncMethodMixin.sync\u001b[0;34m(self, func, asynchronous, callback_timeout, *args, **kwargs)\u001b[0m\n\u001b[1;32m    336\u001b[0m     \u001b[38;5;28;01mreturn\u001b[39;00m future\n\u001b[1;32m    337\u001b[0m \u001b[38;5;28;01melse\u001b[39;00m:\n\u001b[0;32m--> 338\u001b[0m     \u001b[38;5;28;01mreturn\u001b[39;00m \u001b[43msync\u001b[49m\u001b[43m(\u001b[49m\n\u001b[1;32m    339\u001b[0m \u001b[43m        \u001b[49m\u001b[38;5;28;43mself\u001b[39;49m\u001b[38;5;241;43m.\u001b[39;49m\u001b[43mloop\u001b[49m\u001b[43m,\u001b[49m\u001b[43m \u001b[49m\u001b[43mfunc\u001b[49m\u001b[43m,\u001b[49m\u001b[43m \u001b[49m\u001b[38;5;241;43m*\u001b[39;49m\u001b[43margs\u001b[49m\u001b[43m,\u001b[49m\u001b[43m \u001b[49m\u001b[43mcallback_timeout\u001b[49m\u001b[38;5;241;43m=\u001b[39;49m\u001b[43mcallback_timeout\u001b[49m\u001b[43m,\u001b[49m\u001b[43m \u001b[49m\u001b[38;5;241;43m*\u001b[39;49m\u001b[38;5;241;43m*\u001b[39;49m\u001b[43mkwargs\u001b[49m\n\u001b[1;32m    340\u001b[0m \u001b[43m    \u001b[49m\u001b[43m)\u001b[49m\n",
      "File \u001b[0;32m/opt/conda/lib/python3.10/site-packages/distributed/utils.py:405\u001b[0m, in \u001b[0;36msync\u001b[0;34m(loop, func, callback_timeout, *args, **kwargs)\u001b[0m\n\u001b[1;32m    403\u001b[0m \u001b[38;5;28;01mif\u001b[39;00m error:\n\u001b[1;32m    404\u001b[0m     typ, exc, tb \u001b[38;5;241m=\u001b[39m error\n\u001b[0;32m--> 405\u001b[0m     \u001b[38;5;28;01mraise\u001b[39;00m exc\u001b[38;5;241m.\u001b[39mwith_traceback(tb)\n\u001b[1;32m    406\u001b[0m \u001b[38;5;28;01melse\u001b[39;00m:\n\u001b[1;32m    407\u001b[0m     \u001b[38;5;28;01mreturn\u001b[39;00m result\n",
      "File \u001b[0;32m/opt/conda/lib/python3.10/site-packages/distributed/utils.py:378\u001b[0m, in \u001b[0;36msync.<locals>.f\u001b[0;34m()\u001b[0m\n\u001b[1;32m    376\u001b[0m         future \u001b[38;5;241m=\u001b[39m asyncio\u001b[38;5;241m.\u001b[39mwait_for(future, callback_timeout)\n\u001b[1;32m    377\u001b[0m     future \u001b[38;5;241m=\u001b[39m asyncio\u001b[38;5;241m.\u001b[39mensure_future(future)\n\u001b[0;32m--> 378\u001b[0m     result \u001b[38;5;241m=\u001b[39m \u001b[38;5;28;01myield\u001b[39;00m future\n\u001b[1;32m    379\u001b[0m \u001b[38;5;28;01mexcept\u001b[39;00m \u001b[38;5;167;01mException\u001b[39;00m:\n\u001b[1;32m    380\u001b[0m     error \u001b[38;5;241m=\u001b[39m sys\u001b[38;5;241m.\u001b[39mexc_info()\n",
      "File \u001b[0;32m/opt/conda/lib/python3.10/site-packages/tornado/gen.py:762\u001b[0m, in \u001b[0;36mRunner.run\u001b[0;34m(self)\u001b[0m\n\u001b[1;32m    759\u001b[0m exc_info \u001b[38;5;241m=\u001b[39m \u001b[38;5;28;01mNone\u001b[39;00m\n\u001b[1;32m    761\u001b[0m \u001b[38;5;28;01mtry\u001b[39;00m:\n\u001b[0;32m--> 762\u001b[0m     value \u001b[38;5;241m=\u001b[39m \u001b[43mfuture\u001b[49m\u001b[38;5;241;43m.\u001b[39;49m\u001b[43mresult\u001b[49m\u001b[43m(\u001b[49m\u001b[43m)\u001b[49m\n\u001b[1;32m    763\u001b[0m \u001b[38;5;28;01mexcept\u001b[39;00m \u001b[38;5;167;01mException\u001b[39;00m:\n\u001b[1;32m    764\u001b[0m     exc_info \u001b[38;5;241m=\u001b[39m sys\u001b[38;5;241m.\u001b[39mexc_info()\n",
      "File \u001b[0;32m/opt/conda/lib/python3.10/site-packages/distributed/client.py:2037\u001b[0m, in \u001b[0;36mClient._gather\u001b[0;34m(self, futures, errors, direct, local_worker)\u001b[0m\n\u001b[1;32m   2035\u001b[0m         exc \u001b[38;5;241m=\u001b[39m CancelledError(key)\n\u001b[1;32m   2036\u001b[0m     \u001b[38;5;28;01melse\u001b[39;00m:\n\u001b[0;32m-> 2037\u001b[0m         \u001b[38;5;28;01mraise\u001b[39;00m exception\u001b[38;5;241m.\u001b[39mwith_traceback(traceback)\n\u001b[1;32m   2038\u001b[0m     \u001b[38;5;28;01mraise\u001b[39;00m exc\n\u001b[1;32m   2039\u001b[0m \u001b[38;5;28;01mif\u001b[39;00m errors \u001b[38;5;241m==\u001b[39m \u001b[38;5;124m\"\u001b[39m\u001b[38;5;124mskip\u001b[39m\u001b[38;5;124m\"\u001b[39m:\n",
      "\u001b[0;31mKilledWorker\u001b[0m: (\"('from_sequence-a14b462bf6fcd73a4c8d79ec87a56d9f', 26)\", <WorkerState 'tls://192.168.3.208:46379', name: ce782e81feec4dbeb70d957889914c66, status: closed, memory: 0, processing: 20>)"
     ]
    }
   ],
   "source": [
    "with Cluster(options) as cluster:\n",
    "    cluster.scale(10)\n",
    "    client = cluster.get_client()\n",
    "    print(\"http://io.quantumtinkerer.tudelft.nl/user/jdtorres/proxy/\"+cluster.dashboard_link[17:])\n",
    "\n",
    "    result = args_db.map(solver).compute()"
   ]
  },
  {
   "cell_type": "code",
   "execution_count": 88,
   "id": "6fc8d94b-cf70-4439-8441-5b2b8a655822",
   "metadata": {},
   "outputs": [
    {
     "data": {
      "text/plain": [
       "array([-3.79166818e-04, -3.78219467e-04, -3.44211246e-04, -3.32136570e-04,\n",
       "       -3.28202028e-04, -3.26375197e-04, -3.25320965e-04, -2.89994728e-04,\n",
       "       -2.01745494e-07, -1.83075993e-07,  1.83075993e-07,  2.01745494e-07,\n",
       "        2.89994728e-04,  3.25320965e-04,  3.26375197e-04,  3.28202028e-04,\n",
       "        3.32136570e-04,  3.44211246e-04,  3.78219467e-04,  3.79166818e-04])"
      ]
     },
     "execution_count": 88,
     "metadata": {},
     "output_type": "execute_result"
    }
   ],
   "source": [
    "solver(args[0])"
   ]
  },
  {
   "cell_type": "code",
   "execution_count": 57,
   "id": "af0b58e9-5400-4b30-8d1d-73f460d3f224",
   "metadata": {},
   "outputs": [
    {
     "data": {
      "image/png": "[encoded data removed]",
      "text/plain": [
       "<Figure size 432x288 with 1 Axes>"
      ]
     },
     "metadata": {
      "needs_background": "light"
     },
     "output_type": "display_data"
    }
   ],
   "source": [
    "for level in spectras:\n",
    "    plt.plot(accum_voltages, level)"
   ]
  },
  {
   "cell_type": "code",
   "execution_count": 21,
   "id": "4d0adf95-0736-4144-8e83-64421abee1c3",
   "metadata": {},
   "outputs": [
    {
     "data": {
      "text/plain": [
       "OrderedDict([('right-top',\n",
       "              {'left_1': -0.0035,\n",
       "               'left_2': -0.0035,\n",
       "               'right_1': -0.0015,\n",
       "               'right_2': -0.0015,\n",
       "               'top_1': -0.0015,\n",
       "               'top_2': -0.0015,\n",
       "               'global_accumul': 0.003}),\n",
       "             ('left-top',\n",
       "              {'left_1': -0.0015,\n",
       "               'left_2': -0.0015,\n",
       "               'right_1': -0.0035,\n",
       "               'right_2': -0.0035,\n",
       "               'top_1': -0.0015,\n",
       "               'top_2': -0.0015,\n",
       "               'global_accumul': 0.003}),\n",
       "             ('left-right',\n",
       "              {'left_1': -0.0015,\n",
       "               'left_2': -0.0015,\n",
       "               'right_1': -0.0015,\n",
       "               'right_2': -0.0015,\n",
       "               'top_1': -0.0035,\n",
       "               'top_2': -0.0035,\n",
       "               'global_accumul': 0.003})])"
      ]
     },
     "execution_count": 21,
     "metadata": {},
     "output_type": "execute_result"
    }
   ],
   "source": [
    "voltages"
   ]
  },
  {
   "cell_type": "code",
   "execution_count": null,
   "id": "33dc2dad-834e-46a4-837c-4895c4fc2c0d",
   "metadata": {},
   "outputs": [],
   "source": []
  }
 ],
 "metadata": {
  "kernelspec": {
   "display_name": "Python 3 (ipykernel)",
   "language": "python",
   "name": "python3"
  },
  "language_info": {
   "codemirror_mode": {
    "name": "ipython",
    "version": 3
   },
   "file_extension": ".py",
   "mimetype": "text/x-python",
   "name": "python",
   "nbconvert_exporter": "python",
   "pygments_lexer": "ipython3",
   "version": "3.10.5"
  }
 },
 "nbformat": 4,
 "nbformat_minor": 5
}
