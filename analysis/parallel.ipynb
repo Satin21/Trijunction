{
 "cells": [
  {
   "cell_type": "markdown",
   "id": "b5d6dbed-86af-4a4b-b9dd-f17b63525c53",
   "metadata": {},
   "source": [
    "### Parallel simulations"
   ]
  },
  {
   "cell_type": "code",
   "execution_count": 1,
   "id": "aa989497-02ca-49aa-9be0-e39b58844cab",
   "metadata": {},
   "outputs": [],
   "source": [
    "import numpy as np"
   ]
  },
  {
   "cell_type": "code",
   "execution_count": 2,
   "id": "fb68d288-e052-4397-903e-4b8265471072",
   "metadata": {},
   "outputs": [],
   "source": [
    "from dask_quantumtinkerer import Cluster, cluster_options"
   ]
  },
  {
   "cell_type": "code",
   "execution_count": 3,
   "id": "8a838cd3-1b0c-4741-a095-c963cce6483b",
   "metadata": {},
   "outputs": [
    {
     "name": "stdout",
     "output_type": "stream",
     "text": [
      "VoronoiMesh version 0.1\n",
      "DiscretePoisson version 0.3\n",
      "Shape version: 0.1\n",
      "SystEquations version: 0.3\n",
      "Solver version 0.1\n"
     ]
    }
   ],
   "source": [
    "from codes.parallel import optimize_phase_voltage"
   ]
  },
  {
   "cell_type": "code",
   "execution_count": 4,
   "id": "595b5018-7bc6-4330-9612-79f19868a6b0",
   "metadata": {},
   "outputs": [],
   "source": [
    "options = cluster_options()\n",
    "options.worker_cores = 2\n",
    "options.worker_memory = 10\n",
    "options.extra_path = \"/home/srangaswamykup/trijunction-design/\"\n",
    "cluster_dashboard_link = \"http://io.quantumtinkerer.tudelft.nl/user/srangaswamykup/proxy/\""
   ]
  },
  {
   "cell_type": "code",
   "execution_count": 5,
   "id": "e4b26359-7283-4975-8d12-64293d563e1d",
   "metadata": {},
   "outputs": [],
   "source": [
    "thickness = [0.5, 1.5]\n",
    "channel_width = [11.0, 15.0]\n",
    "gap = [2.0]\n",
    "angle = [np.pi/6]"
   ]
  },
  {
   "cell_type": "code",
   "execution_count": 6,
   "id": "5b13093f-7250-4030-8dc3-7c2767218576",
   "metadata": {},
   "outputs": [],
   "source": [
    "from itertools import product"
   ]
  },
  {
   "cell_type": "code",
   "execution_count": 7,
   "id": "4928f626-50d4-4782-a099-bbeb815682e8",
   "metadata": {},
   "outputs": [],
   "source": [
    "samples = list(product(thickness, channel_width, angle, gap))\n",
    "samples = list(zip(range(len(samples)), samples)) # add identifier\n",
    "samples = [[sample[0]] + list(sample[1])  for sample in samples] # unpack second index and make a single list"
   ]
  },
  {
   "cell_type": "code",
   "execution_count": 19,
   "id": "62ebfc93-e7b1-4516-9791-70e916edee4b",
   "metadata": {},
   "outputs": [
    {
     "data": {
      "text/plain": [
       "[[0, 0.5, 11.0, 0.5235987755982988, 1.0],\n",
       " [1, 0.5, 11.0, 0.5235987755982988, 3.0],\n",
       " [2, 0.5, 15.0, 0.5235987755982988, 1.0],\n",
       " [3, 0.5, 15.0, 0.5235987755982988, 3.0],\n",
       " [4, 1.5, 11.0, 0.5235987755982988, 1.0],\n",
       " [5, 1.5, 11.0, 0.5235987755982988, 3.0],\n",
       " [6, 1.5, 15.0, 0.5235987755982988, 1.0],\n",
       " [7, 1.5, 15.0, 0.5235987755982988, 3.0]]"
      ]
     },
     "execution_count": 19,
     "metadata": {},
     "output_type": "execute_result"
    }
   ],
   "source": [
    "samples"
   ]
  },
  {
   "cell_type": "code",
   "execution_count": 8,
   "id": "5c9d31cc-a73f-4c4a-be37-1d78ccf3ba9e",
   "metadata": {},
   "outputs": [
    {
     "data": {
      "text/plain": [
       "<module 'codes.parallel' from '/home/tinkerer/trijunction-design/analysis/codes/parallel.py'>"
      ]
     },
     "execution_count": 8,
     "metadata": {},
     "output_type": "execute_result"
    }
   ],
   "source": [
    "import codes.parallel\n",
    "import importlib\n",
    "importlib.reload(codes.parallel)"
   ]
  },
  {
   "cell_type": "raw",
   "id": "cda2608d-bf28-4db0-bc1e-feff7a9ae9af",
   "metadata": {},
   "source": [
    "with Cluster(options) as cluster:\n",
    "    cluster.scale(n=len(samples))\n",
    "    client = cluster.get_client()\n",
    "    print(cluster_dashboard_link + cluster.dashboard_link[17:])\n",
    "    futures = client.map(codes.parallel.optimize_phase_voltage, samples)\n",
    "    result = client.gather(futures)"
   ]
  },
  {
   "cell_type": "code",
   "execution_count": 17,
   "id": "2cc59233-c8a4-425e-b8fa-9e4d3c2cd0eb",
   "metadata": {},
   "outputs": [
    {
     "data": {
      "text/plain": [
       "[[0, 0.5, 11.0, 0.5235987755982988, 1.0],\n",
       " [1, 0.5, 11.0, 0.5235987755982988, 3.0],\n",
       " [2, 0.5, 15.0, 0.5235987755982988, 1.0],\n",
       " [3, 0.5, 15.0, 0.5235987755982988, 3.0],\n",
       " [4, 1.5, 11.0, 0.5235987755982988, 1.0],\n",
       " [5, 1.5, 11.0, 0.5235987755982988, 3.0],\n",
       " [6, 1.5, 15.0, 0.5235987755982988, 1.0],\n",
       " [7, 1.5, 15.0, 0.5235987755982988, 3.0]]"
      ]
     },
     "execution_count": 17,
     "metadata": {},
     "output_type": "execute_result"
    }
   ],
   "source": [
    "samples"
   ]
  },
  {
   "cell_type": "code",
   "execution_count": null,
   "id": "ee101468-f33c-4d6c-9432-6b51dc71a921",
   "metadata": {},
   "outputs": [],
   "source": []
  }
 ],
 "metadata": {
  "kernelspec": {
   "display_name": "Python 3 (ipykernel)",
   "language": "python",
   "name": "python3"
  },
  "language_info": {
   "codemirror_mode": {
    "name": "ipython",
    "version": 3
   },
   "file_extension": ".py",
   "mimetype": "text/x-python",
   "name": "python",
   "nbconvert_exporter": "python",
   "pygments_lexer": "ipython3",
   "version": "3.10.6"
  }
 },
 "nbformat": 4,
 "nbformat_minor": 5
}
