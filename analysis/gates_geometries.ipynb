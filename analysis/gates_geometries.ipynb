{
 "cells": [
  {
   "cell_type": "code",
   "execution_count": 1,
   "id": "e0017137-5330-40ad-94d0-4673931b9c66",
   "metadata": {},
   "outputs": [
    {
     "name": "stdout",
     "output_type": "stream",
     "text": [
      "VoronoiMesh version 0.1\n",
      "DiscretePoisson version 0.3\n",
      "Shape version: 0.1\n",
      "SystEquations version: 0.3\n",
      "Solver version 0.1\n"
     ]
    }
   ],
   "source": [
    " import sys\n",
    "sys.path.append(\"/home/tinkerer/spin-qubit/codes/\")\n",
    "sys.path.insert(0, \"/home/tinkerer/Poisson_Solver//\")\n",
    "\n",
    "import numpy as np\n",
    "from collections import OrderedDict\n",
    "from ccode.plotting import plot_gates\n",
    "from scipy import constants\n",
    "import matplotlib.pyplot as plt\n",
    "\n",
    "from Hamiltonian import discrete_system_coordinates, kwant_system, tight_binding_Hamiltonian\n",
    "from potential import gate_potential, linear_problem_instance\n",
    "from utility import prepare_voltages\n",
    "from plotting import plot_potential\n",
    "from layout import (\n",
    "    Layout,\n",
    "    OverlappingGateLayer,\n",
    "    PlanarGateLayer,\n",
    "    SimpleChargeLayer,\n",
    "    SimpleVoltageLayer,\n",
    "    TwoDEGLayer,\n",
    ")\n",
    "\n",
    "from itertools import product\n",
    "from shapely.geometry.polygon import Polygon\n",
    "from shapely.ops import unary_union"
   ]
  },
  {
   "cell_type": "code",
   "execution_count": 5,
   "id": "7ebb968a-0cc8-4c33-a0bf-f2d578b96708",
   "metadata": {},
   "outputs": [],
   "source": [
    "def rectangular_gate(center, length, width): \n",
    "    \"\"\"\n",
    "    Returns vertices of a gate\n",
    "    \"\"\"\n",
    "    x, y = center\n",
    "\n",
    "    gate = np.array(\n",
    "        [\n",
    "            [-width/2, -length/2],\n",
    "            [-width/2, length/2],\n",
    "            [width/2, length/2],\n",
    "            [width/2, -length/2]\n",
    "        ]\n",
    "    )\n",
    "    gate[:, 0] += x\n",
    "    gate[:, 1] += y\n",
    "\n",
    "    return gate\n",
    "\n",
    "\n",
    "def half_disk_gate(R, center=(0, 0), npts=100, shift=0):\n",
    "    \"\"\"\n",
    "    Return vertices of a half disk shaped polygon\n",
    "    \"\"\"\n",
    "    x, y = center\n",
    "\n",
    "    angles = np.linspace(0, np.pi, npts)\n",
    "\n",
    "    xs = x + np.cos(angles)*R\n",
    "    ys = y + np.sin(angles)*R\n",
    "    \n",
    "    ys[0] -= shift\n",
    "    ys[-1] -= shift\n",
    "\n",
    "    return np.vstack([xs, ys]).T\n",
    "\n",
    "\n",
    "def ring_gate(R, r, center=(0, 0), npts=100):\n",
    "    \"\"\"\n",
    "    Return vertices of a ring-shaped polygon\n",
    "    Parameters:\n",
    "    -----------\n",
    "        R: outer radius\n",
    "        r: inner radius\n",
    "    \"\"\"\n",
    "    x, y = center\n",
    "\n",
    "    angles = np.linspace(0, np.pi, npts)\n",
    "\n",
    "    Xs = x + np.cos(angles)*R\n",
    "    Ys = y + np.sin(angles)*R\n",
    "\n",
    "    xs = x + np.cos(angles)*r\n",
    "    ys = y + np.sin(angles)*r\n",
    "\n",
    "    out_ring = np.vstack([Xs, Ys]).T\n",
    "    in_ring = np.vstack([xs, ys]).T[::-1]\n",
    "\n",
    "    return np.vstack([out_ring, in_ring])\n",
    "\n",
    "\n",
    "def covering_ring(center=(0, 0), npts=100):\n",
    "    \"\"\"\n",
    "    Return vertices of a polygon that completes a rectangular region with an internal disk\n",
    "    \"\"\"\n",
    "    angles = np.linspace(0, np.pi/2, npts)\n",
    "    x, y = center\n",
    "    Xs = x + np.cos(angles)*(R+gap)\n",
    "    Ys = y + np.sin(angles)*(R+gap)\n",
    "    where_cut = np.where(np.abs(Xs - gap - wire_width/2) < 1)[0]\n",
    "    Xs = Xs[:where_cut[0]]\n",
    "    Ys = Ys[:where_cut[0]]\n",
    "\n",
    "    borders = [\n",
    "        [Xs[-1], R + gap +tunel_length + y],\n",
    "        [R + 2*gap + 2*wire_width, R + gap +tunel_length + y],\n",
    "        [R + 2*gap + 2*wire_width, 0],\n",
    "        [Xs[0], 0]\n",
    "    ]\n",
    "    vertex = np.vstack([np.concatenate((Xs, np.array(borders)[:, 0])), np.concatenate((Ys, np.array(borders)[:, 1]))]).T\n",
    "    return vertex"
   ]
  },
  {
   "cell_type": "markdown",
   "id": "ba5e81ea-4915-4efd-92fc-1cead6c06021",
   "metadata": {
    "tags": []
   },
   "source": [
    "# Ring geometry"
   ]
  },
  {
   "cell_type": "markdown",
   "id": "7506cc3f-e9c9-44ad-91d5-4c5fdc5cf42e",
   "metadata": {},
   "source": [
    "## Geometry with plunger and screen gates"
   ]
  },
  {
   "cell_type": "code",
   "execution_count": 6,
   "id": "ac478b97-ca12-47e1-bbe4-b287b4ab09df",
   "metadata": {},
   "outputs": [],
   "source": [
    "# Geometry parameters\n",
    "R = 100\n",
    "wire_width = 15\n",
    "r = R-15\n",
    "gap = 4\n",
    "tunel_length = 5\n",
    "y_shift = tunel_length + gap"
   ]
  },
  {
   "cell_type": "code",
   "execution_count": 7,
   "id": "1da45bb8-70d1-4cc9-9ab5-f376e4eda46d",
   "metadata": {},
   "outputs": [],
   "source": [
    "# Boundaries within Poisson region\n",
    "zmin = -0.5\n",
    "zmax = 0.5\n",
    "xmax = R + 2*gap + 2*wire_width\n",
    "xmin = -xmax\n",
    "ymin = 0\n",
    "ymax = R + gap +tunel_length + y_shift\n",
    "boundaries = [xmin, xmax, ymin, ymax, zmin, zmax]\n",
    "total_width = 2*xmax\n",
    "total_length = ymax"
   ]
  },
  {
   "cell_type": "code",
   "execution_count": 69,
   "id": "f34ad224-8bad-45f1-9934-03b68b9d14df",
   "metadata": {},
   "outputs": [],
   "source": [
    "y_c = tunel_length/2\n",
    "\n",
    "ring_plunger = ring_gate(R=R, r=r, center=(0, 0), npts=10)\n",
    "\n",
    "tunel_gates = {}\n",
    "central_tunnel = rectangular_gate(center=(0, R + gap + y_c), length=tunel_length, width=wire_width)\n",
    "\n",
    "center = (0, max(ring_plunger[:, 1]) - (R-r)/2)\n",
    "central_ring_tunnel = rectangular_gate(center=center, length=R-r, \n",
    "                                      width=wire_width)"
   ]
  },
  {
   "cell_type": "code",
   "execution_count": 70,
   "id": "6aeb2c0d-5361-4c57-b248-0651af09346a",
   "metadata": {},
   "outputs": [],
   "source": [
    "xmin = min(ring_plunger[:, 0]) - 10\n",
    "xmax = -xmin\n",
    "\n",
    "ymin = min(ring_plunger[:, 1])\n",
    "ymax = max(central_tunnel[:, 1])\n",
    "\n",
    "system_vertices = list(product((xmin, xmax), (ymin, ymax)))\n",
    "\n",
    "system_vertices = np.array(system_vertices)"
   ]
  },
  {
   "cell_type": "code",
   "execution_count": 71,
   "id": "5c68c421-4816-4b7d-abbd-1be24ef638f7",
   "metadata": {},
   "outputs": [],
   "source": [
    "total_system = system_vertices[np.lexsort((system_vertices[:, 0], system_vertices[:, 1]))][[0, 1, 3, 2]]"
   ]
  },
  {
   "cell_type": "code",
   "execution_count": 72,
   "id": "87c8f2ed-67bb-4eea-8e70-479ad2eae5cf",
   "metadata": {},
   "outputs": [],
   "source": [
    "ring = Polygon(ring_plunger).difference(Polygon(central_ring_tunnel).buffer(gap))\n",
    "central_tunnel = Polygon(central_tunnel)\n",
    "central_ring_tunnel = Polygon(central_ring_tunnel)"
   ]
  },
  {
   "cell_type": "code",
   "execution_count": 95,
   "id": "eef77b45-e57b-46a0-b2bb-47331d6f94be",
   "metadata": {},
   "outputs": [
    {
     "data": {
      "image/svg+xml": [
       "<svg xmlns=\"http://www.w3.org/2000/svg\" xmlns:xlink=\"http://www.w3.org/1999/xlink\" width=\"107.5147473407613\" height=\"115.01727265770299\" viewBox=\"-53.75737367038065 -4.259898987322333 107.5147473407613 115.01727265770299\" preserveAspectRatio=\"xMinYMin meet\"><g transform=\"matrix(1,0,0,-1,0,106.49747468305833)\"><path fill-rule=\"evenodd\" fill=\"#66cc99\" stroke=\"#555555\" stroke-width=\"2.0\" opacity=\"0.6\" d=\"M -4.5,44.99747468305832 L -4.5,106.49747468305833 L 4.5,106.49747468305833 L 4.5,44.99747468305832 L 49.49747468305832,0.0 L 36.49747468305832,7.960204194457796e-16 L 2.234825777378447e-15,36.49747468305832 L -36.49747468305832,5.265671974202673e-15 L -49.49747468305832,6.061692393648452e-15 L -4.5,44.99747468305832 z\" /></g></svg>"
      ],
      "text/plain": [
       "<shapely.geometry.polygon.Polygon at 0x7f5e91434820>"
      ]
     },
     "execution_count": 95,
     "metadata": {},
     "output_type": "execute_result"
    }
   ],
   "source": []
  },
  {
   "cell_type": "code",
   "execution_count": 12,
   "id": "59cd5f73-6a0b-4715-b8c5-29f315a354d2",
   "metadata": {},
   "outputs": [],
   "source": [
    "accumulation_gates_union = unary_union((ring.buffer(gap),\n",
    "                                        central_tunnel.buffer(gap),\n",
    "                                        central_ring_tunnel.buffer(gap)))"
   ]
  },
  {
   "cell_type": "code",
   "execution_count": 13,
   "id": "3dac73cc-69d0-43fb-9a56-86c9a8562351",
   "metadata": {},
   "outputs": [],
   "source": [
    "screening_gate = Polygon(total_system).difference(accumulation_gates_union)"
   ]
  },
  {
   "cell_type": "code",
   "execution_count": 14,
   "id": "df3b707b-0dba-4d5f-9f8b-11aec2bda29b",
   "metadata": {},
   "outputs": [],
   "source": [
    "screening_coords = []\n",
    "for poly in list(screening_gate.geoms):\n",
    "    screening_coords.append(np.array(list(poly.exterior.coords)))"
   ]
  },
  {
   "cell_type": "code",
   "execution_count": 15,
   "id": "eb7518eb-1526-4376-a635-56675b246c85",
   "metadata": {},
   "outputs": [],
   "source": [
    "left_ring_coords = np.array(list(list(ring.geoms)[0].exterior.coords))\n",
    "right_ring_coords = np.array(list(list(ring.geoms)[1].exterior.coords))\n",
    "central_tunnel_coords = np.array(list(central_tunnel.exterior.coords))\n",
    "central_ring_tunnel_coords = np.array(list(central_ring_tunnel.exterior.coords))"
   ]
  },
  {
   "cell_type": "code",
   "execution_count": 16,
   "id": "69fe3323-2f08-4e89-92f7-b7d85f43765f",
   "metadata": {},
   "outputs": [],
   "source": [
    "thickness_barrier = 4\n",
    "thickness_twoDEG = 4\n",
    "thickness_gates = 6\n",
    "thickness_self_Al2O3 = 4\n",
    "\n",
    "meff = 0.023 * constants.m_e  # in Kg\n",
    "eV = 1.0\n",
    "bandgap_GaAs = 1.519 * eV\n",
    "\n",
    "permittivity_metal = 5000\n",
    "permittivity_GaAs = 12.18\n",
    "permittivity_twoDEG = 15  # InAs\n",
    "permittivity_air = 1.0\n",
    "permittivity_Al2O3 = 9.1\n",
    "\n",
    "grid_spacing_twoDEG = 1\n",
    "grid_spacing_normal = 1\n",
    "grid_spacing_dielectric = 5\n",
    "grid_spacing_air = 5\n",
    "grid_spacing_GaAs = grid_spacing_normal\n",
    "grid_spacing_gate = grid_spacing_twoDEG\n",
    "grid_spacing = grid_spacing_twoDEG"
   ]
  },
  {
   "cell_type": "code",
   "execution_count": 17,
   "id": "07821581-3611-4aac-ab23-e517c4ca624f",
   "metadata": {},
   "outputs": [
    {
     "name": "stdout",
     "output_type": "stream",
     "text": [
      "checking intersection\n",
      "finished checking intersection\n",
      "Finding closed voronoi cells\n",
      "Done selecting closed voronoi cells\n",
      "Calculating points distance\n",
      "Done\n",
      "Calculating ridges hypersurfaces\n",
      "Done\n",
      "Finding  hypervolume for closed voronoi cells\n",
      "Done finding hypervolume for closed voronoi cells\n",
      "Done calculating surface\n",
      "Done calculating distance\n",
      "Done calculating capacitance matrix\n"
     ]
    }
   ],
   "source": [
    "# Solve for Poisson system\n",
    "layout = Layout(total_width,\n",
    "                total_length,\n",
    "                grid_width_air=grid_spacing_air,\n",
    "                margin=(50, 50, 50),\n",
    "                shift=(0, total_length/2, 0))\n",
    "\n",
    "layout.add_layer(\n",
    "    TwoDEGLayer(\n",
    "        \"twoDEG\",\n",
    "        thickness_twoDEG,\n",
    "        permittivity_twoDEG,\n",
    "        grid_spacing_twoDEG,\n",
    "        add_to_previous_layer = False,\n",
    "        fix_overlap = False,\n",
    "        z_bottom = None\n",
    "    ),\n",
    "    center=True,\n",
    ")\n",
    "\n",
    "height = thickness_twoDEG / 2\n",
    "\n",
    "layout.add_layer(\n",
    "    SimpleChargeLayer(\n",
    "        \"Al2O3\",\n",
    "        thickness_barrier,\n",
    "        permittivity_Al2O3,\n",
    "        grid_spacing_GaAs,\n",
    "        add_to_previous_layer = False,\n",
    "        fix_overlap = False,\n",
    "        z_bottom = None\n",
    "    )\n",
    ")\n",
    "\n",
    "height += thickness_barrier\n",
    "\n",
    "gates_name = [\"left_ring\", \"right_ring\", \"central_tunnel\", \"central_ring_tunnel\"]\n",
    "gates_vertex = [left_ring_coords, right_ring_coords, central_tunnel_coords, central_ring_tunnel_coords]\n",
    "\n",
    "for i, coord in enumerate(screening_coords):\n",
    "    gates_name.append(\"screening\" + str(i))\n",
    "    gates_vertex.append(coord)\n",
    "    \n",
    "\n",
    "layout.add_layer(OverlappingGateLayer(thickness_gates,\n",
    "                                      permittivity_metal,\n",
    "                                      grid_spacing_gate,\n",
    "                                      layer_name = gates_name,\n",
    "                                      gate_objects = gates_vertex,\n",
    "                                      remove_points = False,\n",
    "                                      add_to_previous_layer = False,\n",
    "                                      z_bottom = height,\n",
    "                                      fix_overlap = True\n",
    "                                     )\n",
    "            )\n",
    "\n",
    "poisson_system = layout.build()"
   ]
  },
  {
   "cell_type": "code",
   "execution_count": 18,
   "id": "4c9d9c5c-21eb-4adb-ac9a-7084bd18a7da",
   "metadata": {},
   "outputs": [],
   "source": [
    "grid_points = poisson_system.grid.points\n",
    "voltage_regions = poisson_system.regions.voltage.tag_points"
   ]
  },
  {
   "cell_type": "code",
   "execution_count": 19,
   "id": "757c8ead-6338-4f4a-8dc9-d10306bbb08b",
   "metadata": {},
   "outputs": [
    {
     "data": {
      "image/png": "[encoded data removed]",
      "text/plain": [
       "<Figure size 1080x504 with 1 Axes>"
      ]
     },
     "metadata": {
      "needs_background": "light"
     },
     "output_type": "display_data"
    }
   ],
   "source": [
    "plt.figure(figsize = (15, 7))\n",
    "for name, indices in voltage_regions.items():\n",
    "    grid_to_plot = grid_points[indices][:, [0, 1]]\n",
    "    plt.scatter(grid_to_plot[:, 0], grid_to_plot[:, 1], s = 0.5)"
   ]
  },
  {
   "cell_type": "markdown",
   "id": "53f09eaa-9004-4852-99b4-cf0669d7c1fa",
   "metadata": {},
   "source": [
    "## Geometry with side gates"
   ]
  },
  {
   "cell_type": "code",
   "execution_count": 59,
   "id": "dc484cb2-1069-4994-a111-62296c861922",
   "metadata": {},
   "outputs": [],
   "source": [
    "aux_rectangle_1 = rectangular_gate(length=R, width=R+2*gap, center=(R/2, R/2))\n",
    "aux_rectangle_2 = rectangular_gate(length=R, width=R+2*gap, center=(-R/2, R/2))\n",
    "left_central_side = np.array(list(Polygon(screening_coords[1]).difference(Polygon(aux_rectangle_1)).exterior.coords))\n",
    "right_central_side = np.array(list(Polygon(screening_coords[1]).difference(Polygon(aux_rectangle_2)).exterior.coords))\n",
    "left_side = screening_coords[0]\n",
    "right_side = screening_coords[2]\n",
    "gates_vertex = [left_central_side, right_central_side, left_side, right_side]\n",
    "gates_name = ['left_central', 'right_central', 'left', 'right']"
   ]
  },
  {
   "cell_type": "code",
   "execution_count": 60,
   "id": "8b63d42b-5b64-4bca-b5f9-7d295ae2e823",
   "metadata": {},
   "outputs": [
    {
     "data": {
      "image/svg+xml": [
       "<svg xmlns=\"http://www.w3.org/2000/svg\" xmlns:xlink=\"http://www.w3.org/1999/xlink\" width=\"237.6\" height=\"126.6\" viewBox=\"-118.8 -8.8 237.6 126.6\" preserveAspectRatio=\"xMinYMin meet\"><g transform=\"matrix(1,0,0,-1,0,109.0)\"><g><path fill-rule=\"evenodd\" fill=\"#66cc99\" stroke=\"#555555\" stroke-width=\"2.0\" opacity=\"0.6\" d=\"M -80.63272445585757,7.699491641912545 L -80.34784033778216,10.253924993503738 L -79.98205275528152,12.798033511813447 L -79.53573002544447,15.329255495220433 L -79.00932155742694,17.845042217748947 L -78.40335739993454,20.34286049542354 L -77.7184477075085,22.820195236969404 L -76.95528212615156,25.27455197629727 L -76.11462909891367,27.703459384216615 L -75.19733509213395,30.104471756857865 L -74.20432374312153,32.47517147828695 L -73.13659493013101,34.81317145483971 L -71.99522376556953,37.11611751872364 L -70.78135951345,39.381690798464646 L -69.49622443217928,41.60761005381471 L -68.1411125438481,43.791633972766554 L -66.71738833125977,45.93156342836608 L -65.22648536401294,48.025243693044786 L -63.66990485501705,50.07056660825008 L -62.04921414889886,52.06547270718114 L -60.36604514381939,54.00795328849719 L -58.62209264829049,55.896052438910026 L -56.81911267464684,57.7278690026223 L -54.95892067088984,59.50155849563079 L -53.043389692685274,61.21533496296548 L -51.07444851735594,62.86747277699408 L -49.054079701765275,64.4563083749837 L -46.98431758605107,65.98024193416713 L -44.86724624521793,67.43773898262835 L -42.70499739064938,68.82733194438647 L -40.49974822365614,70.14762161711967 L -38.253719243218185,71.39727858104378 L -35.96917201013133,72.57504453752487 L -33.64840686980658,73.6797335760797 L -31.293760636016785,74.71023336848721 L -28.907604237925465,75.66550628880778 L -26.49234033275926,76.54459045818581 L -24.050400886537158,77.34660071337967 L -21.584244725287515,78.07072949804575 L -19.09635505921808,78.71624767587953 L -16.58923698233204,79.28250526479447 L -14.065414950014931,79.76893209139777 L -11.527430237116697,80.17503836510801 L -10.918771275580161,80.2527149188521 L -10.527341956184234,80.32259154418092 L -10.144783995110885,80.43098463099695 L -9.774877534960481,80.57682312244931 L -9.421277705962808,80.75866595509035 L -9.087478508800345,80.97471629835275 L -8.795639761496737,81.20777667055845 L -8.66113870901785,81.15965142445867 L -8.280361288064515,81.0642716457746 L -7.892068561318242,81.00667386069873 L -7.5,80.98741276738751 L -4.0,80.98741276738751 L -4.0,0.0 L -80.99949644731215,0.0 L -80.9587166338676,2.5699466366571344 L -80.83641825534927,5.137305554896472 L -80.63272445585757,7.699491641912545 z\" /><path fill-rule=\"evenodd\" fill=\"#66cc99\" stroke=\"#555555\" stroke-width=\"2.0\" opacity=\"0.6\" d=\"M 8.280361288064514,81.0642716457746 L 8.66113870901785,81.15965142445867 L 8.79563976149673,81.20777667055845 L 9.087478508800334,80.97471629835275 L 9.4212777059628,80.75866595509036 L 9.77487753496047,80.57682312244931 L 10.144783995110876,80.43098463099695 L 10.527341956184223,80.32259154418092 L 10.918771275580154,80.2527149188521 L 11.527430237116734,80.17503836510801 L 14.065414950014882,79.76893209139779 L 16.589236982332103,79.28250526479445 L 19.096355059217988,78.71624767587956 L 21.584244725287594,78.07072949804574 L 24.050400886537442,77.3466007133796 L 26.492340332758825,76.54459045818597 L 28.907604237925657,75.66550628880769 L 31.29376063601683,74.7102333684872 L 33.64840686980634,73.67973357607981 L 35.9691720101315,72.57504453752479 L 38.25371924321821,71.39727858104376 L 40.49974822365592,70.14762161711981 L 42.70499739064946,68.82733194438643 L 44.867246245218126,67.43773898262822 L 46.98431758605104,65.98024193416715 L 49.05407970176512,64.4563083749838 L 51.07444851735601,62.86747277699402 L 53.043389692685274,61.21533496296548 L 54.958920670889725,59.50155849563089 L 56.819112674646945,57.72786900262221 L 58.62209264829059,55.89605243890992 L 60.366045143819285,54.007953288497305 L 62.049214148899004,52.06547270718095 L 63.669904855017116,50.07056660825002 L 65.22648536401314,48.02524369304452 L 66.71738833125997,45.93156342836578 L 68.1411125438481,43.791633972766576 L 69.4962244321792,41.60761005381482 L 70.78135951345014,39.38169079846439 L 71.99522376556942,37.11611751872388 L 73.13659493013105,34.81317145483965 L 74.20432374312153,32.475171478286974 L 75.19733509213388,30.104471756858015 L 76.11462909891372,27.703459384216448 L 76.95528212615157,25.274551976297264 L 77.71844770750847,22.82019523696947 L 78.40335739993455,20.342860495423512 L 79.00932155742693,17.845042217749004 L 79.53573002544448,15.329255495220377 L 79.98205275528152,12.798033511813443 L 80.34784033778216,10.253924993503754 L 80.63272445585757,7.699491641912545 L 80.83641825534927,5.137305554896486 L 80.9587166338676,2.5699466366571357 L 80.99949644731215,0.0 L 4.0,0.0 L 4.0,80.98741276738751 L 7.5,80.98741276738751 L 7.8920685613182435,81.00667386069873 L 8.280361288064514,81.0642716457746 z\" /><path fill-rule=\"evenodd\" fill=\"#66cc99\" stroke=\"#555555\" stroke-width=\"2.0\" opacity=\"0.6\" d=\"M -11.5,109.0 L -11.5,104.0 L -11.480738906688789,103.60793143868176 L -11.438828427591494,103.32539393855922 L -11.608253194629462,103.32926878455861 L -12.006369814295006,103.29855314846958 L -14.737853641623529,102.94996343941645 L -14.863489411221929,102.93189974279885 L -17.996823350586435,102.43053085592638 L -18.121822744134665,102.40849009027163 L -21.23767178396071,101.8079594105287 L -21.36190893766525,101.7819637690195 L -24.45713568208889,101.08287597989579 L -24.58048549966703,101.05295163793959 L -27.65197331772782,100.25601066157962 L -27.774311596369213,100.22218775045219 L -30.81896776019319,99.32819603886539 L -30.94017131562143,99.29050861537117 L -33.95493011453612,98.30036634243062 L -34.07487690504483,98.25885235461048 L -37.05670273248984,97.17355650965432 L -37.175271981828494,97.12825775857497 L -40.121162391954186,95.94890114252243 L -40.23823471093932,95.89986324018642 L -43.145223441815084,94.62763336518013 L -43.260680948545335,94.57490568859834 L -46.125840908934116,93.21108358228007 L -46.23956734748705,93.15471922375328 L -49.0600135641779,91.7006781393779 L -49.17189442167014,91.64073385303735 L -51.9447869444019,90.09793788672299 L -52.05470956629365,90.03447403138375 L -54.77725632734388,88.40447664789133 L -54.88511003087263,88.33755712627615 L -57.55456965643341,86.62199959480186 L -57.660245842062096,86.55169178919647 L -60.27393041257088,84.75230153075292 L -60.37732267333837,84.67867623515781 L -62.93260042998525,82.79726508320742 L -63.033604658649104,82.72039643205434 L -65.52790265333468,80.75885880814683 L -65.62641714719841,80.6788242016516 L -68.05722383327466,78.63913520790175 L -68.15314939659368,78.55601523412885 L -70.51801715777837,76.44022866445636 L -70.61125720164165,76.35410701817361 L -72.90780481656058,74.16435329030654 L -72.99826545614759,74.07531668871155 L -75.22418049602247,71.81380069903648 L -75.31177064513713,71.72193879443974 L -77.46481180220559,69.39093769785772 L -77.54944326499252,69.2963429874103 L -79.62744260931484,66.89820390443506 L -79.70903016906482,66.80097163699203 L -81.70989533144578,64.3381092903986 L -81.78835683640209,64.23833737061118 L -83.71007311522919,61.7132316540147 L -83.7853295613072,61.611020543748836 L -85.6259619511846,59.02621402456188 L -85.69793756152235,58.921666641741524 L -87.45563270165721,56.27976200102419 L -87.52425500291619,56.17298361600175 L -89.19724304329577,53.476641027782634 L -89.26244293863547,53.36773915734062 L -90.84903932211625,50.61967361004687 L -90.91075116076883,50.50875790913761 L -92.40935831928266,47.711736471831784 L -92.46751996265769,47.59891862316414 L -93.87662892582748,44.755757659340226 L -93.93118181008019,44.641151260924694 L -95.24937372462503,41.754713592668914 L -95.3002629196253,41.63843404343387 L -96.52621047802559,38.711626068805266 L -96.57338474266768,38.59379045240024 L -97.70585351965126,35.629559218934375 L -97.7492653534495,35.51028618583658 L -98.78711504895321,32.51161642311838 L -98.82672073987084,32.3910260711618 L -99.76890632722603,29.360937185456066 L -99.8046659956895,29.2391509389031 L -100.65023877387539,26.180693972868063 L -100.68211641292979,26.057834460145642 L -101.43022496183487,22.974089020691796 L -101.45818847339982,22.850279950914842 L -102.10807951112979,19.744351108301768 L -102.13210073831951,19.61971714670872 L -102.68311987968826,16.494732308002703 L -102.70317463516315,16.36939895042814 L -103.15476705060325,13.228504710468089 L -103.17083514092455,13.102598156978965 L -103.52254611515347,9.948957130022272 L -103.53461136111622,9.822604157845406 L -103.7860867509962,6.659391793083603 L -103.79413700392047,6.532719628951396 L -103.94512359505053,3.3631210131017224 L -103.949150749014,3.2362572051460123 L -103.9994965106955,0.06346385533925904 L -103.99735591483287,0.0 L -110.0,0.0 L -110.0,109.0 L -11.5,109.0 z\" /><path fill-rule=\"evenodd\" fill=\"#66cc99\" stroke=\"#555555\" stroke-width=\"2.0\" opacity=\"0.6\" d=\"M 103.99735591483287,0.0 L 103.9994965106955,0.06346385533924656 L 103.949150749014,3.2362572051460115 L 103.94512359505053,3.363121013101721 L 103.79413700392047,6.532719628951407 L 103.7860867509962,6.659391793083612 L 103.53461136111622,9.82260415784543 L 103.52254611515347,9.9489571300223 L 103.17083514092455,13.10259815697896 L 103.15476705060325,13.228504710468076 L 102.70317463516315,16.36939895042814 L 102.68311987968826,16.4947323080027 L 102.13210073831951,19.61971714670873 L 102.10807951112979,19.744351108301792 L 101.45818847339982,22.850279950914835 L 101.43022496183487,22.974089020691775 L 100.68211641292979,26.057834460145635 L 100.65023877387539,26.18069397286806 L 99.8046659956895,29.2391509389031 L 99.76890632722603,29.36093718545606 L 98.82672073987084,32.391026071161804 L 98.78711504895321,32.5116164231184 L 97.74926535344952,35.510286185836556 L 97.70585351965127,35.62955921893436 L 96.57338474266768,38.59379045240025 L 96.52621047802559,38.711626068805266 L 95.3002629196253,41.63843404343388 L 95.24937372462503,41.754713592668935 L 93.93118181008018,44.64115126092473 L 93.87662892582746,44.75575765934025 L 92.4675199626577,47.598918623164124 L 92.40935831928267,47.711736471831784 L 90.91075116076881,50.508757909137614 L 90.84903932211625,50.61967361004687 L 89.26244293863547,53.36773915734062 L 89.19724304329577,53.47664102778265 L 87.52425500291616,56.17298361600177 L 87.45563270165721,56.279762001024196 L 85.69793756152237,58.92166664174152 L 85.62596195118462,59.026214024561874 L 83.78532956130721,61.611020543748836 L 83.71007311522919,61.7132316540147 L 81.78835683640209,64.23833737061118 L 81.70989533144578,64.3381092903986 L 79.70903016906483,66.80097163699202 L 79.62744260931484,66.89820390443506 L 77.5494432649925,69.2963429874103 L 77.4648118022056,69.3909376978577 L 75.31177064513714,71.72193879443974 L 75.22418049602247,71.81380069903649 L 72.99826545614758,74.07531668871158 L 72.90780481656057,74.16435329030656 L 70.61125720164166,76.35410701817361 L 70.51801715777837,76.44022866445636 L 68.15314939659366,78.55601523412885 L 68.05722383327466,78.63913520790175 L 65.62641714719841,80.6788242016516 L 65.52790265333466,80.75885880814683 L 63.03360465864908,82.72039643205436 L 62.93260042998523,82.79726508320744 L 60.377322673338384,84.67867623515781 L 60.2739304125709,84.7523015307529 L 57.6602458420621,86.55169178919647 L 57.554569656433415,86.62199959480186 L 54.88511003087263,88.33755712627617 L 54.77725632734387,88.40447664789134 L 52.05470956629362,90.03447403138378 L 51.94478694440186,90.09793788672302 L 49.171894421670146,91.64073385303735 L 49.0600135641779,91.70067813937791 L 46.23956734748703,93.15471922375329 L 46.125840908934094,93.21108358228007 L 43.260680948545335,94.57490568859832 L 43.145223441815105,94.6276333651801 L 40.23823471093932,95.89986324018642 L 40.12116239195415,95.94890114252244 L 37.17527198182849,97.12825775857496 L 37.05670273248986,97.1735565096543 L 34.074876905044825,98.25885235461048 L 33.95493011453611,98.30036634243062 L 30.940171315621452,99.29050861537117 L 30.818967760193196,99.32819603886539 L 27.774311596369202,100.22218775045219 L 27.65197331772782,100.25601066157962 L 24.58048549966705,101.05295163793959 L 24.457135682088893,101.08287597989579 L 21.36190893766523,101.7819637690195 L 21.237671783960707,101.8079594105287 L 18.121822744134683,102.40849009027163 L 17.996823350586443,102.43053085592638 L 14.863489411221913,102.93189974279885 L 14.73785364162352,102.94996343941645 L 12.006369814295008,103.29855314846958 L 11.608253194629464,103.32926878455861 L 11.438828427591494,103.32539393855922 L 11.480738906688789,103.60793143868176 L 11.5,104.0 L 11.5,109.0 L 110.0,109.0 L 110.0,0.0 L 103.99735591483287,0.0 z\" /></g></g></svg>"
      ],
      "text/plain": [
       "<shapely.geometry.multipolygon.MultiPolygon at 0x7f5e90661520>"
      ]
     },
     "execution_count": 60,
     "metadata": {},
     "output_type": "execute_result"
    }
   ],
   "source": [
    "unary_union((Polygon(left_side), Polygon(right_side), Polygon(left_central_side), Polygon(right_central_side)))"
   ]
  },
  {
   "cell_type": "code",
   "execution_count": 61,
   "id": "4e73fd55-256b-421a-b26c-72c5a8ede5cc",
   "metadata": {},
   "outputs": [
    {
     "name": "stdout",
     "output_type": "stream",
     "text": [
      "checking intersection\n",
      "finished checking intersection\n",
      "Finding closed voronoi cells\n",
      "Done selecting closed voronoi cells\n",
      "Calculating points distance\n",
      "Done\n",
      "Calculating ridges hypersurfaces\n",
      "Done\n",
      "Finding  hypervolume for closed voronoi cells\n",
      "Done finding hypervolume for closed voronoi cells\n",
      "Done calculating surface\n",
      "Done calculating distance\n",
      "Done calculating capacitance matrix\n"
     ]
    }
   ],
   "source": [
    "# Solve for Poisson system\n",
    "layout = Layout(total_width,\n",
    "                total_length,\n",
    "                grid_width_air=grid_spacing_air,\n",
    "                margin=(50, 50, 50),\n",
    "                shift=(0, total_length/2, 0))\n",
    "\n",
    "layout.add_layer(\n",
    "    TwoDEGLayer(\n",
    "        \"twoDEG\",\n",
    "        thickness_twoDEG,\n",
    "        permittivity_twoDEG,\n",
    "        grid_spacing_twoDEG,\n",
    "        add_to_previous_layer = False,\n",
    "        fix_overlap = False,\n",
    "        z_bottom = None\n",
    "    ),\n",
    "    center=True,\n",
    ")\n",
    "\n",
    "height = thickness_twoDEG / 2\n",
    "\n",
    "layout.add_layer(\n",
    "    SimpleChargeLayer(\n",
    "        \"Al2O3\",\n",
    "        thickness_barrier,\n",
    "        permittivity_Al2O3,\n",
    "        grid_spacing_GaAs,\n",
    "        add_to_previous_layer = False,\n",
    "        fix_overlap = False,\n",
    "        z_bottom = None\n",
    "    )\n",
    ")\n",
    "\n",
    "height += thickness_barrier\n",
    "\n",
    "\n",
    "layout.add_layer(OverlappingGateLayer(thickness_gates,\n",
    "                                      permittivity_metal,\n",
    "                                      grid_spacing_gate,\n",
    "                                      layer_name = gates_name,\n",
    "                                      gate_objects = gates_vertex,\n",
    "                                      remove_points = False,\n",
    "                                      add_to_previous_layer = False,\n",
    "                                      z_bottom = height,\n",
    "                                      fix_overlap = True\n",
    "                                     )\n",
    "            )\n",
    "\n",
    "poisson_system = layout.build()"
   ]
  },
  {
   "cell_type": "code",
   "execution_count": 62,
   "id": "cbcc3b69-2a6c-4053-a6a2-939f8997facc",
   "metadata": {},
   "outputs": [],
   "source": [
    "grid_points = poisson_system.grid.points\n",
    "voltage_regions = poisson_system.regions.voltage.tag_points"
   ]
  },
  {
   "cell_type": "code",
   "execution_count": 63,
   "id": "2d5a398a-eaca-4bdd-abc7-1356f553c23c",
   "metadata": {},
   "outputs": [
    {
     "data": {
      "image/png": "[encoded data removed]",
      "text/plain": [
       "<Figure size 1080x504 with 1 Axes>"
      ]
     },
     "metadata": {
      "needs_background": "light"
     },
     "output_type": "display_data"
    }
   ],
   "source": [
    "plt.figure(figsize = (15, 7))\n",
    "for name, indices in voltage_regions.items():\n",
    "    grid_to_plot = grid_points[indices][:, [0, 1]]\n",
    "    plt.scatter(grid_to_plot[:, 0], grid_to_plot[:, 1], s = 0.5)"
   ]
  },
  {
   "cell_type": "markdown",
   "id": "5c7652d7-dbe4-40bb-8682-85756ec27041",
   "metadata": {},
   "source": [
    "# Y-shaped geometry"
   ]
  },
  {
   "cell_type": "code",
   "execution_count": 465,
   "id": "86348171-6aa7-41dc-a51d-517270f0f74a",
   "metadata": {},
   "outputs": [],
   "source": [
    "# one only needs to define the arm length L, and the channel width\n",
    "L = 70\n",
    "width = 13\n",
    "\n",
    "R = L/np.sqrt(2)\n",
    "\n",
    "Y = unary_union(\n",
    "    (\n",
    "        Polygon(half_disk_gate(R=R, npts=3)).difference(Polygon(half_disk_gate(R=R-width*np.sqrt(2), npts=3))),\n",
    "        Polygon(rectangular_gate(center=(0,R+L/2-width), width=width, length=L))\n",
    "    )\n",
    ")"
   ]
  },
  {
   "cell_type": "code",
   "execution_count": null,
   "id": "94d563b0-c9ab-40f8-bb33-ef8b3b2f3e34",
   "metadata": {},
   "outputs": [],
   "source": [
    "width/np.sqrt(2)"
   ]
  },
  {
   "cell_type": "code",
   "execution_count": 466,
   "id": "0f484440-ca11-4bda-a0c7-e1e1ce7ea5e8",
   "metadata": {},
   "outputs": [],
   "source": [
    "gates = Polygon(rectangular_gate(center=(0, (R+L-width)/2), length=R+L-width-1,width=2*R)).difference(Y)"
   ]
  },
  {
   "cell_type": "code",
   "execution_count": 467,
   "id": "b23756b8-2f21-48d9-8b31-874ecb619324",
   "metadata": {},
   "outputs": [
    {
     "data": {
      "image/svg+xml": [
       "<svg xmlns=\"http://www.w3.org/2000/svg\" xmlns:xlink=\"http://www.w3.org/1999/xlink\" width=\"107.4347473407613\" height=\"113.937272657703\" viewBox=\"-53.71737367038065 -3.719898987322333 107.4347473407613 113.937272657703\" preserveAspectRatio=\"xMinYMin meet\"><g transform=\"matrix(1,0,0,-1,0,106.49747468305833)\"><g><path fill-rule=\"evenodd\" fill=\"#66cc99\" stroke=\"#555555\" stroke-width=\"2.0\" opacity=\"0.6\" d=\"M -49.49747468305832,105.99747468305833 L -6.5,105.99747468305833 L -6.5,42.99747468305832 L -48.99747468305833,0.5 L -49.49747468305832,0.5 L -49.49747468305832,105.99747468305833 z\" /><path fill-rule=\"evenodd\" fill=\"#66cc99\" stroke=\"#555555\" stroke-width=\"2.0\" opacity=\"0.6\" d=\"M 49.49747468305832,105.99747468305833 L 49.49747468305832,0.5 L 48.99747468305832,0.5 L 6.5,42.99747468305832 L 6.5,105.99747468305833 L 49.49747468305832,105.99747468305833 z\" /><path fill-rule=\"evenodd\" fill=\"#66cc99\" stroke=\"#555555\" stroke-width=\"2.0\" opacity=\"0.6\" d=\"M -30.612698372208087,0.5 L 1.9051033237180848e-15,31.112698372208083 L 30.61269837220808,0.5 L -30.612698372208087,0.5 z\" /></g></g></svg>"
      ],
      "text/plain": [
       "<shapely.geometry.multipolygon.MultiPolygon at 0x7f5e91641280>"
      ]
     },
     "execution_count": 467,
     "metadata": {},
     "output_type": "execute_result"
    }
   ],
   "source": [
    "gates"
   ]
  },
  {
   "cell_type": "code",
   "execution_count": 468,
   "id": "c2acedb3-efde-46c9-be00-40db950b22ed",
   "metadata": {},
   "outputs": [],
   "source": [
    "aux_rectangle_1 = rectangular_gate(length=R+2*gap, width=R+gap, center=(R/2, R/2-width/2))\n",
    "aux_rectangle_2 = rectangular_gate(length=R+2*gap, width=R+gap, center=(-R/2, R/2-width/2))"
   ]
  },
  {
   "cell_type": "code",
   "execution_count": 469,
   "id": "44d38558-02d4-4554-91bf-48cc3776d06e",
   "metadata": {},
   "outputs": [],
   "source": [
    "left_arm_2 = np.array(list(gates[2].difference(Polygon(aux_rectangle_1)).exterior.coords))\n",
    "left_arm_1 = np.array(list(gates[0].intersection(Polygon(aux_rectangle_2)).exterior.coords))\n",
    "\n",
    "right_arm_1 = np.array(list(gates[2].difference(Polygon(aux_rectangle_2)).exterior.coords))\n",
    "right_arm_2 = np.array(list(gates[1].intersection(Polygon(aux_rectangle_1)).exterior.coords))\n",
    "\n",
    "top_arm_1 = np.array(list(gates[0].difference(Polygon(aux_rectangle_2).buffer(gap)).exterior.coords))\n",
    "top_arm_2 = np.array(list(gates[1].difference(Polygon(aux_rectangle_1).buffer(gap)).exterior.coords))"
   ]
  },
  {
   "cell_type": "code",
   "execution_count": 470,
   "id": "7fe3eb51-8fe8-40d5-8c4f-9b21fd43f93d",
   "metadata": {},
   "outputs": [
    {
     "data": {
      "image/svg+xml": [
       "<svg xmlns=\"http://www.w3.org/2000/svg\" xmlns:xlink=\"http://www.w3.org/1999/xlink\" width=\"107.4347473407613\" height=\"113.937272657703\" viewBox=\"-53.71737367038065 -3.719898987322333 107.4347473407613 113.937272657703\" preserveAspectRatio=\"xMinYMin meet\"><g transform=\"matrix(1,0,0,-1,0,106.49747468305833)\"><g><path fill-rule=\"evenodd\" fill=\"#66cc99\" stroke=\"#555555\" stroke-width=\"2.0\" opacity=\"0.6\" d=\"M -30.612698372208087,0.5 L -2.0,29.11269837220808 L -2.0,0.5 L -30.612698372208087,0.5 z\" /><path fill-rule=\"evenodd\" fill=\"#66cc99\" stroke=\"#555555\" stroke-width=\"2.0\" opacity=\"0.6\" d=\"M 30.61269837220808,0.5 L 2.0,0.5 L 2.0,29.112698372208087 L 30.61269837220808,0.5 z\" /><path fill-rule=\"evenodd\" fill=\"#66cc99\" stroke=\"#555555\" stroke-width=\"2.0\" opacity=\"0.6\" d=\"M -49.49747468305832,46.99747468305832 L -6.5,46.99747468305832 L -6.5,42.99747468305832 L -48.99747468305833,0.5 L -49.49747468305832,0.5 L -49.49747468305832,46.99747468305832 z\" /><path fill-rule=\"evenodd\" fill=\"#66cc99\" stroke=\"#555555\" stroke-width=\"2.0\" opacity=\"0.6\" d=\"M 6.5,42.99747468305832 L 6.5,46.99747468305832 L 49.49747468305832,46.99747468305832 L 49.49747468305832,0.5 L 48.99747468305832,0.5 L 6.5,42.99747468305832 z\" /><path fill-rule=\"evenodd\" fill=\"#66cc99\" stroke=\"#555555\" stroke-width=\"2.0\" opacity=\"0.6\" d=\"M -49.49747468305832,105.99747468305833 L -6.5,105.99747468305833 L -6.5,50.99747468305832 L -49.49747468305832,50.99747468305832 L -49.49747468305832,105.99747468305833 z\" /><path fill-rule=\"evenodd\" fill=\"#66cc99\" stroke=\"#555555\" stroke-width=\"2.0\" opacity=\"0.6\" d=\"M 49.49747468305832,105.99747468305833 L 49.49747468305832,50.99747468305832 L 6.5,50.99747468305832 L 6.5,105.99747468305833 L 49.49747468305832,105.99747468305833 z\" /></g></g></svg>"
      ],
      "text/plain": [
       "<shapely.geometry.multipolygon.MultiPolygon at 0x7f5e91649a60>"
      ]
     },
     "execution_count": 470,
     "metadata": {},
     "output_type": "execute_result"
    }
   ],
   "source": [
    "unary_union(\n",
    "    (\n",
    "        Polygon(left_arm_1),\n",
    "        Polygon(left_arm_2),\n",
    "        Polygon(right_arm_1),\n",
    "        Polygon(right_arm_2),\n",
    "        Polygon(top_arm_1),\n",
    "        Polygon(top_arm_2)\n",
    "    )\n",
    ")"
   ]
  },
  {
   "cell_type": "code",
   "execution_count": 471,
   "id": "adfbf43c-e00c-41bd-942a-4ac8280a3882",
   "metadata": {},
   "outputs": [],
   "source": [
    "gates_vertex = [left_arm_1, left_arm_2, right_arm_1, right_arm_2, top_arm_1, top_arm_2]\n",
    "gates_name = ['left_1', 'left_2', 'right_1', 'right_2', 'top_1', 'top_2']"
   ]
  },
  {
   "cell_type": "code",
   "execution_count": 472,
   "id": "10afee8f-7e07-4c86-b2a3-f8bbf2b7bc8e",
   "metadata": {},
   "outputs": [
    {
     "name": "stdout",
     "output_type": "stream",
     "text": [
      "checking intersection\n",
      "finished checking intersection\n",
      "Finding closed voronoi cells\n",
      "Done selecting closed voronoi cells\n",
      "Calculating points distance\n",
      "Done\n",
      "Calculating ridges hypersurfaces\n",
      "Done\n",
      "Finding  hypervolume for closed voronoi cells\n",
      "Done finding hypervolume for closed voronoi cells\n",
      "Done calculating surface\n",
      "Done calculating distance\n",
      "Done calculating capacitance matrix\n"
     ]
    }
   ],
   "source": [
    "# Solve for Poisson system\n",
    "layout = Layout(total_width,\n",
    "                total_length,\n",
    "                grid_width_air=grid_spacing_air,\n",
    "                margin=(50, 50, 50),\n",
    "                shift=(0, total_length/2, 0))\n",
    "\n",
    "layout.add_layer(\n",
    "    TwoDEGLayer(\n",
    "        \"twoDEG\",\n",
    "        thickness_twoDEG,\n",
    "        permittivity_twoDEG,\n",
    "        grid_spacing_twoDEG,\n",
    "        add_to_previous_layer = False,\n",
    "        fix_overlap = False,\n",
    "        z_bottom = None\n",
    "    ),\n",
    "    center=True,\n",
    ")\n",
    "\n",
    "height = thickness_twoDEG / 2\n",
    "\n",
    "layout.add_layer(\n",
    "    SimpleChargeLayer(\n",
    "        \"Al2O3\",\n",
    "        thickness_barrier,\n",
    "        permittivity_Al2O3,\n",
    "        grid_spacing_GaAs,\n",
    "        add_to_previous_layer = False,\n",
    "        fix_overlap = False,\n",
    "        z_bottom = None\n",
    "    )\n",
    ")\n",
    "\n",
    "height += thickness_barrier\n",
    "\n",
    "\n",
    "layout.add_layer(OverlappingGateLayer(thickness_gates,\n",
    "                                      permittivity_metal,\n",
    "                                      grid_spacing_gate,\n",
    "                                      layer_name = gates_name,\n",
    "                                      gate_objects = gates_vertex,\n",
    "                                      remove_points = False,\n",
    "                                      add_to_previous_layer = False,\n",
    "                                      z_bottom = height,\n",
    "                                      fix_overlap = True\n",
    "                                     )\n",
    "            )\n",
    "\n",
    "poisson_system = layout.build()"
   ]
  },
  {
   "cell_type": "code",
   "execution_count": 473,
   "id": "0e8f1b30-9240-4633-8a98-4264e526feeb",
   "metadata": {},
   "outputs": [],
   "source": [
    "grid_points = poisson_system.grid.points\n",
    "voltage_regions = poisson_system.regions.voltage.tag_points"
   ]
  },
  {
   "cell_type": "code",
   "execution_count": 474,
   "id": "2bfd443e-5fd7-4bd0-9f1a-d019f5339ab0",
   "metadata": {},
   "outputs": [
    {
     "data": {
      "image/png": "[encoded data removed]",
      "text/plain": [
       "<Figure size 576x504 with 1 Axes>"
      ]
     },
     "metadata": {
      "needs_background": "light"
     },
     "output_type": "display_data"
    }
   ],
   "source": [
    "plt.figure(figsize = (8, 7))\n",
    "for name, indices in voltage_regions.items():\n",
    "    grid_to_plot = grid_points[indices][:, [0, 1]]\n",
    "    plt.scatter(grid_to_plot[:, 0], grid_to_plot[:, 1], s = 0.5)"
   ]
  },
  {
   "cell_type": "code",
   "execution_count": null,
   "id": "57d117f7-04dd-44ed-af6f-7298170ab28e",
   "metadata": {},
   "outputs": [],
   "source": []
  }
 ],
 "metadata": {
  "kernelspec": {
   "display_name": "Python 3 (ipykernel)",
   "language": "python",
   "name": "python3"
  },
  "language_info": {
   "codemirror_mode": {
    "name": "ipython",
    "version": 3
   },
   "file_extension": ".py",
   "mimetype": "text/x-python",
   "name": "python",
   "nbconvert_exporter": "python",
   "pygments_lexer": "ipython3",
   "version": "3.9.7"
  }
 },
 "nbformat": 4,
 "nbformat_minor": 5
}
