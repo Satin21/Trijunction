{
 "cells": [
  {
   "cell_type": "code",
<<<<<<< HEAD
   "execution_count": 1,
=======
   "execution_count": 7,
>>>>>>> master
   "id": "c2e1bd60-79e0-4203-a46a-e17a998b3e0a",
   "metadata": {},
   "outputs": [],
   "source": [
    "import numpy as np\n",
    "from shapely.geometry import Point, LineString, Polygon\n",
    "from shapely.ops import split, unary_union\n",
    "from itertools import product\n",
    "from collections import OrderedDict\n",
    "import matplotlib.pyplot as plt"
   ]
  },
  {
   "cell_type": "code",
<<<<<<< HEAD
   "execution_count": 9,
=======
   "execution_count": 236,
>>>>>>> master
   "id": "a1cd2cec-1675-4dea-b04c-29ef1d6eab54",
   "metadata": {},
   "outputs": [],
   "source": [
    "def gate_coords(grid_spacing, L=41, gap=4, channel_width=11, angle=np.pi / 3):\n",
    "    \"\"\"Find the gate coordinates that defines the trijunction\n",
    "    \n",
    "    Parameters:\n",
    "    -----------\n",
    "    L: Channel length\n",
    "    gap: Gap between gates\n",
    "    channel_width: width of the channel\n",
    "    angle: Angle the channel makes with the x-axis [in radians]\n",
    "\n",
    "    Returns: \n",
    "    --------\n",
    "    Gates vertices and their names\n",
    "    boundary: coordinates of the four corners of the system envelope\n",
    "    channel centers: Coordinates of the 2DEG at which nanowires can be connected\n",
    "    \n",
    "    \"\"\"\n",
    "\n",
    "\n",
    "    A = lambda x: np.array([[-np.cos(x), np.sin(x)], [np.sin(x), np.cos(x)]])\n",
    "\n",
    "    point = np.array([0, 1])\n",
    "\n",
    "    rotated_c = (point @ A(angle)) @ (np.eye(2) * L)\n",
    "\n",
    "    tail = np.round(rotated_c.reshape((2, 1)) * np.array([[-1, 0]]).T, 2)\n",
    "    head = np.round(rotated_c.reshape((2, 1)) * np.array([[0, 1]]).T, 2)\n",
    "\n",
    "    left, right, top = (\n",
    "        LineString([Point(*tail), Point(*head)]),\n",
    "        LineString([Point(*(tail * -1)), Point(*head)]),\n",
    "        LineString([Point(*head), Point([0, L + head[1]])]),\n",
    "    )\n",
    "\n",
    "    def shift(x, adjustment):\n",
    "        x = np.array(x.coords)\n",
    "        x[:, 0] += adjustment\n",
    "        return x\n",
    "\n",
    "    distance_to_axis = channel_width/2\n",
    "\n",
    "    lcoords = shift(left, -distance_to_axis)\n",
    "    lcoords_p = shift(left, distance_to_axis)\n",
    "    rcoords = shift(right, distance_to_axis)\n",
    "    rcoords_p = shift(right, -distance_to_axis)\n",
    "    tcoords = shift(top, -channel_width/2)\n",
    "    tcoords_p = shift(top, channel_width/2)\n",
    "\n",
    "\n",
    "    intersection = list(LineString(lcoords_p).intersection(LineString(rcoords_p)).coords)\n",
    "\n",
    "    lcoords_p[1] = intersection[0]\n",
    "    rcoords_p[1] = intersection[0]\n",
    "\n",
    "    coords = np.vstack(\n",
    "        (lcoords, tcoords, tcoords_p[::-1], rcoords[::-1], rcoords_p, lcoords_p[::-1], lcoords[0])\n",
    "    )\n",
    "    trijunction = Polygon(coords)\n",
    "\n",
    "    xmin, xmax, ymin, ymax = (\n",
    "        coords[:, 0].min(),\n",
    "        coords[:, 0].max(),\n",
    "        coords[:, 1].min(),\n",
    "        coords[:, 1].max(),\n",
    "    )\n",
    "\n",
    "    rectangle = np.array([[xmin, ymin], [xmin, ymax], [xmax, ymax], [xmax, ymin]])\n",
    "\n",
    "    gates = Polygon(rectangle).difference(trijunction)\n",
    "\n",
    "\n",
    "    gates = np.array(gates.geoms)\n",
    "    area = [gate.area for gate in gates]\n",
    "    gates = gates[np.argsort(area)]\n",
    "\n",
    "    coords = np.array(gates[1].exterior.coords)\n",
    "    y = np.unique(coords[:, 1])\n",
    "    assert len(y) == 3\n",
    "    bottom_top_threshold = y[1] + gap/2\n",
    "\n",
    "    splitter = LineString(\n",
    "        [\n",
    "            Point(point)\n",
    "            for point in product(np.unique(coords[:, 0]), [bottom_top_threshold])\n",
    "        ]\n",
    "    )\n",
    "\n",
    "    top, bottom = list(gates[1].difference(splitter.buffer(gap/2)).geoms)\n",
    "\n",
    "    left_1 = np.round(np.array(bottom.exterior.coords), 2)\n",
    "    top_1 = np.round(np.array(top.exterior.coords), 2)\n",
    "    top_2 = top_1.copy() @ [[-1, 0], [0, 1]]\n",
    "    right_2 = left_1.copy() @ [[-1, 0], [0, 1]]\n",
    "\n",
    "    coords = np.array(gates[0].exterior.coords)\n",
    "\n",
    "    splitter = LineString(\n",
    "        [Point(point) for point in product([0.0], np.unique(coords[:, 1]))]\n",
    "    )\n",
    "\n",
    "    left_2, _ = list(gates[0].difference(splitter.buffer(gap/2)).geoms)\n",
    "\n",
    "    left_2 = np.round(np.array(left_2.exterior.coords), 2)\n",
    "    right_1 = left_2.copy() @ [[-1, 0], [0, 1]]\n",
    "\n",
    "    gates_vertex = [\n",
    "        left_1, left_2, \n",
    "        right_1, right_2, \n",
    "        top_1, top_2\n",
    "    ]\n",
    "\n",
    "\n",
    "    \n",
    "    gate_names = [\"left_1\", \"left_2\", \"right_1\", \"right_2\", \"top_1\", \"top_2\"]\n",
    "    assert min(left_1[:, 0]) == min(top_1[:, 0])\n",
    "    assert max(right_2[:, 0]) == max(top_2[:, 0])\n",
    "    \n",
    "    boundaries = OrderedDict(xmin = min(left_1[:, 0]), xmax = max(right_2[:, 0]),\n",
    "                             ymin = min(left_1[:, 1]), ymax = max(top_1[:, 1]))\n",
    "            \n",
    "    channel_center = OrderedDict(left = np.hstack(tail), \n",
    "                          right = np.hstack(tail*-1), \n",
    "                          top = np.hstack([0, L+head[1]]))\n",
    "\n",
    "    return gates_vertex, gate_names, boundaries, channel_center "
   ]
  },
  {
   "cell_type": "code",
<<<<<<< HEAD
   "execution_count": 24,
=======
   "execution_count": 231,
>>>>>>> master
   "id": "45461fc7-d88b-4c6d-89d6-c854516ea4a9",
   "metadata": {},
   "outputs": [],
   "source": [
    "L = 41\n",
<<<<<<< HEAD
    "gap = 4\n",
    "channel_width = 7\n",
    "angle = np.pi/5"
=======
    "gap = 2\n",
    "channel_width = 11\n",
    "angle = np.pi/6"
>>>>>>> master
   ]
  },
  {
   "cell_type": "code",
<<<<<<< HEAD
   "execution_count": 25,
   "id": "6513d101-e9aa-4904-b1d4-433f0e21dc2a",
   "metadata": {},
   "outputs": [
    {
     "name": "stdout",
     "output_type": "stream",
     "text": [
      "41 [[ 0.  ]\n",
      " [33.17]]\n"
     ]
    }
   ],
=======
   "execution_count": 232,
   "id": "6513d101-e9aa-4904-b1d4-433f0e21dc2a",
   "metadata": {
    "tags": []
   },
   "outputs": [],
>>>>>>> master
   "source": [
    "gates_vertices, gates_name, boundary, centers = gate_coords(0.5, L, gap, channel_width, angle)"
   ]
  },
  {
   "cell_type": "code",
<<<<<<< HEAD
   "execution_count": 26,
=======
   "execution_count": 237,
   "id": "f884b984-6255-4096-ae89-6a3178cace3a",
   "metadata": {},
   "outputs": [
    {
     "data": {
      "text/plain": [
       "OrderedDict([('left', array([-20.5,   0. ])),\n",
       "             ('right', array([20.5, -0. ])),\n",
       "             ('top', array([ 0.  , 76.51]))])"
      ]
     },
     "execution_count": 237,
     "metadata": {},
     "output_type": "execute_result"
    }
   ],
   "source": [
    "centers"
   ]
  },
  {
   "cell_type": "code",
   "execution_count": 234,
>>>>>>> master
   "id": "4776e36a-8626-49db-a8cf-c8146c877f78",
   "metadata": {},
   "outputs": [
    {
     "data": {
      "image/svg+xml": [
<<<<<<< HEAD
       "<svg xmlns=\"http://www.w3.org/2000/svg\" xmlns:xlink=\"http://www.w3.org/1999/xlink\" width=\"100.0\" height=\"100.0\" viewBox=\"-32.96 -2.96 65.92 79.91999999999999\" preserveAspectRatio=\"xMinYMin meet\"><g transform=\"matrix(1,0,0,-1,0,74.0)\"><g><path fill-rule=\"evenodd\" fill=\"#66cc99\" stroke=\"#555555\" stroke-width=\"1.5983999999999998\" opacity=\"0.6\" d=\"M -19.0,0.0 L -2.0,26.0 L -2.0,0.0 L -19.0,0.0 z\" /><path fill-rule=\"evenodd\" fill=\"#66cc99\" stroke=\"#555555\" stroke-width=\"1.5983999999999998\" opacity=\"0.6\" d=\"M 2.0,26.0 L 19.0,0.0 L 2.0,0.0 L 2.0,26.0 z\" /><path fill-rule=\"evenodd\" fill=\"#66cc99\" stroke=\"#555555\" stroke-width=\"1.5983999999999998\" opacity=\"0.6\" d=\"M -30.0,0.0 L -30.0,31.0 L -7.0,31.0 L -30.0,0.0 z\" /><path fill-rule=\"evenodd\" fill=\"#66cc99\" stroke=\"#555555\" stroke-width=\"1.5983999999999998\" opacity=\"0.6\" d=\"M 30.0,31.0 L 30.0,0.0 L 7.0,31.0 L 30.0,31.0 z\" /><path fill-rule=\"evenodd\" fill=\"#66cc99\" stroke=\"#555555\" stroke-width=\"1.5983999999999998\" opacity=\"0.6\" d=\"M -30.0,74.0 L -4.0,74.0 L -4.0,35.0 L -30.0,35.0 L -30.0,74.0 z\" /><path fill-rule=\"evenodd\" fill=\"#66cc99\" stroke=\"#555555\" stroke-width=\"1.5983999999999998\" opacity=\"0.6\" d=\"M 4.0,35.0 L 4.0,74.0 L 30.0,74.0 L 30.0,35.0 L 4.0,35.0 z\" /></g></g></svg>"
      ],
      "text/plain": [
       "<shapely.geometry.multipolygon.MultiPolygon at 0x7f853101ca30>"
      ]
     },
     "execution_count": 26,
=======
       "<svg xmlns=\"http://www.w3.org/2000/svg\" xmlns:xlink=\"http://www.w3.org/1999/xlink\" width=\"100.0\" height=\"100.0\" viewBox=\"-29.0604 -3.0604000000000005 58.1208 82.63080000000001\" preserveAspectRatio=\"xMinYMin meet\"><g transform=\"matrix(1,0,0,-1,0,76.51)\"><g><path fill-rule=\"evenodd\" fill=\"#66cc99\" stroke=\"#555555\" stroke-width=\"1.652616\" opacity=\"0.6\" d=\"M -15.0,0.0 L -1.0,24.25 L -1.0,0.0 L -15.0,0.0 z\" /><path fill-rule=\"evenodd\" fill=\"#66cc99\" stroke=\"#555555\" stroke-width=\"1.652616\" opacity=\"0.6\" d=\"M 1.0,24.25 L 15.0,0.0 L 1.0,0.0 L 1.0,24.25 z\" /><path fill-rule=\"evenodd\" fill=\"#66cc99\" stroke=\"#555555\" stroke-width=\"1.652616\" opacity=\"0.6\" d=\"M -26.0,0.0 L -26.0,35.51 L -5.5,35.51 L -26.0,0.0 z\" /><path fill-rule=\"evenodd\" fill=\"#66cc99\" stroke=\"#555555\" stroke-width=\"1.652616\" opacity=\"0.6\" d=\"M 26.0,35.51 L 26.0,0.0 L 5.5,35.51 L 26.0,35.51 z\" /><path fill-rule=\"evenodd\" fill=\"#66cc99\" stroke=\"#555555\" stroke-width=\"1.652616\" opacity=\"0.6\" d=\"M -26.0,76.51 L -5.5,76.51 L -5.5,37.51 L -26.0,37.51 L -26.0,76.51 z\" /><path fill-rule=\"evenodd\" fill=\"#66cc99\" stroke=\"#555555\" stroke-width=\"1.652616\" opacity=\"0.6\" d=\"M 5.5,37.51 L 5.5,76.51 L 26.0,76.51 L 26.0,37.51 L 5.5,37.51 z\" /></g></g></svg>"
      ],
      "text/plain": [
       "<shapely.geometry.multipolygon.MultiPolygon at 0x7f0c4d897400>"
      ]
     },
     "execution_count": 234,
>>>>>>> master
     "metadata": {},
     "output_type": "execute_result"
    }
   ],
   "source": [
    "unary_union([Polygon(gate) for gate in gates_vertices])"
   ]
  },
  {
   "cell_type": "code",
<<<<<<< HEAD
   "execution_count": 23,
   "id": "f85a51c7-8d79-4d2b-8dcf-65e081e829a7",
   "metadata": {},
   "outputs": [
    {
     "data": {
      "text/plain": [
       "[array([[-45.,   0.],\n",
       "        [-45.,   9.],\n",
       "        [-13.,   9.],\n",
       "        [-45.,   0.]]),\n",
       " array([[ -2.,   7.],\n",
       "        [ -2.,   0.],\n",
       "        [-34.,   0.],\n",
       "        [ -2.,   7.]]),\n",
       " array([[ 2.,  7.],\n",
       "        [ 2.,  0.],\n",
       "        [34.,  0.],\n",
       "        [ 2.,  7.]]),\n",
       " array([[45.,  0.],\n",
       "        [45.,  9.],\n",
       "        [13.,  9.],\n",
       "        [45.,  0.]]),\n",
       " array([[ -4.,  52.],\n",
       "        [ -4.,  13.],\n",
       "        [-45.,  13.],\n",
       "        [-45.,  52.],\n",
       "        [ -4.,  52.]]),\n",
       " array([[ 4., 52.],\n",
       "        [ 4., 13.],\n",
       "        [45., 13.],\n",
       "        [45., 52.],\n",
       "        [ 4., 52.]])]"
      ]
     },
     "execution_count": 23,
     "metadata": {},
     "output_type": "execute_result"
    }
   ],
   "source": [
    "gates_vertices"
   ]
  },
  {
   "cell_type": "code",
   "execution_count": 16,
   "id": "e37524bc-2aaf-4f83-9fd0-39414559de98",
   "metadata": {},
   "outputs": [
    {
     "data": {
      "text/plain": [
       "OrderedDict([('xmin', -41.0), ('xmax', 41.0), ('ymin', 0.0), ('ymax', 62.0)])"
      ]
     },
     "execution_count": 16,
     "metadata": {},
     "output_type": "execute_result"
    }
   ],
   "source": [
    "boundary"
   ]
  },
  {
   "cell_type": "code",
=======
>>>>>>> master
   "execution_count": null,
   "id": "8e504935-7918-4db5-a741-963e77c94c3a",
   "metadata": {},
   "outputs": [],
   "source": []
  },
  {
   "cell_type": "code",
   "execution_count": null,
   "id": "7e857404-e555-45fb-a9fb-5fead058ec1a",
   "metadata": {},
   "outputs": [],
   "source": []
  }
 ],
 "metadata": {
  "kernelspec": {
   "display_name": "Python 3 (ipykernel)",
   "language": "python",
   "name": "python3"
  },
  "language_info": {
   "codemirror_mode": {
    "name": "ipython",
    "version": 3
   },
   "file_extension": ".py",
   "mimetype": "text/x-python",
   "name": "python",
   "nbconvert_exporter": "python",
   "pygments_lexer": "ipython3",
   "version": "3.10.6"
  }
 },
 "nbformat": 4,
 "nbformat_minor": 5
}
