{
 "cells": [
  {
   "cell_type": "code",
   "execution_count": 11,
   "id": "c2e1bd60-79e0-4203-a46a-e17a998b3e0a",
   "metadata": {},
   "outputs": [],
   "source": [
    "import numpy as np\n",
    "from shapely.geometry import Point, LineString, Polygon\n",
    "from shapely.ops import split, unary_union\n",
    "from itertools import product\n",
    "from collections import OrderedDict"
   ]
  },
  {
   "cell_type": "code",
   "execution_count": 62,
   "id": "a1cd2cec-1675-4dea-b04c-29ef1d6eab54",
   "metadata": {},
   "outputs": [],
   "source": [
    "def gate_coords(grid_spacing, L=41, gap=4, channel_width=11, angle=np.pi / 4):\n",
    "    \"\"\"Find the gate coordinates that defines the trijunction\n",
    "\n",
    "    L: Channel length\n",
    "    gap: Gap between the gates\n",
    "    angle: Angle the channel makes with the x-axis [in radians]\n",
    "\n",
    "    Returns: Gates vertices and their order\n",
    "    \"\"\"\n",
    "\n",
    "    A = lambda x: np.array([[-np.cos(x), np.sin(x)], [np.sin(x), np.cos(x)]])\n",
    "\n",
    "    point = np.array([0, 1])\n",
    "\n",
    "    rotated_c = (point @ A(angle)) @ (np.eye(2) * L)\n",
    "\n",
    "    tail = np.round(rotated_c.reshape((2, 1)) * np.array([[-1, 0]]).T, 2)\n",
    "    head = np.round(rotated_c.reshape((2, 1)) * np.array([[0, 1]]).T, 2)\n",
    "\n",
    "    left, right, top = (\n",
    "        LineString([Point(*tail), Point(*head)]),\n",
    "        LineString([Point(*(tail * -1)), Point(*head)]),\n",
    "        LineString([Point(*head), Point([0, L + head[1]])]),\n",
    "    )\n",
    "\n",
    "    def shift(x, adjustment):\n",
    "        x = np.array(x.coords)\n",
    "        x[:, 0] += adjustment\n",
    "        return x\n",
    "    \n",
    "    distance_to_axis = (channel_width/2 + gap/2)\n",
    "    \n",
    "    lcoords = shift(left, -distance_to_axis)\n",
    "    rcoords = shift(right, distance_to_axis)\n",
    "    tcoords = shift(top, -channel_width/2)\n",
    "    tcoords_p = shift(top, channel_width/2)\n",
    "\n",
    "    lr = np.vstack((right.coords, left.coords[::-1]))\n",
    "    lr[:, 1] -= channel_width/2\n",
    "    lr[0, 0] -= distance_to_axis\n",
    "    lr[-1, 0] += distance_to_axis\n",
    "    truncate = lr[lr[:, 1] < 0.0].copy()\n",
    "    truncate = truncate @ np.array([[1, 0], [0, 0]])\n",
    "    lr[lr[:, 1] < 0.0] = truncate\n",
    "\n",
    "    coords = np.vstack(\n",
    "        (lcoords, tcoords, tcoords_p[::-1], rcoords[::-1], lr, lcoords[0])\n",
    "    )\n",
    "    trijunction = Polygon(coords)\n",
    "\n",
    "    xmin, xmax, ymin, ymax = (\n",
    "        coords[:, 0].min(),\n",
    "        coords[:, 0].max(),\n",
    "        coords[:, 1].min(),\n",
    "        coords[:, 1].max(),\n",
    "    )\n",
    "\n",
    "    rectangle = np.array([[xmin, ymin], [xmin, ymax], [xmax, ymax], [xmax, ymin]])\n",
    "\n",
    "    gates = Polygon(rectangle).difference(trijunction)\n",
    "    \n",
    "\n",
    "    gates = np.array(gates.geoms)\n",
    "    area = [gate.area for gate in gates]\n",
    "    gates = gates[np.argsort(area)]\n",
    "\n",
    "    coords = np.array(gates[1].exterior.coords)\n",
    "    y = np.unique(coords[:, 1])\n",
    "    assert len(y) == 3\n",
    "    bottom_top_threshold = y[1]\n",
    "\n",
    "    splitter = LineString(\n",
    "        [\n",
    "            Point(point)\n",
    "            for point in product(np.unique(coords[:, 0]), [bottom_top_threshold])\n",
    "        ]\n",
    "    )\n",
    "\n",
    "    top, bottom = list(gates[1].difference(splitter.buffer(gap/2)).geoms)\n",
    "\n",
    "    left_1 = np.round(bottom.exterior.coords)\n",
    "    top_1 = np.round(top.exterior.coords)\n",
    "    top_2 = top_1.copy() @ [[-1, 0], [0, 1]]\n",
    "    right_2 = left_1.copy() @ [[-1, 0], [0, 1]]\n",
    "\n",
    "    coords = np.array(gates[0].exterior.coords)\n",
    "\n",
    "    splitter = LineString(\n",
    "        [Point(point) for point in product([0.0], np.unique(coords[:, 1]))]\n",
    "    )\n",
    "\n",
    "    left_2, _ = list(gates[0].difference(splitter.buffer(gap/2)).geoms)\n",
    "    \n",
    "    left_2 = np.round(left_2.exterior.coords)\n",
    "    right_1 = left_2.copy() @ [[-1, 0], [0, 1]]\n",
    "    \n",
    "    gates_vertex = [\n",
    "        left_1, left_2, \n",
    "        right_1, right_2, \n",
    "        top_1, top_2\n",
    "    ]\n",
    "\n",
    "    \n",
    "    gate_names = [\"left_1\", \"left_2\", \"right_1\", \"right_2\", \"top_1\", \"top_2\"]\n",
    "    assert min(left_1[:, 0]) == min(top_1[:, 0])\n",
    "    assert max(right_2[:, 0]) == max(top_2[:, 0])\n",
    "    \n",
    "    boundaries = OrderedDict(xmin = min(left_1[:, 0]), xmax = max(right_2[:, 0]),\n",
    "                             ymin = min(left_1[:, 1]), ymax = max(top_1[:, 1]))\n",
    "            \n",
    "    channel_center = OrderedDict(left = np.hstack(tail), \n",
    "                          right = np.hstack(tail*-1), \n",
    "                          top = np.hstack([0, L+head[1]]))\n",
    "    print(L, head)\n",
    "    \n",
    "    return gates_vertex, gate_names, boundaries, channel_center "
   ]
  },
  {
   "cell_type": "code",
   "execution_count": 63,
   "id": "45461fc7-d88b-4c6d-89d6-c854516ea4a9",
   "metadata": {},
   "outputs": [],
   "source": [
    "L = 41\n",
    "gap = 4\n",
    "channel_width = 7\n",
    "angle = np.pi/4"
   ]
  },
  {
   "cell_type": "code",
   "execution_count": 64,
   "id": "6513d101-e9aa-4904-b1d4-433f0e21dc2a",
   "metadata": {},
   "outputs": [
    {
     "name": "stdout",
     "output_type": "stream",
     "text": [
      "41 [[ 0.  ]\n",
      " [28.99]]\n"
     ]
    }
   ],
   "source": [
    "gates_vertices, gates_name, boundary, centers = gate_coords(0.5, L, gap, channel_width, angle)"
   ]
  },
  {
   "cell_type": "code",
   "execution_count": 65,
   "id": "4776e36a-8626-49db-a8cf-c8146c877f78",
   "metadata": {},
   "outputs": [
    {
     "data": {
      "image/svg+xml": [
       "<svg xmlns=\"http://www.w3.org/2000/svg\" xmlns:xlink=\"http://www.w3.org/1999/xlink\" width=\"100.0\" height=\"100.0\" viewBox=\"-36.8 -2.8000000000000003 73.6 75.6\" preserveAspectRatio=\"xMinYMin meet\"><g transform=\"matrix(1,0,0,-1,0,70.0)\"><g><path fill-rule=\"evenodd\" fill=\"#66cc99\" stroke=\"#555555\" stroke-width=\"1.5119999999999998\" opacity=\"0.6\" d=\"M -23.0,0.0 L -2.0,23.0 L -2.0,0.0 L -23.0,0.0 z\" /><path fill-rule=\"evenodd\" fill=\"#66cc99\" stroke=\"#555555\" stroke-width=\"1.5119999999999998\" opacity=\"0.6\" d=\"M 2.0,23.0 L 23.0,0.0 L 2.0,0.0 L 2.0,23.0 z\" /><path fill-rule=\"evenodd\" fill=\"#66cc99\" stroke=\"#555555\" stroke-width=\"1.5119999999999998\" opacity=\"0.6\" d=\"M -34.0,0.0 L -34.0,27.0 L -8.0,27.0 L -34.0,0.0 z\" /><path fill-rule=\"evenodd\" fill=\"#66cc99\" stroke=\"#555555\" stroke-width=\"1.5119999999999998\" opacity=\"0.6\" d=\"M 34.0,27.0 L 34.0,0.0 L 8.0,27.0 L 34.0,27.0 z\" /><path fill-rule=\"evenodd\" fill=\"#66cc99\" stroke=\"#555555\" stroke-width=\"1.5119999999999998\" opacity=\"0.6\" d=\"M -34.0,70.0 L -4.0,70.0 L -4.0,31.0 L -34.0,31.0 L -34.0,70.0 z\" /><path fill-rule=\"evenodd\" fill=\"#66cc99\" stroke=\"#555555\" stroke-width=\"1.5119999999999998\" opacity=\"0.6\" d=\"M 4.0,31.0 L 4.0,70.0 L 34.0,70.0 L 34.0,31.0 L 4.0,31.0 z\" /></g></g></svg>"
      ],
      "text/plain": [
       "<shapely.geometry.multipolygon.MultiPolygon at 0x7fb5b49bed10>"
      ]
     },
     "execution_count": 65,
     "metadata": {},
     "output_type": "execute_result"
    }
   ],
   "source": [
    "unary_union([Polygon(gate) for gate in gates_vertices])"
   ]
  },
  {
   "cell_type": "code",
   "execution_count": 66,
   "id": "f85a51c7-8d79-4d2b-8dcf-65e081e829a7",
   "metadata": {},
   "outputs": [
    {
     "data": {
      "text/plain": [
       "[array([[-34.,   0.],\n",
       "        [-34.,  27.],\n",
       "        [ -8.,  27.],\n",
       "        [-34.,   0.]]),\n",
       " array([[ -2.,  23.],\n",
       "        [ -2.,   0.],\n",
       "        [-23.,   0.],\n",
       "        [ -2.,  23.]]),\n",
       " array([[ 2., 23.],\n",
       "        [ 2.,  0.],\n",
       "        [23.,  0.],\n",
       "        [ 2., 23.]]),\n",
       " array([[34.,  0.],\n",
       "        [34., 27.],\n",
       "        [ 8., 27.],\n",
       "        [34.,  0.]]),\n",
       " array([[ -4.,  70.],\n",
       "        [ -4.,  31.],\n",
       "        [-34.,  31.],\n",
       "        [-34.,  70.],\n",
       "        [ -4.,  70.]]),\n",
       " array([[ 4., 70.],\n",
       "        [ 4., 31.],\n",
       "        [34., 31.],\n",
       "        [34., 70.],\n",
       "        [ 4., 70.]])]"
      ]
     },
     "execution_count": 66,
     "metadata": {},
     "output_type": "execute_result"
    }
   ],
   "source": [
    "gates_vertices"
   ]
  },
  {
   "cell_type": "code",
   "execution_count": 67,
   "id": "e37524bc-2aaf-4f83-9fd0-39414559de98",
   "metadata": {},
   "outputs": [
    {
     "data": {
      "text/plain": [
       "OrderedDict([('xmin', -34.0), ('xmax', 34.0), ('ymin', 0.0), ('ymax', 70.0)])"
      ]
     },
     "execution_count": 67,
     "metadata": {},
     "output_type": "execute_result"
    }
   ],
   "source": [
    "boundary"
   ]
  },
  {
   "cell_type": "code",
   "execution_count": null,
   "id": "27fe6ef8-43f1-4b6d-ba9f-bc5e2962a7f7",
   "metadata": {},
   "outputs": [],
   "source": []
  }
 ],
 "metadata": {
  "kernelspec": {
   "display_name": "Python 3 (ipykernel)",
   "language": "python",
   "name": "python3"
  },
  "language_info": {
   "codemirror_mode": {
    "name": "ipython",
    "version": 3
   },
   "file_extension": ".py",
   "mimetype": "text/x-python",
   "name": "python",
   "nbconvert_exporter": "python",
   "pygments_lexer": "ipython3",
   "version": "3.10.5"
  }
 },
 "nbformat": 4,
 "nbformat_minor": 5
}
