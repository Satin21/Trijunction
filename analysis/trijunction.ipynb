{
 "cells": [
  {
   "cell_type": "code",
   "execution_count": 16,
   "id": "c2e1bd60-79e0-4203-a46a-e17a998b3e0a",
   "metadata": {},
   "outputs": [],
   "source": [
    "from collections import OrderedDict"
   ]
  },
  {
   "cell_type": "code",
   "execution_count": 2,
   "id": "45461fc7-d88b-4c6d-89d6-c854516ea4a9",
   "metadata": {},
   "outputs": [],
   "source": [
    "L = 10\n",
    "gap = 1\n",
    "channel_width = 5\n",
    "angle = np.pi/4"
   ]
  },
  {
   "cell_type": "code",
   "execution_count": 75,
   "id": "a1cd2cec-1675-4dea-b04c-29ef1d6eab54",
   "metadata": {},
   "outputs": [],
   "source": [
    "def gate_coords(L=41, gap=4, channel_width=11, angle=np.pi / 4):\n",
    "    \"\"\"Find the gate coordinates that defines the trijunction\n",
    "\n",
    "    L: Channel length\n",
    "    gap: Gap between the gates\n",
    "    angle: Angle the channel makes with the x-axis [in radians]\n",
    "\n",
    "    Returns: Gates vertices and their order\n",
    "    \"\"\"\n",
    "\n",
    "    A = lambda x: np.array([[-np.cos(x), np.sin(x)], [np.sin(x), np.cos(x)]])\n",
    "\n",
    "    point = np.array([0, 1])\n",
    "\n",
    "    rotated_c = (point @ A(angle)) @ (np.eye(2) * L)\n",
    "\n",
    "    tail = np.round(rotated_c.reshape((2, 1)) * np.array([[-1, 0]]).T, 2)\n",
    "    head = np.round(rotated_c.reshape((2, 1)) * np.array([[0, 1]]).T, 2)\n",
    "\n",
    "    left, right, top = (\n",
    "        LineString([Point(*tail), Point(*head)]),\n",
    "        LineString([Point(*(tail * -1)), Point(*head)]),\n",
    "        LineString([Point(*head), Point([0, L + head[1]])]),\n",
    "    )\n",
    "\n",
    "    def shift(x, adjustment):\n",
    "        x = np.array(x.coords)\n",
    "        x[:, 0] += adjustment\n",
    "        return x\n",
    "    \n",
    "    distance_to_axis = (channel_width/2 + gap/2)\n",
    "    \n",
    "    lcoords = shift(left, -distance_to_axis)\n",
    "    rcoords = shift(right, distance_to_axis)\n",
    "    tcoords = shift(top, -channel_width/2)\n",
    "    tcoords_p = shift(top, channel_width/2)\n",
    "\n",
    "    lr = np.vstack((right.coords, left.coords[::-1]))\n",
    "    lr[:, 1] -= channel_width / 2\n",
    "    lr[0, 0] -= distance_to_axis\n",
    "    lr[-1, 0] += distance_to_axis\n",
    "    truncate = lr[lr[:, 1] < 0.0].copy()\n",
    "    truncate = truncate @ np.array([[1, 0], [0, 0]])\n",
    "    lr[lr[:, 1] < 0.0] = truncate\n",
    "\n",
    "    coords = np.vstack(\n",
    "        (lcoords, tcoords, tcoords_p[::-1], rcoords[::-1], lr, lcoords[0])\n",
    "    )\n",
    "    trijunction = Polygon(coords)\n",
    "\n",
    "    xmin, xmax, ymin, ymax = (\n",
    "        coords[:, 0].min(),\n",
    "        coords[:, 0].max(),\n",
    "        coords[:, 1].min(),\n",
    "        coords[:, 1].max(),\n",
    "    )\n",
    "\n",
    "    rectangle = np.array([[xmin, ymin], [xmin, ymax], [xmax, ymax], [xmax, ymin]])\n",
    "\n",
    "    gates = Polygon(rectangle).difference(trijunction)\n",
    "    \n",
    "\n",
    "    gates = np.array(gates.geoms)\n",
    "    area = [gate.area for gate in gates]\n",
    "    gates = gates[np.argsort(area)]\n",
    "\n",
    "    coords = np.array(gates[1].exterior.coords)\n",
    "    y = np.unique(coords[:, 1])\n",
    "    assert len(y) == 3\n",
    "    bottom_top_threshold = y[1]\n",
    "\n",
    "    splitter = LineString(\n",
    "        [\n",
    "            Point(point)\n",
    "            for point in product(np.unique(coords[:, 0]), [bottom_top_threshold])\n",
    "        ]\n",
    "    )\n",
    "\n",
    "    top, bottom = list(gates[1].difference(splitter.buffer(gap)).geoms)\n",
    "\n",
    "    left_1 = np.array(bottom.exterior.coords)\n",
    "    top_1 = np.array(top.exterior.coords)\n",
    "    top_2 = top_1.copy() @ [[-1, 0], [0, 1]]\n",
    "    right_2 = left_1.copy() @ [[-1, 0], [0, 1]]\n",
    "\n",
    "    coords = np.array(gates[0].exterior.coords)\n",
    "\n",
    "    splitter = LineString(\n",
    "        [Point(point) for point in product([0.0], np.unique(coords[:, 1]))]\n",
    "    )\n",
    "\n",
    "    left_2, _ = list(gates[0].difference(splitter.buffer(gap)).geoms)\n",
    "    left_2 = np.array(left_2.exterior.coords)\n",
    "    \n",
    "    right_1 = left_2.copy() @ [[-1, 0], [0, 1]]\n",
    "    \n",
    "    gates_vertex = [\n",
    "        left_1, left_2, \n",
    "        right_1, right_2, \n",
    "        top_1, top_2\n",
    "    ]\n",
    "    gate_names = [\"left_1\", \"left_2\", \"right_1\", \"right_2\", \"top_1\", \"top_2\"]\n",
    "    \n",
    "    gate_names = [\"left_1\", \"left_2\", \"right_1\", \"right_2\", \"top_1\", \"top_2\"]\n",
    "    boundaries = OrderedDict(xmin = xmin, xmax = xmax, ymin = ymin, ymax = ymax)\n",
    "    channel_center = OrderedDict(left = np.hstack(tail), \n",
    "                          right = np.hstack(tail*-1), \n",
    "                          top = np.hstack([0, L+head[1]]))\n",
    "    \n",
    "    return gates_vertex, gate_names, boundaries, channel_center "
   ]
  },
  {
   "cell_type": "code",
   "execution_count": 76,
   "id": "6513d101-e9aa-4904-b1d4-433f0e21dc2a",
   "metadata": {},
   "outputs": [],
   "source": [
    "gates_vertices, gates_name, boundary, centers = gate_coords(L, gap, channel_width, angle)"
   ]
  },
  {
   "cell_type": "code",
   "execution_count": 77,
   "id": "4776e36a-8626-49db-a8cf-c8146c877f78",
   "metadata": {},
   "outputs": [
    {
     "data": {
      "image/svg+xml": [
       "<svg xmlns=\"http://www.w3.org/2000/svg\" xmlns:xlink=\"http://www.w3.org/1999/xlink\" width=\"100.0\" height=\"100.0\" viewBox=\"-10.8756 -0.8056000000000001 21.7512 18.681199999999997\" preserveAspectRatio=\"xMinYMin meet\"><g transform=\"matrix(1,0,0,-1,0,17.07)\"><g><path fill-rule=\"evenodd\" fill=\"#66cc99\" stroke=\"#555555\" stroke-width=\"0.435024\" opacity=\"0.6\" d=\"M -4.07,0.0 L -1.0,3.4471498771498776 L -1.0,0.0 L -4.07,0.0 z\" /><path fill-rule=\"evenodd\" fill=\"#66cc99\" stroke=\"#555555\" stroke-width=\"0.435024\" opacity=\"0.6\" d=\"M 1.0,3.4471498771498776 L 4.07,0.0 L 1.0,0.0 L 1.0,3.4471498771498776 z\" /><path fill-rule=\"evenodd\" fill=\"#66cc99\" stroke=\"#555555\" stroke-width=\"0.435024\" opacity=\"0.6\" d=\"M -10.07,0.0 L -10.07,6.07 L -4.0,6.07 L -10.07,0.0 z\" /><path fill-rule=\"evenodd\" fill=\"#66cc99\" stroke=\"#555555\" stroke-width=\"0.435024\" opacity=\"0.6\" d=\"M 10.07,6.07 L 10.07,0.0 L 4.0,6.07 L 10.07,6.07 z\" /><path fill-rule=\"evenodd\" fill=\"#66cc99\" stroke=\"#555555\" stroke-width=\"0.435024\" opacity=\"0.6\" d=\"M -10.07,17.07 L -2.5,17.07 L -2.5,8.07 L -10.07,8.07 L -10.07,17.07 z\" /><path fill-rule=\"evenodd\" fill=\"#66cc99\" stroke=\"#555555\" stroke-width=\"0.435024\" opacity=\"0.6\" d=\"M 2.5,8.07 L 2.5,17.07 L 10.07,17.07 L 10.07,8.07 L 2.5,8.07 z\" /></g></g></svg>"
      ],
      "text/plain": [
       "<shapely.geometry.multipolygon.MultiPolygon at 0x7fd98c1e23b0>"
      ]
     },
     "execution_count": 77,
     "metadata": {},
     "output_type": "execute_result"
    }
   ],
   "source": [
    "unary_union([Polygon(gate) for gate in gates_vertices])"
   ]
  },
  {
   "cell_type": "code",
   "execution_count": null,
   "id": "0b7188ee-e18e-43bc-b51c-9e123a6bb63c",
   "metadata": {},
   "outputs": [],
   "source": []
  }
 ],
 "metadata": {
  "kernelspec": {
   "display_name": "Python 3 (ipykernel)",
   "language": "python",
   "name": "python3"
  },
  "language_info": {
   "codemirror_mode": {
    "name": "ipython",
    "version": 3
   },
   "file_extension": ".py",
   "mimetype": "text/x-python",
   "name": "python",
   "nbconvert_exporter": "python",
   "pygments_lexer": "ipython3",
   "version": "3.10.5"
  }
 },
 "nbformat": 4,
 "nbformat_minor": 5
}
