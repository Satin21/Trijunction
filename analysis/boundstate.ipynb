{
 "cells": [
  {
   "cell_type": "code",
   "execution_count": 2,
   "id": "01090f05-1356-4415-b9a9-f1d6a4a27c51",
   "metadata": {},
   "outputs": [],
   "source": [
    "import kwant\n",
    "import matplotlib.pyplot as plt\n",
    "import numpy as np\n",
    "import scipy.sparse.linalg as sla\n",
    "from ccode.boundstate import find_boundstates, extract_boundstates\n",
    "import time\n",
    "\n",
    "%matplotlib inline\n",
    "plt.rcParams.update({\"font.size\": 12})"
   ]
  },
  {
   "cell_type": "code",
   "execution_count": 3,
   "id": "f5eafbfe-be15-45f8-9d86-6dcb7d22099c",
   "metadata": {},
   "outputs": [],
   "source": [
    "def sort_eigen(ev):\n",
    "    \"\"\"\n",
    "    Sort eigenvectors and eigenvalues using numpy methods.\n",
    "    \"\"\"\n",
    "    evals, evecs = ev\n",
    "    idx = np.argsort(evals)\n",
    "    evals = evals[idx]\n",
    "    evecs = evecs[:, idx]\n",
    "    return evals, evecs.T"
   ]
  },
  {
   "cell_type": "code",
   "execution_count": 4,
   "id": "8368efe1-e772-4f04-b535-727a368ff7cd",
   "metadata": {},
   "outputs": [
    {
     "name": "stderr",
     "output_type": "stream",
     "text": [
      "/tmp/ipykernel_460/898861703.py:10: KwantDeprecationWarning: Accessing kwant.continuum without an explicit import is deprecated. Instead, explicitly 'import kwant.continuum'.\n",
      "  template = kwant.continuum.discretize(majorana_hamiltonian)\n",
      "/opt/conda/lib/python3.9/site-packages/sympy/__init__.py:672: SymPyDeprecationWarning: \n",
      "\n",
      "importing sympy.matrices.matrices with 'from sympy import *' has been\n",
      "deprecated since SymPy 1.6. Use import sympy.matrices.matrices\n",
      "instead. See https://github.com/sympy/sympy/issues/18245 for more\n",
      "info.\n",
      "\n",
      "  self.Warn(\n",
      "/opt/conda/lib/python3.9/site-packages/sympy/__init__.py:672: SymPyDeprecationWarning: \n",
      "\n",
      "importing sympy.matrices.matrices with 'from sympy import *' has been\n",
      "deprecated since SymPy 1.6. Use import sympy.matrices.matrices\n",
      "instead. See https://github.com/sympy/sympy/issues/18245 for more\n",
      "info.\n",
      "\n",
      "  self.Warn(\n"
     ]
    }
   ],
   "source": [
    "# Hamiltonian of the system\n",
    "majorana_hamiltonian = \"\"\"\n",
    "    ( t * (k_x**2 + k_y**2 ) - mu) * kron(sigma_0, sigma_z)\n",
    "    + alpha * k_x * kron(sigma_y, sigma_z)\n",
    "    - alpha * k_y * kron(sigma_x, sigma_z)\n",
    "    + Delta * kron(sigma_0, sigma_x)\n",
    "    + B_x * kron(sigma_x, sigma_0)\n",
    "\"\"\"\n",
    "a = 1\n",
    "template = kwant.continuum.discretize(majorana_hamiltonian)"
   ]
  },
  {
   "cell_type": "code",
   "execution_count": 5,
   "id": "89bf206e-abc1-4880-8650-17715d67fca1",
   "metadata": {},
   "outputs": [],
   "source": [
    "def interval_shape(L, W):\n",
    "    def shape(site):\n",
    "        return 0 <= site.pos[0] < L and 0 <= site.pos[1] < W\n",
    "    return shape\n",
    "\n",
    "\n",
    "def make_junction(L, W):\n",
    "    junction = kwant.Builder()\n",
    "    junction.fill(\n",
    "        template,\n",
    "        shape=interval_shape(L, W),\n",
    "        start=[0,0]\n",
    "    )\n",
    "    return junction"
   ]
  },
  {
   "cell_type": "markdown",
   "id": "315b3f89-7b54-46b2-aed1-92a6f94733d3",
   "metadata": {},
   "source": [
    "### Infinite system"
   ]
  },
  {
   "cell_type": "code",
   "execution_count": 6,
   "id": "2b60dbb2-259d-4e2f-985c-6d78c14c5361",
   "metadata": {},
   "outputs": [],
   "source": [
    "L = 20\n",
    "W = 3\n",
    "rectangle = make_junction(L, W)"
   ]
  },
  {
   "cell_type": "code",
   "execution_count": 7,
   "id": "daaff0cb-9b2d-4b15-9dca-15026163377d",
   "metadata": {},
   "outputs": [],
   "source": [
    "lead = kwant.Builder(symmetry=kwant.TranslationalSymmetry([-1, 0]))\n",
    "lead.fill(template, shape=lambda site: 0 <= site.pos[1] < W, start=[0, 0]);\n",
    "rectangle.attach_lead(lead)\n",
    "rectangle = rectangle.finalized()"
   ]
  },
  {
   "cell_type": "code",
   "execution_count": 8,
   "id": "a508f976-96e6-4fb5-a051-367773ced2ff",
   "metadata": {},
   "outputs": [
    {
     "data": {
      "image/png": "[encoded data removed]",
      "text/plain": [
       "<Figure size 432x288 with 1 Axes>"
      ]
     },
     "metadata": {
      "needs_background": "light"
     },
     "output_type": "display_data"
    }
   ],
   "source": [
    "kwant.plot(rectangle);"
   ]
  },
  {
   "cell_type": "code",
   "execution_count": 9,
   "id": "86117b73-db3a-457e-b361-0a7a06368e15",
   "metadata": {},
   "outputs": [],
   "source": [
    "params = {\n",
    "    't': 1,\n",
    "    'mu': 0.3,\n",
    "    'alpha': 0.3,\n",
    "    'Delta': 0.3,\n",
    "    'B_x': 0.5\n",
    "}"
   ]
  },
  {
   "cell_type": "code",
   "execution_count": 10,
   "id": "73a9e143-08e2-45b0-a466-69b6cbec0e7c",
   "metadata": {},
   "outputs": [
    {
     "name": "stdout",
     "output_type": "stream",
     "text": [
      "0.00016880035400390625\n",
      "CPU times: user 1.28 ms, sys: 44 µs, total: 1.32 ms\n",
      "Wall time: 1.03 ms\n"
     ]
    }
   ],
   "source": [
    "%%time\n",
    "start = time.time()\n",
    "en, vec = find_boundstates(syst=rectangle,\n",
    "                           min_energy=-0.01,\n",
    "                           max_energy=0.01,\n",
    "                           sparse=True,\n",
    "                           params=params,\n",
    "                           rtol=1e-1\n",
    "                          )\n",
    "end = time.time()\n",
    "print(end-start)"
   ]
  },
  {
   "cell_type": "code",
   "execution_count": 27,
   "id": "a308bd31-ff82-44d0-9fa4-4c2d89151b85",
   "metadata": {
    "tags": []
   },
   "outputs": [
    {
     "name": "stdout",
     "output_type": "stream",
     "text": [
      "Evaluation time of find_boundstates in seconds:\n",
      "1.3838005065917969\n",
      "1.0052051544189453\n",
      "0.9677796363830566\n",
      "0.9940352439880371\n",
      "1.141470193862915\n",
      "1.1119341850280762\n",
      "1.0710456371307373\n",
      "1.052232265472412\n",
      "1.136671781539917\n",
      "0.9825315475463867\n",
      "0.9858982563018799\n",
      "0.9940485954284668\n",
      "1.1646604537963867\n",
      "0.9545185565948486\n",
      "1.0507843494415283\n",
      "1.0693583488464355\n",
      "1.1499788761138916\n",
      "1.1831896305084229\n",
      "1.1229543685913086\n",
      "1.1035261154174805\n",
      "1.1274726390838623\n",
      "1.10329270362854\n",
      "1.127338171005249\n",
      "1.1109797954559326\n",
      "1.1404459476470947\n",
      "1.141777753829956\n",
      "1.107722520828247\n",
      "1.1069178581237793\n",
      "1.1078410148620605\n",
      "1.1941063404083252\n",
      "1.114626407623291\n",
      "1.101923942565918\n",
      "1.1834022998809814\n",
      "1.1979761123657227\n",
      "1.2820396423339844\n",
      "1.251330852508545\n",
      "1.1107001304626465\n",
      "1.1173300743103027\n",
      "1.022085428237915\n",
      "0.8021292686462402\n",
      "0.1578693389892578\n",
      "0.16062283515930176\n",
      "0.1552736759185791\n",
      "0.1587810516357422\n",
      "0.15648508071899414\n",
      "0.15693998336791992\n",
      "0.16102910041809082\n",
      "0.17287373542785645\n",
      "0.17705059051513672\n",
      "0.17972946166992188\n",
      "0.17354059219360352\n",
      "0.17502188682556152\n",
      "0.17304182052612305\n",
      "0.17419886589050293\n",
      "0.16602087020874023\n",
      "0.17202210426330566\n",
      "0.16213631629943848\n",
      "0.15997695922851562\n",
      "0.16402840614318848\n",
      "0.16652727127075195\n",
      "0.16250324249267578\n",
      "0.16948556900024414\n",
      "0.1687755584716797\n",
      "0.16957545280456543\n",
      "0.16730475425720215\n",
      "0.16664528846740723\n",
      "0.16564655303955078\n",
      "0.16873455047607422\n",
      "0.16901803016662598\n",
      "0.16891694068908691\n",
      "0.1725623607635498\n",
      "0.1697685718536377\n",
      "0.16832494735717773\n",
      "0.166748046875\n",
      "0.16314101219177246\n",
      "0.166473388671875\n",
      "0.16304540634155273\n",
      "0.16096258163452148\n",
      "0.15507054328918457\n",
      "0.15833044052124023\n",
      "0.15490961074829102\n",
      "0.15525484085083008\n",
      "0.1535329818725586\n",
      "0.15526580810546875\n",
      "0.1544325351715088\n",
      "0.15796375274658203\n",
      "0.15767502784729004\n",
      "0.1571826934814453\n",
      "0.15626215934753418\n",
      "0.1564497947692871\n",
      "0.15653347969055176\n",
      "0.15940165519714355\n",
      "0.2110903263092041\n",
      "0.1980915069580078\n",
      "0.19463872909545898\n",
      "0.19510459899902344\n",
      "0.16686487197875977\n",
      "0.21017074584960938\n",
      "0.19262051582336426\n",
      "0.19230103492736816\n",
      "CPU times: user 54.1 s, sys: 219 ms, total: 54.3 s\n",
      "Wall time: 54.2 s\n"
     ]
    }
   ],
   "source": [
    "%%time\n",
    "inf_ens = []\n",
    "inf_vecs = []\n",
    "Bs = np.linspace(0, 1, 100)\n",
    "print('Evaluation time of find_boundstates in seconds:')\n",
    "for b in Bs:\n",
    "    params['B_x'] = b\n",
    "    start = time.time()\n",
    "    en, vec = find_boundstates(syst=rectangle,\n",
    "                               min_energy=-0.01,\n",
    "                               max_energy=0.01,\n",
    "                               sparse=True,\n",
    "                               params=params,\n",
    "                               rtol=1e-2\n",
    "                              )\n",
    "    end = time.time()\n",
    "    print(end-start)\n",
    "    inf_ens.append(en)\n",
    "    inf_vecs.append(vec)"
   ]
  },
  {
   "cell_type": "code",
   "execution_count": 28,
   "id": "ba6c3a4b-422c-4322-8128-279d6bd2a3b8",
   "metadata": {},
   "outputs": [
    {
     "name": "stderr",
     "output_type": "stream",
     "text": [
      "/tmp/ipykernel_460/149243906.py:1: VisibleDeprecationWarning: Creating an ndarray from ragged nested sequences (which is a list-or-tuple of lists-or-tuples-or ndarrays with different lengths or shapes) is deprecated. If you meant to do this, you must specify 'dtype=object' when creating the ndarray.\n",
      "  w = np.where(np.abs(inf_ens)>0)[0][0]\n",
      "/tmp/ipykernel_460/149243906.py:1: DeprecationWarning: The truth value of an empty array is ambiguous. Returning False, but in future this will result in an error. Use `array.size > 0` to check that an array is not empty.\n",
      "  w = np.where(np.abs(inf_ens)>0)[0][0]\n"
     ]
    }
   ],
   "source": [
    "w = np.where(np.abs(inf_ens)>0)[0][0]"
   ]
  },
  {
   "cell_type": "code",
   "execution_count": 29,
   "id": "b5f6df23-d808-49ed-8039-433a565c8e0d",
   "metadata": {},
   "outputs": [
    {
     "data": {
      "text/plain": [
       "<matplotlib.collections.PathCollection at 0x7f203097b1c0>"
      ]
     },
     "execution_count": 29,
     "metadata": {},
     "output_type": "execute_result"
    },
    {
     "data": {
      "image/png": "[encoded data removed]",
      "text/plain": [
       "<Figure size 432x288 with 1 Axes>"
      ]
     },
     "metadata": {
      "needs_background": "light"
     },
     "output_type": "display_data"
    }
   ],
   "source": [
    "plt.scatter(Bs[w:], inf_ens[w:])"
   ]
  },
  {
   "cell_type": "code",
   "execution_count": 30,
   "id": "9f87ace4-859c-482d-b35e-b6ef9ab40e62",
   "metadata": {},
   "outputs": [],
   "source": [
    "density = kwant.operator.Density(rectangle, np.eye(4))"
   ]
  },
  {
   "cell_type": "code",
   "execution_count": 31,
   "id": "537dbdf7-d1c6-4ecc-ae01-630ffddde0e3",
   "metadata": {},
   "outputs": [
    {
     "data": {
      "image/png": "[encoded data removed]",
      "text/plain": [
       "<Figure size 432x288 with 2 Axes>"
      ]
     },
     "metadata": {
      "needs_background": "light"
     },
     "output_type": "display_data"
    },
    {
     "name": "stderr",
     "output_type": "stream",
     "text": [
      "/tmp/ipykernel_460/3505946799.py:1: VisibleDeprecationWarning: Creating an ndarray from ragged nested sequences (which is a list-or-tuple of lists-or-tuples-or ndarrays with different lengths or shapes) is deprecated. If you meant to do this, you must specify 'dtype=object' when creating the ndarray.\n",
      "  kwant.plotter.density(rectangle, density(inf_vecs[-8][:, 0]));\n"
     ]
    }
   ],
   "source": [
    "kwant.plotter.density(rectangle, density(inf_vecs[-8][:, 0]));"
   ]
  },
  {
   "cell_type": "code",
   "execution_count": 32,
   "id": "5faa7f4e-65a7-46fd-86f4-ff7413ecc762",
   "metadata": {},
   "outputs": [
    {
     "name": "stdout",
     "output_type": "stream",
     "text": [
      "CPU times: user 3.88 s, sys: 6 ms, total: 3.89 s\n",
      "Wall time: 3.88 s\n"
     ]
    }
   ],
   "source": [
    "%%time\n",
    "inf_vecs_0 = []\n",
    "for b in Bs:\n",
    "    params['B_x'] = b\n",
    "    vec = extract_boundstates(syst=rectangle,\n",
    "                             energy=0,\n",
    "                             sparse=True,\n",
    "                             params=params\n",
    "                             )\n",
    "    inf_vecs_0.append(vec)"
   ]
  },
  {
   "cell_type": "code",
   "execution_count": 33,
   "id": "5de91fe4-d9e8-42ef-953b-8dce9a202017",
   "metadata": {},
   "outputs": [
    {
     "data": {
      "image/png": "[encoded data removed]",
      "text/plain": [
       "<Figure size 432x288 with 2 Axes>"
      ]
     },
     "metadata": {
      "needs_background": "light"
     },
     "output_type": "display_data"
    },
    {
     "name": "stderr",
     "output_type": "stream",
     "text": [
      "/tmp/ipykernel_460/3773561603.py:1: VisibleDeprecationWarning: Creating an ndarray from ragged nested sequences (which is a list-or-tuple of lists-or-tuples-or ndarrays with different lengths or shapes) is deprecated. If you meant to do this, you must specify 'dtype=object' when creating the ndarray.\n",
      "  kwant.plotter.density(rectangle, density(inf_vecs_0[-8][:240, 0]));\n"
     ]
    }
   ],
   "source": [
    "kwant.plotter.density(rectangle, density(inf_vecs_0[-8][:240, 0]));"
   ]
  },
  {
   "cell_type": "markdown",
   "id": "3869b947-613b-4399-8c38-1f262380ca54",
   "metadata": {},
   "source": [
    "#### Notes on bound state algorithm:\n",
    "* `fing_boundstates` takes longer when there's no bound state in the system.\n",
    "* `extract_boundstate` is the fastest, but requires providing the energy."
   ]
  },
  {
   "cell_type": "markdown",
   "id": "5cdb8177-4c48-4595-a1af-91d3578b3d51",
   "metadata": {},
   "source": [
    "### Finite system"
   ]
  },
  {
   "cell_type": "code",
   "execution_count": 34,
   "id": "1403c4f8-76f3-4a9a-b4c0-730a043e3c0b",
   "metadata": {},
   "outputs": [],
   "source": [
    "params = {\n",
    "    't': 1,\n",
    "    'mu': 0.3,\n",
    "    'alpha': 0.3,\n",
    "    'Delta': 0.3,\n",
    "    'B_x': 0.011\n",
    "}"
   ]
  },
  {
   "cell_type": "code",
   "execution_count": 35,
   "id": "afd439ee-61d7-425f-9239-1dfeba1a8a22",
   "metadata": {},
   "outputs": [],
   "source": [
    "finite_wire = make_junction(100, 3).finalized()"
   ]
  },
  {
   "cell_type": "code",
   "execution_count": 36,
   "id": "dc34b001-aecd-4123-8443-93f0f922b8e4",
   "metadata": {},
   "outputs": [
    {
     "data": {
      "image/png": "[encoded data removed]",
      "text/plain": [
       "<Figure size 432x288 with 1 Axes>"
      ]
     },
     "metadata": {
      "needs_background": "light"
     },
     "output_type": "display_data"
    }
   ],
   "source": [
    "kwant.plot(finite_wire);"
   ]
  },
  {
   "cell_type": "code",
   "execution_count": 37,
   "id": "936dc28e-40d9-4b3f-a94c-f7fa43817864",
   "metadata": {},
   "outputs": [
    {
     "name": "stdout",
     "output_type": "stream",
     "text": [
      "CPU times: user 6.36 s, sys: 8.97 ms, total: 6.37 s\n",
      "Wall time: 6.36 s\n"
     ]
    }
   ],
   "source": [
    "%%time\n",
    "fin_ens = []\n",
    "fin_vecs = []\n",
    "for b in Bs:\n",
    "    params['B_x'] = b\n",
    "    ham = finite_wire.hamiltonian_submatrix(sparse=True, params=params)\n",
    "    val, vec = sort_eigen(sla.eigsh(ham.tocsc(), k=10, sigma=0))\n",
    "    fin_ens.append(val)\n",
    "    fin_vecs.append(vec)"
   ]
  },
  {
   "cell_type": "code",
   "execution_count": 38,
   "id": "4f35410c-567c-4648-8f58-d253694d54e6",
   "metadata": {},
   "outputs": [],
   "source": [
    "fin_ens = np.array(fin_ens)"
   ]
  },
  {
   "cell_type": "code",
   "execution_count": 42,
   "id": "e882056e-8bb7-4c5e-b299-5e0229008c46",
   "metadata": {},
   "outputs": [
    {
     "data": {
      "text/plain": [
       "<matplotlib.legend.Legend at 0x7f2030bdcf40>"
      ]
     },
     "execution_count": 42,
     "metadata": {},
     "output_type": "execute_result"
    },
    {
     "data": {
      "image/png": "[encoded data removed]",
      "text/plain": [
       "<Figure size 720x288 with 1 Axes>"
      ]
     },
     "metadata": {
      "needs_background": "light"
     },
     "output_type": "display_data"
    }
   ],
   "source": [
    "fig, ax = plt.subplots(figsize=(10, 4))\n",
    "for level in fin_ens.T:\n",
    "    ax.plot(Bs, level, label='sparse diagonalization', c='orange')\n",
    "ax.scatter(Bs[w:], inf_ens[w:], label='bound state algorithm')\n",
    "ax.set_ylim(-0.15, 0.15)\n",
    "ax.set_ylabel('$E$')\n",
    "ax.set_xlabel(r'$E_Z$')\n",
    "\n",
    "handles, labels = plt.gca().get_legend_handles_labels()\n",
    "by_label = dict(zip(labels, handles))\n",
    "plt.legend(by_label.values(), by_label.keys(), loc='center left')"
   ]
  },
  {
   "cell_type": "code",
   "execution_count": 40,
   "id": "649772d7-65b8-438d-b277-cde4660fec21",
   "metadata": {},
   "outputs": [],
   "source": [
    "density = kwant.operator.Density(finite_wire, np.eye(4))"
   ]
  },
  {
   "cell_type": "code",
   "execution_count": 41,
   "id": "49439139-5d3c-4b0c-af2e-058f93b67499",
   "metadata": {},
   "outputs": [
    {
     "data": {
      "image/png": "[encoded data removed]",
      "text/plain": [
       "<Figure size 432x288 with 2 Axes>"
      ]
     },
     "metadata": {
      "needs_background": "light"
     },
     "output_type": "display_data"
    },
    {
     "name": "stderr",
     "output_type": "stream",
     "text": [
      "/tmp/ipykernel_460/3342805614.py:1: VisibleDeprecationWarning: Creating an ndarray from ragged nested sequences (which is a list-or-tuple of lists-or-tuples-or ndarrays with different lengths or shapes) is deprecated. If you meant to do this, you must specify 'dtype=object' when creating the ndarray.\n",
      "  kwant.plotter.density(finite_wire, density(fin_vecs[50][5]));\n"
     ]
    }
   ],
   "source": [
    "kwant.plotter.density(finite_wire, density(fin_vecs[50][5]));"
   ]
  },
  {
   "cell_type": "code",
   "execution_count": null,
   "id": "6f2c4090-4d10-494a-aa38-b0e02071dcee",
   "metadata": {},
   "outputs": [],
   "source": []
  },
  {
   "cell_type": "code",
   "execution_count": null,
   "id": "0765e84a-a42c-461f-bacc-e352bf504d0a",
   "metadata": {},
   "outputs": [],
   "source": []
  }
 ],
 "metadata": {
  "kernelspec": {
   "display_name": "Python 3 (ipykernel)",
   "language": "python",
   "name": "python3"
  },
  "language_info": {
   "codemirror_mode": {
    "name": "ipython",
    "version": 3
   },
   "file_extension": ".py",
   "mimetype": "text/x-python",
   "name": "python",
   "nbconvert_exporter": "python",
   "pygments_lexer": "ipython3",
   "version": "3.9.7"
  }
 },
 "nbformat": 4,
 "nbformat_minor": 5
}
