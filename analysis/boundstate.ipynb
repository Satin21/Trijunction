{
 "cells": [
  {
   "cell_type": "code",
   "execution_count": null,
   "id": "8b0844b2-34ce-433b-a08d-6abac693701d",
   "metadata": {},
   "outputs": [
    {
     "name": "stderr",
     "output_type": "stream",
     "text": [
      "/opt/conda/lib/python3.9/site-packages/dask_gateway/client.py:21: FutureWarning: format_bytes is deprecated and will be removed in a future release. Please use dask.utils.format_bytes instead.\n",
      "  from distributed.utils import LoopRunner, format_bytes\n"
     ]
    }
   ],
   "source": [
    "from dask_quantumtinkerer import Cluster, cluster_options\n",
    "import dask.bag as db\n",
    "import kwant\n",
    "import matplotlib.pyplot as plt\n",
    "import numpy as np\n",
    "import scipy.sparse.linalg as sla\n",
    "from ccode.modified_boundstate import modified_find_boundstates\n",
    "from ccode.boundstate import find_boundstates, extract_boundstates\n",
    "import time\n",
    "import itertools as it\n",
    "\n",
    "%matplotlib inline\n",
    "plt.rcParams.update({\"font.size\": 12})"
   ]
  },
  {
   "cell_type": "markdown",
   "id": "e6c990dd-783c-4ab6-9e17-6005f8322f76",
   "metadata": {},
   "source": [
    "## Parallel computing configuration"
   ]
  },
  {
   "cell_type": "code",
   "execution_count": null,
   "id": "8806ea2f-604f-4401-8e05-67896cb47d2f",
   "metadata": {},
   "outputs": [],
   "source": [
    "options = cluster_options()\n",
    "options.worker_cores = 1  # you should always leave this to 1 (I think)\n",
    "options.worker_memory = 4  # Need to atdjust this to meet your needs\n",
    "options.extra_path = \"/home/jtorresluna/work/trijunction_design/\"  # Make sure to do this if you import any local modules!"
   ]
  },
  {
   "cell_type": "code",
   "execution_count": null,
   "id": "bfede5dd-7dfe-4a55-880b-639c6f7d6500",
   "metadata": {},
   "outputs": [],
   "source": [
    "cluster = Cluster(options)"
   ]
  },
  {
   "cell_type": "code",
   "execution_count": null,
   "id": "3382c445-ad7e-4e82-bba1-4f9344bc09da",
   "metadata": {},
   "outputs": [
    {
     "data": {
      "application/vnd.jupyter.widget-view+json": {
       "model_id": "98f535c1c85b458eb0d19b3ee438fcc6",
       "version_major": 2,
       "version_minor": 0
      },
      "text/plain": [
       "VBox(children=(HTML(value='<h2>GatewayCluster</h2>'), HBox(children=(HTML(value='\\n<div>\\n<style scoped>\\n    …"
      ]
     },
     "metadata": {},
     "output_type": "display_data"
    }
   ],
   "source": [
    "cluster"
   ]
  },
  {
   "cell_type": "code",
   "execution_count": null,
   "id": "8d588947-77f5-452f-8ba1-0a344ee5ce33",
   "metadata": {},
   "outputs": [
    {
     "name": "stdout",
     "output_type": "stream",
     "text": [
      "http://io.quantumtinkerer.tudelft.nl/user/jdtorres/proxy/8000/clusters/450bd6b7ad404db29780c97d9eac609a/status\n"
     ]
    }
   ],
   "source": [
    "print(\n",
    "    \"http://io.quantumtinkerer.tudelft.nl/user/jdtorres/proxy/\"\n",
    "    + cluster.dashboard_link[17:]\n",
    ")"
   ]
  },
  {
   "cell_type": "code",
   "execution_count": null,
   "id": "bf29d4ba-4025-42d3-80d7-4c223290dc35",
   "metadata": {},
   "outputs": [],
   "source": [
    "client = cluster.get_client()"
   ]
  },
  {
   "cell_type": "code",
   "execution_count": null,
   "id": "c7d4aed0-46de-40aa-9db8-d4b1011db60f",
   "metadata": {},
   "outputs": [],
   "source": [
    "cluster.close()"
   ]
  },
  {
   "cell_type": "markdown",
   "id": "84c88ed1-4fe3-482a-8616-a6422e66cd6e",
   "metadata": {},
   "source": [
    "# Analysis of bound state algorithm"
   ]
  },
  {
   "cell_type": "markdown",
   "id": "56039c4e-32a0-4464-8e92-f2cd073909b9",
   "metadata": {},
   "source": [
    "#### Helper functions"
   ]
  },
  {
   "cell_type": "code",
   "execution_count": null,
   "id": "c3915072-9061-45cb-a387-c3da015f5949",
   "metadata": {},
   "outputs": [],
   "source": [
    "def sort_eigen(ev):\n",
    "    \"\"\"\n",
    "    Sort eigenvectors and eigenvalues using numpy methods.\n",
    "    \"\"\"\n",
    "    evals, evecs = ev\n",
    "    idx = np.argsort(evals)\n",
    "    evals = evals[idx]\n",
    "    evecs = evecs[:, idx]\n",
    "    return evals, evecs.T\n",
    "\n",
    "\n",
    "def extract_data_bound_states(data, mus):\n",
    "    energies = [[] for j in range(10)]\n",
    "    states = [[] for j in range(10)]\n",
    "    non_zero_mus = [[] for j in range(10)]\n",
    "    i = 0\n",
    "    for dat in data:\n",
    "        ens = dat[0]\n",
    "        vecs = dat[1]\n",
    "        if 0 not in ens.shape:\n",
    "            ens = np.sort(ens[np.where(ens>0)])\n",
    "            j = 0\n",
    "            for e in ens:\n",
    "                energies[j].append(e)\n",
    "                non_zero_mus[j].append(mus[i])\n",
    "                states[j].append(vecs[j])\n",
    "                j += 1\n",
    "        i += 1\n",
    "    return energies, non_zero_mus, states"
   ]
  },
  {
   "cell_type": "code",
   "execution_count": null,
   "id": "cb2a2b76-6f80-4a4b-a174-f50b84383d23",
   "metadata": {},
   "outputs": [],
   "source": [
    "def add_phase(**params):\n",
    "    params_copy = params.copy()\n",
    "    Delta = params_copy['Delta']\n",
    "    phi = params_copy.pop('phi')\n",
    "    params_copy.update(Delta_im = np.sin(phi)*Delta)\n",
    "    params_copy.update(Delta_re = np.cos(phi)*Delta)\n",
    "    return params_copy\n",
    "\n",
    "def bound_state_solver(key):\n",
    "\n",
    "    def bound_state_iteration(system, mu, params):\n",
    "\n",
    "        params[key] = mu\n",
    "        en, vec = find_boundstates(syst=system,\n",
    "                                   min_energy=-0.02,\n",
    "                                   max_energy=0.02,\n",
    "                                   sparse=True,\n",
    "                                   params=add_phase(**params),\n",
    "                                   rtol=1e-3\n",
    "                                  )\n",
    "        return en, vec\n",
    "\n",
    "    return bound_state_iteration\n",
    "\n",
    "\n",
    "solver_cavity_mu = bound_state_solver(key='mu_cavity')\n",
    "\n",
    "\n",
    "def modified_bound_state_solver(key):\n",
    "\n",
    "    def bound_state_iteration(system, mu, params):\n",
    "\n",
    "        params[key] = mu\n",
    "        en, vec = modified_find_boundstates(syst=system,\n",
    "                                   min_energy=-0.02,\n",
    "                                   max_energy=0.02,\n",
    "                                   sparse=True,\n",
    "                                   params=add_phase(**params),\n",
    "                                   rtol=1e-3\n",
    "                                  )\n",
    "        return en, vec\n",
    "\n",
    "    return bound_state_iteration\n",
    "\n",
    "\n",
    "solver_cavity_mu = bound_state_solver(key='mu_cavity')\n",
    "\n",
    "def wrapper_cavity_mu(args):\n",
    "    return solver_cavity_mu(*args)"
   ]
  },
  {
   "cell_type": "code",
   "execution_count": null,
   "id": "54be993b-0d4c-44c7-800e-b7177997c5ac",
   "metadata": {},
   "outputs": [
    {
     "name": "stderr",
     "output_type": "stream",
     "text": [
      "/tmp/ipykernel_2395/872729120.py:19: KwantDeprecationWarning: Accessing kwant.continuum without an explicit import is deprecated. Instead, explicitly 'import kwant.continuum'.\n",
      "  lead1_template = kwant.continuum.discretize(lead_hamiltonian, grid=a)\n",
      "/opt/conda/lib/python3.9/site-packages/sympy/__init__.py:672: SymPyDeprecationWarning: \n",
      "\n",
      "importing sympy.matrices.matrices with 'from sympy import *' has been\n",
      "deprecated since SymPy 1.6. Use import sympy.matrices.matrices\n",
      "instead. See https://github.com/sympy/sympy/issues/18245 for more\n",
      "info.\n",
      "\n",
      "  self.Warn(\n",
      "/opt/conda/lib/python3.9/site-packages/sympy/__init__.py:672: SymPyDeprecationWarning: \n",
      "\n",
      "importing sympy.matrices.matrices with 'from sympy import *' has been\n",
      "deprecated since SymPy 1.6. Use import sympy.matrices.matrices\n",
      "instead. See https://github.com/sympy/sympy/issues/18245 for more\n",
      "info.\n",
      "\n",
      "  self.Warn(\n",
      "/opt/conda/lib/python3.9/site-packages/sympy/__init__.py:672: SymPyDeprecationWarning: \n",
      "\n",
      "importing sympy.matrices.matrices with 'from sympy import *' has been\n",
      "deprecated since SymPy 1.6. Use import sympy.matrices.matrices\n",
      "instead. See https://github.com/sympy/sympy/issues/18245 for more\n",
      "info.\n",
      "\n",
      "  self.Warn(\n",
      "/opt/conda/lib/python3.9/site-packages/sympy/__init__.py:672: SymPyDeprecationWarning: \n",
      "\n",
      "importing sympy.matrices.matrices with 'from sympy import *' has been\n",
      "deprecated since SymPy 1.6. Use import sympy.matrices.matrices\n",
      "instead. See https://github.com/sympy/sympy/issues/18245 for more\n",
      "info.\n",
      "\n",
      "  self.Warn(\n"
     ]
    }
   ],
   "source": [
    "# Hamiltonian of the system\n",
    "lead_hamiltonian = \"\"\"\n",
    "    ( t * (k_x**2 + k_y**2 ) - mu) * kron(sigma_0, sigma_z)\n",
    "    + alpha * k_x * kron(sigma_y, sigma_z)\n",
    "    - alpha * k_y * kron(sigma_x, sigma_z)\n",
    "    + Delta * kron(sigma_0, sigma_x)\n",
    "    + B_x * kron(sigma_x, sigma_0)\n",
    "\"\"\"\n",
    "\n",
    "lead_phase_hamiltonian = \"\"\"\n",
    "    ( t * (k_x**2 + k_y**2 ) - mu) * kron(sigma_0, sigma_z)\n",
    "    + alpha * k_x * kron(sigma_y, sigma_z)\n",
    "    - alpha * k_y * kron(sigma_x, sigma_z)\n",
    "    + Delta_re * kron(sigma_0, sigma_x)\n",
    "    + Delta_im * kron(sigma_0, sigma_y)\n",
    "    + B_x * kron(sigma_x, sigma_0)\n",
    "\"\"\"\n",
    "a = 1\n",
    "lead1_template = kwant.continuum.discretize(lead_hamiltonian, grid=a)\n",
    "lead2_template = kwant.continuum.discretize(lead_phase_hamiltonian, grid=a)"
   ]
  },
  {
   "cell_type": "code",
   "execution_count": null,
   "id": "acf088dc-cfe6-472b-b13a-3edc37443701",
   "metadata": {},
   "outputs": [],
   "source": [
    "def interval_shape(L, W):\n",
    "    def shape(site):\n",
    "        return 0 <= site.pos[0] < L and 0 <= site.pos[1] < W\n",
    "    return shape\n",
    "\n",
    "\n",
    "def make_junction(L, W):\n",
    "    junction = kwant.Builder()\n",
    "    junction.fill(\n",
    "        lead1_template,\n",
    "        shape=interval_shape(L, W),\n",
    "        start=[0,0]\n",
    "    )\n",
    "    return junction"
   ]
  },
  {
   "cell_type": "code",
   "execution_count": null,
   "id": "377a85eb-0fd2-44be-a993-a880da75812c",
   "metadata": {},
   "outputs": [],
   "source": [
    "def circle_junction_shape(r, l, w):\n",
    "    def shape(site):\n",
    "        x, y = site.pos\n",
    "        return x**2 + y**2 < r**2 or np.abs(x) < l + r and np.abs(y) < w\n",
    "    return shape\n",
    "\n",
    "\n",
    "def make_circular_junction(r, l, w):\n",
    "    junction = kwant.Builder()\n",
    "    junction.fill(\n",
    "        template,\n",
    "        shape=circle_junction_shape(r, l, w),\n",
    "        start=[0,0]\n",
    "    )\n",
    "    return junction\n",
    "\n",
    "\n",
    "def shape_wires_circle(r, mu_circle, mu_wires):\n",
    "    def shape(x, y):\n",
    "        if x**2 + y**2 < r**2:\n",
    "            return mu_circle\n",
    "        else:\n",
    "            return mu_wires\n",
    "    return shape\n",
    "\n",
    "\n",
    "def f_params_circular_junction(r, **parameters):\n",
    "\n",
    "    params = parameters.copy()\n",
    "    mu_circle = params.pop('mu_cavity')\n",
    "    mu_wires = params.pop('mu_wires')\n",
    "    Delta = params.pop('Delta')\n",
    "\n",
    "    params.update(mu=shape_wires_circle(r=r,\n",
    "                                        mu_circle=mu_circle,\n",
    "                                        mu_wires=mu_wires))\n",
    "    params.update(Delta=shape_wires_circle(r=r,\n",
    "                                           mu_circle=0,\n",
    "                                           mu_wires=Delta))\n",
    "\n",
    "    return params"
   ]
  },
  {
   "cell_type": "markdown",
   "id": "80086174-0bc8-4271-9bb2-9bc78b984d17",
   "metadata": {},
   "source": [
    "# Single nanowire"
   ]
  },
  {
   "cell_type": "markdown",
   "id": "2a2d59cb-2014-4a23-a6c1-98fc2b6c24e6",
   "metadata": {
    "jp-MarkdownHeadingCollapsed": true,
    "tags": []
   },
   "source": [
    "### Infinite system"
   ]
  },
  {
   "cell_type": "code",
   "execution_count": null,
   "id": "0d953e04-6495-4e87-84ff-86b4ca4f9029",
   "metadata": {},
   "outputs": [],
   "source": [
    "L = 1\n",
    "W = 3\n",
    "rectangle = make_junction(L, W)"
   ]
  },
  {
   "cell_type": "code",
   "execution_count": null,
   "id": "7e8be0e2-c8d9-4bd1-a286-8c158131af3c",
   "metadata": {},
   "outputs": [],
   "source": [
    "lead = kwant.Builder(symmetry=kwant.TranslationalSymmetry([-1, 0]))\n",
    "lead.fill(lead1_template, shape=lambda site: 0 <= site.pos[1] < W, start=[0, 0]);\n",
    "rectangle.attach_lead(lead)\n",
    "rectangle = rectangle.finalized()"
   ]
  },
  {
   "cell_type": "code",
   "execution_count": null,
   "id": "14f92f65-0caa-4305-9bae-a7b43b6a838a",
   "metadata": {},
   "outputs": [
    {
     "data": {
      "image/png": "[encoded data removed]",
      "text/plain": [
       "<Figure size 432x288 with 1 Axes>"
      ]
     },
     "metadata": {
      "needs_background": "light"
     },
     "output_type": "display_data"
    }
   ],
   "source": [
    "kwant.plot(lead);"
   ]
  },
  {
   "cell_type": "code",
   "execution_count": null,
   "id": "b2ee556b-6ae2-461e-b466-d02b2be2339c",
   "metadata": {},
   "outputs": [],
   "source": [
    "params = {\n",
    "    't': 1,\n",
    "    'mu': 0.3,\n",
    "    'alpha': 0.3,\n",
    "    'Delta': 0.3,\n",
    "    'B_x': 0.5\n",
    "}"
   ]
  },
  {
   "cell_type": "code",
   "execution_count": null,
   "id": "df96c55f-fda0-4fa9-96d2-f41995e12adc",
   "metadata": {},
   "outputs": [
    {
     "name": "stdout",
     "output_type": "stream",
     "text": [
      "find candidates:\n",
      "0.7493796348571777\n",
      "find all bound states:\n",
      "0.02313375473022461\n",
      "0.772925853729248\n",
      "CPU times: user 771 ms, sys: 5.66 ms, total: 776 ms\n",
      "Wall time: 773 ms\n"
     ]
    }
   ],
   "source": [
    "%%time\n",
    "start = time.time()\n",
    "en, vec = find_boundstates(syst=rectangle,\n",
    "                           min_energy=-0.01,\n",
    "                           max_energy=0.01,\n",
    "                           sparse=True,\n",
    "                           params=params,\n",
    "                           rtol=1e-3\n",
    "                          )\n",
    "end = time.time()\n",
    "print(end-start)"
   ]
  },
  {
   "cell_type": "code",
   "execution_count": null,
   "id": "d76585fb-2022-44cf-a999-79bc68d1520f",
   "metadata": {},
   "outputs": [
    {
     "name": "stdout",
     "output_type": "stream",
     "text": [
      "find candidates:\n",
      "0.8192322254180908\n",
      "[4.936372491326502e-16]\n",
      "(24, 1)\n",
      "find single bound state:\n",
      "0.0357973575592041\n",
      "0.8568172454833984\n",
      "CPU times: user 853 ms, sys: 11.9 ms, total: 865 ms\n",
      "Wall time: 857 ms\n"
     ]
    }
   ],
   "source": [
    "%%time\n",
    "start = time.time()\n",
    "en, vec = modified_find_boundstates(syst=rectangle,\n",
    "                           min_energy=-0.01,\n",
    "                           max_energy=0.01,\n",
    "                           sparse=True,\n",
    "                           params=params,\n",
    "                           rtol=1e-3\n",
    "                          )\n",
    "end = time.time()\n",
    "print(end-start)"
   ]
  },
  {
   "cell_type": "code",
   "execution_count": null,
   "id": "30425106-5eb3-4ce4-b015-6a0962e90fd9",
   "metadata": {},
   "outputs": [
    {
     "data": {
      "text/plain": [
       "array([4.93637249e-16])"
      ]
     },
     "execution_count": 67,
     "metadata": {},
     "output_type": "execute_result"
    }
   ],
   "source": [
    "en"
   ]
  },
  {
   "cell_type": "code",
   "execution_count": null,
   "id": "bcf7beb6-51a3-4c20-ad07-ad976aff98d7",
   "metadata": {},
   "outputs": [
    {
     "name": "stdout",
     "output_type": "stream",
     "text": [
      "find candidates:\n",
      "1.024994134902954\n",
      "find all bound states:\n",
      "0.019872188568115234\n",
      "find candidates:\n",
      "1.138213872909546\n",
      "find all bound states:\n",
      "0.02057051658630371\n",
      "find candidates:\n",
      "1.111828088760376\n",
      "find all bound states:\n",
      "0.021616697311401367\n",
      "find candidates:\n",
      "1.0652878284454346\n",
      "find all bound states:\n",
      "0.02074122428894043\n",
      "find candidates:\n",
      "1.034635066986084\n",
      "find all bound states:\n",
      "0.020928144454956055\n",
      "find candidates:\n",
      "1.0395622253417969\n",
      "find all bound states:\n",
      "0.021315813064575195\n",
      "find candidates:\n",
      "0.995593786239624\n",
      "find all bound states:\n",
      "0.02057194709777832\n",
      "find candidates:\n",
      "0.984468936920166\n",
      "find all bound states:\n",
      "0.019385337829589844\n",
      "find candidates:\n",
      "0.6085939407348633\n",
      "find all bound states:\n",
      "0.01939225196838379\n",
      "find candidates:\n",
      "0.6207647323608398\n",
      "find all bound states:\n",
      "0.01901102066040039\n",
      "find candidates:\n",
      "0.5905094146728516\n",
      "find all bound states:\n",
      "0.020416259765625\n",
      "find candidates:\n",
      "0.5993986129760742\n",
      "find all bound states:\n",
      "0.01985478401184082\n",
      "find candidates:\n",
      "0.6201491355895996\n",
      "find all bound states:\n",
      "0.019650697708129883\n",
      "find candidates:\n",
      "0.6135580539703369\n",
      "find all bound states:\n",
      "0.020305633544921875\n",
      "find candidates:\n",
      "0.6153860092163086\n",
      "find all bound states:\n",
      "0.019835948944091797\n",
      "find candidates:\n",
      "0.6086564064025879\n",
      "find all bound states:\n",
      "0.01978302001953125\n",
      "find candidates:\n",
      "0.5876481533050537\n",
      "find all bound states:\n",
      "0.019581079483032227\n",
      "find candidates:\n",
      "0.5830092430114746\n",
      "find all bound states:\n",
      "0.02008533477783203\n",
      "find candidates:\n",
      "0.6938560009002686\n",
      "find all bound states:\n",
      "0.022583961486816406\n",
      "find candidates:\n",
      "0.6391777992248535\n",
      "find all bound states:\n",
      "0.019816160202026367\n",
      "CPU times: user 16.1 s, sys: 170 ms, total: 16.3 s\n",
      "Wall time: 16.2 s\n"
     ]
    }
   ],
   "source": [
    "%%time\n",
    "inf_ens = []\n",
    "inf_vecs = []\n",
    "Bs = np.linspace(0, 1, 20)\n",
    "for b in Bs:\n",
    "    params['B_x'] = b\n",
    "    en, vec = find_boundstates(syst=rectangle,\n",
    "                               min_energy=-0.01,\n",
    "                               max_energy=0.01,\n",
    "                               sparse=True,\n",
    "                               params=params,\n",
    "                               rtol=1e-3\n",
    "                              )\n",
    "    inf_ens.append(en)\n",
    "    inf_vecs.append(vec)"
   ]
  },
  {
   "cell_type": "code",
   "execution_count": null,
   "id": "c9fd9480-275e-45ca-a7e0-24a20c6bb2d3",
   "metadata": {},
   "outputs": [
    {
     "name": "stdout",
     "output_type": "stream",
     "text": [
      "find candidates:\n",
      "1.1225850582122803\n",
      "find single bound state:\n",
      "0.019019603729248047\n",
      "find candidates:\n",
      "1.1009838581085205\n",
      "find single bound state:\n",
      "0.02035689353942871\n",
      "find candidates:\n",
      "1.1163110733032227\n",
      "find single bound state:\n",
      "0.020450592041015625\n",
      "find candidates:\n",
      "1.1266343593597412\n",
      "find single bound state:\n",
      "0.021359920501708984\n",
      "find candidates:\n",
      "1.2378087043762207\n",
      "find single bound state:\n",
      "0.02341747283935547\n",
      "find candidates:\n",
      "1.1792187690734863\n",
      "find single bound state:\n",
      "0.021679162979125977\n",
      "find candidates:\n",
      "1.1051535606384277\n",
      "find single bound state:\n",
      "0.021784067153930664\n",
      "find candidates:\n",
      "1.0998156070709229\n",
      "find single bound state:\n",
      "0.021320819854736328\n",
      "find candidates:\n",
      "0.6774439811706543\n",
      "find single bound state:\n",
      "0.02116680145263672\n",
      "find candidates:\n",
      "0.650484561920166\n",
      "find single bound state:\n",
      "0.020355224609375\n",
      "find candidates:\n",
      "0.6207802295684814\n",
      "find single bound state:\n",
      "0.019577741622924805\n",
      "find candidates:\n",
      "0.6129567623138428\n",
      "find single bound state:\n",
      "0.0193173885345459\n",
      "find candidates:\n",
      "0.6237545013427734\n",
      "find single bound state:\n",
      "0.02049565315246582\n",
      "find candidates:\n",
      "0.6176636219024658\n",
      "find single bound state:\n",
      "0.0205230712890625\n",
      "find candidates:\n",
      "0.620619535446167\n",
      "find single bound state:\n",
      "0.020156145095825195\n",
      "find candidates:\n",
      "0.6176321506500244\n",
      "find single bound state:\n",
      "0.019785165786743164\n",
      "find candidates:\n",
      "0.6094732284545898\n",
      "find single bound state:\n",
      "0.019147872924804688\n",
      "find candidates:\n",
      "0.5895862579345703\n",
      "find single bound state:\n",
      "0.018772125244140625\n",
      "find candidates:\n",
      "0.6093442440032959\n",
      "find single bound state:\n",
      "0.018861770629882812\n",
      "find candidates:\n",
      "0.6000838279724121\n",
      "find single bound state:\n",
      "0.019969463348388672\n",
      "CPU times: user 16.9 s, sys: 151 ms, total: 17.1 s\n",
      "Wall time: 17 s\n"
     ]
    }
   ],
   "source": [
    "%%time\n",
    "inf_ens = []\n",
    "inf_vecs = []\n",
    "Bs = np.linspace(0, 1, 20)\n",
    "for b in Bs:\n",
    "    params['B_x'] = b\n",
    "    en, vec = modified_find_boundstates(syst=rectangle,\n",
    "                               min_energy=-0.01,\n",
    "                               max_energy=0.01,\n",
    "                               sparse=True,\n",
    "                               params=params,\n",
    "                               rtol=1e-3\n",
    "                              )\n",
    "    inf_ens.append(en)\n",
    "    inf_vecs.append(vec)"
   ]
  },
  {
   "cell_type": "code",
   "execution_count": null,
   "id": "08059395-53d2-477f-9353-ce65c606b424",
   "metadata": {},
   "outputs": [
    {
     "name": "stderr",
     "output_type": "stream",
     "text": [
      "/tmp/ipykernel_524/149243906.py:1: VisibleDeprecationWarning: Creating an ndarray from ragged nested sequences (which is a list-or-tuple of lists-or-tuples-or ndarrays with different lengths or shapes) is deprecated. If you meant to do this, you must specify 'dtype=object' when creating the ndarray.\n",
      "  w = np.where(np.abs(inf_ens)>0)[0][0]\n",
      "/tmp/ipykernel_524/149243906.py:1: DeprecationWarning: The truth value of an empty array is ambiguous. Returning False, but in future this will result in an error. Use `array.size > 0` to check that an array is not empty.\n",
      "  w = np.where(np.abs(inf_ens)>0)[0][0]\n"
     ]
    }
   ],
   "source": [
    "w = np.where(np.abs(inf_ens)>0)[0][0]"
   ]
  },
  {
   "cell_type": "code",
   "execution_count": null,
   "id": "d6d47625-1f17-4061-9be2-667e4ff9d27d",
   "metadata": {},
   "outputs": [
    {
     "data": {
      "text/plain": [
       "<matplotlib.collections.PathCollection at 0x7f1ea3b61940>"
      ]
     },
     "execution_count": 18,
     "metadata": {},
     "output_type": "execute_result"
    },
    {
     "data": {
      "image/png": "[encoded data removed]",
      "text/plain": [
       "<Figure size 432x288 with 1 Axes>"
      ]
     },
     "metadata": {
      "needs_background": "light"
     },
     "output_type": "display_data"
    }
   ],
   "source": [
    "plt.scatter(Bs[w:], inf_ens[w:])"
   ]
  },
  {
   "cell_type": "code",
   "execution_count": null,
   "id": "ad2e356d-6bce-4acc-8806-86dd97c26f37",
   "metadata": {},
   "outputs": [],
   "source": [
    "density = kwant.operator.Density(rectangle, np.eye(4))"
   ]
  },
  {
   "cell_type": "code",
   "execution_count": null,
   "id": "ac7ab107-b646-4c98-8fef-546d887b255a",
   "metadata": {},
   "outputs": [
    {
     "data": {
      "image/png": "[encoded data removed]",
      "text/plain": [
       "<Figure size 432x288 with 2 Axes>"
      ]
     },
     "metadata": {
      "needs_background": "light"
     },
     "output_type": "display_data"
    },
    {
     "name": "stderr",
     "output_type": "stream",
     "text": [
      "/tmp/ipykernel_849/3048305456.py:1: VisibleDeprecationWarning: Creating an ndarray from ragged nested sequences (which is a list-or-tuple of lists-or-tuples-or ndarrays with different lengths or shapes) is deprecated. If you meant to do this, you must specify 'dtype=object' when creating the ndarray.\n",
      "  kwant.plotter.density(rectangle, density(inf_vecs[w][:, 0]));\n"
     ]
    }
   ],
   "source": [
    "kwant.plotter.density(rectangle, density(inf_vecs[w][:, 0]));"
   ]
  },
  {
   "cell_type": "code",
   "execution_count": null,
   "id": "18681dcd-d8a7-4cab-9d4b-d5c13959a3ac",
   "metadata": {},
   "outputs": [
    {
     "name": "stdout",
     "output_type": "stream",
     "text": [
      "CPU times: user 2.17 s, sys: 85.9 ms, total: 2.25 s\n",
      "Wall time: 2.24 s\n"
     ]
    }
   ],
   "source": [
    "%%time\n",
    "inf_vecs_0 = []\n",
    "for b in Bs:\n",
    "    params['B_x'] = b\n",
    "    vec = extract_boundstates(syst=rectangle,\n",
    "                             energy=0,\n",
    "                             sparse=True,\n",
    "                             params=params\n",
    "                             )\n",
    "    inf_vecs_0.append(vec)"
   ]
  },
  {
   "cell_type": "markdown",
   "id": "a8999e16-470c-4994-afee-902e606c92a6",
   "metadata": {},
   "source": [
    "#### Notes on bound state algorithm:\n",
    "* `fing_boundstates` takes longer when there's no bound state in the system.\n",
    "* `extract_boundstate` is the fastest, but requires providing the energy."
   ]
  },
  {
   "cell_type": "markdown",
   "id": "7717eecd-6038-4c23-ba29-6dc502769c08",
   "metadata": {
    "jp-MarkdownHeadingCollapsed": true,
    "tags": []
   },
   "source": [
    "### Finite system"
   ]
  },
  {
   "cell_type": "code",
   "execution_count": null,
   "id": "c6d72353-efd1-4a3a-a0ad-bc1deb4babc7",
   "metadata": {},
   "outputs": [],
   "source": [
    "params = {\n",
    "    't': 1,\n",
    "    'mu': 0.3,\n",
    "    'alpha': 0.3,\n",
    "    'Delta': 0.3,\n",
    "    'B_x': 0.011\n",
    "}"
   ]
  },
  {
   "cell_type": "code",
   "execution_count": null,
   "id": "bdf397cc-9bcf-4977-9eaf-3b43c64278eb",
   "metadata": {},
   "outputs": [],
   "source": [
    "finite_wire = make_junction(100, 3).finalized()"
   ]
  },
  {
   "cell_type": "code",
   "execution_count": null,
   "id": "20f5bef4-3334-4c46-8fa6-de285ae1b62f",
   "metadata": {},
   "outputs": [
    {
     "data": {
      "image/png": "[encoded data removed]",
      "text/plain": [
       "<Figure size 432x288 with 1 Axes>"
      ]
     },
     "metadata": {
      "needs_background": "light"
     },
     "output_type": "display_data"
    }
   ],
   "source": [
    "kwant.plot(finite_wire);"
   ]
  },
  {
   "cell_type": "code",
   "execution_count": null,
   "id": "dc406146-304d-4cd0-b712-b904e6997fdc",
   "metadata": {},
   "outputs": [
    {
     "name": "stdout",
     "output_type": "stream",
     "text": [
      "CPU times: user 2.68 s, sys: 15 ms, total: 2.7 s\n",
      "Wall time: 2.69 s\n"
     ]
    }
   ],
   "source": [
    "%%time\n",
    "fin_ens = []\n",
    "fin_vecs = []\n",
    "for b in Bs:\n",
    "    params['B_x'] = b\n",
    "    ham = finite_wire.hamiltonian_submatrix(sparse=True, params=params)\n",
    "    val, vec = sort_eigen(sla.eigsh(ham.tocsc(), k=10, sigma=0))\n",
    "    fin_ens.append(val)\n",
    "    fin_vecs.append(vec)"
   ]
  },
  {
   "cell_type": "code",
   "execution_count": null,
   "id": "6bdc738d-a8c3-489c-bd82-cb09efa3a308",
   "metadata": {},
   "outputs": [],
   "source": [
    "fin_ens = np.array(fin_ens)"
   ]
  },
  {
   "cell_type": "code",
   "execution_count": null,
   "id": "6c4df4c6-57e4-4575-8d28-aaaad51e7ed7",
   "metadata": {},
   "outputs": [
    {
     "data": {
      "text/plain": [
       "<matplotlib.legend.Legend at 0x7f47bca50d90>"
      ]
     },
     "execution_count": 244,
     "metadata": {},
     "output_type": "execute_result"
    },
    {
     "data": {
      "image/png": "[encoded data removed]",
      "text/plain": [
       "<Figure size 720x288 with 1 Axes>"
      ]
     },
     "metadata": {
      "needs_background": "light"
     },
     "output_type": "display_data"
    }
   ],
   "source": [
    "fig, ax = plt.subplots(figsize=(10, 4))\n",
    "for level in fin_ens.T:\n",
    "    ax.plot(Bs, level, label='sparse diagonalization', c='orange')\n",
    "#ax.scatter(Bs[w:], inf_ens[w:], label='bound state algorithm')\n",
    "ax.set_ylim(-0.15, 0.15)\n",
    "ax.set_ylabel('$E$')\n",
    "ax.set_xlabel(r'$E_Z$')\n",
    "\n",
    "handles, labels = plt.gca().get_legend_handles_labels()\n",
    "by_label = dict(zip(labels, handles))\n",
    "plt.legend(by_label.values(), by_label.keys(), loc='center left')"
   ]
  },
  {
   "cell_type": "code",
   "execution_count": null,
   "id": "0596a02c-308a-4d39-ac30-782a206c597f",
   "metadata": {},
   "outputs": [],
   "source": [
    "density = kwant.operator.Density(finite_wire, np.eye(4))"
   ]
  },
  {
   "cell_type": "code",
   "execution_count": null,
   "id": "1ad8c094-aac3-48f2-860a-4463117658ce",
   "metadata": {},
   "outputs": [
    {
     "data": {
      "image/png": "[encoded data removed]",
      "text/plain": [
       "<Figure size 432x288 with 2 Axes>"
      ]
     },
     "metadata": {
      "needs_background": "light"
     },
     "output_type": "display_data"
    },
    {
     "name": "stderr",
     "output_type": "stream",
     "text": [
      "/tmp/ipykernel_849/3342805614.py:1: VisibleDeprecationWarning: Creating an ndarray from ragged nested sequences (which is a list-or-tuple of lists-or-tuples-or ndarrays with different lengths or shapes) is deprecated. If you meant to do this, you must specify 'dtype=object' when creating the ndarray.\n",
      "  kwant.plotter.density(finite_wire, density(fin_vecs[50][5]));\n"
     ]
    }
   ],
   "source": [
    "kwant.plotter.density(finite_wire, density(fin_vecs[50][5]));"
   ]
  },
  {
   "cell_type": "markdown",
   "id": "929040a7-2cfd-4e79-9365-251153028e5a",
   "metadata": {},
   "source": [
    "# Circular cavity with two leads"
   ]
  },
  {
   "cell_type": "code",
   "execution_count": null,
   "id": "7c5377f2-145f-4357-9981-e58e7412cf96",
   "metadata": {},
   "outputs": [
    {
     "name": "stderr",
     "output_type": "stream",
     "text": [
      "/opt/conda/lib/python3.9/site-packages/sympy/__init__.py:672: SymPyDeprecationWarning: \n",
      "\n",
      "importing sympy.matrices.matrices with 'from sympy import *' has been\n",
      "deprecated since SymPy 1.6. Use import sympy.matrices.matrices\n",
      "instead. See https://github.com/sympy/sympy/issues/18245 for more\n",
      "info.\n",
      "\n",
      "  self.Warn(\n",
      "/opt/conda/lib/python3.9/site-packages/sympy/__init__.py:672: SymPyDeprecationWarning: \n",
      "\n",
      "importing sympy.matrices.matrices with 'from sympy import *' has been\n",
      "deprecated since SymPy 1.6. Use import sympy.matrices.matrices\n",
      "instead. See https://github.com/sympy/sympy/issues/18245 for more\n",
      "info.\n",
      "\n",
      "  self.Warn(\n"
     ]
    }
   ],
   "source": [
    "cavity_hamiltonian = \"\"\"\n",
    "    ( t * (k_x**2 + k_y**2 ) - mu_cavity) * kron(sigma_0, sigma_z)\n",
    "    + alpha * k_x * kron(sigma_y, sigma_z)\n",
    "    - alpha * k_y * kron(sigma_x, sigma_z)\n",
    "    + B_x * kron(sigma_x, sigma_0)\n",
    "\"\"\"\n",
    "\n",
    "cavity_template = kwant.continuum.discretize(cavity_hamiltonian)"
   ]
  },
  {
   "cell_type": "code",
   "execution_count": null,
   "id": "47f32bc0-decf-42f3-9bb8-e232c27ee531",
   "metadata": {},
   "outputs": [],
   "source": [
    "def circle_shape(r):\n",
    "    def shape(site):\n",
    "        x, y = site.pos\n",
    "        return x**2 + y**2 < r**2\n",
    "    return shape\n",
    "\n",
    "\n",
    "def make_circular_cavity(r):\n",
    "    junction = kwant.Builder()\n",
    "    junction.fill(\n",
    "        cavity_template,\n",
    "        shape=circle_shape(r),\n",
    "        start=[0,0]\n",
    "    )\n",
    "    return junction"
   ]
  },
  {
   "cell_type": "code",
   "execution_count": null,
   "id": "52037730-f0cd-4e1b-9e95-bf7941e21adb",
   "metadata": {},
   "outputs": [],
   "source": [
    "circle = make_circular_cavity(r=14)\n",
    "lead_1 = kwant.Builder(symmetry=kwant.TranslationalSymmetry([-1, 0]))\n",
    "lead_2 = kwant.Builder(symmetry=kwant.TranslationalSymmetry([1, 0]))\n",
    "W = 3\n",
    "x0 = -9\n",
    "y0 = 0\n",
    "lead_1.fill(lead1_template,\n",
    "          shape=lambda site: -W/2 + y0 <= site.pos[1] < W/2 + y0,\n",
    "          start=[x0, y0]);\n",
    "circle.attach_lead(lead_1)\n",
    "lead_2.fill(lead2_template,\n",
    "          shape=lambda site: -W/2 + y0 <= site.pos[1] < W/2 + y0,\n",
    "          start=[x0, y0]);\n",
    "circle.attach_lead(lead_2)\n",
    "circle = circle.finalized()"
   ]
  },
  {
   "cell_type": "code",
   "execution_count": null,
   "id": "dabb4290-af06-4fd8-ad15-95b1d9d58c1f",
   "metadata": {},
   "outputs": [
    {
     "data": {
      "image/png": "[encoded data removed]",
      "text/plain": [
       "<Figure size 432x288 with 1 Axes>"
      ]
     },
     "metadata": {
      "needs_background": "light"
     },
     "output_type": "display_data"
    }
   ],
   "source": [
    "kwant.plot(circle);"
   ]
  },
  {
   "cell_type": "markdown",
   "id": "afe2547c-0e6c-4c6e-a2ac-0af1105b4198",
   "metadata": {},
   "source": [
    "### Cavity eigenstates"
   ]
  },
  {
   "cell_type": "code",
   "execution_count": null,
   "id": "57ef6df3-bf62-45d2-9e12-268d532292a3",
   "metadata": {},
   "outputs": [],
   "source": [
    "params = {\n",
    "    't': 1,\n",
    "    'mu': 0,\n",
    "    'mu_cavity': 0,\n",
    "    'alpha': 0.3,\n",
    "    'Delta': 0.3,\n",
    "    'B_x': 0.5\n",
    "}"
   ]
  },
  {
   "cell_type": "code",
   "execution_count": null,
   "id": "1355fec9-b223-4fb6-b549-c223accf5922",
   "metadata": {},
   "outputs": [
    {
     "name": "stdout",
     "output_type": "stream",
     "text": [
      "CPU times: user 18.1 s, sys: 514 ms, total: 18.6 s\n",
      "Wall time: 18.6 s\n"
     ]
    }
   ],
   "source": [
    "%%time\n",
    "cavity_ens = []\n",
    "cavity_vecs = []\n",
    "mus = np.linspace(-0.6, 1, 300)\n",
    "for b in mus:\n",
    "    params['mu_cavity'] = b\n",
    "    ham = circle.hamiltonian_submatrix(sparse=True, params=params)\n",
    "    val, vec = sort_eigen(sla.eigsh(ham.tocsc(), k=2, sigma=0))\n",
    "    cavity_ens.append(val)\n",
    "    cavity_vecs.append(vec)"
   ]
  },
  {
   "cell_type": "code",
   "execution_count": null,
   "id": "cb6f8413-64a7-4b70-847c-a8a177f35ec0",
   "metadata": {},
   "outputs": [],
   "source": [
    "cavity_ens = np.array(cavity_ens)"
   ]
  },
  {
   "cell_type": "code",
   "execution_count": null,
   "id": "758ec182-d5ec-4295-a9e3-bc2666cc2b21",
   "metadata": {},
   "outputs": [],
   "source": [
    "gs = cavity_ens.T[0]"
   ]
  },
  {
   "cell_type": "code",
   "execution_count": null,
   "id": "a9bd8615-b047-4ff4-83a0-38ea821a658b",
   "metadata": {},
   "outputs": [],
   "source": [
    "peaks = np.where(np.abs(gs) < 2e-3)"
   ]
  },
  {
   "cell_type": "code",
   "execution_count": null,
   "id": "6a81355e-b515-43c7-8647-89d3e6a3befa",
   "metadata": {},
   "outputs": [
    {
     "data": {
      "text/plain": [
       "Text(0.5, 0, '$\\\\mu_c$')"
      ]
     },
     "execution_count": 56,
     "metadata": {},
     "output_type": "execute_result"
    },
    {
     "data": {
      "image/png": "[encoded data removed]",
      "text/plain": [
       "<Figure size 720x288 with 1 Axes>"
      ]
     },
     "metadata": {
      "needs_background": "light"
     },
     "output_type": "display_data"
    }
   ],
   "source": [
    "fig, ax = plt.subplots(figsize=(10, 4))\n",
    "for level in cavity_ens.T:\n",
    "    ax.plot(mus, level)\n",
    "#ax.scatter(Bs[w:], inf_ens[w:], label='bound state algorithm')\n",
    "ax.scatter(mus[peaks], gs[peaks])\n",
    "ax.set_ylim(-0.002, 0.002)\n",
    "ax.set_ylabel('$E$')\n",
    "ax.set_xlabel(r'$\\mu_c$')"
   ]
  },
  {
   "cell_type": "code",
   "execution_count": null,
   "id": "16b998ce-847a-43b2-83f0-6b5a7da89cec",
   "metadata": {},
   "outputs": [],
   "source": []
  },
  {
   "cell_type": "code",
   "execution_count": null,
   "id": "ae507627-2ae7-461e-b004-d1a09ccda8eb",
   "metadata": {},
   "outputs": [],
   "source": []
  },
  {
   "cell_type": "code",
   "execution_count": null,
   "id": "d1df59fd-45c1-4e5b-941e-fded28e0c3a5",
   "metadata": {},
   "outputs": [],
   "source": []
  },
  {
   "cell_type": "markdown",
   "id": "6860945d-2a2a-49f2-9721-0f130e980611",
   "metadata": {},
   "source": [
    "### Majorana states"
   ]
  },
  {
   "cell_type": "code",
   "execution_count": null,
   "id": "bedab35f-837f-4306-999c-6b1703d18e02",
   "metadata": {},
   "outputs": [],
   "source": [
    "solver_B = bound_state_solver(key='B_x')"
   ]
  },
  {
   "cell_type": "code",
   "execution_count": null,
   "id": "faecc4bd-10de-42fb-815a-192994b0f5cf",
   "metadata": {},
   "outputs": [],
   "source": [
    "def wrapper_B(args):\n",
    "    return solver_B(*args)"
   ]
  },
  {
   "cell_type": "code",
   "execution_count": null,
   "id": "80d687eb-6433-4924-afe2-aba59d99a5e3",
   "metadata": {},
   "outputs": [],
   "source": [
    "params = {\n",
    "    't': 1,\n",
    "    'mu': 0.3,\n",
    "    'mu_cavity': 0.4,\n",
    "    'alpha': 0.3,\n",
    "    'Delta': 0.3,\n",
    "    'B_x': 0.5,\n",
    "    'phi': 0\n",
    "}"
   ]
  },
  {
   "cell_type": "code",
   "execution_count": null,
   "id": "160157be-f3b7-4304-9535-2671049db498",
   "metadata": {},
   "outputs": [
    {
     "name": "stdout",
     "output_type": "stream",
     "text": [
      "find candidates:\n",
      "10.4573233127594\n",
      "[-0.06736028999839137, 0.026589723915564956, 0.06736028999841583]\n",
      "(2456, 0)\n",
      "(2460, 1)\n",
      "(2456, 0)\n",
      "find all bound states:\n",
      "0.4147493839263916\n",
      "CPU times: user 10.8 s, sys: 109 ms, total: 10.9 s\n",
      "Wall time: 10.9 s\n"
     ]
    }
   ],
   "source": [
    "%%time\n",
    "en, vec = find_boundstates(syst=circle,\n",
    "                           min_energy=-0.1,\n",
    "                           max_energy=0.1,\n",
    "                           sparse=True,\n",
    "                           params=add_phase(**params),\n",
    "                           rtol=0.05\n",
    "                          )"
   ]
  },
  {
   "cell_type": "code",
   "execution_count": null,
   "id": "5968672a-d144-47f1-a994-9a09274a5a50",
   "metadata": {},
   "outputs": [
    {
     "data": {
      "text/plain": [
       "array([0.02658972])"
      ]
     },
     "execution_count": 15,
     "metadata": {},
     "output_type": "execute_result"
    }
   ],
   "source": [
    "en"
   ]
  },
  {
   "cell_type": "code",
   "execution_count": null,
   "id": "5ca0253a-d751-4146-83fa-6fb93336508d",
   "metadata": {},
   "outputs": [
    {
     "data": {
      "text/plain": [
       "(2436, 1)"
      ]
     },
     "execution_count": 16,
     "metadata": {},
     "output_type": "execute_result"
    }
   ],
   "source": [
    "np.shape(vec)"
   ]
  },
  {
   "cell_type": "code",
   "execution_count": null,
   "id": "296c81ea-36ec-4731-aa50-92e8e1307d96",
   "metadata": {},
   "outputs": [
    {
     "name": "stdout",
     "output_type": "stream",
     "text": [
      "energy intervals\n",
      "-0.0005025125628140698 0.0005025125628140698\n",
      "Time evaluate interval: 0.71785569190979\n",
      "energy intervals\n",
      "0.0005025125628140698 0.0015075376884422093\n",
      "Time evaluate interval: 0.21031856536865234\n",
      "energy intervals\n",
      "-0.0015075376884422093 -0.0005025125628140698\n",
      "Time evaluate interval: 0.20834684371948242\n",
      "energy intervals\n",
      "0.0015075376884422093 0.0025125628140703626\n",
      "Time evaluate interval: 0.18702125549316406\n",
      "energy intervals\n",
      "-0.0025125628140703488 -0.0015075376884422093\n",
      "Time evaluate interval: 0.18886303901672363\n",
      "energy intervals\n",
      "0.0025125628140703626 0.003517587939698502\n",
      "Time evaluate interval: 0.16843867301940918\n",
      "energy intervals\n",
      "-0.0035175879396984883 -0.0025125628140703488\n",
      "Time evaluate interval: 0.17195487022399902\n",
      "energy intervals\n",
      "0.003517587939698502 0.004522613065326642\n",
      "Time evaluate interval: 0.1706535816192627\n",
      "energy intervals\n",
      "-0.004522613065326628 -0.0035175879396984883\n",
      "Time evaluate interval: 0.16577792167663574\n",
      "energy intervals\n",
      "0.004522613065326642 0.005527638190954781\n",
      "Time evaluate interval: 0.1669766902923584\n",
      "energy intervals\n",
      "-0.005527638190954767 -0.004522613065326628\n",
      "Time evaluate interval: 0.16190266609191895\n",
      "energy intervals\n",
      "0.005527638190954781 0.006532663316582921\n",
      "Time evaluate interval: 0.16469049453735352\n",
      "energy intervals\n",
      "-0.006532663316582907 -0.005527638190954767\n",
      "Time evaluate interval: 0.16028714179992676\n",
      "energy intervals\n",
      "0.006532663316582921 0.00753768844221106\n",
      "Time evaluate interval: 0.5633001327514648\n",
      "find candidates:\n",
      "0.5633647441864014\n",
      "[2.0578157233774874e-16, 0.006573524024050121]\n",
      "(2460, 0)\n",
      "(2460, 1)\n",
      "find single bound state:\n",
      "0.23865628242492676\n",
      "CPU times: user 3.65 s, sys: 21.1 ms, total: 3.67 s\n",
      "Wall time: 3.65 s\n"
     ]
    }
   ],
   "source": [
    "%%time\n",
    "en, vec = modified_find_boundstates(syst=circle,\n",
    "                           min_energy=-0.1,\n",
    "                           max_energy=0.1,\n",
    "                           sparse=True,\n",
    "                           params=add_phase(**params),\n",
    "                           rtol= 0.001\n",
    "                          )"
   ]
  },
  {
   "cell_type": "code",
   "execution_count": null,
   "id": "ca1c9cb3-6f8a-4caa-a486-69ae8d9af595",
   "metadata": {},
   "outputs": [
    {
     "data": {
      "text/plain": [
       "array([0.00657352])"
      ]
     },
     "execution_count": 46,
     "metadata": {},
     "output_type": "execute_result"
    }
   ],
   "source": [
    "en"
   ]
  },
  {
   "cell_type": "code",
   "execution_count": null,
   "id": "ad981675-8902-4b6a-8e69-59a96bd0a246",
   "metadata": {},
   "outputs": [],
   "source": []
  },
  {
   "cell_type": "code",
   "execution_count": null,
   "id": "e4a7c7a7-1ab1-4034-bda7-ae37f93f1122",
   "metadata": {},
   "outputs": [
    {
     "data": {
      "text/plain": [
       "(2436, 1)"
      ]
     },
     "execution_count": 102,
     "metadata": {},
     "output_type": "execute_result"
    }
   ],
   "source": [
    "np.shape(vec)"
   ]
  },
  {
   "cell_type": "code",
   "execution_count": null,
   "id": "f53618a6-d4dd-47c4-abfd-1224d17589b6",
   "metadata": {},
   "outputs": [],
   "source": []
  },
  {
   "cell_type": "code",
   "execution_count": null,
   "id": "5d2c87f6-7578-4b32-9cbc-1b6a0f956df3",
   "metadata": {},
   "outputs": [],
   "source": []
  },
  {
   "cell_type": "code",
   "execution_count": null,
   "id": "50263435-ef7b-4de5-b1d0-a20fcc6ea67a",
   "metadata": {},
   "outputs": [],
   "source": []
  },
  {
   "cell_type": "code",
   "execution_count": null,
   "id": "8dc0e7df-ef32-4977-bd0f-ec1825c0ef96",
   "metadata": {},
   "outputs": [],
   "source": [
    "Bs = np.linspace(0, 1, 40)\n",
    "args = list(it.product([circle], Bs, [params]))"
   ]
  },
  {
   "cell_type": "code",
   "execution_count": null,
   "id": "91f201fa-fe58-4f5c-942e-af10b68b1e51",
   "metadata": {},
   "outputs": [
    {
     "name": "stdout",
     "output_type": "stream",
     "text": [
      "CPU times: user 4.17 s, sys: 46.1 ms, total: 4.22 s\n",
      "Wall time: 2min 9s\n"
     ]
    }
   ],
   "source": [
    "%%time\n",
    "args_db = db.from_sequence(args, npartitions=20)\n",
    "result = args_db.map(wrapper_B).compute()"
   ]
  },
  {
   "cell_type": "code",
   "execution_count": null,
   "id": "cd4bf2c1-76d9-43ca-a4e7-fa93f5e66143",
   "metadata": {},
   "outputs": [],
   "source": [
    "energies, non_zero_Bs, states = extract_data_bound_states(data=result, mus=Bs)"
   ]
  },
  {
   "cell_type": "code",
   "execution_count": null,
   "id": "3fd0acad-57d2-4702-91d6-d6825aedc1b6",
   "metadata": {},
   "outputs": [
    {
     "data": {
      "text/plain": [
       "<matplotlib.legend.Legend at 0x7f46e6b27fa0>"
      ]
     },
     "execution_count": 73,
     "metadata": {},
     "output_type": "execute_result"
    },
    {
     "data": {
      "image/png": "[encoded data removed]",
      "text/plain": [
       "<Figure size 720x288 with 1 Axes>"
      ]
     },
     "metadata": {
      "needs_background": "light"
     },
     "output_type": "display_data"
    }
   ],
   "source": [
    "fig, ax = plt.subplots(figsize=(10, 4))\n",
    "#for level in fin_ens.T:\n",
    " #   ax.plot(Bs, level, label='sparse diagonalization', c='orange')\n",
    "ax.scatter(non_zero_Bs[0], energies[0], label='bound state algorithm')\n",
    "ax.set_ylim(-0.15, 0.15)\n",
    "ax.set_ylabel('$E$')\n",
    "ax.set_xlabel(r'$E_Z$')\n",
    "\n",
    "handles, labels = plt.gca().get_legend_handles_labels()\n",
    "by_label = dict(zip(labels, handles))\n",
    "plt.legend(by_label.values(), by_label.keys(), loc='upper left')"
   ]
  },
  {
   "cell_type": "code",
   "execution_count": null,
   "id": "11054ebe-2fad-40b2-811e-c23b3e8d6274",
   "metadata": {},
   "outputs": [],
   "source": []
  },
  {
   "cell_type": "code",
   "execution_count": null,
   "id": "5f538798-0145-40ec-8d4a-03284f7ac01a",
   "metadata": {},
   "outputs": [
    {
     "name": "stdout",
     "output_type": "stream",
     "text": [
      "find candidates:\n",
      "17.19994854927063\n",
      "find all bound states:\n",
      "0.21126985549926758\n",
      "17.41223645210266\n",
      "CPU times: user 17.2 s, sys: 233 ms, total: 17.4 s\n",
      "Wall time: 17.4 s\n"
     ]
    }
   ],
   "source": [
    "%%time\n",
    "start = time.time()\n",
    "en, vec = find_boundstates(syst=circle,\n",
    "                           min_energy=-0.02,\n",
    "                           max_energy=0.02,\n",
    "                           sparse=True,\n",
    "                           params=add_phase(**params),\n",
    "                           rtol=1e-3\n",
    "                          )\n",
    "end = time.time()\n",
    "print(end-start)"
   ]
  },
  {
   "cell_type": "code",
   "execution_count": null,
   "id": "d7fa22da-d192-4889-8335-df927747da62",
   "metadata": {},
   "outputs": [
    {
     "data": {
      "text/plain": [
       "array([], shape=(2436, 0), dtype=float64)"
      ]
     },
     "execution_count": 23,
     "metadata": {},
     "output_type": "execute_result"
    }
   ],
   "source": [
    "vec"
   ]
  },
  {
   "cell_type": "code",
   "execution_count": null,
   "id": "23698371-3769-4653-a1db-c03b3d630f7c",
   "metadata": {},
   "outputs": [
    {
     "name": "stdout",
     "output_type": "stream",
     "text": [
      "find candidates:\n",
      "10.790743350982666\n",
      "[-1.9607819416693412e-12]\n",
      "(2460, 0)\n",
      "find single bound state:\n",
      "0.2193131446838379\n",
      "11.011169910430908\n",
      "CPU times: user 10.9 s, sys: 129 ms, total: 11 s\n",
      "Wall time: 11 s\n"
     ]
    }
   ],
   "source": [
    "%%time\n",
    "start = time.time()\n",
    "en, vec = modified_find_boundstates(syst=circle,\n",
    "                           min_energy=-0.01,\n",
    "                           max_energy=0.01,\n",
    "                           sparse=True,\n",
    "                           params=add_phase(**params),\n",
    "                           rtol=1e-3\n",
    "                          )\n",
    "end = time.time()\n",
    "print(end-start)"
   ]
  },
  {
   "cell_type": "code",
   "execution_count": null,
   "id": "c343e869-fb45-4cea-a7fe-4c6a258a346c",
   "metadata": {},
   "outputs": [
    {
     "name": "stdout",
     "output_type": "stream",
     "text": [
      "find candidates:\n",
      "11.603806972503662\n",
      "find all bound states:\n",
      "0.1870558261871338\n",
      "find candidates:\n",
      "11.154029846191406\n",
      "find all bound states:\n",
      "0.18995451927185059\n"
     ]
    },
    {
     "ename": "KeyboardInterrupt",
     "evalue": "",
     "output_type": "error",
     "traceback": [
      "\u001b[0;31m---------------------------------------------------------------------------\u001b[0m",
      "\u001b[0;31mKeyboardInterrupt\u001b[0m                         Traceback (most recent call last)",
      "\u001b[0;32m<timed exec>\u001b[0m in \u001b[0;36m<module>\u001b[0;34m\u001b[0m\n",
      "\u001b[0;32m~/trijunction-design/analysis/ccode/boundstate.py\u001b[0m in \u001b[0;36mfind_boundstates\u001b[0;34m(syst, min_energy, max_energy, params, sparse, check_hermiticity, rtol)\u001b[0m\n\u001b[1;32m    141\u001b[0m     \u001b[0mstart\u001b[0m \u001b[0;34m=\u001b[0m \u001b[0mtime\u001b[0m\u001b[0;34m.\u001b[0m\u001b[0mtime\u001b[0m\u001b[0;34m(\u001b[0m\u001b[0;34m)\u001b[0m\u001b[0;34m\u001b[0m\u001b[0;34m\u001b[0m\u001b[0m\n\u001b[1;32m    142\u001b[0m     \u001b[0;32mfor\u001b[0m \u001b[0ma\u001b[0m\u001b[0;34m,\u001b[0m \u001b[0mb\u001b[0m \u001b[0;32min\u001b[0m \u001b[0mintervals\u001b[0m\u001b[0;34m:\u001b[0m\u001b[0;34m\u001b[0m\u001b[0;34m\u001b[0m\u001b[0m\n\u001b[0;32m--> 143\u001b[0;31m         \u001b[0;32mif\u001b[0m \u001b[0mnp\u001b[0m\u001b[0;34m.\u001b[0m\u001b[0msign\u001b[0m\u001b[0;34m(\u001b[0m\u001b[0mmin_eigenvalue\u001b[0m\u001b[0;34m(\u001b[0m\u001b[0ma\u001b[0m\u001b[0;34m)\u001b[0m\u001b[0;34m)\u001b[0m \u001b[0;34m!=\u001b[0m \u001b[0mnp\u001b[0m\u001b[0;34m.\u001b[0m\u001b[0msign\u001b[0m\u001b[0;34m(\u001b[0m\u001b[0mmin_eigenvalue\u001b[0m\u001b[0;34m(\u001b[0m\u001b[0mb\u001b[0m\u001b[0;34m)\u001b[0m\u001b[0;34m)\u001b[0m\u001b[0;34m:\u001b[0m\u001b[0;34m\u001b[0m\u001b[0;34m\u001b[0m\u001b[0m\n\u001b[0m\u001b[1;32m    144\u001b[0m             \u001b[0mcandidate\u001b[0m \u001b[0;34m=\u001b[0m \u001b[0mscipy\u001b[0m\u001b[0;34m.\u001b[0m\u001b[0moptimize\u001b[0m\u001b[0;34m.\u001b[0m\u001b[0mbrentq\u001b[0m\u001b[0;34m(\u001b[0m\u001b[0mmin_eigenvalue\u001b[0m\u001b[0;34m,\u001b[0m \u001b[0ma\u001b[0m\u001b[0;34m,\u001b[0m \u001b[0mb\u001b[0m\u001b[0;34m)\u001b[0m\u001b[0;34m\u001b[0m\u001b[0;34m\u001b[0m\u001b[0m\n\u001b[1;32m    145\u001b[0m             \u001b[0mcandidates\u001b[0m\u001b[0;34m.\u001b[0m\u001b[0mappend\u001b[0m\u001b[0;34m(\u001b[0m\u001b[0mcandidate\u001b[0m\u001b[0;34m)\u001b[0m\u001b[0;34m\u001b[0m\u001b[0;34m\u001b[0m\u001b[0m\n",
      "\u001b[0;32m~/trijunction-design/analysis/ccode/boundstate.py\u001b[0m in \u001b[0;36mmin_eigenvalue\u001b[0;34m(energy)\u001b[0m\n\u001b[1;32m    113\u001b[0m                         \u001b[0;34m\"Try setting 'sparse=False'.\"\u001b[0m\u001b[0;34m\u001b[0m\u001b[0;34m\u001b[0m\u001b[0m\n\u001b[1;32m    114\u001b[0m                     )\n\u001b[0;32m--> 115\u001b[0;31m                 vals = sparse_diag(\n\u001b[0m\u001b[1;32m    116\u001b[0m                     \u001b[0mH_eff\u001b[0m\u001b[0;34m.\u001b[0m\u001b[0mtocsc\u001b[0m\u001b[0;34m(\u001b[0m\u001b[0;34m)\u001b[0m\u001b[0;34m,\u001b[0m \u001b[0mk\u001b[0m\u001b[0;34m=\u001b[0m\u001b[0;36m1\u001b[0m\u001b[0;34m,\u001b[0m \u001b[0msigma\u001b[0m\u001b[0;34m=\u001b[0m\u001b[0;36m0\u001b[0m\u001b[0;34m,\u001b[0m \u001b[0mwhich\u001b[0m\u001b[0;34m=\u001b[0m\u001b[0;34m\"LM\"\u001b[0m\u001b[0;34m,\u001b[0m \u001b[0mreturn_eigenvectors\u001b[0m\u001b[0;34m=\u001b[0m\u001b[0;32mFalse\u001b[0m\u001b[0;34m\u001b[0m\u001b[0;34m\u001b[0m\u001b[0m\n\u001b[1;32m    117\u001b[0m                 )\n",
      "\u001b[0;32m~/trijunction-design/analysis/ccode/boundstate.py\u001b[0m in \u001b[0;36msparse_diag\u001b[0;34m(matrix, k, sigma, **kwargs)\u001b[0m\n\u001b[1;32m     56\u001b[0m         \u001b[0;32melse\u001b[0m\u001b[0;34m:\u001b[0m\u001b[0;34m\u001b[0m\u001b[0;34m\u001b[0m\u001b[0m\n\u001b[1;32m     57\u001b[0m             \u001b[0mshifted_matrix\u001b[0m \u001b[0;34m=\u001b[0m \u001b[0mmatrix\u001b[0m \u001b[0;34m-\u001b[0m \u001b[0msigma\u001b[0m \u001b[0;34m*\u001b[0m \u001b[0msp\u001b[0m\u001b[0;34m.\u001b[0m\u001b[0midentity\u001b[0m\u001b[0;34m(\u001b[0m\u001b[0mmatrix\u001b[0m\u001b[0;34m.\u001b[0m\u001b[0mshape\u001b[0m\u001b[0;34m[\u001b[0m\u001b[0;36m0\u001b[0m\u001b[0;34m]\u001b[0m\u001b[0;34m)\u001b[0m\u001b[0;34m\u001b[0m\u001b[0;34m\u001b[0m\u001b[0m\n\u001b[0;32m---> 58\u001b[0;31m         return sp.linalg.eigsh(matrix, k, sigma=sigma, OPinv=_LuInv(shifted_matrix),\n\u001b[0m\u001b[1;32m     59\u001b[0m                                **kwargs)\n\u001b[1;32m     60\u001b[0m \u001b[0;34m\u001b[0m\u001b[0m\n",
      "\u001b[0;32m/opt/conda/lib/python3.9/site-packages/scipy/sparse/linalg/eigen/arpack/arpack.py\u001b[0m in \u001b[0;36meigsh\u001b[0;34m(A, k, M, sigma, which, v0, ncv, maxiter, tol, return_eigenvectors, Minv, OPinv, mode)\u001b[0m\n\u001b[1;32m   1565\u001b[0m         \u001b[0;32melif\u001b[0m \u001b[0mwhich\u001b[0m \u001b[0;34m==\u001b[0m \u001b[0;34m'SA'\u001b[0m\u001b[0;34m:\u001b[0m\u001b[0;34m\u001b[0m\u001b[0;34m\u001b[0m\u001b[0m\n\u001b[1;32m   1566\u001b[0m             \u001b[0mwhich\u001b[0m \u001b[0;34m=\u001b[0m \u001b[0;34m'SR'\u001b[0m\u001b[0;34m\u001b[0m\u001b[0;34m\u001b[0m\u001b[0m\n\u001b[0;32m-> 1567\u001b[0;31m         ret = eigs(A, k, M=M, sigma=sigma, which=which, v0=v0,\n\u001b[0m\u001b[1;32m   1568\u001b[0m                    \u001b[0mncv\u001b[0m\u001b[0;34m=\u001b[0m\u001b[0mncv\u001b[0m\u001b[0;34m,\u001b[0m \u001b[0mmaxiter\u001b[0m\u001b[0;34m=\u001b[0m\u001b[0mmaxiter\u001b[0m\u001b[0;34m,\u001b[0m \u001b[0mtol\u001b[0m\u001b[0;34m=\u001b[0m\u001b[0mtol\u001b[0m\u001b[0;34m,\u001b[0m\u001b[0;34m\u001b[0m\u001b[0;34m\u001b[0m\u001b[0m\n\u001b[1;32m   1569\u001b[0m                    \u001b[0mreturn_eigenvectors\u001b[0m\u001b[0;34m=\u001b[0m\u001b[0mreturn_eigenvectors\u001b[0m\u001b[0;34m,\u001b[0m \u001b[0mMinv\u001b[0m\u001b[0;34m=\u001b[0m\u001b[0mMinv\u001b[0m\u001b[0;34m,\u001b[0m\u001b[0;34m\u001b[0m\u001b[0;34m\u001b[0m\u001b[0m\n",
      "\u001b[0;32m/opt/conda/lib/python3.9/site-packages/scipy/sparse/linalg/eigen/arpack/arpack.py\u001b[0m in \u001b[0;36meigs\u001b[0;34m(A, k, M, sigma, which, v0, ncv, maxiter, tol, return_eigenvectors, Minv, OPinv, OPpart)\u001b[0m\n\u001b[1;32m   1344\u001b[0m     \u001b[0;32mwith\u001b[0m \u001b[0m_ARPACK_LOCK\u001b[0m\u001b[0;34m:\u001b[0m\u001b[0;34m\u001b[0m\u001b[0;34m\u001b[0m\u001b[0m\n\u001b[1;32m   1345\u001b[0m         \u001b[0;32mwhile\u001b[0m \u001b[0;32mnot\u001b[0m \u001b[0mparams\u001b[0m\u001b[0;34m.\u001b[0m\u001b[0mconverged\u001b[0m\u001b[0;34m:\u001b[0m\u001b[0;34m\u001b[0m\u001b[0;34m\u001b[0m\u001b[0m\n\u001b[0;32m-> 1346\u001b[0;31m             \u001b[0mparams\u001b[0m\u001b[0;34m.\u001b[0m\u001b[0miterate\u001b[0m\u001b[0;34m(\u001b[0m\u001b[0;34m)\u001b[0m\u001b[0;34m\u001b[0m\u001b[0;34m\u001b[0m\u001b[0m\n\u001b[0m\u001b[1;32m   1347\u001b[0m \u001b[0;34m\u001b[0m\u001b[0m\n\u001b[1;32m   1348\u001b[0m         \u001b[0;32mreturn\u001b[0m \u001b[0mparams\u001b[0m\u001b[0;34m.\u001b[0m\u001b[0mextract\u001b[0m\u001b[0;34m(\u001b[0m\u001b[0mreturn_eigenvectors\u001b[0m\u001b[0;34m)\u001b[0m\u001b[0;34m\u001b[0m\u001b[0;34m\u001b[0m\u001b[0m\n",
      "\u001b[0;32m/opt/conda/lib/python3.9/site-packages/scipy/sparse/linalg/eigen/arpack/arpack.py\u001b[0m in \u001b[0;36miterate\u001b[0;34m(self)\u001b[0m\n\u001b[1;32m    727\u001b[0m         \u001b[0;32melse\u001b[0m\u001b[0;34m:\u001b[0m\u001b[0;34m\u001b[0m\u001b[0;34m\u001b[0m\u001b[0m\n\u001b[1;32m    728\u001b[0m             \u001b[0mself\u001b[0m\u001b[0;34m.\u001b[0m\u001b[0mido\u001b[0m\u001b[0;34m,\u001b[0m \u001b[0mself\u001b[0m\u001b[0;34m.\u001b[0m\u001b[0mtol\u001b[0m\u001b[0;34m,\u001b[0m \u001b[0mself\u001b[0m\u001b[0;34m.\u001b[0m\u001b[0mresid\u001b[0m\u001b[0;34m,\u001b[0m \u001b[0mself\u001b[0m\u001b[0;34m.\u001b[0m\u001b[0mv\u001b[0m\u001b[0;34m,\u001b[0m \u001b[0mself\u001b[0m\u001b[0;34m.\u001b[0m\u001b[0miparam\u001b[0m\u001b[0;34m,\u001b[0m \u001b[0mself\u001b[0m\u001b[0;34m.\u001b[0m\u001b[0mipntr\u001b[0m\u001b[0;34m,\u001b[0m \u001b[0mself\u001b[0m\u001b[0;34m.\u001b[0m\u001b[0minfo\u001b[0m \u001b[0;34m=\u001b[0m\u001b[0;31m\\\u001b[0m\u001b[0;34m\u001b[0m\u001b[0;34m\u001b[0m\u001b[0m\n\u001b[0;32m--> 729\u001b[0;31m                 self._arpack_solver(self.ido, self.bmat, self.which, self.k,\n\u001b[0m\u001b[1;32m    730\u001b[0m                                     \u001b[0mself\u001b[0m\u001b[0;34m.\u001b[0m\u001b[0mtol\u001b[0m\u001b[0;34m,\u001b[0m \u001b[0mself\u001b[0m\u001b[0;34m.\u001b[0m\u001b[0mresid\u001b[0m\u001b[0;34m,\u001b[0m \u001b[0mself\u001b[0m\u001b[0;34m.\u001b[0m\u001b[0mv\u001b[0m\u001b[0;34m,\u001b[0m \u001b[0mself\u001b[0m\u001b[0;34m.\u001b[0m\u001b[0miparam\u001b[0m\u001b[0;34m,\u001b[0m\u001b[0;34m\u001b[0m\u001b[0;34m\u001b[0m\u001b[0m\n\u001b[1;32m    731\u001b[0m                                     \u001b[0mself\u001b[0m\u001b[0;34m.\u001b[0m\u001b[0mipntr\u001b[0m\u001b[0;34m,\u001b[0m \u001b[0mself\u001b[0m\u001b[0;34m.\u001b[0m\u001b[0mworkd\u001b[0m\u001b[0;34m,\u001b[0m \u001b[0mself\u001b[0m\u001b[0;34m.\u001b[0m\u001b[0mworkl\u001b[0m\u001b[0;34m,\u001b[0m\u001b[0;34m\u001b[0m\u001b[0;34m\u001b[0m\u001b[0m\n",
      "\u001b[0;31mKeyboardInterrupt\u001b[0m: "
     ]
    }
   ],
   "source": [
    "%%time\n",
    "inf_ens = []\n",
    "inf_vecs = []\n",
    "Bs = np.linspace(0, 1, 20)\n",
    "for b in Bs:\n",
    "    params['B_x'] = b\n",
    "    en, vec = find_boundstates(syst=circle,\n",
    "                               min_energy=-0.01,\n",
    "                               max_energy=0.01,\n",
    "                               sparse=True,\n",
    "                               params=add_phase(**params),\n",
    "                               rtol=1e-3\n",
    "                              )\n",
    "    inf_ens.append(en)\n",
    "    inf_vecs.append(vec)"
   ]
  },
  {
   "cell_type": "code",
   "execution_count": null,
   "id": "ae3d252a-6b7f-43f7-ba8d-dd6c4af3226d",
   "metadata": {},
   "outputs": [],
   "source": []
  },
  {
   "cell_type": "code",
   "execution_count": null,
   "id": "ac18da0f-07fe-4c46-a623-59ebada536b4",
   "metadata": {},
   "outputs": [],
   "source": []
  },
  {
   "cell_type": "code",
   "execution_count": null,
   "id": "b519aa0f-c5dd-4c7e-b370-1e5df4e411e7",
   "metadata": {},
   "outputs": [],
   "source": []
  },
  {
   "cell_type": "markdown",
   "id": "a18c5366-2499-4beb-97d0-bc8696116126",
   "metadata": {},
   "source": [
    "### Superconducting phase dependence"
   ]
  },
  {
   "cell_type": "code",
   "execution_count": null,
   "id": "8a760551-cff2-47a6-90b7-ebecaed035ab",
   "metadata": {},
   "outputs": [],
   "source": [
    "solver_phi = bound_state_solver(key='phi')"
   ]
  },
  {
   "cell_type": "code",
   "execution_count": null,
   "id": "8636a8d4-f34c-4c31-9f9c-3bce54c1fc0a",
   "metadata": {},
   "outputs": [],
   "source": [
    "def wrapper_phi(args):\n",
    "    return solver_phi(*args)"
   ]
  },
  {
   "cell_type": "code",
   "execution_count": null,
   "id": "7a7a9ef9-ed1f-4eab-a73a-efcb84bbe0bb",
   "metadata": {},
   "outputs": [],
   "source": [
    "params = {\n",
    "    't': 1,\n",
    "    'mu': 0.3,\n",
    "    'mu_cavity': 0,\n",
    "    'alpha': 0.3,\n",
    "    'Delta': 0.3,\n",
    "    'B_x': 0.5,\n",
    "    'phi': 0\n",
    "}"
   ]
  },
  {
   "cell_type": "code",
   "execution_count": null,
   "id": "a6c71ada-3ccf-4e46-9592-a6cf833bef4c",
   "metadata": {},
   "outputs": [],
   "source": [
    "phis = np.linspace(0, 2*np.pi, 50)\n",
    "args = list(it.product([circle], phis, [params]))"
   ]
  },
  {
   "cell_type": "code",
   "execution_count": null,
   "id": "e5ade995-265a-47cd-a1be-e01df2b779f8",
   "metadata": {},
   "outputs": [],
   "source": [
    "params_replaced = []\n",
    "for phi in phis:\n",
    "    params.update(phi=phi)\n",
    "    params_replaced.append(add_phase(**params))"
   ]
  },
  {
   "cell_type": "code",
   "execution_count": null,
   "id": "2fbddb06-f859-4586-8229-8ef6c87a6148",
   "metadata": {},
   "outputs": [
    {
     "name": "stdout",
     "output_type": "stream",
     "text": [
      "CPU times: user 5.01 s, sys: 72.1 ms, total: 5.08 s\n",
      "Wall time: 1min 55s\n"
     ]
    }
   ],
   "source": [
    "%%time\n",
    "args_db = db.from_sequence(args, npartitions=20)\n",
    "result = args_db.map(wrapper_phi).compute()"
   ]
  },
  {
   "cell_type": "code",
   "execution_count": null,
   "id": "86a585f2-5a48-405d-b85c-6484cd1582f9",
   "metadata": {},
   "outputs": [],
   "source": [
    "energies_phi, non_zero_phi, states = extract_data_bound_states(data=result, mus=phis)"
   ]
  },
  {
   "cell_type": "code",
   "execution_count": null,
   "id": "7e25abc6-ad64-4c9c-98a5-9b5815f7bca9",
   "metadata": {},
   "outputs": [
    {
     "data": {
      "text/plain": [
       "<matplotlib.legend.Legend at 0x7f46e65e1640>"
      ]
     },
     "execution_count": 262,
     "metadata": {},
     "output_type": "execute_result"
    },
    {
     "data": {
      "image/png": "[encoded data removed]",
      "text/plain": [
       "<Figure size 720x288 with 1 Axes>"
      ]
     },
     "metadata": {
      "needs_background": "light"
     },
     "output_type": "display_data"
    }
   ],
   "source": [
    "fig, ax = plt.subplots(figsize=(10, 4))\n",
    "#for level in fin_ens.T:\n",
    " #   ax.plot(Bs, level, label='sparse diagonalization', c='orange')\n",
    "ax.scatter(non_zero_phi[0], energies_phi[0], label='bound state algorithm')\n",
    "\n",
    "ax.set_ylabel('$E$')\n",
    "ax.set_xlabel(r'$E_Z$')\n",
    "\n",
    "handles, labels = plt.gca().get_legend_handles_labels()\n",
    "by_label = dict(zip(labels, handles))\n",
    "plt.legend(by_label.values(), by_label.keys(), loc='upper left')\n"
   ]
  },
  {
   "cell_type": "markdown",
   "id": "fe501bfa-387c-4684-bb66-a2ba307f6fd4",
   "metadata": {},
   "source": [
    "#### Finite system"
   ]
  },
  {
   "cell_type": "code",
   "execution_count": null,
   "id": "16532730-6bd3-420c-9276-0ecea7918b2a",
   "metadata": {},
   "outputs": [
    {
     "name": "stderr",
     "output_type": "stream",
     "text": [
      "/opt/conda/lib/python3.9/site-packages/sympy/__init__.py:672: SymPyDeprecationWarning: \n",
      "\n",
      "importing sympy.matrices.matrices with 'from sympy import *' has been\n",
      "deprecated since SymPy 1.6. Use import sympy.matrices.matrices\n",
      "instead. See https://github.com/sympy/sympy/issues/18245 for more\n",
      "info.\n",
      "\n",
      "  self.Warn(\n",
      "/opt/conda/lib/python3.9/site-packages/sympy/__init__.py:672: SymPyDeprecationWarning: \n",
      "\n",
      "importing sympy.matrices.matrices with 'from sympy import *' has been\n",
      "deprecated since SymPy 1.6. Use import sympy.matrices.matrices\n",
      "instead. See https://github.com/sympy/sympy/issues/18245 for more\n",
      "info.\n",
      "\n",
      "  self.Warn(\n"
     ]
    }
   ],
   "source": [
    "# Hamiltonian of the system\n",
    "hamiltonian = \"\"\"\n",
    "    ( t * (k_x**2 + k_y**2 ) - mu(x,y)) * kron(sigma_0, sigma_z)\n",
    "    + alpha * k_x * kron(sigma_y, sigma_z)\n",
    "    - alpha * k_y * kron(sigma_x, sigma_z)\n",
    "    + Delta_re(x,y) * kron(sigma_0, sigma_x)\n",
    "    + Delta_im(x,y) * kron(sigma_0, sigma_y)\n",
    "    + B_x * kron(sigma_x, sigma_0)\n",
    "\"\"\"\n",
    "a = 1\n",
    "template = kwant.continuum.discretize(hamiltonian)\n",
    "\n",
    "\n",
    "def circle_junction_shape(r, l, w):\n",
    "    def shape(site):\n",
    "        x, y = site.pos\n",
    "        return x**2 + y**2 < r**2 or np.abs(x) < l + r and np.abs(y) < w/2\n",
    "    return shape\n",
    "\n",
    "\n",
    "def make_circular_junction(r, l, w):\n",
    "    junction = kwant.Builder()\n",
    "    junction.fill(\n",
    "        template,\n",
    "        shape=circle_junction_shape(r, l, w),\n",
    "        start=[0, 0]\n",
    "    )\n",
    "    return junction\n",
    "\n",
    "\n",
    "def shape_wires_circle(r, mu_circle, mu_wires):\n",
    "    def shape(x, y):\n",
    "        if x**2 + y**2 < r**2:\n",
    "            return mu_circle\n",
    "        else:\n",
    "            return mu_wires\n",
    "    return shape\n",
    "\n",
    "\n",
    "def superconducting_phase(r, Delta, phi):\n",
    "\n",
    "    def real_phase(x, y):\n",
    "        if x < -r:\n",
    "            return Delta*np.cos(phi)\n",
    "        elif x > r:\n",
    "            return Delta\n",
    "        else:\n",
    "            return 0\n",
    "\n",
    "    def imaginary_phase(x, y):\n",
    "        if x < -r:\n",
    "            return Delta*np.sin(phi)\n",
    "        else:\n",
    "            return 0\n",
    "\n",
    "    return real_phase, imaginary_phase\n",
    "\n",
    "\n",
    "def f_params_circular_junction(r, **parameters):\n",
    "    #print(parameters)\n",
    "    params = parameters.copy()\n",
    "    mu_circle = params.pop('mu_cavity')\n",
    "    mu_wires = params.pop('mu_wires')\n",
    "    Delta = params['Delta']\n",
    "    phi = params.pop('phi')\n",
    "    Delta_re, Delta_im = superconducting_phase(r, Delta, phi)\n",
    "    params.update(Delta_re=Delta_re)\n",
    "    params.update(Delta_im=Delta_im)\n",
    "\n",
    "    params.update(mu=shape_wires_circle(r=r,\n",
    "                                        mu_circle=mu_circle,\n",
    "                                        mu_wires=mu_wires))\n",
    "\n",
    "\n",
    "    return params"
   ]
  },
  {
   "cell_type": "code",
   "execution_count": null,
   "id": "d47ee798-1719-42a3-8c6b-58048a62be57",
   "metadata": {},
   "outputs": [
    {
     "data": {
      "text/plain": [
       "{'t': 1,\n",
       " 'alpha': 0.3,\n",
       " 'Delta': 0.3,\n",
       " 'B_x': 0.5,\n",
       " 'Delta_re': <function __main__.superconducting_phase.<locals>.real_phase(x, y)>,\n",
       " 'Delta_im': <function __main__.superconducting_phase.<locals>.imaginary_phase(x, y)>,\n",
       " 'mu': <function __main__.shape_wires_circle.<locals>.shape(x, y)>}"
      ]
     },
     "execution_count": 57,
     "metadata": {},
     "output_type": "execute_result"
    }
   ],
   "source": [
    "f_params_circular_junction(14, **params)"
   ]
  },
  {
   "cell_type": "code",
   "execution_count": null,
   "id": "3167a6b6-e9b1-4a32-ae5d-617f6524e961",
   "metadata": {},
   "outputs": [],
   "source": [
    "j = make_circular_junction(r=14, l=200, w=3).finalized()"
   ]
  },
  {
   "cell_type": "code",
   "execution_count": null,
   "id": "d2769911-a55e-41b7-b8f0-15c2df4a7b4a",
   "metadata": {},
   "outputs": [
    {
     "data": {
      "image/png": "[encoded data removed]",
      "text/plain": [
       "<Figure size 432x288 with 1 Axes>"
      ]
     },
     "metadata": {
      "needs_background": "light"
     },
     "output_type": "display_data"
    }
   ],
   "source": [
    "kwant.plot(j);"
   ]
  },
  {
   "cell_type": "code",
   "execution_count": null,
   "id": "d4d5a054-e14e-4136-b484-f4de8995a94f",
   "metadata": {},
   "outputs": [],
   "source": [
    "params = {\n",
    "    't': 1,\n",
    "    'mu_wires': 0.3,\n",
    "    'mu_cavity': 0,\n",
    "    'alpha': 0.3,\n",
    "    'Delta': 0.3,\n",
    "    'B_x': 0.5,\n",
    "    'phi': 0\n",
    "}"
   ]
  },
  {
   "cell_type": "code",
   "execution_count": null,
   "id": "bdbd0d10-9cb1-46a8-825d-ce611120db2d",
   "metadata": {},
   "outputs": [],
   "source": [
    "phis = np.linspace(0, 2*np.pi, 100)"
   ]
  },
  {
   "cell_type": "code",
   "execution_count": null,
   "id": "f4de1e5c-7a3c-4377-85a7-77415416e4b8",
   "metadata": {},
   "outputs": [
    {
     "name": "stdout",
     "output_type": "stream",
     "text": [
      "CPU times: user 26.2 s, sys: 361 ms, total: 26.5 s\n",
      "Wall time: 26.5 s\n"
     ]
    }
   ],
   "source": [
    "%%time\n",
    "cavity_ens = []\n",
    "cavity_vecs = []\n",
    "for b in phis:\n",
    "    params['phi'] = b\n",
    "    ham = j.hamiltonian_submatrix(sparse=True,\n",
    "                                  params=f_params_circular_junction(r=14, **params))\n",
    "    val, vec = sort_eigen(sla.eigsh(ham.tocsc(), k=8, sigma=0))\n",
    "    cavity_ens.append(val)\n",
    "    cavity_vecs.append(vec)"
   ]
  },
  {
   "cell_type": "code",
   "execution_count": null,
   "id": "2287fb86-35fd-4b68-8754-b0ff8f7f88a0",
   "metadata": {},
   "outputs": [],
   "source": [
    "cavity_ens = np.array(cavity_ens)"
   ]
  },
  {
   "cell_type": "code",
   "execution_count": null,
   "id": "bbba7902-c76a-4d35-a3bf-cc82c54b6495",
   "metadata": {},
   "outputs": [
    {
     "data": {
      "text/plain": [
       "<matplotlib.legend.Legend at 0x7f46dfa0d340>"
      ]
     },
     "execution_count": 269,
     "metadata": {},
     "output_type": "execute_result"
    },
    {
     "data": {
      "image/png": "[encoded data removed]",
      "text/plain": [
       "<Figure size 720x288 with 1 Axes>"
      ]
     },
     "metadata": {
      "needs_background": "light"
     },
     "output_type": "display_data"
    }
   ],
   "source": [
    "fig, ax = plt.subplots(figsize=(10, 4))\n",
    "for level in cavity_ens.T:\n",
    "    ax.plot(phis/np.pi, level, c='orange', label='sparse diagonalisation')\n",
    "ax.scatter(np.array(non_zero_phi[0])/np.pi, energies_phi[0], label='bound state algorithm')\n",
    "ax.set_ylim(-0.005, 0.005)\n",
    "ax.set_title('Coupling of two MBS vs. phase difference')\n",
    "ax.set_ylabel('$E_{12}$')\n",
    "ax.set_xlabel(r'$\\phi$')\n",
    "\n",
    "handles, labels = plt.gca().get_legend_handles_labels()\n",
    "by_label = dict(zip(labels, handles))\n",
    "plt.legend(by_label.values(), by_label.keys(), loc='upper left')"
   ]
  },
  {
   "cell_type": "code",
   "execution_count": null,
   "id": "01ab168c-435c-4816-86c8-59e1de8e8874",
   "metadata": {},
   "outputs": [],
   "source": [
    "density = kwant.operator.Density(j, np.eye(4))"
   ]
  },
  {
   "cell_type": "code",
   "execution_count": null,
   "id": "b3b1f6db-d9b0-4207-a9d8-8f8a0fd95f81",
   "metadata": {},
   "outputs": [
    {
     "data": {
      "image/png": "[encoded data removed]",
      "text/plain": [
       "<Figure size 432x288 with 2 Axes>"
      ]
     },
     "metadata": {
      "needs_background": "light"
     },
     "output_type": "display_data"
    },
    {
     "name": "stderr",
     "output_type": "stream",
     "text": [
      "/tmp/ipykernel_156/1017518412.py:2: VisibleDeprecationWarning: Creating an ndarray from ragged nested sequences (which is a list-or-tuple of lists-or-tuples-or ndarrays with different lengths or shapes) is deprecated. If you meant to do this, you must specify 'dtype=object' when creating the ndarray.\n",
      "  kwant.plotter.density(j, density(cavity_vecs[0][i]));\n"
     ]
    },
    {
     "data": {
      "image/png": "[encoded data removed]",
      "text/plain": [
       "<Figure size 432x288 with 2 Axes>"
      ]
     },
     "metadata": {
      "needs_background": "light"
     },
     "output_type": "display_data"
    },
    {
     "name": "stderr",
     "output_type": "stream",
     "text": [
      "/tmp/ipykernel_156/1017518412.py:2: VisibleDeprecationWarning: Creating an ndarray from ragged nested sequences (which is a list-or-tuple of lists-or-tuples-or ndarrays with different lengths or shapes) is deprecated. If you meant to do this, you must specify 'dtype=object' when creating the ndarray.\n",
      "  kwant.plotter.density(j, density(cavity_vecs[0][i]));\n"
     ]
    },
    {
     "data": {
      "image/png": "[encoded data removed]",
      "text/plain": [
       "<Figure size 432x288 with 2 Axes>"
      ]
     },
     "metadata": {
      "needs_background": "light"
     },
     "output_type": "display_data"
    },
    {
     "name": "stderr",
     "output_type": "stream",
     "text": [
      "/tmp/ipykernel_156/1017518412.py:2: VisibleDeprecationWarning: Creating an ndarray from ragged nested sequences (which is a list-or-tuple of lists-or-tuples-or ndarrays with different lengths or shapes) is deprecated. If you meant to do this, you must specify 'dtype=object' when creating the ndarray.\n",
      "  kwant.plotter.density(j, density(cavity_vecs[0][i]));\n"
     ]
    },
    {
     "data": {
      "image/png": "[encoded data removed]",
      "text/plain": [
       "<Figure size 432x288 with 2 Axes>"
      ]
     },
     "metadata": {
      "needs_background": "light"
     },
     "output_type": "display_data"
    },
    {
     "name": "stderr",
     "output_type": "stream",
     "text": [
      "/tmp/ipykernel_156/1017518412.py:2: VisibleDeprecationWarning: Creating an ndarray from ragged nested sequences (which is a list-or-tuple of lists-or-tuples-or ndarrays with different lengths or shapes) is deprecated. If you meant to do this, you must specify 'dtype=object' when creating the ndarray.\n",
      "  kwant.plotter.density(j, density(cavity_vecs[0][i]));\n"
     ]
    }
   ],
   "source": [
    "for i in range(4):\n",
    "    kwant.plotter.density(j, density(cavity_vecs[0][i]));"
   ]
  },
  {
   "cell_type": "markdown",
   "id": "2835780a-1b02-41e4-b523-01387a3034e9",
   "metadata": {},
   "source": [
    "### Couple Majorana states"
   ]
  },
  {
   "cell_type": "markdown",
   "id": "48c0c68e-bb71-446a-b0b3-2ddf0efcaedf",
   "metadata": {},
   "source": [
    "#### Infinite system"
   ]
  },
  {
   "cell_type": "code",
   "execution_count": null,
   "id": "7bb9f07e-884b-490f-926e-2d1ea268ac78",
   "metadata": {},
   "outputs": [],
   "source": [
    "solver_mu = bound_state_solver(key='mu_cavity')\n",
    "modified_solver_mu = bound_state_solver(key='mu_cavity')"
   ]
  },
  {
   "cell_type": "code",
   "execution_count": null,
   "id": "93a4a8a0-c82a-4251-ae7e-474aeb46ba49",
   "metadata": {},
   "outputs": [],
   "source": [
    "def wrapper_mu(args):\n",
    "    return solver_mu(*args)\n",
    "\n",
    "\n",
    "def modified_wrapper_mu(args):\n",
    "    return modified_solver_mu(*args)"
   ]
  },
  {
   "cell_type": "code",
   "execution_count": null,
   "id": "7ecfcae9-c140-4ce7-aa78-329d78f63de0",
   "metadata": {},
   "outputs": [],
   "source": [
    "params = {\n",
    "    't': 1,\n",
    "    'mu': 0.3,\n",
    "    'mu_cavity': -2,\n",
    "    'alpha': 0.3,\n",
    "    'Delta': 0.3,\n",
    "    'B_x': 0.5,\n",
    "    'phi': 0\n",
    "}"
   ]
  },
  {
   "cell_type": "code",
   "execution_count": null,
   "id": "06483490-3b48-4171-910c-9206c84f2913",
   "metadata": {},
   "outputs": [],
   "source": [
    "mus = np.linspace(-0.6, -0.05, 50)\n",
    "args = list(it.product([circle], mus, [params]))"
   ]
  },
  {
   "cell_type": "code",
   "execution_count": null,
   "id": "e6b36a45-4ee1-43ce-8520-1820ed9d65cc",
   "metadata": {},
   "outputs": [
    {
     "name": "stdout",
     "output_type": "stream",
     "text": [
      "CPU times: user 5.9 s, sys: 74.3 ms, total: 5.98 s\n",
      "Wall time: 2min 24s\n"
     ]
    }
   ],
   "source": [
    "%%time\n",
    "args_db = db.from_sequence(args, npartitions=20)\n",
    "result = args_db.map(wrapper_mu).compute()"
   ]
  },
  {
   "cell_type": "code",
   "execution_count": null,
   "id": "954b4935-12e6-4efa-8637-0801701d6c62",
   "metadata": {},
   "outputs": [],
   "source": [
    "energies, non_zero_mus, states = extract_data_bound_states(data=result, mus=mus)"
   ]
  },
  {
   "cell_type": "code",
   "execution_count": null,
   "id": "da7a8a0d-b59c-4890-9496-e3d16b6ea7b9",
   "metadata": {},
   "outputs": [
    {
     "data": {
      "image/png": "[encoded data removed]",
      "text/plain": [
       "<Figure size 432x288 with 1 Axes>"
      ]
     },
     "metadata": {
      "needs_background": "light"
     },
     "output_type": "display_data"
    }
   ],
   "source": [
    "for i in range(2):\n",
    "    plt.scatter(non_zero_mus[i], energies[i], label=str(i)+'-th bound state energy')\n",
    "    plt.plot(non_zero_mus[i], energies[i])"
   ]
  },
  {
   "cell_type": "code",
   "execution_count": null,
   "id": "e14a5aef-0d44-4ccc-b853-943a2f19fc47",
   "metadata": {},
   "outputs": [],
   "source": []
  },
  {
   "cell_type": "code",
   "execution_count": null,
   "id": "73a7087d-9a7c-437d-be76-1401b980ff9b",
   "metadata": {},
   "outputs": [
    {
     "name": "stdout",
     "output_type": "stream",
     "text": [
      "CPU times: user 6.1 s, sys: 75.1 ms, total: 6.18 s\n",
      "Wall time: 2min 14s\n"
     ]
    }
   ],
   "source": [
    "%%time\n",
    "args_db = db.from_sequence(args, npartitions=20)\n",
    "modified_result = args_db.map(modified_wrapper_mu).compute()"
   ]
  },
  {
   "cell_type": "code",
   "execution_count": null,
   "id": "5b134f7e-f721-46a4-9c12-2428d1fe0a62",
   "metadata": {},
   "outputs": [],
   "source": [
    "energies, non_zero_mus, states = extract_data_bound_states(data=modified_result, mus=mus)"
   ]
  },
  {
   "cell_type": "code",
   "execution_count": null,
   "id": "96363951-04e8-4677-9db9-8d85e564c4eb",
   "metadata": {},
   "outputs": [
    {
     "data": {
      "image/png": "[encoded data removed]",
      "text/plain": [
       "<Figure size 432x288 with 1 Axes>"
      ]
     },
     "metadata": {
      "needs_background": "light"
     },
     "output_type": "display_data"
    }
   ],
   "source": [
    "for i in range(2):\n",
    "    plt.scatter(non_zero_mus[i], energies[i], label=str(i)+'-th bound state energy')\n",
    "    plt.plot(non_zero_mus[i], energies[i])"
   ]
  },
  {
   "cell_type": "code",
   "execution_count": null,
   "id": "9661cad5-e121-4627-adc5-1d7c7d290c25",
   "metadata": {},
   "outputs": [],
   "source": [
    "mus = np.linspace(0, -0.05, 10)\n"
   ]
  },
  {
   "cell_type": "code",
   "execution_count": null,
   "id": "d923b955-e28e-4043-b590-9626e10bf638",
   "metadata": {},
   "outputs": [
    {
     "name": "stdout",
     "output_type": "stream",
     "text": [
      "find candidates:\n",
      "16.863770723342896\n",
      "[-0.013776844962598971, -0.002232484832680126, -1.680513367352532e-17, 0.002232484832680114, 0.013776844962598971]\n",
      "(2460, 0)\n",
      "(2460, 1)\n",
      "(2460, 0)\n",
      "(2460, 1)\n",
      "(2460, 0)\n",
      "find all bound states:\n",
      "0.877173900604248\n",
      "find candidates:\n",
      "16.990108489990234\n",
      "[-0.016154132478682644, -0.002480871659787274, -2.8189256484623115e-17, 0.002480871659786967, 0.01615413247868263]\n",
      "(2460, 0)\n",
      "(2460, 1)\n",
      "(2460, 0)\n",
      "(2460, 1)\n",
      "(2460, 0)\n",
      "find all bound states:\n",
      "0.8779451847076416\n",
      "find candidates:\n",
      "16.765753030776978\n",
      "[-0.013664435894395498, -0.00257835425068063, -3.642919299551295e-17, 0.0025783542506806634, 0.013664435894395505]\n",
      "(2460, 0)\n",
      "(2460, 1)\n",
      "(2460, 0)\n",
      "(2460, 1)\n",
      "(2460, 0)\n",
      "find all bound states:\n",
      "0.8696742057800293\n",
      "find candidates:\n",
      "16.581369876861572\n",
      "[-0.010802732866714031, -0.0025517760955156266, -5.583641188300348e-17, 0.002551776095515765, 0.010802732866714028]\n",
      "(2460, 0)\n",
      "(2460, 1)\n",
      "(2460, 0)\n",
      "(2460, 1)\n",
      "(2460, 0)\n",
      "find all bound states:\n",
      "0.7838232517242432\n",
      "find candidates:\n",
      "16.21623945236206\n",
      "[-0.015849053779465053, -0.008093741821366095, -0.0024302409615554387, -3.458604930228759e-17, 0.00243024096155503, 0.008093741821366098, 0.015849053779465095]\n",
      "(2460, 1)\n",
      "(2460, 0)\n",
      "(2460, 1)\n",
      "(2460, 0)\n",
      "(2460, 1)\n",
      "(2460, 0)\n",
      "(2460, 1)\n",
      "find all bound states:\n",
      "1.170658826828003\n",
      "find candidates:\n",
      "16.049683332443237\n",
      "[-0.010295613444253036, -0.00554042859450278, -0.0022425737967899937, -3.686287386450715e-17, 0.0022425737967895166, 0.005540428594502784, 0.010295613444253086]\n",
      "(2460, 1)\n",
      "(2460, 0)\n",
      "(2460, 1)\n",
      "(2460, 0)\n",
      "(2460, 1)\n",
      "(2460, 0)\n",
      "(2460, 1)\n",
      "find all bound states:\n",
      "1.1768689155578613\n",
      "find candidates:\n",
      "23.714826345443726\n",
      "[-0.015481538540372972, -0.004749172968775488, -0.003116434299816138, -0.0020165507058978833, 9.75781955236954e-18, 0.002016550705897666, 0.003116434299816113, 0.004749172968775478, 0.015481538540372982]\n",
      "(2460, 0)\n",
      "(2460, 1)\n",
      "(2460, 0)\n",
      "(2460, 1)\n",
      "(2460, 0)\n",
      "(2460, 1)\n",
      "(2460, 0)\n",
      "(2460, 1)\n",
      "(2460, 0)\n",
      "find all bound states:\n",
      "1.4240520000457764\n",
      "find candidates:\n",
      "17.49684166908264\n",
      "[-0.011187148002232588, -0.0018459585161694327, -6.971419969081794e-17, 0.0018459585161699206, 0.011187148002232595]\n",
      "(2460, 0)\n",
      "(2460, 1)\n",
      "(2460, 0)\n",
      "(2460, 1)\n",
      "(2460, 0)\n",
      "find all bound states:\n",
      "0.6914544105529785\n",
      "find candidates:\n",
      "23.707415342330933\n",
      "[-0.016749845797753116, -0.011677425964813075, -0.006378477956025802, -0.003636345605948498, -0.0017604993237517641, 1.1384122811097797e-17, 0.0017604993237523012, 0.00363634560594848, 0.006378477956026281, 0.011677425964813075, 0.016749845797753127]\n",
      "(2460, 1)\n",
      "(2460, 0)\n",
      "(2460, 1)\n",
      "(2460, 0)\n",
      "(2460, 1)\n",
      "(2460, 0)\n",
      "(2460, 1)\n",
      "(2460, 0)\n",
      "(2460, 1)\n",
      "(2460, 0)\n",
      "(2460, 1)\n",
      "find all bound states:\n",
      "1.6322410106658936\n",
      "find candidates:\n",
      "23.30254101753235\n",
      "[-0.016428762407412575, -0.011914384610364285, -0.0062509513508722525, -0.0020318922942607663, 5.117434254131581e-17, 0.002031892294259988, 0.006250951350872266, 0.01191438461036477, 0.01642876240741256]\n",
      "(2460, 0)\n",
      "(2460, 1)\n",
      "(2460, 0)\n",
      "(2460, 1)\n",
      "(2460, 0)\n",
      "(2460, 1)\n",
      "(2460, 0)\n",
      "(2460, 1)\n",
      "(2460, 0)\n",
      "find all bound states:\n",
      "1.3658502101898193\n",
      "CPU times: user 3min 18s, sys: 365 ms, total: 3min 18s\n",
      "Wall time: 3min 18s\n"
     ]
    }
   ],
   "source": [
    "%%time\n",
    "inf_ens = []\n",
    "inf_vecs = []\n",
    "for b in mus:\n",
    "    params['mu_cavity'] = b\n",
    "    en, vec = find_boundstates(syst=circle,\n",
    "                               min_energy=-0.02,\n",
    "                               max_energy=0.02,\n",
    "                               sparse=True,\n",
    "                               params=add_phase(**params),\n",
    "                               rtol=1e-3\n",
    "                              )\n",
    "    inf_ens.append(en)\n",
    "    inf_vecs.append(vec)"
   ]
  },
  {
   "cell_type": "code",
   "execution_count": null,
   "id": "7d418160-e5b3-4163-8bc4-f72cbd852651",
   "metadata": {},
   "outputs": [
    {
     "name": "stdout",
     "output_type": "stream",
     "text": [
      "find candidates:\n",
      "1.6303677558898926\n",
      "[-1.5504091066542713e-17, 0.002232484832680112]\n",
      "(2460, 0)\n",
      "(2460, 1)\n",
      "find single bound state:\n",
      "0.30583620071411133\n",
      "find candidates:\n",
      "1.5078976154327393\n",
      "[-2.8080836267374565e-17, 0.002480871659786967]\n",
      "(2460, 0)\n",
      "(2460, 1)\n",
      "find single bound state:\n",
      "0.36156344413757324\n",
      "find candidates:\n",
      "2.0480117797851562\n",
      "[-3.426078865054194e-17, 0.0025783542506806634]\n",
      "(2460, 0)\n",
      "(2460, 1)\n",
      "find single bound state:\n",
      "0.32802438735961914\n",
      "find candidates:\n",
      "1.4668514728546143\n",
      "[-5.637851296924623e-17, 0.002551776095515765]\n",
      "(2460, 0)\n",
      "(2460, 1)\n",
      "find single bound state:\n",
      "0.2949862480163574\n",
      "find candidates:\n",
      "1.5061254501342773\n",
      "[-3.5887091909270197e-17, 0.0024302409615550276]\n",
      "(2460, 0)\n",
      "(2460, 1)\n",
      "find single bound state:\n",
      "0.2693212032318115\n",
      "find candidates:\n",
      "1.4814140796661377\n",
      "[-3.67544536472586e-17, 0.0022425737967895166]\n",
      "(2460, 0)\n",
      "(2460, 1)\n",
      "find single bound state:\n",
      "0.27121686935424805\n",
      "find candidates:\n",
      "1.5193743705749512\n",
      "[8.673617379884035e-18, 0.002016550705897658]\n",
      "(2460, 0)\n",
      "(2460, 1)\n",
      "find single bound state:\n",
      "0.25644493103027344\n",
      "find candidates:\n",
      "1.4741158485412598\n",
      "[-7.22078646875346e-17, 0.0018459585161699078]\n",
      "(2460, 0)\n",
      "(2460, 1)\n",
      "find single bound state:\n",
      "0.2451188564300537\n",
      "find candidates:\n",
      "1.5179510116577148\n",
      "[1.7672495411513722e-17, 0.0017604993237523008]\n",
      "(2460, 0)\n",
      "(2460, 1)\n",
      "find single bound state:\n",
      "0.26018238067626953\n",
      "find candidates:\n",
      "1.4887712001800537\n",
      "[5.637851296924623e-17, 0.0020318922942599888]\n",
      "(2460, 0)\n",
      "(2460, 1)\n",
      "find single bound state:\n",
      "0.2913668155670166\n",
      "CPU times: user 18.5 s, sys: 59 ms, total: 18.6 s\n",
      "Wall time: 18.5 s\n"
     ]
    }
   ],
   "source": [
    "%%time\n",
    "mod_inf_ens = []\n",
    "mod_inf_vecs = []\n",
    "for b in mus:\n",
    "    params['mu_cavity'] = b\n",
    "    en, vec = modified_find_boundstates(syst=circle,\n",
    "                               min_energy=-0.02,\n",
    "                               max_energy=0.02,\n",
    "                               sparse=True,\n",
    "                               params=add_phase(**params),\n",
    "                               rtol=1e-3\n",
    "                              )\n",
    "    mod_inf_ens.append(en)\n",
    "    mod_inf_vecs.append(vec)"
   ]
  },
  {
   "cell_type": "code",
   "execution_count": null,
   "id": "58095221-3e7b-4c90-add5-17bc612934de",
   "metadata": {},
   "outputs": [
    {
     "data": {
      "text/plain": [
       "array([[0.00223248],\n",
       "       [0.00248087],\n",
       "       [0.00257835],\n",
       "       [0.00255178],\n",
       "       [0.00243024],\n",
       "       [0.00224257],\n",
       "       [0.00201655],\n",
       "       [0.00184596],\n",
       "       [0.0017605 ],\n",
       "       [0.00203189]])"
      ]
     },
     "execution_count": 84,
     "metadata": {},
     "output_type": "execute_result"
    }
   ],
   "source": [
    "np.array(mod_inf_ens)"
   ]
  },
  {
   "cell_type": "code",
   "execution_count": null,
   "id": "0544dd04-e329-4fab-b786-34d67b1f8216",
   "metadata": {},
   "outputs": [],
   "source": [
    "extracted_ens = []\n",
    "for element in inf_ens:\n",
    "    l = len(element)\n",
    "    extracted_ens.append(np.sort(element)[int(l/2)])"
   ]
  },
  {
   "cell_type": "code",
   "execution_count": null,
   "id": "953f8560-f2c0-4869-862a-c52bbcdf8a0b",
   "metadata": {},
   "outputs": [],
   "source": [
    "extracted_ens = np.array(extracted_ens)"
   ]
  },
  {
   "cell_type": "code",
   "execution_count": null,
   "id": "d4fc87e4-5800-400a-8b90-866357ab9933",
   "metadata": {},
   "outputs": [
    {
     "data": {
      "text/plain": [
       "<matplotlib.legend.Legend at 0x7f59e6923b20>"
      ]
     },
     "execution_count": 88,
     "metadata": {},
     "output_type": "execute_result"
    },
    {
     "data": {
      "image/png": "[encoded data removed]",
      "text/plain": [
       "<Figure size 432x288 with 1 Axes>"
      ]
     },
     "metadata": {
      "needs_background": "light"
     },
     "output_type": "display_data"
    }
   ],
   "source": [
    "level = cavity_ens.T[-2]\n",
    "\n",
    "plt.scatter(mus, mod_inf_ens, label='modifed algorithm 18.5 s')\n",
    "plt.scatter(mus, extracted_ens, label='normal algorithm 3 min 18 s')\n",
    "plt.plot(mus, level)\n",
    "plt.xlabel(r'$\\mu_{qd}$')\n",
    "plt.ylabel(r'$E_{12}$')\n",
    "plt.legend()"
   ]
  },
  {
   "cell_type": "code",
   "execution_count": null,
   "id": "34cb9b16-dbfb-4308-9fea-68033a7991fc",
   "metadata": {},
   "outputs": [],
   "source": []
  },
  {
   "cell_type": "code",
   "execution_count": null,
   "id": "195508eb-19e6-4241-a56b-ebad10e4a62f",
   "metadata": {},
   "outputs": [],
   "source": [
    "params = {\n",
    "    't': 1,\n",
    "    'mu_wires': 0.3,\n",
    "    'mu_cavity': 0,\n",
    "    'alpha': 0.3,\n",
    "    'Delta': 0.3,\n",
    "    'B_x': 0.5,\n",
    "    'phi': 0\n",
    "}\n",
    "mus = np.linspace(0, -0.05, 10)"
   ]
  },
  {
   "cell_type": "code",
   "execution_count": null,
   "id": "fcb475e7-1ce4-4c0d-abf0-8a9336e14fb6",
   "metadata": {},
   "outputs": [
    {
     "name": "stdout",
     "output_type": "stream",
     "text": [
      "CPU times: user 1.91 s, sys: 53 ms, total: 1.96 s\n",
      "Wall time: 1.96 s\n"
     ]
    }
   ],
   "source": [
    "%%time\n",
    "cavity_ens = []\n",
    "cavity_vecs = []\n",
    "for b in mus:\n",
    "    params['mu_cavity'] = b\n",
    "    ham = j.hamiltonian_submatrix(sparse=True,\n",
    "                                  params=f_params_circular_junction(r=14, **params))\n",
    "    val, vec = sort_eigen(sla.eigsh(ham.tocsc(), k=6, sigma=0))\n",
    "    cavity_ens.append(val)\n",
    "    cavity_vecs.append(vec)"
   ]
  },
  {
   "cell_type": "code",
   "execution_count": null,
   "id": "fccdece2-ba2c-44e5-bcd9-c16e5afb63aa",
   "metadata": {},
   "outputs": [],
   "source": [
    "cavity_ens = np.array(cavity_ens)"
   ]
  },
  {
   "cell_type": "code",
   "execution_count": null,
   "id": "f23b41d1-90b2-49df-b536-da030d2aaea0",
   "metadata": {},
   "outputs": [
    {
     "data": {
      "text/plain": [
       "<matplotlib.legend.Legend at 0x7f666a2ead60>"
      ]
     },
     "execution_count": 133,
     "metadata": {},
     "output_type": "execute_result"
    },
    {
     "data": {
      "image/png": "[encoded data removed]",
      "text/plain": [
       "<Figure size 720x288 with 1 Axes>"
      ]
     },
     "metadata": {
      "needs_background": "light"
     },
     "output_type": "display_data"
    }
   ],
   "source": [
    "fig, ax = plt.subplots(figsize=(10, 4))\n",
    "level = cavity_ens.T[-1]\n",
    "ax.plot(mus, level, c='orange', label='sparse diagonalisation: 7.52s')\n",
    "ax.scatter(non_zero_mus[0], energies[0], label=str(i)+'-th bound state energy: 2min 31s')\n",
    "ax.set_title('Coupling of two MBS vs. cavity chemical potential')\n",
    "ax.set_ylabel('$E_{12}$')\n",
    "ax.set_xlabel(r'$\\mu_{qd}$')\n",
    "ax.set_ylim(-0.001, 0.02)\n",
    "handles, labels = plt.gca().get_legend_handles_labels()\n",
    "by_label = dict(zip(labels, handles))\n",
    "plt.legend(by_label.values(), by_label.keys(), loc='upper left')"
   ]
  },
  {
   "cell_type": "markdown",
   "id": "4abbb5cb-24b7-4f1e-aeba-505b4c1e1acd",
   "metadata": {},
   "source": [
    "## Modify bound state script"
   ]
  },
  {
   "cell_type": "code",
   "execution_count": null,
   "id": "7edfbbd5-9873-4261-b73b-8c10398acc03",
   "metadata": {},
   "outputs": [],
   "source": [
    "min_energy = -0.02\n",
    "max_energy = -min_energy\n",
    "rtol = 0.5e-2"
   ]
  },
  {
   "cell_type": "code",
   "execution_count": null,
   "id": "cf591ab6-f301-47cf-b685-a02015283cfc",
   "metadata": {},
   "outputs": [],
   "source": [
    "energies = np.linspace(\n",
    "    min_energy, max_energy, int((max_energy - min_energy) / rtol)\n",
    ")\n",
    "intervals = list(zip(energies, energies[1:]))\n",
    "sorted_intervals = sorted(iss, key=lambda element: np.abs(element[0]))\n",
    "candidates = []"
   ]
  },
  {
   "cell_type": "code",
   "execution_count": null,
   "id": "9b8e1cb1-b852-4b0e-9d8d-3fec04a03452",
   "metadata": {},
   "outputs": [],
   "source": [
    "iss = list(intervals)"
   ]
  },
  {
   "cell_type": "code",
   "execution_count": null,
   "id": "fe07417a-11ba-446b-9fe1-a08c1f7c3fbc",
   "metadata": {},
   "outputs": [],
   "source": [
    "ee = sorted(iss, key=lambda element: np.abs(element[0]))"
   ]
  },
  {
   "cell_type": "code",
   "execution_count": null,
   "id": "11810da1-e0e1-4d63-85ba-bf62735a3125",
   "metadata": {},
   "outputs": [
    {
     "name": "stdout",
     "output_type": "stream",
     "text": [
      "-0.0028571428571428567 0.0028571428571428567\n",
      "0.0028571428571428567 0.00857142857142857\n",
      "0.00857142857142857 0.014285714285714287\n",
      "-0.008571428571428572 -0.0028571428571428567\n",
      "-0.014285714285714287 -0.008571428571428572\n",
      "0.014285714285714287 0.02\n",
      "-0.02 -0.014285714285714287\n"
     ]
    }
   ],
   "source": [
    "for a, b in ee:\n",
    "    print(a, b)"
   ]
  },
  {
   "cell_type": "code",
   "execution_count": null,
   "id": "a299009b-aeea-41f2-8cb5-a37eb5d3e7f3",
   "metadata": {},
   "outputs": [
    {
     "data": {
      "text/plain": [
       "[-0.0028571428571428567,\n",
       " 0.0028571428571428567,\n",
       " 0.00857142857142857,\n",
       " -0.008571428571428572,\n",
       " -0.014285714285714287,\n",
       " 0.014285714285714287,\n",
       " -0.02,\n",
       " 0.02]"
      ]
     },
     "execution_count": 64,
     "metadata": {},
     "output_type": "execute_result"
    }
   ],
   "source": [
    "ee"
   ]
  },
  {
   "cell_type": "code",
   "execution_count": null,
   "id": "40ab29a9-3c12-413c-8371-1b03619270c1",
   "metadata": {},
   "outputs": [
    {
     "data": {
      "text/plain": [
       "[-0.0028571428571428567,\n",
       " 0.0028571428571428567,\n",
       " 0.00857142857142857,\n",
       " -0.008571428571428572,\n",
       " -0.014285714285714287,\n",
       " 0.014285714285714287,\n",
       " -0.02,\n",
       " 0.02]"
      ]
     },
     "execution_count": 50,
     "metadata": {},
     "output_type": "execute_result"
    }
   ],
   "source": [
    "ee"
   ]
  },
  {
   "cell_type": "code",
   "execution_count": null,
   "id": "68d1045f-fcaf-49ae-9345-0b6ff88b2643",
   "metadata": {},
   "outputs": [],
   "source": []
  },
  {
   "cell_type": "code",
   "execution_count": null,
   "id": "a8c22a1e-08be-401e-a78a-c0188ee2994d",
   "metadata": {},
   "outputs": [
    {
     "name": "stdout",
     "output_type": "stream",
     "text": [
      "-0.02 -0.014285714285714287\n",
      "-0.014285714285714287 -0.008571428571428572\n",
      "-0.008571428571428572 -0.0028571428571428567\n",
      "-0.0028571428571428567 0.0028571428571428567\n",
      "0.0028571428571428567 0.00857142857142857\n",
      "0.00857142857142857 0.014285714285714287\n",
      "0.014285714285714287 0.02\n"
     ]
    }
   ],
   "source": [
    "for a, b in intervals:\n",
    "    print(a, b)"
   ]
  },
  {
   "cell_type": "code",
   "execution_count": null,
   "id": "fb42c4e8-eb4a-403e-8730-97b39dcfbf77",
   "metadata": {},
   "outputs": [
    {
     "data": {
      "text/plain": [
       "[-0.0028571428571428567,\n",
       " 0.0028571428571428567,\n",
       " 0.00857142857142857,\n",
       " -0.008571428571428572,\n",
       " -0.014285714285714287,\n",
       " 0.014285714285714287,\n",
       " -0.02,\n",
       " 0.02]"
      ]
     },
     "execution_count": 18,
     "metadata": {},
     "output_type": "execute_result"
    }
   ],
   "source": [
    "sorted(energies, key=abs)"
   ]
  },
  {
   "cell_type": "code",
   "execution_count": null,
   "id": "55ec4dff-f844-449f-8861-2ebcc5217b88",
   "metadata": {},
   "outputs": [
    {
     "data": {
      "text/plain": [
       "[0.02,\n",
       " -0.02,\n",
       " 0.014285714285714287,\n",
       " -0.014285714285714287,\n",
       " -0.008571428571428572,\n",
       " 0.00857142857142857,\n",
       " 0.0028571428571428567,\n",
       " -0.0028571428571428567]"
      ]
     },
     "execution_count": 19,
     "metadata": {},
     "output_type": "execute_result"
    }
   ],
   "source": [
    "sorted(energies, key=abs)[::-1]"
   ]
  },
  {
   "cell_type": "code",
   "execution_count": null,
   "id": "e0dbd403-6734-4ff7-a4f8-ed0098ce0595",
   "metadata": {},
   "outputs": [],
   "source": []
  },
  {
   "cell_type": "code",
   "execution_count": null,
   "id": "fdb8cc76-4ea1-4d40-bd70-e0b8fdce8699",
   "metadata": {},
   "outputs": [],
   "source": []
  }
 ],
 "metadata": {
  "kernelspec": {
   "display_name": "Python 3 (ipykernel)",
   "language": "python",
   "name": "python3"
  },
  "language_info": {
   "codemirror_mode": {
    "name": "ipython",
    "version": 3
   },
   "file_extension": ".py",
   "mimetype": "text/x-python",
   "name": "python",
   "nbconvert_exporter": "python",
   "pygments_lexer": "ipython3",
   "version": "3.9.7"
  }
 },
 "nbformat": 4,
 "nbformat_minor": 5
}
