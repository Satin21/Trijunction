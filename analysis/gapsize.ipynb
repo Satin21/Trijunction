{
 "cells": [
  {
   "cell_type": "code",
   "execution_count": null,
   "id": "42ae5d0c-ba0b-4cf7-ac60-f59b97d957a2",
   "metadata": {},
   "outputs": [],
   "source": [
    "import sys, os\n",
    "\n",
    "import numpy as np\n",
    "import kwant\n",
    "import matplotlib.pyplot as plt\n",
    "import ipywidgets\n",
    "import codes.parameters"
   ]
  },
  {
   "cell_type": "code",
   "execution_count": null,
   "id": "f67288a0-6181-4e95-bd38-f5ca369a6e30",
   "metadata": {},
   "outputs": [],
   "source": [
    "mu = codes.parameters.bands[0]"
   ]
  },
  {
   "cell_type": "code",
   "execution_count": null,
   "id": "3cd6d7e0-c344-439c-adb4-b1e08dd962c5",
   "metadata": {},
   "outputs": [],
   "source": [
    "a = 10e-9\n",
    "\n",
    "hamiltonian = \"\"\"( t * (k_x**2 + k_y**2 ) - mu)* kron(sigma_0, sigma_z)\n",
    "+ alpha * k_x * kron(sigma_y, sigma_z)\n",
    "- alpha * k_y * kron(sigma_x, sigma_z)\n",
    "+ Delta_re * kron(sigma_0, sigma_x)\n",
    "+ Delta_im * kron(sigma_0, sigma_y)\n",
    "+ B_x * kron(sigma_x, sigma_0)\"\"\"\n",
    "\n",
    "template = kwant.continuum.discretize(hamiltonian, grid=a)"
   ]
  },
  {
   "cell_type": "code",
   "execution_count": null,
   "id": "1cbc62a5-9d2c-43bf-bc75-95efd0941d18",
   "metadata": {},
   "outputs": [],
   "source": [
    "params = codes.parameters.junction_parameters(0)\n",
    "params.pop('phi1')\n",
    "params.pop('phi2')\n",
    "params.pop('sigma')\n",
    "params.pop('a')\n",
    "params.pop('mus_nw')\n",
    "Delta = params.pop('Delta')\n",
    "params.update(mu=mu)\n",
    "params.update(Delta_re=Delta)\n",
    "params.update(Delta_im=0)\n",
    "params"
   ]
  },
  {
   "cell_type": "code",
   "execution_count": null,
   "id": "31ab5191-8e94-4fa5-8f9c-fef713e410a5",
   "metadata": {},
   "outputs": [],
   "source": [
    "wire_width = 7 * a"
   ]
  },
  {
   "cell_type": "code",
   "execution_count": null,
   "id": "2da50275-bcf2-4ffd-8caa-e664df670acd",
   "metadata": {},
   "outputs": [],
   "source": [
    "lead = kwant.Builder(symmetry=kwant.TranslationalSymmetry([-a, 0]))\n",
    "lead.fill(template, shape=lambda site: 0 <= site.pos[1] < wire_width, start=[0]);"
   ]
  },
  {
   "cell_type": "code",
   "execution_count": null,
   "id": "8a349907-d8db-4248-a569-53ecc7fa24be",
   "metadata": {},
   "outputs": [],
   "source": [
    "kwant.plot(lead)"
   ]
  },
  {
   "cell_type": "code",
   "execution_count": null,
   "id": "d2702ef2-0c03-40ec-a9e1-a8531c8156b3",
   "metadata": {},
   "outputs": [],
   "source": [
    "ks = np.linspace(-1, 1, 500)"
   ]
  },
  {
   "cell_type": "code",
   "execution_count": null,
   "id": "f5b59235-a193-482d-80d4-195d70e7be73",
   "metadata": {},
   "outputs": [],
   "source": [
    "fig, ax = plt.subplots()\n",
    "kwant.plotter.bands(lead.finalized(), show=False, params=params, ax=ax, momenta=ks);\n",
    "bands = []\n",
    "ax.set_ylim(-100e-5, 100e-5)\n",
    "ax.set_ylabel('E[eV]')\n",
    "ax.set_xlabel('k_x')"
   ]
  },
  {
   "cell_type": "code",
   "execution_count": null,
   "id": "7a74d81d-fedd-4a08-9dc8-5c6e1966fcc8",
   "metadata": {},
   "outputs": [],
   "source": [
    "for line in ax.lines:\n",
    "    ks, band_data = line.get_data()\n",
    "    bands.append(band_data)\n",
    "bands = np.array(bands)"
   ]
  },
  {
   "cell_type": "code",
   "execution_count": null,
   "id": "2c618645-08dd-4c8c-ae91-bcc3150e3e05",
   "metadata": {},
   "outputs": [],
   "source": [
    "topo_gap = np.min(np.abs(bands))\n",
    "topo_gap"
   ]
  },
  {
   "cell_type": "code",
   "execution_count": null,
   "id": "e699f42f-3172-4514-ae8c-43aa39e89d0d",
   "metadata": {},
   "outputs": [],
   "source": []
  }
 ],
 "metadata": {
  "kernelspec": {
   "display_name": "Python 3 (ipykernel)",
   "language": "python",
   "name": "python3"
  },
  "language_info": {
   "codemirror_mode": {
    "name": "ipython",
    "version": 3
   },
   "file_extension": ".py",
   "mimetype": "text/x-python",
   "name": "python",
   "nbconvert_exporter": "python",
   "pygments_lexer": "ipython3",
   "version": "3.10.6"
  }
 },
 "nbformat": 4,
 "nbformat_minor": 5
}
