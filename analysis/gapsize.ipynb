{
 "cells": [
  {
   "cell_type": "code",
   "execution_count": 119,
   "id": "42ae5d0c-ba0b-4cf7-ac60-f59b97d957a2",
   "metadata": {},
   "outputs": [],
   "source": [
    "sys.path.append(os.path.realpath('./../code/'))\n",
    "\n",
    "import numpy as np\n",
    "import kwant\n",
    "import sys, os\n",
    "import matplotlib.pyplot as plt\n",
    "import ipywidgets\n",
    "import parameters"
   ]
  },
  {
   "cell_type": "code",
   "execution_count": 82,
   "id": "f67288a0-6181-4e95-bd38-f5ca369a6e30",
   "metadata": {},
   "outputs": [],
   "source": [
    "mu = parameters.bands[0]"
   ]
  },
  {
   "cell_type": "code",
   "execution_count": 20,
   "id": "3cd6d7e0-c344-439c-adb4-b1e08dd962c5",
   "metadata": {},
   "outputs": [],
   "source": [
    "a = 10e-9\n",
    "\n",
    "hamiltonian = \"\"\"( t * (k_x**2 + k_y**2 ) - mu)* kron(sigma_0, sigma_z)\n",
    "+ alpha * k_x * kron(sigma_y, sigma_z)\n",
    "- alpha * k_y * kron(sigma_x, sigma_z)\n",
    "+ Delta_re * kron(sigma_0, sigma_x)\n",
    "+ Delta_im * kron(sigma_0, sigma_y)\n",
    "+ B_x * kron(sigma_y, sigma_0)\"\"\"\n",
    "\n",
    "template = kwant.continuum.discretize(hamiltonian, grid=a)"
   ]
  },
  {
   "cell_type": "code",
   "execution_count": 102,
   "id": "1cbc62a5-9d2c-43bf-bc75-95efd0941d18",
   "metadata": {},
   "outputs": [
    {
     "data": {
      "text/plain": [
       "{'t': 1.6561134509633838e-18,\n",
       " 'alpha': 3e-11,\n",
       " 'B_x': 0.001,\n",
       " 'mu': 0.0023960204649275973,\n",
       " 'Delta_re': 0.0005,\n",
       " 'Delta_im': 0}"
      ]
     },
     "execution_count": 102,
     "metadata": {},
     "output_type": "execute_result"
    }
   ],
   "source": [
    "params = parameters.junction_parameters(0)\n",
    "params.pop('phi1')\n",
    "params.pop('phi2')\n",
    "params.pop('sigma')\n",
    "params.pop('a')\n",
    "params.pop('mus_nw')\n",
    "Delta = params.pop('Delta')\n",
    "params.update(mu=mu)\n",
    "params.update(Delta_re=Delta)\n",
    "params.update(Delta_im=0)\n",
    "params"
   ]
  },
  {
   "cell_type": "code",
   "execution_count": 103,
   "id": "31ab5191-8e94-4fa5-8f9c-fef713e410a5",
   "metadata": {},
   "outputs": [],
   "source": [
    "wire_width = 7 * a"
   ]
  },
  {
   "cell_type": "code",
   "execution_count": 104,
   "id": "2da50275-bcf2-4ffd-8caa-e664df670acd",
   "metadata": {},
   "outputs": [],
   "source": [
    "lead = kwant.Builder(symmetry=kwant.TranslationalSymmetry([-a, 0]))\n",
    "lead.fill(template, shape=lambda site: 0 <= site.pos[1] < wire_width, start=[0]);"
   ]
  },
  {
   "cell_type": "code",
   "execution_count": 105,
   "id": "c325205e-7cc7-47a9-91c5-754cba5377c4",
   "metadata": {},
   "outputs": [],
   "source": [
    "def interact(function, **params):\n",
    "    params_spec = {\n",
    "        key: ipywidgets.FloatText(value=value, step=0.0005)\n",
    "        for key, value in params.items()\n",
    "    }\n",
    "    return ipywidgets.interactive(function, **params_spec)"
   ]
  },
  {
   "cell_type": "code",
   "execution_count": 116,
   "id": "f5b59235-a193-482d-80d4-195d70e7be73",
   "metadata": {},
   "outputs": [
    {
     "data": {
      "application/vnd.jupyter.widget-view+json": {
       "model_id": "87bb210cedb14b549635ccc1a6615ab8",
       "version_major": 2,
       "version_minor": 0
      },
      "text/plain": [
       "interactive(children=(FloatText(value=1.6561134509633838e-18, description='t', step=0.0005), FloatText(value=3…"
      ]
     },
     "metadata": {},
     "output_type": "display_data"
    }
   ],
   "source": [
    "def plot_spectrum(**params):\n",
    "    kwant.plotter.bands(lead.finalized(), show=False, params=params);\n",
    "    bands = []\n",
    "    for line in ax.lines:\n",
    "        ks, band_data = line.get_data()\n",
    "        bands.append(band_data)\n",
    "    bands = np.array(bands)\n",
    "    \n",
    "    \n",
    "interact(\n",
    "    plot_spectrum,\n",
    "    **params\n",
    ")"
   ]
  },
  {
   "cell_type": "code",
   "execution_count": 117,
   "id": "137d32f0-f6b7-40c0-9fce-cbd0f8f1e7bf",
   "metadata": {},
   "outputs": [],
   "source": [
    "k0_index = len(ks)//2\n",
    "k0 = ks[k0_index]\n",
    "assert k0 == 0\n",
    "topo_gap = np.abs(bands[14][k0_index] - bands[13][k0_index])"
   ]
  },
  {
   "cell_type": "code",
   "execution_count": 118,
   "id": "b4f89278-ad84-453a-be1c-580f01287982",
   "metadata": {},
   "outputs": [
    {
     "data": {
      "text/plain": [
       "0.0009303096523879513"
      ]
     },
     "execution_count": 118,
     "metadata": {},
     "output_type": "execute_result"
    }
   ],
   "source": [
    "topo_gap"
   ]
  },
  {
   "cell_type": "code",
   "execution_count": null,
   "id": "e699f42f-3172-4514-ae8c-43aa39e89d0d",
   "metadata": {},
   "outputs": [],
   "source": []
  }
 ],
 "metadata": {
  "kernelspec": {
   "display_name": "Python 3 (ipykernel)",
   "language": "python",
   "name": "python3"
  },
  "language_info": {
   "codemirror_mode": {
    "name": "ipython",
    "version": 3
   },
   "file_extension": ".py",
   "mimetype": "text/x-python",
   "name": "python",
   "nbconvert_exporter": "python",
   "pygments_lexer": "ipython3",
   "version": "3.10.5"
  }
 },
 "nbformat": 4,
 "nbformat_minor": 5
}
