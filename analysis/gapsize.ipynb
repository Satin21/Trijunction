{
 "cells": [
  {
   "cell_type": "code",
   "execution_count": 1,
   "id": "42ae5d0c-ba0b-4cf7-ac60-f59b97d957a2",
   "metadata": {},
   "outputs": [],
   "source": [
    "import numpy as np"
   ]
  },
  {
   "cell_type": "code",
   "execution_count": 2,
   "id": "5bbee567-63da-4654-a75a-8d8d878420ba",
   "metadata": {},
   "outputs": [],
   "source": [
    "import sys, os"
   ]
  },
  {
   "cell_type": "code",
   "execution_count": 3,
   "id": "60080fe3-d9ae-4a26-b064-29f6be99d5a3",
   "metadata": {},
   "outputs": [],
   "source": [
    "sys.path.append(os.path.realpath('./../code/'))"
   ]
  },
  {
   "cell_type": "code",
   "execution_count": 114,
   "id": "d225cf3a-d7c9-48bd-abb9-e4b9449f0029",
   "metadata": {},
   "outputs": [],
   "source": [
    "import tools as tl\n",
    "import numpy as np\n",
    "import kwant\n",
    "import kwant.continuum\n",
    "from finite_system import finite_system\n",
    "\n",
    "\n",
    "def lead_hamiltonian(mu_wire):\n",
    "    h = (\n",
    "        \"\"\"\n",
    "    ( t * (k_x**2 + k_y**2) - \"\"\"\n",
    "        + mu_wire\n",
    "        + \"\"\" )* kron(sigma_0, sigma_z)\n",
    "    + alpha * k_x * kron(sigma_y, sigma_z)\n",
    "    - alpha * k_y * kron(sigma_x, sigma_z)\n",
    "    + Delta_re * kron(sigma_0, sigma_x)\n",
    "    + Delta_im * kron(sigma_0, sigma_y)\n",
    "    + B_x * kron(sigma_y, sigma_0)\n",
    "    \"\"\"\n",
    "    )\n",
    "    return h\n",
    "\n",
    "\n",
    "def infinite_system(**geometry):\n",
    "\n",
    "    a = geometry[\"a\"]\n",
    "    w = geometry[\"w\"]\n",
    "    l = geometry[\"l\"]\n",
    "    \n",
    "    center = geometry[\"center\"]\n",
    "\n",
    "    def wires(mu=1 > 0):\n",
    "        \"\"\"\n",
    "        Function that span the wires region with mu.\n",
    "        \"\"\"\n",
    "\n",
    "        def wires_shape(x, y):\n",
    "\n",
    "        \n",
    "            x0, y0 = center\n",
    "            if -w / 2 - x0 < x < w / 2 - x0:\n",
    "                if y0 - l <= y <= y0:\n",
    "                    return mu\n",
    "            return 0\n",
    "\n",
    "        return wires_shape\n",
    "\n",
    "    def make_leads():\n",
    "\n",
    "        lead = kwant.Builder(symmetry=kwant.TranslationalSymmetry([0, a]))\n",
    "        \n",
    "\n",
    "        template_lead = kwant.continuum.discretize(\n",
    "            lead_hamiltonian(\"mus_nw\"), grid=a\n",
    "        )\n",
    "\n",
    "        \n",
    "        def rectangle(site):\n",
    "            x, y = site.pos\n",
    "            if wires()(x, y):\n",
    "                return True\n",
    "\n",
    "        lead.fill(template_lead, shape=rectangle, start=[0, 0])\n",
    "\n",
    "        lead.fill(\n",
    "            template_lead,\n",
    "            shape=lambda site: -w / 2 <= site.pos[0] < w / 2,\n",
    "            start=[0],\n",
    "        )\n",
    "\n",
    "\n",
    "        return lead\n",
    "\n",
    "    def f_params(**params):\n",
    "        \n",
    "        phi1 = params.pop(\"phi1\")\n",
    "        phi2 = params.pop(\"phi2\")\n",
    "        Delta = params.pop(\"Delta\")\n",
    "        params.update(Delta_re=1.0)\n",
    "        params.update(Delta_im=0.0)\n",
    "\n",
    "        params.update(mus_nw=params[\"mus_nw\"][0])\n",
    "    \n",
    "        return params\n",
    "\n",
    "    leads = make_leads()\n",
    "\n",
    "    return leads.finalized(), f_params\n"
   ]
  },
  {
   "cell_type": "code",
   "execution_count": 115,
   "id": "70fba983-607c-4228-8db2-d608620e568a",
   "metadata": {},
   "outputs": [],
   "source": [
    "import parameters"
   ]
  },
  {
   "cell_type": "code",
   "execution_count": 116,
   "id": "8f48608c-c8d0-4912-9845-789f0bbdffac",
   "metadata": {},
   "outputs": [],
   "source": [
    "mu = parameters.bands[0]\n",
    "params = parameters.junction_parameters(m_nw=[mu, mu, mu])"
   ]
  },
  {
   "cell_type": "code",
   "execution_count": 117,
   "id": "1a44e7ef-42eb-4f48-8b2f-975a3bc85308",
   "metadata": {},
   "outputs": [
    {
     "data": {
      "text/plain": [
       "{'mus_nw': [0.0023960204649275973,\n",
       "  0.0023960204649275973,\n",
       "  0.0023960204649275973],\n",
       " 't': 1.6561134509633838e-18,\n",
       " 'Delta': 0.0005,\n",
       " 'alpha': 3e-11,\n",
       " 'B_x': 0.001,\n",
       " 'phi1': 0,\n",
       " 'phi2': 0,\n",
       " 'sigma': 0,\n",
       " 'a': 1e-08}"
      ]
     },
     "execution_count": 117,
     "metadata": {},
     "output_type": "execute_result"
    }
   ],
   "source": [
    "params"
   ]
  },
  {
   "cell_type": "code",
   "execution_count": 118,
   "id": "7df8db12-51ab-41e2-b930-a89dd6068229",
   "metadata": {},
   "outputs": [],
   "source": [
    "geometry = {\n",
    "    \"a\": 1e-8,\n",
    "    \"w\": 7 * 1e-8,\n",
    "    'l': 150 * 1e-8, \n",
    "    \"center\": [0, 0]\n",
    "}"
   ]
  },
  {
   "cell_type": "code",
   "execution_count": 119,
   "id": "cb9e79d4-4f95-4309-946e-e3f30ea936fc",
   "metadata": {},
   "outputs": [
    {
     "name": "stderr",
     "output_type": "stream",
     "text": [
      "/tmp/ipykernel_6347/2186061937.py:65: RuntimeWarning: fill(): The target builder already contains all starting sites.\n",
      "  lead.fill(\n"
     ]
    }
   ],
   "source": [
    "lead_fn, f_params = infinite_system(**geometry)"
   ]
  },
  {
   "cell_type": "code",
   "execution_count": 120,
   "id": "ddeb0f91-7a54-448b-88c5-737e5fdfd569",
   "metadata": {},
   "outputs": [],
   "source": [
    "import scipy"
   ]
  },
  {
   "cell_type": "code",
   "execution_count": 121,
   "id": "ff6e0764-78d8-429a-8677-c0e580d3178a",
   "metadata": {},
   "outputs": [],
   "source": [
    "from utils import eigsh"
   ]
  },
  {
   "cell_type": "code",
   "execution_count": 133,
   "id": "df65b031-015f-40c5-8f66-ff057a2152b4",
   "metadata": {},
   "outputs": [],
   "source": [
    "def spectrum(syst, f_params, params, k=20):\n",
    "    \"\"\"Compute the k smallest magnitude eigenvalues and\n",
    "    corresponding eigenvectors of a system.\n",
    "\n",
    "    Parameters\n",
    "    ----------\n",
    "    syst : `kwant.FiniteSystem` or `kwant.InfiniteSystem`\n",
    "        System of which the spectrum will be computed.\n",
    "    params : dict\n",
    "        Dictionary containing the parameters.\n",
    "    k : int\n",
    "        Number of eigenvalues to calculate.\n",
    "\n",
    "    Returns\n",
    "    -------\n",
    "    energies : numpy array\n",
    "        Array containing smallest magnitude eigenvalues.\n",
    "    wfs : numpy array\n",
    "        Array containing eigenvectors corresponding to eigenvalues.\n",
    "    \"\"\"\n",
    "    ham = syst.hamiltonian_submatrix(params=f_params(**params), sparse=True)\n",
    "    energies = eigsh(ham, k=k, sigma=0)\n",
    "    return energies\n",
    "\n",
    "\n",
    "def gap_from_band_structure(lead, f_params, params, Ns=31, full_output=False):\n",
    "    def energies(k):\n",
    "        k_x, k_y = k\n",
    "        Es = spectrum(lead, f_params, dict(params, k_x=float(k_x), k_y=float(k_y)), k=4)[0]\n",
    "        return np.abs(Es).min()\n",
    "    \n",
    "    result = scipy.optimize.brute(energies, ranges=((0, np.pi), (0, np.pi)),\n",
    "                 Ns=Ns, full_output=full_output)\n",
    "\n",
    "    return energies(result)"
   ]
  },
  {
   "cell_type": "code",
   "execution_count": 134,
   "id": "b2f8b757-8386-4d77-bc3d-9e45f237b4e7",
   "metadata": {},
   "outputs": [
    {
     "name": "stdout",
     "output_type": "stream",
     "text": [
      "CPU times: user 45.9 s, sys: 977 ms, total: 46.9 s\n",
      "Wall time: 46.9 s\n"
     ]
    }
   ],
   "source": [
    "%%time\n",
    "\n",
    "topo_gap = gap_from_band_structure(lead_fn, f_params, params)"
   ]
  },
  {
   "cell_type": "code",
   "execution_count": 138,
   "id": "a3c69560-bb6d-4aae-86d0-123dd3274115",
   "metadata": {},
   "outputs": [
    {
     "data": {
      "text/plain": [
       "0.9995044745716134"
      ]
     },
     "execution_count": 138,
     "metadata": {},
     "output_type": "execute_result"
    }
   ],
   "source": [
    "topo_gap"
   ]
  },
  {
   "cell_type": "code",
   "execution_count": null,
   "id": "2da50275-bcf2-4ffd-8caa-e664df670acd",
   "metadata": {},
   "outputs": [],
   "source": []
  }
 ],
 "metadata": {
  "kernelspec": {
   "display_name": "Python 3 (ipykernel)",
   "language": "python",
   "name": "python3"
  },
  "language_info": {
   "codemirror_mode": {
    "name": "ipython",
    "version": 3
   },
   "file_extension": ".py",
   "mimetype": "text/x-python",
   "name": "python",
   "nbconvert_exporter": "python",
   "pygments_lexer": "ipython3",
   "version": "3.10.5"
  }
 },
 "nbformat": 4,
 "nbformat_minor": 5
}
