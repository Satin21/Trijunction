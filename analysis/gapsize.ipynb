{
 "cells": [
  {
   "cell_type": "code",
   "execution_count": 3,
   "id": "2d76a03b-4612-4646-9c4c-71e2e023694b",
   "metadata": {},
   "outputs": [
    {
     "name": "stdout",
     "output_type": "stream",
     "text": [
      "VoronoiMesh version 0.1\n",
      "DiscretePoisson version 0.3\n",
      "Shape version: 0.1\n",
      "SystEquations version: 0.3\n",
      "Solver version 0.1\n"
     ]
    }
   ],
   "source": [
    "import numpy as np\n",
    "import matplotlib.pyplot as plt\n",
    "\n",
    "import json\n",
    "import kwant\n",
    "\n",
    "import codes.trijunction as trijunction\n",
    "import codes.parameters as parameters\n",
    "from codes.constants import pairs, bands\n",
    "from codes.utils import eigsh, dict_update"
   ]
  },
  {
   "cell_type": "code",
   "execution_count": null,
   "id": "42ae5d0c-ba0b-4cf7-ac60-f59b97d957a2",
   "metadata": {},
   "outputs": [],
   "source": []
  },
  {
   "cell_type": "markdown",
   "id": "c4272356-5f04-4182-85e4-6c4afb921f1e",
   "metadata": {},
   "source": [
    "# Gap from finite system "
   ]
  },
  {
   "cell_type": "code",
   "execution_count": 43,
   "id": "c451bd99-17aa-4e86-9f08-b7b5880131a1",
   "metadata": {},
   "outputs": [],
   "source": [
    "pairs = (\"top-right\", \"left-top\", \"left-right\")"
   ]
  },
  {
   "cell_type": "markdown",
   "id": "c5760005-6e33-4bbf-bbf9-0eb6e6fa69ba",
   "metadata": {
    "tags": []
   },
   "source": [
    "# Initialize trijunction"
   ]
  },
  {
   "cell_type": "code",
   "execution_count": 3,
   "id": "611510eb-3cda-4c09-9565-07c019052112",
   "metadata": {},
   "outputs": [],
   "source": [
    "with open('/home/tinkerer/trijunction-design/codes/config.json', 'r') as f:\n",
    "    config = json.load(f)\n",
    "\n",
    "change_config = [\n",
    "    {\"device\": {\"thickness\": {\"dielectric\": 1.0}}},\n",
    "    {\"gate\": {\"channel_width\": 13.0, 'angle': np.pi/6, 'gap': 2}},\n",
    "]\n",
    "\n",
    "for local_config in change_config:\n",
    "    config = dict_update(config, local_config)"
   ]
  },
  {
   "cell_type": "code",
   "execution_count": 4,
   "id": "46c40bc3-fcaf-4e4a-9148-21ac758acd22",
   "metadata": {},
   "outputs": [
    {
     "name": "stdout",
     "output_type": "stream",
     "text": [
      "Finding closed voronoi cells\n",
      "Done selecting closed voronoi cells\n",
      "Calculating points distance\n",
      "Done\n",
      "Calculating ridges hypersurfaces\n",
      "Done\n",
      "Finding  hypervolume for closed voronoi cells\n",
      "Done finding hypervolume for closed voronoi cells\n",
      "Done calculating surface\n",
      "Done calculating distance\n",
      "Done calculating capacitance matrix\n"
     ]
    },
    {
     "name": "stderr",
     "output_type": "stream",
     "text": [
      "100%|██████████| 13/13 [00:31<00:00,  2.43s/it]\n"
     ]
    }
   ],
   "source": [
    "system = trijunction.Trijunction(config)"
   ]
  },
  {
   "cell_type": "code",
   "execution_count": 6,
   "id": "db01431c-9567-4b13-a252-9e949e6e4ed1",
   "metadata": {},
   "outputs": [],
   "source": [
    "voltages = parameters.pair_voltages(initial=(-1.0e-3, -1.0e-3, -1.0e-3, 2e-3), depleted=-7e-3)"
   ]
  },
  {
   "cell_type": "markdown",
   "id": "a90d1f37-03d2-4ff7-ae5a-c47f7026c874",
   "metadata": {
    "tags": []
   },
   "source": [
    "### Topological gap "
   ]
  },
  {
   "cell_type": "code",
   "execution_count": 13,
   "id": "e8658266-0181-4076-a13e-d83c4ce75db0",
   "metadata": {},
   "outputs": [],
   "source": [
    "params = parameters.junction_parameters()\n",
    "params.update(potential=system.flat_potential(2))"
   ]
  },
  {
   "cell_type": "code",
   "execution_count": 14,
   "id": "b11201fc-1bca-4bba-8d9d-e2a7fb33ebef",
   "metadata": {
    "tags": []
   },
   "outputs": [],
   "source": [
    "num_ham = system.trijunction.hamiltonian_submatrix(\n",
    "            sparse=True, params=system.f_params(**params)\n",
    "        )"
   ]
  },
  {
   "cell_type": "code",
   "execution_count": 15,
   "id": "ab1ffad6-a100-405e-aecb-6710d3785f2d",
   "metadata": {},
   "outputs": [],
   "source": [
    "evasl = eigsh(num_ham, 20)"
   ]
  },
  {
   "cell_type": "code",
   "execution_count": 16,
   "id": "375a6cc5-c7db-4f35-965f-7ca462bb09a8",
   "metadata": {},
   "outputs": [
    {
     "data": {
      "text/plain": [
       "<matplotlib.collections.PathCollection at 0x7f9a9f02f310>"
      ]
     },
     "execution_count": 16,
     "metadata": {},
     "output_type": "execute_result"
    },
    {
     "data": {
      "image/png": "[encoded data removed]",
      "text/plain": [
       "<Figure size 640x480 with 1 Axes>"
      ]
     },
     "metadata": {},
     "output_type": "display_data"
    }
   ],
   "source": [
    "plt.scatter(range(20), evasl)"
   ]
  },
  {
   "cell_type": "code",
   "execution_count": 17,
   "id": "5fd5c340-c0f8-4882-a758-d53809443d6b",
   "metadata": {},
   "outputs": [],
   "source": [
    "topo_gap = evasl[14]"
   ]
  },
  {
   "cell_type": "code",
   "execution_count": 18,
   "id": "69f6af59-1aef-4c82-8715-ff3ab7c0a669",
   "metadata": {},
   "outputs": [
    {
     "data": {
      "text/plain": [
       "6.129407586696337e-05"
      ]
     },
     "execution_count": 18,
     "metadata": {},
     "output_type": "execute_result"
    }
   ],
   "source": [
    "topo_gap"
   ]
  },
  {
   "cell_type": "markdown",
   "id": "2bc590d5-5581-4c13-b226-729f02b13d14",
   "metadata": {},
   "source": [
    "# Gap from momentum space "
   ]
  },
  {
   "cell_type": "code",
   "execution_count": null,
   "id": "f67288a0-6181-4e95-bd38-f5ca369a6e30",
   "metadata": {},
   "outputs": [],
   "source": [
    "mu = codes.parameters.bands[0]"
   ]
  },
  {
   "cell_type": "code",
   "execution_count": null,
   "id": "3cd6d7e0-c344-439c-adb4-b1e08dd962c5",
   "metadata": {},
   "outputs": [],
   "source": [
    "a = 10e-9\n",
    "\n",
    "hamiltonian = \"\"\"( t * (k_x**2 + k_y**2 ) - mu)* kron(sigma_0, sigma_z)\n",
    "+ alpha * k_x * kron(sigma_y, sigma_z)\n",
    "- alpha * k_y * kron(sigma_x, sigma_z)\n",
    "+ Delta_re * kron(sigma_0, sigma_x)\n",
    "+ Delta_im * kron(sigma_0, sigma_y)\n",
    "+ B_x * kron(sigma_x, sigma_0)\"\"\"\n",
    "\n",
    "template = kwant.continuum.discretize(hamiltonian, grid=a)"
   ]
  },
  {
   "cell_type": "code",
   "execution_count": null,
   "id": "1cbc62a5-9d2c-43bf-bc75-95efd0941d18",
   "metadata": {},
   "outputs": [],
   "source": [
    "params = codes.parameters.junction_parameters(0)\n",
    "params.pop('phi1')\n",
    "params.pop('phi2')\n",
    "params.pop('sigma')\n",
    "params.pop('a')\n",
    "params.pop('mus_nw')\n",
    "Delta = params.pop('Delta')\n",
    "params.update(mu=mu)\n",
    "params.update(Delta_re=Delta)\n",
    "params.update(Delta_im=0)\n",
    "params"
   ]
  },
  {
   "cell_type": "code",
   "execution_count": null,
   "id": "31ab5191-8e94-4fa5-8f9c-fef713e410a5",
   "metadata": {},
   "outputs": [],
   "source": [
    "wire_width = 7 * a"
   ]
  },
  {
   "cell_type": "code",
   "execution_count": null,
   "id": "2da50275-bcf2-4ffd-8caa-e664df670acd",
   "metadata": {},
   "outputs": [],
   "source": [
    "lead = kwant.Builder(symmetry=kwant.TranslationalSymmetry([-a, 0]))\n",
    "lead.fill(template, shape=lambda site: 0 <= site.pos[1] < wire_width, start=[0]);"
   ]
  },
  {
   "cell_type": "code",
   "execution_count": null,
   "id": "8a349907-d8db-4248-a569-53ecc7fa24be",
   "metadata": {},
   "outputs": [],
   "source": [
    "kwant.plot(lead)"
   ]
  },
  {
   "cell_type": "code",
   "execution_count": null,
   "id": "d2702ef2-0c03-40ec-a9e1-a8531c8156b3",
   "metadata": {},
   "outputs": [],
   "source": [
    "ks = np.linspace(-1, 1, 500)"
   ]
  },
  {
   "cell_type": "code",
   "execution_count": null,
   "id": "f5b59235-a193-482d-80d4-195d70e7be73",
   "metadata": {},
   "outputs": [],
   "source": [
    "fig, ax = plt.subplots()\n",
    "kwant.plotter.bands(lead.finalized(), show=False, params=params, ax=ax, momenta=ks);\n",
    "bands = []\n",
    "ax.set_ylim(-100e-5, 100e-5)\n",
    "ax.set_ylabel('E[eV]')\n",
    "ax.set_xlabel('k_x')"
   ]
  },
  {
   "cell_type": "code",
   "execution_count": null,
   "id": "7a74d81d-fedd-4a08-9dc8-5c6e1966fcc8",
   "metadata": {},
   "outputs": [],
   "source": [
    "for line in ax.lines:\n",
    "    ks, band_data = line.get_data()\n",
    "    bands.append(band_data)\n",
    "bands = np.array(bands)"
   ]
  },
  {
   "cell_type": "code",
   "execution_count": null,
   "id": "2c618645-08dd-4c8c-ae91-bcc3150e3e05",
   "metadata": {},
   "outputs": [],
   "source": [
    "topo_gap = np.min(np.abs(bands))\n",
    "topo_gap"
   ]
  },
  {
   "cell_type": "code",
   "execution_count": null,
   "id": "e699f42f-3172-4514-ae8c-43aa39e89d0d",
   "metadata": {},
   "outputs": [],
   "source": []
  }
 ],
 "metadata": {
  "kernelspec": {
   "display_name": "Python 3 (ipykernel)",
   "language": "python",
   "name": "python3"
  },
  "language_info": {
   "codemirror_mode": {
    "name": "ipython",
    "version": 3
   },
   "file_extension": ".py",
   "mimetype": "text/x-python",
   "name": "python",
   "nbconvert_exporter": "python",
   "pygments_lexer": "ipython3",
   "version": "3.10.6"
  }
 },
 "nbformat": 4,
 "nbformat_minor": 5
}
