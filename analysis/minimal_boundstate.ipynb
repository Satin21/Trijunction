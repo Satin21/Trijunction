{
 "cells": [
  {
   "cell_type": "code",
   "execution_count": 1,
   "id": "92cbd7f5-410f-4e73-b220-1523211dd7bb",
   "metadata": {},
   "outputs": [],
   "source": [
    "import kwant\n",
    "import matplotlib.pyplot as plt\n",
    "import numpy as np\n",
    "from ccode.modified_boundstate import modified_find_boundstates\n",
    "from ccode.boundstate import find_boundstates, extract_boundstates\n",
    "import scipy.sparse.linalg as sla\n",
    "import time\n",
    "\n",
    "%matplotlib inline\n",
    "plt.rcParams.update({\"font.size\": 12})"
   ]
  },
  {
   "cell_type": "markdown",
   "id": "569d58d0-f29c-43b2-a843-8dddc2b3d167",
   "metadata": {},
   "source": [
    "# Minimal example of bound state algorithm\n",
    "\n",
    "All comments are refering to wires of width 3, but discussion holds for thicker wires.\n",
    "\n",
    "Modifications of the original algorithm:\n",
    "* Interval of energies is sorted such that is starts looking around zero energy.\n",
    "* Search of energy candidates stops after having two candidates.\n",
    "\n",
    "Other modifications are just printing times"
   ]
  },
  {
   "cell_type": "markdown",
   "id": "e182a863-51d4-4abc-b138-d39285b79670",
   "metadata": {},
   "source": [
    "#### Helper functions"
   ]
  },
  {
   "cell_type": "code",
   "execution_count": 2,
   "id": "6b860228-9107-4cf9-8ef5-ae1f2f9fd0ec",
   "metadata": {},
   "outputs": [],
   "source": [
    "def sort_eigen(ev):\n",
    "    \"\"\"\n",
    "    Sort eigenvectors and eigenvalues using numpy methods.\n",
    "    \"\"\"\n",
    "    evals, evecs = ev\n",
    "    idx = np.argsort(evals)\n",
    "    evals = evals[idx]\n",
    "    evecs = evecs[:, idx]\n",
    "    return evals, evecs.T"
   ]
  },
  {
   "cell_type": "code",
   "execution_count": 3,
   "id": "cc341507-a63e-45b8-a16b-44c2e70f9f0f",
   "metadata": {},
   "outputs": [
    {
     "name": "stderr",
     "output_type": "stream",
     "text": [
      "/tmp/ipykernel_2560/1296386344.py:8: KwantDeprecationWarning: Accessing kwant.continuum without an explicit import is deprecated. Instead, explicitly 'import kwant.continuum'.\n",
      "  cavity_template = kwant.continuum.discretize(cavity_hamiltonian)\n",
      "/opt/conda/lib/python3.9/site-packages/sympy/__init__.py:672: SymPyDeprecationWarning: \n",
      "\n",
      "importing sympy.matrices.matrices with 'from sympy import *' has been\n",
      "deprecated since SymPy 1.6. Use import sympy.matrices.matrices\n",
      "instead. See https://github.com/sympy/sympy/issues/18245 for more\n",
      "info.\n",
      "\n",
      "  self.Warn(\n",
      "/opt/conda/lib/python3.9/site-packages/sympy/__init__.py:672: SymPyDeprecationWarning: \n",
      "\n",
      "importing sympy.matrices.matrices with 'from sympy import *' has been\n",
      "deprecated since SymPy 1.6. Use import sympy.matrices.matrices\n",
      "instead. See https://github.com/sympy/sympy/issues/18245 for more\n",
      "info.\n",
      "\n",
      "  self.Warn(\n"
     ]
    }
   ],
   "source": [
    "cavity_hamiltonian = \"\"\"\n",
    "    ( t * (k_x**2 + k_y**2 ) - mu_cavity) * kron(sigma_0, sigma_z)\n",
    "    + alpha * k_x * kron(sigma_y, sigma_z)\n",
    "    - alpha * k_y * kron(sigma_x, sigma_z)\n",
    "    + B_x * kron(sigma_x, sigma_0)\n",
    "\"\"\"\n",
    "\n",
    "cavity_template = kwant.continuum.discretize(cavity_hamiltonian)"
   ]
  },
  {
   "cell_type": "code",
   "execution_count": 4,
   "id": "d068649c-9e4f-4125-a8ad-5e5cd4bbe4ee",
   "metadata": {},
   "outputs": [
    {
     "name": "stderr",
     "output_type": "stream",
     "text": [
      "/opt/conda/lib/python3.9/site-packages/sympy/__init__.py:672: SymPyDeprecationWarning: \n",
      "\n",
      "importing sympy.matrices.matrices with 'from sympy import *' has been\n",
      "deprecated since SymPy 1.6. Use import sympy.matrices.matrices\n",
      "instead. See https://github.com/sympy/sympy/issues/18245 for more\n",
      "info.\n",
      "\n",
      "  self.Warn(\n",
      "/opt/conda/lib/python3.9/site-packages/sympy/__init__.py:672: SymPyDeprecationWarning: \n",
      "\n",
      "importing sympy.matrices.matrices with 'from sympy import *' has been\n",
      "deprecated since SymPy 1.6. Use import sympy.matrices.matrices\n",
      "instead. See https://github.com/sympy/sympy/issues/18245 for more\n",
      "info.\n",
      "\n",
      "  self.Warn(\n"
     ]
    }
   ],
   "source": [
    "lead_hamiltonian = \"\"\"\n",
    "    ( t * (k_x**2 + k_y**2 ) - mu) * kron(sigma_0, sigma_z)\n",
    "    + alpha * k_x * kron(sigma_y, sigma_z)\n",
    "    - alpha * k_y * kron(sigma_x, sigma_z)\n",
    "    + Delta * kron(sigma_0, sigma_x)\n",
    "    + B_x * kron(sigma_x, sigma_0)\n",
    "\"\"\"\n",
    "\n",
    "a = 1\n",
    "lead_template = kwant.continuum.discretize(lead_hamiltonian, grid=a)"
   ]
  },
  {
   "cell_type": "code",
   "execution_count": 5,
   "id": "18bc34a9-d939-4246-a028-8c2c0a8753c3",
   "metadata": {},
   "outputs": [
    {
     "name": "stderr",
     "output_type": "stream",
     "text": [
      "/opt/conda/lib/python3.9/site-packages/sympy/__init__.py:672: SymPyDeprecationWarning: \n",
      "\n",
      "importing sympy.matrices.matrices with 'from sympy import *' has been\n",
      "deprecated since SymPy 1.6. Use import sympy.matrices.matrices\n",
      "instead. See https://github.com/sympy/sympy/issues/18245 for more\n",
      "info.\n",
      "\n",
      "  self.Warn(\n",
      "/opt/conda/lib/python3.9/site-packages/sympy/__init__.py:672: SymPyDeprecationWarning: \n",
      "\n",
      "importing sympy.matrices.matrices with 'from sympy import *' has been\n",
      "deprecated since SymPy 1.6. Use import sympy.matrices.matrices\n",
      "instead. See https://github.com/sympy/sympy/issues/18245 for more\n",
      "info.\n",
      "\n",
      "  self.Warn(\n"
     ]
    }
   ],
   "source": [
    "# Hamiltonian of the system\n",
    "finite_hamiltonian = \"\"\"\n",
    "    ( t * (k_x**2 + k_y**2 ) - mu(x,y)) * kron(sigma_0, sigma_z)\n",
    "    + alpha * k_x * kron(sigma_y, sigma_z)\n",
    "    - alpha * k_y * kron(sigma_x, sigma_z)\n",
    "    + Delta(x,y) * kron(sigma_0, sigma_x)\n",
    "    + B_x * kron(sigma_x, sigma_0)\n",
    "\"\"\"\n",
    "finite_template = kwant.continuum.discretize(finite_hamiltonian, grid=a)"
   ]
  },
  {
   "cell_type": "code",
   "execution_count": 6,
   "id": "0f0891b3-e798-4e0f-b2b1-f1f29ac905ca",
   "metadata": {},
   "outputs": [],
   "source": [
    "def circle_shape(r):\n",
    "    def shape(site):\n",
    "        x, y = site.pos\n",
    "        return x**2 + y**2 < r**2\n",
    "    return shape\n",
    "\n",
    "\n",
    "def make_circular_cavity(r):\n",
    "    junction = kwant.Builder()\n",
    "    junction.fill(\n",
    "        cavity_template,\n",
    "        shape=circle_shape(r),\n",
    "        start=[0,0]\n",
    "    )\n",
    "    return junction"
   ]
  },
  {
   "cell_type": "code",
   "execution_count": 7,
   "id": "bab103b0-e25b-491d-9303-80c8e7fc504c",
   "metadata": {},
   "outputs": [],
   "source": [
    "def circle_junction_shape(r, l, w):\n",
    "    def shape(site):\n",
    "        x, y = site.pos\n",
    "        return x**2 + y**2 < r**2 or (np.abs(x) < l + r and np.abs(y) < w/2)\n",
    "    return shape\n",
    "\n",
    "\n",
    "def make_circular_junction(r, l, w):\n",
    "    junction = kwant.Builder()\n",
    "    junction.fill(\n",
    "        finite_template,\n",
    "        shape=circle_junction_shape(r, l, w),\n",
    "        start=[0, 0]\n",
    "    )\n",
    "    return junction.finalized()\n",
    "\n",
    "\n",
    "def shape_wires_circle(r, mu_circle, mu_wires):\n",
    "    def shape(x, y):\n",
    "        if x**2 + y**2 < r**2:\n",
    "            return mu_circle\n",
    "        else:\n",
    "            return mu_wires\n",
    "    return shape\n",
    "\n",
    "\n",
    "def f_params_circular_junction(r, **parameters):\n",
    "    #print(parameters)\n",
    "    params = parameters.copy()\n",
    "    mu_circle = params.pop('mu_cavity')\n",
    "    mu_wires = params.pop('mu_wires')\n",
    "    Delta = params['Delta']\n",
    "\n",
    "    params.update(mu=shape_wires_circle(r=r,\n",
    "                                        mu_circle=mu_circle,\n",
    "                                        mu_wires=mu_wires))\n",
    "    params.update(Delta=shape_wires_circle(r=r,\n",
    "                                        mu_circle=0,\n",
    "                                        mu_wires=Delta))\n",
    "\n",
    "\n",
    "    return params"
   ]
  },
  {
   "cell_type": "markdown",
   "id": "6215c80a-acab-40a0-ad0f-f00a5359213d",
   "metadata": {},
   "source": [
    "## Circular junction"
   ]
  },
  {
   "cell_type": "markdown",
   "id": "a4d20456-32d8-458d-9a6a-1c5276af848d",
   "metadata": {},
   "source": [
    "### Bound state algorithm"
   ]
  },
  {
   "cell_type": "code",
   "execution_count": 53,
   "id": "27ef442f-927e-4c6a-aa2c-92162061db77",
   "metadata": {},
   "outputs": [
    {
     "data": {
      "image/png": "[encoded data removed]",
      "text/plain": [
       "<Figure size 288x288 with 1 Axes>"
      ]
     },
     "metadata": {
      "needs_background": "light"
     },
     "output_type": "display_data"
    }
   ],
   "source": [
    "# create system\n",
    "circle = make_circular_cavity(r=14)\n",
    "lead = kwant.Builder(symmetry=kwant.TranslationalSymmetry([-1, 0]))\n",
    "W = 13\n",
    "# lead position\n",
    "x0 = -9\n",
    "y0 = 0\n",
    "lead.fill(lead_template,\n",
    "          shape=lambda site: -W/2 + y0 <= site.pos[1] < W/2 + y0,\n",
    "          start=[x0, y0]);\n",
    "circle.attach_lead(lead)\n",
    "circle.attach_lead(lead.reversed())\n",
    "circle = circle.finalized()\n",
    "fig, ax = plt.subplots(figsize=(4, 4))\n",
    "kwant.plot(circle, ax=ax);"
   ]
  },
  {
   "cell_type": "code",
   "execution_count": 54,
   "id": "d385f14d-cd42-4eb7-b2d0-c8c3c9d7b6f0",
   "metadata": {},
   "outputs": [],
   "source": [
    "# parameters such that MBS will be coupled\n",
    "# the topological gap at B = 0.5 is gap* = 0.05\n",
    "# therefore min_energy = -gap* and max_energy = gap*\n",
    "params = {\n",
    "    't': 1,\n",
    "    'mu': 0.3,\n",
    "    'mu_cavity': 0.4,\n",
    "    'alpha': 0.3,\n",
    "    'Delta': 0.3,\n",
    "    'B_x': 0.5\n",
    "}"
   ]
  },
  {
   "cell_type": "code",
   "execution_count": 55,
   "id": "43cea4f9-1974-4463-97ea-8898a1c307dc",
   "metadata": {},
   "outputs": [
    {
     "name": "stdout",
     "output_type": "stream",
     "text": [
      "Time evaluate bound state condition: 0.32141566276550293\n",
      "Time evaluate bound state condition: 0.28925180435180664\n",
      "Time find bound state energy: 0.5347554683685303\n",
      "Time evaluate bound state condition: 0.2553436756134033\n",
      "Time evaluate bound state condition: 0.2555844783782959\n",
      "Time evaluate bound state condition: 0.27544283866882324\n",
      "Time evaluate bound state condition: 0.27613186836242676\n",
      "Time evaluate bound state condition: 0.29556894302368164\n",
      "Time evaluate bound state condition: 0.28240060806274414\n",
      "Time evaluate bound state condition: 0.299314022064209\n",
      "Time evaluate bound state condition: 0.30629539489746094\n",
      "Time evaluate bound state condition: 0.28134751319885254\n",
      "Time evaluate bound state condition: 0.30461978912353516\n",
      "Time evaluate bound state condition: 0.28324007987976074\n",
      "Time evaluate bound state condition: 0.2479724884033203\n",
      "Time evaluate bound state condition: 0.24640870094299316\n",
      "Time evaluate bound state condition: 0.2495107650756836\n",
      "Time evaluate bound state condition: 0.2505161762237549\n",
      "Time evaluate bound state condition: 0.25109076499938965\n",
      "Time evaluate bound state condition: 0.25273942947387695\n",
      "Time find bound state energy: 0.616363525390625\n",
      "Total time to find candidates: 6.376758813858032\n",
      "Time to find lowest single bound state: 0.4418938159942627\n",
      "CPU times: user 6.82 s, sys: 26 ms, total: 6.85 s\n",
      "Wall time: 6.82 s\n"
     ]
    }
   ],
   "source": [
    "%%time\n",
    "# execution of modified bs algorithm\n",
    "# extracted energy and computation time depend strongly on rtol\n",
    "# rtol = 1e-2; time = 2.05 s; energy = 0.026\n",
    "# rtol = 1e-3; time = 4.27 s; energy = 0.008\n",
    "# rtol = 1e-4; time = 26.4 s; energy = 0.006\n",
    "en, vec = modified_find_boundstates(syst=circle,\n",
    "                           min_energy=-0.05,\n",
    "                           max_energy=0.05,\n",
    "                           sparse=True,\n",
    "                           params=params,\n",
    "                           rtol= 1e-3\n",
    "                          )"
   ]
  },
  {
   "cell_type": "code",
   "execution_count": 56,
   "id": "6d27adcb-7e6e-4210-8909-329799b09a83",
   "metadata": {},
   "outputs": [
    {
     "data": {
      "text/plain": [
       "array([0.01022632])"
      ]
     },
     "execution_count": 56,
     "metadata": {},
     "output_type": "execute_result"
    }
   ],
   "source": [
    "en"
   ]
  },
  {
   "cell_type": "code",
   "execution_count": 58,
   "id": "1d298f6e-0a3a-464b-adac-acd56821d900",
   "metadata": {},
   "outputs": [
    {
     "name": "stdout",
     "output_type": "stream",
     "text": [
      "Time evaluate bound state condition: 0.33208799362182617\n",
      "Time find bound state energy: 0.8359463214874268\n",
      "Time evaluate bound state condition: 0.256331205368042\n",
      "Time evaluate bound state condition: 0.2777135372161865\n",
      "Time evaluate bound state condition: 0.3023056983947754\n",
      "Time evaluate bound state condition: 0.3017141819000244\n",
      "Time evaluate bound state condition: 0.30239105224609375\n",
      "Time evaluate bound state condition: 0.3039436340332031\n",
      "Time evaluate bound state condition: 0.30825376510620117\n",
      "Time find bound state energy: 4.840905666351318\n",
      "Time evaluate bound state condition: 0.3036234378814697\n",
      "Time evaluate bound state condition: 0.28163838386535645\n",
      "Time evaluate bound state condition: 0.2599217891693115\n",
      "Time evaluate bound state condition: 0.25751256942749023\n",
      "Time find bound state energy: 0.8807618618011475\n",
      "Time evaluate bound state condition: 0.2513539791107178\n",
      "Time evaluate bound state condition: 0.2456068992614746\n",
      "Time evaluate bound state condition: 0.24423933029174805\n",
      "Time find bound state energy: 0.8845233917236328\n",
      "Time evaluate bound state condition: 0.2553598880767822\n",
      "Time evaluate bound state condition: 0.2585017681121826\n",
      "Time evaluate bound state condition: 0.2570304870605469\n",
      "Time evaluate bound state condition: 0.2596309185028076\n",
      "Time find bound state energy: 1.1445434093475342\n",
      "Time evaluate bound state condition: 0.24751853942871094\n",
      "Time evaluate bound state condition: 0.244981050491333\n",
      "Time find bound state energy: 4.1383819580078125\n",
      "Time evaluate bound state condition: 0.2572493553161621\n",
      "Time find bound state energy: 0.7656242847442627\n",
      "Time evaluate bound state condition: 0.2594454288482666\n",
      "Time evaluate bound state condition: 0.2780416011810303\n",
      "Time evaluate bound state condition: 0.29979372024536133\n",
      "Time evaluate bound state condition: 0.30313873291015625\n",
      "Time evaluate bound state condition: 0.29983949661254883\n",
      "Time evaluate bound state condition: 0.2961130142211914\n",
      "Time find bound state energy: 4.625983953475952\n",
      "Time evaluate bound state condition: 0.2921731472015381\n",
      "Time evaluate bound state condition: 0.2928028106689453\n",
      "Time evaluate bound state condition: 0.24425315856933594\n",
      "Time evaluate bound state condition: 0.24765300750732422\n",
      "Time evaluate bound state condition: 0.24738430976867676\n",
      "Time evaluate bound state condition: 0.24886107444763184\n",
      "Time find bound state energy: 0.7437233924865723\n",
      "Time evaluate bound state condition: 0.2503821849822998\n",
      "Time evaluate bound state condition: 0.25583934783935547\n",
      "Time evaluate bound state condition: 0.2527339458465576\n",
      "Time find bound state energy: 4.024415493011475\n",
      "Time evaluate bound state condition: 0.25191831588745117\n",
      "Time evaluate bound state condition: 0.24683260917663574\n",
      "Time evaluate bound state condition: 0.24712657928466797\n",
      "Time find bound state energy: 0.5903894901275635\n",
      "Time evaluate bound state condition: 0.23502445220947266\n",
      "Time evaluate bound state condition: 0.24390816688537598\n",
      "Time evaluate bound state condition: 0.24623775482177734\n",
      "Time evaluate bound state condition: 0.27423524856567383\n",
      "Time evaluate bound state condition: 0.30005764961242676\n",
      "Time evaluate bound state condition: 0.2918508052825928\n",
      "Time evaluate bound state condition: 0.2874157428741455\n",
      "Time evaluate bound state condition: 0.244337797164917\n",
      "Time evaluate bound state condition: 0.2483365535736084\n",
      "Time evaluate bound state condition: 0.2529618740081787\n",
      "Time find bound state energy: 0.5071055889129639\n",
      "Time evaluate bound state condition: 0.2527146339416504\n",
      "Time evaluate bound state condition: 0.2541992664337158\n",
      "Time evaluate bound state condition: 0.27726078033447266\n",
      "Time evaluate bound state condition: 0.29906129837036133\n",
      "Time evaluate bound state condition: 0.28414201736450195\n",
      "Time evaluate bound state condition: 0.26157450675964355\n",
      "Time evaluate bound state condition: 0.239396333694458\n",
      "Time evaluate bound state condition: 0.24064898490905762\n",
      "Time evaluate bound state condition: 0.2431786060333252\n",
      "Time evaluate bound state condition: 0.24240660667419434\n",
      "Time find bound state energy: 0.5993227958679199\n",
      "Time evaluate bound state condition: 0.24125289916992188\n",
      "Time evaluate bound state condition: 0.24672460556030273\n",
      "Time evaluate bound state condition: 0.2549116611480713\n",
      "Time find bound state energy: 4.043469667434692\n",
      "Time evaluate bound state condition: 0.25336480140686035\n",
      "Time evaluate bound state condition: 0.2532954216003418\n",
      "Time evaluate bound state condition: 0.24757122993469238\n",
      "Time find bound state energy: 0.7473781108856201\n",
      "Time evaluate bound state condition: 0.24856781959533691\n",
      "Time evaluate bound state condition: 0.25377416610717773\n",
      "Time evaluate bound state condition: 0.2775552272796631\n",
      "Time evaluate bound state condition: 0.3008589744567871\n",
      "Time evaluate bound state condition: 0.29796266555786133\n",
      "Time evaluate bound state condition: 0.2983410358428955\n",
      "Time find bound state energy: 4.517103672027588\n",
      "Time evaluate bound state condition: 0.27833127975463867\n",
      "Time evaluate bound state condition: 0.2814064025878906\n",
      "Time evaluate bound state condition: 0.2563598155975342\n",
      "Time evaluate bound state condition: 0.23451733589172363\n",
      "Time evaluate bound state condition: 0.24033260345458984\n",
      "Time evaluate bound state condition: 0.2413475513458252\n",
      "Time find bound state energy: 0.7251064777374268\n",
      "Time evaluate bound state condition: 0.24047493934631348\n",
      "Time find bound state energy: 4.10616397857666\n",
      "Time evaluate bound state condition: 0.31383228302001953\n",
      "Time evaluate bound state condition: 0.2881786823272705\n",
      "Time find bound state energy: 1.1289010047912598\n",
      "Time evaluate bound state condition: 0.25122547149658203\n",
      "Time evaluate bound state condition: 0.25060129165649414\n",
      "Time evaluate bound state condition: 0.2440967559814453\n",
      "Time evaluate bound state condition: 0.2412722110748291\n",
      "Time find bound state energy: 0.8276627063751221\n",
      "Time evaluate bound state condition: 0.23623156547546387\n",
      "Time evaluate bound state condition: 0.238908052444458\n",
      "Time evaluate bound state condition: 0.23652911186218262\n",
      "Time find bound state energy: 0.8312900066375732\n",
      "Time evaluate bound state condition: 0.24997901916503906\n",
      "Time evaluate bound state condition: 0.273606538772583\n",
      "Time evaluate bound state condition: 0.29698777198791504\n",
      "Time evaluate bound state condition: 0.29786252975463867\n",
      "Time find bound state energy: 4.722281455993652\n",
      "Time evaluate bound state condition: 0.29024791717529297\n",
      "Time evaluate bound state condition: 0.2915489673614502\n",
      "Time evaluate bound state condition: 0.2953970432281494\n",
      "Time evaluate bound state condition: 0.2970259189605713\n",
      "Time evaluate bound state condition: 0.27457356452941895\n",
      "Time evaluate bound state condition: 0.2543008327484131\n",
      "Time evaluate bound state condition: 0.2524070739746094\n",
      "Time find bound state energy: 0.7596895694732666\n",
      "Total time to find candidates: 73.3639509677887\n",
      "Time find all bound states: 5.028076648712158\n",
      "CPU times: user 1min 18s, sys: 142 ms, total: 1min 18s\n",
      "Wall time: 1min 18s\n"
     ]
    }
   ],
   "source": [
    "%%time\n",
    "# execution of original bs algorithm\n",
    "# lowest extracted bound state is the same as the previous case\n",
    "# but computation takes much longer due to consideration of all candidates\n",
    "# rtol = 1e-2; time = 14 s\n",
    "# energies = 0.02658972,  0.04001602\n",
    "# rtol = 1e-3; time = 51.3 s\n",
    "# energies = 0.00856191,  0.01915394,  0.02551161,  0.04001602,  0.04723886\n",
    "# rtol = 1e-4; time = 3 min 38 s\n",
    "# energies = 0.00657352,  0.00856191,  0.01915394, 0.02551161,  0.02658972,  0.04001602,  0.04723886\n",
    "en, vec = find_boundstates(syst=circle,\n",
    "                           min_energy=-0.05,\n",
    "                           max_energy=0.05,\n",
    "                           sparse=True,\n",
    "                           params=params,\n",
    "                           rtol=1e-3\n",
    "                          )"
   ]
  },
  {
   "cell_type": "code",
   "execution_count": 59,
   "id": "b72293dc-05dd-419e-977e-efd76d40d543",
   "metadata": {},
   "outputs": [
    {
     "data": {
      "text/plain": [
       "array([-0.03162861, -0.02876076, -0.01568878, -0.01022632,  0.01022632,\n",
       "        0.01568878,  0.02876076,  0.03162861])"
      ]
     },
     "execution_count": 59,
     "metadata": {},
     "output_type": "execute_result"
    }
   ],
   "source": [
    "en"
   ]
  },
  {
   "cell_type": "markdown",
   "id": "64476d3e-ed40-4f56-9c28-3bebe654fb82",
   "metadata": {},
   "source": [
    "### Sparse diagonalization"
   ]
  },
  {
   "cell_type": "code",
   "execution_count": 76,
   "id": "f4e8da4d-cb9c-4859-8824-5bd2c5752d16",
   "metadata": {},
   "outputs": [
    {
     "data": {
      "text/plain": [
       "(-16.0, 16.0)"
      ]
     },
     "execution_count": 76,
     "metadata": {},
     "output_type": "execute_result"
    },
    {
     "data": {
      "image/png": "[encoded data removed]",
      "text/plain": [
       "<Figure size 288x288 with 1 Axes>"
      ]
     },
     "metadata": {
      "needs_background": "light"
     },
     "output_type": "display_data"
    }
   ],
   "source": [
    "circle_junction = make_circular_junction(r=14, l=200, w=9)\n",
    "fig, ax = plt.subplots(figsize=(4, 4))\n",
    "kwant.plot(circle_junction, ax=ax);\n",
    "ax.set_xlim(-16, 16)"
   ]
  },
  {
   "cell_type": "code",
   "execution_count": 77,
   "id": "a714094d-374b-4e3e-8ee4-7a230cb90c45",
   "metadata": {},
   "outputs": [],
   "source": [
    "params = {\n",
    "    't': 1,\n",
    "    'mu_wires': 0.3,\n",
    "    'mu_cavity': 0.4,\n",
    "    'alpha': 0.3,\n",
    "    'Delta': 0.3,\n",
    "    'B_x': 0.5\n",
    "}"
   ]
  },
  {
   "cell_type": "code",
   "execution_count": 78,
   "id": "9dd20f21-04c4-4d0c-bc2e-66a2531bf061",
   "metadata": {},
   "outputs": [
    {
     "name": "stdout",
     "output_type": "stream",
     "text": [
      "CPU times: user 1.33 s, sys: 27.9 ms, total: 1.36 s\n",
      "Wall time: 1.36 s\n"
     ]
    }
   ],
   "source": [
    "%%time\n",
    "# sparse diagonalization finds all bound states in 601 ms\n",
    "# energies = 6.57e-03, 8.56e-03,  1.91e-02,  2.55e-02,  2.65e-02, 4.00e-02,  4.72e-02\n",
    "# lowest state found in 200 ms\n",
    "ham = circle_junction.hamiltonian_submatrix(sparse=True,\n",
    "                                            params=f_params_circular_junction(r=14, **params))\n",
    "val, vec = sort_eigen(sla.eigsh(ham.tocsc(), k=4, sigma=0))"
   ]
  },
  {
   "cell_type": "code",
   "execution_count": 79,
   "id": "8c2e2d98-2b47-44a2-87dc-59f7c9d96d4c",
   "metadata": {},
   "outputs": [
    {
     "data": {
      "text/plain": [
       "array([-0.02084086, -0.0094878 ,  0.0094878 ,  0.02084086])"
      ]
     },
     "execution_count": 79,
     "metadata": {},
     "output_type": "execute_result"
    }
   ],
   "source": [
    "val"
   ]
  },
  {
   "cell_type": "code",
   "execution_count": 66,
   "id": "f4c4469a-7f50-4079-8602-eb6d83a014cc",
   "metadata": {},
   "outputs": [],
   "source": [
    "# we conclude that sparse diagonalization is faster than the current bs algorithm\n",
    "# times shown are for wires of width = 3, but general behaviour holds for thicker systems\n",
    "# for example, for wires width = 9:\n",
    "# sparse time = 1.19 s vs modified bs time = 6.9 s vs full bs = 8.41 with rtol = 1e-2\n",
    "# for wires width = 13\n",
    "# sparse time = 920 ms vs modified bs time = 6.82 s vs full bs time = 1 min 18 s with rtol = 1e-3\n",
    "# rtol chosen s.t. lowest state is found\n",
    "# if not small enough, bs algorithm finds second bound state"
   ]
  },
  {
   "cell_type": "code",
   "execution_count": 71,
   "id": "bfa41c77-09fd-4e11-95e1-1e03abcebe26",
   "metadata": {},
   "outputs": [],
   "source": [
    "# sanity check, look for majoranas by depleting the cavity"
   ]
  },
  {
   "cell_type": "code",
   "execution_count": 68,
   "id": "f9af6941-7d92-4404-9c63-77a3a65c4cd8",
   "metadata": {},
   "outputs": [],
   "source": [
    "params = {\n",
    "    't': 1,\n",
    "    'mu_wires': 0.3,\n",
    "    'mu_cavity': -2,\n",
    "    'alpha': 0.3,\n",
    "    'Delta': 0.3,\n",
    "    'B_x': 0.5\n",
    "}"
   ]
  },
  {
   "cell_type": "code",
   "execution_count": 69,
   "id": "95989a6c-b3fc-4c08-9c84-35bee0cef5ae",
   "metadata": {},
   "outputs": [
    {
     "name": "stdout",
     "output_type": "stream",
     "text": [
      "CPU times: user 726 ms, sys: 23 ms, total: 749 ms\n",
      "Wall time: 746 ms\n"
     ]
    }
   ],
   "source": [
    "%%time\n",
    "# sparse diagonalization finds all bound states in 601 ms\n",
    "# energies = 6.57e-03, 8.56e-03,  1.91e-02,  2.55e-02,  2.65e-02, 4.00e-02,  4.72e-02\n",
    "# lowest state found in 200 ms\n",
    "ham = circle_junction.hamiltonian_submatrix(sparse=True,\n",
    "                                            params=f_params_circular_junction(r=14, **params))\n",
    "val, vec = sort_eigen(sla.eigsh(ham.tocsc(), k=4, sigma=0))"
   ]
  },
  {
   "cell_type": "code",
   "execution_count": 70,
   "id": "cadf6dfe-3b38-4680-8bb0-9297b8cb96c7",
   "metadata": {},
   "outputs": [
    {
     "data": {
      "text/plain": [
       "array([-1.24413999e-09, -1.24413945e-09,  1.24413952e-09,  1.24414005e-09])"
      ]
     },
     "execution_count": 70,
     "metadata": {},
     "output_type": "execute_result"
    }
   ],
   "source": [
    "val"
   ]
  },
  {
   "cell_type": "code",
   "execution_count": 72,
   "id": "cc5c7499-6335-4f29-87c4-e4c47c5cc9e8",
   "metadata": {},
   "outputs": [],
   "source": [
    "density = kwant.operator.Density(circle_junction, np.eye(4))"
   ]
  },
  {
   "cell_type": "code",
   "execution_count": 75,
   "id": "49e1d91e-875b-4e66-adee-088794091c79",
   "metadata": {},
   "outputs": [
    {
     "data": {
      "image/png": "[encoded data removed]",
      "text/plain": [
       "<Figure size 432x288 with 2 Axes>"
      ]
     },
     "metadata": {
      "needs_background": "light"
     },
     "output_type": "display_data"
    },
    {
     "name": "stderr",
     "output_type": "stream",
     "text": [
      "/tmp/ipykernel_2560/1720318116.py:1: VisibleDeprecationWarning: Creating an ndarray from ragged nested sequences (which is a list-or-tuple of lists-or-tuples-or ndarrays with different lengths or shapes) is deprecated. If you meant to do this, you must specify 'dtype=object' when creating the ndarray.\n",
      "  kwant.plotter.density(circle_junction, density(vec[1]));\n"
     ]
    },
    {
     "data": {
      "image/png": "[encoded data removed]",
      "text/plain": [
       "<Figure size 432x288 with 2 Axes>"
      ]
     },
     "metadata": {
      "needs_background": "light"
     },
     "output_type": "display_data"
    },
    {
     "name": "stderr",
     "output_type": "stream",
     "text": [
      "/tmp/ipykernel_2560/1720318116.py:2: VisibleDeprecationWarning: Creating an ndarray from ragged nested sequences (which is a list-or-tuple of lists-or-tuples-or ndarrays with different lengths or shapes) is deprecated. If you meant to do this, you must specify 'dtype=object' when creating the ndarray.\n",
      "  kwant.plotter.density(circle_junction, density(vec[2]));\n"
     ]
    }
   ],
   "source": [
    "kwant.plotter.density(circle_junction, density(vec[1]));\n",
    "kwant.plotter.density(circle_junction, density(vec[2]));"
   ]
  },
  {
   "cell_type": "code",
   "execution_count": null,
   "id": "f0eba0a1-e11e-43d6-910d-f9b94d36bb0e",
   "metadata": {},
   "outputs": [],
   "source": []
  }
 ],
 "metadata": {
  "kernelspec": {
   "display_name": "Python 3 (ipykernel)",
   "language": "python",
   "name": "python3"
  },
  "language_info": {
   "codemirror_mode": {
    "name": "ipython",
    "version": 3
   },
   "file_extension": ".py",
   "mimetype": "text/x-python",
   "name": "python",
   "nbconvert_exporter": "python",
   "pygments_lexer": "ipython3",
   "version": "3.9.7"
  }
 },
 "nbformat": 4,
 "nbformat_minor": 5
}
