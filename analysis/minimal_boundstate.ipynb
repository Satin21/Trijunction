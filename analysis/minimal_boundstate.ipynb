{
 "cells": [
  {
   "cell_type": "code",
   "execution_count": 1,
   "id": "a6a63ea2-f3d3-4eea-b014-9e93b7926a72",
   "metadata": {},
   "outputs": [],
   "source": [
    "import kwant\n",
    "import matplotlib.pyplot as plt\n",
    "import numpy as np\n",
    "from ccode.modified_boundstate import modified_find_boundstates\n",
    "from ccode.boundstate import find_boundstates, extract_boundstates\n",
    "import scipy.sparse.linalg as sla\n",
    "import time\n",
    "\n",
    "%matplotlib inline\n",
    "plt.rcParams.update({\"font.size\": 12})"
   ]
  },
  {
   "cell_type": "markdown",
   "id": "022cc9a1-0166-40d8-ab0d-2067a2104d9f",
   "metadata": {},
   "source": [
    "# Minimal example of bound state algorithm\n",
    "\n",
    "All comments are refering to wires of width 3, but discussion holds for thicker wires.\n",
    "\n",
    "Modifications of the original algorithm:\n",
    "* Interval of energies is sorted such that is starts looking around zero energy.\n",
    "* Search of energy candidates stops after having two candidates.\n",
    "\n",
    "Other modifications are just printing times"
   ]
  },
  {
   "cell_type": "markdown",
   "id": "6b090e1b-5036-44d6-96d6-056fcba0f303",
   "metadata": {},
   "source": [
    "#### Helper functions"
   ]
  },
  {
   "cell_type": "code",
   "execution_count": 2,
   "id": "181b9f8d-f038-44a2-9e85-04921e7e5837",
   "metadata": {},
   "outputs": [],
   "source": [
    "def sort_eigen(ev):\n",
    "    \"\"\"\n",
    "    Sort eigenvectors and eigenvalues using numpy methods.\n",
    "    \"\"\"\n",
    "    evals, evecs = ev\n",
    "    idx = np.argsort(evals)\n",
    "    evals = evals[idx]\n",
    "    evecs = evecs[:, idx]\n",
    "    return evals, evecs.T"
   ]
  },
  {
   "cell_type": "code",
   "execution_count": 3,
   "id": "fa2d2761-1320-4755-ae0f-53c11fe3b49e",
   "metadata": {},
   "outputs": [
    {
     "name": "stderr",
     "output_type": "stream",
     "text": [
      "/tmp/ipykernel_2690/1296386344.py:8: KwantDeprecationWarning: Accessing kwant.continuum without an explicit import is deprecated. Instead, explicitly 'import kwant.continuum'.\n",
      "  cavity_template = kwant.continuum.discretize(cavity_hamiltonian)\n",
      "/opt/conda/lib/python3.9/site-packages/sympy/__init__.py:672: SymPyDeprecationWarning: \n",
      "\n",
      "importing sympy.matrices.matrices with 'from sympy import *' has been\n",
      "deprecated since SymPy 1.6. Use import sympy.matrices.matrices\n",
      "instead. See https://github.com/sympy/sympy/issues/18245 for more\n",
      "info.\n",
      "\n",
      "  self.Warn(\n",
      "/opt/conda/lib/python3.9/site-packages/sympy/__init__.py:672: SymPyDeprecationWarning: \n",
      "\n",
      "importing sympy.matrices.matrices with 'from sympy import *' has been\n",
      "deprecated since SymPy 1.6. Use import sympy.matrices.matrices\n",
      "instead. See https://github.com/sympy/sympy/issues/18245 for more\n",
      "info.\n",
      "\n",
      "  self.Warn(\n"
     ]
    }
   ],
   "source": [
    "cavity_hamiltonian = \"\"\"\n",
    "    ( t * (k_x**2 + k_y**2 ) - mu_cavity) * kron(sigma_0, sigma_z)\n",
    "    + alpha * k_x * kron(sigma_y, sigma_z)\n",
    "    - alpha * k_y * kron(sigma_x, sigma_z)\n",
    "    + B_x * kron(sigma_x, sigma_0)\n",
    "\"\"\"\n",
    "\n",
    "cavity_template = kwant.continuum.discretize(cavity_hamiltonian)"
   ]
  },
  {
   "cell_type": "code",
   "execution_count": 4,
   "id": "696dc46d-9062-4979-b742-336e45ac5dd4",
   "metadata": {},
   "outputs": [
    {
     "name": "stderr",
     "output_type": "stream",
     "text": [
      "/opt/conda/lib/python3.9/site-packages/sympy/__init__.py:672: SymPyDeprecationWarning: \n",
      "\n",
      "importing sympy.matrices.matrices with 'from sympy import *' has been\n",
      "deprecated since SymPy 1.6. Use import sympy.matrices.matrices\n",
      "instead. See https://github.com/sympy/sympy/issues/18245 for more\n",
      "info.\n",
      "\n",
      "  self.Warn(\n",
      "/opt/conda/lib/python3.9/site-packages/sympy/__init__.py:672: SymPyDeprecationWarning: \n",
      "\n",
      "importing sympy.matrices.matrices with 'from sympy import *' has been\n",
      "deprecated since SymPy 1.6. Use import sympy.matrices.matrices\n",
      "instead. See https://github.com/sympy/sympy/issues/18245 for more\n",
      "info.\n",
      "\n",
      "  self.Warn(\n"
     ]
    }
   ],
   "source": [
    "lead_hamiltonian = \"\"\"\n",
    "    ( t * (k_x**2 + k_y**2 ) - mu) * kron(sigma_0, sigma_z)\n",
    "    + alpha * k_x * kron(sigma_y, sigma_z)\n",
    "    - alpha * k_y * kron(sigma_x, sigma_z)\n",
    "    + Delta * kron(sigma_0, sigma_x)\n",
    "    + B_x * kron(sigma_x, sigma_0)\n",
    "\"\"\"\n",
    "\n",
    "a = 1\n",
    "lead_template = kwant.continuum.discretize(lead_hamiltonian, grid=a)"
   ]
  },
  {
   "cell_type": "code",
   "execution_count": 5,
   "id": "6aede016-be8d-431c-a2af-32227098208d",
   "metadata": {},
   "outputs": [
    {
     "name": "stderr",
     "output_type": "stream",
     "text": [
      "/opt/conda/lib/python3.9/site-packages/sympy/__init__.py:672: SymPyDeprecationWarning: \n",
      "\n",
      "importing sympy.matrices.matrices with 'from sympy import *' has been\n",
      "deprecated since SymPy 1.6. Use import sympy.matrices.matrices\n",
      "instead. See https://github.com/sympy/sympy/issues/18245 for more\n",
      "info.\n",
      "\n",
      "  self.Warn(\n",
      "/opt/conda/lib/python3.9/site-packages/sympy/__init__.py:672: SymPyDeprecationWarning: \n",
      "\n",
      "importing sympy.matrices.matrices with 'from sympy import *' has been\n",
      "deprecated since SymPy 1.6. Use import sympy.matrices.matrices\n",
      "instead. See https://github.com/sympy/sympy/issues/18245 for more\n",
      "info.\n",
      "\n",
      "  self.Warn(\n"
     ]
    }
   ],
   "source": [
    "# Hamiltonian of the system\n",
    "finite_hamiltonian = \"\"\"\n",
    "    ( t * (k_x**2 + k_y**2 ) - mu(x,y)) * kron(sigma_0, sigma_z)\n",
    "    + alpha * k_x * kron(sigma_y, sigma_z)\n",
    "    - alpha * k_y * kron(sigma_x, sigma_z)\n",
    "    + Delta(x,y) * kron(sigma_0, sigma_x)\n",
    "    + B_x * kron(sigma_x, sigma_0)\n",
    "\"\"\"\n",
    "finite_template = kwant.continuum.discretize(finite_hamiltonian, grid=a)"
   ]
  },
  {
   "cell_type": "code",
   "execution_count": 6,
   "id": "064249fd-27d5-43a3-a8ac-9b65583129a6",
   "metadata": {},
   "outputs": [],
   "source": [
    "def circle_shape(r):\n",
    "    def shape(site):\n",
    "        x, y = site.pos\n",
    "        return x**2 + y**2 < r**2\n",
    "    return shape\n",
    "\n",
    "\n",
    "def make_circular_cavity(r):\n",
    "    junction = kwant.Builder()\n",
    "    junction.fill(\n",
    "        cavity_template,\n",
    "        shape=circle_shape(r),\n",
    "        start=[0,0]\n",
    "    )\n",
    "    return junction"
   ]
  },
  {
   "cell_type": "code",
   "execution_count": 7,
   "id": "2ee2c531-9f98-49e8-bde0-d22d159b284a",
   "metadata": {},
   "outputs": [],
   "source": [
    "def circle_junction_shape(r, l, w):\n",
    "    def shape(site):\n",
    "        x, y = site.pos\n",
    "        return x**2 + y**2 < r**2 or (np.abs(x) < l + r and np.abs(y) < w/2)\n",
    "    return shape\n",
    "\n",
    "\n",
    "def make_circular_junction(r, l, w):\n",
    "    junction = kwant.Builder()\n",
    "    junction.fill(\n",
    "        finite_template,\n",
    "        shape=circle_junction_shape(r, l, w),\n",
    "        start=[0, 0]\n",
    "    )\n",
    "    return junction.finalized()\n",
    "\n",
    "\n",
    "def shape_wires_circle(r, mu_circle, mu_wires):\n",
    "    def shape(x, y):\n",
    "        if x**2 + y**2 < r**2:\n",
    "            return mu_circle\n",
    "        else:\n",
    "            return mu_wires\n",
    "    return shape\n",
    "\n",
    "\n",
    "def f_params_circular_junction(r, **parameters):\n",
    "    #print(parameters)\n",
    "    params = parameters.copy()\n",
    "    mu_circle = params.pop('mu_cavity')\n",
    "    mu_wires = params.pop('mu_wires')\n",
    "    Delta = params['Delta']\n",
    "\n",
    "    params.update(mu=shape_wires_circle(r=r,\n",
    "                                        mu_circle=mu_circle,\n",
    "                                        mu_wires=mu_wires))\n",
    "    params.update(Delta=shape_wires_circle(r=r,\n",
    "                                        mu_circle=0,\n",
    "                                        mu_wires=Delta))\n",
    "\n",
    "\n",
    "    return params"
   ]
  },
  {
   "cell_type": "markdown",
   "id": "f849dc19-b805-4dd6-9548-3eb2431a4baa",
   "metadata": {},
   "source": [
    "## Circular junction"
   ]
  },
  {
   "cell_type": "markdown",
   "id": "3bbb9fe3-5e37-4161-b815-4df0c9523c69",
   "metadata": {},
   "source": [
    "### Bound state algorithm"
   ]
  },
  {
   "cell_type": "code",
   "execution_count": 42,
   "id": "d87c45cd-9b45-41f9-b57e-ec832b779bca",
   "metadata": {},
   "outputs": [
    {
     "data": {
      "image/png": "[encoded data removed]",
      "text/plain": [
       "<Figure size 288x288 with 1 Axes>"
      ]
     },
     "metadata": {
      "needs_background": "light"
     },
     "output_type": "display_data"
    }
   ],
   "source": [
    "# create system\n",
    "circle = make_circular_cavity(r=14)\n",
    "lead = kwant.Builder(symmetry=kwant.TranslationalSymmetry([-1, 0]))\n",
    "W = 3\n",
    "# lead position\n",
    "x0 = -9\n",
    "y0 = 0\n",
    "lead.fill(lead_template,\n",
    "          shape=lambda site: -W/2 + y0 <= site.pos[1] < W/2 + y0,\n",
    "          start=[x0, y0]);\n",
    "circle.attach_lead(lead)\n",
    "circle.attach_lead(lead.reversed())\n",
    "circle = circle.finalized()\n",
    "fig, ax = plt.subplots(figsize=(4, 4))\n",
    "kwant.plot(circle, ax=ax);"
   ]
  },
  {
   "cell_type": "code",
   "execution_count": 58,
   "id": "87081c37-b70c-4b54-acd0-f70cc3094fc4",
   "metadata": {},
   "outputs": [],
   "source": [
    "# parameters such that MBS will be coupled\n",
    "# the topological gap at B = 0.5 is gap* = 0.05\n",
    "# therefore min_energy = -gap* and max_energy = gap*\n",
    "params = {\n",
    "    't': 1,\n",
    "    'mu': 0.3,\n",
    "    'mu_cavity': 0.4,\n",
    "    'alpha': 0.3,\n",
    "    'Delta': 0.3,\n",
    "    'B_x': 0.5\n",
    "}"
   ]
  },
  {
   "cell_type": "code",
   "execution_count": 59,
   "id": "de4c2a64-6287-4661-9cd9-6c35703ff5be",
   "metadata": {},
   "outputs": [
    {
     "name": "stdout",
     "output_type": "stream",
     "text": [
      "Time evaluate bound state condition: 0.2883315086364746\n",
      "Time evaluate bound state condition: 0.25163888931274414\n",
      "Time find bound state energy: 0.40967869758605957\n",
      "Time evaluate bound state condition: 0.19053387641906738\n",
      "Time evaluate bound state condition: 0.21339654922485352\n",
      "Time evaluate bound state condition: 0.16267156600952148\n",
      "Time evaluate bound state condition: 0.23804521560668945\n",
      "Time evaluate bound state condition: 0.20522832870483398\n",
      "Time evaluate bound state condition: 0.20496916770935059\n",
      "Time evaluate bound state condition: 0.20327401161193848\n",
      "Time evaluate bound state condition: 0.17440247535705566\n",
      "Time evaluate bound state condition: 0.17416095733642578\n",
      "Time evaluate bound state condition: 0.17580747604370117\n",
      "Time evaluate bound state condition: 0.18101906776428223\n",
      "Time evaluate bound state condition: 0.18283534049987793\n",
      "Time evaluate bound state condition: 0.17820167541503906\n",
      "Time evaluate bound state condition: 0.17772603034973145\n",
      "Time find bound state energy: 0.4326791763305664\n",
      "Total time to find candidates: 4.046260356903076\n",
      "Time to find lowest single bound state: 0.2511272430419922\n",
      "CPU times: user 4.29 s, sys: 28 ms, total: 4.32 s\n",
      "Wall time: 4.3 s\n"
     ]
    }
   ],
   "source": [
    "%%time\n",
    "# execution of modified bs algorithm\n",
    "# extracted energy and computation time depend strongly on rtol\n",
    "# rtol = 1e-2; time = 2.05 s; energy = 0.026\n",
    "# rtol = 1e-3; time = 4.27 s; energy = 0.008\n",
    "# rtol = 1e-4; time = 26.4 s; energy = 0.006\n",
    "en, vec = modified_find_boundstates(syst=circle,\n",
    "                           min_energy=-0.05,\n",
    "                           max_energy=0.05,\n",
    "                           sparse=True,\n",
    "                           params=params,\n",
    "                           rtol= 1e-3\n",
    "                          )"
   ]
  },
  {
   "cell_type": "code",
   "execution_count": 60,
   "id": "47bdc39b-a504-4e1d-9c7f-31b82650033b",
   "metadata": {},
   "outputs": [
    {
     "data": {
      "text/plain": [
       "array([0.00856191])"
      ]
     },
     "execution_count": 60,
     "metadata": {},
     "output_type": "execute_result"
    }
   ],
   "source": [
    "en"
   ]
  },
  {
   "cell_type": "code",
   "execution_count": 61,
   "id": "da7619e4-e6d5-4cf2-aad4-09b4a952c8b0",
   "metadata": {},
   "outputs": [
    {
     "data": {
      "text/plain": [
       "array([], shape=(2460, 0), dtype=complex128)"
      ]
     },
     "execution_count": 61,
     "metadata": {},
     "output_type": "execute_result"
    }
   ],
   "source": [
    "# check that no bound state is found at energy zero\n",
    "extract_boundstates(syst=circle, params=params)"
   ]
  },
  {
   "cell_type": "code",
   "execution_count": 63,
   "id": "00ceec6f-7a13-479a-a6d9-17612ef54d58",
   "metadata": {},
   "outputs": [
    {
     "data": {
      "text/plain": [
       "array([[-0.00305256+0.00311168j],\n",
       "       [ 0.00217365-0.00296957j],\n",
       "       [ 0.00522029-0.00764035j],\n",
       "       ...,\n",
       "       [-0.02490453+0.00096242j],\n",
       "       [-0.00627313-0.01238048j],\n",
       "       [-0.00348168-0.00495899j]])"
      ]
     },
     "execution_count": 63,
     "metadata": {},
     "output_type": "execute_result"
    }
   ],
   "source": [
    "# it is found at the energy given by find_boundstates\n",
    "extract_boundstates(syst=circle, params=params, energy=0.00856191)"
   ]
  },
  {
   "cell_type": "code",
   "execution_count": 64,
   "id": "56dcdadf-ef42-4799-a16a-3455bec53c0a",
   "metadata": {},
   "outputs": [
    {
     "data": {
      "text/plain": [
       "array([[-0.000426  +0.00097786j],\n",
       "       [ 0.01871139+0.03131855j],\n",
       "       [ 0.00015493-0.00142841j],\n",
       "       ...,\n",
       "       [-0.02547358+0.02446849j],\n",
       "       [-0.01937182-0.00162499j],\n",
       "       [ 0.00183483+0.0036759j ]])"
      ]
     },
     "execution_count": 64,
     "metadata": {},
     "output_type": "execute_result"
    }
   ],
   "source": [
    "# it gives an eigenvector even for all energies even if not found by find_boundstates\n",
    "# in this case the energy is taken from sparse diag\n",
    "lowest_en = 6.57352400e-03\n",
    "extract_boundstates(syst=circle, params=params, energy=lowest_en)"
   ]
  },
  {
   "cell_type": "code",
   "execution_count": 46,
   "id": "ca116d47-fc66-4a84-bab2-2d9763e0d5b2",
   "metadata": {},
   "outputs": [
    {
     "name": "stdout",
     "output_type": "stream",
     "text": [
      "Time evaluate bound state condition: 0.24169921875\n",
      "Time evaluate bound state condition: 0.20255374908447266\n",
      "Time evaluate bound state condition: 0.20300078392028809\n",
      "Time find bound state energy: 0.4346141815185547\n",
      "Time evaluate bound state condition: 0.16791653633117676\n",
      "Time evaluate bound state condition: 0.1676621437072754\n",
      "Time evaluate bound state condition: 0.16587543487548828\n",
      "Time evaluate bound state condition: 0.16337084770202637\n",
      "Time find bound state energy: 2.952437400817871\n",
      "Time evaluate bound state condition: 0.16475939750671387\n",
      "Time evaluate bound state condition: 0.16491389274597168\n",
      "Time evaluate bound state condition: 0.1618950366973877\n",
      "Time find bound state energy: 0.4988546371459961\n",
      "Time evaluate bound state condition: 0.16930413246154785\n",
      "Time evaluate bound state condition: 0.17521977424621582\n",
      "Time evaluate bound state condition: 0.1713240146636963\n",
      "Time evaluate bound state condition: 0.17133307456970215\n",
      "Time evaluate bound state condition: 0.19138360023498535\n",
      "Time evaluate bound state condition: 0.2144629955291748\n",
      "Time find bound state energy: 3.4642467498779297\n",
      "Time evaluate bound state condition: 0.21560931205749512\n",
      "Time evaluate bound state condition: 0.2126021385192871\n",
      "Time evaluate bound state condition: 0.1672377586364746\n",
      "Time evaluate bound state condition: 0.16432905197143555\n",
      "Time evaluate bound state condition: 0.16828513145446777\n",
      "Time evaluate bound state condition: 0.17478537559509277\n",
      "Time evaluate bound state condition: 0.23663616180419922\n",
      "Time evaluate bound state condition: 0.2061316967010498\n",
      "Time evaluate bound state condition: 0.2058699131011963\n",
      "Time find bound state energy: 0.5484063625335693\n",
      "Time evaluate bound state condition: 0.1795179843902588\n",
      "Time evaluate bound state condition: 0.17918682098388672\n",
      "Time find bound state energy: 2.8452470302581787\n",
      "Time evaluate bound state condition: 0.17991113662719727\n",
      "Time evaluate bound state condition: 0.17798829078674316\n",
      "Time evaluate bound state condition: 0.17656159400939941\n",
      "Time evaluate bound state condition: 0.17710232734680176\n",
      "Time find bound state energy: 0.4444925785064697\n",
      "Time evaluate bound state condition: 0.17698979377746582\n",
      "Time evaluate bound state condition: 0.1797778606414795\n",
      "Time evaluate bound state condition: 0.17923808097839355\n",
      "Time evaluate bound state condition: 0.17994046211242676\n",
      "Time evaluate bound state condition: 0.1804952621459961\n",
      "Time find bound state energy: 2.8204994201660156\n",
      "Time evaluate bound state condition: 0.17490911483764648\n",
      "Time evaluate bound state condition: 0.17016386985778809\n",
      "Time evaluate bound state condition: 0.1704714298248291\n",
      "Time evaluate bound state condition: 0.17432761192321777\n",
      "Time evaluate bound state condition: 0.1772456169128418\n",
      "Time evaluate bound state condition: 0.17290091514587402\n",
      "Time find bound state energy: 0.4384756088256836\n",
      "Time evaluate bound state condition: 0.17767906188964844\n",
      "Time evaluate bound state condition: 0.17503952980041504\n",
      "Time evaluate bound state condition: 0.17792129516601562\n",
      "Time evaluate bound state condition: 0.18163633346557617\n",
      "Time evaluate bound state condition: 0.17705392837524414\n",
      "Time evaluate bound state condition: 0.19536232948303223\n",
      "Time evaluate bound state condition: 0.2158820629119873\n",
      "Time evaluate bound state condition: 0.2113356590270996\n",
      "Time find bound state energy: 0.3810911178588867\n",
      "Time evaluate bound state condition: 0.21506762504577637\n",
      "Time evaluate bound state condition: 0.19395899772644043\n",
      "Time evaluate bound state condition: 0.16926002502441406\n",
      "Time evaluate bound state condition: 0.16805791854858398\n",
      "Time evaluate bound state condition: 0.17220187187194824\n",
      "Time evaluate bound state condition: 0.17368602752685547\n",
      "Time evaluate bound state condition: 0.17843198776245117\n",
      "Time evaluate bound state condition: 0.17754030227661133\n",
      "Time find bound state energy: 0.44191431999206543\n",
      "Time evaluate bound state condition: 0.17667245864868164\n",
      "Time evaluate bound state condition: 0.17454171180725098\n",
      "Time evaluate bound state condition: 0.16927075386047363\n",
      "Time evaluate bound state condition: 0.17377734184265137\n",
      "Time evaluate bound state condition: 0.17567777633666992\n",
      "Time evaluate bound state condition: 0.17779850959777832\n",
      "Time find bound state energy: 2.9282548427581787\n",
      "Time evaluate bound state condition: 0.1699228286743164\n",
      "Time evaluate bound state condition: 0.17247843742370605\n",
      "Time evaluate bound state condition: 0.16960477828979492\n",
      "Time evaluate bound state condition: 0.17026519775390625\n",
      "Time evaluate bound state condition: 0.1679089069366455\n",
      "Time find bound state energy: 0.4290449619293213\n",
      "Time evaluate bound state condition: 0.16975617408752441\n",
      "Time evaluate bound state condition: 0.1754438877105713\n",
      "Time evaluate bound state condition: 0.17522215843200684\n",
      "Time evaluate bound state condition: 0.17360806465148926\n",
      "Time find bound state energy: 2.896299362182617\n",
      "Time evaluate bound state condition: 0.1678013801574707\n",
      "Time evaluate bound state condition: 0.1701803207397461\n",
      "Time find bound state energy: 0.49422764778137207\n",
      "Time evaluate bound state condition: 0.16240525245666504\n",
      "Time evaluate bound state condition: 0.162245512008667\n",
      "Time evaluate bound state condition: 0.1625654697418213\n",
      "Time evaluate bound state condition: 0.1618356704711914\n",
      "Time evaluate bound state condition: 0.16193294525146484\n",
      "Time evaluate bound state condition: 0.18224453926086426\n",
      "Time evaluate bound state condition: 0.19364094734191895\n",
      "Time evaluate bound state condition: 0.20428013801574707\n",
      "Time evaluate bound state condition: 0.2023942470550537\n",
      "Time find bound state energy: 3.415513277053833\n",
      "Time evaluate bound state condition: 0.1925816535949707\n",
      "Time evaluate bound state condition: 0.1725921630859375\n",
      "Time evaluate bound state condition: 0.1716620922088623\n",
      "Time evaluate bound state condition: 0.17507100105285645\n",
      "Time evaluate bound state condition: 0.17421364784240723\n",
      "Time evaluate bound state condition: 0.17508816719055176\n",
      "Time find bound state energy: 0.522388219833374\n",
      "Time evaluate bound state condition: 0.1748197078704834\n",
      "Time evaluate bound state condition: 0.17101383209228516\n",
      "Time evaluate bound state condition: 0.16793012619018555\n",
      "Time find bound state energy: 2.9000468254089355\n",
      "Time evaluate bound state condition: 0.20030450820922852\n",
      "Time evaluate bound state condition: 0.1987762451171875\n",
      "Time evaluate bound state condition: 0.20040225982666016\n",
      "Time evaluate bound state condition: 0.18029451370239258\n",
      "Time find bound state energy: 0.4366264343261719\n",
      "Time evaluate bound state condition: 0.17455434799194336\n",
      "Time evaluate bound state condition: 0.17526698112487793\n",
      "Total time to find candidates: 47.14618182182312\n",
      "Time to find all bound states: 2.67629337310791\n",
      "CPU times: user 49.8 s, sys: 127 ms, total: 49.9 s\n",
      "Wall time: 49.8 s\n"
     ]
    }
   ],
   "source": [
    "%%time\n",
    "# execution of original bs algorithm\n",
    "# lowest extracted bound state is the same as the previous case\n",
    "# but computation takes much longer due to consideration of all candidates\n",
    "# rtol = 1e-2; time = 14 s\n",
    "# energies = 0.02658972,  0.04001602\n",
    "# rtol = 1e-3; time = 51.3 s\n",
    "# energies = 0.00856191,  0.01915394,  0.02551161,  0.04001602,  0.04723886\n",
    "# rtol = 1e-4; time = 3 min 38 s\n",
    "# energies = 0.00657352,  0.00856191,  0.01915394, 0.02551161,  0.02658972,  0.04001602,  0.04723886\n",
    "en, vec = find_boundstates(syst=circle,\n",
    "                           min_energy=-0.05,\n",
    "                           max_energy=0.05,\n",
    "                           sparse=True,\n",
    "                           params=params,\n",
    "                           rtol=1e-3\n",
    "                          )"
   ]
  },
  {
   "cell_type": "code",
   "execution_count": 47,
   "id": "97249347-5baa-4b25-ab75-d1600117c50f",
   "metadata": {},
   "outputs": [
    {
     "data": {
      "text/plain": [
       "array([-0.04723886, -0.04001602, -0.02551161, -0.01915394, -0.00856191,\n",
       "        0.00856191,  0.01915394,  0.02551161,  0.04001602,  0.04723886])"
      ]
     },
     "execution_count": 47,
     "metadata": {},
     "output_type": "execute_result"
    }
   ],
   "source": [
    "en"
   ]
  },
  {
   "cell_type": "code",
   "execution_count": 52,
   "id": "4eb1db06-2190-445d-8515-443cf72c01a9",
   "metadata": {},
   "outputs": [],
   "source": [
    "# note that the lowest state is not the true lowest state found from sparse diagonalisation"
   ]
  },
  {
   "cell_type": "markdown",
   "id": "21f1103f-21bc-4281-adfe-a6a927054ac8",
   "metadata": {},
   "source": [
    "### Sparse diagonalization"
   ]
  },
  {
   "cell_type": "code",
   "execution_count": 48,
   "id": "003b8477-1041-49eb-a714-ff6c76287ed6",
   "metadata": {},
   "outputs": [
    {
     "data": {
      "text/plain": [
       "(-16.0, 16.0)"
      ]
     },
     "execution_count": 48,
     "metadata": {},
     "output_type": "execute_result"
    },
    {
     "data": {
      "image/png": "[encoded data removed]",
      "text/plain": [
       "<Figure size 288x288 with 1 Axes>"
      ]
     },
     "metadata": {
      "needs_background": "light"
     },
     "output_type": "display_data"
    }
   ],
   "source": [
    "circle_junction = make_circular_junction(r=14, l=200, w=3)\n",
    "fig, ax = plt.subplots(figsize=(4, 4))\n",
    "kwant.plot(circle_junction, ax=ax);\n",
    "ax.set_xlim(-16, 16)"
   ]
  },
  {
   "cell_type": "code",
   "execution_count": 49,
   "id": "a33a7125-9898-4f06-9e76-167b48953a5d",
   "metadata": {},
   "outputs": [],
   "source": [
    "params = {\n",
    "    't': 1,\n",
    "    'mu_wires': 0.3,\n",
    "    'mu_cavity': 0.4,\n",
    "    'alpha': 0.3,\n",
    "    'Delta': 0.3,\n",
    "    'B_x': 0.5\n",
    "}"
   ]
  },
  {
   "cell_type": "code",
   "execution_count": 50,
   "id": "799e3ac6-47c1-4e92-ac76-320eb7db29f5",
   "metadata": {},
   "outputs": [
    {
     "name": "stdout",
     "output_type": "stream",
     "text": [
      "CPU times: user 207 ms, sys: 6.97 ms, total: 214 ms\n",
      "Wall time: 210 ms\n"
     ]
    }
   ],
   "source": [
    "%%time\n",
    "# sparse diagonalization finds all bound states in 601 ms\n",
    "# energies = 6.57e-03, 8.56e-03,  1.91e-02,  2.55e-02,  2.65e-02, 4.00e-02,  4.72e-02\n",
    "# lowest state found in 200 ms\n",
    "ham = circle_junction.hamiltonian_submatrix(sparse=True,\n",
    "                                            params=f_params_circular_junction(r=14, **params))\n",
    "val, vec = sort_eigen(sla.eigsh(ham.tocsc(), k=4, sigma=0))"
   ]
  },
  {
   "cell_type": "code",
   "execution_count": 51,
   "id": "47692564-c9ca-4f32-9f88-16cb46f26252",
   "metadata": {},
   "outputs": [
    {
     "data": {
      "text/plain": [
       "array([-6.57352402e-03, -2.66442154e-17, -1.94535875e-17,  6.57352400e-03])"
      ]
     },
     "execution_count": 51,
     "metadata": {},
     "output_type": "execute_result"
    }
   ],
   "source": [
    "val"
   ]
  },
  {
   "cell_type": "code",
   "execution_count": 35,
   "id": "cfabbc9a-3f8c-4010-b399-4c8a916e2bbf",
   "metadata": {},
   "outputs": [],
   "source": [
    "# we conclude that sparse diagonalization is faster than the current bs algorithm\n",
    "# times shown are for wires of width = 3, but general behaviour holds for thicker systems\n",
    "# for example, for wires width = 9:\n",
    "# sparse time = 1.19 s vs modified bs time = 6.9 s vs full bs = 8.41 with rtol = 1e-2\n",
    "# for wires width = 13\n",
    "# sparse time = 920 ms vs modified bs time = 6.82 s vs full bs time = 1 min 18 s with rtol = 1e-3\n",
    "# rtol chosen s.t. lowest state is found\n",
    "# if not small enough, bs algorithm finds second bound state"
   ]
  },
  {
   "cell_type": "code",
   "execution_count": 36,
   "id": "b7fc772e-f4f8-4e21-aad7-7c0b5a240b06",
   "metadata": {},
   "outputs": [],
   "source": [
    "# sanity check, look for majoranas by depleting the cavity"
   ]
  },
  {
   "cell_type": "code",
   "execution_count": 37,
   "id": "8989c127-9d63-4ff2-b7ea-9a7819c59865",
   "metadata": {},
   "outputs": [],
   "source": [
    "params = {\n",
    "    't': 1,\n",
    "    'mu_wires': 0.3,\n",
    "    'mu_cavity': -2,\n",
    "    'alpha': 0.3,\n",
    "    'Delta': 0.3,\n",
    "    'B_x': 0.5\n",
    "}"
   ]
  },
  {
   "cell_type": "code",
   "execution_count": 38,
   "id": "fc7ef787-2e7c-452e-b21e-2800e2ed037a",
   "metadata": {},
   "outputs": [
    {
     "name": "stdout",
     "output_type": "stream",
     "text": [
      "CPU times: user 162 ms, sys: 7.03 ms, total: 169 ms\n",
      "Wall time: 166 ms\n"
     ]
    }
   ],
   "source": [
    "%%time\n",
    "# sparse diagonalization finds all bound states in 601 ms\n",
    "# energies = 6.57e-03, 8.56e-03,  1.91e-02,  2.55e-02,  2.65e-02, 4.00e-02,  4.72e-02\n",
    "# lowest state found in 200 ms\n",
    "ham = circle_junction.hamiltonian_submatrix(sparse=True,\n",
    "                                            params=f_params_circular_junction(r=14, **params))\n",
    "val, vec = sort_eigen(sla.eigsh(ham.tocsc(), k=4, sigma=0))"
   ]
  },
  {
   "cell_type": "code",
   "execution_count": 39,
   "id": "abb9e413-1586-42ca-86a8-0ceaa07bb992",
   "metadata": {},
   "outputs": [
    {
     "data": {
      "text/plain": [
       "array([-1.97015585e-12, -1.97004890e-12,  1.96996991e-12,  1.97007686e-12])"
      ]
     },
     "execution_count": 39,
     "metadata": {},
     "output_type": "execute_result"
    }
   ],
   "source": [
    "val"
   ]
  },
  {
   "cell_type": "code",
   "execution_count": 40,
   "id": "f6dbe8e2-a8df-4a8d-8cb5-c5ef38e4cdf6",
   "metadata": {},
   "outputs": [],
   "source": [
    "density = kwant.operator.Density(circle_junction, np.eye(4))"
   ]
  },
  {
   "cell_type": "code",
   "execution_count": 41,
   "id": "a544eb97-ef4f-4c9c-a116-d15505d22481",
   "metadata": {},
   "outputs": [
    {
     "data": {
      "image/png": "[encoded data removed]",
      "text/plain": [
       "<Figure size 432x288 with 2 Axes>"
      ]
     },
     "metadata": {
      "needs_background": "light"
     },
     "output_type": "display_data"
    },
    {
     "name": "stderr",
     "output_type": "stream",
     "text": [
      "/tmp/ipykernel_2690/4131955867.py:1: VisibleDeprecationWarning: Creating an ndarray from ragged nested sequences (which is a list-or-tuple of lists-or-tuples-or ndarrays with different lengths or shapes) is deprecated. If you meant to do this, you must specify 'dtype=object' when creating the ndarray.\n",
      "  kwant.plotter.density(circle_junction, density(vec[2]));\n"
     ]
    },
    {
     "data": {
      "image/png": "[encoded data removed]",
      "text/plain": [
       "<Figure size 432x288 with 2 Axes>"
      ]
     },
     "metadata": {
      "needs_background": "light"
     },
     "output_type": "display_data"
    },
    {
     "name": "stderr",
     "output_type": "stream",
     "text": [
      "/tmp/ipykernel_2690/4131955867.py:2: VisibleDeprecationWarning: Creating an ndarray from ragged nested sequences (which is a list-or-tuple of lists-or-tuples-or ndarrays with different lengths or shapes) is deprecated. If you meant to do this, you must specify 'dtype=object' when creating the ndarray.\n",
      "  kwant.plotter.density(circle_junction, density(vec[1]));\n"
     ]
    }
   ],
   "source": [
    "kwant.plotter.density(circle_junction, density(vec[2]));\n",
    "kwant.plotter.density(circle_junction, density(vec[1]));"
   ]
  },
  {
   "cell_type": "code",
   "execution_count": null,
   "id": "ac360fb9-376b-49da-9ab6-24a91aa785c9",
   "metadata": {},
   "outputs": [],
   "source": []
  }
 ],
 "metadata": {
  "kernelspec": {
   "display_name": "Python 3 (ipykernel)",
   "language": "python",
   "name": "python3"
  },
  "language_info": {
   "codemirror_mode": {
    "name": "ipython",
    "version": 3
   },
   "file_extension": ".py",
   "mimetype": "text/x-python",
   "name": "python",
   "nbconvert_exporter": "python",
   "pygments_lexer": "ipython3",
   "version": "3.9.7"
  }
 },
 "nbformat": 4,
 "nbformat_minor": 5
}
