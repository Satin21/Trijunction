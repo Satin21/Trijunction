{
 "cells": [
  {
   "cell_type": "code",
   "execution_count": 1,
   "id": "bdebabfa-4064-4bd6-ac80-b1546b72fb75",
   "metadata": {},
   "outputs": [
    {
     "name": "stdout",
     "output_type": "stream",
     "text": [
      "VoronoiMesh version 0.1\n",
      "DiscretePoisson version 0.3\n",
      "Shape version: 0.1\n",
      "SystEquations version: 0.3\n",
      "Solver version 0.1\n"
     ]
    }
   ],
   "source": [
    "import sys\n",
    "sys.path.append(\"/home/tinkerer/spin-qubit/codes/\")\n",
    "sys.path.insert(0, \"/home/tinkerer/Poisson_Solver//\")\n",
    "\n",
    "import numpy as np\n",
    "from collections import OrderedDict\n",
    "from ccode.plotting import plot_gates\n",
    "from scipy import constants\n",
    "\n",
    "from Hamiltonian import discrete_system_coordinates, kwant_system, tight_binding_Hamiltonian\n",
    "from potential import gate_potential, linear_problem_instance\n",
    "from utility import prepare_voltages\n",
    "from plotting import plot_potential\n",
    "from layout import (\n",
    "    Layout,\n",
    "    OverlappingGateLayer,\n",
    "    PlanarGateLayer,\n",
    "    SimpleChargeLayer,\n",
    "    SimpleVoltageLayer,\n",
    "    TwoDEGLayer,\n",
    ")"
   ]
  },
  {
   "cell_type": "code",
   "execution_count": 2,
   "id": "df3c5cb7-4efe-436e-9e82-b2978a36c41c",
   "metadata": {},
   "outputs": [],
   "source": [
    "a = 1"
   ]
  },
  {
   "cell_type": "code",
   "execution_count": 3,
   "id": "93f0fb8c-88d1-4a23-b5f9-4af42364bfd2",
   "metadata": {},
   "outputs": [],
   "source": [
    "# Functions used to create the vertices\n",
    "\n",
    "def rectangular_gate(center, length, width): \n",
    "    \"\"\"\n",
    "    Returns vertices of a gate\n",
    "    \"\"\"\n",
    "    x, y = center\n",
    "\n",
    "    gate = np.array(\n",
    "        [\n",
    "            [-width/2, -length/2],\n",
    "            [-width/2, length/2],\n",
    "            [width/2, length/2],\n",
    "            [width/2, -length/2]\n",
    "        ]\n",
    "    )\n",
    "    gate[:, 0] += x\n",
    "    gate[:, 1] += y\n",
    "\n",
    "    return gate\n",
    "\n",
    "\n",
    "def half_disk_gate(R, center=(0, 0), npts=100, shift=0):\n",
    "    \"\"\"\n",
    "    Return vertices of a half disk shaped polygon\n",
    "    \"\"\"\n",
    "    x, y = center\n",
    "\n",
    "    angles = np.linspace(0, np.pi, npts)\n",
    "\n",
    "    xs = x + np.cos(angles)*R\n",
    "    ys = y + np.sin(angles)*R\n",
    "    \n",
    "    ys[0] -= shift\n",
    "    ys[-1] -= shift\n",
    "\n",
    "    return np.vstack([xs, ys]).T\n",
    "\n",
    "\n",
    "def ring_gate(R, r, center=(0, 0), npts=100):\n",
    "    \"\"\"\n",
    "    Return vertices of a ring-shaped polygon\n",
    "    Parameters:\n",
    "    -----------\n",
    "        R: outer radius\n",
    "        r: inner radius\n",
    "    \"\"\"\n",
    "    x, y = center\n",
    "\n",
    "    angles = np.linspace(0, np.pi, npts)\n",
    "\n",
    "    Xs = x + np.cos(angles)*R\n",
    "    Ys = y + np.sin(angles)*R\n",
    "\n",
    "    xs = x + np.cos(angles)*r\n",
    "    ys = y + np.sin(angles)*r\n",
    "\n",
    "    out_ring = np.vstack([Xs, Ys]).T\n",
    "    in_ring = np.vstack([xs, ys]).T[::-1]\n",
    "\n",
    "    return np.vstack([out_ring, in_ring])\n",
    "\n",
    "def covering_ring(center=(0, 0), npts=100):\n",
    "    \"\"\"\n",
    "    Return vertices of a polygon that completes a rectangular region with an internal disk\n",
    "    \"\"\"\n",
    "    angles = np.linspace(0, np.pi/2, npts)\n",
    "    x, y = center\n",
    "    Xs = x + np.cos(angles)*(R+gap)\n",
    "    Ys = y + np.sin(angles)*(R+gap)\n",
    "    where_cut = np.where(np.abs(Xs - gap - wire_width/2) < 1)[0]\n",
    "    Xs = Xs[:where_cut[0]]\n",
    "    Ys = Ys[:where_cut[0]]\n",
    "\n",
    "    borders = [\n",
    "        [Xs[-1], R + gap +tunel_length + y],\n",
    "        [R + 2*gap + 2*wire_width, R + gap +tunel_length + y],\n",
    "        [R + 2*gap + 2*wire_width, 0],\n",
    "        [Xs[0], 0]\n",
    "    ]\n",
    "    vertex = np.vstack([np.concatenate((Xs, np.array(borders)[:, 0])), np.concatenate((Ys, np.array(borders)[:, 1]))]).T\n",
    "    return vertex"
   ]
  },
  {
   "cell_type": "code",
   "execution_count": 4,
   "id": "681d0985-fd1e-4eb3-bd3c-3f84e8223ed2",
   "metadata": {},
   "outputs": [],
   "source": [
    "# Geometry parameters\n",
    "R = 100\n",
    "wire_width = 15\n",
    "r = R-15\n",
    "gap = 8\n",
    "tunel_length = 5\n",
    "y_shift = tunel_length + gap"
   ]
  },
  {
   "cell_type": "code",
   "execution_count": 5,
   "id": "07e3663f-8e47-4bfd-bcc7-42371eeb1f5e",
   "metadata": {},
   "outputs": [],
   "source": [
    "# Boundaries within Poisson region\n",
    "zmin = -0.5\n",
    "zmax = 0.5\n",
    "xmax = R + 2*gap + 2*wire_width\n",
    "xmin = -xmax\n",
    "ymin = 0\n",
    "ymax = R + gap +tunel_length + y_shift\n",
    "boundaries = [xmin, xmax, ymin, ymax, zmin, zmax]\n",
    "total_width = 2*xmax\n",
    "total_length = ymax"
   ]
  },
  {
   "cell_type": "code",
   "execution_count": 6,
   "id": "61add388-b1d7-4d72-8cd9-40dabf076eaf",
   "metadata": {},
   "outputs": [],
   "source": [
    "screen_gates = {}\n",
    "screen_gates['disk_screen'] = half_disk_gate(R=r-gap, center=(0, y_shift), shift=gap+tunel_length)\n",
    "screen_gates['extra_screen_right'] = covering_ring(center=(0, y_shift))\n",
    "reflected_extra_screen = covering_ring(center=(0, y_shift))\n",
    "reflected_extra_screen[:, 0] *= -1\n",
    "screen_gates['extra_screen_left'] = reflected_extra_screen\n",
    "\n",
    "plunger_gates = {}\n",
    "\n",
    "x_c_P = R-wire_width/2\n",
    "y_c = tunel_length/2\n",
    "width_P = R - 3/2 * wire_width - 2 * gap\n",
    "\n",
    "plunger_gates['ring_plunger'] = ring_gate(R=R, r=r, center=(0, y_shift))\n",
    "\n",
    "tunel_gates = {}\n",
    "x_c_T = R - wire_width/2\n",
    "tunel_gates['left_tunel'] = rectangular_gate(center=(-x_c_T, y_c), length=tunel_length, width=wire_width)\n",
    "tunel_gates['central_tunel'] = rectangular_gate(center=(0, R + 2 * gap + y_c + 5), length=tunel_length, width=wire_width)\n",
    "tunel_gates['right_tunel'] = rectangular_gate(center=(x_c_T, y_c), length=tunel_length, width=wire_width)"
   ]
  },
  {
   "cell_type": "code",
   "execution_count": 7,
   "id": "75cc2d0d-88a6-4e20-a5b7-7714ff622eb8",
   "metadata": {},
   "outputs": [],
   "source": [
    "gates = {'plunger_gates': plunger_gates, 'screen_gates': screen_gates, 'tunel_gates': tunel_gates}"
   ]
  },
  {
   "cell_type": "code",
   "execution_count": 8,
   "id": "07e3e5dd-9336-4398-9212-28ec656ac280",
   "metadata": {},
   "outputs": [
    {
     "data": {
      "image/png": "[encoded data removed]",
      "text/plain": [
       "<Figure size 864x432 with 1 Axes>"
      ]
     },
     "metadata": {
      "needs_background": "light"
     },
     "output_type": "display_data"
    }
   ],
   "source": [
    "plot_gates(gates);"
   ]
  },
  {
   "cell_type": "code",
   "execution_count": 9,
   "id": "559739eb-fcfb-461e-8e00-0429d4c3c8d7",
   "metadata": {},
   "outputs": [],
   "source": [
    "# Set up system paramters\n",
    "thickness_barrier = 4\n",
    "thickness_twoDEG = 4\n",
    "thickness_gates = 6\n",
    "thickness_self_Al2O3 = 4\n",
    "\n",
    "meff = 0.023 * constants.m_e  # in Kg\n",
    "eV = 1.0\n",
    "bandgap_GaAs = 1.519 * eV\n",
    "\n",
    "permittivity_metal = 5000\n",
    "permittivity_GaAs = 12.18\n",
    "permittivity_twoDEG = 15  # InAs\n",
    "permittivity_air = 1.0\n",
    "permittivity_Al2O3 = 9.1\n",
    "\n",
    "grid_spacing_twoDEG = 1\n",
    "grid_spacing_normal = 1\n",
    "grid_spacing_dielectric = 5\n",
    "grid_spacing_air = 5\n",
    "grid_spacing_GaAs = grid_spacing_normal\n",
    "grid_spacing_gate = grid_spacing_twoDEG\n",
    "grid_spacing = grid_spacing_twoDEG"
   ]
  },
  {
   "cell_type": "code",
   "execution_count": 79,
   "id": "81e92725-566c-4c15-9237-f683050d84fd",
   "metadata": {
    "tags": []
   },
   "outputs": [
    {
     "name": "stdout",
     "output_type": "stream",
     "text": [
      "checking intersection\n",
      "finished checking intersection\n",
      "Finding closed voronoi cells\n",
      "Done selecting closed voronoi cells\n",
      "Calculating points distance\n",
      "Done\n",
      "Calculating ridges hypersurfaces\n",
      "Done\n",
      "Finding  hypervolume for closed voronoi cells\n",
      "Done finding hypervolume for closed voronoi cells\n",
      "Done calculating surface\n",
      "Done calculating distance\n",
      "Done calculating capacitance matrix\n"
     ]
    }
   ],
   "source": [
    "# Solve for Poisson system\n",
    "layout = Layout(total_width,\n",
    "                total_length,\n",
    "                grid_width_air=grid_spacing_air,\n",
    "                margin=(50, 50, 50),\n",
    "                shift=(0, total_length/2, 0))\n",
    "\n",
    "layout.add_layer(\n",
    "    TwoDEGLayer(\n",
    "        \"twoDEG\",\n",
    "        thickness_twoDEG,\n",
    "        permittivity_twoDEG,\n",
    "        grid_spacing_twoDEG,\n",
    "        add_to_previous_layer = False,\n",
    "        fix_overlap = False,\n",
    "        z_bottom = None\n",
    "    ),\n",
    "    center=True,\n",
    ")\n",
    "\n",
    "height = thickness_twoDEG / 2\n",
    "\n",
    "layout.add_layer(\n",
    "    SimpleChargeLayer(\n",
    "        \"Al2O3\",\n",
    "        thickness_barrier,\n",
    "        permittivity_Al2O3,\n",
    "        grid_spacing_GaAs,\n",
    "        add_to_previous_layer = False,\n",
    "        fix_overlap = False,\n",
    "        z_bottom = None\n",
    "    )\n",
    ")\n",
    "\n",
    "height += thickness_barrier\n",
    "\n",
    "gates_name = np.hstack([list(plunger_gates.keys()), list(screen_gates.keys()), list(tunel_gates.keys())])\n",
    "gates_vertex = sum([list(plunger_gates.values()), list(screen_gates.values()), list(tunel_gates.values())], [])\n",
    "\n",
    "\n",
    "layout.add_layer(OverlappingGateLayer(thickness_gates,\n",
    "                                      permittivity_metal,\n",
    "                                      grid_spacing_gate,\n",
    "                                      layer_name = gates_name,\n",
    "                                      gate_objects = gates_vertex,\n",
    "                                      remove_points = False,\n",
    "                                      add_to_previous_layer = False,\n",
    "                                      z_bottom = height,\n",
    "                                      fix_overlap = True\n",
    "                                     )\n",
    "            )\n",
    "\n",
    "poisson_system = layout.build()\n"
   ]
  },
  {
   "cell_type": "code",
   "execution_count": 55,
   "id": "9ddbcbda-e619-4658-a10c-42d6db4c66c8",
   "metadata": {},
   "outputs": [],
   "source": [
    "import matplotlib.pyplot as plt"
   ]
  },
  {
   "cell_type": "code",
   "execution_count": 83,
   "id": "6a509838-cc07-4c6e-b0e0-06f346376198",
   "metadata": {},
   "outputs": [],
   "source": [
    "grid_points = poisson_system.grid.points"
   ]
  },
  {
   "cell_type": "code",
   "execution_count": 84,
   "id": "4d17496a-e48b-4fe9-986b-72fa484fc98f",
   "metadata": {},
   "outputs": [],
   "source": [
    "voltage_regions = poisson_system.regions.voltage.tag_points"
   ]
  },
  {
   "cell_type": "code",
   "execution_count": 86,
   "id": "5a2f51f0-8498-4fd8-b321-c5ba023e8ba9",
   "metadata": {},
   "outputs": [
    {
     "data": {
      "image/png": "[encoded data removed]",
      "text/plain": [
       "<Figure size 1080x504 with 1 Axes>"
      ]
     },
     "metadata": {
      "needs_background": "light"
     },
     "output_type": "display_data"
    }
   ],
   "source": [
    "plt.figure(figsize = (15, 7))\n",
    "for name, indices in voltage_regions.items():\n",
    "    grid_to_plot = grid_points[indices][:, [0, 1]]\n",
    "    plt.scatter(grid_to_plot[:, 0], grid_to_plot[:, 1])"
   ]
  },
  {
   "cell_type": "code",
   "execution_count": null,
   "id": "db097469-fff7-4cfb-bea2-3f31377155ee",
   "metadata": {},
   "outputs": [],
   "source": [
    "linear_problem = linear_problem_instance(poisson_system)"
   ]
  }
 ],
 "metadata": {
  "kernelspec": {
   "display_name": "Python 3 (ipykernel)",
   "language": "python",
   "name": "python3"
  },
  "language_info": {
   "codemirror_mode": {
    "name": "ipython",
    "version": 3
   },
   "file_extension": ".py",
   "mimetype": "text/x-python",
   "name": "python",
   "nbconvert_exporter": "python",
   "pygments_lexer": "ipython3",
   "version": "3.9.7"
  }
 },
 "nbformat": 4,
 "nbformat_minor": 5
}
