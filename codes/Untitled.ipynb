{
 "cells": [
  {
   "cell_type": "code",
   "execution_count": 15,
   "id": "318e0951-21c5-496e-aa93-587394a5c978",
   "metadata": {},
   "outputs": [],
   "source": [
    "import trijunction\n",
    "import json\n",
    "import importlib\n",
    "import optimization\n",
    "import parameters\n",
    "import tinyarray as ta\n",
    "import numpy as np"
   ]
  },
  {
   "cell_type": "code",
   "execution_count": 2,
   "id": "328a91b2-d8b2-4dfd-9ec7-48e577aa65ba",
   "metadata": {},
   "outputs": [],
   "source": [
    "with open('/home/tinkerer/trijunction-design/codes/config.json', 'r') as f:\n",
    "    config = json.load(f)"
   ]
  },
  {
   "cell_type": "code",
   "execution_count": 3,
   "id": "bfb13a62-2ff2-4afa-a06b-ead696c58073",
   "metadata": {},
   "outputs": [],
   "source": [
    "system = trijunction.Trijunction(config)"
   ]
  },
  {
   "cell_type": "code",
   "execution_count": 4,
   "id": "8fd49cdb-209b-4f74-a25b-9775442cc171",
   "metadata": {},
   "outputs": [
    {
     "name": "stdout",
     "output_type": "stream",
     "text": [
      "Finding closed voronoi cells\n",
      "Done selecting closed voronoi cells\n",
      "Calculating points distance\n",
      "Done\n",
      "Calculating ridges hypersurfaces\n",
      "Done\n",
      "Finding  hypervolume for closed voronoi cells\n",
      "Done finding hypervolume for closed voronoi cells\n",
      "Done calculating surface\n",
      "Done calculating distance\n",
      "Done calculating capacitance matrix\n"
     ]
    },
    {
     "name": "stderr",
     "output_type": "stream",
     "text": [
      "100%|██████████| 13/13 [00:17<00:00,  1.36s/it]\n"
     ]
    }
   ],
   "source": [
    "system.make_system()"
   ]
  },
  {
   "cell_type": "code",
   "execution_count": 8,
   "id": "e2984aac-e1f9-4d20-9fad-f339af8275ba",
   "metadata": {},
   "outputs": [],
   "source": [
    "pair = 'left-right'\n",
    "voltages = parameters.pair_voltages()"
   ]
  },
  {
   "cell_type": "code",
   "execution_count": 18,
   "id": "1cf8473d-9dd4-4de5-bca1-10a6e044ba42",
   "metadata": {},
   "outputs": [],
   "source": [
    "zero_potential = dict(\n",
    "    zip(\n",
    "        ta.array(system.site_coords[:, [0, 1]] - system.offset),\n",
    "        np.zeros(len(system.site_coords)),\n",
    "    )\n",
    ")"
   ]
  },
  {
   "cell_type": "code",
   "execution_count": 19,
   "id": "aece4f2d-f679-4354-aefe-0eeb0df3a2b1",
   "metadata": {},
   "outputs": [],
   "source": [
    "params = parameters.junction_parameters()\n",
    "params.update(voltages[pair])\n",
    "params.update(potential=zero_potential)\n",
    "kwant_args = list(system.optimiser_arguments().values())"
   ]
  },
  {
   "cell_type": "code",
   "execution_count": 20,
   "id": "0e40b643-3c6e-4ccd-b374-8ba5cad6ea95",
   "metadata": {},
   "outputs": [],
   "source": [
    "opt_args = tuple([pair, params, kwant_args])"
   ]
  },
  {
   "cell_type": "code",
   "execution_count": 21,
   "id": "89e14798-1204-4a78-b4e5-1a8b381fa386",
   "metadata": {},
   "outputs": [
    {
     "data": {
      "text/plain": [
       "6.191855197206053"
      ]
     },
     "execution_count": 21,
     "metadata": {},
     "output_type": "execute_result"
    }
   ],
   "source": [
    "optimization.loss(0.0, *opt_args)"
   ]
  }
 ],
 "metadata": {
  "kernelspec": {
   "display_name": "Python 3 (ipykernel)",
   "language": "python",
   "name": "python3"
  },
  "language_info": {
   "codemirror_mode": {
    "name": "ipython",
    "version": 3
   },
   "file_extension": ".py",
   "mimetype": "text/x-python",
   "name": "python",
   "nbconvert_exporter": "python",
   "pygments_lexer": "ipython3",
   "version": "3.10.5"
  }
 },
 "nbformat": 4,
 "nbformat_minor": 5
}
