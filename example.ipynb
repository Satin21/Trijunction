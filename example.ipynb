{
 "cells": [
  {
   "cell_type": "code",
   "execution_count": 1,
   "id": "c8dc3011-53fb-4cf1-9f69-0c3f51149961",
   "metadata": {
    "tags": []
   },
   "outputs": [
    {
     "name": "stdout",
     "output_type": "stream",
     "text": [
      "VoronoiMesh version 0.1\n",
      "DiscretePoisson version 0.3\n",
      "Shape version: 0.1\n",
      "SystEquations version: 0.3\n",
      "Solver version 0.1\n"
     ]
    }
   ],
   "source": [
    "import numpy as np\n",
    "import matplotlib.pyplot as plt\n",
    "import os\n",
    "import json\n",
    "import pickle\n",
    "from trijunction.gate_design import gate_coords\n",
    "from trijunction.constants import scale, bands, topological_gap, sides\n",
    "import trijunction.trijunction as trijunction\n",
    "import trijunction.optimization as optimization\n",
    "import trijunction.parameters as parameters\n",
    "from trijunction.tools import hamiltonian\n",
    "from trijunction.utils import eigsh, svd_transformation, dict_update, dep_acc_index, order_wavefunctions, density\n",
    "import kwant"
   ]
  },
  {
   "cell_type": "markdown",
   "id": "dec043d2-33d7-433b-ab7f-78c0e7c3b52c",
   "metadata": {},
   "source": [
    "#### Import configuration file"
   ]
  },
  {
   "cell_type": "code",
   "execution_count": 2,
   "id": "c78194cb-a6b0-4e20-88bf-8f88e72d1573",
   "metadata": {},
   "outputs": [],
   "source": [
    "with open(os.path.realpath('config.json'), 'r') as f:\n",
    "    config = json.load(f)\n",
    "\n",
    "change_config = [\n",
    "    {\"device\":\n",
    "     {\"grid_spacing\":\n",
    "      {\"twoDEG\": 0.5, \"normal\": 1, \"dielectric\": 1, \"air\": 5, \"gate\": 1, \"substrate\": 1}}},\n",
    "    {\"gate\": {\"channel_width\": 13.0, \"L\":40, 'angle': np.pi/6, 'gap': 4}},\n",
    "]\n",
    "\n",
    "for local_config in change_config:\n",
    "    config = dict_update(config, local_config)"
   ]
  },
  {
   "cell_type": "code",
   "execution_count": 4,
   "id": "d032bbaf-7e0c-4df1-94f0-9d78034b0adb",
   "metadata": {
    "collapsed": true,
    "jupyter": {
     "outputs_hidden": true
    },
    "tags": []
   },
   "outputs": [
    {
     "data": {
      "text/plain": [
       "{'device': {'thickness': {'dielectric': 3.0,\n",
       "   'twoDEG': 2,\n",
       "   'gates': 2,\n",
       "   'substrate': 5},\n",
       "  'grid_spacing': {'twoDEG': 0.5,\n",
       "   'normal': 1,\n",
       "   'dielectric': 1,\n",
       "   'air': 5,\n",
       "   'gate': 1,\n",
       "   'substrate': 1},\n",
       "  'permittivity': {'metal': 5000,\n",
       "   'twoDEG': 15,\n",
       "   'air': 1.0,\n",
       "   'Al2O3': 9.1,\n",
       "   'substrate': 16}},\n",
       " 'gate': {'L': 40,\n",
       "  'channel_width': 13.0,\n",
       "  'gap': 4,\n",
       "  'angle': 0.5235987755982988},\n",
       " 'kwant': {'nwl': 150, 'nww': 7}}"
      ]
     },
     "execution_count": 4,
     "metadata": {},
     "output_type": "execute_result"
    }
   ],
   "source": [
    "config"
   ]
  },
  {
   "cell_type": "markdown",
   "id": "a045affc-6f74-47fe-850c-324580dfd133",
   "metadata": {},
   "source": [
    "#### Create an instance of Trijunction class with the predefined or new configuration"
   ]
  },
  {
   "cell_type": "code",
   "execution_count": 3,
   "id": "26394b2b-9bed-4148-b5b2-628d2082e2b6",
   "metadata": {
    "tags": []
   },
   "outputs": [],
   "source": [
    "%%capture output\n",
    "%%time\n",
    "system = trijunction.Trijunction(config, optimize_phase_pairs=[])"
   ]
  },
  {
   "cell_type": "markdown",
   "id": "38f7cafe-1cf1-4905-9888-8e325ad9d4ce",
   "metadata": {},
   "source": [
    "#### Look at the discretized trijunction"
   ]
  },
  {
   "cell_type": "code",
   "execution_count": 5,
   "id": "4bf558a0-989b-40c9-8946-eec013974185",
   "metadata": {
    "tags": []
   },
   "outputs": [],
   "source": [
    "sites = np.array([site.pos for site in system.trijunction.sites])/1e-9\n",
    "gates = system.poisson_system.regions.voltage.tag_points\n",
    "gate_names = np.array(list(gates.keys()))\n",
    "non_depletion_gates = [gate.startswith(('global', 'dirichlet')) for gate in gate_names]\n",
    "depletion_gates = gate_names[np.logical_not(non_depletion_gates)]\n",
    "full_grid = system.grid_points *(scale/1e-9)"
   ]
  },
  {
   "cell_type": "code",
   "execution_count": 8,
   "id": "e480d9ce-c6ef-4c5c-945d-5d2957ed96d3",
   "metadata": {
    "collapsed": true,
    "jupyter": {
     "outputs_hidden": true
    },
    "tags": []
   },
   "outputs": [
    {
     "data": {
      "text/plain": [
       "['left_1',\n",
       " 'left_2',\n",
       " 'right_1',\n",
       " 'right_2',\n",
       " 'top_1',\n",
       " 'top_2',\n",
       " 'global_accumul',\n",
       " 'dirichlet_0',\n",
       " 'dirichlet_1',\n",
       " 'dirichlet_2',\n",
       " 'dirichlet_3',\n",
       " 'dirichlet_4',\n",
       " 'dirichlet_5']"
      ]
     },
     "execution_count": 8,
     "metadata": {},
     "output_type": "execute_result"
    }
   ],
   "source": [
    "list(gates.keys())"
   ]
  },
  {
   "cell_type": "code",
   "execution_count": 6,
   "id": "56702ecc-ebac-4c31-be32-7fe8e4dcada8",
   "metadata": {
    "tags": []
   },
   "outputs": [
    {
     "data": {
      "image/png": "[encoded data removed]",
      "text/plain": [
       "<Figure size 500x500 with 1 Axes>"
      ]
     },
     "metadata": {},
     "output_type": "display_data"
    }
   ],
   "source": [
    "fig, ax = plt.subplots(1, 1, figsize=(5, 5))\n",
    "\n",
    "#https://gist.github.com/thriveth/8560036\n",
    "CB_friendly_color = ['#ff7f00', '#e41a1c'] \n",
    "\n",
    "plt.scatter(sites[:, 0], sites[:, 1], s = 0.1, c = CB_friendly_color[0], \n",
    "            label = 'semiconductor')\n",
    "for i, gate in enumerate(depletion_gates):\n",
    "    gate_sites = full_grid[gates[gate]]\n",
    "    if i == 0: \n",
    "        label='gate'\n",
    "    else: \n",
    "        label = ''\n",
    "    plt.scatter(gate_sites[:, 0], gate_sites[:, 1], \n",
    "                s = 0.5, \n",
    "                c = CB_friendly_color[1],\n",
    "               label = label)\n",
    "    \n",
    "    \n",
    "plt.legend(markerscale=10, frameon=False)\n",
    "plt.xlabel('x [nm]')\n",
    "plt.ylabel('y [nm]')\n",
    "\n",
    "plt.ylim(-200, 1000)\n",
    "\n",
    "# Hide the right and top spines\n",
    "ax.spines.right.set_visible(False)\n",
    "ax.spines.top.set_visible(False)\n",
    "\n",
    "fig.tight_layout()\n",
    "\n",
    "plt.savefig('figures/trijunction.png', format='png')"
   ]
  },
  {
   "cell_type": "markdown",
   "id": "f82da49e-7af6-4154-9714-1396d06685ce",
   "metadata": {},
   "source": [
    "#### Plot Majorana wavefunctions in the nanowire"
   ]
  },
  {
   "cell_type": "code",
   "execution_count": null,
   "id": "f36b0681-81d8-48bf-ba78-40c9bc0d977b",
   "metadata": {
    "tags": []
   },
   "outputs": [],
   "source": [
    "voltages = parameters.voltage_dict([-7e-3, -6.8e-3, -7e-3, -7e-3])\n",
    "summed_ham = sum(\n",
    "    [\n",
    "        voltages[key] * system.linear_terms[key]\n",
    "        for key, value in system.linear_terms.items()\n",
    "    ]\n",
    ")\n",
    "numerical_hamiltonian = system.base_ham + summed_ham\n",
    "\n",
    "\n",
    "eigval, eigvec = trijunction.utils.eigsh(\n",
    "    numerical_hamiltonian, 6, sigma=0, return_eigenvectors=True\n",
    ")"
   ]
  },
  {
   "cell_type": "code",
   "execution_count": null,
   "id": "9a18cc1e-27cb-4e6e-abf3-2ed999c2c433",
   "metadata": {},
   "outputs": [],
   "source": [
    "fig, ax = plt.subplots(1, 3, figsize=(6, 6), sharey=True)\n",
    "for i in range(3):\n",
    "    kwant.plotter.density(system.trijunction, \n",
    "                          trijunction.utils.density(eigvec.T[i]),\n",
    "                          ax=ax[i],\n",
    "                          colorbar=False);\n",
    "    ax[i].set_xlabel('x [m]', loc='left')\n",
    "ax[0].set_ylabel('y [m]')\n",
    "plt.savefig(\"figures/decoupled_wavefunctions.png\", format='png');"
   ]
  },
  {
   "cell_type": "markdown",
   "id": "1abfe8cf-4f4d-49cc-bb5e-f5392fc83b67",
   "metadata": {
    "tags": []
   },
   "source": [
    "### Run optimization routine\n",
    "Note: It takes about 30minutes or so in a single core depending on the specified configuration. Hence please \n",
    "save your results often."
   ]
  },
  {
   "cell_type": "code",
   "execution_count": 131,
   "id": "6be3574e-074a-4d8c-b885-e6900a2171ac",
   "metadata": {},
   "outputs": [],
   "source": [
    "# Import parameters\n",
    "\n",
    "pair = 'left-right'\n",
    "params = parameters.junction_parameters()\n",
    "params.update(potential=system.flat_potential())\n",
    "\n",
    "index = system.indices.copy()\n",
    "\n",
    "# Set-up for specific pair to be optimized\n",
    "# remove 50% of the points from the channel to be depleted that is closest to the center.\n",
    "depleted_channel = list(set(sides)-set(pair.split('-')))[0]\n",
    "depleted_indices = index[depleted_channel]\n",
    "index[depleted_channel]  = depleted_indices[:int(len(depleted_indices)*50/100)]\n",
    "\n",
    "params['dep_acc_index'] = index\n",
    "\n",
    "initial_condition = (-3e-3, -3e-3, -3e-3, 10e-3)"
   ]
  },
  {
   "cell_type": "markdown",
   "id": "88a9da92-a3e7-4e6f-a84c-2d8f88ac497b",
   "metadata": {},
   "source": [
    "##### Step1: Optimize potential shape"
   ]
  },
  {
   "cell_type": "code",
   "execution_count": null,
   "id": "046b70ad-15e9-48c9-aa10-5291da906d4b",
   "metadata": {},
   "outputs": [],
   "source": [
    "args = (pair.split('-'),\n",
    "        (system.base_ham, system.linear_terms),\n",
    "        params['dep_acc_index'], \n",
    "        )\n",
    "\n",
    "sol1 = minimize(shape_loss, \n",
    "         x0=initial_condition, \n",
    "         args=args, \n",
    "         method='trust-constr', \n",
    "         options={'initial_tr_radius':1e-3}\n",
    "        )"
   ]
  },
  {
   "cell_type": "markdown",
   "id": "9cd738f8-91e5-49d2-a709-1bb740d071f1",
   "metadata": {},
   "source": [
    "##### Step3: Optimize phase"
   ]
  },
  {
   "cell_type": "code",
   "execution_count": null,
   "id": "8171639f-052c-4958-a63e-4eca37c22c2f",
   "metadata": {
    "jupyter": {
     "source_hidden": true
    },
    "tags": []
   },
   "outputs": [],
   "source": [
    "initial_condition = sol2.x\n",
    "\n",
    "params.update(parameters.voltage_dict(initial_condition))\n",
    "\n",
    "args = (pair, \n",
    "        params, \n",
    "        (system.trijunction, \n",
    "         system.linear_terms, \n",
    "         system.f_params,\n",
    "         system.mlwf[order_wavefunctions(pair)]\n",
    "        )\n",
    "       )\n",
    "\n",
    "sol3 = minimize_scalar(loss,\n",
    "                        args=args, \n",
    "                        method='bounded',\n",
    "                        bounds=(0,2),\n",
    "                      )\n",
    "\n",
    "\n",
    "phase = sol3.x"
   ]
  },
  {
   "cell_type": "markdown",
   "id": "c206c0f4-3109-40fd-acaf-d80e0ddb8633",
   "metadata": {},
   "source": [
    "##### Optimize Majorana couplings"
   ]
  },
  {
   "cell_type": "code",
   "execution_count": null,
   "id": "2da063d3-e66a-4cdb-b52f-a7fc47c0762e",
   "metadata": {},
   "outputs": [],
   "source": [
    "params.update(parameters.phase_pairs(pair, phase*np.pi))\n",
    "\n",
    "base_ham = system.trijunction.hamiltonian_submatrix(\n",
    "    sparse=True, params=system.f_params(**params)\n",
    ")\n",
    "\n",
    "args = (pair, \n",
    "        params, \n",
    "        (base_ham, system.linear_terms, \n",
    "         None,\n",
    "         system.mlwf[order_wavefunctions(pair)]\n",
    "        ),\n",
    "       )\n",
    "\n",
    "sol4 = minimize(loss, \n",
    "         x0=sol2.x, \n",
    "         args=args, \n",
    "         method='trust-constr', \n",
    "         options={\n",
    "             'initial_tr_radius':1e-3,\n",
    "         }\n",
    "        )"
   ]
  },
  {
   "cell_type": "markdown",
   "id": "252fa1c8-99e5-4a1a-a609-f8234f427752",
   "metadata": {},
   "source": [
    "#### Computations at a hpc machine \n",
    "\n",
    "We run the optimization routine at a remote hpc core and continue working in asynchronous mode.\n",
    "Then we retrieve our results from the remote machine and plot them here."
   ]
  },
  {
   "cell_type": "code",
   "execution_count": null,
   "id": "18c5cc4a-a734-44e7-ab07-01b5ab90e58f",
   "metadata": {},
   "outputs": [],
   "source": [
    "fig, ax = plt.subplots(1, 3, figsize=(6, 6), sharey=True)\n",
    "\n",
    "for i, pair in enumerate(['left-right', 'left-top', 'right-top']):\n",
    "    \n",
    "    params = parameters.junction_parameters()\n",
    "    params.update(potential=system.flat_potential())\n",
    "    \n",
    "    with open(os.path.realpath(\"data/\"+pair+\".pkl\"), 'rb') as outfile:\n",
    "        results = pickle.load(outfile)\n",
    "\n",
    "    params.update(parameters.phase_pairs(pair, results['phase']))\n",
    "    params.update(results['voltages'])\n",
    "\n",
    "    base_ham = system.trijunction.hamiltonian_submatrix(\n",
    "        sparse=True, params=system.f_params(**params)\n",
    "    )\n",
    "\n",
    "    linear_ham, full_ham = hamiltonian(base_ham, \n",
    "                                       system.linear_terms, \n",
    "                                       **params\n",
    "                                      )\n",
    "\n",
    "\n",
    "\n",
    "    evals, evecs = eigsh(full_ham, k=6, sigma=0, return_eigenvectors=True)\n",
    "\n",
    "    wfv = density(evecs[:, 0])\n",
    "\n",
    "    kwant.plotter.density(system.trijunction, wfv, ax = ax[i]);\n",
    "    \n",
    "    ax[i].set_xlabel('x [m]', loc='left')\n",
    "    \n",
    "ax[0].set_ylabel('y [m]')\n",
    "\n",
    "\n",
    "    # ax[i].xaxis.set_ticklabels([])\n",
    "    # ax.yaxis.set_ticklabels([])\n",
    "fig.tight_layout()\n",
    "\n",
    "plt.savefig(\"figures/coupled_wavefunctions.png\", format='png');"
   ]
  }
 ],
 "metadata": {
  "kernelspec": {
   "display_name": "Python 3 (ipykernel)",
   "language": "python",
   "name": "python3"
  },
  "language_info": {
   "codemirror_mode": {
    "name": "ipython",
    "version": 3
   },
   "file_extension": ".py",
   "mimetype": "text/x-python",
   "name": "python",
   "nbconvert_exporter": "python",
   "pygments_lexer": "ipython3",
   "version": "3.10.6"
  }
 },
 "nbformat": 4,
 "nbformat_minor": 5
}
