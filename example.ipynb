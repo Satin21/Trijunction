{
 "cells": [
  {
   "cell_type": "code",
   "execution_count": 10,
   "id": "c8dc3011-53fb-4cf1-9f69-0c3f51149961",
   "metadata": {
    "tags": []
   },
   "outputs": [],
   "source": [
    "import numpy as np\n",
    "import matplotlib.pyplot as plt\n",
    "import os\n",
    "import json\n",
    "\n",
    "from trijunction.gate_design import gate_coords\n",
    "from trijunction.constants import scale, bands, topological_gap, sides\n",
    "import trijunction.trijunction as trijunction\n",
    "import trijunction.optimization as optimization\n",
    "import trijunction.parameters as parameters\n",
    "from trijunction.tools import hamiltonian\n",
    "from trijunction.utils import eigsh, svd_transformation, dict_update, dep_acc_index, order_wavefunctions, density"
   ]
  },
  {
   "cell_type": "code",
   "execution_count": 89,
   "id": "61f91f1d-2551-467e-aaa4-dc1d034d349d",
   "metadata": {},
   "outputs": [],
   "source": [
    "import kwant"
   ]
  },
  {
   "cell_type": "code",
   "execution_count": 85,
   "id": "d9b6c6cb-07e7-4630-9064-a8c77352b946",
   "metadata": {},
   "outputs": [
    {
     "data": {
      "text/plain": [
       "<module 'trijunction.utils' from '/home/tinkerer/Trijunction/trijunction/utils.py'>"
      ]
     },
     "execution_count": 85,
     "metadata": {},
     "output_type": "execute_result"
    }
   ],
   "source": [
    "import trijunction.utils\n",
    "import importlib\n",
    "importlib.reload(trijunction.utils)"
   ]
  },
  {
   "cell_type": "markdown",
   "id": "dec043d2-33d7-433b-ab7f-78c0e7c3b52c",
   "metadata": {},
   "source": [
    "#### Import configuration file"
   ]
  },
  {
   "cell_type": "code",
   "execution_count": 11,
   "id": "c78194cb-a6b0-4e20-88bf-8f88e72d1573",
   "metadata": {},
   "outputs": [],
   "source": [
    "with open(os.path.realpath('config.json'), 'r') as f:\n",
    "    config = json.load(f)\n",
    "\n",
    "change_config = [\n",
    "    {\"device\":\n",
    "     {\"grid_spacing\":\n",
    "      {\"twoDEG\": 0.5, \"normal\": 1, \"dielectric\": 1, \"air\": 5, \"gate\": 1, \"substrate\": 1}}},\n",
    "    {\"gate\": {\"channel_width\": 13.0, \"L\":40, 'angle': np.pi/6, 'gap': 4}},\n",
    "]\n",
    "\n",
    "for local_config in change_config:\n",
    "    config = dict_update(config, local_config)"
   ]
  },
  {
   "cell_type": "markdown",
   "id": "a045affc-6f74-47fe-850c-324580dfd133",
   "metadata": {},
   "source": [
    "#### Create an instance of Trijunction class with the predefined or new configuration"
   ]
  },
  {
   "cell_type": "code",
   "execution_count": 14,
   "id": "26394b2b-9bed-4148-b5b2-628d2082e2b6",
   "metadata": {
    "tags": []
   },
   "outputs": [],
   "source": [
    "%%capture output\n",
    "%%time\n",
    "system = trijunction.Trijunction(config, optimize_phase_pairs=[])"
   ]
  },
  {
   "cell_type": "markdown",
   "id": "38f7cafe-1cf1-4905-9888-8e325ad9d4ce",
   "metadata": {},
   "source": [
    "#### Look at the discretized trijunction"
   ]
  },
  {
   "cell_type": "code",
   "execution_count": 44,
   "id": "4bf558a0-989b-40c9-8946-eec013974185",
   "metadata": {
    "tags": []
   },
   "outputs": [],
   "source": [
    "sites = np.array([site.pos for site in system.trijunction.sites])/scale\n",
    "gates = system.poisson_system.regions.voltage.tag_points\n",
    "gate_names = np.array(list(gates.keys()))\n",
    "depletion_gates = gate_names[np.logical_not([gate.startswith(('global', 'dirichlet')) for gate in gate_names])]\n",
    "full_grid = system.grid_points "
   ]
  },
  {
   "cell_type": "code",
   "execution_count": null,
   "id": "7f6b5680-daae-4053-9eb3-beb01cbfedae",
   "metadata": {
    "tags": []
   },
   "outputs": [],
   "source": [
    "plt.figure(figsize=(5, 5))\n",
    "CB_friendly_color = ['#ff7f00', '#e41a1c',\n",
    "                    ] #https://gist.github.com/thriveth/8560036\n",
    "\n",
    "plt.scatter(sites[:, 0], sites[:, 1], s = 0.1, c = CB_friendly_color[0])\n",
    "for gate in depletion_gates:\n",
    "    gate_sites = full_grid[gates[gate]]\n",
    "    plt.scatter(gate_sites[:, 0], gate_sites[:, 1], s = 0.5, c = CB_friendly_color[1])\n",
    "plt.axis('off');\n",
    "plt.savefig('figures/trijunction.png', format='png')"
   ]
  },
  {
   "cell_type": "markdown",
   "id": "f82da49e-7af6-4154-9714-1396d06685ce",
   "metadata": {},
   "source": [
    "#### Plot Majorana wavefunctions in the nanowire"
   ]
  },
  {
   "cell_type": "code",
   "execution_count": null,
   "id": "3ddeebf0-5c5a-426f-ae63-2c95855cb6c1",
   "metadata": {
    "tags": []
   },
   "outputs": [],
   "source": [
    "voltages = parameters.voltage_dict([-7e-3, -6.8e-3, -7e-3, -7e-3])\n",
    "summed_ham = sum(\n",
    "    [\n",
    "        voltages[key] * system.linear_terms[key]\n",
    "        for key, value in system.linear_terms.items()\n",
    "    ]\n",
    ")\n",
    "numerical_hamiltonian = system.base_ham + summed_ham\n",
    "\n",
    "\n",
    "eigval, eigvec = trijunction.utils.eigsh(\n",
    "    numerical_hamiltonian, 6, sigma=0, return_eigenvectors=True\n",
    ")\n",
    "\n",
    "fig, ax = plt.subplots(1, 3)\n",
    "for i in range(3):\n",
    "    kwant.plotter.density(system.trijunction, \n",
    "                          trijunction.utils.density(eigvec.T[i]),\n",
    "                          ax=ax[i],\n",
    "                          colorbar=False);\n",
    "plt.savefig(\"figures/Decoupled_wavefunctions.png\", format='png')"
   ]
  },
  {
   "cell_type": "markdown",
   "id": "1abfe8cf-4f4d-49cc-bb5e-f5392fc83b67",
   "metadata": {
    "tags": []
   },
   "source": [
    "### Run optimization routine\n",
    "Note: It takes about 30minutes or so in a single core depending on the specified configuration. Hence please \n",
    "save your results often."
   ]
  },
  {
   "cell_type": "code",
   "execution_count": 131,
   "id": "6be3574e-074a-4d8c-b885-e6900a2171ac",
   "metadata": {},
   "outputs": [],
   "source": [
    "# Import parameters\n",
    "\n",
    "pair = 'left-right'\n",
    "params = parameters.junction_parameters()\n",
    "params.update(potential=system.flat_potential())\n",
    "\n",
    "index = system.indices.copy()\n",
    "\n",
    "# Set-up for specific pair to be optimized\n",
    "# remove 50% of the points from the channel to be depleted that is closest to the center.\n",
    "depleted_channel = list(set(sides)-set(pair.split('-')))[0]\n",
    "depleted_indices = index[depleted_channel]\n",
    "index[depleted_channel]  = depleted_indices[:int(len(depleted_indices)*50/100)]\n",
    "\n",
    "params['dep_acc_index'] = index\n",
    "\n",
    "initial_condition = (-3e-3, -3e-3, -3e-3, 10e-3)"
   ]
  },
  {
   "cell_type": "markdown",
   "id": "88a9da92-a3e7-4e6f-a84c-2d8f88ac497b",
   "metadata": {},
   "source": [
    "##### Step1: Optimize potential shape"
   ]
  },
  {
   "cell_type": "code",
   "execution_count": null,
   "id": "046b70ad-15e9-48c9-aa10-5291da906d4b",
   "metadata": {},
   "outputs": [],
   "source": [
    "args = (pair.split('-'),\n",
    "        (system.base_ham, system.linear_terms),\n",
    "        params['dep_acc_index'], \n",
    "        )\n",
    "\n",
    "sol1 = minimize(shape_loss, \n",
    "         x0=initial_condition, \n",
    "         args=args, \n",
    "         method='trust-constr', \n",
    "         options={'initial_tr_radius':1e-3}\n",
    "        )"
   ]
  },
  {
   "cell_type": "markdown",
   "id": "b5e102f9-f5a5-4b7b-bbaf-b44566dc60d4",
   "metadata": {},
   "source": [
    "##### Step2: Optimize wavefunctions"
   ]
  },
  {
   "cell_type": "code",
   "execution_count": null,
   "id": "10b94f05-5948-46ba-bd3a-081643296b26",
   "metadata": {},
   "outputs": [],
   "source": [
    "weights = [1, 1, 1e1]\n",
    "args = (\n",
    "    pair.split('-'),\n",
    "    (system.base_ham, \n",
    "     system.linear_terms,\n",
    "     system.mlwf[order_wavefunctions(pair)]),\n",
    "    params['dep_acc_index'],\n",
    "    weights\n",
    ")\n",
    "\n",
    "\n",
    "sol2 = minimize(wavefunction_loss, \n",
    "     x0=sol1.x, \n",
    "     args=args, \n",
    "     method='trust-constr',\n",
    "     options={\n",
    "         'initial_tr_radius': 1e-3\n",
    "     }\n",
    "    )"
   ]
  },
  {
   "cell_type": "markdown",
   "id": "9cd738f8-91e5-49d2-a709-1bb740d071f1",
   "metadata": {},
   "source": [
    "##### Step3: Optimize phase"
   ]
  },
  {
   "cell_type": "code",
   "execution_count": null,
   "id": "8171639f-052c-4958-a63e-4eca37c22c2f",
   "metadata": {},
   "outputs": [],
   "source": [
    "initial_condition = sol2.x\n",
    "\n",
    "params.update(parameters.voltage_dict(initial_condition))\n",
    "\n",
    "args = (pair, \n",
    "        params, \n",
    "        (system.trijunction, \n",
    "         system.linear_terms, \n",
    "         system.f_params,\n",
    "         system.mlwf[order_wavefunctions(pair)]\n",
    "        )\n",
    "       )\n",
    "\n",
    "sol3 = minimize_scalar(loss,\n",
    "                        args=args, \n",
    "                        method='bounded',\n",
    "                        bounds=(0,2),\n",
    "                      )\n",
    "\n",
    "\n",
    "phase = sol3.x"
   ]
  },
  {
   "cell_type": "markdown",
   "id": "c206c0f4-3109-40fd-acaf-d80e0ddb8633",
   "metadata": {},
   "source": [
    "##### Optimize Majorana couplings"
   ]
  },
  {
   "cell_type": "code",
   "execution_count": null,
   "id": "2da063d3-e66a-4cdb-b52f-a7fc47c0762e",
   "metadata": {},
   "outputs": [],
   "source": [
    "params.update(parameters.phase_pairs(pair, phase*np.pi))\n",
    "\n",
    "base_ham = system.trijunction.hamiltonian_submatrix(\n",
    "    sparse=True, params=system.f_params(**params)\n",
    ")\n",
    "\n",
    "args = (pair, \n",
    "        params, \n",
    "        (base_ham, system.linear_terms, \n",
    "         None,\n",
    "         system.mlwf[order_wavefunctions(pair)]\n",
    "        ),\n",
    "       )\n",
    "\n",
    "sol4 = minimize(loss, \n",
    "         x0=sol2.x, \n",
    "         args=args, \n",
    "         method='trust-constr', \n",
    "         options={\n",
    "             'initial_tr_radius':1e-3,\n",
    "         }\n",
    "        )"
   ]
  }
 ],
 "metadata": {
  "kernelspec": {
   "display_name": "Python 3 (ipykernel)",
   "language": "python",
   "name": "python3"
  },
  "language_info": {
   "codemirror_mode": {
    "name": "ipython",
    "version": 3
   },
   "file_extension": ".py",
   "mimetype": "text/x-python",
   "name": "python",
   "nbconvert_exporter": "python",
   "pygments_lexer": "ipython3",
   "version": "3.10.6"
  }
 },
 "nbformat": 4,
 "nbformat_minor": 5
}
