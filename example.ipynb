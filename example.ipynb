{
 "cells": [
  {
   "cell_type": "code",
   "execution_count": 10,
   "id": "c8dc3011-53fb-4cf1-9f69-0c3f51149961",
   "metadata": {
    "tags": []
   },
   "outputs": [],
   "source": [
    "import numpy as np\n",
    "import matplotlib.pyplot as plt\n",
    "import os\n",
    "import json\n",
    "\n",
    "from trijunction.gate_design import gate_coords\n",
    "from trijunction.constants import scale, bands, topological_gap, sides\n",
    "import trijunction.trijunction as trijunction\n",
    "import trijunction.optimization as optimization\n",
    "import trijunction.parameters as parameters\n",
    "from trijunction.tools import hamiltonian\n",
    "from trijunction.utils import eigsh, svd_transformation, dict_update, dep_acc_index, order_wavefunctions"
   ]
  },
  {
   "cell_type": "markdown",
   "id": "dec043d2-33d7-433b-ab7f-78c0e7c3b52c",
   "metadata": {},
   "source": [
    "#### Import configuration file"
   ]
  },
  {
   "cell_type": "code",
   "execution_count": 11,
   "id": "c78194cb-a6b0-4e20-88bf-8f88e72d1573",
   "metadata": {},
   "outputs": [],
   "source": [
    "with open(os.path.realpath('trijunction/config.json'), 'r') as f:\n",
    "    config = json.load(f)\n",
    "\n",
    "change_config = [\n",
    "    # {\"device\": {\"thickness\": {\"dielectric\": 1.0}}},\n",
    "    {\"device\":\n",
    "     {\"grid_spacing\":\n",
    "      {\"twoDEG\": 0.5, \"normal\": 1, \"dielectric\": 1, \"air\": 5, \"gate\": 1, \"substrate\": 1}}},\n",
    "    {\"gate\": {\"channel_width\": 13.0, \"L\":40, 'angle': np.pi/6, 'gap': 4}},\n",
    "    # {\"kwant\": {'nww': 8}}\n",
    "]\n",
    "\n",
    "for local_config in change_config:\n",
    "    config = dict_update(config, local_config)"
   ]
  },
  {
   "cell_type": "markdown",
   "id": "a045affc-6f74-47fe-850c-324580dfd133",
   "metadata": {},
   "source": [
    "#### Create instance of Trijunction class with the predefined or new configuration"
   ]
  },
  {
   "cell_type": "code",
   "execution_count": 12,
   "id": "26394b2b-9bed-4148-b5b2-628d2082e2b6",
   "metadata": {
    "tags": []
   },
   "outputs": [
    {
     "name": "stdout",
     "output_type": "stream",
     "text": [
      "Finding closed voronoi cells\n",
      "Done selecting closed voronoi cells\n",
      "Calculating points distance\n",
      "Done\n",
      "Calculating ridges hypersurfaces\n",
      "Done\n",
      "Finding  hypervolume for closed voronoi cells\n",
      "Done finding hypervolume for closed voronoi cells\n",
      "Done calculating surface\n",
      "Done calculating distance\n",
      "Done calculating capacitance matrix\n"
     ]
    },
    {
     "name": "stderr",
     "output_type": "stream",
     "text": [
      "100%|██████████| 13/13 [00:30<00:00,  2.37s/it]\n"
     ]
    }
   ],
   "source": [
    "%%time\n",
    "\n",
    "system = trijunction.Trijunction(config, optimize_phase_pairs=[])"
   ]
  },
  {
   "cell_type": "code",
   "execution_count": null,
   "id": "eb8389a1-e69f-4bad-9b78-3456bf18dc16",
   "metadata": {},
   "outputs": [],
   "source": []
  }
 ],
 "metadata": {
  "kernelspec": {
   "display_name": "Python 3 (ipykernel)",
   "language": "python",
   "name": "python3"
  },
  "language_info": {
   "codemirror_mode": {
    "name": "ipython",
    "version": 3
   },
   "file_extension": ".py",
   "mimetype": "text/x-python",
   "name": "python",
   "nbconvert_exporter": "python",
   "pygments_lexer": "ipython3",
   "version": "3.10.6"
  }
 },
 "nbformat": 4,
 "nbformat_minor": 5
}
